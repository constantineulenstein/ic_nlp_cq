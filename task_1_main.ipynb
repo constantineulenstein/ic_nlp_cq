{
  "nbformat": 4,
  "nbformat_minor": 0,
  "metadata": {
    "colab": {
      "name": "task_1_main.ipynb",
      "provenance": [],
      "collapsed_sections": [
        "3e1fHh81AIUd",
        "f46AEn_3s1UJ",
        "3PxOsuS7Bi0g",
        "nftBwyNppl4J",
        "9eVLmkYwpnrH",
        "8hE_a2aiypgx",
        "7RDAIvnG4oXQ",
        "huUfT43sLAmc",
        "y9brja9zLFR4",
        "OTBXwqYqKIIB",
        "udJACzxtK1TG",
        "7I8pLd4JOtXQ",
        "uYSdwJ1XLVia"
      ],
      "toc_visible": true,
      "machine_shape": "hm"
    },
    "kernelspec": {
      "display_name": "Python 3",
      "language": "python",
      "name": "python3"
    },
    "language_info": {
      "codemirror_mode": {
        "name": "ipython",
        "version": 3
      },
      "file_extension": ".py",
      "mimetype": "text/x-python",
      "name": "python",
      "nbconvert_exporter": "python",
      "pygments_lexer": "ipython3",
      "version": "3.7.7"
    },
    "widgets": {
      "application/vnd.jupyter.widget-state+json": {
        "1a95fecb1b4a4dbbbd44e36ca9dbc21b": {
          "model_module": "@jupyter-widgets/controls",
          "model_name": "HBoxModel",
          "state": {
            "_view_name": "HBoxView",
            "_dom_classes": [],
            "_model_name": "HBoxModel",
            "_view_module": "@jupyter-widgets/controls",
            "_model_module_version": "1.5.0",
            "_view_count": null,
            "_view_module_version": "1.5.0",
            "box_style": "",
            "layout": "IPY_MODEL_536ea8e2ebf04992a462e752cb717019",
            "_model_module": "@jupyter-widgets/controls",
            "children": [
              "IPY_MODEL_d4165e152f654e178152e5c2482449da",
              "IPY_MODEL_55b2a7cca42847689dcbbb28ac2e1e1d"
            ]
          }
        },
        "536ea8e2ebf04992a462e752cb717019": {
          "model_module": "@jupyter-widgets/base",
          "model_name": "LayoutModel",
          "state": {
            "_view_name": "LayoutView",
            "grid_template_rows": null,
            "right": null,
            "justify_content": null,
            "_view_module": "@jupyter-widgets/base",
            "overflow": null,
            "_model_module_version": "1.2.0",
            "_view_count": null,
            "flex_flow": null,
            "width": null,
            "min_width": null,
            "border": null,
            "align_items": null,
            "bottom": null,
            "_model_module": "@jupyter-widgets/base",
            "top": null,
            "grid_column": null,
            "overflow_y": null,
            "overflow_x": null,
            "grid_auto_flow": null,
            "grid_area": null,
            "grid_template_columns": null,
            "flex": null,
            "_model_name": "LayoutModel",
            "justify_items": null,
            "grid_row": null,
            "max_height": null,
            "align_content": null,
            "visibility": null,
            "align_self": null,
            "height": null,
            "min_height": null,
            "padding": null,
            "grid_auto_rows": null,
            "grid_gap": null,
            "max_width": null,
            "order": null,
            "_view_module_version": "1.2.0",
            "grid_template_areas": null,
            "object_position": null,
            "object_fit": null,
            "grid_auto_columns": null,
            "margin": null,
            "display": null,
            "left": null
          }
        },
        "d4165e152f654e178152e5c2482449da": {
          "model_module": "@jupyter-widgets/controls",
          "model_name": "FloatProgressModel",
          "state": {
            "_view_name": "ProgressView",
            "style": "IPY_MODEL_41f43ad36677446aaf7fe5e7001ceac6",
            "_dom_classes": [],
            "description": "Downloading: 100%",
            "_model_name": "FloatProgressModel",
            "bar_style": "success",
            "max": 231508,
            "_view_module": "@jupyter-widgets/controls",
            "_model_module_version": "1.5.0",
            "value": 231508,
            "_view_count": null,
            "_view_module_version": "1.5.0",
            "orientation": "horizontal",
            "min": 0,
            "description_tooltip": null,
            "_model_module": "@jupyter-widgets/controls",
            "layout": "IPY_MODEL_8caac8a9f9be411ba7317c819bad2d2e"
          }
        },
        "55b2a7cca42847689dcbbb28ac2e1e1d": {
          "model_module": "@jupyter-widgets/controls",
          "model_name": "HTMLModel",
          "state": {
            "_view_name": "HTMLView",
            "style": "IPY_MODEL_b998666f69ae4a73b6114fe2f52ab949",
            "_dom_classes": [],
            "description": "",
            "_model_name": "HTMLModel",
            "placeholder": "​",
            "_view_module": "@jupyter-widgets/controls",
            "_model_module_version": "1.5.0",
            "value": " 232k/232k [00:00&lt;00:00, 311kB/s]",
            "_view_count": null,
            "_view_module_version": "1.5.0",
            "description_tooltip": null,
            "_model_module": "@jupyter-widgets/controls",
            "layout": "IPY_MODEL_ec3735061a944e7da8b6b357b411509b"
          }
        },
        "41f43ad36677446aaf7fe5e7001ceac6": {
          "model_module": "@jupyter-widgets/controls",
          "model_name": "ProgressStyleModel",
          "state": {
            "_view_name": "StyleView",
            "_model_name": "ProgressStyleModel",
            "description_width": "initial",
            "_view_module": "@jupyter-widgets/base",
            "_model_module_version": "1.5.0",
            "_view_count": null,
            "_view_module_version": "1.2.0",
            "bar_color": null,
            "_model_module": "@jupyter-widgets/controls"
          }
        },
        "8caac8a9f9be411ba7317c819bad2d2e": {
          "model_module": "@jupyter-widgets/base",
          "model_name": "LayoutModel",
          "state": {
            "_view_name": "LayoutView",
            "grid_template_rows": null,
            "right": null,
            "justify_content": null,
            "_view_module": "@jupyter-widgets/base",
            "overflow": null,
            "_model_module_version": "1.2.0",
            "_view_count": null,
            "flex_flow": null,
            "width": null,
            "min_width": null,
            "border": null,
            "align_items": null,
            "bottom": null,
            "_model_module": "@jupyter-widgets/base",
            "top": null,
            "grid_column": null,
            "overflow_y": null,
            "overflow_x": null,
            "grid_auto_flow": null,
            "grid_area": null,
            "grid_template_columns": null,
            "flex": null,
            "_model_name": "LayoutModel",
            "justify_items": null,
            "grid_row": null,
            "max_height": null,
            "align_content": null,
            "visibility": null,
            "align_self": null,
            "height": null,
            "min_height": null,
            "padding": null,
            "grid_auto_rows": null,
            "grid_gap": null,
            "max_width": null,
            "order": null,
            "_view_module_version": "1.2.0",
            "grid_template_areas": null,
            "object_position": null,
            "object_fit": null,
            "grid_auto_columns": null,
            "margin": null,
            "display": null,
            "left": null
          }
        },
        "b998666f69ae4a73b6114fe2f52ab949": {
          "model_module": "@jupyter-widgets/controls",
          "model_name": "DescriptionStyleModel",
          "state": {
            "_view_name": "StyleView",
            "_model_name": "DescriptionStyleModel",
            "description_width": "",
            "_view_module": "@jupyter-widgets/base",
            "_model_module_version": "1.5.0",
            "_view_count": null,
            "_view_module_version": "1.2.0",
            "_model_module": "@jupyter-widgets/controls"
          }
        },
        "ec3735061a944e7da8b6b357b411509b": {
          "model_module": "@jupyter-widgets/base",
          "model_name": "LayoutModel",
          "state": {
            "_view_name": "LayoutView",
            "grid_template_rows": null,
            "right": null,
            "justify_content": null,
            "_view_module": "@jupyter-widgets/base",
            "overflow": null,
            "_model_module_version": "1.2.0",
            "_view_count": null,
            "flex_flow": null,
            "width": null,
            "min_width": null,
            "border": null,
            "align_items": null,
            "bottom": null,
            "_model_module": "@jupyter-widgets/base",
            "top": null,
            "grid_column": null,
            "overflow_y": null,
            "overflow_x": null,
            "grid_auto_flow": null,
            "grid_area": null,
            "grid_template_columns": null,
            "flex": null,
            "_model_name": "LayoutModel",
            "justify_items": null,
            "grid_row": null,
            "max_height": null,
            "align_content": null,
            "visibility": null,
            "align_self": null,
            "height": null,
            "min_height": null,
            "padding": null,
            "grid_auto_rows": null,
            "grid_gap": null,
            "max_width": null,
            "order": null,
            "_view_module_version": "1.2.0",
            "grid_template_areas": null,
            "object_position": null,
            "object_fit": null,
            "grid_auto_columns": null,
            "margin": null,
            "display": null,
            "left": null
          }
        }
      }
    },
    "accelerator": "GPU"
  },
  "cells": [
    {
      "cell_type": "markdown",
      "metadata": {
        "id": "xNppdFiGaRLE"
      },
      "source": [
        "### Coursework coding instructions (please also see full coursework spec)\n",
        "\n",
        "Please choose if you want to do either Task 1 or Task 2. You should write your report about one task only.\n",
        "\n",
        "For the task you choose you will need to do two approaches:\n",
        "  - Approach 1, which can use use pre-trained embeddings / models\n",
        "  - Approach 2, which should not use any pre-trained embeddings or models\n",
        "We should be able to run both approaches from the same colab file\n",
        "\n",
        "#### Running your code:\n",
        "  - Your models should run automatically when running your colab file without further intervention\n",
        "  - For each task you should automatically output the performance of both models\n",
        "  - Your code should automatically download any libraries required\n",
        "\n",
        "#### Structure of your code:\n",
        "  - You are expected to use the 'train', 'eval' and 'model_performance' functions, although you may edit these as required\n",
        "  - Otherwise there are no restrictions on what you can do in your code\n",
        "\n",
        "#### Documentation:\n",
        "  - You are expected to produce a .README file summarising how you have approached both tasks\n",
        "\n",
        "#### Reproducibility:\n",
        "  - Your .README file should explain how to replicate the different experiments mentioned in your report\n",
        "\n",
        "Good luck! We are really looking forward to seeing your reports and your model code!"
      ]
    },
    {
      "cell_type": "code",
      "metadata": {
        "id": "D8IanU_MaRLH"
      },
      "source": [
        "#Todo\n",
        "#Remove punctuation\n",
        "#Use embedding that represents headslines\n",
        "#Tokenizer with special token"
      ],
      "execution_count": null,
      "outputs": []
    },
    {
      "cell_type": "code",
      "metadata": {
        "colab": {
          "base_uri": "https://localhost:8080/"
        },
        "id": "4WfDREnZaRLI",
        "outputId": "6019f56e-b06f-4412-9f83-fdee3bfcaa22"
      },
      "source": [
        "# You will need to download any word embeddings required for your code, e.g.:\n",
        "\n",
        "!wget http://nlp.stanford.edu/data/glove.6B.zip\n",
        "!unzip glove.6B.zip\n",
        "\n",
        "# For any packages that Colab does not provide auotmatically you will also need to install these below, e.g.:\n",
        "\n",
        "#! pip install torch"
      ],
      "execution_count": null,
      "outputs": [
        {
          "output_type": "stream",
          "text": [
            "--2021-02-23 16:18:45--  http://nlp.stanford.edu/data/glove.6B.zip\n",
            "Resolving nlp.stanford.edu (nlp.stanford.edu)... 171.64.67.140\n",
            "Connecting to nlp.stanford.edu (nlp.stanford.edu)|171.64.67.140|:80... connected.\n",
            "HTTP request sent, awaiting response... 302 Found\n",
            "Location: https://nlp.stanford.edu/data/glove.6B.zip [following]\n",
            "--2021-02-23 16:18:46--  https://nlp.stanford.edu/data/glove.6B.zip\n",
            "Connecting to nlp.stanford.edu (nlp.stanford.edu)|171.64.67.140|:443... connected.\n",
            "HTTP request sent, awaiting response... 301 Moved Permanently\n",
            "Location: http://downloads.cs.stanford.edu/nlp/data/glove.6B.zip [following]\n",
            "--2021-02-23 16:18:46--  http://downloads.cs.stanford.edu/nlp/data/glove.6B.zip\n",
            "Resolving downloads.cs.stanford.edu (downloads.cs.stanford.edu)... 171.64.64.22\n",
            "Connecting to downloads.cs.stanford.edu (downloads.cs.stanford.edu)|171.64.64.22|:80... connected.\n",
            "HTTP request sent, awaiting response... 200 OK\n",
            "Length: 862182613 (822M) [application/zip]\n",
            "Saving to: ‘glove.6B.zip’\n",
            "\n",
            "glove.6B.zip        100%[===================>] 822.24M  2.02MB/s    in 6m 51s  \n",
            "\n",
            "2021-02-23 16:25:38 (2.00 MB/s) - ‘glove.6B.zip’ saved [862182613/862182613]\n",
            "\n",
            "Archive:  glove.6B.zip\n",
            "  inflating: glove.6B.50d.txt        \n",
            "  inflating: glove.6B.100d.txt       \n",
            "  inflating: glove.6B.200d.txt       \n",
            "  inflating: glove.6B.300d.txt       \n"
          ],
          "name": "stdout"
        }
      ]
    },
    {
      "cell_type": "code",
      "metadata": {
        "colab": {
          "base_uri": "https://localhost:8080/"
        },
        "id": "TYZiUqXFghTY",
        "outputId": "487a368e-f120-4c48-ca2b-e13c7763bc29"
      },
      "source": [
        "from google.colab import drive\n",
        "\n",
        "drive.mount('/content/drive/')"
      ],
      "execution_count": 1,
      "outputs": [
        {
          "output_type": "stream",
          "text": [
            "Mounted at /content/drive/\n"
          ],
          "name": "stdout"
        }
      ]
    },
    {
      "cell_type": "code",
      "metadata": {
        "colab": {
          "base_uri": "https://localhost:8080/"
        },
        "id": "D6XoHzG_bHDo",
        "outputId": "1a9d594a-1193-402e-93db-56f0ca8bddf9"
      },
      "source": [
        "! pip install transformers"
      ],
      "execution_count": 2,
      "outputs": [
        {
          "output_type": "stream",
          "text": [
            "Collecting transformers\n",
            "\u001b[?25l  Downloading https://files.pythonhosted.org/packages/98/87/ef312eef26f5cecd8b17ae9654cdd8d1fae1eb6dbd87257d6d73c128a4d0/transformers-4.3.2-py3-none-any.whl (1.8MB)\n",
            "\u001b[K     |████████████████████████████████| 1.8MB 5.7MB/s \n",
            "\u001b[?25hRequirement already satisfied: regex!=2019.12.17 in /usr/local/lib/python3.6/dist-packages (from transformers) (2019.12.20)\n",
            "Collecting sacremoses\n",
            "\u001b[?25l  Downloading https://files.pythonhosted.org/packages/7d/34/09d19aff26edcc8eb2a01bed8e98f13a1537005d31e95233fd48216eed10/sacremoses-0.0.43.tar.gz (883kB)\n",
            "\u001b[K     |████████████████████████████████| 890kB 36.8MB/s \n",
            "\u001b[?25hRequirement already satisfied: importlib-metadata; python_version < \"3.8\" in /usr/local/lib/python3.6/dist-packages (from transformers) (3.4.0)\n",
            "Requirement already satisfied: filelock in /usr/local/lib/python3.6/dist-packages (from transformers) (3.0.12)\n",
            "Requirement already satisfied: packaging in /usr/local/lib/python3.6/dist-packages (from transformers) (20.9)\n",
            "Requirement already satisfied: tqdm>=4.27 in /usr/local/lib/python3.6/dist-packages (from transformers) (4.41.1)\n",
            "Requirement already satisfied: requests in /usr/local/lib/python3.6/dist-packages (from transformers) (2.23.0)\n",
            "Requirement already satisfied: numpy>=1.17 in /usr/local/lib/python3.6/dist-packages (from transformers) (1.19.5)\n",
            "Requirement already satisfied: dataclasses; python_version < \"3.7\" in /usr/local/lib/python3.6/dist-packages (from transformers) (0.8)\n",
            "Collecting tokenizers<0.11,>=0.10.1\n",
            "\u001b[?25l  Downloading https://files.pythonhosted.org/packages/fd/5b/44baae602e0a30bcc53fbdbc60bd940c15e143d252d658dfdefce736ece5/tokenizers-0.10.1-cp36-cp36m-manylinux2010_x86_64.whl (3.2MB)\n",
            "\u001b[K     |████████████████████████████████| 3.2MB 27.1MB/s \n",
            "\u001b[?25hRequirement already satisfied: six in /usr/local/lib/python3.6/dist-packages (from sacremoses->transformers) (1.15.0)\n",
            "Requirement already satisfied: click in /usr/local/lib/python3.6/dist-packages (from sacremoses->transformers) (7.1.2)\n",
            "Requirement already satisfied: joblib in /usr/local/lib/python3.6/dist-packages (from sacremoses->transformers) (1.0.0)\n",
            "Requirement already satisfied: typing-extensions>=3.6.4; python_version < \"3.8\" in /usr/local/lib/python3.6/dist-packages (from importlib-metadata; python_version < \"3.8\"->transformers) (3.7.4.3)\n",
            "Requirement already satisfied: zipp>=0.5 in /usr/local/lib/python3.6/dist-packages (from importlib-metadata; python_version < \"3.8\"->transformers) (3.4.0)\n",
            "Requirement already satisfied: pyparsing>=2.0.2 in /usr/local/lib/python3.6/dist-packages (from packaging->transformers) (2.4.7)\n",
            "Requirement already satisfied: certifi>=2017.4.17 in /usr/local/lib/python3.6/dist-packages (from requests->transformers) (2020.12.5)\n",
            "Requirement already satisfied: urllib3!=1.25.0,!=1.25.1,<1.26,>=1.21.1 in /usr/local/lib/python3.6/dist-packages (from requests->transformers) (1.24.3)\n",
            "Requirement already satisfied: idna<3,>=2.5 in /usr/local/lib/python3.6/dist-packages (from requests->transformers) (2.10)\n",
            "Requirement already satisfied: chardet<4,>=3.0.2 in /usr/local/lib/python3.6/dist-packages (from requests->transformers) (3.0.4)\n",
            "Building wheels for collected packages: sacremoses\n",
            "  Building wheel for sacremoses (setup.py) ... \u001b[?25l\u001b[?25hdone\n",
            "  Created wheel for sacremoses: filename=sacremoses-0.0.43-cp36-none-any.whl size=893261 sha256=6ba3b18b624b284316b7b417cd81666b2885f54ce0e940e1fadc35b349c261e1\n",
            "  Stored in directory: /root/.cache/pip/wheels/29/3c/fd/7ce5c3f0666dab31a50123635e6fb5e19ceb42ce38d4e58f45\n",
            "Successfully built sacremoses\n",
            "Installing collected packages: sacremoses, tokenizers, transformers\n",
            "Successfully installed sacremoses-0.0.43 tokenizers-0.10.1 transformers-4.3.2\n"
          ],
          "name": "stdout"
        }
      ]
    },
    {
      "cell_type": "code",
      "metadata": {
        "id": "kFcC8gvDaRLI",
        "colab": {
          "base_uri": "https://localhost:8080/"
        },
        "outputId": "6b08ba43-36d1-4007-8f23-1db0fa121473"
      },
      "source": [
        "# Imports\n",
        "\n",
        "import torch\n",
        "import torch.nn as nn\n",
        "import torch.nn.functional as F\n",
        "import pandas as pd\n",
        "import numpy as np\n",
        "from sklearn.feature_extraction.text import CountVectorizer\n",
        "from torch.utils.data import Dataset, random_split\n",
        "from sklearn.feature_extraction.text import TfidfTransformer\n",
        "from sklearn.model_selection import train_test_split\n",
        "from sklearn.linear_model import LinearRegression\n",
        "import codecs\n",
        "from transformers import RobertaTokenizer, RobertaModel, BertTokenizer, BertModel, BertForSequenceClassification, AdamW, BertConfig, get_linear_schedule_with_warmup\n",
        "import spacy\n",
        "import nltk\n",
        "nltk.download('wordnet')\n",
        "from nltk.stem.porter import *\n",
        "from nltk.stem import WordNetLemmatizer\n",
        "from spacy.tokenizer import Tokenizer\n",
        "import re\n",
        "import pdb\n",
        "import random\n",
        "import csv\n",
        "import tqdm\n",
        "from tqdm import tqdm\n",
        "import multiprocessing\n",
        "import pickle\n",
        "from torch.utils.data import TensorDataset, random_split\n",
        "from torch.utils.data import DataLoader, RandomSampler, SequentialSampler\n",
        "import matplotlib.pyplot as plt\n",
        "import os\n"
      ],
      "execution_count": 3,
      "outputs": [
        {
          "output_type": "stream",
          "text": [
            "[nltk_data] Downloading package wordnet to /root/nltk_data...\n",
            "[nltk_data]   Unzipping corpora/wordnet.zip.\n"
          ],
          "name": "stdout"
        }
      ]
    },
    {
      "cell_type": "code",
      "metadata": {
        "colab": {
          "base_uri": "https://localhost:8080/"
        },
        "id": "tJ09zSA9Jq3b",
        "outputId": "3784c6d2-0b0b-4da1-bdbc-ead612d785a2"
      },
      "source": [
        "!nvidia-smi"
      ],
      "execution_count": null,
      "outputs": [
        {
          "output_type": "stream",
          "text": [
            "Sun Feb 21 12:48:19 2021       \n",
            "+-----------------------------------------------------------------------------+\n",
            "| NVIDIA-SMI 460.39       Driver Version: 460.32.03    CUDA Version: 11.2     |\n",
            "|-------------------------------+----------------------+----------------------+\n",
            "| GPU  Name        Persistence-M| Bus-Id        Disp.A | Volatile Uncorr. ECC |\n",
            "| Fan  Temp  Perf  Pwr:Usage/Cap|         Memory-Usage | GPU-Util  Compute M. |\n",
            "|                               |                      |               MIG M. |\n",
            "|===============================+======================+======================|\n",
            "|   0  Tesla T4            Off  | 00000000:00:04.0 Off |                    0 |\n",
            "| N/A   36C    P8     9W /  70W |      0MiB / 15109MiB |      0%      Default |\n",
            "|                               |                      |                  N/A |\n",
            "+-------------------------------+----------------------+----------------------+\n",
            "                                                                               \n",
            "+-----------------------------------------------------------------------------+\n",
            "| Processes:                                                                  |\n",
            "|  GPU   GI   CI        PID   Type   Process name                  GPU Memory |\n",
            "|        ID   ID                                                   Usage      |\n",
            "|=============================================================================|\n",
            "|  No running processes found                                                 |\n",
            "+-----------------------------------------------------------------------------+\n"
          ],
          "name": "stdout"
        }
      ]
    },
    {
      "cell_type": "code",
      "metadata": {
        "colab": {
          "base_uri": "https://localhost:8080/"
        },
        "id": "84OyAVNSaRLJ",
        "outputId": "0acbcf9f-aafc-4c9c-d878-f1f60ebde168"
      },
      "source": [
        "# Setting random seed and device\n",
        "SEED = 1\n",
        "\n",
        "torch.manual_seed(SEED)\n",
        "torch.cuda.manual_seed(SEED)\n",
        "torch.backends.cudnn.deterministic = True\n",
        "\n",
        "use_cuda = torch.cuda.is_available()\n",
        "device = torch.device(\"cuda:0\" if use_cuda else \"cpu\")\n",
        "device"
      ],
      "execution_count": 4,
      "outputs": [
        {
          "output_type": "execute_result",
          "data": {
            "text/plain": [
              "device(type='cuda', index=0)"
            ]
          },
          "metadata": {
            "tags": []
          },
          "execution_count": 4
        }
      ]
    },
    {
      "cell_type": "code",
      "metadata": {
        "colab": {
          "base_uri": "https://localhost:8080/"
        },
        "id": "2gxbblziaRLK",
        "outputId": "49a19787-3e70-4b70-a523-1c67cf7568bd"
      },
      "source": [
        "# Load data\n",
        "%mkdir ./data\n",
        "%cd ./data\n",
        "import os\n",
        "\n",
        "if not os.path.isfile('train.csv'): \n",
        "  !wget -O train.csv https://www.dropbox.com/s/utcewlslgwm278m/train.csv?dl=0\n",
        "if not os.path.isfile('dev.csv'): \n",
        "  !wget -O dev.csv https://www.dropbox.com/s/0bpqmpb009ay717/dev.csv?dl=0\n",
        "if not os.path.isfile('extra_train.csv'): \n",
        "  !wget -O extra_train.csv https://www.dropbox.com/s/6bptu62w4uvhtkf/extra_train_data-3.csv?dl=0\n",
        "\n",
        "%cd ..\n",
        "\n",
        "train_df = pd.read_csv('./data/train.csv')\n",
        "test_df = pd.read_csv('./data/dev.csv')\n",
        "extra_train = pd.read_csv('./data/extra_train.csv')\n"
      ],
      "execution_count": 305,
      "outputs": [
        {
          "output_type": "stream",
          "text": [
            "mkdir: cannot create directory ‘./data’: File exists\n",
            "/content/data\n",
            "/content\n"
          ],
          "name": "stdout"
        }
      ]
    },
    {
      "cell_type": "code",
      "metadata": {
        "id": "g3MIPbkgOlGE"
      },
      "source": [
        "train_df = pd.concat([train_df, extra_train], ignore_index=True)"
      ],
      "execution_count": 306,
      "outputs": []
    },
    {
      "cell_type": "code",
      "metadata": {
        "colab": {
          "base_uri": "https://localhost:8080/",
          "height": 485
        },
        "id": "lxwVcpdRDnu0",
        "outputId": "2bedff7b-18a6-4b14-e69e-f082a3c079a1"
      },
      "source": [
        "#Kevin\n",
        "%cd /content/drive/MyDrive/Colab Notebooks/NLP_Coursework/ic_nlp_cw\n",
        "train_df = pd.read_csv('./task-1/train.csv')\n",
        "test_df = pd.read_csv('./task-1/dev.csv')\n",
        "extra_train = pd.read_csv('./extra_train_data-3.csv')"
      ],
      "execution_count": 85,
      "outputs": [
        {
          "output_type": "stream",
          "text": [
            "[Errno 2] No such file or directory: '/content/drive/MyDrive/Colab Notebooks/NLP_Coursework/ic_nlp_cw'\n",
            "/content\n"
          ],
          "name": "stdout"
        },
        {
          "output_type": "error",
          "ename": "FileNotFoundError",
          "evalue": "ignored",
          "traceback": [
            "\u001b[0;31m---------------------------------------------------------------------------\u001b[0m",
            "\u001b[0;31mFileNotFoundError\u001b[0m                         Traceback (most recent call last)",
            "\u001b[0;32m<ipython-input-85-459849dbaa60>\u001b[0m in \u001b[0;36m<module>\u001b[0;34m()\u001b[0m\n\u001b[1;32m      1\u001b[0m \u001b[0;31m#Kevin\u001b[0m\u001b[0;34m\u001b[0m\u001b[0;34m\u001b[0m\u001b[0;34m\u001b[0m\u001b[0m\n\u001b[1;32m      2\u001b[0m \u001b[0mget_ipython\u001b[0m\u001b[0;34m(\u001b[0m\u001b[0;34m)\u001b[0m\u001b[0;34m.\u001b[0m\u001b[0mmagic\u001b[0m\u001b[0;34m(\u001b[0m\u001b[0;34m'cd /content/drive/MyDrive/Colab Notebooks/NLP_Coursework/ic_nlp_cw'\u001b[0m\u001b[0;34m)\u001b[0m\u001b[0;34m\u001b[0m\u001b[0;34m\u001b[0m\u001b[0m\n\u001b[0;32m----> 3\u001b[0;31m \u001b[0mtrain_df\u001b[0m \u001b[0;34m=\u001b[0m \u001b[0mpd\u001b[0m\u001b[0;34m.\u001b[0m\u001b[0mread_csv\u001b[0m\u001b[0;34m(\u001b[0m\u001b[0;34m'./task-1/train.csv'\u001b[0m\u001b[0;34m)\u001b[0m\u001b[0;34m\u001b[0m\u001b[0;34m\u001b[0m\u001b[0m\n\u001b[0m\u001b[1;32m      4\u001b[0m \u001b[0mtest_df\u001b[0m \u001b[0;34m=\u001b[0m \u001b[0mpd\u001b[0m\u001b[0;34m.\u001b[0m\u001b[0mread_csv\u001b[0m\u001b[0;34m(\u001b[0m\u001b[0;34m'./task-1/dev.csv'\u001b[0m\u001b[0;34m)\u001b[0m\u001b[0;34m\u001b[0m\u001b[0;34m\u001b[0m\u001b[0m\n\u001b[1;32m      5\u001b[0m \u001b[0mextra_train\u001b[0m \u001b[0;34m=\u001b[0m \u001b[0mpd\u001b[0m\u001b[0;34m.\u001b[0m\u001b[0mread_csv\u001b[0m\u001b[0;34m(\u001b[0m\u001b[0;34m'./extra_train_data-3.csv'\u001b[0m\u001b[0;34m)\u001b[0m\u001b[0;34m\u001b[0m\u001b[0;34m\u001b[0m\u001b[0m\n",
            "\u001b[0;32m/usr/local/lib/python3.6/dist-packages/pandas/io/parsers.py\u001b[0m in \u001b[0;36mread_csv\u001b[0;34m(filepath_or_buffer, sep, delimiter, header, names, index_col, usecols, squeeze, prefix, mangle_dupe_cols, dtype, engine, converters, true_values, false_values, skipinitialspace, skiprows, skipfooter, nrows, na_values, keep_default_na, na_filter, verbose, skip_blank_lines, parse_dates, infer_datetime_format, keep_date_col, date_parser, dayfirst, cache_dates, iterator, chunksize, compression, thousands, decimal, lineterminator, quotechar, quoting, doublequote, escapechar, comment, encoding, dialect, error_bad_lines, warn_bad_lines, delim_whitespace, low_memory, memory_map, float_precision)\u001b[0m\n\u001b[1;32m    686\u001b[0m     )\n\u001b[1;32m    687\u001b[0m \u001b[0;34m\u001b[0m\u001b[0m\n\u001b[0;32m--> 688\u001b[0;31m     \u001b[0;32mreturn\u001b[0m \u001b[0m_read\u001b[0m\u001b[0;34m(\u001b[0m\u001b[0mfilepath_or_buffer\u001b[0m\u001b[0;34m,\u001b[0m \u001b[0mkwds\u001b[0m\u001b[0;34m)\u001b[0m\u001b[0;34m\u001b[0m\u001b[0;34m\u001b[0m\u001b[0m\n\u001b[0m\u001b[1;32m    689\u001b[0m \u001b[0;34m\u001b[0m\u001b[0m\n\u001b[1;32m    690\u001b[0m \u001b[0;34m\u001b[0m\u001b[0m\n",
            "\u001b[0;32m/usr/local/lib/python3.6/dist-packages/pandas/io/parsers.py\u001b[0m in \u001b[0;36m_read\u001b[0;34m(filepath_or_buffer, kwds)\u001b[0m\n\u001b[1;32m    452\u001b[0m \u001b[0;34m\u001b[0m\u001b[0m\n\u001b[1;32m    453\u001b[0m     \u001b[0;31m# Create the parser.\u001b[0m\u001b[0;34m\u001b[0m\u001b[0;34m\u001b[0m\u001b[0;34m\u001b[0m\u001b[0m\n\u001b[0;32m--> 454\u001b[0;31m     \u001b[0mparser\u001b[0m \u001b[0;34m=\u001b[0m \u001b[0mTextFileReader\u001b[0m\u001b[0;34m(\u001b[0m\u001b[0mfp_or_buf\u001b[0m\u001b[0;34m,\u001b[0m \u001b[0;34m**\u001b[0m\u001b[0mkwds\u001b[0m\u001b[0;34m)\u001b[0m\u001b[0;34m\u001b[0m\u001b[0;34m\u001b[0m\u001b[0m\n\u001b[0m\u001b[1;32m    455\u001b[0m \u001b[0;34m\u001b[0m\u001b[0m\n\u001b[1;32m    456\u001b[0m     \u001b[0;32mif\u001b[0m \u001b[0mchunksize\u001b[0m \u001b[0;32mor\u001b[0m \u001b[0miterator\u001b[0m\u001b[0;34m:\u001b[0m\u001b[0;34m\u001b[0m\u001b[0;34m\u001b[0m\u001b[0m\n",
            "\u001b[0;32m/usr/local/lib/python3.6/dist-packages/pandas/io/parsers.py\u001b[0m in \u001b[0;36m__init__\u001b[0;34m(self, f, engine, **kwds)\u001b[0m\n\u001b[1;32m    946\u001b[0m             \u001b[0mself\u001b[0m\u001b[0;34m.\u001b[0m\u001b[0moptions\u001b[0m\u001b[0;34m[\u001b[0m\u001b[0;34m\"has_index_names\"\u001b[0m\u001b[0;34m]\u001b[0m \u001b[0;34m=\u001b[0m \u001b[0mkwds\u001b[0m\u001b[0;34m[\u001b[0m\u001b[0;34m\"has_index_names\"\u001b[0m\u001b[0;34m]\u001b[0m\u001b[0;34m\u001b[0m\u001b[0;34m\u001b[0m\u001b[0m\n\u001b[1;32m    947\u001b[0m \u001b[0;34m\u001b[0m\u001b[0m\n\u001b[0;32m--> 948\u001b[0;31m         \u001b[0mself\u001b[0m\u001b[0;34m.\u001b[0m\u001b[0m_make_engine\u001b[0m\u001b[0;34m(\u001b[0m\u001b[0mself\u001b[0m\u001b[0;34m.\u001b[0m\u001b[0mengine\u001b[0m\u001b[0;34m)\u001b[0m\u001b[0;34m\u001b[0m\u001b[0;34m\u001b[0m\u001b[0m\n\u001b[0m\u001b[1;32m    949\u001b[0m \u001b[0;34m\u001b[0m\u001b[0m\n\u001b[1;32m    950\u001b[0m     \u001b[0;32mdef\u001b[0m \u001b[0mclose\u001b[0m\u001b[0;34m(\u001b[0m\u001b[0mself\u001b[0m\u001b[0;34m)\u001b[0m\u001b[0;34m:\u001b[0m\u001b[0;34m\u001b[0m\u001b[0;34m\u001b[0m\u001b[0m\n",
            "\u001b[0;32m/usr/local/lib/python3.6/dist-packages/pandas/io/parsers.py\u001b[0m in \u001b[0;36m_make_engine\u001b[0;34m(self, engine)\u001b[0m\n\u001b[1;32m   1178\u001b[0m     \u001b[0;32mdef\u001b[0m \u001b[0m_make_engine\u001b[0m\u001b[0;34m(\u001b[0m\u001b[0mself\u001b[0m\u001b[0;34m,\u001b[0m \u001b[0mengine\u001b[0m\u001b[0;34m=\u001b[0m\u001b[0;34m\"c\"\u001b[0m\u001b[0;34m)\u001b[0m\u001b[0;34m:\u001b[0m\u001b[0;34m\u001b[0m\u001b[0;34m\u001b[0m\u001b[0m\n\u001b[1;32m   1179\u001b[0m         \u001b[0;32mif\u001b[0m \u001b[0mengine\u001b[0m \u001b[0;34m==\u001b[0m \u001b[0;34m\"c\"\u001b[0m\u001b[0;34m:\u001b[0m\u001b[0;34m\u001b[0m\u001b[0;34m\u001b[0m\u001b[0m\n\u001b[0;32m-> 1180\u001b[0;31m             \u001b[0mself\u001b[0m\u001b[0;34m.\u001b[0m\u001b[0m_engine\u001b[0m \u001b[0;34m=\u001b[0m \u001b[0mCParserWrapper\u001b[0m\u001b[0;34m(\u001b[0m\u001b[0mself\u001b[0m\u001b[0;34m.\u001b[0m\u001b[0mf\u001b[0m\u001b[0;34m,\u001b[0m \u001b[0;34m**\u001b[0m\u001b[0mself\u001b[0m\u001b[0;34m.\u001b[0m\u001b[0moptions\u001b[0m\u001b[0;34m)\u001b[0m\u001b[0;34m\u001b[0m\u001b[0;34m\u001b[0m\u001b[0m\n\u001b[0m\u001b[1;32m   1181\u001b[0m         \u001b[0;32melse\u001b[0m\u001b[0;34m:\u001b[0m\u001b[0;34m\u001b[0m\u001b[0;34m\u001b[0m\u001b[0m\n\u001b[1;32m   1182\u001b[0m             \u001b[0;32mif\u001b[0m \u001b[0mengine\u001b[0m \u001b[0;34m==\u001b[0m \u001b[0;34m\"python\"\u001b[0m\u001b[0;34m:\u001b[0m\u001b[0;34m\u001b[0m\u001b[0;34m\u001b[0m\u001b[0m\n",
            "\u001b[0;32m/usr/local/lib/python3.6/dist-packages/pandas/io/parsers.py\u001b[0m in \u001b[0;36m__init__\u001b[0;34m(self, src, **kwds)\u001b[0m\n\u001b[1;32m   2008\u001b[0m         \u001b[0mkwds\u001b[0m\u001b[0;34m[\u001b[0m\u001b[0;34m\"usecols\"\u001b[0m\u001b[0;34m]\u001b[0m \u001b[0;34m=\u001b[0m \u001b[0mself\u001b[0m\u001b[0;34m.\u001b[0m\u001b[0musecols\u001b[0m\u001b[0;34m\u001b[0m\u001b[0;34m\u001b[0m\u001b[0m\n\u001b[1;32m   2009\u001b[0m \u001b[0;34m\u001b[0m\u001b[0m\n\u001b[0;32m-> 2010\u001b[0;31m         \u001b[0mself\u001b[0m\u001b[0;34m.\u001b[0m\u001b[0m_reader\u001b[0m \u001b[0;34m=\u001b[0m \u001b[0mparsers\u001b[0m\u001b[0;34m.\u001b[0m\u001b[0mTextReader\u001b[0m\u001b[0;34m(\u001b[0m\u001b[0msrc\u001b[0m\u001b[0;34m,\u001b[0m \u001b[0;34m**\u001b[0m\u001b[0mkwds\u001b[0m\u001b[0;34m)\u001b[0m\u001b[0;34m\u001b[0m\u001b[0;34m\u001b[0m\u001b[0m\n\u001b[0m\u001b[1;32m   2011\u001b[0m         \u001b[0mself\u001b[0m\u001b[0;34m.\u001b[0m\u001b[0munnamed_cols\u001b[0m \u001b[0;34m=\u001b[0m \u001b[0mself\u001b[0m\u001b[0;34m.\u001b[0m\u001b[0m_reader\u001b[0m\u001b[0;34m.\u001b[0m\u001b[0munnamed_cols\u001b[0m\u001b[0;34m\u001b[0m\u001b[0;34m\u001b[0m\u001b[0m\n\u001b[1;32m   2012\u001b[0m \u001b[0;34m\u001b[0m\u001b[0m\n",
            "\u001b[0;32mpandas/_libs/parsers.pyx\u001b[0m in \u001b[0;36mpandas._libs.parsers.TextReader.__cinit__\u001b[0;34m()\u001b[0m\n",
            "\u001b[0;32mpandas/_libs/parsers.pyx\u001b[0m in \u001b[0;36mpandas._libs.parsers.TextReader._setup_parser_source\u001b[0;34m()\u001b[0m\n",
            "\u001b[0;31mFileNotFoundError\u001b[0m: [Errno 2] No such file or directory: './task-1/train.csv'"
          ]
        }
      ]
    },
    {
      "cell_type": "markdown",
      "metadata": {
        "id": "3e1fHh81AIUd"
      },
      "source": [
        "### Data PreProcessing"
      ]
    },
    {
      "cell_type": "code",
      "metadata": {
        "id": "KZtwJ-3fm6LJ"
      },
      "source": [
        "def get_grade_list(grades):\n",
        "  grade_list = []\n",
        "  for i, grade in enumerate(grades):\n",
        "    list_grade = list(str(grade))\n",
        "    grade_list.append(list(map(int, list_grade)))\n",
        "  return grade_list\n",
        "    "
      ],
      "execution_count": null,
      "outputs": []
    },
    {
      "cell_type": "code",
      "metadata": {
        "id": "z_RDKi6mAK8_"
      },
      "source": [
        " def add_columns_to_data(train_df, test_df):   \n",
        "    #instead of having two inputs out of preprocessing, edit the dataset, and add in columns which we can use as inputs\n",
        "    #we can also add an 'old' field which contains the original word \n",
        "    train_df['old'] = train_df.apply(lambda x:x['original'][x['original'].find('<')+1:x['original'].find('>')-1],axis=1)\n",
        "    test_df['old'] = test_df.apply(lambda x:x['original'][x['original'].find('<')+1:x['original'].find('>')-1],axis=1)\n",
        "\n",
        "    #first we add a field to the data which contains the edited headline\n",
        "    train_df['edited'] = train_df.apply(lambda x:x['original'].replace(x['original'][x['original'].find('<'):x['original'].find('>')+1],x['edit'] ) ,axis=1)\n",
        "    test_df['edited'] = test_df.apply(lambda x:x['original'].replace(x['original'][x['original'].find('<'):x['original'].find('>')+1], x['edit'] ) ,axis=1)\n",
        "\n",
        "    train_df['original'] = train_df.apply(lambda x:x['original'].replace(x['original'][x['original'].find('<'):x['original'].find('>')+1], x['old']) ,axis=1)\n",
        "    test_df['original'] = test_df.apply(lambda x:x['original'].replace(x['original'][x['original'].find('<'):x['original'].find('>')+1], x['old']),axis=1)\n",
        "\n",
        "    grades = train_df[\"grades\"].tolist()\n",
        "    grade_lists = get_grade_list(grades)\n",
        "    vars = [np.var(grade) for grade in grade_lists]\n",
        "    train_df[\"variance\"] = vars\n",
        "\n",
        "    return train_df, test_df"
      ],
      "execution_count": null,
      "outputs": []
    },
    {
      "cell_type": "code",
      "metadata": {
        "id": "U-19KmczA6ST"
      },
      "source": [
        "train_df, test_df = add_columns_to_data(train_df, test_df)"
      ],
      "execution_count": null,
      "outputs": []
    },
    {
      "cell_type": "code",
      "metadata": {
        "id": "HQbm--SyaRLL"
      },
      "source": [
        "# Number of epochs\n",
        "epochs = 80\n",
        "\n",
        "# Proportion of training data for train compared to dev\n",
        "train_proportion = 0.8"
      ],
      "execution_count": null,
      "outputs": []
    },
    {
      "cell_type": "markdown",
      "metadata": {
        "id": "f46AEn_3s1UJ"
      },
      "source": [
        "### Creating Vocab and Tokenized Corpus"
      ]
    },
    {
      "cell_type": "code",
      "metadata": {
        "id": "VueP_-XX4zqb"
      },
      "source": [
        "stop_words = [\"i\", \"me\", \"my\", \"myself\", \"we\", \"our\", \"ours\", \"ourselves\", \"you\", \"your\", \"yours\", \"yourself\", \"yourselves\", \"he\", \"him\", \"his\", \"himself\", \"she\", \"her\", \"hers\", \"herself\", \"it\", \"its\", \"itself\", \"they\", \"them\", \"their\", \"theirs\", \"themselves\", \"what\", \"which\", \"who\", \"whom\", \"this\", \"that\", \"these\", \"those\", \"am\", \"is\", \"are\", \"was\", \"were\", \"be\", \"been\", \"being\", \"have\", \"has\", \"had\", \"having\", \"do\", \"does\", \"did\", \"doing\", \"a\", \"an\", \"the\", \"and\", \"but\", \"if\", \"or\", \"because\", \"as\", \"until\", \"while\", \"of\", \"at\", \"by\", \"for\", \"with\", \"about\", \"against\", \"between\", \"into\", \"through\", \"during\", \"before\", \"after\", \"above\", \"below\", \"to\", \"from\", \"up\", \"down\", \"in\", \"out\", \"on\", \"off\", \"over\", \"under\", \"again\", \"further\", \"then\", \"once\", \"here\", \"there\", \"when\", \"where\", \"why\", \"how\", \"all\", \"any\", \"both\", \"each\", \"few\", \"more\", \"most\", \"other\", \"some\", \"such\", \"no\", \"nor\", \"not\", \"only\", \"own\", \"same\", \"so\", \"than\", \"too\", \"very\", \"s\", \"t\", \"can\", \"will\", \"just\", \"don\", \"should\", \"now\"]"
      ],
      "execution_count": null,
      "outputs": []
    },
    {
      "cell_type": "code",
      "metadata": {
        "id": "TSQ-36SdaRLO"
      },
      "source": [
        "# To create our vocab\n",
        "\n",
        "def custom_tokenizer(nlp):\n",
        "    \n",
        "    replacement_re = re.compile(r'^<*/>') #do not split replacement format\n",
        "    prefix_re = re.compile(r'''^[\\[\\(\"]''')\n",
        "    suffix_re = re.compile(r''',[\\]\\)\"']$''')\n",
        "    infix_re = re.compile(r'''[-\\,.~]''')\n",
        "    \n",
        "    \n",
        "    return Tokenizer(nlp.vocab,\n",
        "                     token_match = replacement_re.match,\n",
        "                     prefix_search=prefix_re.search,\n",
        "                     suffix_search=suffix_re.search,\n",
        "                     infix_finditer = infix_re.finditer  \n",
        "                    )\n",
        "\n",
        "\n",
        "\n",
        "def preprocessor(data,edits):\n",
        "    \"\"\"\n",
        "    Creating a corpus of all the tokens used\n",
        "    \"\"\"\n",
        "    from nltk.stem import WordNetLemmatizer\n",
        "    wordnet_lemmatizer = WordNetLemmatizer()  \n",
        "\n",
        "    punctuation = \"\\\":\\.,\"\n",
        "    nlp = spacy.load(\"en_core_web_sm\")\n",
        "    nlp.tokenizer = custom_tokenizer(nlp)\n",
        "    \n",
        "    tokenized_corpus_1= [] # Let us put the tokenized corpus in a list\n",
        "    tokenized_corpus_2= []\n",
        "    \n",
        "    \n",
        "    for i, sentence in enumerate(data):\n",
        "\n",
        "        sentence = sentence.lower()\n",
        "        tokenized_sentence_1 = []\n",
        "        tokenized_sentence_2 = []\n",
        "\n",
        "        for token in nlp(sentence): # simplest split is\n",
        "\n",
        "            if token.text in punctuation:\n",
        "                continue\n",
        "            if token.text in stop_words:\n",
        "                continue\n",
        "            \n",
        "            else:\n",
        "                if token.text[0] == '<':\n",
        "                    tokenized_sentence_1.append(\"???\")\n",
        "                    tokenized_sentence_2.append(\"???\")\n",
        "                    \n",
        "                    tokenized_sentence_2.append(wordnet_lemmatizer.lemmatize(edits.iloc[i],  pos=\"v\"))\n",
        "\n",
        "                    lemmatized_token = wordnet_lemmatizer.lemmatize(token.text[1:-2], pos=\"v\")\n",
        "\n",
        "                    tokenized_sentence_1.append(lemmatized_token)\n",
        "                else:\n",
        "                    lemmatized_token = wordnet_lemmatizer.lemmatize(token.text, pos=\"v\")\n",
        "\n",
        "                    tokenized_sentence_2.append(lemmatized_token)\n",
        "                \n",
        "                    tokenized_sentence_1.append(lemmatized_token)\n",
        "\n",
        "\n",
        "        tokenized_corpus_1.append(tokenized_sentence_1)\n",
        "        tokenized_corpus_2.append(tokenized_sentence_2)\n",
        "\n",
        "    # Create single list of all vocabulary\n",
        "    vocabulary = []  # Let us put all the tokens (mostly words) appearing in the vocabulary in a list\n",
        "\n",
        "    for sentence in tokenized_corpus_1:\n",
        "\n",
        "        for token in sentence:\n",
        "\n",
        "            if token not in vocabulary:\n",
        "\n",
        "                if True:\n",
        "                    vocabulary.append(token)\n",
        "    \n",
        "    for token in edits:\n",
        "        \n",
        "        if token not in vocabulary:\n",
        "            \n",
        "            vocabulary.append(token)\n",
        "\n",
        "    return vocabulary, tokenized_corpus_1, tokenized_corpus_2"
      ],
      "execution_count": null,
      "outputs": []
    },
    {
      "cell_type": "code",
      "metadata": {
        "id": "_JSWm-Q5nIxX",
        "colab": {
          "base_uri": "https://localhost:8080/"
        },
        "outputId": "ce0b3205-dc1d-4824-e79d-daf848a2119a"
      },
      "source": [
        "## Approach 1 code, using functions defined above:\n",
        "\n",
        "# We set our training data and test data\n",
        "training_data = train_df['original']\n",
        "test_data = test_df['original']\n",
        "\n",
        "# Creating word vectors\n",
        "#training_vocab, training_tokenized_corpus = create_vocab(training_data)\n",
        "#test_vocab, test_tokenized_corpus = create_vocab(test_data)\n",
        "training_vocab, training_tokenized_corpus_1,training_tokenized_corpus_2=  preprocessor(training_data,train_df['edit'])\n",
        "test_vocab, test_tokenized_corpus_1,test_tokenized_corpus_2=  preprocessor(test_data,test_df['edit'])\n",
        "\n",
        "#print(\"Vocabulary individual creation - done\")\n",
        "\n",
        "# Creating joint vocab from test and train:\n",
        "#joint_vocab, joint_tokenized_corpus = create_vocab(pd.concat([training_data, test_data]))\n",
        "#joint_vocab, joint_tokenized_corpus_1,joint_tokenized_corpus_2 = preprocessor(pd.concat([training_data, test_data]),pd.concat([train_df['edit'],test_df['edit']],ignore_index = True))\n",
        "\n",
        "print(\"Vocabulary joined creation - done\")\n",
        "\n",
        "\n",
        "\n",
        "print(\"Vocab created.\")"
      ],
      "execution_count": null,
      "outputs": [
        {
          "output_type": "stream",
          "text": [
            "Vocabulary joined creation - done\n",
            "Vocab created.\n"
          ],
          "name": "stdout"
        }
      ]
    },
    {
      "cell_type": "code",
      "metadata": {
        "id": "xeXy7v7dnQGq"
      },
      "source": [
        "# We create representations for our tokens\n",
        "wvecs = [] # word vectors\n",
        "word2idx = [] # word2index\n",
        "idx2word = []\n",
        "\n",
        "#Add special character -> embedding vector of ones \n",
        "wvecs.append(np.ones(100))\n",
        "\n",
        "# This is a large file, it will take a while to load in the memory!\n",
        "with codecs.open('glove.6B.100d.txt', 'r','utf-8') as f:\n",
        "  index = 1 #zero padding\n",
        "  for line in f.readlines():\n",
        "    # Ignore the first line - first line typically contains vocab, dimensionality\n",
        "    if len(line.strip().split()) > 3:\n",
        "      word = line.strip().split()[0]\n",
        "      if word in joint_vocab:\n",
        "          (word, vec) = (word,\n",
        "                     list(map(float,line.strip().split()[1:])))\n",
        "          wvecs.append(vec)\n",
        "          word2idx.append((word, index))\n",
        "          idx2word.append((index, word))\n",
        "          index += 1\n",
        "\n",
        "wvecs = np.array(wvecs)\n",
        "word2idx = dict(word2idx)\n",
        "idx2word = dict(idx2word)\n",
        "\n",
        "\n",
        "\n"
      ],
      "execution_count": null,
      "outputs": []
    },
    {
      "cell_type": "code",
      "metadata": {
        "id": "0ze3glIrVMmj"
      },
      "source": [
        "word2idx['<unk>'] = 1\n",
        "idx2word[1] = '<unk>'\n",
        "mean = np.mean(wvecs, axis=0) # initialize unknown token as mean\n",
        "#wvecs = np.vstack((wvecs, mean))\n",
        "wvecs[0] = mean\n"
      ],
      "execution_count": null,
      "outputs": []
    },
    {
      "cell_type": "code",
      "metadata": {
        "id": "BgcGpchbQOO-"
      },
      "source": [
        "\n",
        "\n",
        "vectorized_seqs_1 = [[word2idx[tok] if tok in word2idx else word2idx['<unk>'] for tok in seq] for seq in training_tokenized_corpus_1]\n",
        "vectorized_seqs_2 = [[word2idx[tok] if tok in word2idx else word2idx['<unk>'] for tok in seq] for seq in training_tokenized_corpus_2]\n",
        "\n",
        "\n",
        "# To avoid any sentences being empty (if no words match to our word embeddings)\n",
        "vectorized_seqs_1 = [x if len(x) > 0 else [0] for x in vectorized_seqs_1]\n",
        "vectorized_seqs_2 = [x if len(x) > 0 else [0] for x in vectorized_seqs_2]\n",
        "\n"
      ],
      "execution_count": null,
      "outputs": []
    },
    {
      "cell_type": "markdown",
      "metadata": {
        "id": "3PxOsuS7Bi0g"
      },
      "source": [
        "### Training for BILSTM"
      ]
    },
    {
      "cell_type": "code",
      "metadata": {
        "id": "BxhwWCz6aRLL"
      },
      "source": [
        "# We define our training loop\n",
        "def train(train_iter, dev_iter, model, number_epoch, bert=False):\n",
        "    \"\"\"\n",
        "    Training loop for the model, which calls on eval to evaluate after each epoch\n",
        "    \"\"\"\n",
        "\n",
        "    train_losses = np.zeros(number_epoch)\n",
        "    valid_losses = np.zeros(number_epoch)\n",
        "    train_rmses = []\n",
        "    valid_rmses = []\n",
        "    print(\"Training model.\")\n",
        "\n",
        "    for epoch in range(1, number_epoch+1):\n",
        "\n",
        "        model.train()\n",
        "        epoch_loss = 0\n",
        "        epoch_sse = 0\n",
        "        no_observations = 0  # Observations used for training so far\n",
        "        \n",
        "        for batch in train_iter:\n",
        "            optimizer.zero_grad()\n",
        "            feature, target = batch\n",
        "            feature_1= feature[0].to(device)\n",
        "            feature_2 = feature[1].to(device)\n",
        "            target = target.to(device)\n",
        "            # for RNN:\n",
        "            model.batch_size = target.shape[0]\n",
        "            no_observations = no_observations + target.shape[0]\n",
        "            model.hidden_1 = model.init_hidden()\n",
        "            model.hidden_2 = model.init_hidden()\n",
        "\n",
        "            feature = (feature_1, feature_2)\n",
        "            predictions = model(feature).squeeze(1)\n",
        "            \n",
        "            loss = loss_fn(predictions, target)\n",
        "                        \n",
        "            sse, __ = model_performance(predictions.detach().cpu().numpy(), target.detach().cpu().numpy()) \n",
        "            \n",
        "            loss.backward(retain_graph=True)\n",
        "            optimizer.step()\n",
        "\n",
        "            epoch_loss += loss.item()*target.shape[0]\n",
        "            epoch_sse += sse\n",
        "\n",
        "        valid_loss, valid_mse, preds, targs = eval(dev_iter, model)\n",
        "\n",
        "        epoch_loss, epoch_mse = epoch_loss / no_observations, epoch_sse / no_observations\n",
        "        train_losses[epoch-1] = epoch_loss\n",
        "        valid_losses[epoch-1] = valid_loss\n",
        "        train_rmses.append(epoch_mse**0.5)\n",
        "        valid_rmses.append(valid_mse**0.5)\n",
        "        print(f'| Epoch: {epoch:02} | Train Loss: {epoch_loss:.2f} | Train MSE: {epoch_mse:.2f} | Train RMSE: {epoch_mse**0.5:.2f} | \\\n",
        "        Val. Loss: {valid_loss:.2f} | Val. MSE: {valid_mse:.2f} |  Val. RMSE: {valid_mse**0.5:.2f} |')\n",
        "    return train_losses, valid_losses, preds, targs, train_rmses, valid_rmses"
      ],
      "execution_count": 350,
      "outputs": []
    },
    {
      "cell_type": "code",
      "metadata": {
        "id": "EAPacdgOaRLM"
      },
      "source": [
        "# We evaluate performance on our dev set\n",
        "def eval(data_iter, model):\n",
        "    \"\"\"\n",
        "    Evaluating model performance on the dev set\n",
        "    \"\"\"\n",
        "    model.eval()\n",
        "    epoch_loss = 0\n",
        "    epoch_sse = 0\n",
        "    pred_all = []\n",
        "    trg_all = []\n",
        "    no_observations = 0\n",
        "\n",
        "\n",
        "\n",
        "    with torch.no_grad():\n",
        "        for batch in data_iter:\n",
        "            feature, target = batch\n",
        "            feature_1= feature[0].to(device)\n",
        "            feature_2 = feature[1].to(device)\n",
        "            target = target.to(device)\n",
        "\n",
        "            feature = (feature_1, feature_2)\n",
        "\n",
        "            # for RNN:\n",
        "            model.batch_size = target.shape[0]\n",
        "            no_observations = no_observations + target.shape[0]\n",
        "            model.hidden_1 = model.init_hidden()\n",
        "            model.hidden_2 = model.init_hidden()\n",
        "\n",
        "            predictions = model(feature).squeeze(1)\n",
        "            #predictions.requires_grad = True\n",
        "            loss = loss_fn(predictions, target)\n",
        "\n",
        "            # We get the mse\n",
        "            pred, trg = predictions.detach().cpu().numpy(), target.detach().cpu().numpy()\n",
        "            sse, __ = model_performance(pred, trg)\n",
        "\n",
        "            epoch_loss += loss.item()*target.shape[0]\n",
        "            epoch_sse += sse\n",
        "            pred_all.extend(pred)\n",
        "            trg_all.extend(trg)\n",
        "\n",
        "    return epoch_loss/no_observations, epoch_sse/no_observations, np.array(pred_all), np.array(trg_all)"
      ],
      "execution_count": 351,
      "outputs": []
    },
    {
      "cell_type": "code",
      "metadata": {
        "id": "vcchQKtEaRLN"
      },
      "source": [
        "# How we print the model performance\n",
        "def model_performance(output, target, print_output=False):\n",
        "    \"\"\"\n",
        "    Returns SSE and MSE per batch (printing the MSE and the RMSE)\n",
        "    \"\"\"\n",
        "\n",
        "    sq_error = (output - target)**2\n",
        "\n",
        "    sse = np.sum(sq_error)\n",
        "    mse = np.mean(sq_error)\n",
        "    rmse = np.sqrt(mse)\n",
        "\n",
        "    if print_output:\n",
        "        print(f'| MSE: {mse:.2f} | RMSE: {rmse:.2f} |')\n",
        "\n",
        "    return sse, mse"
      ],
      "execution_count": 183,
      "outputs": []
    },
    {
      "cell_type": "code",
      "metadata": {
        "id": "aOOe3Ca7aRLP"
      },
      "source": [
        "\n",
        "def collate_fn_padd(batch):\n",
        "    \n",
        "    #We add padding to our minibatches and create tensors for our model\n",
        "    \n",
        "\n",
        "    batch_labels = [l for f, g, l in batch]\n",
        "    batch_features = [(f,g) for f, g, l in batch]\n",
        "    \n",
        "\n",
        "    batch_features_len = [len(f) for f, g, l in batch]\n",
        "\n",
        "\n",
        "    seq_tensor_1 = torch.zeros((len(batch), 50)).long()\n",
        "    seq_tensor_2 = torch.zeros((len(batch), 50)).long()\n",
        "\n",
        "    \n",
        "    for idx, (seq, seqlen) in enumerate(zip(batch_features, batch_features_len)):\n",
        "        seq_tensor_1[idx, :seqlen] = torch.LongTensor(seq[0])\n",
        "        seq_tensor_2[idx, :seqlen] = torch.LongTensor(seq[1])\n",
        "    batch_labels = torch.FloatTensor(batch_labels)\n",
        "    \n",
        "\n",
        "    return (seq_tensor_1, seq_tensor_2), batch_labels\n",
        "\n",
        "\n",
        "class Task1Dataset(Dataset):\n",
        "\n",
        "    def __init__(self, train_data, labels):\n",
        "        self.x_train = train_data\n",
        "        self.y_train = labels\n",
        "\n",
        "    def __len__(self):\n",
        "        return len(self.y_train)\n",
        "\n",
        "    def __getitem__(self, item):\n",
        "        return self.x_train[item], self.y_train[item]\n",
        "    \n",
        "class Task1Dataset_double(Dataset):\n",
        "\n",
        "    def __init__(self, train_data_1,train_data_2, labels):\n",
        "        self.x_train_1 = train_data_1\n",
        "        self.x_train_2 = train_data_2\n",
        "        self.y_train = labels\n",
        "\n",
        "    def __len__(self):\n",
        "        return len(self.y_train)\n",
        "\n",
        "    def __getitem__(self, item):\n",
        "        return self.x_train_1[item],self.x_train_2[item], self.y_train[item]    \n"
      ],
      "execution_count": 184,
      "outputs": []
    },
    {
      "cell_type": "code",
      "metadata": {
        "id": "8F1kXohWaRLR"
      },
      "source": [
        "class BiLSTM_double(nn.Module):\n",
        "\n",
        "    def __init__(self, embedding_dim, hidden_dim, vocab_size, batch_size, device):\n",
        "        super(BiLSTM_double, self).__init__()\n",
        "        self.hidden_dim = hidden_dim\n",
        "        self.embedding_dim = embedding_dim\n",
        "        self.device = device\n",
        "        self.batch_size = batch_size\n",
        "        self.embedding = nn.Embedding(vocab_size, embedding_dim, padding_idx=0)\n",
        "\n",
        "        # The LSTM takes word embeddings as inputs, and outputs hidden states\n",
        "        # with dimensionality hidden_dim.\n",
        "        self.lstm_1 = nn.LSTM(embedding_dim, hidden_dim, bidirectional=True)\n",
        "        self.lstm_2 = nn.LSTM(embedding_dim,hidden_dim, bidirectional = True)\n",
        "\n",
        "        # The linear layer that maps from hidden state space to tag space\n",
        "        self.fc = nn.Linear(2*55*100, hidden_dim*2)\n",
        "        #self.fc2 = nn.Linear(hidden_dim*2, hidden_dim//2)\n",
        "        #self.fc3 = nn.Linear(hidden_dim//2, hidden_dim//4)\n",
        "\n",
        "        self.hidden_1 = self.init_hidden()\n",
        "        self.hidden_2 = self.init_hidden()\n",
        "        self.hidden2label = nn.Linear(hidden_dim*2, 1)\n",
        "\n",
        "\n",
        "        self.d1 = nn.Dropout(0.5)\n",
        "        self.d2 = nn.Dropout(0.5)\n",
        "        self.d3 = nn.Dropout(0.5)\n",
        "        #self.d4 = nn.Dropout(0.3)\n",
        "        #self.d5 = nn.Dropout(0.3)\n",
        "\n",
        "    def init_hidden(self):\n",
        "        # Before we've done anything, we dont have any hidden state.\n",
        "        # Refer to the Pytorch documentation to see exactly why they have this dimensionality.\n",
        "        # The axes semantics are (num_layers * num_directions, minibatch_size, hidden_dim)\n",
        "        \n",
        "        return torch.zeros(2, self.batch_size, self.hidden_dim, requires_grad = True).to(self.device), \\\n",
        "               torch.zeros(2, self.batch_size, self.hidden_dim, requires_grad = True).to(self.device)\n",
        "\n",
        "    def forward(self, sentence):\n",
        "        self.embedded_1 = self.embedding(sentence[0])\n",
        "        self.embedded_1 = self.embedded_1.permute(1, 0, 2) #Needed for LSTMs\n",
        "\n",
        "        self.embedded_2 = self.embedding(sentence[1])\n",
        "        self.embedded_2 = self.embedded_2.permute(1, 0, 2) #Needed for LSTMs\n",
        "\n",
        "        #lstm_out : (seq_len,batch_size,num_directions (2) * hidden_size (50))\n",
        "        #hidden : (num_layers * num_directions, batch_size,hidden_size)\n",
        "        lstm_out_1, self.hidden_1 = self.lstm_1(\n",
        "            self.embedded_1.view(len(self.embedded_1), self.batch_size, self.embedding_dim), self.hidden_1)\n",
        "        \n",
        "        lstm_out_1 = F.leaky_relu(self.d1(lstm_out_1))\n",
        "\n",
        "        lstm_out_2, self.hidden_2 = self.lstm_2(\n",
        "            self.embedded_2.view(len(self.embedded_2), self.batch_size, self.embedding_dim), self.hidden_2)\n",
        "        \n",
        "        lstm_out_2 = F.leaky_relu(self.d2(lstm_out_2))\n",
        "        \n",
        "        #out : (1)\n",
        "        lstm_out_1 = lstm_out_1.permute(1,0,2)\n",
        "        lstm_out_2 = lstm_out_2.permute(1,0,2)\n",
        "\n",
        "        out1 = self.fc(torch.cat((lstm_out_1.reshape(self.batch_size, -1),lstm_out_2.reshape(self.batch_size, -1)), dim = 1))\n",
        "        out1 = F.leaky_relu(self.d3(out1))\n",
        "\n",
        "        #out2 = self.fc2(out1)\n",
        "        #out2 = F.leaky_relu(self.d4(out2))\n",
        "\n",
        "        #out3 = self.fc3(out2)\n",
        "        #out3 = F.leaky_relu(self.d5(out3))\n",
        "\n",
        "        out = self.hidden2label(out1)\n",
        "        return out"
      ],
      "execution_count": 185,
      "outputs": []
    },
    {
      "cell_type": "code",
      "metadata": {
        "id": "4XzJHcQ_aRLT",
        "scrolled": true,
        "colab": {
          "base_uri": "https://localhost:8080/"
        },
        "outputId": "888ae17b-70b2-4380-f9ae-a99ef3b7cd5e"
      },
      "source": [
        "\n",
        "INPUT_DIM = len(word2idx)\n",
        "EMBEDDING_DIM = wvecs.shape[1]\n",
        "\n",
        "BATCH_SIZE = 128\n",
        "\n",
        "model = BiLSTM_double(EMBEDDING_DIM, 55, INPUT_DIM, BATCH_SIZE, device)\n",
        "\n",
        "params = sum(p.numel() for p in model.parameters() if p.requires_grad)\n",
        "print(params)\n",
        "#print(\"Total number of parameters is: {​​}​​\".format(params))\n",
        "\n",
        "print(model)\n",
        "\n",
        "print(\"Model initialised.\")\n",
        "\n",
        "model.to(device)\n",
        "# We provide the model with our embeddings\n",
        "#x = np.concatenate((wvecs,wvecs),axis=1)\n",
        "model.embedding.weight.data.copy_(torch.from_numpy(wvecs))\n",
        "\n"
      ],
      "execution_count": null,
      "outputs": [
        {
          "output_type": "stream",
          "text": [
            "2985381\n",
            "BiLSTM_double(\n",
            "  (embedding): Embedding(16370, 100, padding_idx=0)\n",
            "  (lstm_1): LSTM(100, 55, bidirectional=True)\n",
            "  (lstm_2): LSTM(100, 55, bidirectional=True)\n",
            "  (fc): Linear(in_features=11000, out_features=110, bias=True)\n",
            "  (hidden2label): Linear(in_features=110, out_features=1, bias=True)\n",
            "  (d1): Dropout(p=0.5, inplace=False)\n",
            "  (d2): Dropout(p=0.5, inplace=False)\n",
            "  (d3): Dropout(p=0.5, inplace=False)\n",
            ")\n",
            "Model initialised.\n"
          ],
          "name": "stdout"
        },
        {
          "output_type": "execute_result",
          "data": {
            "text/plain": [
              "tensor([[ 0.0045,  0.0884,  0.1403,  ..., -0.0549,  0.1601,  0.0868],\n",
              "        [-0.0382, -0.2449,  0.7281,  ..., -0.1459,  0.8278,  0.2706],\n",
              "        [-0.1529, -0.2428,  0.8984,  ..., -0.5910,  1.0039,  0.2066],\n",
              "        ...,\n",
              "        [ 0.0068,  0.0145, -0.3016,  ...,  0.5548, -0.1785,  0.0685],\n",
              "        [ 0.1981, -0.0991, -0.2745,  ...,  0.1796, -0.3175,  0.1357],\n",
              "        [ 0.1318,  0.0111, -0.1804,  ...,  0.1664, -0.2256,  0.3588]],\n",
              "       device='cuda:0')"
            ]
          },
          "metadata": {
            "tags": []
          },
          "execution_count": 21
        }
      ]
    },
    {
      "cell_type": "code",
      "metadata": {
        "id": "U8ovZX23ECX4"
      },
      "source": [
        "import matplotlib.pyplot as plt\n",
        "def plot(train_losses,valid_losses,num_epochs):\n",
        "  epochs = list(range(num_epochs))\n",
        "  plt.plot(epochs,train_losses, label='train')\n",
        "  plt.plot(epochs,valid_losses, label='valid')\n",
        "  plt.legend()\n",
        "  plt.show()\n"
      ],
      "execution_count": null,
      "outputs": []
    },
    {
      "cell_type": "code",
      "metadata": {
        "id": "p455ZPLrpkTS",
        "colab": {
          "base_uri": "https://localhost:8080/"
        },
        "outputId": "e7a893ca-31b1-4dcb-da43-db1a86ef1dfc"
      },
      "source": [
        "\n",
        "feature_1 = vectorized_seqs_1\n",
        "feature_2 = vectorized_seqs_2\n",
        "\n",
        "\n",
        "# 'feature' is a list of lists, each containing embedding IDs for word tokens\n",
        "train_and_dev = Task1Dataset_double(feature_1,feature_2, train_df['meanGrade'])\n",
        "#train_and_dev = Task1Dataset_double(feature_1,feature_2, train_df['variance'])\n",
        "\n",
        "train_examples = round(len(train_and_dev)*train_proportion)\n",
        "dev_examples = len(train_and_dev) - train_examples\n",
        "train_dataset, dev_dataset = random_split(train_and_dev,\n",
        "                                           (train_examples,\n",
        "                                            dev_examples))\n",
        "####Shuffle might need to be true. Check later\n",
        "train_loader = torch.utils.data.DataLoader(train_dataset, shuffle=True, batch_size=BATCH_SIZE, collate_fn=collate_fn_padd)\n",
        "\n",
        "dev_loader = torch.utils.data.DataLoader(dev_dataset, batch_size=BATCH_SIZE, collate_fn=collate_fn_padd)\n",
        "\n",
        "print(\"Dataloaders created.\")\n",
        "\n",
        "loss_fn = nn.MSELoss()\n",
        "loss_fn = loss_fn.to(device)\n",
        "#optimizer = torch.optim.Adam(model.parameters())\n",
        "optimizer = torch.optim.SGD(model.parameters(), lr=0.008, momentum=0.9)\n"
      ],
      "execution_count": null,
      "outputs": [
        {
          "output_type": "stream",
          "text": [
            "Dataloaders created.\n"
          ],
          "name": "stdout"
        }
      ]
    },
    {
      "cell_type": "markdown",
      "metadata": {
        "id": "nftBwyNppl4J"
      },
      "source": [
        "### Predicting the Variance"
      ]
    },
    {
      "cell_type": "code",
      "metadata": {
        "id": "un9wo5TPyN9L",
        "colab": {
          "base_uri": "https://localhost:8080/",
          "height": 733
        },
        "outputId": "ff3e0269-ea1a-4269-87c3-77d0cce9375e"
      },
      "source": [
        "\n",
        "feature_1 = vectorized_seqs_1\n",
        "feature_2 = vectorized_seqs_2\n",
        "\n",
        "\n",
        "# 'feature' is a list of lists, each containing embedding IDs for word tokens\n",
        "#train_and_dev = Task1Dataset_double(feature_1,feature_2, train_df['meanGrade'])\n",
        "train_and_dev = Task1Dataset_double(feature_1,feature_2, train_df['variance'])\n",
        "\n",
        "train_examples = round(len(train_and_dev)*train_proportion)\n",
        "dev_examples = len(train_and_dev) - train_examples\n",
        "train_dataset, dev_dataset = random_split(train_and_dev,\n",
        "                                           (train_examples,\n",
        "                                            dev_examples))\n",
        "####Shuffle might need to be true. Check later\n",
        "train_loader = torch.utils.data.DataLoader(train_dataset, shuffle=True, batch_size=BATCH_SIZE, collate_fn=collate_fn_padd)\n",
        "\n",
        "dev_loader = torch.utils.data.DataLoader(dev_dataset, batch_size=BATCH_SIZE, collate_fn=collate_fn_padd)\n",
        "\n",
        "print(\"Dataloaders created.\")\n",
        "\n",
        "loss_fn = nn.MSELoss()\n",
        "loss_fn = loss_fn.to(device)\n",
        "#optimizer = torch.optim.Adam(model.parameters())\n",
        "optimizer = torch.optim.SGD(model.parameters(), lr=0.001, momentum=0.9)\n",
        "\n",
        "\n",
        "train_losses, valid_losses, preds, targs = train(train_loader, dev_loader, model, epochs)\n",
        "plot(train_losses, valid_losses, len(train_losses))\n",
        "plt.scatter(preds, targs)\n",
        "plt.title(\"Predicting variance\")\n",
        "plt.show()\n"
      ],
      "execution_count": null,
      "outputs": [
        {
          "output_type": "stream",
          "text": [
            "Dataloaders created.\n",
            "Training model.\n",
            "| Epoch: 01 | Train Loss: 0.40 | Train MSE: 0.40 | Train RMSE: 0.63 |         Val. Loss: 0.29 | Val. MSE: 0.29 |  Val. RMSE: 0.54 |\n",
            "| Epoch: 02 | Train Loss: 0.24 | Train MSE: 0.24 | Train RMSE: 0.49 |         Val. Loss: 0.20 | Val. MSE: 0.20 |  Val. RMSE: 0.45 |\n",
            "| Epoch: 03 | Train Loss: 0.20 | Train MSE: 0.20 | Train RMSE: 0.44 |         Val. Loss: 0.18 | Val. MSE: 0.18 |  Val. RMSE: 0.43 |\n",
            "| Epoch: 04 | Train Loss: 0.19 | Train MSE: 0.19 | Train RMSE: 0.43 |         Val. Loss: 0.18 | Val. MSE: 0.18 |  Val. RMSE: 0.43 |\n",
            "| Epoch: 05 | Train Loss: 0.19 | Train MSE: 0.19 | Train RMSE: 0.43 |         Val. Loss: 0.18 | Val. MSE: 0.18 |  Val. RMSE: 0.43 |\n",
            "| Epoch: 06 | Train Loss: 0.19 | Train MSE: 0.19 | Train RMSE: 0.43 |         Val. Loss: 0.18 | Val. MSE: 0.18 |  Val. RMSE: 0.43 |\n",
            "| Epoch: 07 | Train Loss: 0.19 | Train MSE: 0.19 | Train RMSE: 0.43 |         Val. Loss: 0.18 | Val. MSE: 0.18 |  Val. RMSE: 0.43 |\n",
            "| Epoch: 08 | Train Loss: 0.19 | Train MSE: 0.19 | Train RMSE: 0.43 |         Val. Loss: 0.18 | Val. MSE: 0.18 |  Val. RMSE: 0.43 |\n",
            "| Epoch: 09 | Train Loss: 0.19 | Train MSE: 0.19 | Train RMSE: 0.43 |         Val. Loss: 0.18 | Val. MSE: 0.18 |  Val. RMSE: 0.43 |\n",
            "| Epoch: 10 | Train Loss: 0.19 | Train MSE: 0.19 | Train RMSE: 0.43 |         Val. Loss: 0.18 | Val. MSE: 0.18 |  Val. RMSE: 0.43 |\n"
          ],
          "name": "stdout"
        },
        {
          "output_type": "display_data",
          "data": {
            "image/png": "[encoded data removed]",
            "text/plain": [
              "<Figure size 432x288 with 1 Axes>"
            ]
          },
          "metadata": {
            "tags": [],
            "needs_background": "light"
          }
        },
        {
          "output_type": "display_data",
          "data": {
            "image/png": "[encoded data removed]",
            "text/plain": [
              "<Figure size 432x288 with 1 Axes>"
            ]
          },
          "metadata": {
            "tags": [],
            "needs_background": "light"
          }
        }
      ]
    },
    {
      "cell_type": "markdown",
      "metadata": {
        "id": "9eVLmkYwpnrH"
      },
      "source": [
        "### Predicting the mean with all data\n"
      ]
    },
    {
      "cell_type": "code",
      "metadata": {
        "id": "8kWhqnFEpbGe",
        "colab": {
          "base_uri": "https://localhost:8080/",
          "height": 1000
        },
        "outputId": "da193397-31ab-4e09-fa02-ef62da9f9ae1"
      },
      "source": [
        "\n",
        "feature_1 = vectorized_seqs_1\n",
        "feature_2 = vectorized_seqs_2\n",
        "\n",
        "\n",
        "# 'feature' is a list of lists, each containing embedding IDs for word tokens\n",
        "train_and_dev = Task1Dataset_double(feature_1,feature_2, train_df['meanGrade'])\n",
        "#train_and_dev = Task1Dataset_double(feature_1,feature_2, train_df['variance'])\n",
        "\n",
        "train_examples = round(len(train_and_dev)*train_proportion)\n",
        "dev_examples = len(train_and_dev) - train_examples\n",
        "train_dataset, dev_dataset = random_split(train_and_dev,\n",
        "                                           (train_examples,\n",
        "                                            dev_examples))\n",
        "####Shuffle might need to be true. Check later\n",
        "train_loader = torch.utils.data.DataLoader(train_dataset, shuffle=True, batch_size=BATCH_SIZE, collate_fn=collate_fn_padd)\n",
        "\n",
        "dev_loader = torch.utils.data.DataLoader(dev_dataset, batch_size=BATCH_SIZE, collate_fn=collate_fn_padd)\n",
        "\n",
        "print(\"Dataloaders created.\")\n",
        "\n",
        "loss_fn = nn.MSELoss()\n",
        "loss_fn = loss_fn.to(device)\n",
        "#optimizer = torch.optim.Adam(model.parameters())\n",
        "optimizer = torch.optim.SGD(model.parameters(), lr=0.008, momentum=0.8)\n",
        "\n",
        "\n",
        "train_losses, valid_losses, preds, targs, train_rmses, valid_rmses = train(train_loader, dev_loader, model, 80)\n",
        "plt.title(\"Loss for LSTM Model\")\n",
        "plt.xlabel(\"Epochs\")\n",
        "plt.ylabel(\"Loss\")\n",
        "plot(train_rmses, valid_rmses, len(train_rmses))\n",
        "plt.scatter(preds, targs)\n",
        "plt.title(\"Predicting mean\")\n",
        "plt.xlabel(\"Predictions\")\n",
        "plt.ylabel(\"Target Labels\")\n",
        "plt.show()\n"
      ],
      "execution_count": null,
      "outputs": [
        {
          "output_type": "stream",
          "text": [
            "Dataloaders created.\n",
            "Training model.\n",
            "| Epoch: 01 | Train Loss: 0.41 | Train MSE: 0.41 | Train RMSE: 0.64 |         Val. Loss: 0.35 | Val. MSE: 0.35 |  Val. RMSE: 0.59 |\n",
            "| Epoch: 02 | Train Loss: 0.36 | Train MSE: 0.36 | Train RMSE: 0.60 |         Val. Loss: 0.35 | Val. MSE: 0.35 |  Val. RMSE: 0.59 |\n",
            "| Epoch: 03 | Train Loss: 0.36 | Train MSE: 0.36 | Train RMSE: 0.60 |         Val. Loss: 0.35 | Val. MSE: 0.35 |  Val. RMSE: 0.59 |\n",
            "| Epoch: 04 | Train Loss: 0.36 | Train MSE: 0.36 | Train RMSE: 0.60 |         Val. Loss: 0.35 | Val. MSE: 0.35 |  Val. RMSE: 0.59 |\n",
            "| Epoch: 05 | Train Loss: 0.36 | Train MSE: 0.36 | Train RMSE: 0.60 |         Val. Loss: 0.34 | Val. MSE: 0.34 |  Val. RMSE: 0.59 |\n",
            "| Epoch: 06 | Train Loss: 0.35 | Train MSE: 0.35 | Train RMSE: 0.59 |         Val. Loss: 0.34 | Val. MSE: 0.34 |  Val. RMSE: 0.59 |\n",
            "| Epoch: 07 | Train Loss: 0.35 | Train MSE: 0.35 | Train RMSE: 0.59 |         Val. Loss: 0.34 | Val. MSE: 0.34 |  Val. RMSE: 0.59 |\n",
            "| Epoch: 08 | Train Loss: 0.35 | Train MSE: 0.35 | Train RMSE: 0.59 |         Val. Loss: 0.34 | Val. MSE: 0.34 |  Val. RMSE: 0.58 |\n",
            "| Epoch: 09 | Train Loss: 0.35 | Train MSE: 0.35 | Train RMSE: 0.59 |         Val. Loss: 0.34 | Val. MSE: 0.34 |  Val. RMSE: 0.58 |\n",
            "| Epoch: 10 | Train Loss: 0.35 | Train MSE: 0.35 | Train RMSE: 0.59 |         Val. Loss: 0.34 | Val. MSE: 0.34 |  Val. RMSE: 0.58 |\n",
            "| Epoch: 11 | Train Loss: 0.35 | Train MSE: 0.35 | Train RMSE: 0.59 |         Val. Loss: 0.34 | Val. MSE: 0.34 |  Val. RMSE: 0.58 |\n",
            "| Epoch: 12 | Train Loss: 0.35 | Train MSE: 0.35 | Train RMSE: 0.59 |         Val. Loss: 0.34 | Val. MSE: 0.34 |  Val. RMSE: 0.59 |\n",
            "| Epoch: 13 | Train Loss: 0.35 | Train MSE: 0.35 | Train RMSE: 0.59 |         Val. Loss: 0.34 | Val. MSE: 0.34 |  Val. RMSE: 0.58 |\n",
            "| Epoch: 14 | Train Loss: 0.35 | Train MSE: 0.35 | Train RMSE: 0.59 |         Val. Loss: 0.34 | Val. MSE: 0.34 |  Val. RMSE: 0.58 |\n",
            "| Epoch: 15 | Train Loss: 0.35 | Train MSE: 0.35 | Train RMSE: 0.59 |         Val. Loss: 0.34 | Val. MSE: 0.34 |  Val. RMSE: 0.58 |\n",
            "| Epoch: 16 | Train Loss: 0.34 | Train MSE: 0.34 | Train RMSE: 0.59 |         Val. Loss: 0.34 | Val. MSE: 0.34 |  Val. RMSE: 0.58 |\n",
            "| Epoch: 17 | Train Loss: 0.34 | Train MSE: 0.34 | Train RMSE: 0.59 |         Val. Loss: 0.34 | Val. MSE: 0.34 |  Val. RMSE: 0.58 |\n",
            "| Epoch: 18 | Train Loss: 0.34 | Train MSE: 0.34 | Train RMSE: 0.58 |         Val. Loss: 0.34 | Val. MSE: 0.34 |  Val. RMSE: 0.58 |\n",
            "| Epoch: 19 | Train Loss: 0.34 | Train MSE: 0.34 | Train RMSE: 0.59 |         Val. Loss: 0.34 | Val. MSE: 0.34 |  Val. RMSE: 0.58 |\n",
            "| Epoch: 20 | Train Loss: 0.34 | Train MSE: 0.34 | Train RMSE: 0.58 |         Val. Loss: 0.34 | Val. MSE: 0.34 |  Val. RMSE: 0.58 |\n",
            "| Epoch: 21 | Train Loss: 0.34 | Train MSE: 0.34 | Train RMSE: 0.58 |         Val. Loss: 0.34 | Val. MSE: 0.34 |  Val. RMSE: 0.58 |\n",
            "| Epoch: 22 | Train Loss: 0.34 | Train MSE: 0.34 | Train RMSE: 0.58 |         Val. Loss: 0.34 | Val. MSE: 0.34 |  Val. RMSE: 0.58 |\n",
            "| Epoch: 23 | Train Loss: 0.34 | Train MSE: 0.34 | Train RMSE: 0.58 |         Val. Loss: 0.34 | Val. MSE: 0.34 |  Val. RMSE: 0.58 |\n",
            "| Epoch: 24 | Train Loss: 0.34 | Train MSE: 0.34 | Train RMSE: 0.58 |         Val. Loss: 0.34 | Val. MSE: 0.34 |  Val. RMSE: 0.58 |\n",
            "| Epoch: 25 | Train Loss: 0.34 | Train MSE: 0.34 | Train RMSE: 0.58 |         Val. Loss: 0.34 | Val. MSE: 0.34 |  Val. RMSE: 0.58 |\n",
            "| Epoch: 26 | Train Loss: 0.34 | Train MSE: 0.34 | Train RMSE: 0.58 |         Val. Loss: 0.34 | Val. MSE: 0.34 |  Val. RMSE: 0.58 |\n",
            "| Epoch: 27 | Train Loss: 0.34 | Train MSE: 0.34 | Train RMSE: 0.58 |         Val. Loss: 0.34 | Val. MSE: 0.34 |  Val. RMSE: 0.58 |\n",
            "| Epoch: 28 | Train Loss: 0.34 | Train MSE: 0.34 | Train RMSE: 0.58 |         Val. Loss: 0.34 | Val. MSE: 0.34 |  Val. RMSE: 0.58 |\n",
            "| Epoch: 29 | Train Loss: 0.33 | Train MSE: 0.33 | Train RMSE: 0.58 |         Val. Loss: 0.34 | Val. MSE: 0.34 |  Val. RMSE: 0.58 |\n",
            "| Epoch: 30 | Train Loss: 0.34 | Train MSE: 0.34 | Train RMSE: 0.58 |         Val. Loss: 0.34 | Val. MSE: 0.34 |  Val. RMSE: 0.58 |\n",
            "| Epoch: 31 | Train Loss: 0.33 | Train MSE: 0.33 | Train RMSE: 0.58 |         Val. Loss: 0.34 | Val. MSE: 0.34 |  Val. RMSE: 0.58 |\n",
            "| Epoch: 32 | Train Loss: 0.33 | Train MSE: 0.33 | Train RMSE: 0.58 |         Val. Loss: 0.34 | Val. MSE: 0.34 |  Val. RMSE: 0.58 |\n",
            "| Epoch: 33 | Train Loss: 0.33 | Train MSE: 0.33 | Train RMSE: 0.58 |         Val. Loss: 0.34 | Val. MSE: 0.34 |  Val. RMSE: 0.58 |\n",
            "| Epoch: 34 | Train Loss: 0.33 | Train MSE: 0.33 | Train RMSE: 0.57 |         Val. Loss: 0.34 | Val. MSE: 0.34 |  Val. RMSE: 0.58 |\n",
            "| Epoch: 35 | Train Loss: 0.33 | Train MSE: 0.33 | Train RMSE: 0.57 |         Val. Loss: 0.34 | Val. MSE: 0.34 |  Val. RMSE: 0.58 |\n",
            "| Epoch: 36 | Train Loss: 0.33 | Train MSE: 0.33 | Train RMSE: 0.58 |         Val. Loss: 0.34 | Val. MSE: 0.34 |  Val. RMSE: 0.58 |\n",
            "| Epoch: 37 | Train Loss: 0.33 | Train MSE: 0.33 | Train RMSE: 0.57 |         Val. Loss: 0.34 | Val. MSE: 0.34 |  Val. RMSE: 0.58 |\n",
            "| Epoch: 38 | Train Loss: 0.33 | Train MSE: 0.33 | Train RMSE: 0.57 |         Val. Loss: 0.34 | Val. MSE: 0.34 |  Val. RMSE: 0.58 |\n",
            "| Epoch: 39 | Train Loss: 0.33 | Train MSE: 0.33 | Train RMSE: 0.57 |         Val. Loss: 0.34 | Val. MSE: 0.34 |  Val. RMSE: 0.58 |\n",
            "| Epoch: 40 | Train Loss: 0.33 | Train MSE: 0.33 | Train RMSE: 0.57 |         Val. Loss: 0.34 | Val. MSE: 0.34 |  Val. RMSE: 0.58 |\n",
            "| Epoch: 41 | Train Loss: 0.33 | Train MSE: 0.33 | Train RMSE: 0.57 |         Val. Loss: 0.34 | Val. MSE: 0.34 |  Val. RMSE: 0.58 |\n",
            "| Epoch: 42 | Train Loss: 0.32 | Train MSE: 0.32 | Train RMSE: 0.57 |         Val. Loss: 0.34 | Val. MSE: 0.34 |  Val. RMSE: 0.58 |\n",
            "| Epoch: 43 | Train Loss: 0.33 | Train MSE: 0.33 | Train RMSE: 0.57 |         Val. Loss: 0.34 | Val. MSE: 0.34 |  Val. RMSE: 0.58 |\n",
            "| Epoch: 44 | Train Loss: 0.32 | Train MSE: 0.32 | Train RMSE: 0.57 |         Val. Loss: 0.34 | Val. MSE: 0.34 |  Val. RMSE: 0.58 |\n",
            "| Epoch: 45 | Train Loss: 0.32 | Train MSE: 0.32 | Train RMSE: 0.57 |         Val. Loss: 0.34 | Val. MSE: 0.34 |  Val. RMSE: 0.58 |\n",
            "| Epoch: 46 | Train Loss: 0.32 | Train MSE: 0.32 | Train RMSE: 0.57 |         Val. Loss: 0.34 | Val. MSE: 0.34 |  Val. RMSE: 0.58 |\n",
            "| Epoch: 47 | Train Loss: 0.32 | Train MSE: 0.32 | Train RMSE: 0.56 |         Val. Loss: 0.34 | Val. MSE: 0.34 |  Val. RMSE: 0.58 |\n",
            "| Epoch: 48 | Train Loss: 0.32 | Train MSE: 0.32 | Train RMSE: 0.57 |         Val. Loss: 0.34 | Val. MSE: 0.34 |  Val. RMSE: 0.58 |\n",
            "| Epoch: 49 | Train Loss: 0.32 | Train MSE: 0.32 | Train RMSE: 0.56 |         Val. Loss: 0.34 | Val. MSE: 0.34 |  Val. RMSE: 0.58 |\n",
            "| Epoch: 50 | Train Loss: 0.32 | Train MSE: 0.32 | Train RMSE: 0.56 |         Val. Loss: 0.34 | Val. MSE: 0.34 |  Val. RMSE: 0.58 |\n",
            "| Epoch: 51 | Train Loss: 0.32 | Train MSE: 0.32 | Train RMSE: 0.56 |         Val. Loss: 0.34 | Val. MSE: 0.34 |  Val. RMSE: 0.58 |\n",
            "| Epoch: 52 | Train Loss: 0.31 | Train MSE: 0.31 | Train RMSE: 0.56 |         Val. Loss: 0.34 | Val. MSE: 0.34 |  Val. RMSE: 0.58 |\n",
            "| Epoch: 53 | Train Loss: 0.31 | Train MSE: 0.31 | Train RMSE: 0.56 |         Val. Loss: 0.34 | Val. MSE: 0.34 |  Val. RMSE: 0.58 |\n",
            "| Epoch: 54 | Train Loss: 0.31 | Train MSE: 0.31 | Train RMSE: 0.56 |         Val. Loss: 0.34 | Val. MSE: 0.34 |  Val. RMSE: 0.58 |\n",
            "| Epoch: 55 | Train Loss: 0.31 | Train MSE: 0.31 | Train RMSE: 0.56 |         Val. Loss: 0.33 | Val. MSE: 0.33 |  Val. RMSE: 0.58 |\n",
            "| Epoch: 56 | Train Loss: 0.31 | Train MSE: 0.31 | Train RMSE: 0.56 |         Val. Loss: 0.34 | Val. MSE: 0.34 |  Val. RMSE: 0.58 |\n",
            "| Epoch: 57 | Train Loss: 0.31 | Train MSE: 0.31 | Train RMSE: 0.56 |         Val. Loss: 0.33 | Val. MSE: 0.33 |  Val. RMSE: 0.58 |\n",
            "| Epoch: 58 | Train Loss: 0.31 | Train MSE: 0.31 | Train RMSE: 0.56 |         Val. Loss: 0.34 | Val. MSE: 0.34 |  Val. RMSE: 0.58 |\n",
            "| Epoch: 59 | Train Loss: 0.31 | Train MSE: 0.31 | Train RMSE: 0.56 |         Val. Loss: 0.33 | Val. MSE: 0.33 |  Val. RMSE: 0.58 |\n",
            "| Epoch: 60 | Train Loss: 0.31 | Train MSE: 0.31 | Train RMSE: 0.55 |         Val. Loss: 0.34 | Val. MSE: 0.34 |  Val. RMSE: 0.58 |\n",
            "| Epoch: 61 | Train Loss: 0.31 | Train MSE: 0.31 | Train RMSE: 0.55 |         Val. Loss: 0.34 | Val. MSE: 0.34 |  Val. RMSE: 0.58 |\n",
            "| Epoch: 62 | Train Loss: 0.30 | Train MSE: 0.30 | Train RMSE: 0.55 |         Val. Loss: 0.34 | Val. MSE: 0.34 |  Val. RMSE: 0.58 |\n",
            "| Epoch: 63 | Train Loss: 0.30 | Train MSE: 0.30 | Train RMSE: 0.55 |         Val. Loss: 0.33 | Val. MSE: 0.33 |  Val. RMSE: 0.58 |\n",
            "| Epoch: 64 | Train Loss: 0.30 | Train MSE: 0.30 | Train RMSE: 0.55 |         Val. Loss: 0.33 | Val. MSE: 0.33 |  Val. RMSE: 0.58 |\n",
            "| Epoch: 65 | Train Loss: 0.30 | Train MSE: 0.30 | Train RMSE: 0.55 |         Val. Loss: 0.33 | Val. MSE: 0.33 |  Val. RMSE: 0.58 |\n",
            "| Epoch: 66 | Train Loss: 0.30 | Train MSE: 0.30 | Train RMSE: 0.55 |         Val. Loss: 0.34 | Val. MSE: 0.34 |  Val. RMSE: 0.58 |\n",
            "| Epoch: 67 | Train Loss: 0.30 | Train MSE: 0.30 | Train RMSE: 0.55 |         Val. Loss: 0.34 | Val. MSE: 0.34 |  Val. RMSE: 0.58 |\n",
            "| Epoch: 68 | Train Loss: 0.30 | Train MSE: 0.30 | Train RMSE: 0.55 |         Val. Loss: 0.33 | Val. MSE: 0.33 |  Val. RMSE: 0.58 |\n",
            "| Epoch: 69 | Train Loss: 0.30 | Train MSE: 0.30 | Train RMSE: 0.55 |         Val. Loss: 0.34 | Val. MSE: 0.34 |  Val. RMSE: 0.58 |\n",
            "| Epoch: 70 | Train Loss: 0.29 | Train MSE: 0.29 | Train RMSE: 0.54 |         Val. Loss: 0.34 | Val. MSE: 0.34 |  Val. RMSE: 0.58 |\n",
            "| Epoch: 71 | Train Loss: 0.30 | Train MSE: 0.30 | Train RMSE: 0.54 |         Val. Loss: 0.33 | Val. MSE: 0.33 |  Val. RMSE: 0.58 |\n",
            "| Epoch: 72 | Train Loss: 0.29 | Train MSE: 0.29 | Train RMSE: 0.54 |         Val. Loss: 0.34 | Val. MSE: 0.34 |  Val. RMSE: 0.58 |\n",
            "| Epoch: 73 | Train Loss: 0.29 | Train MSE: 0.29 | Train RMSE: 0.54 |         Val. Loss: 0.34 | Val. MSE: 0.34 |  Val. RMSE: 0.58 |\n",
            "| Epoch: 74 | Train Loss: 0.30 | Train MSE: 0.30 | Train RMSE: 0.54 |         Val. Loss: 0.33 | Val. MSE: 0.33 |  Val. RMSE: 0.58 |\n",
            "| Epoch: 75 | Train Loss: 0.29 | Train MSE: 0.29 | Train RMSE: 0.54 |         Val. Loss: 0.33 | Val. MSE: 0.33 |  Val. RMSE: 0.58 |\n",
            "| Epoch: 76 | Train Loss: 0.29 | Train MSE: 0.29 | Train RMSE: 0.54 |         Val. Loss: 0.33 | Val. MSE: 0.33 |  Val. RMSE: 0.58 |\n",
            "| Epoch: 77 | Train Loss: 0.29 | Train MSE: 0.29 | Train RMSE: 0.54 |         Val. Loss: 0.34 | Val. MSE: 0.34 |  Val. RMSE: 0.58 |\n",
            "| Epoch: 78 | Train Loss: 0.29 | Train MSE: 0.29 | Train RMSE: 0.54 |         Val. Loss: 0.33 | Val. MSE: 0.33 |  Val. RMSE: 0.58 |\n",
            "| Epoch: 79 | Train Loss: 0.29 | Train MSE: 0.29 | Train RMSE: 0.54 |         Val. Loss: 0.34 | Val. MSE: 0.34 |  Val. RMSE: 0.58 |\n",
            "| Epoch: 80 | Train Loss: 0.29 | Train MSE: 0.29 | Train RMSE: 0.53 |         Val. Loss: 0.34 | Val. MSE: 0.34 |  Val. RMSE: 0.58 |\n",
            "| Epoch: 81 | Train Loss: 0.29 | Train MSE: 0.29 | Train RMSE: 0.53 |         Val. Loss: 0.34 | Val. MSE: 0.34 |  Val. RMSE: 0.58 |\n",
            "| Epoch: 82 | Train Loss: 0.28 | Train MSE: 0.28 | Train RMSE: 0.53 |         Val. Loss: 0.34 | Val. MSE: 0.34 |  Val. RMSE: 0.58 |\n",
            "| Epoch: 83 | Train Loss: 0.28 | Train MSE: 0.28 | Train RMSE: 0.53 |         Val. Loss: 0.34 | Val. MSE: 0.34 |  Val. RMSE: 0.58 |\n",
            "| Epoch: 84 | Train Loss: 0.28 | Train MSE: 0.28 | Train RMSE: 0.53 |         Val. Loss: 0.34 | Val. MSE: 0.34 |  Val. RMSE: 0.58 |\n",
            "| Epoch: 85 | Train Loss: 0.28 | Train MSE: 0.28 | Train RMSE: 0.53 |         Val. Loss: 0.34 | Val. MSE: 0.34 |  Val. RMSE: 0.58 |\n",
            "| Epoch: 86 | Train Loss: 0.28 | Train MSE: 0.28 | Train RMSE: 0.53 |         Val. Loss: 0.34 | Val. MSE: 0.34 |  Val. RMSE: 0.58 |\n",
            "| Epoch: 87 | Train Loss: 0.28 | Train MSE: 0.28 | Train RMSE: 0.53 |         Val. Loss: 0.34 | Val. MSE: 0.34 |  Val. RMSE: 0.58 |\n",
            "| Epoch: 88 | Train Loss: 0.28 | Train MSE: 0.28 | Train RMSE: 0.53 |         Val. Loss: 0.34 | Val. MSE: 0.34 |  Val. RMSE: 0.58 |\n",
            "| Epoch: 89 | Train Loss: 0.28 | Train MSE: 0.28 | Train RMSE: 0.53 |         Val. Loss: 0.34 | Val. MSE: 0.34 |  Val. RMSE: 0.58 |\n",
            "| Epoch: 90 | Train Loss: 0.28 | Train MSE: 0.28 | Train RMSE: 0.52 |         Val. Loss: 0.34 | Val. MSE: 0.34 |  Val. RMSE: 0.58 |\n",
            "| Epoch: 91 | Train Loss: 0.27 | Train MSE: 0.27 | Train RMSE: 0.52 |         Val. Loss: 0.34 | Val. MSE: 0.34 |  Val. RMSE: 0.58 |\n",
            "| Epoch: 92 | Train Loss: 0.27 | Train MSE: 0.27 | Train RMSE: 0.52 |         Val. Loss: 0.34 | Val. MSE: 0.34 |  Val. RMSE: 0.58 |\n",
            "| Epoch: 93 | Train Loss: 0.27 | Train MSE: 0.27 | Train RMSE: 0.52 |         Val. Loss: 0.34 | Val. MSE: 0.34 |  Val. RMSE: 0.58 |\n",
            "| Epoch: 94 | Train Loss: 0.27 | Train MSE: 0.27 | Train RMSE: 0.52 |         Val. Loss: 0.34 | Val. MSE: 0.34 |  Val. RMSE: 0.58 |\n",
            "| Epoch: 95 | Train Loss: 0.27 | Train MSE: 0.27 | Train RMSE: 0.52 |         Val. Loss: 0.34 | Val. MSE: 0.34 |  Val. RMSE: 0.58 |\n",
            "| Epoch: 96 | Train Loss: 0.27 | Train MSE: 0.27 | Train RMSE: 0.52 |         Val. Loss: 0.34 | Val. MSE: 0.34 |  Val. RMSE: 0.58 |\n",
            "| Epoch: 97 | Train Loss: 0.27 | Train MSE: 0.27 | Train RMSE: 0.52 |         Val. Loss: 0.34 | Val. MSE: 0.34 |  Val. RMSE: 0.58 |\n",
            "| Epoch: 98 | Train Loss: 0.27 | Train MSE: 0.27 | Train RMSE: 0.52 |         Val. Loss: 0.34 | Val. MSE: 0.34 |  Val. RMSE: 0.58 |\n",
            "| Epoch: 99 | Train Loss: 0.27 | Train MSE: 0.27 | Train RMSE: 0.52 |         Val. Loss: 0.34 | Val. MSE: 0.34 |  Val. RMSE: 0.58 |\n",
            "| Epoch: 100 | Train Loss: 0.27 | Train MSE: 0.27 | Train RMSE: 0.51 |         Val. Loss: 0.34 | Val. MSE: 0.34 |  Val. RMSE: 0.58 |\n",
            "| Epoch: 101 | Train Loss: 0.27 | Train MSE: 0.27 | Train RMSE: 0.51 |         Val. Loss: 0.34 | Val. MSE: 0.34 |  Val. RMSE: 0.58 |\n",
            "| Epoch: 102 | Train Loss: 0.26 | Train MSE: 0.26 | Train RMSE: 0.51 |         Val. Loss: 0.34 | Val. MSE: 0.34 |  Val. RMSE: 0.58 |\n",
            "| Epoch: 103 | Train Loss: 0.26 | Train MSE: 0.26 | Train RMSE: 0.51 |         Val. Loss: 0.34 | Val. MSE: 0.34 |  Val. RMSE: 0.58 |\n",
            "| Epoch: 104 | Train Loss: 0.26 | Train MSE: 0.26 | Train RMSE: 0.51 |         Val. Loss: 0.34 | Val. MSE: 0.34 |  Val. RMSE: 0.58 |\n",
            "| Epoch: 105 | Train Loss: 0.26 | Train MSE: 0.26 | Train RMSE: 0.51 |         Val. Loss: 0.34 | Val. MSE: 0.34 |  Val. RMSE: 0.59 |\n",
            "| Epoch: 106 | Train Loss: 0.26 | Train MSE: 0.26 | Train RMSE: 0.51 |         Val. Loss: 0.34 | Val. MSE: 0.34 |  Val. RMSE: 0.58 |\n",
            "| Epoch: 107 | Train Loss: 0.26 | Train MSE: 0.26 | Train RMSE: 0.51 |         Val. Loss: 0.34 | Val. MSE: 0.34 |  Val. RMSE: 0.58 |\n",
            "| Epoch: 108 | Train Loss: 0.26 | Train MSE: 0.26 | Train RMSE: 0.51 |         Val. Loss: 0.34 | Val. MSE: 0.34 |  Val. RMSE: 0.58 |\n",
            "| Epoch: 109 | Train Loss: 0.26 | Train MSE: 0.26 | Train RMSE: 0.51 |         Val. Loss: 0.34 | Val. MSE: 0.34 |  Val. RMSE: 0.58 |\n",
            "| Epoch: 110 | Train Loss: 0.26 | Train MSE: 0.26 | Train RMSE: 0.51 |         Val. Loss: 0.34 | Val. MSE: 0.34 |  Val. RMSE: 0.58 |\n",
            "| Epoch: 111 | Train Loss: 0.25 | Train MSE: 0.25 | Train RMSE: 0.50 |         Val. Loss: 0.34 | Val. MSE: 0.34 |  Val. RMSE: 0.58 |\n",
            "| Epoch: 112 | Train Loss: 0.25 | Train MSE: 0.25 | Train RMSE: 0.50 |         Val. Loss: 0.34 | Val. MSE: 0.34 |  Val. RMSE: 0.58 |\n",
            "| Epoch: 113 | Train Loss: 0.25 | Train MSE: 0.25 | Train RMSE: 0.50 |         Val. Loss: 0.34 | Val. MSE: 0.34 |  Val. RMSE: 0.58 |\n",
            "| Epoch: 114 | Train Loss: 0.25 | Train MSE: 0.25 | Train RMSE: 0.50 |         Val. Loss: 0.34 | Val. MSE: 0.34 |  Val. RMSE: 0.58 |\n",
            "| Epoch: 115 | Train Loss: 0.25 | Train MSE: 0.25 | Train RMSE: 0.50 |         Val. Loss: 0.34 | Val. MSE: 0.34 |  Val. RMSE: 0.58 |\n",
            "| Epoch: 116 | Train Loss: 0.25 | Train MSE: 0.25 | Train RMSE: 0.50 |         Val. Loss: 0.34 | Val. MSE: 0.34 |  Val. RMSE: 0.58 |\n",
            "| Epoch: 117 | Train Loss: 0.25 | Train MSE: 0.25 | Train RMSE: 0.50 |         Val. Loss: 0.34 | Val. MSE: 0.34 |  Val. RMSE: 0.58 |\n",
            "| Epoch: 118 | Train Loss: 0.25 | Train MSE: 0.25 | Train RMSE: 0.50 |         Val. Loss: 0.34 | Val. MSE: 0.34 |  Val. RMSE: 0.58 |\n",
            "| Epoch: 119 | Train Loss: 0.25 | Train MSE: 0.25 | Train RMSE: 0.50 |         Val. Loss: 0.34 | Val. MSE: 0.34 |  Val. RMSE: 0.58 |\n",
            "| Epoch: 120 | Train Loss: 0.25 | Train MSE: 0.25 | Train RMSE: 0.50 |         Val. Loss: 0.34 | Val. MSE: 0.34 |  Val. RMSE: 0.59 |\n",
            "| Epoch: 121 | Train Loss: 0.25 | Train MSE: 0.25 | Train RMSE: 0.50 |         Val. Loss: 0.34 | Val. MSE: 0.34 |  Val. RMSE: 0.58 |\n",
            "| Epoch: 122 | Train Loss: 0.25 | Train MSE: 0.25 | Train RMSE: 0.50 |         Val. Loss: 0.34 | Val. MSE: 0.34 |  Val. RMSE: 0.58 |\n",
            "| Epoch: 123 | Train Loss: 0.24 | Train MSE: 0.24 | Train RMSE: 0.49 |         Val. Loss: 0.34 | Val. MSE: 0.34 |  Val. RMSE: 0.58 |\n",
            "| Epoch: 124 | Train Loss: 0.24 | Train MSE: 0.24 | Train RMSE: 0.49 |         Val. Loss: 0.34 | Val. MSE: 0.34 |  Val. RMSE: 0.58 |\n",
            "| Epoch: 125 | Train Loss: 0.24 | Train MSE: 0.24 | Train RMSE: 0.49 |         Val. Loss: 0.34 | Val. MSE: 0.34 |  Val. RMSE: 0.58 |\n",
            "| Epoch: 126 | Train Loss: 0.24 | Train MSE: 0.24 | Train RMSE: 0.49 |         Val. Loss: 0.34 | Val. MSE: 0.34 |  Val. RMSE: 0.59 |\n",
            "| Epoch: 127 | Train Loss: 0.24 | Train MSE: 0.24 | Train RMSE: 0.49 |         Val. Loss: 0.34 | Val. MSE: 0.34 |  Val. RMSE: 0.59 |\n",
            "| Epoch: 128 | Train Loss: 0.24 | Train MSE: 0.24 | Train RMSE: 0.49 |         Val. Loss: 0.34 | Val. MSE: 0.34 |  Val. RMSE: 0.58 |\n",
            "| Epoch: 129 | Train Loss: 0.24 | Train MSE: 0.24 | Train RMSE: 0.49 |         Val. Loss: 0.34 | Val. MSE: 0.34 |  Val. RMSE: 0.59 |\n",
            "| Epoch: 130 | Train Loss: 0.24 | Train MSE: 0.24 | Train RMSE: 0.49 |         Val. Loss: 0.34 | Val. MSE: 0.34 |  Val. RMSE: 0.58 |\n",
            "| Epoch: 131 | Train Loss: 0.24 | Train MSE: 0.24 | Train RMSE: 0.49 |         Val. Loss: 0.35 | Val. MSE: 0.35 |  Val. RMSE: 0.59 |\n",
            "| Epoch: 132 | Train Loss: 0.24 | Train MSE: 0.24 | Train RMSE: 0.49 |         Val. Loss: 0.34 | Val. MSE: 0.34 |  Val. RMSE: 0.58 |\n",
            "| Epoch: 133 | Train Loss: 0.23 | Train MSE: 0.23 | Train RMSE: 0.48 |         Val. Loss: 0.34 | Val. MSE: 0.34 |  Val. RMSE: 0.58 |\n",
            "| Epoch: 134 | Train Loss: 0.23 | Train MSE: 0.23 | Train RMSE: 0.48 |         Val. Loss: 0.34 | Val. MSE: 0.34 |  Val. RMSE: 0.59 |\n",
            "| Epoch: 135 | Train Loss: 0.24 | Train MSE: 0.24 | Train RMSE: 0.49 |         Val. Loss: 0.34 | Val. MSE: 0.34 |  Val. RMSE: 0.59 |\n",
            "| Epoch: 136 | Train Loss: 0.23 | Train MSE: 0.23 | Train RMSE: 0.48 |         Val. Loss: 0.34 | Val. MSE: 0.34 |  Val. RMSE: 0.58 |\n",
            "| Epoch: 137 | Train Loss: 0.23 | Train MSE: 0.23 | Train RMSE: 0.48 |         Val. Loss: 0.34 | Val. MSE: 0.34 |  Val. RMSE: 0.59 |\n",
            "| Epoch: 138 | Train Loss: 0.23 | Train MSE: 0.23 | Train RMSE: 0.48 |         Val. Loss: 0.34 | Val. MSE: 0.34 |  Val. RMSE: 0.59 |\n",
            "| Epoch: 139 | Train Loss: 0.23 | Train MSE: 0.23 | Train RMSE: 0.48 |         Val. Loss: 0.34 | Val. MSE: 0.34 |  Val. RMSE: 0.58 |\n",
            "| Epoch: 140 | Train Loss: 0.23 | Train MSE: 0.23 | Train RMSE: 0.48 |         Val. Loss: 0.35 | Val. MSE: 0.35 |  Val. RMSE: 0.59 |\n",
            "| Epoch: 141 | Train Loss: 0.23 | Train MSE: 0.23 | Train RMSE: 0.48 |         Val. Loss: 0.34 | Val. MSE: 0.34 |  Val. RMSE: 0.59 |\n",
            "| Epoch: 142 | Train Loss: 0.23 | Train MSE: 0.23 | Train RMSE: 0.48 |         Val. Loss: 0.34 | Val. MSE: 0.34 |  Val. RMSE: 0.59 |\n",
            "| Epoch: 143 | Train Loss: 0.23 | Train MSE: 0.23 | Train RMSE: 0.48 |         Val. Loss: 0.34 | Val. MSE: 0.34 |  Val. RMSE: 0.59 |\n",
            "| Epoch: 144 | Train Loss: 0.23 | Train MSE: 0.23 | Train RMSE: 0.48 |         Val. Loss: 0.34 | Val. MSE: 0.34 |  Val. RMSE: 0.58 |\n",
            "| Epoch: 145 | Train Loss: 0.23 | Train MSE: 0.23 | Train RMSE: 0.48 |         Val. Loss: 0.34 | Val. MSE: 0.34 |  Val. RMSE: 0.58 |\n",
            "| Epoch: 146 | Train Loss: 0.23 | Train MSE: 0.23 | Train RMSE: 0.48 |         Val. Loss: 0.34 | Val. MSE: 0.34 |  Val. RMSE: 0.58 |\n",
            "| Epoch: 147 | Train Loss: 0.23 | Train MSE: 0.23 | Train RMSE: 0.47 |         Val. Loss: 0.35 | Val. MSE: 0.35 |  Val. RMSE: 0.59 |\n",
            "| Epoch: 148 | Train Loss: 0.22 | Train MSE: 0.22 | Train RMSE: 0.47 |         Val. Loss: 0.35 | Val. MSE: 0.35 |  Val. RMSE: 0.59 |\n",
            "| Epoch: 149 | Train Loss: 0.22 | Train MSE: 0.22 | Train RMSE: 0.47 |         Val. Loss: 0.34 | Val. MSE: 0.34 |  Val. RMSE: 0.59 |\n",
            "| Epoch: 150 | Train Loss: 0.22 | Train MSE: 0.22 | Train RMSE: 0.47 |         Val. Loss: 0.35 | Val. MSE: 0.35 |  Val. RMSE: 0.59 |\n"
          ],
          "name": "stdout"
        },
        {
          "output_type": "display_data",
          "data": {
            "image/png": "[encoded data removed]",
            "text/plain": [
              "<Figure size 432x288 with 1 Axes>"
            ]
          },
          "metadata": {
            "tags": [],
            "needs_background": "light"
          }
        },
        {
          "output_type": "display_data",
          "data": {
            "image/png": "[encoded data removed]",
            "text/plain": [
              "<Figure size 432x288 with 1 Axes>"
            ]
          },
          "metadata": {
            "tags": [],
            "needs_background": "light"
          }
        }
      ]
    },
    {
      "cell_type": "code",
      "metadata": {
        "colab": {
          "base_uri": "https://localhost:8080/",
          "height": 294
        },
        "id": "YyBvofgTsCm6",
        "outputId": "8dfcb65a-687a-4f21-abb8-0d4bf5d0a5d6"
      },
      "source": [
        "plt.scatter(preds, targs)\n",
        "mean = np.mean(train_df[\"meanGrade\"].tolist())\n",
        "plt.title(\"Target vs. Predictions\")\n",
        "plt.vlines(mean, ymin = 0, ymax = 3, label=\"Mean\", color = \"green\")\n",
        "plt.legend()\n",
        "plt.xlabel(\"Predictions\")\n",
        "plt.ylabel(\"Target Labels\")\n",
        "plt.show()\n"
      ],
      "execution_count": null,
      "outputs": [
        {
          "output_type": "display_data",
          "data": {
            "image/png": "[encoded data removed]",
            "text/plain": [
              "<Figure size 432x288 with 1 Axes>"
            ]
          },
          "metadata": {
            "tags": [],
            "needs_background": "light"
          }
        }
      ]
    },
    {
      "cell_type": "markdown",
      "metadata": {
        "id": "8hE_a2aiypgx"
      },
      "source": [
        "### Predicting the mean with high variance data"
      ]
    },
    {
      "cell_type": "code",
      "metadata": {
        "id": "Qa9G6Ptz6il8",
        "colab": {
          "base_uri": "https://localhost:8080/",
          "height": 419
        },
        "outputId": "0ad8b86f-29b4-43c7-a493-c35f14dfe6bf"
      },
      "source": [
        "train_df"
      ],
      "execution_count": null,
      "outputs": [
        {
          "output_type": "execute_result",
          "data": {
            "text/html": [
              "<div>\n",
              "<style scoped>\n",
              "    .dataframe tbody tr th:only-of-type {\n",
              "        vertical-align: middle;\n",
              "    }\n",
              "\n",
              "    .dataframe tbody tr th {\n",
              "        vertical-align: top;\n",
              "    }\n",
              "\n",
              "    .dataframe thead th {\n",
              "        text-align: right;\n",
              "    }\n",
              "</style>\n",
              "<table border=\"1\" class=\"dataframe\">\n",
              "  <thead>\n",
              "    <tr style=\"text-align: right;\">\n",
              "      <th></th>\n",
              "      <th>id</th>\n",
              "      <th>original</th>\n",
              "      <th>edit</th>\n",
              "      <th>grades</th>\n",
              "      <th>meanGrade</th>\n",
              "      <th>old</th>\n",
              "      <th>edited</th>\n",
              "      <th>variance</th>\n",
              "    </tr>\n",
              "  </thead>\n",
              "  <tbody>\n",
              "    <tr>\n",
              "      <th>0</th>\n",
              "      <td>14530</td>\n",
              "      <td>France is ‘ hunting down its citizens who join...</td>\n",
              "      <td>twins</td>\n",
              "      <td>10000</td>\n",
              "      <td>0.2</td>\n",
              "      <td>Isis</td>\n",
              "      <td>France is ‘ hunting down its citizens who join...</td>\n",
              "      <td>0.16</td>\n",
              "    </tr>\n",
              "    <tr>\n",
              "      <th>1</th>\n",
              "      <td>13034</td>\n",
              "      <td>Pentagon claims 2,000 % increase in Russian tr...</td>\n",
              "      <td>bowling</td>\n",
              "      <td>33110</td>\n",
              "      <td>1.6</td>\n",
              "      <td>Syria</td>\n",
              "      <td>Pentagon claims 2,000 % increase in Russian tr...</td>\n",
              "      <td>1.44</td>\n",
              "    </tr>\n",
              "    <tr>\n",
              "      <th>2</th>\n",
              "      <td>8731</td>\n",
              "      <td>Iceland PM Calls Snap Vote as Pedophile Furor ...</td>\n",
              "      <td>party</td>\n",
              "      <td>22100</td>\n",
              "      <td>1.0</td>\n",
              "      <td>Coalition</td>\n",
              "      <td>Iceland PM Calls Snap Vote as Pedophile Furor ...</td>\n",
              "      <td>0.80</td>\n",
              "    </tr>\n",
              "    <tr>\n",
              "      <th>3</th>\n",
              "      <td>76</td>\n",
              "      <td>In an apparent first , Iran and Israel engage ...</td>\n",
              "      <td>slap</td>\n",
              "      <td>20000</td>\n",
              "      <td>0.4</td>\n",
              "      <td>engage</td>\n",
              "      <td>In an apparent first , Iran and Israel slap ea...</td>\n",
              "      <td>0.64</td>\n",
              "    </tr>\n",
              "    <tr>\n",
              "      <th>4</th>\n",
              "      <td>8832</td>\n",
              "      <td>All 22 promises Trump made in his speech to Co...</td>\n",
              "      <td>sounds</td>\n",
              "      <td>22200</td>\n",
              "      <td>1.2</td>\n",
              "      <td>promises</td>\n",
              "      <td>All 22 sounds Trump made in his speech to Cong...</td>\n",
              "      <td>0.96</td>\n",
              "    </tr>\n",
              "    <tr>\n",
              "      <th>...</th>\n",
              "      <td>...</td>\n",
              "      <td>...</td>\n",
              "      <td>...</td>\n",
              "      <td>...</td>\n",
              "      <td>...</td>\n",
              "      <td>...</td>\n",
              "      <td>...</td>\n",
              "      <td>...</td>\n",
              "    </tr>\n",
              "    <tr>\n",
              "      <th>9124</th>\n",
              "      <td>12770</td>\n",
              "      <td>Among Republicans , Trump is more popular than...</td>\n",
              "      <td>interns</td>\n",
              "      <td>21100</td>\n",
              "      <td>0.8</td>\n",
              "      <td>leaders</td>\n",
              "      <td>Among Republicans , Trump is more popular than...</td>\n",
              "      <td>0.56</td>\n",
              "    </tr>\n",
              "    <tr>\n",
              "      <th>9125</th>\n",
              "      <td>1781</td>\n",
              "      <td>Protesters Rally for Refugees Detained at JFK ...</td>\n",
              "      <td>stewardesses</td>\n",
              "      <td>20000</td>\n",
              "      <td>0.4</td>\n",
              "      <td>Refugees</td>\n",
              "      <td>Protesters Rally for stewardesses Detained at ...</td>\n",
              "      <td>0.64</td>\n",
              "    </tr>\n",
              "    <tr>\n",
              "      <th>9126</th>\n",
              "      <td>5628</td>\n",
              "      <td>Cruise line Carnival Corp. joins the fight aga...</td>\n",
              "      <td>raisin</td>\n",
              "      <td>21000</td>\n",
              "      <td>0.6</td>\n",
              "      <td>marriage</td>\n",
              "      <td>Cruise line Carnival Corp. joins the fight aga...</td>\n",
              "      <td>0.64</td>\n",
              "    </tr>\n",
              "    <tr>\n",
              "      <th>9127</th>\n",
              "      <td>14483</td>\n",
              "      <td>Columbia police hunt woman seen with gun near ...</td>\n",
              "      <td>cake</td>\n",
              "      <td>32200</td>\n",
              "      <td>1.4</td>\n",
              "      <td>gun</td>\n",
              "      <td>Columbia police hunt woman seen with cake near...</td>\n",
              "      <td>1.44</td>\n",
              "    </tr>\n",
              "    <tr>\n",
              "      <th>9128</th>\n",
              "      <td>5255</td>\n",
              "      <td>Here 's What 's In The House-Approved Health C...</td>\n",
              "      <td>food</td>\n",
              "      <td>11000</td>\n",
              "      <td>0.4</td>\n",
              "      <td>Care</td>\n",
              "      <td>Here 's What 's In The House-Approved Health f...</td>\n",
              "      <td>0.24</td>\n",
              "    </tr>\n",
              "  </tbody>\n",
              "</table>\n",
              "<p>9129 rows × 8 columns</p>\n",
              "</div>"
            ],
            "text/plain": [
              "         id  ... variance\n",
              "0     14530  ...     0.16\n",
              "1     13034  ...     1.44\n",
              "2      8731  ...     0.80\n",
              "3        76  ...     0.64\n",
              "4      8832  ...     0.96\n",
              "...     ...  ...      ...\n",
              "9124  12770  ...     0.56\n",
              "9125   1781  ...     0.64\n",
              "9126   5628  ...     0.64\n",
              "9127  14483  ...     1.44\n",
              "9128   5255  ...     0.24\n",
              "\n",
              "[9129 rows x 8 columns]"
            ]
          },
          "metadata": {
            "tags": []
          },
          "execution_count": 316
        }
      ]
    },
    {
      "cell_type": "code",
      "metadata": {
        "id": "KydvnvNrz-OO"
      },
      "source": [
        "indexNames = train_df[(train_df['variance'] < 0.3)].index\n",
        "# Delete these row indexes from dataFrame\n",
        "high_v_train = train_df.drop(indexNames, inplace=False)\n",
        "high_v_train = high_v_train.reset_index(inplace=False,drop=True)"
      ],
      "execution_count": null,
      "outputs": []
    },
    {
      "cell_type": "code",
      "metadata": {
        "id": "ZGZvaWqz2GO3",
        "colab": {
          "base_uri": "https://localhost:8080/",
          "height": 419
        },
        "outputId": "321e68dc-eab7-407f-fede-52e19b672d1f"
      },
      "source": [
        "high_v_train"
      ],
      "execution_count": null,
      "outputs": [
        {
          "output_type": "execute_result",
          "data": {
            "text/html": [
              "<div>\n",
              "<style scoped>\n",
              "    .dataframe tbody tr th:only-of-type {\n",
              "        vertical-align: middle;\n",
              "    }\n",
              "\n",
              "    .dataframe tbody tr th {\n",
              "        vertical-align: top;\n",
              "    }\n",
              "\n",
              "    .dataframe thead th {\n",
              "        text-align: right;\n",
              "    }\n",
              "</style>\n",
              "<table border=\"1\" class=\"dataframe\">\n",
              "  <thead>\n",
              "    <tr style=\"text-align: right;\">\n",
              "      <th></th>\n",
              "      <th>id</th>\n",
              "      <th>original</th>\n",
              "      <th>edit</th>\n",
              "      <th>grades</th>\n",
              "      <th>meanGrade</th>\n",
              "      <th>old</th>\n",
              "      <th>edited</th>\n",
              "      <th>variance</th>\n",
              "    </tr>\n",
              "  </thead>\n",
              "  <tbody>\n",
              "    <tr>\n",
              "      <th>0</th>\n",
              "      <td>13034</td>\n",
              "      <td>Pentagon claims 2,000 % increase in Russian tr...</td>\n",
              "      <td>bowling</td>\n",
              "      <td>33110</td>\n",
              "      <td>1.6</td>\n",
              "      <td>Syria</td>\n",
              "      <td>Pentagon claims 2,000 % increase in Russian tr...</td>\n",
              "      <td>1.44</td>\n",
              "    </tr>\n",
              "    <tr>\n",
              "      <th>1</th>\n",
              "      <td>8731</td>\n",
              "      <td>Iceland PM Calls Snap Vote as Pedophile Furor ...</td>\n",
              "      <td>party</td>\n",
              "      <td>22100</td>\n",
              "      <td>1.0</td>\n",
              "      <td>Coalition</td>\n",
              "      <td>Iceland PM Calls Snap Vote as Pedophile Furor ...</td>\n",
              "      <td>0.80</td>\n",
              "    </tr>\n",
              "    <tr>\n",
              "      <th>2</th>\n",
              "      <td>76</td>\n",
              "      <td>In an apparent first , Iran and Israel engage ...</td>\n",
              "      <td>slap</td>\n",
              "      <td>20000</td>\n",
              "      <td>0.4</td>\n",
              "      <td>engage</td>\n",
              "      <td>In an apparent first , Iran and Israel slap ea...</td>\n",
              "      <td>0.64</td>\n",
              "    </tr>\n",
              "    <tr>\n",
              "      <th>3</th>\n",
              "      <td>8832</td>\n",
              "      <td>All 22 promises Trump made in his speech to Co...</td>\n",
              "      <td>sounds</td>\n",
              "      <td>22200</td>\n",
              "      <td>1.2</td>\n",
              "      <td>promises</td>\n",
              "      <td>All 22 sounds Trump made in his speech to Cong...</td>\n",
              "      <td>0.96</td>\n",
              "    </tr>\n",
              "    <tr>\n",
              "      <th>4</th>\n",
              "      <td>12174</td>\n",
              "      <td>New DOJ alert system will flag crimes against ...</td>\n",
              "      <td>laughter</td>\n",
              "      <td>32100</td>\n",
              "      <td>1.2</td>\n",
              "      <td>crimes</td>\n",
              "      <td>New DOJ alert system will flag laughter agains...</td>\n",
              "      <td>1.36</td>\n",
              "    </tr>\n",
              "    <tr>\n",
              "      <th>...</th>\n",
              "      <td>...</td>\n",
              "      <td>...</td>\n",
              "      <td>...</td>\n",
              "      <td>...</td>\n",
              "      <td>...</td>\n",
              "      <td>...</td>\n",
              "      <td>...</td>\n",
              "      <td>...</td>\n",
              "    </tr>\n",
              "    <tr>\n",
              "      <th>6297</th>\n",
              "      <td>7544</td>\n",
              "      <td>This Is What Happens When You Let Trump Be Trump</td>\n",
              "      <td>orange</td>\n",
              "      <td>33211</td>\n",
              "      <td>2.0</td>\n",
              "      <td>Trump</td>\n",
              "      <td>This Is What Happens When You Let Trump Be ora...</td>\n",
              "      <td>0.80</td>\n",
              "    </tr>\n",
              "    <tr>\n",
              "      <th>6298</th>\n",
              "      <td>12770</td>\n",
              "      <td>Among Republicans , Trump is more popular than...</td>\n",
              "      <td>interns</td>\n",
              "      <td>21100</td>\n",
              "      <td>0.8</td>\n",
              "      <td>leaders</td>\n",
              "      <td>Among Republicans , Trump is more popular than...</td>\n",
              "      <td>0.56</td>\n",
              "    </tr>\n",
              "    <tr>\n",
              "      <th>6299</th>\n",
              "      <td>1781</td>\n",
              "      <td>Protesters Rally for Refugees Detained at JFK ...</td>\n",
              "      <td>stewardesses</td>\n",
              "      <td>20000</td>\n",
              "      <td>0.4</td>\n",
              "      <td>Refugees</td>\n",
              "      <td>Protesters Rally for stewardesses Detained at ...</td>\n",
              "      <td>0.64</td>\n",
              "    </tr>\n",
              "    <tr>\n",
              "      <th>6300</th>\n",
              "      <td>5628</td>\n",
              "      <td>Cruise line Carnival Corp. joins the fight aga...</td>\n",
              "      <td>raisin</td>\n",
              "      <td>21000</td>\n",
              "      <td>0.6</td>\n",
              "      <td>marriage</td>\n",
              "      <td>Cruise line Carnival Corp. joins the fight aga...</td>\n",
              "      <td>0.64</td>\n",
              "    </tr>\n",
              "    <tr>\n",
              "      <th>6301</th>\n",
              "      <td>14483</td>\n",
              "      <td>Columbia police hunt woman seen with gun near ...</td>\n",
              "      <td>cake</td>\n",
              "      <td>32200</td>\n",
              "      <td>1.4</td>\n",
              "      <td>gun</td>\n",
              "      <td>Columbia police hunt woman seen with cake near...</td>\n",
              "      <td>1.44</td>\n",
              "    </tr>\n",
              "  </tbody>\n",
              "</table>\n",
              "<p>6302 rows × 8 columns</p>\n",
              "</div>"
            ],
            "text/plain": [
              "         id  ... variance\n",
              "0     13034  ...     1.44\n",
              "1      8731  ...     0.80\n",
              "2        76  ...     0.64\n",
              "3      8832  ...     0.96\n",
              "4     12174  ...     1.36\n",
              "...     ...  ...      ...\n",
              "6297   7544  ...     0.80\n",
              "6298  12770  ...     0.56\n",
              "6299   1781  ...     0.64\n",
              "6300   5628  ...     0.64\n",
              "6301  14483  ...     1.44\n",
              "\n",
              "[6302 rows x 8 columns]"
            ]
          },
          "metadata": {
            "tags": []
          },
          "execution_count": 334
        }
      ]
    },
    {
      "cell_type": "code",
      "metadata": {
        "id": "SXmuYylCyouU",
        "colab": {
          "base_uri": "https://localhost:8080/",
          "height": 733
        },
        "outputId": "0d02d274-af66-4ed5-d349-03cfb2300166"
      },
      "source": [
        "\n",
        "feature_1 = vectorized_seqs_1\n",
        "feature_2 = vectorized_seqs_2\n",
        "\n",
        "\n",
        "# 'feature' is a list of lists, each containing embedding IDs for word tokens\n",
        "train_and_dev = Task1Dataset_double(feature_1,feature_2, high_v_train['meanGrade'])\n",
        "#train_and_dev = Task1Dataset_double(feature_1,feature_2, train_df['variance'])\n",
        "\n",
        "train_examples = round(len(train_and_dev)*train_proportion)\n",
        "dev_examples = len(train_and_dev) - train_examples\n",
        "train_dataset, dev_dataset = random_split(train_and_dev,\n",
        "                                           (train_examples,\n",
        "                                            dev_examples))\n",
        "####Shuffle might need to be true. Check later\n",
        "train_loader = torch.utils.data.DataLoader(train_dataset, shuffle=True, batch_size=BATCH_SIZE, collate_fn=collate_fn_padd)\n",
        "\n",
        "dev_loader = torch.utils.data.DataLoader(dev_dataset, batch_size=BATCH_SIZE, collate_fn=collate_fn_padd)\n",
        "\n",
        "print(\"Dataloaders created.\")\n",
        "\n",
        "loss_fn = nn.MSELoss()\n",
        "loss_fn = loss_fn.to(device)\n",
        "#optimizer = torch.optim.Adam(model.parameters())\n",
        "optimizer = torch.optim.SGD(model.parameters(), lr=0.001, momentum=0.9)\n",
        "\n",
        "\n",
        "train_losses, valid_losses, preds, targs = train(train_loader, dev_loader, model, epochs)\n",
        "plot(train_losses, valid_losses, len(train_losses))\n",
        "plt.scatter(preds, targs)\n",
        "plt.title(\"Predicting the mean with high variance data\")\n",
        "plt.show()\n"
      ],
      "execution_count": null,
      "outputs": [
        {
          "output_type": "stream",
          "text": [
            "Dataloaders created.\n",
            "Training model.\n",
            "| Epoch: 01 | Train Loss: 1.03 | Train MSE: 1.03 | Train RMSE: 1.01 |         Val. Loss: 0.77 | Val. MSE: 0.77 |  Val. RMSE: 0.88 |\n",
            "| Epoch: 02 | Train Loss: 0.56 | Train MSE: 0.56 | Train RMSE: 0.75 |         Val. Loss: 0.40 | Val. MSE: 0.40 |  Val. RMSE: 0.63 |\n",
            "| Epoch: 03 | Train Loss: 0.32 | Train MSE: 0.32 | Train RMSE: 0.56 |         Val. Loss: 0.26 | Val. MSE: 0.26 |  Val. RMSE: 0.51 |\n",
            "| Epoch: 04 | Train Loss: 0.25 | Train MSE: 0.25 | Train RMSE: 0.50 |         Val. Loss: 0.23 | Val. MSE: 0.23 |  Val. RMSE: 0.48 |\n",
            "| Epoch: 05 | Train Loss: 0.23 | Train MSE: 0.23 | Train RMSE: 0.48 |         Val. Loss: 0.22 | Val. MSE: 0.22 |  Val. RMSE: 0.47 |\n",
            "| Epoch: 06 | Train Loss: 0.23 | Train MSE: 0.23 | Train RMSE: 0.48 |         Val. Loss: 0.22 | Val. MSE: 0.22 |  Val. RMSE: 0.47 |\n",
            "| Epoch: 07 | Train Loss: 0.23 | Train MSE: 0.23 | Train RMSE: 0.48 |         Val. Loss: 0.22 | Val. MSE: 0.22 |  Val. RMSE: 0.47 |\n",
            "| Epoch: 08 | Train Loss: 0.23 | Train MSE: 0.23 | Train RMSE: 0.48 |         Val. Loss: 0.22 | Val. MSE: 0.22 |  Val. RMSE: 0.47 |\n",
            "| Epoch: 09 | Train Loss: 0.23 | Train MSE: 0.23 | Train RMSE: 0.48 |         Val. Loss: 0.22 | Val. MSE: 0.22 |  Val. RMSE: 0.47 |\n",
            "| Epoch: 10 | Train Loss: 0.23 | Train MSE: 0.23 | Train RMSE: 0.48 |         Val. Loss: 0.22 | Val. MSE: 0.22 |  Val. RMSE: 0.47 |\n"
          ],
          "name": "stdout"
        },
        {
          "output_type": "display_data",
          "data": {
            "image/png": "[encoded data removed]",
            "text/plain": [
              "<Figure size 432x288 with 1 Axes>"
            ]
          },
          "metadata": {
            "tags": [],
            "needs_background": "light"
          }
        },
        {
          "output_type": "display_data",
          "data": {
            "image/png": "[encoded data removed]",
            "text/plain": [
              "<Figure size 432x288 with 1 Axes>"
            ]
          },
          "metadata": {
            "tags": [],
            "needs_background": "light"
          }
        }
      ]
    },
    {
      "cell_type": "markdown",
      "metadata": {
        "id": "7RDAIvnG4oXQ"
      },
      "source": [
        "### Predicting the mean with low variance data"
      ]
    },
    {
      "cell_type": "code",
      "metadata": {
        "id": "Ov8Kko604Nyv"
      },
      "source": [
        "indexNames = train_df[(train_df['variance'] > 1)].index\n",
        "# Delete these row indexes from dataFrame\n",
        "low_v_train = train_df.drop(indexNames, inplace=False)\n",
        "low_v_train = low_v_train.reset_index(inplace=False,drop=True)"
      ],
      "execution_count": null,
      "outputs": []
    },
    {
      "cell_type": "code",
      "metadata": {
        "id": "UDFiJ-HZ42aJ",
        "colab": {
          "base_uri": "https://localhost:8080/",
          "height": 733
        },
        "outputId": "b38db250-91e8-4289-9607-f5244d52e28e"
      },
      "source": [
        "\n",
        "feature_1 = vectorized_seqs_1\n",
        "feature_2 = vectorized_seqs_2\n",
        "\n",
        "\n",
        "# 'feature' is a list of lists, each containing embedding IDs for word tokens\n",
        "train_and_dev = Task1Dataset_double(feature_1,feature_2, low_v_train['meanGrade'])\n",
        "#train_and_dev = Task1Dataset_double(feature_1,feature_2, train_df['variance'])\n",
        "\n",
        "train_examples = round(len(train_and_dev)*train_proportion)\n",
        "dev_examples = len(train_and_dev) - train_examples\n",
        "train_dataset, dev_dataset = random_split(train_and_dev,\n",
        "                                           (train_examples,\n",
        "                                            dev_examples))\n",
        "####Shuffle might need to be true. Check later\n",
        "train_loader = torch.utils.data.DataLoader(train_dataset, shuffle=True, batch_size=BATCH_SIZE, collate_fn=collate_fn_padd)\n",
        "\n",
        "dev_loader = torch.utils.data.DataLoader(dev_dataset, batch_size=BATCH_SIZE, collate_fn=collate_fn_padd)\n",
        "\n",
        "print(\"Dataloaders created.\")\n",
        "\n",
        "loss_fn = nn.MSELoss()\n",
        "loss_fn = loss_fn.to(device)\n",
        "#optimizer = torch.optim.Adam(model.parameters())\n",
        "optimizer = torch.optim.SGD(model.parameters(), lr=0.001, momentum=0.9)\n",
        "\n",
        "\n",
        "train_losses, valid_losses, preds, targs = train(train_loader, dev_loader, model, epochs)\n",
        "plot(train_losses, valid_losses, len(train_losses))\n",
        "plt.scatter(preds, targs)\n",
        "plt.title(\"Predicting the mean with high variance data\")\n",
        "plt.show()\n"
      ],
      "execution_count": null,
      "outputs": [
        {
          "output_type": "stream",
          "text": [
            "Dataloaders created.\n",
            "Training model.\n",
            "| Epoch: 01 | Train Loss: 0.99 | Train MSE: 0.99 | Train RMSE: 0.99 |         Val. Loss: 0.46 | Val. MSE: 0.46 |  Val. RMSE: 0.68 |\n",
            "| Epoch: 02 | Train Loss: 0.39 | Train MSE: 0.39 | Train RMSE: 0.63 |         Val. Loss: 0.35 | Val. MSE: 0.35 |  Val. RMSE: 0.60 |\n",
            "| Epoch: 03 | Train Loss: 0.37 | Train MSE: 0.37 | Train RMSE: 0.61 |         Val. Loss: 0.35 | Val. MSE: 0.35 |  Val. RMSE: 0.59 |\n",
            "| Epoch: 04 | Train Loss: 0.36 | Train MSE: 0.36 | Train RMSE: 0.60 |         Val. Loss: 0.35 | Val. MSE: 0.35 |  Val. RMSE: 0.59 |\n",
            "| Epoch: 05 | Train Loss: 0.36 | Train MSE: 0.36 | Train RMSE: 0.60 |         Val. Loss: 0.35 | Val. MSE: 0.35 |  Val. RMSE: 0.59 |\n",
            "| Epoch: 06 | Train Loss: 0.36 | Train MSE: 0.36 | Train RMSE: 0.60 |         Val. Loss: 0.35 | Val. MSE: 0.35 |  Val. RMSE: 0.59 |\n",
            "| Epoch: 07 | Train Loss: 0.36 | Train MSE: 0.36 | Train RMSE: 0.60 |         Val. Loss: 0.35 | Val. MSE: 0.35 |  Val. RMSE: 0.59 |\n",
            "| Epoch: 08 | Train Loss: 0.36 | Train MSE: 0.36 | Train RMSE: 0.60 |         Val. Loss: 0.35 | Val. MSE: 0.35 |  Val. RMSE: 0.59 |\n",
            "| Epoch: 09 | Train Loss: 0.36 | Train MSE: 0.36 | Train RMSE: 0.60 |         Val. Loss: 0.35 | Val. MSE: 0.35 |  Val. RMSE: 0.59 |\n",
            "| Epoch: 10 | Train Loss: 0.36 | Train MSE: 0.36 | Train RMSE: 0.60 |         Val. Loss: 0.35 | Val. MSE: 0.35 |  Val. RMSE: 0.59 |\n"
          ],
          "name": "stdout"
        },
        {
          "output_type": "display_data",
          "data": {
            "image/png": "[encoded data removed]",
            "text/plain": [
              "<Figure size 432x288 with 1 Axes>"
            ]
          },
          "metadata": {
            "tags": [],
            "needs_background": "light"
          }
        },
        {
          "output_type": "display_data",
          "data": {
            "image/png": "[encoded data removed]",
            "text/plain": [
              "<Figure size 432x288 with 1 Axes>"
            ]
          },
          "metadata": {
            "tags": [],
            "needs_background": "light"
          }
        }
      ]
    },
    {
      "cell_type": "code",
      "metadata": {
        "id": "OywV_GIIcEA1"
      },
      "source": [
        "model.eval()\n",
        "predictions_plot = []  \n",
        "target_plot = []\n",
        "\n",
        "with torch.no_grad():\n",
        "    for batch in dev_loader:\n",
        "        feature, target = batch\n",
        "        feature_1= feature[0].to(device)\n",
        "        feature_2 = feature[1].to(device)\n",
        "        target = target.to(device)\n",
        "\n",
        "        feature = (feature_1, feature_2)\n",
        "\n",
        "        # for RNN:\n",
        "        model.batch_size = target.shape[0]\n",
        "        model.hidden_1 = model.init_hidden()\n",
        "        model.hidden_2 = model.init_hidden()\n",
        "\n",
        "        predictions = model(feature).squeeze(1)\n",
        "\n",
        "        predictions_plot.append(predictions.detach().cpu().numpy())\n",
        "        target_plot.append(target.detach().cpu().numpy())\n"
      ],
      "execution_count": null,
      "outputs": []
    },
    {
      "cell_type": "code",
      "metadata": {
        "id": "UiHARYNGcKt-"
      },
      "source": [
        "#plt.scatter(np.flatten(predictions_plot), np.flatten(target_plot))\n",
        "pred = np.concatenate(predictions_plot, axis=0)\n",
        "trg = np.concatenate(target_plot, axis=0)"
      ],
      "execution_count": null,
      "outputs": []
    },
    {
      "cell_type": "code",
      "metadata": {
        "colab": {
          "base_uri": "https://localhost:8080/",
          "height": 181
        },
        "id": "RgYOu6QfcOQf",
        "outputId": "63f10fc9-b3a8-4c07-f5df-17a20c633c86"
      },
      "source": [
        "plt.scatter(pred,trg)\n",
        "plt.axis('equal')"
      ],
      "execution_count": null,
      "outputs": [
        {
          "output_type": "error",
          "ename": "NameError",
          "evalue": "ignored",
          "traceback": [
            "\u001b[0;31m---------------------------------------------------------------------------\u001b[0m",
            "\u001b[0;31mNameError\u001b[0m                                 Traceback (most recent call last)",
            "\u001b[0;32m<ipython-input-34-606f11f757fe>\u001b[0m in \u001b[0;36m<module>\u001b[0;34m()\u001b[0m\n\u001b[0;32m----> 1\u001b[0;31m \u001b[0mplt\u001b[0m\u001b[0;34m.\u001b[0m\u001b[0mscatter\u001b[0m\u001b[0;34m(\u001b[0m\u001b[0mpred\u001b[0m\u001b[0;34m,\u001b[0m\u001b[0mtrg\u001b[0m\u001b[0;34m)\u001b[0m\u001b[0;34m\u001b[0m\u001b[0;34m\u001b[0m\u001b[0m\n\u001b[0m\u001b[1;32m      2\u001b[0m \u001b[0mplt\u001b[0m\u001b[0;34m.\u001b[0m\u001b[0maxis\u001b[0m\u001b[0;34m(\u001b[0m\u001b[0;34m'equal'\u001b[0m\u001b[0;34m)\u001b[0m\u001b[0;34m\u001b[0m\u001b[0;34m\u001b[0m\u001b[0m\n",
            "\u001b[0;31mNameError\u001b[0m: name 'pred' is not defined"
          ]
        }
      ]
    },
    {
      "cell_type": "markdown",
      "metadata": {
        "id": "pGxxkvn14lyt"
      },
      "source": [
        ""
      ]
    },
    {
      "cell_type": "markdown",
      "metadata": {
        "id": "mJHjgo5XEELW"
      },
      "source": [
        "# BERT VERSION"
      ]
    },
    {
      "cell_type": "markdown",
      "metadata": {
        "id": "huUfT43sLAmc"
      },
      "source": [
        "## Bert Preprocessing"
      ]
    },
    {
      "cell_type": "code",
      "metadata": {
        "id": "_WFKfFOHqyPi"
      },
      "source": [
        "def data_to_list(data, training = True):  \n",
        "  og_headline_list = data['original'].tolist()\n",
        "  edited_headline_list = data['edited'].tolist()\n",
        "  edited_word_list = data['edit'].tolist()\n",
        "  labels_list = None\n",
        "  if training:\n",
        "    labels_list = data['meanGrade'].tolist()\n",
        "  \n",
        "\n",
        "  return og_headline_list, edited_headline_list, edited_word_list, labels_list"
      ],
      "execution_count": null,
      "outputs": []
    },
    {
      "cell_type": "code",
      "metadata": {
        "id": "Iwe8nrN0zW0x"
      },
      "source": [
        "train_og_headlines, train_edited_headlines, train_edited_words, labels = data_to_list(train_df)\n",
        "test_og_headlines, test_edited_headlines, test_edited_words, _ = data_to_list(test_df, training=False)"
      ],
      "execution_count": null,
      "outputs": []
    },
    {
      "cell_type": "code",
      "metadata": {
        "id": "LmDdRWrbCs7h"
      },
      "source": [
        ""
      ],
      "execution_count": null,
      "outputs": []
    },
    {
      "cell_type": "code",
      "metadata": {
        "id": "XC7yLY8L0LHr"
      },
      "source": [
        "def preprocessing(data_list):\n",
        "  preprocessed_data = []\n",
        "\n",
        "  for sentence in data_list:\n",
        "\n",
        "    sentence = re.sub(r'[^\\w\\s\\?\\!]', '', sentence)\n",
        "    sentence = sentence.lower()\n",
        "    preprocessed_data.append(sentence)\n",
        "    \n",
        "  return preprocessed_data\n",
        "\n",
        "train_og_headlines_p = preprocessing(train_og_headlines)\n",
        "train_edited_headlines_p = preprocessing(train_edited_headlines)\n",
        "train_edited_words_p = preprocessing(train_edited_words)\n",
        "\n",
        "test_og_headlines_p = preprocessing(test_og_headlines)\n",
        "test_edited_headlines_p = preprocessing(test_edited_headlines)\n",
        "test_edited_words_p = preprocessing(test_edited_words)"
      ],
      "execution_count": null,
      "outputs": []
    },
    {
      "cell_type": "code",
      "metadata": {
        "id": "IUoiGvGvz7te",
        "colab": {
          "base_uri": "https://localhost:8080/",
          "height": 66,
          "referenced_widgets": [
            "1a95fecb1b4a4dbbbd44e36ca9dbc21b",
            "536ea8e2ebf04992a462e752cb717019",
            "d4165e152f654e178152e5c2482449da",
            "55b2a7cca42847689dcbbb28ac2e1e1d",
            "41f43ad36677446aaf7fe5e7001ceac6",
            "8caac8a9f9be411ba7317c819bad2d2e",
            "b998666f69ae4a73b6114fe2f52ab949",
            "ec3735061a944e7da8b6b357b411509b"
          ]
        },
        "outputId": "59eb81f1-9585-405d-ace1-156c52eb41f8"
      },
      "source": [
        "tokenizer = BertTokenizer.from_pretrained('bert-base-uncased', do_lower_case=True)\n",
        "# the version that concatenates original sentences and new sentences\n",
        "train_encoded_inputs = tokenizer(train_og_headlines_p, train_edited_headlines_p, padding='max_length', max_length=90, truncation=True, return_tensors=\"pt\")\n",
        "test_encoded_inputs = tokenizer(test_og_headlines_p, test_edited_headlines_p, padding='max_length', max_length=90, truncation=True, return_tensors=\"pt\")"
      ],
      "execution_count": null,
      "outputs": [
        {
          "output_type": "display_data",
          "data": {
            "application/vnd.jupyter.widget-view+json": {
              "model_id": "1a95fecb1b4a4dbbbd44e36ca9dbc21b",
              "version_minor": 0,
              "version_major": 2
            },
            "text/plain": [
              "HBox(children=(FloatProgress(value=0.0, description='Downloading', max=231508.0, style=ProgressStyle(descripti…"
            ]
          },
          "metadata": {
            "tags": []
          }
        },
        {
          "output_type": "stream",
          "text": [
            "\n"
          ],
          "name": "stdout"
        }
      ]
    },
    {
      "cell_type": "code",
      "metadata": {
        "colab": {
          "base_uri": "https://localhost:8080/",
          "height": 88
        },
        "id": "ebgbzfrm4idz",
        "outputId": "9662182d-572a-4002-e6d5-780b00123e14"
      },
      "source": [
        "train_input_ids = train_encoded_inputs['input_ids']\n",
        "train_attention_mask = train_encoded_inputs['attention_mask']\n",
        "train_token_type_ids = train_encoded_inputs['token_type_ids']\n",
        "train_labels = torch.tensor(labels)\n",
        "\n",
        "train_token_type_ids[0]\n",
        "tokenizer.decode(train_input_ids.tolist()[1])"
      ],
      "execution_count": null,
      "outputs": [
        {
          "output_type": "execute_result",
          "data": {
            "application/vnd.google.colaboratory.intrinsic+json": {
              "type": "string"
            },
            "text/plain": [
              "'[CLS] pentagon claims 2000 increase in russian trolls after syria strikes what does that mean? [SEP] pentagon claims 2000 increase in russian trolls after bowling strikes what does that mean? [SEP] [PAD] [PAD] [PAD] [PAD] [PAD] [PAD] [PAD] [PAD] [PAD] [PAD] [PAD] [PAD] [PAD] [PAD] [PAD] [PAD] [PAD] [PAD] [PAD] [PAD] [PAD] [PAD] [PAD] [PAD] [PAD] [PAD] [PAD] [PAD] [PAD] [PAD] [PAD] [PAD] [PAD] [PAD] [PAD] [PAD] [PAD] [PAD] [PAD] [PAD] [PAD] [PAD] [PAD] [PAD] [PAD] [PAD] [PAD] [PAD] [PAD] [PAD] [PAD] [PAD] [PAD] [PAD] [PAD] [PAD] [PAD]'"
            ]
          },
          "metadata": {
            "tags": []
          },
          "execution_count": 30
        }
      ]
    },
    {
      "cell_type": "markdown",
      "metadata": {
        "id": "y9brja9zLFR4"
      },
      "source": [
        "## Bert Training/Eval\n"
      ]
    },
    {
      "cell_type": "code",
      "metadata": {
        "id": "IeKy-eWjF9BB"
      },
      "source": [
        "#Hyperparameters\n",
        "train_proportion = 0.8\n",
        "batch_size = 16\n",
        "lr = 5e-5\n",
        "eps = 1e-8\n",
        "epochs = 2"
      ],
      "execution_count": null,
      "outputs": []
    },
    {
      "cell_type": "code",
      "metadata": {
        "id": "1l6PAI0t4Fbq"
      },
      "source": [
        "class BERT_Dataset(torch.utils.data.Dataset):\n",
        "    def __init__(self, x1, x2, x3, y1):\n",
        "        self.len = x1.shape[0]\n",
        "\n",
        "        self.x1_data = x1.to(device)\n",
        "        self.x2_data = x2.to(device)\n",
        "        self.x3_data = x3.to(device)\n",
        "        self.y1_data = y1.to(device)\n",
        "\n",
        "\n",
        "    def __getitem__(self, index):\n",
        "        return self.x1_data[index], self.x2_data[index], self.x3_data[index], self.y1_data[index]\n",
        "\n",
        "\n",
        "    def __len__(self):\n",
        "        return self.len"
      ],
      "execution_count": null,
      "outputs": []
    },
    {
      "cell_type": "code",
      "metadata": {
        "id": "cSlXJEGPQlhn"
      },
      "source": [
        "\n",
        "\n",
        "train_and_dev = BERT_Dataset(train_input_ids, train_attention_mask, train_token_type_ids, train_labels)\n",
        "train_examples = round(len(train_and_dev)*train_proportion)\n",
        "dev_examples = len(train_and_dev) - train_examples\n",
        "train_dataset, dev_dataset = random_split(train_and_dev,(train_examples,dev_examples))\n",
        "\n",
        "\n",
        "train_iter = DataLoader(\n",
        "            train_dataset, \n",
        "            sampler = RandomSampler(train_dataset), \n",
        "            batch_size = batch_size\n",
        "        )\n",
        "\n",
        "\n",
        "eval_iter = DataLoader(\n",
        "            dev_dataset, \n",
        "            sampler = SequentialSampler(dev_dataset), # Pull out batches sequentially.\n",
        "            batch_size = batch_size \n",
        "        )"
      ],
      "execution_count": null,
      "outputs": []
    },
    {
      "cell_type": "code",
      "metadata": {
        "colab": {
          "base_uri": "https://localhost:8080/"
        },
        "id": "NvvC0JgPFRyU",
        "outputId": "4f9e4abd-7835-44ec-c290-d4639043809f"
      },
      "source": [
        "model = BertForSequenceClassification.from_pretrained(\n",
        "    'bert-base-uncased', # the 12-layer BERT model, with an uncased vocab.\n",
        "    num_labels = 1,  \n",
        "    output_attentions = False, # don't return attention weights or hidden states\n",
        "    output_hidden_states = False, \n",
        ")\n",
        "model.cuda()\n",
        "#store double values\n",
        "model = model.double()"
      ],
      "execution_count": null,
      "outputs": [
        {
          "output_type": "stream",
          "text": [
            "Some weights of the model checkpoint at bert-base-uncased were not used when initializing BertForSequenceClassification: ['cls.predictions.bias', 'cls.predictions.transform.dense.weight', 'cls.predictions.transform.dense.bias', 'cls.predictions.decoder.weight', 'cls.seq_relationship.weight', 'cls.seq_relationship.bias', 'cls.predictions.transform.LayerNorm.weight', 'cls.predictions.transform.LayerNorm.bias']\n",
            "- This IS expected if you are initializing BertForSequenceClassification from the checkpoint of a model trained on another task or with another architecture (e.g. initializing a BertForSequenceClassification model from a BertForPreTraining model).\n",
            "- This IS NOT expected if you are initializing BertForSequenceClassification from the checkpoint of a model that you expect to be exactly identical (initializing a BertForSequenceClassification model from a BertForSequenceClassification model).\n",
            "Some weights of BertForSequenceClassification were not initialized from the model checkpoint at bert-base-uncased and are newly initialized: ['classifier.weight', 'classifier.bias']\n",
            "You should probably TRAIN this model on a down-stream task to be able to use it for predictions and inference.\n"
          ],
          "name": "stderr"
        }
      ]
    },
    {
      "cell_type": "code",
      "metadata": {
        "id": "B6kGoEa-RQn7"
      },
      "source": [
        "optimizer = AdamW(model.parameters(), lr = lr, eps = eps)\n",
        "\n",
        "total_steps = len(train_iter) * epochs\n",
        "# The scheduler can actually learn the best learning rate throughout tranining\n",
        "scheduler = get_linear_schedule_with_warmup(optimizer, num_warmup_steps = 0, num_training_steps = total_steps)"
      ],
      "execution_count": null,
      "outputs": []
    },
    {
      "cell_type": "code",
      "metadata": {
        "id": "0TrotOmSEG-n"
      },
      "source": [
        "# We define our training loop\n",
        "def train(train_iter, dev_iter, model, number_epoch):\n",
        "    \"\"\"\n",
        "    Training loop for the model, which calls on eval to evaluate after each epoch\n",
        "    \"\"\"\n",
        "\n",
        "    train_losses = np.zeros(number_epoch)\n",
        "    valid_losses = np.zeros(number_epoch)\n",
        "    rmses = np.zeros(number_epoch)\n",
        "    print(\"Training model.\")\n",
        "\n",
        "\n",
        "    for epoch in range(1, number_epoch+1):\n",
        "\n",
        "        model.train()\n",
        "        epoch_loss = 0\n",
        "        epoch_sse = 0\n",
        "        epoch_mse = 0\n",
        "        no_observations = 0  # Observations used for training so far\n",
        "\n",
        "        for input_ids_batch, attention_mask_batch, token_type_ids_batch, target in train_iter:\n",
        "            optimizer.zero_grad()\n",
        "\n",
        "            # get the output\n",
        "            outputs = model(input_ids_batch,\n",
        "                            attention_mask=attention_mask_batch,\n",
        "                            token_type_ids=token_type_ids_batch)\n",
        "            \n",
        "            \n",
        "            predictions = outputs[0].squeeze(1)\n",
        "            loss = torch.sqrt(((predictions - target)**2).mean())\n",
        "           # loss, predictions = outputs[:2] \n",
        "\n",
        "            no_observations = no_observations + target.shape[0]\n",
        "         \n",
        "            sse, mse, _ = model_performance(predictions.detach().cpu().numpy(), target.detach().cpu().numpy()) \n",
        "            \n",
        "            loss.backward()\n",
        "            optimizer.step()\n",
        "            #Update the learning rate.\n",
        "            scheduler.step()\n",
        "\n",
        "            epoch_loss += loss.item()*target.shape[0]\n",
        "            epoch_sse += sse \n",
        "            epoch_mse += mse * target.shape[0]\n",
        "\n",
        "        valid_loss, valid_mse, preds, targs = eval(dev_iter, model)\n",
        "\n",
        "        epoch_loss, epoch_mse = epoch_loss / no_observations, epoch_mse / no_observations\n",
        "\n",
        "        train_losses[epoch-1] = epoch_loss\n",
        "        valid_losses[epoch-1] = valid_loss\n",
        "        rmses[epoch-1] = np.sqrt(epoch_mse)\n",
        "        print(f'| Epoch: {epoch:02} | Train Loss: {epoch_loss:.2f} | Train MSE: {epoch_mse:.2f} | Train RMSE: {np.sqrt(epoch_mse):.2f} | \\\n",
        "        Val. Loss: {valid_loss:.2f} | Val. MSE: {valid_mse:.2f} |  Val. RMSE: {np.sqrt(valid_mse):.2f} |')\n",
        "    return train_losses, valid_losses, rmses, preds, targs"
      ],
      "execution_count": null,
      "outputs": []
    },
    {
      "cell_type": "code",
      "metadata": {
        "id": "XYoIP1F3EW6W"
      },
      "source": [
        "from sklearn.metrics import mean_squared_error\n",
        "# We evaluate performance on our dev set\n",
        "def eval(dev_iter, model):\n",
        "    \"\"\"\n",
        "    Evaluating model performance on the dev set\n",
        "    \"\"\"\n",
        "    model.eval()\n",
        "    epoch_loss = 0\n",
        "    epoch_sse = 0\n",
        "    epoch_mse = 0\n",
        "    pred_all = []\n",
        "    trg_all = []\n",
        "    no_observations = 0\n",
        "    total_eval_loss = 0\n",
        "\n",
        "\n",
        "    with torch.no_grad():\n",
        "        for input_ids_batch, attention_mask_batch, token_type_ids_batch, target in dev_iter:\n",
        "\n",
        "            no_observations = no_observations + target.shape[0]\n",
        "\n",
        "            outputs = model(input_ids_batch,\n",
        "                            attention_mask=attention_mask_batch,\n",
        "                            token_type_ids=token_type_ids_batch)\n",
        "            \n",
        "            #loss, predictions = outputs[:2] \n",
        "            predictions = outputs[0].squeeze(1)\n",
        "            loss = torch.sqrt(((predictions - target)**2).mean())\n",
        " \n",
        "            # Accumulate the validation loss.\n",
        "            total_eval_loss += loss.item()\n",
        "\n",
        "            # We get the mse\n",
        "            pred, trg = predictions.detach().cpu().numpy(), target.detach().cpu().numpy()\n",
        "            sse, mse, rmse = model_performance(pred, trg)\n",
        "\n",
        "            epoch_loss += loss.item()*target.shape[0]\n",
        "            epoch_sse += sse\n",
        "            epoch_mse += mse*target.shape[0]\n",
        "            pred_all.extend(pred)\n",
        "            trg_all.extend(trg)\n",
        "    \n",
        "\n",
        "    return epoch_loss/no_observations, epoch_mse/no_observations, np.array(pred_all), np.array(trg_all)"
      ],
      "execution_count": null,
      "outputs": []
    },
    {
      "cell_type": "code",
      "metadata": {
        "id": "QMwsi9MZEkaT"
      },
      "source": [
        "# How we print the model performance\n",
        "def model_performance(output, target, print_output=False):\n",
        "    \"\"\"\n",
        "    Returns SSE and MSE per batch (printing the MSE and the RMSE)\n",
        "    \"\"\"\n",
        "\n",
        "    sq_error = (output - target)**2\n",
        "\n",
        "    sse = np.sum(sq_error)\n",
        "    mse = np.mean(sq_error)\n",
        "    rmse = np.sqrt(mse)\n",
        "\n",
        "    if print_output:\n",
        "        print(f'| MSE: {mse:.2f} | RMSE: {rmse:.2f} |')\n",
        "\n",
        "    return sse, mse, rmse"
      ],
      "execution_count": null,
      "outputs": []
    },
    {
      "cell_type": "code",
      "metadata": {
        "id": "RvkEIrZJctw8"
      },
      "source": [
        "def calculate_rmse(predictions, labels):\n",
        "    loss = torch.sqrt(((predictions - labels)**2).mean())\n",
        "\n",
        "    return loss"
      ],
      "execution_count": null,
      "outputs": []
    },
    {
      "cell_type": "code",
      "metadata": {
        "id": "JCArikM9cwG4"
      },
      "source": [
        "import matplotlib.pyplot as plt\n",
        "def plot(num_epochs, train_rmses, valid_rmses):\n",
        "  epochs = list(range(num_epochs))\n",
        "  plt.plot(epochs,train_rmses, label='train')\n",
        "  plt.plot(epochs,valid_rmses, label='valid')\n",
        "  plt.legend()\n",
        "  plt.title(\"BERT Loss Curve\")\n",
        "  plt.xlabel(\"Epochs\")\n",
        "  plt.ylabel(\"RMSE Loss\")\n",
        "  plt.show()"
      ],
      "execution_count": null,
      "outputs": []
    },
    {
      "cell_type": "code",
      "metadata": {
        "colab": {
          "base_uri": "https://localhost:8080/"
        },
        "id": "2gwAy-noir9I",
        "outputId": "9db74254-960d-4ad6-9ea9-b1cdc4b92426"
      },
      "source": [
        "# Set the seed value all over the place to make this reproducible.\n",
        "random_seed = 42\n",
        "random.seed(random_seed)\n",
        "np.random.seed(random_seed)\n",
        "torch.manual_seed(random_seed)\n",
        "torch.cuda.manual_seed_all(random_seed)\n",
        "torch.backends.cudnn.deterministic = True\n",
        "\n",
        "train_losses, valid_losses, rmses, preds, targs= train(train_iter, eval_iter, model, epochs)\n",
        " "
      ],
      "execution_count": null,
      "outputs": [
        {
          "output_type": "stream",
          "text": [
            "Training model.\n",
            "| Epoch: 01 | Train Loss: 0.58 | Train MSE: 0.34 | Train RMSE: 0.59 |         Val. Loss: 0.53 | Val. MSE: 0.28 |  Val. RMSE: 0.53 |\n",
            "| Epoch: 02 | Train Loss: 0.46 | Train MSE: 0.22 | Train RMSE: 0.47 |         Val. Loss: 0.52 | Val. MSE: 0.28 |  Val. RMSE: 0.53 |\n"
          ],
          "name": "stdout"
        }
      ]
    },
    {
      "cell_type": "code",
      "metadata": {
        "colab": {
          "base_uri": "https://localhost:8080/",
          "height": 294
        },
        "id": "HzD2lQAbypSO",
        "outputId": "5d7bbf5c-bae1-4c6d-bd9a-16d1c5bd3afe"
      },
      "source": [
        "plot(2, [0.59,0.49], [0.55,0.53])\n"
      ],
      "execution_count": null,
      "outputs": [
        {
          "output_type": "display_data",
          "data": {
            "image/png": "[encoded data removed]",
            "text/plain": [
              "<Figure size 432x288 with 1 Axes>"
            ]
          },
          "metadata": {
            "tags": [],
            "needs_background": "light"
          }
        }
      ]
    },
    {
      "cell_type": "code",
      "metadata": {
        "colab": {
          "base_uri": "https://localhost:8080/",
          "height": 312
        },
        "id": "CWCscC86sg8d",
        "outputId": "9c8cca03-1e71-4d30-e5ad-66024352af33"
      },
      "source": [
        "plt.scatter(preds,targs)\n",
        "plt.title(\"Predictions versus Target Labels\")\n",
        "plt.xlabel(\"Predictions\")\n",
        "plt.ylabel(\"Target Labels\")\n",
        "mean = np.mean(train_df[\"meanGrade\"].tolist())\n",
        "plt.vlines(mean, ymin = 0, ymax = 2.5, color = 'green', label = \"mean\")\n",
        "plt.legend()\n",
        "print(np.max(preds) - mean)"
      ],
      "execution_count": null,
      "outputs": [
        {
          "output_type": "stream",
          "text": [
            "1.087227701929302\n"
          ],
          "name": "stdout"
        },
        {
          "output_type": "display_data",
          "data": {
            "image/png": "[encoded data removed]",
            "text/plain": [
              "<Figure size 432x288 with 1 Axes>"
            ]
          },
          "metadata": {
            "tags": [],
            "needs_background": "light"
          }
        }
      ]
    },
    {
      "cell_type": "markdown",
      "metadata": {
        "id": "Klgk-IngaRLa"
      },
      "source": [
        "\n",
        "# Approach 2: No pre-trained representations"
      ]
    },
    {
      "cell_type": "markdown",
      "metadata": {
        "id": "OTBXwqYqKIIB"
      },
      "source": [
        "## Building a word embedding - Gutenberg"
      ]
    },
    {
      "cell_type": "code",
      "metadata": {
        "colab": {
          "base_uri": "https://localhost:8080/",
          "height": 36
        },
        "id": "xuyJefx54KQ_",
        "outputId": "06b2729a-b5ed-410f-e4c5-3d32f978bded"
      },
      "source": [
        "#Setup\n",
        "nlp = spacy.load(\"en\")\n",
        "#GUTENBERG_DIR = \"/content/drive/MyDrive/Colab Notebooks/NLP_Coursework/ic_nlp_cw/gutenberg\"\n",
        "#Consti\n",
        "GUTENBERG_DIR = \"/content/drive/MyDrive/Imperial_College/NLP_CW/ic_nlp_cw/gutenberg\"\n",
        "\n",
        "#Kevin\n",
        "#%cd /content/drive/MyDrive/Colab Notebooks/NLP_Coursework/ic_nlp_cw\n",
        "#train_df = pd.read_csv('./task-1/train.csv')\n",
        "#test_df = pd.read_csv('./task-1/dev.csv')\n",
        "#extra_train = pd.read_csv('./extra_train_data-3.csv')\n",
        "\n",
        "lemma = True\n",
        "stemming = False\n",
        "\n",
        "wordnet_lemmatizer = WordNetLemmatizer()\n",
        "\n",
        "\n",
        "\n",
        "%pwd"
      ],
      "execution_count": 120,
      "outputs": [
        {
          "output_type": "execute_result",
          "data": {
            "application/vnd.google.colaboratory.intrinsic+json": {
              "type": "string"
            },
            "text/plain": [
              "'/content'"
            ]
          },
          "metadata": {
            "tags": []
          },
          "execution_count": 120
        }
      ]
    },
    {
      "cell_type": "code",
      "metadata": {
        "id": "GBwYVhx6Qdkd"
      },
      "source": [
        "#Preprocess headlines\n",
        "#get pre preprocessing for BILSTM later\n",
        "train_embedding_df_pre, dev_embedding_df_pre = train_test_split(train_df, test_size=0.2)\n",
        "\n",
        "train_embedding_df_pre = train_embedding_df_pre.reset_index()\n",
        "dev_embedding_df_pre = dev_embedding_df_pre.reset_index()\n",
        "\n",
        "train_embedding_df, dev_embedding_df = train_embedding_df_pre.copy(), dev_embedding_df_pre.copy()\n",
        "\n",
        "train_embedding_df['old'] = train_embedding_df.apply(lambda x:x['original'][x['original'].find('<')+1:x['original'].find('>')-1],axis=1)\n",
        "train_embedding_df['original'] = train_embedding_df.apply(lambda x:x['original'].replace(x['original'][x['original'].find('<'):x['original'].find('>')+1], x['old']) ,axis=1)\n",
        "\n",
        "dev_embedding_df['old'] = dev_embedding_df.apply(lambda x:x['original'][x['original'].find('<')+1:x['original'].find('>')-1],axis=1)\n",
        "dev_embedding_df['original'] = dev_embedding_df.apply(lambda x:x['original'].replace(x['original'][x['original'].find('<'):x['original'].find('>')+1], x['old']) ,axis=1)\n"
      ],
      "execution_count": 307,
      "outputs": []
    },
    {
      "cell_type": "code",
      "metadata": {
        "colab": {
          "base_uri": "https://localhost:8080/",
          "height": 424
        },
        "id": "w4e1xURrb32t",
        "outputId": "eb1cde00-85aa-4e8a-bbde-351e8d568890"
      },
      "source": [
        ""
      ],
      "execution_count": 308,
      "outputs": [
        {
          "output_type": "execute_result",
          "data": {
            "text/html": [
              "<div>\n",
              "<style scoped>\n",
              "    .dataframe tbody tr th:only-of-type {\n",
              "        vertical-align: middle;\n",
              "    }\n",
              "\n",
              "    .dataframe tbody tr th {\n",
              "        vertical-align: top;\n",
              "    }\n",
              "\n",
              "    .dataframe thead th {\n",
              "        text-align: right;\n",
              "    }\n",
              "</style>\n",
              "<table border=\"1\" class=\"dataframe\">\n",
              "  <thead>\n",
              "    <tr style=\"text-align: right;\">\n",
              "      <th></th>\n",
              "      <th>index</th>\n",
              "      <th>id</th>\n",
              "      <th>original</th>\n",
              "      <th>edit</th>\n",
              "      <th>grades</th>\n",
              "      <th>meanGrade</th>\n",
              "      <th>old</th>\n",
              "    </tr>\n",
              "  </thead>\n",
              "  <tbody>\n",
              "    <tr>\n",
              "      <th>0</th>\n",
              "      <td>2063</td>\n",
              "      <td>12602</td>\n",
              "      <td>Facts Have a Well-Known Liberal Bias</td>\n",
              "      <td>Pimples</td>\n",
              "      <td>11000</td>\n",
              "      <td>0.4</td>\n",
              "      <td>Bias</td>\n",
              "    </tr>\n",
              "    <tr>\n",
              "      <th>1</th>\n",
              "      <td>3155</td>\n",
              "      <td>2784</td>\n",
              "      <td>Martin O'Malley believes Trump was \" very much...</td>\n",
              "      <td>hopes</td>\n",
              "      <td>0</td>\n",
              "      <td>0.0</td>\n",
              "      <td>believes</td>\n",
              "    </tr>\n",
              "    <tr>\n",
              "      <th>2</th>\n",
              "      <td>12588</td>\n",
              "      <td>102936</td>\n",
              "      <td>Editorial boards of Los Angeles Times and Bost...</td>\n",
              "      <td>fish</td>\n",
              "      <td>10000</td>\n",
              "      <td>0.2</td>\n",
              "      <td>boards</td>\n",
              "    </tr>\n",
              "    <tr>\n",
              "      <th>3</th>\n",
              "      <td>13576</td>\n",
              "      <td>103924</td>\n",
              "      <td>They Made a Killing on the Mortgage Crisis . N...</td>\n",
              "      <td>mind</td>\n",
              "      <td>22111</td>\n",
              "      <td>1.4</td>\n",
              "      <td>America</td>\n",
              "    </tr>\n",
              "    <tr>\n",
              "      <th>4</th>\n",
              "      <td>6924</td>\n",
              "      <td>3014</td>\n",
              "      <td>How Crisis Pregnancy Center Clients Rely On Me...</td>\n",
              "      <td>women</td>\n",
              "      <td>22000</td>\n",
              "      <td>0.8</td>\n",
              "      <td>Medicaid</td>\n",
              "    </tr>\n",
              "    <tr>\n",
              "      <th>...</th>\n",
              "      <td>...</td>\n",
              "      <td>...</td>\n",
              "      <td>...</td>\n",
              "      <td>...</td>\n",
              "      <td>...</td>\n",
              "      <td>...</td>\n",
              "      <td>...</td>\n",
              "    </tr>\n",
              "    <tr>\n",
              "      <th>14315</th>\n",
              "      <td>2968</td>\n",
              "      <td>12383</td>\n",
              "      <td>Gohmert Calls for Investigation of VA Gov McAu...</td>\n",
              "      <td>whines</td>\n",
              "      <td>0</td>\n",
              "      <td>0.0</td>\n",
              "      <td>Calls</td>\n",
              "    </tr>\n",
              "    <tr>\n",
              "      <th>14316</th>\n",
              "      <td>28</td>\n",
              "      <td>2426</td>\n",
              "      <td>Roseanne Barr quits Twitter after offending w...</td>\n",
              "      <td>Everyone</td>\n",
              "      <td>3211100000</td>\n",
              "      <td>0.8</td>\n",
              "      <td>Roseanne Barr</td>\n",
              "    </tr>\n",
              "    <tr>\n",
              "      <th>14317</th>\n",
              "      <td>7136</td>\n",
              "      <td>13373</td>\n",
              "      <td>Trump to be sworn in using Bible Abraham Linco...</td>\n",
              "      <td>underpants</td>\n",
              "      <td>32211</td>\n",
              "      <td>1.8</td>\n",
              "      <td>Bible</td>\n",
              "    </tr>\n",
              "    <tr>\n",
              "      <th>14318</th>\n",
              "      <td>6615</td>\n",
              "      <td>7484</td>\n",
              "      <td>Fugitive Mexican ex-governor moved to Guatemal...</td>\n",
              "      <td>restaurant</td>\n",
              "      <td>21110</td>\n",
              "      <td>1.0</td>\n",
              "      <td>prison</td>\n",
              "    </tr>\n",
              "    <tr>\n",
              "      <th>14319</th>\n",
              "      <td>15663</td>\n",
              "      <td>106011</td>\n",
              "      <td>China bans foreign teaching materials in publi...</td>\n",
              "      <td>clown</td>\n",
              "      <td>22100</td>\n",
              "      <td>1.0</td>\n",
              "      <td>teaching</td>\n",
              "    </tr>\n",
              "  </tbody>\n",
              "</table>\n",
              "<p>14320 rows × 7 columns</p>\n",
              "</div>"
            ],
            "text/plain": [
              "       index      id  ... meanGrade            old\n",
              "0       2063   12602  ...       0.4           Bias\n",
              "1       3155    2784  ...       0.0       believes\n",
              "2      12588  102936  ...       0.2         boards\n",
              "3      13576  103924  ...       1.4        America\n",
              "4       6924    3014  ...       0.8       Medicaid\n",
              "...      ...     ...  ...       ...            ...\n",
              "14315   2968   12383  ...       0.0          Calls\n",
              "14316     28    2426  ...       0.8  Roseanne Barr\n",
              "14317   7136   13373  ...       1.8          Bible\n",
              "14318   6615    7484  ...       1.0         prison\n",
              "14319  15663  106011  ...       1.0       teaching\n",
              "\n",
              "[14320 rows x 7 columns]"
            ]
          },
          "metadata": {
            "tags": []
          },
          "execution_count": 308
        }
      ]
    },
    {
      "cell_type": "code",
      "metadata": {
        "colab": {
          "base_uri": "https://localhost:8080/"
        },
        "id": "zHbR38n3XrKu",
        "outputId": "87f7d10c-a1b8-4a6b-da3e-8a67e72122a6"
      },
      "source": [
        "#Using 18 books Gutenberg Corpus\n",
        "gutenberg_books = []\n",
        "for i, book_name in enumerate(os.listdir(GUTENBERG_DIR)):\n",
        "    book_file = open(os.path.join(\n",
        "        GUTENBERG_DIR, book_name), encoding=\"latin-1\")\n",
        "    book = book_file.read()\n",
        "    gutenberg_books.append(book)\n",
        "    book_file.close()\n",
        "    #if i == 1:\n",
        "    #    break\n",
        "\n",
        "gutenberg_book_lines = []\n",
        "for book in gutenberg_books:\n",
        "    book_lines = book.split(\"\\n\")\n",
        "    book_lines = list(filter(lambda x: x != \"\", book_lines))\n",
        "    #print(book_lines)\n",
        "    gutenberg_book_lines.append(book_lines)\n",
        "    \n",
        "print(gutenberg_book_lines[:5])"
      ],
      "execution_count": 11,
      "outputs": [
        {
          "output_type": "stream",
          "text": [
            "IOPub data rate exceeded.\n",
            "The notebook server will temporarily stop sending output\n",
            "to the client in order to avoid crashing it.\n",
            "To change this limit, set the config variable\n",
            "`--NotebookApp.iopub_data_rate_limit`.\n",
            "\n",
            "Current values:\n",
            "NotebookApp.iopub_data_rate_limit=1000000.0 (bytes/sec)\n",
            "NotebookApp.rate_limit_window=3.0 (secs)\n",
            "\n"
          ],
          "name": "stderr"
        }
      ]
    },
    {
      "cell_type": "code",
      "metadata": {
        "colab": {
          "base_uri": "https://localhost:8080/"
        },
        "id": "Eloh_PpEaORC",
        "outputId": "4c303d25-cdaa-4881-e85b-2144d7767a57"
      },
      "source": [
        "#Takes Gutenberg books an tokenizes corpus\n",
        "#WARNING: Takes forever\n",
        "tokenized_corpus = []\n",
        "for book_line in tqdm(gutenberg_book_lines):\n",
        "    for line in book_line:\n",
        "        doc = nlp(line)\n",
        "        tokenized_corpus.append([token.text.lower() for token in doc if not token.is_punct])\n",
        "print(tokenized_corpus[:3])\n",
        "\n",
        "#Use pickle to save corpus to disk\n",
        "pickle.dump(tokenized_corpus, open(\"tokenized_corpus_gutenberg.pkl\", \"wb\"))\n"
      ],
      "execution_count": 12,
      "outputs": [
        {
          "output_type": "stream",
          "text": [
            "100%|██████████| 19/19 [27:16<00:00, 86.13s/it]\n"
          ],
          "name": "stderr"
        },
        {
          "output_type": "stream",
          "text": [
            "[['the', 'tragedie', 'of', 'macbeth', 'by', 'william', 'shakespeare', '1603'], ['actus', 'primus', 'scoena', 'prima'], ['thunder', 'and', 'lightning', 'enter', 'three', 'witches']]\n"
          ],
          "name": "stdout"
        }
      ]
    },
    {
      "cell_type": "code",
      "metadata": {
        "id": "DrkwjoYEaol4"
      },
      "source": [
        "#Load corpus from disk if previously pickled\n",
        "tokenized_corpus = pickle.load(open(\"tokenized_corpus_gutenberg.pkl\", \"rb\"))"
      ],
      "execution_count": 309,
      "outputs": []
    },
    {
      "cell_type": "code",
      "metadata": {
        "colab": {
          "base_uri": "https://localhost:8080/"
        },
        "id": "mZx4OvVrO9_t",
        "outputId": "dc030857-4612-4b85-a479-a5bc48e832ab"
      },
      "source": [
        "#Remove stopwords from corpus\n",
        "spacy_stop_words = spacy.lang.en.stop_words.STOP_WORDS\n",
        "stemmer = PorterStemmer()\n",
        "\n",
        "tokenized_corpus_rmSW = []\n",
        "for sentence in tqdm(tokenized_corpus):\n",
        "  if stemming:\n",
        "    tokenized_corpus_rmSW.append([stemmer.stem(token) for token in sentence if token not in spacy_stop_words])\n",
        "  elif lemma:\n",
        "    tokenized_corpus_rmSW.append([wordnet_lemmatizer.lemmatize(token) for token in sentence if token not in spacy_stop_words])\n",
        "  else: \n",
        "    tokenized_corpus_rmSW.append([token for token in sentence if token not in spacy_stop_words])\n",
        "tokenized_corpus = tokenized_corpus_rmSW\n",
        "print(tokenized_corpus[:3])\n",
        "print(len(tokenized_corpus))\n",
        "\n",
        "if stemming:\n",
        "  pickle.dump(tokenized_corpus, open(\"tokenized_corpus_gutenberg_SW_stemmed.pkl\", \"wb\"))\n",
        "elif lemma:\n",
        "  pickle.dump(tokenized_corpus, open(\"tokenized_corpus_gutenberg_SW_lemma.pkl\", \"wb\"))\n",
        "else:\n",
        "  pickle.dump(tokenized_corpus, open(\"tokenized_corpus_gutenberg_SW.pkl\", \"wb\"))"
      ],
      "execution_count": 310,
      "outputs": [
        {
          "output_type": "stream",
          "text": [
            "100%|██████████| 237533/237533 [00:04<00:00, 48827.91it/s]\n"
          ],
          "name": "stderr"
        },
        {
          "output_type": "stream",
          "text": [
            "[['tragedie', 'macbeth', 'william', 'shakespeare', '1603'], ['actus', 'primus', 'scoena', 'prima'], ['thunder', 'lightning', 'enter', 'witch']]\n",
            "237533\n"
          ],
          "name": "stdout"
        }
      ]
    },
    {
      "cell_type": "code",
      "metadata": {
        "colab": {
          "base_uri": "https://localhost:8080/"
        },
        "id": "xWVpTmLUduJE",
        "outputId": "d0dc1c7f-52a0-497b-f3a4-133f3c6b8b05"
      },
      "source": [
        "#Remove stop words from Headlines\n",
        "spacy_stop_words = spacy.lang.en.stop_words.STOP_WORDS\n",
        "\n",
        "tokenized_headlines = []\n",
        "for headline in tqdm(train_embedding_df.original):\n",
        "\n",
        "  tokenized_sentence = []\n",
        "  doc = nlp(headline)\n",
        "  for token in doc:\n",
        "    if token.text not in spacy_stop_words and not token.is_punct:\n",
        "\n",
        "      if stemming:\n",
        "        tokenized_sentence.append(stemmer.stem(token.text.lower()))\n",
        "      elif lemma:\n",
        "        tokenized_sentence.append(wordnet_lemmatizer.lemmatize(token.text.lower())) \n",
        "      else:\n",
        "        tokenized_sentence.append(token.text.lower())\n",
        "  tokenized_headlines.append(tokenized_sentence)\n",
        "print(len(tokenized_headlines))\n",
        "print(tokenized_headlines[:3])\n",
        "\n",
        "if stemming:\n",
        "  pickle.dump(tokenized_headlines, open(\"tokenized_corpus_headlines_stemmed.pkl\", \"wb\"))\n",
        "elif lemma:\n",
        "  pickle.dump(tokenized_headlines, open(\"tokenized_corpus_headlines_lemma.pkl\", \"wb\"))\n",
        "else:\n",
        "  pickle.dump(tokenized_headlines, open(\"tokenized_corpus_headlines.pkl\", \"wb\"))"
      ],
      "execution_count": 311,
      "outputs": [
        {
          "output_type": "stream",
          "text": [
            "100%|██████████| 14320/14320 [02:05<00:00, 114.37it/s]"
          ],
          "name": "stderr"
        },
        {
          "output_type": "stream",
          "text": [
            "14320\n",
            "[['fact', 'have', 'well', 'known', 'liberal', 'bias'], ['martin', \"o'malley\", 'belief', 'trump', 'aware', 'russian', 'doing'], ['editorial', 'board', 'los', 'angeles', 'time', 'boston', 'globe', 'trump', 'impeachment']]\n"
          ],
          "name": "stdout"
        },
        {
          "output_type": "stream",
          "text": [
            "\n"
          ],
          "name": "stderr"
        }
      ]
    },
    {
      "cell_type": "code",
      "metadata": {
        "id": "b1YwV4YAKcQz",
        "colab": {
          "base_uri": "https://localhost:8080/"
        },
        "outputId": "34f749d6-be78-434d-ccba-ef47a3294c48"
      },
      "source": [
        "#add edit words --> adding new word so it is not unknown\n",
        "#Leave this out -> network would otherwise learn that edit is part of the embedding\n",
        "edit_corpus = []\n",
        "for word in tqdm(train_embedding_df.edit):\n",
        "    doc = nlp(word)\n",
        "    if stemming:\n",
        "      edit_corpus.append(stemmer.stem(doc.text.lower())) \n",
        "    elif lemma:\n",
        "      edit_corpus.append(wordnet_lemmatizer.lemmatize(doc.text.lower())) \n",
        "    else:\n",
        "      edit_corpus.append(doc.text.lower())\n",
        "\n",
        "if stemming:\n",
        "  pickle.dump(edit_corpus, open(\"tokenized_edit_corpus_stemmed.pkl\", \"wb\"))\n",
        "elif lemma:\n",
        "  pickle.dump(edit_corpus, open(\"tokenized_edit_corpus_lemma.pkl\", \"wb\"))\n",
        "else:\n",
        "  pickle.dump(edit_corpus, open(\"tokenized_edit_corpus.pkl\", \"wb\"))"
      ],
      "execution_count": 312,
      "outputs": [
        {
          "output_type": "stream",
          "text": [
            "100%|██████████| 14320/14320 [01:40<00:00, 142.09it/s]\n"
          ],
          "name": "stderr"
        }
      ]
    },
    {
      "cell_type": "code",
      "metadata": {
        "colab": {
          "base_uri": "https://localhost:8080/"
        },
        "id": "1B8jM8fLLv23",
        "outputId": "e57e94df-4379-4e21-b893-56bc6b3b4cec"
      },
      "source": [
        "if stemming:\n",
        "  tokenized_corpus = pickle.load(open(\"tokenized_corpus_gutenberg_SW_stemmed.pkl\", \"rb\"))\n",
        "  tokenized_headlines = pickle.load(open(\"tokenized_corpus_headlines_stemmed.pkl\", \"rb\"))\n",
        "  edit_corpus = pickle.load(open(\"tokenized_edit_corpus_stemmed.pkl\", \"rb\"))\n",
        "elif lemma:\n",
        "  tokenized_corpus = pickle.load(open(\"tokenized_corpus_gutenberg_SW_lemma.pkl\", \"rb\"))\n",
        "  tokenized_headlines = pickle.load(open(\"tokenized_corpus_headlines_lemma.pkl\", \"rb\"))\n",
        "  edit_corpus = pickle.load(open(\"tokenized_edit_corpus_lemma.pkl\", \"rb\"))\n",
        "\n",
        "else:\n",
        "  tokenized_corpus = pickle.load(open(\"tokenized_corpus_gutenberg_SW.pkl\", \"rb\"))\n",
        "  tokenized_headlines = pickle.load(open(\"tokenized_corpus_headlines.pkl\", \"rb\"))\n",
        "  edit_corpus = pickle.load(open(\"tokenized_edit_corpus.pkl\", \"rb\"))\n",
        "\n",
        "print(len(tokenized_corpus))\n",
        "print(len(tokenized_headlines))"
      ],
      "execution_count": 313,
      "outputs": [
        {
          "output_type": "stream",
          "text": [
            "237533\n",
            "14320\n"
          ],
          "name": "stdout"
        }
      ]
    },
    {
      "cell_type": "code",
      "metadata": {
        "id": "EEZJh-R-8Jbd"
      },
      "source": [
        "#Combine corpus\n",
        "tokenized_corpus = tokenized_corpus + tokenized_headlines #+  edit_corpus"
      ],
      "execution_count": 314,
      "outputs": []
    },
    {
      "cell_type": "code",
      "metadata": {
        "id": "8jj9zwZRf7Ql"
      },
      "source": [
        "#Save full corpus\n",
        "if stemming:\n",
        "  pickle.dump(tokenized_corpus, open(\"tokenized_corpus_gutenberg_full_stemmed.pkl\", \"wb\"))\n",
        "elif lemma:\n",
        "  pickle.dump(tokenized_corpus, open(\"tokenized_corpus_gutenberg_full_lemma.pkl\", \"wb\"))\n",
        "else:\n",
        "  pickle.dump(tokenized_corpus, open(\"tokenized_corpus_gutenberg_full.pkl\", \"wb\"))"
      ],
      "execution_count": 315,
      "outputs": []
    },
    {
      "cell_type": "code",
      "metadata": {
        "id": "VVbYV-czMDiH"
      },
      "source": [
        "#Load full corpus from pickle\n",
        "if stemming:\n",
        "  tokenized_corpus = pickle.load(open(\"tokenized_corpus_gutenberg_full_stemmed.pkl\", \"rb\"))\n",
        "elif lemma:\n",
        "  tokenized_corpus = pickle.load(open(\"tokenized_corpus_gutenberg_full_lemma.pkl\", \"rb\"))\n",
        "else:\n",
        "  tokenized_corpus = pickle.load(open(\"tokenized_corpus_gutenberg_full.pkl\", \"rb\"))"
      ],
      "execution_count": 316,
      "outputs": []
    },
    {
      "cell_type": "code",
      "metadata": {
        "id": "eQ1zM475SKXG"
      },
      "source": [
        "#add special token for BILSTM\n",
        "for i in range(3):\n",
        "  tokenized_corpus.append('???')\n",
        "    \n",
        "pickle.dump(tokenized_corpus, open(\"tokenized_corpus_gutenberg.pkl\", \"wb\"))\n"
      ],
      "execution_count": 317,
      "outputs": []
    },
    {
      "cell_type": "code",
      "metadata": {
        "colab": {
          "base_uri": "https://localhost:8080/"
        },
        "id": "xotsPqJ8ayrx",
        "outputId": "aade8bcf-a6e1-41fd-c20f-e6ae08432140"
      },
      "source": [
        "#maybe change cut off frequency (all words less than cutoff not relevant -> too many unknowns in this case)\n",
        "def get_vocabulary(tokenized_corpus, cutoff_frequency=1):\n",
        "    vocab_freq_dict = dict()\n",
        "    for sentence in tokenized_corpus:\n",
        "        for token in sentence:\n",
        "\n",
        "            if token not in vocab_freq_dict.keys():\n",
        "                vocab_freq_dict[token] = 0\n",
        "\n",
        "            vocab_freq_dict[token] += 1\n",
        "\n",
        "    vocabulary = set()\n",
        "    for sentence in tokenized_corpus:\n",
        "        for token in sentence:\n",
        "\n",
        "            if vocab_freq_dict[token] > cutoff_frequency:\n",
        "                vocabulary.add(token)\n",
        "                \n",
        "    return vocabulary\n",
        "\n",
        "vocabulary = get_vocabulary(tokenized_corpus)\n",
        "print(\"LENGTH OF VOCAB:\", len(vocabulary), \"\\nVOCAB:\", vocabulary)\n",
        "#No stemming or lemmatization, just punc removal\n",
        "#Before stop word removal 32670\n",
        "#With stop words removal 32393"
      ],
      "execution_count": 318,
      "outputs": [
        {
          "output_type": "stream",
          "text": [
            "LENGTH OF VOCAB: 30492 \n",
            "VOCAB: {'marketh', 'herr', 'volume', 'counting', 'calve', 'citron', 'mortally', 'astonished', 'tyrolean', '34:5', 'develops', 'rapidly', 'geniality', '40:1', 'cut', 'wonderfull', 'clenched', 'tipped', 'prophesying', 'blueprint', 'inhaling', 'resists', 'stygian', 'aggregation', 'enlargeth', 'similarity', 'miami', 'incensed', 'latin', 'rattle', 'takest', '1795', 'sundial', \"talk'd\", 'mingled', 'lachish', 'could', 'basketful', 'trafficked', 'straying', 'reaped', 'cogent', 'liberall', \"stuff'd\", 'women--', 'daubed', 'deletes', 'enquire', 'tydings', 'jericho', 'endureth', 'mutation', 'expound', 'convention', 'aha', 'unsuspected', 'necessary', 'ethnic', 'bribery', 'zidon', '6:40', 'supple', 'chariot', 'dccc', 'reticent', 'silly', 'edward', 'noise', 'expect', 'luz', '34:32', 'multiplicity', 'scoot', 'skulked', 'egge', 'coachman', 'guaranteeing', 'taxi', 'int', '19:34', '14:4', 'distasteful', '2:5', 'their', 'have', 'kedemoth', 'spotlight', 'roseanne', 'disallowed', 'ate', 'mandrake', 'extract', 'governs', 'militarily', 'quail', '27:33', 'foretells', \"alarm'd\", 'pad', 'willing', 'confectioner', 'caucus', '10', 'provoking', 'mahlah', 'variation', 'perplexity', 'grandparent', 'yeare', 'afar', '50:11', \"liu'd\", 'brian', 'hurling', 'journalism', 'hummer', 'darkest', 'everyone', '16:13', 'reproached', 'nationalist', '1,100', 'spiritous', 'disconsolately', 'properest', 'can', \"pierc'd\", 'praised', 'live', 'ferrars', 'halcyon', '13:16', 'soldiours', 'calmer', 'potentate', 'overcame', 'grasping', 'unsupplied', \"ear'd\", 'segment', 'dewy', 'kellen', 'trode', 'driue', 'revisit', 'alertness', 'feeding', 'flitting', 'harosheth', 'plumbline', 'edwin', 'irked', 'pronounce', 'complying', 'myanmar', 'impromptu', 'formal', 'wakened', 'content', 'carlyle', 'carnage', 'overspreading', 'dominates', 'wheedle', 'referring', 'uplifting', '35:27', 'behaved', 'quartered', '14:53', 'eldest', 'yeares', 'arrayed', 'breadth', 'geshem', 'free', 'rumpled', '41:18', 'language', 'malefactor', 'thrive', 'downey', 'indolence', 'fleshy', 'navy', 'this--', '9:23', 'wast', '                   ', '36:4', 'trundling', 'ottawa', 'sum', 'receiving', 'reply', 'inn', '11:30', 'begot', 'wonder', '80', 'spectral', 'mead', 'novelty', 'unfavorable', 'cattle', 'play-', \"reueng'd\", 'tell', 'dyspeptic', 'popillius', 'alehouse', 'unintended', 'thirst', 'amy', 'sound', 'placing', '4000', 'insist', 'brandon', 'ruined', 'manafort', 'correctly', 'stemming', '24:17', 'overpowering', 'godmother', 'lusteth', 'helmut', '20:27', 'atheistic', 'screw', 'lennon', 'destroy', 'duckduckgo', 'patagonian', '50:12', 'healeth', 'crosse', 'fundamental', 'piercing', 'panel', 'reapest', 'troopes', 'phrenological', 'buckingham', 'edible', 'collection', 'excites', 'efficiency', 'croaking', 'battled', 'sedge', 'nt', 'slap', 'incorporated', 'forasmuch', 'harsh', 'professed', 'clime', 'shield', 'esteem', 'whirlpool', 'screenplay', '7:59', 'terrestrial', 'revelry', 'address', 'stained', 'drowning', '48:28', 'rode', 'needy', 'deeper', '15:25', 'patrolled', 'inability', '15:15', 'manual', 'puissance', 'nibbled', 'ham', 'meditative', 'complained', 'trinity', 'ridge', 'intimation', 'kin', 'pilaster', 'blesse', 'disputation', 'spurre', 'belittle', 'story', '22:11', 'pail', 'appellative', 'secure', 'proceeded', 'lord', 'outwardly', 'nike', 'zelensky', 'piqued', 'mortar', 'bale', 'howsoever', 'water', \"i've\", 'turtledove', '20:32', 'gaunt', 'swerve', 'tartar', 'lambent', 'nowise', 'executioner', 'autopsy', 'harke', 'manifestly', 'disbelieve', 'bravo', 'proscription', 'defiant', 'backbone', 'jebusites', 'cursed', 'm.', 'sidney', \"scatter'd\", 'ambiguous', 'skilful', 'wrinkling', 'transfixed', 'smallest', 'pranked', 'sukur', 'braiding', 'mutinous', 'deep', 'pet', 'tirzah', 'brick', 'skyscraper', 'edifice', 'bandage', '63:6', 'tillage', 'triggered', '4:40', 'y.', 'rafter', 'suavity', 'evans', 'measles', 'evaporate', 'vigilance', 'corinthian', \"nourish'd\", 'into', 'herbert', 'hardcore', 'bestride', 'loosen', 'significance', 'stoppage', 'cylinder', 'gloom', 'huntsman', '9:31', 'restrained', 'millionaire', 'gutting', 'pounded', 'robin', 'zedad', 'randy', 'quill', 'wench', 'halt', 'alloy', 'gut', 'arcade', '7:7', 'painfully', 'glimmering', 'lecherie', 'seeme', 'castile', 'russet', 'mered', 'sharp', '16th', 'accessed', 'signifies', 'journeyer', 'hermit', 'tekoite', 'impair', 'reducing', 'inaguration', 'merkley', 'commodore', 'caroling', 'explored', '30:26', 'nobody', 'fail', 'parching', 'layer', 'bask', 'demolish', 'speaking', 'upland', 'hereabout', '17:5', 'peta', 'rumour', 'bivouac', 'dismal', 'anointed', 'layest', 'show', \"ma'm\", 'imprisonment', 'strung', 'trampling', 'risking', 'soothes', 'linux', 'gainer', 'insulated', 'prayeth', 'mattan', 'salem', 'howled', 'mccarthy', 'overspread', 'boycottmulan', 'pimple', 'emergence', 'husbandman', 'ruslan', 'astounding', 'ramothgilead', 'mcauliffe', 'zohar', '26:31', 'unbarred', 'from', 'alert', 'cassock', 'chrome', 'ripe', 'bane', 'interblending', 'sevenfold', 'et', '1:29', 'rapha', 'imprecate', 'instrument', 'yoke', 'brownish', 'clapham', 'cola', 'cop', 'barn', 'eliphaz', 'brace', 'tooke', 'sacha', 'limping', 'k.', 'magnet', 'jezreelite', 'oop', 'deforestation', 'spice', 'surmise', 'permission', 'slept', 'smutty', 'vase', 'thing--', 'audrey', 'automaker', 'cool', 'quakeress', 'richly', 'fourteenth', '29:32', 'abimael', 'hesitate', 'breakthrough', 'superlative', '28th', 'n.j.', 'missing', \"prison'd\", 'timna', 'gartersnake', '12:10', 'stumping', 'from--', 'quietest', 'soros', 'inherit', 'korah', '3:24', 'grammy', 'pontius', \"crow's\", '9:34', 'condense', 'honk', 'unminded', 'room--', 'kashmiri', 'ishmaelites', 'seymour', 'breast', 'guildensterne', 'burned', 'consorted', '39:20', 'stoutest', 'tappuah', 'plenteous', 'chanaan', 'elector', 'emerald', 'fitter', '37:23', 'establishment', 'negligence', 'wire', 'wheeze', \"o'rourke\", 'ruthless', 'drag', 'collyogh', 'anthem', '14:54', 'insupportably', 'sigh', 'len', '17:34', 'kroger', 'julius', 'icrc', 'daughter', 'stomping', 'hanukkah', '26:59', 'flushed', 'strictly', 'occupation', 'waterspout', 'painfulness', 'peninsula', 'befriend', 'bat', 'meryl', 'indeed.--but', 'terrours', '9:55', 'appal', '600', 'fascination', 'tauntingly', 'revers', 'poising', 'recoueries', 'lizard', 'equally', 'dimon', \"unlearn'd\", 'heedlessly', 'fallacious', 'ziba', 'a.d.', 'relief', 'exhilarating', 'sturdily', 'daca', 'dreaminess', 'obeying', 'brotherly', '6:27', 'greywood', 'cellar', 'conditional', 'custody', 'fortress', 'strive', 'acquitted', 'abruptness', 'strapped', 'sally', 'c', \"quench'd\", '11:11', '22:25', '130,000', 'bulk', 'rick', '38:8', 'pasturing', 'fareed', 'instinctively', 'abolishes', 'joseph', '8:10', '3:39', \"i'll\", 'bid', 'surprised', 'attendance', 'forgiveth', 'feverishly', 'wind', 'dirge', 'l.', 'radiantly', 'tertius', \"distemper'd\", 'investigator', 'jealousy', 'blacken', 'fraternity', 'bogus', 'wholly', 'connatural', 'encore', 'ado', 'scorning', 'consciousness', 'ap', 'grindr', 'sobriety', 'mandate', '18:6', 'barsabas', 'ordinarily', \"untouch'd\", 'desegregation', 'grit', 'hinged', 'fray', '36:30', 'mix', 'monomaniac', 'attentively', \"hair'd\", 'portal', 'casuist', 'view', 'rabble', 'davos', 'missive', 'thermometer', 'shepham', 'dislodge', '29:4', 'enjoying', 'sprang', 'robot', 'expression', '13:45', 'swath', 'innkeeper', 'cony', 'glacier', 'marvelling', 'americanos', 'unacknowledged', 'archbishop', 'sabbath', 'rooted', 'bobby', 'emulation', 'hashum', 'rivera', 'wife', '37:7', 'vexation', 'slated', 'sprig', 'bathing', 'cartwright', \"visor'd\", 'pseudo', 'betroth', 'betide', '23:48', 'drapery', 'dallas', 'flare', 'v.', 'arrive', 'steal', 'engage', 'summit', 'coole', 'near', 'denmarke', 'dove', 'believing', 'jogbehah', 'presumptive', 'fasting', 'landslide', 'disgusting', '32:34', 'maiesty', 'exact', 'muzzle', 'suggested', 'meanly', 'abuse', 'frenchman', 'necessarily', 'moabitess', 'continental', 'assaulting', 'verbal', 'housed', '26:17', 'brain', '15:11', 'lumber', 'voluntarily', 'whine', 'briefly', 'prostration', 'confederacy', 'collectedness', 'class', 'tolerating', 'planisphere', 'lab', 'skewer', 'patron', 'zoar', 'overlook', 'sudan', 'cud', 'uzza', 'developed', 'rephaims', 'agar', 'solo', 'promote', 'lusted', 'learned', 'cutteth', 'beseeching', 'ashore', 'smash', 'spoliation', 'receive', 'dedication', '2:10', 'sorrowfully', 'unemployment', 'subtile', 'affair', 'sober', 'informant', 'gear', 'hanging', '7', 'amnon', 'indulgence', 'contender', '34:16', 'greeke', 'detaining', 'scheming', '51:10', 'groan', 'career', 'intemperance', 'afric', \"hush'd\", 'colourless', 'gogh', 'bleeds', 'opaque', 'suspending', 'broadening', 'verdict', '42:18', 'interrupting', 'pensively', 'unveils', 'obsessed', 'shemaiah', 'solace', 'reforming', 'residence', '45:3', 'confession', 'thaad', 'degraded', 'abject', '3:41', 'burnishing', 'azores', 'allay', 'greediness', 'shamed', 'latino', 'cuban', 'instigation', 'accomplish', 'tolerated', 'sharif', 'musing', '1:52', 'guzzling', '1:13', 'quenched', 'bottom', '46:8', 'tropical', 'sallow', 'redeem', 'complete', 'punctilious', '9:35', \"leav'd\", 'helah', 'strip', 'obdurate', 'dubai', 'huntest', 'proclaimes', '49:1', 'respiration', 'symbolized', 'hoop', 'stalemate', 'flanked', 'gory', 'witchcraft', \"model'd\", 'leaues', 'undying', 'hillary', 'pagan', 'seafaring', 'applauding', 'intercontinental', \"laugh'd\", 'laden', 'spread', 'upbeat', 'prague', 'conspired', 'awful', 'subsided', 'cockle', 'etam', 'semiautomatic', 'cassius', 'gad', 'depredation', 'likened', 'candid', 'skeleton', 'trackless', 'resounding', 'picking', 'roxette', 'vertebra', 'fulham', 'hadadezer', 'needle', 'ruling', 'colloquy', 'whipped', 'everybody--', 'piercefield', 'hamper', 'hies', 'message', 'demas', 'tidings', 'deciphered', 'spraying', 'greenpeace', 'soonest', 'pisgah', 'essentially', 'infuriating', 'heman', 'visit', 'grapnel', 'crimping', 'stripling', 'quickest', 'gibeonites', 'brimmed', 'mach', 'metal', '16:8', 'diverge', 'cased', 'pondering', 'witnesseth', 'fifth', 'hearer', '11:41', 'chinese', 'metropolis', 'exhaust', 'meekness', \"endear'd\", 'smoothly', 'dearly', '5:31', 'acquisition', 'gilding', 'shutterstock', 'richness', 'whirlwind', 'thou', 'nook', 'allegedly', 'exasperation', 'cramer', 'charles', 'scandel', 'huzza', 'unfaltering', 'code', 'killed', 'lawfully', 'axed', 'thailand', 'abounded', 'vacation', 'freshman', 'sap', 'shabbiness', 'reproacheth', 'glut', 'ingraham', 'rain', 'fraser', 'doublet', 'partially', 'dawning', 'dodge', 'nighest', 'shabby', 'surging', 'ballynagrish', 'garden', 'gutierrez', 'upsetting', 'profane', 'kenya', 'powerhouse', 'mizen', 'pumped', 'acclaim', 'want', 'undisclosed', 'conceivable', 'blithe', 'stupidest', 'revoke', 'crieth', '47:7', 'doated', 'inhabitable', 'defies', 'payuphollywood', 'ehud', 'uneasily', 'restful', 'finny', 'dexterity', '462', 'persuasion', 'lara', 'crowdstrike', '6:53', 'hip', 'tatter', 'concluded', 'hanover', 'extinguish', 'expressively', 'puttest', 'pleaseth', 'palme', 'fastball', 'oregon', 'turner', '8:18', 'ahimelech', 'christine', 'oops', 'shopman', 'warren', 'cordiality', '34:34', 'awakest', 'conveniently', '15:38', 'contradicting', 'defection', '20:10', 'betting', 'harm', 'replying', 'drudge', 'neil', 'inflation', 'pole', 'regardeth', 'unspoken', 'corrects', 'liver', 'undressing', 'briny', 'eldaah', 'hillside', 'rupture', 'offended', 'fasten', 'zalmunna', 'halleluiahs', '20:41', 'tricare', 'fuse', 'yesterday', 'belike', 'winner', 'footpath', 'puritan', \"wee'le\", 'jong', 'breakfast', 'fuss', \"play'd\", 'conservatory', '192', 'noon', 'underling', 'travaileth', 'posterity', 'sere', 'punch', 'phantom', 'serenest', 'amendment', 'winslow', 'weazell', 'carnation', '                    ', '9:42', '13:28', 'ibzan', 'sabeans', 'homestead', '10:41', 'lessened', 'haired', 'fierceness', 'where', 'goodwill', 'judicious', 'military', 'collude', 'mexican', 'inflammation', 'shoote', '11:3', 'doobie', 'navel', 'weld', 'inhabit', 'specimen', 'adullamite', 'r', 'unscheduled', 'cbo', 'foster', 'takeoff', '1:2', \"o'th\", 'inhabiteth', 'plumage', 'braid', 'paphos', 'beachy', 'methodic', 'mazy', 'converse', 'mongolia', '44:9', 'actus', 'deprive', 'glutton', 'tanhumeth', 'coalition', 'excrement', 'denham', 'trickes', 'anointing', 'beef', 'lecturer', 'deportation', 'silk', 'maddened', \"corner'd\", 'pythian', 'maria', 'metallic', '8:54', 'pork--', 'psychiatrist', '27:32', 'questionable', 'adulthood', 'reputation', 'kissing', 'lighter', 'conspiracie', 'rallying', 'divined', 'gallio', 'souldiers', 'misrephothmaim', 'smooth', 'dew', '30:18', 'suite', 'reigning', 'pure', 'disputed', '                     ', 'flaw', 'studious', 'endeavored', 'trepidation', 'gallied', 'flowing', 'belied', 'taint', 'liveliest', 'reduced', 'platted', 'mischief', 'conveyance', 'pursueth', 'superficially', 'pihahiroth', 'mysia', 'twas', 'adherent', 'alley', 'contact', 'boisterously', 'oft', 'ail', 'rose', 'dagon', 'therefrom', 'mask', 'foyles', 'using', 'morbidness', 'merrily', 'innovation', '55:6', 'unsatisfactory', 'pity', 'diuinity', 'unlooked', 'anatomical', 'patting', 'raking', 'conceal', 'purifying', '13:31', '26:61', 'ahira', 'slavery', 'pluckes', 'innocuous', 'upside', 'vnknowne', 'splutter', 'snivel', 'ampler', 'afoot', 'jameis', 'kenny', 'lucil', '2:47', 'cured', 'intermission', 'grace', 'slag', 'trooping', 'amsterdam', '2009', 'brutality', 'accomplice', 'motherless', 'monologue', 'maintain', 'jetted', 'ahasuerus', 'scrip', '24:3', 'aristotle', '19:19', 'bathe', 'ague', 'police', '4:24', 'masrekah', 'vague', 'atheistical', 'adorn', 'deviation', 'dad', 'behalf', 'hec', 'truer', 'estimation', 'hungered', 'denounced', 'proclaiming', 'lengthen', 'misinformed', 'massacre', 'corresponds', 'commission', '46:22', 'commencement', 'manifest', 'bashee', 'opioids', '11:1', '39:13', 'enigmatical', 'salute', 'belmont', 'somewhere', 'buyback', '88', 'leape', 'gateway', 'amended', 'semblance', 'ginath', 'elastic', 'vitals', 'prediction', 'nabbed', 'protected', 'kathmandu', '21:10', 'privately', 'capture', 'immutable', 'embodied', 'hereof', 'naturally', 'pie', 'hah', 'blushed', 'retires', '23:18', \"wreck'd\", 'ministry', 'congratulations.--', 'hastie', 'shishak', 'liuing', 'knowing', 'slouch', 'hawking', 'simpler', '35', 'nsc', 'bigvai', 'installed', 'officious', 'incompetent', 'monster', 'schmeichel', 'wid', 'papadopoulos', 'discharged', 'submissive', 'autumnal', 'proud', 'trailblazer', 'witticism', 'respective', 'forte', 'sprawl', 'vouch', 'lotan', 'distaff', 'laish', 'solar', 'filling', 'joking', 'thirsty', 'tadmor', 'betharabah', 'haphazard', 'normandy', 'loaf', \"detain'd\", '15:30', 'plunge', 'mechanical', '47:1', 'tramped', 'respectability', 'justling', 'purchase', 'dinner', 'meek', 'tampon', '24:22', 'tinge', 'wallis', 'spotted', 'drift', 'hauran', 'stoic', 'dehumanization', 'swelling', 'hereunto', 'chebar', 'manasses', 'renée', 'mouth', 'bending', 'darien', 'speaker', 'ungainly', 'role', 'deserted', 'sparing', 'marriage', 'runaway', 'journeying', 'criminal', 'trimming', 'bethdagon', 'tetrarch', 'expiation', 'dark', 'carbuncle', 'banned', 'nonviolent', 'waving', 'bestow', 'wonderfulness', 'bled', 'consecrated', 'talking', 'baal', 'basically', 'wash', '22:44', 'feud', 'obtains', \"practis'd\", 'escaping', 'ablution', 'watchfull', 'assassin', 'rallied', \"vpon't\", 'mediation', 'mad', 'panther', 'promotion', 'sorrowed', 'record', 'sample', 'exercising', 'huppim', 'gittites', 'smut', 'ale', 'thirtieth', 'grimace', '550', 'maxine', 'geopolitical', 'surrender', '39:4', 'reined', 'interpol', 'scotland', 'reelection', 'misanthropic', 'bequeathing', 'waggon', 'appointed', 'tripped', '35:7', 'tracker', 'arsacidean', '24', 'tighten', 'physician', 'flora', 'spose', 'reigneth', 'dearest', 'sweetening', 'blind', 'bowd', 'groove', '900', '45:14', 'burdened', 'grip', 'part', 'noam', 'fiery', 'brightly', 'database', 'cramp', 'headland', 'targeted', 'silently', 'internationally', 'incur', 'plagued', 'hooded', 'trek', 'faintness', '66:6', 'recurrence', 'whiff', 'fisa', 'future', 'hardening', 'ruder', 'pretension', 'charger', 'genius', 'medal', 'setting', 'exclaiming', 'wiry', 'presage', 'achish', 'fentanyl', 'yang', '56:2', 'chief', 'continent', 'nye', 'shineth', 'present', 'scarf', 'lamplight', 'suppliant', 'clownish', '33:17', 'edomites', 'standest', 'grosser', 'bolder', 'stomacke', '22:3', 'signor', 'cipher', '26:25', '8:30', 'optimism', 'arched', 'elizaphan', 'midway', 'revision', 'pompeyes', 'store', 'survivor', '2000', 'ducking', 'tenure', 'thunderings', '23:25', 'zophah', 'dorchester', 'awhile', 'jay', 'commanded', 'edmund', 'sooty', 'communing', 'intricacy', 'skulking', 'denouement', 'stingy', 'indented', 'tuesday', 'poorer', 'usurpation', 'prophesied', 'stoodest', 'contradicted', 'atop', 'gallant', 'realization', 'oath', 'awaking', 'justify', 'brayed', 'chris', 'dave', '32:30', 'excellently', \"belou'd\", 'hebron', 'checking', 'originate', 'newington', 'revolving', '39:7', 'yale', 'likeness', 'obtruding', 'ak-47', 'beverage', 'lula', 'cowboy', '38:10', '32:22', 'stiggs', 'polonius', 'theater', 'bondwoman', 'revengeful', 'hateful', 'lewandowski', 'lieth', 'chairman', 'blackface', 'authority', 'princess', 'moulder', 'sackbut', '18:8', 'border', '33:23', 'past', 'terribleness', 'escalation', 'swipe', 'applies', 'odds', 'jaddua', 'stroking', 'e.u.', 'infuse', 'appeares', \"arous'd\", 'studieth', '42:21', '9:29', 'omnes', 'deacon', 'courthouse', 'brutus', 'crusted', 'wanderer', 'sharpen', 'unverified', 'bellona', 'willes', 'agh', 'jetting', 'removal', 'aleppo', 'evidently', 'duncane', 'married', 'peaceably', 'sallied', '23:42', 'unpolluted', 'assured', 'suffocate', 'horribly', 'g20', '1:40', 'cartload', '16:50', 'excelleth', 'returne', 'crete', 'jezer', 'herald', 'indoors', 'conceive', 'mene', 'navvy', 'pestilent', 'cabman', 'befitting', 'ingenuous', 'hachilah', 'apartment', 'keep', 'morsel', 'saville', 'prop', 'melodramatic', 'poleak', 'hypertext', '28:31', 'merge', \"shee'l\", 'uttering', 'behindhand', '48:35', '17:32', 'mephaath', 'nantucket', 'vndertake', 'xvii', 'vibrating', 'achaia', 'ungrown', 'cambridge', 'envious', 'abhorrence', 'preposterous', 'ithiel', 'apocalyptic', 'interior', 'mealy', 'mrs.', '7:23', 'director', '21:4', 'do?--', 'loath', 'blink', 'perceiue', 'nutshell', 'evildoer', 'tamed', 'tufted', 'hallowed', 'disrespect', '25:20', 'boaz', 'redeemer', '57:4', 'how', 'mayan', 'frigid', '38:17', 'swoon', 'invade', 'twitch', 'summed', 'monotonously', 'dorm', 'occult', 'cincinnati', 'baton', 'snore', 'upharsin', 'enough', 'throwing', 'uplifted', 'outset', 'pilgrimage', '13:36', 'continual', 'unkempt', 'albright', 'passeth', 'pirate', '29:18', 'forbade', 'pencilled', 'croker', 'intelligible', 'mesut', 'joah', 'eyesight', 'armando', 'australia', 'dismally', 'depend', 'keeper', '6:12', 'clasping', 'shower', 'thaw', 'cooled', 'fragrant', 'eliza', 'trance', 'complied', '64:5', 'supplicating', 'caricature', 'neer', 'german', 'vntill', 'rew', 'harley', '15:16', 'distrust', 'wield', 'malcolme', 'unarmed', 'eltekeh', 'robbing', 'shamefully', 'showy', 'better', 'making', 'moccasin', 'betraying', 'closet', 'request', 'registered', 'listning', 'prong', 'decadent', 'schlapps', 'refused', 'capitall', 'toasted', 'staccato', 'dna', 'indisposed', 'upward', 'regulation', 'debt', 'tempted', 'declaring', 'sinkes', 'gothic', 'filed', 'blindsided', '8:20', 'flattened', 'trapper', 'menendez', '20:17', 'unintelligible', 'comest', 'vladimir', 'uncheerful', 'insight', 'chenaniah', 'uncalled', 'clinking', 'venome', \"vs'd\", 'meaneth', 'yearly', 'bullion', '6:55', \"foil'd\", 'cybertruck', 'unequal', 'lantern', 'jiffy', 'beadle', 'pillar', 'sophy', 'workman', 'hatted', 'almanac', 'graveyard', 'avouched', 'preuention', 'scahill', 'antique', 'cheslin', 'aided', 'bridegroom', 'bennington', 'lodging', 'contemplate', 'exhaled', 'porpoise', 'q&amp;a', 'camel', 'shochoh', 'heal', '13:17', '14:45', 'overdone', 'inspect', 'wisp', 'shrug', 'misconstrued', 'antiquity', 'starved', 'unit', 'confesses', 'establish', 'achievement', 'inflammatory', 'subsequently', 'spruce', 'attorney', 'flipped', 'test', 'leaneth', 'gaddafi', 'mule', 'concocted', 'hodges', 'cleanliness', 'dogg', 'trunk', 'scandall', 'extracted', 'amour', 'paunch', '29:9', 'persecution', 'virtue', 'legalized', 'ijeabarim', 'inflexible', 'printer', '29:31', 'xiv', '7:55', 'discord', 'avites', 'peanut', 'agreeably', 'wedlock', 'dash', 'tugged', 'stupor', 'cock', 'lens', 'behaving', '2038', 'operation', 'required', 'parturition', \"crack'd\", 'whelped', 'reviling', 'nantucketers', 'azmon', 'discouragement', 'assad', 'advisor', '18:34', 'overwhelmed', '31:41', 'montaigne', 'elegancies', '20:33', 'discontented', '44:5', 'devil', 'yield', 'flogging', '21:21', 'reasonable', 'vividness', 'difference', 'exposed', 'interview', 'fundamentally', 'spectrum', 'ingratiating', 'buckler', '1988', 'technology', 'pained', '11:42', 'because', '24:11', 'sabbee', 'than', '                                           ', 'cyber', 'smirked', 'refreshed', 'totality', 'traile', 'archangel', 'brooding', 'enfolding', 'bluster', 'superintend', 'euroclydon', 'painted', 'administration', 'lisp', 'drave', 'hammer', 'scorched', '21:28', 'shelby', 'virginian', 'graf', '15:58', 'lore', 'complement', 'wintry', 'intel', 'lamented', '32:28', 'shew', 'battlefield', 'termes', 'fatherless', 'goggles', 'hangman', '29', \"e'ene\", 'contradict', 'uz', 'act', 'loveliness', 'bundle', 'package', 'gilgal', '1:45', 'temanite', 'velvet', 'unjustly', 'trait', '9to5mac', 'palestina', 'tenor', 'reaiah', 'unwarrantable', 'planter', 'caucasus', 'adroop', 'seagrass', 'guido', 'ecstatic', 'adummim', 'soiled', 'sparerib', 'github', 'halloa', 'virginity', 'kingdome', 'induced', 'catalogued', 'recess', 'lonesome', 'blocking', 'framed', 'newest', 'rink', 'separate', 'extradition', 'murthers', 'dryly', 'willful', 'satisfier', 'skirra', 'tach', 'reorganization', 'snatching', 'ambush', 'period', \"summ'd\", 'grownd', '100mph', 'cell', '53:6', 'dictatorship', 'memucan', 'great', 'clowne', 'clang', 'heareth', 'seventeen', 'briefed', '1865', 'marcher', 'deuce', 'sulked', 'semitism', 'sinewes', 'dem', 'ratified', 'unicorn', 'backsliding', 'unsettled', 'lucian', 'gozan', 'wainscot', 'reptile', 'croquet', 'bashar', 'drearily', 'goodman', 'deserues', 'ostrich', \"achiev'd\", 'miscellaneous', 'weston', 'exchanged', 'rod', 'telescopic', 'u.s.-iran', '20:39', 'callest', 'gain', 'achilles', '2:33', 'emperor', 'idumea', 'grandeur', 'rigger', 'deposition', 'disfavour', 'residue', 'mistris', 'kit', 'nightingale', 'ptsd', 'dainty', '31:9', 'baleful', '22:47', 'aladdin', '49:10', 'incorporeal', '42:19', 'emmanuel', 'swallow', 'omission', 'assuredly', '26:38', 'tapping', 'brilliantly', 'undulates', 'duff', 'finsbury', 'thine', 'righteousness', 'abbas', 'sprung', '32:14', 'tels', 'ivah', '5:47', 'gideoni', 'largely', 'banded', 'jerahmeelites', 'curio', 'bow', 'puffed', 'service', 'exclusiveness', 'tigris', 'dug', 'epaphroditus', 'aright', 'resuming', 'lye', 'female', 'pethahiah', 'guessed', 'valiant', 'crowned', 'thunderstruck', 'eliphalet', 'publishing', 'sea', 'contains', 'earthy', 'glasse', 'hovel', 'java', 'rapid', 'mediaeval', 'sparke', 'expedition', 'feigning', 'defecating', 'sleepes', 'enshemesh', 'inoffensive', 'weare', 'dishonest', 'indebted', 'had--', 'ongoing', 'conservation', 'gambolled', 'colicky', 'puigdemont', 'persists', 'skirt', 'socket', 'pile', 'fumed', 'gabbanelli', 'finish', 'aquarius', 'improper', 'contestant', 'dubosc', 'baltimore', 'releasing', 'cozening', 'milo', 'parley', 'constructive', 'uprising', '19:25', '9:52', 'skilfully', 'gull', 'easiest', 'deceitful', 'which', 'amiss', \"reel'd\", 'spied', 'ample', 'macnabs', 'yeeres', 'exchange', 'profitable', \"too't\", 'nazarites', '24:42', 'she.--', 'faced', 'seneca', 'partied', 'misconstruction', 'shaaph', 'giggle', 'steadfastly', 'perused', 'authoritarian', \"may'st\", 'upborne', '33', 'writest', 'seductive', 'galaxy', 'foretell', 'nigeria', 'reckoned', 'monsieur', 'risest', 'webster', 'supply', 'orgy', 'shouldest', 'taller', 'replacing', 'graue', 'bubbled', 'joatham', 'buckled', 'wendy', 'cheerfully', 'springy', 'egg', 'broadband', 'holon', 'journalist', 'wei', 'fails', 'prepared', 'explosive', '93', 'indecision', '17:29', 'haradah', 'tubalcain', 'reeled', 'carry', '48:2', 'amplest', 'coax', 'yarman', 'faultless', 'dismissing', 'bold', 'children.--', '37:35', \"conceiv'd\", 'his', 'k', 'reproach', 'partnership', 'elapse', 'hazle', 'shooke', 'frowningly', 'depict', 'ignoring', 'sufferable', 'psalmody', 'wesson', 'manikin', 'fortieth', 'throttling', 'pride', '36:20', 'fluttering', 'wasserman', '45:21', 'purely', 'linear', 'defend', 'wretch', 'exhaustless', 'clattering', 'nonsensical', '4:5', 'remarkable', 'suitable', 'john', 'detractor', 'cleric', 'napolitano', 'bloody', 'stooping', 'joram', 'azor', 'criticize', 'cockatrice', 'allured', '29:2', 'careening', 'observation', 'stumped', 'supper', 'ferry', 'advertising', 'voter', 'unsuccessfully', 'steak', 'stating', 'pa', 'susanna', 'sepsis', 'buzite', 'physiognomy', 'meshelemiah', 'poncho', 'clamorously', '38:29', 'tabitha', 'nomadic', 'ascendeth', '58:4', 'lone', 'perilous', 'tan', 'commenting', 'risk', 'correlative', 'appreciation', 'obsession', 'album', 'crowne', 'indifference--', 'col', '50:17', 'flying', '6:9', 'alternating', 'graduate', 'abides', 'strand', 'discordant', 'thorn', 'abortion', '3:40', 'dre', 'queried', 'snipe', '19:42', '59:11', 'omit', '2013', '31:50', 'hilkiah', 'bethhoglah', 'qualifies', 'alyssa', 'himself--', 'draweth', '28:40', 'commercially', '51:18', 'delight', 'dip', 'attired', 'f.', 'qb', 'idol', 'men', 'workshop', '29:17', 'stirreth', 'volt', \"know'st\", 'lotion', 'almost', 'it.--but', 'immoral', 'floweth', 'scarsely', 'earns', 'halter', '14:33', 'sharing', '26:7', 'hyping', 'restorative', 'jerked', 'gruff', 'pollard', '24:24', 'exhibition', 'balcony', 'glistening', 'swashing', 'canaan', 'ainsley', 'slander', 'stoop', 'promptitude', 'sipping', 'leavened', 'belted', 'divert', 'madon', 'nostril', 'quaking', 'aunt', '48:27', 'din', 'santa', \"fool'd\", 'physical', 'impatience', 'halting', 'unwinding', '6:43', 'quarterback', 'chamber', 'urging', 'claim', 'dreading', 'capitol', '18:9', 'incongruous', 'meme', 'associated', '30:25', 'discovery', 'ahoy', 'personally', 'liquor', 'sparkle', 'diver', 'yon', '30th', 'twinkle', 'hitherward', \"distill'd\", 'unmasks', 'teares', 'fraudulent', 'mirthful', 'uncircumcised', '57', 'remedy', 'perceivest', 'garnery', 'lighthearted', '51:22', 'pathetic', 'morphed', 'ascribed', '19', 'age', 'sovereign', 'coronet', '21:32', 'quickening', 'halo', 'relay', 'naamah', 'pimpled', 'spends', 'expunge', '28:19', 'sapience', 'whitehall', 'barren', 'ganges', 'tirhakah', 'cautiously', 'imitated', 'ferocity', 'altitude', 'entertain', 'boggy', 'exclaimed--', '31:36', 'thicker', 'consecutive', 'washerwoman', '48:12', 'larger', 'jedaiah', 'umbrella', 'whooping', 'dossier', 'onset', 'homeward', 'fierce', 'venereal', 'thy', 'hilarious', 'challenger', '38:9', 'magian', 'recuses', 'swiftness', 'isaiah', 'terrour', 'makest', 'kadeshbarnea', 'aereal', 'n.c.', 'omen', 'repair', 'taciturn', 'cin', 'meditation', 'successfully', 'aj', 'stewart', 'erickson', 's[aint', 'build', 'elim', 'righteous', 'impose', 'screech', 'grounded', 'brickkiln', 'farage', 'there', 'problem', 'flawed', 'seems', 'harris', 'inmate', 'resteth', 'modestly', 'narcissus', 'thoughtless', 'grander', '2:11', 'tumultuously', 'riot', 'puzder', 'flooding', 'polite', 'secunda', 'squall', 'reappeared', 'throng', 'personality', 'bangladesh', 'caused', 'pervert', 'representation', 'troubadour', 'mattathias', 'bedroom', 'admonition', 'bashfulness', 'dimmed', 'heccats', 'feelingly', 'samaritan', 'resound', 'dime', 'burnt', \"cross'd\", 'throne', 'evinced', '38:30', 'studying', '21:41', 'aviation', 'collar', 'diverged', 'i--', 'cerulean', 'supplieth', 'lethargy', 'methought', 'reiterating', 'trumpet', 'insular', 'contrition', 'perga', 'shipwrecked', 'epaulet', 'adheres', 'apparent', 'megiddo', 'detested', 'divided', 'laboring', 'godlike', 'communist', 'pregnant', 'purchasing', 'careys', 'beaver', 'triangular', 'likelier', 'joyfulness', 'article', 'capitalism', 'earn', 'jetheth', 'immense', 'crave', 'computed', 'stamping', 'defaming', 'sufficient', 'cabul', 'laburnum', 'complaint', 'lev', 'scornfully', 'strict', 'sloth', 'bethnimrah', 'crisp', 'contrasting', 'lithium', 'resolved', 'bilin', 'fin', 'colnett', 'jolt', 'godfrey', 'contraction', 'sensible', 'golfing', 'unpersuadable', 'bound', 'discoursing', 'curtsey', 'department', 'nineteen', 'manly', 'stedfastness', 'freaking', 'baseball', 'welsh', 'padon', 'villa', 'arranged', 'sorrowful', 'potiphar', '4:11', 'baking', 'distracted', \"ha't\", 'ledyard', 'fawned', 'spare', 'elkanah', 'cabin', 'introduction', 'sacrament', 'flirt', 'hardened', 'instinct', '11:8', 'spurnes', 'worsens', 'hospitalization', 'timbuctoo', 'scab', 'dramatist', 'cruiser', 'f-35s', 'apologetic', 'dodd', 'madnesse', 'biometric', '17:27', 'enjoy', 'hopefully', 'nastiness', 'druggist', 'wh', 'gayly', '110', 'delicatesse', 'fencing', 'whitish', 'cornet', 'exorcist', 'go', 'on.--', 'unveiled', 'simeon', 'cbp', '52:5', 'atoned', 'vital', 'recommended', 'waterpots', 'restrain', 'livy', 'puzzling', 'prefer', 'condensation', 'pew', 'accuser', 'corker', 'private', \"impon'd\", 'profiteer', 'shaved', 'protestant', 'adonibezek', 'definable', 'tradesman', 'spitted', 'apprehended', 'milcom', 'eliud', 'venezuela', 'dina', \"question'd\", 'inheriting', 'tripadvisor', 'cornelius', '11:14', 'case', 'jenning', 'hale', 'buttigieg', 'talent', 'say', '27:19', '43:25', 'doubt', 'reince', '33:12', 'amain', '13:26', 'timothy', 'mole', 'stealing', 'connect', 'indecipherable', 'seene', 'decent', 'saddened', 'ioynt', 'st', 'guffaw', 'stress', 'thumbe', 'massy', 'ascended', 'incarnated', 'winketh', '13:57', 'cruelly', 'sucker', 'fooles', 'fiddler', 'stony', 'lining', 'basket', 'freeman', '700,000', 'sycomore', 'omnivorous', 'roundabout', 'applied', 'siloam', 'hunter', 'rep.', 'accompanied', 'ouster', 'spontaneously', 'strain', 'said--', 'building', 'basis', 'heshbon', 'vertically', 'chair', 'dessert', 'hundred', 'zanoah', 'opportune', 'disobey', 'milling', '22:32', '38:22', 'obelisk', 'inherited', '36:21', 'trail', 'cooking', 'scooped', 'ghastly', 'fairfax--', 'teraphim', 'meekly', 'nawaz', 'bremner', 'lighting', 'celerity', 'jamin', 'samos', '140,000', 'cherith', 'showered', 'bridechamber', 'life', 'laudable', 'abreast', 'seruants', 'courtyard', 'shard', 'wail', 'leonardo', 'hezekiah', 'fitness', 'subscribe', 'troop', 'native', 'fearest', 'misfortune', 'f*ck', 'crispr', 'impulse', 'deviseth', 'teacheth', 'mattaniah', 'desire', 'sagaciously', 'openly', 'confused', 'barak', 'flourisheth', 'generation', '1:34', 'stance', 'ware', 'wright', 'info', 'gaol', 'browsing', 'thread', 'neglected', 'signal', 'hag', 'curtsied', 'insecurity', 'eclat', 'reel', 'impotence', 'wakanda', 'folly', 'levity', 'absent', 'timorous', 'underwater', 'madeira', 'typical', '40:5', 'meant', 'mixture', 'will.i.am', 'bulkhead', 'protege', 'knock', 'naturalness', 'unsatiable', 'attaching', 'tookest', 'libyan', 'evenly', 'apothecary', 'marry', 'plata', 'changeful', 'hor', 'brine', 'ophelia', 'uninjured', 'ouercame', 'limbaugh', 'microsoft', 'libra', 'regretted', 'neglecting', 'lippety', '23:40', 'oozy', 'perennial', 'adrift', 'boundary', 'farcical', 'sodaine', 'headlong', '12:40', 'dormouse', 'flynt', '12:12', 'laughable', 'jezreelitess', 'pike', 'malacca', 'gratification', 'sweating', 'mijamin', 'pause', 'abiezrites', 'ranged', '3-year', '41:25', 'obligation', 'region', 'eyeless', '2:6', 'ahisamach', 'esq', 'placidly', 'averting', 'voice--', 'reader', 'exactness', \"offer'd\", 'asserts', 'befall', 'disable', '2:30', '14:18', 'obedient', 'sheariah', 'ari', 'hezronites', 'presumed', 'quelled', 'tingling', 'bloodthirsty', 'astounded', 'ronan', 'prompted', 'hannity', 'complexity', 'greenish', 'nude', 'overbearing', '8:48', 'cleft', '36:36', 'guestchamber', 'etext', 'plumping', '39:6', 'mascot', 'intervened', '9:45', 'unrelieved', 'clown', 'streetes', 'earnings', 'snap', 'fought', 'colonel', 'screen', 'designe', '1:1', '76ers', '51:2', 'stacey', 'searchest', 'unobtrusively', '6:38', 'olympian', \"seal'd\", \"tann'd\", 'punish', 'sings', 'peered', 'precipitous', 'magnanimous', 'bishop', '16:1', \"kil'd\", 'dentist', 'la', '11:26', 'arc', 'falsified', 'kennedy', 'variable', 'equestrian', 'invented', 'perfected', 'grasp', 'denoted', 'quentin', 'contiguous', 'marchioness', 'bungling', 'ahohite', 'despite', 'coveteth', '8-year', 'oliver', \"accustom'd\", 'steward', '56:4', 'gnarled', 'blackstone', 'logical', 'sheshai', 'overthrow', 'invisibly', 'liberty', 'rankes', 'diffusing', 'manson', 'grievous', 'blotted', 'indefatigable', 'point--', 'depot', 'cup', 'invests', 'spencer', 'iowa', 'poland', 'shrivelled', 'schiller', 'smuggle', 'subscriber', 'dines', \"turn'd\", 'deplorableness', 'lucid', '250', 'pathetically', 'shoo', 'bearded', '2:35', 'administering', 'arnon', 'mourner', 'condition', 'initiated', \"smutch'd\", 'vision', 'example', 'meticulous', 'doorkeeper', 'drama', 'washing', 'abandonment', 'turk', '41:22', 'hissing', 'centrally', 'sung', 'under', 'mean--', 'trove', '39:15', '2,000', 'odell', 'cough', 'roome', 'recast', 'seraphims', 'inanimate', 'commodity', 'bless', 'mockingbird', '5:45', 'contemptuously', '5b', 'weave', '15:20', 'buster', 'halloo', '59:17', 'largest', 'sheltered', 'triangle', 'midianitish', 'outlandish', 'zophar', 'deale', 'bequest', 'ahinoam', 'jaime', \"prais'd\", \"form'd\", 'twere', 'beersheba', 'physiognomical', 'roote', 'chemistry', 'faggot', 'organisation', 'independence', 'ehang', 'dummy', 'huff', 'tarah', 'fie', 'successive', 'jefferson', 'indiscretion', 'wondrous', 'mauve', 'spray', 'cricketer', 'pinning', 'workforce', 'restraint', 'schoolmistress', 'defused', 'drunken', 'iniquity', 'murtherer', 'assai', 'contributes', 'vein', 'asker', 'fence', '50', 'bringeth', 'vnnaturall', 'mueller', 'angola', 'homer', 'vow', 'gaudy', 'distributor', 'rooting', 'upheaved', 'huda', '1,055', 'embarrassment', 'whitebait', 'irrational', '41:33', '13:18', \"an't\", 'twinkled', 'ruin', '49:7', 'lakeman', 'bridled', 'brigden', 'fancy', 'billboard', 'judgeth', 'violetta', 'bowsman', 'pittied', 'thirdly', 'fluctuation', 'comment', 'champaign', 'practicing', 'curricle', 'walkes', 'guise', '6:39', 'invincible', 'translated', 'jeff', 'vest', '1:43', 'trespassing', 'schlapp', 'ii', '11:44', 'foreknowing', 'balanced', 'accidentall', 'incense', 'pluck', 'misleads', 'tanning', 'bloodshot', 'dunstable', 'phrensy', 'beating', '5:9', 'explorer', 'crackdown', 'solicitously', 'finn', 'well--', 'misunderstand', '40:35', \"weather'd\", 'subscribed', 'banquo', 'plaster', 'arresting', 'accomplishment', 'atwood', 'tormenting', 'mallacoota', 'kentucky', 'gedaliah', 'culturally', 'shining', 'conception', 'sundown', '33:22', 'glowing', 'unjust', 'scoria', 'igniting', 'smoothing', 'infernal', 'stoneman', 'cowardly', 'motto', 'unwary', 'photo', 'surrounding', 'ignominy', 'labrador', 'tink', 'conflicting', 'color', 'wasteth', 'ferocious', 'placidity', 'turnest', 'oracle', 'to', 'fewest', 'sheet', 'turne', 'indian', 'savage', 'wild', 'mockings', 'inclose', 'regular', 'succumb', 'chap', 'unharmed', 'assessment', 'maturest', 'gonzago', 'wil', 'bread', '4.8', 'granted', \"cry'd\", 'octavo', 'soul', '1:4', 'visit;--', 'released', 'penetrated', 'sedate', 'exaggerate', 'colossal', 'adidas', 'sisamai', 'scramble', 'irijah', 'ruggedness', 'democracy', 'distinguishing', 'survival', 'fe', 'intreat', 'overcoat', 'pul', 'farm', 'azel', 'hands--', 'affect', 'horned', 'prosecute', 'nuke', 'anah', 'skin', 'lb', 'anoints', 'trampled', 'matrimonial', 'necessitated', 'benjamite', 'ambushment', 'bert', 'strato', 'disappearing', 'encampeth', 'painting', 'resplendent', 'interviewed', 'implicated', 'turkey', 'frequenting', 'breakwater', 'dexterous', 'maachah', 'mute', 'tweetstorms', 'snodhead', 'with--', 'team', 'interim', 'fye', 'fashion', 'effort', 'heightening', 'leshem', 'ayde', 'vengeful', 'haspel', 'berkshire', 'at&t', '39:21', 'prestige', 'removing', 'indorsement', 'pallu', 'jared', 'matrimony', 'internally', 'collation', \"unclaim'd\", 'progresse', 'pathological', 'aul', 'laboureth', 'denouncing', '3:13', 'direful', '1:48', 'sheth', 'imbedded', 'reduction', 'sparkled', '367,500', 'kelita', 'barrenness', 'ceased', 'gaba', 'ocran', 'evolutionary', 'celebrated', 'cocoa', 'blending', \"deform'd\", 'exaction', 'sick', 'him', 'steroid', 'jumping', 'cigarette', '14:9', 'engendering', 'throwne', 'impropriety', 'expecting', 'uttereth', 'householder', 'mantling', 'irresistibly', 'beares', 'spit', 'comb', 'timnathserah', 'eighth', 'doubtingly', '34:19', 'jebusi', 'opec', 'prioritizing', '3,500', 'besai', 'equifax', 'magnetic', 'apace', 'silencing', 'bob', 'away', 'turbulent', 'abib', 'furled', 'dathan', 'rico', 'soggy', 'mazda', '10:34', 'waxwork', 'physiologist', 'shatter', '39:9', 'transgression', '28:41', 'absalom', 'heedful', '54:6', 'plunging', 'philip', 'wouldest', 'joked', 'gardener', 'here.--', 'apnewsbreak', \"lean'd\", 'immediate', \"promis'd\", 'gabble', 'masaya', 'heft', 'lucius', 'shemuel', '9:14', 'revenge', 'attendant', 'deceased', 'wildlife', 'progressing', 'affably', 'withholding', 'note', '40:28', 'corpes', 'losse', 'found', 'zakaria', 'veiled', 'thinkes', 'endangered', 'nile', 'hollywood', 'swarmed', 'enthusiast', 'stalin', 'footlights', 'changeth', '40:14', '26:63', 'lunged', '35:32', \"steam'd\", 'purifieth', 'glass', 'reliques', 'fireboard', 'nunes', 'stanley', 'hawker', 'murderous', 'horse', 'rabsaris', 'fleetness', 'elephanta', 'ripple', 'beseems', 'agonizingly', 'swan', 'barouche', '45:7', 'kish', '20:43', 'trending', 'accountable', 'elasah', 'dorcas', \"prepar'd\", 'racking', 'tomahawk', 'unconquerable', 'vale', 'gat', 'play', 'oppressed', 'wedge', 'perceptible', '45:15', 'christian', 'flye', 'alt', 'apprised', 'parsley', 'funnelling', 'coil', 'touching', 'bother', 'norweyan', 'prevents', 'traveller', 'severity', 'sowed', 'proudly', 'snuffdishes', 'erroneous', 'happily', 'runner', '51:16', 'sunlight', 'abdon', 'broadly', 'jackal', 'morbid', 'dispensed', 'inaction', 'riled', 'drifted', 'elath', 'suggesting', '23:1', 'illimitable', 'goblin', 'elfin', 'soft', 'crayfish', '45:22', 'sounding', 'rhenish', 'centered', 'dally', '25:34', 'wal', 'strengtheneth', 'gerrit', 'unfelt', 'maliciousness', 'slumbered', 'pepe', 'priebus', 'walkest', 'responsibility', '31:27', 'ti', '666', 'contriving', 'hauling', 'continuously', 'explanatory', 'bidden', 'bunny', 'rough', 'ipo', 'shea', 'lamb', 'enan', 'frequented', 'escorted', \"stirr'd\", 'piratical', 'silas', 'solemnly--', 'you?--i', 'canvassed', 'surely', '61:3', 'banding', 'unavoidable', 'whaling', 'fabric', 'shunning', 'chicken', 'belongs', 'carbon', 'stuns', 'purchased', 'enjoins', 'bawling', 'cubit', 'drugged', 'predict', 'carve', 'diadem', 'augustus', 'confine', 'stalwart', '9:13', 'heap', 'khashoggi', 'ingeniously', 'bevy', 'dismembered', 'bin', '1:8', '49:26', 'tahiti', 'uncivil', 'caldron', 'himselfe', 'monument', 'hartshorn', 'inflamed', 'nought', 'trouser', 'freed', 'harmes', 'musicke', 'innocence', 'nation', 'lexicographer', 'gloriously', 'idiom', 'mcgrath', '59', '40', 'combine', 'disbanded', 'emphatic', 'plaything', 'shunem', 'scoresby', \"lipp'd\", 'tellest', 'encountered', '8:25', 'diligence', '2:8', 'sole', 'clashed', 'tee', 'clover', 'instructor', 'relating', 'intoxicated', 'tower', 'hatband', 'honoureth', 'graciousness', 'pottery', 'passant', 'leapt', 'macos', 'grazed', 'sardis', 'jovial', 'toi', 'saint', 'angry', 'hullo', 'devious', 'bacchus', 'vanished', 'concrete', 'zichri', 'trafficking', \"pardon'd\", 'cankerous', 'unmixed', 'apologize', 'swim', 'startled', 'skipped', 'kentuckian', 'requite', 'halved', 'severely', 'joint', 'jashobeam', 'kent', '10:12', 'fisherman', '62:12', 'capable', 'paye', 'monomania', 'divider', 'comfort', 'karabakh', 'gathrimmon', 'widened', 'caes', '16:47', 'shipping', 'groweth', 'usual', '55:9', 'proposal', 'shaven', 'waltz', 'unreserved', 'legislator', 'tore', 'agility', 'hiring', 'achshaph', 'mackinaw', 'pontifical', 'highbury--', 'bumped', 'systematic', 'silliness', 'aceh', 'reposing', 'homeowner', 'sitteth', 'admiring', 'amativeness', 'intonation', 'azem', 'belial', 'mechanically', '30:29', 'solicitous', 'irrelevantly', 'voodoo', 'nisroch', 'irony', 'slightest', 'giulio', 'gaelic', 'dr', 'amethyst', 'affection', 'bowline', 'composing', 'repose', 'continuance', 'cromer', 'fissure', 'cosmetic', 'rescuing', \"dismay'd\", 'laban', 'magdalen', 'crescent', 'voyage', 'doug', 'demure', 'humourist', '54:1', 'immanuel', 'disjoin', 'companionable', 'behavior', 'grossing', 'suspected', 'cluny', 'entertainment', 'babylonian', '19:14', 'fonda', 'sluggish', 'baalperazim', '21:26', 'imponderable', 'nat', 'salling', 'unload', 'investing', 'forswear', 'festivity', 'moderate', 'paid', 'billow', 'tenacious', 'geun', 'immer', 'eltolad', 'fruition', 'tolerate', 'impalpable', 'waxeth', 'freeze', '85bn', 'howle', 'yeeld', 'hart', 'preserve', 'adore', 'foolerie', 'cherethites', 'wishers', '26:65', 'perpendicular', 'southern', 'tougher', 'issachar', 'engraver', 'mused', 'teen', 'reproachfully', 'postpone', '20:18', 'milestone', 'slovak', 'sayes', 'qui', \"drugg'd\", 'bonnet', 'guesse', 'disability', 'agreeth', 'jesty', 'rape', 'twofold', 'adue', 'alternative', 'patty', 'betrothed', 'suggests', 'plate', 'crimea', 'partial', '10:37', 'studio', '26:50', '                               ', \"join'd\", 'announcing', 'rising', 'agnostic', '29:23', 'writer', \"walk'd\", 'nevertrump', 'other', 'checkup', 'hezbollah', 'efflux', 'infallible', 'dame', 'filament', 'warriours', 'boughes', 'compasse', 'chosen', 'citation', 'stampede', 'unleavened', 'yelling', 'ensample', 'chauffeur', 'newes', 'apricot', 'suddenness', 'hongkongers', 'perenara', 'extradite', \"o're\", 'investiture', 'celebs', 'hadarezer', 'drug', 'widowhood', 'inseparable', 'message--', 'inattention', 'maga', '6:30', 'copyright', 'josias', '5:37', 'whetstone', 'pressing', 'continuing', 'terraced', 'nearing', 'hayters', 'repairable', 'milke', 'postscript', 'magnificent', 'mob', 'silversmith', 'nihilist', 'typo', 'wide', 'gratifying', 'gay', 'felling', 'murellus', 'isolatoes', 'heartless', 'shuffled', 'butina', 'souvenir', 'hermes', 'inelegant', 'emblazoned', 'chairing', 'stablished', 'outlast', 'badlands', 'additional', 'justifieth', 'voracity', 'abridged', 'hilltop', 'anomalous', 'aesthetically', 'dread', 'emolument', 'tete', 'veering', '25:18', 'carrieth', 'brewed', 'peg', 'gunpowder', '18:39', 'desiring', '66:15', 'shilling', 'desperate', 'purposely', 'instructed', 'grapple', 'camillo', '10:23', 'conceded', \"fill'd\", 'rendezvous', 'aerial', 'cohort', 'hypothetically', 'sweareth', 'delectable', 'ammonite', '12:32', 'ramp', 'soothing', 'greybeard', 'love--', 'enquiring', 'expectation', 'churchyard', 'incapable', 'gan', 'chivalrous', 'sooner', 'proclaime', '3:37', 'distribute', 'stephanie', 'abrams', 'roll', 'odor', 'ministration', 'glencore', '5:36', 'distantly', 'balloon', 'steaming', 'suggest', 'start', 'gotten', 'affix', '26', 'wrap', 'dodged', 'portia', 'x.', 'abelmeholah', 'periodic', 'financier', 'inactive', 'meantime', 'confusingly', '7:17', 'breasting', 'imperiall', 'studiously', 'sela', 'haddish', 'hatch', 'compassion', 'framer', 'boldly', '21:34', 'pursued', 'rabbi', 'a$', 'asher', '33:27', '22:2', 'inroad', '12:19', 'infused', '38:18', 'forerunning', 'ross', 'smacking', 'haram', 'applaud', 'wheel', 'finished', 'tragicall', 'insensibly', 'mart', 'screeched', 'serenity', 'drumme', 'kossabone', '8:21', 'pillaged', 'similar', 'blasphemous', 'fervent', 'threshingfloors', 'inconsiderate', 'voluptuous', 'ebenezer', 'fracture', 'gideon', 'chasm', 'deck', '43:16', 'spoutings', 'geranium', 'wafted', 'pathros', 'lavrov', 'loiter', 'chaldean', 'trustest', 'surged', 'chastity', 'alleviation', 'warred', 'hierarch', 'baalhermon', 'gerahs', 'ragsdale', 'gritted', \"impress'd\", 'methane', 'clew', 'transparently', 'hur', 'guiltless', 'rephaim', '12:21', '4:22', '15:43', 'hasten', 'trueman', 'heist', 'cupbearer', 'outgoings', 'pliant', 'judaism', 'city', 'jechonias', 'professionally', 'fatted', 'nisan', 'pancras', 'overseeing', 'aggressively', 'jeduthun', '2005', 'habitan', 'shutting', 'remarked', 'unrestingly', 'bang', 'kohl', 'term', 'splitting', 'simplicity', 'fossil', 'threshed', \"impell'd\", 'burneth', 'solicit', 'buffet', 'medad', 'obviously', 'awareness', 'meeteth', 'professes', 'spammer', 'subverting', 'absolutely', '47:6', 'captured', 'voiceless', 'cheweth', 'canal', 'insomuch', 'reconciling', 'soueraignty', 'rescued', 'unintermitted', 'reverence', '20:19', 'hone', 'ananias', 'granite', 'ease', 'weak', 'plaintive', 'preparatory', 'ailed', 'distribution', 'knelt', 'maggie', 'describing', 'pours', 'fingerprinting', 'jago', 'tinned', 'preview', 'slammed', 'industrious', 'charlize', 'jaywalking', 'byproduct', 'seating', 'hosing', 'circling', 'pane', 'returnes', 'peggy', '11,000', 'before', 'saucepan', 'waistband', 'timber', 'peruse', 'scandal', 'killest', 'presidential', 'valuation', 'vegan', '47:14', 'indeede', 'preach', '2002', 'inferred', 'fronting', 'ee', 'crown', 'legacy', 'saw--', 'dehumanized', 'aske', 'padrona', 'zemarite', 'bile', 'weighs', 'marlborough', 'nigger----', 'grueling', '24:46', 'pinon', 'thrill', 'knew', 'lightly', 'abishag', 'conformed', 'ebbing', 'suffering', 'rodchenkov', 'louder', '7:68', 'chamberlain', 'locker', 'mankind', 'rebekah', 'lapse', 'theoretically', 'participating', 'successe', 'impelled', 'amorite', 'superb', 'adhere', 'glove', 'xx', 'inserted', 'individuality', 'liege', 'bias', 'wheelbarrow', 'trebek', 'android', '11:15', 'noised', 'traded', 'evil', 'impudence', 'precious', 'angering', \"pluck'd\", 'tailor', 'edified', 'argentina', 'sat', 'incommoded', 'wriggling', 'coarseness', 'downfall', 'delaying', 'gethsemane', 'shank', '37:33', 'hostel', 'uncircumcision', 'me', 'maize', 'inexperience', 'riser', 'si', 'indianapolis', 'quickened', 'glittering', 'overthroweth', '32:17', 'spangled', 'parody', 'onslaught', 'embarrass', 'magnifying', 'stoven', '44:3', 'sovran', 'plaguing', 'comforter', 'materialist', '37:24', 'least', 'shrank', 'transgresseth', 'elevate', \"strew'd\", 'treasurer', 'rephidim', 'meddling', 'tabret', 'repining', 'ayatollah', 'hungred', 'shallum', 'causest', 'breaketh', 'lifting', 'joktan', 'unwarranted', 'outlook', 'blowing', 'boulnois', 'epstein', 'healing', 'corporeal', 'mahalaleel', 'slanted', '48:23', 'consented', 'sombre', 'paralytic', '1:9', 'mattanah', 'brennan', '43:23', 'irs', 'agag', 'link', 'crashed', 'aristocrat', 'music', 'be.--', '42:17', '18:32', 'merchandise', 'verdure', '8:22', 'tentacle', '7:37', 'bon', 'respite', '19:48', 'drilling', 'rubio', 'unflinching', 'browser', 'programme', 'railed', 'knack', 'tyrannical', 'sean', 'apprehensiveness', 'charmed', '25:3', 'research', 'jarha', 'shadowy', 'goodbye', 'complexion', 'decay', '195', 'hp', 'eighty', 'torpid', 'proclamation', 'starkweather', 'bruised', 'wherewith', 'kristol', 'abarim', 'smoke', 'lad', 'cob', 'uc', 'raillery', 'unfounded', 'breathes', 'chuse', 'freezer', 'traced', 'dustbin', \"suffer'd\", 'smelled', 'strake', 'juno', 'collector', 'applauds', 'sterning', '20:12', 'suspecting', 'loadstone', 'sulky', 'marrie', '23:30', 'moore', 'thirteenth', 'slang', 'katy', '29:34', 'verra', 'greitens', 'flamed', 'undoubted', 'unwise', 'perhaps--', 'dial', 'trowel', '35:6', 'welded', 'semitic', 'cornered', 'lips--', 'isolated', 'iulius', 'passable', 'slaughtered', '40:38', 'comprehensive', 'arrogant', 'imparts', '4:27', 'straw', 'topaz', 'asterisk', 'promptly', 'spouter', 'windward', 'savory', 'albany', '12:36', 'cleansing', 'bethink', 'sisera', 'stilly', 'abiathar', '2:2', 'titus', '37:26', 'exterior', 'combined', 'bestrown', '2018', 'israelite', 'nicety', 'admirably', 'chuckling', 'welfare', 'correct', 'tarrieth', 'bernard', 'ensamples', 'flail', 'thrice', 'obserue', 'unsightly', 'upended', 'adequately', 'misgave', 'published', 'secular', 'boyish', 'insulted', 'foresaw', 'banjo', '30:23', 'investigates', 'artless', \"drown'd\", 'smaller', 'meshach', 'helam', 'hamill', 'braggart', 'whiting', '41:12', 'clotted', 'joyed', 'gentleman', 'heave', 'india', 'sayest', 'paralyze', \"trellis'd\", '42:4', '29th', 'inseparably', 'shammai', 'strike', 'neighbourly', '1870', 'work', 'ammon', 'wiretapping', 'approve', 'geshuri', 'andes', 'unemployed', 'zobah', 'padlock', \"envenom'd\", 'ventriloquist', 'disobeys', 'descendant', 'danny', 'accordion', 'bereave', '41:3', 'bony', 'ahlai', 'sensational', 'decency', 'inuk', '16:10', 'sutes', 'heron', '5:43', 'dissertation', 'marble', 'telephone', 'austere', 'erst', 'caska', '43:28', 'mizraim', 'sly', \"listen'd\", 'hectic', 'shady', 'inclining', 'ebal', 'peel', 'film', 'realizing', 'getting', 'haroc', 'at', 'vttered', '15:26', 'drafted', 'congenial', 'white', 'worthiest', 'ex', 'crop', 'indiscriminately', 'synod', 'shimea', 'corruptly', '10-day', 'famed', 'pedestal', \"receiu'd\", 'josedech', 'spokesperson', 'october', 'preferre', 'soak', 'chaos', '58:10', 'inquisitive', 'filthy', 'sheba', '7:35', 'oriental', 'magna', 'renounced', 'richard', 'spotty', 'necke', \"press'd\", 'ensuing', 'throb', '1973', 'renting', 'fervently', 'waved', 'affectionately', 'witchery', 'mistake', 'flitted', 'grande', 'revile', 'berg', 'mine--', '11:18', 'brauery', 'insatiable', 'foil', 'begged', 'mendocino', 'trough', 'treasonous', 'perchance', 'insert', 'armourbearer', '35:2', 'zorobabel', 'elysee', 'essential', 'calming', 'ceremonious', 'magazine', 'tricke', 'signing', 'stumpy', 'african', 'flaky', 'subduing', 'lend', 'schoolboy', 'were', 'destruction', '5', 'sartain', 'despaired', '41:16', 'buffett', 'op', 'betoken', \"do'st\", 'aggregate', 'overtime', 'route', 'shimeath', 'tj', 'scribbled', 'souse', 'soundness', 'dependence', 'dined', '20:23', 'tendinous', 'instead', 'disdain', '38:27', 'dyspepsia', '11:20', 'tendril', '7:24', 'resigning', 'wholesale', 'leadeth', 'monterrey', 'dissembled', 'helkath', 'mosque', '38:26', 'old', 'local', 'downstairs', 'manchester', 'tucking', '29:22', 'kee', 'beer', 'stretching', 'constantly', 'beginning', 'edification', 'terminating', 'muchness', 'fluency', 'bahrain', 'barked', 'jehoiada', 'gillibrand', 'sawed', 'schooner', '18:15', 'reckless', 'abiram', 'egotistical', '27:21', 'moveth', 'reform', 'louis', 'hugest', 'foggy', 'cockade', 'sceptic', 'exceptionalism', 'snowed', 'the', 'base', 'testament', 'sit', 'illiterate', 'engineer', 'clapper', 'identifying', 'eightieth', 'piano', 'fabled', 'handcuff', 'grupello', 'damon', 'eyeing', 'hated', 'job', 'considerable', 'communed', 'exhilaration', 'boris', 'woodland', 'warmest', 'tint', '17:13', 'albatross', 'heinrich', '15:10', 'apartheid', 'dat', 'even', 'hose', 'operative', 'fellow', 'joy', 'insidious', 'way', 'training', 'preemptive', 'smilingly', '43:21', 'dementia', 'sniff', 'unloads', 'doat', \"march'd\", 'indie', 'honeycomb', 'milan', '46:18', \"watch'd\", 'misconduct', 'galilee', 'approached', 'foreseeth', 'cupola', 'swiss', 'drie', '            ', 'shadrach', 'hertzberg', 'circumference', 'fiona', 'gleaned', 'carriage', 'growing', '30:13', 'wise', '65:1', 'penetrate', '1836', 'dazzlingly', 'treat', 'forepaw', 'yoked', 'oberon', 'saluting', 'decanting', 'congresswoman', 'wandering', 'expense', 'unseemly', 'stove', 'gunner', 'omnipresence', 'famishing', 'merest', 'discernible', 'biggest', \"roll'd\", 'doest', 'bilgah', 'landing', 'whalemen', 'beaming', 'comms', 'knife', 'wren', 'congressional', 'dexterously', 'thicket', 'interdiction', 'hitting', '22:7', 'caterpillers', 'benefit', 'wound', 'oven', 'jarah', 'radney', 'milliner', 'wheeling', '21:38', '2:14', 'leaning', 'session', 'dagger', 'houseless', 'improving', 'freshness', 'permissive', 'wax', 'progressive', 'neglect', 'beam', '46', 'barbaric', '46:27', 'facing', 'rouhani', 'heaver', 'nahaliel', 'sparkling', 'pinned', 'tender', 'announcement', \"help'd\", 'notified', 'revolutionist', 'tumult', 'celestiall', 'cleverest', 'seleucia', 'literary', 'surprisingly', 'toiling', 'moustache', 'obeyedst', 'nigger', 'mizpah', 'perth', 'calamus', 'bleating', 'raped', 'posturing', 'zip', 'insertion', 'dumbe', 'kingston', 'abidan', 'netflix', 'timing', 'update', 'poison', 'seized', 'hannah', '27:13', 'awaits', '21:37', 'went', 'zephaniah', 'meremoth', 'rectitude', 'blackened', 'feebleness', 'imparted', 'lofty', 'unwelcome', 'enrollment', 'coverup', 'debut', 'master', 'tou', 'impute', 'unnearable', 'midian', 'cappadocia', 'miller', 'raised', 'dumping', '20:15', 'xl', 'fictitious', 'senor', 'sneered', \"sicken'd\", 'consoling', \"maim'd\", 'fascist', 'cinnamon', 'serue', 'balaam', 'lustful', 'hoppity', 'bloodie', 'farmer', 'barzillai', 'ref', 'partiality', 'criticizes', 'seised', 'sensual', 'indigenous', 'disordered', 'purposed', 'unpretentious', '51:4', 'klobuchar', 'consternation', 'anyone', 'skate', 'shulkin', 'shews', 'frowned', 'seaweed', 'rambled', 'verified', 'sweepstakes', '22:52', 'calif.', 'rosamond', 'beast', '19:27', 'great-', 'activist', '43:11', 'adulteress', 'nahum', 'skinnes', 'rover', 'until', 'application', 'hoping', 'bottomless', 'burma', 'profaned', 'middle', 'unchanged', 'b.', 'slanderer', 'lost', 'jem', '27:6', '32:40', 'christened', 'wallowing', 'ethiopia', '400', 'halyard', 'misrule', 'dated', '15:32', 'scorsese', '11:43', 'populace', 'document', 'coleridge', 'reluctantly', 'diplomatically', 'abelbethmaachah', 'partisanship', 'centenarian', 'backside', '11:4', '22:22', 'sideways', 'fornication', 'exceeds', '22:48', 'merrie', 'ahaziah', 'luck', '32:19', 'waketh', 'maid', 'exile', 'employee', 'star', 'hank', 'shal', 'donal', 'imperfection', 'give', 'smoothe', 'spiritualist', 'curd', 'looked', 'toilette', 'creepy', 'hurriedly', 'operated', 'engagement--', 'somerses', 'snoring', 'avoided', 'astronaut', 'graved', 'adnah', 'prohibited', 'twig', '9,103', '15:47', 'vtter', 'bleede', \"unreck'd\", 'representing', 'abated', 'contrast', 'lewd', 'crewkherne', 'ungrateful', 'doomed', '40:6', 'me?--i', 'dunghill', 'caphtor', 'darkling', '30:36', 'indefinitely', 'studded', 'yong', 'bandy', 'seeketh', 'began', 'it?--where', 'argue', 'porn', 'veritable', 'auoyded', 'absurdity', 'bordering', 'exceed', '11:19', 'tonight', 'hashmonah', 'retarding', 'dealmaking', 'gittite', 'withdraws', 'gera', 'clustered', '5:18', 'schiff', '41:8', '44:29', 'tap', '18:41', 'reveal', 'relinquish', 'exaggeration', 'chorus', 'mutual', 'logician', 'easterly', 'indescribably', 'sated', 'freshest', 'more--', 'inure', 'onion', 'orgs', 'madrid', 'violated', 'stringing', 'sychem', \"barr'd\", 'critically', ' ', 'resign', 'cetacea', 'aimed', 'disappeared', 'viciously', '400,000', \"th'art\", '7:52', 'left', 'financial', 'wallowed', 'ashur', 'wiser', '26:48', 'espoused', 'euill', 'arkansas', 'illumined', 'linked', 'refined', 'ulam', 'enabling', 'oil', 'mugabe', 'deceitfully', 'pyjama', 'net', '49:2', 'footage', 'pugilist', 'unsupported', 'saluted', 'inhabitant', 'nba', 'wikipedia', 'esteeme', 'tanner,--but', 'vernal', 'pope', 'lungless', 'stamp', \"render'd\", 'fortified', 'dixon', 'bankrupt', 'hammock', 'mock', '13:24', 'jotham', 'dishonour', 'spending', 'stowed', 'obstacle', 'nikki', 'trumpeted', 'inferiour', 'oarsman', 'child', 'houghed', 'lipa', 'houshold', 'cleanseth', 'feminine', 'soundest', 'goodness', 'melodious', 'thereon', 'lettuce', '42:15', 'dogge', 'chenaanah', 'purged', 'me!--', 'alternatively', 'glaze', 'ronaldo', \"shovel'd\", '27:11', 'mandalorian', 'authentick', 'casual', 'haply', 'villanous', 'overtaken', 'attire', '41:5', 'rested', '1,500', 'right', 'resolute', 'blest', 'merman', 'cinderella', 'scall', 'fled', 'abased', 'the[m', 'talbotite', 'unwanted', '47:18', 'preserver', 'sweetness', 'playing', 'knell', 'unhappy', 'untaught', '20:31', 'watchtower', 'pall', 'product', 'hour', 'lass', 'him?--', 'tea', '28:33', 'miser', 'agitate', 'thing', 'augmented', 'pair', 'famously', 'criticise', 'spasmodic', 'immeasurable', 'noisy', 'dependent', 'hesitating', 'gout', '30:31', 'concreted', 'uncompromising', 'quote', 'interpreted', 'immoderate', 'edging', 'calendar', 'rind', 'burglary', 'thames', 'conscious', \"plac'd\", 'diest', 'graceful', 'uttered', 'discount', 'stomacher', 'barricade', 'gomorrah', 'captiuitie', 'beanstalk', 'inimitable', 'bordered', 'stick', 'mocking', 'charing', 'tenement', 'central', 'alan', 'zia', 'engagement', 'satisfy', 'perforce', 'zeeb', 'squaw', 'ted', 'crook', '15:51', 'searched', 'thin', 'xv', \"awak'd\", 'sin', 'degree', 'listens', 'pig', 'nebuchadnezzar', '14:2', 'bespoke', 'whisper', 'ledge', 'colin', '25:11', 'nypd', 'comely', 'melissa', 'beauty', 'obstruct', '22:6', 'oder', 'bathroom', 'maelstrom', 'walked', '31:33', 'against', 'hanged', 'lancy', 'recognized', 'tola', 'polled', 'former', 'longtime', 'palest', 'enchanter', 'curiosity', 'multitudinously', 'untempered', 'turban', 'ring', 'vppon', '5:20', 'circle', '9:44', 'accommodate', 'virtuous', 'sinneth', 'pouch', 'blessed', 'inky', 'epithet', 'messa', 'hypo', 'email', 'unrivalled', '22:1', 'rheumatism', 'disorder', 'truant', 'detain', 'nickel', 'consumes', '21:5', 'sharpness', 'cfpb', 'aboard', 'goblet', '44:14', 'respectfully', 'excusable', 'gravy', 'sadder', 'comedy', 'survey', 'steel', 'vnworthy', 'engannim', 'speak', 'putting', 'fresher', 'flour', 'infixed', '2:20', 'serried', '24:39', 'attyre', 'flaming', 'disgusted', 'tirelessly', 'pardoning', 'vomit', 'poorly', 'earliest', 'enthusiastic', 'eccentrick', 'tire', 'spicy', 'clutch', 'tumble', 'overflowing', '24:38', 'snatched', 'dilate', 'forme', 'michah', \"show'd\", 'sprinkling', 'dint', 'impartial', 'adani', 'creeper', 'unwearied', 'goose', 'criminalizing', 'hollyhock', 'cooler', 'trembling', '19:17', '45:12', 'fictional', 'hind', 'tyrus', 'jim', 'oddest', 'buttered', 'drew', 'bounder', 'garret', 'warplane', 'austrian', 'dayspring', 'behold', 'shrinking', 'apt', 'despatched', '7:62', 'hearse', 'pedaiah', 'anbang', 'restoreth', 'herod', '20:16', 'marin', 'horseback', 'climb', 'kohath', 'abideth', 'bland', 'apocalypse', 'generalization', 'bringing', 'warmeth', 'begirt', 'allayed', 'moulded', 'spangling', 'himself,--it', 'worse', 'potted', 'feeling', 'hampshire', 'seashore', 'beg', 'restored', 'sub', 'unheeded', 'steve', 'confederate', '6:59', 'kidnapped', 'narrated', 'uygur', 'eight', 'aground', 'pekahiah', 'indicated', 'himalaya', 'reprobating', 'handed', 'reacts', 'extinction', \"ye'll\", 'sixteen', 'endeavoured', 'summoning', 'injury', 'most', 'nightclub', 'puzzled', 'arad', 'startle', 'blend', 'daisy', 'man', 'wantonly', 'orator', \"mean'st\", \"combin'd\", 'bulb', 'daunting', 'kindnesse', 'district', 'camp', '64:1', 'bar', 'wished', 'protect', 'instagram', 'cæsar', 'mangled', 'tiresome', 'recover', 'commerce', 'suspended', 'absentminded', 'nursed', 'oilfield', 'houer', 'consumer', '54:5', 'torn', 'govt', 'consist', 'dixons', 'apronful', 'baalah', 'crownes', 'promotes', '41:1', 'fickle', 'elevated', 'subsiding', 'conservative', 'august', 'councell', 'imply', 'prometheus', 'aroused', 'bellied', 'dell', 'consultation', 'streaked', 'shamer', 'uniter', 'deceive', 'spring', 'kindness', 'landlady', 'lookes', 'lookalikes', 'maternity', 'impress', 'jetur', 'hin', 'scan', 'wandered', 'stiffened', 'vnder', 'angell', 'cephas', 'shirtless', 'incited', 'kine', '30:14', 'advertisement', 'stock', '7:2', 'forthwith', 'epaulette', 'crossed', 'paused', 'cleane', 'garland', 'awaked', 'abandon', 'conduit', 'gratefully', 'sublimity', '14:28', 'onan', 'sunday', 'cringing', 'shaaraim', 'cooper', 'noah', 'elishua', 'proof', '1:33', 'peril', 'unrecognizable', 'spred', 'refusing', 'pilgrim', 'jeopardy', 'monitor', 'pin', 'tribute', 'consoled', 'fleshly', 'jemuel', 'effeminacy', 'eziongaber', 'salisbury', 'looking', 'encircles', 'wreak', 'hairless', 'unbolted', 'x27', 'minutely', 'whaleman', '30:1', 'prescience', 'plucked', 'gentleness', 'insinuating', 'grenfell', 'healthcare', 'affidavit', '2.murth', 'died', 'retreating', 'enforcement', 'frontrunner', 'alight', 'sequel', 'clamor', 'moisten', 'embody', 'ignored', 'effaced', 'stormed', 'bickering', \"deliuer'd\", 'accession', 'unmoved', 'niagara', '2:46', 'avail', 'practicable', 'glen', 'arras', 'displaced', 'macd', 'become', 'unnecessarily', 'repairing', 'unearthly', 'julian', 'signifying', 'ascertain', 'flung', 'fishery', 'intersecting', 'acknowledging', 'flight', 'rounder', '9:21', 'congratulate', 'magician', 'sina', 'searchable', 'regulator', 'grandchild', 'austin', 'heavenly', 'frugality', 'unique', 'shudderings', 'algum', 'directive', '138', 'stalking', 'desirable', 'restrict', 'handshake', 'sexuality', '39:11', 'finger', 'jerahmeel', 'impassive', 'society', 'ordain', 'based', 'austen', 'nasa', 'loaded', 'hearkened', 'herodians', 'steamship', 'dishonestly', 'iephta', 'disporting', 'germany', 'loue', 'shasta', 'despot', 'gamesmanship', 'gareb', '3:47', 'huswife', 'drank', 'thaught', 'challice', 'jewish', 'marked', 'yeast', 'tiled', 'finale', 'radically', 'litter', '49:12', 'squat', 'persian', 'soviet', 'heroically', 'duel', 'quarrelled', 'galeed', 'breach', 'durable', 'bearest', 'mar', 'revilings', 'publisher', 'graffed', '27:41', 'compliant', '3:38', 'exclusive', 'toed', 'incalculable', 'slab', 'cruelty', 'eilidh', 'sculpture', 'hunkers', 'footing', 'word--', 'othniel', 'understand', 'threaten', 'stolidity', 'armenia', 'town', 'mechanism', 'unquestionably', 'watery', 'combatting', 'entrapped', 'incognita', 'ireland', 'watching', 'holland', 'darius', 'longing', 'interference', 'speechlesse', 'gerizim', 'sharpe', 'daunted', '25:33', 'argues', 'buttoning', 'satirical', 'elephant', 'nineteenth', 'unbuild', 'feeler', '26:19', 'balustrade', 'helve', 'extant', '11:46', 'bodily', 'ebiasaph', 'league', 'ruines', 'songwriter', 'effulgence', 'eliashib', '22:49', 'syene', 'gibeon', 'gleaning', 'baden', 'unmerciful', '32', 'underlying', 'greenhouse', 'precept', '44:17', '36:23', 'surcharged', 'lgbti', '3:31', 'onely', 'mash', 'humane', 'mu', 'callous', 'gershonite', 'sacredness', 'name', 'o’rourke', 'file', 'jaffa', 'discompose', 'spews', '         ', 'eye--', 'charlie', 'warner', 'remembers', '47:5', 'his.--', 'phenomenon', 'churl', 'frustrate', \"open'd\", 'silicon', 'hint', 'lyon', 'mould', 'stabbed', 'named', 'forth', '25:21', 'ment', 'readest', 'drink', 'enderby', 'erreth', 'slush', 'upwards', 'opal', 'exhibit', 'delia', 'brun', 'anime', 'netroots', 'sneer', 'opprobrious', 'hogg', 'weares', 'divineness', 'grandma', 'ramah', 'bowing', 'humility', 'laser', 'hothir', 'astronomy', 'etf', 'destructive', 'enormously', 'bullying', 'fawn', 'indistinctly', 'pruninghooks', 'briskly', 'quits', 'tillerson', '5:34', 'kaspersky', 'connected', '29:27', 'attacker', 'counterfeit', 'wellesley', 'almug', 'corp.', 'broaden', 'touting', 'octauius', 'stinking', \"did'st\", 'romanian', 'fright', 'energy', 'shameless', 'olympic', 'climbed', 'naomi', 'conning', 'immaculate', '57:2', 'blowfish', 'graven', 'repentance', 'abhor', 'band', 'leather', 'wounded', 'ratio', 'reserveth', 'xinjiang', 'demeanor', 'sharkish', 'needed', 'sash', 'leyden', 'created', 'discontinue', 'donavan', 'sunlit', '56:8', 'shod', '22:10', \"honor'd\", 'saline', 'slew', 'g.k.', 'all', 'ashdothpisgah', 'agent', 'baser', '36:24', 'abed', 'crescentic', 'eerie', 'availing', 'inside', 'busily', 'wef', 'jazer', 'goldman', 'bantering', 'humiliate', \"loued'st\", 'sharpeneth', 'vse', 'laughed.--\"i', 'readiest', 'spectre', 'direst', 'artistic', 'my', 'endow', 'unclean', 'murk', 'importation', 'hurrah', 'iudicious', 'overthrew', 'remarkably', '13:7', 'itch', 'appliance', '44:12', 'hijack', '11:5', '24:31', 'banana', 'contendeth', 'hjiab', 'el', 'helon', 'circulates', 'zif', '17:11', 'duckworth', '6:14', '24:53', 'aloft', 'barrier', 'spilt', 'drowsily', 'uri', 'gunman', 'buildeth', 'cheran', 'arrived', 'plaintiff', 'violate', 'undulation', 'heaven', 'weeping', 'disinvites', 'lamppost', 'architecture', 'idealistic', 'conduce', 'aaronites', 'cousin', 'replaced', 'pastor', 'abhorreth', 'homely', 'melody', 'emulous', 'defensive', 'buries', 'stander', 'imminent', 'shrieked', 'detour', '65:2', 'chanced', 'harpooneer', 'joiakim', 'fixed', 'ethereal', 'authoritative', 'replaces', 'childishness', 'lorry', 'putin', 'gypsy', 'chushanrishathaim', 'disapprobation', 'lowered', 'sympathized', 'seawood', 'saved', 'diabolical', 'bethphage', 'persevered', 'grapegatherers', 'examining', 'slash', '26:60', 'oddly', 'spareth', 'hoshea', 'misery', 'retort', '66:2', 'flit', 'readeth', \"color'd\", 'refuge', 'acting', 'screwed', 'pussy', 'ditch', 'zibiah', 'apprehensive', 'rehearsed', 'resume', 'lonely', 'encountering', '418', 'this?--what', 'kisse', 'farrakhan', 'flog', 'leagued', 'alluring', 'pageviews', 'sh*t', 'miraculous', 'stank', 'anvil', '73', 'realise', 'noms', 'arvadite', 'disgorge', \"see'st\", 'misapprehension', 'ditched', '32:23', 'rahab', 'divinely', '48:21', 'hawser', 'harass', 'introduced', 'aholibamah', 'pisidia', 'nyc', 'secondly', 'fancying', 'prescient', 'etexts', 'blundered', 'predestinate', 'ledger', 'gelatin', 'agreed', 'reading', 'peculiar', 'thankfully', 'preface', 'stiffest', 'comming', 'birthplace', 'national', 'bowling', 'sliver', 'elder', 'unimaginable', 'thoughtlessness', 'northern', 'overall', 'vnsanctified', 'desirous', 'intrude', 'equall', 'niche', 'conveying', 'sichuan', 'limitless', 'moderately', '13:3', 'offence', '46:2', 'vaunted', 'aired', 'gowne', 'argus', 'struggling', 'bravado', 'roamer', 'self', 'enlightened', 'manage', 'salvation', 'kevin', 'matched', 'interfering', 'background', 'f.c.', 'interposed', 'nominally', 'tedious', 'jot', 'blasphemed', 'fortnight', 'resina', 'midfielder', '28:36', 'nahshon', 'territory', 'baalhanan', 'primus', 'berry', 'owen', 'amazonian', 'chivalry', 'amiably', 'aduise', 'betwixt', 'weaponizes', 'snuffed', 'rumbly', 'revulsion', 'inducement', 'vindictively', 'scarcity', 'signet', 'nourish', 'deplore', 'fatfleshed', '13:41', '4:32', 'philosophy', 'competency', 'precinct', 'pitteous', 'superstition', 'doeth', 'modest', 'prescribed', 'clerk', 'conspicuous', 'vs.', 'suspense', 'rebut', 'disapproval', 'assail', 'reclaim', 'plausible', 'rebellion', 'richest', 'unopposed', 'bethjeshimoth', 'p.m.', \"hipp'd\", '13:42', 'prosecution', 'robocalls', 'vengeance', 'unactive', 'claudia', 'widespread', 'pooh', 'ave', 'repulsed', '31:10', 'raising', 'convincing', 'pi', 'skeptic', 'benaiah', 'eber', 'pillowes', '2001', 'tehran', 'loved', 'overcometh', 'share', 'perverting', 'behring', 'erased', 'charade', 'aware', 'intimate', 'conjecture', 'swathed', 'michal', 'lucy', 'fraternal', 'hydrus', '4:34', 'hearty', 'choicest', 'threatened', 'bradshaw', 'unclad', '43:7', 'limb', 'scullion', '21:15', 'finality', 'hoon', 'legitimize', 'feele', 'vouchsafes', 'agricultural', 'brushed', 'world', 'identity', 'shechaniah', 'explaining', 'azzah', 'grove', 'spoiling', 'muffin', 'longest', 'sop', 'blade', 'oyster', 'occupied', 'pulled', '4:9', 'foule', 'slightly', 'casket', 'outrageous', 'phiz', 'olde', 'compels', 'theory', 'jephthah', 'enforcing', '26:58', 'virtuosity', 'doue', 'eatest', 'unhinged', 'tatnai', 'castest', '39:30', '42:25', 'bounced', 'azgad', '19:39', 'bruce', 'two', 'akin', 'unwilling', 'dawn', 'invaded', 'montano', 'exceptional', 'reminiscence', 'her;--', 'stomach', 'emitting', 'mop', 'window', \"edg'd\", 'sighed', 'subtlest', 'drunkard', 'stupid', 'answering', 'jewelry', 'fellowes', 'hora', 'gruel', 'porous', 'coon', 'whichever', 'wisely', 'wordless', 'asleepe', 'ludgate', '9th', 'seraiah', 'gasping', 'tray', '48:34', 'pathway', 'cush', 'intermits', 'firmament', 'sussex', '5:22', 'piled', '49:22', 'existing', 'absently', 'rollback', 'xvi', '18:14', 'boaster', 'removed', '168,000', 'poised', 'invited', 'mayhap', 'beale', '                                ', 'conceit', 'donor', 'confounded', 'indefensible', 'spaniard', '26:8', 'deer', 'windy', 'anxiously', 'indicted', 'dispenses', 'tank', 'cumbrous', 'chancing', 'prosecuted', '30:28', 'stern', 'swordstick', 'cooked', 'chord', 'currant', 'selected', 'clenching', '37:5', 'conquered', 'wildness', 'grievously', 'overlaying', 'erskine', 'applauded', 'effulgent', 'shoulder', 'frog', 'abomination', 'te', 'complacency', 'tiras', 'intervening', '29:1', 'noun', 'halteth', 'maul', 'prince', \"conceal'd\", 'netophathite', 'indemnity', '42:22', 'finishing', 'gardening', 'adhering', 'caw', 'camest', 'curtain', 'humouredly', 'tenderhearted', 'station', 'spraining', 'column', 'inventor', 'landscaper', 'hut', 'airstrike', 'calm', '16:5', 'apostolic', 'completely', '12:50', 'threatening', 'mansfield', 'cdc', 'myrtle', 'degenerate', 'murdering', 'impassable', 'attains', 'reassures', 'sonic', 'plaistered', 'guessing', 'bounded', 'slacked', 'appearance', 'achaz', 'screening', 'turning', '16', 'cope', 'unfulfilled', 'memorable', 'flapping', 'remains', 'phrenologist', 'tympan', 'buckle', 'kashmir', 'norma', 'louisiana', 'in', 'burger', '22:40', 'rower', 'nicest', 'hayter', 'doll', '1:17', '3:46', 'concealeth', 'captaines', '17:1', 'allegeance', 'twittering', 'fallout', 'industriously', \"ne're\", '13:21', 'gluttonous', 'opprest', \"unharm'd\", 'processing', 'instantly', 'bizarre', 'stretch', 'abused', 'bbq', '63:5', 'jezaniah', 'ript', 'chicha', 'mocker', 'wayside', 'warlike', 'paseah', 'prussian', 'brawny', 'speake', 'unfrequently', 'implicitly', 'limped', 'loading', '37:13', 'ford', 'felt', 'soliloquy', 'horizon', 'wince', 'pembroke', 'debra', 'andre', 'loretta', 'bomber', '15:53', 'findest', 'childish', 'underlie', 'throbbing', 'desert', 'bos', 'clinic', 'scanned', 'ahimaaz', 'cosin', 'socialist', '43:3', 'personal', 'pantomime', 'voracious', 'breeze', 'ashantee', 'horizontal', 'bugle', 'execration', 'abda', 'wachowski', 'eschewed', 'outline', 'marched', 'tempts', 'monotony', '11:23', 'wretchedness', '9:4', 'moat', 'bleak', 'dictionary', '20:24', 'fortune', 'fated', 'replication', 'dominica', 'flourish', 'fake', 'deadline', 'bracing', 'everest', '41:9', 'unsuitable', '1,800', '14:19', 'asshur', 'joanna', 'morasthite', 'newsletter', 'fan', 'government', 'crush', 'feigned', 'rauen', 'seriously', 'drunkenness', 'involuntarily', '65:10', 'process', '48:25', 'fios', 'hadid', 'lain', 'owneth', '16:32', 'yonder', 'zimmah', 'web', 'deceptive', 'dish', 'selfe', 'sting', 'steelkilt', 'usher', 'blackberry', 'glorify', 'cryes', 'agabus', 'wile', 'uninstall', 'chartered', 'foolish', '14:12', 'seasoned', 'offends', 'brobdingnag', 'certainty', 'mattenai', 'shear', 'peering', '9:37', 'pressman', 'insists', 'deleted', 'stifling', 'plebeian', 'prostrate', 'sleepest', '58:8', '13:50', 'angeles', 'pagiel', 'stung', 'splendor', 'pheasant', 'seduction', 'side', 'discoverer', 'eustache', 'grabber', 'murtherers', 'regularity', '1.7', '50:14', 'catholic', 'gillespie', '13:53', 'octagon', 'connecticut', 'discover', 'instance', 'envyings', 'ranch', 'tabor', 'terrier', 'moan', 'impaled', 'hued', 'boasteth', 'becharmed', 'tweetstorm', 'calabash', 'rapturously', 'doubtfully', 'slung', '3:18', 'volcanic', 'tainted', 'distance', 'shorter', 'mortify', '11:31', 'shecaniah', 'launched', 'wanda', 'brim', 'hapless', 'bethshean', 'asaph', 'kindred', 'electrical', 'sackcloth', 'dissolve', 'wyden', 'divine', 'thrush', 'terra', 'wwii', 'stunning', 'irreversible', 'bethpeor', 'freedom', '37:37', 'midwife', '20:29', 'certificate', 'socrates', 'ungallant', 'scrupled', 'unheard', 'bolted', 'unsleeping', 'mull', 'affrighted', 'bide', 'inland', 'ornamented', '15:22', 'milcah', 'averts', 'olivet', 'houres', '39:17', 'dissolving', \"enter'd\", 'rebell', 'review', 'procreant', 'wisher', 'encompassed', 'healthfull', 'weary', 'riposted', 'bamoth', 'evasion', 'natural', 'prig', 'fowl', 'carnival', 'dod', 'hoist', 'spy', '57:1', 'abiezer', 'propitious', 'relearn', 'dissipation', '19:12', 'kerry', 'kir', 'battle', 'piazza', 'shobach', 'backlash', 'musk', 'acceptable', 'sneezing', 'liking', 'emulate', 'meanest', 'cord', \"contain'd\", 'costliest', 'goodnight', 'panting', '19:26', 'voyce', '8:13', 'devout', 'morn', 'buff', 'exploit', 'adminstration', 'readable', '120,000', \"hatch'd\", '10:38', 'countering', 'disputings', '35:13', 'melbourne', 'arriere', 'milch', 'stoope', 'off!--', 'solitary', 'deepening', 'devotion', 'disfigured', 'eccentricity', 'sitting', 'iraq', 'shelf', 'bail', 'mouthful', 'gimpy', 'helpmate', 'n.f.l.', 'spanx', '43', 'incongruity', 'escalade', '44:23', 'toast', 'dayes', 'soaring', 'gluten', 'breakout', '52:6', 'shimmer', 'tx', 'fejee', 'different', 'hilarity', 'till', '430', 'loving', 'andrew', '60:1', 'five', 'oval', 'circumstanced', 'fatigue', 'immortality', 'stranded', 'dreaming', 'firebrand', 'thunderous', 'coldly', 'odious', 'uncle', 'faire', 'livery', 'lawyer', 'delivery', 'unlawful', 'bombshell', 'anecdote', 'dismayed', 'mal', 'clemson', \"seru'd\", 'serve', 'charity', '43:17', 'careworn', 'formation', 'longstaple', 'obadiah', 'bookstore', 'dating', 'rashly', '7:64', '26:12', \"to'th\", 'h', 'gallowes', 'divinest', 'bezos', 'fond', 'unclouded', 'chose', 'banyan', 'words:--', 'aspersion', 'waster', 'partition', 'heitkamp', 'mixt', 'gunwale', 'tencent', 'cymbal', 'appaim', 'alliance', 'wray', 'matron', 'redemption', 'wretched', 'signify?--for', 'lockdown', 'biofuel', 'rejoicing', 'mustard', 'gibberish', 'inclement', 'public', 'clash', 'slumbering', 'encryption', 'coal', 'muslin', 'long', 'lame', 'fast', 'packed', 'bunk', 'surpasses', 'equinoctial', 'respectable', 'metaphor', 'fried', 'wallace', 'festus', 'rebuked', 'seminary', 'several', 'opacous', 'essence', 'disparity', 'regale', 'researcher', 'believeth', 'joiner', 'promising', 'farrow', 'dutie', 'medallion', 'smitest', '31:35', 'jattir', 'berrying', 'hathaway', 'h.', 'symbolize', 'sandy', 'surrey', 'grill', 'serenade', '15:24', 'way--', 'ghetto', 'inflating', 'nourished', 'ben', 'rectangular', 'average', 'university', 'reappearance', 'ceremonial', 'robber', 'gould', 'irrespective', 'jehonathan', '84', 'mood', 'hemlock', 'happening', 'length', 'harhur', 'gubernatorial', 'elevating', 'gladlier', 'jashub', 'grey', 'sauntering', 'baboon', 'soleil', 'geography', 'distinctive', 'drifting', '49:5', 'sentence', 'endowed', 'confided', 'jeshua', 'cheering', 'jesus', 'sibilant', 'tapering', 'forest', 'delivered', 'patient', 'cage', 'ghost', 'fact', 'shook', 'been', 'mystical', 'afternoon', 'obdured', 'fetter', '29:3', 'soared', 'recalled', 'punctually', 'renegotiation', 'pub', 'delineate', '17:33', '24:2', 'anew', 'chatter', 'pruitt', 'weeps', 'emptying', 'ea', 'regarded', 'contriue', 'sensation', 'f', 'spilled', '52:11', 'parting', 'passion', '46:4', 'secundus', 'principle', 'author', 'handled', 'taxing', 'proposed', 'unknowingly', 'reactivated', '9:51', 'robed', 'literats', 'peaking', 'peepe', 'cleaned', '58:5', 'slit', 'boot', 'lawn', '14:7', 'scrutinized', 'repenteth', 'sanctity', 'tucker', 'discrimination', '9:41', 'twitching', 'poultry', 'balad', 'imlah', 'hundredfold', '65:12', 'leave--', 'emptiness', 'calendula', 'upgrading', 'spouted', 'flexible', 'overturn', 'un', '22:33', 'gezer', 'bitterness', 'learn', 'marigold', 'consistence', 'starry', 'boast', 'rewarded', 'gogol', 'gust', 'across', 'georgian', 'poor', 'sleepeth', 'shoemaker', 'gigantic', 'purify', 'cue', 'loach', 'reddit', 'withstanding', 'linger', 'forborn', 'educator', 'downplays', 'short', '12:38', 'outmost', 'cyrenian', 'arpad', 'scone', 'moodily', 'hindustan', 'zoned', 'mower', 'leaking', 'pear', 'reuolt', 'señorita', 'unremarkable', 'greene', 'easie', 'rust', 'conciliate', '14:29', 'sue', 'unmistakable', 'external', 'luncheon', 'aligning', '1.ple', 'detective', 'diameter', 'malawi', 'corridor', \"gash'd\", 'benchmark', 'durst', 'cauldron', 'cath', 'aged', 'bringer', 'accrue', 'leaned', 'engrave', 'lucky', 'demi', '12:13', 'nobler', 'leaner', 'bloatware', \"ripen'd\", 'tentative', 'manure', 'leaven', 'annum', 'underworld', 'tardie', 'deadly', 'rousing', 'tallied', 'lasciviousness', 'gaping', 'nsw', 'wore', 'leaveneth', 'machinist', 'privily', 'instruction', 'urged', 'enthrall', '14:23', 'assembling', 'libertad', 'falshood', 'relinquishing', 'east', 'shalt', 'congo', 'veil', 'beret', 'exclusively', 'relies', 'mulvaney', 'scaramouch', 'rented', 'presentable', '19th', 'steady', 'outraged', 'triton', 'ether', 'grasshopper', 'camphire', 'cot', 'bigness', 'syrian', 'p.', 'jabneel', 'redwood', 'utility', 'dislocated', '95', 'follows', '58:11', 'ahi', 'cancer', 'whispered', 'giddy', 'fatality', 'rut', 'lingers', '5th', 'aft', 'doorless', 'ballet', '17:2', 'gibraltar', 'ashamed', 'alicia', 'blankness', 'barefoot', 'reprieve', 'wee', '56:10', 'preacher', 'confess', 'pol', 'emotional', 'stumbleth', 'serenely', 'multiform', 'motiues', 'fretted', 'lookout', 'm.d.', 'azareel', '12:22', 'uncovereth', 'tamely', 'cask', 'guitar', 'antiquarian', '30:8', 'lime', 'compasseth', '44:28', 'mentor', 'clicked', 'traverse', 'appreciated', 'hostesse', 'anchor', 'clad', 'dicotyledonous', 'are', 'shewedst', '38:25', 'pleasure', 'ere', 'fermented', 'deflates', 'walt', 'highway', 'drowned', 'eliezer', 'take', 'grayheaded', 'melteth', 'throw', 'atrocious', 'waite', 'shyness', 'sheshan', 'tertiary', 'injustice', 'phrensies', 'transcendental', 'bough', '12:49', 'clapped', 'facility', '14:1', 'dictated', 'slam', 'holden', 'unaccountably', \"illumin'd\", '25:4', 'dispersed', 'intending', 'wedded', 'aser', 'cunningly', 'curre', 'preservest', 'rashkill', 'outermost', 'navalny', 'pay', 'bulke', 'affords', 'stratum', 'commandingly', 'cited', 'dinghy', 'smitten', 'weakness', 'nakedly', \"riu'd\", 'preluding', 'crane', 'wearie', 'smyrna', 'embryon', 'circumstantial', 'bros.', 'indissoluble', 'identify', 'thenceforward', 'shelomith', 'outskirt', 'wiped', 'owl', '1:15', 'sing', 'arnold', 'payment', 'learner', 'herdsman', 'embalm', 'unprecedented', 'man!--and', 'keepest', 'requirement', 'licked', 'retaliate', 'worrying', 'atmospheric', 'bounteous', 'wreath', 'annulment', 'song', 'couldst', 'bowel', 'taberah', '22:43', 'hackluyt', 'fruitless', 'dwindles', 'drenched', 'hack', 'undermine', 'burst', 'understandest', \"affear'd\", 'chanting', 'smoake', '9:54', 'persuadable', 'rapped', 'whittling', 'bangladeshi', 'vermont', 'amputated', 'overtaking', 'prospectively', 'marsh', 'worme', '27:12', 'kirjathsepher', '25:5', 'tamerlane', 'grammys', 'hovering', '7:8', 'luminary', 'laudanum', 'incomplete', 'marianne', 'valencourt', 'rapt', 'when', 'ascendency', 'clothing', 'hercules', 'ornan', 'recently', 'epicure', 'deputation', 'beelzebub', 'tahitian', 'legislative', 'rescinding', 'throttle', 'indolently', 'acknowledgement', 'degrade', 'exotic', 'telescope', '23:21', 'enamelled', 'riband', 'moor', 'heedlessness', 'replied:--', 'unselfish', 'hungry', 'urbane', 'weigh', \"t'other\", 'watcheth', '46:21', 'potter', 'mechanic', 'courier', 'asaiah', 'runoff', 'poo', 'hasting', '27:36', 'testifying', 'faithful', 'sweeping', '13:51', 'zimran', 'sacrificing', 'outer', 'burying', 'eshbaal', 'madden', 'jill', 'sportsman', 'wineglass', 'chace', 'execution', 'prayed', '50:2', 'implacable', 'million', 'apologizes', 'chomsky', 'gallows', 'improvisatore', '37:9', 'force', 'mystified', 'depose', 'faster', 'matter', '31', 'xxiii', 'begat', 'rearing', \"work'd\", 'oblong', 'rock', 'remotest', '7:73', 'heterogeneous', 'enrage', 'demonstrator', 'coyote', 'er', 'consistent', 'frequent', \"seek'st\", '3:22', '25:32', 'anarchism', 'talisman', 'inspired', 'significant', 'diuers', 'attachment--', 'murdered', '12:15', 'gosar', '35:1', 'unluckily', 'smiled', 'precipitancy', 'broiled', 'conniving', 'seywards', 'reigne', 'offshore', 'christmas', 'ache', 'tiara', 'hastily', '6:63', '13:4', 'landless', 'propagandist', 'rationalist', '89', 'conferred', 'calculating', 'radish', 'floe', 'vietnam', 'buryingplace', 'success', 'jahaziel', 'abram', 'resolue', 'overworked', 'throate', 'menial', 'obliquely', 'gooseberry', 'own', 'oblation', 'looke', 'unpatriotic', 'teazed', 'quarry', 'algeria', 'stay', 'procreation', 'untamed', 'talb', 'cryptocurrency', 'congregated', '50:10', 'enquired', 'disregarded', 'rightly', 'wharf', 'diminished', 'damn', 'sod', '37:27', 'pant', 'blemish', 'separateth', 'gem', 'soldier', 'pendant', 'lenox', '20:4', '15,000', 'elite', 'extremely', 'unapparent', 'thanet', 'target', '33:4', 'war', 'betray', 'marching', 'supplementary', 'aries', 'suit', 'i.e.', 'raft', 'abishua', 'turnpike', 'clowds', 'unmethodically', 'strongest', 'germanic', 'glenn', '26:36', 'heighten', 'opening', 'guildenstern', 'unvarying', 'daryl', 'integrity', 'anniversary', 'official', 'mild', 'diplomacy', 'undertakes', 'steeple', 'staffe', '31:38', 'layes', 'despicable', 'sicilian', 'meridian', 'skywalker', 'baronetage', '24,473', 'ethel', 'richardson', '--sir', 'burke', 'overheard', 'investor', 'vornado', 'precipice', '33:10', 'what', 'wisedom', 'psychologist', 'unrewarded', 'abiding', '18:37', 'mockery', \"pack'd\", 'involves', 'broward', '14:37', 'extinguished', 'sincerity', 'policy', 'king', 'entrance', 'giveth', 'displeases', 'condensed', 'bankruptcy', '20:20', 'edrei', 'possessed', 'over', 'wearying', 'thereabout', '40,000', 'sideboard', '7:60', '12:45', '60:3', 'defray', 'circumcision', 'soar', 'outrun', 'apprehend', 'surmounting', '33:1', 'slily', '9:6', 'admonishing', 'grim', 'bank', 'leopard', 'arena', 'derick', 'nosed', 'wired', 'threefold', 'assented', 'remission', 'now,\"--said', 'shattering', 'glencoe', 'max', 'legally', 'blamable', 'processor', 'acrid', 'craftsman', 'accurate', 'hori', 'declassified', 'courting', '43:27', '24:9', 'transgender', '7:48', 'credited', 'shattered', '39:26', 'unwounded', '7:3', 'mckinsey', 'encroachment', 'daffodil', 'musically', 'cutter', 'recumbent', 'beholding', 'spar', 'break', 'righ', 'unaware', 'laugheth', 'belated', 'contingency', 'greeted', 'buoyancy', 'dingell', 'slashed', 'ha', 'lamar', 'finder', 'william', '29:20', 'plantedst', 'deity', 'zelenskiy', '1.murth', 'viola', 'emerges', 'grifter', 'libya', 'fabulous', 'manner', 'sirius', 'fleecy', '8:38', 'federal', 'fettered', 'cloudy', 'roares', 'mindedness', 'subject', 'medicine', 'tactful', 'hatefull', 'maybe', '37:16', '39:1', 'vendor', '5:26', '9:18', 'furnishes', 'variously', 'deliverance', 'scratching', 'prynne', 'j.', 'fiercest', 'carrier', '16:35', '6:3', \"pull'd\", 'softened', 'voltemand', 'slippeth', 'swooping', 'debir', 'sudanese', 'toleration', 'safely', 'seemeth', 'mutiny', 'canoe', '72', '8:49', '11:21', 'pocohontas', 'hosea', 'violence', 'accumulate', 'batten', 'tomato', 'prominence', 'expects', 'boko', 'tapped', 'gadites', 'pushing', 'browse', 'drinking', 'roam', 'babbling', 'withall', '24:32', 'marge', 'kneaded', 'hindmost', 'baffling', 'accepting', 'adieu', 'sandwich', 'unlocked', 'arrives', 'emphatically', 'fb', '45:25', 'espy', 'it', 'electronic', 'montem', 'glint', 'deserve', '13:38', 'chanted', 'comfort!--', 'fiat', 'enthusiasm', 'l.a.', 'mahalath', 'fagged', 'skipper', 'justifiable', \"whil'st\", 'handmaid', 'sheepishly', 'syme--', 'dandy', 'keturah', 'knotted', 'trickle', 'shuni', 'hampstead', 'expletive', 'reality', 'eddystone', 'declassify', 'intrepid', 'inquired', 'galatian', 'hamul', 'dissipated', 'irish', '27:7', 'harem', 'benignant', 'chest', 'foiled', 'testing', 'boiling', 'manna', 'ennui', 'disclaiming', 'unnumbered', 'apology', 'odium', 'twitched', 'sprinkleth', 'sowre', 'moshpit', '23:3', 'blustering', 'hattush', 'vortex', 'ragged', 'instantaneously', 'hoped', 'gentle', 'attempted', 'motherly', '14:22', 'facebook', 'gun', 'download', '40:21', '68', 'bates', 'turf', 'bulwark', 'rail', 'sounded', 'insolent', 'eleventh', 'performeth', 'prays', 'cent', '35:29', 'somalia', 'tweet', 'presentiment', 'tickling', \"witness'd\", 'anarch', 'managing', 'vertues', 'ocasio', 'deliuer', 'seldom', 'infant', 'samsung', 'misdeed', 'rugged', 'huddersfield', 'last', 'schoolroom', 'flabby', 'lexicon', 'famous', 'abhorrest', 'loud', 'habor', 'jubilee', 'smollett', 'dismissal', 'bison', 'cerimony', 'commiseration', 'deed', 'unveil', 'corinth', 'excluding', 'endor', 'library', 'gourd', 'oftentimes', 'ascends', 'strzok', 'reveled', 'writhed', 'th', 'kimmel', 'dump', '46:25', 'ag', 'brandished', 'bezek', 'scrambled', 'customer', 'mayhew', 'sourse', 'decrease', \"bloom'd\", 'tush', 'jeroham', 'unrequited', 'carbine', 'courage', 'u.s.-led', 'endeavour', 'assange', 'designation', 'crownest', '18:7', 'register', \"anchor'd\", 'examined', 'ticklish', \"betray'd\", 'surround', 'jawbone', 'contended', 'pitiless', 'peopled', 'erratic', 'sicke', '55:5', '13:58', 'sniffed', 'hillsborough', 'flowed', 'a-', 'madder', 'wapping', 'ellenborough', 'drunke', 'sennacherib', 'inclosing', 'victorious', 'inlet', 'oligarchy', 'prefers', 'trash', 'ungracious', 'seeth', '1:10', 'quintillion', '2:18', 'psaltery', 'labourer', 'overhanging', 'walnut', 'penny', 'seise', '29:11', 'parent', 'duty', 'kennel', 'debated', 'indicate', 'anytime', 'wet', 'anamim', 'wrathful', 'ceaselessly', 'tend', 'deafe', 'dunsinane', 'apologise', 'almondiblathaim', 'unfollowed', 'mommy', 'circulating', 'vine', 'alemeth', 'mundane', 'outwards', 'tartarus', 'infringement', 'confinement', 'enact', 'rehabiah', 'exploring', 'registration', 'amp', 'chimney-', 'inconsistent', '13:10', 'afflict', 'spill', 'longeth', 'darken', 'hardware', 'calculation', 'stonestreet', 'jarred', 'blent', 'arnhold', 'recipient', 'fundraiser', 'testifies', 'purplish', 'kerioth', 'eglon', 'abbreviation', 'meanes', 'aloud', 'convulsively', 'lilliputian', 'really', '170', 'well', 'findes', 'motiue', 'yazidi', 'vane', 'indicating', 'repeating', 'montague', 'withdrawal', 'wiretapped', 'jehdeiah', 'perambulator', '60:7', 'elevates', 'me!--not', 'crackle', 'whistleblower', 'warranty', 'candle', 'coveredst', 'neatness', 'evolved', 'slipt', 'tended', 'affected', '27:10', 'orthodox', 'champing', 'cocke', 'aquatic', 'goodnesse', 'mout', 'forewarned', 'atmosphere', 'parti', 'wardrobe', 'retain', 'disadvantaged', 'pursuit', 'growes', 'untrustworthy', '35:28', 'espied', 'forgiveness', 'undoes', '34:1', 'restoring', 'thinning', 'item', 'cohering', 'mithredath', 'noxious', 'elaborately', 'skirted', 'condemning', 'disrespectfully', 'ephesus', 'holiest', 'tibni', 'eder', 'script', 'silvanus', 'buzze', 'squeezed', 'arioch', 'relevant', 'stable', \"glisten'd\", 'pate', 'formless', 'alpha', 'degeneres', 'mastership', 'forbid', 'hasty', '26:14', 'surest', 'mansoul', 'strumpet', 'rehab', 'notify', 'astrologer', 'improved', 'dissembling', 'harmless', 'unquenchable', 'heroine', 'kurt', '48:4', 'mick', 'lath', 'nettle', 'adiel', 'tangle', 'lehabim', 'wrong', 'watersprings', 'angrily', 'defeated', 'weeper', 'algiers', '65:3', '35:12', 'chant', 'tidiness', 'aner', '1928', 'michael', 'cooperate', 'mast', 'availeth', '999', 'abednego', 'cyclades', 'wipe', 'minibus', 'la.', 'idlib', 'pillared', '11:17', 'reasonably', 'taunted', 'gen.', 'overtake', 'convey', 'unvisited', 'buxom', 'geber', 'battered', 'shewbread', 'groundbreaking', \"saw'st\", 'payed', 'sence', 'mahazioth', 'ebb', 'taunting', 'patent', 'juan', 'ligure', '8:5', 'area', 'roasteth', 'ton', 'footprint', 'amariah', 'diminish', 'intimidated', 'welcome', 'yieldeth', 'lettest', 'por', 'marrying', 'confronted', 'perturbation', 'cooperation', 'satiate', 'friendlier', 'especially', 'hear', \"curtain'd\", 'enforced', '26:28', 'ballad', '37:22', 'spree', 'performed', 'battersby', 'sallai', 'turbotax', '21:29', '4:31', 'regime', 'clarion', 'vibrant', 'richer', 'injected', 'evilmerodach', 'keilah', 'assert', 'unwell', 'commoner', 'slashing', 'gurgling', 'screaming', 'tranquillised', 'added--', '1:30', 'plough', '                 ', 'danson', 'fitting', '79-yard', 'abide', 'breathless', 'expounded', 'stein', '200,000', 'gamy', 'purity', 'reverent', 'astros', 'elbowed', 'presuming', '4:43', 'pension', 'recompensed', 'forbear', 'regulate', 'omitting', 'dodger', 'roared', '22:26', 'fil', 'blank', '66:5', 'cieled', 'lust', 'levelled', 'sapling', \"condemn'd\", 'beheld', 'notebook', 'augment', 'jihadist', 'recollecting', 'maltese', 'realizes', 'frederick', 'ligature', 'loveliest', 'unfathomably', 'comeback', 'quayle', 'agen', 'lap', 'bataclan', 'lever', 'nehelamite', 'remainest', 'greets', '26:64', '4:16', 'indigence', 'basketball', 'association', 'achbor', 'needful', 'impetus', '9:47', '7:72', 'wrecked', 'bestowing', '9:46', '21:17', '19:38', 'soueraigne', '8:3', 'reverentially', '2:50', '57:6', 'owest', 'submerged', 'photoshopped', 'portsmouth', 'pharaoh', 'adder', 'split', 'arabia', 'hetty', 'fleeting', '7:12', 'scaffolding', 'blindly', 'tug', 'deliberating', 'advocacy', 'hethlon', 'macduff', 'faithfulness', 'diddest', 'intolerably', 'aluminum', 'rifled', 'multiplying', 'ignominious', 'dimension', 'ne’er', 'supported', 'sleepily', 'slime', 'mouse', 'pearl', 'limit', 'insipid', 'jacksonville', 'rory', 'emission', 'acceptation', 'branching', 'canallers', 'instantaneous', 'powdering', 'catherine', 'guardian', 'single', 'abc', 'wot', 'whelp', '24:19', 'shortness', 'shootout', 'convulsion', 'unrighteousness', 'gnawed', 'redland', 'deployed', 'asiatic', 'nuptial', 'sheweth', 'benching', 'strait', 'fracking', 'tithing', 'genocide', 'pray', 'displease', 'fleddest', 'geshurites', 'hail', 'mama', '8:46', 'affluence', 'something', 'humbled', 'schooling', 'reviled', 'lavishes', '28:26', 'cummin', 'run', 'evacuation', 'croud', 'blab', 'beak', 'please', 'commanding', 'delicate', 'upper', '9:9', 'soyle', 'minority', 'downwards', 'jolly', 'vastly', 'bizzare', 'rarer', 'mutton', 'bandstand', '1492', 'restitution', 'vttermost', 'jakim', 'saracen', \"outlaw'd\", 'enriches', 'handsomer', 'emptied', 'naioth', 'giver', 'befalls', 'clog', 'schiavone', 'grunt', 'begs', 'fahrenthold', '23:17', 'conspicuously', 'unsafe', 'addicted', 'stepped', 'seeker', 'complimented', 'wapo', 'haste', 'whelm', 'machii', 'luke', 'beefsteak', 'fryingpan', 'discard', 'barrow', 'watereth', 'wad', 'tsa', '49:11', 'waxing', 'ly', 'cultured', 'warbling', 'likewise', '42:9', 'besieged', 'meerely', 'damning', 'height', 'hachaliah', 'mercy', 'issued', 'ekronites', 'hatita', 'hecuba', 'hick', 'iii', 'map', 'saveth', 'equivalent', '62:2', 'unmarried', 'jordan', 'empyrean', 'inviolable', 'equinox', 'counsell', 'switching', 'coastal', 'spindle', 'reap', 'publish', 'midst', 'meant--', 'sputnik', 'vehement', 'chemist', 'defy', 'came--', 'handler', 'cavernous', 'doings', 'overflown', 'nestle', '19:45', 'tablecloth', 'hither', 'devotee', 'commonplace', 'unvitiated', 'hysteric', 'bevin', 'influenced', 'frankly', '18:26', 'dinhabah', '48:16', 'meate', 'prepares', 'since', 'mahlon', 'weekly', 'acute', 'candor', '33:29', 'danger', 'recommends', 'odorous', 'browes', 'ceasing', 'enlarging', 'burton', 'incumbent', 'bradley', 'forming', 'ebay', \"neck'd\", 'fec', '45:23', 'xii', 'tighter', 'replenished', '30:10', '27:39', 'ditto', 'peskov', 'hezir', 'foaming', 'lift', 'omnipotence', \"do't\", 'nelson', '5,000', '9:10', 'rhea', 'inquisitively', 'upbraided', '28:2', 'languish', 'astride', 'gin', 'tambourine', 'diary', 'awl', 'iot', 'beastly', 'twelue', '1:22', 'bitter', 'to-', '8:32', 'harvilles', 'coup', '59:9', 'joppa', 'dripping', 'womensmarch', 'unwittingly', 'edmontonians', '25', 'darksome', 'succeeded', 'solemne', 'extraordinarily', 'subjection', 'filigree', 'howl', 'someway', 'dismay', 'experiencing', 'gusto', 'ensured', 'bulge', 'warm', 'trucker', 'gallantry', 'reflective', 'awaken', 'wherefore', 'wrought', '28:11', '47:8', '14:51', '15:36', 'lurking', 'reflectively', 'cankerworm', 'rudely', 'heavily', 'pap', '10:42', 'vitiated', 'temple', 'unforced', 'earned', 'through', 'untainted', 'clambered', 'writes', 'domineering', 'query', 'portentousness', 'ruminated', 'backing', 'sonne', 'recorded', 'apps', 'consequence', 'ezbon', 'reproveth', 'other----', 'ronny', 'marker', 'attain', 'gath', 'rip', '22:13', 'defrauded', '3:26', 'jones', 'date', 'doddering', 'whosoever', '11:52', 'active', 'paralysis', 'stationed', 'g7', 'unreasonably', 'gdp', 'dodging', 'spam', 'ellasar', 'monopoly', 'ascending', 'doomsday', 'capernaum', 'pack', 'unpitying', 'tournament', 'zorah', 'assur', 'artaxerxes', '9:24', 'brittle', 'unfairly', 'possible', 'kensington', 'pic', 'q&a', 'chisel', 'travail', 'feminist', 'playground', 'sift', 'filthiness', 'comprehensible', 'death', 'joist', 'nicolaitanes', 'downcast', 'outsourcing', 'derbe', 'took', 'reminded', 'envoy', 'becometh', 'thickest', 'stacking', 'respect', 'ensemble', 'slogan', 'raphaelite', 'sbirri', 'battleground', 'ribai', 'connection', 'impeachment', 'avenging', 'hornbill', 'metre', 'citoyens', 'nurseryman', '56:11', 'unsounded', 'eternally', 'shocked', 'qualified', '6:11', 'railway', 'deckedst', 'sal', 'cavalcade', 'autism', 'zeal', 'speedily', 'inexhaustible', 'exhort', 'muskiness', 'plowdon', '56:7', '8:19', 'enwinding', 'succeedest', 'airley', 'incommode', 'doer', 'severs', 'azaziah', 'unsolicited', 'vault', 'thinking', 'bodkin', '83', 'soup', 'lewinsky', 'immoveable', 'exquisitely', 'unacceptable', 'baghdadi', '8:14', 'byrlady', 'jareb', 'pony', 'cleverly', 'luminous', 'saturday', '773', 'smoker', 'alive', '23:44', 'mainyard', '25:23', 'saddle', 'slapping', 'scarlett', 'deliciously', 'thigh', 'impatient', 'dream', 'weaver', 'sleeplessness', 'convolution', 'nephew', 'bean', 'venial', 'achzib', 'trumpeter', 'vindictive', 'pergamos', 'abaft', 'mail', 'forbeareth', 'aroer', 'peevishly', '23:6', '50th', 'sack', '6:64', 'peremptorily', 'cardboard', 'steersman', 'sloane', 'quicker', 'mystification', '31:2', '18:21', 'kirheres', 'rebellious', 'alarm', 'asleep', 'tying', 'neriah', 'fellowprisoner', 'indus', 'designed', 'security', 'dauntlessness', '6:7', 'tumbled', 'gambol', 'trumpenomics', 'why', 'overgrowth', 'woke', 'benedictine', 'armor', 'irritable', 'remake', 'affiliated', '202', 'unctuous', '4:45', 'nominee', 'dray', 'possesse', 'gatherer', 'vetting', 'severe', 'threshingfloor', 'frugal', 'saratoga', 'bipartisan', 'u.n.', 'derided', 'qu', 'classic', 'experience', 'frind', 'trieth', 'all!--you', 'constitutional', 'accusing', '25:45', 'tale', '48:26', 'advertise', 'dawlish', 'soon.--', 'forwarding', 'pardonable', 'graham', \"o'reilly\", 'vii', 'rumble', 'progeny', 'polish', '47:21', 'coupling', \"depress'd\", 'sepulchral', 'orlop', 'ddos', 'purified', 'entitlement', 'quicke', 'reasoning', 'reckoning', '77', 'sadly', 'ruleth', 'conway', 'peradventure', 'stablisheth', 'cheerless', 'lessen', 'raced', '5:29', \"shadow'd\", 'exciting', 'ouerthrowne', '17:30', 'rite', 'encompassing', 'publicity', '29:10', 'trevor', 'uphill', 'miserable', 'version', 'remnant', 'speech', 'fir', 'lipped', 'saipan', 'invalid', 'keeping', 'employed', 'cessation', 'illumination', 'reliably', 'remember', 'brier', 'beguiled', 'jungle', 'moonshine', 'enchanted', 'powdered', 'expelled', 'lyest', 'dengue', 'ineffable', 'unsettle', 'aduice', 'perdinavititis', 'slipper', 'exeter', 'fearfulness', 'fearless', 'reveals', 'iust', 'moment', 'gebal', 'descried', 'assassinated', 'kudlow', '7:28', 'adultery', 'gastronomic', 'manslayer', 'twinkle--', 'hoisted', 'nicer', 'towering', 'loaden', 'nickname', 'platonic', '31:17', 'wo', 'korean', 'indite', 'impertinence', 'golosh', 'soundgarden', 'purer', 'paran', 'thanke', 'threshing', 'quoted', 'scotch', 'undocumented', 'checked', \"linger'd\", 'subsisted', 'atlantic', 'jeremoth', 'oscar', 'hobby', \"receiv'd\", '23:32', 'ahijah', 'reward', 'hobbling', 'spilling', 'lottery', 'deerer', 'me.--', 'floundering', 'moon', 'crash', 'tekoites', 'busks', 'weleakinfo', \"fear'd\", 'encircling', 'judge', 'slighted', 'masterful', 'renascence', 'killedst', 'watchdog', 'meteor', 'confidently', 'whiskey', 'archway', 'yearn', \"consider'd\", 'peeringly', 'builder', 'pod', 'taanach', 'hairy', 'quivered', '1960s', 'strophe', 'tradition', 'nill', 'skip', 'spelt', 'idleness', 'specialist', 'faithfulest', 'watchman', 'resistless', 'contained', 'learns', 'zabad', 'measureless', 'patentee', 'blockbuster', 'politeness', 'scattering', 'haran', 'cohered', 'deathbed', 'pebble', '23:7', 'hawkins--', 'indecency', '14', 'furniture', 'occupy', 'hayle', 'adobie', 'swedish', 'lowe', 'huzzas', 'choller', 'weathered', 'assassinate', 'jokshan', 'emotion', 'argob', 'aholibah', 'earing', 'artist', 'suspicious', 'ordains', '19:3', 'cat', '24:4', 'myself--', 'enhance', 'wayfaring', 'deploy', 'ditchers', 'formulate', 'inmost', 'josiah', 'swalloweth', '97', 'clot', 'fellowlabourer', 'parsnip', 'space', 'interventionism', 'platform', '300', 'flood', 'younger', 'noph', 'storage', 'wring', 'barrel', 'lahairoi', 'perverted', 'wilder', 'wearieth', 'eliasaph', 'scull', 'funding', 'revolt', 'afghan', 'andy', 'harvestman', 'endured', 'joyfully', 'lied', 'bethlehemjudah', 'enlarges', 'motorway', 'showed', 'fused', 'incumbered', 'encroaching', 'blot', 'disinformation', \"hang'd\", 'discerning', 'hound', 'momentum', 'her--', '60:10', 'imperious', 'stroke', 'consummation', '2-party', 'scalding', 'referred', 'menahem', 'diffuse', 'enchantment', 'graze', '51:3', 'dab', 'charted', 'messiah', 'buffalo', 'befel', 'lilac', 'lagging', 'voyaged', 'proposest', 'aggression', 'pelet', 'depresses', 'style', '7:39', 'conspiracy', 'abominate', 'magical', 'impunity', 'wrist', 'swerving', 'adamantine', '64:9', '66:17', 'reversing', 'oreb', 'transpointed', 'sandberg', '40:10', 'bravely', '1:41', 'eyeball', 'fibre', '35:17', 'hazarded', 'circuit', 'confronting', 'upgrade', 'dwarfed', 'culpability', 'golf', 'herder', '62:5', 'guiltiness', 'preinstalled', 'chusing', 'pearly', 'butchered', 'tantalizing', 'cobalt', 'enjoining', 'shimron', 'pomegranate', 'alien', 'recruit', 'rang', 'grooming', 'yi', 'assignes', 'hearken', 'regeni', 'distrustful', '4:39', 'nagorno', 'railing', 'moss', 'foam', 'somerset', \"recall'd\", 'han', 'cheerful', 'reprimand', 'adin', 'hartzler', 'cadence', 'civilization', 'seethe', '35:22', 'aghast', 'medicaid', 'flaring', 'restless', 'leg', \"cheek'd\", 'mazhar', 'fawne', 'asylum', 'bonaparte', 'turmoil', 'imprint', 'unplugged', 'seat', 'inuites', 'acquaint', '22:30', 'mountaine', 'heares', 'erebus', 'clearer', 'lapierre', 'substantial', 'propontis', 'changer', 'waleed', '48:6', '3:42', 'chronicler', 'pai', 'reades', 'couching', 'slate', 'ze', 'seedling', 'asuppim', 'unshored', 'character', 'commendation', 'imployment', 'savageness', 'contrive', 'sulk', 'wrangling', 'wilkinson', 'fear', 'avenue', 'isps', '41:32', '48:19', 'growth', 'ides', 'harvesting', 'spight', 'reciting', '27:3', 'pressured', 'librarian', 'elitism', 'sweetmeat', 'routine', 'fusion', 'preventing', 'exertion', '25:2', 'faile', 'ironworker', 'tremor', 'gayety', '3:21', 'dolorous', 'reflecting', 'gaue', 'pinny', 'stammering', 'devoutly', 'rampart', 'range', 'liketh', \"suck'd\", 'burgomaster', 'cleaving', 'glorified', 'charran', 'aback', 'waning', 'replacement', 'furbished', 'transact', 'x', 'solomon', 'flask', 'commercial', 'truce', 'decision', 'latchet', 'devised', 'dimness', 'disregard', 'flexibility', '51:23', 'resided', 'foppery', 'residency', 'temp', 'noting', 'quohog', 'fema', 'tide', 'mistress', 'decently', 'economically', 'tax', 'mediterranean', 'uzzielites', 'canaanite', 'slaine', 'bunni', 'behoves', 'lifetime', 'scorner', 'desirableness', 'certain', '24:10', 'enjoys', 'list', 'remit', 'helicopter', 'analyst', 'postmaster', 'rubbed', 'hinge', 'metoo', 'özil', 'marl', 'demesne', 'repress', '50:19', 'helpe', '9:38', 'bozrah', 'usmca', 'bridging', 'tuk', 'covering', 'agrees', 'senate', 'institution', 'ur', 'retreat', 'duellist', '2008', 'true--', 'youtube', 'freckled', 'accent', 'excellent', 'diggeth', 'pelatiah', 'credulous', 'relic', '64:4', 'plume', 'prosperity', 'thanks', 'galliot', 'sachem', 'nipper', '15:54', 'firstfruits', 'here', 'tongued', 'lovingkindness', '22:4', 'joyously', 'zarah', 'jachin', 'softest', 'acceptably', 'clarence', 'covereth', 'zabdi', 'undertaken', 'nebajoth', 'appals', 'ricans', 'moladah', '10:24', 'approval', 'identified', 'tiglathpileser', '12:47', 'commendable', 'paddle', 'zerubbabel', 'pint', 'winning', 'avoidance', 'occupying', 'aeneas', 'shivering', 'fell', 'initial', 'shinbone', 'temperature', 'replace', 'sequent', 'wave', 'teat', '3:11', 'sonnes', 'pitchpoling', 'iim', 'compromise', 'unterrified', '22:19', 'specific', 'gall', 'blackmailer', 'notre', 'stifle', 'preexisting', 'feather', '35-year', 'lauren', 'merab', 'defamation', '5:16', 'flambeau', 'unbound', 'boiled', '21:39', 'rank', 'gravel', 'bodie', 'viciousness', 'beheaded', 'hena', 'talkest', 'quantity', 'maiesticall', 'nattering', 'jehonadab', 'kelson', 'forbad', 'jinglers', 'angus', 'chipped', 'shouted', 'thornton', 'ezza', 'precedent', 'bernstein', 'goer', 'companionableness', 'desertion', 'sham', 'insinuation', 'injure', 'medium', 'pacing', 'apparatus', 'praising', 'championed', 'molest', 'turnes', 'absorbs', 'slaughter', '16:19', 'unity', 'viable', 'javan', 'newcastle', 'rigid', 'pompey', '8:9', '21:20', 'garage', 'stoical', 'chiselled', '41:30', 'jailbird', 'quire', 'clock', 'periodical', 'unclear', 'dalliance', 'dieth', 'dardanelles', 'careful', 'smiling', 'comparison', 'prow', 'galley', '6:68', '23', 'shirr', 'instruct', 'triumphant', 'arriving', 'murkowski', 'bee', '10:8', 'terribly', 'whistle', \"scap'd\", 'aca', 'sport', 'latitude', 'trolling', 'moved', 'transgressed', 'apple', 'dividual', 'outrider', 'quota', 'frightfully', 'alighting', 'serial', 'longsuffering', 'supt', 'do--', 'instant', 'ornament', 'crept', 'multiply', 'begrimed', 'aven', '7:70', 'zebadiah', 'girl', 'scrubbed', '2:54', 'pudding', 'bespake', 'paint', 'arctic', 'scrutinising', 'murdoch', 'comprehend', 'rendering', 'heretic', 'laertes', '23:23', 'mellow', 'repeater', 'barrage', 'honey', 'chaucer', '35:5', '16:49', 'stand', 'resist', 'scabbard', 'armageddon', '31:18', \"d'ye\", 'doubling', 'paddling', 'lobbying', 'pork', 'her.--', 'butler', 'trying', 'expressly', '?', 'bodied', 'ludwig', 'hosed', 'thunderer', 'viper', 'rib', 'dispute', 'dippeth', 'badinage', 'fervid', 'gallagher', 'hara', 'strooke', 'lounging', 'passest', '36:16', 'grizzled', 'superlatively', 'harville', 'me,--it', 'addict', 'swaggering', 'spunge', 'second', 'flee', 'capitalist', 'hostess', 'ran', 'hymenee', 'tiger', 'dreary', '14:49', 'guernsey', '21:22', 'aphek', 'maiesties', 'esaias', 'bench', 'disagreeable', 'breath', 'doubtless', 'recondite', 'unmarked', 'loftier', 'breastwork', 'tarried', 'inciting', 'assistance', 'twine', 'considerest', 'galilaean', 'reignes', 'best', 'unhealthy', 'howling', 'unfinished', 'premium', 'broadest', 'iudgements', 'ahihud', 'crackling', 'gao', 'funeral', 'backwoods', 'gb', 'answere', 'blooming', 'feedeth', 'going', 'became', 'forgiven', 'artifice', 'inhabited', 'thenceforth', 'ladle', 'flashed', 'extinct', 'cleanly', 'felix', 'gowdy', 'cradled', 'gift', 'woebegone', 'capstan', 'tourist', 'unfruitful', \"whoe'er\", 'alacke', 'diapason', 'elderly', 'speaketh', 'overwhelmingly', 'token', 'iustly', 'screened', 'arbour', 'warrior', 'outrageously', 'exploding', 'hotel', 'indoor', 'pitchy', 'phoo', 'oppo', 'worker', 'saddest', 'staring', 'aggregated', 'runnes', '36:37', 'deci', 'drunk', 'clasped', 'baronet', 'attach', 'viral', 'appeareth', 'turnbull', 'whiter', 'drawer', '48:3', 'lowland', 'softening', 'jahzeel', 'windpipe', 'corroborated', 'television', 'sensitive', 'concerneth', 'petroleum', 'dust', 'salt', 'increasing', 'serues', 'planned', 'traveling', 'penal', 'veers', '47:15', 'putteth', 'priesthood', '180', 'gown', 'brawl', '8', 'foible', 'full', 'barb', 'authorization', 'face', 'counter', 'sleigh', 'waffle', 'urge', '47:23', 'false', 'sotai', 'hideth', 'yearning', 'plague', 'knockes', 'lecture', 'weeding', 'system', 'switzerland', 'uncommonly', 'wrench', 'trod', 'haft', 'bucs', '59:6', 'sugar', 'plenty', 'jollity', 'norm', 'comprised', 'valparaiso', '44:22', 'cobargo', 'floridian', 'vesper', 'signalled', 'throe', 'major', 'challenge', 'puffing', 'presently', 'baana', '42:16', \"touch'd\", 'reynoldo', 'unequivocal', 'mayst', 'signed', '7:65', \"develop'd\", 'shamble', 'closing', 'riseth', 'girl--', 'block', 'usaa', 'occasion', 'pulse', 'forcing', 'sickly', 'placeless', 'c.i.a.', 'tim', 'lawmaker', 'sobering', 'monkey', 'foie', 'puck', 'roused', 'prodigall', 'stonewalling', 'cleaveth', 'heedfully', 'attributing', 'shewes', 'disgraceful', 'missouri', 'maw', 'fuck', 'sneaked', 'south', 'upcoming', 'accepteth', 'mutter', 'gileadites', 'tumbling', 'rapper', 'gleam', 'avoiding', 'doing?--', 'coleman', 'rascall', 'euclid', 'henry', 'strengthening', 'homosexuality', 'arisen', 'tack', 'hashub', 'bethel', 'montana', 'militant', 'talmon', 'flauius', 'creator', 'raved', 'bomb', 'morton', 'um', '2:40', 'uprightness', '24:21', 'tension', '50:16', 'communicate', 'imputed', 'leprous', 'attest', 'copy', 'northerly', 'adam', 'bachelor', 'extraordinary!--and', 'destroys', 'universe', 'hattil', 'surveillance', 'afflicting', 'casiphia', 'indispensably', 'showdown', 'whca', '6:60', 'temptation', 'byrnan', 'manet', 'genealogy', 'gether', 'morning', '39,900', 'roughness', 'blooded', 'bought', 'appetite', 'microwave', 'roof', 'aboord', 'similarly', '10:32', 'lowliness', 'uthai', 'boarding', 'cheney', 'vowes', 'cachalot', 'yourself--', 'cabbage', '1.4', '4:41', 'playfully', 'value', 'elasticity', 'disabled', 'shrubbery', 'arrange', 'substance', 'roboam', 'implying', 'overshadow', 'inert', 'tost', 'qualification', 'artillery', 'basking', 'familiarly', 'sandal', '16:30', 'swagger', 'fruman', 'heedfulness', 'recent', 'ottoman', \"encamp'd\", 'serpentine', 'pleasantly', 'causeway', 'surprized', 'gratify', 'at&amp;t', 'clergy', 'monstrosity', 'preserving', 'me!--oh', '47:20', 'jonah', 'absorb', 'reunite', 'heartfelt', '1.1', '12:25', 'harmonious', '25:28', '10:46', 'scum', 'ruining', '50:15', 'counteracting', 'ad', 'comprise', '60:6', 'ladder', 'execrable', 'garrulous', 'brampton', 'some', 'overlooked', 'snobbish', 'utterance', 'tellin', 'ape', '38:19', 'vnckle', 'chinaman', 'etc', 'livelihood', 'shittim', 'paleness', 'barnacled', 'bequeath', 'ostentatiously', 'unobjectionable', 'approach', 'wall', 'hypocrite', 'horowitz', 'philanthropic', 'mercenary', 'paramount', 'islam', 'unquestionable', 'transferred', 'inauguration', 'contemplates', 'agonized', 'deranged', '23andme', 'settle', 'bit', '14:20', 'propriety', 'possession', 'persecuted', 'slave', 'gresham', 'goliath', '6:70', 'zilthai', 'admission', 'contrasted', 'celebrity', 'avoids', 'amber', 'embarrassing', 'cherished', 'arouse', 'borrow', 'villainy', \"fac'd\", 'causing', \"crush'd\", 'eu', 'gravitation', 'pitiable', 'singling', 'hersel', 'ephemeral', 'chevron', 'vigilant', 'strangling', 'faintest', 'peerless', 'passionate', 'jogged', 'fabrick', 's', 'sauce', '58:3', 'rejection', 'curtis', 'permanent', 'sheriff', 'doleful', 'cantabella', 'foolishly', 'japhia', 'freedome', 'taunton', 'blazing', 'tabernacle', 'antichronical', 'coping', 'drinker', 'freshened', 'villaine', \"lock'd\", 'cornwall', 'gourmand', 'zabbai', 'reiterates', 'drowsiness', 'hertz', 'ijon', 'architectural', 'weltering', 'untellable', 'sticky', 'grieving', 'eschylus', 'ezekiel', 'wooden', '63:4', 'wagner', 'steep', 'sac', 'twitter', 'departing', 'inspection', 'unholy', 'roundly', \"mark'd\", '1789', 'shipmen', 'legalize', 'propaganda', 'vivid', 'chaperon', 'haven', 'vantage', 'compressed', 'civilian', '16:14', 'mattock', 'ishtob', 'overawed', \"cal'd\", 'triumphantly', 'raamah', 'combination', 'unmanufactured', 'person', 'pelosi', 'fraught', 'kim', 'scalp', 'knop', 'beareth', 'thundered', 'ding', 'taken', 'heated', 'kid', '56', 'ron', 'laugh', 'trinket', 'orbed', 'unobserved', 'crouched', 'astral', 'engedi', 'blasphemeth', 'contributing', 'beamed', 'harvard', 'maugre', 'slaughterhouse', 'aclu', 'gon', 'windes', 'assayed', '21:1', 'woken', '52:8', 'hatred', 'resounded', 'hereditary', 'hideously', 'unlearned', 'pressuring', 'pollster', 'coopman', 'clearing', 'furnace', 'outlived', 'monstrous', 'weekend', 'jahleel', 'criticism', '7:50', 'homeliest', 'striketh', '65', 'dinah', 'elbow', 'ny', 'too', 'falzone', 'might', 'unanimous', 'ninety', '2:31', 'income', 'columnist', 'comcast', 'uncleanness', 'schwartz', 'traueller', 'torch', 'sander', 'rapping', 'gush', 'sweeter', 'misinformation', 'glick', '43:20', 'fooled', 'contradicts', 'starve', '21:8', 'eterne', 'leaue', 'pagoda', 'incurably', 'grasse', '2:34', 'apex', 'brady', 'explicit', 'inflame', 'chiefe', 'conscience', 'deflects', 'mandatory', 'cruel', 'aimless', 'weepe', 'puncture', 'trustworthy', 'reciprocating', 'affright', 'sicily', 'coretta', 'imagined', 'vpward', 'farenthold', 'pendulum', 'reprover', 'huggins', 'memorandum', 'hye', 'thirsted', 'legalization', 'oar', 'prevalent', 'crocodile', '27:38', 'backwardness', 'redskin', 'brokenhearted', \"lung'd\", '33:24', 'dagda', 'lip', 'hoarsely', 'accelerate', 'insanity', 'impersonator', '28:39', 'turneth', 'stability', '200-year', '49:28', 'brilliant', 'grimness', 'dinosaur', 'gong', 'remote', 'condemns', 'lacing', '45:8', 'splashing', 'valor', 'bothered', 'barbara', 'ragging', 'tourism', 'matthew', 'highth', 'sumatra', 'offer', \"fulfill'd\", 'snail', 'shropshire', 'minor', 'ending', 'big', '13:32', 'esculent', 'upstairs', 'assiduous', 'uae', 'lowering', 'muscular', 'esrom', 'stave', 'completion', 'roped', 'barclays', 'crowd', 'froth', 'ineffectual', 'whereunto', 'revenger', 'waze', 'deleting', 'domestic', 'attract', 'wada', 'eliada', 'special', 'cracke', 'onyx', 'quebec', 'seam', 'efficacy', 'heart', 'standpoint', 'dismounted', 'makkedah', 'dutchman', 'bun', '6:21', 'pre', 'barke', 'shimei', 'procopius', 'scepter', 'shekel', 'alphabetically', 'residing', 'pointedly', 'disinterred', 'allons', 'shipwright', '1:24', 'cornell', 'acknowledge', 'flame', 'kelly', 'intense', 'eilish', 'guilt', '19:21', 'projecting', 'lowness', 'cried,--', 'laced', 'mum', 'him;--but', 'undo', 'crystal', 'question--', 'broaddrick', 'transverse', 'abuja', 'grieveth', 'shammua', '21:24', 'reclines', 'method', 'therapy', 'submitting', 'mozilla', 'rat', 'reverting', 'berating', 'kyiv', 'sam', 'coterie', 'certainly', 'vnfixe', 'angela', 'flagging', 'ponders', 'tavern', 'cruse', 'aesthetic', 'them,--', 'gael', '21:3', 'thanking', 'appeared', 'treatment', 'duration', 'corn', 'nathan', 'keleti', 'popeyes', 'staggering', 'surmised', 'improperly', 'absolute', 'portrait', 'ankle', 'retracted', 'anarchist', 'hosanna', 'detail', 'coney', 'ultramarathon', 'hoar', 'surmisings', 'craig', 'severest', 'creative', 'fairer', 'spaniel', 'lately', 'knuckle', 'undefined', 'beneath', 'tweeting', 'twining', 'undertone', 'whirl', '10:1', 'oboth', 'magpie', 'fredriksson', 'regiment', 'ninetieth', 'adorning', 'captivity', 'crony', 'disconsolate', 'scowl', 'keepsake', 'derision', 'breathe', 'diligent', 'sosthenes', 'exalteth', 'unconsciousness', '62:1', 'tempting', 'haka', 'grab', 'universally', '8:33', 'alias', 'prostitution', 'laodiceans', 'bargainer', 'dumber', 'kirsten', 'sprinkled', 'tolerably', 'reuel', '28:12', 'assure', 'friend', '7:47', 'chrysalis', '62:6', 'breathed', 'goldfish', 'axis', 'squaring', 'unconscious', 'coulter', 'smallness', 'claret', 'refulgent', 'function', 'creditable', \"crouch'd\", 'siberia', 'warring', 'relapse', 'reinstate', 'stink', \"darken'd\", 'readier', 'halfe', 'teenage', 'peale', '4:33', 'microscopic', 'commissioned', 'quietude', 'clawed', 'arba', 'afford', 'wary', 'prodigal', 'suez', 'forerunner', 'smallridge', 'benwick', 'proudest', 'shooteth', '34:21', 'aslope', 'debating', 'transport', 'shamgar', 'dwindle', 'bitnet', 'cologne', 'superbly', 'footsore', 'bittern', 'combatant', 'panteth', 'happen', '26:20', 'countess', 'impeaching', 'arouses', 'huawei', '39:12', 'proofe', 'underline', 'dow', '23:2', 'accounting', 'reason', 'larry', 'sparrow', 'maliciously', 'giloh', 'cleansed', 'chedorlaomer', 'bespeak', 'gaal', 'petition', 'discomfited', 'wicket', 'finance', 'event', 'wrath', 'aspiration', 'typewriter', 'beacon', 'intended', 'axle', 'notorious', 'steele', 'honest', 'communicated', 'disputing', 'handbreadth', 'ahead', 'signification', 'propensity', '27:27', 'plotting', 'fully', 'surveils', 'beeri', '23:15', 'chestnut', 'plump', 'tarquin', '50:24', 'lurked', 'underrated', 'ineligible', 'wto', 'impetuous', 'merchantability', 't', 'höglander', 'goethe', '64:10', 'agreeable', 'cassia', 'feign', 'stared', 'bumper', 'unguarded', 'astonied', 'kavanaugh', 'waistcoat', 'megyn', 'blunted', 'stricter', 'prospect', 'n.korea', '26:26', 'didymus', 'redresse', 'disembosom', '34:9', 'text', 'instructs', 'locust', 'tableau', 'covertly', 'himmalehs', 'influencer', 'tharshish', 'annihilated', 'phony', 'protested', 'plentifully', 'nuneaton', 'liberation', 'tanked', 'boosting', \"mourn'd\", '300,000', 'clove', '20:44', 'tin', 'absence', 'scarborough', \"ask'd\", 'blasted', 'hananeel', '6:56', 'thrifty', 'ophrah', 'weighing', '63', 'jacobite', 'intrinsically', 'inscription', 'whitewashed', 'petraeus', 'unavoidably', 'volvo', 'quilt', 'relied', 'exclusion', 'benighted', '13:48', 'shubael', 'flint', 'larkspur', 'regulating', 'deare', 'folk', 'azotus', 'vermilion', 'outward', 'moneychangers', 'taiwan', '19:46', 'subsidize', 'drinketh', 'xiii', '11:35', 'grouping', 'lastingly', 'incorrect', 'dover', 'demetrius', 'indemnify', 'defected', 'beryl', 'pitieth', 'diuided', '12:39', 'haman', 'fluffy', 'forfeited', 'whistled', 'trumpist', 'formidable', 'amzi', 'wroth', 'quarrelsome', 'connoisseur', 'client', '45:11', 'contracting', 'upbraid', 'duncan', 'promenade', 'quarrelling', 'regretting', '58', '31:43', 'desperado', 'bitcoin', 'behemoth', \"frown'd\", 'retweet', 'shouldering', 'pethor', '23:39', 'medes', 'phrenology', 'calp', 'horatio', 'breitbart', 'satanic', 'squareness', '20-week', 'officiating', 'softly', 'puzzle', 'lurk', 'unembarrassed', 'jehudi', 'featuring', \"prou'd\", 'endeavor', 'baalgad', 'includes', 'eton', 'pupella', 'adjourn', '15:23', 'sublimed', 'neutrality', 'hastert', 'iron', 'insane', 'mown', 'timid', 'stubble', 'followes', 'versus', 'vibration', 'asketh', 'canst', 'wrest', 'asserting', 'delivers', 'slain', 'bunyan', 'norwey', 'zelophehad', 'iddo', 'enclose', 'tactic', 'multiple', 'revolutionary', 'harlot', 'sanctify', 'resident', 'reverie', '48:5', 'spoiler', 'departs', 'shadow', 'lome', 'frying', 'scampered', 'corresponding', 'postillion', 'bog', 'seuenty', 'copiously', 'parched', 'bearskin', \"crown'd\", 'joab', 'narrating', 'toxic', 'cusp', 'sheeny', 'gripping', 'stealeth', 'turke', 'simmer', 'tub', 'harden', '21:35', \"convuls'd\", 'peruvian', 'nadab', 'truly', 'agrippa', '51:9', 'manent', 'challenged', 'problematic', 'ashkelon', \"banish'd\", 'reported', 'straining', 'vesture', '43:4', 'dibon', 'parsee', 'insult', 'unimportant', 'energetic', 'trumped', 'orion', 'colbert', 'landau', 'hatter', 'glow', 'ultimately', 'chart', '1:26', 'inspiriting', 'non', 'sterile', 'procured', 'driues', 'renew', 'foray', '33:7', 'shoved', 'nonprofit', 'articulation', 'grappling', 'woodhouses', 'transcendent', 'rushing', \"wither'd\", 'zelda', 'swayed', 'giaour', 'sailor', 'polluted', 'cerebellum', 'caroll', 'abortive', 'reign', 'clinching', '9:7', 'seascape', 'disrupted', 'apparel', 'bakbukiah', 'time--', 'grandly', 'flop', 'subterranean', 'abundance', 'occur', 'condolence', 'evident', 'disturbance', 'crime', 'enlarge', 'yander', 'fortification', 'objectless', 'charter', 'snl', 'awakes', 'tinted', 'chafe', 'exactly', 'kiln', '19:15', 'casluhim', 'trade', 'concurring', 'lionel', 'fiercer', '62:9', '26:2', 'alienate', 'overhearing', 'vigorously', 'sharpening', 'belt', 'creature', 'obamacare', \"ponder'd\", \"leaven'd\", 'meshech', 'abinoam', 'wasting', '             ', 'trifled', 'grotto', 'otter', 'wrestle', \"murder'd\", 'hilariously', 'scottish', 'ariseth', 'prison', 'soever', 'magistrate', 'reverberation', 'littered', 'aloofe', 'rolled', '12:23', 'global', 'irremediable', 'fulfilled', 'dross', 'forefront', 'lawless', 'production', 'watch', '3', 'isi', 'pave', 'explain', 'discouraged', 'intent', 'archangelic', 'politics', 'spiritless', 'circumventing', 'caress', 'mater', '4:1', 'keepeth', 'creed', '66', 'georgia', 'receives', 'bilhah', 'dissuade', 'suliman', 'foreseen', 'dissatisfaction', 'congress', 'renard', 'endure', 'seiu', 'soothe', 'seine', 'peddle', '23:38', 'credit', 'oho', 'suspiciously', '39:27', 'bell', 'untie', 'cutting', 'faileth', 'dilapidated', 'moses', 'calphurnia', 'exactitude', 'vexatious', 'mete', 'floated', 'princeling', 'sprights', 'engaging', 'hebrew', '35:23', 'forced', '26:21', \"shew'd\", 'rudy', 'third', 'shoving', 'successively', '35:26', '20:37', 'charmes', 'jurisdiction', 'stalled', 'marquis', 'pronged', 'typhoon', 'himself', 'insignificant', 'reprove', 'dec.', 'rapport', 'extol', 'memorie', '23:24', 'seuen', 'snug', 'waues', 'received', '20-year', 'concourse', 'ringing', 'displaying', 'rogelim', 'stinketh', 'piebald', 'corner', 'movement', 'cbs', 'settee', 'superficial', '86', 'soccer', 'sheep', 'retrograde', 'drawl', 'yellowish', '6.5', 'recuse', 'paul', 'spile', 'oshea', 'enterprize', 'nethermost', 'accommodation', '31:16', 'wilks', \"disappear'd\", 'juicy', 'monarchy', 'calico', 'hark', 'ashtoreth', 'admirable', 'heeles', 'jarib', 'grieve', 'tissue', 'quaint', 'merkel', 'ishbosheth', 'avarice', 'your', 'zac', 'unfathomable', 'intellectual', 'damsel', 'arson', 'fueled', 'correspond', 'rejoice', 'declareth', 'anomalously', 'merlin', 'abiah', 'aureola', 'eruption', 'delicacy', 'flown', 'roaring', 'occupant', 'filter', 'hurtled', 'conclusion', 'mated', 'translation', 'winepress', 'foolishness', 'perfidious', 'fern', 'flighty', '22:46', 'brigandine', 'drawled', 'uttermost', '32:15', '31:21', 'roy', '39:3', 'fairy', 'limestone', 'crucify', 'dense', 'xerxes', 'peacemaker', 'site', 'symbolised', 'victorian', 'header', 'transcription', 'dignified', 'sanctifieth', 'antarctic', \"had'st\", '1:38', 'mufti', 'recreational', 'vaunt', 'fifa', 'swisserland', 'informing', 'cistern', 'find', 'gnat', '37:15', 'connexion', 'wisest', 'ungenteel', 'michmas', '15:21', 'poise', 'margot', 'lettering', '45', 'securing', 'mobil', 'delayeth', 'yard', 'total', 'crowbar', 'arkite', 'blitz', 'slappin', 'relationship', 'spiked', 'bash', 'bitch', 'lunar', 'resumed', '31:54', 'dogged', 'careth', 'bannon', 'shaveddinov', 'bru', 'unexpectedly', 'locked', 'gliding', 'claiming', 'dumpling', 'forgave', 'coordination', 'counteracted', 'prioritize', '39:28', '18', 'analyzed', 'robbed', 'instilled', 'lieberman', 'hurricane', 'dig', 'vampirism', 'nested', 'remembered', 'hampton', 'oklahoma', 'smoothness', 'abase', 'lovelier', 'unstoppable', 'spiral', 'chemical', 'strolled', 'bullied', 'carefully', 'unc', 'eglah', 'ago', \"ye're\", 'consciously', 'poke', 'judging', 'stopt', 'jarmuth', 'romeo', 'bleeding', 'loitering', 'creditloan', 'inclosed', 'dying', 'ostentatious', 'murder', 'winston', '11:38', 'alms', 'mindful', \"incens'd\", '13:27', 'intolerable', 'novel', 'peck', 'buriall', '2:49', 'cuckow', 'vocal', 'loomed', 'piquet', 'workmanship', 'estimating', 'bloomberg', 'involving', 'weighty', '36:13', 'smashed', 'beseech', 'unformed', 'donation', 'foliage', 'perpetual', '21:33', 'jahveh', 'swamped', 'empress', 'inclosings', 'boomerang', '43:8', 'carried', 'listlessness', 'proposing', 'seest', 'minister', 'singed', 'answerest', '31:45', '8:55', 'uncharted', 'england', 'freezing', 'brink', 'transplanted', 'raspberry', '36:35', 'insignificance', 'censured', 'bedfordshire', '51:13', 'pointing', 'brisk', 'timnah', 'transformation', 'victorie', '9:12', 'spasmic', 'uneven', 'falcon', '3:15', 'discreetly', 'worke', 'femme', 'mired', 'reflection', 'menacing', 'fasted', 'assorted', 'veal', 'begge', 'pressed', '62:11', 'offal', 'masculine', 'scared', 'overhung', '2:52', 'sha', 'tri', 'maintenance', 'infectious', 'served', '2:22', 'u.s.', 'camerado', 'fey', 'scalise', 'alabaster', 'girle', 'weaned', 'hodaviah', 'wend', 'you--', 'cuvier', 'omnipresent', 'parle', 'tyre', 'drowne', 'just', 'yes', '17:6', 'booming', 'debate', 'vehicle', 'toss', 'refraine', 'parading', 'pow', 'bade', 'boycotting', 'mess', 'vet', 'carue', 'engraved', 'chat', 'newt', '24:13', 'plying', 'plucke', 'eternity', 'blotting', 'baggage', 'amplify', 'approving', 'mr', 'ser', 'meat', '4:12', 'imagination', 'bountiful', '42:13', 'cream', 'cripple', 'relenting', '5:7', 'denounces', 'millstone', 'eloquent', 'readie', 'boo', \"deny'd\", 'recede', 'ira', 'glamis', 'bended', 'grain', '23:14', 'enveloping', 'trick', 'spicer', 'rue', 'physicke', 'cocoanut', '29:24', '44:30', '66:18', 'skill', '14:27', 'mistaking', 'doubtfull', 'roadside', 'jerah', 'clerical', '20', '6:29', 'globalists', 'devilry', 'englishman', 'day', 'subservient', 'illusion', 'elegant', 'commend', 'lewdly', 'bethsaida', 'concise', 'dancing--', 'culminating', '20:48', 'watched', 'blow', 'sulkily', 'workwomen', 'worshipped', 'entreat', 'booty', 'strafford', 'laurer', 'sudden', 'norman', 'endorsement', 'mina', '12:14', 'fewer', '34:33', 'aircraft', 'bucket', 'tilled', 'hauocke', 'mcelhenney', '--a', 'sweepe', 'recycling', 'handkerchief', 'chilling', 'won', 'promulges', 'portent', '37', 'imposing', 'maned', 'paler', 'orleans', 'cannon', 'belonged', 'gospel', 'accumulation', 'endures', 'sentenced', 'travelleth', 'tripod', 'binnacle', '21:19', 'attractive', 'profiteth', 'mound', 'cybersecurity', 'michmash', 'drone', 'said,--', 'nervously', '                                          ', \"d'or\", 'poster', 'jumbled', 'cruz', 'hadad', 'abound', 'laconia', 'businesse', 'forbearing', 'uber', '450', '61:8', 'sore', 'regardful', 'chalice', 'steakhouse', 'wasteful', '12:27', 'each--', 'memorial', 'clau', 'executive', 'rokovoko', 'seaman', 'exult', \"batter'd\", 'grandest', '44:10', 'rolling', \"avow'd\", 'poky', 'demolition', 'lark', 'cancell', 'revisiting', 'composer', 'golgotha', 'grindstone', 'trench', 'auxiliary', 'ventilator', 'sinning', 'rosemary', 'id', 'sinewy', 'gloat', 'promo', 'equipt', 'bayou', \"anger'd\", 'not--', 'sophia', 'trilogy', 'takeaway', 'sarcastically', '66:20', 'dispatch', 'harbinger', '11:28', 'cd', 'linguist', 'treason', 'assyrian', 'clutching', 'curved', 'unweeting', 'profession', 'jehozabad', 'distillation', 'afresh', 'overpowers', 'peru', 'greenland', 'rebuketh', 'spanned', 'shall', 'mccain', 'mamma', 'funereal', 'plowed', 'barley', 'dealeth', 'tremendous', 'tightening', 'respectively', 'jonathan', 'vhs', 'flea', 'conveys', '55:12', 'rivet', '32:37', 'condemnation', 'recitative', 'hatchet', 'circumnavigating', 'spire', 'buoy', 'coarse', 'prayses', 'clumsy', '16:16', 'wheelchair', 'rinsed', 'wen', 'freeing', 'cypress', 'flopping', 'fauour', 'determinate', 'envying', 'context', 'starving', '9:39', 'blackness', 'predecessor', 'paddled', 'deliverest', 'got', '2007', 'cutlas', 'johnson', 'wheaten', 'departed', 'amok', 'enamoured', 'swalwell', 'tick', \"chain'd\", 'wealth', '3-day', 'modi', 'berachah', 'negativity', 'macb', '10:11', 'theft', 'chaldea', 'timely', 'maharai', 'issue', 'carted', 'muppeteer', 'whisked', 'bounding', 'empyreal', 'vestibule', 'innovative', '4:7', 'antediluvian', 'charmaine', 'mindes', 'subsidy', 'nemuel', 'inspecting', '42:5', '21:25', 'cortez', 'ofttimes', 'detect', 'sustaining', 'pierce', 'brat', 'zodiack', 'manfully', 'eyebrow', 'kirjathbaal', 'suited', 'wel', 'ointment', 'durham', 'migration', 'fingerprint', 'igor', 'patrimony', 'grisham', 'befits', 'bracelet', 'ascertained', 'driveth', 'libertine', 'criest', 'apologetically', 'compassing', 'frankely', 'myth', 'degrading', 'cliff', 'faltered', 'mirror', 'termination', 'dispirited', 'snubbed', 'depleted', 'ginger', 'shirley', 'led', 'implement', 'aisle', 'firm', 'adamant', 'showing', 'contest', 'reaping', \"untrimm'd\", 'parcel', 'protruding', 'winking', 'cavuto', 'ebedmelech', '27:37', 'telling', 'ore', 'quadrille', 'thrift', 'descrying', '395,000', 'apply', '1:31', '17:3', 'injurious', '5:10', 'manhattanese', 'clone', 'empathy', 'headway', 'rosincrane', 'bezai', 'blair', 'idolatrous', 'dreaded', 'antisemitic', 'fireplace', 'elm', 'circulation', 'antilles', 'fulfilling', 'devise', 'detonation', 'reporting', 'hilted', 'lighteth', 'nbc', 'anybody', 'locality', 'gho', 'manufactory', 'wantonness', 'ingratitude', 'aromatic', 'mungo', 'liberated', 'ranked', 'output', 'peaceful', 'inordinate', 'whilst', 'boasted', 'disdained', 'nathanael', 'pompous', 'shovel', 'solving', 'unprincipled', 'gracefully', 'hiss', 'neighbor', 'debris', 'miniamin', 'craft', 'salman', 'conformity', '24:48', 'bewitching', '4.0', 'dood', 'hanameel', 'numb', 'anticke', 'nahash', 'awaketh', 'incredulous', 'crowded', 'brained', '18:28', 'governess', 'bristling', 'unremoved', 'evi', 'fable', '12:16', 'shtone', 'shold', '11:7', 'chastening', 'texture', \"veil'd\", 'inter', 'heaved', 'wishful', '28:4', '29:33', 'shortened', 'demoralized', 'stripping', 'entailed', 'mathematician', 'churchill--', 'posse', 'fiddle', 'titin', 'rcs', 'keepes', 'whaler', 'fourpence', 'eurosceptic', 'vishnoo', 'stumble', 'cain', 'sec', 'incorporate', '19:35', '2.7', 'conclusive', 'devonshire', 'welch', 'porus', 'fork', 'boeing', 'composedly', 'arose', 'noadiah', 'burnett', 'california', 'acclamation', '46:11', 'meddle', '27:4', 'extasie', 'rideshare', '\"--she', \"lower'd\", 'transmitted', 'piccola', 'rubber', 'obscured', 'lunatick', 'relate', 'preferring', 'bath', '17:12', '10:5', 'hermon', '36:15', 'house', 'olfactories', '48:9', 'rein', '43:18', 'contributor', 'ioue', 'fiendish', \"scorch'd\", 'toppling', '--\"narrative', 'surly', 'rocked', 'couch', 'manxman', 'literal', 'decisively', '18:44', 'began--', '8:40', 'galileo', 'swart', \"unreach'd\", 'scoop', 'f*cking', 'defied', 'locomotive', 'twill', 'l', 'thousandth', 'twice', 'liftest', 'survive', 'quench', 'todhunter', '45:9', 'veteran', 'foursquare', 'obstructing', 'almond', 'icicle', 'convince', 'delusional', 'volum', 'singularly', 'passing', 'neskyeuna', 'fierie', 'plus', 'embankment', 'soprano', 'beest', 'bedside', 'thereof', 'annals', 'piper', 'uzal', 'drinkes', 'discouery', 'dejection', 'glitter', 'genesis', 'get', '62:3', 'luckless', 'flocking', 'tane', 'dignity', 'dangle', 'historical', 'crunching', 'wheedled', 'quaker', 'gaiety', 'tumbler', 'tutti', 'corporeally', 'environment', 'recollects', 'troy', 'blossomed', 'reportedly', 'perceiving', '4:15', 'bug', 'added', '35:33', 'freely', \"reliev'd\", 'parish', 'privacy', 'parapet', 'seyward', 'per', 'stream', 'gov', 'deferment', 'ple', '10,000', 'unsteadily', 'riposte', 'burgher', '41:17', 'peleth', '>', 'appreciate', 'immunity', 'swirl', 'manoah', 'gob', 'check', 'dim', 'four', 'conducted', 'troup', 'tahan', 'saumur', 'verily', 'oversee', 'boarded', 'patiently', 'weymouth', 'shunammite', 'seraph', 'haires', 'discovers', 'concord', '38:2', 'cursedst', 'crack', 'pump', 'capturing', 'more', 'icbm', 'jekameam', 'unbuckling', 'starlight', 'countersign', 'somthing', 'sluice', 'foxnews', 'massachusetts', 'recurred', 'echo', \"publish'd\", 'ephraim', 'vol', 'wist', 'devoted', '5:24', 'holdeth', 'jealous', 'leaden', 'tempt', 'equating', 'chance', 'baasha', 'dotes', 'wolff', 'grandee', 'thankful', 'ratcliffe', 'preceding', 'cane', 'avignon', 'constrain', 'varnished', 'consumeth', 'sag', 'mysticism', 'sneezed', 'supremacist', 'spundge', 'further', 'scepticism', 'deist', 'rim', 'pharaohnechoh', 'resource', 'troll', 'bot', '23:20', 'harsher', 'eluding', 'suffusing', 'homan', 'axe', 'lifted', 'jointed', 'towed', 'placid', '27:28', 'interstice', 'feasible', 'jasher', 'renaissance', '30:6', 'papa', 'prominent', 'slightingly', 'arthur', 'intervention', 'mapple', 'expence', 'brexit', 'izhar', 'revolters', '5:41', 'harlequin', \"bear't\", 'nebat', 'heaviness', 'abetted', 'espn', 'tn', 'prior', 'two--', \"wish'd\", 'fleeth', 'rimmon', '28:5', 'singular', 'mac', 'hatchway', 'punished', 'posture', 'sizzler', 'coaxing', 'irreverent', 'carving', '38:14', 'thitherward', \"unsurvey'd\", 'mimic', 'solitude', 'alarme', 'drawling', 'majority', 'religionist', '6:52', '1599', 'romney', 'glance', 'gainsaying', 'defiance', 'al', 'cousinly', 'ferule', 'booz', 'increasingly', 'hopped', 'chauvinism', 'pinioned', 'knightley', 'clampdown', 'picked', 'obtaining', 'ban', 'curbstone', 'untied', 'willoughby', 'buzz', 'wrenching', 'peacefully', 'an', 'terme', 'triune', 'sand', 'mortification', 'steadiness', 'repeal', 'sapphire', '20:35', 'gohmert', 'elimelech', 'hanoverian', '12:11', 'ensigne', 'patchwork', 'subtilty', 'weird', 'skinny', 'conjure', 'paypal', 'glistering', 'shellfish', 'vibe', 'shimeah', 'bridle', 'anaconda', 'undiminished', 'suckled', '28:25', 'runneth', 'spectator', 'excludes', 'lacepede', \"thrill'd\", 'edited', 'thud', 'unplowed', 'matthias', 'scrawl', 'canada', 'combative', \"spann'd\", 'scorching', 'inestimable', 'tennis', '4th', 'powerless', 'worthless', 'telem', 'botnet', 'tasselled', 'pantry', 'wavered', 'thriving', 'tar', 'fleet', 'frighted', 'dynamiter', 'jotbathah', '31:53', 'garner', 'appeased', 'surety', 'opener', '66:19', 'fountaine', 'loom', 'then', 'calhoun', 'friesland', 'investigative', '38:12', 'yangtze', 'swollen', 'novelist', 'etta', '3.6', '5:32', 'carrying', 'feeble', '18:24', '4-minute', 'trundle', 'jailer', 'destroying', 'worshippeth', 'plucking', 'appointment', 'gilboa', 'infrastructure', 'rascally', 'pursues', 'yojo', 'baldwin', 'palmer', 'niphon', 'thirsteth', 'proselyte', 'spelling', 'juggler', 'overrun', 'measure', 'judicial', 'infantry', 'prolongeth', 'cetology', 'furnish', 'shootdown', 'luc', 'lucifer', 'demanded', 'invasion', 'strawes', 'menteth', '51:1', 'lodebar', 'alabama', 'fullest', 'stood', 'dubke', 'encrypted', 'unreason', 'metrical', 'grind', 'snout', 'intentionally', 'junior', 'faltering', 'obnoxious', 'themselues', 'putrid', 'spoke', 'shaphan', 'unending', 'horrified', 'hard', 'leisurely', 'internment', 'ecological', 'imprudently', '3:49', 'soaked', 'stallion', 'monitoring', 'retrospect', 'catholicism', '41:21', 'hesperian', 'bag', 'changeable', 'sweeper', 'estrangement', 'hop', '19:41', 'throughly', 'naturall', 'explore', 'senator', 'conclave', '37:10', 'savans', 'spun', 'stunted', 'haile', 'tricking', 'savourest', 'swash', 'ma', 'crafty', 'generously', \"chanc'd\", 'peaked', 'g.o.p.', 'enriched', 'salutation', 'it;--and', 'sophist', 'pierced', 'let', 'convicted', 'plaiting', 'inherent', 'scot', 'hauled', 'trodden', 'spider', 'squad', '47:13', 'fellowlabourers', 'lifelong', 'blake', 'slim', 'orderly', 'casting', 'jackie', 'atlantick', 'sawce', 'belly', 'scientific', 'luxurious', 'plainer', 'homelessness', 'entourage', 'gershonites', 'stokes', 'freakout', 'interchange', 'previously', '49:15', 'hubbub', 'kadmiel', 'renews', 'priority', 'admires', 'amoz', 'shewn', 'comparatively', 'catalonia', 'complacent', 'damaging', 'foe', 'ty', 'prettier', '33:6', '3:30', 'shuts', 'juryman', 'amused', 'beehive', 'adult', 'noiseless', 'me--', 'measurable', '23:35', 'guild', 'enlighten', '11:49', 'legible', 'respecteth', 'satellite', 'acquires', 'immaterial', 'nicola', 'nsa', 'jabbering', 'chiefest', '9:3', 'materially', 'returneth', 'composite', 'treadeth', 'mushroom', 'molasses', 'honor', 'sternest', '3:34', 'complication', '36:27', '3:27', 'prime', '45:5', 'downy', '63:8', 'manipulate', 'expose', 'frozen', 'insufficient', 'heat', 'cheever', 'alexandria', 'g', 'shaalbim', '28:17', '29:39', 'snuff', '15:14', 'asriel', 'chad', 'can--', '750', 'proposes', 'reborn', 'azriel', 'co2', 'molotov', 'grateful', 'seth', 'every', 'penthouse', '34:30', 'orchestrating', 'brimstone', 'collared', 'ethan', 'compromising', 'laura', 'freshening', 'openest', 'loin', 'backstory', 'everlasting', 'tech', 'irksome', 'peeled', 'physiognomically', 'draw', 'valour', '16:9', 'dare', 'description', 'eatable', 'romane', 'inflated', 'familiarized', 'rioter', 'alibaba', '8:11', '38:16', 'janohah', 'tenon', 'unmannerly', '19:18', 'distaste', 'rohingya', 'usurper', 'sars', 'horrible', '13:9', 'if--', 'race', 'patched', 'journalistic', '30:3', '10:9', 'oftener', 'hiddekel', 'chivalric', 'revenged', 'beheldst', 'pathogen', 'thibet', 'stouthearted', 'banister', 'elf', \"bruis'd\", 'vial', 'solemnly', 'effected', \"unloosen'd\", 'drums!--blow', 'custodian', 'peaceable', 'unaffected', 'petitioner', 'sweetbread', 'heartland', 'overflowed', 'ministered', 'casualty', \"if't\", 'between', 'represents', 'blinde', '13-year', 'claimed', 'pershing', 'furious', 'voluntary', 'bully', 'pervades', 'mythology', 'gervais', 'shly', 'glu', 'whoring', 'greater', 'producing', 'exalte', 'idolized', 'burdensome', 'zoo', 'kolbe', 'metaphysical', 'splash', 'darker', 'spiro', 'nearby', 'worcestershire', 'material', 'uncorked', '2:53', 'quicken', 'abiud', 'more!--and', '10:21', 'cherishing', 'pharez', 'missed', 'entrails', 'apollo', 'rightwing', 'isinglass', 'meeke', 'discomfort', 'conceiving', 'thewes', '26:34', 'deprived', 'banqueting', 'wept', 'causeless', 'blameable', 'racket', 'ascii', 'bo', 'ironwork', \"ma'am\", 'educated', 'aliue', 'thoughtfully', 'kingly', 'vnkindnesse', 'impotently', 'mortified', 'crushed', '44:20', 'jargon', 'gent', 'parmacetty', 'inquire', 'nobost', 'platonist', 'totalitarian', 'recovery', 'summary', 'lascar', 'athens', 'picture', 'highbury', 'annual', 'iigge', 'transition', 'undismayed', 'true', 'girdling', 'composure', 'kanye', 'tragic', 'definitely', 'mnuchin', 'customary', 'mercifull', 'phut', 'scourged', 'lena', 'digge', 'sikh', 'who--', \"heau'n\", 'riveted', 'luckiest', 'specie', 'dizziness', 'geshur', \"toil'd\", 'alleluia', 'cathay', 'improves', 'sultanism', 'unpleasantness', 'fool', 'bushfire', 'insincerity', 'enoch', 'pakistani', 'bluff', 'drastic', 'carteret', 'reluctance', 'subtler', 'spoonful', 'bordeaux', 'laer', 'miserably', 'track', 'wrinkled', 'june', 'amphitheatre', 'committed', 'comedian', 'set', 'kalanick', 'demand', 'waterest', 'nehemiah', 'misguided', 'aborigine', 'hisself', 'assumed', 'abiel', 'loftiness', 'detector', 'discreet', 'whit', 'peak', 'dealer', 'javelin', 'buddha', 'december', '6:20', 'oversight', 'hun', 'tema', 'yawned', 'evangelicals', 'geba', 'promised', '5:38', '31:1', 'impertinent', 'rushed', 'stored', '6:44', 'glared', 'murmured', 'starbuck', 'audio', 'eat', 'wentest', 'belarus', 'murky', 'innocency', 'ritual', 'dominant', 'malachi', 'invariable', '26:43', 'matted', 'analysis', 'cursing', 'consisted', 'burly', '8:58', 'alwayes', 'multitudinous', 'origin', 'renish', 'beitar', 'liability', 'retains', 'gaash', 'arah', 'stair', 'ungovernable', 'her.--the', 'spot', 'doating', 'wringing', 'grinned', 'ryans', 'tempering', 'circumcising', 'strong', 'heaped', 'gordon', 'throughout', 'interviewer', 'light', 'scant', 'churning', 'obliquity', 'so', 'noiselessly', 'derived', 'braines', 'diverting', 'loudest', 'deliver', '20:13', 'horrour', 'coupleth', '23:41', 'begettest', 'gutenberg', 'prehistoric', 'snared', 'brandishing', 'accosting', 'pennsylvania', 'sent', 'differing', 'ricky', 'nondescript', 'durbin', 'sutton', 'purporting', 'wrestlemania', 'politely', 'employer', 'bluntly', 'weakly', 'accustomary', 'erelong', 'attitude', 'perfecting', 'fumbled', 'slack', '30:32', 'unwaked', 'heigh', 'aecon', 'physeter', 'nfl', '1.8', 'shuddering', '17:19', 'bespeaking', 'hastening', 'indispensable', 'milton', 'cheerfuller', 'placard', 'exposition', 'variety', 'adjoining', 'caul', 'humanity', 'spring--', 'scapegoat', 'cordial', 'cocktail', 'narragansett', 'implies', 'one', \"whisper'd\", '6th', 'convenience', 'd', 'forgery', 'sown', 'dapper', 'adjust', 'dallying', 'favoured', 'japanese', 'helter', 'sundered', \"father'd\", '3.2', 'deprecating', 'impartiality', 'strives', 'venom', 'float', 'mattithiah', 'uncovers', 'shilhi', 'mealtime', 'ananiah', \"damn'd\", 'fulfill', 'armour', 'pas', 'rivulet', 'defying', 'menu', 'uncertainty', 'bobridge', 'bestial', 'seattle', 'irritably', 'loruhamah', 'accomplishing', 'undulate', 'core', 'pitying', '1:16', 'complain', \"could'st\", 'mutilation', 'unison', 'whim', 'rake', 'conquering', 'judged', 'raphael', 'satan', '26:42', 'samlah', 'clownes', 'tyrannous', 'streame', 'pharisee', 'everybody', 'recompense', 'reproachful', 'crucifixion', 'knocke', 'novitiate', 'glorying', 'response', 'celebration', 'minde', '16:6', 'prickly', 'bethshemite', '1807', 'altamahaw', 'inheritance', '46:24', 'spanish', '42:23', 'consumptive', 'immeasurably', 'queerness', 'injured', 'vocation', 'scent', 'mercosur', 'mesha', 'prospereth', 'digital', 'fount', 'teeth', 'returned', 'azubah', 'nom', 'hazarshual', 'thus--', 'arithmetic', 'pm', 'admirer', 'limitation', 'churchill', 'alligator', \"embalm'd\", 'kidney', 'playbook', 'mourning', 'fuelled', 'hoarded', 'navigator', 'visitor', 'consults', 'teareth', 'shepard', 'subdue', 'brutally', 'holier', '16:43', 'seducer', 'preserved', 'quintus', 'kangaroo', '15:5', 'devastated', 'admiral', 'bedford', 'extremest', 'citizen', 'dyest', 'feel', 'disposition', 'loyalty', 'infers', 'hysteria', 'barbarian', 'denieth', '60:11', 'weakened', 'meyers', 'counterbalance', \"cover'd\", 'murmuring', 'elliott', 'winebibber', 'reformer', 'shoeless', '15:42', 'desired', 'recoiled', 'curry', 'xxii', 'prospered', 'panelled', 'ai', '15:3', 'personified', 'fmr', 'biteth', 'rowing', 'louers', 'filth', 'incorruption', 'awry', 'unni', 'buttressed', 'blamed', 'fauors', 'moist', 'funded', 'khan', 'sweet', '30:15', 'matthan', 'ashdod', 'orbic', 'property', 'lane', 'unrighteous', 'ignited', 'written', 'welcomed', 'cheere', 'sposo', 'math', 'few', 'washed', 'sunne', 'evade', 'without', 'ioyne', 'departure', 'gradation', 'titinius', 'savaged', 'poetic', 'obvious', 'wait', 'barnabas', 'dangling', 'colombia', 'fertiliser', 'refusal', 'beyonce', 'thief', 'striven', 'shell', 'israelitish', 'tiptoe', 'armchair', 'shrink', 'wormes', 'misinterpreted', 'languisheth', 'nebraska', 'achsah', 'bedad', 'heedless', 'tracked', 'austria', 'mysterious', 'presenting', 'toy', 'poisoned', 'loveit', 'sloppy', 'paling', 'zadok', '10:7', 'erect', '45:10', 'nasal', 'hinch', 'phoenix', 'scarecrow', 'glitch', 'zephyr', 'suffocated', 'ensued', 'thare', 'loosened', '180-degree', 'tranque', 'catechism', 'brigandish', 'scolded', 'apparelled', 'icelandic', 'joy--', 'gazez', 'trust', '55:13', 'noteworthy', 'murmur', 'ray', '11:34', 'lovingly', 'clangor', 'ammunition', 'this', 'desolation', 'sardine', 'smiting', 'perfumed', 'suffered', 'transformed', 'falling', \"guess'd\", 'symbolism', 'maroon', 'dabbling', 'brushing', 'frowardness', 'pittsburgh', 'lunatic', 'squeezing', 'parchment', 'htin', 'filibuster', 'uncertain', 'save', 'critter', 'decoration', 'hyde', 'summoned', 'adventure', 'gibson', 'warmer', 'honoured', 'level', 'refugee', 'apprentice', 'resembled', 'womenservants', 'bigger', 'steadiest', 'betty', 'theatre', 'magnify', 'illuminating', 'housekeeper', 'collusion', 'loosing', 'badness', 'faithfully', 'withinside', 'kept', 'anab', 'anon', 'captivating', 'sweete', 'blissful', 'fortunate', 'unduly', 'truthful', 'fiber', 'feathery', 'fragment', 'spanning', 'digesting', 'faint', 'esarhaddon', 'iaw', \"desir'd\", 'development', 'pleadeth', 'entertained', 'octa', '5:5', '24:40', 'psychologically', 'luckily', 'trigonometry', 'tahpanhes', 'shashak', 'downloads', 'landlessness', 'humour', 'undesignedly', 'cramped', 'coolness', 'ethnicity', 'despising', 'union', 'halah', 'offall', \"sheath'd\", 'incredible', 'chaff', 'office', 'ice', 'trudged', 'garrett', 'cubic', '34:20', 'allotted', 'assuming', 'ox', 'ubiquitous', 'conceived', '3:35', 'prophesy', 'moreh', 'introduce', 'hidden', \"disclos'd\", 'convinced', '30:30', 'sneering', '16:21', 'accordingly', 'blear', 'patroness', 'immemorially', 'undoing', 'whiten', 'thinkest', 'forsake', 'america', 'imputeth', 'tarmac', 'select', 'maty', 'numberless', 'you.--i', 'astley', 'sanctification', 'messing', 'appalled', 'skipping', 'moody', '2019', 'obscene', 'mildew', 'brainwashing', 'tarred', 'peace', 'unsure', 'swaddling', 'shave', 'washington', 'stammerer', 'tapestry', 'hee', 'noaa', 'annuity', 'futility', 'evince', 'cognizant', '13:46', 'observable', '50:1', 'restarting', 'ardour', 'pursuing', 'impresse', 'spokeswoman', 'spurring', 'camping', 'lop', 'impeachable', 'stump', 'jr', 'outlaw', 'coward', '20:47', 'china', 'of.--', 'morbidity', 'carstairs', 'kovalev', 'explores', 'groaned', 'gesture', 'particular', 'jael', 'sctv', 'triviality', 'nitrous', 'zealously', 'simply', \"garner'd\", '47:10', 'bigamist', 'excused', 'cyberwar', 'hardy', 'undecided', 'r.', 'subsidizing', 'furnished', 'uphold', 'shur', 'replied', '5:2', '48:32', 'maketh', '32:31', 'gloating', 'philosophs', 'enda', 'attestation', 'waiter', 'gladness', 'substantially', 'accepts', 'llama', 'startlingly', 'trifle', 'ideality', 'calling', 'enigma', 'malware', 'resenting', 'bn', 'pop', 'bercow', 'elam', 'reject', 'koch', 'upset', 'contenting', 'obliterate', 'withholdeth', 'partly', 'migron', 'london', '3:33', 'unblest', 'rosenstein', 'tramp', 'collapse', 'chasten', 'sexton', 'venus', 'elusive', 'fedex', 'meet', 'emmy', 'qatari', 'small', 'really----', 'beggarly', 'object', 'gloss', 'owing', 'vinedressers', 'menace', 'malibu', '18:46', 'vat', 'buyest', '75', 'dive', 'favorite', 'neigh', '16:31', 'hinting', 'whet', 'fining', 'mountain', 'imperturbable', 'inwards', 'juggling', 'jist', 'assumes', 'recommendation', 'lucre', 'benign', 'irresistible', 'boding', 'swamp', 'earl', 'aforehand', 'receptacle', 'exist', 'jest', 'incredulity', 'exuberant', 'npr', 'heed', 'illustrious', 'transfused', 'rhetoric', 'cambodia', 'clanged', 'disturbed', 'wannacry', 'domination', 'investigate', 'palmerworm', 'smear', '14:40', 'stew', 'numbered', '59:16', 'plowman', 'taffrail', 'deerely', 'rest', 'stroll', 'baling', 'anti', 'luff', 'tightly', 'plummet', 'adequate', 'reviewed', 'guantรกnamo', 'usa', 'kernes', 'coin', 'nondisclosure', 'korhites', 'unhappiness', 'corrupting', 'faa', 'shaking', \"enamour'd\", 'tartarean', 'humoured', 'waiteth', 'aoc', 'lirra', 'practice', 'try', 'shipmate', 'troas', 'wielded', 'unprejudiced', 'sweare', 'thessalonian', 'nobility', 'clap', '12:48', 'drooped', 'broadcast', 'morne', 'diaper', 'ghostliness', 'oooo', 'chapiter', 'committeth', 'bushy', 'terrifying', 'accelerating', 'joe', 'elbe', 'requiem', \"restrain'd\", 'following', 'isidore', 'managed', 'reeking', 'askelon', 'chalk', \"e'er\", 'remaine', 'perquisite', 'selfies', 'backstay', 'pined', '7:57', 'begotten', 'urgently', '18:23', 'sowest', 'apart', '48:31', 'candour', 'gederoth', 'legislature', 'revolted', 'heinous', 'helpful', 'disrelish', 'vnderstand', 'salary', 'hasteth', 'rhodes', 'contemptible', \"vanquish'd\", 'valley', 'favor', 'zambia', 'ungraciously', 'backed', 'click', 'iustice', 'dog', 'nicodemus', 'gape', '11:9', 'unfrequent', 'swimming', 'formula', 'step', 'circumnavigation', 'possum', '39:25', 'ventilation', '6:58', 'vary', 'skye', 'ratko', 'rebound', 'caste', 'jeered', 'tusk', 'door--', 'resisted', 'domed', 'finite', 'g.', '16:3', 'defined', 'girlfriend', \"answer'd\", 'modem', 'emu', 'travailing', 'label', 'completes', 'bemoan', 'auntie', 'shoulderpieces', 'think--', 'envy', 'antithesis', 'somersault', '36:28', 'data', 'grub', 'expanded', 'perdition', 'captaine', 'bloodshed', 'resistance', 'hbo', 'nakedness', 'roanoke', 'baptize', 'unbecoming', 'elapsed', 'ostler', 'hopeful', 'aholiab', 'auburn', 'eventually', 'testified', 'wrestled', 'trustful', 'mean', '0', 'remaining', '34:2', 'continuous', 'poked', 'pecking', 'impendent', 'clasp', 'bewailed', 'dynasty', 'strengthen', 'bruise', 'idler', 'brendan', 'jacket', 'winch', '14:35', 'shrewdly', 'eloth', 'cascade', 'negotiate', 'satisfieth', 'sisterly', 'hardly', 'homeric', 'movie', 'reynol', '34', 'sank', 'repetition', 'maachathites', 'pea', 'terminus', 'reintroduction', 'dilating', 'maher', 'whatsapp', 'did', 'glimmer', 'lightened', '16:44', 'yew', 'worming', 'sylvan', 'quarter', 'restorer', 'rabelais', 'continued--', 'bare', 'impanels', 'referendum', 'discussed', 'coverage', 'injection', 'flower', 'skirting', '   ', 'denial', 'commune', 'unraveling', 'dwelling', 'reformed', '13:52', '2:23', 'swinburne', 'vindman', '6:26', 'interlacing', 'leon', 'amalekites', 'borrowing', 'scheme', 'patriarch', 'ashtaroth', '49:33', '78-member', 'hailed', '16:37', 'ithrite', 'eternal', 'highly', '1:32', 'billes', '49ers', 'treacherous', 'siam', 'bleached', 'gala', 'coveted', 'zarhites', 'stewed', 'later', 'settled', 'galatia', 'cleaner', 'electrified', 'differently', '1:7', 'pointer', 'sauage', 'helping', 'inventing', 'honouring', 'suppressed', \"ne'er\", 'postponing', 'understanding', '14:42', 'reclaimed', 'tiphsah', 'ahaz', 'jerry', 'crypto', 'savour', 'lattice', 'than--', 'beholdest', 'beget', 'hivite', '51', 'ascertaining', '3:8', 'nazi', 'clean', 'valiantly', 'selfishness', 'widower', 'mcgahn', '6:18', 'horeb', 'aaron', 'stubbs', 'windowes', 'snarled', \"warm'd\", 'incubus', 'pastime', 'cosmic', 'harshly', 'smoky', '2:45', 'corkscrew', 'dismasted', 'twinkling', \"unblam'd\", 'revived', 'goodall', 'justin', 'pilfering', 'lying', 'eshtemoa', 'braced', 'grimed', 'tool', 'ordination', 'jairus', 'van', 'beyond', 'jocularity', 'shiloh', 'juda', 'disproportion', 'coldness', 'lima', 'barkos', 'cummings', \"clear'd\", 'skunked', '30:2', 'accustomed', 'brokenly', 'presse', 'extends', 'paradox', 'obama', 'eyewitness', 'divisive', 'trebonius', 'summons', 'edom', 'unsustainable', 'leaked', 'fadeth', 'capitoll', 'we', 'sim', 'katie', 'sanna', '36:2', 'compunction', 'rememberest', 'egypt', 'coupled', 'lieu', 'panamanian', 'cellphone', 'anticapitalist', 'persuaded', 'hypothesis', 'yarn', 'rephaiah', 'opened', '46:23', 'spurning', 'load', 'goeth', '41:20', 'burnes', 'pink', 'thought', '17:23', 'nobah', 'kenezite', 'comer', 'rebuilding', 'enthroned', 'company', 'gaped', 'o’reilly', '48:15', 'predicts', 'orbicular', 'creepeth', 'euerie', 'priscilla', 'canterbury', 'favorability', 'foorth', 'unfamiliar', '15:57', 'allure', 'giuliani', 'arabah', 'cinque', 'refill', 'perceptibly', 'leuies', 'travelling', 'cosine', 'revel', 'quoting', 'spectacle', 'incarnation', 'thane', 'bolivia', 'warp', 'avoid', 'cub', 'reared', 'tepco', 'scientology', 'wilderness', 'convivial', 'segub', 'farewell', '23:19', 'stain', 'very', 'vendetta', 'citadel', 'expensive', 'hike', 'naivete', 'vapoury', 'intermit', 'bargain', '13:37', 'accrued', 'wolfish', 'deserved', 'waste', 'frivolous', 'pedahzur', 'trouble', '6:13', 'reserved', 'potential', 'cultivate', 'longstanding', 'queerest', 'temporary', 'spacious', '18:3', 'mafia', 'agreeableness', 'smashing', 'glumpe', '7:61', 'kinde', 'concerning', 'reuben', 'jub', 'directly', 'weeny', 'northward', 'curly', 'commends', 'controul', 'livelong', 'dancer', 'chuckle', 'earning', 'sacrilegious', 'rereward', '2:32', 'futurist', 'kompromat', 'sold', 'entrenchment', 'emir', 'britannia', 'rottenness', 'intact', 'birmingham', 'widest', 'unrolled', 'flash', 'lopt', 'bacon', '47:19', 'adventurer', 'cuckoo', 'trusted', 'shua', 'conspiracists', 'repeat', 'dire', 'jerimoth', 'immunization', 'nice', 'remark', 'canavan', 'rehearsing', 'portici', 'allotment', 'seeke', 'log', 'bressed', 'disgust', 'hophni', 'strife', 'ashbel', 'universal', '2:42', 'double', 'sociopathic', 'mimicking', 'poysoner', 'matthat', 'londoner', 'coronation', 'rack', 'plentiful', '17:15', \"cabin'd\", 'wholsome', 'corporate', 'lamentation', 'ignorant', 'printing', 'scribble', 'solve', 'wormwood', '800', 'spouse', 'dention', 'swarthy', 'saile', \"unsurpass'd\", 'confoundedly', 'divide', 'accompanying', 'fate', 'behead', 'flew', 'reservoir', 'scrambling', 'spared', 'fastest', 'justification', 'originated', 'knightley.--', 'academic', 'bosome', '45:16', 'forfeiture', 'shobal', '22:5', '14:5', 'sinned', 'quaked', 'noticed', '26:41', '6:42', \"scallop'd\", 'cedar', 'finer', 'tamar', 'rioting', 'adonizedec', 'firing', 'e.', 'slandered', 'ventured', 'dimly', 'eminently', '2:02', \"deceiu'd\", 'percy', 'believed', 'idealist', 'tryall', 'epicurean', 'plantagenet', 'forty', 'counted', 'gushed', 'banging', 'raging', '14:16', 'drill', 'dumah', 'testifieth', 'hama', 'trustedst', 'prima', 'clive', 'adhesiveness', 'palate', 'intruder', 'hateth', 'desmarest', 'saddled', 'abstruse', \"call'st\", 'individually', 'surveyed', \"lodg'd\", 'vimy', 'bulldozer', '10:36', 'coppola', 'remainder', 'saintly', 'kushner', 'stubbornness', 'dubious', 'month', 'transform', 'graft', 'dophkah', 'gibeah', 'dunce', 'grating', 'reprogram', 'samuel', 'promise', 'hoo', 'facetious', 'easier', 'cholera', 'illiberal', 'lankan', '9:40', 'threw', 'quotation', 'frontlet', 'genteel', 'pact', 'idly', 'hotter', 'elinor', 'doom', 'zerahiah', 'pro-', 'mastering', 'warship', 'unfavourable', 'infuriate', 'surer', 'utterly', 'unleashes', 'sworne', 'bend', 'dirt', 'keynote', 'nap', 'dank', 'contribute', 'readinesse', 'aside', 'bludgeon', '25:10', 'reside', 'quarta', 'needing', 'prolong', 'incident', 'highlander', 'orly', 'quiet', 'organize', 'gehazi', '48:14', 'would', 'suffused', '7:44', 'salon.com', 'pedee', 'pannier', 'swifter', 'mystic', 'una', 'bullock', 'rizpah', 'dissipate', 'hostility', 'sweetheart', 'popular', 'foreboding', 'sycamore', 'silver', 'turnip', 'boss', '55:10', 'punon', 'dennis', 'selection', 'concubine', 'metropolitan', 'quoth', 'attention', 'avowal', 'access', 'learnedly', 'imitate', 'british', 'sucke', 'shelumiel', '57:9', 'vivaciously', 'rebel', 'defensiveness', 'lameness', '--\"the', 'muttered', 'sphinx', 'heth', 'tearful', 'quantum', 'handle', 'shaky', 'talketh', 'welcoming', 'surviving', 'stone', 'gulfe', 'mocked', 'host', 'wittier', 'vindicate', 'trident', 'chock', 'hiding', 'thrown', 'antecedent', 'fleans', '6', 'starlit', 'intimidate', 'ecclesiastes', 'torment', 'huh', 'assume', 'charging', 'smelling', 'admah', '29:28', 'uzziel', 'archite', 'ariel', 'dandled', 'foundered', 'started', 'fumble', 'day--', 'compacted', 'fox', 'brightest', 'communicates', '60:4', 'purple', '7:27', '49:27', 'moulding', 'breathest', 'interminably', 'elamite', 'c.', 'kitty', 'hammedatha', 'corroded', 'muse', 'bloud', 'gap', 'worry', '28-year', 'chelsea', '59:5', 'france', 'davidson', 'dental', '24:45', 'effectual', 'colonnade', 'whoredom', 'disloyal', 'hoshaiah', 'puerto', 'thomas', 'pontiff', 'wilde', 'bumpkin', '26:33', 'answereth', 'shunned', 'gardiner', 'purposing', 'sobbed', 'bouncing', 'plaister', 'poking', 'shotgun', 'pg&e', 'operational', 'prominently', 'mccarthyite', 'violoncello', 'compromised', 'burden', 'tone--', 'affluent', 'wander', 'location', 'abundant', '10:20', 'harboring', 'pullout', 'scaffold', 'wicked', 'equalled', 'larsen', 'it.--it', 'canvas', 'recurring', 'groped', 'airy', 'contralto', '8:7', 'fallest', 'holdest', 'hearest', 'storming', 'manhandle', 'hire', 'amram', 'sexta', 'prematurely', 'buck', 'ruby', 'nomorenazi', 'juror', 'momentarily', 'babylon', 'airstrikes', '55:7', 'puny', 'thwarted', '12:18', 'rapier', 'harry', '2022', '28:37', 'intertwined', '150,000', 'consumed', 'procession', 'restlessness', 'franco', 'canceling', 'cushi', 'decriminalized', '41:31', 'tangled', 'headcoach', 'hart@pobox.com', 'gate', 'tell--', 'move', 'falconroy', 'tierce', 'soone', 'swooned', 'shallow', 'affability', 'bystander', 'debase', 'prayer', 'curtailed', 'sedentary', 'norland', 'dolittle', 'warming', 'unlucky', 'within', 'exerpts', 'scrapped', 'squirrel', 'adamite', 'lined', 'sojourned', 'ugh', 'jeshurun', 'tu', 'lamentable', 'prudent', 'architect', 'escapade', 'ponderings', 'entanglement', 'ev', 'whisker', 'distended', 'politician', 'burn', 'miniature', 'tough', '13:43', 'inkhorn', 'fee', 'tearing', 'shortest', 'aye', 'marketplace', 'sending', 'lingo', 'nomination', 'disaster', '33:26', '25:35', 'sealing', 'state', 'manslaughter', 'picasso', 'withdrawn', 'him--', 'guerrilla', 'pal', 'combed', 'tone', \"hav'n't\", 'vinegar', 'assist', 'lovedst', 'increased', 'soho', 'butt', 'attracts', 'swallowed', '1:28', 'tangling', 'eleasah', '      ', 'collides', 'habit', 'thither', 'pond', '42:11', 'asse', 'suborned', 'announce', 'iconic', 'prate', 'fainter', 'recrimination', 'afflicted', 'delos', 'countervails', 'surnamed', 'entire', 'girdled', 'miner', 'terrific', 'scarred', 'disembodied', 'appoint', '45:24', 'unreasonableness', 'diuision', 'acceptance', 'forgetful', 'inlaid', 'alleging', 'messrs.', 'slavish', 'transcribe', 'safety', 'committing', 'farthest', 'historically', 'barring', 'spud', 'dine', 'hillel', 'rental', '--holland', 'particularity', 'wrung', '20:26', 'equity', '40:26', 'muezzin', 'student', 'portion', 'tackling', 'witnessing', \"wash'd\", 'insured', 'impressively', 'belched', 'deborah', 'busy', 'scar', '3:29', 'satyr', 'villany', 'herb', 'western', 'benumbed', 'oscillating', 'frustration', 'quizzing', 'shoot', 'loveth', 'unnatural', 'poet', 'budded', 'confront', 'battlement', 'journeyed', 'rheumatic', 'unsay', '           ', 'rent', 'ginnethon', 'shouldered', 'ipads', 'sympathy', 'riding', '1.5', 'inaugural', 'legendary', '51:19', 'piece', 'messias', 'yawning', 'soule', 'goading', 'dud', 'scraping', 'peeces', '37:14', 'tom', 'kedar', '53', 'shual', 'amorous', 'loe', 'crowding', 'neighbourhood', 'hair', 'gallim', 'intuition', 'afternoone', 'auspicious', 'elizabeth', \"fix'd\", 'extermination', '12:44', 'hadst', '78', 'brake', 'charlotte', 'darest', 'no,\"--he', 'doubtful', 'frequency', '66:1', 'elioenai', 'pleasantness', 'jaguar', 'jemima', 'mahath', 'dispatched', 'threat', 'crust', 'drooled', 'stealthy', 'jove', 'sepharvaim', 'soundly', '49:17', 'answered', 'ousted', 'receding', '8:53', 'marmalade', 'physicist', 'doting', 'humanitarian', 'witless', 'intercessour', 'groom', 'unthought', 'fight', 'deferential', 'eyrie', 'covenant', '35:14', 'harbor', 'supporter', 'unsaid', '70-year', 'swarm', 'contemned', 'stephanas', 'ups', 'abishalom', \"confess'd\", 'subdues', 'ki', '17:31', \"o'clock\", 'cadaverous', 'lack', '43:2', 'shuthelah', 'medical', 'vintage', 'fireman', 'graunt', 'convert', '37:8', '17:21', 'tennessee', 'shewing', 'forked', 'czar', 'greatness', 'implied', 'neo', 'windmill', '12:5', 'aboundeth', 'humped', 'attent', 'thicken', 'captor', 'hickory', 'mantel', 'scanning', 'bilateral', 'attested', 'arcturus', 'upturned', 'rating', 'coffee', 'entitled', 'restroom', 'viscountess', 'waif', 'dismisse', 'cocaine', 'augurers', 'spinal', 'secretary', 'exposure', 'monarch', '15:12', 'idolatry', 'atom', 'ninth', '60:5', 'glade', 'prettiest', 'redistricting', 'vilde', '29:13', 'malignant', 'rapidity', 'gallipagos', 'favourably', 'dns', 'homage', 'raiment', 'selfsame', 'supplication', 'infowars', 'dynamic', 'fascinated', 'aslant', 'guile', 'beatest', 'enjoyed', 'floweret', 'rifle', 'physically', 'subtlety', '19:5', 'together', 'mite', 'heerein', '51:6', 'allen', 'notwithstanding', '26:45', 'hatest', '29:38', 'xbox', 'elishama', '8:23', 'prouokes', 'checker', 'fellowship', 'transfix', 'suffer', 'autopilot', '10:26', 'lifter', 'centrick', 'isle', 'naught', 'grape', 'campos', 'repenting', '21:2', 'manhood', 'dis', 'irad', 'eliathah', 'usage', 'anaiah', 'passenger', '55:1', 'paltry', 'repine', 'grandfather', '55:8', 'grumbled', 'keenly', 'snake', 'leering', 'philanthropy', 'martin', 'modernize', 'temer', 'fitted', 'span', 'shrugging', 'revolved', 'pc', 'genteelly', 'sprinkler', 'hindered', 'fla.', 'separatist', 'threading', 'guided', 'pelt', 'peleg', 'm--', 'ed', '8:34', 'lavater', 'ten', 'sodom', '94', 'albino', 'breathlessly', 'absurd', 'southward', 'habitant', 'committee', 'eric', 'rendred', 'plot', 'filmed', 'resulting', 'oratresses', 'transgressing', \"wip'd\", 'social', 'hosah', 'fume', 'nebo', '6:37', 'any', 'plaint', 'outburst', 'weale', 'rehum', '30:16', \"think'st\", 'prudently', 'seekes', 'fondly', 'tuition', 'sowing', 'accord', 'apharsachites', 'amounted', 'relent', '30:24', 'knitted', 'ulysses', 'spite', 'creeping', 'unblameable', 'mutually', '61,000', '9:5', 'mishael', 'mind', 'los', 'worsted', 'uk', 'immensely', '42:7', 'jewelled', 'imagining', 'manhunt', 'portrayed', 'tombstone', 'happeneth', 'pretending', 'fen', 'mirrour', 'undue', 'isshiah', 'restive', 'brazilian', 'prairie', 'renown', 'hughes', 'commander', 'savoury', 'weepeth', 'here--', 'unconvincing', 'reparation', 'metel', 'prenatal', '52:12', 'odde', 'debauchery', 'prescription', 'leonora', 'preference', 'leaded', 'honesty', 'zalmonah', 'hoky', 'spinning', 'optimist', 'deeming', 'acquittance', 'softness', 'proving', 'nebuzaradan', 'folio', 'successor', 'disgraced', 'servest', 'eas', 'fornicator', 'bezer', 'ferrule', 'leonard', 'transit', 'gamesome', 'arizona', 'neatly', 'beholds', 'habite', 'trigger', 'acquiesced', 'translates', '23:5', 'nahor', '29:12', '1st', 'disk', 'spiritually', 'untimely', 'crosswise', 'glorious', 'mishap', 'posted', 'hazarmaveth', 'jillian', 'erupts', '6:4', 'waging', 'dragged', 'ninepin', 'offered', 'lam', 'jimmy', 'secessionist', '34:24', 'sunwards', 'shoreless', 'clung', 'jennings', 'surf', 'ichabod', '       ', 'bridal', 'blesseth', 'chancellor', 'winnie', 'paragraph', 'combe', 'cyclist', 'delusion', '24:34', 'phares', 'jeriah', 'moral', 'lifteth', 'another', 'executeth', 'spoyle', 'exclude', 'rounded', 'python', 'blacke', 'entreaty', 'despise', 'kith', '66:14', 'hazeroth', 'keeled', 'corpusants', 'finest', 'fervour', 'devoting', 'farce', '275th', 'marvelled', 'funniest', 'officially', 'obsolete', 'l100,000', '3:6', 'imaginative', 'keanu', 'gnasheth', 'pardon', 'afloat', 'drumming', 'boyhood', 'warding', 'pequod', 'swirling', 'hearsed', 'jawed', '29:30', 'innate', 'midterm', '38:6', 'rustled', 'dublin', 'penetrating', 'splinter', 'cambric', 'lacquered', 'casually', 'lair', 'freight', 'shorten', 'plighted', 'competitive', 'leadest', 'forbidden', 'orbit', 'siberian', 'responds', 'splendidly', 'mane', 'beauteous', 'vide', 'baalmeon', 'greener', 'wilfulness', '18:11', 'rebuke', 'dethroned', 'germaine', 'harbour', 'tanker', 'warned', 'extent', 'sameness', 'treasury', 'sacrilege', 'tongs', 'hull', '1:18', 'jesse', 'cortege', \"vanish'd\", 'proximity', 'probability', 'reeling', 'sir--', 'prodigy', 'declaration', 'west', 'findeth', 'hatach', 'nob', 'vicious', 'advice', '                       ', 'planted', 'fonder', 'withs', 'undersetters', 'cunning', 'guarantee', 'missionary', 'understands', 'reference', 'blossom', 'trusting', '8:1', 'extorting', 'wheelerite', '38:15', '31:3', 'lilt', \"polish'd\", 'strength', '3:23', 'townsend', 'thick', 'esau', 'fruitful', '46:17', 'mastodon', 'imputing', '10:48', 'damnable', '16:34', 'direction', 'semicircle', 'aloof', '23:4', 'font', 'willoughbys', 'judah', 'that', '50:13', 'slothful', '11:36', 'persist', 'persuade', 'intend', 'rainbowed', 'ignites', 'planting', 'deepest', 'elemental', 'obtaineth', 'brutish', '1:51', 'franken', 'defile', 'adding', '28:15', 'articulate', 'intoxication', 'glanced', 'overwhelming', '31:28', 'contrariwise', 'simultaneous', 'ephron', 'infinitude', 'disclose', 'disbelief', 'redundant', 'headsman', 'romania', 'nergalsharezer', 'hostile', 'ecuador', 'pewter', 'locking', '7:9', 'planing', 'loop', 'adoniram', 'baptizing', 'clothed', 'rosin', 'heightened', 'sleeue', 'tranquilly', 'seoul', 'unchecked', 'grease', 'scraggy', 'belonging', 'puppy', 'hid', 'shake', 'mountainous', 'cbc', 'minus', 'substantiated', 'multiplied', 'dicotyledon', 'refutation', 'blizzard', 'oust', 'choyce', 'flicker', 'crouching', 'lure', 'symbolic', 'censer', 'alleghanian', 'clatter', 'uncompromised', 'invite', 'realized', '35:34', 'constraineth', 'pontus', 'unaccustomed', 'scanty', 'chase', 'destabilizing', 'kellynch', 'medan', 'mass', 'povelson', 'kurd', 'predominance', 'ant', 'pianoforte', 'disinclination', '33:15', 'stealth', 'caro', 'unlock', 'user', 'kettle', '35:16', 'tractor', 'lunacy', '15:35', 'jacinda', 'uninterested', '24:16', 'brother', 'childhood', 'sware', 'pathos', 'mar.', 'aim', 'complicit', 'ammishaddai', 'uppermost', 'denounce', 'logger', 'shkreli', 'swelled', 'clipped', 'lifelessly', 'viol', 'splice', '47:17', 'waggish', 'strawed', 'polluting', '29:29', 'pistol', 'wage', 'ended', 'fudge', 'spermacetti', 'stem', 'singeth', 'systematically', 'abnormally', 'dana', 'thrust', 'swap', 'pertain', 'combustion', 'hurtling', 'broadwood', '8:24', 'esper', 'thrashed', 'depicts', '26:53', 'immortal', 'continue', 'equable', 'murray', 'hollow', 'assumption', 'devote', 'punctuality', 'heaving', 'hatched', 'peevish', 'lending', 'benejaakan', 'kindly', 'stagnant', 'amelia', 'bookes', 'chowder', 'curving', 'lapwing', 'e', '6:67', 'nestling', 'exultant', 'fairness', \"absorb'd\", 'thanked', 'sajid', 'grazing', '26:5', 'adrammelech', 'mildly', 'support', 'blaspheme', 'lush', '13:12', 'indeed!--and', 'trebble', 'de', 'intermix', 'handleth', 'contention', 'cryedst', 'sachs', 'objector', '81', 'backwoodsman', 'breaker', 'enslaved', 'preet', 'busted', 'potomac', 'marechal', 'beautifully', 'gonzalez', 'groveling', 'anglo', 'handwriting', 'bald', 'juventus', 'highness', 'eltons', 'pransings', 'modesty', 'peeped', 'subterraneous', 'sweep', 'shaphat', 'wong', 'gravity', 'dispose', 'afforded', 'garment', 'matred', 'exclaim', 'sincere', 'peddler', 'tasting', 'trifling', 'willed', 'liest', 'is--', 'bowl', 'sleepless', 'you', 'recovered', 'diana', 'plat', 'attending', 'imitation', 'bragges', 'permitting', 'dj', 'vnction', 'sundar', 'gaza', 'minstrel', 'lysias', '1:50', '29:16', '20:2', 'plane', 'goldsmith', 'reefed', 'censor', 'geological', 'drear', 'decipher', 'wondering', 'allegory', 'nebaioth', '31:42', 'slobbering', 'frequently', '40:12', 'abihu', 'persevere', 'matriarch', 'spiritual', 'nervous', 'iumpe', '2:25', 'compress', 'iceberg', 'softer', 'resort', 'treacherie', 'ordinance', 'lancelot', 'life--', 'begin', 'transcendentalism', 'shuttlecock', '6:45', 'doores', 'taut', 'wrongdoer', 'distinction', 'storytelling', 'indistinct', 'observant', 'mallet', 'blinking', 'shalmaneser', 'thronged', 'hooked', 'indenture', '18:10', 'safest', 'hogshead', 'eavesdrop', 'dipping', 'respond', 'blessing', 'haughtiness', 'expends', \"aim'd\", 'representative', 'hanoch', 'slapped', 'wondrously', 'decide', 'depressingly', 'skirmisher', 'bodiless', 'withal', 'harrison', 'teachout', 'vanish', 'guarding', 'cozbi', '1,000', 'imperial', 'aplomb', 'group', 'branding', 'disapproved', 'proverbially', 'prouoke', 'bookseller', '26:27', 'unexpected', 'absorbing', 'lovely', 'etna', 'committal', 'rubbish', 'devilish', 'fascinating', 'futile', 'fuel', 'jan.', 'uncompleted', 'pickup', 'delivering', '6:33', 'eccentric', 'fruitage', 'belfry', 'orrin', 'mesopotamia', 'vulgarity', '45:4', 'strathspey', 'phantasm', 'athirst', 'unionizing', 'gang', 'alphabet', 'navigation', 'sauntered', 'penguin', '6:62', 'askest', 'temporal', 'requisite', 'prouder', 'emprise', 'malchiel', 'ot', 'lapping', 'persecute', 'tilting', 'truth', \"rack'd\", 'honestie', 'comical', 'moot', 'witch', 'course', 'infantile', 'overpast', 'wayne', 'sleepe', 'hesitated', 'shalmai', 'maaziah', '10:33', 'questioning', 'capacity', 'atomic', 'dependant', 'mahli', 'simple', 'majesty', 'blame', 'blurred', 'hertfordshire', 'scripture', 'hoed', 'carlin', 'accommodated', 'cultivation', 'cancelled', 'useful', 'chopper', 'micaiah', 'kernel', 'eagerly', 'humor', 'panado', 'palace', 'winde', 'clump', 'firefox', 'half-', 'minneapolis', 'zur', 'wahsatch', 'exaltation', 'bbc', 'presiding', 'hailing', 'man--', 'hospitalized', 'resounds', 'booke', 'conjuring', 'riper', 'humiliating', 'dope', 'counteth', 'pondereth', 'whisperer', 'askant', 'pasturage', 'others', 'phone', 'honeysuckle', '9:49', 'dhs', 'holily', 'bloodiest', 'bearing', 'perfection', 'nephtoah', 'dec', 'termed', 'swoop', 'good', 'bidding', 'xix', 'justinian', 'vicky', 'confessing', 'bearer', 'kenite', 'thrall', 'talon', 'rigged', 'cult', 'fed', 'deference', \"obseru'd\", 'tune', 'cantabile', 'awoke', 'impotent', 'scoured', 'resettled', 'mackerel', 'martyrdom', '42:14', 'chooseth', 'gayhead', 'januarius', 'garraun', 'rehoboth', 'gash', 'protoplasm', 'nkorea', 'built', 'army', 'ronstadt', 'redress', 'isao', 'snub', '38:7', 'medeba', 'violating', 'tendance', 'subtly', 'discovereth', 'satisfie', 'blows!--there', 'villain', 'graffiti', 'twixt', 'catch', 'embalmed', '9000', 'dispense', 'stemmed', 'masse', 'controversy', 'dart', 'envelop', 'joshbekashah', 'yorkshire', 'wand', 'teetotaller', 'intern', 'renegade', 'protester', '49:4', 'matured', 'carpenter', 'forsook', 'motivated', 'hindrance', 'induce', 'fateful', '9:22', 'barometer', 'modernized', '63:10', 'untying', 'make', 'strangely', 'considerately', '3:3', 'tit', 'pictured', 'upholden', '23:49', 'poetical', 'carelessness', '|', 'angered', 'sunny', 'obi', 'unworthily', '7:53', 'politico', 'letteth', 'nick', 'judgment', 'braving', 'pur', '9:27', 'withheld', 'mecca', 'walling', 'elpaal', 'thrasher', 'alleghanies', 'fuller', 'sate', 'rightful', 'preceded', 'bawl', 'shobab', 'amaze', 'fame', 'brin', 'impenitent', 'baruch', 'embattled', 'moaning', '41:24', 'lash', 'undergoing', 'inconvenience', 'probe', 'astonish', 'cenk', 'blackrock', 'mastectomy', 'sickness', 'hermitage', 'governed', 'breaking', 'betrayal', 'county', 'relieve', 'speculative', 'monk', 'adelphi', '24:50', 'fantastic', 'shapely', 'sister', 'necessitate', '46:20', 'recollected', 'drab', 'frightened', 'meraioth', 'expatiate', 'joining', 'weepes', 'jingle', 'observest', 'savanna', 'ranging', '31:11', '13:54', 'housekeeping', 'size', 'scout', 'husbandry', 'uniform', 'livid', 'josaphat', 'cpac', 'quakerish', \"rais'd\", 'indifferently', '24:12', 'barton', 'cota', \"brew'd\", 'belongest', 'directed', 'thong', 'zerah', 'sorrowing', 'incentive', 'edelman', 'stonest', 'tolerance', 'soliloquized', 'contemn', 'qatar', 'gulf', 'snarl', 'orb', 'thoughtfulness', 'chamois', 'fran', 'saluteth', 'gruffly', 'epa', 'ahiman', 'excess', 'knaue', 'everyday', 'moza', 'photograph', 'devouring', 'tabrets', 'stab', 'jack', 'disguise', 'niece', 'lade', 'sawn', '26:23', '12', 'kidding', '--and', 'freighted', \"saunter'd\", 'conflagration', 'jeiel', 'transcend', 'themed', 'buzzfeed', 'askance', 'dilation', 'cornaro', '34:7', 'scotus', 'island', 'iranian', 'bridewell', 'nutriment', 'comicall', 'sith', '36:10', 'trusty', 'bethshemesh', 'propagated', '36:5', 'ostentation', 'coming', 'shriek', \"elton's\", 'erected', 'amateur', 'consists', 'darke', 'succor', 'bakbuk', \"splinter'd\", 'hony', 'teamster', 'raqqa', 'aaa', 'warmed', 'juvenile', 'shrill', 'jussie', 'battering', 'insurance', 'server', 'nda', 'perceive', 'tribal', 'contemplated', 'answerable', 'adjured', 'bestirred', 'amuse', 'distract', '6:46', 'distinctly', 'indolent', 'wistful', '22:31', 'allowance', '28:20', 'brook', 'incites', 'ericsson', 'frailty', 'millar', 'horites', '56:3', 'grosse', '13:49', 'immovable', 'appoints', 'commonly', 'euro', 'sibbecai', 'towered', 'call', '20:3', 'melancholly', 'holpen', 'backgammon', 'scalia', 'cranberry', 'quicksand', 'slipped', 'disband', 'blue', 'portuguese', 'forepart', 'swindler', 'came', 'extenuation', 'touted', 'uneasiness', 'misusing', 'senir', 'mao', 'tenfold', 'innoxious', 'providence', 'nobleman', 'fiancee', '30:37', 'huddled', 'd.c', 'indomitableness', '12:6', 'islander', 'chili', '28:28', 'chast', 'model', 'mammy', 'inflicted', 'gossiping', 'beau', 'wednesday', 'gratified', 'bateses', 'lumberingly', 'hierarchy', 'gavest', 'tireless', 'entitle', 'winsome', 'suppresse', 'earring', '6:28', 'barlow', 'marseille', 'investigating', 'you!--i', 'bethinking', 'busie', 'raisin', 'aid', 'bondman', 'redstate', 'labor', 'ill', 'migdol', 'exclaimed', 'nightfall', 'pressure', 'apiece', 'taste', 'haggard', 'boastful', 'gymnastics', '34:14', 'eclipsed', 'leash', 'nepheg', 'circumspectly', 'root', 'ready', 'naval', 'baalberith', 'unwarrantably', '8:17', 'devoid', 'pinch', 'mary', 'was--', '17:10', 'russell', 'september', 'glittered', 'exiled', 'ca', 'signifie', 'avert', '29:25', '27:2', 'malignity', 'magdiel', 'cecilia', 'pester', 'oxford', 'reiteration', 'coach', '36:9', 'organized', 'departeth', 'clearness', \"'em\", 'discoloration', '5:19', 'parental', 'opposing', 'dared', 'uninsured', 'owne', 'dizzy', 'taurus', 'designated', 'disposed', 'heauens', 'raine', 'discharging', 'anymore', 'buyeth', 'rebuff', 'must', 'spike', 'scourge', 'comparable', '8:16', 'weake', 'vibrated', 'herdmen', 'amiability', 'badger', 'player', 'pronunciation', 'misleading', 'fy', 'gigafactory', 'expansion', 'putney', 'inconsiderately', 'peasant', 'anchored', '14:24', 'sitar', '18:40', 'tossing', \"handcuff'd\", \"sha'n't\", 'junky', 'ringed', 'disentangling', 'underground', 'leonine', 'tomlin', 'mccabe', 'abraham', 'immersed', 'compound', 'unceasingly', 'fitful', 'presided', 'gobern', 'easter', 'campus', 'sulfur', 'topsail', 'speculation', 'foundling', 'shedding', 'incoherent', 'contrived', \"i'm\", 'abysm', 'shopping', 'scandalous', 'eyelid', 'greco', 'auoyd', '12:17', 'tragedy', 'confrontational', 'hangeth', 'astir', 'cart', 'again--', 'lazy', 'stipendiary', 'tremulous', 'modern', 'exerted', 'superbest', 'bondage', 'wanton', 'girlish', 'roughly', 'purge', 'dipped', 'seled', 'copeland', 'proceedeth', 'kiev', 'undefiled', 'ride', '40:17', 'mighties', 'screwing', 'dishon', \"a'n't\", 'gainsaid', 'verdant', 'accoutrement', 'curvier', 'auouch', 'furiously', 'bruising', 'beat', 'firme', '66:11', 'lombardy', '48', 'country', 'christendom', 'nxp', 'calles', 'etiquette', 'jab', 'puget', 'pose', '47:9', 'meribbaal', 'almodad', 'bellowing', 'waitest', 'motioned', 'don', 'zippor', 'mincer', 'tucked', 'jonas', 'thinketh', 'destroyest', 'evan', '57:5', 'canceled', 'clarify', 'goddard', 'valued', 'juliet', '18:29', 'u', 'conquer', 'facilitating', '11:27', 'pretence', 'shemer', 'advised', 'imri', 'calkers', 'weepest', 'tut', 'lobby', 'stubborne', 'principality', 'expresse', \"labour'd\", '21:45', '7:71', 'mental', 'extracting', 'hararite', 'beforetime', 'soda', 'adjudged', '21:9', 'rye', 'enos', 'unfeigned', 'filial', 'bride', 'admonish', 'wearily', 'plan', 'wofull', '17:36', 'faculty', 'firstfruit', 'spooning', 'hatipha', 'debouch', 'pocket', 'reminiscent', 'nazarite', 'atrocity', 'thwart', 'sleeping', 'remembrance', 'it!--that', 'gazer', 'page', 'forbids', 'privileged', 'reconcilement', '12:31', 'frieze', 'nekoda', 'rachel', 'deferred', 'rattling', 'crunched', 'put', 'rammed', 'guardianship', '49:14', 'crystalline', 'thing?--why', 'eastern', 'usurp', 'icon', 'vacantly', 'ungodliness', 'dominicho', 'wrotham', 'lustrous', 'philippic', 'firelight', 'wit', 'green', 'captivate', '32:29', 'skrimshander', 'fred', \"fayl'd\", 'purlieu', 'unlimited', 'islamic', 'cucumber', 'fortinbras', 'graal', 'homeless', '7.6', 'sew', 'staid', 'cobl', 'atlas', 'proofread', 'hesitatingly', 'drawne', 'climate', 'perry', 'koboo', 'fiftieth', 'effecting', 'shelley', 'jammed', 'organization', 'tipping', 'orchard', 'robocall', 'pine', 'circumspection', 'fired', 'flamingo', 'slovakia', 'conscientiously', 'simpleton', 'resent', 'azure', 'zaccur', 'streamer', '1:14', 'divulged', 'differeth', 'unsuspicious', 'equator', 'conceiue', 'skeptical', 'tablet', 'partake', 'hi', 'relieved', 'wink', '17:37', 'climbing', 'occupies', 'contentedly', 'lordly', 'scissors', 'chewed', \"buoy'd\", 'icy', 'counterspy', 'arching', 'azrikam', 'libel', 'gnashing', 'never', 'dumb', 'bringest', 'napkin', 'reactor', 'unsound', 'poorest', 'proclaim', 'stumbled', 'argued', 'escalate', '                  ', 'emptier', 'money--', 'bukki', 'fair', 'hallo', 'smack', 'appease', 'suckling', 'euils', 'eclipsing', 'worlds--', 'laodicea', 'crucifix', 'tallest', 'manor', 'avenger', 'jeremiah', 'fukushima', '47:12', 'skunk', 'ariana', '1:6', 'mediator', 'means--', '9:19', 'dyed', '50:22', 'eternize', 'lends', 'sun', 'independent', '28:9', 'jerk', 'plowing', 'hatching', 'pacific', 'vigil', 'flynn', 'bluer', 'crawl', 'rondure', 'pekah', 'clowd', 'democratic', 'uncouth', \"forc'd\", 'w.', 'muscle', 'marvel', 'looseth', 'toilsome', 'churchwarden', 'inquiry', 'mariner', 'eject', '50:4', 'epistle', 'ploughman', 'ply', 'lodged', '1:21', '34:13', 'aiming', 'maple', '37:25', '56:5', 'ringbolts', 'illness', '53:1', 'avengeth', '63:1', 'dislodged', 'michigan', 'lacketh', 'pavilion', '22:35', 'chrisley', 'hebronites', 'catastrophe', 'damne', 'infect', 'odoriferous', 'unmasking', 'sitcom', 'cease', 'retweeted', '7:25', '10:6', 'jada', 'apron', 'wherewithal', 'withdrawing', 'permit', 'aijalon', 'publican', 'maze', 'grumbling', 'mason', 'sh', 'starship', 'heauenly', 'domestick', 'victual', 'ignore', 'alcinous', 'gyrating', 'favored', 'regain', 'happier', 'canariensis', \"welcom'd\", 'sesame', 'butcher', 'encloses', 'concern', 'kedesh', 'raw', 'dwelleth', 'obliterated', 'untranslatable', 'stolen', 'disagreeing', 'butter', 'postponed', 'simile', 'striped', 'listened', 'lawrence', 'entering', '13:13', 'unresting', 'ravishment', 'grilled', 'precision', 'lump', 'championship', 'astray', 'doome', 'hunting', 'savesoul', 'hireling', 'wrestler', 'hirah', 'unprepared', 'loftiest', 'mammon', 'ingrateful', 'engraving', 'prettily', '235', '6:25', 'carolina', 'scrupulously', 'abinadab', \"can't\", 'knoll', '12:3', 'distributing', 'procrastinator', 'tiktok', 'layeth', 'sided', 'chink', 'enterprise', 'quietness', 'sheva', 'snowball', 'lebanon', 'allurement', 'award', 'sure', 'scud', 'requited', 'disappears', 'inconceivable', 'rude', 'breached', 'stout', 'handful', 'tistig', 'natured', 'invoke', 'violet', 'ataroth', 'remembereth', 'clipt', 'uncommon', 'tinged', 'ominous', 'seyton', 'bore', 'silence', 'joker', 'possessing', 'quivering', 'peltier', 'contract', 'ambient', 'rabbath', \"dream'd\", 'lava', 'sixpence', 'benz', \"mad'st\", 'snag', 'betake', 'tease', 'paralysed', 'sneak', 'tsai', 'olive', '21:7', 'scope', 'morrow', '31:5', 'agitated', '5:12', 'rissah', 'malvoli', 'scoene', 'ittai', 'separating', \"be'ind\", 'labyrinth', 'betrayeth', 'bobbing', 'unmerited', 'wildely', 'saturate', 'galore', 'panicking', 'enterprising', 'sweden', 'merom', 'nationwide', 'blogger', 'elsa', 'modestie', 'marchant', 'iannucci', 'borrower', 'comprehending', '35:8', 'mainstream', '47:3', '98', 'moriah', 'persuading', 'equiuocator', 'tribulation', 'judaea', 'notable', 's.', 'glisten', 'blinded', '44:21', '57:8', 'loose', 'ahiam', 'scorneth', 'weedy', 'measured', 'unionization', 'singer', 'slanting', \"wander'd\", 'equatorial', 'consult', 'ashan', '31:44', 'outrage', 'giles', 'presseth', 'and--', '49:16', 'pun', 'jasper', 'grower', 'bedclothes', 'purring', 'whoremonger', '46:12', 'interminable', 'melech', 'pr', 'flatterer', 'cottage', 'sychologists', 'nurtured', 'danced', 'philosophic', 'consent', 'grassy', 'propagandistic', 'undivided', 'epical', 'picturesqueness', \"compell'd\", 'cleere', 'choir', 'sheepdog', 'papered', 'ungenerous', 'legislatively', 'sundering', 'fainted', 'swum', 'prohibition', 'antonio', 'knapsack', '199', 'multiplieth', 'stopped', 'cruisings', 'cynna', 'behave', 'solely', '12:51', 'gag', 'bilshan', 'indication', 'stowaway', 'lingering', 'slayeth', 'doorstep', 'unsung', 'cohen', 'criticizing', 'sered', 'chastisement', 'compliment', 'samoa', 'negligent', 'cringed', 'unfeeling', 'dowager', 'gina', 'think', 'rabbah', 'manifesto', 'sergei', '18:19', 'gaze', 'fearing', 'considers', 'coachella', 'awed', 'jude', 'dropped', 'hander', '29:5', 'craze', 'baptizeth', 'forestall', 'ouches', 'ugliest', 'firstborn', 'task', \"finger'd\", 'mightiest', 'melenchon', 'hawaii', 'rescheduled', 'knowes', 'overdose', '15:7', 'judgement', 'denote', 'uncivilized', 'norfolk', 'ditty', 'tds', 'discoloured', '25:31', 'tekel', 'fearlessly', 'safeguard', \"deceiv'd\", 'household', 'confesseth', 'euphrates', 'prowling', 'political', 'impious', 'jewess', 'swet', 'prep', 'saide', 'disincline', 'trend', 'dissent', 'playfellow', 'danube', 'facile', 'vassal', 'structure', 'greenly', 'maturity', 'whitman', 'nailing', 'retrospective', 'becher', 'them!--and', '43:5', 'stole', 'rechab', '60', 'assails', 'palmy', '26:24', 'box', \"loosen'd\", 'bountifully', 'discontent', 'translating', 'amalek', 'involve', 'slower', 'dismisses', 'jangling', 'hungering', 'interrogation', 'covenanted', '42:6', 'welding', 'incarnate', 'timed', 'inexplicable', 'famished', 'rumbling', 'larolles', 'interest', 'hai', 'higbie', 'payable', '11:6', 'nervousness', 'shewest', 'penury', 'violently', 'being', 'owns', 'stroakes', 'far', 'custom', 'regrettable', 'abusing', 'confidante', 'prostitute', 'forgetfulness', 'moderator', 'practise', 'athaliah', 'recovering', 'currently', 'excrementitious', 'overhead', 'shem', 'hired', 'shaul', 'salah', 'specially', 'ireton', 'recluse', 'claudius', 'partisan', 'scotchman', 'pest', 'stag', 'delightfully', 'up', 'curl', 'eddie', \"curl'd\", '17:24', '17:7', 'babel', 'serveth', 'temperance', 'discussing', 'our', 'pahathmoab', 'samantha', 'cumberland', 'confusion', 'truism', 'charitable', 'sonnet', 'both', 'deception', 'tree', 'dotty', 'thunberg', 'disappointing', 'rebelled', 'yoake', 'fertility', '40:31', 'rencontre', 'invents', 'confronts', 'skepticism', 'affraid', 'electoral', 'sirloin', 'skull', 'chargeable', 'tariff', 'hoa', '26:6', 'asking', '27:5', 'outspoken', 'docile', 'mellower', 'striker', 'will', 'cluster', \"undimm'd\", 'sheldon', 'promiscuously', 'irritation', '3:17', 'meane', 'voiceover', '33:18', 'triumphal', 'tired', 'upending', 'perverseness', 'samson', 'entity', 'rollaround', 'lazily', 'duet', 'launch', 'liue', 'himalayan', 'obeys', 'spark', 'bombing', '7:14', '7:45', 'deterred', 'transportation', 'prophetical', '38:3', '46:9', 'deplorable', 'venture', 'darkon', 'gentry', 'remonstrated', 'reservation', '17:39', 'profanity', 'predator', 'paced', 'biting', 'shooter', 'section', '14:55', 'rebuttal', 'disperse', '11:32', 'dressy', 'merited', 'littleness', 'fluke', '13:1', 'heate', 'kissed', 'sightlesse', 'waded', 'ezekias', 'indulging', 'unnamed', 'disrupt', 'shebaniah', 'machinery', 'freckle', 'seduce', 'embassy', 'selina', 'completed', 'atad', 'carouse', 'edge', 'voyager', 'antioch', 'enquirer', 'tweezer', 'populous', 'galahad', 'alluded', 'bottle', 'exhausted', 'heldai', 'cold', 'reverently', 'shakespere', 'pilled', '52:14', 'chode', 'manasseh', 'hidest', 'teazing', '100', 'spent', 'eagerness', 'owe', '16:41', 'defendant', 'objective', 'attempting', 'growne', 'cultivated', 'spirt', 'conqueror', 'heartiness', \"sustain'd\", 'mogul', 'duchess', 'westminster', 'sniffing', '25:12', 'uncounted', 'ankara', 'dear', 'droop', 'bur', 'beater', '37:19', 'presumptuous', 'demolishing', 'con', 'dangled', 'macey', '4:6', 'darned', \"clapp'd\", 'begetteth', 'reuels', 'memphis', 'hacker', 'kingdomes', 'chafing', 'sublime', '                           ', 'tpp', 'orontes', 'chastised', \"t'haue\", 'stanch', 'jubile', '59:14', 'leave', 'tall', 'winnowed', 'horrify', 'atlanta', 'ranking', 'seare', 'enormous', 'sour', 'peake', 'friar', 'assurance', 'daggoo', 'adaiah', 'fickleness', 'dozen', 'kinswoman', 'joined', 'aperture', 'primer', 'benhadad', 'party', 'carrie', 'baroni', 'ro', 'halibut', 'snugness', 'cuff', 'stablish', 'hall', \"ruin'd\", 'compensation', 'pour', 'enlightening', 'collapsed', 'privateer', '43:12', 'heritage', 'yemen', 'dandified', 'girds', 'g-7', 'preaching', 'betweene', 'handspike', 'burning', 'sleight', 'catastrophic', 'fashioned', 'pulitzer', 'turtle', 'marred', '23:26', 'cancellation', 'mooch', 'sixscore', 'taxpayer', 'frankfort', 'concentring', 'dairy', 'deuill', 'ephod', 'subiect', '24:37', 'forecast', 'declared', 'cockpit', 'entereth', 'midships', 'competitor', \"liuer'd\", 'palpable', \"destin'd\", 'quitted', 'headed', '14:21', 'grinding', 'witnesse', 'mayor', '                        ', 'faded', '2:3', '10:40', 'provokes', 'colluded', 'mend', 'forum', 'kishon', 'continuity', 'jehoiachin', 'again', 'upend', '10:28', 'dotard', 'inhumane', 'imp', 'antichrist', 'schumer', 'viii', 'matin', 'you.--you', 'projected', 'shade', 'bamboo', 'k.c.', 'burne', 'scattershot', 'outbreak', 'daily', 'mounttop', 'embraced', 'capeable', 'tash', 'amraphel', '10:30', 'auger', 'stationary', 'shemiramoth', '127', 'fascistic', 'pardoned', 'chill', 'daddy', 'abating', 'hearing', 'opponent', 'repaire', 'confined', 'automating', 'characteristic', 'habaiah', 'rhythmus', 'removeth', 'reverted', 'braugher', 'theoretic', 'dressing', 'unjustifiable', 'ezra', 'laughingstock', 'whirling', 'stumblingstone', 'waken', 'ship', 'derides', 'depart', 'mitt', 'complacence', 'standby', 'undeniable', 'sustenance', 'abstracted', 'gorgeously', 'raucous', 'festival', 'snell', 'indulged', '46:7', '12:33', 'pallor', 'seba', 'binary', 'pitted', 'springing', 'abruptly--', 'rugby', 'sincerely', 'castanets', 'becalmed', 'jostle', 'air', 'og', 'counterpane', 'vnion', 'pennon', 'nantucketer', 'yeomanry', 'dictating', 'poring', 'wiping', '37:4', \"ribb'd\", 'elate', 'whelmed', 'prodigious', 'nothingness', 'erasure', 'harper', 'digger', 'critic', 'clogged', '21:23', 'bundled', 'passer', 'takei', 'infosys', 'elnathan', 'intensify', 'sacrificer', 'magic', 'ownership', 'ethiopian', 'packthread', 'vessel', 'wing', 'smarting', 'swung', 'naue', 'publicly', 'starr', 'curious', 'nationality', 'announces', 'quietly--', 'andromeda', 'help', 'pichai', 'elliot', 'coolly', 'nothing', 'sloping', 'opposed', 'loosely', 'laziness', 'tattooed', 'separately', '11:33', 'lystra', 'converted', '59:12', 'brett', 'flees', 'septima', 'yesty', 'unites', 'thresher', 'blocked', 'amend', 'cheerefully', 'hydrogen', '25:38', 'arm', 'gog', 'baalath', 'rational', 'zebedee', 'lentiles', 'tramping', 'princely', '27:25', 'doubted', 'sweetest', 'circumfused', 'pertaining', 'punctuation', 'kindles', 'scrolled', 'participation', 'spectacularly', '66:9', 'asahel', 'fa', \"learn'd\", 'unsteadiness', 'refresh', 'besought', 'penalty', 'enscombe', 'complexioned', 'thessalonica', 'ida', 'o', 'bezaleel', 'strucke', 'lovingkindnesses', 'helmsman', 'malaysian', 'moone', 'trudeau', '49:13', 'minutia', 'wentworth', 'desponding', \"dy'd\", 'either', 'undertaker', 'gendarme', 'bafta', 'goodliest', 'mab', 'muhammad', 'here?--', 'vaulted', 'sworn', 'draggled', 'sarve', 'selfie', '53:4', 'inextricable', 'thrashing', 'fanny', 'sibley', 'bite', 'camille', 'bethuel', 'motionless', 'corrected', 'bharara', 'unbeliever', 'thorough', 'meshillemoth', 'difficulty', 'misunderstanding', 'learning', 'loosening', '28:23', 'enquiry', 'unalterable', 'encourages', 'whiny', 'acheron', \"lull'd\", 'concentration', 'idaho', 'broke', 'undraw', '10:15', 'unbiased', 'triumphing', 'abstained', '7:31', 'began:--', 'colossus', 'obamas', \"measur'd\", 'grabbing', \"blacken'd\", 'gettest', '20:36', 'dissimilar', 'retire', 'else', 'exonerating', 'gop', 'choked', 'doorway', 'gratis', 'augusta', 'art', 'signe', '1bn', 'plenteousness', 'zarephath', 'unspotted', 'assailed', 'tenth', 'rewrite', '8:44', 'handy', 'siege', 'lawful', 'grossenmark', '49:18', 'israel', 'carl', 'bab', 'ensure', 'escapeth', 'pox', 'cicero', '5:42', 'softener', 'jabeshgilead', 'north', 'lay', 'impersonated', 'during', 'buyer', 'descends', 'carrot', 'calleth', 'sill', 'splintered', 'loth', 'kylo', 'piety', 'eshtaol', 'barred', 'george', '17:28', 'awaited', 'qassim', 'communicative', 'whcd', '6:15', 'lipinski', 'steamboat', \"order'd\", 'observing', 'vent', 'victress', 'torture', 'fedallah', 'companionship', 'eichenwald', 'randomly', '49.9', 'pip', 'breefe', 'fends', 'iv', 'beriah', 'fetid', 'freshet', '17-year', 'comforting', 'kanah', 'sliding', 'troubling', 'subpoenaed', 'recourse', 'irritating', 'searing', 'distil', 'southwest', 'election', 'bestir', 'impressed', 'monitored', 'liable', 'hiv', 'devours', 'regardless', 'melania', 'brunswick', '9:30', 'tulsi', 'lyrical', 'maaseiah', 'renewest', 'maon', 'corpse', 'suffice', 'repaired', 'confide', '39:18', 'defect', 'blaming', 'mending', 'jfk', 'racist', 'galloping', 'point', 'forehead', 'shaving', 'melchisedec', 'mccaskill', 'meere', 'walk', 'confrontation', 'observe', 'sirrah', 'brexiteers', 'preferment', 'sale', 'tuscan', 'molested', 'backpage', 'superior', 'grows', '51:5', 'legal', 'amends', 'miry', 'baalzebub', 'darted', 'irrepressible', 'palestine', 'ahiezer', 'open', 'laide', 'pincer', 'extolled', 'whaleships', 'misused', \"flush'd\", 'erdogan', '21:27', 'sporting', '10:3', 'legion', 'table--', '104', 'ingenious', 'wiretap', 'banke', 'falles', 'dun', 'continuation', 'speckled', 'extolling', 'haggai', 'french', 'nourishment', 'ont', '3:32', '15:9', 'historicall', 'hezron', 'hoarse', 'fearfully', 'bremen', '18:22', 'recline', 'seaward', 'blandishment', 'equanimity', 'masonry', 'played', 'scarce', 'hypocrisy', 'pleated', 'era', 'gilbert', 'eightpence', 'assures', 'jebus', 'night', 'relatively', 'lasso', 'sufferance', 'convulsive', 'kirjathaim', 'counteract', 'uplift', 'shelemiah', 'barron', 'series', 'mamre', 'manoeuvre', 'toned', 'clattered', 'habitation', 'netherlands', 'attracted', 'hulu', 'surfeit', 'owned', 'ministring', 'manuscript', 'require', 'embrocation', 'fund', 'disliking', 'haughtily', 'foreskin', 'submit', 'dome', 'fitbit', 'collapsing', 'imaginary', 'extravagant', 'inaudibly', 'dalrymples', 'encumbered', \"allow'd\", 'roku', '57:7', '49:32', 'ilhan', 'awkwardness', 'horonite', 'steerer', 'vicissitude', 'dorsal', 'lurch', 'motion', 'undertook', 'know', 'wavering', 'hungarian', 'entered', '19:4', 'lesko', 'tweed', 'lucianus', 'believer', 'fargo', '25:39', 'pitty', 'agriculture', 'deposited', 'asset', 'preferred--', 'panama', 'as', '3:14', 'clinging', 'jerubbaal', '63:3', 'tusked', 'birch', 'unfurled', 'neighborhood', 'elaborate', 'vowest', 'unconditional', 'zebedees', 'buddy', 'refrain', 'steed', 'pinnacle', 'loftily', 'jewry', 'broadcaster', 'boil', 'moose', 'leadership', '4:25', 'antarctica', 'demur', 'rejoinder', 'lucidity', 'politically', 'sabotage', 'ikkesh', 'seedsman', 'nineveh', 'table', '7:30', 'weeniest', 'revellings', 'calmed', 'chaste', 'neither', 'gable', 'speedy', 'hap', 'loathsome', 'rhinoceros', 'beatitude', 'absenting', 'closest', 'specify', 'amazing', '44:16', 'fest', 'oppressor', 'exposing', 'imperfect', 'fbi', 'lillys', 'hearke', 'siamese', 'mother--', 'train', 'dutiful', 'hijab', '63rd', 'cathey', 'exceedingly', 'vouchsafed', 'friend--', 'gatam', '19:2', '24:23', 'goddamn', 'one--', 'vivacity', 'hastened', 'situated', 'stellar', 'ignorance', 'savagely', 'thimble', 'diplomatic', 'gorged', 'francis', '4:49', 'diffused', 'myself.--', 'lear', 'speeding', 'flip', 'billiard', '74', 'enrogel', 'courtland', 'bounce', 'seclusion', 'mullen', 'radiant', 'zealous', 'decorative', 'pinckwerts', 'unendurable', 'gestation', 'pampered', 'recognizes', 'abhorred', 'cai', 'goe', 'shroud', '35:20', 'exasperating', 'entangle', 'mouthed', 'grammar', 'cheefest', \"doo't\", 'rhyme', 'leafy', 'downed', 'rosette', 'sonorous', 'anyways', '5:4', 'belus', 'affirms', 'science', 'deceiver', 'tilt', 'frexit', 'voltaire', 'goa', 'slick', 'requireth', 'hashabiah', 'dissembler', 'hellish', 'amazement', 'goney', 'usurped', 'laureate', 'treasure', 'trip', 'firefight', 'vauntingly', 'cavern', 'invaluable', 'justly', 'proprietary', 'scorch', 'warns', 'fashter', 'eve', 'predominant', 'san', 'fang', 'offering', 'conjectural', 'hoax', 'launching', 'insurgent', 'hereabouts', 'affixed', 'grisly', 'sleepie', 'schoolgirl', 'slid', 'playfulness', 'decade', 'archive', 'ripen', 'greeue', 'equal', 'inexcusable', 'wework', 'krusenstern', 'perfect', 'firstripe', '45:18', 'mountaines', 'whin', 'harpoon', 'magnified', 'becomes', 'market', 'serpent', 'attaining', 'acquittal', 'shrewd', 'uppercross', 'plum-', '59:7', 'plug', 'bird', 'anakims', 'tyro', 'anxious', '4:44', 'provincial', 'pensacola', 'diving', 'disobedience', 'throat', 'moisture', 'salted', 'deckt', 'jarring', '26:37', 'disagree', 'brief', 'unobservant', 'cheefe', 'gorse', 'recall', 'siddim', 'represented', 'lilly', 'flirting', 'hk', 'delinquent', 'clearly', 'deem', 'yesternight', 'peart', 'pastrycook', 'abandoned', 'achieve', '27:26', 'responsive', 'concept', 'spine', 'whiplash', 'skimming', 'exclaiming--', 'nodded', 'incinerator', 'arbiter', 'thatched', 'tomb', 'bashaw', 'squadron', 'encrease', 'truncheon', 'consecration', '10:35', 'parenthood', 'poisonous', 'unwonted', 'lithe', 'graded', 'stepping', 'literally', 'shown', 'cavity', 'ivanka', 'tm', 'skulk', 'scowled', 'copulation', 'prevented', 'shophach', 'suspension', 'bick', 'typify', 'courtesie', \"don't\", 'nodding', 'paire', 'prouidence', 'rideth', '1:35', 'desisted', 'nigerian', 'fetich', 'righted', 'briskness', 'keystone', 'northeast', 'intercede', 'contemplating', 'naphish', 'earshot', \"murther'd\", \"bow'd\", '36:25', 'ryan', 'larder', 'shouldst', 'controlling', 'natal', 'profile', 'irrevocable', 'stringy', 'sunrise', 'unsuccessful', 'disannul', \"resolu'd\", 'stigma', 'superstorm', 'lung', 'dram', 'parkland', \"confin'd\", 'affirm', '13:25', 'costume', 'pedophile', '61:2', '40:15', 'daintiest', 'dnc', 'destroyeth', 'funnier', 'rwc', 'choice', 'pent', 'tony', 'undeveloped', 'iscariot', 'var', 'carrion', 'deputed', 'ploughing', 'ukraine', 'scena', \"ordain'd\", 'pronounced', 'tracing', \"arriu'd\", 'gouty', 'unconcerned', 'fahrenheit', 'valognes', 'porthole', '15:6', 'bramble', 'blood', 'sphynx', 'stanza', 'whining', 'financed', 'exhale', 'symmetrical', 'goal', 'seekest', 'ruthlessly', 'symmetry', 'uncontrollable', 'cushioned', 'halfhearted', 'ponder', '15:34', 'appropriated', 'shore--', 'infidelity', 'moabites', 'jeshaiah', 'constituent', 'snuffing', '40:20', 'ironically', 'thee', 'compelled', 'annoyed', 'mounting', 'retained', 'fared', 'addressing', 'crayon', 'width', 'calvary', 'rethink', '10:13', 'contain', 'wenzel', 'peculiarity', 'huffman', 'latest', 'cab', 'mizzah', 'startling', 'grail', 'morality', 'chilian', 'affable', 'trencher', \"attain'd\", 'accordance', 'assaulted', 'perfectly', '7:13', '4:23', 'ruffian', 'rezin', 'dazzle', 'firstlings', 'clubbed', 'heartily', 'piling', '49:30', 'preferred', 'prologue', 'wicker', 'meditate', 'forging', 'sion', 'myeshia', '53:3', 'tantalus', 'westgate', 'mate', \"brandish'd\", 'enlarged', '36:12', '58:1', 'gripe', 'impaling', 'mounted', '1:37', 'excessively', 'indisposition', 'irreparable', 'dramatic', 'trot', 'stereotype', 'dangerously', 'mom', 'cone', 'helek', 'talbot', 'shedeur', 'confusing', 'von', 'robbie', 'forswearing', '19:1', '31:19', 'suffocating', '38:20', 'handover', 'exists', 'holding', 'julie', 'pilotless', 'invariably', 'felt--', 'easy', 'sow', 'pomfret', 'descend', 'adorable', 'douma', 'seek', '56:9', 'unsavory', 'gor', 'clearest', 'distanced', 'separation', 'pottage', 'regent', '9:11', 'bidder', 'mummy', 'influential', 'platter', 'fore', 'solidly', 'mirzakhani', 'inuite', 'kurdistan', 'quality', 'utilitarian', 'praying', 'usually', 'lulled', 'sabre', 'ararat', 'ingulfed', 'corded', 'coordinated', 'wellpleasing', 'fun', 'calamity', 'bandbox', 'lovest', 'investment', 'thicke', 'candidate', 'limber', 'scabbed', '25:8', 'scampering', 'mideast', 'topt', 'resembling', 'trespasser', 'xerox', 'spurt', 'antipathy', 'frosted', 'complaining', 'lethal', 'tending', \"gain'd\", 'tarpaulin', 'premature', 'calah', 'mizpeh', 'dupe', '41:2', 'catcheth', 'year', 'daylight', 'peeping', 'furnishing', 'mercifully', 'male', 'shockingly', 'headquarters', 'picchu', 'peninnah', 'pastoral', 'orgasm', '3:50', '51:7', 'punitive', 'andrei', '24:28', '18:36', 'degrades', 'unscrupulous', 'errour', 'waxe', 'airly', 'density', 'frost', 'keros', 'sidelong', 'threadbare', 'importune', 'benefactress', 'stranger', 'magnanimity', \"pass'd\", 'indefinite', 'cheap', 'perfume', 'gambling', '6:48', 'lowly', 'declined', 'effectually', 'nameless', 'hazard', 'rufus', '42:8', 'needes', '18:18', '23:27', 'terminate', 'reputed', \"droop'd\", 'filming', 'beguile', 'brooke', 'tester', 'endangering', 'duly', 'scorpion', 'unlighted', 'sheshbazzar', 'dickens', 'musgroves', 'cenchrea', '8:52', 'hadoram', 'introducing', 'rabshakeh', 'fittest', 'koz', 'aptitude', '2:12', 'veriest', 'assenting', 'hollande', 'byword', 'interpreting', 'poly', 'jabbok', 'counseled', 'mesopotamian', 'ransom', 'easinesse', 'caring', 'subdueth', 'dragging', 'voted', 'conducting', 'baken', 'freewoman', 'clinch', \"employ'd\", 'classified', 'zelah', 'desiredst', 'chatterer', 'furor', 'infighting', 'sorting', 'seventeenth', '43:24', 'lory', 'hawk', '8:12', 'cooky', '7:56', 'heeding', 'nunberg', 'confuse', '54:2', 'lobbied', 'supplemental', 'islamist', 'negation', 'whiteness', 'cider', 'huckleberry', 'alter', 'rwc2019', 'admiration', 'ironical', 'atlético', 'sycophant', 'initiate', 'teeniest', 'foundry', 'correction', 'chicago', 'snowing', 'appearing', 'effusion', 'recut', 'bronze', 'respectful', 'sufficiency', 'nonbinary', 'precise', 'unite', 'nephewes', 'ermine', 'limn', 'tried', 'allows', 'avocation', 'prythee', 'uncut', '6:2', '39:8', 'paw', 'collision', 'wither', 'grandmamma', 'neziah', 'selues', 'stuart', 'admeasurements', 'dwarfish', 'actually', 'exception', 'adversary', 'arrowroot', 'bobbin', 'smoothed', 'worthier', 'ephlal', 'opioid', 'kinder', 'hawthorn', 'hookah', 'monotonous', 'emblem', 'grappler', 'spousal', 'eighteen', 'punt', '2:15', 'jeer', 'arme', 'cynthia', 'somebody', 'tape', 'main', 'brutal', 'apparently', 'subjected', 'reddened', 'oddes', 'thaddaeus', 'mirage', 'yielding', 'hereditarily', 'legend', 'electronics', 'presumptuously', '15:8', 'coaster', 'seeing', '4:38', 'baanah', 'fragrance', 'yieldest', 'heyday', 'reprising', 'maddow', 'fireside', 'shithole', 'ioyntly', 'edit', 'larboard', 'participate', 'spikenard', 'seducing', 'environmentalist', 'reconciliation', 'editing', 'indicates', 'duc', 'overlay', 'steepest', 'tearless', 'angrier', 'repented', 'triumphed', 'potsherd', 'flay', 'peor', 'sacrifice', 'inference', 'devos', 'accept', 'perusal', 'shebna', 'dearer', 'emblazonings', '11:24', 'sardonically', 'readying', 'scaly', 'hospitable', '20:28', 'debbie', 'lick', 'unpardonable', 'betrayed', 'vicinity', 'solemn', 'handling', 'materialism', 'nectar', '230', '32:1', 'insurrection', 'title', 'fatally', 'sacrificial', 'assassination', 'evening', '48:33', 'disapprove', 'transcript', '22:45', '32:8', 'hoboken', 'zucker', 'farhad', \"swell'd\", 'undoubtedly', '4:30', 'inexpressibly', 'it!--it', 'hamas', '21:6', 'contagion', 'discriminating', 'resistant', 'joky', 'hello', 'invoked', 'suffereth', 'onam', 'transpose', 'soiree', 'unbuttoning', 'reg', '12:24', 'rigidly', 'trumper', 'sabaoth', \"dash'd\", 'asenath', 'crammed', 'draped', '27:24', 'honorable', 'fetching', '32:3', 'respected', 'interpenetrate', 'contested', '17:17', 'infra', 'encamped', 'boom', 'ist', 'nimble', 'mace', 'laundering', 'chronicle', 'commenced', 'indomitable', 'fog', 'saidst', 'stun', 'youtubers', 'braine', 'goad', 'off', '7:43', 'conventional', 'breakdown', 'jar', 'darkness', 'brandy', 'terminated', 'adapt', 'pampas', 'alway', 'nieto', 'shikoku', 'significantly', '2:38', 'errand', '23:16', 'shrunken', 'enemie', '48:1', 'gleaming', 'rage', '21:42', 'gottlieb', 'maggot', 'wonne', '1820', 'dor', '6:16', 'catarrh', 'accursed', 'situate', 'wanted', 'superhuman', 'ithamar', 'neariah', 'classmate', 'zeboim', '6:41', '4:8', 'subsides', 'cobb', 'parliament', 'witty', 'funny', 'idiocy', 'immutably', 'micha', 'waver', 'frosty', 'maacah', 'ooze', 'hazel', 'dole', 'guideline', 'fixing', 'supercharged', 'concealing', 'disadvantage', 'adoption', 'choirul', 'twenty', 'edition', 'buildest', 'dissension', 'worldwide', 'but----', 'urn', 'amiable', 'addiction', '25:41', 'noted', 'cybercom', '2:36', 'filipino', 'abstain', 'epidemic', 'reclining', 'ye', 'subtilly', 'reverse', 'be', 'fashioneth', 'poz', 'accumulated', '34:8', 'hephzibah', 'squire', 'diurnal', 'shad', 'insatiate', 'deerest', 'futurity', 'zalmon', 'meronothite', '26:29', 'fighter', 'galal', 'lobster', 'hygiene', '7:33', 'satest', 'appropriate', 'say----', 'playedst', 'selloff', 'lambe', 'bedchamber', 'mordecai', 'thoughtful', 'genubath', 'rehearse', 'idolator', 'pennyworth', 'californian', 'look', 'square', 'grate', 'orphan', 'enviable', 'gregory', 'sufferer', 'etext93', 'haley', 'pundit', '8:59', 'commence', 'unborn', 'zebaim', 'susceptible', '16:25', 'someone', 'revery', '15:18', 'presence', 'sentimentalist', \"hemm'd\", 'greefes', 'impaired', '28:13', 'steadfast', 'oat', 'negative', 'capital', '1:49', 'protesting', 'escalating', 'winefat', 'prosper', 'yielded', 'stealthily', '66:4', '39', 'baladan', 'wooded', 'moth', 'horror', 'ruddy', 'unread', '25:43', 'unwritten', '65:7', 'ammiel', 'condescended', 'entreated', 'cowardice', 'otway', 'funder', 'eliahba', 'frontier', '98th', 'suv', 'cyberattack', '17:22', 'leisure', 'obed', 'deified', 'foreigner', 'huram', 'impressionism', 'hempen', 'sabotaged', 'seller', 'boehner', 'finsb', 'justus', 'bituminous', 'carlo', 'eyther', 'melancholy', 'unkindly', '61:5', 'aggravates', '14:48', 'blackest', 'constraint', 'together.--', 'zuck', 'bolting', 'lead', 'powre', 'kenneth', 'godly', 'lashing', '2:43', 'celtic', 'expressed', 'breakfasting', 'damascus', '28:1', 'heeva', 'newspaper', 'expressive', 'laugher', '45:6', 'crusoe', 'classical', 'electronically', 'rout', 'vocalism', 'frankness', 'marah', 'scrub', 'soundless', 'baffled', 'thunder', 'lothed', 'jehohanan', 'conjectured', 'weakens', 'comprehensiveness', 'fundraising', 'distrusting', 'jozabad', 'belief', 'analogy', 'deceiving', 'ewe', 'undiscerning', 'aussie', 'lunging', 'upheaving', 'brigand', 'fleshhooks', 'curling', 'sagging', 'partaking', 'nearly', 'mocketh', 'binder', 'leprosy', '40:9', 'romance', 'undress', 'boyle', 'gather', 'valuable', '25:14', 'retail', 'avows', 'disgrace', 'twilight', 'toilings', 'urijah', 'circled', 'unaided', 'bela', 'seal', 'investigated', 'strap', '64:3', 'cravat', 'niger', 'regional', 'nhl', '11:54', 'afther', 'decries', 'posen', 'sullenly', 'mystery', 'havana', 'adamic', 'maitland', 'jabez', 'waking', 'sprained', 'then\"--', '37:31', 'seale', 'designedly', 'consumption', 'gender', 'stead', 'obseruance', '42', 'exploration', 'nine', 'pernicious', 'nationalism', 'dowry', 'overpowered', 'jephunneh', 'tippet', 'terrace', 'differed', 'languid', 'harodite', 'punching', 'complains', 'confound', \"clos'd\", 'virility', 'constabulary', 'ambassador', 'her.--this', 'graph', 'scorne', 'fourfold', 'gripped', 'entry', 'golden', 'borderland', \"wheresoe'er\", 'walketh', 'trumpcare', 'distinct', 'courageously', 'fishmonger', 'for', 'shipworm', 'suspend', 'sooth', 'believe', 'pleased', 'rely', 'palisade', 'census', 'cosmos', 'rimmonparez', 'atonement', 'adjacent', 'strategy', 'miracle', 'milk', 'santorum', 'poure', 'jabin', 'valentine', 'broil', 'discourage', 'vapour', 'thickens', '38', 'holyday', 'herbage', 'accusation', 'broadway', 'filing', 'sagittarius', 'bethlehem', 'backe', 'sorcerer', 'luxury', \"t'gallant\", 'volition', 'delay', 'roar', 'rewinding', 'default', 'morcar', 'franklin', 'hecla', 'iconium', '5-year', 'barrister', 'nether', 'duodecimo', 'canyon', \"se'nnight\", '40:24', 'gas', 'buy', 'relative', 'infinity', 'respecting', 'cruelest', 'distinctness--', 'dulcet', 'brightened', 'commitment', 'sunshine', 'areli', 'bewildered', '8:6', 'tulip', \"e'en\", 'reopens', 'gainst', 'aurora', 'bunch', 'unused', '46:13', 'behn', \"tail'd\", 'certify', 'etham', 'dere', 'deuel', '26:22', 'precede', '21st', 'brigade', '15:45', 'implanted', 'toiled', 'bella', 'bouton', 'lemuel', '34:11', 'riddle', 'servitude', 'armed', 'raven', 'asian', 'cloth', 'jake', 'feebler', 'conscripted', 'nicole', 'guadalajara', 'epsom', 'skylarking', 'ok', 'manifold', 'byrnane', 'shrewdness', 'trembled', 'plainly', 'deserving', 'unbelief', 'alumnus', 'phish', 'temporarily', 'waited', 'curtly', 'professor', 'paralyzed', '18:45', '28:34', 'unfailing', 'emirati', 'woolly', '3:43', 'daring', 'chieftain', 'alfred', 'lynch', 'habiliment', \"cool'd\", 'cling', 'vesuvius', 'marriott', 'curate', 'becamest', 'underneath', '59:15', 'salcah', 'i', 'meanness', 'sought', 'sage', \"soil'd\", 'knead', 'jokneam', 'weightier', 'say--', 'persevering', 'weasel', 'keith', '2.0', 'posing', 'explosion', 'herman', 'unaccredited', 'repugnance', 'rameses', 'whirled', 'nethinims', 'historian', 'plaguy', 'cilicia', 'prosing', '50,000', 'predicament', 'cowslip', 'psychometric', 'superscription', 'agree', 'bus', 'belching', 'clam', 'akkub', 'meribah', 'young', 'stevedore', 'hamor', 'kneeled', 'eaglet', 'mezahab', 'lettered', '61:7', 'singly', '2023', 'impostor', 'uniting', 'parable', 'artlessness', 'quizzed', 'animator', 'study', 'unanswered', 'knauish', 'numbering', 'principally', 'crumbled', 'intermitted', 'distempered', 'republican', 'woodhouse--', 'girdeth', 'haunting', 'eyed', 'hul', 'begun', 'raiser', 'overladen', 'warden', 'towing', 'prevention', 'niebuhr', 'ripped', '2:39', 'shocker', 'afghanistan', 'roboticists', 'outstretching', 'bethrehob', '                                      ', 'nominated', 'brings', 'excellence', 'sheepcote', 'marke', 'nibble', '4:47', 'mortality', 'incommoding', '30:35', 'iota', 'rancour', 'downing', 'denying', 'lagoon', 'opposes', '26:51', 'hegai', 'close', 'goddess', 'blowes', 'shed', 'eager', 'bitt', 'adherence', 'grievance', 'dwellest', 'rowling', 'abnormal', 'unwitting', 'sarcasm', 'ahava', 'amputee', 'plunged', '13:5', 'administered', 'mclaughlin', 'bickerton', 'hanger', 'blackmailed', 'havock', '39:14', 'forgotten', 'unmolested', 'soothings', 'trillion', 'scholarship', 'blindness', '41:29', 'restore', 'hoary', 'whitson', 'alhambra', 'acquainted', 'latch', 'raid', 'serjeant', 'targeting', 'do', 'flieth', 'ziklag', 'ferret', 'eluded', 'perverteth', 'beech', 'blackmail', 'situation', 'croatia', 'cretan', 'flirted', 'reinforced', 'upwind', 'vanquished', 'courageous', 'percent', 'lackest', 'bond', 'repulse', 'brown', 'jahazah', 'cause', 'determination', 'belteshazzar', 'tolstoy', 'vnfold', 'compassed', 'shaped', 'precaution', 'luther', '32:38', 'rally', 'rebellest', 'seventh', 'carcass', 'lebron', 'faintly', 'zodiac', 'meddled', 'literature', 'willingly', 'watered', '32:5', 'hopeless', 'huzzaing', 'sassy', 'sleet', 'selleth', 'construe', 'strangest', 'zero', 'effectively', 'richmond', 'jebusite', 'husband', 'bankroll', 'feige', 'ziha', '24:35', 'diuel', 'hepher', 'unforgettable', 'ridicule', 'bridge', '34:10', 'straight', 'curtsy', 'salma', 'involved', 'fanning', 'exacted', 'ebed', 'suitor', 'flattery', 'stirre', 'heare', 'dominance', 'supposing', '17:41', 'evolution', 'aforethought', 'sticking', 'weaken', 'bunger', \"shunn'd\", 'affaire', 'depending', '17:25', 'arpaio', 'scallop', 'unfortunate', '7:15', 'clearance', 'campaigning', 'seaboard', 'nitre', 'nabob', 'adjure', 'nigh', 'agone', 'abrupt', 'annamaria', 'await', 'shuah', 'va', 'inaudible', 'york', 'fatphobic', 'important', 'then--', 'in--', 'aching', 'deformity', 'berated', 'pregnancy', 'decidedly', 'leo', 'sharer', 'swore', 'ensures', '2:48', 'par', 'hunger', 'held', 'mention', 'doe', 'gentile', 'shomer', 'oded', '46:15', 'coca', 'confirming', 'brest', 'confer', '31:48', 'helmeted', 'incessant', 'sirra', 'glowed', 'beno', 'hesitation', 'clutched', 'stirring', 'penuel', 'unhealthily', 'overflow', 'infinite', 'insensitive', 'addition', 'seychelles', 'husky', 'marshy', 'letting', 'precipitate', 'exuding', 'hanani', 'return', 'wonderland', 'm', 'emmet', 'womb', 'horonaim', \"renew'd\", 'piedro', 'sodomite', '65:5', 'breeding', 'choral', 'sanction', \"fashion'd\", 'bud', 'pekka', 'teach', 'maintaining', 'exultingly', 'meshezabeel', 'turret', 'weighed', 'professing', 'nra', '32:18', 'agreement', 'applicant', '51:21', 'bethmaachah', 'rival', 'promoting', 'euer', 'bed', 'assisting', 'forlorn', 'inserting', 'solicitude', 'eased', 'compare', 'branch', 'scientist', 'virulent', 'discernment', 'jihadi', 'stewardship', 'presumably', 'disciplined', 'drowsy', 'broughtest', 'pout', 'undecipherable', 'onward', 'unsophisticated', 'gary', 'malady', 'scholar', '24:36', 'bengal', 'musty', 'chinnereth', \"establish'd\", 'aslan', 'charlemagne', 'glasgow', 'inglorious', 'game', 'harme', 'exchanging', 'follows:--', 'enclosing', 'print', 'lothario', 'unreality', 'mottled', '31:51', 'satiety', 'capting', 'allegation', 'sol', 'offereth', 'corpulence', 'unfolded', '5:35', 'integral', 'kuaishou', 'lily', 'immigrant', 'unharming', 'seventy', 'unconvinced', 'tantamount', 'posed', 'tirshatha', 'experiment', 'warmly', 'varying', '58:6', 'kelli', 'dulness', 'include', 'idea', 'enclosure', 'humming', 'wearing', 'deuteronomy', 'zay', 'pliny', 'vulgar', 'squatting', 'il', 'diversity', 'crowning', 'worship', 'yiannopoulos', 'sences', 'shrine', '29:15', 'afire', 'tube', 'dan', 'shipped', 'obey', 'meaner', '4:18', 'quarrell', '6:66', 'backyard', 'neat', 'envelope', 'betted', 'ordering', 'siluer', 'dedicate', 'intensely', 'fantasticall', 'praise', 'gps', 'gurglings', 'murther', 'paper', 'appalling', 'cowering', 'acknowledges', 'eliab', 'place', 'withholds', 'succoured', 'busting', 'scale', 'assembled', 'ignoble', 'io', 'scuttling', 'tie', 'tirade', 'fobbing', 'overturned', 'exaggerating', 'delusive', 'moment--', '36:14', 'untidy', 'footstool', '52:1', 'path', 'unpitied', 'shuffle', 'vista', '15-day', 'adored', 'adonis', 'colorless', 'nc', 'gurgle', 'splashed', 'charge', 'countryman', 'incoherence', 'careering', 'labouring', 'doggedly', 'quadruped', '10:47', '46:28', 'body', 'gossip', '34:31', 'counsellor', 'straitness', 'rudimental', 'spyware', 'exxon', 'debacle', 'element', 'mustang', 'business', 'armagnac', 'pitch', 'whizz', 'charlottesville', 'aram', 'entice', 'levied', 'wakeful', 'pitt', 'akrabbim', 'statistic', '13:35', 'nightgown', 'thews', 'whole', \"push'd\", 'civilly', 'ingenuity', 'inboard', 'seafood', 'shafiq', 'ticking', 'youngest', 'concerned', 'spake', 'bray', 'ceiling', 'lubber', 'mget', 'finis', 'woeful', 'dwell', 'handsomely', 'sluggard', 'dilated', 'astonishing', 'strategist', 'copenhagen', 'charmer', 'tragedie', 'necessitie', 'detest', 'ballast', 'algerine', '25:22', 'donalbaine', 'while', 'twaine', 'saucy', 'ohad', 'trio', 'revised', 'badge', 'memory', 'zered', 'judiciously', 'unrestrained', 'mirth', 'clustering', 'stanhill', 'boyega', 'methinks', 'selects', 'endless', 'uncovered', 'phrenologically', 'whang', 'pussyhats', 'earhardt', 'commentary', 'undaunted', 'escalates', 'lesser', 'pining', 'eleve', 'petty', 'mlb', 'daboll', 'adapted', 'accomplished', 'fro[m', 'nero', 'school', 'speck', 'heraldic', 'despair', 'hauing', 'infamy', 'silva', 'reddy', 'retaken', 'brighter', 'shined', 'clout', 'harrowing', '9:32', 'paris', 'quieted', 'justifying', 'cyberwarfare', 'dwelled', 'excelled', 'helm', 'hud', 'venerable', 'tussle', 'prepareth', 'overgrown', 'avowed', 'henceforth', '38:31', 'outstripped', 'disturbing', 'lobbyist', 'gahar', 'rehob', 'tidy', 'ode', 'crooked', '44:26', '49:31', 'inappropriately', 'maddening', 'shuhamites', 'bethmarcaboth', 'shortly', 'ensnared', 'hideousness', 'parrying', 'childlike', 'tory', '6:8', '32:9', 'communicating', 'fretting', 'unaccountable', 'veranda', '44:27', '44:15', 'simon', '17', 'landrieu', '9:26', 'executes', 'mare', 'scamper', 'lived', 'palpably', '24:25', 'fly', '45:13', 'reversed', 'naming', 'dong', 'ax', 'chug', '7:6', 'chased', 'embouchure', 'trans', '47:2', 'coiled', 'concealment', 'abroad', 'suspect', 'demigod', 'omnibus', '40:16', 'abridgement', 'jpmorgan', 'irregular', 'dock', '39:19', 'macnab', 'tanned', 'corporal', '16:18', 'correcteth', 'aria', 'chastened', 'moby', 'demonism', \"pick'd\", 'grassroots', 'candidly', 'tacitly', 'corporation', 'resubmit', 'combining', 'puddle', \"roam'd\", 'dipt', 'consulted', 'imputation', 'dispossess', 'iran', 'information', 'retrospection', 'kenites', 'determining', 'ingathering', 'sunburnt', 'saying--', 'humpbacked', 'spitefully', 'cornish', 'settest', 'printed', 'timbrel', 'sharon', '30:12', 'brewery', 'spinney', 'worried', 'president', 'sweaty', 'disappear', 'unlocking', 'warehouse', 'brewer', 'mossbonkers', 'protracted', 'spendthrift', 'bashful', 'oblique', 'sorry', 'byron', 'promoter', 'may.', 'priam', 'stiff', 'footstep', 'acquiescence', 'blueberry', 'rickroll', 'valve', 'villaintropic', 'sight', 'sykes', 'flippancy', 'populism', 'govern', '5:40', 'esther', 'mischiefe', '12:42', 'pallace', 'rudiment', 'emims', '2:26', '61:4', 'sword', 'jumped', 'dividing', 'glad', '30:33', 'sacrificeth', 'love', 'frontage', '3:25', 'aaliyah', 'cynical', 'uneducated', 'm1', 'unnecessary', 'piggy', 'wrapped', 'disturb', 'plaintively', 'dry', 'dey', 'advocating', 'hhs', '18:25', 'unexceptionable', 'forgetfull', 'hurtful', 'timidity', 'before.--', 'broker', 'doubting', 'liu', 'fauours', '1:46', '27:30', 'discus', 'parallel', 'morrison', 'ash', 'prosecutor', 'perizzite', 're', 'scoena', 'branched', 'deliverer', 'premeditated', 'deigns', 'tempter', 'drawback', 'nguyen', 'borrowed', 'saudi', 'thinner', '30:5', 'bindeth', 'flattered', 'sunk', 'buttoned', 'installment', 'starres', 'may', 'guidance', 'pledge', 'heroism', 'binomo', '19:24', 'concussion', 'mafeking', \"furnish'd\", 'enrich', 'hasted', 'jamie', 'moreouer', 'refrained', 'asa', 'worked', 'cupidity', 'madai', 'gibbet', 'hallow', 'dusky', 'lizzo', 'unsatisfied', 'patagonia', 'creek', 'tekoa', 'same!--the', 'instructer', 'cheekes', 'policeman', 'getteth', 'curiously', 'audibly', 'inshore', 'boasting', 'mi', 'imbecile', 'eleazar', '60:2', 'actor', 'firearm', 'dissolution', 'beene', 'simmons', '42:3', 'serle', 'reliance', 'battery', 'revolve', 'highnesse', 'spouting', 'suck', '58:2', 'handedness', 'drugmakers', 'epigram', 'christianity', 'closed', 'abital', 'except--', 'officiated', '@realdonaldtrump', 'abstinence', 'ao', \"ow'd\", '`', 'gianforte', 'openness', 'pit', 'uselessly', '39:23', 'comply', 'humiliation', 'nomine', 'proceeds', 'renewing', 'incessantly', '7:19', 'parentage', 'underfoot', 'working', 'kkk', 'kew', 'clamour', 'ardently', 'shelter', 'shy', 'drain', 'widow', 'opposite', 'violin', '~', 'splendour', 'mallothi', 'castaway', 'foreign', 'telassar', 'gorge', 'ploughed', 'intermixed', 'sad', 'triple', 'provision', 'dejected', '62:4', 'appears', 'nonchalant', 'overhand', 'elijah', 'fanaticism', '35:25', '64:6', 'ego', 'perceiveth', 'humbler', 'killing', 'airing', 'auoid', 'appertained', 'flummery', 'shearer', 'turbaned', 'chapter', 'nonce', 'whited', 'mettle', 'knee', 'relentless', 'whithersoever', '67', 'confidentially', 'affording', 'xviii', 'hower', 'sends', 'determined', 'hutton', 'used', '26:55', 'atheist', '19:23', 'sickle', 'nimshi', 'coronavirus', 'anne', 'direct', 'sallu', 'civil', 'asshole', 'tormented', '4:48', 'postilion', '4:35', 'bundling', \"ioyn'd\", 'dick', '26:18', 'engross', 'verse', 'pirathonite', 'suet', 'certified', 'albert', 'jungfrau', '18:2', 'zambian', 'doth', \"roof'd\", 'azekah', '15th', 'wale', 'shock', 'do?--how', 'wended', 'pen', 'ornamental', 'obsequious', 'toucheth', 'magdalene', 'jehoaddan', 'mince', 'qasem', 'crib', 'fearful', 'illuminated', 'tolling', '1:54', 'encouraging', 'longingly', 'ceaseth', 'statesman', 'occurred', 'again.--', 'haul', 'lament', '4.7', 'resurgence', 'agency', 'shrieking', 'exhorting', 'passe', \"stabb'd\", 'choosing', 'vindictiveness', 'u.s', 'redound', 'rub', 'nazareth', 'hating', 'themselves.--', 'unstable', 'frame', 'melville', 'stayed', 'asked', 'extreme', 'washpot', 'moonbeam', '8:57', 'gibbering', 'sleeke', 'kindest', 'ontario', 'haue', 'daimler', 'recklessly', 'yonnondio', 'cobhole', 'uriah', 'alleges', 'dreadful', 'glimpse', 'inward', 'hamlet', 'inhaled', 'dreadfully', 'retrench', 'action', 'dusting', 'attendee', 'bridgegate', 'retentive', 'utmost', 'out', 'cocked', '24:43', 'wistfully', 'hedwig', 'norwegian', 'including', 'deign', \"peril'd\", 'mexico', 'ioyfull', '44:31', 'poker', 'ahilud', 'counsel', 'produced', 'reynolds', 'mouthes', 'terror', 'pervading', 'crozetts', 'wizard', 'religion', '440', '6:51', 'fishing', \"embower'd\", 'advisable', 'caulking', '23:36', 'compulsion', 'besiege', 'transgress', 'sufficiently', 'renewable', 'giddalti', 'disinterestedness', 'dwarf', 'glorifying', 'fundamentalist', 'despiteful', '41:7', 'comprising', 'sympathize', 'cherish', 'romish', 'pompeo', 'mountaineer', '10:17', 'her!--', 'quickness', 'uighur', 'swiftest', 'discloses', 'drained', '15:17', 'bewilderment', 'heapeth', 'inclusive', 'flatly', 'because--', 'shadowed', 'diagram', 'spain', 'creating', 'realised', 'blush', 'herculean', \"dinah'll\", \"in't\", 'drop', 'unpleasant', 'ribband', 'ophel', 'inadvertence', 'stripe', 'reliable', 'hoof', 'publickly', 'nutt', 'prayest', 'accc', 'ascribe', 'fitfully', 'price', 'all--', 'omer', 'wonderously', 'askew', 'cartel', 'patronage', 'inconstant', 'bet', 'earnest', 'merry', 'oblivious', '14:36', 'troubled', 'mighty', '16:36', 'viewless', 'cory', 'revival', 'blessest', 'outside', 'downe', 'shrimping', 'village', 'mit', 'gittaim', 'caput', '5:46', 'fatigued', 'amaziah', 'cranial', '15:56', 'medication', 'provide', 'lean', 'gnawing', 'mastered', '101', 'cloister', 'visible', 'forgive', '15:1', 'hump', 'volubility', 'reflected', 'program', 'pommel', 'anoint', 'anonymously', 'lincoln', 'wildenesse', 'late', 'pornhub', \"pronounc'd\", \"limb'd\", '71', 'strew', \"speak'st\", 'favourable', '51:12', 'grow', 'feebly', 'spoileth', 'flagged', '31:46', 'yond', 'leviathan', 'fatter', 'statute', 'bruno', '16:40', 'hist', 'attached', 'rabbit', 'huldah', 'god', 'dune', 'beetle', 'sutor', 'wakeneth', 'delightful', 'lanyard', 'macian', 'bust', 'cohn', 'mehetabel', 'profligate', 'knewest', 'gross', 'espionage', 'told', 'magicke', 'veto', 'haze', 'selvedge', 'insulting', 'despisers', 'journeyman', 'blankly', 'lancet', 'doo', 'doubly', 'belong', 'sayst', 'arising', 'handout', 'aery', 'natur', 'naughty', 'extricate', 'hurry', 'chambermaid', 'imagery', 'recoil', 'coll', 'connector', 'board', '                                                        ', 'toper', 'maurice', 'digging', 'upright', 'intercourse', '11:13', 'striding', 'oligarch', 'enter', '33:19', 'sultry', 'loophole', 'destitute', 'stretcheth', 'haunt', 'prove', 'rationally', '34:17', 'lesse', '22:36', 'new', 'follower', '23:11', 'corp', 'hashtag', 'groaning', 'happens', 'incorruptible', 'undiscovered', 'coventry', 'densmore', 'cryed', 'refund', 'affront', 'undervalue', '32:13', '36:32', 'hyacinth', 'catastrophism', 'greenhorn', 'lace', 'torrent', 'hearted', \"sat'st\", \"paus'd\", 'prevent', 'markest', 'agnes', '23:34', 'delegate', 'populist', 'repaid', 'kick', 'joon', 'forbidding', 'hawkins', 'dresser', 'chaplain', 'redoubled', 'ascent', 'reddish', 'cnnpolitics.com', 'whitwell', \"clutch'd\", 'fomenting', 'chatty', 'equipment', 'guess', 'urgency', 'processe', 'slice', '59:13', 'deciding', 'possesion', 'regulated', 'unpacked', 'athwart', 'dishonoureth', 'deploys', 'unoccupied', 'waxen', '32:41', 'steam', 'dooryard', 'linen', 'consort', 'unlike', 'authentic', 'affirmed', 'queequeg', \"tooth'd\", 'dived', 'endwise', 'replete', 'bosomes', 'intimidation', 'rand', 'interesting', '133', 'sleek', 'encreased', 'barest', 'given', '13,000', 'unobstructed', 'zephon', 'bursal', 'prophesie', 'fatlings', 'vandalism', 'pitching', 'guatemalan', 'exeunt', 'narwhale', 'radio', 'intreated', 'grunted', 'champagne', 'goatlike', 'eziongeber', 'slippery', 'remain', 'staying', 'juttah', 'licensed', 'attainable', 'charm', 'dispensing', 'boost', 'luxuriant', 'blanc', 'rooke', 'parking', 'ecstacy', 'hackneyed', 'blacksmith', \"remain'd\", 'helwan', 'shaw', 'ultimate', 'asia', 'definite', 'rattler', 'louise', 'banked', 'heroick', 'commonwealth', 'now.--', '--so', 'gallop', 'interested', 'economy', 'unconnected', 'specious', 'waxed', 'hymenaeus', 'linguistic', 'pessimist', 'vigor', 'centaur', 'saith', 'wayes', 'imf', 'yeah', 'hounded', 'soapstone', 'exhorted', 'wrongly', '48:10', '33:14', 'keyhole', 'sprightly', 'azmaveth', 'fiue', 'lavender', 'sergey', 'centrism', 'baited', 'overhear', 'sourcing', 'fra', 'phinehas', 'james', 'proportioned', 'ophe', 'highlight', 'quantitie', 'thriue', '6:65', 'elihu', 'greasy', 'vnderstanding', 'scuffle', 'reversal', 'wear', 'improbable', 'unthinkable', 'provocation', 'appertaineth', 'comprises', 'maxim', 'splint', 'countermemo', 'tophet', '32:43', 'succour', 'blanket', 'draughtsman', 'impossible', 'disengage', 'scorn', 'ahmed', 'ostent', 'ballistic', 'fare', 'adventurous', '29:14', 'untold', 'tiny', 'gudgeon', 'spotless', 'verification', 'maritime', 'oughtest', 'bedfellow', '9:43', 'moderation', '34.5', 'sized', 'dedicated', 'comedie', 'prided', '9:20', 'fathomless', 'bitterest', 'ribbed', 'forgets', 'discouer', 'quieter', 'delude', \"journey'd\", 'keene', 'archaeologist', 'illinois', 'wafer', '15:27', 'lauer', 'argall', 'tilleth', '28:14', 'entree', 'daybreak', 'imposed', 'donwell', 'banished', 'importunate', 'waiving', 'forgat', 'unredacted', 'nebulous', 'syracuse', 'xi', 'patriotic', 'arphad', 'draft', 'cloke', 'edict', 'undignified', 'sheshach', 'embark', 'congratulation', 'abandoning', 'influx', 'silken', 'melanie', '8:56', 'methusael', 'hopkins', 'shingle', 'somewhat', 'massive', '14:25', 'bosom', 'correspondence', 'cluck', 'eclipse', 'eld', 'attraction', 'henadad', 'mistletoe', 'vnkle', 'analytica', 'mathematics', 'avenged', 'treacherously', '21:43', 'firstling', 'offspring', 'next', 'sex', 'equivocation', 'bonkers', 'unwholesome', 'warped', 'necktie', 'appertain', '25:37', 'graver', 'brahma', 'rending', 'sinecure', 'jamb', 'attentive', 'shilonite', 'scolding', 'devour', 'lep', 'limpsy', 'continually', 'ope', 'senseless', 'enhances', 'wellbeloved', 'sits', 'illegitimacy', 'dispassionately', 'acquire', 'concentrate', 'generous', \"ol'\", 'cinema', 'wasted', 'sen.', 'gazzam', 'sector', 'shenir', 'romantic', 'veracity', 'bertha', 'nepotism', 'bali', 'opine', 'lurks', 'lancer', '16:4', 'annihilation', 'contributed', 'smuggled', '13:33', 'tortured', 'healthy', '500', 'miscreant', 'gaining', 'tun', 'beggers', 'philosopher', 'neutral', 'shouting', 'impart', '37:12', '8:45', 'ministereth', '22:17', 'uncreate', 'foment', 'source', '37:3', 'belgian', 'nourisher', '43:6', '19:8', 'cleverness', 'incredulously', 'judith', 'dreamed', \"air'd\", \"lon'on\", 'outwit', 'miletus', 'wisedome', 'hoe', 'advancement', 'mode', 'fined', 'stretcher', 'musky', 'legged', '33:3', 'insensate', 'clinched', 'leafe', 'japan', 'rocket', '33:28', 'revolver', 'bader', 'giuing', 'nephthalim', 'sergeant', 'raving', 'classification', 'invested', 'wonderfully', 'cash', 'transpire', \"dispos'd\", 'blasphemy', 'abe', 'whizzing', '24:20', 'remorseless', 'imperturbe', 'unannounced', 'pendent', 'negro', 'oppidan', 'funerall', 'sparse', 'harrogate', 'octauio', 'apologising', 'baleen', 'chuck', '37:2', '50:6', 'postpones', 'stallone', '43:10', 'zealand', 'squint', 'theorist', 'boycott', 'inscribed', 'pawn', 'utter', 'kubrick', 'jean', 'subside', 'zoological', 'whilest', 'loathed', 'calmly', 'penetration', 'capsizing', 'ucla', 'visitest', 'lightfoot', 'sewed', 'a.', 'speakes', 'imperfectly', 'shape', 'compete', 'yorkers', 'lotus', 'personall', 'overcome', 'tickled', 'maiden', 'was!--', 'nigel', 'mature', 'thro', '8:39', '38:5', '29:26', '14:57', 'tlaib', 'trespassed', 'simultaneously', 'cassi', 'clause', 'voltumand', 'fellowservant', 'streetlight', 'veda', 'jason', 'overshot', 'nugent', 'covered', 'surprizes', 'prolonged', 'originally', 'imperilled', 'italian', 'ishbak', 'refiner', 'teare', 'shapher', 'tuft', 'slight', 'unbending', 'surpassed', 'moonlight', 'prejudice', 'crow', 'overmuch', 'battalion', '26:40', 'horrid', \"tatter'd\", 'antifa', 'playes', '26:57', 'threaded', 'sickening', 'larson', 'chephirah', 'inquiringly', '62', 'aspire', '2', 'appear', 'voyaging', 'gainsay', 'banishment', 'forgiue', 'misty', '23:37', '26:46', 'betokened', 'nabal', 'godless', '18:5', '28:32', '41:10', 'democrat', 'asap', 'calved', 'foreshadowing', 'rossmore', 'restriction', 'forsookest', 'vertigo', 'shia', 'replenish', 'rekem', 'lgbt', '40:3', 'lupercall', 'organism', 'hurdle', '7:20', '18:33', 'prize', 'mumbled', 'sway', 'condemned', 'dreame', 'fort', 'inspector', 'strongly', 'friendliness', 'privy', 'renounce', 'pollute', 'screamed', 'priestly', 'warfare', 'expelling', 'tattered', 'tipsy', 'overwhelm', 'turbid', 'aspiring', 'profanely', 'impulsive', 'iealous', 'adelson', 'remarking', \"hee'l\", 'dub', 'community', 'feignest', 'shooes', '3:19', 'education', 'oxycontin', '7:4', 'terminator', 'contractor', 'ramoth', 'overstrained', 'closset', 'thirtyfold', 'unpretending', 'razor', 'hindu', 'remembrancer', 'dibongad', 'pated', 'corporall', 'tip', 'seir', 'orpah', 'forgetting', '16:46', 'proverb', 'gradual', 'submarine', 'attended', 'aesop', 'distributed', 'keel', 'tare', 'recommending', 'disobeying', 'rill', 'transparent', 'vividly', 'coma', 'courted', '122', 'misunderstood', 'garnished', 'absconds', 'waft', 'plain', 'throned', \"unrivall'd\", 'pipe', 'throated', 'messala', 'saga', 'penitent', 'excel', 'berlin', 'influence', 'tiffany', 'born', 'stra', 'facade', 'transported', 'forego', 'ioc', 'gobbled', 'coriander', 'dirty', 'ren', 'spend', 'restricting', 'mr.', 'appealing', 'controlled', 'sociable', 'sailing', 'lionlike', 'figured', 'infamous', 'heathenish', 'manuring', 'millo', 'sinless', '36:31', 'asunder', 'exultation', 'crag', 'allow', '23:9', '    ', 'strangled', 'mccormack', 'desolate', 'travis', 'jelly', 'gill', 'expectancy', 'echoing', 'basso', '13:2', 'irritated', 'among', 'cia', 'hisse', 'housebreaker', 'jeopardize', '14-day', 'seething', 'fueling', 'limbes', 'memo', 'tunbridge', 'copied', '190,000', 'arrival', 'forbearance', 'floundered', 'froze', 'uriel', 'rung', 'andiron', 'shipmaster', 'him;--and', 'drip', 'caterpiller', 'immemorial', 'sewing', 'fusing', 'hollyweed', 'rustic', 'patted', 'daft', 'kellyanne', 'composed', 'wrote', 'steamer', 'loafe', 'sorted', 'beet', 'quintessence', '1839', 'meghan', '10:10', 'piped', 'flowery', 'insuperable', 'unable', 'unskilful', 'formules', 'mow', '6:36', 'adah', 'shading', 'contemplation', 'touched', '46:14', 'stool', 'pantheistic', 'online', 'knowist', 'corey', 'omniscient', \"for't\", 'wheeled', 'desantis', 'passage', 'folded', '27:22', 'darling', 'fist', 'exterminated', 'relinquished', 'outcry', 'nun', 'laying', 'unspecified', 'reshaping', 'macbeth', 'arrest', 'spout', 'err', '1:23', 'gershom', 'nasturtium', 'winced', 'cube', 'woody', '10:44', 'interpretation', 'manufacturing', 'aboriginal', 'punchbowl', '50:3', 'only', 'slackened', 'neerer', 'mouing', 'embracing', 'spear', 'snuffer', '59:4', 'potty', 'villainous', 'headline', 'eating', 'congratulatory', 'personage', 'resolving', 'bukkiah', \"stay'd\", 'mercantile', 'unerring', 'unwaning', 'obstinacy', 'yosemite', 'spoke--', 'alush', 'manning', 'esteeming', 'diviner', 'compliance', 'constant', 'disclosure', 'joaquin', '50:18', 'perishing', 'unmoveable', '3:36', 'har', 'spoilt', 'posset', 'alternately', 'sweat', 'demonstration', 'caddy', 'pyramidical', 'oldest', 'drown', 'innocently', \"determin'd\", 'hive', 'toe', 'harder', 'wheele', 'getaway', 'spurres', 'fro', 'immensity', 'contemptuous', 'bedstead', 'melzar', 'straightway', 'subreddit', 'surveying', 'surry', 'beto', 'conspirator', \"won't\", 'photographed', 'oman', 'scented', 'ejaculation', 'wake', 'mummery', 'efron', \"is't\", 'caged', 'taunt', '5:15', \"lou'd\", 'exceeding', 'bannered', 'abia', 'goalkeeper', 'sophereth', '6-year', 'intention', 'furlong', 'repay', 'exhibiting', 'obeyed', 'backfire', 'translate', 'sinne', 'hew', 'asparagus', '20:40', 'manchon', 'marshal', 'grappled', 'lexus', 'cookery', 'huron', 'consequent', 'limpid', 'crashing', 'caterpillar', 'pelican', 'ile', 'repast', 'laundered', '46:5', 'bartholomew', 'featureless', 'twirled', '31:31', 'drieth', 'phrase', 'abbott', 'impression', '48:8', 'sheeted', 'johanan', 'awakened', 'real', 'pore', 'apostle', 'talked', 'mistrust', 'indirect', 'ruefully', 'combing', 'gangster', 'imbibed', 'rapist', 'secularist', 'atone', 'depressing', 'midday', 'met', 'wreck', 'elementary', 'disquiet', 'barber', 'climber', 'down', 'cyberspace', 'warbled', 'moscow', 'congressman', 'wanteth', 'twisting', 'amisse', 'interval', 'potipherah', 'revolutionise', 'hbcus', 'crawled', 'withholden', 'gave', 'slowest', 'leaker', 'babble', 'arphaxad', 'uzzi', 'chilly', 'cheeke', 'discarded', 'imprudence', 'nixon', 'november', 'cordage', 'excitedly', 'lowermost', 'trim', 'presume', 'repeatedly', 'goring', 'looming', 'preternatural', 'duo', 'popularly', 'folding', 'fish', 'alamo', 'provideth', 'broadminded', 'battersea', 'censure', 'constructed', 'alphaeus', 'descry', 'brit', 'difficult', 'featured', 'rickety', 'selfwilled', \"dress'd\", 'streak', 'tishbite', 'ghostly', 'saner', 'flourished', 'cost', 'mulberry', 'runne', 'vocalist', 'ensue', 'delivereth', 'unattended', 'palter', 'liquid', 'swastika', 'triumph', 'pamphlet', 'cover', 'temperament', 'recompence', 'hugging', 'video', '12:1', 'various', 'else--', 'joha', 'teenager', 'fire', 'invocation', '21:12', 'worrisome', '55:11', 'violation', 'kong', 'heidi', 'casked', '62:7', 'thump', 'stimulus', \"stretch'd\", 'maduro', 'pulverize', 'hitherto', 'lunge', 'normal', 'boat', 'toll', '6:19', '7.9', 'bigly', '66:16', 'trey', 'adulterer', 'contour', '17:8', 'brookfield', 'venezuelan', 'enumerate', 'forgavest', 'declare--', 'wagon', '45:17', 'forfeit', 'comforted', 'desk', \"confirm'd\", '8:36', 'edifying', 'invent', 'cameron', 'danish', 'ligarius', 'conversant', 'senegal', 'wantest', 'fantasie', 'airth', 'discountenanced', 'chang', '53:5', 'bark', 'downward', '82nd', \"usher'd\", 'alarmed', 'robinson', 'shakespeare', 'dromedary', 'competent', '10:27', '20:30', 'imperiously', 'admirant', 'omega', 'eternall', 'hearth', 'decided', 'stubborn', 'maker', 'lively', 'chop', \"constrain'd\", 'ridden', 'spirited', 'aquiline', 'fellowservants', 'choke', 'stiffly', 'maine', '52:3', 'pac', 'kite', 'sociologist', '14:56', '2:16', 'harp', 'trestle', 'picket', '24:33', 'colombian', 'pricked', 'thornberry', \"kill'd\", 'remington', 'plumed', 'velocity', 'vicarage', 'carriest', '3:45', 'vain', '19:33', 'selecting', 'perverse', 'misgiving', 'pool', 'herring', '40-year', 'maachathite', 'population', 'disarmed', 'unnaturally', 'abbey', 'nakamura', 'laver', 'oh', 'hindermost', 'verbally', 'preuent', 'refinement', 'sashed', 'peeuish', 'leftwing', 'result', 'dunn', 'deific', 'preached', '20:42', 'audience', 'alacrity', 'wearisome', 'cheerily', 'indeed.--she', 'repute', 'huckabee', 'northerner', 'hudson', 'alaska', 'prompting', 'incompatible', 'cossack', 'balmy', 'maryland', 'lappeth', 'engaged', 'indistinctness', '43:26', 'insensibility', 'valverde', 'shealtiel', 'treasured', 'many', 'beloved', 'sorrie', 'centripetal', 'courteously', 'destiny', '40:30', 'palm', 'tricked', 'gazed', 'macaroni', 'knob', 'heber', 'napoleon', 'trottoirs', 'habitually', 'category', 'croft', 'columbus', 'luhnow', 'muttering', 'parkinson', 'hinders', 'incoherently', 'che', '1.34', 'strangeness', 'fugu', 'crispus', 'tapper', 'vanisheth', 'fatalism', 'limiting', 'browne', 'indubitably', 'antisemitism', 'admitting', 'loft', 'brahmin', 'persecutor', 'widen', 'westerly', 'device', 'roughest', 'undergo', 'antitrust', '                                                       ', 'animate', 'trailed', 'oregonese', 'sacar', 'crucified', 'alreadie', 'persisted', '19:43', 'frighten', 'contusion', 'foreknowledge', 'rosincrance', 'shimri', 'wheresoever', 'ibc', 'jered', 'troway', '15:50', 'birthday', 'unreproved', 'connecting', 'profuse', 'scold', '40:33', 'ugliness', 'ascend', 'grand', 'johnny', 'scattereth', 'dissemble', 'chester', 'followeth', 'elishah', 'h.r.', '23:8', 'deprecation', \"purpos'd\", 'tent', 'sanely', 'badly', '47:22', 'cetacean', 'ire', 'escape', 'basketed', 'zacharias', 'peter', 'afterward', 'sleeper', '250,000', 'flashy', 'indelicacy', 'waiting', 'nz', 'macedonian', 'jaaziah', 'assigned', 'zarrab', 'likening', 'likely', 'shimshai', '33:16', 'depicting', 'toth', 'theame', 'polynesia', 'keepe', 'offscouring', 'patrician', 'seuerall', '58:7', 'huffington', 'reminder', 'volley', 'horridly', 'lapland', '44:11', 'sheleph', 'redwing', 'cried', 'michelle', 'martha', '8:4', 'sang,--', 'publike', 'moralist', 'ceaseless', 'shobai', 'bendeth', 'arbitrary', 'snowy', 'kosmos', 'recited', 'walla', 'better.--', 'hate', 'rag', 'hautboy', 'foresight', 'havoc', 'loudly', 'scarse', 'detestation', 'hamath', 'hinnom', 'monde', 'celebrate', '59:10', 'mattis', 'little', 'whore', 'changed', 'walsh', 'healthiest', 'anticipation', 'barnardo', \"remember'd\", 'diet', 'leaky', 'but', 'jarrett', 'woe', 'mysteriously', \"blanch'd\", 'easing', 'clemency', 'prof', 'patriotism', 'referral', '26:1', 'aftermath', 'shaded', 'uniformly', 'shred', 'tarshish', 'filleted', 'fluid', '26:3', '6:35', '18:30', 'comfortless', 'upkeep', '20:8', 'volubly', 'osha', 'smother', 'jeconiah', 'wan', '30:20', 'proceeding', 'collect', 'conjurer', 'unadorned', 'thundereth', 'objection', 'cullest', 'spacex', 'calculated', 'bocheru', 'parthenon', 'on', 'arrant', 'opiate', 'jahaz', 'haggith', 'gayne', 'frameth', 'parlor', 'saving', '3:1', 'riphath', 'sock', 'topless', 'swimmer', 'unmanageable', '40:34', 'obededom', 'spluttering', 'lodger', 'accused', 'involuntary', 'truculent', 'marie', 'ushered', 'emerods', 'earthquake', 'proper', 'harriet', '5:28', 'delirious', 'intervene', 'expired', 'davy', 'everything', 'philistine', 'assir', 'iris', '22:24', 'visionary', 'wireless', '41:26', 'cherry', 'vessell', 'nuee', 'infirmity', 'frontrunners', 'obscure', 'matsushima', '1:3', 'conquest', '27:46', '15:29', 'inhabiting', 'hefner', 'condescension', 'leicester', 'ineffably', 'fighteth', 'twisted', 'shuffling', 'snort', 'naturalist', 'ground', 'defraud', 'pinched', 'weariness', 'comfortably', 'loafing', 'averted', '22:37', 'couldest', 'companion', 'controuersie', '27:44', 'nerve', 'revive', 'hissed', 'annually', 'observer', 'needest', 'baronetcy', 'bombed', 'soil', 'throttled', 'resemblance', 'ardent', 'payoff', 'torrid', 'wandereth', 'malicious', 'prevail', 'cargo', 'outspread', 'audacity', 'divination', 'ronald', 'loss', 'incomparable', 'ionia', 'recounted', '300mw', '4:21', 'nest', 'interpreter', 'rejoiceth', 'perplexing', 'benefited', 'astonishingly', 'wedding', 'omitted', 'corrupt', 'scrape', 'refute', 'worn', 'angelick', 'affectedly', 'appall', 'scalloped', 'shetland', 'obstetrics', 'pedigree', 'obviate', 'eyre', 'kindled', 'impartially', 'iudge', 'ibleam', 'sentimentally', 'forbes', 'paumanok', 'fainting', 'shaketh', 'blameless', 'progress', '24:47', 'slacken', 'cnn', 'lightens', 'musketry', '14:14', '49:25', 'assisted', 'profess', 'savest', 'cato', '3:12', 'artificial', 'perpetually', 'shrunke', 'enfeebled', 'purpose', '19:6', 'expedient', 'disclaimer', 'gorgon', 'musket', 'thankfulness', 'tout', 'supreme', 'whoop', 'oak', '6:22', 'appeal', 'robert', 'forrest', 'soultry', 'stopped.--emma', 'bolsonaro', 'trainee', 'coincide', 'requirest', 'deliveredst', 'comparative', 'possibility', 'charme', '34:6', 'stunsail', 'rich', 'weapon', 'laadan', 'erring', 'mcenany', 'alma', 'barack', 'rise', 'immorality', 'poll', 'merging', 'six', 'reauthorization', '27:43', 'atlantica', 'perpetuated', 'tendon', '12:9', 'acted', 'overseas', 'eden', 'barbarous', 'clothes', \"c'est\", 'portable', 'moorish', 'pan', 'doxology', 'trespass', 'leaveth', 'stall', '23:12', 'unhappily', 'constrained', 'aduantage', 'lehi', 'distension', 'pageant', 'ashchenaz', 'cto', 'clan', 'popularity', 'embryo', 'uncomfortable', 'consider', '32:27', 'vicar', '11:29', 'sneeze', 'rendered', 'lowd', 'scaramucci', 'foal', 'defense', 'adbeel', 'beckham', 'lease', 'grassley', 'huskily', 'chiswick', 'accounted', 'saxon', 'seriousness', \"seiz'd\", 'foreshortened', 'ali', 'wish', 'wildfire', '1k', 'cole', 'humbly', 'zin', 'deepe', 'gingrich', 'slimmed', 'hog', 'midshipman', 'of', 'aquila', '1970s', 'artificer', 'munition', 'scene', '5:30', 'sorceress', 'curled', 'mildest', 'disciple', 'moabite', 'copiousness', '43:15', 'ceasefire', 'payroll', \"cherish'd\", 'half', 'dotted', 'holocaust', 'testifiedst', 'behest', 'clanking', '27:1', 'enlargement', 'irma', 'japheth', 'corroborate', 'marksman', 'smite', 'endanger', 'enrolled', 'yacht', 'college', 'aristocratic', 'erastus', 'graciously', 'me----', 'macbooks', 'lint', 'globe', 'straitened', 'summon', 'methuselah', 'theological', '65:11', 'midget', 'glancing', 'jumper', 'pricking', '22:38', 'jackson', 'mcconnell', 'deported', 'deafening', 'citizenship', 'courtier', '34:26', 'fleance', 'pete', 'kathy', 'tam', 'notch', 'erred', 'delhi', 'barrowful', 'profound', 'stefanik', 'cheapest', 'seize', 'highland', 'tingled', 'mournfully', \"thank'e\", 'animal', 'liked', 'supplied', 'cals', 'when--', 'formed', '48:29', 'wigwam', 'errant', 'three', 'woodstock', 'carat', 'masked', '1984', 'continued', 'pitched', 'design', 'exert', 'unreal', 'commandedst', 'candelabra', 'farre', '7:67', 'kittim', 'zuph', '34:15', 'pique', 'penitence', 'backpack', 'earneth', 'tutored', 'circumcised', 'spurn', 'eloping', 'smuggling', 'indelible', 'perched', 'descending', 'familiar', 'sweated', 'monthly', 'gaiter', 'knocking', 'rhododendron', 'improvement', 'apparition', 'invention', 'cap', 'upholdeth', '66:7', 'hallooing', 'catching', 'inscrutable', 'valet', 'dropsy', '1775', 'amasai', 'spakest', '16-year', 'hewed', 'extension', 'panted', 'stir', 'doral', 'gracious', '9/11', 'fourscore', 'phil', 'clip', 'whensoever', '2:24', 'godliness', '3:51', 'fattest', 'a', '24:30', 'insider', 'incurable', 'redness', 'completing', 'saue', 'gerrymandered', 'indignation', 'splendid', 'condescend', 'camera', 'index', 'vast', 'unfolding', 'trimmed', 'obligingly', 'shaster', 'amid', '3:20', 'hadar', 'bildad', '31:25', 'vancouver', 'repressed', 'expell', 'simpered', 'peerage', 'captain', 'paternity', 'spat', 'fathom', 'basement', '7:22', 'topple', '10:29', '1:47', 'pell', 'showery', 'paved', 'gloomily', '9:8', 'philadelphia', 'navajo', 'phoned', 'theophilus', 'unpopular', 'yee', 'sulphur', 'lurching', 'scuffling', 'enrique', 'claire', 'legitimate', 'warmbier', 'unintentionally', \"hallow'd\", 'batchellor', 'cere', 'envied', 'tithe', 'g-20', 'wine', 'delta', 'warrant', 'presented', 'changeless', 'shipyard', 'craziest', 'propped', 'coffer', 'estimated', 'bochim', '42:10', 'ig', 'containing', 'passover', 'privatize', 'alleged', 'charming', 'trickling', 'dumbly', 'bryant', 'demeaning', '6:31', 'grime', 'undressed', '6:1', 'unkind', 'surpass', 'garb', '14:46', 'hamutal', 'prized', 'watson', 'conjecturing', 'stept', 'creates', 'bernice', 'supermarket', 'fairyland', 'inclined', 'greatcoat', 'studied', 'nancy', \"smother'd\", 'tutor', \"diseas'd\", 'temper', 'swearer', 'heightens', 'handing', 'instrumental', 'exempt', 'finely', 'soap', 'empowered', 'beggar', 'unpossibility', 'exonerated', 'stayes', 'technically', 'blowne', 'lyric', 'gradually', 'regardest', 'oughts', 'balak', 'twain', 'overcharged', 'rewardeth', 'eidolons', \"and't\", 'sued', 'shemariah', \"seem'd\", '49:19', 'dauntless', 'broth', '13:14', 'jozadak', 'hacking', 'sighted', '16:15', 'snapping', 'zilpah', 'contortion', 'digest', 'inexpressible', 'hol', 'vehemently', '22:50', 'speculator', 'acid', 'viscount', '22:12', 'reverend', 'sheepshearers', 'semi', 'pentecost', \"arm'd\", 'swell', 'fallow', 'sympathetic', 'embodying', 'gabriel', 'approves', 'habergeon', 'revealed', 'baptism', 'trial', 'shout', 'capitulation', 'yup', 'intensifies', 'annulled', 'ono', 'furrow', 'evolving', 'opposition', 'harrow', 'midwest', 'criticised', 'o’keefe', 'attained', 'furthest', 'preside', 'driven', 'anatomist', 'stilled', 'sprout', 'depraved', 'asahiah', 'and', 'objecting', \"cook'd\", 'sanctified', 'obediently', 'jekamiah', '23:29', 'echoed', 'awfulness', 'bubble', 'natiue', 'watry', 'whale', 'jobless', 'popil', 'benjamites', 'happened', 'mire', 'queer', 'mildness', 'costa', 'sylvester', 'grumbly', 'tesla', 'thinker', 'shaft', 'vnto', 'felony', 'amos', 'visibly', 'nasty', 'creak', 'healthful', 'advancing', 'cradle', 'emmer', '27:35', 'parteth', 'hears', 'lusty', '27:23', 'elect', '10:19', 'preeminence', 'cancel', 'pinion', 'globular', 'metalhead', '32:35', 'caesar', 'unloose', 'book', 'field', 'lamenting', 'pimp', 'standoff', 'slide', 'guy', 'swear', 'knotty', 'dismall', 'casteth', 'evangelist', 'appar', 'vain--', 'naamathite', 'latent', 'vntimely', 'vegetation', 'tied', 'contemplative', 'decrepitude', 'heauie', 'markle', 'devoureth', 'hunch', 'storm', 'disorderly', 'verb', 'glamys', 'pyongyang', 'cly', 'principal', 'witnessed', 'hotly', 'egotism', 'accumulating', 'kind', 'nashville', 'shabbiest', '4:26', 'lullaby', 'professedly', 'arrowes', '15:13', 'prelude', 'relish', 'framing', 'ministering', 'footed', 'girding', 'bernie', 'communion', '--or', 'naaman', 'airborne', 'swordsman', 'tertullus', 'feete', 'auschwitz', 'inflict', 'acknowledged', 'budapest', 'grotesque', 'suburb', 'jersey', 'zelek', 'axletree', '28:24', 'manuel', 'motel', 'changest', 'immediately', 'decode', 'indictment', 'apologised', 'sufficeth', '39:29', '14:26', 'surroundings', 'owed', 'yellowstone', '22', 'criticized', 'firmness', 'campbell', 'cray', 'impervious', 'sixteenth', \"toss'd\", 'lectured', 'vertical', '7:29', 'ugly', 'prophesieth', \"abandon'd\", 'obtained', 'speciall', '31:6', 'ringstraked', 'atheism', 'discharge', 'netting', 'transom', 'conveyed', 'homewards', 'mischance', 'mischeefe', 'realist', 'olden', 'parried', '45:19', 'fault', 'basin', 'fetched', 'protects', 'adde', 'vagary', 'could--', 'erection', 'emerged', 'nimbus', 'forecastle', 'accompany', 'vienna', 'am', 'seen', 'retaliation', 'gratitude', 'refreshingly', 'abolishing', 'receiver', 'network', 'disliked', 'vigorous', 'unrest', 'frigate', 'secretly', 'sweeten', '31:7', 'approbation', 'piney', 'agony', 'solidity', 'demon', 'sentry', 'montenegro', 'behind', 'described', 'stopping', 'cairo', 'symptom', 'to--', 'watchfulness', 'lacked', '5:1', 'netophathites', 'wonderful', 'dept', 'travailed', 'leaving', 'driver', 'reubenites', 'mortall', 'caius', 'pitiful', 'walke', 'carest', 'crab', 'vlcerous', 'haunted', 'slowness', '8:37', '31:15', 'haughery', 'popped', 'scam', 'gaff', 'inequality', 'lindsey', 'match', 'gemini', 'unespied', 'foul', 'convocation', 'kidron', 'vnderstood', '7:42', 'pale', '4:28', 'rationale', '49:6', \"smear'd\", 'liued', 'eminem', 'copestone', 'bigot', 'portfolio', 'daniel', 'simplest', 'shechem', \"camp'd\", 'imperceptible', 'blain', 'probably', 'thundering', 'admired', \"fail'd\", 'decapolis', 'behaviour', 'cloake', 'gilead', 'resolutely', 'glued', 'cycle', 'margin', 'cheating', 'sacrificed', 'virtual', 'prune', 'exit', 'accosted', 'gifted', '24:7', 'it.--', 'credibility', 'battaile', 'deliria', 'conference', 'lady', 'jamming', 'unsuited', 'ephrathite', '22:8', 'guileful', 'grant', 'cowper', '17:14', '59:1', 'airline', 'nutrition', '6:71', 'blown', 'flagon', 'mantra', 'depression', 'sociably', 'hamilton', 'prowess', 'despondent', 'japhlet', 'gait', 'maintains', 'conversion', '               ', 'elia', 'jae', 'sharezer', 'concave', 'sadoc', 'ahithophel', 'unfolds', 'should', 'escaped', 'frode', 'elipheleh', 'sticke', 'landed', 'carpet', 'abishai', 'mercedes', 'mistah', 'indescribable', 'royce', 'organised', 'fencer', 'essex', 'dispensation', 'naboth', 'michmethah', 'safe', 'texas', 'dreames', '--goldsmith', 'takedown', 'eliakim', 'card', '54:7', 'verizon', 'merchantman', 'jobab', 'poureth', 'uninterrupted', 'february', '31:24', 'withdrew', 'warning', 'revenue', 'unforeseen', 'darkening', 'consuming', 'vapor', 'starboard', \"accomplish'd\", 'naturedly', 'sarid', 'merrier', 'statement', 'symmetrically', 'been.--', 'buzzer', 'shift', 'terrorist', '36:11', 'hang', 'rigour', 'choose', '5:11', 'falsehood', 'meted', 'superiour', 'attend', 'wincings', 'invoking', \"us'd\", 'concupiscence', 'threshold', 'clergyman', 'powerfully', 'flank', 'auction', '36:3', 'armhole', 'turkish', '22:51', 'engrossing', 'stoppeth', 'zellweger', 'environs', 'form', 'jeush', 'brilliancy', 'planteth', 'bequeathed', '5:6', 'collins', 'againe', 'smith', 'muskrat', 'contracted', 'overjoyed', 'rid', 'deceitfull', 'stubb', 'entrenched', 'asks', 'mark', 'flinty', 'surname', 'touch', '37:30', 'gamming', 'truely', 'finery', 'snowden', 'assault', 'heresy', 'shrunk', 'ravenous', 'superstitious', 'zemaraim', 'drat', 'hirsch', 'narrator', 'pitchfork', 'clifton', 'disappointment', 'brave', \"back'd\", 'provident', 'prophetic', 'dragon', '46:19', \"temper'd\", 'minute', 'imago', 'prank', '22:29', 'encamping', 'falser', 'particularly', 'i.', 'lover', 'yates', 'migrating', 'cook', 'violent', '3:28', 'centrifugal', 'blast', 'directeth', 'hat', 'espousal', 'uncaught', 'emma', 'pleaded', 'jewel', 'florida', 'erecting', 'collecting', '28:29', 'gras', 'gloomiest', 'regained', 'integrative', \"purg'd\", 'impeached', 'goat', 'called', 'blackish', 'curacy', 'griefes', '20:1', 'tributary', 'moored', '7:16', 'thebez', 'begets', 'hakan', 'taskmaster', 'therewith', 'weinstein', 'referencing', 'tyranny', 'outweigh', 'onpolitics', 'needlework', \"goin'\", 'merged', 'scraped', '59:3', 'libnah', '20:14', 'abigail', 'despatch', '40:18', 'unfortunately', 'admits', 'laving', 'complex', 'chronicled', '34:35', 'unsolved', 'bonus', 'scribe', 'cotton', 'you.--', '2:19', 'insolently', 'mourns', 'deaf', 'stirred', 'related', 'poignant', 'lizza', 'urania', '  ', 'bribed', 'profiting', 'pocketful', 'polishing', 'priory', '24:15', 'menstruous', 'infidel', 'osiris', 'polling', 'defyingly', '44:24', 'giddel', 'homeland', 'concealed', 'melted', 'baalzephon', 'ecclesiastical', 'languishes', 'extremist', 'miamin', 'outlining', 'restructuring', 'disinherited', 'cyberbullying', '52:7', \"harden'd\", '38:28', 'fagggots', 'candy', 'inkstand', 'silvery', 'frivolity', '9:1', 'spitzbergen', 'ouer', 'whereat', 'leeway', 'them--', 'flapper', 'spirit', 'proboscis', 'athenian', 'listening', 'mining', 'unasked', 'follow', 'rev.', 'pomp', 'sunken', 'abundantly', 'flaunt', 'buz', 'ribbon', 'impatiently', 'severed', 'chasticement', 'edged', 'hooped', 'unbroken', 'lurid', 'uphaz', 'pluckt', '8:47', 'helplessly', 'martyr', 'billie', 'arbor', 'flock', 'thrilling', 'vertuous', 'coniah', 'merciless', '14:39', 'pugh', 'tartan', 'competence', 'baalim', 'minding', 'tousled', 'champion', 'canker', 'shammah', '3:7', 'vashti', 'highminded', 'zelia', \"call'd\", 'swam', 'forbore', 'lewis', '33:20', 'watcher', 'abolish', 'tabbaoth', 'admittance', '15:40', 'giving', 'prating', 'herself--', 'imaginable', '40:4', 'precipitating', 'erudition', 'naked', 'freer', 'shee', 'chaldee', 'tends', 'inexperienced', 'deny', 'articulated', 'mentioned', 'unequalled', 'shiny', 'desist', 'wrapping', 'caprice', 'finalist', 'ulai', 'harness', 'sympathising', 'insensible', 'solitarily', 'unsolvable', 'strewn', 'accuracy', 'allowed', 'subsist', 'involution', 'reflects', 'dye', 'equine', 'merely', 'euen', 'untried', 'concernment', 'tardy', 'selfish', 'vaunting', 'trembleth', 'shoe', 'fledge', 'commit', 'nietzsche', 'useth', 'jig', 'believest', '16:22', 'ake', '49:21', 'chopping', 'fibrous', 'yet', 'jehovah', 'sibbechai', 'probation', 'modification', 'lst', 'overdoses', 'barter', 'topic', '35:21', 'gr', 'taketh', 'jointure', '3rd', 'noose', 'soules', 'thel', 'inexorable', 'moe', 'unutterable', 'misuse', 'quiescent', 'mislead', 'dasheth', 'paso', 'froome', 'milked', 'carter', 'evangelical', 'vpon', 'accordant', 'staffer', \"unform'd\", \"was't\", 'macedonia', 'cricket', 'sink', '35:24', 'requesting', 'tooth', 'cosy', '1:25', 'dullness', 'b', 'sane', 'describe', 'intercepted', 'bastard', \"i'th\", 'castle', '50:20', 'breech', 'dashed', 'misconception', '6:10', 'ho', 'friendliest', 'impede', 'shit', '2:7', 'vacant', 'unwashen', 'frolic', '10:25', 'torre', 'wonderous', 'shut', 'stately', 'swallowing', 'sloped', 'unshaken', 'viewing', 'shelomoth', 'finisher', 'bruit', 'stormy', 'rattled', 'waterward', 'nightly', 'patrol', '48:30', 'persisting', 'vole', 'felicity', 'mentioning', 'mic', 'gateshead', 'lothe', 'covetousness', 'still', 'howard', 'buzzard', 'briefe', 'oakly', 'reconciled', 'housemaid', '14:44', 'amidst', 'cheek', 'clamorous', 'chattering', 'rica', 'millennials', '4:10', 'liues', 'answerer', 'jackanapes', 'rnc', 'anyway', 'responsible', 'blackburn', 'vnderneath', 'youngster', 'redeemeth', 'czech', 'wick', '66:8', 'uglier', 'resisting', 'abounding', 'infaith', \"link'd\", 'argosy', 'pharma', 'orison', 'landscape', 'appeare', 'ebony', 'struggled', 'royal', 'hushai', 'travolta', '18:38', 'apprehension', 'uninformed', 'grained', 'appealed', 'pawse', 'adopt', 'ethic', 'voice', 'ankers', 'intestine', 'seconded', '51:8', 'skyward', 'jehoiarib', '22:27', 'compiles', '31:13', 'suspicion', 'oppress', 'co', 'totally', 'trivial', '18:43', 'craven', 'endued', 'prestigious', 'glide', 'drench', 'unelectable', 'caught', 'gibbethon', 'audible', 'carnal', 'road', 'buffoon', 'rider', \"sign'd\", 'discomposed', '25:6', 'zoology', 'adviser', 'prepare', 'staggered', 'goodwin', 'carefulness', 'francesca', 'j.k.', 'roast', '737', 'eater', 'perilously', 'bruite', 'revealing', '100,000', '                                        ', 'strenuous', 'proffer', 'hunt', 'answeredst', 'stipulate', 'baronial', 'oppresseth', 'boneless', 'collected', 'legges', 'leftist', 'inevitable', '<', 'ultrasonic', 'sidonians', 'esquimaux', 'fearefull', 'godfather', 'gomer', 'voluble', 'viewed', 'interlude', 'ophir', 'gov.', 'ramble', 'grog', 'forenoon', 'rarely', 'obscurity', 'necklace', 'islet', 'venerealee', 'claude', '19:40', 'apostate', 'plowshare', 'lit', 'red', 'incidentally', 'labial', 'deregulation', 'conversational', 'motley', 'pulpit', 'circumspect', 'according', 'winging', '25:29', 'admissible', 'toyle', '32:36', 'engulfed', 'unusual', 'football', 'chilion', 'daresay', 'jerome', 'mourned', 'toad', 'sylph', '47', 'defenced', 'abba', '57:10', 'ducked', 'hardeneth', 'indignantly', 'joosy', 'e.p.a.', 'focused', 'bureau', '34:4', 'yaw', 'unpremeditated', 'slouched', 'acorn', 'brimming', 'befallen', 'gaffman', 'rum', 'libidinous', 'expands', 'stockinged', 'ingrate', 'newly', 'exquisite', 'belongeth', 'large', 'lank', 'mightest', 'carson', 'learnt', 'charnel', 'worshipping', 'saying', 'lounged', 'guinea', 'sidon', 'conical', 'sheer', 'bouquet', 'ziza', 'hkfp', 'operates', 'discipline', 'doze', 'presides', 'whip', 'dc', 'usefulness', 'alternate', '11:2', 'cymber', 'cheese', 'proteus', 'scratch', 'vineyarder', 'inevitably', '13:19', 'bored', 'ajalon', '1:36', 'haggle', 'afd', 'ajar', 'stammer', 'tranquil', 'obeyeth', 'fallacy', 'mortifying', '32:16', 'gadi', 'american', 'wager', 'gorsuch', 'surplus', 'rambling', 'truest', 'consisting', 'doused', 'blacklist', 'lard', '7:69', 'publius', \"wee'l\", 'reviving', 'circumstance', 'wallow', 'mightier', 'priceless', 'but--', 'feb.', 'requisition', 'constancy', 'zibeon', 'unfit', 'charcoal', 'impoverished', \"woo't\", 'winded', 'leysure', 'accurately', 'hue', '2:4', 'rt', 'ah', 'faithfull', '18:20', '17th', 'defender', 'whereto', 'feathered', 'consolation', 'informed', 'aught', 'examination', 'subscription', 'royall', 'blundering', 'solution', 'eminent', 'frontispiece', 'controversial', 'seizes', 'animating', 'frightful', 'mither', 'flattening', 'waifing', '3,045', 'sekulow', 'disposal', 'persuadeth', 'ken', 'excellency', 'peeling', '61', 'simeonites', 'indulge', 'martial', 'dissolute', 'riven', 'spoken', 'craftiness', 'cathnes', 'twin', 'leaved', 'hie', 'slump', 'overturneth', 'construction', 'tempest', 'floating', '50:23', 'azaliah', 'flap', 'normally', '13:11', 'inform', 'pantheist', 'japanned', 'bait', 'levy', 'huge', 'clashing', 'inconsolable', 'mahershalalhashbaz', 'digged', 'weans', 'liberalism', 'advanced', 'uncover', 'mouncht', 'iphone', 'greet', 'stronger', 'admit', 'eyelash', '49:29', 'sittest', 'resentment', 'shorn', 'honiton', 'crumb', 'outcome', 'openeth', 'servant', '59:8', 'applying', 'rohrabacher', 'nibbling', 'located', 'impenetrably', 'reorganized', 'persuasive', 'seaside', 'gird', 'bewail', 'brass', 'raise', 'suspends', '40:7', 'emerge', 'adverse', 'sri', 'riveting', 'standing', 'manahath', 'lapped', 'pondered', 'eyeful', 'zacchaeus', 'sultan', 'locke', 'incivility', 'barrymore', 'shaveh', 'porter', 'steadily', 'aggravation', 'gentiloni', 'coral', 'distilled', 'niro', '19:9', 'dingy', 'onesiphorus', 'pattern', 'seizing', 'entranced', 'succoth', '8:42', '15,413', 'missile', 'rusty', 'impending', 'twoedged', 'shiite', 'tinkling', 'proportion', 'fairly', 'disfigure', '22:16', 'wielding', 'visitant', 'woos', 'subvert', 'tottering', \"remov'd\", 'girt', 'britain', 'activism', 'along', 'dismantled', '3:2', 'nose', '27:20', 'unfettered', \"o'er\", 'musick', 'handsome', '31:22', '18:16', 'readily', 'alienated', 'monopolising', 'pestilence', 'spake:--', 'clipper', 'harmed', '21:16', 'reuters', 'enticing', 'inculcated', 'answer', 'absurdly', 'attachment', 'subconsciousness', 'avith', 'coincidence', 'masterless', '29:6', 'beholdeth', 'he', 'rejecting', 'reagan', 'olympus', 'automaton', 'impressive', '19:20', 'vagrant', 'museum', 'jezreel', 'pipeline', 'stalked', 'come', 'cicatrice', 'lacking', 'unanswerable', 'granting', 'unaffectedly', 'creaking', '200', 'racism', 'toil', 'parrot', 'division', 'thresh', '51:20', 'elealeh', '2:41', 'endurance', 'disintegrated', '36', \"launch'd\", 'living', 'berth', 'glory', 'appellation', 'eate', 'aide', 'altar', 'addressed', 'google', 'mistifying', 'ix', 'imported', 'spokesman', 'slantingly', 'symphony', 'knitting', 'knoweth', 'ephrath', 'rechabites', 'louer', 'wuhan', 'shawl', 'traversing', 'disclosed', 'excels', 'levee', 'inflaming', 'blunt', 'auto', '16:33', 'car', 'roamed', 'amusing', 'bethought', 'easily', 'arisaig', 'ocean', 'stalk', 'dolores', 'energetically', 'communism', 'partook', 'brag', 'bolivian', '10:43', 'receiveth', '7:32', 'hath', 'count', '12:43', 'beautiful', 'foundest', 'phurah', '10,800', 'dilatory', 'dinesh', 'volcano', 'struggle', 'labelled', 'dilemma', 'inslee', 'unaccompanied', 'maryam', 'compose', 'sling', 'homophobic', 'subdued', 'intellect', 'blackout', 'stadium', 'lawsuit', 'vail', 'voyces', '37:18', 'existence', 'concentrating', 'travel', 'arises', 'usurping', 'vestige', 'polynesian', 'transgressor', 'adorned', '32:21', 'overseer', 'quinta', '32:10', 'accidental', 'shaping', 'robustness', 'upturn', 'scalded', 'ekron', 'ovation', 'apathy', '2016', 'lod', 'brighton', 'tremble', 'spermaceti', 'denuclearization', \"bequeath'd\", 'epher', 'centurion', 'sedition', 'recognition', 'remoue', 'philemon', 'profundity', 'cabaco', 'slovenia', 'malchijah', 'lance', 'useless', 'shark', 'christ', 'languished', \"finish'd\", 'hey', 'feed', 'barbed', '22:14', 'leading', 'hopelessly', 'restoration', '66:13', 'intricate', 'classify', 'gunmam', 'esteemed', 'agagite', 'adria', 'revengeth', 'snare', 'gregarious', 'piss', 'scaled', 'dalrymple', 'care,--_but', '2:9', 'takeover', 'sense', 'mossy', 'indifferent', 'oftenest', 'dothan', 'sinai', 'spherical', 'rainy', 'usest', 'english', 'transfer', 'encouragement', 'bolt', 'cononiah', 'approue', 'purport', 'bason', 'budge', 'bethany', 'refreshing', 'secret', 'neared', 'trotting', 'lender', 'hide', 'apparation', 'bebai', '10:18', 'conduct', 'knit', 'deport', 'destined', 'kidnapping', 'dreamt', 'back', 'wrecking', 'merari', '8:31', 'methodically', 'scuttle', 'queen', 'feedest', 'unpunished', 'turnout', 'arsenal', '37:29', 'disapproves', 'walter', 'greatnesse', 'rustle', 'dwells', 'crushing', 'powered', 'it?--i', 'chaotic', 'prolonging', \"o'-shanter\", 'afterwards--', 'lethargic', 'outpost', 'tiller', 'minnesingers', '11:22', 'deliriously', 'roving', 'blonde', 'hope', 'compost', '15:44', 'projection', 'astern', 'buoyantly', 'birnane', 'hittite', 'productive', 'volatile', 'weakening', 'macy', 'overlaid', 'wiues', 'jinping', 'inflicting', '70', 'visage', 'nomad', 'weaknesse', 'safer', 'herodias', '7:66', 'exam', 'tasked', 'stabbing', 'producer', 'shifting', '14:50', 'jr.', '24:5', 'ain', 'havilah', 'duelling', '16:24', 'retorted', 'kindling', '21:36', 'troublesome', 'freshly', 'flowering', 'flaneur', '2:51', 'varied', 'declare', 'competition', 'cushion', '2011', 'inducing', 'assiduity', 'lawlessness', 'wreathed', 'intreaty', 'gushing', 'time', 'potentially', 'goo', 'provoketh', 'antipode', 'anyrate', 'ahitub', 'farthing', 'wagga', 'joyful', 'supercilious', 'diamond', '13:8', 'trauma', 'pedro', 'fooling', 'undiscernible', '31:39', 'smile', 'worth', 'fisher', 'sausage', 'confluent', '46:1', 'earlier', 'famine', 'gennesaret', 'falleth', 'brawn', '--thomas', 'henrietta', 'fulfil', 'cape', 'unknowing', 'superfluous', 'epaminondas', 'depicted', 'overtakes', 'bally', '4:37', 'joses', 'theme', '28:10', 'fyre', 'reproaching', 'land', 'blockhead', 'mid', 'punctual', 'noonday', '44:4', 'redeeming', 'beware', 'genus', 'flex', 'eare', 'uproar', 'tertia', 'toronto', \"travel'd\", 'banged', 'unfriendly', 'conceited', 'traine', 'arch', \"shelter'd\", 'bounty', 'modify', 'lower', 'sawest', 'scamp', 'intelligent', 'vx', 'nestorius', 'magnifick', 'forgiving', 'importance', 'picturesquely', 'vestment', '24:52', 'witcher', 'actual', \"mouth'd\", 'ziph', 'adp', 'declassifies', '8:50', 'gamble', 'mibsam', 'arrogance', 'braue', 'decisive', '25:1', 'restricts', 'denizen', 'lamech', 'inobled', 'spittle', 'knowledge', 'entertainer', '12:34', 'cried--', 'eliah', 'copious', 'aloe', '5:21', 'ambrosial', 'taliban', 'brinded', 'awfully', 'cyberweapons', 'pooley', 'flute', 'tweeted', 'tarry', 'celebrating', '120', 'chatted', 'zeruiah', 'wailing', 'wauing', 'stoned', 'ability', 'philippine', 'coming.--', 'feare', 'watt', 'whalebone', 'pearle', 'inhuman', '23:43', 'lucillius', 'skald', 'scotcher', 'expostulation', 'darknesse', 'stedfast', 'treaty', '1791', 'crispy', 'astonishment', 'thammuz', 'attai', 'ang', '9:57', 'pacifieth', 'ahab', 'thronging', 'likest', 'bulky', 'disagreement', 'tiberias', 'commonalty', 'unknown', 'saginaw', 'divorcement', 'for--', 'indestructible', 'her', 'advertiser', \"prick'd\", 'nearest', 'eli', 'steale', 'hurting', 'diverse', 'grin', 'liberality', 'mooue', '20:34', 'bragg', 'forsooth', 'heifer', 'gowland', 'answerd', 'gold', 'abruptly', 'birthrate', 'henchman', 'accountability', '19:30', 'shiver', '11:39', 'twelvemonth', 'possibly', 'deeply', 'repulsive', 'shrugged', 'nature', 'snaky', 'nipped', 'resolution', 'slender', 'antiquated', 'digression', 'hailstone', 'thankless', \"dy'de\", 'react', 'horseman', 'passport', 'kiriathaim', 'confection', 'vociferation', 'shore', 'strengthened', 'submiss', 'shun', 'fixt', 'fixedly', 'decline', 'phase', 'sitter', '24:41', 'contentious', 'unseen', 'directing', 'assay', 'fcc', 'firepans', 'colour', 'hundredth', 'tychicus', 'marshalled', 'domesticity', 'considering', 'sealeth', 'editor', 'ezer', 'joiarib', 'account', 'wallises', 'circlings', 'chelub', 'maniac', \"i'd\", '8:35', 'breake', \"sway'd\", 'urim', 'sheepfold', 'helpeth', 'piteous', 'sintimint', 'regard', 'charley', 'spasmodically', 'amputation', 'rascal', '66:10', 'toyota', 'trolled', 'flooded', 'thirtie', 'stillness', 'buoyed', 'consistency', 'landskip', 'repel', 'singapore', 'warder', 'disclaims', 'hewer', 'missourian', 'dogges', 'gully', 'zipporah', '28:35', 'display', \"rous'd\", 'larkins', 'concede', 'forefather', 'springeth', 'reversion', 'mp', 'panic', 'stumblingblock', '41:15', 'ziphites', 'juanita', 'doing', 'germ', 'eveningtide', 'intimacy', 'halted', 'sirion', 'shaalbonite', 'kusher', 'scandinavian', '8:29', 'dancing', '11:47', 'florist', 'turn', 'inattentive', 'bullet', \"appear'd\", 'chew', 'revives', 'transcribed', 'wholesome', '14:13', 'jupiter', 'bible', 'contrivance', 'vatican', 'blandness', 'leer', 'lydda', 'mayest', 'switch', '37:21', 'wrinkle', 'coverest', 'hatefulness', 'boxer', 'tobijah', 'petrified', 'administer', 'flatter', '3:5', 'warranted', 'playhouse', 'impregnable', 'render', 'threepence', 'hammered', 'pekee', 'fanatic', '9:15', 'incestuous', 'top', 'repealing', 'thinke', 'contending', 'secondary', 'patience', 'sperry', 'towel', '21:18', 'creditor', 'comforteth', '85', 'cautious', 'hustle', 'poltroon', 'conspire', 'conflicted', 'urbanity', 'rob', 'perversely', 'chooses', 'zoetrope', 'margate', 'iliad', '16:2', 'leddest', 'rapturous', 'fruit', 'professional', 'personnel', 'inwardly', 'brought', 'aboue', 'differ', 'jaazer', 'drugg', 'parade', 'publick', 'whispering', 'detestable', 'fals', 'zeboiim', 'gard', 'shadiest', \"master'd\", 'spluttered', 'mistakenly', 'remembering', 'starlink', 'steadier', 'overthrown', 'shrub', 'recompences', 'assyria', 'jehiel', '36:34', 'ask', 'togarmah', 'sell', 'snow', 'thirty', 'passionately', 'tribe', 'me.--i', 'hartfield--', 'voided', 'shepherd', 'frock', 'enow', 'nato', 'detached', 'benioff', '4:42', 'lo', 'physic', 'platonian', 'burnished', 'greed', 'childless', 'garter', 'peach', 'motor', 'pursue', 'flow', 'booth', 'liberally', 'these', 'helper', 'philippi', 'moued', 'andersen', 'wearer', 'tested', 'impelling', 'offensive', 'pruning', 'masterly', 'sept.', 'genital', 'numerous', '15:19', 'tobacco', 'kicked', 'clave', 'gaslight', 'tahpenes', 'sawcy', 'rome', 'empire', '19:22', 'whereinto', 'alike', \"burn'd\", 'mat', '15:33', 'guiltily', 'enclosed', 'reminds', 'middleton', 'basil', 'unerringly', 'naphtali', 'roland', '64:7', 'coursing', 'meete', 'foole', 'mantle', 'ungodly', 'undetected', 'hummed', 'wittingly', 'unthinkingly', 'adonikam', 'sky', 'lighten', 'bulked', 'innermost', 'sydney', 'girded', 'dismissed', 'footman', 'digestion', 'unfastened', '15:52', 'confesse', '34:12', 'lessening', 'seminal', '28:22', '25:25', 'kneel', 'mysticetus', 'rationalistic', 'plow', 'promoted', 'add', 'annexed', 'bliss', 'mindedly', 'they', 'bladed', 'jacinth', 'eaten', 'defended', 'grenade', 'walking', 'respectably', 'riotous', 'olivia', 'vagabond', '26:62', 'helez', 'albeit', 'varley', '18:27', 'bene', 'sherd', 'palestinian', 'manilla', 'cheerfulness', 'represent', '629', 'establisheth', 'peddling', 'whether', 'leah', 'groomes', 'remove', 'vex', 'soon', 'excuse', 'asswaged', 'scruple', 'dismiss', 'widens', 'attenborough', 'rex', 'secresy', 'disappointed', 'kingdom', 'zaccai', 'averse', 'pleasanter', 'porridge', 'foreknew', '7:46', 'bathsheba', 'sort', 'increase', 'queerer', 'wight', 'march', 'blaspheming', 'quaintly', 'longer', '--the', 'account.--', 'meah', 'langsdorff', 'massa', 'submitted', \"follow'd\", 'chemosh', 'striveth', 'hardest', '4', 'visitation', 'depended', '4:4', 'cavil', 'rave', 'expert', '32:7', '25:44', 'boisterous', 'bourgeois', 'cheated', 'gabbard', 'him.--', 'feasted', \"should'st\", 'iphones', 'import', 'receiue', '7:51', 'fogerty', 'winding', 'chimham', 'agenda', 'component', 'honored', 'chastise', '              ', 'pretended', 'doubter', 'zechariah', 'froward', 'sheaved', '90', 'extending', 'bump', 'agnew', \"destroy'd\", 'confessed', 'cultural', 'gravely', 'sedona', 'admonished', 'dispossessed', 'bedlam', 'vnbraced', 'adulterous', 'binea', 'abyss', 'cultist', 'succeeding', 'wollemi', 'decayeth', 'gaffe', 'neighboring', 'flannel', 'incoming', 'vanishing', 'narration', 'naarah', 'starre', '5:13', 'baalpeor', 'recreate', 'plead', '64:8', 'adoram', 'bay', 'harvey', '20:46', 'pelisse', 'bered', 'del', 'bandit', 'powres', 'embroiderer', 'romancing', \"wer't\", 'duplicate', 'neuer', 'expectantly', '11:53', \"unperform'd\", 'holder', 'weal', 'rated', 'troubleth', 'reprehensible', 'fret', '25:9', 'bowsprit', 'constable', 'abominably', 'returning', 'pasteboard', 'hakupha', 'wilful', 'conversed', 'snatch', 'surlily', 'itching', 'unfold', '28:18', 'merit', 'platforme', '1:12', 'pizzagate', 'mercer', 'flu', 'leaf', 'doted', 'malchiah', 'diesel', 'withered', 'doc', '41:11', 'enforce', 'remaineth', 'perseus', 'enchanting', 'passed', 'worne', 'untouchable', 'again:--', 'affronting', 'canaanitish', 'supernal', 'arrow', 'export', 'picnic', 'chancery', 'ruinous', 'founded', 'brand', 'abashed', 'dippin', 'heraldry', 'senselesse', 'subtle', '36:7', 'factory', 'cheltenham', 'kadesh', 'measurement', 'phenice', 'anna', '27:31', 'lightness', 'internal', 'aspires', 'chess', 'uninhabited', 'lamp', 'deathless', '33:11', 'unappalled', 'dissolved', 'pyramid', '20:7', 'grimm', 'amasa', 'korea', 'businessmen', 'riddance', '34:3', 'gleamed', 'distrusted', 'sumptuously', 'bogberry', 'vi', 'interrupted', 'lightest', 'earth', 'profusion', 'wmd', 'slaues', 'rudeness', '8:43', 'sprint', '451', 'paine', 'prose', 'irrelevant', \"pitch'd\", 'parlour', 'footloose', 'generosity', 'jeopardizes', 'defector', \"kiss'd\", 'antibiotic', 'dishonesty', 'yankee', 'jug', 'balance', '          ', 'filledst', 'weibo', 'gale', 'valueless', 'pattering', 'airbnb', 'bieber', 'opportunity', 'estimable', 'relates', \"blabb'd\", 'scupper', 'abimelech', 'derail', 'unpoetical', 'rural', 'alb', 'heauen', 'change', '39:22', 'courtesy', 'tossings', 'striving', \"belov'd\", '33:30', 'tarlton', 'juice', 'foremost', \"one's\", 'gallup', 'gershon', 'expel', 'responded', 'despised', 'catalan', 'biden', 'withereth', 'mithcah', 'glistened', 'primal', 'pesant', 'kirjatharba', 'void', 'fancied', 'irradiate', 'climax', 'downright', 'ioyes', 'socoh', 'lydia', 'incredibly', 'burgess', 'yorker', 'insurer', 'burglar', 'oppression', 'jezebel', '3:9', 'iraqi', 'allon', 'cowdray', 'netanyahu', 'murphy', '15', 'bulrush', 'lighteneth', 'nahath', 'grave', 'good-', 'ashurites', 'dango', 'banning', 'presbyterian', 'buying', 'chechnya', 'sulli', 'machir', 'knight', 'fainteth', 'coating', 'nunnery', 'tashtego', 'revoking', 'advising', 'detained', '23:47', 'inconsiderable', 'kinsman', '39:16', 'angel', 'unmeaning', 'advantage', '3:10', 'lull', 'threatenings', 'calledst', 'consequently', 'locket', 'congratulated', 'ruth', 'launchest', 'negotiation', 'fetch', 'blower', 'incitement', 'ranting', 'entrepreneur', '13:56', 'malice', 'forever', 'said', 'russian', 'myraculous', 'silence--', 'gander', '25:26', 'desirest', 'civility', 'landmark', 'naasson', 'gazette', 'perturbed', 'hazarenan', 'beatrice', 'prudence', '22:28', 'simone', 'miriam', 'auspex', 'lycaonia', 'eyes--', 'tag', 'loyal', '8:26', 'deluge', 'impure', 'nafta', 'skylark', 'hearkeneth', 'retarded', 'nyt', 'embodiment', 'excursion', 'unwillingness', 'hawklike', 'apostleship', 'apish', 'succeeds', 'mere', 'laboured', 'do?--very', 'streamed', 'scarcely', 'pickle', 'steering', 'confers', 'ethical', 'mais', 'agate', 'dodo', 'bailey', '96', 'devoured', 'brig', 'roasted', '26:4', 'mishma', 'eo', \"interspers'd\", 'metellus', 'muster', 'powell', 'radiation', 'buffeted', 'succession', 'converting', 'obese', 'wagging', 'quitting', '23:31', 'usury', 'blackguard', '42:20', 'acre', 'teacup', 'widowed', 'disobeyed', 'interest--', 'conflict', 'remained', 'illustrated', 'theron', 'clay', 'trapping', 'uzzah', 'elisabeth', 'recollection', 'challenging', 'perceives', 'benghazi', '42:1', 'bloom', 'possessor', 'gilonite', 'adna', 'overture', 'cometh', 'bethhaccerem', 'bethaven', 'tutte', 'of?--', 'running', 'flax', 'dissatisfied', 'hush', 'dishonor', 'pier', 'outweighing', '76', 'gnash', 'ing', '15:55', 'woodhouse?--i', 'tackle', 'eludes', '26:30', '39:5', 'spoiled', 'haitian', 'manufacturer', 'electrocution', 'shuhite', 'afore', 'igal', 'hormah', 'gam', 'upheld', '17:38', 'name--', 'phalanx', 'grecian', 'querulous', '26:10', 'reunited', 'expand', 'speak--', 'brauely', 'dogmatize', '11:50', 'presaging', 'avast', 'yer', 'confirmeth', 'zone', '21:30', 'crawling', 'sincerest', 'jehoadah', 'zurishaddai', 'recognise', 'hickenlooper', '16:29', 'argent', 'followed', 'niggard', '25:16', 'chiefly', 'jenny', 'sarah', 'zebah', 'storing', 'solid', 'abode', 'tranquillize', 'i.r.s.', 'punishing', 'fanciful', 'aggravate', \"d'wolf\", 'renewed', 'tamer', 'twentieth', 'protecting', 'pulsation', 'hove', 'rhythm', 'slow', 'repent', 'funk', 'successful', 'wallet', 'yeoman', 'thought,--', 'plant', 'saturn', '58:9', 'amuses', '2:29', 'chuckled', 'jailed', 'choking', 'serug', 'afraid', 'stateliest', 'remonstrating', '47:4', 'chromium', 'visa', 'convict', 'afrin', 'chappelle', 'untouched', 'perseverance', 'polar', 'admitted', 'williamson', '12:7', 'pat', 'rogue', '57:11', 'anarchic', 'jair', 'talmai', 'lieutenant', 'adulting', 'much', 'omri', 'grampus', 'linkin', 'oaken', 'stud', 'mell', 'motioning', 'minced', 'refers', 'super', 'drest', 'padan', 'lucrative', 'voucher', 'demerit', 'dropping', 'misse', 'bake', 'flat', 'sphere', 'supremacy', 'salome', 'skelter', 'themselves', 'fluttered', 'jiankui', 'inaugurate', 'holiness', '1:27', 'quarrel', 'ayre', 'westward', \"pour'd\", 'sprain', 'carroll', 'hackt', 'swing', 'status', 'betimes', '37:11', 'sufficed', 'uneasy', 'vrge', 'lectern', 'discerns', 'enemy', 'thing.--', \"hook'd\", 'farwell', 'straine', 'stickytoes', 'explains', 'benignity', 'cafe', 'virus', 'january', 'witted', 'bashemath', 'broidered', 'engrafted', 'inimical', 'think----', 'sail', 'procuring', 'leveraged', 'colleague', 'aggressive', 'braided', 'ruffle', '19:36', 'dynamite', 'zte', 'credential', 'compute', 'sir', '55:4', 'delicately', 'commendeth', 'key', 'shrivel', 'unconsumed', 'transfigured', 'quarried', 'briefing', 'confidence', 'acknowledgment', 'unctuousness', 'bred', 'resigned', 'suppose', 'backward', 'apologises', 'peer', 'sermon', 'outsider', 'talke', '22:53', 'undiscoverable', 'sturdy', 'zoan', 'founder', 'listen', 'blasting', '37:17', 'impeach', '32:24', 'pince', 'javid', 'hammelech', 'hussey', 'mutilated', 'thoroughfare', 'exploded', 'allah', 'hayden', 'imbecility', 'bdellium', 'ivy', 'macaroon', 'schoolmaster', 'colhozeh', 'economical', 'resented', 'united', 'warre', 'oiled', 'delineation', 'cleare', 'makheloth', \"a'top\", 'forsaken', 'neck', 'illegal', 'tumultuous', 'subway', 'vigour', 'hoboyes', 'remaines', 'scurvy', 'annoy', 'hacked', 'precipitately', 'citigroup', 'tormentor', 'armenian', 'feared', 'advertised', 'sentest', 'professionalism', 'aristarchus', 'wilt', 'unrecorded', 'impertinently', '50:26', 'iceland', 'membrane', 'defer', 'elliots', 'officer', 'misled', 'browed', 'testy', 'quick', 'moonlit', 'baker', 'hansom', '27:34', '140', 'deservedly', 'analogous', 'necessity', 'spontaneous', 'dale', '31:47', 'chesterton', 'charmouth', 'dull', 'outpace', 'hungary', 'dead', 'shakily', 'yes,--i', 'sperma', 'propose', 'outdone', 'withstood', 'disdainfully', 'discretion', 'clifford', 'dealest', 'roman', 'solemnity', 'bloweth', 'habitual', 'correspondent', '39:24', 'unruly', 'justified', 'hartfield', 'remonstrance', \"thou'lt\", 'dress', 'mustered', 'b-1', 'plum', 'implore', 'cristiano', 'marchand', 'wending', 'thursday', 'authorised', 'driuen', 'expected', 'sorrow', 'cuttle', 'chocolate', '28', 'sinew', 'doubloon', 'adullam', 'quit', 'payer', 'owner', 'prophet', 'dweller', '14:38', 'score', 'popt', 'somerville', 'burgundy', 'efficient', 'behoved', 'stunned', 'falsely', 'speechless', 'carmelite', 'perish', '13:47', 'horn', 'demanding', 'defileth', 'mumbling', '                                             ', 'machine', 'treading', 'tranced', 'est', 'cavalier', 'perpendicularly', 'zepho', 'undersecretary', 'irregularly', 'classed', '12th', 'marvellous', 'publishes', 'litigate', 'underwent', 'horde', 'fowler', 'senior', 'abihail', 'dreadfull', 'scrap', 'sheath', 'evanescent', 'common', 'suddenly', 'gaseous', 'encamp', 'marine', '32:32', 'recital', 'mitigate', 'mount', 'exercised', 'droppes', 'n.y.', '20:22', '15:37', 'amazon', 'voicelessly', 'suppression', 'marc', 'ceremony', 'republic', 'churned', 'concert', 'brightening', '21:44', 'greece', 'vanity', 'implicit', 'sojourn', 'whomsoever', 'churn', 'brazen', 'overlapping', 'beeroth', 'outcast', 'shocking', 'marco', 'briar', 'healed', '9:33', 'assuring', 'duesseldorf', 'nocturnal', 'resolve', 'immortall', 'hostage', '26:32', 'approved', '2:17', 'sealed', '19:29', 'enriching', 'potency', 'sparkes', 'valerie', 'creamy', 'oui', '11', 'after', 'arming', 'quest', 'plateau', 'virtually', '46:16', '26:35', 'iroquois', 'mostly', 'deadening', 'obstinate', 'mehida', 'order', 'statue', 'masoned', 'terah', 'congealed', 'hoby', 'girgashites', 'independently', 'wilfully', 'newer', 'continues', 'bated', 'withdraw', '16:23', 'potato', 'kinsfolk', 'impetuously', '8:51', 'sneaky', 'delegation', '16:12', 'divorced', 'adonijah', 'stolne', 'knot', 'concentrated', 'row', 'waged', 'buyout', \"birth'd\", 'doatingly', 'waile', 'leaped', 'cim', \"pois'd\", 'kamala', 'loues', 'fillest', 'emphasized', 'swaying', 'disastrous', 'ruble', 'pleasest', 'finally', '27:29', 'gendarmerie', 'reza', 'argument', 'undistinguished', 'train--', 'consulate', 'algorithm', 'shakspere', 'launders', 'darwin', 'jether', \"serv'd\", 'dangerous', 'girdle', '19.10', 'reconcile', 'inner', 'surprize', 'amash', 'cathaian', 'supplanted', 'anticipate', 'mendelson', 'eri', 'ravening', 'y', 'meaning', \"ee'n\", 'ammihud', 'dishan', 'unexampled', 'worshipper', 'larceny', 'wriggle', 'lemonade', 'messenger', 'vivacious', 'dropt', 'preliminary', 'mote', 'suffuse', 'waterside', 'heereafter', 'sunbeam', 'yvette', 'packet', 'inadequate', 'sweetly', 'satisfies', 'distressing', 'mainly', 'minded', 'babis', 'prophecy', 'hazy', 'thumb', '12:30', 'joes', '29:37', 'porch', 'cave', '26:11', 'azariah', 'combat', 'melting', '22:34', 'notion', 'jackass', 'suppress', 'aroma', 'detected', 'satisfied', 'rinne', 'today', 'aileth', 'yees', 'advocate', 'hen', 'cleaning', 'ahold', 'genial', 'wailed', 'flapped', 'appropriator', '14:43', \"where'er\", 'ob', 'boweth', '2:28', 'pouring', 'untoward', 'ibhar', 'factious', 'encounter', 'trapped', 'absents', 'dodanim', 'neere', 'princedom', 'precisely', 'flattering', '5:14', 'imploded', 'varrus', 'plainest', 'enlist', 'deter', 'wishing', 'f--', 'trace', 'doeg', '36:8', 'sojourneth', 'styled', 'untasted', '35:9', 'watchful', 'eliam', 'rescue', 'mingling', 'ouercome', 'reverenced', 'burisma', 'software', 'aux', 'sibmah', 'calmness', 'asperity', 'tolland', '32:12', 'osama', 'moones', 'corruptible', 'cheat', 'cardinal', 'reserve', '9:2', 'garnish', 'hushed', 'lioness', 'disarmament', 'button', 'frank', 'shaken', 'tail', 'issuing', 'superstitiously', 'contrite', 'gone', 'upstage', 'alongside', 'faith', 'earnestly', 'batch', 'sedulously', 'checkered', '30:7', 'incumbrance', 'apu', 'livingly', 'saul', 'denier', 'careen', 'heavier', 'partner', 'rouse', 'endorses', '49', 'reigned', 'reproved', 'plantation', 'artful', 'genitals', 'attacking', 'donates', 'cake', 'closure', 'unchangeable', 'swooped', 'housetop', 'merriment', 'vineyard', 'wow', 'roaming', 'brushfires', 'channel', 'holloa', 'prolific', '52:15', 'denominated', '64', 'trump', 'baptist', 'unreasonable', 'physique', 'macduffe', 'brooklyn', 'priuate', 'smeer', 'outright', 'scathing', 'felon', 'slanderous', 'amity', 'rehoboam', 'playboy', 'puzzledom', '49:23', 'inconstancy', 'franscisco', 'regret', 'knowne', 'authoritarianism', 'comrade', 'colder', 'moloch', 'mathematical', 'boundless', 'gild', 'staging', 'budget', '10:4', 'anthony', 'typifies', 'pindarus', '5:39', 'distraction', 'strawberry', 'exempts', 'grone', 'striking', 'mandarin', '28:3', 'quiver', 'squared', \"train'd\", 'telegraph', 'grade', 'editorial', '25:42', 'brut', 'beautify', 'heating', 'fit', 'sojourner', 'exaggerative', 'genuine', 'emphasis', 'babe', 'diklah', 'livest', 'chaise', 'disparted', 'despotism', 'enormousness', 'disappoint', 'mur', 'cardamum', 'puff', 'shapeless', 'stainless', 'enterest', '27', 'gentler', 'alow', 'extremely--', '5:17', 'giuen', 'avatar', 'frontman', 'remotely', 'archery', 'contribution', 'willingness', 'kabzeel', 'recur', 'incline', 'laborious', 'pace', '25:27', 'bier', '40:25', 'pind', 'kabul', 'concludes', 'stretched', 'athlete', 'moonrise', 'manservant', 'sighes', 'redeemed', '66:12', 'unrolling', 'corruption', 'incurred', 'inaccessible', 'birthright', 'vnlesse', '                ', 'shopkeeper', 'friendship', 'gamesomeness', 'made', 'bogberries', 'doctored', 'diligently', 'joyous', 'plaid', 'indeed!--but', '1999', \"com'st\", '32:25', 'haughty', 'fat', '24:51', 'tankard', 'fugitive', 'veneration', 'gingerbread', 'hurried', 'tolerable', 'employing', 'izrahiah', 'condemneth', 'anatomy', 'insufferably', '34:25', 'frown', 'hymn', 'inquiring', '7:58', 'heaviest', 'coniure', 'happy', 'mended', 'merchant', 'redeems', 'inhale', 'nite', '850,000', 'profaning', 'isthmus', 'consequential', 'retract', 'minuter', 'supercomputer', 'distorted', 'drawes', 'yelled', 'wilbur', 'spoil', 'lisbon', 'remorselessly', 'hand', 'benefactor', 'husham', 'exceptionally', 'heel', 'busby', 'cadet', 'stuck', 'garbage', 'now', 'pledged', 'secured', 'erik', 'discovering', 'expansive', 'ifaith', 'boomer', 'once', 'hosted', 'louisa', 'digested', 'rad', 'morass', \"unloos'd\", 'unbounded', '27:14', 'australian', 'broken', 'globose', 'poem', 'unprotected', 'withhold', 'returnest', 'achor', 'merciful', 'reclaims', 'hurt', 'serviceable', 'delilah', 'scaped', 'home', 'clamped', '34:29', 'watergate', '9:56', 'biped', '12:2', 'johansson', '16:26', 'listed', 'noe', 'infowars.com', 'conversable', 'amplified', 'pitbull', 'number', 'humid', 'noontide', 'lobe', 'caressing', 'theresa', 'palin', 'rejoiced', 'havothjair', '12:29', 'assaying', 'supposition', 'winter', 'cove', 'panoply', 'attracting', 'extravagance', 'earner', 'this:--', 'istanbul', 'cannes', 'phenicia', 'moneths', 'retailer', 'hushathite', 'coxcomb', 'padded', 'tyson', \"y'are\", 'bedded', 'dented', 'drawing', 'basest', 'didst', 'firkin', 'glare', 'carelessly', 'limbed', 'promisedst', 'inspires', 'crossness', '32:26', 'fuming', 'elude', 'narrative', 'sucking', 'shinar', 'black', 'ally', 'officio', 'indonesia', 'vampire', '13:44', 'divinity', 'trap', 'currency', 'obliging', 'lemon', 'distemper', 'seemingly', 'purchas', 'hunchback', \"command'ment\", 'reiterated', 'ahistorical', 'quite', 'amnesty', 'fertile', 'clit', 'cadiz', 'contented', 'narrow', 'secrecie', 'bethzur', 'kneadingtroughs', 'illaudable', 'asteroid', 'commandment', 'thirteen', 'teeing', 'understood', 'cleat', 'speede', '56:12', 'transposed', 'dispel', 'realize', 'sardius', 'grandmama', 'purse', '38:4', 'calumnious', 'nautical', 'verge', 'endgame', 'suleimani', 'raping', 'smeared', 'mitre', 'involvement', \"curv'd\", 'solvent', '12:4', '17:26', '32:44', 'lyca', 'tikvah', '42:24', 'quid', 'curiouser', 'cleverer', 'rigging', 'perplexed', '35:18', 'hawaiian', 'narrowly', 'prophetess', 'needeth', 'joel', 'malign', '2:27', 'gadarenes', 'platte', 'deceiveth', 'manipulator', 'eats', 'tediousness', 'prudential', 'rant', 'objectionable', '31:12', 'hast', 'teman', 'deduction', 'pretext', '48:20', 'gazingstock', 'cynicism', 'annoying', 'nielsen', 'divideth', 'bubbling', 'maute', 'eddy', 'censorship', 'affectionate', 'lisa', 'fur', 'hal', 'freefall', 'slighting', 'registry', 'angle', 'prompt', 'heartedness', 'overshadowed', 'confident', 'prying', 'lordship', 'uncomely', 'neighbour', 'conceals', 'shallowest', 'eventide', 'unseasonable', 'mystick', 'plank', 'dough', 'slewed', '24:6', 'chirp', 'infuriated', 'frantic', 'infirm', 'feline', 'lud', '43:13', 'creep', 'habakkuk', '30:27', 'signaling', 'schoolfellow', '                                                          ', 'intermediate', 'beach', \"utter'd\", 'radar', 'firework', 'purloined', 'standard', 'soften', 'a--', 'interfered', 'ski', 'swinging', 'blessedness', 'migrant', 'spartan', 'ngo', 'bestowal', 'utensil', 'foundation', 'kindle', 'mainsail', 'joshua', 'amen', '36:33', 'outlet', 'bandaged', '8:15', '227,000', 'indiana', 'ftc', 'opulent', 'sparked', 'assignment', 'embrace', 'visited', 'cordon', 'ruled', 'lustre', 'uninsuredrepublican', 'dogging', 'bronzed', 'ruinationed', 'kemuel', 'cic', 'endorse', 'doping', 'straddling', 'deputy', 'elegance', 'corroborating', 'privation', 'catacomb', 'hijacker', 'squid', 'morale', 'pleads', 'clear', 'declineth', 'isabella', 'pounding', 'each', '24:49', 'inquisition', 'rampant', 'similitude', 'smog', '30:11', 'stupidity', 'desireth', 'clue', 'remaliah', 'falwell', 'pithon', 'wily', 'altering', 'furthermore', 'trophy', 'teaching', 'shutteth', 'dawned', 'rationality', 'sledge', 'retiring', '44:1', 'infallibly', 'custome', 'facial', 'had', 'sondland', 'catlike', 'winne', 'altered', 'bitterly', 'fulfilment', 'announced', 'arrogancy', 'retaining', 'door', 'kicking', 'bahamas', 'rhythmic', '40:29', \"reckon'd\", 'trademark', 'essay', 'uprightly', 'attempt', 'freewill', 'dorian', 'kill', 'swerved', 'drove', 'twould', 'spreading', 'ca-25', 'plato', 'liar', 'operator', 'intercession', '5:44', 'covfefe', 'cutlet', 'remoter', 'me!--i', 'dakota', '16:27', '4:3', '26:15', '10:45', 'horrific', 'surveyor', 'resonant', 'nash', 'doubled', 'actuated', 'stagger', 'caution', 'disguised', 'superber', 'donate', \"convey'd\", 'flattereth', 'hashabniah', 'solved', 'funnel', '5-point', 'augur', 'altogether', 'neapolitan', \"express'd\", '19:37', '63:11', 'darkens', 'indirectly', 'dispersing', 'foothold', 'hazor', '10:39', '11:48', 'cross', 'numberest', 'deceitfulness', 'glean', 'brawling', 'choi', 'the--', '2050', 'predestinated', '28:42', 'capering', 'hymen', 'tallying', 'kibrothhattaavah', 'miss', 'vouchsafe', 'carved', 'pain', 'comfit', 'treated', 'stiffen', 'storme', 'intelligence', 'relying', 'colt', 'sharpest', 'blacky', 'smartly', 'manufactured', 'substituting', 'prest', 'barbary', 'manoeuvred', 'rouge', 'anticipated', 'clank', 'bellow', '4:46', 'paddock', '43:14', 'soothingly', 'slaue', 'lyre', 'psychological', 'severance', 'whatsoever', 'doctor', 'glutted', 'cork', 'noblest', 'toothache', 'gladly', 'preferable', 'gorgonian', 'beneficial', 'greatest', '146,000', 'refreshment', 'exhibited', 'colony', 'ringlet', '25:7', 'entertaining', 'bewildering', 'restaurant', 'dam', 'archy', 'yovanovitch', 'excluded', '7:11', 'chide', 'practising', 'opinion', 'commentator', 'hoyer', 'dazed', 'avenge', 'nursery', 'copying', 'particle', 'bristle', '37:34', 'ashnah', '21:31', 'carrey', 'inextinguishable', 'dardanius', 'quarto', 'spirituality', '32:6', 'stooped', '                                               ', 'complimentary', 'joash', 'menpleasers', 'effuse', 'governor', '50:9', 'explained', 'scatter', '42:12', 'syme', 'pending', 'able', 'plea', 'lyft', 'sponge', '6:6', 'practically', 'money', 'greenwood', 'beginningless', 'tingle', 'develop', 'borne', 'oversees', 'bower', 'treatise', 'affirmative', 'preacheth', 'sporty', 'bartlett', 'stripped', \"conquer'd\", 'weep', 'theatrical', 'impact', 'lacrosse', '11:37', 'goshen', 'eiu', 'cigar', 'overboard', 'disengaging', 'encumbrance', 'premonitory', '14:34', 'serf', 'fainthearted', 'cutler', 'hat--', 'pelaiah', 'antothite', 'not', 'oathes', 'stockholm', 'legality', 'ensign', 'louing', 'amramites', 'blinding', 'undisputed', 'memoir', 'henoch', '1', 'house--', 'watercourse', 'h_arbour', 'kenath', 'shoplifting', 'barking', 'dominic', 'dwellingplace', 'concluding', 'nightmare', 'hinted', 'crotch', 'ebook', 'inch', 'gipsy', 'shared', 'shaggy', 'edifieth', 'trained', 'soberly', 'owning', \"undisturb'd\", 'subaltern', 'woodhouse', 'cherisheth', 'shortage', 'imposes', 'craues', 'vindicated', 'shrouded', 'actress', 'sang', 'hagarites', 'extort', 'redder', 'botch', 'pekod', 'awake', 'academy', '1671', 'vizards', 'listeth', 'tarsus', 'eye', 'accepted', 'harping', 'defilement', 'kindleth', 'oppressive', 'rotten', 'arguing', 'dollar', 'smelt', 'untrodden', 'wove', 'alexander', '15:41', 'detecting', 'robbery', 'beckoned', 'painter', 'care', 'clitus', 'higher', 'hivites', 'individual', '31:37', 'dung', \"turban'd\", 'mcgregor', '32:11', 'sunflower', 'lent', 'equality', 'grinning', 'cleave', 'muddled', 'ousts', 'compared', 'glorieth', 'patterson', '17:4', 'laughed', 'humored', 'displeased', 'n', 'it;--but', 'lasting', '100-day', 'disappearance', 'comic', 'bull', 'cadwallader', 'imbued', 'mizzen', 'speed', 'gloominess', 'pertained', 'final', 'whisky', '55:2', 'blunder', 'ellen', 'titanic', 'jacob', 'disposing', 'dramatically', 'cabby', 'lana', 'reed', '52:10', 'paycheck', 'amorites', 'her.--it', 'foameth', 'surpassing', 'enmity', 'dreyfus', '15:48', \"scorn'd\", 'leap', '5:23', '9:25', '16:11', 'taxman', 'hole', 'sobbing', 'gallic', 'cursings', 'tel', 'wint', 'upsprung', 'sendest', 'sebastian', 'jail', 'rice', 'nh', 'roofed', 'premise', 'stuffe', 'donald', 'crusade', 'cornfield', 'jaw', 'vermin', 'ought', 'fifteenth', 'twist', 'bye', 'fillet', 'fiend', 'doctrine', 'moluccas', 'greenness', 'truck', 'delineated', 'ancient', 'forwardness', '20:11', 'honour', 'anathema', 'grid', '                                                         ', 'laurel', 'eagle', 'dominion', '49:24', 'itself', 'uncreated', 'rollicking', '146', 'loup', '16:45', 'mehujael', 'inarticulate', 'fastening', \"would'st\", '12:35', 'zuar', '49:9', 'enlivened', 'dishonourable', 'fondness', 'flogged', 'jehoiakim', 'venturous', 'hotline', 'flake', 'zidonians', 'spd', 'stale', 'wildest', 'sadducee', '2024', 'pricke', 'heardest', 'handmaiden', 'superhero', 'taylor', 'talker', 'unnoticed', 'terrified', 'formally', 'silhouette', 'effect', 'spired', 'malaysia', 'mixing', 'prodigiously', 'heyer', 'ootiful', 'noriega', '37:1', 'fill', 'surge', 'minimum', 'divorce', 'cheshire', 'gamaliel', 'obstructed', '22:41', 'mississippi', 'confirmed', 'inferiority', 'woven', 'saucer', 'grasped', 'pa.', 'mixed', 'endlessly', 'damp', 'existed', 'hiram', 'ints', 'conclude', '2017', '106', '1:42', 'immature', 'virgin', 'hanan', '31:29', '26:9', 'crazed', \"gather'd\", 'ann', 'alcove', 'sheathed', '41:27', 'protection', '19:10', '30:4', 'unconquered', 'jaalam', 'expressing', 'cuttlefish', 'impenetrable', '7:5', '24:26', 'junk', 'ridiculous', \"a'ready\", 'aduancement', 'nudge', 'strayed', 'shillem', 'tilted', 'vox', 'unobtrusive', 'covert', 'perplex', 'packing', 'shortsighted', 'contrary', 'perch', 'batman', 'conductor', 'barker', 'ozias', 'tidal', 'executing', 'achan', 'humbleth', 'wa', 'nicely', 'araunah', 'risked', 'favourite', 'saboteur', '25:40', \"reach'd\", '30:19', 'salesman', 'sadness', 'jeweller', 'fumbling', 'bilious', 'delayed', \"a'th\", 'loses', 'shame', 'eares', 'grandpapa', 'fondest', 'michaelmas', 'habituated', 'earthly', 'wrack', 'aran', 'recovers', 't.i.', 'turbulence', 'way:--', 'murderer', 'scape', 'stepmother', 'nil', 'crockery', 'ingredience', 'victory', 'pastorall', 'revealeth', 'abstraction', 'diverted', 'writ', 'drake', 'password', 'shoal', 'setteth', 'marcellus', '36:17', '38:21', 'engine', 'autumn', 'florid', \"thinn'd\", 'provender', '31:40', 'manassites', 'strained', 'dustier', 'survived', 'legitimately', 'publisheth', 'spinoff', '20:25', 'ballot', 'expanding', 'plymouth', 'fountain', 'oblivion', 'hb2', 'seethings', '18:35', 'survives', 'lineament', 'tenney', 'jib', '44:18', 'daintiness', 'jumble', 'tawny', 'brow', 'alack', '4:13', 'rocky', 'swathing', 'woodpecker', 'decius', '7:21', 'dictate', 'dehydration', 'deserting', '21:11', 'cobler', 'resurrection', 'ideal', 'recorder', '28:8', 'nurse', 'same', 'darkened', 'zebulonite', 'frankincense', 'lesson', 'emergency', 'option', 'teaze', 'northwest', 'convenient', 'jehoshaphat', 'preoccupied', 'russia', 'oppose', 'neighed', 'emigrant', 'ogre', 'dolphin', 'unwieldy', 'manhattan', 'liers', 'organ', 'gihon', 'sternly', 'chittim', 'progenitor', 'relax', 'naples', 'shooting', 'evidence', 'mainmast', 'olympia', 'detachment', 'brasen', 'uprisen', 'beleefe', 'generally', 'slamming', 'sitst', 'episode', 'error', '6:69', 'string', 'generic', 'formall', 'hagar', 'marcus', 'revolting', 'meaningless', 'sharper', 'zabulon', 'flaxen', 'broom', 'bladder', 'shamir', 'rosy', 'sign', '6:34', 'distraught', 'jehu', 'providing', 'murth', 'waist', 'storied', 'humph', 'lien', 'recollect', 'dorsey', 'smiteth', 'huffpo', 'presidency', 'tombigbee', 'anarchy', 'who', 'urchin', 'traumatized', 'mineral', 'inaccurate', 'iram', 'encompass', 'euery', '41:13', 'snapped', 'reuenge', 'refuse', 'vnseene', 'choler', 'punishment', 'idiot', 'uzziah', '1:44', 'bushel', 'annoyance', 'invitation', 'mosaic', 'abominable', 'affecting', 'manchin', 'crouch', 'barabbas', 'testily', 'malediction', 'petted', 'greave', 'grated', 'kolaiah', 'shrewsbury', 'dard', 'homeborn', 'woollen', 'sanguine', 'achieved', '33:31', 'ftp', 'doj', 'bradlaugh', 'boy', 'awaiting', 'ebcdic', 'glossy', 'hot', 'nonsense', 'guide', '1:20', 'absorbed', 'mouldy', 'timidly', 'bashing', 'novice', '40:23', 'tally', 'parbar', 'spewing', 'decayed', 'recoyle', 'muffling', 'texel', 'vilification', 'likeminded', 'convex', 'feat', 'accuse', 'wood', '40:37', 'silliest', \"o'malley\", 'apologist', 'treacle', 'penknife', 'coat', 'galway', 'mallice', 'archer', 'retrace', 'shearing', 'bichri', 'soothed', 'bewitched', 'supping', 'offense', 'hieroglyphic', 'beshear', 'laborer', 'billion', 'high', \"drain'd\", \"ingag'd\", 'redouble', 'intrusted', '                              ', 'thyatira', 'closely', 'imposition', 'hanun', 'banker', 'diddled', '4:36', 'landlord', 'tattooing', '150', 'monica', 'leasing', 'pumping', 'jediael', 'riyadh', 'repelled', 'humble', 'ardor', 'autocrat', '16:28', 'advantageous', 'crossly', 'magnificence', 'adriel', 'resemble', 'jane?--', 'transaction', 'macleod', 'schedule', \"assur'd\", 'affinity', 'givest', 'stocking', 'paled', 'goalie', 'suing', 'condemn', 'seduced', 'medieval', 'hosen', 'tarantino', 'knops', '44:6', 'ailment', 'swede', 'momentous', 'blinked', 'dwelt', 'unplumbed', 'greyhound', 'pro', 'roiled', 'regal', 'unreasoning', 'traffic', 'drive', 'stolidly', 'walkt', 'ephratah', 'intensity', 'conjured', 'clo', 'trample', 'ohio', '2:44', 'fortitude', 'ambitious', 'dimmer', 'inviting', 'egotistic', 'sevenpence', '17:18', 'civic', 'aholah', 'françois', 'low', '31:4', 'abhorring', 'stupidly', 'capricious', 'finding', 'duck', 'windrows', 'longed', 'bondmaid', 'sucked', 'roger', 'son', 'carmel', 'dedan', 'annie', 'baghdad', 'psalm', 'curve', 'cetus', 'regularly', 'heath', 'grossly', 'housing', 'alone', 'bragge', 'poyson', 'attribute', '1825', 'convulse', 'waked', 'sinnes', 'discovered', 'soleimani', 'with', 'degradation', 'aesthete', 'unfearing', '7:40', 'wilson', 'execute', 'bombardment', 'deficit', 'jesting', 'bulging', '43:9', 'hemsworth', 'changing', 'enviest', '43:1', 'diversify', 'proue', 'food', 'irreconcilable', 'laundry', 'proclaimed', 'traversed', 'abner', '4:20', 'dost', 'estranged', 'consume', 'bankes', 'rampage', 'decreed', 'electricity', 'forcibly', 'mladic', 'villager', 'noblesville', 'occurrent', 'llewellyn', 'busybody', 'centre', 'sentiment', 'serah', 'travelled', 'repentant', 'strolling', 'drinke', 'implodes', \"pleas'd\", '49:20', 'friday', 'deal', 'christopher', 'cecil', 'unprovided', 'uncouthness', '24:8', 'wickedness', 'vulnerable', 'growling', 'angular', 'needfull', 'alaskan', 'fastidious', 'freest', 'england--', 'kareah', 'carlson', \"quell'd\", 'nethaneel', 'tightened', 'festive', 'deigned', 'landsman', 'wayward', 'mile', 'monday', 'qualitie', 'immigration', 'alexa', 'leak', 'harpooning', \"refus'd\", 'ravished', 'critique', 'fairfax', 'stickes', 'renewal', 'esteemeth', 'attuned', 'shoddy', 'feb', 'misdemeanor', 'pot', 'hananiah', 'seer', 'victim', 'hurled', 'ascetic', 'current', 'treble', 'wheeler', 'clouded', \"fang'd\", 'failure', 'reinforcement', 'bap', '34:22', \"nail'd\", 'caressed', 'navarro', 'dmv', 'indifference', 'glee', 'stile', 'battailes', 'paradise', 'proverbial', 'chuses', 'duke', 'unpack', 'rump', 'ancestry', 'midsummer', 'shuddered', 'airspace', 'nymph', 'twined', 'done', 'rippling', 'differs', 'rig', 'decanter', 'rove', '10:2', 'nony', 'satin', 'harangue', 'withstand', 'vanquisher', '18:42', 'newfoundland', \"can'st\", 'grumpy', '20:21', 'upstart', 'grandmother', 'conuey', 'levi', 'retaliating', 'panelling', 'talk', 'impassioned', \"wrong'd\", 'buttock', 'prick', 'sullen', 'inculcating', 'drowse', 'opts', 'declining', 'franchise', 'composition', 'surrealist', 'by', 'pasture', 'ner', 'rhetorical', 'pallidness', 'always', 'intensified', 'woman', 'constantinople', \"unimplor'd\", 'intercept', 'commonest', 'gene', 'stricken', 'wracke', 'robust', 'supposed', 'goldthwait', 'bent', 'gathereth', 'suggestion', 'swift', 'steer', 'o.', 'muddle', 'technical', 'grew', 'moneth', 'manifested', 'shrieke', 'heavy', 'bigotry', 'pendulous', 'arrested', 'analysing', '28:16', 'bodyguard', 'vaguely', 'anonymous', 'fealty', 'ransomed', 'prosperously', 'displeasure', 'comeliness', 'macron', 'minutest', 'anticipating', 'continueth', '25:15', 'tobiah', 'prepossession', 'feasting', 'vp', 'speedier', 'copper', 'probable', 'puh', 'frayed', 'machu', '6:17', 'critical', '18:13', 'deserves', 'inacio', 'debased', 'discourse', 'gymnast', 'erewhile', 'unprofitable', 'unpent', 'savor', 'concession', 'sixth', 'snorting', 'farther', 'management', 'adelaide', 'painkiller', '13:55', '18:1', 'cleveland', 'wisdom', 'venetian', 'objected', 'gayest', 'blew', 'cannabis', 'advance', 'apoplexy', 'calais', 'isolationism', 'guest', 'purr', 'pathrusim', 'slay', 'yawn', 'guru', 'wafting', 'sinke', 'wikileaks', 'gallon', 'forbare', 'moving', 'fashionable', \"heap'd\", 'merger', 'lasted', 'effective', 'trill', 'sherebiah', 'bagging', 'corrupted', '24:29', 'wert', 'rend', 'calf', 'southerly', 'hyena', 'buttonhole', 'flopped', 'shephatiah', 'alex', 'exasperated', 'swiftly', 'silenced', 'chibok', 'portending', 'voice,--', 'deposit', 'elated', 'amon', 'sheen', '22:21', 'nigggers', 'di', 'toilet', 'sorely', 'archly', 'sen', '2nd', 'comprehension', 'pawnbroker', 'menaced', 'dems', 'spreadeth', 'booster', 'workmanlike', 'telmelah', '51:17', 'despoiled', 'mug', 'tv', 'requires', 'selim', 'hamongog', 'gambit', 'meehan', 'wig', 'allude', '125', 'causeth', 'interrupt', '18th', 'binding', '1380', 'sake', 'marrow', 'cruise', 'sundry', 'ink', \"breath'd\", 'established', 'charged', 'assailant', 'damnation', 'forward', 'biscuit', 'horims', 'madmannah', 'petulance', '20:5', 'elon', 'leech', 'write', 'portugal', 'castor', 'cannibal', 'stitch', 'reba', 'windsor', 'upon', 'corpulent', 'jehozadak', 'confusedly', 'carcase', 'before--', 'serving', 'teamed', 'inappropriate', 'starvation', 'beerothite', 'lucia', 'gerrymandering', 'luiz', 'audit', 'humorousness', '16:48', 'traitor', 'edication', 'mud', '50:25', 'risen', 'responding', 'ru', 'compact', 'voterbase', 'nevada', 'estimate', 'pencil', '25:46', 'console', 'poore', 'slayer', 'untutored', 'budding', 'ay', 'auditor', 'morey', 'antagonist', 'unbar', 'weakeneth', 'omg', 'hardship', 'exemption', 'baritone', 'polon', 'trading', 'resembles', 'pushed', 'heidelburgh', 'ould', 'sojourning', 'cow', 'barachel', '23:10', 'bowditch', 'naphtuhim', 'trout', \"resign'd\", 'serene', 'tracking', 'befalleth', 'smoked', 'eliminate', 'grope', 'electioneering', 'wider', 'enshrine', 'pinching', 'eighteenth', 'amarant', 'miguel', 'owle', 'snoop', 'neighbouring', 'evaluation', 'ostensible', 'parnas', 'concurrence', 'faine', 'betook', 'buried', '19:11', 'fairest', \"clinch'd\", 'pacifying', 'eshban', 'surtout', 'comey', 'lunch', 'milsom', 'schnatter', 'booze', 'kehelathah', 'reelected', 'autocracy', 'aimlessly', 'swarest', 'cordially', 'awarded', 'juniper', 'tubal', 'shuppim', 'superiority', '65:9', 'globule', 'topping', '37:28', 'capacious', 'sup', '14:30', 'camell', '41:4', 'imnah', 'inflexibly', \"look'd\", 'morally', 'windfall', 'plait', 'hovered', 'barely', 'indivisible', 'huddle', 'southeast', 'bubblingly', 'bleed', 'donned', 'commodious', 'defends', 'weigheth', 'qualcomm', 'mansion', 'dashwood', 'lighted', 'dismember', 'indeed!--i', '59:2', 'vince', 'kanadian', 'margaret', 'inspiration', 'malcham', 'intrepidity', 'tear', 'impersonal', 'equation', 'crossing', 'propels', 'stack', 'snugly', 'chatting', 'her;--and', 'unqualified', 'joktheel', 'namibia', 'vowed', 'dower', 'staving', 'mellowing', 'shure', '5:33', 'considered', 'truster', 'understandeth', '31:8', 'recklesse', 'resorted', 'separated', 'journal', 'laid', 'mesa', 'engrossed', 'streaking', 'arise', 'canary', 'glassy', 'hodijah', 'dawdling', 'explode', 'chinatown', 'sherry', 'stylish', 'subordinate', 'pang', 'fishy', 'preparation', 'padanaram', 'shakedown', 'schollers', 'oliveyards', 'mannahatta', 'shulamite', 'indicative', '19:13', \"dar'st\", 'irresolute', 'rase', '44:13', \"lov'd\", 'tortuous', '19:44', 'anxiety', 'invader', 'cogitation', 'accident', 'beard', 'asp', 'romamtiezer', 'sho', 'insisted', 'fabricated', '47:11', '16:17', 'platitude', 'tiptop', 'shirt', 'whorish', 'allusion', 'portland', '24:14', 'epaphras', 'detailed', 'jon', 'nadler', 'sculptured', 'deepens', 'drooping', '30:17', 'encourage', '31:20', 'hunk', 'unlikely', 'centenary', 'jury', 'obliged', 'mover', 'extorted', 'mocke', '14:8', 'noways', 'westworld', 'analyse', 'hurl', 'start**the', 'gored', '33:8', 'prevailing', 'prim', '48:17', 'nimrim', 'conor', 'barbarism', '7:49', 'retweets', 'scattered', 'assuage', 'gasped', 'rainbow', 'jeffrey', 'banq', 'unpaid', 'ukrainian', 'deductible', 'sleeve', 'camden', 'queerly', 'sever', 'yea', 'pugnacious', 'witness', 'insure', 'hoot', 'bethanath', 'confirms', 'emptive', 'michaiah', 'presentation', 'zetham', 'familiarity', 'allegiance', 'stoutly', 'fiction', 'zebul', 'jehoshabeath', 'soot', 'swine', 'sony', 'gymnastic', 'magots', 'endeavouring', 'oprah', 'cautioning', 'antelope', 'fever', 'pantaloon', 'unmeasured', 'offend', 'birth', 'peacock', 'flushing', 'seedes', 'nipple', 'crookedly', 'ergo', 'documentary', 'crowing', 'wolfe', 'project', 'opera', 'orchestra', 'fringed', 'stiffening', 'hewn', 'frail', 'slur', 'jehoram', 'goodly', 'sentencing', '30:22', 'fry', 'mong', 'portly', 'delirium', 'fig', 'caesarea', 'deprecated', 'vertu', 'tattle', 'cheaper', '23:33', 'automobile', 'permanently', 'chimney', 'outlined', 'tier', 'liken', 'confines', 'eliminated', 'medicare', 'cooling', 'automatic', 'alp', 'bushfires', '11:16', 'attacked', 'tandem', 'historic', 'pakistan', 'reposed', 'rowed', '17:20', 'radiance', 'newhart', 'houston', 'sunset', 'rug', 'parosh', 'idle', 'bethhoron', 'frightbart', 'inclusion', 'shoaling', 'scratched', 'about', 'plumb', 'rio', 'undersea', 'groening', '87', 'sower', 'occasional', '51:11', '25:17', 'congeniality', 'lustily', 'yemeni', 'hoard', 'shivered', 'vainly', 'pelonite', 'defence', 'fitch', 'mournful', 'spiritualism', 'despairing', 'offender', \"'s\", 'app', '@cnn', 'guantanamo', 'dissect', 'enacted', 'website', 'street', 'venison', '19:47', 'confirmation', 'writhing', 'postman', 'aristocracy', 'falne', 'realism', 'cypher', 'provides', 'nez', 'calneh', 'adjunct', 'informer', 'melchishua', 'slant', 'tendency', 'bethbarah', 'hemmed', 'mannerly', 'saviour', 'cyrus', 'receipt', 'congolese', 'tenantry', 'fatness', 'gathering', 'incommunicable', 'southerner', 'sanctuary', '33:2', 'keen', 'minnith', 'cast', 'criterion', 'duped', 'stark', 'faulty', 'pill', 'reduce', 'included', 'strowed', 'overpower', 'queene', 'disused', 'da', 'decorated', 'symbol', 'oakum', 'kurdish', 'emerging', 'absolve', 'nod', 'clever', 'reach', 'beheading', 'blackmailing', 'diploma', 'feverish', 'testimony', '46:26', 'bowled', '11:51', 'other--', 'rope', 'brazil', 'apoplectic', \"refresh'd\", 'binge', 'interrogating', 'mikloth', 'dreg', 'establishing', 'attaine', 'rejected', 'intends', 'experienced', 'ishmeelites', 'terrible', 'venting', 'proprietor', 'abishur', 'zeresh', 'boston', 'pigmy', 'marvellously', 'detroit', 'squeeze', 'gaius', 'resorting', 'tinder', 'hedged', 'minion', 'jeshimon', 'commended', 'berkeley', 'thistle', 'draper', 'viewer', 'neyther', 'mcdaniel', 'gerar', 'musical', 'timnath', 'occasionally', 'crosshairs', 'signify', 'midnight', 'playful', 'extraordinary', 'growled', 'hymning', 'deliciousness', 'crimsoned', 'flyest', 'vitter', 'musician', 'dusty', \"e'ne\", 'neptune', 'burnout', \"balk'd\", 'reaper', 'ignition', '31:34', 'p.f.', 'contraceptive', 'jet', 'impossibility', 'parallelogram', 'reasoned', 'heading', 'knobbed', 'desart', 'confidential', '18:12', 'guttural', 'coiling', 'graues', 'compassionate', 'fortunately', 'ossifrage', 'crippled', 'halak', 'flinch', 'scythian', 'pavement', 'curseth', '28:27', 've', 'solicited', 'tyber', 'excavating', 'falter', 'obedience', 'tattoo', 'elevation', 'manassian', 'flounder', 'buzzing', 'jaundice', 'peal', 'instinctive', '49:3', \"envelop'd\", 'hazael', 'somers', 'conjunction', 'admin', '1:53', 'need', 'credulity', 'confirm', '91', 'conversing', 'rezeph', 'swearing', 'allenham', 'countenance', 'counterproductive', 'mcdonald', 'glazed', 'around', 'indignity', 'unconsciously', 'elle', 'amelioration', 'churlish', 'chapel', 'so.--', 'booing', 'jiphthahel', 'tongue', \"sooth'd\", 'chechen', 'affectation', 'alderman', 'expectant', 'headstrong', 'lawgiver', 'considerably', 'decamp', 'diyarbakir', 'malluch', 'rounding', 'lyme', '25:19', 'arabian', 'penance', 'rash', 'nutella', 'congregational', 'rattlesnake', 'occurrence', 'plaudit', 'securely', 'ar', 'introduces', 'she', 'staff', 'illustration', 'brindled', 'tempestuous', 'melt', 'pacified', 'ineffaceable', '41:19', 'turpentine', 'sarcastic', 'acquiring', 'contradictory', 'crater', 'baldness', 'eyeballed', 'upbraiding', 'mee', 'maddens', 'heathen', 'are--', 'overcoming', 'leanness', 'threatning', '33:5', 'legalise', 'rushy', 'unclothed', 'steadying', '13:39', 'stork', 'alighted', 'abijah', '52', 'pashur', 'unpleasing', 'airport', 'unconstitutional', 'nears', 'drouth', 'delete', 'gig', 'unpolished', 'ephesian', 'ernani', 'shudder', 'bureaucracy', 'farc', 'iealousie', '7:18', 'perceived', 'surprise', 'perisheth', 'colorado', '21:14', 'anath', 'indignant', '°', '26:39', 'disrespectful', 'guard', 'protest', 'opium', 'sentinel', 'plase', 'baffle', 'performer', 'draught', '35:30', 'walker', 'agitation', 'distort', 'wade', 'bombay', 'slowly', 'ramadan', 'rian', 'bro', 'vndone', 'perez', 'ithream', 'grudgingly', '32:2', 'zenith', 'bermuda', 'pendragon', 'cheeked', 'harpooned', 'daytime', '11:10', 'flirtation', 'socialism', '32:4', 'malcolm', 'ned', 'it;--', 'careless', 'cite', 'magnitude', 'rear', 'arbathite', 'braver', 'consecrate', 'racial', 'stuffed', 'trophimus', 'supporting', 'witherspoon', 'sheaf', 'observed', 'define', 'glazier', 'likelihood', 'examine', 'numbness', 'dirtied', 'downgraded', 'disinterested', 'crape', 'charlo', 'reciprocal', 'curb', 'soo', 'killeth', '44:19', 'somersetshire', 'draining', 'arsacides', 'innocent', 'fallon', 'foot', 'hollowly', 'insufferable', 'plodding', 'oration', 'abolished', 'sarai', 'collateral', 'bel', 'failing', 'presidentiad', 'nimrod', 'massah', 'crazy', 'indonesian', 'offending', '27:42', 'if', 'freebooter', 'banquet', \"preserv'd\", 'occurs', 'bec', 'commented', 'distinguished', 'persistent', 'suds', 'tunnel', 'undermines', 'hearties', 'intrusion', 'alarum', 'ceylon', 'scroll', 'dimpling', 'penis', 'consistently', 'hem', '27:15', 'sabachthani', 'interdicted', 'oddity', 'straightforward', 'bohemian', 'ahio', 'honourable', 'sorcery', 'ark', 'sinking', 'jeering', 'unsteady', 'cruellest', 'milder', 'pivot', 'jane', 'unbelieving', 'bennett', 'nailed', '37:32', 'sect', 'creation', 'bowed', 'allowing', 'hockey', 'pious', \"proportion'd\", 'disgustingly', '41:34', 'boatman', 'madness', 'courtship', 'tossed', 'serbian', 'gloried', 'seated', 'panorama', 'finde', 'imitating', 'clocke', '63:7', 'reef', 'cawdor', 'fold', 'carolinian', '30:9', 'dashcam', 'beare', 'dragoon', 'lastly', 'port', 'cicerone', 'quenchless', 'eliphelet', 'knocketh', 'chained', 'cragness', 'fantasy', '65:4', 'belie', 'baptized', 'inked', 'blacker', 'hunted', 'tripping', 'stray', 'wrongfully', 'describeth', 'petticoat', 'chile', 'charmingly', 'ozem', '        ', '35:4', 'greatly', 'neede', 'denotes', 'dialogue', 'scoundrel', 'hover', 'metled', 'boldness', 'permitted', 'darting', 'pittie', 'genuinely', 'cobble', 'unostentatious', 'francisco', '12:46', 'enlivening', 'fife', 'lazar', 'spurne', 'assertion', 'hector', 'captive', 'vncle', '64:2', 'interpose', 'grieved', '12:37', 'indulgent', 'drawn', 'pretend', 'fallen', 'prosaic', 'prehensile', '16:38', 'sara', 'jung', 'head', 'cathedral', 'impulsively', 'unlading', 'lid', 'entrailes', 'fenced', 'metaphysics', 'happinesse', 'comet', 'positive', \"mou'd\", 'owes', 'shushan', 'hammon', 'tress', 'transparency', 'dance', 'reckon', 'nethaniah', 'canadian', 'equipped', 'contradiction', 'blushing', 'mingle', 'staircase', 'licence', 'babyish', '30-day', 'lookest', 'begone', 'cheapside', \"ceas'd\", 'tepid', 'commandeth', 'cavalry', 'gagged', 'gaming', '20:45', \"whate'er\", '10:31', 'vomited', 'bribe', 'filthie', 'lightning', 'retraced', 'vitality', 'electioneerer', '28:43', 'stowing', 'sinful', 'reporter', 'outage', 'infernally', 'spin', 'worthy', '65:13', 'bandied', 'myriad', 'sinner', 'sloop', 'glided', 'hilt', 'lot', 'wildly', 'tob', 'tilth', 'jocund', 'pochereth', 'subversion', 'profoundest', '32:33', 'traceable', 'st.', 'showts', 'geologist', 'kyaw', 'extremity', 'druid', 'o’riordan', 'memnon', '10:14', 'masterson', 'inverted', 'gatorade', 'ashton', \"caress'd\", 'scoble', 'hullabaloo', 'refuseth', 'unworthy', 'nominates', '8:28', 'cry', 'intrigue', 'chisleu', 'calculate', 'hygienic', 'eiffel', '3.5', 'buckskin', 'foremast', 'faction', 'resisteth', 'tugging', 'kanada', 'deftly', 'larded', 'exalt', 'dearth', 'saffron', 'famish', 'weed', 'shutdown', 'flinging', 'cable', 'triest', 'ordinary', 'tacit', 'retrenchment', 'defiled', 'whew', 'century', 'congratulating', 'ignorantly', 'companied', 'seate', 'supernaturalism', 'coast', \"pul'd\", 'bulkington', 'instability', 'maimed', 'prod', 'ignores', 'warres', '26b', 'maiestie', 'privilege', 'mad.--but', 'engraven', 'professe', 'conundrum', 'wrenched', 'bastille', 'revolution', 'intently', 'bithynia', 'distant', 'treating', 'treachery', 'ballasted', '8:41', 'member', 'horsepond', 'cupboard', 'archippus', 'warn', '37:6', 'polished', 'meal', 'ivory', 'sumptuous', 'scuttled', 'peacekeeping', '19:7', 'settlement', 'quaff', 'makeup', 'crew', 'madeleine', 'subpoena', 'dining', 'squalid', '13:34', 'temperate', 'flaunting', 'elhanan', 'provided', 'adoring', '18:17', 'wang', 'eldad', 'bing', '36:19', \"deferr'd\", 'lippes', 'dashing', '63:2', 'capsized', 'steeply', 'linda', 'exclamation', 'maternal', 'picturesque', 'mightie', 'monumental', 'builded', 'infected', 'die', 'doore', 'savagery', 'malchishua', 'whaleboat', 'stash', 'fresh', 'simultaneousness', 'sottish', 'reprobate', 'margery', 'peña', 'settler', 'befell', 'tame', 'suppository', '56:6', 'informs', 'unmindful', 'extoller', 'smoother', 'undertaking', 'lefthand', 'paraded', 'pourtrayed', 'marking', 'shewed', 'fourth', 'control', 'umpire', 'inforced', '13:30', 'onanist', 'evoke', '60:9', 'relaxed', 'reddening', 'lubims', 'matt', '79', 'judea', 'mcmaster', 'incomprehensible', 'anointest', 'sanitary', 'sentimental', 'suffers', 'burial', 'transient', 'illustrates', 'nominal', 'excitement', 'greta', 'wheedling', 'frowning', 'oily', 'emaciated', 'unspeakably', 'shadowing', 'religious', 'ambergris', 'dispaire', 'epitaph', 'lave', 'zillah', '57:3', 'seruice', 'learne', 'iudgement', 'reacting', '7:1', 'see', 'recipe', 'consulting', 'jehieli', 'festoon', 'performance', 'botswana', 'receptive', 'manifestation', 'reproof', 'junction', 'us', 'figure', 'allowable', 'council', 'inventive', 'flavour', 'drachmaes', 'sharply', 'cryptic', 'radical', '41:23', 'lading', 'aglow', 'scurrying', 'malc', 'rotation', 'manhandled', 'defaced', '48:7', '36:6', 'lazarus', 'justice', 'knowingly', 'nutmeg', 'quarantine', 'scarlet', '7.2', 'herd', 'isolation', 'backfired', 'nakken', 'tenderness', 'snorted', 'unspeakable', 'myrrh', 'crude', 'visual', 'tennyson', 'intelligential', 'illustrate', 'topsy', 'dutch', 'furrier', 'agreeing', 'geofence', 'perillous', 'boon', 'anathoth', \"charg'd\", 'walrus', 'drum', 'joyless', 'auctioned', 'stated', 'steeped', 'quito', 'cheered', 'listing', 'unworldly', 'accommodating', 'fleshhook', 'mist', 'conceives', 'countless', 'edify', 'crowes', 'grass', 'boxing', 'position', 'cannoneer', 'besor', 'minstrelsy', 'dy', '26:13', 'increaseth', 'frightens', 'adoration', 'cher', 'unreliable', 'desktop', '26:44', '23:28', 'fiercely', 'poverty', 'decorum', 'nuclear', 'gomorrha', 'resides', 'unto', 'widely', 'repugnant', 'hill', 'thunderstorm', 'power', 'trice', 'slimy', 'meditated', 'normalization', 'standeth', 'ce', 'cabinet', 'rap', 'relation', 'lashed', '14:17', 'industry', 'fished', '40:27', 'roebuck', 'activity', 'abdi', 'spell', 'chickadee', '--edmund', 'recalling', 'humorous', 'bad', 'ward', '31:23', 'countervail', 'needlessly', 'paternal', 'broad', 'fatiguing', 'commencing', 'sovereignty', 'emblematical', 'admire', 'obligated', '1828', 'sensibly', 'zion', \"honour'd\", 'weight', 'shadowes', 'zebulun', 'ard', 'radiating', 'golfer', 'tempered', 'dante', 'manahethites', 'demonstrate', 'eloquence', 'precipitation', 'prouide', 'ishi', 'barr', 'liveliness', 'physiology', 'thrusting', 'outlying', 'soweth', 'tart', 'disingenuous', 'harvest', 'eunuch', 'ringleader', 'enumeration', 'parmacetti', 'centrist', 'stimulate', 'socially', 'nut', 'carol', 'lethe', 'heroin', 'bestows', 'rained', 'homosexual', 'xiaobo', 'africa', 'azur', 'doct', '34:28', 'embarrassed', 'nativity', 'bohan', '10:16', '7:38', 'gloved', '32:42', 'oneself', 'heauy', 'prospers', 'heiress', 'clanging', 'satisfactory', 'specksynder', 'williams', 'dandelion', 'bluish', '35:15', 'ripening', 'forcible', 'pilot', 'tacking', 'debtor', 'annihilating', 'unwalled', 'precedence', 'importunity', 'sceptre', 'lion', 'stop', 'listlessly', 'victoria', 'gadget', 'kelt', '44', 'arid', 'bury', 'unsearchable', 'first', 'weyard', 'horrifying', '54:3', 'nicholas', 'forge', 'criminologist', 'sparking', '33:21', 'bared', 'mischievous', 'kant', '14:6', 'patrick', 'halfpenny', 'retirement', 'tampering', 'unmitigated', 'dreamy', 'circus', 'headache', 'ill-', 'hold', 'stuff', 'flourishing', 'stratagem', 'grisled', 'kickshaw', 'argo', 'nobly', 'trumpism', 'greeting', 'doric', 'sperm', 'iest', 'councillor', 'seizure', 'telegram', 'bloated', 'illegally', 'bahurim', 'whoso', 'unanimously', 'awkward', 'pneumonia', 'betrayer', 'xxi', '31:32', 'sibbald', 'fructifying', 'grovelling', 'yoest', 'deepely', 'cana', '41:6', 'tranquo', 'hottest', 'abijam', 'losing', 'aiah', 'emetic', 'mortal', 'exerting', 'gathered', 'counterpoise', 'bondholder', 'douglas', 'clothe', 'busied', 'tenant', 'hemisphere', 'nimbly', 'madam', 'tilgathpilneser', 'formality', 'fling', 'edgeworth', 'butterfly', 'bilhan', 'pallid', 'leathern', 'dominating', 'sprouting', 'risky', 'linking', 'pursuer', 'limelight', 'word', 'encouraged', 'amounting', 'designing', 'measuring', 'caulk', 'muddy', 'kidnap', 'lee', 'd.c.', 'den', 'clinton', 'prejudiced', 'conversation', 'coated', 'ceo', 'imprisoned', 'harmony', 'jew', 'ecstasy', 'purification', 'pleasant', 'laughest', '28:6', 'rapture', 'disconcerted', 'voting', 'downtown', 'invading', 'sconce', 'samaria', 'nachor', 'beleeue', 'bayonet', '4:14', 'willow', 'diffidence', '3,000', 'lapsed', 'swaddled', 'watering', 'humoredly', 'print!**for', 'netophah', 'baltic', 'northumberland', 'drummer', 'reformation', '1.play', 'bout', 'cobbling', 'slink', 'donated', 'insincere', 'pilate', 'laboriously', 'blasey', 'blossoming', '25:30', 'contemporary', '+', 'electing', 'magog', 'denver', 'loines', 'elah', 'loyall', '22:39', 'adopting', '35:3', 'cherub', 'helped', 'putnam', '361,000', 'stretcht', 'distinguish', '41:28', 'injunction', 'binnui', 'undergrowth', '30:38', 'roareth', 'irrevocably', 'older', 'scornful', 'liberal', '17:35', 'presumption', 'ransacked', 'spry', 'tearmes', 'greedily', 'monkford', 'royalty', 'rare', 'chilled', '29:19', 'chute', 'reveller', 'shtick', 'lintel', 'faithless', 'voyagings', 'shabbethai', 'toothpick', 'confiding', 'exmoor', 'blaze', 'ruler', 'harsha', 'sighing', 'plotted', 'wacko', 'flurry', 'forsaketh', 'pepper', 'philando', 'housework', 'vacuum', 'complicated', 'bead', 'hung', 'dose', 'rustling', 'disport', 'alexandrian', 'womanhood', '6:49', 'practical', \"weigh'd\", 'hillock', 'humiliated', 'river', 'recording', 'blubber', 'walled', '13:22', 'plight', 'obstinately', 'grizzly', 'law', 'poisoning', 'crucible', \"ebb'd\", 'license', 'crested', 'compel', 'ordained', 'circular', 'enters', 'insupportable', '7:36', 'athletic', 'exploiting', 'balm', '53:2', 'dazzled', 'tenaciously', 'antony', 'wrapt', 'thank', \"you'l\", 'promontory', 'vega', 'ikata', 'ellison', 'phallic', 'nobel', 'machpelah', 'spendeth', 'that--', 'wag', \"on't\", 'dalroy', 'eastward', 'lake', '35:19', 'flashing', 'tenderer', 'electric', 'chi', 'adolf', 'wonted', 'manger', 'conuert', 'governing', 'cookie', '22:23', 'jingling', 'unilateralism', 'milky', 'routed', 'remedie', 'gouge', 'heroic', 'wolf', 'rueful', 'jamaica', 'verity', 'molech', 'zedekiah', 'cockney', '48:18', '                         ', 'interruption', 'muffled', 'fringe', '29:8', 'fairylike', 'shipwreck', '6:47', '69', 'caroline', 'sable', 'multitude', '44:25', 'hardness', 'pealing', 'comstock', 'mutely', 'blister', 'now----', 'applicable', 'vice', 'odd', '24:44', 'closer', 'colonial', 'donkey', 'longitude', 'unction', 'potent', 'choosest', 'paste', 'newness', '26:47', 'indecorous', 'bargaining', 'sidestep', 'jeremy', 'jonadab', 'mobile', 'contagious', 'battell', 'rood', 'sanballat', 'expels', 'ejaculated', 'stride', 'pertains', 'recouer', 'manned', 'mink', 'campaigner', '22:20', 'cuomo', 'passive', 'hemp', 'illuminate', 'join', 'alpine', 'volumnius', 'scenario', 'baked', 'dazzling', 'deportee', 'laded', 'singled', 'profited', '17:16', 'ives', 'dealing', 'ruminating', 'condescending', 'deathly', 'berechiah', 'servility', 'pigeon', 'euerlasting', 'secures', '18:4', 'brightness', 'applause', 'schneiderman', 'cleaved', 'exoneration', 'terre', 'cyprus', 'turnstile', 'detention', 'beaked', 'jesaiah', 'berea', 'lookt', 'sustained', 'carchemish', 'defers', 'breathing', 'scour', 'nail', 'elizabethan', \"dishearten'd\", 'overtook', 'shuttle', 'assos', 'tyrant', 'trafalgar', 'enticed', 'appeasing', 'gently', 'enfranchisement', 'unsought', 'stringed', 'overturning', 'magnetism', '40:32', 'dot', 'unbidden', 'casement', 'pry', 'whereon', 'sketch', 'dystopia', 'surgery', 'positively', 'strange', 'monongahela', 'n.', 'bill', '45:20', 'benjamin', 'starbucks', 'abeyance', 'thereto', 'fleeing', 'grinder', 'bidens', 'loser', 'expeditiously', 'mania', 'beckoning', 'disqualified', 'strictest', 'curse', '28:38', 'girth', '6:32', 'athenaeum', 'happiness', 'equilibrium', 'argentine', 'no', 'remind', 'midianites', 'purchaser', 'hospitality', 'theology', 'retaliates', '40:2', 'arraying', 'season', '42:2', 'servitor', 'hegel', 'slowdown', '24:27', 'sexual', 'damage', 'nam', 'winthrop', 'ahiah', 'venturing', 'shemida', 'previous', 'fatall', 'rarity', '65:6', 'seniority', 'mint', 'manipulated', 'condo', 'hourly', 'anomaly', 'jagged', 'stacked', 'notoriety', 'potion', 'sceptical', 'bolton', 'bind', 'ludim', 'anchorage', '46:3', 'scrupulous', \"vrg'd\", 'breastplate', 'bailiff', 'nivir', 'dressed', 'na', 'beate', 'ginsburg', 'hobab', 'feelings--', 'comfortable', 'youthful', '15:49', 'flippant', '37:38', 'fourfooted', 'tilde', 'mike', 'brute', 'surgeon', 'summer', 'conciliation', '13:23', 'detract', 'matter--', 'harnessed', '38:24', 'chef', 'unwillingly', 'se', 'mill', 'hit', 'crest', 'bard', 'killes', 'andreessen', 'succeed', 'carnally', 'elk', 'delighteth', 'prepossessing', 'tassel', 'muscari', 'pulverizing', '15:46', 'dictator', 'jump', 'gnaw', 'archibald', 'griffin', 'duterte', 'blended', 'comparing', 'obeisance', 'revelled', 'selah', 'peremptory', 'parisian', 'exceeded', 'costly', 'airily', 'accessory', 'dent', 'ponderous', 'oppressing', 'decreased', '19:28', 'exhalation', '47:16', 'jehoahaz', 'hare', 'taking', 'mermaid', 'pleading', 'tawn', 'greg', '29:35', 'infatuation', 'undermining', 'hecat', 'poetry', 'grenadier', 'invigorates', 'celestial', 'flowered', '9:28', 'deliberation', 'exaggerated', 'estate', 'mephibosheth', 'covetous', 'discussion', 'portentous', 'to----', 'sammy', 'tropic', 'singleness', 'speakest', 'signature', 'manx', \"bestow'd\", 'fastened', 'towring', 'ram', 'forewarning', 'fawning', 'kedemah', 'briton', 'foote', 'squeaky', 'botched', 'disease', 'elzabad', 'surface', 'excited', 'satisfaction', 'forsaking', \"unreturn'd\", 'astronomer', 'commemorates', 'pupil', 'joke', \"cert'nly\", 'supped', 'artemidorus', 'auarice', 'pedestrian', 'brer', '35:10', 'cloven', 'brunt', 'allied', 'prisoner', 'amicable', 'like', 'elected', 'amittai', 'loued', 'mattress', '26:52', 'peep', 'tuileries', 'meteorite', 'intruding', 'vote', 'disengaged', '25:13', 'hamburger', 'scowling', 'reinhold', 'undesirable', 'stubbornly', 'preston', 'convalescence', 'uncondemned', 'readiness', 'progression', 'conjoined', '56:1', 'variance', 'fulness', '23:46', 'behinde', 'predicted', 'clamber', 'nbcuniversal', '4:17', 'dungeon', 'victor', 'caiaphas', 'destroye', 'intimately', 'noyse', 'descent', 'ember', '7:41', 'sunrising', 'blighted', '99', 'exasperate', 'end', 'dubiously', 'latifah', 'ko', 'cooperating', 'recommend', 'advise', 'inconsistency', 'unconcern', 'roe', '28:30', 'ounce', 'round', 'remorse', 'hushim', '20:9', 'tremendously', 'cynically', 'thanksgiving', 'necessitates', 'reserving', 'foreseeing', 'debunked', 'forewarn', 'helmet', 'champollion', 'writing', 'storehouse', 'brood', 'parricide', 'aspired', 'tight', 'thanos', 'habitude', '15:4', 'devin', 'on--', '43:19', 'zoba', 'dle', 'displayed', \"dishevel'd\", 'joiada', 'international', 'exercise', 'synagogue', 'worst', 'friendly', 'sprinkle', 'taxed', 'ever!--huzza', 'elucidated', 'edomite', 'growl', 'congregation', '1778', 'rowdy', 'osr', 'breasted', 'humorously', 'solicitor', '6:61', 'scoffing', 'primrose', 'reade', 'malta', 'primitive', '40:36', 'european', 'piping', 'rellish', 'logic', 'see!the', '33:13', 'balboa', 'rie', 'hitler', 'damaged', '                          ', 'lured', 'greefe', 'euents', 'penelope', 'charleston', 'husk', 'dq', 'mahogany', '22:18', '26:56', 'terrify', 'kink', 'is', 'mastery', 'aspect', 'brewing', 'whist', 'coughing', 'unforgivable', 'automatically', 'fanatical', 'tuned', 'persia', 'liveth', 'quaternion', 'villars', 'movable', '40:19', 'bosh', 'malt', 'brawler', 'sailed', 'canaller', 'noticing', '35:31', 'houre', 'tantrum', 'inclination', 'dogma', 'slumberer', 'forster', '9', 'sepulchre', 'original', 'reu', 'untravelled', 'listener', 'communication', 'majestic', 'undertake', 'gaily', 'diseased', 'tittle', 'pentagon', 'banner', 'erudite', 'desultory', 'highest', 'silent', 'tailed', 'handpicked', 'shetharboznai', 'thai', 'telleth', 'contemptibly', 'struck', 'cheery', 'hesperus', 'garrison', 'thummim', 'hvalt', 'disavow', 'hoglah', 'quickly', 'computer', 'unchanging', 'forgettest', 'knocked', 'periodically', 'mypillow', 'hideous', 'multiplies', 'monsanto', 'unthankful', 'molten', '36:22', 'crost', 'simpson', 'pert', 'determine', 'kansa', 'coined', 'womanly', 'guarded', 'breaching', 'undercut', '21', 'substitute', 'decides', 'crank', 'shaker', 'instalment', 'bullshit', 'delaware', 'eshcol', 'childe', 'idiotic', 'least--', 'antic', 'recognize', 'atlantis', 'indecent', 'parson', '2:1', 'deripaska', 'ahikam', 'slackness', 'wretchedly', 'raftsman', 'holy', 'all.--i', 'zachariah', '44:2', 'revocation', 'worthily', 'out--', 'teacher', 'levite', 'beguiling', 'misinform', 'woof', 'leade', 'refer', 'reminding', 'adopted', 'kingship', 'unreserve', '66:3', 'melchi', 'shot', 'chides', 'tride', 'publication', '3:44', 'hurrying', 'dashwoods', 'pronouncing', 'seaport', 'honoring', 'sagacious', 'glaring', 'indisputable', 'dulcimer', 'puppet', 'crownprince', 'read', 'crimson', 'invulnerable', 'luhith', 'skirmish', '36:1', 'haggi', 'quartus', '16:20', 'acquit', 'slum', 'muteness', 'smote', 'deficient', '51:15', '49:8', 'mutable', 'employment', 'lefthanded', 'taper', 'exulting', 'reticule', 'disc', 'lie', 'alluding', 'boarder', 'soothsayer', 'colouring', 'extensive', 'crucial', 'rodrigo', 'acquaintance', 'lengthening', '11:25', 'thereabouts', 'primeval', 'haire', '60:12', 'feuillage', 'elsonower', 'inheritor', 'sinite', 'rabmag', 'unsullied', 'casuistry', 'firewood', 'oakes', 'cherubick', 'jihad', 'rapine', 'ceti', 'amplification', 'repartee', \"stain'd\", 'cherubims', 'warping', 'punched', \"dispel'd\", 'pulling', 'hispanic', 'demoniac', 'those', 'dislike', 'placed', 'jeroboam', 'thinned', '48:13', 'sensibility', 'trailer', \"d'souza\", 'smuggler', 'delicious', 'felled', 'speediest', '38:13', 'smarter', 'quoin', 'resignation', 'loggerhead', 'uglification', '1:39', 'wool', 'frailest', 'slunk', 'alice', 'barcelona', '33:25', 'graveclothes', 'implores', 'extended', 'gentlemanlike', 'invest', 'reaction', 'sagacity', 'breed', 'satisfying', 'culloden', 'outweighs', '1.3', '12:20', '75,000', '22:15', 'despiseth', 'azore', 'borneo', 'campaign', 'chick', 'diuell', 'whatsoeuer', \"o'that\", 'quo', 'desperately', 'thunderbolt', 'deceit', 'ephraimites', 'effrontery', 'room', '44:8', 'winged', 'diffident', 'ardern', \"claim'd\", 'filled', 'wingfield', 'enduring', 'hightened', 'wondered', 'feelest', 'abstemious', 'rate', 'indiaman', 'pull', 'primary', 'woodcock', 'chafed', 'yell', 'preparest', '30', 'wouldst', 'orient', 'torpedo', '38:1', 'syndrome', 'solicitation', 'week', 'looketh', 'desperation', 'unremitting', 'le', 'begger', 'wealthy', 'blasphemer', 'contriuer', 'scott', 'middlemost', 'feede', 'early', 'animated', 'drought', 'slumbrous', 'question', 'feares', 'swarming', 'madman', 'linnaeus', '29:40', 'enuious', 'streaming', 'expanse', 'sheddeth', 'minnesota', 'gymnasium', 'unfair', 'chin', 'juncture', 'diminution', 'expulsion', 'referee', 'excepted', 'raged', 'leane', 'momentary', 'luggage', '41.5', 'countrey', 'mega', 'fitly', 'smothered', 'commissioner', 'reich', 'engineering', 'saylors', 'heweth', 'habitable', 'sheeran', 'crumpled', 'reluctant', 'blight', 'wheugh', 'peloton', 'handsomest', 'formes', 'forefinger', 'tames', 'frenzy', '13:15', 'giue', 'u.k.', 'keener', '12:41', 'firmer', 'ayme', 'adjusting', 'grocer', 'bannister', 'psychiatric', 'painful', 'shutter', 'befriended', 'rubbing', '500th', 'sceptred', 'spasm', 'smoking', 'confounds', 'tornado', 'defective', 'unacquainted', 'shone', '44:7', '61:1', '27:8', '31:49', 'meetest', 'betsy', 'dershowitz', 'unclosed', 'untwisting', 'exalted', 'singularity', 'questioned', '25:24', 'pecked', '14:11', 'executed', 'drugger', 'snob', 'inhospitable', 'sixe', 'rulest', 'doomesday', '50:5', 'guil', 'interfere', '26:16', 'decked', 'odin', 'bareheaded', 'maidservant', 'fretful', 'loan', 'militia', 'leader', 'sexually', '23:13', '2020', '15:39', 'schultz', 'undeviating', 'inspiring', 'guilty', 'mcu', 'fidget', 'zuckerberg', 'contamination', 'infection', 'canopy', 'chip', 'thinnest', 'weather', 'spearmen', 'izharites', 'cockroach', 'marijuana', 'lowest', '61:6', 'affayres', 'weyward', 'horhagidgad', 'lounge', 'submits', 'searching', 'dote', '65:8', 'bristol', 'exhausting', 'dreameth', 'likeliest', \"they'l\", 'bravery', 'bathed', 'computing', 'distressed', 'delaford', 'and----', 'clockwork', 'talebearer', 'proved', 'battledore', 'depends', 'ineffectually', 'ar-15', 'kushners', 'pound', 'thoroughly', 'retracing', 'tuning', 'irreproachable', 'mettlesome', 'canvassing', 'assortment', 'herculaneum', 'perjury', 'deutsche', 'booker', 'fiscal', 'traffick', 'traditional', 'lengthwise', 'limited', 'selectest', 'bobcat', 'defining', 'restraining', 'forgot', 'vnmannerly', 'unfrequented', 'motive', 'court', 'terraqueous', '9:50', 'angelical', 'performing', 'gendereth', 'remiss', 'packaged', 'fleece', 'stammered', 'persecutest', \"i'ue\", 'acuteness', 'ioy', 'procedure', 'enjoined', 'matchless', 'ravine', 'planet', 'mitch', '17:9', 'hindoo', 'trusteth', 'diversion', 'yellow', '19:16', \"rul'd\", 'enthusiastically', 'chaffetz', 'of--', 'rectory', 'enveloped', 'reproductive', 'stephen', 'executor', 'teachest', 'obscurely', '-i', 'depriving', 'slighter', 'surrounded', 'scorned', 'banish', 'micah', 'unkindness', 'eddying', 'retraction', 'pillow', 'generate', 'dua', 'gloomy', 'kenaz', 'ear', '14:47', 'animation', 'custard', 'environmental', 'indirection', 'kiss', 'sordid', 'jose', 'fade', 'converge', 'them', '3:48', 'vniuersall', '2:55', 'amalekite', 'newton', 'grecia', 'spacey', 'kidd', 'testator', 'dr.', 'foundering', 'sawing', 'irresponsible', 'precedes', 'stagnation', 'hod', 'pith', '55:3', 'recusal', 'cainan', 'marries', 'someday', 'busiest', 'danites', 'commotion', '36:29', 'enrages', 'darkly', 'brush', '4:2', 'virginia', 'tinker', 'cote', 'tombed', 'infancy', 'lingered', 'archipelago', 'informal', 'spurned', '92', 'considerate', 'pittifull', 'osricke', 'greedy', 'disobedient', '50:7', 'semicircular', 'plunder', 'bethshan', 'dmz', 'cabos', 'bustling', 'trowsers', 'solves', 'defending', 'cloudlets', 'saloon', \"deseru'd\", 'scaena', 'indure', 'raiseth', 'cheer', 'clapping', 'providential', 'suicide', 'seemes', 'hood', 'fanshaw', '113', 'discerned', 'snowdrop', '14:10', 'reflect', 'assemble', 'mosul', 'greek', 'honourably', 'candlestick', 'daughers', 'ambition', 'billy', 'dusk', 'certaine', 'noncitizen', 'arimathaea', 'hornet', 'davis', 'fresno', '14:52', 'greenspan', 'swept', 'judiciary', 'israeli', 'escort', 'loneliness', 'jehoash', '                                              ', 'motif', 'gangway', 'tortoise', 'broader', 'kitchen', 'hammering', 'clovenfooted', 'hong', \"by'th\", 'thickness', 'teeming', 'earnestness', 'inhabiters', 'rebuilt', 'slumber', 'disclosing', 'proportionate', 'shebuel', 'giues', 'amazed', '20:38', '27:17', 'retribution', '27:9', 'thickly', 'emerson', '7.75', '34:23', 'isolate', 'wanting', 'grandson', 'wonderment', 'blueness', 'possesseth', 'know--', 'amazingly', 'tendeth', 'speaks', 'ornate', 'warlord', 'stedfastly', 'antenna', 'internet', 'puissant', 'judgest', 'accuses', 'stage', 'unawares', 'buckwheat', 'sihor', 'shameful', 'drury', 'press', 'reasonableness', 'laughing', 'infer', 'whipping', '27:16', 'rigor', 'cannibalism', 'beijing', '4:29', 'foregoing', 'traveler', 'unbearable', 'abuser', 'uranium', '16:39', \"return'd\", 'conjugal', 'labour', 'scream', 'kalashnikov', \"ye've\", 'vertue', 'modulated', '9:16', 'mushi', 'emit', 'warriour', 'denied', 'floor', 'extra', 'presto', 'enable', 'musgrove', 'insolence', 'lgbtq', 'report', '60:8', 'bashan', 'lateness', 'mustering', 'rush', 'pacify', 'whitened', 'exported', 'detriment', 'hum', 'david', 'cozy', 'rapacious', 'ween', '35:11', 'infiltrated', 'bruited', 'counselled', 'walkout', 'unquiet', 'texan', 'lowing', 'yore', 'staple', 'seruant', 'tanner', 'leant', 'broiling', 'drawest', 'regeneration', 'jakarta', 'baron', '18:31', '45:1', 'narrowed', 'purest', '22:42', 'covet', 'zelotes', 'hyperborean', 'beor', 'nogah', 'mulligan', '50:21', 'mourneth', 'pollution', 'federico', 'u.', 'mortgage', 'repeated', '82', 'highwayman', 'hedge', 'known', '52:4', 'command', 'christie', 'affliction', '36:38', 'catched', 'nonchalance', 'scare', '115', 'olympics', 'gertrude', 'ipsos', 'gilt', 'sheepe', '7:54', 'ticket', 'giant', 'explanation', 'mistook', 'ithran', 'madly', '--that', 'profit', 'nebuchadrezzar', 'gallery', 'imagine', 'eidolon', 'pandemonium', 'windlass', 'disney', 'ater', 'zso', 'wheat', 'betokening', 'fury', 'poplar', 'gudgodah', 'timotheus', 'flickering', 'sulphurous', 'alarming', 'stake', 'avalanche', 'pennant', \"perform'd\", 'april', 'diplomat', 'quell', 'embarked', 'cruet', 'describes', 'genetic', 'formeth', 'kayleigh', 'delingpole', 'insect', 'palmed', 'retired', 'grudge', '38:23', 'jam', 'chewing', '27:45', 'heather', 'standstill', 'push', 'couple', 'requested', '547', 'patch', \"key'd\", 'rosse', 'dwellingplaces', 'amminadab', 'daberath', 'performe', 'recklessness', 'preparing', 'prankster', 'heard', '40:22', 'perspective', 'array', 'erick', 'slows', 'furtherance', 'broadens', 'corrupters', 'subtil', 'escheweth', 'wearied', '40:11', 'toyles', 'scythe', 'overlooking', 'pshaw', 'belshazzar', 'arab', 'brevity', 'pomona', 'knightleys', 'arrangement', '33:9', 'inspire', 'supernatural', 'complaisance', 'qaboos', 'cox', 'now;--', 'h.w.', 'july', 'crusader', 'bustle', 'chain', 'routinely', 'strove', 'starless', 'cleanse', 'sur', 'tipline', 'center', 'manufacture', 'affronted', '16:42', 'sierra', 'happiest', \"sinn'd\", 'beaten', 'reseated', 'dreamer', 'fritter', \"ar't\", 'telecommunication', 'circumcise', 'collectively', '1:11', '4,000', 'collaborator', 'seven', '6:23', 'unfaithful', 'almighty', 'looseness', 'y.sey', '48:24', 'zinke', 'photographer', 'rocke', 'province', 'incrustation', 'quake', 'nosegay', 'thankes', '19:31', 'imprudent', 'domain', 'sharpened', 'villaines', 'wellspring', 'romanza', 'poniard', '8:2', 'agonizing', 'smell', 'comprehended', 'awe', 'droll', 'threatens', '51:14', \"say'st\", '48:22', 'compatible', 'hugh', 'perform', '52:9', 'trailing', 'jabesh', 'despitefully', 'drape', 'alteration', 'assent', 'barge', 'stimulated', 'chasteneth', 'unusually', 'premier', 'pointed', 'madame', \"gouern'd\", 'jesiah', 'groping', 'backwards', 'streep', 'columbia', 'randalls', '33:32', 'pisseth', 'anticipatingly', '31,000', 'languishing', 'amc', 'hoisting', 'narcissism', 'sinister', '13:29', 'citing', 'cinna', 'terrorism', 'searcheth', 'tahath', 'finland', 'madhouse', 'consenting', 'mahlites', \"cur'ous\", '63:9', '301', \"possess'd\", 'tattooings', '43:22', \"s'pose\", 'operate', 'manages', 'it?--', 'turley', 'gentility', 'corbyn', 'hospital', '5:3', 'filleth', '28:7', 'employ', 'culture', 'bestowed', 'exhortation', 'meeting', 'associate', 'dispraise', 'secrecy', 'lavish', 'squash', 'seeking', 'ospray', 'type', 'attack', 'canelo', 'senile', 'caleb', 'horizontally', 'accessible', 'forget', 'breefely', 'prickt', 'deform', 'exudes', '54:4', 'basic', 'weaving', 'twirl', 'shelah', 'curing', 'realm', 'parted', 'bitten', 'louisianian', 'credible', 'stiffnecked', '60,000', 'patronised', 'spurred', 'ebooks', 'egress', 'cosby', 'constitution', 'pensive', 'puppyism', \"loos'd\", 'sheepskin', 'ebronah', '1.2', 'gasp', 'narrower', 'singing', 'slipping', 'eligibility', 'mabel', 'weston--', 'pretty', 'deficiency', 'preserveth', 'whereabouts', 'unhurt', 'it--', 'grossness', 'diabolism', 'exorbitant', 'fearlessness', 'transcending', 'indubitable', '15:28', 'rule', 'inquietude', 'eligible', 'protegee', 'manager', 'endowment', 'consummate', 'contend', 'interpolation', 'cataract', 'grouse', 'pathless', 'exec', 'bush', 'inkling', 'image', '31:52', 'random', 'europe', 'vacuity', 'cared', 'notification', 'warble', 'collective', 'excite', 'accesse', 'donalbane', '40:13', '3:4', 'deadliest', '340', 'innumerable', 'averred', 'out,--', '2004', 'definition', 'proposition', 'declares', '11:40', 'booed', '14:3', 'obiects', 'marrieth', 'powerful', 'disquieted', 'flush', '2:21', 'father--', 'catcher', \"coffin'd\", 'ubuntu', 'foretold', 'beholder', 'extremism', 'bedan', \"a'most\", 'inasmuch', 'marling', 'sofa', 'excepting', 'dolefully', 'tomorrow', 'leviathanic', 'outgrown', 'outstretched', 'billionaire', 'favour', 'veritas', 'graving', 'vegetable', 'secreted', 'fix', 'amply', 'worthinesse', 'forceful', 'ducroix', 'damned', 'absolved', 'seclude', 'soliciting', 'sleep', 'subsequent', 'tranquillity', 'concurred', 'hater', 'booby', 'thebe', 'paradoxical', '37:20', 'em', 'patriot', 'dreamily', 'mareshah', 'sutors', 'thereat', 'express', '$', 'unfound', 'helianthus', '24:1', 'lepidus', 'considereth', 'expediency', 'trader', 'bone', '36:26', 'attends', 'obstruction', 'susan', 'amplitude', 'provoke', 'constancie', 'eloi', 'adl', '6:54', 'besmeared', 'stript', 'brakest', 'kremlin', 'deliberate', 'pitied', 'spleen', 'fortify', '19:32', 'so?--', 'balancing', 'feature', 'disburden', '7:34', 'gained', 'cur', 'abdomen', 'news', 'unleashed', 'mutineer', 'robe', 'gedor', 'revise', 'countryside', 'heere', 'assistant', 'grievousness', 'brie', 'en', 'mouldering', 'jester', 'ideology', 'undone', 'gentlemanly', 'vulnerability', 'engirth', 'larch', 'cracked', 'delighted', 'helem', 'ballroom', 'eyeservice', 'atm', \"poyson'd\", 'plaine', '41:14', 'mercia', 'carmi', 'notice', '950', '13:20', 'adornment', 'cloud', 'unimpaired', 'totok', 'vulture', 'swears', 'suffrage', 'deere', 'gutter', 'boldest', 'abel', 'economist', 'planning', 'gulp', 'cernan', 'impudent', 'chasing', 'encampment', 'avaricious', 'pratt', 'gobble', 'mistaken', 'rep', 'spiralling', 'backer', 'requiring', 'graduation', 'steeper', 'reioyce', 'bloodless', '20:6', 'post', 'biography', 'bethlehemite', 'club', 'generated', 'kneeling', 'upholding', 'gryphon', 'unperturbed', 'tyrannic', 'gemariah', 'jahath', 'extortioner', 'disgorging', 'visiting', 'firmly', 'mission', \"might'st\", 'sewer', 'cloak', \"bak'd\", 'beset', 'willis', 'morter', 'cruising', 'altereth', 'sire', 'matrix', 'bonfire', 'church', 'meagre', 'madagascar', 'parsonage', 'timeline', 'eliel', '27:18', 'promulge', 'worldly', '12:8', 'crisis', 'masquerade', 'leaping', 'solander', 'intolerant', 'chappell', 'hyssop', 'fraud', 'schoole', 'strode', '62:10', 'caravan', 'accidentally', 'twelfth', 'harim', 'ablaze', 'equipage', 'fragmentary', 'ravin', 'reacheth', 'ishmael', 'spiracle', 'supplying', 'cleanness', 'history', 'deplored', 'sympathise', 'notched', 'disinviting', 'gray', 'knave', 'vindication', 'hysterical', 'ordered', 'betrays', 'biased', 'saying,--', 'tincture', 'exhaustion', 'worketh', 'circulate', \"slaughter'd\", '37:36', 'weakest', 'wimpey', 'meshullam', '25:36', 'cracking', 'inexpensive', 'grimly', '9:48', '52:13', 'treb', 'necho', 'kerchief', 'au', 'phrygia', 'freak', 'offset', \"sail'd\", 'approaching', '21:40', 'properly', \"star'd\", '29:36', '24:18', 'superseded', 'elisha', 'human', 'tho', 'refraction', 'nosedive', 'attributed', 'thereout', 'modified', 'bewrayeth', 'right.--', 'consideration', 'organizing', 'meholathite', 'effeminate', 'prosperous', 'thieving', 'benevolently', 'kenyan', 'superman', 'nowadays', 'leanfleshed', '3:16', 'skie', 'lewdness', 'skiff', 'flesh', 'memphian', 'profounder', 'wickedly', 'forger', 'obtain', '7:26', 'armoury', 'maintained', 'scornest', 'elton', 'invisible', 'resonates', 'flexion', 'denmark', 'kasper', '138,000', 'mushites', '28:21', 'vile', 'gentlewoman', 'profoundly', 'litigious', 'jaazaniah', 'deceived', 'flag', 'melon', 'henceforward', '6:50', 'depressed', 'ephah', 'hero', 'abstracting', 'deliberately', 'burqa', 'mightily', 'manoeuvring', 'cemetery', 'compounded', 'offing', '34:27', 'expire', '38:11', '31:26', 'buoyant', 'omnipotent', \"o'neill\", 'hell', \"o'ryan\", 'coffin', 'plaited', 'celt', 'urgent', 'canted', 'focus', 'lendeth', 'zimri', 'keenest', 'purim', 'nursing', 'nearer', 'practised', 'or', 'operating', 'powder', 'leper', 'kore', 'hypocritical', 'bright', 'failed', 'superstitiousness', '31:14', 'wrestling', 'recognizing', '46:10', 'chinneroth', 'forborne', 'eminence', 'teneriffe', 'sniper', 'retrieve', 'farmhouse', 'cruell', '1:19', 'unperceived', 'crudely', 'tense', 'selling', 'adversity', 'beautie', 'capability', '14:31', 'unceasing', 'supposes', 'jerusalem', 'hostler', 'jubilant', 'fernando', 'embellished', 'incurring', 'hovers', 'protectionism', 'refine', 'starting', 'wedged', 'mew', 'youth', 'interpret', 'sped', 'madest', 'gnashed', 'tile', 'kronos', 'thatch', 'sleepy', 'bullfrog', 'he--', 'gouerne', 'heretofore', 'contempt', 'utah', 'sunder', 'painless', 'teak', 'detection', 'chorazin', 'conservatism', 'inconvenient', '100k', 'planed', 'portrays', 'letter', 'tasted', 'satire', 'outfit', 'headbangers', 'fidelity', 'ever', 'seemly', '25th', 'tenderly', 'unabated', 'priest', 'sendeth', 'firefighter', '11:45', 'ball', 'devolved', 'baby', 'defeating', 'undulating', 'classroom', 'provoked', '11:12', 'tract', 'recognised', 'loatheth', 'audacious', 'epilepsy', 'nazarene', 'cropped', 'tallow', 'proceed', 'laughter', 'clod', 'stumbling', 'persuasively', 'frustrated', 'philistia', 'limbo', 'cybercrime', 'dealt', 'procure', 'foxconn', 'sodden', 'rainforest', 'odorless', 'flavor', 'exhaling', '34:18', 'sobered', 'sneaking', 'balk', 'slaying', 'pleiades', 'eshton', 'sieve', '14:15', 'phichol', 'killer', 'signified', 'manipulation', 'branded', 'stature', 'purging', 'candide', 'journey', '15:2', 'meadow', 'hearkening', 'improve', 'malay', 'otto', 'couched', 'odour', 'bosnia', \"nam'd\", 'asserted', 'identical', 'forgetteth', '29:21', 'idolater', 'riblah', 'destination', 'sihon', 'cinder', 'demy', 'tarrying', 'italy', 'til', 'counterpart', 'unscrew', '41', 'jugular', 'largeness', 'parry', 'industrial', 'farrell', 'sarandon', 'wane', 'salmon', 'addeth', '9:53', 'hariph', 'trenched', 'sexist', 'restricted', 'hauteur', 'luck--', 'shine', 'noncriminal', 'thereunto', 'surprising', 'squeaking', 'expiring', 'delaiah', 'dialect', '15:31', 'isaac', 'quart', 'cyrene', 'commandest', \"sleep'st\", 'thyself', 'gore', '3d', 'mishandling', 'grego', 'fanned', 'orange', 'amount', '32:20', 'unintelligent', 'entangled', '23:45', 'feeder', 'slouching', 'fall', 'claw', 'hedgehog', 'jeopardized', '29:7', 'globalist', 'enabled', 'spoon', 'spying', 'fain', 'dovelike', '32:39', 'unsavoury', '2010', 'coasting', 'protective', 'cautiousness', 'sey', '1851', '62:8', 'asphaltic', 'waned', 'peece', 'ancestor', 'abstractedly', 'racing', 'reception', 'revelation', 'yo', 'health', 'arcadian', 'strucken', '5:8', '26:54', 'hook', 'grief', 'spiced', 'vamp', 'heir', 'incidental', 'genially', 'stamped', 'straightened', 'skit', 'palsied', 'pertaineth', '26:49', '9:36', 'enuy', 'kohathites', 'eh', 'rigidity', 'use', 'fetor', 'importing', 'wsj', 'helpless', 'elzaphan', 'fourteen', 'zimbabwe', 'stare', 'hemath', 'fairfax.--', '30:21', 'sicknesse', 'awakening', 'economic', 'banksy', '5:25', 'steered', 'ironclad', '55', 'broadcloth', 'create', 'griefe', 'arbitration', 'dryad', '39:2', '14:32', 'directv', 'lifeless', 'legging', 'boiler', 'skripal', 'mall', 'foresee', 'aminadab', 'benevolent', 'civilized', '23:22', 'tread', 'cormorant', 'irishman', 'ciuill', 'elizur', 'timor', 'seed', 'hay', 'worm', \"steep'd\", 'decapitated', 'park', 'bolster', 'tow', 'cleaue', 'deede', 'slothfulness', 'contentment', 'blazed', 'disabling', 'bottled', 'inured', 'twopence', 'philippian', 'confidant', 'stronghold', 'gilded', 'behooves', 'constellation', '112', 'actively', 'presentment', 'extend', 'rocking', 'smart', 'accompaniment', 'hichilema', 'blur', 'spool', 'reuerence', 'theirs', 'inferior', 'naughtiness', 'raked', 'snowflake', 'bear', 'pelethites', '45:2', 'nazca', '6:5', 'kislyak', 'humbug', 'vastness', 'cobweb', 'ravaged', 'boring', 'depth', 'threescore', 'agile', '22:9', 'rebuking', 'wipeth', 'moue', 'cure', 'louse', 'pyrrhus', 'winked', 'posy', 'denies', 'distress', 'environ', 'celebrates', 'undulated', '4:19', 'puah', 'howbeit', 'goest', 'fatal', 'thousand', 'cleopatra', 'slip', 'guggenheim', 'nay', 'anger', 'taught', 'whereof', 'vehemence', 'crier', 'renowned', 'courteous', \"unexpress'd\", 'investigation', 'pitcher', 'especial', 'coverlet', 'groanings', 'pureness', 'discredit', 'zattu', 'fomorian', 'v', 'perished', '12:28', 'imputable', 'senaah', 'shifted', 'reapeth', 'win', 'sicken', 'mantelpiece', 'advert', '13', 'catalogue', 'sturgeon', '36:18', 'resigns', 'pleasing', 'devastating', 'hish', 'mincing', 'msnbc', 'wronged', 'lag', 'evermore', 'legislation', 'blasio', 'hungrily', 'apologized', 'relented', 'lock', 'emailing', 'muslim', 'craggy', 'enraged', 'steyer', 'sponsor', 'strikingly', 'abatement', 'enjoyment', 'dean', 'fine', 'bravest', 'spur', '50:8', 'scrutiny', 'equiuocation', 'straitly', 'claudio', 'norway', 'settling', '31:30', 'basons', 'cleared', 'insipidity', 'fatherly', 'whistling', 'prevails', 'whimpering', 'framework', 'amusement', 'benediction', 'anak', 'chimpanzee', 'abstract', 'mahanaim', '52:2', 'mibzar', 'meditating', 'brotherhood', 'elegantly', 'guam', 'topmost', 'spue', 'tenderest', 'release', 'appointee', 'servile', 'cornice', 'disconnected', 'prone', 'begging', 'pass', 'propitiation', 'perception', 'protestation', 'partridge', 'benevolence', 'hamathite', 'stinky', 'dissimulation', 'palsy', 'general', 'wagged', 'weaker', 'rejoined', 'melchizedek', 'languor', 'holiday', 'durand', 'portcullis', 'paying', 'loosed', 'mikneiah', 'oratory', 'foure', 'salathiel', 'vitriol', 'hopping', \"amaz'd\", 'entirely', 'rore', 'disdainful', 'lengthened', 'godhead', 'wealthiest', 'correctness', 'discern', 'khamenei', 'jerking', 'harassed', 'eel', 'send', '16:7', 'gibeonite', 'honestly', 'shop', 'antidote', 'impediment', 'seraphic', 'head--', 'resting', 'pedlar', 'aforetime', 'turned', 'concentric', 'harassment', 'twer', 'poohed', 'touchy', 'rithmah', 'valid', 'thirsting', 'fading', 'arbaeen', 'stifled', 'warmth', 'zigzag', 'souldier', 'generall', \"dismiss'd\", 'sprawling', 'straggling', 'partaker', 'consultant', 'wynn', 'liverpool', 'ithuriel', 'libni', 'gum', 'undervalued', 'leeward', 'bern', 'gier', 'policing', 'produce', '5:27', 'righteously', 'demeanour', 'sacred', 'railroad', 'decease', '40:8', 'noisome', 'legatee', 'productivity', 'sidewalk', '27:40', 'achim', 'beginner', \"peep'd\", 'libnites', 'zabdiel', 'wittenberg', '8:8', 'poured', 'overhaul', 'organizer', 'coloured', 'flutter', 'vtterance', 'having', 'lago', 'kneele', 'guni', 'guiding', 'philosophical', 'aliment', 'jochebed', 'kasich', 'allemaine', 'nourishing', '30:34', 'abdiel', 'alights', 'svechnikov', 'forwarded', 'noble', 'salad', 'quadrant', 'sob', 'deformed', 'pick', 'tweene', 'whirr', 'embellishment', 'saluation', 'frantically', 'acquired', '13:40', 'detains', 'eateth', 'giraffe', 'favouring', 'teresh', 'hooking', 'hug', 'derive', 'clarice', 'destroyed', 'moab', 'sustain', 'grigory', '48:11', 'lama', 'fluent', 'ralph', 'prevailed', 'bereaved', 'dryness', 'sunda', 'secluded', 'available', 'lodge', '17:40', 'cod', 'addrest', 'recount', 'wreathen', 'gorgeous', '33:33', 'brad', 'saoirse', 'tightens', 'degenerated', 'pleasantest', 'moseroth', '2.6', 'arvad', 'feareth', 'reaching', 'gaetz', 'already', 'fda', 'shema', 'armes', 'acquirement', 'destroyer', 'ft', 'breezy', 'dewdrop', 'verie', 'arranging', 'tour', 't.', 'wounding', 'hugely', 'lt', 'middling', 'offensively', 'excessive', 'people', 'rosetta', 'wechat', 'retreated', 'epic', 'ranke', \"lengthen'd\", 'chapo', 'pamphylia', 'erie', 'smartness', 'saw', 'slope', 'assembly', 'smartphones', 'supremes', 'glue', 'rumor', 'fellowsoldier', 'steadied', 'family', 'plastic', 'descended', '6:57', 'submission', 'search', '9:17', 'dorsetshire', 'oblige', 'satisfactorily', 'hinder', 'puffeth', 'wading', 'tolerant', 'onesimus', 'prey', 'quietly', 'cataclysm', 'observance', 'extortion', 'fossiliferous', 'spade', 'ladyship', 'father', 'habitue', '14:41', 'scoots', 'conscientious', 'jethro', '2:13', 'decree', 'extrication', 'heiligwaldenstein', 'golan', 'cache', '46:6', 'rot', 'crutch', '21:13', 'incantation', 'censoring', 'unnoticeable', 'wisconsin', 'gm', 'compass', 'quickeneth', 'allee', 'sparingly', '8:27', 'illustrative', 'omar', 'lest', 'kirjathjearim', 'oxygen', '--ibid', 'mourn', 'naive', 'bring', 'cuba', 'earthen', 'feast', 'diminute', 'pausing', 'indiscreet', 'syllable', 'sequah', 'testify', 'unearthed', 'emboldened', 'anguish', 'ala', 'stats', 'volunteer', 'chesapeake', 'forged', 'ranger', 'homepage', 'mother', 'tekoah', 'line', 'defeat', 'acte', 'laggard', 'trustee', 'retaineth', '7:10', 'peculiarly', 'yarmouth', 'knowest', '6:24', 'vexed', 'chanter', 'venice', 'driving', '10:22', 'overstepped', '1:5', 'talkative', 'lacke', 'babbler', 'deafened', 'alek', 'egyptian', 'dried', '39:10', 'syria', 'dedicating', 'fighting', 'imla', 'todd', 'infinitely', 'appendage', 'conviction', '     ', 'pioneer', 'heeded', 'dismembering', 'douceurs', 'candlelight', 'participated', 'perizzites', 'halsey', 'grown', 'bursting', 'sanity', 'gileadite', 'gazing', 'goody', 'scenery', 'infatuated', 'adar', 'vacancy', '13:6', '2:37', 'occasioned', 'lose', 'bunting', '12:26', 'dane', 'deemed', '7:63', 'reached', 'convent', 'feudal'}\n"
          ],
          "name": "stdout"
        }
      ]
    },
    {
      "cell_type": "code",
      "metadata": {
        "id": "hlK2KhZCbqg2"
      },
      "source": [
        "OOV_token = \"<OOV>\" #Adding unknow token\n",
        "vocabulary.add(OOV_token)\n",
        "word2idx = {}\n",
        "n_words = 0\n",
        "\n",
        "#Replace all tokens not in vocabulary with unknow token\n",
        "tokenized_corpus_with_OOV = []\n",
        "for sentence in tokenized_corpus:\n",
        "\n",
        "    tokenized_sentence_with_OOV = []\n",
        "    for token in sentence:\n",
        "        if token in vocabulary:\n",
        "            tokenized_sentence_with_OOV.append(token)\n",
        "        else:\n",
        "            tokenized_sentence_with_OOV.append(OOV_token)\n",
        "    tokenized_corpus_with_OOV.append(tokenized_sentence_with_OOV)"
      ],
      "execution_count": 319,
      "outputs": []
    },
    {
      "cell_type": "code",
      "metadata": {
        "id": "lP-lO4VQbuTT"
      },
      "source": [
        "for token in vocabulary:\n",
        "    if token not in word2idx:\n",
        "        word2idx[token] = n_words\n",
        "        n_words += 1\n",
        "\n",
        "assert len(word2idx) == len(vocabulary)\n",
        "\n",
        "# Invert dictionary\n",
        "idx2word = {idx: word for word, idx in word2idx.items()}\n",
        "\n",
        "assert len(idx2word) == len(word2idx)"
      ],
      "execution_count": 320,
      "outputs": []
    },
    {
      "cell_type": "code",
      "metadata": {
        "id": "Ru0npEpjftsw",
        "colab": {
          "base_uri": "https://localhost:8080/"
        },
        "outputId": "4437fe10-e2f2-4c65-b41b-9748c6df142b"
      },
      "source": [
        "\n",
        "def get_focus_context_pairs(tokenized_corpus, window_size=3):\n",
        "    focus_context_pairs = []\n",
        "    for sentence in tokenized_corpus:\n",
        "\n",
        "        for token_idx, token in enumerate(sentence):\n",
        "\n",
        "            for w in range(-window_size, window_size+1):\n",
        "                context_word_pos = token_idx + w\n",
        "\n",
        "                if w == 0 or context_word_pos >= len(sentence) or context_word_pos < 0:\n",
        "                    continue\n",
        "\n",
        "                try:\n",
        "                    focus_context_pairs.append([token, sentence[context_word_pos]])\n",
        "                except:\n",
        "                    continue\n",
        "    \n",
        "    return focus_context_pairs\n",
        "focus_context_pairs = get_focus_context_pairs(tokenized_corpus_with_OOV)\n",
        "\n",
        "print(focus_context_pairs[0:40])"
      ],
      "execution_count": 321,
      "outputs": [
        {
          "output_type": "stream",
          "text": [
            "[['tragedie', 'macbeth'], ['tragedie', 'william'], ['tragedie', 'shakespeare'], ['macbeth', 'tragedie'], ['macbeth', 'william'], ['macbeth', 'shakespeare'], ['macbeth', '<OOV>'], ['william', 'tragedie'], ['william', 'macbeth'], ['william', 'shakespeare'], ['william', '<OOV>'], ['shakespeare', 'tragedie'], ['shakespeare', 'macbeth'], ['shakespeare', 'william'], ['shakespeare', '<OOV>'], ['<OOV>', 'macbeth'], ['<OOV>', 'william'], ['<OOV>', 'shakespeare'], ['actus', 'primus'], ['actus', 'scoena'], ['actus', 'prima'], ['primus', 'actus'], ['primus', 'scoena'], ['primus', 'prima'], ['scoena', 'actus'], ['scoena', 'primus'], ['scoena', 'prima'], ['prima', 'actus'], ['prima', 'primus'], ['prima', 'scoena'], ['thunder', 'lightning'], ['thunder', 'enter'], ['thunder', 'witch'], ['lightning', 'thunder'], ['lightning', 'enter'], ['lightning', 'witch'], ['enter', 'thunder'], ['enter', 'lightning'], ['enter', 'witch'], ['witch', 'thunder']]\n"
          ],
          "name": "stdout"
        }
      ]
    },
    {
      "cell_type": "code",
      "metadata": {
        "colab": {
          "base_uri": "https://localhost:8080/"
        },
        "id": "C7GLEYh9f4gs",
        "outputId": "3afc116f-a12f-46b5-c4f0-845aac3a59b3"
      },
      "source": [
        "def get_focus_context_idx(focus_context_pairs):\n",
        "    idx_pairs = []\n",
        "    for pair in focus_context_pairs:\n",
        "        idx_pairs.append([word2idx[pair[0]], word2idx[pair[1]]])\n",
        "    \n",
        "    return idx_pairs\n",
        "\n",
        "\n",
        "idx_pairs = get_focus_context_idx(focus_context_pairs)\n",
        "\n",
        "print(idx_pairs[0:20])"
      ],
      "execution_count": 322,
      "outputs": [
        {
          "output_type": "stream",
          "text": [
            "[[18513, 19977], [18513, 7403], [18513, 20274], [19977, 18513], [19977, 7403], [19977, 20274], [19977, 8259], [7403, 18513], [7403, 19977], [7403, 20274], [7403, 8259], [20274, 18513], [20274, 19977], [20274, 7403], [20274, 8259], [8259, 19977], [8259, 7403], [8259, 20274], [1105, 5946], [1105, 18766]]\n"
          ],
          "name": "stdout"
        }
      ]
    },
    {
      "cell_type": "code",
      "metadata": {
        "id": "SqkMlTEFgMMN"
      },
      "source": [
        "#Input one hot encoded word and creates embedding (learns as matrix) -> outputs which word follows\n",
        "class Word2Vec(nn.Module):\n",
        "    def __init__(self, input_size, output_size, hidden_dim_size):\n",
        "        super().__init__()\n",
        "        \n",
        "        # Why do you think we don't have an activation function here?\n",
        "        self.projection = nn.Linear(input_size, hidden_dim_size, bias=False)\n",
        "        self.output = nn.Linear(hidden_dim_size, output_size)\n",
        "        \n",
        "    def forward(self, input_token):\n",
        "        x = self.projection(input_token)\n",
        "        output = self.output(x)\n",
        "        return output"
      ],
      "execution_count": 323,
      "outputs": []
    },
    {
      "cell_type": "code",
      "metadata": {
        "id": "iPyia5UDg3aQ"
      },
      "source": [
        "def get_one_hot(indicies, vocab_size=len(vocabulary)):\n",
        "    oh_matrix = np.zeros((len(indicies), vocab_size))\n",
        "    for i, idx in enumerate(indicies):\n",
        "        oh_matrix[i, idx] = 1\n",
        "\n",
        "    return torch.Tensor(oh_matrix)"
      ],
      "execution_count": 324,
      "outputs": []
    },
    {
      "cell_type": "code",
      "metadata": {
        "id": "kLJxtFH-gTP4"
      },
      "source": [
        "def train(word2vec_model, idx_pairs, state_dict_filename, early_stop=False, num_epochs=15, lr=1e-3):\n",
        "\n",
        "    word2vec_model.train()\n",
        "    criterion = torch.nn.CrossEntropyLoss()\n",
        "    optimizer = torch.optim.SGD(word2vec_model.parameters(), lr=lr)\n",
        "\n",
        "    for epoch in range(num_epochs):\n",
        "\n",
        "        random.shuffle(idx_pairs)\n",
        "\n",
        "        for focus, context in idx_pairs:\n",
        "            print(focus)\n",
        "            oh_inputs = get_one_hot([focus], len(vocabulary))\n",
        "            target = torch.LongTensor([context])\n",
        "\n",
        "            pred_outputs = word2vec_model(oh_inputs)\n",
        "\n",
        "            loss = criterion(pred_outputs, target)\n",
        "\n",
        "            loss.backward()\n",
        "            optimizer.step()\n",
        "            word2vec_model.zero_grad()\n",
        "            \n",
        "        ### These lines stop training early\n",
        "            if early_stop: break\n",
        "        if early_stop: break\n",
        "        ###\n",
        "\n",
        "        torch.save(word2vec_model.state_dict(), state_dict_filename)\n",
        "        writer.add_embedding(word2vec_model.projection.weight.T,\n",
        "                             metadata=word2idx.keys(), global_step=epoch)"
      ],
      "execution_count": 325,
      "outputs": []
    },
    {
      "cell_type": "code",
      "metadata": {
        "id": "y9jHZIQNgXsd"
      },
      "source": [
        "from torch.utils.tensorboard import SummaryWriter\n",
        "writer = SummaryWriter('runs/word2vec_gutenberg')"
      ],
      "execution_count": 326,
      "outputs": []
    },
    {
      "cell_type": "code",
      "metadata": {
        "colab": {
          "base_uri": "https://localhost:8080/"
        },
        "id": "ihqPAQM6ghsd",
        "outputId": "d64049b3-f674-40b2-b3bd-f69249da3063"
      },
      "source": [
        "w2v_gutenberg = Word2Vec(len(vocabulary), len(vocabulary), 128)\n",
        "train(w2v_gutenberg, idx_pairs, \"word2vec_gutenberg.pt\", early_stop=True)"
      ],
      "execution_count": 327,
      "outputs": [
        {
          "output_type": "stream",
          "text": [
            "13042\n"
          ],
          "name": "stdout"
        }
      ]
    },
    {
      "cell_type": "code",
      "metadata": {
        "colab": {
          "base_uri": "https://localhost:8080/"
        },
        "id": "gO1p9Hj5gqda",
        "outputId": "d7dd0eab-5f57-47d2-dbc6-09966658a041"
      },
      "source": [
        "weights_matrix = w2v_gutenberg.projection.weight.T #Embedding matrix\n",
        "print(weights_matrix.shape)"
      ],
      "execution_count": 328,
      "outputs": [
        {
          "output_type": "stream",
          "text": [
            "torch.Size([30493, 128])\n"
          ],
          "name": "stdout"
        }
      ]
    },
    {
      "cell_type": "markdown",
      "metadata": {
        "id": "udJACzxtK1TG"
      },
      "source": [
        "## Predictions based on cosine distance between replacement words and edit words"
      ]
    },
    {
      "cell_type": "code",
      "metadata": {
        "id": "C3Z7mQgJMw2a"
      },
      "source": [
        "from scipy.spatial.distance import cosine\n"
      ],
      "execution_count": 329,
      "outputs": []
    },
    {
      "cell_type": "code",
      "metadata": {
        "id": "wduaxehLZjWh"
      },
      "source": [
        "if stemming:\n",
        "  train_embedding_df.old = train_embedding_df.old.map(stemmer.stem)\n",
        "  train_embedding_df.edit = train_embedding_df.edit.map(stemmer.stem)\n",
        "  dev_embedding_df.old = dev_embedding_df.old.map(stemmer.stem)\n",
        "  dev_embedding_df.edit = dev_embedding_df.edit.map(stemmer.stem)\n",
        "elif lemma:\n",
        "  train_embedding_df.old = train_embedding_df.old.map(wordnet_lemmatizer.lemmatize)\n",
        "  train_embedding_df.edit = train_embedding_df.edit.map(wordnet_lemmatizer.lemmatize)\n",
        "  dev_embedding_df.old = dev_embedding_df.old.map(wordnet_lemmatizer.lemmatize)\n",
        "  dev_embedding_df.edit = dev_embedding_df.edit.map(wordnet_lemmatizer.lemmatize)"
      ],
      "execution_count": 330,
      "outputs": []
    },
    {
      "cell_type": "code",
      "metadata": {
        "colab": {
          "base_uri": "https://localhost:8080/"
        },
        "id": "F8I4AZypapZh",
        "outputId": "275d37c9-9057-4153-bbc9-286f7fafcd79"
      },
      "source": [
        "train_embedding_df.old"
      ],
      "execution_count": 331,
      "outputs": [
        {
          "output_type": "execute_result",
          "data": {
            "text/plain": [
              "0                 Bias\n",
              "1               belief\n",
              "2                board\n",
              "3              America\n",
              "4             Medicaid\n",
              "             ...      \n",
              "14315            Calls\n",
              "14316    Roseanne Barr\n",
              "14317            Bible\n",
              "14318           prison\n",
              "14319         teaching\n",
              "Name: old, Length: 14320, dtype: object"
            ]
          },
          "metadata": {
            "tags": []
          },
          "execution_count": 331
        }
      ]
    },
    {
      "cell_type": "code",
      "metadata": {
        "id": "AHvjs44AK_uh"
      },
      "source": [
        "#get idx for old word\n",
        "old_idx_train = []\n",
        "for word in train_embedding_df.old.str.lower():\n",
        "    #that also excludes words that consist of two words. not good\n",
        "    if word in list(word2idx.keys()):\n",
        "        old_idx_train.append(word2idx[word])\n",
        "    else:\n",
        "        word = OOV_token\n",
        "        old_idx_train.append(word2idx[word])\n",
        "\n",
        "\n",
        "old_idx_dev = []\n",
        "for word in dev_embedding_df.old.str.lower():\n",
        "    #that also excludes words that consist of two words. not good\n",
        "    if word in list(word2idx.keys()):\n",
        "        old_idx_dev.append(word2idx[word])\n",
        "    else:\n",
        "        word = OOV_token\n",
        "        old_idx_dev.append(word2idx[word])\n",
        "\n",
        "\n",
        "\n",
        "#get idx for edit word\n",
        "edit_idx_train = []\n",
        "for word in train_embedding_df.edit.str.lower():\n",
        "    #that also excludes words that consist of two words. not good\n",
        "    if word in list(word2idx.keys()):\n",
        "        edit_idx_train.append(word2idx[word])\n",
        "    else:\n",
        "        word = OOV_token\n",
        "        edit_idx_train.append(word2idx[word])\n",
        "\n",
        "\n",
        "#get idx for edit word\n",
        "edit_idx_dev = []\n",
        "for word in dev_embedding_df.edit.str.lower():\n",
        "    #that also excludes words that consist of two words. not good\n",
        "    if word in list(word2idx.keys()):\n",
        "        edit_idx_dev.append(word2idx[word])\n",
        "    else:\n",
        "        word = OOV_token\n",
        "        edit_idx_dev.append(word2idx[word])\n",
        "\n",
        "\n"
      ],
      "execution_count": 332,
      "outputs": []
    },
    {
      "cell_type": "code",
      "metadata": {
        "id": "HWIQq9JMLCpy"
      },
      "source": [
        "old_word_embedding_train = get_one_hot(old_idx_train) @ weights_matrix.detach().numpy()\n",
        "edit_embedding_train = get_one_hot(edit_idx_train) @ weights_matrix.detach().numpy()\n",
        "\n",
        "old_word_embedding_dev = get_one_hot(old_idx_dev) @ weights_matrix.detach().numpy()\n",
        "edit_embedding_dev = get_one_hot(edit_idx_dev) @ weights_matrix.detach().numpy()\n",
        "\n",
        "\n",
        "distances_train = []\n",
        "distances_dev = []\n",
        "for i in range(len(old_word_embedding_train)):\n",
        "    cos_distance_train = cosine(old_word_embedding_train[i], edit_embedding_train[i])\n",
        "    distances_train.append(cos_distance_train)\n",
        "\n",
        "for i in range(len(old_word_embedding_dev)):\n",
        "    cos_distance_dev = cosine(old_word_embedding_dev[i], edit_embedding_dev[i])\n",
        "    distances_dev.append(cos_distance_dev)\n",
        "train_embedding_df['cos_distance'] = distances_train\n",
        "dev_embedding_df['cos_distance'] = distances_dev"
      ],
      "execution_count": 333,
      "outputs": []
    },
    {
      "cell_type": "code",
      "metadata": {
        "id": "DBx2ZR_ajBid"
      },
      "source": [
        "train_embedding_df['edit_word_corpus_rep'] = [idx2word[idx] for idx in edit_idx_train]\n",
        "train_embedding_df['old_word_corpus_rep'] = [idx2word[idx] for idx in old_idx_train]\n",
        "\n",
        "dev_embedding_df['edit_word_corpus_rep'] = [idx2word[idx] for idx in edit_idx_dev]\n",
        "dev_embedding_df['old_word_corpus_rep'] = [idx2word[idx] for idx in old_idx_dev]"
      ],
      "execution_count": 334,
      "outputs": []
    },
    {
      "cell_type": "code",
      "metadata": {
        "colab": {
          "base_uri": "https://localhost:8080/",
          "height": 510
        },
        "id": "f2qA_Z3QqQbO",
        "outputId": "73e98f7d-54c9-49eb-c9e1-1279a6b5d00a"
      },
      "source": [
        "train_embedding_df"
      ],
      "execution_count": 335,
      "outputs": [
        {
          "output_type": "execute_result",
          "data": {
            "text/html": [
              "<div>\n",
              "<style scoped>\n",
              "    .dataframe tbody tr th:only-of-type {\n",
              "        vertical-align: middle;\n",
              "    }\n",
              "\n",
              "    .dataframe tbody tr th {\n",
              "        vertical-align: top;\n",
              "    }\n",
              "\n",
              "    .dataframe thead th {\n",
              "        text-align: right;\n",
              "    }\n",
              "</style>\n",
              "<table border=\"1\" class=\"dataframe\">\n",
              "  <thead>\n",
              "    <tr style=\"text-align: right;\">\n",
              "      <th></th>\n",
              "      <th>index</th>\n",
              "      <th>id</th>\n",
              "      <th>original</th>\n",
              "      <th>edit</th>\n",
              "      <th>grades</th>\n",
              "      <th>meanGrade</th>\n",
              "      <th>old</th>\n",
              "      <th>cos_distance</th>\n",
              "      <th>edit_word_corpus_rep</th>\n",
              "      <th>old_word_corpus_rep</th>\n",
              "    </tr>\n",
              "  </thead>\n",
              "  <tbody>\n",
              "    <tr>\n",
              "      <th>0</th>\n",
              "      <td>2063</td>\n",
              "      <td>12602</td>\n",
              "      <td>Facts Have a Well-Known Liberal Bias</td>\n",
              "      <td>Pimples</td>\n",
              "      <td>11000</td>\n",
              "      <td>0.4</td>\n",
              "      <td>Bias</td>\n",
              "      <td>1.050336</td>\n",
              "      <td>&lt;OOV&gt;</td>\n",
              "      <td>bias</td>\n",
              "    </tr>\n",
              "    <tr>\n",
              "      <th>1</th>\n",
              "      <td>3155</td>\n",
              "      <td>2784</td>\n",
              "      <td>Martin O'Malley believes Trump was \" very much...</td>\n",
              "      <td>hope</td>\n",
              "      <td>0</td>\n",
              "      <td>0.0</td>\n",
              "      <td>belief</td>\n",
              "      <td>0.934981</td>\n",
              "      <td>hope</td>\n",
              "      <td>belief</td>\n",
              "    </tr>\n",
              "    <tr>\n",
              "      <th>2</th>\n",
              "      <td>12588</td>\n",
              "      <td>102936</td>\n",
              "      <td>Editorial boards of Los Angeles Times and Bost...</td>\n",
              "      <td>fish</td>\n",
              "      <td>10000</td>\n",
              "      <td>0.2</td>\n",
              "      <td>board</td>\n",
              "      <td>0.941087</td>\n",
              "      <td>fish</td>\n",
              "      <td>board</td>\n",
              "    </tr>\n",
              "    <tr>\n",
              "      <th>3</th>\n",
              "      <td>13576</td>\n",
              "      <td>103924</td>\n",
              "      <td>They Made a Killing on the Mortgage Crisis . N...</td>\n",
              "      <td>mind</td>\n",
              "      <td>22111</td>\n",
              "      <td>1.4</td>\n",
              "      <td>America</td>\n",
              "      <td>0.819257</td>\n",
              "      <td>mind</td>\n",
              "      <td>america</td>\n",
              "    </tr>\n",
              "    <tr>\n",
              "      <th>4</th>\n",
              "      <td>6924</td>\n",
              "      <td>3014</td>\n",
              "      <td>How Crisis Pregnancy Center Clients Rely On Me...</td>\n",
              "      <td>woman</td>\n",
              "      <td>22000</td>\n",
              "      <td>0.8</td>\n",
              "      <td>Medicaid</td>\n",
              "      <td>0.961407</td>\n",
              "      <td>woman</td>\n",
              "      <td>medicaid</td>\n",
              "    </tr>\n",
              "    <tr>\n",
              "      <th>...</th>\n",
              "      <td>...</td>\n",
              "      <td>...</td>\n",
              "      <td>...</td>\n",
              "      <td>...</td>\n",
              "      <td>...</td>\n",
              "      <td>...</td>\n",
              "      <td>...</td>\n",
              "      <td>...</td>\n",
              "      <td>...</td>\n",
              "      <td>...</td>\n",
              "    </tr>\n",
              "    <tr>\n",
              "      <th>14315</th>\n",
              "      <td>2968</td>\n",
              "      <td>12383</td>\n",
              "      <td>Gohmert Calls for Investigation of VA Gov McAu...</td>\n",
              "      <td>whine</td>\n",
              "      <td>0</td>\n",
              "      <td>0.0</td>\n",
              "      <td>Calls</td>\n",
              "      <td>0.893234</td>\n",
              "      <td>whine</td>\n",
              "      <td>&lt;OOV&gt;</td>\n",
              "    </tr>\n",
              "    <tr>\n",
              "      <th>14316</th>\n",
              "      <td>28</td>\n",
              "      <td>2426</td>\n",
              "      <td>Roseanne Barr quits Twitter after offending w...</td>\n",
              "      <td>Everyone</td>\n",
              "      <td>3211100000</td>\n",
              "      <td>0.8</td>\n",
              "      <td>Roseanne Barr</td>\n",
              "      <td>1.001248</td>\n",
              "      <td>everyone</td>\n",
              "      <td>&lt;OOV&gt;</td>\n",
              "    </tr>\n",
              "    <tr>\n",
              "      <th>14317</th>\n",
              "      <td>7136</td>\n",
              "      <td>13373</td>\n",
              "      <td>Trump to be sworn in using Bible Abraham Linco...</td>\n",
              "      <td>underpants</td>\n",
              "      <td>32211</td>\n",
              "      <td>1.8</td>\n",
              "      <td>Bible</td>\n",
              "      <td>1.030677</td>\n",
              "      <td>&lt;OOV&gt;</td>\n",
              "      <td>bible</td>\n",
              "    </tr>\n",
              "    <tr>\n",
              "      <th>14318</th>\n",
              "      <td>6615</td>\n",
              "      <td>7484</td>\n",
              "      <td>Fugitive Mexican ex-governor moved to Guatemal...</td>\n",
              "      <td>restaurant</td>\n",
              "      <td>21110</td>\n",
              "      <td>1.0</td>\n",
              "      <td>prison</td>\n",
              "      <td>0.997532</td>\n",
              "      <td>restaurant</td>\n",
              "      <td>prison</td>\n",
              "    </tr>\n",
              "    <tr>\n",
              "      <th>14319</th>\n",
              "      <td>15663</td>\n",
              "      <td>106011</td>\n",
              "      <td>China bans foreign teaching materials in publi...</td>\n",
              "      <td>clown</td>\n",
              "      <td>22100</td>\n",
              "      <td>1.0</td>\n",
              "      <td>teaching</td>\n",
              "      <td>0.913820</td>\n",
              "      <td>clown</td>\n",
              "      <td>teaching</td>\n",
              "    </tr>\n",
              "  </tbody>\n",
              "</table>\n",
              "<p>14320 rows × 10 columns</p>\n",
              "</div>"
            ],
            "text/plain": [
              "       index      id  ... edit_word_corpus_rep old_word_corpus_rep\n",
              "0       2063   12602  ...                <OOV>                bias\n",
              "1       3155    2784  ...                 hope              belief\n",
              "2      12588  102936  ...                 fish               board\n",
              "3      13576  103924  ...                 mind             america\n",
              "4       6924    3014  ...                woman            medicaid\n",
              "...      ...     ...  ...                  ...                 ...\n",
              "14315   2968   12383  ...                whine               <OOV>\n",
              "14316     28    2426  ...             everyone               <OOV>\n",
              "14317   7136   13373  ...                <OOV>               bible\n",
              "14318   6615    7484  ...           restaurant              prison\n",
              "14319  15663  106011  ...                clown            teaching\n",
              "\n",
              "[14320 rows x 10 columns]"
            ]
          },
          "metadata": {
            "tags": []
          },
          "execution_count": 335
        }
      ]
    },
    {
      "cell_type": "code",
      "metadata": {
        "colab": {
          "base_uri": "https://localhost:8080/",
          "height": 424
        },
        "id": "tBDopZBgc6h-",
        "outputId": "9404f129-84c8-499d-9c6e-d17c37ffbb25"
      },
      "source": [
        "dev_embedding_df"
      ],
      "execution_count": 336,
      "outputs": [
        {
          "output_type": "execute_result",
          "data": {
            "text/html": [
              "<div>\n",
              "<style scoped>\n",
              "    .dataframe tbody tr th:only-of-type {\n",
              "        vertical-align: middle;\n",
              "    }\n",
              "\n",
              "    .dataframe tbody tr th {\n",
              "        vertical-align: top;\n",
              "    }\n",
              "\n",
              "    .dataframe thead th {\n",
              "        text-align: right;\n",
              "    }\n",
              "</style>\n",
              "<table border=\"1\" class=\"dataframe\">\n",
              "  <thead>\n",
              "    <tr style=\"text-align: right;\">\n",
              "      <th></th>\n",
              "      <th>index</th>\n",
              "      <th>id</th>\n",
              "      <th>original</th>\n",
              "      <th>edit</th>\n",
              "      <th>grades</th>\n",
              "      <th>meanGrade</th>\n",
              "      <th>old</th>\n",
              "      <th>cos_distance</th>\n",
              "      <th>edit_word_corpus_rep</th>\n",
              "      <th>old_word_corpus_rep</th>\n",
              "    </tr>\n",
              "  </thead>\n",
              "  <tbody>\n",
              "    <tr>\n",
              "      <th>0</th>\n",
              "      <td>7367</td>\n",
              "      <td>6348</td>\n",
              "      <td>Conservative media outlet RedState just fired ...</td>\n",
              "      <td>stalker</td>\n",
              "      <td>22110</td>\n",
              "      <td>1.2</td>\n",
              "      <td>blogger</td>\n",
              "      <td>0.876993</td>\n",
              "      <td>&lt;OOV&gt;</td>\n",
              "      <td>blogger</td>\n",
              "    </tr>\n",
              "    <tr>\n",
              "      <th>1</th>\n",
              "      <td>14973</td>\n",
              "      <td>105321</td>\n",
              "      <td>FBI raids home , office of lobbyist Michael Es...</td>\n",
              "      <td>raf</td>\n",
              "      <td>11100</td>\n",
              "      <td>0.6</td>\n",
              "      <td>raid</td>\n",
              "      <td>1.013860</td>\n",
              "      <td>&lt;OOV&gt;</td>\n",
              "      <td>raid</td>\n",
              "    </tr>\n",
              "    <tr>\n",
              "      <th>2</th>\n",
              "      <td>13656</td>\n",
              "      <td>104004</td>\n",
              "      <td>Devin Nunes Follows Through And Sues CNN In La...</td>\n",
              "      <td>skip</td>\n",
              "      <td>31110</td>\n",
              "      <td>1.2</td>\n",
              "      <td>Follows</td>\n",
              "      <td>1.007908</td>\n",
              "      <td>skip</td>\n",
              "      <td>follows</td>\n",
              "    </tr>\n",
              "    <tr>\n",
              "      <th>3</th>\n",
              "      <td>3372</td>\n",
              "      <td>2585</td>\n",
              "      <td>Trump : New UN sanctions are ' nothing compare...</td>\n",
              "      <td>trouser</td>\n",
              "      <td>32210</td>\n",
              "      <td>1.6</td>\n",
              "      <td>sanction</td>\n",
              "      <td>1.011428</td>\n",
              "      <td>trouser</td>\n",
              "      <td>sanction</td>\n",
              "    </tr>\n",
              "    <tr>\n",
              "      <th>4</th>\n",
              "      <td>2010</td>\n",
              "      <td>6775</td>\n",
              "      <td>Tony Blair says UK should launch military acti...</td>\n",
              "      <td>fundraiser</td>\n",
              "      <td>20000</td>\n",
              "      <td>0.4</td>\n",
              "      <td>action</td>\n",
              "      <td>1.017113</td>\n",
              "      <td>fundraiser</td>\n",
              "      <td>action</td>\n",
              "    </tr>\n",
              "    <tr>\n",
              "      <th>...</th>\n",
              "      <td>...</td>\n",
              "      <td>...</td>\n",
              "      <td>...</td>\n",
              "      <td>...</td>\n",
              "      <td>...</td>\n",
              "      <td>...</td>\n",
              "      <td>...</td>\n",
              "      <td>...</td>\n",
              "      <td>...</td>\n",
              "      <td>...</td>\n",
              "    </tr>\n",
              "    <tr>\n",
              "      <th>3575</th>\n",
              "      <td>8031</td>\n",
              "      <td>11357</td>\n",
              "      <td>Keystone pipeline wo n't have to use American...</td>\n",
              "      <td>steel</td>\n",
              "      <td>20000</td>\n",
              "      <td>0.4</td>\n",
              "      <td>Keystone</td>\n",
              "      <td>0.949327</td>\n",
              "      <td>steel</td>\n",
              "      <td>keystone</td>\n",
              "    </tr>\n",
              "    <tr>\n",
              "      <th>3576</th>\n",
              "      <td>9070</td>\n",
              "      <td>2351</td>\n",
              "      <td>British election : PM Theresa May under pressu...</td>\n",
              "      <td>brush</td>\n",
              "      <td>11100</td>\n",
              "      <td>0.6</td>\n",
              "      <td>go</td>\n",
              "      <td>0.946989</td>\n",
              "      <td>brush</td>\n",
              "      <td>go</td>\n",
              "    </tr>\n",
              "    <tr>\n",
              "      <th>3577</th>\n",
              "      <td>1995</td>\n",
              "      <td>1715</td>\n",
              "      <td>Some U.S. borrowers jailed over civil debts , ...</td>\n",
              "      <td>kitten</td>\n",
              "      <td>22200</td>\n",
              "      <td>1.2</td>\n",
              "      <td>borrower</td>\n",
              "      <td>1.054786</td>\n",
              "      <td>&lt;OOV&gt;</td>\n",
              "      <td>borrower</td>\n",
              "    </tr>\n",
              "    <tr>\n",
              "      <th>3578</th>\n",
              "      <td>192</td>\n",
              "      <td>1997</td>\n",
              "      <td>Trump suggests in tweet Justice Dept is ' out ...</td>\n",
              "      <td>painting</td>\n",
              "      <td>11100</td>\n",
              "      <td>0.6</td>\n",
              "      <td>tweet</td>\n",
              "      <td>0.916895</td>\n",
              "      <td>painting</td>\n",
              "      <td>tweet</td>\n",
              "    </tr>\n",
              "    <tr>\n",
              "      <th>3579</th>\n",
              "      <td>8471</td>\n",
              "      <td>3483</td>\n",
              "      <td>These charts show Fox News really did ignore P...</td>\n",
              "      <td>cooking</td>\n",
              "      <td>31100</td>\n",
              "      <td>1.0</td>\n",
              "      <td>crisis</td>\n",
              "      <td>0.989635</td>\n",
              "      <td>cooking</td>\n",
              "      <td>crisis</td>\n",
              "    </tr>\n",
              "  </tbody>\n",
              "</table>\n",
              "<p>3580 rows × 10 columns</p>\n",
              "</div>"
            ],
            "text/plain": [
              "      index      id  ... edit_word_corpus_rep old_word_corpus_rep\n",
              "0      7367    6348  ...                <OOV>             blogger\n",
              "1     14973  105321  ...                <OOV>                raid\n",
              "2     13656  104004  ...                 skip             follows\n",
              "3      3372    2585  ...              trouser            sanction\n",
              "4      2010    6775  ...           fundraiser              action\n",
              "...     ...     ...  ...                  ...                 ...\n",
              "3575   8031   11357  ...                steel            keystone\n",
              "3576   9070    2351  ...                brush                  go\n",
              "3577   1995    1715  ...                <OOV>            borrower\n",
              "3578    192    1997  ...             painting               tweet\n",
              "3579   8471    3483  ...              cooking              crisis\n",
              "\n",
              "[3580 rows x 10 columns]"
            ]
          },
          "metadata": {
            "tags": []
          },
          "execution_count": 336
        }
      ]
    },
    {
      "cell_type": "code",
      "metadata": {
        "colab": {
          "base_uri": "https://localhost:8080/",
          "height": 282
        },
        "id": "SBHnIFV4LKRy",
        "outputId": "73621201-0ce7-4086-dd9e-b30a0d49c883"
      },
      "source": [
        "plt.scatter(train_embedding_df.cos_distance.to_list(), train_embedding_df.meanGrade.to_list())\n",
        "#Cosine distance where we have double edit"
      ],
      "execution_count": 337,
      "outputs": [
        {
          "output_type": "execute_result",
          "data": {
            "text/plain": [
              "<matplotlib.collections.PathCollection at 0x7fd0aaf3bb38>"
            ]
          },
          "metadata": {
            "tags": []
          },
          "execution_count": 337
        },
        {
          "output_type": "display_data",
          "data": {
            "image/png": "[encoded data removed]",
            "text/plain": [
              "<Figure size 432x288 with 1 Axes>"
            ]
          },
          "metadata": {
            "tags": [],
            "needs_background": "light"
          }
        }
      ]
    },
    {
      "cell_type": "code",
      "metadata": {
        "colab": {
          "base_uri": "https://localhost:8080/",
          "height": 282
        },
        "id": "hVtJ3CRmdPH2",
        "outputId": "55dea957-6f02-442a-b469-f749df9c74fd"
      },
      "source": [
        "plt.scatter(dev_embedding_df.cos_distance.to_list(), dev_embedding_df.meanGrade.to_list())"
      ],
      "execution_count": 338,
      "outputs": [
        {
          "output_type": "execute_result",
          "data": {
            "text/plain": [
              "<matplotlib.collections.PathCollection at 0x7fd0aaf3b710>"
            ]
          },
          "metadata": {
            "tags": []
          },
          "execution_count": 338
        },
        {
          "output_type": "display_data",
          "data": {
            "image/png": "[encoded data removed]",
            "text/plain": [
              "<Figure size 432x288 with 1 Axes>"
            ]
          },
          "metadata": {
            "tags": [],
            "needs_background": "light"
          }
        }
      ]
    },
    {
      "cell_type": "code",
      "metadata": {
        "colab": {
          "base_uri": "https://localhost:8080/",
          "height": 493
        },
        "id": "MukQ7JqJLNKw",
        "outputId": "b01774e9-dd36-4fbb-9bf7-e904fddc6e85"
      },
      "source": [
        "train_embedding_df.loc[train_embedding_df.cos_distance == 0.0]"
      ],
      "execution_count": 339,
      "outputs": [
        {
          "output_type": "execute_result",
          "data": {
            "text/html": [
              "<div>\n",
              "<style scoped>\n",
              "    .dataframe tbody tr th:only-of-type {\n",
              "        vertical-align: middle;\n",
              "    }\n",
              "\n",
              "    .dataframe tbody tr th {\n",
              "        vertical-align: top;\n",
              "    }\n",
              "\n",
              "    .dataframe thead th {\n",
              "        text-align: right;\n",
              "    }\n",
              "</style>\n",
              "<table border=\"1\" class=\"dataframe\">\n",
              "  <thead>\n",
              "    <tr style=\"text-align: right;\">\n",
              "      <th></th>\n",
              "      <th>index</th>\n",
              "      <th>id</th>\n",
              "      <th>original</th>\n",
              "      <th>edit</th>\n",
              "      <th>grades</th>\n",
              "      <th>meanGrade</th>\n",
              "      <th>old</th>\n",
              "      <th>cos_distance</th>\n",
              "      <th>edit_word_corpus_rep</th>\n",
              "      <th>old_word_corpus_rep</th>\n",
              "    </tr>\n",
              "  </thead>\n",
              "  <tbody>\n",
              "    <tr>\n",
              "      <th>8</th>\n",
              "      <td>15557</td>\n",
              "      <td>105905</td>\n",
              "      <td>American Paratroopers Were Denied Entry to Ira...</td>\n",
              "      <td>Choppers</td>\n",
              "      <td>22100</td>\n",
              "      <td>1.0</td>\n",
              "      <td>Paratroopers</td>\n",
              "      <td>0.0</td>\n",
              "      <td>&lt;OOV&gt;</td>\n",
              "      <td>&lt;OOV&gt;</td>\n",
              "    </tr>\n",
              "    <tr>\n",
              "      <th>28</th>\n",
              "      <td>10050</td>\n",
              "      <td>100398</td>\n",
              "      <td>North Korea Says Hope of More U.S. Talks Is ‘ ...</td>\n",
              "      <td>Dotards</td>\n",
              "      <td>32100</td>\n",
              "      <td>1.2</td>\n",
              "      <td>Talks</td>\n",
              "      <td>0.0</td>\n",
              "      <td>&lt;OOV&gt;</td>\n",
              "      <td>&lt;OOV&gt;</td>\n",
              "    </tr>\n",
              "    <tr>\n",
              "      <th>29</th>\n",
              "      <td>6878</td>\n",
              "      <td>3356</td>\n",
              "      <td>Trump rallies Capitol Hill as House GOP set to...</td>\n",
              "      <td>meerkat</td>\n",
              "      <td>22110</td>\n",
              "      <td>1.2</td>\n",
              "      <td>Capitol Hill</td>\n",
              "      <td>0.0</td>\n",
              "      <td>&lt;OOV&gt;</td>\n",
              "      <td>&lt;OOV&gt;</td>\n",
              "    </tr>\n",
              "    <tr>\n",
              "      <th>35</th>\n",
              "      <td>19</td>\n",
              "      <td>6822</td>\n",
              "      <td>Erdogan Rejects Arab Demands ; Turkish Troops ...</td>\n",
              "      <td>Turkeys</td>\n",
              "      <td>22110</td>\n",
              "      <td>1.2</td>\n",
              "      <td>Troops</td>\n",
              "      <td>0.0</td>\n",
              "      <td>&lt;OOV&gt;</td>\n",
              "      <td>&lt;OOV&gt;</td>\n",
              "    </tr>\n",
              "    <tr>\n",
              "      <th>44</th>\n",
              "      <td>14789</td>\n",
              "      <td>105137</td>\n",
              "      <td>Indonesia rejects China 's claims over South C...</td>\n",
              "      <td>Siomay</td>\n",
              "      <td>21100</td>\n",
              "      <td>0.8</td>\n",
              "      <td>South China Sea</td>\n",
              "      <td>0.0</td>\n",
              "      <td>&lt;OOV&gt;</td>\n",
              "      <td>&lt;OOV&gt;</td>\n",
              "    </tr>\n",
              "    <tr>\n",
              "      <th>...</th>\n",
              "      <td>...</td>\n",
              "      <td>...</td>\n",
              "      <td>...</td>\n",
              "      <td>...</td>\n",
              "      <td>...</td>\n",
              "      <td>...</td>\n",
              "      <td>...</td>\n",
              "      <td>...</td>\n",
              "      <td>...</td>\n",
              "      <td>...</td>\n",
              "    </tr>\n",
              "    <tr>\n",
              "      <th>14252</th>\n",
              "      <td>9874</td>\n",
              "      <td>100222</td>\n",
              "      <td>‘ Your EPA went too far ' : Farmers hit hard b...</td>\n",
              "      <td>Boxers</td>\n",
              "      <td>22210</td>\n",
              "      <td>1.4</td>\n",
              "      <td>Farmers</td>\n",
              "      <td>0.0</td>\n",
              "      <td>&lt;OOV&gt;</td>\n",
              "      <td>&lt;OOV&gt;</td>\n",
              "    </tr>\n",
              "    <tr>\n",
              "      <th>14260</th>\n",
              "      <td>2181</td>\n",
              "      <td>1969</td>\n",
              "      <td>Dotard : Kim Jong Un claps back at Trump 's ' ...</td>\n",
              "      <td>haircut</td>\n",
              "      <td>33322</td>\n",
              "      <td>2.6</td>\n",
              "      <td>Rocket Man</td>\n",
              "      <td>0.0</td>\n",
              "      <td>&lt;OOV&gt;</td>\n",
              "      <td>&lt;OOV&gt;</td>\n",
              "    </tr>\n",
              "    <tr>\n",
              "      <th>14283</th>\n",
              "      <td>4510</td>\n",
              "      <td>8218</td>\n",
              "      <td>How the Right Co-Opts Frederick Douglass</td>\n",
              "      <td>transvestite</td>\n",
              "      <td>21100</td>\n",
              "      <td>0.8</td>\n",
              "      <td>Frederick Douglass</td>\n",
              "      <td>0.0</td>\n",
              "      <td>&lt;OOV&gt;</td>\n",
              "      <td>&lt;OOV&gt;</td>\n",
              "    </tr>\n",
              "    <tr>\n",
              "      <th>14299</th>\n",
              "      <td>9374</td>\n",
              "      <td>6671</td>\n",
              "      <td>Ireland to get new leader as Enda Kenny steps ...</td>\n",
              "      <td>leprechaun</td>\n",
              "      <td>33211</td>\n",
              "      <td>2.0</td>\n",
              "      <td>Enda Kenny</td>\n",
              "      <td>0.0</td>\n",
              "      <td>&lt;OOV&gt;</td>\n",
              "      <td>&lt;OOV&gt;</td>\n",
              "    </tr>\n",
              "    <tr>\n",
              "      <th>14304</th>\n",
              "      <td>7623</td>\n",
              "      <td>8607</td>\n",
              "      <td>World War 3 Wo n't Be Between a Nuclear North...</td>\n",
              "      <td>hopscotch</td>\n",
              "      <td>11000</td>\n",
              "      <td>0.4</td>\n",
              "      <td>World War 3</td>\n",
              "      <td>0.0</td>\n",
              "      <td>&lt;OOV&gt;</td>\n",
              "      <td>&lt;OOV&gt;</td>\n",
              "    </tr>\n",
              "  </tbody>\n",
              "</table>\n",
              "<p>830 rows × 10 columns</p>\n",
              "</div>"
            ],
            "text/plain": [
              "       index      id  ... edit_word_corpus_rep old_word_corpus_rep\n",
              "8      15557  105905  ...                <OOV>               <OOV>\n",
              "28     10050  100398  ...                <OOV>               <OOV>\n",
              "29      6878    3356  ...                <OOV>               <OOV>\n",
              "35        19    6822  ...                <OOV>               <OOV>\n",
              "44     14789  105137  ...                <OOV>               <OOV>\n",
              "...      ...     ...  ...                  ...                 ...\n",
              "14252   9874  100222  ...                <OOV>               <OOV>\n",
              "14260   2181    1969  ...                <OOV>               <OOV>\n",
              "14283   4510    8218  ...                <OOV>               <OOV>\n",
              "14299   9374    6671  ...                <OOV>               <OOV>\n",
              "14304   7623    8607  ...                <OOV>               <OOV>\n",
              "\n",
              "[830 rows x 10 columns]"
            ]
          },
          "metadata": {
            "tags": []
          },
          "execution_count": 339
        }
      ]
    },
    {
      "cell_type": "code",
      "metadata": {
        "id": "VgHJ5bt6LP1K"
      },
      "source": [
        "indexNames = train_embedding_df[(train_embedding_df['cos_distance'] == 0.0)].index\n",
        "# Delete these row indexes from dataFrame\n",
        "train_embedding_df.drop(indexNames , inplace=True)\n",
        "train_embedding_df.reset_index(inplace=True,drop=True)\n",
        "pd.set_option('display.max_rows', 20)"
      ],
      "execution_count": 340,
      "outputs": []
    },
    {
      "cell_type": "code",
      "metadata": {
        "id": "ytVlHPpqdeIq"
      },
      "source": [
        "indexNames = dev_embedding_df[(dev_embedding_df['cos_distance'] == 0.0)].index\n",
        "# Delete these row indexes from dataFrame\n",
        "dev_embedding_df.drop(indexNames , inplace=True)\n",
        "dev_embedding_df.reset_index(inplace=True,drop=True)\n",
        "pd.set_option('display.max_rows', 20)"
      ],
      "execution_count": 341,
      "outputs": []
    },
    {
      "cell_type": "code",
      "metadata": {
        "colab": {
          "base_uri": "https://localhost:8080/",
          "height": 49
        },
        "id": "iUx6AStPdrBS",
        "outputId": "7aa83261-318b-4549-bcc9-a41df098ed9e"
      },
      "source": [
        "dev_embedding_df.loc[dev_embedding_df.cos_distance == 0.0]"
      ],
      "execution_count": 342,
      "outputs": [
        {
          "output_type": "execute_result",
          "data": {
            "text/html": [
              "<div>\n",
              "<style scoped>\n",
              "    .dataframe tbody tr th:only-of-type {\n",
              "        vertical-align: middle;\n",
              "    }\n",
              "\n",
              "    .dataframe tbody tr th {\n",
              "        vertical-align: top;\n",
              "    }\n",
              "\n",
              "    .dataframe thead th {\n",
              "        text-align: right;\n",
              "    }\n",
              "</style>\n",
              "<table border=\"1\" class=\"dataframe\">\n",
              "  <thead>\n",
              "    <tr style=\"text-align: right;\">\n",
              "      <th></th>\n",
              "      <th>index</th>\n",
              "      <th>id</th>\n",
              "      <th>original</th>\n",
              "      <th>edit</th>\n",
              "      <th>grades</th>\n",
              "      <th>meanGrade</th>\n",
              "      <th>old</th>\n",
              "      <th>cos_distance</th>\n",
              "      <th>edit_word_corpus_rep</th>\n",
              "      <th>old_word_corpus_rep</th>\n",
              "    </tr>\n",
              "  </thead>\n",
              "  <tbody>\n",
              "  </tbody>\n",
              "</table>\n",
              "</div>"
            ],
            "text/plain": [
              "Empty DataFrame\n",
              "Columns: [index, id, original, edit, grades, meanGrade, old, cos_distance, edit_word_corpus_rep, old_word_corpus_rep]\n",
              "Index: []"
            ]
          },
          "metadata": {
            "tags": []
          },
          "execution_count": 342
        }
      ]
    },
    {
      "cell_type": "code",
      "metadata": {
        "colab": {
          "base_uri": "https://localhost:8080/"
        },
        "id": "woJbN9h_LSl3",
        "outputId": "ca2a6580-ee3e-4b6e-a436-33d5ab5100b1"
      },
      "source": [
        "from sklearn import linear_model\n",
        "from sklearn.metrics import mean_squared_error\n",
        "model = linear_model.LinearRegression()\n",
        "#train, test = train_test_split(train_df, test_size=0.2)\n",
        "dist_train = np.reshape(train_embedding_df.cos_distance.to_list(), (-1,1))\n",
        "dist_test = np.reshape(dev_embedding_df.cos_distance.to_list(), (-1,1))\n",
        "y = np.reshape(train_embedding_df.meanGrade.to_list(), (-1,1))\n",
        "y_test = np.reshape(dev_embedding_df.meanGrade.to_list(), (-1,1))\n",
        "#print(train.cos_distance)\n",
        "\n",
        "model.fit(dist_train, y)\n",
        "predictions = model.predict(dist_test)\n",
        "\n",
        "mean_squared_error(y_test, predictions, squared = False)\n"
      ],
      "execution_count": 343,
      "outputs": [
        {
          "output_type": "execute_result",
          "data": {
            "text/plain": [
              "0.5992346274852955"
            ]
          },
          "metadata": {
            "tags": []
          },
          "execution_count": 343
        }
      ]
    },
    {
      "cell_type": "code",
      "metadata": {
        "colab": {
          "base_uri": "https://localhost:8080/",
          "height": 282
        },
        "id": "KXlHG7psIFl_",
        "outputId": "aa03f3d6-5149-4d99-965a-43b1743210a7"
      },
      "source": [
        "plt.scatter(predictions,y_test)"
      ],
      "execution_count": 344,
      "outputs": [
        {
          "output_type": "execute_result",
          "data": {
            "text/plain": [
              "<matplotlib.collections.PathCollection at 0x7fd0b6ef8908>"
            ]
          },
          "metadata": {
            "tags": []
          },
          "execution_count": 344
        },
        {
          "output_type": "display_data",
          "data": {
            "image/png": "[encoded data removed]",
            "text/plain": [
              "<Figure size 432x288 with 1 Axes>"
            ]
          },
          "metadata": {
            "tags": [],
            "needs_background": "light"
          }
        }
      ]
    },
    {
      "cell_type": "code",
      "metadata": {
        "colab": {
          "base_uri": "https://localhost:8080/",
          "height": 476
        },
        "id": "IYNYkvxEQ-FX",
        "outputId": "7fc66e18-01a9-46cc-a00a-b643da85551e"
      },
      "source": [
        "#Only look at headlines where both original word and edited word has an embedding\n",
        "filt_train_df = train_embedding_df[train_embedding_df['edit_word_corpus_rep'] != '<OOV>'][train_embedding_df['old_word_corpus_rep'] != '<OOV>']\n",
        "filt_train_df = filt_train_df.reset_index(drop = True)\n",
        "print(len(filt_train_df))\n",
        "filt_train_df"
      ],
      "execution_count": 345,
      "outputs": [
        {
          "output_type": "stream",
          "text": [
            "8928\n"
          ],
          "name": "stdout"
        },
        {
          "output_type": "stream",
          "text": [
            "/usr/local/lib/python3.6/dist-packages/ipykernel_launcher.py:2: UserWarning: Boolean Series key will be reindexed to match DataFrame index.\n",
            "  \n"
          ],
          "name": "stderr"
        },
        {
          "output_type": "execute_result",
          "data": {
            "text/html": [
              "<div>\n",
              "<style scoped>\n",
              "    .dataframe tbody tr th:only-of-type {\n",
              "        vertical-align: middle;\n",
              "    }\n",
              "\n",
              "    .dataframe tbody tr th {\n",
              "        vertical-align: top;\n",
              "    }\n",
              "\n",
              "    .dataframe thead th {\n",
              "        text-align: right;\n",
              "    }\n",
              "</style>\n",
              "<table border=\"1\" class=\"dataframe\">\n",
              "  <thead>\n",
              "    <tr style=\"text-align: right;\">\n",
              "      <th></th>\n",
              "      <th>index</th>\n",
              "      <th>id</th>\n",
              "      <th>original</th>\n",
              "      <th>edit</th>\n",
              "      <th>grades</th>\n",
              "      <th>meanGrade</th>\n",
              "      <th>old</th>\n",
              "      <th>cos_distance</th>\n",
              "      <th>edit_word_corpus_rep</th>\n",
              "      <th>old_word_corpus_rep</th>\n",
              "    </tr>\n",
              "  </thead>\n",
              "  <tbody>\n",
              "    <tr>\n",
              "      <th>0</th>\n",
              "      <td>3155</td>\n",
              "      <td>2784</td>\n",
              "      <td>Martin O'Malley believes Trump was \" very much...</td>\n",
              "      <td>hope</td>\n",
              "      <td>0</td>\n",
              "      <td>0.0</td>\n",
              "      <td>belief</td>\n",
              "      <td>0.934981</td>\n",
              "      <td>hope</td>\n",
              "      <td>belief</td>\n",
              "    </tr>\n",
              "    <tr>\n",
              "      <th>1</th>\n",
              "      <td>12588</td>\n",
              "      <td>102936</td>\n",
              "      <td>Editorial boards of Los Angeles Times and Bost...</td>\n",
              "      <td>fish</td>\n",
              "      <td>10000</td>\n",
              "      <td>0.2</td>\n",
              "      <td>board</td>\n",
              "      <td>0.941087</td>\n",
              "      <td>fish</td>\n",
              "      <td>board</td>\n",
              "    </tr>\n",
              "    <tr>\n",
              "      <th>2</th>\n",
              "      <td>13576</td>\n",
              "      <td>103924</td>\n",
              "      <td>They Made a Killing on the Mortgage Crisis . N...</td>\n",
              "      <td>mind</td>\n",
              "      <td>22111</td>\n",
              "      <td>1.4</td>\n",
              "      <td>America</td>\n",
              "      <td>0.819257</td>\n",
              "      <td>mind</td>\n",
              "      <td>america</td>\n",
              "    </tr>\n",
              "    <tr>\n",
              "      <th>3</th>\n",
              "      <td>6924</td>\n",
              "      <td>3014</td>\n",
              "      <td>How Crisis Pregnancy Center Clients Rely On Me...</td>\n",
              "      <td>woman</td>\n",
              "      <td>22000</td>\n",
              "      <td>0.8</td>\n",
              "      <td>Medicaid</td>\n",
              "      <td>0.961407</td>\n",
              "      <td>woman</td>\n",
              "      <td>medicaid</td>\n",
              "    </tr>\n",
              "    <tr>\n",
              "      <th>4</th>\n",
              "      <td>13805</td>\n",
              "      <td>104153</td>\n",
              "      <td>Police seize $ 10m in donations intended for p...</td>\n",
              "      <td>steal</td>\n",
              "      <td>0</td>\n",
              "      <td>0.0</td>\n",
              "      <td>seize</td>\n",
              "      <td>0.916073</td>\n",
              "      <td>steal</td>\n",
              "      <td>seize</td>\n",
              "    </tr>\n",
              "    <tr>\n",
              "      <th>...</th>\n",
              "      <td>...</td>\n",
              "      <td>...</td>\n",
              "      <td>...</td>\n",
              "      <td>...</td>\n",
              "      <td>...</td>\n",
              "      <td>...</td>\n",
              "      <td>...</td>\n",
              "      <td>...</td>\n",
              "      <td>...</td>\n",
              "      <td>...</td>\n",
              "    </tr>\n",
              "    <tr>\n",
              "      <th>8923</th>\n",
              "      <td>10167</td>\n",
              "      <td>100515</td>\n",
              "      <td>Activists urge Taiwan to join fight for Hong K...</td>\n",
              "      <td>dumpling</td>\n",
              "      <td>22211</td>\n",
              "      <td>1.6</td>\n",
              "      <td>democracy</td>\n",
              "      <td>1.078048</td>\n",
              "      <td>dumpling</td>\n",
              "      <td>democracy</td>\n",
              "    </tr>\n",
              "    <tr>\n",
              "      <th>8924</th>\n",
              "      <td>13963</td>\n",
              "      <td>104311</td>\n",
              "      <td>A Christian Magazine Called for Trump ’s Remov...</td>\n",
              "      <td>pray</td>\n",
              "      <td>22221</td>\n",
              "      <td>1.8</td>\n",
              "      <td>Say</td>\n",
              "      <td>0.867597</td>\n",
              "      <td>pray</td>\n",
              "      <td>say</td>\n",
              "    </tr>\n",
              "    <tr>\n",
              "      <th>8925</th>\n",
              "      <td>1810</td>\n",
              "      <td>7747</td>\n",
              "      <td>Trump ’s Labor Dept wants salary to count on o...</td>\n",
              "      <td>finger</td>\n",
              "      <td>32110</td>\n",
              "      <td>1.4</td>\n",
              "      <td>overtime</td>\n",
              "      <td>0.913089</td>\n",
              "      <td>finger</td>\n",
              "      <td>overtime</td>\n",
              "    </tr>\n",
              "    <tr>\n",
              "      <th>8926</th>\n",
              "      <td>6615</td>\n",
              "      <td>7484</td>\n",
              "      <td>Fugitive Mexican ex-governor moved to Guatemal...</td>\n",
              "      <td>restaurant</td>\n",
              "      <td>21110</td>\n",
              "      <td>1.0</td>\n",
              "      <td>prison</td>\n",
              "      <td>0.997532</td>\n",
              "      <td>restaurant</td>\n",
              "      <td>prison</td>\n",
              "    </tr>\n",
              "    <tr>\n",
              "      <th>8927</th>\n",
              "      <td>15663</td>\n",
              "      <td>106011</td>\n",
              "      <td>China bans foreign teaching materials in publi...</td>\n",
              "      <td>clown</td>\n",
              "      <td>22100</td>\n",
              "      <td>1.0</td>\n",
              "      <td>teaching</td>\n",
              "      <td>0.913820</td>\n",
              "      <td>clown</td>\n",
              "      <td>teaching</td>\n",
              "    </tr>\n",
              "  </tbody>\n",
              "</table>\n",
              "<p>8928 rows × 10 columns</p>\n",
              "</div>"
            ],
            "text/plain": [
              "      index      id  ... edit_word_corpus_rep old_word_corpus_rep\n",
              "0      3155    2784  ...                 hope              belief\n",
              "1     12588  102936  ...                 fish               board\n",
              "2     13576  103924  ...                 mind             america\n",
              "3      6924    3014  ...                woman            medicaid\n",
              "4     13805  104153  ...                steal               seize\n",
              "...     ...     ...  ...                  ...                 ...\n",
              "8923  10167  100515  ...             dumpling           democracy\n",
              "8924  13963  104311  ...                 pray                 say\n",
              "8925   1810    7747  ...               finger            overtime\n",
              "8926   6615    7484  ...           restaurant              prison\n",
              "8927  15663  106011  ...                clown            teaching\n",
              "\n",
              "[8928 rows x 10 columns]"
            ]
          },
          "metadata": {
            "tags": []
          },
          "execution_count": 345
        }
      ]
    },
    {
      "cell_type": "code",
      "metadata": {
        "colab": {
          "base_uri": "https://localhost:8080/",
          "height": 476
        },
        "id": "qfeOjG99eUHI",
        "outputId": "c15e1943-d210-4b66-8ae0-a4f873ed2077"
      },
      "source": [
        "#Only look at headlines where both original word and edited word has an embedding\n",
        "filt_dev_df = dev_embedding_df[dev_embedding_df['edit_word_corpus_rep'] != '<OOV>'][dev_embedding_df['old_word_corpus_rep'] != '<OOV>']\n",
        "filt_dev_df = filt_dev_df.reset_index(drop = True)\n",
        "print(len(filt_dev_df))\n",
        "filt_dev_df"
      ],
      "execution_count": 346,
      "outputs": [
        {
          "output_type": "stream",
          "text": [
            "2201\n"
          ],
          "name": "stdout"
        },
        {
          "output_type": "stream",
          "text": [
            "/usr/local/lib/python3.6/dist-packages/ipykernel_launcher.py:2: UserWarning: Boolean Series key will be reindexed to match DataFrame index.\n",
            "  \n"
          ],
          "name": "stderr"
        },
        {
          "output_type": "execute_result",
          "data": {
            "text/html": [
              "<div>\n",
              "<style scoped>\n",
              "    .dataframe tbody tr th:only-of-type {\n",
              "        vertical-align: middle;\n",
              "    }\n",
              "\n",
              "    .dataframe tbody tr th {\n",
              "        vertical-align: top;\n",
              "    }\n",
              "\n",
              "    .dataframe thead th {\n",
              "        text-align: right;\n",
              "    }\n",
              "</style>\n",
              "<table border=\"1\" class=\"dataframe\">\n",
              "  <thead>\n",
              "    <tr style=\"text-align: right;\">\n",
              "      <th></th>\n",
              "      <th>index</th>\n",
              "      <th>id</th>\n",
              "      <th>original</th>\n",
              "      <th>edit</th>\n",
              "      <th>grades</th>\n",
              "      <th>meanGrade</th>\n",
              "      <th>old</th>\n",
              "      <th>cos_distance</th>\n",
              "      <th>edit_word_corpus_rep</th>\n",
              "      <th>old_word_corpus_rep</th>\n",
              "    </tr>\n",
              "  </thead>\n",
              "  <tbody>\n",
              "    <tr>\n",
              "      <th>0</th>\n",
              "      <td>13656</td>\n",
              "      <td>104004</td>\n",
              "      <td>Devin Nunes Follows Through And Sues CNN In La...</td>\n",
              "      <td>skip</td>\n",
              "      <td>31110</td>\n",
              "      <td>1.2</td>\n",
              "      <td>Follows</td>\n",
              "      <td>1.007908</td>\n",
              "      <td>skip</td>\n",
              "      <td>follows</td>\n",
              "    </tr>\n",
              "    <tr>\n",
              "      <th>1</th>\n",
              "      <td>3372</td>\n",
              "      <td>2585</td>\n",
              "      <td>Trump : New UN sanctions are ' nothing compare...</td>\n",
              "      <td>trouser</td>\n",
              "      <td>32210</td>\n",
              "      <td>1.6</td>\n",
              "      <td>sanction</td>\n",
              "      <td>1.011428</td>\n",
              "      <td>trouser</td>\n",
              "      <td>sanction</td>\n",
              "    </tr>\n",
              "    <tr>\n",
              "      <th>2</th>\n",
              "      <td>2010</td>\n",
              "      <td>6775</td>\n",
              "      <td>Tony Blair says UK should launch military acti...</td>\n",
              "      <td>fundraiser</td>\n",
              "      <td>20000</td>\n",
              "      <td>0.4</td>\n",
              "      <td>action</td>\n",
              "      <td>1.017113</td>\n",
              "      <td>fundraiser</td>\n",
              "      <td>action</td>\n",
              "    </tr>\n",
              "    <tr>\n",
              "      <th>3</th>\n",
              "      <td>7110</td>\n",
              "      <td>11573</td>\n",
              "      <td>Steve Bannon is reportedly advocating for a ta...</td>\n",
              "      <td>nature</td>\n",
              "      <td>3222211000</td>\n",
              "      <td>1.3</td>\n",
              "      <td>tax</td>\n",
              "      <td>1.043012</td>\n",
              "      <td>nature</td>\n",
              "      <td>tax</td>\n",
              "    </tr>\n",
              "    <tr>\n",
              "      <th>4</th>\n",
              "      <td>595</td>\n",
              "      <td>3236</td>\n",
              "      <td>Michelle Obama was Jimmy Fallon ’s only guest ...</td>\n",
              "      <td>friend</td>\n",
              "      <td>33220</td>\n",
              "      <td>2.0</td>\n",
              "      <td>guest</td>\n",
              "      <td>0.973861</td>\n",
              "      <td>friend</td>\n",
              "      <td>guest</td>\n",
              "    </tr>\n",
              "    <tr>\n",
              "      <th>...</th>\n",
              "      <td>...</td>\n",
              "      <td>...</td>\n",
              "      <td>...</td>\n",
              "      <td>...</td>\n",
              "      <td>...</td>\n",
              "      <td>...</td>\n",
              "      <td>...</td>\n",
              "      <td>...</td>\n",
              "      <td>...</td>\n",
              "      <td>...</td>\n",
              "    </tr>\n",
              "    <tr>\n",
              "      <th>2196</th>\n",
              "      <td>2252</td>\n",
              "      <td>14459</td>\n",
              "      <td>Turkey suspends 9,103 police personnel over al...</td>\n",
              "      <td>roast</td>\n",
              "      <td>33220</td>\n",
              "      <td>2.0</td>\n",
              "      <td>suspends</td>\n",
              "      <td>1.098047</td>\n",
              "      <td>roast</td>\n",
              "      <td>suspends</td>\n",
              "    </tr>\n",
              "    <tr>\n",
              "      <th>2197</th>\n",
              "      <td>8031</td>\n",
              "      <td>11357</td>\n",
              "      <td>Keystone pipeline wo n't have to use American...</td>\n",
              "      <td>steel</td>\n",
              "      <td>20000</td>\n",
              "      <td>0.4</td>\n",
              "      <td>Keystone</td>\n",
              "      <td>0.949327</td>\n",
              "      <td>steel</td>\n",
              "      <td>keystone</td>\n",
              "    </tr>\n",
              "    <tr>\n",
              "      <th>2198</th>\n",
              "      <td>9070</td>\n",
              "      <td>2351</td>\n",
              "      <td>British election : PM Theresa May under pressu...</td>\n",
              "      <td>brush</td>\n",
              "      <td>11100</td>\n",
              "      <td>0.6</td>\n",
              "      <td>go</td>\n",
              "      <td>0.946989</td>\n",
              "      <td>brush</td>\n",
              "      <td>go</td>\n",
              "    </tr>\n",
              "    <tr>\n",
              "      <th>2199</th>\n",
              "      <td>192</td>\n",
              "      <td>1997</td>\n",
              "      <td>Trump suggests in tweet Justice Dept is ' out ...</td>\n",
              "      <td>painting</td>\n",
              "      <td>11100</td>\n",
              "      <td>0.6</td>\n",
              "      <td>tweet</td>\n",
              "      <td>0.916895</td>\n",
              "      <td>painting</td>\n",
              "      <td>tweet</td>\n",
              "    </tr>\n",
              "    <tr>\n",
              "      <th>2200</th>\n",
              "      <td>8471</td>\n",
              "      <td>3483</td>\n",
              "      <td>These charts show Fox News really did ignore P...</td>\n",
              "      <td>cooking</td>\n",
              "      <td>31100</td>\n",
              "      <td>1.0</td>\n",
              "      <td>crisis</td>\n",
              "      <td>0.989635</td>\n",
              "      <td>cooking</td>\n",
              "      <td>crisis</td>\n",
              "    </tr>\n",
              "  </tbody>\n",
              "</table>\n",
              "<p>2201 rows × 10 columns</p>\n",
              "</div>"
            ],
            "text/plain": [
              "      index      id  ... edit_word_corpus_rep old_word_corpus_rep\n",
              "0     13656  104004  ...                 skip             follows\n",
              "1      3372    2585  ...              trouser            sanction\n",
              "2      2010    6775  ...           fundraiser              action\n",
              "3      7110   11573  ...               nature                 tax\n",
              "4       595    3236  ...               friend               guest\n",
              "...     ...     ...  ...                  ...                 ...\n",
              "2196   2252   14459  ...                roast            suspends\n",
              "2197   8031   11357  ...                steel            keystone\n",
              "2198   9070    2351  ...                brush                  go\n",
              "2199    192    1997  ...             painting               tweet\n",
              "2200   8471    3483  ...              cooking              crisis\n",
              "\n",
              "[2201 rows x 10 columns]"
            ]
          },
          "metadata": {
            "tags": []
          },
          "execution_count": 346
        }
      ]
    },
    {
      "cell_type": "code",
      "metadata": {
        "colab": {
          "base_uri": "https://localhost:8080/"
        },
        "id": "JNMtWQdfHsY4",
        "outputId": "a38fb5e6-5d42-41de-f636-cb1cbdf2fb0e"
      },
      "source": [
        "#Run test only only edited headline where edit was previously seen\n",
        "model_filt = linear_model.LinearRegression()\n",
        "#train, test = train_test_split(filt_train_df,test_size = 0.2)\n",
        "dist_train = np.reshape(filt_train_df.cos_distance.to_list(), (-1,1))\n",
        "dist_test = np.reshape(filt_dev_df.cos_distance.to_list(), (-1,1))\n",
        "y = np.reshape(filt_train_df.meanGrade.to_list(), (-1,1))\n",
        "y_test = np.reshape(filt_dev_df.meanGrade.to_list(), (-1,1))\n",
        "#print(train.cos_distance)\n",
        "\n",
        "model.fit(dist_train, y)\n",
        "predictions = model.predict(dist_test)\n",
        "\n",
        "mean_squared_error(y_test, predictions, squared = False)"
      ],
      "execution_count": 347,
      "outputs": [
        {
          "output_type": "execute_result",
          "data": {
            "text/plain": [
              "0.5855786324693031"
            ]
          },
          "metadata": {
            "tags": []
          },
          "execution_count": 347
        }
      ]
    },
    {
      "cell_type": "code",
      "metadata": {
        "colab": {
          "base_uri": "https://localhost:8080/",
          "height": 282
        },
        "id": "Z7jxXc6uLU6F",
        "outputId": "d040f104-4d4c-4e5c-ee58-0e35d3542f0e"
      },
      "source": [
        "plt.scatter(predictions,y_test)"
      ],
      "execution_count": 348,
      "outputs": [
        {
          "output_type": "execute_result",
          "data": {
            "text/plain": [
              "<matplotlib.collections.PathCollection at 0x7fd0aaea75f8>"
            ]
          },
          "metadata": {
            "tags": []
          },
          "execution_count": 348
        },
        {
          "output_type": "display_data",
          "data": {
            "image/png": "[encoded data removed]",
            "text/plain": [
              "<Figure size 432x288 with 1 Axes>"
            ]
          },
          "metadata": {
            "tags": [],
            "needs_background": "light"
          }
        }
      ]
    },
    {
      "cell_type": "markdown",
      "metadata": {
        "id": "7I8pLd4JOtXQ"
      },
      "source": [
        "## Predictions by BILSTM"
      ]
    },
    {
      "cell_type": "code",
      "metadata": {
        "id": "bjQTRFwKRosF"
      },
      "source": [
        "# To create our vocab\n",
        "\n",
        "def custom_tokenizer(nlp):\n",
        "    \n",
        "    replacement_re = re.compile(r'^<*/>') #do not split replacement format\n",
        "    prefix_re = re.compile(r'''^[\\[\\(\"]''')\n",
        "    suffix_re = re.compile(r''',[\\]\\)\"']$''')\n",
        "    infix_re = re.compile(r'''[-\\,.~]''')\n",
        "    \n",
        "    \n",
        "    return Tokenizer(nlp.vocab,\n",
        "                     token_match = replacement_re.match,\n",
        "                     prefix_search=prefix_re.search,\n",
        "                     suffix_search=suffix_re.search,\n",
        "                     infix_finditer = infix_re.finditer  \n",
        "                    )\n",
        "\n",
        "\n",
        "\n",
        "def preprocessor(data,edits):\n",
        "    \"\"\"\n",
        "    Creating a corpus of all the tokens used\n",
        "    \"\"\"\n",
        "    from nltk.stem import WordNetLemmatizer\n",
        "    wordnet_lemmatizer = WordNetLemmatizer()  \n",
        "\n",
        "    punctuation = \"\\\":\\.,\"\n",
        "    nlp = spacy.load(\"en_core_web_sm\")\n",
        "    nlp.tokenizer = custom_tokenizer(nlp)\n",
        "    \n",
        "    tokenized_corpus_1= [] # Let us put the tokenized corpus in a list\n",
        "    tokenized_corpus_2= []\n",
        "    \n",
        "    \n",
        "    for i, sentence in enumerate(data):\n",
        "\n",
        "        sentence = sentence.lower()\n",
        "        tokenized_sentence_1 = []\n",
        "        tokenized_sentence_2 = []\n",
        "\n",
        "        for token in nlp(sentence): # simplest split is\n",
        "\n",
        "            if token.text in punctuation:\n",
        "                continue\n",
        "            if token.text in spacy_stop_words:\n",
        "                continue\n",
        "            \n",
        "            else:\n",
        "                if token.text[0] == '<':\n",
        "                    tokenized_sentence_1.append(\"???\")\n",
        "                    tokenized_sentence_2.append(\"???\")\n",
        "                    \n",
        "                    tokenized_sentence_2.append(wordnet_lemmatizer.lemmatize(edits.iloc[i],  pos=\"v\"))\n",
        "\n",
        "                    lemmatized_token = wordnet_lemmatizer.lemmatize(token.text[1:-2], pos=\"v\")\n",
        "\n",
        "                    tokenized_sentence_1.append(lemmatized_token)\n",
        "                else:\n",
        "                    lemmatized_token = wordnet_lemmatizer.lemmatize(token.text, pos=\"v\")\n",
        "\n",
        "                    tokenized_sentence_2.append(lemmatized_token)\n",
        "                \n",
        "                    tokenized_sentence_1.append(lemmatized_token)\n",
        "\n",
        "\n",
        "        tokenized_corpus_1.append(tokenized_sentence_1)\n",
        "        tokenized_corpus_2.append(tokenized_sentence_2)\n",
        "\n",
        "    # Create single list of all vocabulary\n",
        "    vocabulary = []  # Let us put all the tokens (mostly words) appearing in the vocabulary in a list\n",
        "\n",
        "    for sentence in tokenized_corpus_1:\n",
        "\n",
        "        for token in sentence:\n",
        "\n",
        "            if token not in vocabulary:\n",
        "\n",
        "                if True:\n",
        "                    vocabulary.append(token)\n",
        "    \n",
        "    for token in edits:\n",
        "        \n",
        "        if token not in vocabulary:\n",
        "            \n",
        "            vocabulary.append(token)\n",
        "\n",
        "    return vocabulary, tokenized_corpus_1, tokenized_corpus_2"
      ],
      "execution_count": 353,
      "outputs": []
    },
    {
      "cell_type": "code",
      "metadata": {
        "colab": {
          "base_uri": "https://localhost:8080/",
          "height": 424
        },
        "id": "zc5YsMweZkdd",
        "outputId": "34810a7e-36ed-4c51-97ed-ac6e3f297524"
      },
      "source": [
        "###RUN train and eval of BILSTM section"
      ],
      "execution_count": 283,
      "outputs": [
        {
          "output_type": "execute_result",
          "data": {
            "text/html": [
              "<div>\n",
              "<style scoped>\n",
              "    .dataframe tbody tr th:only-of-type {\n",
              "        vertical-align: middle;\n",
              "    }\n",
              "\n",
              "    .dataframe tbody tr th {\n",
              "        vertical-align: top;\n",
              "    }\n",
              "\n",
              "    .dataframe thead th {\n",
              "        text-align: right;\n",
              "    }\n",
              "</style>\n",
              "<table border=\"1\" class=\"dataframe\">\n",
              "  <thead>\n",
              "    <tr style=\"text-align: right;\">\n",
              "      <th></th>\n",
              "      <th>index</th>\n",
              "      <th>id</th>\n",
              "      <th>original</th>\n",
              "      <th>edit</th>\n",
              "      <th>grades</th>\n",
              "      <th>meanGrade</th>\n",
              "    </tr>\n",
              "  </thead>\n",
              "  <tbody>\n",
              "    <tr>\n",
              "      <th>0</th>\n",
              "      <td>1149</td>\n",
              "      <td>14748</td>\n",
              "      <td>Trump , Xi talked Syria strike over ' beautifu...</td>\n",
              "      <td>puppy</td>\n",
              "      <td>21110</td>\n",
              "      <td>1.0</td>\n",
              "    </tr>\n",
              "    <tr>\n",
              "      <th>1</th>\n",
              "      <td>8622</td>\n",
              "      <td>11960</td>\n",
              "      <td>Mick Mulvaney ’s &lt;snake/&gt; oil : A blend of bad...</td>\n",
              "      <td>parrot</td>\n",
              "      <td>10000</td>\n",
              "      <td>0.2</td>\n",
              "    </tr>\n",
              "    <tr>\n",
              "      <th>2</th>\n",
              "      <td>3596</td>\n",
              "      <td>9802</td>\n",
              "      <td>Merkel &lt;calls/&gt; for joint efforts with Russia ...</td>\n",
              "      <td>begs</td>\n",
              "      <td>10000</td>\n",
              "      <td>0.2</td>\n",
              "    </tr>\n",
              "    <tr>\n",
              "      <th>3</th>\n",
              "      <td>7270</td>\n",
              "      <td>792</td>\n",
              "      <td>Israeli &lt;minister/&gt; wishes Iranian protesters ...</td>\n",
              "      <td>genie</td>\n",
              "      <td>31100</td>\n",
              "      <td>1.0</td>\n",
              "    </tr>\n",
              "    <tr>\n",
              "      <th>4</th>\n",
              "      <td>737</td>\n",
              "      <td>1196</td>\n",
              "      <td>Glencore starts cutting &lt;ties/&gt; with Russian o...</td>\n",
              "      <td>cheese</td>\n",
              "      <td>22100</td>\n",
              "      <td>1.0</td>\n",
              "    </tr>\n",
              "    <tr>\n",
              "      <th>...</th>\n",
              "      <td>...</td>\n",
              "      <td>...</td>\n",
              "      <td>...</td>\n",
              "      <td>...</td>\n",
              "      <td>...</td>\n",
              "      <td>...</td>\n",
              "    </tr>\n",
              "    <tr>\n",
              "      <th>7716</th>\n",
              "      <td>8959</td>\n",
              "      <td>6657</td>\n",
              "      <td>Putin reacts to &lt;Trump/&gt; firing FBI Director J...</td>\n",
              "      <td>horse</td>\n",
              "      <td>21000</td>\n",
              "      <td>0.6</td>\n",
              "    </tr>\n",
              "    <tr>\n",
              "      <th>7717</th>\n",
              "      <td>4253</td>\n",
              "      <td>11905</td>\n",
              "      <td>Why Hillary Clinton Lost To &lt;Donald Trump/&gt;</td>\n",
              "      <td>child</td>\n",
              "      <td>32100</td>\n",
              "      <td>1.2</td>\n",
              "    </tr>\n",
              "    <tr>\n",
              "      <th>7718</th>\n",
              "      <td>5262</td>\n",
              "      <td>2082</td>\n",
              "      <td>' Butcher of Bosnia ' Ratko Mladic found guilt...</td>\n",
              "      <td>indigestion</td>\n",
              "      <td>21110</td>\n",
              "      <td>1.0</td>\n",
              "    </tr>\n",
              "    <tr>\n",
              "      <th>7719</th>\n",
              "      <td>3748</td>\n",
              "      <td>9534</td>\n",
              "      <td>Sean Spicer : Angry Republican town halls were...</td>\n",
              "      <td>sham</td>\n",
              "      <td>10000</td>\n",
              "      <td>0.2</td>\n",
              "    </tr>\n",
              "    <tr>\n",
              "      <th>7720</th>\n",
              "      <td>5461</td>\n",
              "      <td>6843</td>\n",
              "      <td>EU &lt;criticizes/&gt; Turkey 's offensive in Syrian...</td>\n",
              "      <td>pantomimes</td>\n",
              "      <td>32100</td>\n",
              "      <td>1.2</td>\n",
              "    </tr>\n",
              "  </tbody>\n",
              "</table>\n",
              "<p>7721 rows × 6 columns</p>\n",
              "</div>"
            ],
            "text/plain": [
              "      index     id  ... grades meanGrade\n",
              "0      1149  14748  ...  21110       1.0\n",
              "1      8622  11960  ...  10000       0.2\n",
              "2      3596   9802  ...  10000       0.2\n",
              "3      7270    792  ...  31100       1.0\n",
              "4       737   1196  ...  22100       1.0\n",
              "...     ...    ...  ...    ...       ...\n",
              "7716   8959   6657  ...  21000       0.6\n",
              "7717   4253  11905  ...  32100       1.2\n",
              "7718   5262   2082  ...  21110       1.0\n",
              "7719   3748   9534  ...  10000       0.2\n",
              "7720   5461   6843  ...  32100       1.2\n",
              "\n",
              "[7721 rows x 6 columns]"
            ]
          },
          "metadata": {
            "tags": []
          },
          "execution_count": 283
        }
      ]
    },
    {
      "cell_type": "code",
      "metadata": {
        "colab": {
          "base_uri": "https://localhost:8080/"
        },
        "id": "sJIqgkQuOyqe",
        "outputId": "e692dbd1-d677-440f-9dca-db918436730c"
      },
      "source": [
        "## Approach 1 code, using functions defined above:\n",
        "\n",
        "# We set our training data and test data\n",
        "training_data = train_embedding_df_pre['original']\n",
        "test_data = dev_embedding_df_pre['original']\n",
        "\n",
        "training_vocab, training_tokenized_corpus_1,training_tokenized_corpus_2 =  preprocessor(training_data, train_embedding_df_pre['edit'])\n",
        "test_vocab, test_tokenized_corpus_1,test_tokenized_corpus_2 =  preprocessor(test_data,dev_embedding_df_pre['edit'])\n",
        "\n",
        "#joint_vocab, joint_tokenized_corpus_1,joint_tokenized_corpus_2 = preprocessor(pd.concat([training_data, test_data]),pd.concat([train_df['edit'],test_df['edit']],ignore_index = True))\n",
        "\n",
        "#print(\"Vocabulary joined creation - done\")\n",
        "\n",
        "\n",
        "\n",
        "print(\"Vocab created.\")"
      ],
      "execution_count": 354,
      "outputs": [
        {
          "output_type": "stream",
          "text": [
            "Vocab created.\n"
          ],
          "name": "stdout"
        }
      ]
    },
    {
      "cell_type": "code",
      "metadata": {
        "id": "yAgIgjE-USmS"
      },
      "source": [
        "vectorized_seqs_1_train = [[word2idx[tok] if tok in word2idx else word2idx[OOV_token] for tok in seq] for seq in training_tokenized_corpus_1]\n",
        "vectorized_seqs_2_train = [[word2idx[tok] if tok in word2idx else word2idx[OOV_token] for tok in seq] for seq in training_tokenized_corpus_2]\n",
        "\n",
        "vectorized_seqs_1_test = [[word2idx[tok] if tok in word2idx else word2idx[OOV_token] for tok in seq] for seq in test_tokenized_corpus_1]\n",
        "vectorized_seqs_2_test = [[word2idx[tok] if tok in word2idx else word2idx[OOV_token] for tok in seq] for seq in test_tokenized_corpus_2]\n",
        "\n",
        "\n",
        "\n",
        "\n",
        "# To avoid any sentences being empty (if no words match to our word embeddings)\n",
        "vectorized_seqs_1_train = [x if len(x) > 0 else [0] for x in vectorized_seqs_1_train]\n",
        "vectorized_seqs_2_train = [x if len(x) > 0 else [0] for x in vectorized_seqs_2_train]\n",
        "\n",
        "vectorized_seqs_1_test = [x if len(x) > 0 else [0] for x in vectorized_seqs_1_test]\n",
        "vectorized_seqs_2_test = [x if len(x) > 0 else [0] for x in vectorized_seqs_2_test]\n"
      ],
      "execution_count": 355,
      "outputs": []
    },
    {
      "cell_type": "code",
      "metadata": {
        "id": "mJZJC2KJUpST",
        "colab": {
          "base_uri": "https://localhost:8080/"
        },
        "outputId": "ddffc33b-5c02-4927-fab3-40d062400043"
      },
      "source": [
        "INPUT_DIM = len(word2idx)\n",
        "EMBEDDING_DIM = 128\n",
        "\n",
        "BATCH_SIZE = 128\n",
        "\n",
        "model = BiLSTM_double(EMBEDDING_DIM, 55, INPUT_DIM, BATCH_SIZE, device)\n",
        "\n",
        "params = sum(p.numel() for p in model.parameters() if p.requires_grad)\n",
        "print(params)\n",
        "#print(\"Total number of parameters is: {​​}​​\".format(params))\n",
        "\n",
        "print(model)\n",
        "\n",
        "print(\"Model initialised.\")\n",
        "\n",
        "model.to(device)\n",
        "# We provide the model with our embeddings\n",
        "#x = np.concatenate((wvecs,wvecs),axis=1)\n",
        "model.embedding.weight.data.copy_(weights_matrix)\n"
      ],
      "execution_count": 356,
      "outputs": [
        {
          "output_type": "stream",
          "text": [
            "5276125\n",
            "BiLSTM_double(\n",
            "  (embedding): Embedding(30493, 128, padding_idx=0)\n",
            "  (lstm_1): LSTM(128, 55, bidirectional=True)\n",
            "  (lstm_2): LSTM(128, 55, bidirectional=True)\n",
            "  (fc): Linear(in_features=11000, out_features=110, bias=True)\n",
            "  (hidden2label): Linear(in_features=110, out_features=1, bias=True)\n",
            "  (d1): Dropout(p=0.5, inplace=False)\n",
            "  (d2): Dropout(p=0.5, inplace=False)\n",
            "  (d3): Dropout(p=0.5, inplace=False)\n",
            ")\n",
            "Model initialised.\n"
          ],
          "name": "stdout"
        },
        {
          "output_type": "execute_result",
          "data": {
            "text/plain": [
              "tensor([[ 1.7948e-03,  2.7857e-03,  4.0659e-03,  ..., -2.7658e-03,\n",
              "         -3.9495e-03, -3.5526e-03],\n",
              "        [-5.5209e-03, -1.4806e-03, -1.2185e-03,  ..., -3.1958e-03,\n",
              "          3.7966e-03, -2.5609e-03],\n",
              "        [ 2.8686e-04,  2.0929e-03,  5.8230e-05,  ..., -3.9463e-03,\n",
              "          1.9754e-03, -2.5178e-03],\n",
              "        ...,\n",
              "        [ 2.3816e-03, -4.4931e-03, -2.1966e-03,  ...,  2.5143e-03,\n",
              "         -4.7962e-03, -4.2533e-03],\n",
              "        [ 3.3526e-03,  1.1326e-03,  7.5067e-04,  ..., -5.5792e-03,\n",
              "         -6.1450e-04,  4.3699e-03],\n",
              "        [ 1.5247e-03,  4.8776e-03,  1.5552e-03,  ...,  5.7090e-03,\n",
              "         -4.5389e-03, -1.4310e-03]], device='cuda:0', grad_fn=<CopyBackwards>)"
            ]
          },
          "metadata": {
            "tags": []
          },
          "execution_count": 356
        }
      ]
    },
    {
      "cell_type": "code",
      "metadata": {
        "id": "6nmnvF_AV4YV",
        "colab": {
          "base_uri": "https://localhost:8080/"
        },
        "outputId": "81b1a55d-e97f-4619-c1aa-68f11d12073c"
      },
      "source": [
        "epochs = 80\n",
        "train_proportion = 0.8\n",
        "\n",
        "train_dataset = Task1Dataset_double(vectorized_seqs_1_train,vectorized_seqs_2_train, train_embedding_df_pre['meanGrade'])\n",
        "dev_dataset = Task1Dataset_double(vectorized_seqs_1_test,vectorized_seqs_2_test, dev_embedding_df_pre['meanGrade'])\n",
        "\n",
        "\n",
        "train_loader = torch.utils.data.DataLoader(train_dataset, shuffle=True, batch_size=BATCH_SIZE, collate_fn=collate_fn_padd)\n",
        "\n",
        "dev_loader = torch.utils.data.DataLoader(dev_dataset, batch_size=BATCH_SIZE, collate_fn=collate_fn_padd)\n",
        "\n",
        "print(\"Dataloaders created.\")\n",
        "\n",
        "loss_fn = nn.MSELoss()\n",
        "loss_fn = loss_fn.to(device)\n",
        "\n",
        "optimizer = torch.optim.SGD(model.parameters(), lr=0.008, momentum=0.9)\n",
        "\n",
        "train_losses, valid_losses, preds, targs, train_rmses, valid_rmses = train(train_loader, dev_loader, model, epochs)\n",
        "\n",
        "\n",
        "#Without stop words removal 0.6"
      ],
      "execution_count": 357,
      "outputs": [
        {
          "output_type": "stream",
          "text": [
            "Dataloaders created.\n",
            "Training model.\n",
            "| Epoch: 01 | Train Loss: 0.42 | Train MSE: 0.42 | Train RMSE: 0.65 |         Val. Loss: 0.36 | Val. MSE: 0.36 |  Val. RMSE: 0.60 |\n",
            "| Epoch: 02 | Train Loss: 0.36 | Train MSE: 0.36 | Train RMSE: 0.60 |         Val. Loss: 0.36 | Val. MSE: 0.36 |  Val. RMSE: 0.60 |\n",
            "| Epoch: 03 | Train Loss: 0.36 | Train MSE: 0.36 | Train RMSE: 0.60 |         Val. Loss: 0.36 | Val. MSE: 0.36 |  Val. RMSE: 0.60 |\n",
            "| Epoch: 04 | Train Loss: 0.36 | Train MSE: 0.36 | Train RMSE: 0.60 |         Val. Loss: 0.36 | Val. MSE: 0.36 |  Val. RMSE: 0.60 |\n",
            "| Epoch: 05 | Train Loss: 0.36 | Train MSE: 0.36 | Train RMSE: 0.60 |         Val. Loss: 0.36 | Val. MSE: 0.36 |  Val. RMSE: 0.60 |\n",
            "| Epoch: 06 | Train Loss: 0.36 | Train MSE: 0.36 | Train RMSE: 0.60 |         Val. Loss: 0.36 | Val. MSE: 0.36 |  Val. RMSE: 0.60 |\n",
            "| Epoch: 07 | Train Loss: 0.36 | Train MSE: 0.36 | Train RMSE: 0.60 |         Val. Loss: 0.36 | Val. MSE: 0.36 |  Val. RMSE: 0.60 |\n",
            "| Epoch: 08 | Train Loss: 0.36 | Train MSE: 0.36 | Train RMSE: 0.60 |         Val. Loss: 0.36 | Val. MSE: 0.36 |  Val. RMSE: 0.60 |\n",
            "| Epoch: 09 | Train Loss: 0.36 | Train MSE: 0.36 | Train RMSE: 0.60 |         Val. Loss: 0.36 | Val. MSE: 0.36 |  Val. RMSE: 0.60 |\n",
            "| Epoch: 10 | Train Loss: 0.36 | Train MSE: 0.36 | Train RMSE: 0.60 |         Val. Loss: 0.36 | Val. MSE: 0.36 |  Val. RMSE: 0.60 |\n",
            "| Epoch: 11 | Train Loss: 0.36 | Train MSE: 0.36 | Train RMSE: 0.60 |         Val. Loss: 0.36 | Val. MSE: 0.36 |  Val. RMSE: 0.60 |\n",
            "| Epoch: 12 | Train Loss: 0.36 | Train MSE: 0.36 | Train RMSE: 0.60 |         Val. Loss: 0.36 | Val. MSE: 0.36 |  Val. RMSE: 0.60 |\n",
            "| Epoch: 13 | Train Loss: 0.36 | Train MSE: 0.36 | Train RMSE: 0.60 |         Val. Loss: 0.36 | Val. MSE: 0.36 |  Val. RMSE: 0.60 |\n",
            "| Epoch: 14 | Train Loss: 0.36 | Train MSE: 0.36 | Train RMSE: 0.60 |         Val. Loss: 0.36 | Val. MSE: 0.36 |  Val. RMSE: 0.60 |\n",
            "| Epoch: 15 | Train Loss: 0.36 | Train MSE: 0.36 | Train RMSE: 0.60 |         Val. Loss: 0.36 | Val. MSE: 0.36 |  Val. RMSE: 0.60 |\n",
            "| Epoch: 16 | Train Loss: 0.36 | Train MSE: 0.36 | Train RMSE: 0.60 |         Val. Loss: 0.36 | Val. MSE: 0.36 |  Val. RMSE: 0.60 |\n",
            "| Epoch: 17 | Train Loss: 0.36 | Train MSE: 0.36 | Train RMSE: 0.60 |         Val. Loss: 0.36 | Val. MSE: 0.36 |  Val. RMSE: 0.60 |\n",
            "| Epoch: 18 | Train Loss: 0.36 | Train MSE: 0.36 | Train RMSE: 0.60 |         Val. Loss: 0.36 | Val. MSE: 0.36 |  Val. RMSE: 0.60 |\n",
            "| Epoch: 19 | Train Loss: 0.36 | Train MSE: 0.36 | Train RMSE: 0.60 |         Val. Loss: 0.36 | Val. MSE: 0.36 |  Val. RMSE: 0.60 |\n",
            "| Epoch: 20 | Train Loss: 0.36 | Train MSE: 0.36 | Train RMSE: 0.60 |         Val. Loss: 0.36 | Val. MSE: 0.36 |  Val. RMSE: 0.60 |\n",
            "| Epoch: 21 | Train Loss: 0.36 | Train MSE: 0.36 | Train RMSE: 0.60 |         Val. Loss: 0.36 | Val. MSE: 0.36 |  Val. RMSE: 0.60 |\n",
            "| Epoch: 22 | Train Loss: 0.36 | Train MSE: 0.36 | Train RMSE: 0.60 |         Val. Loss: 0.36 | Val. MSE: 0.36 |  Val. RMSE: 0.60 |\n",
            "| Epoch: 23 | Train Loss: 0.36 | Train MSE: 0.36 | Train RMSE: 0.60 |         Val. Loss: 0.36 | Val. MSE: 0.36 |  Val. RMSE: 0.60 |\n",
            "| Epoch: 24 | Train Loss: 0.36 | Train MSE: 0.36 | Train RMSE: 0.60 |         Val. Loss: 0.36 | Val. MSE: 0.36 |  Val. RMSE: 0.60 |\n",
            "| Epoch: 25 | Train Loss: 0.36 | Train MSE: 0.36 | Train RMSE: 0.60 |         Val. Loss: 0.36 | Val. MSE: 0.36 |  Val. RMSE: 0.60 |\n",
            "| Epoch: 26 | Train Loss: 0.36 | Train MSE: 0.36 | Train RMSE: 0.60 |         Val. Loss: 0.36 | Val. MSE: 0.36 |  Val. RMSE: 0.60 |\n",
            "| Epoch: 27 | Train Loss: 0.36 | Train MSE: 0.36 | Train RMSE: 0.60 |         Val. Loss: 0.36 | Val. MSE: 0.36 |  Val. RMSE: 0.60 |\n",
            "| Epoch: 28 | Train Loss: 0.36 | Train MSE: 0.36 | Train RMSE: 0.60 |         Val. Loss: 0.36 | Val. MSE: 0.36 |  Val. RMSE: 0.60 |\n",
            "| Epoch: 29 | Train Loss: 0.36 | Train MSE: 0.36 | Train RMSE: 0.60 |         Val. Loss: 0.36 | Val. MSE: 0.36 |  Val. RMSE: 0.60 |\n",
            "| Epoch: 30 | Train Loss: 0.36 | Train MSE: 0.36 | Train RMSE: 0.60 |         Val. Loss: 0.36 | Val. MSE: 0.36 |  Val. RMSE: 0.60 |\n",
            "| Epoch: 31 | Train Loss: 0.36 | Train MSE: 0.36 | Train RMSE: 0.60 |         Val. Loss: 0.36 | Val. MSE: 0.36 |  Val. RMSE: 0.60 |\n",
            "| Epoch: 32 | Train Loss: 0.36 | Train MSE: 0.36 | Train RMSE: 0.60 |         Val. Loss: 0.36 | Val. MSE: 0.36 |  Val. RMSE: 0.60 |\n",
            "| Epoch: 33 | Train Loss: 0.36 | Train MSE: 0.36 | Train RMSE: 0.60 |         Val. Loss: 0.36 | Val. MSE: 0.36 |  Val. RMSE: 0.60 |\n",
            "| Epoch: 34 | Train Loss: 0.36 | Train MSE: 0.36 | Train RMSE: 0.60 |         Val. Loss: 0.36 | Val. MSE: 0.36 |  Val. RMSE: 0.60 |\n",
            "| Epoch: 35 | Train Loss: 0.36 | Train MSE: 0.36 | Train RMSE: 0.60 |         Val. Loss: 0.36 | Val. MSE: 0.36 |  Val. RMSE: 0.60 |\n",
            "| Epoch: 36 | Train Loss: 0.36 | Train MSE: 0.36 | Train RMSE: 0.60 |         Val. Loss: 0.36 | Val. MSE: 0.36 |  Val. RMSE: 0.60 |\n",
            "| Epoch: 37 | Train Loss: 0.36 | Train MSE: 0.36 | Train RMSE: 0.60 |         Val. Loss: 0.36 | Val. MSE: 0.36 |  Val. RMSE: 0.60 |\n",
            "| Epoch: 38 | Train Loss: 0.36 | Train MSE: 0.36 | Train RMSE: 0.60 |         Val. Loss: 0.36 | Val. MSE: 0.36 |  Val. RMSE: 0.60 |\n",
            "| Epoch: 39 | Train Loss: 0.36 | Train MSE: 0.36 | Train RMSE: 0.60 |         Val. Loss: 0.36 | Val. MSE: 0.36 |  Val. RMSE: 0.60 |\n",
            "| Epoch: 40 | Train Loss: 0.36 | Train MSE: 0.36 | Train RMSE: 0.60 |         Val. Loss: 0.36 | Val. MSE: 0.36 |  Val. RMSE: 0.60 |\n",
            "| Epoch: 41 | Train Loss: 0.36 | Train MSE: 0.36 | Train RMSE: 0.60 |         Val. Loss: 0.36 | Val. MSE: 0.36 |  Val. RMSE: 0.60 |\n",
            "| Epoch: 42 | Train Loss: 0.36 | Train MSE: 0.36 | Train RMSE: 0.60 |         Val. Loss: 0.36 | Val. MSE: 0.36 |  Val. RMSE: 0.60 |\n",
            "| Epoch: 43 | Train Loss: 0.36 | Train MSE: 0.36 | Train RMSE: 0.60 |         Val. Loss: 0.36 | Val. MSE: 0.36 |  Val. RMSE: 0.60 |\n",
            "| Epoch: 44 | Train Loss: 0.36 | Train MSE: 0.36 | Train RMSE: 0.60 |         Val. Loss: 0.36 | Val. MSE: 0.36 |  Val. RMSE: 0.60 |\n",
            "| Epoch: 45 | Train Loss: 0.36 | Train MSE: 0.36 | Train RMSE: 0.60 |         Val. Loss: 0.36 | Val. MSE: 0.36 |  Val. RMSE: 0.60 |\n",
            "| Epoch: 46 | Train Loss: 0.36 | Train MSE: 0.36 | Train RMSE: 0.60 |         Val. Loss: 0.36 | Val. MSE: 0.36 |  Val. RMSE: 0.60 |\n",
            "| Epoch: 47 | Train Loss: 0.36 | Train MSE: 0.36 | Train RMSE: 0.60 |         Val. Loss: 0.36 | Val. MSE: 0.36 |  Val. RMSE: 0.60 |\n",
            "| Epoch: 48 | Train Loss: 0.36 | Train MSE: 0.36 | Train RMSE: 0.60 |         Val. Loss: 0.36 | Val. MSE: 0.36 |  Val. RMSE: 0.60 |\n",
            "| Epoch: 49 | Train Loss: 0.36 | Train MSE: 0.36 | Train RMSE: 0.60 |         Val. Loss: 0.36 | Val. MSE: 0.36 |  Val. RMSE: 0.60 |\n",
            "| Epoch: 50 | Train Loss: 0.36 | Train MSE: 0.36 | Train RMSE: 0.60 |         Val. Loss: 0.36 | Val. MSE: 0.36 |  Val. RMSE: 0.60 |\n",
            "| Epoch: 51 | Train Loss: 0.36 | Train MSE: 0.36 | Train RMSE: 0.60 |         Val. Loss: 0.36 | Val. MSE: 0.36 |  Val. RMSE: 0.60 |\n",
            "| Epoch: 52 | Train Loss: 0.36 | Train MSE: 0.36 | Train RMSE: 0.60 |         Val. Loss: 0.36 | Val. MSE: 0.36 |  Val. RMSE: 0.60 |\n",
            "| Epoch: 53 | Train Loss: 0.36 | Train MSE: 0.36 | Train RMSE: 0.60 |         Val. Loss: 0.36 | Val. MSE: 0.36 |  Val. RMSE: 0.60 |\n",
            "| Epoch: 54 | Train Loss: 0.36 | Train MSE: 0.36 | Train RMSE: 0.60 |         Val. Loss: 0.36 | Val. MSE: 0.36 |  Val. RMSE: 0.60 |\n",
            "| Epoch: 55 | Train Loss: 0.36 | Train MSE: 0.36 | Train RMSE: 0.60 |         Val. Loss: 0.36 | Val. MSE: 0.36 |  Val. RMSE: 0.60 |\n",
            "| Epoch: 56 | Train Loss: 0.36 | Train MSE: 0.36 | Train RMSE: 0.60 |         Val. Loss: 0.36 | Val. MSE: 0.36 |  Val. RMSE: 0.60 |\n",
            "| Epoch: 57 | Train Loss: 0.36 | Train MSE: 0.36 | Train RMSE: 0.60 |         Val. Loss: 0.36 | Val. MSE: 0.36 |  Val. RMSE: 0.60 |\n",
            "| Epoch: 58 | Train Loss: 0.36 | Train MSE: 0.36 | Train RMSE: 0.60 |         Val. Loss: 0.36 | Val. MSE: 0.36 |  Val. RMSE: 0.60 |\n",
            "| Epoch: 59 | Train Loss: 0.36 | Train MSE: 0.36 | Train RMSE: 0.60 |         Val. Loss: 0.36 | Val. MSE: 0.36 |  Val. RMSE: 0.60 |\n",
            "| Epoch: 60 | Train Loss: 0.36 | Train MSE: 0.36 | Train RMSE: 0.60 |         Val. Loss: 0.36 | Val. MSE: 0.36 |  Val. RMSE: 0.60 |\n",
            "| Epoch: 61 | Train Loss: 0.36 | Train MSE: 0.36 | Train RMSE: 0.60 |         Val. Loss: 0.36 | Val. MSE: 0.36 |  Val. RMSE: 0.60 |\n",
            "| Epoch: 62 | Train Loss: 0.36 | Train MSE: 0.36 | Train RMSE: 0.60 |         Val. Loss: 0.36 | Val. MSE: 0.36 |  Val. RMSE: 0.60 |\n",
            "| Epoch: 63 | Train Loss: 0.36 | Train MSE: 0.36 | Train RMSE: 0.60 |         Val. Loss: 0.36 | Val. MSE: 0.36 |  Val. RMSE: 0.60 |\n",
            "| Epoch: 64 | Train Loss: 0.36 | Train MSE: 0.36 | Train RMSE: 0.60 |         Val. Loss: 0.36 | Val. MSE: 0.36 |  Val. RMSE: 0.60 |\n",
            "| Epoch: 65 | Train Loss: 0.36 | Train MSE: 0.36 | Train RMSE: 0.60 |         Val. Loss: 0.36 | Val. MSE: 0.36 |  Val. RMSE: 0.60 |\n",
            "| Epoch: 66 | Train Loss: 0.36 | Train MSE: 0.36 | Train RMSE: 0.60 |         Val. Loss: 0.36 | Val. MSE: 0.36 |  Val. RMSE: 0.60 |\n",
            "| Epoch: 67 | Train Loss: 0.36 | Train MSE: 0.36 | Train RMSE: 0.60 |         Val. Loss: 0.36 | Val. MSE: 0.36 |  Val. RMSE: 0.60 |\n",
            "| Epoch: 68 | Train Loss: 0.36 | Train MSE: 0.36 | Train RMSE: 0.60 |         Val. Loss: 0.36 | Val. MSE: 0.36 |  Val. RMSE: 0.60 |\n",
            "| Epoch: 69 | Train Loss: 0.36 | Train MSE: 0.36 | Train RMSE: 0.60 |         Val. Loss: 0.36 | Val. MSE: 0.36 |  Val. RMSE: 0.60 |\n",
            "| Epoch: 70 | Train Loss: 0.36 | Train MSE: 0.36 | Train RMSE: 0.60 |         Val. Loss: 0.36 | Val. MSE: 0.36 |  Val. RMSE: 0.60 |\n",
            "| Epoch: 71 | Train Loss: 0.36 | Train MSE: 0.36 | Train RMSE: 0.60 |         Val. Loss: 0.36 | Val. MSE: 0.36 |  Val. RMSE: 0.60 |\n",
            "| Epoch: 72 | Train Loss: 0.36 | Train MSE: 0.36 | Train RMSE: 0.60 |         Val. Loss: 0.36 | Val. MSE: 0.36 |  Val. RMSE: 0.60 |\n",
            "| Epoch: 73 | Train Loss: 0.36 | Train MSE: 0.36 | Train RMSE: 0.60 |         Val. Loss: 0.36 | Val. MSE: 0.36 |  Val. RMSE: 0.60 |\n",
            "| Epoch: 74 | Train Loss: 0.36 | Train MSE: 0.36 | Train RMSE: 0.60 |         Val. Loss: 0.36 | Val. MSE: 0.36 |  Val. RMSE: 0.60 |\n",
            "| Epoch: 75 | Train Loss: 0.36 | Train MSE: 0.36 | Train RMSE: 0.60 |         Val. Loss: 0.36 | Val. MSE: 0.36 |  Val. RMSE: 0.60 |\n",
            "| Epoch: 76 | Train Loss: 0.36 | Train MSE: 0.36 | Train RMSE: 0.60 |         Val. Loss: 0.36 | Val. MSE: 0.36 |  Val. RMSE: 0.60 |\n",
            "| Epoch: 77 | Train Loss: 0.36 | Train MSE: 0.36 | Train RMSE: 0.60 |         Val. Loss: 0.36 | Val. MSE: 0.36 |  Val. RMSE: 0.60 |\n",
            "| Epoch: 78 | Train Loss: 0.36 | Train MSE: 0.36 | Train RMSE: 0.60 |         Val. Loss: 0.36 | Val. MSE: 0.36 |  Val. RMSE: 0.60 |\n",
            "| Epoch: 79 | Train Loss: 0.36 | Train MSE: 0.36 | Train RMSE: 0.60 |         Val. Loss: 0.36 | Val. MSE: 0.36 |  Val. RMSE: 0.60 |\n",
            "| Epoch: 80 | Train Loss: 0.36 | Train MSE: 0.36 | Train RMSE: 0.60 |         Val. Loss: 0.36 | Val. MSE: 0.36 |  Val. RMSE: 0.60 |\n"
          ],
          "name": "stdout"
        }
      ]
    },
    {
      "cell_type": "code",
      "metadata": {
        "colab": {
          "base_uri": "https://localhost:8080/",
          "height": 265
        },
        "id": "06xZtxsOD0lp",
        "outputId": "5d9d3696-fd06-4172-8df4-61af80a2065c"
      },
      "source": [
        "import matplotlib.pyplot as plt\n",
        "def plot(train_losses,valid_losses,num_epochs):\n",
        "  epochs = list(range(num_epochs))\n",
        "  plt.plot(epochs,train_losses, label='train')\n",
        "  plt.plot(epochs,valid_losses, label='valid')\n",
        "  plt.legend()\n",
        "  plt.show()\n",
        "\n",
        "plot(train_losses, valid_losses, len(train_losses))"
      ],
      "execution_count": 358,
      "outputs": [
        {
          "output_type": "display_data",
          "data": {
            "image/png": "[encoded data removed]",
            "text/plain": [
              "<Figure size 432x288 with 1 Axes>"
            ]
          },
          "metadata": {
            "tags": [],
            "needs_background": "light"
          }
        }
      ]
    },
    {
      "cell_type": "code",
      "metadata": {
        "id": "lUVBvYF7Wj95"
      },
      "source": [
        "model.eval()\n",
        "predictions_plot = []  \n",
        "target_plot = []\n",
        "\n",
        "with torch.no_grad():\n",
        "    for batch in dev_loader:\n",
        "        feature, target = batch\n",
        "        feature_1= feature[0].to(device)\n",
        "        feature_2 = feature[1].to(device)\n",
        "        target = target.to(device)\n",
        "\n",
        "        feature = (feature_1, feature_2)\n",
        "\n",
        "        # for RNN:\n",
        "        model.batch_size = target.shape[0]\n",
        "        model.hidden_1 = model.init_hidden()\n",
        "        model.hidden_2 = model.init_hidden()\n",
        "\n",
        "        predictions = model(feature).squeeze(1)\n",
        "\n",
        "        predictions_plot.append(predictions.detach().cpu().numpy())\n",
        "        target_plot.append(target.detach().cpu().numpy())\n"
      ],
      "execution_count": 359,
      "outputs": []
    },
    {
      "cell_type": "code",
      "metadata": {
        "id": "88jHuAKkY_44"
      },
      "source": [
        "#plt.scatter(np.flatten(predictions_plot), np.flatten(target_plot))\n",
        "pred = np.concatenate(predictions_plot, axis=0)\n",
        "trg = np.concatenate(target_plot, axis=0)"
      ],
      "execution_count": 360,
      "outputs": []
    },
    {
      "cell_type": "code",
      "metadata": {
        "id": "XYzGJLLAalqM",
        "colab": {
          "base_uri": "https://localhost:8080/",
          "height": 312
        },
        "outputId": "c55f0714-a45e-4170-cc47-5ef5dcd16ea9"
      },
      "source": [
        "plt.scatter(pred,trg)\n",
        "#plt.axis('equal')\n",
        "plt.title('Target vs. Predictions')\n",
        "plt.xlabel('Target labels')\n",
        "plt.xlabel('Predictions')"
      ],
      "execution_count": 361,
      "outputs": [
        {
          "output_type": "execute_result",
          "data": {
            "text/plain": [
              "Text(0.5, 0, 'Predictions')"
            ]
          },
          "metadata": {
            "tags": []
          },
          "execution_count": 361
        },
        {
          "output_type": "display_data",
          "data": {
            "image/png": "[encoded data removed]",
            "text/plain": [
              "<Figure size 432x288 with 1 Axes>"
            ]
          },
          "metadata": {
            "tags": [],
            "needs_background": "light"
          }
        }
      ]
    },
    {
      "cell_type": "markdown",
      "metadata": {
        "id": "uYSdwJ1XLVia"
      },
      "source": [
        "## Baseline given\n"
      ]
    },
    {
      "cell_type": "code",
      "metadata": {
        "id": "qK9C7EeEaRLc",
        "colab": {
          "base_uri": "https://localhost:8080/"
        },
        "outputId": "596ed31b-d4c4-47db-bd40-739276dbbd7e"
      },
      "source": [
        "train_and_dev = train_df['edit']\n",
        "train_proportion = 0.8\n",
        "training_data, dev_data, training_y, dev_y = train_test_split(train_df['edit'], train_df['meanGrade'],\n",
        "                                                                        test_size=(1-train_proportion),\n",
        "                                                                        random_state=42)\n",
        "\n",
        "# We train a Tf-idf model\n",
        "count_vect = CountVectorizer(stop_words='english')\n",
        "train_counts = count_vect.fit_transform(training_data)\n",
        "transformer = TfidfTransformer().fit(train_counts)\n",
        "transformer\n",
        "train_counts = transformer.transform(train_counts)\n",
        "regression_model = LinearRegression().fit(train_counts, training_y)\n",
        "print(train_counts)"
      ],
      "execution_count": null,
      "outputs": [
        {
          "output_type": "stream",
          "text": [
            "  (0, 6912)\t0.3196422657133493\n",
            "  (0, 6889)\t0.4635074138381324\n",
            "  (0, 6423)\t0.11278822224285272\n",
            "  (0, 5804)\t0.44285750586411565\n",
            "  (0, 5374)\t0.23652438242454743\n",
            "  (0, 5312)\t0.3400955840429778\n",
            "  (0, 4309)\t0.34740743437045796\n",
            "  (0, 4089)\t0.2845496729305107\n",
            "  (0, 3299)\t0.31761063288602626\n",
            "  (1, 6541)\t0.48194793383580115\n",
            "  (1, 5549)\t0.3204233579379913\n",
            "  (1, 5014)\t0.42370065991381706\n",
            "  (1, 2759)\t0.4595615370435467\n",
            "  (1, 2464)\t0.5237709472831734\n",
            "  (2, 6892)\t0.35794538379097757\n",
            "  (2, 6156)\t0.36483747544305006\n",
            "  (2, 5741)\t0.3829658592421385\n",
            "  (2, 5499)\t0.3419984129026347\n",
            "  (2, 4801)\t0.3829658592421385\n",
            "  (2, 4305)\t0.291413316187634\n",
            "  (2, 3322)\t0.313301064206565\n",
            "  (2, 2076)\t0.3110077361041403\n",
            "  (2, 1141)\t0.2206241510260133\n",
            "  (3, 6534)\t0.39337308644812724\n",
            "  (3, 6423)\t0.09734562388426601\n",
            "  :\t:\n",
            "  (7717, 6019)\t0.520234681094425\n",
            "  (7717, 5375)\t0.28639284053699743\n",
            "  (7717, 3451)\t0.4360369675276321\n",
            "  (7717, 3299)\t0.3331918391659665\n",
            "  (7717, 2782)\t0.46458301954981385\n",
            "  (7717, 2533)\t0.3610437600682453\n",
            "  (7718, 4700)\t0.400658806873244\n",
            "  (7718, 4635)\t0.5126970556930236\n",
            "  (7718, 3590)\t0.3448996293605981\n",
            "  (7718, 3569)\t0.35473412275396105\n",
            "  (7718, 3532)\t0.3569109378132053\n",
            "  (7718, 1359)\t0.4521468565066124\n",
            "  (7719, 4980)\t0.4205214064768076\n",
            "  (7719, 3410)\t0.3027977180838381\n",
            "  (7719, 3409)\t0.3930472980843201\n",
            "  (7719, 3372)\t0.3930472980843201\n",
            "  (7719, 212)\t0.40061526270871783\n",
            "  (7719, 56)\t0.4205214064768076\n",
            "  (7719, 0)\t0.2918425766313267\n",
            "  (7720, 6843)\t0.513093481562848\n",
            "  (7720, 6031)\t0.4297411912433994\n",
            "  (7720, 4854)\t0.3381402403225188\n",
            "  (7720, 3981)\t0.32744999099295835\n",
            "  (7720, 3347)\t0.4239023691800264\n",
            "  (7720, 3322)\t0.38833239679856807\n"
          ],
          "name": "stdout"
        }
      ]
    },
    {
      "cell_type": "code",
      "metadata": {
        "colab": {
          "base_uri": "https://localhost:8080/"
        },
        "id": "MyJFzk7aEwcd",
        "outputId": "574ac346-d713-48ef-e732-171ce4c3ecbe"
      },
      "source": [
        "mean = train_df['meanGrade'].mean()\n",
        "sum = 0\n",
        "for i in range(len(train_df['meanGrade'])):\n",
        "    sum += (mean - train_df['meanGrade'].loc[i])**2\n",
        "np.sqrt(sum / len(train_df['meanGrade']))"
      ],
      "execution_count": null,
      "outputs": [
        {
          "output_type": "execute_result",
          "data": {
            "text/plain": [
              "0.5836128526966657"
            ]
          },
          "metadata": {
            "tags": []
          },
          "execution_count": 70
        }
      ]
    },
    {
      "cell_type": "code",
      "metadata": {
        "id": "AInKATQT6pXE",
        "colab": {
          "base_uri": "https://localhost:8080/"
        },
        "outputId": "77b2b52a-2533-466d-dd35-2cea9b93e977"
      },
      "source": [
        "\n",
        "# Train predictions\n",
        "predicted_train = regression_model.predict(train_counts)\n",
        "\n",
        "# Calculate Tf-idf using train and dev, and validate model on dev:\n",
        "test_and_test_counts = count_vect.transform(train_and_dev)\n",
        "transformer = TfidfTransformer().fit(test_and_test_counts)\n",
        "\n",
        "test_counts = count_vect.transform(dev_data)\n",
        "\n",
        "test_counts = transformer.transform(test_counts)\n",
        "\n",
        "# Dev predictions\n",
        "predicted = regression_model.predict(test_counts)\n",
        "\n",
        "# We run the evaluation:\n",
        "print(\"\\nTrain performance:\")\n",
        "sse, mse, _ = model_performance(predicted_train, training_y, True)\n",
        "\n",
        "print(\"\\nDev performance:\")\n",
        "sse, mse, _ = model_performance(predicted, dev_y, True)"
      ],
      "execution_count": null,
      "outputs": [
        {
          "output_type": "stream",
          "text": [
            "\n",
            "Train performance:\n",
            "| MSE: 0.16 | RMSE: 0.40 |\n",
            "\n",
            "Dev performance:\n",
            "| MSE: 0.48 | RMSE: 0.69 |\n"
          ],
          "name": "stdout"
        }
      ]
    },
    {
      "cell_type": "code",
      "metadata": {
        "id": "6lRZxL-gD40S"
      },
      "source": [
        "'''\n",
        "class BiLSTM(nn.Module):\n",
        "\n",
        "    def __init__(self, embedding_dim, hidden_dim, vocab_size, batch_size, device):\n",
        "        super(BiLSTM, self).__init__()\n",
        "        self.hidden_dim = hidden_dim\n",
        "        self.embedding_dim = embedding_dim\n",
        "        self.device = device\n",
        "        self.batch_size = batch_size\n",
        "        self.embedding = nn.Embedding(vocab_size, embedding_dim, padding_idx=0)\n",
        "\n",
        "        # The LSTM takes word embeddings as inputs, and outputs hidden states\n",
        "        # with dimensionality hidden_dim.\n",
        "        self.lstm = nn.LSTM(embedding_dim, hidden_dim, bidirectional=True)\n",
        "\n",
        "        # The linear layer that maps from hidden state space to tag space\n",
        "        self.hidden2label = nn.Linear(hidden_dim * 2, 1)\n",
        "        self.hidden = self.init_hidden()\n",
        "\n",
        "    def init_hidden(self):\n",
        "        # Before we've done anything, we dont have any hidden state.\n",
        "        # Refer to the Pytorch documentation to see exactly why they have this dimensionality.\n",
        "        # The axes semantics are (num_layers * num_directions, minibatch_size, hidden_dim)\n",
        "        return torch.zeros(2, self.batch_size, self.hidden_dim).to(self.device), \\\n",
        "               torch.zeros(2, self.batch_size, self.hidden_dim).to(self.device)\n",
        "\n",
        "    def forward(self, sentence):\n",
        "        embedded = self.embedding(sentence)\n",
        "        embedded = embedded.permute(1, 0, 2) #Needed for LSTMs\n",
        "\n",
        "        #lstm_out : (seq_len,batch_size,num_directions (2) * hidden_size (50))\n",
        "        #hidden : (num_layers * num_directions, batch_size,hidden_size)\n",
        "        lstm_out, self.hidden = self.lstm(\n",
        "            embedded.view(len(embedded), self.batch_size, self.embedding_dim), self.hidden)\n",
        "\n",
        "        #out : (1)\n",
        "        out = self.hidden2label(lstm_out[-1]\n",
        "        return out"
      ],
      "execution_count": null,
      "outputs": []
    },
    {
      "cell_type": "markdown",
      "metadata": {
        "id": "cSZbSxUbaRLc"
      },
      "source": [
        "#### Baseline for task 2"
      ]
    },
    {
      "cell_type": "code",
      "metadata": {
        "id": "QwwE7oj0aRLd"
      },
      "source": [
        "# Baseline for the task\n",
        "pred_baseline = torch.zeros(len(dev_y)) + np.mean(training_y)\n",
        "print(\"\\nBaseline performance:\")\n",
        "sse, mse = model_performance(pred_baseline, dev_y, True)"
      ],
      "execution_count": null,
      "outputs": []
    },
    {
      "cell_type": "code",
      "metadata": {
        "id": "-Vs5_tGhaRLd"
      },
      "source": [
        ""
      ],
      "execution_count": null,
      "outputs": []
    }
  ]
}