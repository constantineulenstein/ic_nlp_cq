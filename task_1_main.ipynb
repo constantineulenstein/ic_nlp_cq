{
  "nbformat": 4,
  "nbformat_minor": 0,
  "metadata": {
    "colab": {
      "name": "task_1_main_part2version.ipynb",
      "provenance": [],
      "collapsed_sections": [
        "nftBwyNppl4J",
        "9eVLmkYwpnrH",
        "8hE_a2aiypgx",
        "7RDAIvnG4oXQ",
        "huUfT43sLAmc",
        "y9brja9zLFR4",
        "uYSdwJ1XLVia"
      ],
      "toc_visible": true,
      "machine_shape": "hm"
    },
    "kernelspec": {
      "display_name": "Python 3",
      "language": "python",
      "name": "python3"
    },
    "language_info": {
      "codemirror_mode": {
        "name": "ipython",
        "version": 3
      },
      "file_extension": ".py",
      "mimetype": "text/x-python",
      "name": "python",
      "nbconvert_exporter": "python",
      "pygments_lexer": "ipython3",
      "version": "3.7.7"
    },
    "widgets": {
      "application/vnd.jupyter.widget-state+json": {
        "1a95fecb1b4a4dbbbd44e36ca9dbc21b": {
          "model_module": "@jupyter-widgets/controls",
          "model_name": "HBoxModel",
          "state": {
            "_view_name": "HBoxView",
            "_dom_classes": [],
            "_model_name": "HBoxModel",
            "_view_module": "@jupyter-widgets/controls",
            "_model_module_version": "1.5.0",
            "_view_count": null,
            "_view_module_version": "1.5.0",
            "box_style": "",
            "layout": "IPY_MODEL_536ea8e2ebf04992a462e752cb717019",
            "_model_module": "@jupyter-widgets/controls",
            "children": [
              "IPY_MODEL_d4165e152f654e178152e5c2482449da",
              "IPY_MODEL_55b2a7cca42847689dcbbb28ac2e1e1d"
            ]
          }
        },
        "536ea8e2ebf04992a462e752cb717019": {
          "model_module": "@jupyter-widgets/base",
          "model_name": "LayoutModel",
          "state": {
            "_view_name": "LayoutView",
            "grid_template_rows": null,
            "right": null,
            "justify_content": null,
            "_view_module": "@jupyter-widgets/base",
            "overflow": null,
            "_model_module_version": "1.2.0",
            "_view_count": null,
            "flex_flow": null,
            "width": null,
            "min_width": null,
            "border": null,
            "align_items": null,
            "bottom": null,
            "_model_module": "@jupyter-widgets/base",
            "top": null,
            "grid_column": null,
            "overflow_y": null,
            "overflow_x": null,
            "grid_auto_flow": null,
            "grid_area": null,
            "grid_template_columns": null,
            "flex": null,
            "_model_name": "LayoutModel",
            "justify_items": null,
            "grid_row": null,
            "max_height": null,
            "align_content": null,
            "visibility": null,
            "align_self": null,
            "height": null,
            "min_height": null,
            "padding": null,
            "grid_auto_rows": null,
            "grid_gap": null,
            "max_width": null,
            "order": null,
            "_view_module_version": "1.2.0",
            "grid_template_areas": null,
            "object_position": null,
            "object_fit": null,
            "grid_auto_columns": null,
            "margin": null,
            "display": null,
            "left": null
          }
        },
        "d4165e152f654e178152e5c2482449da": {
          "model_module": "@jupyter-widgets/controls",
          "model_name": "FloatProgressModel",
          "state": {
            "_view_name": "ProgressView",
            "style": "IPY_MODEL_41f43ad36677446aaf7fe5e7001ceac6",
            "_dom_classes": [],
            "description": "Downloading: 100%",
            "_model_name": "FloatProgressModel",
            "bar_style": "success",
            "max": 231508,
            "_view_module": "@jupyter-widgets/controls",
            "_model_module_version": "1.5.0",
            "value": 231508,
            "_view_count": null,
            "_view_module_version": "1.5.0",
            "orientation": "horizontal",
            "min": 0,
            "description_tooltip": null,
            "_model_module": "@jupyter-widgets/controls",
            "layout": "IPY_MODEL_8caac8a9f9be411ba7317c819bad2d2e"
          }
        },
        "55b2a7cca42847689dcbbb28ac2e1e1d": {
          "model_module": "@jupyter-widgets/controls",
          "model_name": "HTMLModel",
          "state": {
            "_view_name": "HTMLView",
            "style": "IPY_MODEL_b998666f69ae4a73b6114fe2f52ab949",
            "_dom_classes": [],
            "description": "",
            "_model_name": "HTMLModel",
            "placeholder": "​",
            "_view_module": "@jupyter-widgets/controls",
            "_model_module_version": "1.5.0",
            "value": " 232k/232k [00:00&lt;00:00, 311kB/s]",
            "_view_count": null,
            "_view_module_version": "1.5.0",
            "description_tooltip": null,
            "_model_module": "@jupyter-widgets/controls",
            "layout": "IPY_MODEL_ec3735061a944e7da8b6b357b411509b"
          }
        },
        "41f43ad36677446aaf7fe5e7001ceac6": {
          "model_module": "@jupyter-widgets/controls",
          "model_name": "ProgressStyleModel",
          "state": {
            "_view_name": "StyleView",
            "_model_name": "ProgressStyleModel",
            "description_width": "initial",
            "_view_module": "@jupyter-widgets/base",
            "_model_module_version": "1.5.0",
            "_view_count": null,
            "_view_module_version": "1.2.0",
            "bar_color": null,
            "_model_module": "@jupyter-widgets/controls"
          }
        },
        "8caac8a9f9be411ba7317c819bad2d2e": {
          "model_module": "@jupyter-widgets/base",
          "model_name": "LayoutModel",
          "state": {
            "_view_name": "LayoutView",
            "grid_template_rows": null,
            "right": null,
            "justify_content": null,
            "_view_module": "@jupyter-widgets/base",
            "overflow": null,
            "_model_module_version": "1.2.0",
            "_view_count": null,
            "flex_flow": null,
            "width": null,
            "min_width": null,
            "border": null,
            "align_items": null,
            "bottom": null,
            "_model_module": "@jupyter-widgets/base",
            "top": null,
            "grid_column": null,
            "overflow_y": null,
            "overflow_x": null,
            "grid_auto_flow": null,
            "grid_area": null,
            "grid_template_columns": null,
            "flex": null,
            "_model_name": "LayoutModel",
            "justify_items": null,
            "grid_row": null,
            "max_height": null,
            "align_content": null,
            "visibility": null,
            "align_self": null,
            "height": null,
            "min_height": null,
            "padding": null,
            "grid_auto_rows": null,
            "grid_gap": null,
            "max_width": null,
            "order": null,
            "_view_module_version": "1.2.0",
            "grid_template_areas": null,
            "object_position": null,
            "object_fit": null,
            "grid_auto_columns": null,
            "margin": null,
            "display": null,
            "left": null
          }
        },
        "b998666f69ae4a73b6114fe2f52ab949": {
          "model_module": "@jupyter-widgets/controls",
          "model_name": "DescriptionStyleModel",
          "state": {
            "_view_name": "StyleView",
            "_model_name": "DescriptionStyleModel",
            "description_width": "",
            "_view_module": "@jupyter-widgets/base",
            "_model_module_version": "1.5.0",
            "_view_count": null,
            "_view_module_version": "1.2.0",
            "_model_module": "@jupyter-widgets/controls"
          }
        },
        "ec3735061a944e7da8b6b357b411509b": {
          "model_module": "@jupyter-widgets/base",
          "model_name": "LayoutModel",
          "state": {
            "_view_name": "LayoutView",
            "grid_template_rows": null,
            "right": null,
            "justify_content": null,
            "_view_module": "@jupyter-widgets/base",
            "overflow": null,
            "_model_module_version": "1.2.0",
            "_view_count": null,
            "flex_flow": null,
            "width": null,
            "min_width": null,
            "border": null,
            "align_items": null,
            "bottom": null,
            "_model_module": "@jupyter-widgets/base",
            "top": null,
            "grid_column": null,
            "overflow_y": null,
            "overflow_x": null,
            "grid_auto_flow": null,
            "grid_area": null,
            "grid_template_columns": null,
            "flex": null,
            "_model_name": "LayoutModel",
            "justify_items": null,
            "grid_row": null,
            "max_height": null,
            "align_content": null,
            "visibility": null,
            "align_self": null,
            "height": null,
            "min_height": null,
            "padding": null,
            "grid_auto_rows": null,
            "grid_gap": null,
            "max_width": null,
            "order": null,
            "_view_module_version": "1.2.0",
            "grid_template_areas": null,
            "object_position": null,
            "object_fit": null,
            "grid_auto_columns": null,
            "margin": null,
            "display": null,
            "left": null
          }
        }
      }
    },
    "accelerator": "GPU"
  },
  "cells": [
    {
      "cell_type": "markdown",
      "metadata": {
        "id": "xNppdFiGaRLE"
      },
      "source": [
        "### Coursework coding instructions (please also see full coursework spec)\n",
        "\n",
        "Please choose if you want to do either Task 1 or Task 2. You should write your report about one task only.\n",
        "\n",
        "For the task you choose you will need to do two approaches:\n",
        "  - Approach 1, which can use use pre-trained embeddings / models\n",
        "  - Approach 2, which should not use any pre-trained embeddings or models\n",
        "We should be able to run both approaches from the same colab file\n",
        "\n",
        "#### Running your code:\n",
        "  - Your models should run automatically when running your colab file without further intervention\n",
        "  - For each task you should automatically output the performance of both models\n",
        "  - Your code should automatically download any libraries required\n",
        "\n",
        "#### Structure of your code:\n",
        "  - You are expected to use the 'train', 'eval' and 'model_performance' functions, although you may edit these as required\n",
        "  - Otherwise there are no restrictions on what you can do in your code\n",
        "\n",
        "#### Documentation:\n",
        "  - You are expected to produce a .README file summarising how you have approached both tasks\n",
        "\n",
        "#### Reproducibility:\n",
        "  - Your .README file should explain how to replicate the different experiments mentioned in your report\n",
        "\n",
        "Good luck! We are really looking forward to seeing your reports and your model code!"
      ]
    },
    {
      "cell_type": "code",
      "metadata": {
        "id": "D8IanU_MaRLH"
      },
      "source": [
        "#Todo\n",
        "#Remove punctuation\n",
        "#Use embedding that represents headslines\n",
        "#Tokenizer with special token"
      ],
      "execution_count": null,
      "outputs": []
    },
    {
      "cell_type": "code",
      "metadata": {
        "colab": {
          "base_uri": "https://localhost:8080/"
        },
        "id": "4WfDREnZaRLI",
        "outputId": "6019f56e-b06f-4412-9f83-fdee3bfcaa22"
      },
      "source": [
        "# You will need to download any word embeddings required for your code, e.g.:\n",
        "\n",
        "!wget http://nlp.stanford.edu/data/glove.6B.zip\n",
        "!unzip glove.6B.zip\n",
        "\n",
        "# For any packages that Colab does not provide auotmatically you will also need to install these below, e.g.:\n",
        "\n",
        "#! pip install torch"
      ],
      "execution_count": 1,
      "outputs": [
        {
          "output_type": "stream",
          "text": [
            "--2021-02-23 16:18:45--  http://nlp.stanford.edu/data/glove.6B.zip\n",
            "Resolving nlp.stanford.edu (nlp.stanford.edu)... 171.64.67.140\n",
            "Connecting to nlp.stanford.edu (nlp.stanford.edu)|171.64.67.140|:80... connected.\n",
            "HTTP request sent, awaiting response... 302 Found\n",
            "Location: https://nlp.stanford.edu/data/glove.6B.zip [following]\n",
            "--2021-02-23 16:18:46--  https://nlp.stanford.edu/data/glove.6B.zip\n",
            "Connecting to nlp.stanford.edu (nlp.stanford.edu)|171.64.67.140|:443... connected.\n",
            "HTTP request sent, awaiting response... 301 Moved Permanently\n",
            "Location: http://downloads.cs.stanford.edu/nlp/data/glove.6B.zip [following]\n",
            "--2021-02-23 16:18:46--  http://downloads.cs.stanford.edu/nlp/data/glove.6B.zip\n",
            "Resolving downloads.cs.stanford.edu (downloads.cs.stanford.edu)... 171.64.64.22\n",
            "Connecting to downloads.cs.stanford.edu (downloads.cs.stanford.edu)|171.64.64.22|:80... connected.\n",
            "HTTP request sent, awaiting response... 200 OK\n",
            "Length: 862182613 (822M) [application/zip]\n",
            "Saving to: ‘glove.6B.zip’\n",
            "\n",
            "glove.6B.zip        100%[===================>] 822.24M  2.02MB/s    in 6m 51s  \n",
            "\n",
            "2021-02-23 16:25:38 (2.00 MB/s) - ‘glove.6B.zip’ saved [862182613/862182613]\n",
            "\n",
            "Archive:  glove.6B.zip\n",
            "  inflating: glove.6B.50d.txt        \n",
            "  inflating: glove.6B.100d.txt       \n",
            "  inflating: glove.6B.200d.txt       \n",
            "  inflating: glove.6B.300d.txt       \n"
          ],
          "name": "stdout"
        }
      ]
    },
    {
      "cell_type": "code",
      "metadata": {
        "colab": {
          "base_uri": "https://localhost:8080/"
        },
        "id": "TYZiUqXFghTY",
        "outputId": "b3e9ba90-26db-427e-b739-913d2a243486"
      },
      "source": [
        "from google.colab import drive\n",
        "\n",
        "drive.mount('/content/drive/')"
      ],
      "execution_count": null,
      "outputs": [
        {
          "output_type": "stream",
          "text": [
            "Mounted at /content/drive/\n"
          ],
          "name": "stdout"
        }
      ]
    },
    {
      "cell_type": "code",
      "metadata": {
        "colab": {
          "base_uri": "https://localhost:8080/"
        },
        "id": "D6XoHzG_bHDo",
        "outputId": "8898f7a9-1751-4cf1-cc3d-9f4946eb3540"
      },
      "source": [
        "! pip install transformers"
      ],
      "execution_count": 2,
      "outputs": [
        {
          "output_type": "stream",
          "text": [
            "Collecting transformers\n",
            "\u001b[?25l  Downloading https://files.pythonhosted.org/packages/98/87/ef312eef26f5cecd8b17ae9654cdd8d1fae1eb6dbd87257d6d73c128a4d0/transformers-4.3.2-py3-none-any.whl (1.8MB)\n",
            "\u001b[K     |████████████████████████████████| 1.8MB 4.1MB/s \n",
            "\u001b[?25hRequirement already satisfied: requests in /usr/local/lib/python3.6/dist-packages (from transformers) (2.23.0)\n",
            "Requirement already satisfied: packaging in /usr/local/lib/python3.6/dist-packages (from transformers) (20.9)\n",
            "Requirement already satisfied: dataclasses; python_version < \"3.7\" in /usr/local/lib/python3.6/dist-packages (from transformers) (0.8)\n",
            "Collecting sacremoses\n",
            "\u001b[?25l  Downloading https://files.pythonhosted.org/packages/7d/34/09d19aff26edcc8eb2a01bed8e98f13a1537005d31e95233fd48216eed10/sacremoses-0.0.43.tar.gz (883kB)\n",
            "\u001b[K     |████████████████████████████████| 890kB 11.6MB/s \n",
            "\u001b[?25hRequirement already satisfied: filelock in /usr/local/lib/python3.6/dist-packages (from transformers) (3.0.12)\n",
            "Requirement already satisfied: importlib-metadata; python_version < \"3.8\" in /usr/local/lib/python3.6/dist-packages (from transformers) (3.4.0)\n",
            "Requirement already satisfied: numpy>=1.17 in /usr/local/lib/python3.6/dist-packages (from transformers) (1.19.5)\n",
            "Collecting tokenizers<0.11,>=0.10.1\n",
            "\u001b[?25l  Downloading https://files.pythonhosted.org/packages/fd/5b/44baae602e0a30bcc53fbdbc60bd940c15e143d252d658dfdefce736ece5/tokenizers-0.10.1-cp36-cp36m-manylinux2010_x86_64.whl (3.2MB)\n",
            "\u001b[K     |████████████████████████████████| 3.2MB 21.4MB/s \n",
            "\u001b[?25hRequirement already satisfied: tqdm>=4.27 in /usr/local/lib/python3.6/dist-packages (from transformers) (4.41.1)\n",
            "Requirement already satisfied: regex!=2019.12.17 in /usr/local/lib/python3.6/dist-packages (from transformers) (2019.12.20)\n",
            "Requirement already satisfied: chardet<4,>=3.0.2 in /usr/local/lib/python3.6/dist-packages (from requests->transformers) (3.0.4)\n",
            "Requirement already satisfied: certifi>=2017.4.17 in /usr/local/lib/python3.6/dist-packages (from requests->transformers) (2020.12.5)\n",
            "Requirement already satisfied: urllib3!=1.25.0,!=1.25.1,<1.26,>=1.21.1 in /usr/local/lib/python3.6/dist-packages (from requests->transformers) (1.24.3)\n",
            "Requirement already satisfied: idna<3,>=2.5 in /usr/local/lib/python3.6/dist-packages (from requests->transformers) (2.10)\n",
            "Requirement already satisfied: pyparsing>=2.0.2 in /usr/local/lib/python3.6/dist-packages (from packaging->transformers) (2.4.7)\n",
            "Requirement already satisfied: six in /usr/local/lib/python3.6/dist-packages (from sacremoses->transformers) (1.15.0)\n",
            "Requirement already satisfied: click in /usr/local/lib/python3.6/dist-packages (from sacremoses->transformers) (7.1.2)\n",
            "Requirement already satisfied: joblib in /usr/local/lib/python3.6/dist-packages (from sacremoses->transformers) (1.0.0)\n",
            "Requirement already satisfied: typing-extensions>=3.6.4; python_version < \"3.8\" in /usr/local/lib/python3.6/dist-packages (from importlib-metadata; python_version < \"3.8\"->transformers) (3.7.4.3)\n",
            "Requirement already satisfied: zipp>=0.5 in /usr/local/lib/python3.6/dist-packages (from importlib-metadata; python_version < \"3.8\"->transformers) (3.4.0)\n",
            "Building wheels for collected packages: sacremoses\n",
            "  Building wheel for sacremoses (setup.py) ... \u001b[?25l\u001b[?25hdone\n",
            "  Created wheel for sacremoses: filename=sacremoses-0.0.43-cp36-none-any.whl size=893261 sha256=056aaec63785893e4e3b5570f23eddb0b09fdb9aadebb01c9c2cae13f0c8cb27\n",
            "  Stored in directory: /root/.cache/pip/wheels/29/3c/fd/7ce5c3f0666dab31a50123635e6fb5e19ceb42ce38d4e58f45\n",
            "Successfully built sacremoses\n",
            "Installing collected packages: sacremoses, tokenizers, transformers\n",
            "Successfully installed sacremoses-0.0.43 tokenizers-0.10.1 transformers-4.3.2\n"
          ],
          "name": "stdout"
        }
      ]
    },
    {
      "cell_type": "code",
      "metadata": {
        "id": "kFcC8gvDaRLI",
        "colab": {
          "base_uri": "https://localhost:8080/"
        },
        "outputId": "c0e24a86-56d3-4c6c-cb62-a2055f5c4f6b"
      },
      "source": [
        "# Imports\n",
        "\n",
        "import torch\n",
        "import torch.nn as nn\n",
        "import torch.nn.functional as F\n",
        "import pandas as pd\n",
        "import numpy as np\n",
        "from sklearn.feature_extraction.text import CountVectorizer\n",
        "from torch.utils.data import Dataset, random_split\n",
        "from sklearn.feature_extraction.text import TfidfTransformer\n",
        "from sklearn.model_selection import train_test_split\n",
        "from sklearn.linear_model import LinearRegression\n",
        "import codecs\n",
        "from transformers import RobertaTokenizer, RobertaModel, BertTokenizer, BertModel, BertForSequenceClassification, AdamW, BertConfig, get_linear_schedule_with_warmup\n",
        "import spacy\n",
        "import nltk\n",
        "nltk.download('wordnet')\n",
        "from nltk.stem.porter import *\n",
        "from nltk.stem import WordNetLemmatizer\n",
        "from spacy.tokenizer import Tokenizer\n",
        "import re\n",
        "import pdb\n",
        "import random\n",
        "import csv\n",
        "import tqdm\n",
        "from tqdm import tqdm\n",
        "import multiprocessing\n",
        "import pickle\n",
        "from torch.utils.data import TensorDataset, random_split\n",
        "from torch.utils.data import DataLoader, RandomSampler, SequentialSampler\n",
        "import matplotlib.pyplot as plt\n",
        "import os\n"
      ],
      "execution_count": 3,
      "outputs": [
        {
          "output_type": "stream",
          "text": [
            "[nltk_data] Downloading package wordnet to /root/nltk_data...\n",
            "[nltk_data]   Unzipping corpora/wordnet.zip.\n"
          ],
          "name": "stdout"
        }
      ]
    },
    {
      "cell_type": "code",
      "metadata": {
        "colab": {
          "base_uri": "https://localhost:8080/"
        },
        "id": "tJ09zSA9Jq3b",
        "outputId": "3784c6d2-0b0b-4da1-bdbc-ead612d785a2"
      },
      "source": [
        "!nvidia-smi"
      ],
      "execution_count": null,
      "outputs": [
        {
          "output_type": "stream",
          "text": [
            "Sun Feb 21 12:48:19 2021       \n",
            "+-----------------------------------------------------------------------------+\n",
            "| NVIDIA-SMI 460.39       Driver Version: 460.32.03    CUDA Version: 11.2     |\n",
            "|-------------------------------+----------------------+----------------------+\n",
            "| GPU  Name        Persistence-M| Bus-Id        Disp.A | Volatile Uncorr. ECC |\n",
            "| Fan  Temp  Perf  Pwr:Usage/Cap|         Memory-Usage | GPU-Util  Compute M. |\n",
            "|                               |                      |               MIG M. |\n",
            "|===============================+======================+======================|\n",
            "|   0  Tesla T4            Off  | 00000000:00:04.0 Off |                    0 |\n",
            "| N/A   36C    P8     9W /  70W |      0MiB / 15109MiB |      0%      Default |\n",
            "|                               |                      |                  N/A |\n",
            "+-------------------------------+----------------------+----------------------+\n",
            "                                                                               \n",
            "+-----------------------------------------------------------------------------+\n",
            "| Processes:                                                                  |\n",
            "|  GPU   GI   CI        PID   Type   Process name                  GPU Memory |\n",
            "|        ID   ID                                                   Usage      |\n",
            "|=============================================================================|\n",
            "|  No running processes found                                                 |\n",
            "+-----------------------------------------------------------------------------+\n"
          ],
          "name": "stdout"
        }
      ]
    },
    {
      "cell_type": "code",
      "metadata": {
        "colab": {
          "base_uri": "https://localhost:8080/"
        },
        "id": "84OyAVNSaRLJ",
        "outputId": "f06175d9-df49-46ac-d338-ea4f05a52af2"
      },
      "source": [
        "# Setting random seed and device\n",
        "SEED = 1\n",
        "\n",
        "torch.manual_seed(SEED)\n",
        "torch.cuda.manual_seed(SEED)\n",
        "torch.backends.cudnn.deterministic = True\n",
        "\n",
        "use_cuda = torch.cuda.is_available()\n",
        "device = torch.device(\"cuda:0\" if use_cuda else \"cpu\")\n",
        "device"
      ],
      "execution_count": 4,
      "outputs": [
        {
          "output_type": "execute_result",
          "data": {
            "text/plain": [
              "device(type='cuda', index=0)"
            ]
          },
          "metadata": {
            "tags": []
          },
          "execution_count": 4
        }
      ]
    },
    {
      "cell_type": "code",
      "metadata": {
        "colab": {
          "base_uri": "https://localhost:8080/"
        },
        "id": "2gxbblziaRLK",
        "outputId": "50157202-580d-4919-865f-56daaee800e2"
      },
      "source": [
        "# Load data\n",
        "%mkdir ./data\n",
        "%cd ./data\n",
        "import os\n",
        "\n",
        "if not os.path.isfile('train.csv'): \n",
        "  !wget -O train.csv https://www.dropbox.com/s/utcewlslgwm278m/train.csv?dl=0\n",
        "if not os.path.isfile('dev.csv'): \n",
        "  !wget -O dev.csv https://www.dropbox.com/s/0bpqmpb009ay717/dev.csv?dl=0\n",
        "if not os.path.isfile('extra_train.csv'): \n",
        "  !wget -O extra_train.csv https://www.dropbox.com/s/6bptu62w4uvhtkf/extra_train_data-3.csv?dl=0\n",
        "\n",
        "%cd ..\n",
        "\n",
        "train_df = pd.read_csv('./data/train.csv')\n",
        "test_df = pd.read_csv('./data/dev.csv')\n",
        "extra_train = pd.read_csv('./data/extra_train.csv')\n"
      ],
      "execution_count": 5,
      "outputs": [
        {
          "output_type": "stream",
          "text": [
            "/content/data\n",
            "--2021-02-23 16:26:25--  https://www.dropbox.com/s/utcewlslgwm278m/train.csv?dl=0\n",
            "Resolving www.dropbox.com (www.dropbox.com)... 162.125.82.18, 2620:100:6032:18::a27d:5212\n",
            "Connecting to www.dropbox.com (www.dropbox.com)|162.125.82.18|:443... connected.\n",
            "HTTP request sent, awaiting response... 301 Moved Permanently\n",
            "Location: /s/raw/utcewlslgwm278m/train.csv [following]\n",
            "--2021-02-23 16:26:25--  https://www.dropbox.com/s/raw/utcewlslgwm278m/train.csv\n",
            "Reusing existing connection to www.dropbox.com:443.\n",
            "HTTP request sent, awaiting response... 302 Found\n",
            "Location: https://uce96a6b682f9c30b4c3f9fbc5df.dl.dropboxusercontent.com/cd/0/inline/BJd-vzWpshzwxB7qrCb7d4qSJfvOo9FTRdEmBnkTICX8o5v1TD9MLQD5f6ROGPvbQDuTzVjVfjTA-mozh1UXIFUu22c76grVqQc_J7vwYkQCxTOwWBj0mSAoM5RJVffvmf8/file# [following]\n",
            "--2021-02-23 16:26:26--  https://uce96a6b682f9c30b4c3f9fbc5df.dl.dropboxusercontent.com/cd/0/inline/BJd-vzWpshzwxB7qrCb7d4qSJfvOo9FTRdEmBnkTICX8o5v1TD9MLQD5f6ROGPvbQDuTzVjVfjTA-mozh1UXIFUu22c76grVqQc_J7vwYkQCxTOwWBj0mSAoM5RJVffvmf8/file\n",
            "Resolving uce96a6b682f9c30b4c3f9fbc5df.dl.dropboxusercontent.com (uce96a6b682f9c30b4c3f9fbc5df.dl.dropboxusercontent.com)... 162.125.82.15, 2620:100:6032:15::a27d:520f\n",
            "Connecting to uce96a6b682f9c30b4c3f9fbc5df.dl.dropboxusercontent.com (uce96a6b682f9c30b4c3f9fbc5df.dl.dropboxusercontent.com)|162.125.82.15|:443... connected.\n",
            "HTTP request sent, awaiting response... 200 OK\n",
            "Length: 947914 (926K) [text/plain]\n",
            "Saving to: ‘train.csv’\n",
            "\n",
            "train.csv           100%[===================>] 925.70K   953KB/s    in 1.0s    \n",
            "\n",
            "2021-02-23 16:26:27 (953 KB/s) - ‘train.csv’ saved [947914/947914]\n",
            "\n",
            "--2021-02-23 16:26:28--  https://www.dropbox.com/s/0bpqmpb009ay717/dev.csv?dl=0\n",
            "Resolving www.dropbox.com (www.dropbox.com)... 162.125.82.18, 2620:100:6032:18::a27d:5212\n",
            "Connecting to www.dropbox.com (www.dropbox.com)|162.125.82.18|:443... connected.\n",
            "HTTP request sent, awaiting response... 301 Moved Permanently\n",
            "Location: /s/raw/0bpqmpb009ay717/dev.csv [following]\n",
            "--2021-02-23 16:26:28--  https://www.dropbox.com/s/raw/0bpqmpb009ay717/dev.csv\n",
            "Reusing existing connection to www.dropbox.com:443.\n",
            "HTTP request sent, awaiting response... 302 Found\n",
            "Location: https://ucc9e51d51c01c1bb702ed088efd.dl.dropboxusercontent.com/cd/0/inline/BJewj8iQ9oRhGinKznfDtbfOz_DOL2ayvTXoKw3ExLQT0_DMyFhjZNBzcT6I8iQNpxRru7jGytmniAjGTn3Lut0n7UIAUz346AUOibek2yzrJhHlKqbcdHjJoqWtHxbu83Q/file# [following]\n",
            "--2021-02-23 16:26:28--  https://ucc9e51d51c01c1bb702ed088efd.dl.dropboxusercontent.com/cd/0/inline/BJewj8iQ9oRhGinKznfDtbfOz_DOL2ayvTXoKw3ExLQT0_DMyFhjZNBzcT6I8iQNpxRru7jGytmniAjGTn3Lut0n7UIAUz346AUOibek2yzrJhHlKqbcdHjJoqWtHxbu83Q/file\n",
            "Resolving ucc9e51d51c01c1bb702ed088efd.dl.dropboxusercontent.com (ucc9e51d51c01c1bb702ed088efd.dl.dropboxusercontent.com)... 162.125.82.15, 2620:100:6032:15::a27d:520f\n",
            "Connecting to ucc9e51d51c01c1bb702ed088efd.dl.dropboxusercontent.com (ucc9e51d51c01c1bb702ed088efd.dl.dropboxusercontent.com)|162.125.82.15|:443... connected.\n",
            "HTTP request sent, awaiting response... 200 OK\n",
            "Length: 219349 (214K) [text/plain]\n",
            "Saving to: ‘dev.csv’\n",
            "\n",
            "dev.csv             100%[===================>] 214.21K   462KB/s    in 0.5s    \n",
            "\n",
            "2021-02-23 16:26:30 (462 KB/s) - ‘dev.csv’ saved [219349/219349]\n",
            "\n",
            "--2021-02-23 16:26:30--  https://www.dropbox.com/s/6bptu62w4uvhtkf/extra_train_data-3.csv?dl=0\n",
            "Resolving www.dropbox.com (www.dropbox.com)... 162.125.82.18, 2620:100:6032:18::a27d:5212\n",
            "Connecting to www.dropbox.com (www.dropbox.com)|162.125.82.18|:443... connected.\n",
            "HTTP request sent, awaiting response... 301 Moved Permanently\n",
            "Location: /s/raw/6bptu62w4uvhtkf/extra_train_data-3.csv [following]\n",
            "--2021-02-23 16:26:30--  https://www.dropbox.com/s/raw/6bptu62w4uvhtkf/extra_train_data-3.csv\n",
            "Reusing existing connection to www.dropbox.com:443.\n",
            "HTTP request sent, awaiting response... 302 Found\n",
            "Location: https://ucf9f18988a41765dfd3097de90d.dl.dropboxusercontent.com/cd/0/inline/BJc1O_sqI8WO70VeLhx4IrHd6xnaG1ArnQMRCqphJUnusgwvpPp1vzPboG1p2nDekMD6rc57YfAuV_nKHovRTlR-TR4PkVrdYKtHHXYdRLp6BRWvV9ki7SvjNkfFJjUjDj0/file# [following]\n",
            "--2021-02-23 16:26:31--  https://ucf9f18988a41765dfd3097de90d.dl.dropboxusercontent.com/cd/0/inline/BJc1O_sqI8WO70VeLhx4IrHd6xnaG1ArnQMRCqphJUnusgwvpPp1vzPboG1p2nDekMD6rc57YfAuV_nKHovRTlR-TR4PkVrdYKtHHXYdRLp6BRWvV9ki7SvjNkfFJjUjDj0/file\n",
            "Resolving ucf9f18988a41765dfd3097de90d.dl.dropboxusercontent.com (ucf9f18988a41765dfd3097de90d.dl.dropboxusercontent.com)... 162.125.82.15, 2620:100:6032:15::a27d:520f\n",
            "Connecting to ucf9f18988a41765dfd3097de90d.dl.dropboxusercontent.com (ucf9f18988a41765dfd3097de90d.dl.dropboxusercontent.com)|162.125.82.15|:443... connected.\n",
            "HTTP request sent, awaiting response... 200 OK\n",
            "Length: 847886 (828K) [text/plain]\n",
            "Saving to: ‘extra_train.csv’\n",
            "\n",
            "extra_train.csv     100%[===================>] 828.01K  1.13MB/s    in 0.7s    \n",
            "\n",
            "2021-02-23 16:26:33 (1.13 MB/s) - ‘extra_train.csv’ saved [847886/847886]\n",
            "\n",
            "/content\n"
          ],
          "name": "stdout"
        }
      ]
    },
    {
      "cell_type": "code",
      "metadata": {
        "id": "g3MIPbkgOlGE"
      },
      "source": [
        "train_df = pd.concat([train_df, extra_train], ignore_index=True)"
      ],
      "execution_count": 6,
      "outputs": []
    },
    {
      "cell_type": "code",
      "metadata": {
        "colab": {
          "base_uri": "https://localhost:8080/"
        },
        "id": "lxwVcpdRDnu0",
        "outputId": "c43b4916-4335-4276-d335-48b687ba82c9"
      },
      "source": [
        "#Kevin\n",
        "%cd /content/drive/MyDrive/Colab Notebooks/NLP_Coursework/ic_nlp_cw\n",
        "train_df = pd.read_csv('./task-1/train.csv')\n",
        "test_df = pd.read_csv('./task-1/dev.csv')\n",
        "extra_train = pd.read_csv('./extra_train_data-3.csv')"
      ],
      "execution_count": null,
      "outputs": [
        {
          "output_type": "stream",
          "text": [
            "/content/drive/MyDrive/Colab Notebooks/NLP_Coursework/ic_nlp_cw\n"
          ],
          "name": "stdout"
        }
      ]
    },
    {
      "cell_type": "markdown",
      "metadata": {
        "id": "3e1fHh81AIUd"
      },
      "source": [
        "### Data PreProcessing"
      ]
    },
    {
      "cell_type": "code",
      "metadata": {
        "id": "KZtwJ-3fm6LJ"
      },
      "source": [
        "def get_grade_list(grades):\n",
        "  grade_list = []\n",
        "  for i, grade in enumerate(grades):\n",
        "    list_grade = list(str(grade))\n",
        "    grade_list.append(list(map(int, list_grade)))\n",
        "  return grade_list\n",
        "    "
      ],
      "execution_count": 7,
      "outputs": []
    },
    {
      "cell_type": "code",
      "metadata": {
        "id": "z_RDKi6mAK8_"
      },
      "source": [
        " def add_columns_to_data(train_df, test_df):   \n",
        "    #instead of having two inputs out of preprocessing, edit the dataset, and add in columns which we can use as inputs\n",
        "    #we can also add an 'old' field which contains the original word \n",
        "    train_df['old'] = train_df.apply(lambda x:x['original'][x['original'].find('<')+1:x['original'].find('>')-1],axis=1)\n",
        "    test_df['old'] = test_df.apply(lambda x:x['original'][x['original'].find('<')+1:x['original'].find('>')-1],axis=1)\n",
        "\n",
        "    #first we add a field to the data which contains the edited headline\n",
        "    train_df['edited'] = train_df.apply(lambda x:x['original'].replace(x['original'][x['original'].find('<'):x['original'].find('>')+1],x['edit'] ) ,axis=1)\n",
        "    test_df['edited'] = test_df.apply(lambda x:x['original'].replace(x['original'][x['original'].find('<'):x['original'].find('>')+1], x['edit'] ) ,axis=1)\n",
        "\n",
        "    train_df['original'] = train_df.apply(lambda x:x['original'].replace(x['original'][x['original'].find('<'):x['original'].find('>')+1], x['old']) ,axis=1)\n",
        "    test_df['original'] = test_df.apply(lambda x:x['original'].replace(x['original'][x['original'].find('<'):x['original'].find('>')+1], x['old']),axis=1)\n",
        "\n",
        "    grades = train_df[\"grades\"].tolist()\n",
        "    grade_lists = get_grade_list(grades)\n",
        "    vars = [np.var(grade) for grade in grade_lists]\n",
        "    train_df[\"variance\"] = vars\n",
        "\n",
        "    return train_df, test_df"
      ],
      "execution_count": 8,
      "outputs": []
    },
    {
      "cell_type": "code",
      "metadata": {
        "id": "U-19KmczA6ST"
      },
      "source": [
        "train_df, test_df = add_columns_to_data(train_df, test_df)"
      ],
      "execution_count": 9,
      "outputs": []
    },
    {
      "cell_type": "code",
      "metadata": {
        "id": "HQbm--SyaRLL"
      },
      "source": [
        "# Number of epochs\n",
        "epochs = 80\n",
        "\n",
        "# Proportion of training data for train compared to dev\n",
        "train_proportion = 0.8"
      ],
      "execution_count": 10,
      "outputs": []
    },
    {
      "cell_type": "markdown",
      "metadata": {
        "id": "f46AEn_3s1UJ"
      },
      "source": [
        "### Creating Vocab and Tokenized Corpus"
      ]
    },
    {
      "cell_type": "code",
      "metadata": {
        "id": "TSQ-36SdaRLO"
      },
      "source": [
        "# To create our vocab\n",
        "\n",
        "def custom_tokenizer(nlp):\n",
        "    \n",
        "    replacement_re = re.compile(r'^<*/>') #do not split replacement format\n",
        "    prefix_re = re.compile(r'''^[\\[\\(\"]''')\n",
        "    suffix_re = re.compile(r''',[\\]\\)\"']$''')\n",
        "    infix_re = re.compile(r'''[-\\,.~]''')\n",
        "    \n",
        "    \n",
        "    return Tokenizer(nlp.vocab,\n",
        "                     token_match = replacement_re.match,\n",
        "                     prefix_search=prefix_re.search,\n",
        "                     suffix_search=suffix_re.search,\n",
        "                     infix_finditer = infix_re.finditer  \n",
        "                    )\n",
        "\n",
        "\n",
        "\n",
        "def preprocessor(data,edits):\n",
        "    \"\"\"\n",
        "    Creating a corpus of all the tokens used\n",
        "    \"\"\"\n",
        "    punctuation = \"\\\":\\.,\"\n",
        "    nlp = spacy.load(\"en_core_web_sm\")\n",
        "    nlp.tokenizer = custom_tokenizer(nlp)\n",
        "    \n",
        "    tokenized_corpus_1= [] # Let us put the tokenized corpus in a list\n",
        "    tokenized_corpus_2= []\n",
        "    \n",
        "    \n",
        "    for i, sentence in enumerate(data):\n",
        "\n",
        "        sentence = sentence.lower()\n",
        "        tokenized_sentence_1 = []\n",
        "        tokenized_sentence_2 = []\n",
        "\n",
        "        for token in nlp(sentence): # simplest split is\n",
        "\n",
        "            if token.text in punctuation:\n",
        "                continue\n",
        "            else:\n",
        "                \n",
        "                if token.text[0] == '<':\n",
        "                    tokenized_sentence_1.append(\"???\")\n",
        "                    tokenized_sentence_2.append(\"???\")\n",
        "                    \n",
        "                    tokenized_sentence_2.append(edits[i])\n",
        "\n",
        "                    \n",
        "                    tokenized_sentence_1.append(token.text[1:-2])\n",
        "                else:\n",
        "                    tokenized_sentence_2.append(token.text)\n",
        "                \n",
        "                    tokenized_sentence_1.append(token.text)\n",
        "\n",
        "\n",
        "        tokenized_corpus_1.append(tokenized_sentence_1)\n",
        "        tokenized_corpus_2.append(tokenized_sentence_2)\n",
        "\n",
        "    # Create single list of all vocabulary\n",
        "    vocabulary = []  # Let us put all the tokens (mostly words) appearing in the vocabulary in a list\n",
        "\n",
        "    for sentence in tokenized_corpus_1:\n",
        "\n",
        "        for token in sentence:\n",
        "\n",
        "            if token not in vocabulary:\n",
        "\n",
        "                if True:\n",
        "                    vocabulary.append(token)\n",
        "    \n",
        "    for token in edits:\n",
        "        \n",
        "        if token not in vocabulary:\n",
        "            \n",
        "            vocabulary.append(token)\n",
        "\n",
        "    return vocabulary, tokenized_corpus_1, tokenized_corpus_2"
      ],
      "execution_count": 11,
      "outputs": []
    },
    {
      "cell_type": "code",
      "metadata": {
        "id": "_JSWm-Q5nIxX",
        "colab": {
          "base_uri": "https://localhost:8080/"
        },
        "outputId": "ce0b3205-dc1d-4824-e79d-daf848a2119a"
      },
      "source": [
        "## Approach 1 code, using functions defined above:\n",
        "\n",
        "# We set our training data and test data\n",
        "training_data = train_df['original']\n",
        "test_data = test_df['original']\n",
        "\n",
        "# Creating word vectors\n",
        "#training_vocab, training_tokenized_corpus = create_vocab(training_data)\n",
        "#test_vocab, test_tokenized_corpus = create_vocab(test_data)\n",
        "training_vocab, training_tokenized_corpus_1,training_tokenized_corpus_2=  preprocessor(training_data,train_df['edit'])\n",
        "test_vocab, test_tokenized_corpus_1,test_tokenized_corpus_2=  preprocessor(test_data,test_df['edit'])\n",
        "\n",
        "#print(\"Vocabulary individual creation - done\")\n",
        "\n",
        "# Creating joint vocab from test and train:\n",
        "#joint_vocab, joint_tokenized_corpus = create_vocab(pd.concat([training_data, test_data]))\n",
        "joint_vocab, joint_tokenized_corpus_1,joint_tokenized_corpus_2 = preprocessor(pd.concat([training_data, test_data]),pd.concat([train_df['edit'],test_df['edit']],ignore_index = True))\n",
        "\n",
        "print(\"Vocabulary joined creation - done\")\n",
        "\n",
        "\n",
        "\n",
        "print(\"Vocab created.\")"
      ],
      "execution_count": 12,
      "outputs": [
        {
          "output_type": "stream",
          "text": [
            "Vocabulary joined creation - done\n",
            "Vocab created.\n"
          ],
          "name": "stdout"
        }
      ]
    },
    {
      "cell_type": "code",
      "metadata": {
        "id": "xeXy7v7dnQGq"
      },
      "source": [
        "# We create representations for our tokens\n",
        "wvecs = [] # word vectors\n",
        "word2idx = [] # word2index\n",
        "idx2word = []\n",
        "\n",
        "#Add special character -> embedding vector of ones \n",
        "wvecs.append(np.ones(100))\n",
        "\n",
        "# This is a large file, it will take a while to load in the memory!\n",
        "with codecs.open('glove.6B.100d.txt', 'r','utf-8') as f:\n",
        "  index = 1 #zero padding\n",
        "  for line in f.readlines():\n",
        "    # Ignore the first line - first line typically contains vocab, dimensionality\n",
        "    if len(line.strip().split()) > 3:\n",
        "      word = line.strip().split()[0]\n",
        "      if word in joint_vocab:\n",
        "          (word, vec) = (word,\n",
        "                     list(map(float,line.strip().split()[1:])))\n",
        "          wvecs.append(vec)\n",
        "          word2idx.append((word, index))\n",
        "          idx2word.append((index, word))\n",
        "          index += 1\n",
        "\n",
        "wvecs = np.array(wvecs)\n",
        "word2idx = dict(word2idx)\n",
        "idx2word = dict(idx2word)\n",
        "\n",
        "\n",
        "\n"
      ],
      "execution_count": 13,
      "outputs": []
    },
    {
      "cell_type": "code",
      "metadata": {
        "id": "0ze3glIrVMmj"
      },
      "source": [
        "word2idx['<unk>'] = 1\n",
        "idx2word[1] = '<unk>'\n",
        "mean = np.mean(wvecs, axis=0) # initialize unknown token as mean\n",
        "#wvecs = np.vstack((wvecs, mean))\n",
        "wvecs[0] = mean\n"
      ],
      "execution_count": 14,
      "outputs": []
    },
    {
      "cell_type": "code",
      "metadata": {
        "id": "BgcGpchbQOO-"
      },
      "source": [
        "\n",
        "\n",
        "vectorized_seqs_1 = [[word2idx[tok] if tok in word2idx else word2idx['<unk>'] for tok in seq] for seq in training_tokenized_corpus_1]\n",
        "vectorized_seqs_2 = [[word2idx[tok] if tok in word2idx else word2idx['<unk>'] for tok in seq] for seq in training_tokenized_corpus_2]\n",
        "\n",
        "\n",
        "# To avoid any sentences being empty (if no words match to our word embeddings)\n",
        "vectorized_seqs_1 = [x if len(x) > 0 else [0] for x in vectorized_seqs_1]\n",
        "vectorized_seqs_2 = [x if len(x) > 0 else [0] for x in vectorized_seqs_2]\n",
        "\n"
      ],
      "execution_count": 15,
      "outputs": []
    },
    {
      "cell_type": "markdown",
      "metadata": {
        "id": "3PxOsuS7Bi0g"
      },
      "source": [
        "### Training for BILSTM"
      ]
    },
    {
      "cell_type": "code",
      "metadata": {
        "id": "BxhwWCz6aRLL"
      },
      "source": [
        "# We define our training loop\n",
        "def train(train_iter, dev_iter, model, number_epoch, bert=False):\n",
        "    \"\"\"\n",
        "    Training loop for the model, which calls on eval to evaluate after each epoch\n",
        "    \"\"\"\n",
        "\n",
        "    train_losses = np.zeros(number_epoch)\n",
        "    valid_losses = np.zeros(number_epoch)\n",
        "    train_rmses = []\n",
        "    valid_rmses = []\n",
        "    print(\"Training model.\")\n",
        "\n",
        "    for epoch in range(1, number_epoch+1):\n",
        "\n",
        "        model.train()\n",
        "        epoch_loss = 0\n",
        "        epoch_sse = 0\n",
        "        no_observations = 0  # Observations used for training so far\n",
        "\n",
        "        for batch in train_iter:\n",
        "            optimizer.zero_grad()\n",
        "\n",
        "            feature, target = batch\n",
        "            feature_1= feature[0].to(device)\n",
        "            feature_2 = feature[1].to(device)\n",
        "            target = target.to(device)\n",
        "            # for RNN:\n",
        "            model.batch_size = target.shape[0]\n",
        "            no_observations = no_observations + target.shape[0]\n",
        "            model.hidden_1 = model.init_hidden()\n",
        "            model.hidden_2 = model.init_hidden()\n",
        "\n",
        "            feature = (feature_1, feature_2)\n",
        "            predictions = model(feature).squeeze(1)\n",
        "            \n",
        "            loss = loss_fn(predictions, target)\n",
        "                        \n",
        "            sse, __ = model_performance(predictions.detach().cpu().numpy(), target.detach().cpu().numpy()) \n",
        "            \n",
        "            loss.backward(retain_graph=True)\n",
        "            optimizer.step()\n",
        "\n",
        "            epoch_loss += loss.item()*target.shape[0]\n",
        "            epoch_sse += sse\n",
        "\n",
        "        valid_loss, valid_mse, preds, targs = eval(dev_iter, model)\n",
        "\n",
        "        epoch_loss, epoch_mse = epoch_loss / no_observations, epoch_sse / no_observations\n",
        "        train_losses[epoch-1] = epoch_loss\n",
        "        valid_losses[epoch-1] = valid_loss\n",
        "        train_rmses.append(epoch_mse**0.5)\n",
        "        valid_rmses.append(valid_mse**0.5)\n",
        "        print(f'| Epoch: {epoch:02} | Train Loss: {epoch_loss:.2f} | Train MSE: {epoch_mse:.2f} | Train RMSE: {epoch_mse**0.5:.2f} | \\\n",
        "        Val. Loss: {valid_loss:.2f} | Val. MSE: {valid_mse:.2f} |  Val. RMSE: {valid_mse**0.5:.2f} |')\n",
        "    return train_losses, valid_losses, preds, targs, train_rmses, valid_rmses"
      ],
      "execution_count": 16,
      "outputs": []
    },
    {
      "cell_type": "code",
      "metadata": {
        "id": "EAPacdgOaRLM"
      },
      "source": [
        "# We evaluate performance on our dev set\n",
        "def eval(data_iter, model):\n",
        "    \"\"\"\n",
        "    Evaluating model performance on the dev set\n",
        "    \"\"\"\n",
        "    model.eval()\n",
        "    epoch_loss = 0\n",
        "    epoch_sse = 0\n",
        "    pred_all = []\n",
        "    trg_all = []\n",
        "    no_observations = 0\n",
        "\n",
        "\n",
        "\n",
        "    with torch.no_grad():\n",
        "        for batch in data_iter:\n",
        "            feature, target = batch\n",
        "            feature_1= feature[0].to(device)\n",
        "            feature_2 = feature[1].to(device)\n",
        "            target = target.to(device)\n",
        "\n",
        "            feature = (feature_1, feature_2)\n",
        "\n",
        "            # for RNN:\n",
        "            model.batch_size = target.shape[0]\n",
        "            no_observations = no_observations + target.shape[0]\n",
        "            model.hidden_1 = model.init_hidden()\n",
        "            model.hidden_2 = model.init_hidden()\n",
        "\n",
        "            predictions = model(feature).squeeze(1)\n",
        "            #predictions.requires_grad = True\n",
        "            loss = loss_fn(predictions, target)\n",
        "\n",
        "            # We get the mse\n",
        "            pred, trg = predictions.detach().cpu().numpy(), target.detach().cpu().numpy()\n",
        "            sse, __ = model_performance(pred, trg)\n",
        "\n",
        "            epoch_loss += loss.item()*target.shape[0]\n",
        "            epoch_sse += sse\n",
        "            pred_all.extend(pred)\n",
        "            trg_all.extend(trg)\n",
        "\n",
        "    return epoch_loss/no_observations, epoch_sse/no_observations, np.array(pred_all), np.array(trg_all)"
      ],
      "execution_count": 17,
      "outputs": []
    },
    {
      "cell_type": "code",
      "metadata": {
        "id": "vcchQKtEaRLN"
      },
      "source": [
        "# How we print the model performance\n",
        "def model_performance(output, target, print_output=False):\n",
        "    \"\"\"\n",
        "    Returns SSE and MSE per batch (printing the MSE and the RMSE)\n",
        "    \"\"\"\n",
        "\n",
        "    sq_error = (output - target)**2\n",
        "\n",
        "    sse = np.sum(sq_error)\n",
        "    mse = np.mean(sq_error)\n",
        "    rmse = np.sqrt(mse)\n",
        "\n",
        "    if print_output:\n",
        "        print(f'| MSE: {mse:.2f} | RMSE: {rmse:.2f} |')\n",
        "\n",
        "    return sse, mse"
      ],
      "execution_count": 18,
      "outputs": []
    },
    {
      "cell_type": "code",
      "metadata": {
        "id": "aOOe3Ca7aRLP"
      },
      "source": [
        "\n",
        "def collate_fn_padd(batch):\n",
        "    \n",
        "    #We add padding to our minibatches and create tensors for our model\n",
        "    \n",
        "\n",
        "    batch_labels = [l for f, g, l in batch]\n",
        "    batch_features = [(f,g) for f, g, l in batch]\n",
        "    \n",
        "\n",
        "    batch_features_len = [len(f) for f, g, l in batch]\n",
        "\n",
        "\n",
        "    seq_tensor_1 = torch.zeros((len(batch), 50)).long()\n",
        "    seq_tensor_2 = torch.zeros((len(batch), 50)).long()\n",
        "\n",
        "    \n",
        "    for idx, (seq, seqlen) in enumerate(zip(batch_features, batch_features_len)):\n",
        "        seq_tensor_1[idx, :seqlen] = torch.LongTensor(seq[0])\n",
        "        seq_tensor_2[idx, :seqlen] = torch.LongTensor(seq[1])\n",
        "    batch_labels = torch.FloatTensor(batch_labels)\n",
        "    \n",
        "\n",
        "    return (seq_tensor_1, seq_tensor_2), batch_labels\n",
        "\n",
        "\n",
        "class Task1Dataset(Dataset):\n",
        "\n",
        "    def __init__(self, train_data, labels):\n",
        "        self.x_train = train_data\n",
        "        self.y_train = labels\n",
        "\n",
        "    def __len__(self):\n",
        "        return len(self.y_train)\n",
        "\n",
        "    def __getitem__(self, item):\n",
        "        return self.x_train[item], self.y_train[item]\n",
        "    \n",
        "class Task1Dataset_double(Dataset):\n",
        "\n",
        "    def __init__(self, train_data_1,train_data_2, labels):\n",
        "        self.x_train_1 = train_data_1\n",
        "        self.x_train_2 = train_data_2\n",
        "        self.y_train = labels\n",
        "\n",
        "    def __len__(self):\n",
        "        return len(self.y_train)\n",
        "\n",
        "    def __getitem__(self, item):\n",
        "        return self.x_train_1[item],self.x_train_2[item], self.y_train[item]    \n"
      ],
      "execution_count": 19,
      "outputs": []
    },
    {
      "cell_type": "code",
      "metadata": {
        "id": "8F1kXohWaRLR"
      },
      "source": [
        "class BiLSTM_double(nn.Module):\n",
        "\n",
        "    def __init__(self, embedding_dim, hidden_dim, vocab_size, batch_size, device):\n",
        "        super(BiLSTM_double, self).__init__()\n",
        "        self.hidden_dim = hidden_dim\n",
        "        self.embedding_dim = embedding_dim\n",
        "        self.device = device\n",
        "        self.batch_size = batch_size\n",
        "        self.embedding = nn.Embedding(vocab_size, embedding_dim, padding_idx=0)\n",
        "\n",
        "        # The LSTM takes word embeddings as inputs, and outputs hidden states\n",
        "        # with dimensionality hidden_dim.\n",
        "        self.lstm_1 = nn.LSTM(embedding_dim, hidden_dim, bidirectional=True)\n",
        "        self.lstm_2 = nn.LSTM(embedding_dim,hidden_dim, bidirectional = True)\n",
        "\n",
        "        # The linear layer that maps from hidden state space to tag space\n",
        "        self.fc = nn.Linear(2*55*100, hidden_dim*2)\n",
        "        #self.fc2 = nn.Linear(hidden_dim*2, hidden_dim//2)\n",
        "        #self.fc3 = nn.Linear(hidden_dim//2, hidden_dim//4)\n",
        "\n",
        "        self.hidden_1 = self.init_hidden()\n",
        "        self.hidden_2 = self.init_hidden()\n",
        "        self.hidden2label = nn.Linear(hidden_dim*2, 1)\n",
        "\n",
        "\n",
        "        self.d1 = nn.Dropout(0.5)\n",
        "        self.d2 = nn.Dropout(0.5)\n",
        "        self.d3 = nn.Dropout(0.5)\n",
        "        #self.d4 = nn.Dropout(0.3)\n",
        "        #self.d5 = nn.Dropout(0.3)\n",
        "\n",
        "    def init_hidden(self):\n",
        "        # Before we've done anything, we dont have any hidden state.\n",
        "        # Refer to the Pytorch documentation to see exactly why they have this dimensionality.\n",
        "        # The axes semantics are (num_layers * num_directions, minibatch_size, hidden_dim)\n",
        "        \n",
        "        return torch.zeros(2, self.batch_size, self.hidden_dim, requires_grad = True).to(self.device), \\\n",
        "               torch.zeros(2, self.batch_size, self.hidden_dim, requires_grad = True).to(self.device)\n",
        "\n",
        "    def forward(self, sentence):\n",
        "        self.embedded_1 = self.embedding(sentence[0])\n",
        "        self.embedded_1 = self.embedded_1.permute(1, 0, 2) #Needed for LSTMs\n",
        "\n",
        "        self.embedded_2 = self.embedding(sentence[1])\n",
        "        self.embedded_2 = self.embedded_2.permute(1, 0, 2) #Needed for LSTMs\n",
        "\n",
        "        #lstm_out : (seq_len,batch_size,num_directions (2) * hidden_size (50))\n",
        "        #hidden : (num_layers * num_directions, batch_size,hidden_size)\n",
        "        lstm_out_1, self.hidden_1 = self.lstm_1(\n",
        "            self.embedded_1.view(len(self.embedded_1), self.batch_size, self.embedding_dim), self.hidden_1)\n",
        "        \n",
        "        lstm_out_1 = F.leaky_relu(self.d1(lstm_out_1))\n",
        "\n",
        "        lstm_out_2, self.hidden_2 = self.lstm_2(\n",
        "            self.embedded_2.view(len(self.embedded_2), self.batch_size, self.embedding_dim), self.hidden_2)\n",
        "        \n",
        "        lstm_out_2 = F.leaky_relu(self.d2(lstm_out_2))\n",
        "        \n",
        "        #out : (1)\n",
        "        lstm_out_1 = lstm_out_1.permute(1,0,2)\n",
        "        lstm_out_2 = lstm_out_2.permute(1,0,2)\n",
        "\n",
        "        out1 = self.fc(torch.cat((lstm_out_1.reshape(self.batch_size, -1),lstm_out_2.reshape(self.batch_size, -1)), dim = 1))\n",
        "        out1 = F.leaky_relu(self.d3(out1))\n",
        "\n",
        "        #out2 = self.fc2(out1)\n",
        "        #out2 = F.leaky_relu(self.d4(out2))\n",
        "\n",
        "        #out3 = self.fc3(out2)\n",
        "        #out3 = F.leaky_relu(self.d5(out3))\n",
        "\n",
        "        out = self.hidden2label(out1)\n",
        "        return out"
      ],
      "execution_count": 20,
      "outputs": []
    },
    {
      "cell_type": "code",
      "metadata": {
        "id": "4XzJHcQ_aRLT",
        "scrolled": true,
        "colab": {
          "base_uri": "https://localhost:8080/"
        },
        "outputId": "888ae17b-70b2-4380-f9ae-a99ef3b7cd5e"
      },
      "source": [
        "\n",
        "INPUT_DIM = len(word2idx)\n",
        "EMBEDDING_DIM = wvecs.shape[1]\n",
        "\n",
        "BATCH_SIZE = 128\n",
        "\n",
        "model = BiLSTM_double(EMBEDDING_DIM, 55, INPUT_DIM, BATCH_SIZE, device)\n",
        "\n",
        "params = sum(p.numel() for p in model.parameters() if p.requires_grad)\n",
        "print(params)\n",
        "#print(\"Total number of parameters is: {​​}​​\".format(params))\n",
        "\n",
        "print(model)\n",
        "\n",
        "print(\"Model initialised.\")\n",
        "\n",
        "model.to(device)\n",
        "# We provide the model with our embeddings\n",
        "#x = np.concatenate((wvecs,wvecs),axis=1)\n",
        "model.embedding.weight.data.copy_(torch.from_numpy(wvecs))\n",
        "\n"
      ],
      "execution_count": 21,
      "outputs": [
        {
          "output_type": "stream",
          "text": [
            "2985381\n",
            "BiLSTM_double(\n",
            "  (embedding): Embedding(16370, 100, padding_idx=0)\n",
            "  (lstm_1): LSTM(100, 55, bidirectional=True)\n",
            "  (lstm_2): LSTM(100, 55, bidirectional=True)\n",
            "  (fc): Linear(in_features=11000, out_features=110, bias=True)\n",
            "  (hidden2label): Linear(in_features=110, out_features=1, bias=True)\n",
            "  (d1): Dropout(p=0.5, inplace=False)\n",
            "  (d2): Dropout(p=0.5, inplace=False)\n",
            "  (d3): Dropout(p=0.5, inplace=False)\n",
            ")\n",
            "Model initialised.\n"
          ],
          "name": "stdout"
        },
        {
          "output_type": "execute_result",
          "data": {
            "text/plain": [
              "tensor([[ 0.0045,  0.0884,  0.1403,  ..., -0.0549,  0.1601,  0.0868],\n",
              "        [-0.0382, -0.2449,  0.7281,  ..., -0.1459,  0.8278,  0.2706],\n",
              "        [-0.1529, -0.2428,  0.8984,  ..., -0.5910,  1.0039,  0.2066],\n",
              "        ...,\n",
              "        [ 0.0068,  0.0145, -0.3016,  ...,  0.5548, -0.1785,  0.0685],\n",
              "        [ 0.1981, -0.0991, -0.2745,  ...,  0.1796, -0.3175,  0.1357],\n",
              "        [ 0.1318,  0.0111, -0.1804,  ...,  0.1664, -0.2256,  0.3588]],\n",
              "       device='cuda:0')"
            ]
          },
          "metadata": {
            "tags": []
          },
          "execution_count": 21
        }
      ]
    },
    {
      "cell_type": "code",
      "metadata": {
        "id": "U8ovZX23ECX4"
      },
      "source": [
        "import matplotlib.pyplot as plt\n",
        "def plot(train_losses,valid_losses,num_epochs):\n",
        "  epochs = list(range(num_epochs))\n",
        "  plt.plot(epochs,train_losses, label='train')\n",
        "  plt.plot(epochs,valid_losses, label='valid')\n",
        "  plt.legend()\n",
        "  plt.show()\n"
      ],
      "execution_count": 22,
      "outputs": []
    },
    {
      "cell_type": "code",
      "metadata": {
        "id": "p455ZPLrpkTS",
        "colab": {
          "base_uri": "https://localhost:8080/"
        },
        "outputId": "e7a893ca-31b1-4dcb-da43-db1a86ef1dfc"
      },
      "source": [
        "\n",
        "feature_1 = vectorized_seqs_1\n",
        "feature_2 = vectorized_seqs_2\n",
        "\n",
        "\n",
        "# 'feature' is a list of lists, each containing embedding IDs for word tokens\n",
        "train_and_dev = Task1Dataset_double(feature_1,feature_2, train_df['meanGrade'])\n",
        "#train_and_dev = Task1Dataset_double(feature_1,feature_2, train_df['variance'])\n",
        "\n",
        "train_examples = round(len(train_and_dev)*train_proportion)\n",
        "dev_examples = len(train_and_dev) - train_examples\n",
        "train_dataset, dev_dataset = random_split(train_and_dev,\n",
        "                                           (train_examples,\n",
        "                                            dev_examples))\n",
        "####Shuffle might need to be true. Check later\n",
        "train_loader = torch.utils.data.DataLoader(train_dataset, shuffle=True, batch_size=BATCH_SIZE, collate_fn=collate_fn_padd)\n",
        "\n",
        "dev_loader = torch.utils.data.DataLoader(dev_dataset, batch_size=BATCH_SIZE, collate_fn=collate_fn_padd)\n",
        "\n",
        "print(\"Dataloaders created.\")\n",
        "\n",
        "loss_fn = nn.MSELoss()\n",
        "loss_fn = loss_fn.to(device)\n",
        "#optimizer = torch.optim.Adam(model.parameters())\n",
        "optimizer = torch.optim.SGD(model.parameters(), lr=0.008, momentum=0.9)\n"
      ],
      "execution_count": 23,
      "outputs": [
        {
          "output_type": "stream",
          "text": [
            "Dataloaders created.\n"
          ],
          "name": "stdout"
        }
      ]
    },
    {
      "cell_type": "markdown",
      "metadata": {
        "id": "nftBwyNppl4J"
      },
      "source": [
        "### Predicting the Variance"
      ]
    },
    {
      "cell_type": "code",
      "metadata": {
        "id": "un9wo5TPyN9L",
        "colab": {
          "base_uri": "https://localhost:8080/",
          "height": 733
        },
        "outputId": "ff3e0269-ea1a-4269-87c3-77d0cce9375e"
      },
      "source": [
        "\n",
        "feature_1 = vectorized_seqs_1\n",
        "feature_2 = vectorized_seqs_2\n",
        "\n",
        "\n",
        "# 'feature' is a list of lists, each containing embedding IDs for word tokens\n",
        "#train_and_dev = Task1Dataset_double(feature_1,feature_2, train_df['meanGrade'])\n",
        "train_and_dev = Task1Dataset_double(feature_1,feature_2, train_df['variance'])\n",
        "\n",
        "train_examples = round(len(train_and_dev)*train_proportion)\n",
        "dev_examples = len(train_and_dev) - train_examples\n",
        "train_dataset, dev_dataset = random_split(train_and_dev,\n",
        "                                           (train_examples,\n",
        "                                            dev_examples))\n",
        "####Shuffle might need to be true. Check later\n",
        "train_loader = torch.utils.data.DataLoader(train_dataset, shuffle=True, batch_size=BATCH_SIZE, collate_fn=collate_fn_padd)\n",
        "\n",
        "dev_loader = torch.utils.data.DataLoader(dev_dataset, batch_size=BATCH_SIZE, collate_fn=collate_fn_padd)\n",
        "\n",
        "print(\"Dataloaders created.\")\n",
        "\n",
        "loss_fn = nn.MSELoss()\n",
        "loss_fn = loss_fn.to(device)\n",
        "#optimizer = torch.optim.Adam(model.parameters())\n",
        "optimizer = torch.optim.SGD(model.parameters(), lr=0.001, momentum=0.9)\n",
        "\n",
        "\n",
        "train_losses, valid_losses, preds, targs = train(train_loader, dev_loader, model, epochs)\n",
        "plot(train_losses, valid_losses, len(train_losses))\n",
        "plt.scatter(preds, targs)\n",
        "plt.title(\"Predicting variance\")\n",
        "plt.show()\n"
      ],
      "execution_count": null,
      "outputs": [
        {
          "output_type": "stream",
          "text": [
            "Dataloaders created.\n",
            "Training model.\n",
            "| Epoch: 01 | Train Loss: 0.40 | Train MSE: 0.40 | Train RMSE: 0.63 |         Val. Loss: 0.29 | Val. MSE: 0.29 |  Val. RMSE: 0.54 |\n",
            "| Epoch: 02 | Train Loss: 0.24 | Train MSE: 0.24 | Train RMSE: 0.49 |         Val. Loss: 0.20 | Val. MSE: 0.20 |  Val. RMSE: 0.45 |\n",
            "| Epoch: 03 | Train Loss: 0.20 | Train MSE: 0.20 | Train RMSE: 0.44 |         Val. Loss: 0.18 | Val. MSE: 0.18 |  Val. RMSE: 0.43 |\n",
            "| Epoch: 04 | Train Loss: 0.19 | Train MSE: 0.19 | Train RMSE: 0.43 |         Val. Loss: 0.18 | Val. MSE: 0.18 |  Val. RMSE: 0.43 |\n",
            "| Epoch: 05 | Train Loss: 0.19 | Train MSE: 0.19 | Train RMSE: 0.43 |         Val. Loss: 0.18 | Val. MSE: 0.18 |  Val. RMSE: 0.43 |\n",
            "| Epoch: 06 | Train Loss: 0.19 | Train MSE: 0.19 | Train RMSE: 0.43 |         Val. Loss: 0.18 | Val. MSE: 0.18 |  Val. RMSE: 0.43 |\n",
            "| Epoch: 07 | Train Loss: 0.19 | Train MSE: 0.19 | Train RMSE: 0.43 |         Val. Loss: 0.18 | Val. MSE: 0.18 |  Val. RMSE: 0.43 |\n",
            "| Epoch: 08 | Train Loss: 0.19 | Train MSE: 0.19 | Train RMSE: 0.43 |         Val. Loss: 0.18 | Val. MSE: 0.18 |  Val. RMSE: 0.43 |\n",
            "| Epoch: 09 | Train Loss: 0.19 | Train MSE: 0.19 | Train RMSE: 0.43 |         Val. Loss: 0.18 | Val. MSE: 0.18 |  Val. RMSE: 0.43 |\n",
            "| Epoch: 10 | Train Loss: 0.19 | Train MSE: 0.19 | Train RMSE: 0.43 |         Val. Loss: 0.18 | Val. MSE: 0.18 |  Val. RMSE: 0.43 |\n"
          ],
          "name": "stdout"
        },
        {
          "output_type": "display_data",
          "data": {
            "image/png": "[encoded data removed]",
            "text/plain": [
              "<Figure size 432x288 with 1 Axes>"
            ]
          },
          "metadata": {
            "tags": [],
            "needs_background": "light"
          }
        },
        {
          "output_type": "display_data",
          "data": {
            "image/png": "[encoded data removed]",
            "text/plain": [
              "<Figure size 432x288 with 1 Axes>"
            ]
          },
          "metadata": {
            "tags": [],
            "needs_background": "light"
          }
        }
      ]
    },
    {
      "cell_type": "markdown",
      "metadata": {
        "id": "9eVLmkYwpnrH"
      },
      "source": [
        "### Predicting the mean with all data\n"
      ]
    },
    {
      "cell_type": "code",
      "metadata": {
        "id": "8kWhqnFEpbGe",
        "colab": {
          "base_uri": "https://localhost:8080/",
          "height": 1000
        },
        "outputId": "da193397-31ab-4e09-fa02-ef62da9f9ae1"
      },
      "source": [
        "\n",
        "feature_1 = vectorized_seqs_1\n",
        "feature_2 = vectorized_seqs_2\n",
        "\n",
        "\n",
        "# 'feature' is a list of lists, each containing embedding IDs for word tokens\n",
        "train_and_dev = Task1Dataset_double(feature_1,feature_2, train_df['meanGrade'])\n",
        "#train_and_dev = Task1Dataset_double(feature_1,feature_2, train_df['variance'])\n",
        "\n",
        "train_examples = round(len(train_and_dev)*train_proportion)\n",
        "dev_examples = len(train_and_dev) - train_examples\n",
        "train_dataset, dev_dataset = random_split(train_and_dev,\n",
        "                                           (train_examples,\n",
        "                                            dev_examples))\n",
        "####Shuffle might need to be true. Check later\n",
        "train_loader = torch.utils.data.DataLoader(train_dataset, shuffle=True, batch_size=BATCH_SIZE, collate_fn=collate_fn_padd)\n",
        "\n",
        "dev_loader = torch.utils.data.DataLoader(dev_dataset, batch_size=BATCH_SIZE, collate_fn=collate_fn_padd)\n",
        "\n",
        "print(\"Dataloaders created.\")\n",
        "\n",
        "loss_fn = nn.MSELoss()\n",
        "loss_fn = loss_fn.to(device)\n",
        "#optimizer = torch.optim.Adam(model.parameters())\n",
        "optimizer = torch.optim.SGD(model.parameters(), lr=0.008, momentum=0.8)\n",
        "\n",
        "\n",
        "train_losses, valid_losses, preds, targs, train_rmses, valid_rmses = train(train_loader, dev_loader, model, 80)\n",
        "plt.title(\"Loss for LSTM Model\")\n",
        "plt.xlabel(\"Epochs\")\n",
        "plt.ylabel(\"Loss\")\n",
        "plot(train_rmses, valid_rmses, len(train_rmses))\n",
        "plt.scatter(preds, targs)\n",
        "plt.title(\"Predicting mean\")\n",
        "plt.xlabel(\"Predictions\")\n",
        "plt.ylabel(\"Target Labels\")\n",
        "plt.show()\n"
      ],
      "execution_count": 24,
      "outputs": [
        {
          "output_type": "stream",
          "text": [
            "Dataloaders created.\n",
            "Training model.\n",
            "| Epoch: 01 | Train Loss: 0.41 | Train MSE: 0.41 | Train RMSE: 0.64 |         Val. Loss: 0.35 | Val. MSE: 0.35 |  Val. RMSE: 0.59 |\n",
            "| Epoch: 02 | Train Loss: 0.36 | Train MSE: 0.36 | Train RMSE: 0.60 |         Val. Loss: 0.35 | Val. MSE: 0.35 |  Val. RMSE: 0.59 |\n",
            "| Epoch: 03 | Train Loss: 0.36 | Train MSE: 0.36 | Train RMSE: 0.60 |         Val. Loss: 0.35 | Val. MSE: 0.35 |  Val. RMSE: 0.59 |\n",
            "| Epoch: 04 | Train Loss: 0.36 | Train MSE: 0.36 | Train RMSE: 0.60 |         Val. Loss: 0.35 | Val. MSE: 0.35 |  Val. RMSE: 0.59 |\n",
            "| Epoch: 05 | Train Loss: 0.36 | Train MSE: 0.36 | Train RMSE: 0.60 |         Val. Loss: 0.34 | Val. MSE: 0.34 |  Val. RMSE: 0.59 |\n",
            "| Epoch: 06 | Train Loss: 0.35 | Train MSE: 0.35 | Train RMSE: 0.59 |         Val. Loss: 0.34 | Val. MSE: 0.34 |  Val. RMSE: 0.59 |\n",
            "| Epoch: 07 | Train Loss: 0.35 | Train MSE: 0.35 | Train RMSE: 0.59 |         Val. Loss: 0.34 | Val. MSE: 0.34 |  Val. RMSE: 0.59 |\n",
            "| Epoch: 08 | Train Loss: 0.35 | Train MSE: 0.35 | Train RMSE: 0.59 |         Val. Loss: 0.34 | Val. MSE: 0.34 |  Val. RMSE: 0.58 |\n",
            "| Epoch: 09 | Train Loss: 0.35 | Train MSE: 0.35 | Train RMSE: 0.59 |         Val. Loss: 0.34 | Val. MSE: 0.34 |  Val. RMSE: 0.58 |\n",
            "| Epoch: 10 | Train Loss: 0.35 | Train MSE: 0.35 | Train RMSE: 0.59 |         Val. Loss: 0.34 | Val. MSE: 0.34 |  Val. RMSE: 0.58 |\n",
            "| Epoch: 11 | Train Loss: 0.35 | Train MSE: 0.35 | Train RMSE: 0.59 |         Val. Loss: 0.34 | Val. MSE: 0.34 |  Val. RMSE: 0.58 |\n",
            "| Epoch: 12 | Train Loss: 0.35 | Train MSE: 0.35 | Train RMSE: 0.59 |         Val. Loss: 0.34 | Val. MSE: 0.34 |  Val. RMSE: 0.59 |\n",
            "| Epoch: 13 | Train Loss: 0.35 | Train MSE: 0.35 | Train RMSE: 0.59 |         Val. Loss: 0.34 | Val. MSE: 0.34 |  Val. RMSE: 0.58 |\n",
            "| Epoch: 14 | Train Loss: 0.35 | Train MSE: 0.35 | Train RMSE: 0.59 |         Val. Loss: 0.34 | Val. MSE: 0.34 |  Val. RMSE: 0.58 |\n",
            "| Epoch: 15 | Train Loss: 0.35 | Train MSE: 0.35 | Train RMSE: 0.59 |         Val. Loss: 0.34 | Val. MSE: 0.34 |  Val. RMSE: 0.58 |\n",
            "| Epoch: 16 | Train Loss: 0.34 | Train MSE: 0.34 | Train RMSE: 0.59 |         Val. Loss: 0.34 | Val. MSE: 0.34 |  Val. RMSE: 0.58 |\n",
            "| Epoch: 17 | Train Loss: 0.34 | Train MSE: 0.34 | Train RMSE: 0.59 |         Val. Loss: 0.34 | Val. MSE: 0.34 |  Val. RMSE: 0.58 |\n",
            "| Epoch: 18 | Train Loss: 0.34 | Train MSE: 0.34 | Train RMSE: 0.58 |         Val. Loss: 0.34 | Val. MSE: 0.34 |  Val. RMSE: 0.58 |\n",
            "| Epoch: 19 | Train Loss: 0.34 | Train MSE: 0.34 | Train RMSE: 0.59 |         Val. Loss: 0.34 | Val. MSE: 0.34 |  Val. RMSE: 0.58 |\n",
            "| Epoch: 20 | Train Loss: 0.34 | Train MSE: 0.34 | Train RMSE: 0.58 |         Val. Loss: 0.34 | Val. MSE: 0.34 |  Val. RMSE: 0.58 |\n",
            "| Epoch: 21 | Train Loss: 0.34 | Train MSE: 0.34 | Train RMSE: 0.58 |         Val. Loss: 0.34 | Val. MSE: 0.34 |  Val. RMSE: 0.58 |\n",
            "| Epoch: 22 | Train Loss: 0.34 | Train MSE: 0.34 | Train RMSE: 0.58 |         Val. Loss: 0.34 | Val. MSE: 0.34 |  Val. RMSE: 0.58 |\n",
            "| Epoch: 23 | Train Loss: 0.34 | Train MSE: 0.34 | Train RMSE: 0.58 |         Val. Loss: 0.34 | Val. MSE: 0.34 |  Val. RMSE: 0.58 |\n",
            "| Epoch: 24 | Train Loss: 0.34 | Train MSE: 0.34 | Train RMSE: 0.58 |         Val. Loss: 0.34 | Val. MSE: 0.34 |  Val. RMSE: 0.58 |\n",
            "| Epoch: 25 | Train Loss: 0.34 | Train MSE: 0.34 | Train RMSE: 0.58 |         Val. Loss: 0.34 | Val. MSE: 0.34 |  Val. RMSE: 0.58 |\n",
            "| Epoch: 26 | Train Loss: 0.34 | Train MSE: 0.34 | Train RMSE: 0.58 |         Val. Loss: 0.34 | Val. MSE: 0.34 |  Val. RMSE: 0.58 |\n",
            "| Epoch: 27 | Train Loss: 0.34 | Train MSE: 0.34 | Train RMSE: 0.58 |         Val. Loss: 0.34 | Val. MSE: 0.34 |  Val. RMSE: 0.58 |\n",
            "| Epoch: 28 | Train Loss: 0.34 | Train MSE: 0.34 | Train RMSE: 0.58 |         Val. Loss: 0.34 | Val. MSE: 0.34 |  Val. RMSE: 0.58 |\n",
            "| Epoch: 29 | Train Loss: 0.33 | Train MSE: 0.33 | Train RMSE: 0.58 |         Val. Loss: 0.34 | Val. MSE: 0.34 |  Val. RMSE: 0.58 |\n",
            "| Epoch: 30 | Train Loss: 0.34 | Train MSE: 0.34 | Train RMSE: 0.58 |         Val. Loss: 0.34 | Val. MSE: 0.34 |  Val. RMSE: 0.58 |\n",
            "| Epoch: 31 | Train Loss: 0.33 | Train MSE: 0.33 | Train RMSE: 0.58 |         Val. Loss: 0.34 | Val. MSE: 0.34 |  Val. RMSE: 0.58 |\n",
            "| Epoch: 32 | Train Loss: 0.33 | Train MSE: 0.33 | Train RMSE: 0.58 |         Val. Loss: 0.34 | Val. MSE: 0.34 |  Val. RMSE: 0.58 |\n",
            "| Epoch: 33 | Train Loss: 0.33 | Train MSE: 0.33 | Train RMSE: 0.58 |         Val. Loss: 0.34 | Val. MSE: 0.34 |  Val. RMSE: 0.58 |\n",
            "| Epoch: 34 | Train Loss: 0.33 | Train MSE: 0.33 | Train RMSE: 0.57 |         Val. Loss: 0.34 | Val. MSE: 0.34 |  Val. RMSE: 0.58 |\n",
            "| Epoch: 35 | Train Loss: 0.33 | Train MSE: 0.33 | Train RMSE: 0.57 |         Val. Loss: 0.34 | Val. MSE: 0.34 |  Val. RMSE: 0.58 |\n",
            "| Epoch: 36 | Train Loss: 0.33 | Train MSE: 0.33 | Train RMSE: 0.58 |         Val. Loss: 0.34 | Val. MSE: 0.34 |  Val. RMSE: 0.58 |\n",
            "| Epoch: 37 | Train Loss: 0.33 | Train MSE: 0.33 | Train RMSE: 0.57 |         Val. Loss: 0.34 | Val. MSE: 0.34 |  Val. RMSE: 0.58 |\n",
            "| Epoch: 38 | Train Loss: 0.33 | Train MSE: 0.33 | Train RMSE: 0.57 |         Val. Loss: 0.34 | Val. MSE: 0.34 |  Val. RMSE: 0.58 |\n",
            "| Epoch: 39 | Train Loss: 0.33 | Train MSE: 0.33 | Train RMSE: 0.57 |         Val. Loss: 0.34 | Val. MSE: 0.34 |  Val. RMSE: 0.58 |\n",
            "| Epoch: 40 | Train Loss: 0.33 | Train MSE: 0.33 | Train RMSE: 0.57 |         Val. Loss: 0.34 | Val. MSE: 0.34 |  Val. RMSE: 0.58 |\n",
            "| Epoch: 41 | Train Loss: 0.33 | Train MSE: 0.33 | Train RMSE: 0.57 |         Val. Loss: 0.34 | Val. MSE: 0.34 |  Val. RMSE: 0.58 |\n",
            "| Epoch: 42 | Train Loss: 0.32 | Train MSE: 0.32 | Train RMSE: 0.57 |         Val. Loss: 0.34 | Val. MSE: 0.34 |  Val. RMSE: 0.58 |\n",
            "| Epoch: 43 | Train Loss: 0.33 | Train MSE: 0.33 | Train RMSE: 0.57 |         Val. Loss: 0.34 | Val. MSE: 0.34 |  Val. RMSE: 0.58 |\n",
            "| Epoch: 44 | Train Loss: 0.32 | Train MSE: 0.32 | Train RMSE: 0.57 |         Val. Loss: 0.34 | Val. MSE: 0.34 |  Val. RMSE: 0.58 |\n",
            "| Epoch: 45 | Train Loss: 0.32 | Train MSE: 0.32 | Train RMSE: 0.57 |         Val. Loss: 0.34 | Val. MSE: 0.34 |  Val. RMSE: 0.58 |\n",
            "| Epoch: 46 | Train Loss: 0.32 | Train MSE: 0.32 | Train RMSE: 0.57 |         Val. Loss: 0.34 | Val. MSE: 0.34 |  Val. RMSE: 0.58 |\n",
            "| Epoch: 47 | Train Loss: 0.32 | Train MSE: 0.32 | Train RMSE: 0.56 |         Val. Loss: 0.34 | Val. MSE: 0.34 |  Val. RMSE: 0.58 |\n",
            "| Epoch: 48 | Train Loss: 0.32 | Train MSE: 0.32 | Train RMSE: 0.57 |         Val. Loss: 0.34 | Val. MSE: 0.34 |  Val. RMSE: 0.58 |\n",
            "| Epoch: 49 | Train Loss: 0.32 | Train MSE: 0.32 | Train RMSE: 0.56 |         Val. Loss: 0.34 | Val. MSE: 0.34 |  Val. RMSE: 0.58 |\n",
            "| Epoch: 50 | Train Loss: 0.32 | Train MSE: 0.32 | Train RMSE: 0.56 |         Val. Loss: 0.34 | Val. MSE: 0.34 |  Val. RMSE: 0.58 |\n",
            "| Epoch: 51 | Train Loss: 0.32 | Train MSE: 0.32 | Train RMSE: 0.56 |         Val. Loss: 0.34 | Val. MSE: 0.34 |  Val. RMSE: 0.58 |\n",
            "| Epoch: 52 | Train Loss: 0.31 | Train MSE: 0.31 | Train RMSE: 0.56 |         Val. Loss: 0.34 | Val. MSE: 0.34 |  Val. RMSE: 0.58 |\n",
            "| Epoch: 53 | Train Loss: 0.31 | Train MSE: 0.31 | Train RMSE: 0.56 |         Val. Loss: 0.34 | Val. MSE: 0.34 |  Val. RMSE: 0.58 |\n",
            "| Epoch: 54 | Train Loss: 0.31 | Train MSE: 0.31 | Train RMSE: 0.56 |         Val. Loss: 0.34 | Val. MSE: 0.34 |  Val. RMSE: 0.58 |\n",
            "| Epoch: 55 | Train Loss: 0.31 | Train MSE: 0.31 | Train RMSE: 0.56 |         Val. Loss: 0.33 | Val. MSE: 0.33 |  Val. RMSE: 0.58 |\n",
            "| Epoch: 56 | Train Loss: 0.31 | Train MSE: 0.31 | Train RMSE: 0.56 |         Val. Loss: 0.34 | Val. MSE: 0.34 |  Val. RMSE: 0.58 |\n",
            "| Epoch: 57 | Train Loss: 0.31 | Train MSE: 0.31 | Train RMSE: 0.56 |         Val. Loss: 0.33 | Val. MSE: 0.33 |  Val. RMSE: 0.58 |\n",
            "| Epoch: 58 | Train Loss: 0.31 | Train MSE: 0.31 | Train RMSE: 0.56 |         Val. Loss: 0.34 | Val. MSE: 0.34 |  Val. RMSE: 0.58 |\n",
            "| Epoch: 59 | Train Loss: 0.31 | Train MSE: 0.31 | Train RMSE: 0.56 |         Val. Loss: 0.33 | Val. MSE: 0.33 |  Val. RMSE: 0.58 |\n",
            "| Epoch: 60 | Train Loss: 0.31 | Train MSE: 0.31 | Train RMSE: 0.55 |         Val. Loss: 0.34 | Val. MSE: 0.34 |  Val. RMSE: 0.58 |\n",
            "| Epoch: 61 | Train Loss: 0.31 | Train MSE: 0.31 | Train RMSE: 0.55 |         Val. Loss: 0.34 | Val. MSE: 0.34 |  Val. RMSE: 0.58 |\n",
            "| Epoch: 62 | Train Loss: 0.30 | Train MSE: 0.30 | Train RMSE: 0.55 |         Val. Loss: 0.34 | Val. MSE: 0.34 |  Val. RMSE: 0.58 |\n",
            "| Epoch: 63 | Train Loss: 0.30 | Train MSE: 0.30 | Train RMSE: 0.55 |         Val. Loss: 0.33 | Val. MSE: 0.33 |  Val. RMSE: 0.58 |\n",
            "| Epoch: 64 | Train Loss: 0.30 | Train MSE: 0.30 | Train RMSE: 0.55 |         Val. Loss: 0.33 | Val. MSE: 0.33 |  Val. RMSE: 0.58 |\n",
            "| Epoch: 65 | Train Loss: 0.30 | Train MSE: 0.30 | Train RMSE: 0.55 |         Val. Loss: 0.33 | Val. MSE: 0.33 |  Val. RMSE: 0.58 |\n",
            "| Epoch: 66 | Train Loss: 0.30 | Train MSE: 0.30 | Train RMSE: 0.55 |         Val. Loss: 0.34 | Val. MSE: 0.34 |  Val. RMSE: 0.58 |\n",
            "| Epoch: 67 | Train Loss: 0.30 | Train MSE: 0.30 | Train RMSE: 0.55 |         Val. Loss: 0.34 | Val. MSE: 0.34 |  Val. RMSE: 0.58 |\n",
            "| Epoch: 68 | Train Loss: 0.30 | Train MSE: 0.30 | Train RMSE: 0.55 |         Val. Loss: 0.33 | Val. MSE: 0.33 |  Val. RMSE: 0.58 |\n",
            "| Epoch: 69 | Train Loss: 0.30 | Train MSE: 0.30 | Train RMSE: 0.55 |         Val. Loss: 0.34 | Val. MSE: 0.34 |  Val. RMSE: 0.58 |\n",
            "| Epoch: 70 | Train Loss: 0.29 | Train MSE: 0.29 | Train RMSE: 0.54 |         Val. Loss: 0.34 | Val. MSE: 0.34 |  Val. RMSE: 0.58 |\n",
            "| Epoch: 71 | Train Loss: 0.30 | Train MSE: 0.30 | Train RMSE: 0.54 |         Val. Loss: 0.33 | Val. MSE: 0.33 |  Val. RMSE: 0.58 |\n",
            "| Epoch: 72 | Train Loss: 0.29 | Train MSE: 0.29 | Train RMSE: 0.54 |         Val. Loss: 0.34 | Val. MSE: 0.34 |  Val. RMSE: 0.58 |\n",
            "| Epoch: 73 | Train Loss: 0.29 | Train MSE: 0.29 | Train RMSE: 0.54 |         Val. Loss: 0.34 | Val. MSE: 0.34 |  Val. RMSE: 0.58 |\n",
            "| Epoch: 74 | Train Loss: 0.30 | Train MSE: 0.30 | Train RMSE: 0.54 |         Val. Loss: 0.33 | Val. MSE: 0.33 |  Val. RMSE: 0.58 |\n",
            "| Epoch: 75 | Train Loss: 0.29 | Train MSE: 0.29 | Train RMSE: 0.54 |         Val. Loss: 0.33 | Val. MSE: 0.33 |  Val. RMSE: 0.58 |\n",
            "| Epoch: 76 | Train Loss: 0.29 | Train MSE: 0.29 | Train RMSE: 0.54 |         Val. Loss: 0.33 | Val. MSE: 0.33 |  Val. RMSE: 0.58 |\n",
            "| Epoch: 77 | Train Loss: 0.29 | Train MSE: 0.29 | Train RMSE: 0.54 |         Val. Loss: 0.34 | Val. MSE: 0.34 |  Val. RMSE: 0.58 |\n",
            "| Epoch: 78 | Train Loss: 0.29 | Train MSE: 0.29 | Train RMSE: 0.54 |         Val. Loss: 0.33 | Val. MSE: 0.33 |  Val. RMSE: 0.58 |\n",
            "| Epoch: 79 | Train Loss: 0.29 | Train MSE: 0.29 | Train RMSE: 0.54 |         Val. Loss: 0.34 | Val. MSE: 0.34 |  Val. RMSE: 0.58 |\n",
            "| Epoch: 80 | Train Loss: 0.29 | Train MSE: 0.29 | Train RMSE: 0.53 |         Val. Loss: 0.34 | Val. MSE: 0.34 |  Val. RMSE: 0.58 |\n",
            "| Epoch: 81 | Train Loss: 0.29 | Train MSE: 0.29 | Train RMSE: 0.53 |         Val. Loss: 0.34 | Val. MSE: 0.34 |  Val. RMSE: 0.58 |\n",
            "| Epoch: 82 | Train Loss: 0.28 | Train MSE: 0.28 | Train RMSE: 0.53 |         Val. Loss: 0.34 | Val. MSE: 0.34 |  Val. RMSE: 0.58 |\n",
            "| Epoch: 83 | Train Loss: 0.28 | Train MSE: 0.28 | Train RMSE: 0.53 |         Val. Loss: 0.34 | Val. MSE: 0.34 |  Val. RMSE: 0.58 |\n",
            "| Epoch: 84 | Train Loss: 0.28 | Train MSE: 0.28 | Train RMSE: 0.53 |         Val. Loss: 0.34 | Val. MSE: 0.34 |  Val. RMSE: 0.58 |\n",
            "| Epoch: 85 | Train Loss: 0.28 | Train MSE: 0.28 | Train RMSE: 0.53 |         Val. Loss: 0.34 | Val. MSE: 0.34 |  Val. RMSE: 0.58 |\n",
            "| Epoch: 86 | Train Loss: 0.28 | Train MSE: 0.28 | Train RMSE: 0.53 |         Val. Loss: 0.34 | Val. MSE: 0.34 |  Val. RMSE: 0.58 |\n",
            "| Epoch: 87 | Train Loss: 0.28 | Train MSE: 0.28 | Train RMSE: 0.53 |         Val. Loss: 0.34 | Val. MSE: 0.34 |  Val. RMSE: 0.58 |\n",
            "| Epoch: 88 | Train Loss: 0.28 | Train MSE: 0.28 | Train RMSE: 0.53 |         Val. Loss: 0.34 | Val. MSE: 0.34 |  Val. RMSE: 0.58 |\n",
            "| Epoch: 89 | Train Loss: 0.28 | Train MSE: 0.28 | Train RMSE: 0.53 |         Val. Loss: 0.34 | Val. MSE: 0.34 |  Val. RMSE: 0.58 |\n",
            "| Epoch: 90 | Train Loss: 0.28 | Train MSE: 0.28 | Train RMSE: 0.52 |         Val. Loss: 0.34 | Val. MSE: 0.34 |  Val. RMSE: 0.58 |\n",
            "| Epoch: 91 | Train Loss: 0.27 | Train MSE: 0.27 | Train RMSE: 0.52 |         Val. Loss: 0.34 | Val. MSE: 0.34 |  Val. RMSE: 0.58 |\n",
            "| Epoch: 92 | Train Loss: 0.27 | Train MSE: 0.27 | Train RMSE: 0.52 |         Val. Loss: 0.34 | Val. MSE: 0.34 |  Val. RMSE: 0.58 |\n",
            "| Epoch: 93 | Train Loss: 0.27 | Train MSE: 0.27 | Train RMSE: 0.52 |         Val. Loss: 0.34 | Val. MSE: 0.34 |  Val. RMSE: 0.58 |\n",
            "| Epoch: 94 | Train Loss: 0.27 | Train MSE: 0.27 | Train RMSE: 0.52 |         Val. Loss: 0.34 | Val. MSE: 0.34 |  Val. RMSE: 0.58 |\n",
            "| Epoch: 95 | Train Loss: 0.27 | Train MSE: 0.27 | Train RMSE: 0.52 |         Val. Loss: 0.34 | Val. MSE: 0.34 |  Val. RMSE: 0.58 |\n",
            "| Epoch: 96 | Train Loss: 0.27 | Train MSE: 0.27 | Train RMSE: 0.52 |         Val. Loss: 0.34 | Val. MSE: 0.34 |  Val. RMSE: 0.58 |\n",
            "| Epoch: 97 | Train Loss: 0.27 | Train MSE: 0.27 | Train RMSE: 0.52 |         Val. Loss: 0.34 | Val. MSE: 0.34 |  Val. RMSE: 0.58 |\n",
            "| Epoch: 98 | Train Loss: 0.27 | Train MSE: 0.27 | Train RMSE: 0.52 |         Val. Loss: 0.34 | Val. MSE: 0.34 |  Val. RMSE: 0.58 |\n",
            "| Epoch: 99 | Train Loss: 0.27 | Train MSE: 0.27 | Train RMSE: 0.52 |         Val. Loss: 0.34 | Val. MSE: 0.34 |  Val. RMSE: 0.58 |\n",
            "| Epoch: 100 | Train Loss: 0.27 | Train MSE: 0.27 | Train RMSE: 0.51 |         Val. Loss: 0.34 | Val. MSE: 0.34 |  Val. RMSE: 0.58 |\n",
            "| Epoch: 101 | Train Loss: 0.27 | Train MSE: 0.27 | Train RMSE: 0.51 |         Val. Loss: 0.34 | Val. MSE: 0.34 |  Val. RMSE: 0.58 |\n",
            "| Epoch: 102 | Train Loss: 0.26 | Train MSE: 0.26 | Train RMSE: 0.51 |         Val. Loss: 0.34 | Val. MSE: 0.34 |  Val. RMSE: 0.58 |\n",
            "| Epoch: 103 | Train Loss: 0.26 | Train MSE: 0.26 | Train RMSE: 0.51 |         Val. Loss: 0.34 | Val. MSE: 0.34 |  Val. RMSE: 0.58 |\n",
            "| Epoch: 104 | Train Loss: 0.26 | Train MSE: 0.26 | Train RMSE: 0.51 |         Val. Loss: 0.34 | Val. MSE: 0.34 |  Val. RMSE: 0.58 |\n",
            "| Epoch: 105 | Train Loss: 0.26 | Train MSE: 0.26 | Train RMSE: 0.51 |         Val. Loss: 0.34 | Val. MSE: 0.34 |  Val. RMSE: 0.59 |\n",
            "| Epoch: 106 | Train Loss: 0.26 | Train MSE: 0.26 | Train RMSE: 0.51 |         Val. Loss: 0.34 | Val. MSE: 0.34 |  Val. RMSE: 0.58 |\n",
            "| Epoch: 107 | Train Loss: 0.26 | Train MSE: 0.26 | Train RMSE: 0.51 |         Val. Loss: 0.34 | Val. MSE: 0.34 |  Val. RMSE: 0.58 |\n",
            "| Epoch: 108 | Train Loss: 0.26 | Train MSE: 0.26 | Train RMSE: 0.51 |         Val. Loss: 0.34 | Val. MSE: 0.34 |  Val. RMSE: 0.58 |\n",
            "| Epoch: 109 | Train Loss: 0.26 | Train MSE: 0.26 | Train RMSE: 0.51 |         Val. Loss: 0.34 | Val. MSE: 0.34 |  Val. RMSE: 0.58 |\n",
            "| Epoch: 110 | Train Loss: 0.26 | Train MSE: 0.26 | Train RMSE: 0.51 |         Val. Loss: 0.34 | Val. MSE: 0.34 |  Val. RMSE: 0.58 |\n",
            "| Epoch: 111 | Train Loss: 0.25 | Train MSE: 0.25 | Train RMSE: 0.50 |         Val. Loss: 0.34 | Val. MSE: 0.34 |  Val. RMSE: 0.58 |\n",
            "| Epoch: 112 | Train Loss: 0.25 | Train MSE: 0.25 | Train RMSE: 0.50 |         Val. Loss: 0.34 | Val. MSE: 0.34 |  Val. RMSE: 0.58 |\n",
            "| Epoch: 113 | Train Loss: 0.25 | Train MSE: 0.25 | Train RMSE: 0.50 |         Val. Loss: 0.34 | Val. MSE: 0.34 |  Val. RMSE: 0.58 |\n",
            "| Epoch: 114 | Train Loss: 0.25 | Train MSE: 0.25 | Train RMSE: 0.50 |         Val. Loss: 0.34 | Val. MSE: 0.34 |  Val. RMSE: 0.58 |\n",
            "| Epoch: 115 | Train Loss: 0.25 | Train MSE: 0.25 | Train RMSE: 0.50 |         Val. Loss: 0.34 | Val. MSE: 0.34 |  Val. RMSE: 0.58 |\n",
            "| Epoch: 116 | Train Loss: 0.25 | Train MSE: 0.25 | Train RMSE: 0.50 |         Val. Loss: 0.34 | Val. MSE: 0.34 |  Val. RMSE: 0.58 |\n",
            "| Epoch: 117 | Train Loss: 0.25 | Train MSE: 0.25 | Train RMSE: 0.50 |         Val. Loss: 0.34 | Val. MSE: 0.34 |  Val. RMSE: 0.58 |\n",
            "| Epoch: 118 | Train Loss: 0.25 | Train MSE: 0.25 | Train RMSE: 0.50 |         Val. Loss: 0.34 | Val. MSE: 0.34 |  Val. RMSE: 0.58 |\n",
            "| Epoch: 119 | Train Loss: 0.25 | Train MSE: 0.25 | Train RMSE: 0.50 |         Val. Loss: 0.34 | Val. MSE: 0.34 |  Val. RMSE: 0.58 |\n",
            "| Epoch: 120 | Train Loss: 0.25 | Train MSE: 0.25 | Train RMSE: 0.50 |         Val. Loss: 0.34 | Val. MSE: 0.34 |  Val. RMSE: 0.59 |\n",
            "| Epoch: 121 | Train Loss: 0.25 | Train MSE: 0.25 | Train RMSE: 0.50 |         Val. Loss: 0.34 | Val. MSE: 0.34 |  Val. RMSE: 0.58 |\n",
            "| Epoch: 122 | Train Loss: 0.25 | Train MSE: 0.25 | Train RMSE: 0.50 |         Val. Loss: 0.34 | Val. MSE: 0.34 |  Val. RMSE: 0.58 |\n",
            "| Epoch: 123 | Train Loss: 0.24 | Train MSE: 0.24 | Train RMSE: 0.49 |         Val. Loss: 0.34 | Val. MSE: 0.34 |  Val. RMSE: 0.58 |\n",
            "| Epoch: 124 | Train Loss: 0.24 | Train MSE: 0.24 | Train RMSE: 0.49 |         Val. Loss: 0.34 | Val. MSE: 0.34 |  Val. RMSE: 0.58 |\n",
            "| Epoch: 125 | Train Loss: 0.24 | Train MSE: 0.24 | Train RMSE: 0.49 |         Val. Loss: 0.34 | Val. MSE: 0.34 |  Val. RMSE: 0.58 |\n",
            "| Epoch: 126 | Train Loss: 0.24 | Train MSE: 0.24 | Train RMSE: 0.49 |         Val. Loss: 0.34 | Val. MSE: 0.34 |  Val. RMSE: 0.59 |\n",
            "| Epoch: 127 | Train Loss: 0.24 | Train MSE: 0.24 | Train RMSE: 0.49 |         Val. Loss: 0.34 | Val. MSE: 0.34 |  Val. RMSE: 0.59 |\n",
            "| Epoch: 128 | Train Loss: 0.24 | Train MSE: 0.24 | Train RMSE: 0.49 |         Val. Loss: 0.34 | Val. MSE: 0.34 |  Val. RMSE: 0.58 |\n",
            "| Epoch: 129 | Train Loss: 0.24 | Train MSE: 0.24 | Train RMSE: 0.49 |         Val. Loss: 0.34 | Val. MSE: 0.34 |  Val. RMSE: 0.59 |\n",
            "| Epoch: 130 | Train Loss: 0.24 | Train MSE: 0.24 | Train RMSE: 0.49 |         Val. Loss: 0.34 | Val. MSE: 0.34 |  Val. RMSE: 0.58 |\n",
            "| Epoch: 131 | Train Loss: 0.24 | Train MSE: 0.24 | Train RMSE: 0.49 |         Val. Loss: 0.35 | Val. MSE: 0.35 |  Val. RMSE: 0.59 |\n",
            "| Epoch: 132 | Train Loss: 0.24 | Train MSE: 0.24 | Train RMSE: 0.49 |         Val. Loss: 0.34 | Val. MSE: 0.34 |  Val. RMSE: 0.58 |\n",
            "| Epoch: 133 | Train Loss: 0.23 | Train MSE: 0.23 | Train RMSE: 0.48 |         Val. Loss: 0.34 | Val. MSE: 0.34 |  Val. RMSE: 0.58 |\n",
            "| Epoch: 134 | Train Loss: 0.23 | Train MSE: 0.23 | Train RMSE: 0.48 |         Val. Loss: 0.34 | Val. MSE: 0.34 |  Val. RMSE: 0.59 |\n",
            "| Epoch: 135 | Train Loss: 0.24 | Train MSE: 0.24 | Train RMSE: 0.49 |         Val. Loss: 0.34 | Val. MSE: 0.34 |  Val. RMSE: 0.59 |\n",
            "| Epoch: 136 | Train Loss: 0.23 | Train MSE: 0.23 | Train RMSE: 0.48 |         Val. Loss: 0.34 | Val. MSE: 0.34 |  Val. RMSE: 0.58 |\n",
            "| Epoch: 137 | Train Loss: 0.23 | Train MSE: 0.23 | Train RMSE: 0.48 |         Val. Loss: 0.34 | Val. MSE: 0.34 |  Val. RMSE: 0.59 |\n",
            "| Epoch: 138 | Train Loss: 0.23 | Train MSE: 0.23 | Train RMSE: 0.48 |         Val. Loss: 0.34 | Val. MSE: 0.34 |  Val. RMSE: 0.59 |\n",
            "| Epoch: 139 | Train Loss: 0.23 | Train MSE: 0.23 | Train RMSE: 0.48 |         Val. Loss: 0.34 | Val. MSE: 0.34 |  Val. RMSE: 0.58 |\n",
            "| Epoch: 140 | Train Loss: 0.23 | Train MSE: 0.23 | Train RMSE: 0.48 |         Val. Loss: 0.35 | Val. MSE: 0.35 |  Val. RMSE: 0.59 |\n",
            "| Epoch: 141 | Train Loss: 0.23 | Train MSE: 0.23 | Train RMSE: 0.48 |         Val. Loss: 0.34 | Val. MSE: 0.34 |  Val. RMSE: 0.59 |\n",
            "| Epoch: 142 | Train Loss: 0.23 | Train MSE: 0.23 | Train RMSE: 0.48 |         Val. Loss: 0.34 | Val. MSE: 0.34 |  Val. RMSE: 0.59 |\n",
            "| Epoch: 143 | Train Loss: 0.23 | Train MSE: 0.23 | Train RMSE: 0.48 |         Val. Loss: 0.34 | Val. MSE: 0.34 |  Val. RMSE: 0.59 |\n",
            "| Epoch: 144 | Train Loss: 0.23 | Train MSE: 0.23 | Train RMSE: 0.48 |         Val. Loss: 0.34 | Val. MSE: 0.34 |  Val. RMSE: 0.58 |\n",
            "| Epoch: 145 | Train Loss: 0.23 | Train MSE: 0.23 | Train RMSE: 0.48 |         Val. Loss: 0.34 | Val. MSE: 0.34 |  Val. RMSE: 0.58 |\n",
            "| Epoch: 146 | Train Loss: 0.23 | Train MSE: 0.23 | Train RMSE: 0.48 |         Val. Loss: 0.34 | Val. MSE: 0.34 |  Val. RMSE: 0.58 |\n",
            "| Epoch: 147 | Train Loss: 0.23 | Train MSE: 0.23 | Train RMSE: 0.47 |         Val. Loss: 0.35 | Val. MSE: 0.35 |  Val. RMSE: 0.59 |\n",
            "| Epoch: 148 | Train Loss: 0.22 | Train MSE: 0.22 | Train RMSE: 0.47 |         Val. Loss: 0.35 | Val. MSE: 0.35 |  Val. RMSE: 0.59 |\n",
            "| Epoch: 149 | Train Loss: 0.22 | Train MSE: 0.22 | Train RMSE: 0.47 |         Val. Loss: 0.34 | Val. MSE: 0.34 |  Val. RMSE: 0.59 |\n",
            "| Epoch: 150 | Train Loss: 0.22 | Train MSE: 0.22 | Train RMSE: 0.47 |         Val. Loss: 0.35 | Val. MSE: 0.35 |  Val. RMSE: 0.59 |\n"
          ],
          "name": "stdout"
        },
        {
          "output_type": "display_data",
          "data": {
            "image/png": "[encoded data removed]",
            "text/plain": [
              "<Figure size 432x288 with 1 Axes>"
            ]
          },
          "metadata": {
            "tags": [],
            "needs_background": "light"
          }
        },
        {
          "output_type": "display_data",
          "data": {
            "image/png": "[encoded data removed]",
            "text/plain": [
              "<Figure size 432x288 with 1 Axes>"
            ]
          },
          "metadata": {
            "tags": [],
            "needs_background": "light"
          }
        }
      ]
    },
    {
      "cell_type": "code",
      "metadata": {
        "colab": {
          "base_uri": "https://localhost:8080/",
          "height": 294
        },
        "id": "YyBvofgTsCm6",
        "outputId": "8dfcb65a-687a-4f21-abb8-0d4bf5d0a5d6"
      },
      "source": [
        "plt.scatter(preds, targs)\n",
        "mean = np.mean(train_df[\"meanGrade\"].tolist())\n",
        "plt.title(\"Target vs. Predictions\")\n",
        "plt.vlines(mean, ymin = 0, ymax = 3, label=\"Mean\", color = \"green\")\n",
        "plt.legend()\n",
        "plt.xlabel(\"Predictions\")\n",
        "plt.ylabel(\"Target Labels\")\n",
        "plt.show()\n"
      ],
      "execution_count": 25,
      "outputs": [
        {
          "output_type": "display_data",
          "data": {
            "image/png": "[encoded data removed]",
            "text/plain": [
              "<Figure size 432x288 with 1 Axes>"
            ]
          },
          "metadata": {
            "tags": [],
            "needs_background": "light"
          }
        }
      ]
    },
    {
      "cell_type": "markdown",
      "metadata": {
        "id": "8hE_a2aiypgx"
      },
      "source": [
        "### Predicting the mean with high variance data"
      ]
    },
    {
      "cell_type": "code",
      "metadata": {
        "id": "Qa9G6Ptz6il8",
        "colab": {
          "base_uri": "https://localhost:8080/",
          "height": 419
        },
        "outputId": "0ad8b86f-29b4-43c7-a493-c35f14dfe6bf"
      },
      "source": [
        "train_df"
      ],
      "execution_count": null,
      "outputs": [
        {
          "output_type": "execute_result",
          "data": {
            "text/html": [
              "<div>\n",
              "<style scoped>\n",
              "    .dataframe tbody tr th:only-of-type {\n",
              "        vertical-align: middle;\n",
              "    }\n",
              "\n",
              "    .dataframe tbody tr th {\n",
              "        vertical-align: top;\n",
              "    }\n",
              "\n",
              "    .dataframe thead th {\n",
              "        text-align: right;\n",
              "    }\n",
              "</style>\n",
              "<table border=\"1\" class=\"dataframe\">\n",
              "  <thead>\n",
              "    <tr style=\"text-align: right;\">\n",
              "      <th></th>\n",
              "      <th>id</th>\n",
              "      <th>original</th>\n",
              "      <th>edit</th>\n",
              "      <th>grades</th>\n",
              "      <th>meanGrade</th>\n",
              "      <th>old</th>\n",
              "      <th>edited</th>\n",
              "      <th>variance</th>\n",
              "    </tr>\n",
              "  </thead>\n",
              "  <tbody>\n",
              "    <tr>\n",
              "      <th>0</th>\n",
              "      <td>14530</td>\n",
              "      <td>France is ‘ hunting down its citizens who join...</td>\n",
              "      <td>twins</td>\n",
              "      <td>10000</td>\n",
              "      <td>0.2</td>\n",
              "      <td>Isis</td>\n",
              "      <td>France is ‘ hunting down its citizens who join...</td>\n",
              "      <td>0.16</td>\n",
              "    </tr>\n",
              "    <tr>\n",
              "      <th>1</th>\n",
              "      <td>13034</td>\n",
              "      <td>Pentagon claims 2,000 % increase in Russian tr...</td>\n",
              "      <td>bowling</td>\n",
              "      <td>33110</td>\n",
              "      <td>1.6</td>\n",
              "      <td>Syria</td>\n",
              "      <td>Pentagon claims 2,000 % increase in Russian tr...</td>\n",
              "      <td>1.44</td>\n",
              "    </tr>\n",
              "    <tr>\n",
              "      <th>2</th>\n",
              "      <td>8731</td>\n",
              "      <td>Iceland PM Calls Snap Vote as Pedophile Furor ...</td>\n",
              "      <td>party</td>\n",
              "      <td>22100</td>\n",
              "      <td>1.0</td>\n",
              "      <td>Coalition</td>\n",
              "      <td>Iceland PM Calls Snap Vote as Pedophile Furor ...</td>\n",
              "      <td>0.80</td>\n",
              "    </tr>\n",
              "    <tr>\n",
              "      <th>3</th>\n",
              "      <td>76</td>\n",
              "      <td>In an apparent first , Iran and Israel engage ...</td>\n",
              "      <td>slap</td>\n",
              "      <td>20000</td>\n",
              "      <td>0.4</td>\n",
              "      <td>engage</td>\n",
              "      <td>In an apparent first , Iran and Israel slap ea...</td>\n",
              "      <td>0.64</td>\n",
              "    </tr>\n",
              "    <tr>\n",
              "      <th>4</th>\n",
              "      <td>8832</td>\n",
              "      <td>All 22 promises Trump made in his speech to Co...</td>\n",
              "      <td>sounds</td>\n",
              "      <td>22200</td>\n",
              "      <td>1.2</td>\n",
              "      <td>promises</td>\n",
              "      <td>All 22 sounds Trump made in his speech to Cong...</td>\n",
              "      <td>0.96</td>\n",
              "    </tr>\n",
              "    <tr>\n",
              "      <th>...</th>\n",
              "      <td>...</td>\n",
              "      <td>...</td>\n",
              "      <td>...</td>\n",
              "      <td>...</td>\n",
              "      <td>...</td>\n",
              "      <td>...</td>\n",
              "      <td>...</td>\n",
              "      <td>...</td>\n",
              "    </tr>\n",
              "    <tr>\n",
              "      <th>9124</th>\n",
              "      <td>12770</td>\n",
              "      <td>Among Republicans , Trump is more popular than...</td>\n",
              "      <td>interns</td>\n",
              "      <td>21100</td>\n",
              "      <td>0.8</td>\n",
              "      <td>leaders</td>\n",
              "      <td>Among Republicans , Trump is more popular than...</td>\n",
              "      <td>0.56</td>\n",
              "    </tr>\n",
              "    <tr>\n",
              "      <th>9125</th>\n",
              "      <td>1781</td>\n",
              "      <td>Protesters Rally for Refugees Detained at JFK ...</td>\n",
              "      <td>stewardesses</td>\n",
              "      <td>20000</td>\n",
              "      <td>0.4</td>\n",
              "      <td>Refugees</td>\n",
              "      <td>Protesters Rally for stewardesses Detained at ...</td>\n",
              "      <td>0.64</td>\n",
              "    </tr>\n",
              "    <tr>\n",
              "      <th>9126</th>\n",
              "      <td>5628</td>\n",
              "      <td>Cruise line Carnival Corp. joins the fight aga...</td>\n",
              "      <td>raisin</td>\n",
              "      <td>21000</td>\n",
              "      <td>0.6</td>\n",
              "      <td>marriage</td>\n",
              "      <td>Cruise line Carnival Corp. joins the fight aga...</td>\n",
              "      <td>0.64</td>\n",
              "    </tr>\n",
              "    <tr>\n",
              "      <th>9127</th>\n",
              "      <td>14483</td>\n",
              "      <td>Columbia police hunt woman seen with gun near ...</td>\n",
              "      <td>cake</td>\n",
              "      <td>32200</td>\n",
              "      <td>1.4</td>\n",
              "      <td>gun</td>\n",
              "      <td>Columbia police hunt woman seen with cake near...</td>\n",
              "      <td>1.44</td>\n",
              "    </tr>\n",
              "    <tr>\n",
              "      <th>9128</th>\n",
              "      <td>5255</td>\n",
              "      <td>Here 's What 's In The House-Approved Health C...</td>\n",
              "      <td>food</td>\n",
              "      <td>11000</td>\n",
              "      <td>0.4</td>\n",
              "      <td>Care</td>\n",
              "      <td>Here 's What 's In The House-Approved Health f...</td>\n",
              "      <td>0.24</td>\n",
              "    </tr>\n",
              "  </tbody>\n",
              "</table>\n",
              "<p>9129 rows × 8 columns</p>\n",
              "</div>"
            ],
            "text/plain": [
              "         id  ... variance\n",
              "0     14530  ...     0.16\n",
              "1     13034  ...     1.44\n",
              "2      8731  ...     0.80\n",
              "3        76  ...     0.64\n",
              "4      8832  ...     0.96\n",
              "...     ...  ...      ...\n",
              "9124  12770  ...     0.56\n",
              "9125   1781  ...     0.64\n",
              "9126   5628  ...     0.64\n",
              "9127  14483  ...     1.44\n",
              "9128   5255  ...     0.24\n",
              "\n",
              "[9129 rows x 8 columns]"
            ]
          },
          "metadata": {
            "tags": []
          },
          "execution_count": 316
        }
      ]
    },
    {
      "cell_type": "code",
      "metadata": {
        "id": "KydvnvNrz-OO"
      },
      "source": [
        "indexNames = train_df[(train_df['variance'] < 0.3)].index\n",
        "# Delete these row indexes from dataFrame\n",
        "high_v_train = train_df.drop(indexNames, inplace=False)\n",
        "high_v_train = high_v_train.reset_index(inplace=False,drop=True)"
      ],
      "execution_count": null,
      "outputs": []
    },
    {
      "cell_type": "code",
      "metadata": {
        "id": "ZGZvaWqz2GO3",
        "colab": {
          "base_uri": "https://localhost:8080/",
          "height": 419
        },
        "outputId": "321e68dc-eab7-407f-fede-52e19b672d1f"
      },
      "source": [
        "high_v_train"
      ],
      "execution_count": null,
      "outputs": [
        {
          "output_type": "execute_result",
          "data": {
            "text/html": [
              "<div>\n",
              "<style scoped>\n",
              "    .dataframe tbody tr th:only-of-type {\n",
              "        vertical-align: middle;\n",
              "    }\n",
              "\n",
              "    .dataframe tbody tr th {\n",
              "        vertical-align: top;\n",
              "    }\n",
              "\n",
              "    .dataframe thead th {\n",
              "        text-align: right;\n",
              "    }\n",
              "</style>\n",
              "<table border=\"1\" class=\"dataframe\">\n",
              "  <thead>\n",
              "    <tr style=\"text-align: right;\">\n",
              "      <th></th>\n",
              "      <th>id</th>\n",
              "      <th>original</th>\n",
              "      <th>edit</th>\n",
              "      <th>grades</th>\n",
              "      <th>meanGrade</th>\n",
              "      <th>old</th>\n",
              "      <th>edited</th>\n",
              "      <th>variance</th>\n",
              "    </tr>\n",
              "  </thead>\n",
              "  <tbody>\n",
              "    <tr>\n",
              "      <th>0</th>\n",
              "      <td>13034</td>\n",
              "      <td>Pentagon claims 2,000 % increase in Russian tr...</td>\n",
              "      <td>bowling</td>\n",
              "      <td>33110</td>\n",
              "      <td>1.6</td>\n",
              "      <td>Syria</td>\n",
              "      <td>Pentagon claims 2,000 % increase in Russian tr...</td>\n",
              "      <td>1.44</td>\n",
              "    </tr>\n",
              "    <tr>\n",
              "      <th>1</th>\n",
              "      <td>8731</td>\n",
              "      <td>Iceland PM Calls Snap Vote as Pedophile Furor ...</td>\n",
              "      <td>party</td>\n",
              "      <td>22100</td>\n",
              "      <td>1.0</td>\n",
              "      <td>Coalition</td>\n",
              "      <td>Iceland PM Calls Snap Vote as Pedophile Furor ...</td>\n",
              "      <td>0.80</td>\n",
              "    </tr>\n",
              "    <tr>\n",
              "      <th>2</th>\n",
              "      <td>76</td>\n",
              "      <td>In an apparent first , Iran and Israel engage ...</td>\n",
              "      <td>slap</td>\n",
              "      <td>20000</td>\n",
              "      <td>0.4</td>\n",
              "      <td>engage</td>\n",
              "      <td>In an apparent first , Iran and Israel slap ea...</td>\n",
              "      <td>0.64</td>\n",
              "    </tr>\n",
              "    <tr>\n",
              "      <th>3</th>\n",
              "      <td>8832</td>\n",
              "      <td>All 22 promises Trump made in his speech to Co...</td>\n",
              "      <td>sounds</td>\n",
              "      <td>22200</td>\n",
              "      <td>1.2</td>\n",
              "      <td>promises</td>\n",
              "      <td>All 22 sounds Trump made in his speech to Cong...</td>\n",
              "      <td>0.96</td>\n",
              "    </tr>\n",
              "    <tr>\n",
              "      <th>4</th>\n",
              "      <td>12174</td>\n",
              "      <td>New DOJ alert system will flag crimes against ...</td>\n",
              "      <td>laughter</td>\n",
              "      <td>32100</td>\n",
              "      <td>1.2</td>\n",
              "      <td>crimes</td>\n",
              "      <td>New DOJ alert system will flag laughter agains...</td>\n",
              "      <td>1.36</td>\n",
              "    </tr>\n",
              "    <tr>\n",
              "      <th>...</th>\n",
              "      <td>...</td>\n",
              "      <td>...</td>\n",
              "      <td>...</td>\n",
              "      <td>...</td>\n",
              "      <td>...</td>\n",
              "      <td>...</td>\n",
              "      <td>...</td>\n",
              "      <td>...</td>\n",
              "    </tr>\n",
              "    <tr>\n",
              "      <th>6297</th>\n",
              "      <td>7544</td>\n",
              "      <td>This Is What Happens When You Let Trump Be Trump</td>\n",
              "      <td>orange</td>\n",
              "      <td>33211</td>\n",
              "      <td>2.0</td>\n",
              "      <td>Trump</td>\n",
              "      <td>This Is What Happens When You Let Trump Be ora...</td>\n",
              "      <td>0.80</td>\n",
              "    </tr>\n",
              "    <tr>\n",
              "      <th>6298</th>\n",
              "      <td>12770</td>\n",
              "      <td>Among Republicans , Trump is more popular than...</td>\n",
              "      <td>interns</td>\n",
              "      <td>21100</td>\n",
              "      <td>0.8</td>\n",
              "      <td>leaders</td>\n",
              "      <td>Among Republicans , Trump is more popular than...</td>\n",
              "      <td>0.56</td>\n",
              "    </tr>\n",
              "    <tr>\n",
              "      <th>6299</th>\n",
              "      <td>1781</td>\n",
              "      <td>Protesters Rally for Refugees Detained at JFK ...</td>\n",
              "      <td>stewardesses</td>\n",
              "      <td>20000</td>\n",
              "      <td>0.4</td>\n",
              "      <td>Refugees</td>\n",
              "      <td>Protesters Rally for stewardesses Detained at ...</td>\n",
              "      <td>0.64</td>\n",
              "    </tr>\n",
              "    <tr>\n",
              "      <th>6300</th>\n",
              "      <td>5628</td>\n",
              "      <td>Cruise line Carnival Corp. joins the fight aga...</td>\n",
              "      <td>raisin</td>\n",
              "      <td>21000</td>\n",
              "      <td>0.6</td>\n",
              "      <td>marriage</td>\n",
              "      <td>Cruise line Carnival Corp. joins the fight aga...</td>\n",
              "      <td>0.64</td>\n",
              "    </tr>\n",
              "    <tr>\n",
              "      <th>6301</th>\n",
              "      <td>14483</td>\n",
              "      <td>Columbia police hunt woman seen with gun near ...</td>\n",
              "      <td>cake</td>\n",
              "      <td>32200</td>\n",
              "      <td>1.4</td>\n",
              "      <td>gun</td>\n",
              "      <td>Columbia police hunt woman seen with cake near...</td>\n",
              "      <td>1.44</td>\n",
              "    </tr>\n",
              "  </tbody>\n",
              "</table>\n",
              "<p>6302 rows × 8 columns</p>\n",
              "</div>"
            ],
            "text/plain": [
              "         id  ... variance\n",
              "0     13034  ...     1.44\n",
              "1      8731  ...     0.80\n",
              "2        76  ...     0.64\n",
              "3      8832  ...     0.96\n",
              "4     12174  ...     1.36\n",
              "...     ...  ...      ...\n",
              "6297   7544  ...     0.80\n",
              "6298  12770  ...     0.56\n",
              "6299   1781  ...     0.64\n",
              "6300   5628  ...     0.64\n",
              "6301  14483  ...     1.44\n",
              "\n",
              "[6302 rows x 8 columns]"
            ]
          },
          "metadata": {
            "tags": []
          },
          "execution_count": 334
        }
      ]
    },
    {
      "cell_type": "code",
      "metadata": {
        "id": "SXmuYylCyouU",
        "colab": {
          "base_uri": "https://localhost:8080/",
          "height": 733
        },
        "outputId": "0d02d274-af66-4ed5-d349-03cfb2300166"
      },
      "source": [
        "\n",
        "feature_1 = vectorized_seqs_1\n",
        "feature_2 = vectorized_seqs_2\n",
        "\n",
        "\n",
        "# 'feature' is a list of lists, each containing embedding IDs for word tokens\n",
        "train_and_dev = Task1Dataset_double(feature_1,feature_2, high_v_train['meanGrade'])\n",
        "#train_and_dev = Task1Dataset_double(feature_1,feature_2, train_df['variance'])\n",
        "\n",
        "train_examples = round(len(train_and_dev)*train_proportion)\n",
        "dev_examples = len(train_and_dev) - train_examples\n",
        "train_dataset, dev_dataset = random_split(train_and_dev,\n",
        "                                           (train_examples,\n",
        "                                            dev_examples))\n",
        "####Shuffle might need to be true. Check later\n",
        "train_loader = torch.utils.data.DataLoader(train_dataset, shuffle=True, batch_size=BATCH_SIZE, collate_fn=collate_fn_padd)\n",
        "\n",
        "dev_loader = torch.utils.data.DataLoader(dev_dataset, batch_size=BATCH_SIZE, collate_fn=collate_fn_padd)\n",
        "\n",
        "print(\"Dataloaders created.\")\n",
        "\n",
        "loss_fn = nn.MSELoss()\n",
        "loss_fn = loss_fn.to(device)\n",
        "#optimizer = torch.optim.Adam(model.parameters())\n",
        "optimizer = torch.optim.SGD(model.parameters(), lr=0.001, momentum=0.9)\n",
        "\n",
        "\n",
        "train_losses, valid_losses, preds, targs = train(train_loader, dev_loader, model, epochs)\n",
        "plot(train_losses, valid_losses, len(train_losses))\n",
        "plt.scatter(preds, targs)\n",
        "plt.title(\"Predicting the mean with high variance data\")\n",
        "plt.show()\n"
      ],
      "execution_count": null,
      "outputs": [
        {
          "output_type": "stream",
          "text": [
            "Dataloaders created.\n",
            "Training model.\n",
            "| Epoch: 01 | Train Loss: 1.03 | Train MSE: 1.03 | Train RMSE: 1.01 |         Val. Loss: 0.77 | Val. MSE: 0.77 |  Val. RMSE: 0.88 |\n",
            "| Epoch: 02 | Train Loss: 0.56 | Train MSE: 0.56 | Train RMSE: 0.75 |         Val. Loss: 0.40 | Val. MSE: 0.40 |  Val. RMSE: 0.63 |\n",
            "| Epoch: 03 | Train Loss: 0.32 | Train MSE: 0.32 | Train RMSE: 0.56 |         Val. Loss: 0.26 | Val. MSE: 0.26 |  Val. RMSE: 0.51 |\n",
            "| Epoch: 04 | Train Loss: 0.25 | Train MSE: 0.25 | Train RMSE: 0.50 |         Val. Loss: 0.23 | Val. MSE: 0.23 |  Val. RMSE: 0.48 |\n",
            "| Epoch: 05 | Train Loss: 0.23 | Train MSE: 0.23 | Train RMSE: 0.48 |         Val. Loss: 0.22 | Val. MSE: 0.22 |  Val. RMSE: 0.47 |\n",
            "| Epoch: 06 | Train Loss: 0.23 | Train MSE: 0.23 | Train RMSE: 0.48 |         Val. Loss: 0.22 | Val. MSE: 0.22 |  Val. RMSE: 0.47 |\n",
            "| Epoch: 07 | Train Loss: 0.23 | Train MSE: 0.23 | Train RMSE: 0.48 |         Val. Loss: 0.22 | Val. MSE: 0.22 |  Val. RMSE: 0.47 |\n",
            "| Epoch: 08 | Train Loss: 0.23 | Train MSE: 0.23 | Train RMSE: 0.48 |         Val. Loss: 0.22 | Val. MSE: 0.22 |  Val. RMSE: 0.47 |\n",
            "| Epoch: 09 | Train Loss: 0.23 | Train MSE: 0.23 | Train RMSE: 0.48 |         Val. Loss: 0.22 | Val. MSE: 0.22 |  Val. RMSE: 0.47 |\n",
            "| Epoch: 10 | Train Loss: 0.23 | Train MSE: 0.23 | Train RMSE: 0.48 |         Val. Loss: 0.22 | Val. MSE: 0.22 |  Val. RMSE: 0.47 |\n"
          ],
          "name": "stdout"
        },
        {
          "output_type": "display_data",
          "data": {
            "image/png": "[encoded data removed]",
            "text/plain": [
              "<Figure size 432x288 with 1 Axes>"
            ]
          },
          "metadata": {
            "tags": [],
            "needs_background": "light"
          }
        },
        {
          "output_type": "display_data",
          "data": {
            "image/png": "[encoded data removed]",
            "text/plain": [
              "<Figure size 432x288 with 1 Axes>"
            ]
          },
          "metadata": {
            "tags": [],
            "needs_background": "light"
          }
        }
      ]
    },
    {
      "cell_type": "markdown",
      "metadata": {
        "id": "7RDAIvnG4oXQ"
      },
      "source": [
        "### Predicting the mean with low variance data"
      ]
    },
    {
      "cell_type": "code",
      "metadata": {
        "id": "Ov8Kko604Nyv"
      },
      "source": [
        "indexNames = train_df[(train_df['variance'] > 1)].index\n",
        "# Delete these row indexes from dataFrame\n",
        "low_v_train = train_df.drop(indexNames, inplace=False)\n",
        "low_v_train = low_v_train.reset_index(inplace=False,drop=True)"
      ],
      "execution_count": null,
      "outputs": []
    },
    {
      "cell_type": "code",
      "metadata": {
        "id": "UDFiJ-HZ42aJ",
        "colab": {
          "base_uri": "https://localhost:8080/",
          "height": 733
        },
        "outputId": "b38db250-91e8-4289-9607-f5244d52e28e"
      },
      "source": [
        "\n",
        "feature_1 = vectorized_seqs_1\n",
        "feature_2 = vectorized_seqs_2\n",
        "\n",
        "\n",
        "# 'feature' is a list of lists, each containing embedding IDs for word tokens\n",
        "train_and_dev = Task1Dataset_double(feature_1,feature_2, low_v_train['meanGrade'])\n",
        "#train_and_dev = Task1Dataset_double(feature_1,feature_2, train_df['variance'])\n",
        "\n",
        "train_examples = round(len(train_and_dev)*train_proportion)\n",
        "dev_examples = len(train_and_dev) - train_examples\n",
        "train_dataset, dev_dataset = random_split(train_and_dev,\n",
        "                                           (train_examples,\n",
        "                                            dev_examples))\n",
        "####Shuffle might need to be true. Check later\n",
        "train_loader = torch.utils.data.DataLoader(train_dataset, shuffle=True, batch_size=BATCH_SIZE, collate_fn=collate_fn_padd)\n",
        "\n",
        "dev_loader = torch.utils.data.DataLoader(dev_dataset, batch_size=BATCH_SIZE, collate_fn=collate_fn_padd)\n",
        "\n",
        "print(\"Dataloaders created.\")\n",
        "\n",
        "loss_fn = nn.MSELoss()\n",
        "loss_fn = loss_fn.to(device)\n",
        "#optimizer = torch.optim.Adam(model.parameters())\n",
        "optimizer = torch.optim.SGD(model.parameters(), lr=0.001, momentum=0.9)\n",
        "\n",
        "\n",
        "train_losses, valid_losses, preds, targs = train(train_loader, dev_loader, model, epochs)\n",
        "plot(train_losses, valid_losses, len(train_losses))\n",
        "plt.scatter(preds, targs)\n",
        "plt.title(\"Predicting the mean with high variance data\")\n",
        "plt.show()\n"
      ],
      "execution_count": null,
      "outputs": [
        {
          "output_type": "stream",
          "text": [
            "Dataloaders created.\n",
            "Training model.\n",
            "| Epoch: 01 | Train Loss: 0.99 | Train MSE: 0.99 | Train RMSE: 0.99 |         Val. Loss: 0.46 | Val. MSE: 0.46 |  Val. RMSE: 0.68 |\n",
            "| Epoch: 02 | Train Loss: 0.39 | Train MSE: 0.39 | Train RMSE: 0.63 |         Val. Loss: 0.35 | Val. MSE: 0.35 |  Val. RMSE: 0.60 |\n",
            "| Epoch: 03 | Train Loss: 0.37 | Train MSE: 0.37 | Train RMSE: 0.61 |         Val. Loss: 0.35 | Val. MSE: 0.35 |  Val. RMSE: 0.59 |\n",
            "| Epoch: 04 | Train Loss: 0.36 | Train MSE: 0.36 | Train RMSE: 0.60 |         Val. Loss: 0.35 | Val. MSE: 0.35 |  Val. RMSE: 0.59 |\n",
            "| Epoch: 05 | Train Loss: 0.36 | Train MSE: 0.36 | Train RMSE: 0.60 |         Val. Loss: 0.35 | Val. MSE: 0.35 |  Val. RMSE: 0.59 |\n",
            "| Epoch: 06 | Train Loss: 0.36 | Train MSE: 0.36 | Train RMSE: 0.60 |         Val. Loss: 0.35 | Val. MSE: 0.35 |  Val. RMSE: 0.59 |\n",
            "| Epoch: 07 | Train Loss: 0.36 | Train MSE: 0.36 | Train RMSE: 0.60 |         Val. Loss: 0.35 | Val. MSE: 0.35 |  Val. RMSE: 0.59 |\n",
            "| Epoch: 08 | Train Loss: 0.36 | Train MSE: 0.36 | Train RMSE: 0.60 |         Val. Loss: 0.35 | Val. MSE: 0.35 |  Val. RMSE: 0.59 |\n",
            "| Epoch: 09 | Train Loss: 0.36 | Train MSE: 0.36 | Train RMSE: 0.60 |         Val. Loss: 0.35 | Val. MSE: 0.35 |  Val. RMSE: 0.59 |\n",
            "| Epoch: 10 | Train Loss: 0.36 | Train MSE: 0.36 | Train RMSE: 0.60 |         Val. Loss: 0.35 | Val. MSE: 0.35 |  Val. RMSE: 0.59 |\n"
          ],
          "name": "stdout"
        },
        {
          "output_type": "display_data",
          "data": {
            "image/png": "[encoded data removed]",
            "text/plain": [
              "<Figure size 432x288 with 1 Axes>"
            ]
          },
          "metadata": {
            "tags": [],
            "needs_background": "light"
          }
        },
        {
          "output_type": "display_data",
          "data": {
            "image/png": "[encoded data removed]",
            "text/plain": [
              "<Figure size 432x288 with 1 Axes>"
            ]
          },
          "metadata": {
            "tags": [],
            "needs_background": "light"
          }
        }
      ]
    },
    {
      "cell_type": "code",
      "metadata": {
        "id": "OywV_GIIcEA1"
      },
      "source": [
        "model.eval()\n",
        "predictions_plot = []  \n",
        "target_plot = []\n",
        "\n",
        "with torch.no_grad():\n",
        "    for batch in dev_loader:\n",
        "        feature, target = batch\n",
        "        feature_1= feature[0].to(device)\n",
        "        feature_2 = feature[1].to(device)\n",
        "        target = target.to(device)\n",
        "\n",
        "        feature = (feature_1, feature_2)\n",
        "\n",
        "        # for RNN:\n",
        "        model.batch_size = target.shape[0]\n",
        "        model.hidden_1 = model.init_hidden()\n",
        "        model.hidden_2 = model.init_hidden()\n",
        "\n",
        "        predictions = model(feature).squeeze(1)\n",
        "\n",
        "        predictions_plot.append(predictions.detach().cpu().numpy())\n",
        "        target_plot.append(target.detach().cpu().numpy())\n"
      ],
      "execution_count": null,
      "outputs": []
    },
    {
      "cell_type": "code",
      "metadata": {
        "id": "UiHARYNGcKt-"
      },
      "source": [
        "#plt.scatter(np.flatten(predictions_plot), np.flatten(target_plot))\n",
        "pred = np.concatenate(predictions_plot, axis=0)\n",
        "trg = np.concatenate(target_plot, axis=0)"
      ],
      "execution_count": null,
      "outputs": []
    },
    {
      "cell_type": "code",
      "metadata": {
        "colab": {
          "base_uri": "https://localhost:8080/",
          "height": 181
        },
        "id": "RgYOu6QfcOQf",
        "outputId": "63f10fc9-b3a8-4c07-f5df-17a20c633c86"
      },
      "source": [
        "plt.scatter(pred,trg)\n",
        "plt.axis('equal')"
      ],
      "execution_count": null,
      "outputs": [
        {
          "output_type": "error",
          "ename": "NameError",
          "evalue": "ignored",
          "traceback": [
            "\u001b[0;31m---------------------------------------------------------------------------\u001b[0m",
            "\u001b[0;31mNameError\u001b[0m                                 Traceback (most recent call last)",
            "\u001b[0;32m<ipython-input-34-606f11f757fe>\u001b[0m in \u001b[0;36m<module>\u001b[0;34m()\u001b[0m\n\u001b[0;32m----> 1\u001b[0;31m \u001b[0mplt\u001b[0m\u001b[0;34m.\u001b[0m\u001b[0mscatter\u001b[0m\u001b[0;34m(\u001b[0m\u001b[0mpred\u001b[0m\u001b[0;34m,\u001b[0m\u001b[0mtrg\u001b[0m\u001b[0;34m)\u001b[0m\u001b[0;34m\u001b[0m\u001b[0;34m\u001b[0m\u001b[0m\n\u001b[0m\u001b[1;32m      2\u001b[0m \u001b[0mplt\u001b[0m\u001b[0;34m.\u001b[0m\u001b[0maxis\u001b[0m\u001b[0;34m(\u001b[0m\u001b[0;34m'equal'\u001b[0m\u001b[0;34m)\u001b[0m\u001b[0;34m\u001b[0m\u001b[0;34m\u001b[0m\u001b[0m\n",
            "\u001b[0;31mNameError\u001b[0m: name 'pred' is not defined"
          ]
        }
      ]
    },
    {
      "cell_type": "markdown",
      "metadata": {
        "id": "pGxxkvn14lyt"
      },
      "source": [
        ""
      ]
    },
    {
      "cell_type": "markdown",
      "metadata": {
        "id": "mJHjgo5XEELW"
      },
      "source": [
        "# BERT VERSION"
      ]
    },
    {
      "cell_type": "markdown",
      "metadata": {
        "id": "huUfT43sLAmc"
      },
      "source": [
        "## Bert Preprocessing"
      ]
    },
    {
      "cell_type": "code",
      "metadata": {
        "id": "_WFKfFOHqyPi"
      },
      "source": [
        "def data_to_list(data, training = True):  \n",
        "  og_headline_list = data['original'].tolist()\n",
        "  edited_headline_list = data['edited'].tolist()\n",
        "  edited_word_list = data['edit'].tolist()\n",
        "  labels_list = None\n",
        "  if training:\n",
        "    labels_list = data['meanGrade'].tolist()\n",
        "  \n",
        "\n",
        "  return og_headline_list, edited_headline_list, edited_word_list, labels_list"
      ],
      "execution_count": 26,
      "outputs": []
    },
    {
      "cell_type": "code",
      "metadata": {
        "id": "Iwe8nrN0zW0x"
      },
      "source": [
        "train_og_headlines, train_edited_headlines, train_edited_words, labels = data_to_list(train_df)\n",
        "test_og_headlines, test_edited_headlines, test_edited_words, _ = data_to_list(test_df, training=False)"
      ],
      "execution_count": 27,
      "outputs": []
    },
    {
      "cell_type": "code",
      "metadata": {
        "id": "LmDdRWrbCs7h"
      },
      "source": [
        ""
      ],
      "execution_count": 27,
      "outputs": []
    },
    {
      "cell_type": "code",
      "metadata": {
        "id": "XC7yLY8L0LHr"
      },
      "source": [
        "def preprocessing(data_list):\n",
        "  preprocessed_data = []\n",
        "\n",
        "  for sentence in data_list:\n",
        "\n",
        "    sentence = re.sub(r'[^\\w\\s\\?\\!]', '', sentence)\n",
        "    sentence = sentence.lower()\n",
        "    preprocessed_data.append(sentence)\n",
        "    \n",
        "  return preprocessed_data\n",
        "\n",
        "train_og_headlines_p = preprocessing(train_og_headlines)\n",
        "train_edited_headlines_p = preprocessing(train_edited_headlines)\n",
        "train_edited_words_p = preprocessing(train_edited_words)\n",
        "\n",
        "test_og_headlines_p = preprocessing(test_og_headlines)\n",
        "test_edited_headlines_p = preprocessing(test_edited_headlines)\n",
        "test_edited_words_p = preprocessing(test_edited_words)"
      ],
      "execution_count": 28,
      "outputs": []
    },
    {
      "cell_type": "code",
      "metadata": {
        "id": "IUoiGvGvz7te",
        "colab": {
          "base_uri": "https://localhost:8080/",
          "height": 66,
          "referenced_widgets": [
            "1a95fecb1b4a4dbbbd44e36ca9dbc21b",
            "536ea8e2ebf04992a462e752cb717019",
            "d4165e152f654e178152e5c2482449da",
            "55b2a7cca42847689dcbbb28ac2e1e1d",
            "41f43ad36677446aaf7fe5e7001ceac6",
            "8caac8a9f9be411ba7317c819bad2d2e",
            "b998666f69ae4a73b6114fe2f52ab949",
            "ec3735061a944e7da8b6b357b411509b"
          ]
        },
        "outputId": "59eb81f1-9585-405d-ace1-156c52eb41f8"
      },
      "source": [
        "tokenizer = BertTokenizer.from_pretrained('bert-base-uncased', do_lower_case=True)\n",
        "# the version that concatenates original sentences and new sentences\n",
        "train_encoded_inputs = tokenizer(train_og_headlines_p, train_edited_headlines_p, padding='max_length', max_length=90, truncation=True, return_tensors=\"pt\")\n",
        "test_encoded_inputs = tokenizer(test_og_headlines_p, test_edited_headlines_p, padding='max_length', max_length=90, truncation=True, return_tensors=\"pt\")"
      ],
      "execution_count": 29,
      "outputs": [
        {
          "output_type": "display_data",
          "data": {
            "application/vnd.jupyter.widget-view+json": {
              "model_id": "1a95fecb1b4a4dbbbd44e36ca9dbc21b",
              "version_minor": 0,
              "version_major": 2
            },
            "text/plain": [
              "HBox(children=(FloatProgress(value=0.0, description='Downloading', max=231508.0, style=ProgressStyle(descripti…"
            ]
          },
          "metadata": {
            "tags": []
          }
        },
        {
          "output_type": "stream",
          "text": [
            "\n"
          ],
          "name": "stdout"
        }
      ]
    },
    {
      "cell_type": "code",
      "metadata": {
        "colab": {
          "base_uri": "https://localhost:8080/",
          "height": 88
        },
        "id": "ebgbzfrm4idz",
        "outputId": "9662182d-572a-4002-e6d5-780b00123e14"
      },
      "source": [
        "train_input_ids = train_encoded_inputs['input_ids']\n",
        "train_attention_mask = train_encoded_inputs['attention_mask']\n",
        "train_token_type_ids = train_encoded_inputs['token_type_ids']\n",
        "train_labels = torch.tensor(labels)\n",
        "\n",
        "train_token_type_ids[0]\n",
        "tokenizer.decode(train_input_ids.tolist()[1])"
      ],
      "execution_count": 30,
      "outputs": [
        {
          "output_type": "execute_result",
          "data": {
            "application/vnd.google.colaboratory.intrinsic+json": {
              "type": "string"
            },
            "text/plain": [
              "'[CLS] pentagon claims 2000 increase in russian trolls after syria strikes what does that mean? [SEP] pentagon claims 2000 increase in russian trolls after bowling strikes what does that mean? [SEP] [PAD] [PAD] [PAD] [PAD] [PAD] [PAD] [PAD] [PAD] [PAD] [PAD] [PAD] [PAD] [PAD] [PAD] [PAD] [PAD] [PAD] [PAD] [PAD] [PAD] [PAD] [PAD] [PAD] [PAD] [PAD] [PAD] [PAD] [PAD] [PAD] [PAD] [PAD] [PAD] [PAD] [PAD] [PAD] [PAD] [PAD] [PAD] [PAD] [PAD] [PAD] [PAD] [PAD] [PAD] [PAD] [PAD] [PAD] [PAD] [PAD] [PAD] [PAD] [PAD] [PAD] [PAD] [PAD] [PAD] [PAD]'"
            ]
          },
          "metadata": {
            "tags": []
          },
          "execution_count": 30
        }
      ]
    },
    {
      "cell_type": "markdown",
      "metadata": {
        "id": "y9brja9zLFR4"
      },
      "source": [
        "## Bert Training/Eval\n"
      ]
    },
    {
      "cell_type": "code",
      "metadata": {
        "id": "IeKy-eWjF9BB"
      },
      "source": [
        "#Hyperparameters\n",
        "train_proportion = 0.8\n",
        "batch_size = 16\n",
        "lr = 5e-5\n",
        "eps = 1e-8\n",
        "epochs = 2"
      ],
      "execution_count": 31,
      "outputs": []
    },
    {
      "cell_type": "code",
      "metadata": {
        "id": "1l6PAI0t4Fbq"
      },
      "source": [
        "class BERT_Dataset(torch.utils.data.Dataset):\n",
        "    def __init__(self, x1, x2, x3, y1):\n",
        "        self.len = x1.shape[0]\n",
        "\n",
        "        self.x1_data = x1.to(device)\n",
        "        self.x2_data = x2.to(device)\n",
        "        self.x3_data = x3.to(device)\n",
        "        self.y1_data = y1.to(device)\n",
        "\n",
        "\n",
        "    def __getitem__(self, index):\n",
        "        return self.x1_data[index], self.x2_data[index], self.x3_data[index], self.y1_data[index]\n",
        "\n",
        "\n",
        "    def __len__(self):\n",
        "        return self.len"
      ],
      "execution_count": 32,
      "outputs": []
    },
    {
      "cell_type": "code",
      "metadata": {
        "id": "cSlXJEGPQlhn"
      },
      "source": [
        "\n",
        "\n",
        "train_and_dev = BERT_Dataset(train_input_ids, train_attention_mask, train_token_type_ids, train_labels)\n",
        "train_examples = round(len(train_and_dev)*train_proportion)\n",
        "dev_examples = len(train_and_dev) - train_examples\n",
        "train_dataset, dev_dataset = random_split(train_and_dev,(train_examples,dev_examples))\n",
        "\n",
        "\n",
        "train_iter = DataLoader(\n",
        "            train_dataset, \n",
        "            sampler = RandomSampler(train_dataset), \n",
        "            batch_size = batch_size\n",
        "        )\n",
        "\n",
        "\n",
        "eval_iter = DataLoader(\n",
        "            dev_dataset, \n",
        "            sampler = SequentialSampler(dev_dataset), # Pull out batches sequentially.\n",
        "            batch_size = batch_size \n",
        "        )"
      ],
      "execution_count": 33,
      "outputs": []
    },
    {
      "cell_type": "code",
      "metadata": {
        "colab": {
          "base_uri": "https://localhost:8080/"
        },
        "id": "NvvC0JgPFRyU",
        "outputId": "4f9e4abd-7835-44ec-c290-d4639043809f"
      },
      "source": [
        "model = BertForSequenceClassification.from_pretrained(\n",
        "    'bert-base-uncased', # the 12-layer BERT model, with an uncased vocab.\n",
        "    num_labels = 1,  \n",
        "    output_attentions = False, # don't return attention weights or hidden states\n",
        "    output_hidden_states = False, \n",
        ")\n",
        "model.cuda()\n",
        "#store double values\n",
        "model = model.double()"
      ],
      "execution_count": 48,
      "outputs": [
        {
          "output_type": "stream",
          "text": [
            "Some weights of the model checkpoint at bert-base-uncased were not used when initializing BertForSequenceClassification: ['cls.predictions.bias', 'cls.predictions.transform.dense.weight', 'cls.predictions.transform.dense.bias', 'cls.predictions.decoder.weight', 'cls.seq_relationship.weight', 'cls.seq_relationship.bias', 'cls.predictions.transform.LayerNorm.weight', 'cls.predictions.transform.LayerNorm.bias']\n",
            "- This IS expected if you are initializing BertForSequenceClassification from the checkpoint of a model trained on another task or with another architecture (e.g. initializing a BertForSequenceClassification model from a BertForPreTraining model).\n",
            "- This IS NOT expected if you are initializing BertForSequenceClassification from the checkpoint of a model that you expect to be exactly identical (initializing a BertForSequenceClassification model from a BertForSequenceClassification model).\n",
            "Some weights of BertForSequenceClassification were not initialized from the model checkpoint at bert-base-uncased and are newly initialized: ['classifier.weight', 'classifier.bias']\n",
            "You should probably TRAIN this model on a down-stream task to be able to use it for predictions and inference.\n"
          ],
          "name": "stderr"
        }
      ]
    },
    {
      "cell_type": "code",
      "metadata": {
        "id": "B6kGoEa-RQn7"
      },
      "source": [
        "optimizer = AdamW(model.parameters(), lr = lr, eps = eps)\n",
        "\n",
        "total_steps = len(train_iter) * epochs\n",
        "# The scheduler can actually learn the best learning rate throughout tranining\n",
        "scheduler = get_linear_schedule_with_warmup(optimizer, num_warmup_steps = 0, num_training_steps = total_steps)"
      ],
      "execution_count": 49,
      "outputs": []
    },
    {
      "cell_type": "code",
      "metadata": {
        "id": "0TrotOmSEG-n"
      },
      "source": [
        "# We define our training loop\n",
        "def train(train_iter, dev_iter, model, number_epoch):\n",
        "    \"\"\"\n",
        "    Training loop for the model, which calls on eval to evaluate after each epoch\n",
        "    \"\"\"\n",
        "\n",
        "    train_losses = np.zeros(number_epoch)\n",
        "    valid_losses = np.zeros(number_epoch)\n",
        "    rmses = np.zeros(number_epoch)\n",
        "    print(\"Training model.\")\n",
        "\n",
        "\n",
        "    for epoch in range(1, number_epoch+1):\n",
        "\n",
        "        model.train()\n",
        "        epoch_loss = 0\n",
        "        epoch_sse = 0\n",
        "        epoch_mse = 0\n",
        "        no_observations = 0  # Observations used for training so far\n",
        "\n",
        "        for input_ids_batch, attention_mask_batch, token_type_ids_batch, target in train_iter:\n",
        "            optimizer.zero_grad()\n",
        "\n",
        "            # get the output\n",
        "            outputs = model(input_ids_batch,\n",
        "                            attention_mask=attention_mask_batch,\n",
        "                            token_type_ids=token_type_ids_batch)\n",
        "            \n",
        "            \n",
        "            predictions = outputs[0].squeeze(1)\n",
        "            loss = torch.sqrt(((predictions - target)**2).mean())\n",
        "           # loss, predictions = outputs[:2] \n",
        "\n",
        "            no_observations = no_observations + target.shape[0]\n",
        "         \n",
        "            sse, mse, _ = model_performance(predictions.detach().cpu().numpy(), target.detach().cpu().numpy()) \n",
        "            \n",
        "            loss.backward()\n",
        "            optimizer.step()\n",
        "            #Update the learning rate.\n",
        "            scheduler.step()\n",
        "\n",
        "            epoch_loss += loss.item()*target.shape[0]\n",
        "            epoch_sse += sse \n",
        "            epoch_mse += mse * target.shape[0]\n",
        "\n",
        "        valid_loss, valid_mse, preds, targs = eval(dev_iter, model)\n",
        "\n",
        "        epoch_loss, epoch_mse = epoch_loss / no_observations, epoch_mse / no_observations\n",
        "\n",
        "        train_losses[epoch-1] = epoch_loss\n",
        "        valid_losses[epoch-1] = valid_loss\n",
        "        rmses[epoch-1] = np.sqrt(epoch_mse)\n",
        "        print(f'| Epoch: {epoch:02} | Train Loss: {epoch_loss:.2f} | Train MSE: {epoch_mse:.2f} | Train RMSE: {np.sqrt(epoch_mse):.2f} | \\\n",
        "        Val. Loss: {valid_loss:.2f} | Val. MSE: {valid_mse:.2f} |  Val. RMSE: {np.sqrt(valid_mse):.2f} |')\n",
        "    return train_losses, valid_losses, rmses, preds, targs"
      ],
      "execution_count": 46,
      "outputs": []
    },
    {
      "cell_type": "code",
      "metadata": {
        "id": "XYoIP1F3EW6W"
      },
      "source": [
        "from sklearn.metrics import mean_squared_error\n",
        "# We evaluate performance on our dev set\n",
        "def eval(dev_iter, model):\n",
        "    \"\"\"\n",
        "    Evaluating model performance on the dev set\n",
        "    \"\"\"\n",
        "    model.eval()\n",
        "    epoch_loss = 0\n",
        "    epoch_sse = 0\n",
        "    epoch_mse = 0\n",
        "    pred_all = []\n",
        "    trg_all = []\n",
        "    no_observations = 0\n",
        "    total_eval_loss = 0\n",
        "\n",
        "\n",
        "    with torch.no_grad():\n",
        "        for input_ids_batch, attention_mask_batch, token_type_ids_batch, target in dev_iter:\n",
        "\n",
        "            no_observations = no_observations + target.shape[0]\n",
        "\n",
        "            outputs = model(input_ids_batch,\n",
        "                            attention_mask=attention_mask_batch,\n",
        "                            token_type_ids=token_type_ids_batch)\n",
        "            \n",
        "            #loss, predictions = outputs[:2] \n",
        "            predictions = outputs[0].squeeze(1)\n",
        "            loss = torch.sqrt(((predictions - target)**2).mean())\n",
        " \n",
        "            # Accumulate the validation loss.\n",
        "            total_eval_loss += loss.item()\n",
        "\n",
        "            # We get the mse\n",
        "            pred, trg = predictions.detach().cpu().numpy(), target.detach().cpu().numpy()\n",
        "            sse, mse, rmse = model_performance(pred, trg)\n",
        "\n",
        "            epoch_loss += loss.item()*target.shape[0]\n",
        "            epoch_sse += sse\n",
        "            epoch_mse += mse*target.shape[0]\n",
        "            pred_all.extend(pred)\n",
        "            trg_all.extend(trg)\n",
        "    \n",
        "\n",
        "    return epoch_loss/no_observations, epoch_mse/no_observations, np.array(pred_all), np.array(trg_all)"
      ],
      "execution_count": 37,
      "outputs": []
    },
    {
      "cell_type": "code",
      "metadata": {
        "id": "QMwsi9MZEkaT"
      },
      "source": [
        "# How we print the model performance\n",
        "def model_performance(output, target, print_output=False):\n",
        "    \"\"\"\n",
        "    Returns SSE and MSE per batch (printing the MSE and the RMSE)\n",
        "    \"\"\"\n",
        "\n",
        "    sq_error = (output - target)**2\n",
        "\n",
        "    sse = np.sum(sq_error)\n",
        "    mse = np.mean(sq_error)\n",
        "    rmse = np.sqrt(mse)\n",
        "\n",
        "    if print_output:\n",
        "        print(f'| MSE: {mse:.2f} | RMSE: {rmse:.2f} |')\n",
        "\n",
        "    return sse, mse, rmse"
      ],
      "execution_count": 38,
      "outputs": []
    },
    {
      "cell_type": "code",
      "metadata": {
        "id": "RvkEIrZJctw8"
      },
      "source": [
        "def calculate_rmse(predictions, labels):\n",
        "    loss = torch.sqrt(((predictions - labels)**2).mean())\n",
        "\n",
        "    return loss"
      ],
      "execution_count": 39,
      "outputs": []
    },
    {
      "cell_type": "code",
      "metadata": {
        "id": "JCArikM9cwG4"
      },
      "source": [
        "import matplotlib.pyplot as plt\n",
        "def plot(num_epochs, train_rmses, valid_rmses):\n",
        "  epochs = list(range(num_epochs))\n",
        "  plt.plot(epochs,train_rmses, label='train')\n",
        "  plt.plot(epochs,valid_rmses, label='valid')\n",
        "  plt.legend()\n",
        "  plt.title(\"BERT Loss Curve\")\n",
        "  plt.xlabel(\"Epochs\")\n",
        "  plt.ylabel(\"RMSE Loss\")\n",
        "  plt.show()"
      ],
      "execution_count": 43,
      "outputs": []
    },
    {
      "cell_type": "code",
      "metadata": {
        "colab": {
          "base_uri": "https://localhost:8080/"
        },
        "id": "2gwAy-noir9I",
        "outputId": "9db74254-960d-4ad6-9ea9-b1cdc4b92426"
      },
      "source": [
        "# Set the seed value all over the place to make this reproducible.\n",
        "random_seed = 42\n",
        "random.seed(random_seed)\n",
        "np.random.seed(random_seed)\n",
        "torch.manual_seed(random_seed)\n",
        "torch.cuda.manual_seed_all(random_seed)\n",
        "torch.backends.cudnn.deterministic = True\n",
        "\n",
        "train_losses, valid_losses, rmses, preds, targs= train(train_iter, eval_iter, model, epochs)\n",
        " "
      ],
      "execution_count": 50,
      "outputs": [
        {
          "output_type": "stream",
          "text": [
            "Training model.\n",
            "| Epoch: 01 | Train Loss: 0.58 | Train MSE: 0.34 | Train RMSE: 0.59 |         Val. Loss: 0.53 | Val. MSE: 0.28 |  Val. RMSE: 0.53 |\n",
            "| Epoch: 02 | Train Loss: 0.46 | Train MSE: 0.22 | Train RMSE: 0.47 |         Val. Loss: 0.52 | Val. MSE: 0.28 |  Val. RMSE: 0.53 |\n"
          ],
          "name": "stdout"
        }
      ]
    },
    {
      "cell_type": "code",
      "metadata": {
        "colab": {
          "base_uri": "https://localhost:8080/",
          "height": 294
        },
        "id": "HzD2lQAbypSO",
        "outputId": "5d7bbf5c-bae1-4c6d-bd9a-16d1c5bd3afe"
      },
      "source": [
        "plot(2, [0.59,0.49], [0.55,0.53])\n"
      ],
      "execution_count": 44,
      "outputs": [
        {
          "output_type": "display_data",
          "data": {
            "image/png": "[encoded data removed]",
            "text/plain": [
              "<Figure size 432x288 with 1 Axes>"
            ]
          },
          "metadata": {
            "tags": [],
            "needs_background": "light"
          }
        }
      ]
    },
    {
      "cell_type": "code",
      "metadata": {
        "colab": {
          "base_uri": "https://localhost:8080/",
          "height": 312
        },
        "id": "CWCscC86sg8d",
        "outputId": "9c8cca03-1e71-4d30-e5ad-66024352af33"
      },
      "source": [
        "plt.scatter(preds,targs)\n",
        "plt.title(\"Predictions versus Target Labels\")\n",
        "plt.xlabel(\"Predictions\")\n",
        "plt.ylabel(\"Target Labels\")\n",
        "mean = np.mean(train_df[\"meanGrade\"].tolist())\n",
        "plt.vlines(mean, ymin = 0, ymax = 2.5, color = 'green', label = \"mean\")\n",
        "plt.legend()\n",
        "print(np.max(preds) - mean)"
      ],
      "execution_count": 51,
      "outputs": [
        {
          "output_type": "stream",
          "text": [
            "1.087227701929302\n"
          ],
          "name": "stdout"
        },
        {
          "output_type": "display_data",
          "data": {
            "image/png": "[encoded data removed]",
            "text/plain": [
              "<Figure size 432x288 with 1 Axes>"
            ]
          },
          "metadata": {
            "tags": [],
            "needs_background": "light"
          }
        }
      ]
    },
    {
      "cell_type": "markdown",
      "metadata": {
        "id": "Klgk-IngaRLa"
      },
      "source": [
        "\n",
        "# Approach 2: No pre-trained representations"
      ]
    },
    {
      "cell_type": "markdown",
      "metadata": {
        "id": "OTBXwqYqKIIB"
      },
      "source": [
        "## Building a word embedding - Gutenberg"
      ]
    },
    {
      "cell_type": "code",
      "metadata": {
        "colab": {
          "base_uri": "https://localhost:8080/",
          "height": 36
        },
        "id": "xuyJefx54KQ_",
        "outputId": "9e80e05b-20f0-4610-ea0c-67db4cd2d284"
      },
      "source": [
        "#Setup\n",
        "nlp = spacy.load(\"en\")\n",
        "#GUTENBERG_DIR = \"/content/drive/MyDrive/Colab Notebooks/NLP_Coursework/ic_nlp_cw/gutenberg\"\n",
        "#Consti\n",
        "GUTENBERG_DIR = \"/content/drive/MyDrive/Imperial_College/NLP_CW/ic_nlp_cw/gutenberg\"\n",
        "\n",
        "#Kevin\n",
        "#%cd /content/drive/MyDrive/Colab Notebooks/NLP_Coursework/ic_nlp_cw\n",
        "#train_df = pd.read_csv('./task-1/train.csv')\n",
        "#test_df = pd.read_csv('./task-1/dev.csv')\n",
        "#extra_train = pd.read_csv('./extra_train_data-3.csv')\n",
        "\n",
        "lemma = True\n",
        "stemming = False\n",
        "\n",
        "wordnet_lemmatizer = WordNetLemmatizer()\n",
        "\n",
        "\n",
        "\n",
        "%pwd"
      ],
      "execution_count": null,
      "outputs": [
        {
          "output_type": "execute_result",
          "data": {
            "application/vnd.google.colaboratory.intrinsic+json": {
              "type": "string"
            },
            "text/plain": [
              "'/content'"
            ]
          },
          "metadata": {
            "tags": []
          },
          "execution_count": 5
        }
      ]
    },
    {
      "cell_type": "code",
      "metadata": {
        "id": "GBwYVhx6Qdkd"
      },
      "source": [
        "#Preprocess headlines\n",
        "train_df['old'] = train_df.apply(lambda x:x['original'][x['original'].find('<')+1:x['original'].find('>')-1],axis=1)\n",
        "train_df['original'] = train_df.apply(lambda x:x['original'].replace(x['original'][x['original'].find('<'):x['original'].find('>')+1], x['old']) ,axis=1)\n",
        "\n",
        "train_embedding_df, dev_embedding_df = train_test_split(train_df, test_size=0.2)"
      ],
      "execution_count": null,
      "outputs": []
    },
    {
      "cell_type": "code",
      "metadata": {
        "colab": {
          "base_uri": "https://localhost:8080/"
        },
        "id": "zHbR38n3XrKu",
        "outputId": "c0a68c82-e899-4f47-c143-aa339e251a15"
      },
      "source": [
        "#Using 18 books Gutenberg Corpus\n",
        "gutenberg_books = []\n",
        "for i, book_name in enumerate(os.listdir(GUTENBERG_DIR)):\n",
        "    book_file = open(os.path.join(\n",
        "        GUTENBERG_DIR, book_name), encoding=\"latin-1\")\n",
        "    book = book_file.read()\n",
        "    gutenberg_books.append(book)\n",
        "    book_file.close()\n",
        "    #if i == 1:\n",
        "    #    break\n",
        "\n",
        "gutenberg_book_lines = []\n",
        "for book in gutenberg_books:\n",
        "    book_lines = book.split(\"\\n\")\n",
        "    book_lines = list(filter(lambda x: x != \"\", book_lines))\n",
        "    #print(book_lines)\n",
        "    gutenberg_book_lines.append(book_lines)\n",
        "    \n",
        "print(gutenberg_book_lines[:5])"
      ],
      "execution_count": null,
      "outputs": [
        {
          "output_type": "stream",
          "text": [
            "IOPub data rate exceeded.\n",
            "The notebook server will temporarily stop sending output\n",
            "to the client in order to avoid crashing it.\n",
            "To change this limit, set the config variable\n",
            "`--NotebookApp.iopub_data_rate_limit`.\n",
            "\n",
            "Current values:\n",
            "NotebookApp.iopub_data_rate_limit=1000000.0 (bytes/sec)\n",
            "NotebookApp.rate_limit_window=3.0 (secs)\n",
            "\n"
          ],
          "name": "stderr"
        }
      ]
    },
    {
      "cell_type": "code",
      "metadata": {
        "colab": {
          "base_uri": "https://localhost:8080/"
        },
        "id": "Eloh_PpEaORC",
        "outputId": "362d7a7e-68b6-4053-b599-0d787c97acb2"
      },
      "source": [
        "#Takes Gutenberg books an tokenizes corpus\n",
        "#WARNING: Takes forever\n",
        "tokenized_corpus = []\n",
        "for book_line in tqdm(gutenberg_book_lines):\n",
        "    for line in book_line:\n",
        "        doc = nlp(line)\n",
        "        tokenized_corpus.append([token.text.lower() for token in doc if not token.is_punct])\n",
        "print(tokenized_corpus[:3])\n",
        "\n",
        "#Use pickle to save corpus to disk\n",
        "pickle.dump(tokenized_corpus, open(\"tokenized_corpus_gutenberg.pkl\", \"wb\"))\n"
      ],
      "execution_count": null,
      "outputs": [
        {
          "output_type": "stream",
          "text": [
            "100%|██████████| 19/19 [29:41<00:00, 93.75s/it]\n"
          ],
          "name": "stderr"
        },
        {
          "output_type": "stream",
          "text": [
            "[['the', 'tragedie', 'of', 'macbeth', 'by', 'william', 'shakespeare', '1603'], ['actus', 'primus', 'scoena', 'prima'], ['thunder', 'and', 'lightning', 'enter', 'three', 'witches']]\n"
          ],
          "name": "stdout"
        }
      ]
    },
    {
      "cell_type": "code",
      "metadata": {
        "id": "DrkwjoYEaol4"
      },
      "source": [
        "#Load corpus from disk if previously pickled\n",
        "tokenized_corpus = pickle.load(open(\"tokenized_corpus_gutenberg.pkl\", \"rb\"))"
      ],
      "execution_count": null,
      "outputs": []
    },
    {
      "cell_type": "code",
      "metadata": {
        "colab": {
          "base_uri": "https://localhost:8080/"
        },
        "id": "mZx4OvVrO9_t",
        "outputId": "89f5ec9b-31ee-4500-b1c2-d3df8628d349"
      },
      "source": [
        "#Remove stopwords from corpus\n",
        "spacy_stop_words = spacy.lang.en.stop_words.STOP_WORDS\n",
        "stemmer = PorterStemmer()\n",
        "\n",
        "tokenized_corpus_rmSW = []\n",
        "for sentence in tqdm(tokenized_corpus):\n",
        "  if stemming:\n",
        "    tokenized_corpus_rmSW.append([stemmer.stem(token) for token in sentence if token not in spacy_stop_words])\n",
        "  elif lemma:\n",
        "    tokenized_corpus_rmSW.append([wordnet_lemmatizer.lemmatize(token) for token in sentence if token not in spacy_stop_words])\n",
        "  else: \n",
        "    tokenized_corpus_rmSW.append([token for token in sentence if token not in spacy_stop_words])\n",
        "tokenized_corpus = tokenized_corpus_rmSW\n",
        "print(tokenized_corpus[:3])\n",
        "print(len(tokenized_corpus))\n",
        "\n",
        "if stemming:\n",
        "  pickle.dump(tokenized_corpus, open(\"tokenized_corpus_gutenberg_SW_stemmed.pkl\", \"wb\"))\n",
        "elif lemma:\n",
        "  pickle.dump(tokenized_corpus, open(\"tokenized_corpus_gutenberg_SW_lemma.pkl\", \"wb\"))\n",
        "else:\n",
        "  pickle.dump(tokenized_corpus, open(\"tokenized_corpus_gutenberg_SW.pkl\", \"wb\"))"
      ],
      "execution_count": null,
      "outputs": [
        {
          "output_type": "stream",
          "text": [
            "100%|██████████| 206631/206631 [00:06<00:00, 32776.80it/s]\n"
          ],
          "name": "stderr"
        },
        {
          "output_type": "stream",
          "text": [
            "[['tragedie', 'macbeth', 'william', 'shakespeare', '1603'], ['actus', 'primus', 'scoena', 'prima'], ['thunder', 'lightning', 'enter', 'witch']]\n",
            "206631\n"
          ],
          "name": "stdout"
        }
      ]
    },
    {
      "cell_type": "code",
      "metadata": {
        "id": "-WAjCUM2oZFe"
      },
      "source": [
        ""
      ],
      "execution_count": null,
      "outputs": []
    },
    {
      "cell_type": "code",
      "metadata": {
        "colab": {
          "base_uri": "https://localhost:8080/"
        },
        "id": "xWVpTmLUduJE",
        "outputId": "44cd2005-6a80-4a79-b186-79e1c0e653a2"
      },
      "source": [
        "#Remove stop words from Headlines\n",
        "spacy_stop_words = spacy.lang.en.stop_words.STOP_WORDS\n",
        "\n",
        "tokenized_headlines = []\n",
        "for headline in tqdm(train_embedding_df.original):\n",
        "\n",
        "  tokenized_sentence = []\n",
        "  doc = nlp(headline)\n",
        "  for token in doc:\n",
        "    if token.text not in spacy_stop_words and not token.is_punct:\n",
        "\n",
        "      if stemming:\n",
        "        tokenized_sentence.append(stemmer.stem(token.text.lower()))\n",
        "      elif lemma:\n",
        "        tokenized_sentence.append(wordnet_lemmatizer.lemmatize(token.text.lower())) \n",
        "      else:\n",
        "        tokenized_sentence.append(token.text.lower())\n",
        "  tokenized_headlines.append(tokenized_sentence)\n",
        "print(len(tokenized_headlines))\n",
        "print(tokenized_headlines[:3])\n",
        "\n",
        "if stemming:\n",
        "  pickle.dump(tokenized_headlines, open(\"tokenized_corpus_headlines_stemmed.pkl\", \"wb\"))\n",
        "elif lemma:\n",
        "  pickle.dump(tokenized_headlines, open(\"tokenized_corpus_headlines_lemma.pkl\", \"wb\"))\n",
        "else:\n",
        "  pickle.dump(tokenized_headlines, open(\"tokenized_corpus_headlines.pkl\", \"wb\"))"
      ],
      "execution_count": null,
      "outputs": [
        {
          "output_type": "stream",
          "text": [
            "100%|██████████| 7721/7721 [01:10<00:00, 109.29it/s]"
          ],
          "name": "stderr"
        },
        {
          "output_type": "stream",
          "text": [
            "7721\n",
            "[['straight', 'stupid', 'incompetent', 'misguided', 'economist', 'adam', 'posen', 'rip', 'trump', 'tariff'], ['trump', 'voter', 'flaw', 'stand', 'president', 'shake', 'thing'], ['trump', 'latest', 'surprise', 'shutdown', 'might', 'be', 'good', 'idea']]\n"
          ],
          "name": "stdout"
        },
        {
          "output_type": "stream",
          "text": [
            "\n"
          ],
          "name": "stderr"
        }
      ]
    },
    {
      "cell_type": "code",
      "metadata": {
        "id": "b1YwV4YAKcQz",
        "colab": {
          "base_uri": "https://localhost:8080/"
        },
        "outputId": "a3d5eb52-1267-4b29-f2dd-4e552d8d7ffd"
      },
      "source": [
        "#add edit words --> adding new word so it is not unknown\n",
        "#Leave this out -> network would otherwise learn that edit is part of the embedding\n",
        "edit_corpus = []\n",
        "for word in tqdm(train_embedding_df.edit):\n",
        "    doc = nlp(word)\n",
        "    if stemming:\n",
        "      edit_corpus.append(stemmer.stem(doc.text.lower())) \n",
        "    elif lemma:\n",
        "      edit_corpus.append(wordnet_lemmatizer.lemmatize(doc.text.lower())) \n",
        "    else:\n",
        "      edit_corpus.append(doc.text.lower())\n",
        "\n",
        "if stemming:\n",
        "  pickle.dump(edit_corpus, open(\"tokenized_edit_corpus_stemmed.pkl\", \"wb\"))\n",
        "elif lemma:\n",
        "  pickle.dump(edit_corpus, open(\"tokenized_edit_corpus_lemma.pkl\", \"wb\"))\n",
        "else:\n",
        "  pickle.dump(edit_corpus, open(\"tokenized_edit_corpus.pkl\", \"wb\"))"
      ],
      "execution_count": null,
      "outputs": [
        {
          "output_type": "stream",
          "text": [
            "100%|██████████| 7721/7721 [00:55<00:00, 138.54it/s]\n"
          ],
          "name": "stderr"
        }
      ]
    },
    {
      "cell_type": "code",
      "metadata": {
        "colab": {
          "base_uri": "https://localhost:8080/"
        },
        "id": "1B8jM8fLLv23",
        "outputId": "9074f123-7206-44da-fe3f-78ef37a8250b"
      },
      "source": [
        "if stemming:\n",
        "  tokenized_corpus = pickle.load(open(\"tokenized_corpus_gutenberg_SW_stemmed.pkl\", \"rb\"))\n",
        "  tokenized_headlines = pickle.load(open(\"tokenized_corpus_headlines_stemmed.pkl\", \"rb\"))\n",
        "  edit_corpus = pickle.load(open(\"tokenized_edit_corpus_stemmed.pkl\", \"rb\"))\n",
        "elif lemma:\n",
        "  tokenized_corpus = pickle.load(open(\"tokenized_corpus_gutenberg_SW_lemma.pkl\", \"rb\"))\n",
        "  tokenized_headlines = pickle.load(open(\"tokenized_corpus_headlines_lemma.pkl\", \"rb\"))\n",
        "  edit_corpus = pickle.load(open(\"tokenized_edit_corpus_lemma.pkl\", \"rb\"))\n",
        "\n",
        "else:\n",
        "  tokenized_corpus = pickle.load(open(\"tokenized_corpus_gutenberg_SW.pkl\", \"rb\"))\n",
        "  tokenized_headlines = pickle.load(open(\"tokenized_corpus_headlines.pkl\", \"rb\"))\n",
        "  edit_corpus = pickle.load(open(\"tokenized_edit_corpus.pkl\", \"rb\"))\n",
        "\n",
        "print(len(tokenized_corpus))\n",
        "print(len(tokenized_headlines))"
      ],
      "execution_count": null,
      "outputs": [
        {
          "output_type": "stream",
          "text": [
            "206631\n",
            "7721\n"
          ],
          "name": "stdout"
        }
      ]
    },
    {
      "cell_type": "code",
      "metadata": {
        "id": "EEZJh-R-8Jbd"
      },
      "source": [
        "#Combine corpus\n",
        "tokenized_corpus = tokenized_corpus + tokenized_headlines #+  edit_corpus"
      ],
      "execution_count": null,
      "outputs": []
    },
    {
      "cell_type": "code",
      "metadata": {
        "id": "8jj9zwZRf7Ql"
      },
      "source": [
        "#Save full corpus\n",
        "if stemming:\n",
        "  pickle.dump(tokenized_corpus, open(\"tokenized_corpus_gutenberg_full_stemmed.pkl\", \"wb\"))\n",
        "elif lemma:\n",
        "  pickle.dump(tokenized_corpus, open(\"tokenized_corpus_gutenberg_full_lemma.pkl\", \"wb\"))\n",
        "else:\n",
        "  pickle.dump(tokenized_corpus, open(\"tokenized_corpus_gutenberg_full.pkl\", \"wb\"))"
      ],
      "execution_count": null,
      "outputs": []
    },
    {
      "cell_type": "code",
      "metadata": {
        "id": "VVbYV-czMDiH"
      },
      "source": [
        "#Load full corpus from pickle\n",
        "if stemming:\n",
        "  tokenized_corpus = pickle.load(open(\"tokenized_corpus_gutenberg_full_stemmed.pkl\", \"rb\"))\n",
        "elif lemma:\n",
        "  tokenized_corpus = pickle.load(open(\"tokenized_corpus_gutenberg_full_lemma.pkl\", \"rb\"))\n",
        "else:\n",
        "  tokenized_corpus = pickle.load(open(\"tokenized_corpus_gutenberg_full.pkl\", \"rb\"))"
      ],
      "execution_count": null,
      "outputs": []
    },
    {
      "cell_type": "code",
      "metadata": {
        "id": "eQ1zM475SKXG"
      },
      "source": [
        "#add special token for BILSTM\n",
        "for i in range(5):\n",
        "  tokenized_corpus.append('???')\n",
        "    \n",
        "pickle.dump(tokenized_corpus, open(\"tokenized_corpus_gutenberg.pkl\", \"wb\"))\n"
      ],
      "execution_count": null,
      "outputs": []
    },
    {
      "cell_type": "code",
      "metadata": {
        "colab": {
          "base_uri": "https://localhost:8080/",
          "height": 419
        },
        "id": "h8RDW9IfQOAJ",
        "outputId": "1faef5a1-019e-424b-c480-5fff717c2376"
      },
      "source": [
        "train_df"
      ],
      "execution_count": null,
      "outputs": [
        {
          "output_type": "execute_result",
          "data": {
            "text/html": [
              "<div>\n",
              "<style scoped>\n",
              "    .dataframe tbody tr th:only-of-type {\n",
              "        vertical-align: middle;\n",
              "    }\n",
              "\n",
              "    .dataframe tbody tr th {\n",
              "        vertical-align: top;\n",
              "    }\n",
              "\n",
              "    .dataframe thead th {\n",
              "        text-align: right;\n",
              "    }\n",
              "</style>\n",
              "<table border=\"1\" class=\"dataframe\">\n",
              "  <thead>\n",
              "    <tr style=\"text-align: right;\">\n",
              "      <th></th>\n",
              "      <th>id</th>\n",
              "      <th>original</th>\n",
              "      <th>edit</th>\n",
              "      <th>grades</th>\n",
              "      <th>meanGrade</th>\n",
              "      <th>old</th>\n",
              "    </tr>\n",
              "  </thead>\n",
              "  <tbody>\n",
              "    <tr>\n",
              "      <th>0</th>\n",
              "      <td>14530</td>\n",
              "      <td>France is ‘ hunting down its citizens who join...</td>\n",
              "      <td>twins</td>\n",
              "      <td>10000</td>\n",
              "      <td>0.2</td>\n",
              "      <td>Isis</td>\n",
              "    </tr>\n",
              "    <tr>\n",
              "      <th>1</th>\n",
              "      <td>13034</td>\n",
              "      <td>Pentagon claims 2,000 % increase in Russian tr...</td>\n",
              "      <td>bowling</td>\n",
              "      <td>33110</td>\n",
              "      <td>1.6</td>\n",
              "      <td>Syria</td>\n",
              "    </tr>\n",
              "    <tr>\n",
              "      <th>2</th>\n",
              "      <td>8731</td>\n",
              "      <td>Iceland PM Calls Snap Vote as Pedophile Furor ...</td>\n",
              "      <td>party</td>\n",
              "      <td>22100</td>\n",
              "      <td>1.0</td>\n",
              "      <td>Coalition</td>\n",
              "    </tr>\n",
              "    <tr>\n",
              "      <th>3</th>\n",
              "      <td>76</td>\n",
              "      <td>In an apparent first , Iran and Israel engage ...</td>\n",
              "      <td>slap</td>\n",
              "      <td>20000</td>\n",
              "      <td>0.4</td>\n",
              "      <td>engage</td>\n",
              "    </tr>\n",
              "    <tr>\n",
              "      <th>4</th>\n",
              "      <td>6164</td>\n",
              "      <td>Trump was told weeks ago that Flynn misled Vic...</td>\n",
              "      <td>school</td>\n",
              "      <td>0</td>\n",
              "      <td>0.0</td>\n",
              "      <td>Vice</td>\n",
              "    </tr>\n",
              "    <tr>\n",
              "      <th>...</th>\n",
              "      <td>...</td>\n",
              "      <td>...</td>\n",
              "      <td>...</td>\n",
              "      <td>...</td>\n",
              "      <td>...</td>\n",
              "      <td>...</td>\n",
              "    </tr>\n",
              "    <tr>\n",
              "      <th>9647</th>\n",
              "      <td>10899</td>\n",
              "      <td>State officials blast ' unprecedented ' DHS mo...</td>\n",
              "      <td>idea</td>\n",
              "      <td>0</td>\n",
              "      <td>0.0</td>\n",
              "      <td>move</td>\n",
              "    </tr>\n",
              "    <tr>\n",
              "      <th>9648</th>\n",
              "      <td>1781</td>\n",
              "      <td>Protesters Rally for Refugees Detained at JFK ...</td>\n",
              "      <td>stewardesses</td>\n",
              "      <td>20000</td>\n",
              "      <td>0.4</td>\n",
              "      <td>Refugees</td>\n",
              "    </tr>\n",
              "    <tr>\n",
              "      <th>9649</th>\n",
              "      <td>5628</td>\n",
              "      <td>Cruise line Carnival Corp. joins the fight aga...</td>\n",
              "      <td>raisin</td>\n",
              "      <td>21000</td>\n",
              "      <td>0.6</td>\n",
              "      <td>marriage</td>\n",
              "    </tr>\n",
              "    <tr>\n",
              "      <th>9650</th>\n",
              "      <td>14483</td>\n",
              "      <td>Columbia police hunt woman seen with gun near ...</td>\n",
              "      <td>cake</td>\n",
              "      <td>32200</td>\n",
              "      <td>1.4</td>\n",
              "      <td>gun</td>\n",
              "    </tr>\n",
              "    <tr>\n",
              "      <th>9651</th>\n",
              "      <td>5255</td>\n",
              "      <td>Here 's What 's In The House-Approved Health C...</td>\n",
              "      <td>food</td>\n",
              "      <td>11000</td>\n",
              "      <td>0.4</td>\n",
              "      <td>Care</td>\n",
              "    </tr>\n",
              "  </tbody>\n",
              "</table>\n",
              "<p>9652 rows × 6 columns</p>\n",
              "</div>"
            ],
            "text/plain": [
              "         id  ...        old\n",
              "0     14530  ...       Isis\n",
              "1     13034  ...      Syria\n",
              "2      8731  ...  Coalition\n",
              "3        76  ...     engage\n",
              "4      6164  ...       Vice\n",
              "...     ...  ...        ...\n",
              "9647  10899  ...       move\n",
              "9648   1781  ...   Refugees\n",
              "9649   5628  ...   marriage\n",
              "9650  14483  ...        gun\n",
              "9651   5255  ...       Care\n",
              "\n",
              "[9652 rows x 6 columns]"
            ]
          },
          "metadata": {
            "tags": []
          },
          "execution_count": 78
        }
      ]
    },
    {
      "cell_type": "code",
      "metadata": {
        "colab": {
          "base_uri": "https://localhost:8080/"
        },
        "id": "xotsPqJ8ayrx",
        "outputId": "92ec77f1-2703-4645-e783-ba1c18ea55bc"
      },
      "source": [
        "#maybe change cut off frequency (all words less than cutoff not relevant -> too many unknowns in this case)\n",
        "def get_vocabulary(tokenized_corpus, cutoff_frequency=1):\n",
        "    vocab_freq_dict = dict()\n",
        "    for sentence in tokenized_corpus:\n",
        "        for token in sentence:\n",
        "\n",
        "            if token not in vocab_freq_dict.keys():\n",
        "                vocab_freq_dict[token] = 0\n",
        "\n",
        "            vocab_freq_dict[token] += 1\n",
        "\n",
        "    vocabulary = set()\n",
        "    for sentence in tokenized_corpus:\n",
        "        for token in sentence:\n",
        "\n",
        "            if vocab_freq_dict[token] > cutoff_frequency:\n",
        "                vocabulary.add(token)\n",
        "                \n",
        "    return vocabulary\n",
        "\n",
        "vocabulary = get_vocabulary(tokenized_corpus)\n",
        "print(\"LENGTH OF VOCAB:\", len(vocabulary), \"\\nVOCAB:\", vocabulary)\n",
        "#No stemming or lemmatization, just punc removal\n",
        "#Before stop word removal 32670\n",
        "#With stop words removal 32393"
      ],
      "execution_count": null,
      "outputs": [
        {
          "output_type": "stream",
          "text": [
            "LENGTH OF VOCAB: 28926 \n",
            "VOCAB: {'shell', 'goal', '1:30', 'ruinationed', 'cordial', 'zeresh', 'tumultuously', 'tree', 'cartload', 'omnivorous', 'omg', 'dislike', 'combatting', 'noun', '24:38', 'belched', 'command', 'twain', 'emulate', 'matin', 'outlaw', 'dreg', 'blows!--there', '41:28', 'chelsea', 'charade', 'sailor', \"pull'd\", 'propped', 'omar', '30:14', 'salma', '25:22', 'impartially', '14:35', 'nigger', \"undimm'd\", 'address', 'chamberlain', 'fleecy', 'evident', 'weaken', 'insidious', 'assai', 'ludim', 'azotus', 'gambolled', '13:6', 'earth', 'wondrous', 'slung', 'maxine', 'campaign', 'waited', 'chapter', 'rat', 'stare', 'townsend', 'darkon', 'sufficed', 'thyatira', 'anointed', 'gittite', 'witnesse', 'restricted', 'dung', 'playfully', 'chaotic', 'prettiest', 'chastity', 'genially', 'jaffa', 'collection', 'age', 'lamplight', 'dusk', 'tumbled', 'spouter', '25:29', 'insolence', 'evolving', 'snowden', 'wrist', 'anti', 'rudiment', 'topaz', 'overall', '35:7', 'metellus', 'bequest', 'transcending', 'peter', '8:55', 'harden', 'grate', 'charlotte', 'obligated', 'awakes', 'ethan', 'vat', 'lifeless', 'gap', 'lipped', 'matter', 'disgrace', 'affluence', '8:41', 'minnith', 'lawrence', 'legatee', 'domed', 'madness', 'lace', 'hallowed', 'outcome', '44:23', 'remonstrating', 'ty', '43:22', 'evangelical', 'pulverizing', 'fawne', 'proofe', 'support', 'multitudinously', 'rubio', 'same!--the', '13:31', 'nemuel', \"pour'd\", 'subscribed', 'groping', 'unctuousness', 'waltz', 'polynesia', '21:14', '24:10', 'golf', 'hemmed', 'showered', 'broad', 'royall', 'fuller', 'advantage', 'deliberately', 'hodges', 'on--', 'shuffled', 'israelitish', 'hull', 'precedence', 'pruninghooks', 'baana', 'administration', 'clangor', 'transcendental', '37:33', '47:11', 'practicable', 'minutest', '2nd', 'catlike', 'wheedled', 'fuel', 'perga', 'agrippa', 'unceasing', 'gospel', 'fertility', 'boris', 'raftsman', '51:18', 'hardened', 'blasphemed', 'sage', 'premeditated', 'sanctified', 'yacht', 'transcendentalism', 'celestiall', 'jetur', 'fish', 'firstborn', 'greene', 'andreessen', 'jaazer', '19:23', 'r.', 'no', 'braines', 'timidly', 'takest', 'baronial', 'metel', 'slaues', 'pasturing', 'preventing', 'ashtoreth', 'foothold', 'knife', 'corp', 'gallantry', 'odd', 'c', 'glitch', 'shasta', 'baleful', 'exhaling', 'circumfused', 'jae', 'crete', 'oppo', 'footage', 'unrelieved', 'embarrass', 'le', 'zoar', 'japheth', '18:12', 'piece', 'defrauded', 'bean', 'famously', 'liketh', 'right', 'discerned', 'aware', 'slayeth', '23:37', 'artillery', 'sniff', 'guinea', 'hermes', '22:18', 'remain', 'studied', 'gripe', 'refreshing', 'gillespie', 'negro', 'supplieth', '1,000', 'mealtime', 'trinity', 'justifieth', 'sociable', 'disjoin', 'sleeplessness', 'revelled', 'carefully', 'staying', 'withal', 'wept', 'whichever', 'pinch', \"unblam'd\", 'exeunt', 'malcolm', 'cup', '39:8', 'magnanimity', \"i've\", 'baser', 'por', 'achieve', 'permanently', 'archway', 'auxiliary', 'skewer', 'weekly', 'pressing', 'purring', 'winch', 'dines', 'whiteness', 'effulgence', 'admah', 'founded', 'extremity', 'shuppim', 'tyrannic', 'cohen', 'you.--', 'detriment', 'credible', 'whoremonger', 'dumbe', 'lying', '7:16', 'venice', 'punched', 'romania', 'sheddeth', 'rhyme', 'presumptuous', 'quakerish', 'unattended', 'adventurous', 'terrific', 'dismisses', 'desperation', 'inaudibly', '11:34', 'chant', 'held', 'rein', 'treaty', 'forgiving', 'derail', '40:13', 'slightingly', 'abed', 'haunting', 'anew', 'unused', 'sundial', '90', 'cavernous', 'cod', 'recouer', 'heat', 'letting', 'todd', 'teare', '2:36', 'officially', 'banishment', 'poultry', 'lancelot', 'oddity', 'temperature', 'agile', 'turnip', 'isolated', '7:67', 'laudable', 'blindsided', 'improve', '<', 'kill', '1:13', 'gat', 'gaze', '7:61', 'accompaniment', 'unclean', 'analytica', 'quickeneth', 'filial', 'eclat', '31:42', 'congratulated', 'hastie', '51:3', 'ha', 'panther', 'estimate', 'nutshell', 'stripling', 'splinter', 'jehozabad', 'sardis', 'adonizedec', 'towring', 'client', '19:42', 'triumphed', '43:26', 'gotten', 'incalculable', 'lender', 'beaver', 'palest', 'nay', 'unwarranted', 'voltaire', 'true--', 'hauling', 'siluer', 'capitall', '43:16', 'child', 'vainly', 'approaching', 'burnished', '24:3', 'teaze', 'wakeful', 'demesne', 'aery', 'baalhermon', 'floor', 'awaiting', 'flock', 'beautifully', 'wren', 'benighted', '88', 'dippeth', 'complete', 'selects', 'straight', 'cavity', 'nazarene', 'heartedness', 'witchcraft', '35:23', 'assert', 'darted', 'sorting', 'think', 'outgoings', 'telem', 'ap', 'legges', 'cried--', 'user', 'bewitching', 'repairing', 'widespread', 'snag', 'teareth', 'her', 'mealy', 'putting', 'meme', 'principally', 'stumpy', 'finery', 'eyed', 'source', 'cleaveth', 'whole', 'slander', 'ruminated', 'rover', '6:24', 'asker', 'lethargy', 'smilingly', 'necessity', 'boko', 'biting', 'shipmen', 'canaan', 'immaterial', 'gouty', '37:13', 'equipment', '26:34', 'bernie', \"nam'd\", 'continues', 'illustrated', '56:3', 'kidd', '31:53', '21:24', 'multiplieth', 'resteth', 'spoilt', 'drudge', \"wreck'd\", 'certify', 'teazing', 'wheresoever', 'accomplish', 'born', 'consternation', 'dodd', 'alexander', 'unable', 'santa', 'surveyed', 'spitted', 'undergrowth', 'liable', 'bewildering', \"batter'd\", 'declaring', 'unvitiated', 'abda', 'ladyship', '5:3', 'patron', 'offing', \"unreach'd\", 'gr', 'bethshemesh', 'exclusively', 'helpe', 'brighter', 'va', 'imperturbe', 'bur', 'ao', 'beget', 'rossmore', \"dispel'd\", 'dug', 'fang', 'aghast', 'separate', 'sweated', 'affably', 'erring', 'agreeableness', 'transpire', 'wint', 'affixed', 'lard', 'worthiest', 'gasp', '50:20', 'quito', 'tashtego', \"hemm'd\", 'talb', 'bite', 'ranged', 'whistle', '20:42', 'pang', 'exaggerate', 'disrupted', 'venturous', 'sceptre', 'dwellest', 'duc', 'manslayer', 'department', 'pilot', 'gleaned', 'beatrice', 'pillared', 'hunted', 'defers', '45:7', 'ninepin', 'agnew', 'handshake', 'convict', 'eunuch', 'straightforward', 'restorative', 'fitter', 'insomuch', 'ebbing', 'begetteth', 'guni', 'hushed', 'shrieking', 'outgrown', 'become', 'covetous', 'mattenai', 'invariable', 'greeue', 'huckleberry', 'sheweth', 'unlimited', 'pen', 'chephirah', 'stew', 'venturing', 'firing', 'nighest', 'apiece', 'bomb', 'atonement', 'jovial', 'enjoins', 'inhabitable', 'apparatus', 'aunt', 'koz', 'rheumatic', '5:5', 'adore', 'woos', 'disturbing', 'tri', 'despiseth', 'intimacy', 'reaiah', 'sen', \"would'st\", 'frown', 'hod', '12:30', 'minded', 'inimitable', 'lowing', 'congressman', 'deceit', 'emerge', 'crunching', 'eliathah', 'leak', '21:1', 'beforetime', 'uncompromised', 'contrition', '7:46', 'paramount', 'satisfies', 'pussy', 'dimmer', 'thro', '13:20', 'hating', 'comprehensive', 'physicke', 'etna', 'herculean', 'infer', 'gainer', 'steepest', 'ah', 'observing', '5:16', 'shalt', 'taper', 'obstetrics', 'arrowes', 'aux', 'causeless', 'michigan', 'tattooings', 'solidly', 'stupidest', 'exorbitant', 'overseas', 'denying', 'ampler', 'em', 'imposes', 'fur', 'consenting', 'counterspy', 'presse', 'ancestry', 'dearer', 'hazarded', 'that--', 'walke', 'fencing', 'shema', 'compassion', 'livid', 'heedfully', 'revenger', 'tuscan', 'unspoken', 'obsolete', '                        ', 'whoso', 'busily', 'congratulation', 'neglecting', 'triton', '                                                          ', 'y.', '11:2', '547', 'avoid', '16:32', 'damne', 'plain', 'unresting', 'pendant', 'runne', 'nation', 'slighting', 'macedonian', 'precipitous', '22', 'alluded', 'superstition', 'converted', 'limbes', 'owne', 'tighter', '14:43', 'brass', 'purse', 'snoop', 'phrensy', 'trouser', 'sulk', 'cherished', 'cavern', 'illaudable', 'merrier', 'aspires', 'fireman', 'enshemesh', 'persuadeth', 'tychicus', 'unreserve', 'towed', 'spue', 'rebut', 'onpolitics', '10:22', 'halting', 'lucid', 'desolate', 'baalah', 'triumphal', 'certainly', 'solemne', 'surname', 'decent', 'godless', 'jeopardized', 'morcar', 'deregulation', 'behest', 'raised', 'calved', 'mistrust', 'wiped', 'bowsman', '1851', 'tolerated', 'accelerate', 'dishonest', 'galeed', 'zechariah', 'ensure', 'toiling', 'weakness', 'seeketh', 'troup', 'unsteadily', 'steadfast', 'selim', 'snob', 'generated', 'improves', 'word', 'lounging', '24:28', 'inexcusable', 'giggle', 'distraction', 'f.c.', 'estranged', 'assail', 'short', 'shepham', 'manx', 'alighted', '19:12', 'vertical', 'numbness', 'proceedeth', 'talked', 'bbq', 'dissuade', 'choicest', 'beheading', 'stupid', 'tahitian', 'informer', 'whereat', 'greet', 'primary', 'meantime', 'contemplate', 'cassock', 'lulled', 'bonus', 'insensate', 'abideth', 'grecian', 'jamin', 'lamenting', 'wanton', 'hayters', 'centenary', 'stowed', 'purity', 'dovelike', 'had--', 'nibbled', 'concussion', \"ne're\", 'mattress', 'bethbarah', 'judge', 'dismiss', 'jason', 'perceiue', 'gleaning', 'clamor', \"one's\", 'unruly', 'workmanlike', 'fastidious', 'cataclysm', 'conceived', 'zurishaddai', 'letteth', 'association', 'remaines', 'wist', 'exultant', 'debacle', 'best', 'electioneering', 'cd', 'liveliness', 'oreb', 'leaned', 'isle', 'coachman', 'unni', 'abinoam', 'nickel', 'suffusing', 'vesper', 'champollion', 'nigh', 'appall', '31:37', 'accusation', 'vail', 'seedes', 'motiues', 'divorcement', 'crossed', 'towing', 'striped', 'furniture', 'later', 'lowering', 'shammai', 'ithran', 'fellowship', 'relinquished', '--thomas', 'splashed', 'avouched', 'anyways', 'graffiti', 'yeeld', 'garret', 'alacke', 'begrimed', 'ecstatic', 'humbleth', 'moluccas', 'stellar', 'madrid', 'rapping', 'backside', 'replied:--', 'presseth', 'iaw', 'resemble', 'dross', 'dementia', 'dothan', 'unaffected', 'joyless', 'sacrificial', 'entry', 'avalanche', 'dealmaking', 'libertad', 'silk', 'euerlasting', 'ono', 'now;--', 'immediately', 'carrier', 'humility', 'indoors', '19:35', 'gown', 'gouge', 'afternoone', 'so.--', 'washpot', 'blithe', 'caught', 'reluctantly', 'abnormal', 'heist', 'out--', 'aggregated', 'fiendish', '47:13', '6:47', 'paved', 'junk', '35:21', 'needlework', 'sharkish', 'pinned', 'wheeze', 'consumes', \"bequeath'd\", 'casualty', 'steakhouse', 'cellphone', 'finance', 'nike', 'fixt', '41:20', 'feverishly', 'mandarin', 'unsophisticated', 'insurrection', 'azore', '37:21', 'sere', 'lesser', 'expresse', 'rebel', 'bezer', 'journalist', 'election', 'crucible', 'confront', 'soon.--', 'milke', '31:45', 'seclusion', 'smoker', 'stoutly', '33:30', 'play-', '14:15', 'session', 'pedestrian', 'alaska', '8:17', 'sputnik', 'commendable', 'tire', 'ipads', 'bloodless', 'squid', 'adulthood', 'fleeting', 'mathematics', '8:9', '65:12', \"kil'd\", 'rnc', 'acceptance', 'bitcoin', 'she.--', 'atom', 'retreated', 'incredibly', 'nineveh', 'manger', 'admitting', 'gape', 'unbecoming', 'volunteer', 'hitting', 'incompetent', 'discovering', 'shua', '44:26', 'chiefly', 'rheumatism', 'during', 'blackmailed', 'virgin', 'outpost', 'eagerly', 'sowed', 'idea', \"impress'd\", '24:44', '32:39', 'haitian', 'becalmed', 'assyrian', 'writes', 'jaywalking', 'intensifies', '31:14', 'eighteenth', 'republican', 'ahasuerus', 'injure', 'dedicating', 'vehicle', 'contemned', 'unstable', '26:49', 'croaking', 'cooperating', 'pharisee', 'slower', 'spider', 'mahli', 'overlooking', 'sumatra', 'rousing', 'reconciliation', 'killeth', '31:46', 'jury', 'tuk', 'glory', '2:7', 'cracke', 'disobey', 'awaits', 'vnfold', 'mattithiah', 'knew', 'puffed', 'fair', 'coventry', 'hindu', 'discussed', 'colonial', 'engineer', 'emitting', 'deepening', '35:12', 'overtakes', 'quire', 'drank', 'acheron', 'growne', 'traffic', 'wonderful', 'famished', 'arthur', 'shake', 'young', 'rephaim', 'tilting', 'gentlemanlike', 'shallow', 'hashabniah', 'castor', 'outburst', 'hoard', 'hanameel', 'commanded', 'ahilud', 'zidon', 'jehoiada', 'ensamples', '14:29', 'threading', 'watered', 'valour', 'geshuri', 'stamping', 'homan', 'recuses', 'unclouded', 'laugheth', 'do?--', 'phony', 'scall', 'meaningless', 'nameless', 'party', 'trustest', 'doomsday', 'secondary', 'parting', 'digestion', 'nehemiah', 'moriah', 'cord', 'outrun', 'sela', '@realdonaldtrump', 'persecution', 'hiding', 'glide', 'awarded', 'unaffectedly', 'conduit', 'him', 'eliphaz', 'otto', 'sturgeon', 'twilight', 'cause', 'hobab', 'frankincense', 'gilt', 'cypress', 'minutia', 'ministring', '4-minute', 'staggered', 'françois', 'publisheth', 'efflux', 'audio', 'uzal', 'fawning', 'laconia', '9:37', '20:22', 'package', 'elm', 'reserving', 'sparkling', 'exercising', 'thrashing', 'automatically', 'joyously', 'undersetters', 'soviet', 'nero', 'encounter', 'pained', 'joint', 'sequel', 'complained', '3:41', 'selectest', 'outrageously', 'happy', 'deflates', 'malawi', 'stating', 'smelled', 'replenished', 'ripening', 'forepart', 'booby', 'endured', 'omnipresence', 'oshea', '9:28', 'elbowed', 'erik', 'accepted', 'powres', 'chimpanzee', 'prescribed', 'imbecility', 'other--', '42:9', 'vendetta', 'saving', 'diest', 'throat', 'jonadab', 'primeval', '                          ', '28:21', 'metropolis', 'helwan', 'manahath', 'troop', 'neptune', 'reviled', 'privilege', 'asian', 'vale', 'fortinbras', '26:50', 'gavest', 'test', '2:28', 'studiously', '28:34', '18:14', 'shortly', 'kentuckian', 'amorite', 'manuring', 'doorstep', 'noonday', 'wrestled', 'scorpion', 'incomplete', 'rear', 'offends', 'fowl', 'travailed', 'it!--it', 'inforced', 'habitually', 'denominated', 'lenox', 'united', 'sunk', 'update', 'lowland', 'jarred', 'emmer', 'emotional', '51:4', 'ambush', 'disparity', 'teazed', 'explanation', '16:44', 'toyle', 'sidonians', 'two--', 'shechem', '2:20', 'indestructible', 'wharf', 'weazell', 'padrona', 'spacex', 'orderly', 'disturb', 'wonderment', 'claude', 'lethe', 'ministration', 'sin', 'notice', 'preference', 'scalia', 'wil', 'curbstone', 'volcanic', 'exasperate', 'thoughtful', '25:30', '49:4', 'mortally', 'bilgah', 'computed', 'remedie', 'unmistakable', 'gentility', 'harodite', 'announcing', 'motive', 'shunning', 'screw', 'naphtali', 'defence', 'returne', 'raft', 'eluding', 'euphrates', 'typewriter', 'imbedded', 'fetter', 'endureth', 'signed', 'helicopter', '50:24', 'detail', '46:9', 'butler', 'effect', \"dress'd\", '20:1', 'bordering', '8:29', 'trending', 'deceased', 'endeavouring', 'jointed', '23:26', '15:38', 'contagious', 'limbo', 'subreddit', 'hatest', 'jaaziah', 'cyberwar', 'edifying', 'landing', 'lucy', 'fitly', 'exemption', 'laide', 'deadening', 'intended', 'conjectured', 'stammered', 'witchery', '49:6', 'cease', 'puppet', '32:26', 'pork--', 'savagely', 'clamped', 'abide', 'prejudiced', 'inroad', 'perched', 'newsletter', 'deemed', 'japhia', 'section', \"encamp'd\", 'avocation', 'artless', 'theame', 'gravy', 'fruitless', 'urchin', 'corpusants', '              ', 'them!--and', \"droop'd\", 'throned', 'lustily', 'unit', 'clay', 'infinitude', 'dispossess', 'math', 'tane', 'dehydration', 'felt--', 'monster', 'extradite', 'farwell', 'stumbleth', '9:42', 'valueless', 'pirathonite', 'robust', 'forgive', 'neglected', 'adjourn', 'extasie', 'stormy', 'asserting', 'borne', 'stilled', 'charted', 'fondest', 'deserting', 'deprived', '22:45', '10:41', 'neck', 'huh', 'stammer', 'harhur', 'contour', 'it?--', 'loafing', 'rodrigo', 'taylor', 'unexpectedly', 'ahitub', 'honoring', \"ebb'd\", 'poked', 'thereto', 'sion', 'disinviting', 'wishers', 'sunwards', 'draughtsman', 'charming', 'marriage', 'scattered', 'crouching', 'rendred', 'accustomary', 'innocency', 'palmerworm', 'aner', '21:3', 'winding', 'stung', 'exported', 'eatable', 'winsome', 'scrap', 'unbounded', '4:46', 'regularity', '3:35', '28:32', 'boaster', 'piteous', 'defied', 'bartholomew', 'bo', '7:70', 'diminute', 'thanet', 'gunner', 'bahurim', 'doubloon', '11:26', 'sloop', 'persuadable', 'royal', '48:24', 'appeares', 'fortification', 'miserable', 'politely', 'pugh', 'uncomfortable', 'mind', 'xviii', 'rufus', 'heeva', '275th', 'steeple', '7:12', 'lydia', 'forcible', 's.', 'devote', 'seaman', 'withhold', 'atrocity', 'ridiculous', 'automobile', 'fateful', '37:38', 'rew', 'weepeth', 'parti', 'detestation', 'saloon', 'disagreeable', 'tiffany', 'auspex', 'strzok', 'distance', '15:48', 'capsizing', 'grievous', '15:47', 'bindeth', 'trance', 'dow', 'selection', 'unfelt', 'circumnavigation', 'detention', 'regrettable', 'wayside', 'gliding', 'pigeon', 'tamar', 'sprint', 'quarrelled', 'crispus', 'licensed', 'mingling', '700,000', '51:15', 'aboue', 'cin', 'bakbuk', 'berating', 'finis', \"glisten'd\", 'engrafted', 'unhealthily', 'hap', 'allah', 'stash', 'deckt', 'glancing', 'sift', '23:32', 'veriest', 'spile', 'sleeper', 'dragoon', 'bursting', 'suspected', 'reinforcement', 'forte', 'harvilles', 'sequah', '26:47', 'galatian', 'caused', 'discomfited', '12:38', 'isaiah', \"polish'd\", 'discoloration', 'forewarning', 'hosea', 'startlingly', '5:31', 'swelling', 'haunted', 'haggi', 'hoarded', 'strenuous', 'meal', 'haze', 'mew', 'begs', 'sanctification', 'lawn', 'tennyson', 'protoplasm', \"vrg'd\", 'truncheon', 'highness', 'safety', '6:39', '47:20', 'chambermaid', 'limber', 'netting', 'fundamentally', 'exterior', '28:35', 'volatile', 'classroom', 'hymen', 'hymenaeus', 'lay', 'meddle', 'enquired', 'audit', 'ethel', 'invited', 'pining', '46:22', 'silently', 'armed', 'reuben', 'greefes', 'lit', 'snare', 'lory', 'equestrian', 'reagan', 'washington', 'aimlessly', 'obdured', 'ponderous', 'thriving', 'electoral', 'disporting', 'spiritless', 'atmosphere', 'timely', 'particularity', 'present', 'reflected', 'gulfe', 'trifling', 'streaking', 'skirmish', 'torre', 'trumpeted', '500', 'accompanied', 'pernicious', 'traueller', 'drive', 'freewoman', 'corresponds', 'daisy', 'incites', 'openness', 'beholdest', 'approving', 'militant', 'him;--but', \"lock'd\", 'particularly', 'fraught', 'mental', 'branding', 'flynn', 'nyt', '4:6', 'burning', 'portrait', 'bethhoron', 'depicting', 'blacke', 'flopping', 'cyrenian', 'strove', 'shirr', '10:39', 'quarrell', 'argued', 'handle', 'libra', 'grumbling', 'avoiding', 'foliage', 'nra', 'spontaneously', 'bated', 'physical', 'cheerfuller', 'martha', 'anguish', 'refinement', 'noting', 'pamphylia', 'shishak', 'limited', '7:18', '40:21', 'volt', 'allegeance', 'decreased', 'kedemah', 'compiles', 'tattered', 'sicily', 'trick', 'charlie', 'probation', 'becamest', 'perishing', 'accomplishing', 'exceedingly', '235', 'dulcimer', 'gluttonous', 'when--', 'peor', 'pomp', 'briskly', 'bruising', 'mocker', '5:29', '16:1', 'lunar', 'worthless', 'store', '27:1', 'imputing', 'heshbon', 'thunderbolt', 'floweth', 'presidency', 'each', 'absolutely', 'serveth', 'pakistan', 'warding', 'heifer', 'dragging', 'loue', 'plaguing', 'fathomless', 'fallacious', 'life', 'speak', 'recalling', 'magdiel', '53:2', 'abijah', 'chill', 'vexed', 'proportioned', 'braggart', 'adiel', 'u.s.-led', 'lighting', 'scramble', 'protesting', 'expanse', 'ephesian', 'contempt', 'housing', 'burnes', 'cling', 'adar', 'hart@pobox.com', 'pope', 'deeper', 'unrestrained', 'holon', '5:37', 'imnah', 'darkly', 'scotchman', 'remainder', 'axe', 'nebuchadrezzar', 'distributing', 'stroll', 'postillion', 'glencore', 'cornwall', 'gamesome', 'foundation', 'hushathite', 'bouncing', 'lore', 'ram', '11:43', 'disregard', 'favourable', 'slowest', 'mcdonald', 'snarled', 'trice', 'ahiman', 'bounteous', 'bethmaachah', 'prosecuted', 'bernstein', 'financial', 'duellist', 'distinct', 'dasheth', 'abruptness', 'boughes', 'pomegranate', 'confesses', 'penetration', 'elliott', 'degrading', 'blest', 'conceiving', 'curtain', 'disappointing', 'fiddler', 'vicinity', 'especially', 'telmelah', 'composition', 'yorkshire', 'sneering', 'mistah', 'scoured', 'pearle', 'fountain', \"o'reilly\", 'testifiedst', 'analysing', 'spd', 'halved', 'prosperously', '33:31', 'citizenship', 'alphaeus', 'dainty', 'maryam', 'subsiding', 'seuen', 'agar', 'abolished', 'target', 'paran', 'slim', '3:10', 'vncle', 'government', 'harke', 'undecided', 'nabob', 'timber', 'regular', 'hughes', 'treating', 'signifie', 'enjoy', 'preternatural', 'conservation', '42:16', 'seethe', 'gubernatorial', 'seised', 'suliman', 'eightieth', 'michmethah', '11:12', 'mccarthy', 'drave', 'bethink', 'purified', 'legacy', 'slovak', 'salt', \"illumin'd\", 'greets', 'forego', 'broiled', 'grog', 'complimented', 'whitebait', 'unworldly', 'acknowledging', '23:42', 'rhea', 'joky', 'faint', 'urging', 'unveil', 'confectioner', 'yond', 'montano', 'shunammite', 'mail', '50:14', 'fifteenth', 'seeme', 'ducked', 'jig', '26:39', 'grievance', 'u.n.', '7:48', '2:34', 'resemblance', '28:42', 'sedentary', 'netanyahu', 'belongeth', 'zerahiah', 'cornelius', 'rand', 'undiscerning', 'l.a.', 'cycle', 'hopped', 'precedes', 'azriel', 'expediency', 'disgusting', 'affectation', 'genus', 'where', 'chatting', 'amalek', 'indiscretion', 'obligingly', 'integrity', 'revise', 'each--', 'trading', 'thatch', 'wooden', 'myraculous', 'brun', 'platform', 'pie', 'oblivion', 'bottomless', 'arched', 'vividly', 'bulke', 'crib', 'seale', 'whine', 'cecil', 'vntimely', 'maelstrom', 'emperor', 'escalate', 'incumbered', 'compunction', 'representing', 'spreadeth', 'presage', 'lose', '31:13', 'ignorantly', 'bristol', '64:6', 'distrust', 'dose', 'twixt', 'hovering', 'hydrus', 'readeth', 'top', 'industrious', '7:27', 'maaziah', 'allowing', '21:36', 'ordinary', 'awry', 'crowded', 'roughly', 'charitable', 'fold', 'ultrasonic', 'brakest', 'suppresse', 'illegitimacy', 'clog', 'whipping', 'sycamore', 'ishmaelites', 'forger', 'wretchedly', 'musketry', 'flexibility', '28th', '9:4', 'arabah', 'quayle', 'joe', 'irrelevant', 'oppidan', 'talbot', 'estimation', 'pacifying', 'juda', 'texan', 'campaigning', 'queerer', 'nasty', 'semitic', 'travaileth', 'budge', '2:02', '3:39', 'adullamite', 'wantonness', 'alway', 'unlawful', 'postmaster', 'cruellest', 'vowes', 'espousal', 'unreasonableness', 'describe', 'gleamed', 'riposted', 'elector', 'scurrying', 'revolving', 'emergency', 'casket', 'accuser', '30:7', 'airstrikes', 'conformity', 'inevitable', 'reluctant', 'butt', 'bamoth', 'calculated', 'marine', 'ii', 'g-7', 'sounded', 'witherspoon', 'besor', 'populist', 'reaction', 'loveliness', 'yon', 'conducting', 'psychological', 'luminary', 'xiaobo', 'impendent', 'recluse', 'candy', 'answerable', 'couched', 'purposely', 'bestirred', 'flattered', 'stroke', 'magdalene', 'inspiring', 'disobeying', 'retarding', 'fittest', 'bud', 'grass', 'controlled', 'activity', 'muezzin', 'cough', 'publius', 'cubic', 'correlative', 'talkative', 'lance', 'deceptive', \"strew'd\", 'possession', 'abiathar', 'prouoke', '9:35', 'awed', 'vent', 'travelling', 'locust', 'feeling', 'dilemma', 'jumper', 'formidable', 'jonas', '1:43', 'cobweb', 'crusoe', 'candle', 'reference', 'erected', 'plenteous', 'nantucketer', 'ineffectually', 'alliance', '7:9', 'patagonian', 'buckskin', 'shoulderpieces', 'succoured', 'hacking', 'snl', '5:43', 'trader', 'livelihood', 'saturday', 'chaste', 'resistless', 'perquisite', 'corporation', 'wot', 'endeavor', 'gam', 'billow', 'beauteous', 'merger', 'pavilion', 'betraying', 'drop', 'endwise', 'prick', 'remembering', 'universal', 'allay', 'swet', 'villars', 'locket', 'remote', 'pisidia', 'kurt', 'stress', 'sandberg', 'tired', \"th'art\", 'igniting', 'indus', 'forthwith', 'drawest', 'sunburnt', 'plaiting', '5:8', 'meryl', 'catch', \"unform'd\", '49:27', 'reacting', 'sensation', 'amiss', 'dong', 'blunted', 'bernice', 'surely', 'encircling', 'musing', '                                             ', 'juicy', '3:16', 'prevent', '31:31', 'reprehensible', 'executed', 'tasted', 'weepe', 'irrespective', 'summit', 'glencoe', 'calmed', 'worldwide', 'taxman', 'indite', 'pip', 'prosecute', 'pleasantest', 'pornhub', 'rind', '29:1', \"finger'd\", '50:12', 'pounding', 'diligently', 'soleil', 'hawking', 'geshur', 'resina', 'gayety', 'tusk', '31:29', 'elishama', 'azzah', 'slavish', 'tear', 'mast', 'elah', 'regularly', 'humid', 'thane', '7:10', 'saturn', 'surprise', 'vacancy', 'concealing', 'dirtied', '4:38', 'jezreelite', '10:9', 'firstling', 'intrepidity', 'opposition', 'psaltery', 'stag', 'jotbathah', 'literally', '52:10', 'withstood', 'elsa', 'hopefully', 'ave', 'mile', 'alamo', '63:9', 'bashaw', 'ail', 'priesthood', 'compels', 'actually', 'killedst', 'henry', 'saucer', 'ape', 'running', '15:54', 'mandatory', 'salmon', 'baghdad', '64:4', '14:11', 'baseball', 'idiot', 'unnoticed', 'revellings', 'informant', 'coming', 'heartland', 'experience', '30-day', '14', 'mushroom', 'spirit', 'stronghold', 'shower', 'convulsively', 'cox', 'discharge', 'adnah', 'weakeneth', 'history', 'drowsiness', 'contiguous', 'feathery', '36:31', 'encountered', 'frederick', 'midget', 'remotely', 'wisedome', 'census', 'canaller', '7:24', 'picked', 'beale', 'merrily', 'strain', 'unrest', 'settled', '49:9', 'belie', '10:19', 'patient', 'customer', 'dc', '11:46', 'olivet', 'profiteth', 'bountiful', 'drury', 'inconstant', 'clarence', 'nikki', 'singleness', 'greeting', 'hamor', 'cuckoo', 'restive', 'shine', 'ablaze', 'manet', 'to', 'carelessly', 'zeeb', 'hieroglyphic', 'thereon', 'eveningtide', 'varley', \"warm'd\", 'foole', 'abetted', 'attire', 'embark', 'commonly', 'weigh', 'dwarfed', 'resorting', 'spiritualist', 'butcher', 'deposition', 'start**the', 'foam', 'threshed', 'dina', 'ingrate', 'marianne', 'timor', 'sprinkleth', 'spoiler', '18:28', 'discourage', 'blood', 'chastening', 'exerting', 'inaudible', 'aria', 'vanquished', 'mocketh', 'maintained', 'equivalent', 'define', 'discovered', 'wench', 'defends', 'unknown', 'hayter', 'blanc', 'confronting', \"deform'd\", '19:8', 'beijing', 'zabdi', 'edified', 'frantic', 'restrict', 'exhaustless', 'aristarchus', 'penetrated', 'ephraim', 'portent', 'indomitableness', 'health', 'tub', 'levite', 'restoration', \"assur'd\", 'ado', 'trying', 'surroundings', 'molech', 'zuar', 'alexandria', 'iniquity', 'allemaine', 'recognise', 'anbang', 'fainter', 'battersea', 'landed', 'joshua', 'shadiest', '3-year', 'encouragement', 'tick', '15:43', 'archippus', 'descending', 'following', 'wellbeloved', 'scaled', 'indemnity', 'inventor', 'galore', 'outdone', 'nodded', 'indulging', 'scotcher', 'testament', '2:17', 'judgest', '38:13', 'judiciously', 'topt', 'abashed', 'calvary', 'commoner', '20-week', 'aught', 'hidest', 'fleetness', 'clothe', 'moladah', 'religious', 'tamerlane', 'macd', '10:34', '26:57', 'asunder', 'offensively', 'thing--', 'neared', 'whosoever', 'toilet', 'toad', 'badger', 'gong', 'putteth', 'm.', 'casual', 'vulgarity', 'strawes', 'elevating', 'arab', 'jealousy', 'kenny', 'sheepe', 'meraioth', 'talke', '15:27', 'gedaliah', '16:46', '56:11', '6:23', 'formes', 'denote', 'piper', 'james', 'joiner', '38:28', '49:1', 'develop', 'windowes', 'inscribed', 'philosophical', 'cuban', 'rainbow', 'destination', 'oblique', '17:8', 'twisting', 'withdraw', 'pendulous', 'sieve', 'quakeress', 'sperm', 'unquiet', 'affair', 'notebook', 'inferior', 'amminadab', '49:2', 'whittling', 'dazed', 'sport', 'amramites', 'mikneiah', '7:26', 'honiton', 'armenia', 'theophilus', 'prediction', 'rooted', 'pampered', 'host', 'rearing', 'bale', 'signify?--for', 'ives', '31:8', 'raiser', 'defeating', 'jahveh', '26:7', 'somewhere', 'quote', 'subtlest', 'gdp', '6:26', 'an', 'upturned', 'promise', 'pike', 'commend', 'respecting', 'importunate', \"curv'd\", 'longed', 'specie', 'subject', '12:31', 'afresh', 'appaim', 'revilings', 'flieth', 'requiring', '25:9', 'uncreated', 'binding', 'brutus', 'acid', 'climb', 'weaker', 'showts', 'relic', 'invaluable', 'syndrome', 'melodramatic', 'fillest', 'memorable', 'hottest', 'shearing', 'seychelles', '21:35', 'lamppost', 'bellona', 'c.', '45:1', 'shrub', 'erewhile', 'cloth', 'attendance', 'mcenany', 'caw', 'instruction', '25:28', 'movie', 'middleton', 'snow', 'woodhouse', 'gallim', 'stained', 'prior', 'decay', 'birthright', 'intimate', 'gaseous', 'burnishing', 'path', 'v.', 'thicker', 'intrigue', 'heron', \"wander'd\", 'spittle', 'vital', 'grab', 'venerable', 'contestant', 'attended', 'gnasheth', '7:44', 'kirheres', 'hilarity', 'ob', 'upgrading', 'shur', 'paradise', 'tare', 'buoyantly', '6:65', 'chiselled', 'gibson', 'moose', 'defilement', 'feebler', 'hushai', 'milcah', '17:15', 'swerving', 'diklah', 'bithynia', 'symptom', 'merom', 'feares', 'revision', \"lower'd\", 'dispel', '18:7', 'radically', 'romancing', 'palin', 'stockinged', 'tertullus', 'zerah', 'saturate', 'reputed', 'access', 'patience', 'justified', 'wonder', 'lifting', 'subsequent', 'baronetage', 'cruel', 'sence', 'leadest', \"a'n't\", 'outwit', 'whet', 'fulham', 'inquisition', 'lately', 'awe', 'impose', 'flummery', 'awkwardness', 'unrewarded', 'acknowledgement', '16:3', 'toss', 'proclaime', 'philippic', 'mrs.', 'pompeo', 'titanic', 'emptying', 'detained', 'languish', 'could', 'hoped', 'sware', 'pecking', 'draft', 'chasteneth', 'hoky', \"they'l\", 'hang', 'enmity', 'sperma', 'suffocate', 'notoriety', 'leave--', 'jebusite', 'hurl', 'contrasted', '17:13', 'marke', 'deathless', 'entirely', 'disposition', 'footman', 'immediate', 'representation', 'teeming', 'hereditarily', 'principle', 'drip', '9:1', 'astray', 'bunk', 'brilliant', 'conniving', 'bethhaccerem', 'shun', 'ghostly', 'geshem', 'straightway', '35:24', 'conspirator', 'mole', 'bull', 'puritan', 'picnic', 'requireth', 'paw', 'sanctity', 'eightpence', 'adelson', 'tennessee', 'drama', 'unbending', 'drinking', 'gorse', 'ragged', 'aerial', '15:26', 'constancy', 'sleepless', 'allowable', '20:14', 'taurus', 'inexpressible', '24:51', 'philosophs', 'azem', '140,000', 'opium', 'deity', 'winne', '21:27', 'disinterred', 'infantry', 'nightclub', 'ile', 'inheriting', 'rezeph', 'daniel', 'prospereth', 'journey', 'delightfully', 'conclusive', \"drugg'd\", 'spectator', 'nobler', 'christopher', 'roasted', 'whiplash', '34:35', 'possessed', 'tendon', 'supermarket', 'discover', 'hosanna', '6:43', 'prep', 'quickening', 'press', 'spooning', 'obnoxious', '9:19', 'development', '24:31', 'romish', 'finger', 'bridge', '29:26', 'spine', 'omniscient', 'taken', 'ally', 'precipitate', 'proclamation', 'premier', '61:6', 'glittered', 'flattening', '26:54', 'spews', 'amateur', 'dear', 'using', 'volvo', 'upholdeth', '39:5', 'rigidity', '44:28', 'enjoys', 'schoolgirl', 'void', '37:14', 'allegory', 'verbal', 'oil', 'scullion', 'indistinctness', 'careering', 'akrabbim', 'shapeless', 'impassable', 'loyall', 'adorn', 'idaho', 'striveth', 'stumblingstone', '3:40', 'former', 'glumpe', 'testily', 'speede', 'intelligible', \"by'th\", 'deferential', 'tranquil', 'alley', 'obliquity', 'mumbling', 'guessing', 'fenced', '28:40', 'kittim', 'prosper', 'communicating', '66:5', '65:9', 'unluckily', 'counteth', 'hatefull', 'stiffnecked', 'detect', 'pershing', 'kayleigh', 'nephthalim', 'bali', 'snatch', 'shaaraim', 'jehoash', 'spunge', 'mattock', 'told', 'maxim', 'espoused', '18:23', 'pinckwerts', 'upbraided', 'fretted', 'waxwork', 'hove', 'vase', '30:3', 'dorsal', 'l.', 'suppress', 'discard', '23:30', 'plato', 'rending', 'wholly', 'lovest', 'consuming', 'yarn', 'femme', 'literal', 'operative', '26:31', 'binary', 'knewest', 'galway', 'tainted', 'interpolation', 'gideoni', 'heathen', 'arkansas', 'shading', '59:9', 'keeping', 'signe', 'wrestler', 'theresa', 'preserveth', 'advertisement', 'revival', 'souldier', 'kansa', 'treb', 'jerked', 'ample', '12:44', 'flogging', 'italian', '13:49', 'awful', 'scowled', 'chrysalis', 'burly', 'anarch', '48:13', 'it.--but', 'centrifugal', '23:27', 'u.s', 'preuention', 'adhesiveness', 'unskilful', 'enormousness', 'facilitating', 'compulsion', 'suspiciously', 'same', 'came', 'summons', 'tribulation', 'shiite', 'incoherent', 'cherry', 'singled', 'repenteth', 'tropic', 'rowed', 'greatnesse', \"scatter'd\", 'haggai', 'sufficeth', 'mibsam', 'adummim', 'communicated', 'shaalbonite', '26', 'fight', 'shovel', 'myself--', 'satisfieth', 'disregarded', 'stile', 'friendliness', 'habit', 'longstaple', 'taint', 'intermixed', 'reasonable', '6:44', 'prescient', 'grilled', 'languisheth', 'makkedah', 'prevented', 'horizontally', 'competence', 'aggressive', 'tortuous', 'swarm', 'ignorance', 'dilapidated', 'continual', 'cordially', 'nibble', 'hampstead', 'slobbering', 'sore', 'tingle', 'poke', 'adored', 'play', 'suffused', 'offspring', 'virtue', 'amorous', 'hardening', \"affear'd\", 'variance', 'attempt', 'enan', 'nebajoth', 'sojourned', 'motion', 'mathematical', 'ramoth', 'dissolved', 'baalperazim', 'courier', 'galileo', 'neighbor', 'murth', 'unpunished', 'bombay', 'nill', '2:33', 'samaria', 'emit', 'livy', 'email', 'notre', 'marrying', 'rabelais', 'mallothi', 'sloped', 'belongs', 'discouery', 'concludes', 'panel', 'creates', 'surge', 'imp', 'wealthiest', 'compel', 'peddle', \"rack'd\", 'acknowledged', 'durbin', 'besides', 'psychiatric', 'familiarity', 'fanshaw', 'zimbabwe', 'clown', 'habitue', 'wildely', 'anarchy', 'partial', 'conjugal', 'chaff', 'pretending', 'crudely', 'choral', \"ioyn'd\", 'condensation', 'azekah', 'lawsuit', 'jude', 'poetic', 'airbnb', 'sheepfold', 'deafe', 'singapore', 'obtain', 'boarded', 'apt', 'began--', 'hiddekel', 'alleghanies', 'track', 'mainsail', '40:15', 'populous', 'crypto', 'fellow', 'soup', 'turk', '23', 'equanimity', 'gratification', 'buster', 'saline', 'fluke', 'fooled', 'sprinkle', 'hasted', 'inured', 'cure', 'daunting', 'balmy', 'earthy', 'emerson', 'incredulously', 'telescopic', 'appliance', 'gentry', '32:31', 'scoop', 'languishes', 'doze', 'breathest', 'behold', 'insure', 'skie', 'talketh', 'illustrates', 'betharabah', 'warred', 'screwing', 'abishur', 'suggests', 'squall', 'barnacled', 'silencing', 'beelzebub', 'wildfire', 'braced', 'carouse', \"chain'd\", 'bodkin', 'rigid', 'azure', \"dispos'd\", 'taxed', 'relay', 'breakfast', 'apprehended', 'vocalist', 'tossings', 'begged', '18th', 'jeshimon', 'tricke', 'expired', 'voicelessly', 'apoplectic', 'wilks', 'astride', 'agone', 'customary', 'eligibility', 'freeing', 'mutual', 'cop', 'direction', '29:30', 'quantity', '462', 'fused', 'scarsely', 'underlie', 'meaner', 'hears', 'unwell', 'stifle', 'tiny', 'loomed', 'account', 'lapped', 'bandied', 'jammed', 'pai', 'peer', 'quake', 'punctilious', 'disconsolate', 'untouchable', 'shuttle', 'predicted', 'flay', 'wasserman', 'strowed', 'doorway', 'publisher', 'sayes', 'nobility', 'widest', 'languished', 'kirjathsepher', 'wheeled', 'johnny', 'resolutely', 'denuclearization', 'creditloan', 'circus', 'privately', 'extract', 'extol', 'marked', 'diligent', 'creditor', 'pretended', 'highbury--', 'rude', 'ruby', 'concave', 'scampering', 'cloudy', '19:43', 'calming', 'liberated', '44:15', 'singeth', 'ruffian', 'sharif', 'ankers', 'mehujael', 'pureness', 'shoreless', 'quaking', 'ruder', 'distinguish', 'sesame', 'bye', 'highbury', 'uri', '18:10', 'stolidly', 'snowed', 'despising', 'preached', 'sheepcote', 'presentiment', 'bethrehob', 'trust', 'language', 'raving', 'jarah', 'manilla', '44:19', 'earing', 'slayer', 'favorability', 'halibut', 'traveler', 'grassy', 'underrated', '28:3', 'pianoforte', 'boost', 'rapidity', 'cadaverous', 'swalwell', 'geun', 'captaine', 'devouring', 'zelda', 'maacah', 'minus', 'geshurites', 'bile', 'concerned', 'tunnel', 'shewn', 'fixing', 'afire', 'thirtyfold', 'displease', 'inviolable', '89', 'fidget', 'mean', 'deathly', 'guiding', 'accountable', 'spired', 'matrix', 'shushan', 'jemuel', 'marmalade', 'halfpenny', 'confinement', 'confesse', 'voucher', 'sarcasm', 'inauguration', 'undertaking', 'untried', 'carve', 'triangular', 'seriousness', 'admitted', 'regeni', 'allegation', 'upholden', 'occupied', 'taiwan', 'unmasks', 'redeemed', '44:20', 'carried', 'relinquishing', 'iddo', 'nat', 'vocalism', 'tertiary', 'bash', 'flag', 'ore', 'troll', 'coniah', 'it;--', 'rep', 'mad', 'placid', 'monstrous', 'switch', 'weed', 'fishery', 'gurglings', 'saying,--', 'stopped', 'academy', 'naphish', 'deplorable', 'co', 'exaggeration', 'defyingly', '2.6', '2:41', 'fantasie', 'confection', 'appears', 'sealeth', 'goodnesse', 'toll', 'superstitiousness', 'expels', 'putin', 'mattathias', 'hal', 'laboring', 'tug', 'confirmation', 'aggregation', 'parmacetti', 'streetes', 'hooded', 'eltekeh', 'exhortation', 'throughout', 'clover', 'trace', 'betake', 'sacred', 'swathed', '7:7', 'delirious', 'pleased', 'ousts', 'entrapped', 'saumur', 'occupation', 'aileth', 'shobab', 'spacious', 'denies', 'sparke', 'liberally', 'fret', 'staring', '773', 'pony', 'loitering', 'hama', 'mythology', 'quintessence', 'constituent', 'diver', 'comfortably', 'moan', 'benejaakan', 'bogberries', 'coincidence', 'dented', 'excrementitious', 'singularly', 'fatall', 'pontiff', 'weeding', 'eccentric', 'slanting', 'rebellious', '22:13', '34:28', 'ditto', 'babbler', 'jediael', 'slimy', 'hillock', 'vulnerable', 'nightly', 'sticky', 'multiplying', 'sealed', 'vnseene', 'eateth', 'uzziel', 'recollection', 'sperry', 'oppressed', 'mirthful', 'turnstile', 'shrinking', 'despatched', 'iowa', 'hundredfold', 'fundraising', 'wilde', 'confidence', 'ostentatiously', 'peddling', 'sphynx', 'remaliah', 'tying', 'room--', 'chasten', 'signal', 'feigned', 'knop', 'edifieth', 'trusteth', 'sallow', 'windsor', 'mouthful', 'jabin', 'greed', 'banged', 'provide', 'foundest', 'sunlit', 'shold', 'vial', 'thicket', 'bing', 'cleaved', '38:29', 'wrong', 'muttering', 'hayle', 'dangerous', 'hadar', 'dictating', 'dle', 'contemptible', 'strategist', 'subsist', 'streamer', 'tickled', 'steerer', 'pundit', 'dyspeptic', 'weakly', 'foible', 'conciliate', 'sentence', 'encourages', 'sparkled', 'rivet', 'profoundest', 'influential', '19:45', 'punished', 'soda', 'automaker', 'striven', 'celebrate', 'toothpick', 'eliakim', 'wagon', 'upturn', 'walt', 'irremediable', 'paddled', 'lending', 'morbidity', 'handbreadth', 'jenny', 'cathaian', 'moorish', 'coined', 'brittle', 'soliloquy', 'bashan', 'rocked', 'sweep', 'retrenchment', 'conspiracy', 'submerged', 'leer', 'magnetic', 'bombed', 'occasion', 'fearless', 'wisconsin', 'tout', 'stumbling', 'falsified', 'extinction', 'powered', 'predicts', 'heedfulness', '41:12', 'concentric', 'blonde', 'cinnamon', 'sunset', 'inaguration', 'courtyard', 'complacent', 'turned', '34', 'departure', 'accosted', 'lusty', 'buryingplace', 'joker', 'tricked', 'stopt', 'profess', 'mustering', 'haply', 'bird', 'camp', '4:8', '1:17', \"impon'd\", 'sacrificeth', 'loudest', 'immaculate', 'thinning', 'o’keefe', \"envelop'd\", 'imri', 'undistinguished', 'scorne', 'samuel', 'shelf', 'cabman', 'antiquarian', 'ticking', 'stuffed', 'deserues', 'booz', 'instant', 'convulsive', 'combining', 'sulphur', 'company', 'satanic', 'soliloquized', 'anomalously', 'clifton', 'engrave', 'pennon', 'horites', 'mesopotamian', 'gehazi', 'embracing', 'peg', 'calf', 'unfaltering', 'tiberias', '46:8', '23:44', 'hussey', 'cleanness', 'apologizes', 'ignorant', 'iephta', 'noisy', 'wiry', 'abiah', 'tousled', 'anecdote', 'cultivated', 'browse', 'increased', 'milky', 'nickname', 'reverberation', 'ploughed', 'fireside', 'surrender', '41:26', 'barbaric', 'flutter', '12:40', 'donald', 'amalekites', 'introduce', 'undue', 'multiform', '30:37', 'adhering', 'hispanic', 'disable', 'sloping', 'adhere', 'bent', 'spinal', 'wonne', '36:25', 'ballasted', 'austin', 'musk', \"honour'd\", 'underwater', 'blueprint', 'intel', 'baalpeor', 'excrement', '14:40', '7:49', 'cortege', \"envenom'd\", '21:38', 'accustomed', 'saginaw', '106', 'willingness', 'bharara', 'ouer', 'dictated', 'curtsy', 'splintered', 'arabian', 'arises', 'blackguard', '31:24', \"enamour'd\", 'perverseness', 'thunderous', 'platonic', 'seeking', 'retracing', 'cyrus', '21:20', 'confident', 'dusty', 'yankee', 'laughing', 'censer', 'monitoring', 'tantalizing', 'narrated', 'tucked', 'morne', 'philadelphia', '37:15', 'darkling', \"cool'd\", 'omitting', 'fritter', '18:26', 'gregory', 'couldst', 'student', 'unhurt', 'isi', '16:8', 'subduing', 'lived', 'moisture', 'antithesis', 'indiana', \"seek'st\", 'sonne', 'tumbling', 'bailiff', 'venerealee', 'raking', 'described', 'fretting', 'hip', '40:11', 'ethiopia', 'ashton', 'equipped', 'i', 'eyeless', 'citation', 'modification', 'grotto', '13:30', 'corruption', 'invade', '21:11', 'career', 'enclose', 'legislative', 'triumphantly', 'flavor', 'howling', 'ignited', 'telegram', 'compasse', 'comprise', 'chalk', 'assumed', 'cushion', 'forget', '2008', 'bahrain', 'touch', 'm', 'amon', 'drumme', 'query', \"fool'd\", '30:30', 'softer', 'sharpen', 'naturedly', 'eyre', 'arrayed', 'lud', 'oman', 'neutrality', '9,103', 'label', 'steeply', '58:3', 'illinois', 'musket', 'hauled', 'myth', 'ruth', 'humanity', '65:7', 'idlib', 'sarve', 'taffrail', 'overlapping', 'treasonous', 'thrift', 'supremacy', 'flashing', 'earnest', 'hallo', 'correcteth', 'freebooter', '22:17', 'n.', 'deaf', 'dismember', 'plaything', 'concern', 'jasher', 'reversion', 'circlings', 'surface', 'failing', 'answered', 'sweeping', 'sulked', 'ithiel', 'fallacy', 'bela', 'malt', 'harvard', 'birch', 'rarely', 'tippet', 'thing', 'thinkes', 'slap', 'unbeliever', 'mic', 'indistinctly', 'steamer', 'phase', 'self', 'descend', 'commune', 'cruz', 'reformation', 'ceasing', '48:22', 'smoky', 'colnett', '19:3', 'empire', 'somebody', 'paine', 'instructor', 'encumbrance', 'early', 'enumerate', 'lava', 'voting', 'worshipping', 'bade', 'sodaine', 'secessionist', 'keepes', 'gorgeously', 'puissance', 'ineligible', 'uncouth', '14:4', 'foule', \"balk'd\", '15:14', 'sawcy', 'icbm', 'ordained', 'selecting', 'hood', '7:38', 'clank', 'feel', 'lameness', 'shaved', 'mountainous', '22:6', 'serenade', 'shual', 'rebuking', 'scuttling', 'coldly', 'chappell', 'posse', 'faithful', 'flash', 'carcase', 'uber', 'mastered', 'denier', 'establish', 'nestling', 'homely', 'goad', 'vindictive', 'affording', 'needing', 'hundred', 'goeth', 'based', 'schultz', 'answering', 'bethanath', 'busy', 'et', 'hardware', 'attorney', '-i', 'leanness', 'threat', 'righteousness', 'chink', 'building', 'girgashites', 'beene', 'vnbraced', '10:37', 'conceit', 'metropolitan', 'kinswoman', 'achaia', 'perilously', 'event', 'pillar', 'sociologist', 'dynamiter', 'gon', 'madly', 'deceitful', 'awkward', 'adamite', 'greatness', 'highminded', 'dyest', 'dispirited', 'handler', 'abandoned', 'dent', 'bosome', 'archipelago', 'pitieth', 'pickle', 'whisper', 'monarch', 'infinitely', 'prompt', 'studieth', 'adulterer', 'rebuilding', \"condemn'd\", 'greenish', 'bezaleel', 'slumbrous', 'rainbowed', 'sanity', 'overcame', 'aspiring', 'cobble', 'crust', 'bethshan', 'hatchet', '58:6', 'eyeing', 'cooper', 'ramadan', 'phrenology', '17:6', 'obtains', 'manoeuvre', 'knops', 'nosedive', 'insufferable', 'urgency', 'precipitation', '55:11', 'manipulated', 'fifth', 'admired', 'redundant', 'attend', 'review', 'accuse', 'fie', 'sped', 'gingerbread', 'behave', 'wretch', 'shrewdness', 'outstripped', 'conceded', 'commendation', 'struggled', 'inflexible', 'audacity', 'procreation', 'perverted', 'texel', 'tenure', 'specific', 'boggy', 'embellished', 'commenced', 'goodness', 'sayst', 'tahpenes', 'abides', 'heweth', 'connatural', 'delete', 'worship', 'che', 'coal', 'ardently', '4:22', 'floweret', 'galal', 'unsettle', 'amount', 'midian', 'investigate', 'conviction', 'volcano', 'underfoot', 'driveth', 'rubber', '13:58', 'iudgements', '1:7', 'vortex', '44:16', 'jewish', 'blaming', 'impact', 'profited', 'yet', 'qualification', 'bag', 'realised', 'hjiab', 'destroyeth', 'cato', 'go', '48:33', \"reliev'd\", 'ibzan', \"coffin'd\", 'wavering', 'matred', 'venison', 'nourishment', '20:7', 'misfortune', 'pneumonia', 'bel', 'choke', 'rouse', \"spann'd\", 'necessitie', 'inverted', 'sibbecai', '45:2', 'fauors', 'perry', 'unrighteousness', 'metled', 'passant', 'dialogue', 'styled', 'whit', 'unmitigated', 'depend', 'prehensile', 'sordid', 'cargo', 'pregnant', 'fairy', 'admonishing', 'topple', '24:12', 'crownes', 'locality', 'fell', 'donal', '27:14', 'spilling', 'pelaiah', 'breake', 'friend', 'pastrycook', 'threefold', 'circumcising', 'sibbald', 'vacant', 'receive', 'smitten', 'omri', 'ophir', 'cruet', '27:39', 'phrenologically', \"a'th\", 'wallises', 'marsh', 'drowsily', 'severed', 'complexioned', 'affirms', 'torpid', 'isolationism', 'crusader', 'naphtuhim', 'hophni', 'belly', 'spurne', 'gibbet', 'breathed', 'truely', 'unreason', 'writing', 'triangle', 'fraudulent', 'partnership', 'chocolate', 'moderation', 'saue', 'affecting', 'china', 'woody', 'gunwale', '24:26', 'reportedly', 'converting', 'beneath', 'incrustation', '18:3', 'joy', 'dissembling', '51:17', 'harassment', 'reactivated', 'apprehension', 'amply', '59:11', 'approached', 'lirra', 'confusing', 'biased', \"utter'd\", 'bustling', 'proue', 'vimy', 'seene', 'begat', 'playing', 'extending', 'nugent', 'membrane', 'brewer', 'shooteth', 'forth', 'lonesome', 'bishop', '51:22', 'frightfully', 'unoccupied', 'republic', 'mayest', 'dwelleth', 'affirm', 'maturity', 'prophet', 'specially', 'gallio', '31:43', '47', 'foretold', 'periodically', 'counterpane', 'savour', 'steadiest', 'iot', 'knowes', 'thud', 'personnel', 'hitherward', 'unjust', 'gruffly', 'reacheth', '36:26', 'attachment', 'selfsame', '25:3', 'corinthian', 'sunrise', 'articulation', 'lack', 'narrowed', 'prayer', 'harping', 'assembly', 'usa', 'breadth', '44:8', 'concentrated', 'vesuvius', 'ridden', 'dealing', 'manahethites', 'coarse', 'porus', 'personall', 'glazier', '39:24', 'tilled', 'yieldest', '200', 'raamah', 'exact', 'robed', 'panting', 'schiff', 'confirming', 'prefers', 'kant', 'absorb', 'caterpiller', 'littered', 'hudson', 'bukki', 'repentant', 'dripping', 'harris', 'imperiall', 'exaggerating', '19:26', 'avaricious', 'cock', \"liu'd\", 'involution', 'sixteenth', 'teacher', 'alice', '33:8', 'brooke', 'supply', 'roam', 'inheritor', 'scooped', 'compose', 'attends', 'wheugh', 'determined', 'baladan', 'humanitarian', 'jebusi', 'gather', 'quietly--', 'harriet', 'swashing', 'pentecost', 'foreskin', 'countervail', 'westworld', 'undismayed', 'duff', 'racist', 'stacked', 'swarming', 'reverent', 'unilateralism', 'london', 'juno', '51:10', 'solvent', '38:5', '9:44', 'unnecessary', '48:35', '25:12', 'generally', 'thereat', 'ducking', 'could--', 'ill-', 'compared', \"gather'd\", 'solemnly--', 'percy', '7:40', 'might', 'breach', 'precipitancy', 'reciprocating', 'dialect', 'genius', 'abolish', '8:10', 'methodically', 'champion', '6:28', 'carefulness', '3:30', '17:10', 'ayde', 'lipinski', 'altered', '34:29', '18:13', 'jehoiachin', 'uncivil', 'apart', 'erickson', 'discharged', 'mannahatta', 'assassination', 'trustful', '23:38', 'edible', 'vnkle', '23:22', 'resurrection', 'cornish', 'humouredly', 'traversed', 'reapeth', 'groveling', 'dusky', 'stank', 'unprepared', '20:27', 'foe', 'farenthold', 'iigge', 'flew', 'leech', 'barred', 'fla.', 'joses', \"seru'd\", 'dazzle', 'envious', 'upending', 'autopsy', 'westgate', 'aesthetically', 'bee', '16:18', 'identity', '87', 'afford', 'boiling', 'steeped', 'cherishing', 'lent', 'zelotes', 'roe', '23:24', 'precede', '31:17', 'ornamental', 'awoke', 'ribband', 'languishing', 'supplied', 'boss', 'messrs.', 'thankfulness', 'sintimint', 'official', 'subtilty', 'posture', 'conjecture', 'bombardment', '24:9', 'adelphi', 'alicia', 'malchishua', 'what', 'absent', '2:14', 'weeps', 'ahira', 'casement', 'puff', '47:8', 'recipient', 'laish', 'referred', 'mincer', 'appal', 'joanna', 'bayonet', 'giuliani', \"tatter'd\", 'candelabra', '                         ', 'uprisen', 'amputation', 'amraphel', 'analyzed', 'bawl', 'i--', '83', 'mizpah', '33:12', 'de', 'resent', 'revolutionist', '27:33', 'berlin', 'right.--', 'huda', 'fished', 'contract', 'saylors', 'since', 'anytime', 'doubtfully', 'unsupplied', 'pitch', 'martial', 'hinge', 'iceberg', 'unusually', 'lengthwise', 'ill', '29:36', 'dissimilar', '22:10', 'tortured', 'pawn', 'bondholder', 'ee', 'indeede', 'better', 'comprises', 'conquering', 'fatigue', 'happeneth', 'laudanum', 'molten', 'serbian', \"drain'd\", 'pertained', 'replacement', 'ascends', 'altar', 'urbanity', 'confusedly', 'involved', '5th', 'swordstick', 'azmaveth', '31:34', 'requirement', 'madeleine', 'dumah', '20-year', 'aven', 'paused', 'destabilizing', 'bat', 'sabbath', 'risky', 'lawful', '49:8', 'polish', 'jarmuth', 'goodly', 'superbly', 'makheloth', 'concentrate', 'dotard', 'adheres', '40:24', 'pm', 'pate', 'indifference--', 'this:--', '31:33', 'asuppim', 'defileth', 'subpoena', 'yea', 'forewarn', 'doeg', 'bed', '6:12', '14:44', 'fooling', 'sibilant', 'godly', '40:12', 'resuming', 'effeminate', 'degradation', 'resting', 'broke', 'startled', 'chalice', 'unintelligible', 'desart', 'scandel', 'trafficking', 'redresse', 'heman', 'owes', 'technical', 'unwashen', 'hattil', '6:56', 'law', 'warp', 'jogbehah', 'gum', 'edrei', 'drummer', 'matchless', 'limping', '48:8', 'fix', 'dodge', '11:31', 'importing', 'sternly', 'legislature', 'famous', 'betide', 'fourteenth', 'constructed', 'harmony', 'ruinous', 'befits', 'doj', 'extenuation', '38:23', 'annual', 'victorious', 'loruhamah', 'image', 'serug', 'stranded', 'reasoned', 'bruite', 'bulkhead', 'accosting', 'guttural', 'benaiah', 'semicircle', 'savans', 'opportune', '11:19', 'retrograde', 'tabernacle', 'fukushima', 'pitchpoling', 'reddened', '5:2', 'promoted', 'drunk', 'dissipated', 'emulous', 'trash', 'hai', 'niche', 'aligning', \"fang'd\", 'resulting', 'begun', 'kerchief', 'infant', 'uniform', 'bukkiah', 'ashdothpisgah', 'inaugural', 'hover', 'shaker', '15:28', 'strangely', 'copied', 'teares', 'persuaded', 'shabbiest', 'trinket', 'seer', 'valognes', 'launch', 'doct', 'exhilaration', 'sallai', 'infallibly', 'rallied', 'alike', 'lovelier', 'kanadian', 'permitting', 'loiter', 'uplifted', 'whcd', 'hysterical', '21:16', '50:13', 'octa', 'sadness', 'corporate', 'enlarge', 'verbally', '25:33', '38:31', 'elton', 'zimran', 'lounged', 'poetical', 'januarius', 'order', 'sample', 'annually', 'grinning', 'tendinous', 'pheasant', 'unchanging', 'trail', 'undermining', 'peerless', '9:50', 'now.--', 'upstart', 'tabrets', 'shortage', 'discernible', 'teacheth', 'miriam', 'substantial', 'racism', 'knotted', 'embraced', 'zimri', 'hesperus', 'tomorrow', 'thong', 'double', 'pace', 'massachusetts', 'aha', 'apoplexy', 'depict', 'egyptian', 'visibly', 'illumination', 'honestie', 'chushanrishathaim', 'nebuchadnezzar', 'steadfastly', 'eu', 'guarding', 'roared', 'shipwright', 'ahlai', 'tussle', 'charme', 'regiment', 'peel', 'stated', 'sexuality', 'anatomist', 'aslope', 'violently', '7:63', 'champaign', 'doubt', 'suppression', 'seir', 'innate', 'unscrupulous', 'libidinous', 'jamaica', 'slum', 'scorn', 'cambric', 'fretful', '35:11', 'infosys', 'sitting', 'possessing', 'shipmate', 'patrol', 'scroll', 'tinder', 'slily', 'darien', 'looke', 'sake', 'posturing', 'emblem', 'term', 'eliada', 'inestimable', 'hullabaloo', 'overhear', 'fetched', 'hoot', 'name', 'persisting', 'rape', 'proscription', 'chess', 'kin', 'cabbage', 'comforting', 'appropriated', 'insensitive', 'valued', '38:7', 'fornicator', 'holpen', 'orchestrating', 'ready', 'messiah', 'this?--what', 'madman', 'strucke', 'sprinkling', 'thornberry', 'side', 'broward', 'autocrat', 'remaineth', 'elevation', 'reprimand', 'tied', 'barclays', '9:12', 'harbinger', 'surpass', 'throwne', 'intensified', 'forsooth', 'finn', 'offshore', 'gloominess', 'supreme', 'concerning', 'capstan', 'entangled', 'likelier', 'undervalue', 'sanctify', 'elipheleh', 'bare', 'magna', 'abiezer', 'unwelcome', 'planting', '15:7', 'pose', 'expell', '13:32', 'forgery', '14:7', 'honoured', 'poorer', 'veering', 'nowise', 'gaffe', 'count', 'inseparable', '3:19', '13:44', 'mibzar', 'stiff', 'teresh', 'ribbon', 'esther', 'gold', 'ensigne', 'strangest', '64:3', 'strict', 'conception', 'recurred', 'dardanius', 'half', 'festival', '11:30', '21:12', 'beerothite', 'manor', 'billy', 'different', 'donated', 'watcheth', '4:39', 'striker', 'quicken', 'dismounted', 'deigned', 'devin', '11:18', 'secularist', 'complicated', 'governed', 'sits', '7:65', 'exists', 'gibbering', 'refund', 'spindle', 'bullock', 'valiant', 'equiuocator', 'petroleum', 'japan', '21:34', 'again', 'swept', 'heauenly', '63:6', 'shewest', 'mcconnell', 'depends', 'composer', 'tricking', 'unperceived', '49:7', 'waxe', 'thy', 'washing', 'bog', 'dressing', 'despotism', 'zeboim', 'snuffed', 'jabesh', 'spur', '13:56', 'funny', \"clapp'd\", 'ennui', '19:7', 'withholden', 'emmet', '23:47', 'frowningly', 'bozrah', 'cab', 'take', 'question--', 'apparition', 'disinherited', 'abaft', 'subtly', 'averse', 'nondescript', '45:18', 'sharply', '32:27', 'hostility', 'piggy', 'peeuish', 'elliots', 'recipe', 'newcastle', 'dinghy', 'paddock', 'melchi', 'unrolling', 'ostentation', 'nielsen', 'renewal', 'fable', 'astonied', 'lottery', '                                        ', 'presumptive', 'reminded', 'leisure', 'yawn', 'outwardly', 'mahath', 'mud', 'place', 'reverenced', 'demanding', 'observant', 'crowes', 'perused', 'uzziah', 'camden', 'dentist', 'trade', 'ignoring', 'deserted', 'gait', 'jack', 'illiberal', 'anthony', '64', 'lovely', '49:29', '6:67', 'antifa', '22:7', 'blue', 'closet', 'crushing', 'ineffectual', 'patrician', 'hawaii', 'quiet', 'rapid', '9:53', 'frame', 'infinite', 'headsman', 'banning', 'diet', 'hat--', 'eschewed', 'cased', 'erecting', 'heraldic', 'hearer', 'deliverest', 'prolonging', 'alumnus', 'warming', 'contortion', \"murder'd\", 'curved', 'gallipagos', 'exacted', 'wauing', 'wintry', 'cowdray', 'logician', 'mandate', 'plentiful', \"crown'd\", 'weight', 'steel', 'hatted', 'incinerator', 'hop', 'circumspect', 'left', 'wick', 'struggling', 'appointee', 'pertaineth', 'visiting', 'tranquillised', 'celestial', 'jarha', 'walkout', 'ton', 'bridging', 'sufficient', 'ake', 'hanover', 'rig', '30:34', 'brindled', 'ladle', 'seminal', 'thessalonian', 'shattered', 'liftest', 'economically', '29:15', 'secundus', 'pensively', 'sayest', 'quaff', 'glaring', 'ventriloquist', '33:33', 'hermit', 'censure', 'magdalen', 'sever', 'seeing', 'phichol', 'pomfret', 'hunt', '39:29', 'azariah', 'keep', 'puppyism', 'masquerade', 'considering', '41:17', 'sag', 'odium', 'july', '39:17', 'reddit', '21:8', '8:34', 'acquittance', 'snout', 'fomorian', 'similarly', 'swindler', 'gihon', 'gripping', 'remaining', 'overflow', 'peninnah', 'dorcas', 'owl', 'ishmael', 'dinner', 'false', 'petrified', 'calm', 'jabeshgilead', 'sew', 'meane', 'variable', 'recollected', 'aloofe', 'flung', 'exaggerative', 'fulfilment', 'haggard', '8:32', 'exclude', 'intent', 'peradventure', 'ag', 'sycomore', 'transition', \"vpon't\", 'tryall', 'espied', 'athletic', 'bigness', 'trencher', 'mither', 'card', 'methane', 'polishing', 'gottlieb', 'liar', 'wearily', 'extremist', 'preliminary', 'sandy', '1:4', '5', 'phrenologist', 'virtuous', '61:8', 'timidity', '24:52', 'prudently', 'slumbered', 'regulating', 'elim', 'agonizing', 'regeneration', 'injury', 'flowering', 'antonio', 'laadan', 'revolutionise', 'pleasanter', 'close', 'clownes', 'nimshi', '22:35', 'ringbolts', 'random', 'scrape', 'thrice', 'unsteady', '16:27', 'leaked', 'network', 'senile', 'accusing', 'drinketh', '24:35', 'al', 'impassive', 'leftwing', 'signaling', 'backbone', 'americanos', 'eventually', 'snuffer', 'girth', 'stillness', '77', 'ungainly', 'alpha', 'armoury', 'loneliness', 'pad', 'inspired', 'amativeness', 'vitals', '230', 'threepence', '31:9', 'office', '14:54', 'perizzite', 'alpine', 'scorned', 'innocent', 'shoemaker', 'glut', 'walkest', 'affiliated', 'afflicted', 'ammishaddai', 'dwindle', 'captor', \"sha'n't\", 'cupidity', 'safely', 'opinion', 'continually', 'aggregate', 'keel', 'reign', 'repenting', 'antediluvian', 'merry', 'elijah', 'concord', 'inclosings', '48:30', 'obstacle', 'elf', 'legged', 'historic', 'wikipedia', 'councell', 'livingly', 'heroic', 'brawler', \"smother'd\", 'produced', 'gael', 'shrewsbury', 'wilfully', \"mean'st\", 'blow', 'construe', 'ornament', 'projected', 'parry', 'zin', 'hale', 'backstay', 'authoritarian', 'neighed', 'jashobeam', 'trophy', 'joyfulness', 'learnedly', 'startling', 'quebec', 'confluent', 'ioyntly', 'definition', 'untainted', 'worcestershire', 'petition', '5:34', 'yiannopoulos', 'pursue', 'export', 'ancient', 'palmer', 'luxurious', 'spaniard', '7:13', 'sound', 'span', 'bezek', 'hissing', 'carriest', 'inflexibly', 'clutching', 'remit', 'concession', 'giue', 'unbroken', 'hector', 'frivolous', 'melenchon', 'pick', 'encompassing', 'darwin', 'appealing', 'sky', 'reply', 'erudition', 'axle', 'gilonite', 'leopard', 'tolerant', 'fascinated', 'shrieked', 'arbour', '61:1', 'quart', 'standing', 'acquirement', 'iscariot', 'rekem', 'band', 'dewdrop', 'collectedness', 'uncheerful', '47:19', 'plucked', 'ruthless', 'closer', 'gard', 'policing', 'deformity', 'ammonite', 'barsabas', 'thirsteth', 'gallop', 'concurrence', 'economist', 'fda', 'model', 'us', 'cushi', 'exile', 'seldom', 'thirsted', \"practis'd\", 'amisse', 'luck', 'busby', 'lavater', 'brighton', 'curacy', 'jachin', 'unreproved', 'shipwreck', 'chisel', '22:9', \"breath'd\", 'marching', 'nuptial', 'pennsylvania', 'apologize', 'bathe', 'receptacle', 'lapwing', 'loftily', 'materialist', 'oratresses', 'portcullis', 'nattering', 'piety', 'fainted', 'freedom', '23:36', 'sworn', 'shiloh', 'kenyan', 'blooded', 'tash', 'mundane', 'shenir', 'laid', 'slavery', 'symbolism', 'mercer', 'rideshare', 'unpardonable', 'opportunity', 'gnat', 'yieldeth', 'egypt', 'averred', 'prudent', '6:13', 'halah', 'straggling', 'ramah', 'now----', 'shear', 'marah', 'truthful', 'reveal', 'gogol', '31:3', '36:30', 'revive', 'hearest', \"incens'd\", 'barouche', \"in't\", 'pours', 'elegant', 'instinctively', 'mee', 'queer', 'nightfall', 'cheerful', 'nomorenazi', 'prosecutor', '31:25', 'reflect', 'papered', 'binge', 'accuses', 'overflowed', 'hoax', 'stirreth', 'bonfire', 'framework', 'jfk', 'exerted', 'jeremy', 'rubbish', 'oscillating', 'oily', 'unnoticeable', 'veneration', 'novice', 'compassionate', '10:3', 'parrying', 'committee', 'fen', 'privy', \"darken'd\", 'sharp', 'sawce', 'madon', 'bullshit', 'eh', 'gendarme', 'doores', 'conjunction', 'dwarfish', 'yvette', 'ekronites', 'accordion', 'whiter', 'bitten', 'valor', 'scheme', 'use', 'machinery', 'dilating', 'michaiah', 'sweet', 'distrusting', 'themed', 'charley', 'pitiful', 'fibre', 'naming', 'archbishop', 'waxed', 'banished', 'signified', 'witless', 'justify', \"hatch'd\", 'heaven', 'triviality', 'may.', 'narrative', 'ever!--huzza', 'meshach', 'hireling', 'trumped', 'stratum', 'ottawa', 'stalin', \"o'that\", 'wax', 'finalist', 'agitation', 'instantly', 'dedicated', 'massive', 'come', 'atad', 'overwhelmed', 'wayes', 'demon', 'freight', 'coffer', 'arimathaea', 'indifference', 'serf', 'ineffable', 'chasticement', 'harm', 'sweeper', 'rebellest', 'allured', 'dessert', 'cigar', 'transgress', 'bitterest', '28:9', 'central', 'lookes', 'jar', 'abuse', '1:3', '41:4', 'villainous', 'ornate', '40:29', '92', 'mideast', '21:23', 'rinsed', 'fever', '66:17', 'disappointment', 'realm', 'trustee', 'justification', 'peace', 'marble', 'sleek', 'secluded', 'motley', 'exhilarating', 'juice', 'hazy', '11:53', 'rokovoko', 'myanmar', '23:40', \"prais'd\", 'trusted', 'byproduct', 'fascinating', 'maimed', 'sight', 'life--', 'waned', 'clownish', 'henceforth', 'zoned', 'drew', 'spiced', 'obscure', 'leaf', 'pretext', 'donate', 'nergalsharezer', 'if', 'unrivalled', '17:37', 'hangeth', 'consultant', 'maine', 'murmur', 'gryphon', 'blackened', 'homeland', 'taxing', 'orbed', 'acceptable', 'attending', 'recommend', 'magnificence', 'occupant', 'immortality', 'awaited', \"ordain'd\", 'alfred', 'imperial', 'plastic', 'lyon', 'trailblazer', 'important', 'baden', 'levee', 'prelude', 'cheerfully', '47:21', 'crested', '65:3', 'pacing', 'magots', 'forgot', 'crazed', '24:13', 'carbine', 'awake', 'mass', 'incur', 'passable', 'glue', 'romane', 'lawlessness', 'schoolfellow', '17:21', 'district', 'politeness', 'extracted', 'tenderness', 'householder', 'ottoman', 'phantom', 'chanting', 'stature', 'sofa', 'psychologically', 'idly', 'diadem', 'purest', 'judging', 'plebeian', 'congo', 'presentable', 'reprover', 'wheaten', 'disabling', 'chained', 'plaister', '25:42', '66:11', 'corroborating', 'uplifting', 'highwayman', 'beating', \"splinter'd\", 'denieth', 'heaving', 'dwell', 'relish', 'juror', 'easter', 'whalebone', 'teraphim', 'popped', 'conqueror', 'fa', 'michelle', 'canaanitish', 'to-', 'concluding', 'custard', 'ensured', 'plaudit', '5:35', 'vulture', 'recoil', 'faded', 'bulkington', '4:4', 'pagoda', 'filed', 'crashed', 'von', '43:13', 'bereave', 'ontario', 'affliction', 'lair', 'elemental', 'passed', 'billion', 'evildoer', 'byrnan', 'dy', 'cowslip', '48', 'feigning', 'improvisatore', 'daberath', 'exclaimed', 'tuned', 'unaccountable', 'monsanto', 'villany', 'tiger', 'enuious', 'criminalizing', 'dismantled', 'skinnes', 'gov', 'bethhoglah', 'reflecting', 'puny', 'exultation', 'impudent', 'caution', 'sheariah', 'rambling', 'shaded', 'grows', 'mould', 'circumstance', 'albino', 'turbulence', 'stretcht', '22:2', 'untutored', 'parallelogram', '62:1', 'nfl', 'gatam', '60:2', 'library', 'can--', 'glistened', 'burgher', 'protester', 'geber', 'raped', 'abounding', 'eminent', 'finite', 'blowne', '27:15', 'basically', 'pleasing', 'knowingly', 'was--', 'brigandish', '49:28', 'merchantman', 'swifter', 'mantelpiece', 'misleads', 'bedded', 'reddy', 'stein', 'eliud', 'oaken', '40', 'shrimping', 'keros', '6:62', \"fayl'd\", 'invention', 'sidney', 'difficult', 'fool', 'valley', 'arsacidean', 'prostitution', 'rebekah', 'dawn', 'viewing', 'companion', 'adjusting', 'committeth', 'voice--', 'veers', 'browne', 'wellspring', 'stemming', 'transgressor', 'remarking', 'greitens', 'kenaz', 'foremost', 'wonderland', 'league', 'willes', 'gentleman', 'smiting', '26:58', 'raiment', 'wig', 'boyish', 'penuel', 'cankerous', 'ginger', 'cutlet', 'prey', 'aesop', '37:5', 'indirection', 'solve', 'sey', 'checking', 'doleful', 'mulligan', 'brut', 'enforced', 'extreme', 'presenting', 'stifled', 'bang', 'amalekite', 'grunt', 'lionel', 'sichuan', 'providential', 'dreames', 'remoue', 'straitly', 'pul', 'angrier', 'gritted', 'coward', '40:5', '550', 'depot', 'mantling', 'hanoverian', 'applicant', 'kathy', 'stainless', '27:38', '13:39', 'wounding', 'jago', 'bleed', 'refill', 'holyday', 'chafing', 'ad', 'withdrawing', 'apprentice', 'paumanok', 'reactor', 'kemuel', 'borderland', 'guide', 'castile', '16:33', 'centaur', 'abinadab', 'people', 'near', 'memphis', 'glow', 'ransomed', 'blazing', 'mercifully', 'eliza', 'visitation', 'import', 'barkos', 'blackness', 'mummery', 'inattentive', 'hopelessly', 'duration', 'bobby', 'whitened', '10:46', 'wonderously', 'indispensable', 'stationary', '3:8', 'forgiven', '31:30', 'dinhabah', 'leprosy', '52:13', 'perish', 'squareness', 'restriction', 'criticism', 'instinct', 'foster', 'whitish', 'uncovered', 'idolatry', 'hormah', 'aye', 'whitehall', 'exhaustion', 'thare', 'attestation', 'loines', 'because', 'meeteth', 'rump', 'malchiah', 'bohan', 'seaweed', 'resisteth', 'directly', 'shetharboznai', 'spangled', 'nothing', 'swerve', 'joab', 'march', 'excepting', 'rickety', 'sooth', 'adelaide', 'fossiliferous', 'publish', 'plucking', 'mephibosheth', '28:41', 'smell', 'preluding', 'sheva', '18:43', 'badinage', 'sorrowfully', 'sufferer', 'anonymously', 'houseless', 'hungarian', 'fructifying', 'teacup', 'caterpillers', 'pur', 'herod', 'divide', 'watcher', 'reproaching', 'plaint', 'basketball', 'minibus', 'parbar', 'transient', '7:11', 'assailant', 'cook', 'send', 'poniard', '32:13', 'leather', 'requiem', '50:19', 'opera', '1:42', 'dipping', 'creak', 'pant', 'day', 'dial', 'liberalism', 'mist', 'bubbling', 'maiden', 'renegade', 'bressed', '5:1', '25:17', '31:23', 'fema', 'punishing', 'sendeth', 'sheer', 'corresponding', '2:10', 'decipher', 'erreth', 'confers', 'cruell', 'memucan', 'toronto', 'soggy', 'redress', '54:7', 'apprehend', 'threatning', 'apostle', 'forest', 'goblin', '3:27', 'amp', 'oftentimes', 'shrivelled', \"maim'd\", 'musky', 'training', 'envelope', 'engraving', 'blitz', 'pommel', 'kelli', 'retain', 'wordless', 'dealer', '2019', 'cockney', 'dearly', 'walled', 'speechlesse', 'speculation', 'comprehended', 'luke', '95', 'slur', 'infrastructure', 'zebedee', 'saved', 'marrie', 'traveller', 'commandingly', 'ode', 'heaviest', 'resisted', 'distemper', 'adonikam', 'punctuality', 'reliance', 'battlement', '202', 'harness', 'frontispiece', 'commodore', 'father', 'lascar', '2:25', 'zaccur', 'occurrent', 'decorated', 'untimely', 'cheerless', 'blackest', 'tribal', 'sharpe', 'shown', '59:14', 'and--', 'whereunto', 'juan', 'iust', 'likened', 'oregonese', 'oder', 'receives', 'anticapitalist', 'doubtful', 'loosened', 'housed', 'outcast', '29:25', '40:22', '29:40', 'acuteness', 'agricultural', 'perverse', '9:52', 'pandemonium', 'merge', 'taliban', 'backe', 'welsh', 'sporting', 'newt', 'throb', 'forging', 'griffin', 'intensity', 'acknowledge', 'for', 'swung', 'gadarenes', 'delaware', \"do't\", 'bolton', 'rounded', 'randomly', 'unpolished', 'executeth', 'remained', 'laodiceans', 'houre', '38:26', 'yell', 'scaramouch', '22:12', 'leisurely', 'wrestle', 'gnawed', '17', 'hadst', '4:44', 'red', 'unbound', '9:11', 'space', 'attyre', 'ware', 'capitulation', 'buzz', 'swallow', 'pattern', '26:18', 'guildensterne', 'globular', 'flowered', 'tier', 'off', 'lisbon', '7:31', \"receiv'd\", \"stuff'd\", 'forcing', '20:39', '         ', 'geniality', 'pump', 'shorter', 'immigration', 'asserts', 'buff', 'gnaw', 'regret', 'speculative', 'princedom', 'hewn', 'sebastian', 'cardamum', 'judaea', 'harmonious', 'jumping', 'mishap', 'transfix', 'thankless', 'indubitably', 'squash', 'mound', 'ellison', \"blacken'd\", 'volumnius', 'cozy', 'migration', 'afore', 'proclaim', 'unexampled', 'depredation', 'daggoo', '2017', 'one--', 'excite', 'courteously', 'edwin', 'apu', 'sagacious', 'fleance', 'beefsteak', 'mirrour', 'substitute', 'matron', \"crow's\", 'addressed', 'britain', 'brilliantly', 'cry', 'prodigy', 'amiability', 'discloses', 'smitest', 'ronny', 'submitted', 'booster', 'grandee', 'beetle', 'electronics', 'blankness', 'noontide', 'think--', 'wife', 'colombian', 'colossus', '11:8', 'improvement', 'coolly', 'trowel', 'hateful', 'truster', 'trieth', 'feat', 'headquarters', 'festive', 'fanning', '29:17', 'declare--', 'malacca', 'coloured', 'mater', 'infers', 'crazy', 'reuels', 'anah', 'gaiety', 'manasses', 'tardy', 'quitting', 'gaash', 'beam', '7:52', 'genitals', 'husk', '4:30', '8:1', 'copper', 'tipped', '71', 'russell', 'shewbread', 'cultivate', 'really----', 'pointedly', 'gainsay', 'surgeon', 'hue', 'maid', 'vertu', 'counselled', 'hazle', 'kamala', 'bureau', 'rocket', 'labour', 'regulation', 'applauding', 'enticed', 'profundity', 'yarmouth', 'waved', '3:22', 'untouched', 'woke', 'reclining', 'rehabiah', 'motherless', 'unlucky', 'animate', 'sanely', 'forewarned', 'ezekias', 'batchellor', 'rescuing', 'scaena', 'dormouse', 'cheapest', 'shedeur', 'pelisse', 'england', 'determine', 'condescending', 'aristocrat', 'bragge', 'chast', 'mortification', 'editing', '11:37', 'ducroix', 'centered', 'glittering', 'prepare', 'oval', 'wrangling', 'total', 'verse', '38', 'defined', '12:16', 'caldron', 'bap', 'soaring', 'trampled', 'exeter', '27:32', 'parson', 'fred', 'conventional', 'missourian', 'battell', 'brandished', 'bolt', 'not--', 'hastily', 'pebble', 'stealthily', 'stallion', 'unwieldy', '24:2', 'deficient', 'malay', 'twaine', 'knitting', 'plead', 'cellar', 'vse', 'judgeth', 'objectless', 'inshore', 'case', 'separateth', 'contemptuous', 'bespoke', 'prankster', 'seething', 'stoven', 'scoria', 'quizzed', 'chorus', 'potent', 'beach', 'supernal', 'creeping', '30:24', 'q&amp;a', '16:48', 'unfamiliar', 'shipwrecked', 'adobie', 'boundary', 'coincide', 'faggot', 'peleg', 'cuomo', 'koboo', '14:50', 'hvalt', 'share', 'tubalcain', 'marketh', 'class', 'demeanour', 'b-1', 'clap', 'socrates', 'dogging', 'sina', 'depressing', 'pardoned', 'slush', 'susanna', 'chuck', 'repulsive', 'stern', '36:23', 'hagar', 'vigour', 'huskily', '63:5', 'inexperienced', 'german', 'silversmith', 'phrase', 'meronothite', 'sire', 'sharpening', 'vp', '28:36', 'damsel', 'parade', 'incapable', 'gardener', 'flatter', 'pursueth', '46:10', 'mash', 'renewing', 'hungered', 'cleanse', 'madai', 'plug', 'satiate', 'cabul', 'rank', 'betimes', 'armageddon', 'affectionate', 'painted', 'bringing', 'unfairly', 'make', 'snowflake', 'natal', 'prosecution', 'emptiness', 'graduate', 'endowed', 'yeomanry', 'flattereth', 'symmetrically', 'drieth', 'senor', 'godliness', 'grave', 'mercantile', 'sheba', 'adbeel', 'pressured', 'fallon', 'obliged', 'hatching', '1778', 'bled', 'welded', 'dancer', 'sell', 'leo', 'unasked', 'pimpled', 'ope', 'allenham', 'sale', 'ascendeth', 'hatched', 'commencement', 'silas', 'disrespect', 'fleeth', 'unconcern', 'bestow', 'bit', 'snodhead', 'assange', 'woodhouses', 'congregation', 'longtime', 'ar', '12:3', 'relative', 'spoke', 'power', 'olfactories', 'shafiq', 'donation', 'crosshairs', 'claw', '22:29', '43:20', 'mincing', 'horseback', 'cfpb', 'haue', 'destined', 'consorted', 'porous', 'nile', 'inward', '16:6', 'vas', 'sepulchre', 'zered', 'brightness', 'halleluiahs', 'zuph', 'bulky', 'protruding', 'growl', 'unkindness', 'restoring', 'yonnondio', 'unhinged', 'npr', '12:34', 'astrologer', 'greasy', 'braving', 'chirp', 'scarse', 'seventeenth', 'ceaselessly', 'strato', 'vouchsafes', 'unforeseen', 'resignation', '50:6', 'rechabites', 'uniter', 'erection', 'malc', '9:31', '4000', 'recounted', 'bribed', 'auger', 'inclination', 'disapproved', '14:48', 'contagion', 'masked', 'illumined', 'bewilderment', '20:31', 'penny', 'deliberate', 'rice', 'turkish', 'recurrence', 'fine', '54:5', 'approves', 'rolling', 'cynna', 'nethaniah', '30:6', '26:19', 'betrothed', 'swagger', 'blanket', 'cassi', 'canst', 'consciously', '25:37', 'chimney-', 'employ', 'fareed', 'picture', 'entertain', 'ananiah', '7:56', 'breaking', 'cockle', 'squat', 'bunch', 'divided', 'headlong', 'emptied', '28:16', 'all.--i', 'professe', 'tellest', '38:2', 'kennel', 'daunted', 'comprehensiveness', 'speaker', 'heartily', 'master', \"wee'l\", 'shoote', 'abdiel', 'undeniable', 'petticoat', 'prophesying', 'friday', '4:45', '14:51', 'guesse', 'visionary', 'foreknew', 'landmark', '48:28', 'registered', 'nutt', 'heavenly', 'unveiled', \"blabb'd\", 'passing', '26:3', 'multiplicity', '35:8', '20:36', 'patriot', 'rabmag', 'gaol', 'sufferance', 'rifled', 'exploding', 'adorning', 'persecute', '57:3', 'zalmunna', 'ratcliffe', 'raging', 'tartarus', 'cabby', 'leicester', '18:17', '24:47', 'corker', 'hararite', 'series', 'johnson', 'graven', 'corner', '21:41', '21:5', 'fluid', 'glimmering', 'gog', 'atop', 'farthest', 'unwalled', 'retreating', 'reconciling', '42:23', 'fearing', 'subvert', 'florid', 'unseemly', 'rewardeth', 'inequality', 'vehement', 'bowl', 'compatible', 'uprising', 'balak', 'uphold', 'tech', 'stipendiary', 'jezreelitess', 'kareah', 'denounces', \"watch'd\", 'areli', 'witness', 'pedee', 'disinterested', '27:30', 'forgetting', 'her.--this', '21:44', 'goalkeeper', 'albright', '16:16', 'new', 'undressing', '33:19', 'notorious', 'circulate', 'fill', 'brim', 'develops', 'bake', 'indefinitely', 'induce', 'inextinguishable', 'reconciled', 'irresistibly', 'ly', 'strongly', 'stowing', 'summon', 'catastrophism', 'nahaliel', 'california', 'xvii', 'enterprising', 'kabzeel', 'grassley', 'oop', 'hopkins', 'whereof', '32:34', 'briton', 'unsuited', 'nectar', 'collapsed', 'argentine', 'latent', 'mistress', 'trebek', 'rejoiced', 'declassified', 'expressly', '7:51', 'subdueth', 'nearer', 'deceiver', '21:37', 'exchanging', 'jerk', 'huppim', 'control', 'mighties', 'farthing', 'heate', 'accommodate', '3:2', 'graved', 'mallet', 'plant', '40:7', 'victress', 'chiswick', 'uncomely', 'sitst', 'dogges', 'is--', 'physic', 'espn', 'absenting', 'overdose', 'formules', 'completion', 'layest', 'arresting', 'enemie', 'eurosceptic', 'symmetry', 'steward', 'magnify', 'shopman', 'fejee', 'irresistible', 'trespassed', 'menendez', 'resounded', 'scahill', 'shrivel', '15:20', '24:32', 'indicted', 'inconsolable', 'valuable', 'extended', 'trigonometry', 'stampede', 'gilding', 'creepy', '42:1', 'fleans', 'sparingly', 'brink', 'schoole', 'harnessed', 'stockholm', 'froth', 'gallup', 'siberian', '                                           ', 'mistris', '1:2', 'construction', '63:3', 'bitch', 'actor', 'reform', 'contracted', 'hotly', 'brought', 'xxii', 'moulding', 'quicksand', 'declareth', '  ', 'kong', 'hillary', 'calphurnia', 'infatuation', 'devoutly', 'retains', 'panorama', '15:2', 'bankroll', 'bring', 'worn', 'appertain', 'practising', 'copiously', \"develop'd\", 'creepeth', '38:4', 'desiredst', 'raine', 'cryes', 'draining', 'louis', 'humourist', '33:4', 'fog', 'ointment', 'undressed', 'extricate', 'disposing', 'closed', 'nicer', 'sown', 'market', 'heeding', 'mildest', 'charmer', 'marijuana', 'smoke', 'organizer', 'craftsman', 'brake', 'penguin', 'glint', 'gathrimmon', 'mirage', 'materially', 'portuguese', '12:19', 'greave', 'slapped', 'selues', 'larkspur', 'avail', 'forgets', 'comforted', 'out', '22:1', 'foolerie', 'mote', 'toper', 'oneself', 'roughness', 'extension', 'expiring', 'oboth', '25:11', 'rephaiah', 'beggarly', 'boiler', 'hate', 'it.--', '37:18', 'flynt', 'manoeuvring', 'snowing', 'astern', 'june', 'bordered', 'adjacent', 'shrunk', 'exclusiveness', 'heaviness', 'doer', 'lade', \"hush'd\", 'sacrificed', 'kit', 'louers', 'withdrawal', 'curse', 'roome', 'pacified', 'indecipherable', 'evilmerodach', 'professionally', 'hidden', 'pudding', 'doat', 'betoken', 'subsided', 'tranquilly', 'alluring', 'megyn', 'freckled', 'settest', 'jersey', 'paire', 'imposing', 'barbarian', 'inclined', 'resolved', '23:12', 'dissatisfied', '3,500', '33:10', '16:49', 'yellow', 'marcus', 'gangster', 'disbelieve', 'offscouring', 'dart', 'groomes', 'rev.', 'clawed', '50:11', 'assault', 'bizarre', 'monthly', 'pushed', 'consequence', 'uk', 'platted', 'opprobrious', 'staffer', '39:21', 'conceited', 'divideth', '13:11', 'foie', 'phares', '2004', 'odorous', 'inclosed', 'autopilot', 'refulgent', 'gilboa', 'dime', 'signification', 'recitative', 'unfinished', 'foretell', 'fumed', 'stoppeth', 'cohn', 'thornton', 'vindicated', 'pulse', 'seruants', 'moses', 'cleave', 'moat', 'orphan', 'ceremony', '78', 'crisp', 'terror', 'sticke', 'interchange', 'lexicographer', 'formula', 'ax', 'stablish', 'coveted', 'populace', 'bloody', '14:19', 'dispute', 'decadent', 'backfire', 'catched', 'smartly', 'misconstrued', 'unblest', 'sierra', 'patrick', 'thews', 'bridechamber', 'crownest', 'sociably', 'loe', 'forerunning', 'august', 'lieth', 'preparing', 'oft', 'breech', 'damned', 'rabbah', 'meate', 'undersecretary', 'purge', 'investigator', 'doing?--', 'conduce', 'leshem', 'contentedly', '16:11', 'similar', 'pressure', 'baffling', 'terminus', 'divorced', 'ater', 'unnaturally', 'omnibus', '56:10', '44:1', 'moderator', 'echoed', 'vehemently', 'watersprings', 'wedge', 'cartwright', 'vigilant', 'diviner', 'fit', 'addrest', \"pack'd\", 'persevere', 'possum', 'zephyr', 'ze', 'se', 'zay', 'arriving', '1:33', 'fellowprisoner', 'reiteration', 'turret', 'huron', 'steeper', 'darkened', 'emblematical', 'impartiality', 'muscle', 'damn', 'ti', 'lowered', 'lordship', '2.murth', 'quadrille', 'answeredst', 'realist', 'wanted', '17:17', 'hachaliah', 'shaggy', 'disorderly', 'error', 'written', '37:29', 'binder', 'chanter', 'allegedly', 'unwonted', 'journeyman', 'vernal', 'exciting', 'grieving', 'sharezer', '15:56', 'frowardness', 'backwardness', 'misgave', 'conclude', '32:41', 'clogged', 'wager', 'smoothed', 'club', 'pausing', 'inkstand', 'arba', 'sweden', 'grecia', 'drench', 'ophe', 'stage', '6:40', 'brest', '31:11', '34:24', 'finer', 'breasting', 'requited', \"o'-shanter\", 'coole', '5:6', '44:11', 'gully', 'baalmeon', 'preserve', '3:24', 'pleasantly', 'jelly', 'iustly', '12:35', 'ohad', 'adjured', 'changeless', '44:5', 'skin', 'o', 'fountaine', 'alhambra', 'boarding', 'ahava', 'genealogy', '26:2', 'cannabis', 'rosincrance', 'vouch', 'fantastic', 'pier', 'picking', 'metaphor', 'rattler', 'virtual', 'fearfulness', 'dimmed', 'ungenerous', 'mermaid', '36:32', 'hospitality', 'bait', 'mug', \"gouern'd\", 'confound', 'identifying', 'entertainer', '       ', 'pentagon', 'potentate', 'characteristic', 'astronomy', 'influenced', 'lettering', 'noise', 'reioyce', 'rye', \"leav'd\", 'spouting', 'gruff', 'promisedst', 'lovingly', 'abhorrest', 'supercilious', 'ligure', 'chapiter', 'it;--and', 'unaccustomed', 'omnes', 'mayor', 'steadied', 'xix', 'f', 'festivity', 'relenting', 'ungrown', 'readiest', 'jehoshaphat', 'glade', 'unfound', 'point--', 'beholdeth', 'burgess', '6:41', 'sparse', 'sirrah', 'punctually', 'shadowed', '50:9', 'smashed', 'twould', '29:31', 'orion', 'province', 'unmoveable', 'destroyed', 'flamed', 'grandpapa', 'neariah', 'blundered', 'dccc', '32:33', \"visor'd\", 'clamorously', 'diabolism', 'cromer', 'albert', 'hazael', 'costly', '26:27', 'erebus', 'poet', 'pushing', 'stricken', 'nt', 'edmund', 'met', 'bounce', 'despised', 'serues', 'drugger', 'discussing', 'shewes', 'arrive', 'participating', 'shiver', 'inarticulate', 'unite', 'behind', 'upharsin', 'discern', 'calling', 'basons', '2:18', '49:18', '20:34', 'immeasurably', 'uae', 'strew', 'capitoll', 'blight', 'deckedst', 'liken', 'tentacle', 'portentous', 'ataroth', 'bide', 'rider', 'hun', 'specify', 'vii', '47:10', 'tobijah', 'extracting', '9:41', 'hittite', 'ribbed', 'adroop', 'rt', 'h.r.', 'impressive', '9:51', 'spiritous', 'cleverly', 'critical', 'fisherman', 'commonest', 'kelita', 'shilonite', 'intern', 'wrecked', \"whil'st\", 'broadwood', 'iconic', 'faultless', '21:19', 'migrating', 'legal', 'internal', 'anointest', 'trepidation', 'magicke', '25:6', 'slag', 'bayou', '51:1', 'misunderstanding', 'abram', \"vs'd\", 'unfathomably', 'ahisamach', 'hunting', '17:4', 'conjoined', 'cedar', 'many', 'corroborate', 'unbuttoning', 'pharez', 'revenged', 'tempting', 'old', 'vantage', 'sixe', 'benefactress', 'maurice', 'seal', 'ecstacy', 'toxic', 'doric', 'copenhagen', 'aided', '59:10', 'presented', 'or', 'wagga', 'memorie', 'hereof', 'impressionism', 'godlike', 'alreadie', 'stored', 'wrung', 'expectantly', 'suckling', 'povelson', 'submission', 'shared', '2:44', 'eternall', 'jotham', 'result', 'half-', 'tumble', '44:25', '23:39', 'levi', 'cory', 'tester', 'hee', '31:2', 'skipper', 'enormous', 'sergei', 'deede', 'goshen', 'wedged', 'quickness', 'deuteronomy', '62:9', 'hay', 'seise', 'reverentially', '20:2', 'pivot', 'colt', '11:9', 'trafficked', 'readying', '1:28', \"dishevel'd\", 'sri', 'enquire', 'exercise', 'hatach', '5:26', 'kiriathaim', '10:43', 'soften', 'firme', 'catcheth', 'composing', 'degraded', 'belmont', 'trembled', '29:4', '57:8', 'sal', 'betokening', 'behavior', 'bearest', 'caterpillar', 'kurdish', 'our', 'prestigious', 'added', 'charge', 'stra', 'edging', 'remedy', '19:38', 'agreeably', 'buckled', 'gloss', '26:61', 'repugnant', 'unequivocal', 'aright', 'successful', 'saxon', 'gimpy', 'lithe', 'dante', 'sprain', 'racket', 'cassius', 'wayne', 'fillet', 'ultimately', '49:20', 'chance', '4:49', '18:16', 'adrift', '+', 'bless', 'daytime', 'impersonal', 'tirade', 'differeth', 'bargainer', 'bethinking', 'extraordinarily', 'tyrant', 'outspread', 'plaguy', 'boon', '43:3', 'hook', '11:1', '40:31', 'distributed', 'feminist', 'strode', 'sur', 'rattled', 'playbook', 'swoop', 'nazarites', 'password', 'nahshon', 'normally', 'unmethodically', 'settee', '15:36', 'forwardness', 'hampton', 'referendum', 'relentless', 'backsliding', 'spotty', 'zoetrope', 'restaurant', 'medieval', 'permitted', 'chanted', 'fierie', 'rushy', 'r', 'darkness', 'utterly', 'belteshazzar', 'larolles', 'piratical', 'summary', 'solved', 'recollecting', 'sheshbazzar', 'brute', 'vnworthy', 'overmuch', 'ahimaaz', 'grizzled', 'started', 'inlet', 'poetry', 'hi', 'blacky', '19:29', 'knauish', 'chuckle', 'clattering', 'fernando', \"i'th\", 'unjustly', 'delegate', 'morasthite', 'moby', 'drinke', 'multiply', 'growes', 'falshood', \"ribb'd\", 'xxi', 'sighed', 'compromising', 'electrocution', 'hovered', '24:41', 'denouement', 'irreparable', 'appearance', 'etext', 'wickedness', 'trusting', 'dazzling', 'narwhale', 'commandedst', 'gradual', 'gorge', 'subjection', 'scott', 'hot', 'personal', '69', 'descry', 'chasing', 'birth', '15:30', 'steve', 'venezuela', 'putnam', 'keyhole', 'protracted', 'surpassed', 'jesaiah', 'creamy', 'disciple', 'ironclad', 'desirest', 'gettest', 'keeled', 'gag', 'groped', 'challice', 'courting', 'id', '64:2', 'incident', 'handedness', 'murky', 'ingenious', 'ript', 'surprized', 'halloa', 'slain', 'cray', 'victory', 'barbarous', 'firepans', 'bathroom', 'tenney', 'herb', 'reubenites', 'burma', 'confederacy', 'shaphat', 'humane', 'netflix', 'here?--', 'anamim', 'discus', 'wonderfully', 'bury', 'abating', 'rooke', 'driuen', 'innumerable', 'hated', 'unsullied', 'acceptably', 'unknowingly', 'including', 'illimitable', 'necke', 'serial', 'rudely', 'barr', 'deranged', 'rore', 'polite', 'abundantly', 'ebedmelech', 'tincture', 'coach', 'droop', '9:23', 'succeeds', 'battering', '41:11', 'horizontal', 'tilde', '43:21', '28:19', 'lyest', 'peculiar', 'fist', 'disembodied', 'fusing', 'smart', 'organization', 'irregular', '15:42', '13:33', 'scaffold', 'hye', 'howbeit', 'aroused', 'earnestly', 'digged', '63:11', 'boast', 'fantasticall', 'hospital', '59:2', 'all!--you', 'medical', '5:20', 'temple', 'zodiack', 'mildly', 'todhunter', 'warship', 'software', 'starve', 'jumbled', '8-year', 'sobbing', 'oversees', 'abeyance', 'kirjathjearim', 'achievement', 'parosh', 'efficacy', 'temporarily', 'cogitation', 'indulge', 'hartshorn', 'humiliation', 'softly', 'eshton', 'soothingly', '18:40', '5:7', 'strife', 'soap', 'trodden', 'encumbered', 'increasingly', 'inure', 'aged', 'jenning', 'message', 'scrupulous', 'crimea', 'buzite', 'arbathite', 'experiment', 'occurs', 'deceitfully', 'treacherie', 'dodging', 'thou', 'drooping', 'paseah', 'powre', 'confined', 'deified', 'semitism', 'haste', 'rapturous', '40:25', 'sixteen', 'scuttle', 'manifestation', 'slink', '37:36', 'margin', '21:21', 'mazhar', 'niggard', 'pocketful', 'wiues', 'daybreak', 'liers', '16:42', 'mended', 'perseus', 'cited', 'yee', 'destroys', 'lengthening', 'lead', 'dogg', 'food', 'loadstone', 'lashing', 'blubber', '26:10', 'scuttled', 'solves', 'couldest', 'etc', '12:8', 'dreading', 'jehoiakim', 'believing', 'recurring', 'withholdeth', 'gladness', 'curiosity', 'archy', 'seeker', 'wrenching', 'chopper', 'outline', 'missionary', 'incredulity', \"preserv'd\", 'metaphysical', 'hickory', 'sumptuous', 'ascended', '8:33', 'relation', 'edifice', 'speakes', 'promotion', 'backgammon', 'pimple', 'flocking', 'hoe', 'cob', 'maritime', 'hatred', '6:59', 'incantation', 'hint', 'premonitory', 'loosely', 'resounding', 'vest', 'entire', '9:56', 'abound', '1:32', '49:12', 'monkey', 'moonbeam', 'vacantly', 'epitaph', 'ether', 'meadow', 'greedily', 'disadvantage', 'grouping', 'hermon', 'admirer', 'leaner', 'fisher', 'stoppage', 'olympics', 'raspberry', '12:24', 'naturall', 'persia', 'unsavoury', 'portici', 'formless', 'delicious', 'get', 'tearmes', 'legible', \"answer'd\", 'gershom', '7:68', '?', 'conclave', 'euclid', 'eliphalet', '65:11', 'hellish', 'tubal', 'attracted', 'atwood', 'hunter', 'predestinated', 'deprecated', 'slight', 'then--', 'paye', '21:28', 'apollo', 'love--', 'whispering', 'satire', 'observation', 'zichri', 'intend', 'vnsanctified', 'twirled', 'exhort', 'dost', 'crown', 'cana', 'sick', 'carlson', 'pinnacle', 'includes', 'pitied', 'spitzbergen', 'faintly', 'raw', 'homage', 'remarked', 'apharsachites', 'directv', 'quintus', 'denmarke', 'masonry', 'overhearing', 'cheek', 'avenue', 'timothy', \"master'd\", 'unbarred', 'watry', 'sulky', 'awakening', 'hbcus', 'gaza', 'exalt', 'bringest', 'campaigner', 'shuddering', 'swinging', 'shrunke', '41:9', 'adequately', \"cross'd\", 'yonder', 'overshadow', 'panelling', 'raged', 'titus', 'miscellaneous', 'aduantage', 'lock', 'cautiously', 'ko', 'etam', 'pane', 'find', 'stubbornness', 'tilth', 'wag', '34:22', '11:13', 'wise', 'compressed', 'keepe', 'shiny', 'courtesy', 'rabbath', 'wand', 'surety', 'belshazzar', 'doorless', 'chef', 'suggesting', 'hastert', 'cope', 'herself--', 'english', '13:51', 'rejoiceth', 'bloodshot', 'pshaw', 'junky', 'trackless', 'habituated', 'choirul', 'prouder', 'telling', '2:52', 'tiptop', 'witnesseth', 'plague', 'tease', '27:31', 'negligence', 'sprightly', 'degrades', 'trapped', 'generosity', 'shelumiel', 'nathan', '27:13', 'neatly', 'suffrage', 'solution', 'plaintive', '30:15', 'goethe', 'fatted', '48:17', 'indolence', 'aristotle', 'historicall', 'readinesse', 'topsail', 'leape', 'muslin', 'puttest', 'seek', 'messing', '7:33', 'resentment', 'skiff', 'unconnected', 'domain', 'pedaiah', 'churchill', 'echoing', 'anchored', 'nisroch', 'ups', 'pulling', 'scatter', 'possible', 'scrawl', 'finality', '11:6', 'librarian', 'gruel', 'scared', 'way--', 'indeed.--but', 'l', 'dominica', 'stunsail', 'topsy', 'mire', 'length', 'twined', 'woodhouse--', 'exterminated', 'feelings--', 'and----', 'stokes', '7:25', 'sunken', 'whirl', 'resides', 'attracts', 'frying', '48:23', 'dank', 'wedded', 'lucifer', 'plantedst', 'healthful', 'merited', 'aduise', 'manuscript', 'transparent', 'travail', 'convocation', '19:17', 'wallow', 'straine', 'streep', 'blindly', '33:26', 'heard', 'added--', 'indivisible', 'grinned', 'boomerang', 'yander', 'buildeth', 'lingers', 'elk', 'opponent', 'ascribe', 'breefely', 'untie', 'tightened', 'toyles', 'cherubick', 'chiefest', 'dirt', 'slandered', 'incumbent', 'erick', 'camerado', '8:7', 'introduces', 'her!--', 'ddos', 'obvious', 'apex', 'tepid', 'diffused', 'root', 'muscular', 'uniting', \"reach'd\", 'salute', 'newton', 'blinde', 'sideways', 'shocking', 'infamous', 'testimony', 'beseems', '10:40', 'routine', 'danube', 'naught', 'nailed', '20:40', 'otter', 'brother', 'bind', 'tweezer', '20:20', 'delicacy', 'wage', 'wayfaring', '6:46', 'terminated', 'ulam', 'milliner', 'portly', 'zigzag', 'propagated', 'neighbourhood', 'cutlass', 'her;--', 'emmanuel', 'patrimony', 'noticed', 'saidst', 'jeriah', 'frivolity', 'muttered', 'pumping', 'resigning', 'abhor', 'uglier', 'unfathomable', 'easiest', \"dream'd\", 'untellable', 'shuts', 'inventive', \"lon'on\", \"o're\", 'room', 'bestride', 'boycotting', 'poz', 'hurricane', 'thin', 'playes', 'deem', 'prays', 'stubble', 'installment', 'fascist', 'recoiled', 'importune', '62:6', 'reclines', 'waking', 'argue', 'implies', 'heated', 'rottenness', 'clinch', 'helm', 'shoulder', 'blockbuster', 'calmness', 'poisoned', 'unsatisfactory', 'sitar', 'missed', 'writest', 'wrongfully', 'stipulate', 'straddling', 'warrior', '32:6', 'canariensis', 'bakbukiah', 'langsdorff', 'minion', 'mother--', 'on', 'furthest', '17:31', 'coordination', 'echo', 'housebreaker', 'decanting', 'prettier', 'gennesaret', '28:33', 'rereward', 'thither', 'arcadian', 'unprovided', 'rugged', '56:9', 'reduce', 'mayst', '28:15', 'sheeted', '6:17', '12:49', 'sour', 'rapturously', 'stevedore', 'commentary', 'horizon', 'unlearned', '26:59', 'pathless', 'disney', 'cleere', 'anathoth', 'portland', \"look'd\", 'testifying', 'rally', 'chilly', 'cleft', 'william', 'dedication', 'casting', 'sonnes', 'lordly', 'chace', 'dismally', 'death', 'violating', 'defying', 'grief', 'routed', 'excursion', 'psychiatrist', 'grossenmark', '25:13', 'prize', '39:13', 'damascus', '18:45', 'accept', 'vain--', 'enters', 'libel', 'aboord', 'purchas', 'dictatorship', 'executor', 'lefthand', 'pitty', 'fellowes', 'medal', 'meat', 'satirical', 'brooding', 'cruising', 'invested', 'trumpist', 'lurk', 'epigram', 'zelia', 'victim', 'agh', 'tiptoe', 'randalls', 'laura', 'uttermost', '10:18', 'regain', 'deserve', '6:2', 'animation', '66:18', 'unsavory', 'trimming', 'wily', '20:26', 'sho', 'deflects', 'lyca', 'hearkeneth', 'reeled', 'omnipotence', 'immense', 'dumpling', 'receiue', 'household', 'bestir', 'dancing', 'searcheth', 'exhorted', 'thimble', '53:3', 'landau', 'stool', 'stake', 'luncheon', 'candidate', 'impressively', 'professionalism', 'fume', 'worshipper', 'tartar', 'prostration', 'snorting', 'heightening', 'respite', 'haggle', 'gay', 'steadily', 'shimron', 'abruptly--', 'era', 'confronted', 'hephzibah', 'proudly', 'eleazar', 'restless', 'essay', 'fellowlabourer', 'messala', '21:6', 'subside', '31:52', 'awakened', 'compute', 'begging', 'nahum', 'clot', 'awaken', '20:17', 'free', 'hoby', 'disquieted', 'adultery', 'disclosed', 'faithfulness', 'uzzah', 'inaccurate', 'part', '22:44', 'tapping', 'enraged', 'semblance', 'warmly', 'pupella', 'snobbish', 'deprecating', 'dispassionately', 'cannibalism', 'represents', 'mattan', 'abatement', \"suffer'd\", 'sub', 'impulse', 'cracking', 'muffled', 'rigidly', 'vacation', 'immeasurable', 'refusing', 'syene', 'again.--', 'employing', 'adria', 'childlike', 'apostate', 'adoption', 'inspires', 'margery', '30:27', 'holy', 'nazareth', '4:32', 'chode', '6:68', 'chorazin', 'uzza', '26:6', 'dreamed', '24:27', 'boisterously', 'preferment', 'deliuer', 'scholarship', 'scour', 'clowne', 'socially', 'detractor', 'jointure', 'scolded', 'treated', 'macy', 'nested', 'ardent', 'condolence', 'heroism', 'photograph', 'dunce', 'veto', 'pomona', 'disarmament', 'lycaonia', 'contemporary', 'imposed', 'assertion', 'escalates', 'ranke', 'swan', 'cere', 'ceaseth', 'marseille', 'unfeigned', 'officiating', 'oiled', '14:52', 'late', '5:19', 'recourse', 'nomadic', 'planter', 'righteously', '65:8', 'trebble', 'rapine', 'turke', 'expecting', 'ascribed', '20:38', 'enlarges', 'repeatedly', 'tasked', 'exhausting', '17:34', 'celebrating', 'payoff', \"pick'd\", '2:42', \"form'd\", 'kite', 'arbitrary', 'middle', 'wanteth', 'twist', 'tested', 'brawling', 'housekeeper', 'germany', 'machinist', 'blacksmith', 'final', 'requite', '6:51', 'benwick', 'weale', '34:13', 'kentucky', '54:2', \"key'd\", 'vindictively', 'ominous', \"scap'd\", 'impenitent', 'unwanted', 'astonish', 'macey', 'fedex', 'chivalry', 'intrusted', 'interview', 'tracing', '48:18', 'arnhold', 'restore', 'mar', 'seminary', 'unloads', 'sadducee', 'lamented', '1492', 'than', 'girdle', 'dawlish', 'assorted', 'recorder', 'responds', 'keepest', 'dangle', 'delusive', '12:6', 'lesko', 'bridewell', 'lawless', 'gathered', 'plase', 'rosy', 'ensemble', \"d'souza\", 'jurisdiction', 'aquila', 'dorchester', 'peep', 'bedside', 'vibrated', '65:13', 'pest', 'jackanapes', 'interval', 'asahel', 'dere', 'windmill', 'revengeth', 'shakily', '16:9', 'perth', 'againe', 'seconded', 'retreat', 'wrotham', \"peep'd\", '36:3', 'latin', 'limbed', '28:17', 'onanist', 'decision', 'eager', 'sighted', 'brine', 'scandal', '2:40', 'edom', 'convex', 'incarnate', 'ida', '44:6', 'scrambled', 'neutral', 'stand', 'valencourt', 'supple', 'disconsolately', 'mortal', 'norfolk', 'lurking', 'purposed', '4:47', '11:47', 'ellenborough', 'abject', 'watchful', 'brimming', 'discomfort', 'forlorn', '48:16', \"bloom'd\", 'boasting', 'graduation', 'passover', 'bashfulness', 'twelfth', 'barge', 'ponders', 'seywards', 'tranquillize', 'growing', 'distinguishing', 'aholibah', 'mcdaniel', 'unpitying', 'recommending', 'assembling', 'epistle', 'earl', 'vineyarder', 'mulberry', 'british', 'chowder', 'sadoc', 'accepting', 'graze', 'libnites', 'happier', 'again--', 'thrust', 'hora', 'intreaty', 'man!--and', 'pageviews', 'traverse', 'blush', \"t'gallant\", 'hearkened', \"receiu'd\", 'pitiless', 'floundering', 'lamech', 'forgat', 'secreted', 'plunge', 'diddled', 'wannacry', 'whiny', '39:23', 'equation', 'poisoning', 'peopled', 'legging', 'zabad', '22:23', 'auditor', 'merest', 'ache', 'polluted', 'unpaid', 'monk', 'mercosur', 'il', 'escheweth', 'process', 'persist', 'buttoned', 'dyed', 'normandy', 'manasseh', 'substance', 'collected', 'wheelbarrow', 'erroneous', 'chosen', 'trumpenomics', 'brig', 'forsake', 'steadier', 'familiarized', 'performed', 'hamongog', 'yesty', '70-year', 'revolutionary', 'perhaps--', 'consumptive', 'standeth', 'rewarded', 'baanah', 'waitest', 'whispered', '20:4', 'racking', 'manchon', 'scant', '31:35', 'thrown', 'dominant', '7:64', 'row', 'fearefull', 'kingdom', 'considerable', 'worthier', 'mobile', 'kerry', 'mizpeh', 'diabolical', 'outlining', 'hardest', 'coronation', 'achan', 'trudged', 'eerie', 'besai', 'banned', \"may'st\", 'diversion', 'brier', 'gambling', 'xiv', 'embrocation', 'lady', 'reiterates', 'whew', 'breathe', 'disapproval', 'ransom', 'outraged', 'creative', 'humbug', 'tavern', '48:15', '22:4', 'disorder', '10:10', 'willow', 'shortened', 'committing', 'brexit', 'katie', 'unweeting', 'trolled', 'luff', 'glowed', 'completes', 'scar', 'dubke', 'countenance', 'toth', '7', '30:18', 'supplication', 'birthday', 'tactful', 'countless', 'trickes', 'revolters', 'hower', 'thankful', 'understandest', 'inculcated', 'silent', 'smooth', 'newspaper', 'captive', 'humorously', 'reproachful', 'aperture', 'sturdy', 'wearying', '44:2', 'diuel', 'obedience', 'planing', 'wring', 'doing', 'bout', 'formality', 'deerer', 'cheltenham', 'sinnes', 'sallied', '16:13', '25:38', 'talent', 'meanly', 'gayne', 'dismembered', 'stilly', 'bear', '48:20', '20:28', 'accrued', 'unclosed', 'munition', 'u.k.', 'torture', 'healing', 'memorial', 'susceptible', 'alert', 'housetop', 'awhile', 'task', 'sosthenes', 'solitude', '57:2', 'counsell', 'compass', 'dreamer', 'halfe', 'stab', 'today', 'county', 'terrify', 'tiglathpileser', 'relief', 'soft', 'calles', 'ringed', '34:15', '19:30', 'repeal', '17:40', 'of.--', '44:12', 'bronzed', 'deci', '27:28', 'meribah', 'howsoever', 'architecture', 'unequalled', 'technically', 'expulsion', 'morter', 'melchizedek', 'agitated', 'croud', 'unborn', 'clip', 'hin', 'remarkable', 'survey', 'branded', 'acquired', 'intends', 'motorway', 'securely', '25:27', 'tempter', '12:51', 'scorched', 'professed', 'beholds', 'fattest', \"drown'd\", 'cupola', 'posing', 'hide', 'gallant', 'paunch', 'shophach', 'fire', 'metal', '1', 'fitness', 'parading', 'hardly', '17:24', 'irregularly', 'sheathed', 'abhorring', 'it--', 'moment', 'colorado', 'deerest', 'seled', 'manifold', 'zephaniah', 'paralysis', 'willingly', 'siege', 'you?--i', 'ranked', 'group', 'vexatious', '26:35', 'grumbled', '9:14', 'unearthed', 'stitch', 'resists', 'cuttle', 'liked', 'threatened', 'palestina', 'islam', 'resembling', 'beginning', 'addressing', 'alow', 'prophesy', '24:46', 'ruffle', 'kadmiel', 'dj', 'dr.', '31:32', 'bandage', 'poyson', 'genocide', '39:30', 'owned', 'theological', 'scrub', 'exxon', 'it;--but', 'cheerfulness', 'argues', 'chest', 'stunned', '11:16', 'senior', 'twere', 'beverage', 'rad', 'excuse', 'mask', 'booth', 'fade', 'regulate', 'sun', 'prepossessing', 'quitted', 'blossom', 'hartfield--', 'setteth', 'sinneth', 'range', '37:25', 'chain', 'disappear', 'individuality', '45:13', '51:20', '4:31', '15:49', '59:3', 'report', 'veteran', 'sanctifieth', 'commandment', '14:33', 'kingston', 'shipworm', 'detachment', \"ow'd\", 'airth', 'unremarkable', '180-degree', 'wilful', 'historical', 'thousand', '43:25', 'catalonia', 'interrogating', 'rag', 'equality', 'know--', 'feede', 'petulance', 'rim', 'shouting', 'wherewithal', 'oat', \"cherish'd\", 'jug', 'bodiless', 'flagged', 'avast', 'heinrich', 'harrowing', 'mean--', 'ruddy', 'stagger', 'chaise', 'yeoman', 'exasperating', \"whoe'er\", 'consists', 'zion', 'sent', '16:45', 'surpassing', 'clergyman', 'artistic', 'prophetical', 'bremen', 'torment', 'liquid', '16:4', 'did', 'divisive', 'ratified', '36:16', 'voluptuous', '10:23', 'lacking', 'mull', 'tugged', 'waifing', 'nightingale', 'countryside', 'muslim', 'shapely', \"convey'd\", '66:6', 'regarded', 'john', 'cieled', 'tax', 'lilt', 'hawaiian', 'remaine', \"embalm'd\", 'hezekiah', 'discerns', 'consequent', 'parturition', 'method', 'k.c.', 'sidon', 'tidal', 'alarum', 'height', '21:33', 'combed', 'maturest', 'monologue', 'existing', 'rampart', 'ephah', 'murderer', 'rendered', 'campbell', 'dignity', 'talk', 'wasted', 'elfin', 'snugly', 'quelled', 'nigerian', \"doo't\", 'thirsting', 'etext93', 'economic', 'brained', 'unjustifiable', 'sublimed', 'learns', 'glorieth', 'abednego', 'packed', 'pastime', 'othniel', 'dragon', 'planet', '29:28', 'lee', 'midst', 'repaid', 'childishness', 'tweetstorms', 'misguided', 'conuey', 'curiouser', 'napoleon', 'sprig', 'jpmorgan', 'perceived', '26:26', 'tallest', 'shaketh', 'aecon', 'bench', 'secure', 'wondering', 'symmetrical', 'patent', 'ushered', 'dickens', 'tuning', '46:1', 'shelley', 'extermination', 'empty', 'unquestionably', 'conformed', 'join', '9:18', 'spit', 'voyage', 'unappalled', 'kelson', 'foameth', 'x', 'utilitarian', '23:48', 'shakspere', 'riveting', 'relapse', 'pelt', 'sensitive', 'ergo', 'voyaging', 'exaggerated', 'pint', 'viciousness', 'sway', 'modified', 'livelong', 'pekahiah', 'subscribe', 'occasional', 'decanter', 'vrge', 'stun', 'spread', 'tarshish', 'accrue', 'substantially', 'purpose', 'dynasty', 'upbeat', 'mellower', 'ballot', 'bittern', 'crushed', 'clean', 'junction', 'deliciousness', 'toilette', 'ripped', 'retrench', 'jerome', \"lean'd\", 'disastrous', 'northumberland', 'eliah', 'bashemath', 'passeth', 'arvadite', 'cetology', 'beleefe', 'air', 'obstinacy', 'tinge', 'buzze', 'description', 'harlot', 'onely', 'chair', 'denotes', '55:1', 'alms', 'gloat', 'truce', '10:17', 'unconvinced', 'rome', 'limestone', 'proof', 'sherebiah', 'simpler', 'rate', 'altereth', 'fame', 'moone', 'depicted', 'thwart', 'hist', '63:4', '55:13', 'zebulun', 'compact', '7:17', '11:17', 'no,\"--he', 'superiour', 'incognita', 'spat', 'a--', 'slumber', 'potted', 'vanish', 'ranking', 'hinders', 'encroaching', 'bru', 'perfidious', 'freely', 'fairer', 'whistleblower', '6:38', 'misunderstood', 'ahijah', 'england--', 'kehelathah', 'aim', 'superscription', 'humiliating', 'needest', 'jesty', 'bushel', 'rollicking', 'baalberith', \"remain'd\", 'literature', '25:16', 'may', 'gor', 'gohmert', 'is', 'authentic', 'primal', '28:39', 'simultaneous', 'monotonous', '48:7', 'scowl', 'foreseeing', 'forming', 'bates', 'hungrily', '74', 'downright', 'doted', 'likest', 'seaboard', 'affectionately', 'brave', 'web', 'flatly', 'owed', 'antarctica', 'breathes', 'decade', 'apostolic', 'stretched', 'incommode', \"attain'd\", 'dominance', 'others', 'portfolio', 'explicit', 'virility', 'collides', 'kanye', 'diuers', '19:21', 'tencent', 'ebook', '15:11', 'shinbone', 'sheshai', 'ebcdic', 'abstracting', 'feelingly', 'shipmaster', 'pass', '1:10', 'souse', 'striking', '27:18', 'cnnpolitics.com', 'damaged', 'villaine', 'gabbard', 'laodicea', 'mahlon', 'befallen', 'colour', 'taciturn', 'lettered', 'afar', 'ajalon', 'newness', 'completed', 'swalloweth', 'themselves.--', '29', '59:7', 'micaiah', 'christian', 'acclaim', 'suck', '8:44', 'disgusted', 'calculate', 'grayheaded', 'diploma', 'historically', '1775', 'doused', 'lighthearted', '51:19', 'profuse', 'pated', 'deceiveth', 'iraq', '38:14', 'deliciously', 'auoyd', 'third', 'vapor', 'feedest', '47:2', 'supper', 'gaslight', 'miller', 'booty', '40:16', 'sorrowful', \"swell'd\", 'yielded', 'helpful', 'yeast', 'canterbury', 'aholibamah', \"unexpress'd\", 'ferret', 'bigot', 'split', 'huffpo', 'swiftest', 'rick', 'shameful', 'weaponizes', 'cornell', 'deputy', '63:1', 'sajid', 'turtle', '38:19', 'vowed', 'participate', 'bunting', 'pray', 'vile', 'nourished', '44:21', 'movable', 'forwarding', 'entered', 'exhorting', 'harosheth', 'banq', 'behooves', 'toppling', 'footstool', 'mungo', 'pleaseth', 'preuent', 'this--', 'board', '             ', 'vineyard', 'conflicting', 'oblation', 'excitedly', 'print!**for', 'grasp', 'her.--', 'suspecting', 'slunk', 'bondmaid', 'abominable', 'sheeny', 'shrugged', 'created', 'fulness', 'haughtily', 'cube', 'edge', 'cryptocurrency', 'peered', 'truant', '48:5', 'procure', 'stringing', 'backward', 'taxpayer', 'burqa', 'contrast', '36:4', 'crucifix', 'lease', 'reapest', 'breastplate', 'cowardice', 'navarro', 'operation', 'pitbull', 'guilty', '22:33', 'nosegay', 'wright', 'elect', 'caulk', 'mortified', 'rounding', 'sinecure', 'elle', 'stonewalling', 'scarred', 'arrange', 'wail', 'tenderest', 'demigod', 'tenacious', 'sand', 'nymph', 'eight', 'edify', 'factious', 'appendage', 'syme--', 'gooseberry', 'halter', 'drawling', 'minnesingers', 'saluteth', 'zerubbabel', 'castaway', 'zetham', 'firmly', 'everyday', 'powdering', 'stowaway', '                                                        ', 'garment', 'weaknesse', '28:18', 'shouted', 'linear', 'fatfleshed', 'likeliest', 'spiritual', 'imparts', 'continuing', 'kindle', 'shkreli', 'drinker', 'ruin', 'provideth', 'policeman', 'matriarch', '5:17', 'detroit', 'queerness', 'stiffened', 'heauy', '31:7', 'mahalath', 'pathetic', 'momentous', 'discoursing', 'investigates', 'novel', 'adonis', 'plowed', 'exaction', '51:14', 'tragic', '14:45', 'oregon', 'maddened', '32:3', 'excited', 'joha', 'complement', 'rascal', 'heare', 'lump', 'dane', 'secrecy', 'careys', 'squeezing', 'ser', 'lurked', 'cain', 'fatter', 'whizzing', 'alt', 'placeless', 'nahor', \"had'st\", 'live', 'withheld', 'homophobic', '41:32', 'wing', 'minor', 'travel', 'vigorous', 'aiah', 'begger', '25:24', 'polluting', 'elder', 'octagon', 'ukraine', 'overhung', '43:5', 'sincerely', 'confine', 'pretence', 'conversed', 'gomer', 'xv', 'lyrical', 'erie', 'indian', 'deprive', 'pleasant', 'columnist', 'spartan', '--and', 'miracle', 'woebegone', 'improperly', 'uphill', 'disdained', 'amariah', 'dismasted', '41:16', 'girdeth', 'vaulted', 'perceives', 'potiphar', 'comfort!--', 'abimelech', '3:21', '22:11', 'basement', 'me.--', 'hearsed', 'affable', 'secondly', 'jan.', 'renewed', 'flooding', '6:57', 'counteracting', 'tillerson', 'frosty', 'taste', \"wer't\", 'eyeful', 'intimidated', '33:2', 'correspondence', 'swayed', 'millionaire', 'kyaw', 'stealthy', 'nomad', 'carbuncle', 'journeying', 'throwing', 'embody', 'surmounting', 'striving', \"press'd\", 'ambergris', 'croft', 'offense', '19:46', 'flye', 'prison', 'barked', 'antipathy', 'hired', 'ouches', 'instigation', 'darken', '37:19', 'insignificance', 'owen', 'unites', 'voyager', 'duty', 'skyward', 'northward', 'editor', '14:37', 'interfering', 'subsisted', 'radish', 'dally', 'm1', \"unsurpass'd\", 'snowy', 'boasted', '9:45', '62:4', 'moulder', 'machine', 'hauing', 'len', 'unsound', 'deter', 'hath', \"clos'd\", 'firewood', '50:4', 'prairie', '30:31', 'shedding', '64:9', '31:26', 'starbuck', 'account.--', 'negativity', 'strewn', 'jealous', 'promised', 'canvassed', 'seraph', 'vivacious', 'roaring', 'futurity', 'begone', 'atlantic', 'tyrolean', 'jam', 'restorer', 'allowed', 'demerit', 'surplus', 'lizard', 'jehdeiah', 'java', 'prevails', 'sitter', 'allen', 'folly', '24:11', 'advertised', '62:7', '25:1', 'mithredath', 'abandon', 'appalled', 'wreak', 'believest', 'previous', '25:7', 'hollowly', 'tracking', 'benignant', 'forsookest', 'icrc', '36:34', '5:46', 'banister', 'thirteenth', 'hostesse', 'overpast', 'dreameth', 'swift', 'emetic', 'vigor', 'drowse', 'conversing', 'respected', 'tweeted', 'handsomest', 'arguing', 'standstill', 'unsatisfied', 'doubter', '59:15', 'handy', 'familiarly', 'table--', 'cherethites', 'shady', 'consultation', 'sophia', 'plumed', 'force', 'mordecai', 'steam', 'fowler', 'slamming', 'masterful', 'raise', 'clovenfooted', 'thing?--why', '33:6', 'm.d.', '17:25', 'mineral', 'ethereal', 'mossbonkers', 'inhaling', 'hued', 'numberless', 'duchess', 'objection', 'adde', 'osiris', 'choked', 'forefather', 'generation', 'pendragon', 'university', '1791', 'libertine', 'packet', 'turnbull', 'cafe', 'arrowroot', 'thoroughly', 'pocohontas', 'wisdom', 'nuee', 'socoh', 'entertaining', 'synod', 'signify', 'preface', 'dray', 'marvellously', '38:8', 'deny', 'laundered', 'evolutionary', 'owneth', 'diary', 'listens', 'hoboken', 'demonstrator', 'twining', 'feared', 'greediness', 'baldwin', 'soothed', 'beryl', 'indicated', 'bleak', 'convulsion', 'foursquare', 'lifteth', 'gershon', 'minuter', 'staple', '14:57', 'claire', 'shecaniah', 'unimportant', \"say'st\", 'savage', 'frightened', 'unaccompanied', 'mackinaw', 'lapping', 'y', '10:21', 'resolving', 'usher', 'upwind', 'colleague', '1:53', 'airy', 'suffuse', 'bered', 'superbest', 'volley', 'renish', 'suited', 'alphabet', 'belonging', \"color'd\", 'deepens', 'oversee', 'tilgathpilneser', 'andromeda', '17:1', 'despondent', 'bally', 'flourish', 'nursed', 'perceiving', 'sha', 'scrip', 'succeedest', 'titin', '30:22', 'trans', 'darksome', \"if't\", 'groanings', 'survive', '    ', 'walla', 'chicha', '21:25', 'turnest', 'bundle', 'passest', 'secretly', 'unloose', 'olden', 'drink', '2009', 'end', 'dominating', 'and', 'dissatisfaction', 'tearless', 'behalf', 'hypocrisy', 'fragmentary', 'sisamai', 'trumper', 'monopolising', 'convince', 'pap', 'mood', 'hustle', 'bon', 'do?--very', 'hananeel', 'me!--oh', 'contribution', 'macb', 'undulate', '38:21', 'gob', 'spiro', 'eel', 'stronger', 'tm', 'inappropriate', 'experiencing', 'tekoites', 'dutie', 'triggered', 'keith', 'peepe', 'snapping', 'exempt', 'undignified', 'mosaic', 'suavity', 'trebonius', 'expert', 'aeneas', '8:57', 'harass', '56:8', '7:35', 'clever', '32:7', 'equating', 'wane', \"bow'd\", 'pricking', 'gilgal', 'dowager', 'readiness', 'transferred', 'himalayan', 'search', 'wrapped', 'profane', 'josedech', 'penelope', '14:2', 'coverage', '4:17', '17:23', 'seducer', 'cainan', 'zillah', 'athirst', 'stance', 'smoake', 'gorsuch', 'knock', 'sexually', 'venereal', 'macleod', 'yosemite', 'april', 'surged', 'printing', 'fails', 'kabul', 'lobbied', 'plaster', 'moody', 'jekamiah', 'cheese', 'twitter', 'killed', 'pricked', 'ate', 'ohio', 'entice', 'seasoned', 'here', 'outcry', 'peltier', 'noiseless', 'joosy', 'introduction', 'boehner', '14:16', 'carnival', 'dixon', 'repay', 'soever', 'vastly', 'mattis', 'sinkes', 'bet', 'locking', 'unconcerned', 'winged', 'hazel', 'wending', 'unconditional', 'rioting', 'pontus', 'unobtrusively', 'indecorous', 'shopkeeper', 'idealist', '49:3', 'pergamos', '34:10', 'iconium', 'ostrich', 'brevity', 'ordination', 'longing', 'attention', 'applicable', \"gain'd\", 'alleged', 'eternize', 'docile', 'presume', 'perforce', 'fermented', 'decayeth', 'disturbance', 'pepe', \"paus'd\", 'reuolt', 'pleading', 'falleth', 'jemima', 'birthplace', 'repast', 'delaford', 'investiture', 'daylight', 'tirshatha', 'almondiblathaim', '19:15', 'occasionally', 'dexterously', 'risest', 'rental', 'lofty', 'ira', 'jem', 'adventure', 'invocation', 'pact', 'zacchaeus', 'corbyn', '28:25', 'indie', 'mainly', 'devotee', 'ephlal', 'dibon', 'throe', 'henceforward', 'await', 'clave', 'propose', 'burger', 'dayes', \"ye're\", 'hostess', 'grandchild', 'nervous', 'nash', '36:15', 'ruining', 'pouch', 'zibeon', '9:48', 'eltolad', 'dick', 'signet', 'joram', 'evanescent', 'obeyeth', '39:9', 'investigating', 'correspondent', 'loin', '29:22', 'reformed', 'looketh', 'lobe', 'temporal', 'assiduous', 'mar.', 'vntill', 'moonlight', 'coax', 'heedless', 'speaketh', 'pondering', '2016', 'soo', 'odour', 'myrtle', 'sabeans', 'heavier', 'undecipherable', 'distillation', 'browser', 'prompted', 'paradoxical', 'maidservant', 'higbie', 'stander', '250', 'walling', 'transparency', 'archibald', 'surmise', 'fork', 'presuming', 'ny', 'buz', '3:51', 'piercefield', 'repeating', 'carue', 'lieu', 'steroid', 'to----', 'provident', 'active', 'begettest', 'fcc', \"join'd\", 'propels', 'stretcher', 'threaded', 'delayeth', '13:47', 'collectively', '35-year', 'lancer', 'hungry', '47:12', 'yellowish', 'squeaky', 'idealistic', 'talker', 'celebrates', 'bony', 'cohering', 'body', 'croquet', 'incorruptible', 'lettest', 'knaue', 'polonius', 'maria', 'square', 'ruling', '39:3', 'swelled', 'marcher', '11:22', 'defining', 'causest', 'grandmama', 'lama', 'visitor', 'decamp', '47:4', 'penalty', 'glacier', 'moore', \"ar't\", 'solicit', 'acquaintance', 'scaped', 'camille', 'augur', 'beseeching', 'breath', 'snore', 'prickt', 'invariably', 'wringing', 'unadorned', 'pa.', 'largest', 'instrument', 'poking', '35:10', 'complicit', 'graciously', 'tampon', \"consider'd\", 'sausage', 'goldman', 'busie', 'nakedly', 'consistent', 'excel', 'politician', 'universe', 'beacon', 'brutally', 'mahershalalhashbaz', 'sposo', 'hansom', 'pent', 'merkel', 'lighted', 'unobservant', 'parcel', 'nonbinary', 'enumeration', 'experienced', 'lula', 'britannia', 'crawling', 'hadad', 'disease', 'tracked', 'gillibrand', 'molasses', 'soothe', 'vivaciously', 'fetch', 'basket', '17th', 'mouldering', 'return', 'observance', 'impersonated', 'revenue', 'sexta', 'attentively', '29:38', 'reinstate', 'wore', 'venus', '57:6', 'pethahiah', '55:3', 'puncture', 'standpoint', 'betwixt', 'sibmah', 'lever', 'clan', '26:24', \"e'ene\", 'proposing', 'inheritance', 'valuation', 'midsummer', 'wiretapped', 'accomplished', 'cicerone', 'barbara', 'despairing', 'cadence', '8:52', 'physiognomical', 'permissive', 'rug', 'accumulate', 'me!--not', 'ephrathite', 'shrewdly', 'servitor', 'returneth', 'disgorging', 'enigma', 'agonized', 'fourpence', 'mullen', 'castle', '1828', 'tookest', 'ravished', 'behead', 'superseded', 'insuperable', 'anybody', 'deck', '81', 'schoolroom', 'affrighted', 'sublime', 'clone', 'brahma', 'twopence', 'tarmac', 'contentment', 'satyr', 'ur', 'lunge', 'grim', 'reigning', 'duodecimo', 'avenging', 'pat', 'danites', 'romney', 'mat', 'baalzephon', '31:21', 'destroye', 'sleep', 'wheeling', 'banjo', 'wicked', 'mysteriously', 'refine', 'duo', 'conscious', 'care,--_but', 'blasphemous', 'masterless', 'congenial', 'requisite', \"clutch'd\", 'trample', 'precedent', 'aforethought', 'tandem', 'bridled', 'olive', 'price', 'pasturage', 'unbuckling', 'rectangular', 'theology', 'bun', 'neglect', 'journalism', 'mode', 'yates', 'ringstraked', 'implanted', \"o'ryan\", 'expedition', 'simplest', 'advertising', 'prone', 'ryan', 'mouing', 'haphazard', 'house', 'dynamic', 'fearest', '19:39', 'tore', 'amplified', \"seiz'd\", '37:22', 'dried', '29:10', 'gedor', 'uzzielites', 'creeper', 'sheaf', 'exploration', 'salem', 'looseth', 'warmeth', 'concentration', 'sniffing', 'bell', 'platitude', 'patch', 'sightlesse', 'bourgeois', 'bearing', 'longer', 'queried', 'impatient', '104', '15th', 'splutter', 'hornbill', 'pig', 'repute', 'upside', 'clash', 'unqualified', '24:48', 'algeria', 'inconsiderately', \"deceiv'd\", 'ephrath', 'mingle', 'nebraska', '7:37', 'fundamental', 'bison', 'outward', 'circle', 'strake', 'creaking', 'condition', 'brick', 'ascii', 'aram', 'criticised', 'ucla', '66:2', 'trowsers', 'devonshire', 'keilah', 'objecting', 'aglow', 'enwinding', 'ant', 'dorsetshire', 'dogma', 'tolland', 'hospitalized', 'applying', 'dairy', 'catalogue', 'trench', 'summoned', '2:47', 'brexiteers', 'slide', 'quench', 'mac', 'paralysed', 'wailing', 'clinking', 'gnashed', 'hillside', 'potipherah', 'collared', 'consulted', 'macron', 'mutilation', 'purporting', 'disrelish', 'journalistic', 'eyebrow', 'ang', 'witch', '4:36', 'sensible', '49:10', 'clock', 'repining', 'witted', 'imminent', 'children.--', 'ellasar', 'treading', 'detective', 'vermilion', 'debtor', 'thereabout', 'ardour', 'tube', 'kroger', 'crumb', 'astonishing', 'tough', 'inspiration', 'guestchamber', 'notable', 'programme', 'inflame', 'aspired', 'hone', '30:21', 'douceurs', 'handcuff', 'kishon', 'askance', 'woven', 'sturdily', \"turban'd\", 'corrupting', 'drawing', 'america', 'seuenty', 'afrin', 'lungless', 'clarion', 'disobeyed', 'ajar', 'wreath', '9:3', 'gaunt', 'exploiting', 'campos', 'showy', 'parkland', 'forgetteth', '29:16', 'liberal', 'berry', 'withereth', '27:4', 'bowel', 'searchable', 'bitterly', 'communicate', 'occurrence', 'scoot', 'furled', 'phrygia', 'prefer', 'narrower', 'murdering', 'continue', 'actress', 'egress', '41:13', 'frontlet', 'weird', 'hiss', 'remembrance', 'desolation', 'inscription', 'swisserland', 'riyadh', 'responsible', 'mutilated', 'knoll', 'harsh', 'simeon', 'azel', '5:47', '10:31', 'tenth', 'marvelling', 'bitnet', 'minute', 'strictly', 'reades', 'helah', 'downstairs', 'wee', 'zedekiah', 'marshalled', 'represented', 'prized', 'circular', 'devours', 'interviewer', '33:18', 'pelonite', 'stubb', 'forgavest', 'waif', 'pahathmoab', 'twinkle', 'temporary', 'viewed', 'betokened', '6:19', '36:35', 'forasmuch', 'yoked', 'purer', 'fault', 'dig', 'cutler', 'sycophant', 'hariph', 'linking', 'pruitt', \"thank'e\", 'maned', 'ephod', 'enterprize', 'vestment', 'favouring', '13:22', '59', 'radio', 'clinging', 'resorted', '7:23', 'luckless', 'reparation', 'hyacinth', 'off!--', 'pavement', 'deportee', 'preeminence', 'enquiry', 'bountifully', '6:33', 'prioritize', 'filled', 'slipped', 'pransings', 'gateway', 'sounding', 'absorbed', 'fashter', 'start', 'wilbur', 'relent', 'surveyor', 'tingled', 'talbotite', 'malachi', 'spakest', 'drug', 'bandstand', 'revived', 'evan', 'deportation', 'moot', 'jackal', 'anna', \"dinah'll\", '13:38', 'resonant', 'edication', '2020', 'allowance', 'snapped', 'palisade', 'wroth', 'awfulness', 'grey', 'sling', 'aijalon', 'asteroid', 'fairylike', 'gravity', 'intermediate', 'defection', 'pathos', 'duet', '44:9', 'haven', 'nicolaitanes', 'lynch', 'consequential', 'passage', 'shammah', 'unforgettable', 'mildness', 'empowered', 'daily', 'groom', 'uniformly', 'neskyeuna', 'grimly', 'inclining', 'coil', 'interminable', 'meeting', 'musical', 'jael', 'twer', 'must', 'cheery', 'surpasses', 'quaintly', 'google', '1984', 'arbiter', 'perverteth', 'soweth', 'ooze', '1:46', 'truism', 'father--', 'pilgrimage', 'gamesomeness', 'foreseeth', 'northerly', 'fawn', 'windrows', 'onion', 'piney', 'reverend', 'jong', 'betroth', 'content', 'strategy', 'wade', 'swooping', 'directeth', 'swimming', 'doings', 'favoured', 'recognizing', 'fortune', 'tempest', 'blessest', 'softness', '4:11', 'quenchless', 'wandereth', 'unhappily', 'cohered', '                                              ', '32:5', 'huddled', '24:40', 'allure', 'wrestling', 'nixon', 'sardius', 'closset', 'bowline', 'fact', 'imperiously', 'gps', 'intemperance', \"summ'd\", 'dominion', 'trestle', 'oar', 'steale', 'popularity', 'seed', '27:40', 'retaining', 'commandest', 'larry', 'redwood', 'seclude', 'peacock', 'determinate', 'voided', 'individual', 'kelly', 'composed', 'corporeally', 'are', 'idolized', '12:11', 'distant', 'wheedle', 'traversing', 'patted', 'opened', 'fettered', '51:2', '11:33', '--the', 'fe', 'doug', '21:30', 'offered', 'joppa', '27:20', 'ephron', 'tracker', 'stalled', 'rupture', 'babylonian', 'volubility', 'expand', 'scented', 'fan', 'calculation', 'lame', 'older', 'peculiarly', 'unmoved', 'legitimately', '6:61', 'sheth', 'contenting', 'budding', 'cretan', 'bernard', '46:26', '5:41', 'harim', 'partisanship', 'lizza', 'snatched', 'potter', '8:18', 'small', 'perplexing', 'fitch', 'var', 'justifiable', 'worshippeth', 'enchanted', 'highland', 'lien', 'smack', 'chap', 'esteemed', 'sisera', 'taberah', 'comprehensible', 'affronted', 'wit', 'undeviating', 'ascendency', 'knelt', 'discriminating', 'imitation', 'seized', 'flora', 'gemini', '45:16', 'invoking', 'unleavened', 'nafta', 'amnesty', 'archery', 'extensive', 'impious', 'emigrant', 'abreast', 'month', 'fellowservant', 'surfeit', 'coyote', 'eder', 'unmasking', '22:52', 'vicar', 'gareb', 'battailes', 'impaired', 'slid', 'louisiana', 'protested', 'harangue', '41:10', 'padanaram', 'undercut', '32:25', 'quotation', 'toothache', 'myriad', 'lagging', 'giving', 'purchasing', 'clouded', 'fighting', 'claudio', 'commenting', 'claudia', '3:34', 'investigation', 'terminating', 'seedling', 'gezer', 'sorrow', 'slant', 'venome', 'fabrick', 'reviling', 'inacio', 'consoling', 'agonizingly', 'expound', 'contendeth', '14:55', \"lodg'd\", \"call'st\", 'colossal', 'deplored', 'muddy', 'halt', 'getteth', 'gallows', 'stabbed', 'merman', 'architect', 'pronunciation', 'prolonged', 'gyrating', 'traitor', 'overhand', 'extra', 'alien', 'hatter', 'conciliation', '44:18', 'transit', 'hauocke', 'sweare', 'insufferably', '11:54', 'belgian', 'frayed', 'cetacean', 'fining', 'pine', 'door--', \"can'st\", 'function', 'jr.', 'question', 'sanctuary', 'chechen', 'formall', 'bradshaw', 'interrogation', 'hecat', 'palpable', 'regardful', 'gill', 'wayward', 'sorceress', 'clumsy', 'nocturnal', 'abrupt', 'jihad', 'hour', 'undertaker', 'intervention', 'of?--', 'lucky', \"where'er\", 'eternity', 'nut', 'hitherto', 'fruit', 'heauen', 'sundered', 'remorse', 'uplift', 'hillel', 'arsenal', 'wormwood', 'pleasest', 'lure', 'mute', 'moscow', 'asp', 'ziph', 'corded', 'expectation', 'exposition', 'snipe', '62:8', 'toast', 'immortall', 'shape', 'harry', 'capricious', 'precinct', 'hollyhock', 'kickshaw', 'showery', 'personality', 'them,--', 'chemist', 'throated', 'simpson', '1:8', 'crackle', 'undertook', 'oooo', 'unthought', 'sodom', 'significantly', '6:71', 'avenge', 'generic', 'crowing', '50:25', 'harpooning', 'data', 'add', 'swine', '32:9', 'spectre', \"ruin'd\", 'tom', '41:29', 'constitution', 'robinson', 'mounting', 'watched', 'gloried', 'bottom', '28:11', 'curd', 'insurgent', 'differed', 'villager', 'poore', 'noways', 'belated', 'penetrate', 'oversight', '59:16', '7:71', '16:14', 'defendant', 'her.--it', 'ceti', 'pind', 'chug', 'daring', 'midshipman', 'uninsuredrepublican', 'schooling', 'eclipsing', 'neapolitan', 'hacker', 'motiue', 'drear', 'bathsheba', 'moor', 'reined', 'chibok', 'encircles', 'porn', 'bowing', 'wanderer', 'tenderhearted', 'steady', 'abstracted', 'viral', 'reclaim', 'desertion', 'justifying', 'farce', 'crew', 'chang', 'indisputable', 'illustrious', 'tar', 'transcend', 'rower', 'needeth', 'claudius', 'rep.', 'mink', 'infamy', 'sheshan', 'bannon', 'rule', 'sinai', 'lst', 'fagged', 'breezy', 'indolent', 'someone', 'cowardly', 'engagement--', 'renew', 'refraction', 'adopt', 'ammiel', 'augurers', 'bewildered', 'uncertainty', 'oddest', 'epaphroditus', '4:41', 'viscount', 'misconduct', '15:5', 'chick', 'lentiles', 'withstanding', 'cluny', 'mumbled', 'fatalism', 'twofold', 'tended', 'jerusalem', 'sole', 'least--', 'convulse', 'bin', 'profanity', 'clashed', 'kindleth', 'graciousness', 'herald', 'connexion', 'libyan', 'comprehending', 'spar', 'grandfather', 'aggravation', 'disgust', 'mais', 'chinnereth', 'insensibly', 'esquimaux', 'breaker', \"gash'd\", 'leasing', 'discount', 'ideology', 'opprest', 'nigeria', 'bridle', 'abomination', 'basest', 'airley', '27:36', 'digger', 'abstractedly', 'obi', 'banke', 'handing', 'testified', 'iest', 'deal', 'trapping', 'parentage', 'distort', 'screwed', 'ovation', '54:6', 'offering', 'obeying', 'belus', 'sickness', 'reed', 'brisk', 'yeeres', 'congress', 'corporal', 'unsuitable', \"cur'ous\", 'systematically', 'syllable', 'ard', 'brendan', 'widowhood', 'funnier', 'pussyhats', 'bred', 'real', 'hezir', 'plotting', 'galliot', 'lavish', 'acknowledges', 'cooked', 'skipped', \"nourish'd\", 'friend--', 'caphtor', 'hereditary', \"fill'd\", 'fudge', 'paying', 'sihor', 'nahath', 'gudgeon', 'yeares', '51:11', 'footprint', 'swirling', 'than--', 'mated', '29:7', 'leonine', 'work', 'fireplace', 'p.f.', 'abarim', 'trespass', 'rob', 'armhole', 'reminiscent', 'unsightly', 'pole', 'midfielder', 'attacking', 'longest', 'daft', '1:27', 'caroling', 'affluent', 'defenced', 'commonplace', 'interrupted', 'hisse', \"slaughter'd\", 'deuel', '48:19', 'superman', 'barzillai', 'perverting', 'milsom', 'jerahmeelites', 'genesis', 'purify', 'conundrum', 'flapping', 'answerer', 'sirius', 'helping', 'spotted', 'fruitage', 'verge', 'despite', 'strawed', 'eliel', 'amplitude', 'ocran', 'troy', 'whorish', 'cruiser', 'tidy', 'cleanly', 'glove', 'tongue', 'interesting', 'comest', 'unthinkable', 'superintend', 'abelbethmaachah', 'fourscore', 'disciplined', 'philippian', 'loafe', 'buttressed', 'winketh', 'sihon', 'carnally', 'cicero', 'irony', 'insipidity', 'invaded', '30:25', 'destructive', '28:37', 'totalitarian', \"fashion'd\", 'grocer', 'assured', 'wisedom', 'truly', 'fraud', 'interest', '36:11', '48:31', '100,000', 'mitre', '15:39', 'revelry', 'philosophic', 'cheerily', 'shuhite', '14:9', '35:31', 'bluish', 'duke', 'mingled', 'fishing', 'amuse', 'sweetening', 'belching', 'attested', 'shochoh', 'allude', 'islamic', \"hav'n't\", 'fracking', 'damnable', 'tanhumeth', 'spose', 'indebted', 'inspector', 'joyful', '41:31', 'disobeys', 'nebulous', 'flirting', '8:15', 'reproved', 'overlook', 'dune', 'unlading', 'deported', 'paddle', 'bobbin', 'heathenish', '22:15', '22:48', 'pourtrayed', 'accommodated', 'inquisitively', 'clam', 'nearing', 'olde', 'craft', 'unspeakably', 'undress', 'cauldron', 'isaac', '12:48', 'thenceforward', 'bragges', 'repose', 'through', 'lag', 'haft', 'plainly', 'inaugurate', 'apathy', 'amaziah', 'anatomy', 'crowbar', '24:33', 'lecture', 'hewer', 'council', 'pin', 'unactive', 'sized', 'mutton', 'discrimination', 'banked', 'inserted', 'terrible', 'authoritative', 'scena', 'cogent', 'scourge', 'rained', 'poureth', 'vestibule', 'afloat', 'suspend', 'exuding', 'morbidness', 'cleansed', 'ebb', '10:38', 'flask', 'chip', 'motto', 'remembers', '40:18', 'widely', 'persecuted', 'blazed', 'why', 'whiff', 'gateshead', 'preserver', 'taunt', 'contusion', 'ecuador', 'smutty', 'bandaged', 'fossil', 'feebleness', 'puget', 'informal', 'argus', 'yarman', 'flaunting', 'parsee', 'mocked', '50:17', 'surnamed', 'untoward', 'bespeaking', 'exalte', '16:20', 'meagre', 'script', 'gomorrha', 'hammon', 'undisclosed', 'pictured', 'kick', '31:16', '35:32', '11:40', 'legend', 'flagon', 'curb', 'circumcision', 'halted', 'barley', 'expostulation', 'assaying', 'accident', 'unwarrantably', 'capacious', 'mcauliffe', 'cattle', 'ninety', 'coursing', 'punishment', 'sheldon', 'concurred', 'reproveth', 'habitan', 'debris', 'beleeue', 'ioc', 'entanglement', 'jeconiah', 'kidnap', 'croker', 'vnction', 'traumatized', 'enchantment', 'overheard', 'tension', 'progress', '13:15', 'serle', 'wool', 'fluent', 'arrogancy', 'blown', 'meremoth', 'contrasting', 'herodians', 'threw', 'prose', 'emerald', '52:9', '9:40', 'indicative', 'muzzle', 'trill', 'sooner', 'flapper', 'playhouse', 'precisely', 'prying', 'cushioned', 'loophole', 'outlast', 'meshelemiah', 'darknesse', 'woodpecker', 'gresham', 'wealth', 'accepts', 'defensive', 'surgery', '22:20', 'companied', 'chuckled', 'cyclist', 'appertained', 'debase', 'sovereign', 'lung', 'man--', 'tobacco', 'seraiah', 'assaulted', 'smut', '64:5', 'separating', 'liveliest', 'date', \"ye'll\", 'chile', 'decide', 'angry', 'proverbial', 'raved', 'step', 'palsied', 'redland', 'confronts', 'kept', 'anatomical', 'herculaneum', '10', '10,000', 'vince', '1:19', 'wafting', 'well', 'corruptible', 'nicest', 'disguised', 'paragraph', 'statistic', 'deservedly', 'bully', '58:8', 'delineate', 'honeysuckle', 'bladder', 'divulged', 'deletes', 'justus', 'retired', 'helpmate', \"impell'd\", 'outright', 'lends', 'recount', 'refreshment', 'skirra', 'roger', 'starting', 'vengeful', 'filleted', 'tidiness', 'resident', 'highway', 'unheard', '39:10', '32:32', '418', 'foreseen', 'babylon', 'pet', 'properly', '60:11', 'nimrim', 'scribe', 'impatience', 'justly', 'enrique', '301', 'connoisseur', '                  ', 'freshness', 'bondage', 'unshored', 'commentator', 'infinity', 'expansion', 'commonalty', 'pantaloon', 'indeed!--i', 'competitive', 'ambitious', 'backwoodsman', '17:5', 'stiggs', 'cymber', 'booke', 'inuites', 'immoral', 'supped', 'retrospect', 'asking', 'webster', 'greatcoat', 'distress', 'keturah', 'exiled', 'rapist', 'snuff', 'day--', 'ambiguous', '5:11', 'ithamar', 'pancras', 'nehelamite', 'goe', 'twitch', 'mirth', 'swede', 'outfit', 'illiterate', 'fourteen', '49:24', 'passionate', 'ago', 'delighteth', 'villain', 'beatest', 'falne', 'gerar', 'cuckow', 'viewless', 'shone', 'dardanelles', 'cherubims', 'procopius', 'moralist', 'doubting', 'rocking', 'padon', '14:41', 'splice', '19:4', 'heather', 'awaked', '1.7', 'slantingly', 'tartarean', 'enrolled', 'uncleanness', 'dive', 'paint', 'mong', 'energy', '30:12', 'tart', 'dwindles', 'neighbouring', 'philip', 'deadliest', 'joes', 'marvelled', 'warplane', 'rencontre', 'fallen', 'mall', 'serah', 'shouldered', 'eye--', 'supernaturalism', 'rhododendron', 'especial', 'learning', 'rational', 'ebenezer', 'grasped', 'sighes', 'denounce', 'unchecked', '25:35', 'attaching', 'g.', 'throng', 'divert', 'sagaciously', '45:19', 'jericho', 'cummings', 'provoking', '31:41', 'shobal', '30:23', 'presumptuously', 'cals', 'paled', 'twisted', 'unintermitted', 'breathlessly', 'undiscovered', 'listener', 'janohah', 'flitted', 'transcribe', 'burdensome', 'matter--', 'fright', 'exceeded', 'countermemo', 'coulter', '51:7', 'subtil', 'mobil', 'apronful', 'female', 'reproacheth', 'amasa', '6:25', 'musgroves', 'gratifying', 'telleth', 'itch', 'ticket', 'permission', 'dishonourable', 'feverish', 'nh', 'fifa', 'numberest', 'haggith', 'sirion', 'distinctive', 'discontent', 'conducted', '49:14', 'murder', 'corrupters', 'irritating', 'homosexual', 'launching', 'it!--that', '5:18', 'meditated', 'reluctance', 'strengthening', 'trustedst', 'barrowful', 'discharging', 'betray', 'tarsus', 'globe', 'beginner', 'commandeth', 'hammock', 'melech', 'opaque', 'galloping', 'procession', 'expence', 'dossier', '42:24', 'laundering', 'annihilation', '27:24', 'eclipse', 'goddard', 'spectral', 'grone', \"accustom'd\", 'dame', 'smacking', 'extraordinary!--and', '66:13', 'captured', 'snubbed', 'disconcerted', 'hole', 'transgressing', 'icelandic', 'hong', 'reunite', 'avenged', '21:10', 'fissure', 'shaster', 'entreaty', 'kingdome', 'obeyedst', 'guided', 'smelling', 'waster', 'confession', 'strengthen', 'threshing', 'buttock', '32:23', 'marrieth', 'iumpe', 'morton', 'maybe', 'octauio', 'black', 'engraved', 'selling', 'nethaneel', 'chief', 'damp', \"distill'd\", 'jolly', 'agriculture', 'cincinnati', 'saluted', 'nuke', 'jechonias', 'ariel', 'cinna', 'ignominy', 'arisaig', 'pallor', 'tabor', 'meeke', 'chose', 'scheming', 'hur', 'incurable', 'ammihud', 'widow', 'geologist', 'enviable', 'biscuit', 'splendour', 'courteous', 'parlor', 'grappled', 'proceeds', 'fest', 'outweigh', 'booze', 'became', '8:40', 'joel', '   ', 'abstemious', 'vox', 'intruder', 'military', 'requesting', 'finish', 'tapestry', '24:22', 'thaad', 'considerest', 'counsel', 'execute', 'besought', 'kedesh', 'elamite', 'cloke', 'unpack', 'hatband', 'feather', 'progresse', 'abuser', 'equity', \"murther'd\", 'scale', 'remind', 'flashed', 'pessimist', 'cherub', 'himself--', 'iealous', 'hepher', 'crippled', \"us'd\", 'adani', 'retorted', 'carolina', 'endorse', '34:32', 'purged', 'precious', 'prophetic', 'stadium', 'cosmos', 'moustache', 'taskmaster', 'solitarily', 'helez', 'apothecary', 'unacknowledged', 'prometheus', 'custom', 'tabitha', 'crucifixion', 'humiliated', 'serjeant', 'tallying', 'interlude', 'hosed', 'jeduthun', 'roland', 'radiation', 'enriched', 'italy', 'hirah', 'lavender', 'obscured', 'pedestal', 'drugg', 'river', 'artemidorus', 'timna', 'college', 'implacable', 'mizen', 'affaire', 'ligarius', 'squirrel', \"conceal'd\", 'prepossession', 'open', 'paphos', 'facebook', 'chimney', 'cymbal', 'mattanah', \"temper'd\", 'jozabad', 'ugliest', 'buffoon', 'nuclear', 'venting', '45:22', 'jagged', 'calp', '3:5', 'antothite', 'ballad', 'landslide', 'aboriginal', 'girl', 'highlight', '4:35', 'twin', 'biggest', 'anarchist', 'unfulfilled', 'suppliant', '12:4', 'cutlas', 'slate', 'reward', 'soon', 'flaring', 'blossoming', 'obsequious', 'transcribed', 'fahrenheit', 'wallis', 'mayhew', 'midianitish', 'steamboat', 'appeared', 'trenched', 'brookfield', 'alternatively', 'piped', 'prevention', 'abbreviation', 'confer', 'inhale', 'eminently', 'contrariwise', 'ahold', '12:10', 'punching', 'scotus', 'somerville', '14:34', 'faction', 'lifelessly', 'inform', 'cpac', 'troas', 'ladder', 'defer', 'predict', 'democracy', 'mortall', 'circling', 'ingulfed', 'obamas', 'elaborate', 'submissive', 'holier', \"heau'n\", '12:23', 'zilpah', 'kettle', 'separated', 'lgbtq', 'mummy', '47:14', 'pallid', 'pisgah', 'greatly', 'fiue', 'undefined', 'smite', 'schwartz', 'sorrowing', 'hiv', '12:5', 'back', 'conversable', 'doxology', 'toasted', 'appellative', 'fishy', 'loser', 'distribute', 'fortitude', 'bellowing', 'somersault', 'igal', 'aclu', 'friendlier', 'seoul', 'lost', 'powerless', 'bounded', '7:42', 'chat', 'jewel', 'sexist', 'prejudice', '1870', 'auouch', 'freakout', 'sharper', 'average', 'perception', 'leaven', 'lumber', '22:46', 'athlete', 'known', 'samson', '1:24', 'icy', 'sinite', \"a'top\", 'enjoining', \"i'll\", 'cyberweapons', 'huddersfield', '26:13', 'impertinently', 'hooking', 'lowe', 'lunatick', 'happened', 'finder', 'slouched', 'abysm', 'jerubbaal', 'blustering', 'undergo', 'village', '24:16', 'ophrah', 'profound', 'beaten', 'groaned', 'quieted', 'malady', 'betook', \"destin'd\", 'fervid', 'vassal', 'groove', 'enlightened', 'mehida', 'gobern', 'recline', 'stoutest', 'neil', 'inconstancy', 'smiling', 'limb', 'incoming', '40:26', 'milton', 'conceive', 'inability', 'prodigal', 'corps', 'impregnable', 'professes', 'oarsman', '58:2', 'dashwood', 'reddening', 'selfwilled', 'vocal', 'hypocritical', 'tyranny', 'parisian', 'malice', 'intoxication', 'indication', 'slanderous', '                ', 'abelmeholah', 'briar', 'in', 'handsome', 'arizona', 'cried,--', 'turneth', '45:10', 'perplexity', 'chester', 'heeles', '9:15', 'completing', 'metaphysics', 'registry', '48:26', 'exquisite', 'teak', 'expects', 'arnon', 'frailest', 'territory', 'silicon', 'thereof', 'catalogued', 'slaue', 'liberality', 'version', 'herr', 'basketful', 'fledge', 'quietness', 'airing', 'hymning', 'inclosing', 'grit', 'dorm', 'agreeth', 'attest', 'stole', 'thicken', 'quilt', 'knowist', 'mazy', 'promote', 'machpelah', 'successor', 'habite', \"buoy'd\", 'coma', 'exceed', 'scout', '39:1', 'business', 'indifferent', '17:28', 'fairest', 'outrageous', 'milch', 'shaalbim', 'sheriff', 'lancy', \"flush'd\", 'austen', 'aaa', 'wickedly', 'transform', 'purposing', 'knob', 'slashing', 'utmost', 'leonora', 'vnion', 'bucket', 'waiving', 'swim', 'cylinder', 'nigel', 'something', '47:15', 'greybeard', 'cononiah', '2:19', 'eighteen', 'trial', 'ruines', \"unperform'd\", 'instantaneous', 'mysterious', \"confess'd\", 'bridal', 'keenly', '60:10', 'cottage', 'defended', '14:27', 'diagram', 'moseroth', 'leane', '18:22', 'reverie', \"thinn'd\", '33:25', 'clitus', 'relieve', 'continuation', 'lemonade', 'unrestingly', 'withs', 'warping', 'nasal', 'designedly', 'claiming', 'removing', 'amidst', 'elbe', 'enhances', 'emotion', 'recommended', 'meekly', 'revery', '38:17', 'jingle', 'lily', 'forgettest', '24:18', 'goodall', 'revelation', 'plunder', 'theatrical', 'giulio', 'burke', 'jehoadah', '10:11', 'alienate', 'harpoon', 'see', '26:30', '36', 'among', '46:25', 'dense', 'ensample', 'communing', 'stephanas', 'brewed', 'dogmatize', 'heber', 'affection', '13:46', 'pleasantness', '2:49', 'scream', 'devised', \"o'neill\", 'pell', 'structure', 'cloister', 'sincere', '17:27', '18:2', 'workwomen', 'hypothetically', 'beat', 'censorship', 'assures', \"pitch'd\", 'effuse', 'mark', 'tee', 'southern', 'penitence', 'memphian', 'guardianship', '3:49', 'smoothing', 'briefly', 'centurion', 'suspends', 'possessor', 'calmer', 'disdainfully', 'corporeal', 'omission', 'giuen', 'nautical', 'tearing', 'efficiency', 'auburn', 'manchester', '49:5', '30:32', 'endued', 'toilings', '8:59', 'accounted', 'cousin', 'coupled', 'disgustingly', 'blackmailer', 'served', 'unendurable', 'sarai', 'plentifully', 'chairman', 'melting', 'indubitable', 'hawkins--', 'broaddrick', 'lunged', 'honorable', 'poem', 'preaching', '12:33', 'detonation', '27:8', 'bowsprit', 'sleepeth', '17:16', 'planteth', 'scarcity', 'banker', 'rosenstein', 'tame', 'scraping', 'switching', 'hammedatha', 'lgbti', 'exposed', 'gloved', 'hawklike', 'pride', 'countryman', 'robe', 'citing', 'tickling', 'bilateral', 'hushim', 'endeavoured', 'invigorates', 'rash', 'evaporate', 'didymus', 'reliques', 'gulp', 'battledore', 'notched', 'boding', 'multiple', 'nethinims', 'dusting', 'jeopardy', 'offal', 'unarmed', 'ezbon', 'hoshea', 'vnlesse', 'despatch', 'imprisonment', 'hast', 'mob', 'pipe', 'broughtest', 'subsidize', 'hem', 'everlasting', 'abdi', 'viper', '1:40', 'skulking', 'preach', 'clear', 'ted', 'trapper', 'maintaining', 'muscari', 'untied', 'discovery', 'dominates', 'erastus', 'noxious', 'dodged', 'saintly', '41:18', 'bidden', 'busied', 'nekoda', 'vulgar', 'termination', 'bluntly', 'firebrand', 'domination', 'outpace', \"brandish'd\", 'unhappy', 'sportsman', 'previously', 'strayed', 'deciding', 'ensued', '5:15', 'erskine', 'fran', '13:24', 'hire', 'direst', '6:64', 'eliasaph', 'riveted', 'canavan', 'pagiel', 'asswaged', 'soared', '12:42', 'levelled', 'lemon', 'affronting', 'thrill', 'guernsey', '3:44', 'repel', 'inhabited', '7:58', 'submarine', 'graveclothes', 'scottish', 'thanksgiving', 'persists', '22:5', 'attai', 'unreasonably', 'fanatical', 'whether', 'warre', 'incomprehensible', 'tawn', 'unanimously', 'defiance', 'nite', 'o.', 'nantucket', 'aroma', 'cleansing', 'meyers', 'stead', 'stoodest', 'copiousness', 'habitual', 'waiting', 'establishment', 'canal', 'honour', 'micha', 'pantheist', 'frankfort', 'warres', 'fringed', 'esteeme', 'sedate', 'hindermost', 'unkempt', 'mccaskill', 'curricle', 'thewes', 'compounded', 'indenture', 'massa', 'fealty', 'canvassing', '20:32', '6:22', 'interested', 'bust', 'tediousness', 'drat', 'causeway', 'obey', 'spying', 'perturbation', 'mezahab', 'insist', 'spurning', 'gederoth', 'sheepskin', 'dishonoureth', 'unwise', 'crusade', 'pod', 'twoedged', 'growth', 'bethuel', 'astronomer', '25:36', 'sheleph', 'adherent', 'irishman', 'jahazah', 'finsbury', 'skull', 'speedy', 'evening', 'remnant', 'laboured', 'mournfully', 'landrieu', 'hypo', 'commented', 'impeachment', 'hapless', 'rest', 'antecedent', 'percent', 'distempered', 'schlapps', 'drugged', 'outrider', 'wednesday', 'respectable', 'sam', 'apnewsbreak', 'grease', 'western', 'preview', 'naivete', 'greater', 'hathaway', 'moth', 'trap', 'treatment', '15:40', 'pistol', 'lasting', 'seam', 'demas', 'moe', 'whisked', 'chinese', 'darkest', 'birnane', 'ulysses', 'wicker', 'strait', 'inordinate', 'punch', 'train', 'gebal', 'colicky', 'murdoch', '5:12', 'deutsche', 'splitting', 'skeleton', '37:11', 'tapering', 'harme', 'rise', 'netophathites', 'grind', 'examination', 'bramble', '8:23', 'town', 'wight', '32:12', 'guise', 'biteth', 'zealously', '11:48', 'solemn', 'corruptly', '18:11', 'tatnai', 'ingratiating', 'hello', 'heth', '1836', 'shemer', 'enos', 'nigger----', 'countrey', 'mischievous', 'nominee', 'paling', 'say--', 'inadequate', 'disgorge', 'plum-', 'louing', 'fatness', 'firearm', 'exist', 'pelatiah', 'pendent', 'blasphemy', 'terah', 'peaked', '37:16', \"unreturn'd\", 'questionable', 'inhabiteth', 'mosul', 'falsely', 'scan', 'handsomely', 'w.', 'marechal', 'bailey', \"order'd\", 'superficial', 'charger', 'brotherly', 'hut', 'imponderable', 'staff', 'endure', 'beto', 'desireth', 'lingering', 'before.--', '8:21', 'defect', 'manassian', 'uneven', 'require', 'terrace', '22:22', 'sh*t', 'jehoshabeath', 'dayspring', 'sweareth', 'mostly', 'her--', 'mus', 'drowned', 'comparing', 'trode', 'uprightly', 'initial', 'forever', 'lucil', 'discontented', '11:5', 'charnel', 'course', 'mathematician', 'abiezrites', 'feathered', '39:25', 'oliveyards', 'contradicted', '21:43', 'mace', 'chuses', 'hersel', 'glanced', '13:1', 'scathing', 'inferred', 'gershonite', 'perpetuated', 'orient', 'hetty', 'jehieli', 'naamathite', 'sanitary', 'sneaky', 'steadying', 'courtier', 'renascence', 'unbelieving', 'phalanx', '24:34', '30:2', 'sherd', 'unelectable', 'burying', 'composure', \"betray'd\", 'barter', 'layer', 'endeavored', 'incorporated', 'maty', 'y.sey', 'seating', 'mete', 'grimm', 'weeper', 'overtaking', 'dishonor', 'scamper', '28:2', 'yojo', 'cramp', 'australia', 'jobless', 'blaspheme', 'bewail', '50,000', 'imla', 'wilson', 'sulphurous', 'partaking', 'unnecessarily', 'sweat', 'colourless', 'weighed', 'zemaraim', 'overhaul', 'leaveth', 'perplex', 'shadow', 'tossed', 'wellpleasing', 'telassar', 'these', 'springeth', '32:10', 'invoked', 'dana', 'jennings', 'jochebed', 'expel', 'say----', 'guy', 'lobbyist', 'financier', '2000', 'starres', 'shadrach', 'marries', 'regardless', 'curling', 'dashing', 'slump', 'but--', 'nasturtium', 'sufferable', 'elsonower', 'mirror', 'snugness', 'perchance', 'terribly', 'prowess', 'boundless', 'several', 'sufficiently', 'esrom', 'superstitious', 'canyon', '30:29', 'bilin', 'spot', 'whereto', 'assistant', 'sentimentalist', 'sweepe', 'basis', 'unfortunately', 'levy', 'lappeth', 'prominently', 'column', 'unpretentious', 'confesseth', 'montenegro', 'ungenteel', '50:22', 'reclaimed', 'glorifying', 'candid', 'nipper', 'heave', 'variously', 'impotence', 'unreal', 'equall', 'describing', 'coll', 'prophecy', 'marling', 'moon', 'face', 'bland', 'winde', '46:12', 'tan', 'infection', 'dreaded', 'averts', 'shallum', 'shilling', 'pliny', 'hasteth', 'status', 'arm', 'tempered', 'asa', 'peak', \"cal'd\", 'mechanically', 'gloomily', 'whatsoeuer', 'shave', 'jasper', 'swiftly', 'elated', 'ammunition', 'glazed', 'attach', 'vndone', 'undo', 'recklessly', 'loveit', 'enact', 'payed', 'disagreement', 'knightley.--', 'gratefully', 'mamma', 'fixed', '32:22', 'walked', '13:16', 'carrying', 'emptier', 'venial', 'dismisse', 'lucillius', 'palestine', 'buriall', 'peaceably', 'tekel', 'hightened', 'becharmed', 'they', 'grappler', 'rebuff', 'caprice', 'broil', 'pruning', 'carpenter', 'attendee', 'afd', \"pul'd\", 'quartered', 'migrant', 'marlborough', 'degenerate', 'jehovah', 'coronet', 'serue', 'crooked', 'unicorn', 'sekulow', 'intonation', 'reigneth', '65:6', 'filipino', 'dandelion', 'rebuked', '22:19', 'peering', 'alive', 'station', 'reversed', '13:19', 'immutable', 'sympathise', 'tone', 'spud', 'metre', 'raiseth', '34:5', 'westerly', 'judgment', 'foretells', 'gentleness', 'caro', '21:13', 'tried', 'conflagration', 'stain', \"loos'd\", 'yawning', 'violation', '41:15', 'consciousness', 'bullet', 'stout', 'pure', 'betted', 'etexts', 'beheldst', '39:27', '8:24', 'hewed', '2,000', 'changeth', '32:17', '66:15', 'scupper', 'probably', 'lucre', 'whereinto', 'zarah', 'unprecedented', 'entrails', 'mandrake', 'minority', 'danish', 'sarcastically', 'criterion', 'clarify', '16:22', 'consistence', 'tolling', 'subconsciousness', 'galilee', 'effort', 'cautioning', 'kindnesse', '     ', 'pleiades', 'locomotive', 'araunah', '19:19', '26:53', 'quohog', 'performer', 'shotgun', 'tomb', 'kidney', 'cankerworm', 'designated', 'cleverest', 'gadi', 'curtsey', 'conjure', 'profile', 'zorobabel', 'madam', '36:17', 'northwest', 'comrade', 'cone', 'wounded', 'rauen', 'contemptibly', 'clearer', 'peremptory', 'hounded', 'prayeth', 'maggot', 'tittle', 'rip', 'gershonites', \"proportion'd\", '48:11', 'forge', 'mixt', 'horse', 'uttereth', 'maiesticall', '2001', 'elihu', 'crewkherne', 'fiery', 'assisted', 'chargeable', 'involve', 'spencer', 'unintelligent', 'lapierre', 'repetition', 'warlord', 'phone', 'pronounced', 'owe', 'tombigbee', 'ringing', 'cruise', 'consistency', 'journeyed', 'request', 'buckler', '3:18', '38:30', 'darius', 'moneychangers', 'revolt', 'laureate', 'hashub', 'sentiment', 'hinder', 'homeowner', 'lightest', 'payment', 'ittai', 'dying', 'pampas', 'settlement', '13:41', 'guardian', 'pulpit', 'afric', 'ailment', 'knowne', '66:9', 'insupportably', 'violent', 'brewery', 'dower', 'hall', 'orgy', 'revisiting', 'plummet', 'cordage', 'g', 'sphinx', 'recited', 'demolish', 'victorie', 'critique', 'violet', '9:21', 'cub', 'distract', 'bludgeon', 'whomsoever', \"heap'd\", 'ostler', 'deferment', 'fought', '7:15', 'sergeant', 'haradah', 'lingo', 'esteemeth', 'shalmaneser', 'reaping', 'st.', 'overspread', 'outlined', \"scallop'd\", 'witty', 'corridor', 'nipped', 'yoake', 'fruition', 'performeth', 'sleepy', '3:50', 'perplexed', 'u.s.', '55:7', 'wake', 'tink', 'ossifrage', 'cradle', '6:8', 'wedlock', 'upbraid', 'book', 'prevailing', 'postpone', 'trove', 'unhappiness', 'nurse', 'grieved', 'unembarrassed', 'silver', 'pete', 'petted', 'elegantly', 'incompatible', '34:1', '25:41', 'kossabone', 'cookery', 'segub', 'mouldy', 'silva', 'gang', 'wanting', 'scratch', 'unprejudiced', 'stiffening', 'precision', 'inflating', 'infectious', 'bay', 'deputation', 'survival', 'receipt', 'shutteth', 'zoology', 'haires', 'inquire', 'zalmonah', 'color', 'lustrous', 'contest', 'grade', 'soho', 'huram', 'yeare', 'dispaire', 'suspicion', 'rut', 'disappeared', 'shure', 'donwell', '4:24', 'snort', 'beautify', 'crony', 'rollback', '10:5', 'honoureth', 'estimating', 'grossly', '12:50', 'gaily', \"conquer'd\", 'inference', 'uncreate', 'enthroned', 'music', '22:36', '                                      ', 'abyss', 'sulkily', 'warmbier', 'barrel', 'savourest', 'hold', 'poltroon', 'flour', '56:12', 'circuit', '23:10', 'unobjectionable', 'cummin', 'originally', 'h', 'fabled', 'caroline', 'daboll', \"sway'd\", 'bethphage', 'thoughtfulness', 'skimming', 'interpret', 'repulse', '8:36', 'seawood', 'beater', 'crag', 'thundereth', 'preposterous', 'briefed', 'baited', 'poured', 'secured', 'identify', 'passionately', 'brand', 'resplendent', 'bible', 'unbiased', 'accidentally', 'biofuel', 'ligature', 'shetland', 'backwards', 'cripple', 'swerved', 'strength', 'humoredly', 'foreknowing', 'innocence', 'measureless', 'saying', 'periodical', 'barcelona', '4:5', 'hayden', 'reputation', '10:14', 'emergence', 'carted', 'butchered', 'prologue', 'gonzalez', 'disused', 'hiring', 'belted', 'propensity', 'avowed', 'pursuit', 'diplomatic', 'melon', 'kenezite', 'osha', 'blessedness', \"hipp'd\", 'travailing', 'happiness', 'dauntless', 'scribbled', 'loatheth', \"seal'd\", 'iraqi', 'dearest', 'canallers', 'dispose', 'vaunted', 'tormenting', 'decisively', 'loosen', 'imperceptible', 'fled', 'rapt', 'wear', 'protectionism', 'untwisting', 'ziklag', 'wondered', 'khan', 'problem', 'ailed', 'vapoury', 'preceded', 'refute', 'fanciful', 'abihu', 'bore', 'dryad', 'kim', 'gushing', 'glorify', \"express'd\", 'foundry', 'drowning', 'hena', 'sting', '7:5', \"question'd\", 'darting', 'flippancy', 'melt', 'cocoanut', 'felling', 'phil', 'scab', 'buttered', 'pitching', 'inferiour', 'dawning', '17:30', 'deale', 'progressive', 'insolent', 'stonest', 'burgomaster', 'abiram', 'cecilia', 'assuring', 'desisted', 'translating', '35:27', 'osricke', '16:35', '12:36', 'earthly', '22:3', 'bolting', 'riband', 'tehran', '1:50', 'portia', 'shy', 'unmanageable', 'venom', '27:3', 'aloof', 'raucous', 'insatiate', 'privileged', 'infantile', 'scarce', 'member', 'dismal', 'respectfully', \"belov'd\", 'existence', 'bundling', 'concourse', 'entreated', 'debouch', 'hope', 'whim', 'obadiah', 'lass', 'receding', 'opening', 'dublin', 'asset', 'redoubled', 'heccats', 'fiftieth', 'pallidness', 'sensational', 'balaam', 'payroll', 'foil', '9000', 'astounding', '14:39', 'educator', 'crowning', 'stride', 'worse', 'listeth', 'brinded', 'demur', 'bombing', 'eater', 'rite', '`', 'melbourne', 'goatlike', 'enduring', 'spared', 'obligation', 'lo', 'wormes', 'liues', 'gibeon', 'unworthy', '11', 'irreverent', \"is't\", 'tower', 'hanan', 'having', 'enforcing', 'herder', 'weares', 'helmut', 'provoke', 'license', 'swaddling', 'gift', 'tn', 'weare', 'rosincrane', 'waste', 'cutteth', 'peruvian', 'punctual', 'terre', 'beset', 'vertically', 'promulges', 'climbing', 'thereout', 'bouquet', 'dryly', 'leprous', 'battered', 'ginnethon', 'impanels', 'singularity', '7:20', 'tahath', 'other----', 'infernally', 'adin', 'geopolitical', 'sicknesse', 'public', 'vow', 'unleashed', 'replacing', 'unawares', 'cheever', '--so', 'invests', 'whensoever', \"allow'd\", 'lovingkindnesses', 'property', 'lucia', 'stink', 'shortest', 'councillor', 'dexterity', 'mournful', 'abundance', 'heapeth', \"play'd\", 'ebony', 'soak', 'precaution', 'procrastinator', 'abhorrence', 'sneezed', 'bias', 'lowliness', 'nastiness', 'hb2', 'sawn', 'lift', 'sachem', 'pathway', 'devout', '16:31', 'ale', 'howard', 'checker', 'output', 'high', \"help'd\", 'coasting', 'fulfil', 'lashed', 'betrayer', 'hawkins', 'veritas', 'doomed', 'forecast', 'qui', 'breed', 'apprised', 'ministereth', 'bonnet', 'wronged', 'believe', '7:3', 'dinesh', 'devoureth', 'listlessness', '29:13', 'bowd', '40:27', 'wriggling', 'opal', 'inevitably', 'knight', 'employer', 'clasping', 'nebo', 'plantation', 'reverted', 'speaking', 'grow', 'grounded', 'abortive', 'inmate', 'calamity', 'nineteen', 'unaided', 'cheer', 'holland', '40:35', 'bearskin', \"honor'd\", 'tin', \"trellis'd\", 'effectual', 'westward', 'borrowed', 'refuseth', 'strophe', 'teetotaller', 'violoncello', 'disagreeing', 'whirlpool', 'cognizant', 'partridge', 'hirsch', 'broadcloth', 'ambient', 'reception', 'gouerne', '17-year', 'reaper', 'posted', 'antilles', \"untrimm'd\", 'manent', 'counting', 'adl', \"chanc'd\", '20:9', 'plot', 'dwellingplace', 'automaton', 'mending', 'trumpcare', 'displaced', 'hoar', 'reefed', 'stooped', 'bolder', '30:38', 'lucidity', '31:27', 'tacking', 'revolve', 'lengthened', 'arrow', 'leaved', 'needes', 'sweaty', 'inasmuch', 'defy', 'hakupha', '29:12', 'comming', '40:28', 'misunderstand', '15:37', 'worming', 'led', 'cabinet', 'anchor', '31:48', 'mehetabel', '51:6', 'protects', 'incarnated', 'strumpet', 'apologetically', '14:26', 'soothsayer', 'uncorked', 'benefited', 'annoying', 'darling', 'jehoaddan', 'norweyan', '33:9', 'tending', 'soldiours', 'ospray', '5:39', 'egge', 'sabachthani', '30:17', 'josiah', 'n', 'bosomes', '5:9', 'joatham', 'imagined', 'safe', 'reigned', 'middling', 'poysoner', 'bestows', 'dishonesty', '16:41', 'cape', '41:27', 'meehan', 'amelia', 'exaltation', 'gymnasium', 'broidered', 'engulfed', 'sedona', 'dizzy', 'cryedst', 'finest', 'voyce', 'barnardo', 'deposit', 'abia', 'ishmeelites', 'weeny', 'starlight', 'wahsatch', 'groening', 'prophesie', 'sensual', '55:2', 'undaunted', 'additional', 'kinsman', 'pitchfork', 'unfrequently', 'diaper', 'oak', 'wine', 'nebaioth', '6:7', 'querulous', 'clearness', 'salesman', 'protestation', '100', 'messa', 'bezai', 'crawl', 'explaining', 'stumble', 'effectually', 'bebai', 'mediaeval', 'unbidden', 'impossibility', 'salisbury', 'paris', 'credulous', 'raising', 'transcript', 'ejaculation', 'disdain', 'benjamite', 'kuaishou', '39:2', 'zorah', 'cursedst', 'incomparable', 'curving', 'confirmeth', 'situate', 'officer', 'kirjatharba', 'rendering', 'perennial', 'h.', 'grace', 'published', 'incorporeal', 'presidential', 'with', 'vessell', 'matched', 'anxious', 'receiveth', 'shadowes', 'pinioned', 'cruelest', 'hey', 'looked', 'jeshaiah', 'sleepes', 'explode', 'medication', 'creditable', '10:6', 'uncompleted', 'condemning', 'holder', 'admiring', 'anymore', 'allotment', 'evaluation', 'supporting', 'discourse', 'poleak', 'shee', 'samaritan', 'indictment', '2:13', 'write', 'succor', '57:7', '10:12', 'inconsiderable', 'babel', 'scorning', 'adjust', 'premium', 'escalade', 'arc', 'debt', 'asiatic', 'unplumbed', 'freeze', 'lippety', 'spike', 'nipple', \"woo't\", 'redness', 'shimmer', 'belfry', '6:11', 'tanner', 'hummed', 'tap', 'pacify', 'trillion', 'russia', 'unlocked', 'unquenchable', 'married', 'traceable', 'wto', \"rul'd\", 'solemnity', 'fierce', 'istanbul', 'jethro', 'cocaine', 'raven', 'annie', 'variation', 'tone--', 'solitary', 'encamped', 'probable', '8:30', 'express', 'liability', 'arouses', 'bough', 'figure', '8:47', 'crumbled', 'trundle', 'unemployment', 'atlantica', 'mortality', 'division', 'piquet', 'overspreading', 'standest', 'nieto', 'mesopotamia', 'shawl', 'murmuring', 'tranque', 'taking', '22:28', 'tahan', 'hideously', 'france', 'lectured', 'rivulet', 'whitman', '15:8', 'jeshurun', 'pantheistic', 'disposed', 'inflammatory', \"d'wolf\", 'juniper', 'breakwater', 'follow', '4:23', 'facility', 'modernize', 'up', '12:22', 'tho', 'anathema', 'gleaming', 'lineament', 'testifieth', 'triple', 'vigorously', 'involves', 'descended', 'bamboo', 'execration', '97', 'wilfulness', 'wasting', 'adminstration', 'substituting', 'summoning', 'juvenile', 'leade', 'mane', 'release', 'elastic', 'thump', 'nevada', 'die', 'estrangement', 'true', '9:32', 'lectern', 'trustworthy', 'him?--', '15:29', 'gazette', 'waterpots', 'padlock', 'roebuck', 'circumnavigating', 'forswear', 'conjecturing', '40:34', 'thankfully', '10-day', 'orchestra', \"talk'd\", '31:50', 'shivered', 'intact', '49:33', 'scepticism', 'ecstasy', 'nbc', \"arous'd\", 'vicissitude', 'hazarmaveth', 'litigious', 'enscombe', 'repeated', 'bethel', 'instructed', 'hind', 'mentioned', 'careen', 'soothings', 'lath', 'tangling', 'azaziah', 'shingle', '42:10', 'gourd', 'swollen', 'affirmed', \"welcom'd\", 'change', '38:1', 'shulamite', 'beak', 'reiterated', 'drawn', 'dolefully', 'embarrassing', 'steered', '25:2', 'encompassed', 'globule', '2005', 'any', 'excused', 'intuition', 'exposure', 'praying', 'filter', 'admit', 'abated', '9:7', 'whoring', 'broadcaster', 'throttled', 'pickup', 'europe', 'ousted', 'console', 'hunger', \"stay'd\", 'comical', 'inmost', 'elephanta', 'assos', 'rumor', 'acting', 'rephaims', 'glad', 'maroon', 'feuillage', 'comparable', 'singed', 'shashak', 'revengeful', '94', 'asphaltic', '6:21', 'msnbc', 'riddle', 'disliked', \"unloosen'd\", 'smarting', 'fallout', 'put', 'imbibed', 't.', 'fauours', '21:40', 'frugal', 'rebuilt', 'noticing', '12:7', '34:19', 'a.', 'silken', 'plenteousness', 'cheap', 'goblet', 'cuvier', 'posen', 'freedome', 'sang,--', 'floated', 'fugitive', 'assiduity', 'baked', 'float', 'bearded', 'dreadfully', 'tendency', 'fain', 'tourist', 'accessory', 'jeush', 'purple', 'rosamond', 'dedan', 'hose', 'vacuum', 'canary', 'unwillingness', \"shovel'd\", 'deafened', 'st', '42:19', '23:25', 'tightly', 'asterisk', '--holland', '49', 'ungraciously', 'shubael', 'yazidi', '5:4', '26:11', 'nursing', 'blasphemer', 'broker', 'undocumented', 'juanita', 'mystery', 'wantest', 'morbid', 'runoff', 'if--', 'intervening', 'intreated', 'collapse', 'makest', 'francis', 'crop', 'nicholas', 'indicates', 'bedclothes', 'misty', '24:50', 'naarah', 'acquaint', 'spasmodic', 'curre', 'crockery', '2024', 'bason', 'cleric', 'flinging', 'recompensed', 'directive', \"hee'l\", 'gabble', '20:30', 'delaiah', 'simile', 'mur', 'reappeared', '@cnn', 'expectancy', 'diameter', 'bachelor', 'way:--', 'empathy', '42:3', 'jobab', 'imported', 'libni', 'guido', 'lachish', 'nibbling', 'akin', 'eddy', 'elishua', 'whalemen', 'commit', 'fallest', 'nutriment', 'clearance', 'bethought', '42:18', 'protestant', 'seller', 'senator', 'residue', '60', 'faltered', 'homeliest', 'swarest', 'pub', 'counteract', 'detract', 'tarquin', 'believer', 'quail', 'revealing', 'falcon', 'slab', 'crier', 'curseth', 'embalm', 'davos', '15:58', '25:45', 'chronicled', 'ball', 'grasping', 'transgresseth', 'etiquette', 'ahmed', 'norman', 'maniac', 'resort', 'complying', 'sneer', '666', 'hiram', 'greyhound', 'redeemeth', 'insertion', 'costume', 'hostler', 'commencing', 'derick', 'snub', 'lobster', 'sullen', 'sack', 'lowd', 'powerful', 'rowing', 'manage', 'interruption', 'perceive', 'heal', 'crossness', 'achzib', 'enlightening', 'noncriminal', 'bladed', 'ark', 'fancied', 'dancing--', 'unsounded', '51:12', 'shimeath', 'sudanese', 'priscilla', 'felicity', 'yard', 'nice', 'seduce', 'jinping', 'furlong', '11:25', 'subterraneous', 'evince', 'irs', 'dhs', 'philosopher', 'funeral', 'lighter', 'festoon', '28:7', 'pointer', 'offend', 'sombre', 'shorten', 'amelioration', 'durst', 'affect', 'exhausted', 'armour', 'anxiety', 'calmly', 'quell', 'fading', 'temptation', 'vocation', 'arphad', 'eldest', 'wacko', 'website', 'dotted', 'spreading', 'marl', 'antichronical', 'lucianus', '39:26', 'magic', 'onslaught', 'forbearing', 'garner', 'patterson', 'renounce', 'fellowlabourers', 'arisen', 'chafe', 'luxuriant', 'brian', 'storied', 'lennon', 'bennington', 'honey', 'mistaking', 'plowshare', 'vagary', 'quinta', 'declassify', 'continuity', 'electric', 'immovable', 'role', '31:54', 'andiron', 'scampered', 'causing', 'pranked', 'selfishness', 'hopeful', 'wasteful', 'lover', '8:49', 'expends', 'jewess', 'aggression', 'londoner', 'refrained', 'enow', 'insinuating', 'desmarest', 'unwearied', \"'em\", 'consideration', 'unwilling', 'scum', 'reap', 'option', 'fueled', 'budget', 'time', 'intermix', 'available', 'finny', '63', 'fumbled', 'suspended', \"sooth'd\", 'torrid', 'usaa', '10:20', 'graffed', 'monumental', 'compromised', 'rudy', 'spotlight', 'common', 'aspiration', 'stewart', 'gibeah', 'flatterer', \"purg'd\", 'd', 'harbor', 'abased', 'uneasiness', 'elkanah', 'hysteria', \"nail'd\", 'fitted', 'lankan', 'fornication', '11:27', 'molested', 'till', 'enjoyment', 'davy', 'thrush', 'slighter', '39:20', '6:60', 'serried', 'scattering', '1:26', 'immigrant', 'unconvincing', 'presbyterian', 'legally', 'ipo', 'trusty', 'lacke', 'counterpart', 'exhibit', 'tyson', 'persevering', 'resistance', 'indignation', 'unharming', 'horrific', 'missouri', 'heavily', 'thaddaeus', 'orange', 'denizen', 'oughtest', 'baronet', 'comic', '41:33', 'warner', 'weakened', 'misapprehension', 'admiral', \"arm'd\", 'bankrupt', 'hisself', 'exult', 'cemetery', 'banquo', 'sister', '32:40', 'ahithophel', 'oppress', 'shemiramoth', 'coolness', 'voltumand', 'inherited', 'broadway', '35:16', 'optimism', 'solicited', 'divine', 'overture', 'hairless', 'chased', '37:12', 'worry', 'estate', 'wild', 'twentieth', 'felled', 'nebuzaradan', 'confessing', 'net', 'undertaken', 'imputable', 'cyrene', 'helmet', 'mysia', 'gene', 'assigned', 'dispensation', 'realized', '6:9', 'assented', 'burton', 'splendidly', 'lastly', 'treacherously', 'swing', 'hichilema', 'trouble', 'profitable', 'competent', 'squad', '32:1', 'complaining', 'cursing', 'pitched', 'noyse', 'importance', 'proprietor', 'secunda', 'bargaining', 'apron', 'generall', 'exultingly', 'mouse', 'commerce', 'ninetieth', '46:19', 'lopt', 'womanhood', 'intertwined', 'clustered', 'mimic', 'managing', 'assayed', 'discussion', 'saner', 'hoop', 'innocently', 'nyc', 'strikingly', 'regale', 'living', 'tray', 'iannucci', 'ithuriel', 'endures', 'hero', 'bruised', '37:26', '15:34', 'cheeked', 'leaped', 'tempestuous', 'sunne', 'tribute', '29:21', 'eighty', 'undoes', 'unclothed', \"hair'd\", 'berachah', 'dictionary', '45:5', 'meshillemoth', 'acquainted', 'snap', '8:50', 'cobb', '11:35', 'announcement', 'astounded', 'nought', 'kind', 'disengage', '30:36', 'bride', 'anvil', 'enthusiasm', 'weighty', \"steam'd\", 'redeeming', 'exotic', 'happinesse', 'ubiquitous', 'purging', 'roamer', 'vishnoo', '14:56', 'pawse', 'revised', 'unheeded', 'naval', 'aback', 'inelegant', 'allotted', 'greatest', 'spangling', 'fathom', 'whithersoever', 'prescription', 'who', 'orpah', 'looking', 'dish', 'battaile', 'reminds', 'weighing', 'accompanying', 'bank', 'rehob', '8:43', 'devour', 'dave', 'again:--', 'arrest', 'bellow', 'thrilling', 'retaliation', 'confederate', 'mainmast', 'enfeebled', 'frigate', 'silenced', 'retribution', '46', 'irrevocable', 'poplar', 'on.--', 'lint', 'box', 'amplest', 'widowed', 'fireboard', 'octauius', 'frugality', 'ugly', 'obstinate', 'arphaxad', 'southward', 'fisa', 'skylark', 'creator', 'vi', 'disclaims', 'envelop', 'golan', 'heroin', 'calneh', 'sniper', 'sarid', 'unerring', 'sabbee', 'omen', 'headed', 'whitewashed', 'muchness', 'conveniently', 'signor', 'retaliating', 'mired', 'endeavour', 'thirst', 'subdued', 'second', 'timid', 'kneele', 'celerity', 'spoutings', 'scoundrel', 'definite', 'meerely', 'joist', 'disperse', 'associated', 'interrupting', 'dagda', 'starved', 'secrecie', 'restarting', 'voted', 'epicure', 'congratulate', 'diapason', 'marc', 'unverified', '20:24', 'granted', 'soundest', '22:51', 'defense', 'giddy', 'broth', '23:19', '26:33', 'zealous', 'hum', 'midday', 'denial', 'shulkin', \"banish'd\", 'cavalier', 'kushners', 'preceding', 'teneriffe', 'opine', 'serenely', 'peeling', 'torn', 'sprang', 'dophkah', '16:21', '52:6', 'treat', 'fake', 'compassing', 'sprinkled', \"alarm'd\", '25:39', 'canaanite', 'oppose', 'carstairs', 'leaneth', 'race', 'likeminded', 'opposed', 'accomplice', 'corp.', 'unfit', 'ceylon', 'pew', 'clenched', 'oldest', 'conditional', 'loaf', 'once', 'frowning', 'broaden', \"deferr'd\", 'sweetest', '3:32', 'oho', 'jogged', 'practised', 'pompous', 'finished', 'remington', 'grapple', 'felix', 'unduly', 'earneth', 'unmannerly', 'swinburne', 'began:--', 'palate', 'reforming', 'himself,--it', 'jehoiarib', 'empyreal', 'seemly', 'g-20', 'fondly', '                 ', 'popt', 'arrived', 'bewrayeth', 'huzzaing', 'roareth', 'shouldest', 'freeman', 'toed', 'hamutal', 'sipping', 'plowman', 'blameless', 'lowermost', 'whirr', 'gladlier', 'scotland', '13:14', 'forbear', 'abridged', 'gesture', 'ifaith', 'copestone', 'unblameable', 'route', 'pinion', '26:23', 'signing', 'voice', 'nazca', 'reorganization', 'contested', 'clipt', 'abroad', 'tinned', 'alarme', 'coin', 'nakamura', '36:12', '17:38', 'relatively', 'i.e.', 'endurance', 'waver', 'urged', '8:37', 'fishmonger', 'settling', 'bethmarcaboth', 'ghetto', 'olympia', 'vertigo', 'grande', 'untempered', 'grudgingly', '58:11', '1st', 'transfigured', 'dispensed', '19:25', 'piled', 'catching', 'nahash', 'balloon', 'tenantry', 'poll', 'mr', 'eshban', 'revoke', 'gracious', '32:24', 'bedad', 'civilization', 'careworn', \"model'd\", 'ma', '60:1', '66:19', 'gilbert', 'push', 'bored', 'slows', 'conveyance', '13:57', '24:30', '37:7', 'custody', 'amoz', \"clear'd\", 'delivery', 'guileful', 'excluded', '59:17', 'socket', 'stopping', 'been.--', 'grunted', 'whilest', 'fatlings', 'manufactory', '18:20', 'defile', 'takeoff', 'slanted', 'falter', 'flushing', 'partly', 'eliphelet', 'unsay', 'baboon', 'hullo', 'regretting', 'crossing', 'numb', 'bargain', 'wistfully', 'confusion', 'dreamy', 'recall', 'zuckerberg', 'sykes', 'alarm', 'chaldea', 'sartain', 'women--', 'yaw', 'jahzeel', 'immoderate', 'passenger', \"unreck'd\", '23:18', 'embodied', 'hesitate', 'moment--', 'producing', 'postpones', 'fin', 'maize', 'looming', 'clutch', 'mahlites', 'yer', 'ijon', 'jim', 'bunyan', 'thousandth', 'enacted', 'vttermost', 'exempts', 'verdant', 'celtic', 'jabbok', 'eliahba', 'notion', 'maaseiah', 'be', 'returning', 'merciful', 'sung', 'fighteth', 'herdsman', 'smartness', '13:42', 'warden', 'speak--', 'disgraced', 'buoyant', 'narcissism', '16:24', 'aromatic', 'lexicon', 'arbaeen', 'woeful', 'from--', 'deficiency', 'ballast', 'constable', 'pallace', '10:36', 'courageously', 'begge', 'iota', 'inter', 'deceiving', 'thames', 'grub', 'recent', 'verdict', 'rapture', 'bipartisan', 'manufacturing', 'crusted', 'staccato', 'yourself--', 'vashti', 'fy', 'absently', 'claim', \"thrill'd\", 'unforgivable', '22:14', '7:1', 'properest', 'manning', 'landlord', 'phurah', '18:46', \"anger'd\", 'ashbel', 'ranging', 'whirling', 'pathrusim', 'satan', 'challenged', 'praise', 'can', 'pontius', '                           ', '5:30', 'princeling', 'driving', 'harvestman', 'clattered', 'gonzago', 'gaff', 'hecla', 'sleeke', 'sophereth', 'studded', 'evade', 'weston', 'ravin', \"claim'd\", 'penthouse', 'rapport', 'while', 'ahiam', 'laced', 'linguistic', 'hit', 'presence', 'skilfully', 'emma', 'conspire', 'untamed', '66:7', 'companionable', 'abib', 'challenging', 'designing', \"stabb'd\", '9:55', 'spending', 'already', 'now,\"--said', 'eddying', 'deepest', 'jostle', 'prisoner', 'propagandistic', 'overdoses', '          ', 'idolatrous', 'discord', 'vermont', 'swam', 'unwaning', 'repealing', 'borrowing', 'strong', 'bataclan', 'eatest', 'perfecting', 'architectural', '43:28', 'astonishment', 'badge', 'malignity', 'protegee', 'spight', 'infirm', 'dissembled', 'recorded', '8:39', 'anointing', 'millennials', 'panama', 'author', 'intimation', 'buttoning', 'belong', 'linnaeus', 'down', 'petitioner', \"confin'd\", 'balm', 'tendril', 'bestowing', 'prynne', 'nebat', 'girlish', 'bantering', '60:5', 'slippery', 'chenaanah', '30:1', 'freckle', 'stoical', 'motor', 'juttah', 'gabbanelli', 'lena', 'vibrating', 'krusenstern', 'poisonous', 'cheshire', 'imploded', 'overpowering', 'hourly', 'indoor', 'performe', 'demy', 'stupidly', '24:14', 'drained', 'una', 'mutinous', 'bloodshed', 'environs', 'nazi', 'recklesse', 'vegetation', 'outwards', 'swore', 'boomer', 'contribute', 'reticule', 'forked', 'shobach', 'supplementary', 'strike', 'millstone', 'o’reilly', 'genuine', 'fearful', 'firm', 'moccasin', 'glorified', 'choyce', 'olympus', 'flexible', 'euroclydon', 'brat', 'flagging', '25:31', 'probe', '12:41', 'collusion', 'taketh', 'spherical', 'quarto', \"diseas'd\", 'rocky', 'captivating', '31:18', \"toss'd\", 'draw', '1:23', 'deripaska', 'vivid', 'laughable', 'terrour', 'overtime', 'ensign', 'recommends', 'larceny', 'fiend', 'respectability', 'obeyed', 'bodied', 'breakout', 'unostentatious', 'quarter', 'walkes', 'benediction', '13-year', 'changer', 'visit', '2.7', '28:26', 'zoological', 'eloth', 'maintain', 'break', 'cornaro', 'traffick', 'remarkably', 'improbable', '1:52', 'filing', 'islamist', 'just', 'churned', 'cohort', 'unclear', 'buck', 'booker', 'eliezer', 'owner', '8:51', 'waxing', 'heyday', 'twice', 'swathing', 'blinded', 'prickly', 'emprise', 'intervene', 'inventing', 'plaistered', 'vengeance', 'sevenfold', 'classification', 'stewed', 'sickly', 'print', 'postponing', 'hygiene', 'marched', 'poncho', 'sigh', 'waged', 'clapham', 'whaleman', 'topping', 'preston', 'shock', 'prepareth', 'vizards', 'generous', 'watchtower', 'differ', '26:17', 'unsupported', 'fronting', 'deficit', 'inspection', 'pea', 'wearied', 'subtile', 'wapping', '33:1', 'grupello', 'vomited', 'iris', 'campus', 'fanny', 'anticipating', 'golden', 'spill', 'saucy', 'tilleth', 'dr', 'candlelight', '40:33', 'planning', 'samsung', '42:12', 'runner', 'infidelity', 'pity', 'engrossing', 'overturned', 'inwardly', 'fleshhook', 'susan', 'repress', 'shaking', 'flush', 'duck', 'conference', 'trucker', 'targeting', '24:17', 'suspicious', 'jerry', '168,000', 'reuters', 'contrive', 'mahalaleel', 'analogy', 'recess', 'asse', 'averting', 'counterproductive', 'sharer', 'termed', 'doatingly', 'willoughby', 'macedonia', 'aroer', 'innocuous', 'begets', 'miscreant', 'mephaath', 'cunningly', 'anaiah', 'professedly', 'heroically', 'mentioning', 'larch', '45:4', 'twas', 'cursings', 'archer', 'vomit', 'amain', 'grampus', 'bethpeor', 'gulf', 'liberall', 'picket', 'frosted', \"witness'd\", 'prolong', 'objective', 'squeezed', 'greedy', 'naples', 'aboundeth', 'rehab', 'ireton', 'skulk', 'cometh', 'ernani', '23:15', 'unsure', 'cubit', 'threshingfloor', 'boiled', 'sluggish', 'barber', 'undesirable', 'slow', 'withall', '6', 'online', 'chooseth', 'undermine', 'judiciary', 'japanese', 'desegregation', 'give', 'dilatory', 'reporter', 'submitting', 'angular', 'mediterranean', '7:54', 'interdiction', 'forgetfull', 'ay', 'extremest', 'disbanded', 'gird', 'rejection', 'enabled', 'invisibly', 'vesture', 'upsprung', 'cue', 'pennant', 'adherence', 'puerto', '7:43', 'dismall', 'trailing', \"scorch'd\", 'differs', 'blindness', 'tanker', 'jonah', 'rollaround', 'everest', 'news', 'facetious', 'watch', 'thanks', 'paltry', 'bandit', 'made', 'infatuated', 'abigail', '28:23', 'holdest', 'benchmark', '46:28', 'scripture', 'reared', 'obstructed', '5:25', 'facade', 'article', 'railed', 'oratory', 'kurd', 'painful', '10:8', 'rex', 'meditate', 'fig', 'perceptible', 'priority', 'seventh', 'juncture', 'trod', '2011', 'wantonly', 'aborigine', 'tow', 'melania', 'overlay', 'compelled', '3d', '24,473', 'nobel', 'flight', '25:4', 'enchanting', 'thoughtless', 'cave', 'perch', 'softest', 'lingered', '3:15', 'impervious', 'fourfooted', 'ouercome', 'convivial', 'include', 'worker', 'himself', 'narragansett', 'mightest', 'highlander', 'dilated', 'wicket', 'steer', 'shapher', 'beech', 'criticizes', 'aminadab', 'corrupt', 'creating', 'oathes', 'here.--', 'scandalous', '1:11', 'boaz', '40:36', 'clau', 'rigour', 'envy', 'quiescent', 'flipped', 'hogg', 'vniuersall', \"recall'd\", 'drown', 'nitrous', 'pittie', 'unsolicited', 'discretion', 'wapo', 'rondure', '24:36', 'sisterly', 'compacted', 'freshly', 'censor', 'reported', 'bidder', 'continental', 'aphek', 'discredit', 'crouch', 'edict', '24', 'ink', 'urbane', 'hive', 'causeth', 'designed', 'tamely', 'paper', 'chi', 'covert', '25:43', 'incommoding', 'waging', 'niger', 'alwayes', 'ho', 'sings', 'hearse', 'amram', 'plodding', 'amen', 'stale', 'reappearance', 'fee', 'uttering', 'surest', 'mabel', 'suborned', 'scorching', 'then', 'gadites', 'sharon', \"possess'd\", 'sea', 'spoon', 'unfavorable', 'glued', 'shakespere', 'swallowing', 'vpon', 'vary', '7:30', 'desire', 'abiel', 'glorying', 'surry', 'tourism', 'ioynt', 'expatiate', 'organisation', 'retire', 'rationally', 'foote', 'promenade', 'auctioned', 'choose', '40:1', 'bugle', 'criticized', 'ungracious', 'departed', 'doctor', 'homer', 'ophelia', '54:3', 'oklahoma', 'ephesus', 'scalding', 'luhith', 'zimmah', 'comprehension', 'borrower', 'wilder', 'scythe', 'brow', '27:11', 'pelican', 'tomahawk', 'populism', \"steep'd\", \"stain'd\", 'fiddle', 'sparkle', 'proposal', 'barbed', 'labor', 'englishman', 'cane', 'linguist', 'disbelief', 'referencing', 'parching', '16:7', 'listed', 'gate', '38:25', 'climate', 'charmaine', 'nashville', 'ftp', 'articulate', 'honesty', 'jokshan', 'gideon', 'polished', 'sable', 'plunging', 'michah', 'ploughing', '14:46', '48:9', '23:20', '34:7', 'sendest', 'pervading', 'zodiac', 'algiers', 'deputed', 'fellowsoldier', 'winked', 'comstock', 'adue', 'stephen', 'siddim', 'claimed', 'performance', 'retires', '60:3', 'giaour', 'interference', 'safer', 'curve', 'nervously', 'envying', '37:32', 'abraham', 'antiquated', 'allons', 'cetacea', 'blandishment', 'shimri', 'becher', 'prospered', 'chuse', 'mad.--but', 'flourishing', 'irad', 'inwards', 'buttonhole', 'geography', '17:36', 'hither', '43:12', 'muskrat', 'surround', 'shop', '35:29', 'repartee', '22:8', 'charlottesville', 'ear', 'peevishly', 'talisman', 'prosing', 'paddling', 'behindhand', 'impatiently', 'patched', 'relaxed', 'prominence', 'douma', 'swaying', '8:45', 'keener', 'future', 'underground', 'wrote', 'hautboy', 'displaying', 'beckoning', 'mooue', 'unusual', 'cruelty', 'house--', 'odde', 'upward', 'watereth', 'perform', 'outlandish', 'hori', 'ashkelon', 'bilhah', 'catholic', 'fiercer', 'saudi', 'kinsfolk', 'penis', 'chamber', 'stedfast', \"refus'd\", 'lens', 'avengeth', '5:13', 'pantry', 'lumberingly', '4:42', 'contraceptive', 'concupiscence', 'imagery', 'nachor', \"ingag'd\", 'jargon', 'tikvah', 'loosening', 'modulated', '17:3', 'groweth', '1.5', 'socialist', 'slender', '15:32', 'staircase', 'bashful', 'coupling', 'maintenance', 'conversational', 'predestinate', 'explained', 'paralyze', 'cardboard', 'residence', 'alexandrian', 'arcade', 'wedding', 'hauran', 'obliging', 'let', '26:28', '36:27', 'fulfill', '50:7', 'plate', 'cowper', 'egotism', '21:26', 'mission', \"laugh'd\", 'mildew', 'evolution', 'quickest', 'ann', 'ethiopian', 'vehemence', 'scallop', 'obliquely', 'lading', 'aspersion', 'starbucks', 'oppressor', 'catcher', 'proffer', 'entrenched', 'expensive', 'riddance', 'proceeding', 'wheel', 'deliverance', 'perceptibly', \"promis'd\", 'incorporate', 'braine', 'came--', 'pinning', '7:57', 'steele', '30:28', '27:29', '65:1', 'clew', '27:35', 'thinkest', 'untranslatable', \"outlaw'd\", 'thereunto', 'costa', 'furor', 'recollect', 'certain', 'criminologist', 'nether', 'sawing', 'valve', 'seest', '35:2', 'circumference', 'downy', 'schoolmistress', 'veiled', 'molotov', 'celt', 'dismissed', 'forsaken', 'irrepressible', '28:4', 'evangelist', 'hostel', 'allows', 'orly', 'blowfish', 'caesar', 'abstinence', 'messenger', 'rotation', 'magnetism', 'mansoul', 'nose', 'obstinately', 'presiding', 'slice', 'pitted', 'stinketh', 'sally', 'denver', \"hallow'd\", 'ahiezer', 'foul', 'regardest', '                               ', 'specialist', \"smear'd\", 'autism', 'purloined', 'succession', 'caes', 'acquiescence', '8:54', 'chatted', 'pagan', 'savory', 'grant', 'ardor', 'dinosaur', 'fasted', '11:51', \"know'st\", 'injustice', 'brushed', 'intercepted', 'combe', 'maternal', 'hashabiah', '31:40', \"e'en\", '6:14', 'bushy', 'considerately', 'globalists', 'invest', 'worthinesse', '4:33', 'ivanka', 'passion', 'bane', 'banyan', 'couching', 'militarily', 'gunman', 'elegance', 'sentimental', 'distilled', 'sabre', '27:17', 'larger', 'adamant', 'conscience', 'spelling', '                                                         ', 'yearning', 'cheering', 'uriel', 'promptly', 'sharpest', 'vertues', 'aide', 'huzzas', 'uc', 'furnishes', 'abstruse', 'interblending', 'catastrophe', 'outer', '25:18', 'atone', 'ballroom', 'ascend', 'centenarian', 'ambrosial', 'shal', 'whoop', 'rhythm', 'shutting', 'miry', 'foresaw', 'focus', 'flirted', 'hadid', 'overflowing', 'throw', 'snuffdishes', 'fuse', 'referee', 'helmeted', 'heareth', 'visitest', 'bezos', 'replication', 'shard', 'marshy', 'zeal', 'limpsy', 'laurel', 'midianites', 'unbearable', 'changing', 'behinde', 'symbol', 'marking', 'climax', 'backyard', 'leaue', 'locked', 'similarity', 'totality', 'pestilent', 'decayed', 'anomaly', '7:29', 'impelled', 'bracelet', 'depth', 'consolation', 'unrighteous', 'firmer', 'sidewalk', '29:9', 'jaw', '27:23', '29:24', 'fusion', 'blear', 'wield', 'renown', 'mushites', 'cluck', 'griefes', 'shabbiness', 'need', 'blackstone', 'affected', '30:20', 'funded', 'devastating', 'uncommonly', 'sock', 'friendliest', 'abdomen', 'bateses', 'contemplating', 'necessitates', 'blame', 'ramp', 'ahihud', 'guile', 'waterest', '>', '30', 'likely', 'despiteful', \"suck'd\", 'blissful', 'savesoul', 'render', 'phiz', \"com'st\", 'gutierrez', 'plumping', 'deerely', '28:27', 'hailstone', 'fobbing', 'richard', 'hooked', '39:7', 'deport', 'lips--', '46:3', 'words:--', 'pending', 'retaken', 'naamah', 'careful', 'searching', 'lap', 'schollers', 'commander', 'somthing', 'plough', 'crude', 'htin', 'satest', 'jubilant', 'slouch', 'princely', 'commissioned', 'handwriting', 'disinclination', 'simple', 'spilt', 'pelet', 'miletus', 'meddled', 'drooled', 'labyrinth', 'deposited', 'unpent', 'blushing', 'intrinsically', 'gifted', '45:9', 'explains', 'ebooks', 'insincerity', 'uzzi', 'my', 'trifle', 'naioth', 'imbecile', 'forfeited', 'scratched', '25:34', 'whelmed', 'incidental', 'draper', '4:28', 'entree', 'indirectly', 'hebronites', 'encouraged', 'presumption', '18:27', 'rapidly', 'shoving', 'methought', 'ramble', '100k', '36:28', 'foyles', 'jimmy', 'arvad', 'surrealist', 'chariot', 'planed', 'scandinavian', 'faithless', 'anyone', 'pleads', 'tabbaoth', 'derived', 'countervails', '2:22', 'puddle', 'tomato', '47:17', 'brotherhood', 'rescue', 'thammuz', 'pelosi', 'braid', 'beaked', 'ivah', 'ingredience', 'l100,000', 'reporting', 'maul', '18:6', 'sameness', 'ditch', 'besmeared', 'credibility', 'rustic', 'savest', 'primrose', 'ditchers', 'corpse', 'dock', 'induced', 'award', '55:10', 'partiality', 'humorousness', 'dad', 'spouse', 'probability', 'jehiel', 'plumage', 'meek', 'velvet', 'renard', '47:23', 'spasm', 'drie', 'kennedy', 'dominic', 'winter', 'teenage', 'democrat', 'shittim', 'pleadeth', 'yees', '16:38', 'teat', 'info', 'engannim', 'troopes', 'k.', 'refer', 'kiln', 'gertrude', 'comprising', '8:28', '13:40', 'adjure', 'newest', \"pronounc'd\", 'typhoon', 'jabneel', 'clanking', 'unsolved', '4:43', 'inducing', 'forgiveness', 'uncaught', 'sentimentally', 'practise', 'requisition', 'baptizeth', '17:32', 'mountaine', 'imperfectly', 'magnet', 'encamp', 'sucked', 'tendance', '34:20', 'herring', 'calkers', 'deadline', 'encouraging', 'wealthy', 'shew', 'formally', 'talon', 'churn', 'manhunt', 'nap', '8:2', 'worketh', 'artist', 'worne', \"remov'd\", 'logical', '39:19', 'markest', 'jordan', 'livery', 'allurement', 'nelson', 'voyces', 'aesthete', 'scabbed', 'surf', 'wert', '38:3', 'sutton', 'devos', 'buyback', 'zur', 'subverting', 'valiantly', 'income', 'baptizing', 'beet', 'thermometer', 'ejaculated', 'secular', '200-year', 'matthat', 'quaint', 'napkin', 'fraternal', 'jahath', 'infidel', 'languor', 'comfort', 'hilted', 'islander', '4:15', 'bethaven', 'manuel', 'rhythmic', '39:18', 'sardine', 'execution', '41:8', 'numbered', 'frequently', 'attribute', 'dramatic', 'destroyer', 'knit', 'verified', 'parchment', 'lurks', 'industrial', 'gerahs', 'commemorates', 'depression', 'insignificant', 'knocketh', 'dwarf', 'alabaster', 'surlily', 'dennis', 'fox', 'overgrown', 'key', 'hazard', 'dispossessed', 'assignment', 'knotty', 'mortifying', 'unpatriotic', 'copious', 'orbic', 'alehouse', 'prop', 'ministered', 'helpeth', 'distributor', 'troubadour', 'welcome', 'gaal', '34:34', 'potential', 'flowed', 'conduct', 'dauntlessness', 'lurch', 'stript', 'chew', 'brush', 'shining', 'eustache', 'profligate', '16:34', 'only', '22:43', 'mocking', 'macduff', 'xl', 'oblivious', 'emblazoned', 'overturneth', 'weepes', '24:4', 'hedwig', 'salling', 'givest', 'atrocious', 'been', 'seaport', 'medeba', 'choller', '                       ', 'hospitable', 'shattering', 'drenched', 'convincing', 'mart', '20:29', \"sustain'd\", 'mother', 'adult', 'evoke', 'predominance', '15:23', 'bacchus', 'deliveredst', '56:7', 'apocalyptic', 'debated', 'inconsiderate', 'goat', 'indignant', 'slumbering', 'caleb', 'sapling', 's[aint', 'delectable', 'protected', 'contains', 'overstrained', 'warns', 'jehu', 'grumbly', 'confrontational', 'bedan', 'overgrowth', 'drachmaes', 'jocund', 'spraining', 'incentive', 'science', 'twirl', 'consented', 'unquestionable', 'cheated', 'wrestlemania', 'desperado', 'departs', 'proposition', 'timing', 'suffering', 'defaming', 'antisemitism', 'squeaking', 'dictator', 'balustrade', 'capitol', 'disguise', 'epaminondas', 'sander', 'packing', 'tweed', 'reproached', 'guidance', 'glitter', 'essex', 'drunkard', 'disobedient', 'unlikely', 'blackberry', 'pink', 'lodged', 'favor', \"employ'd\", 'dunghill', 'penknife', 'defaced', 'jist', 'plainest', 'rain', 'decreed', 'diminished', 'braue', 'trooping', 'when', 'respond', 'lanyard', 'scolding', 'team', 'n.j.', 'doubly', 'reef', 'outlying', 'mistake', 'blesseth', '133', 'vague', 'stretcheth', 'feb', 'inside', 'richer', 'platforme', 'padded', '5:42', 'disinvites', '2002', 'pearl', 'conspicuously', 'appointment', 'sleeue', 'shuhamites', 'liue', 'senaah', 'comms', 'izharites', 'great', 'uphaz', 'fairly', 'ceaseless', 'unscrew', 'changeful', 're', 'thieving', 'glen', 'apologised', 'cheney', 'men', 'earn', 'sunny', 'accoutrement', 'diminution', '24:23', 'falwell', 'loyal', 'mab', 'limpid', 'invulnerable', '19:5', '27:43', 'pimp', 'disabled', 'instinctive', 'almighty', 'covet', 'obsessed', 'hish', 'springy', 'hedge', 'girl--', 'leadeth', 'builder', 'abused', 'shark', 'libya', 'implicitly', 'crowne', 'reading', '14:5', 'ice', '48:3', 'luggage', 'carrot', 'whiten', 'male', 'franklin', 'greco', \"limb'd\", 'sarcastic', 'sterning', 'equinoctial', 'learne', 'snorted', 'alcove', 'admirable', 'pedophile', 'bidding', 'revers', 'ripen', '2:6', 'cyberspace', 'agreement', 'zobah', 'hammered', 'cleat', 'whaleships', 'distended', 'rudimental', 'hubbub', \"reckon'd\", 'whitwell', 'surmised', '43:17', 'coat', 'darkens', '37', 'oppressive', 'clowd', 'stoneman', 'frequenting', 'withdrew', 'appoint', 'roast', 'truth', 'calculating', 'sleeping', 'bulb', 'scrupled', 'marksman', 'specksynder', 'ethnic', 'road', 'keystone', 'speakest', 'deluge', 'mover', 'judicious', 'sheath', 'halak', 'jewelled', 'condemneth', 'sences', 'servile', 'nineteenth', 'deplorableness', 'peleth', 'definitely', 'witnessed', 'alex', 'rocke', 'wood', 'jaundice', 'consulate', 'batten', 'escorted', 'cache', 'conductor', 'rabshakeh', \"sinn'd\", '8:6', 'should', 'doubling', 'lid', 'juliet', 'vetting', '2:26', 'monotonously', '8:56', 'stiffen', 'me.--i', 'encourage', 'noon', 'weeniest', 'enveloped', 'accompany', 'idol', 'shaphan', 'destroy', '7:45', 'response', 'razor', '10:28', 'montem', 'tongued', 'sprawl', 'cloud', 'outermost', 'swastika', 'beholder', 'clenching', 'unvisited', 'congratulatory', 'glean', 'ascetic', 'maternity', 'bohemian', 'jabbering', 'healthcare', 'aries', 'stealth', 'partook', 'halo', 'digested', 'going', '7:19', 'texture', 'himmalehs', 'nestorius', 'upsetting', 'mouthes', 'measured', 'heldai', 'bowled', 'jubilee', 'linked', 'equipage', 'rarer', 'seven', 'aggravate', 'train--', 'gendereth', 'peculiarity', 'harem', 'information', 'theoretically', 'stumblingblock', 'unwitting', 'fertile', 'cetus', 'idolator', 'lewdness', '3:17', 'backwoods', 'ensnared', 'anarchic', 'tale', 'setting', 'culture', 'bunni', 'fairness', 'exactly', 'harp', 'lydda', 'recreate', 'tirzah', 'famine', 'dnc', 'babis', 'libnah', 'citigroup', 'venture', 'faltering', 'supporter', \"edg'd\", '26:12', 'savagery', 'unconsciousness', 'stomach', 'cheefest', 'wound', 'rhythmus', 'astral', 'eagerness', 'maachathite', 'korean', 'lambent', 'special', 'defiled', 'judged', '5:21', 'famishing', 'athenian', 'globose', 'regional', 'exert', 'dependent', 'watchdog', 'biden', 'garden', 'emmy', 'white', 'fortieth', 'furnished', 'eliashib', 'sporty', 'creed', 'vertuous', 'normal', 'fear', 'peruse', 'imperfection', 'heroine', '3:28', 'founder', 'utterance', 'beguiled', 'flattering', 'pashur', 'melodious', 'originate', 'womb', 'subdues', \"a'ready\", 'electioneerer', 'mosque', 'avoided', 'indented', 'exploded', 'informing', '19:28', \"ceas'd\", 'inconsistency', 'demure', 'cleare', 'boycott', '15:10', 'lippes', 'affright', 'want', 'hony', 'unmerciful', 'reliably', 'bone', 'kurdistan', 'tonight', 'preet', 'ioyne', 'mick', 'pregnancy', 'then\"--', 'hung', 'patriarch', 'despicable', 'vegetable', 'evermore', 'placidity', 'sustain', 'loan', 'parent', 'charging', 'wafted', 'waked', \"prepar'd\", '19:20', 'massah', 'mature', 'holdeth', 'bethshemite', '66:8', 'ancestor', 'spends', 'detested', 'smiled', 'eidolon', 'presently', 'asaph', 'hangman', 'inexplicable', 'submits', 'bashing', 'inboard', \"prick'd\", 'all--', 'reduced', 'sympathetic', 'saratoga', 'mered', 'private', 'reprobating', 'insensible', 'essence', 'verity', 'transgression', 'inconvenient', 'murthers', 'spinning', 'tirhakah', 'fainthearted', 'gemariah', 'oyster', 'psychometric', 'landscape', 'covetousness', 'obeys', 'zohar', 'silvanus', '1:22', 'employee', 'canoe', 'gale', 'enlarging', 'crozetts', 'goney', 'darned', 'mindedly', 'discompose', 'statement', 'declining', 'signifying', 'impeach', 'meshullam', 'bowling', 'weld', 'incredulous', 'ewe', 'boastful', 'succeed', 'starry', 'perillous', 'coopman', 'cyber', 'elbow', 'bbc', '16:15', '24:24', 'uncouthness', '12:39', 'drinkes', 'obediently', 'f.', 'sentencing', 'apologist', 'humble', 'refrain', '25:44', 'intercede', 'wizard', 'asleep', '44:29', 'neere', 'seashore', 'elia', 'cranial', '13:7', 'testator', 'brawn', 'allon', 'eye', 'finishing', 'purification', 'fetor', 'cly', '10:44', 'addicted', 'center', 'publicity', 'pythian', 'successe', 'vice', 'ease', 'clerical', 'memnon', 'feeler', 'church', 'chastened', 'iudicious', 'usury', '15:13', 'dependence', '15:19', \"reel'd\", 'comely', 'regained', 'rohrabacher', 'climbed', 'obelisk', '21:22', 'unpolluted', 'fringe', 'fierceness', 'overwhelming', 'platte', 'omer', 'professing', '54:4', 'dungeon', 'distrusted', 'bedfellow', 'despisers', 'epsom', 'unceasingly', 'extorted', 'greenpeace', 'rung', 'leonard', '21:4', 'handmaiden', 'separately', 'disintegrated', 'impropriety', 'fitful', 'collyogh', 'alteration', 'mcgahn', '35:1', 'cockatrice', 'baldness', 'suing', 'accumulation', 'sustaining', 'stubbs', 'pluck', 'fortnight', 'projecting', '30:5', 'presumably', 'gull', 'intoxicated', 'suburb', 'manoeuvred', 'dard', '13:35', 'hanoch', 'easing', 'shriek', 'alertness', 'viol', 'elite', 'courtship', '2:51', 'dimness', 'stripe', 'reasoning', 'mirzakhani', 'mysticism', 'grapnel', 'rase', 'treason', 'newes', 'scientific', 'hurtling', 'liu', 'deigns', 'application', 'sweepstakes', 'chisleu', 'cataract', '31:51', 'cavalcade', 'iroquois', '17:20', 'disputings', 'fortify', 'contributed', 'killes', 'blocked', 'chemistry', 'reaching', 'gazingstock', 'incongruity', 'commissioner', 'stumbled', 'relented', 'shunem', 'literats', 'disarmed', 'underworld', \"thou'lt\", 'adoniram', 'tobiah', 'unmindful', 'haul', 'el', 'saracen', \"hook'd\", 'hercules', 'cradled', 'because--', 'championship', 'shimei', 'allayed', 'tibni', 'kensington', 'profession', 'muddled', 'stamped', 'vote', 'patronised', 'taught', 'eleventh', 'larboard', 'formeth', 'amplify', '7:66', 'night', 'repentance', 'confessed', '43:19', 'isthmus', 'match', 'intersecting', 'traded', 'timbuctoo', 'germaine', 'bethsaida', 'pi', '17:2', 'smallness', 'broadminded', '93', 'commends', 'vatican', 'acquiesced', 'carl', 'neyther', 'funerall', 'bashee', 'democratic', 'fourth', 'assist', 'bravely', 'isolatoes', 'secret', 'strangeness', 'trimmed', 'poorest', 'incommoded', 'fared', 'grenade', 'forgotten', 'replace', 'speaks', 'meribbaal', 'rejecting', 'memory', '9:13', 'gras', 'trait', 'rendezvous', 'impelling', 'profanely', 'engaged', 'defiant', 'unfurled', 'sooty', 'immoveable', 'azur', 'shined', 'ankle', 'cool', 'forgave', 'appeased', \"might'st\", 'ministering', 'enveloping', 'overflown', '36:22', 'spurnes', 'intellectual', 'badly', '18:34', 'spry', 'intercept', '98', 'temperate', 'contain', 'protection', 'mulvaney', 'tramped', 'camest', 'clang', 'adoration', 'chanced', 'herbage', 'dispatch', 'eagle', 'picturesqueness', 'beares', 'steed', 'chapel', 'harrison', 'laughed', 'belial', 'consecrated', 'lisa', 'oligarchy', 'proboscis', 'applied', 'unlock', '28', 'pith', 'nephew', 'briefing', 'humped', 'himselfe', 'bitt', 'eli', 'windlass', 'romance', 'beheld', 'sympathize', 'freshet', 'deeply', 'errour', 'removeth', 'offset', 'worshipped', '38:16', 'macaroon', '24:8', 'cologne', 'unfruitful', 'dry', '5:36', 'nomine', 'australian', 'clambered', 'baptized', '12:20', 'miniature', 'hard', 'shamed', 'carteret', 'dust', 'misconception', 'hearken', 'gentler', \"whate'er\", 'gaudy', 'lining', 'cot', 'expose', 'sing', '58:9', '30:26', 'with--', 'straining', 'thenceforth', '                                          ', 'packthread', 'deepe', 'political', 'hysteric', '32:29', 'maduro', 'ostent', 'wearisome', 'ashurites', 'ungallant', 'unclad', 'jesse', 'theft', '28:8', 'boyle', '10:35', 'ding', 'unreasonable', 'orison', 'flute', '28:5', '35:18', 'nun', 'refresh', 'josias', 'bumpkin', 'gaming', 'facile', 'scoena', 'vaunt', 'shifting', 'pro-', 'ner', 'dud', 'bedlam', 'shore--', 'composite', 'stony', 'rimmon', '42:13', 'besieged', 'plaintiff', 'mounted', 'defamation', 'threatening', 'simpleton', 'reel', '24:6', 'puah', 'immortal', 'finale', 'mystic', 'reuel', 'bowditch', 'transfixed', 'tent', 'bolster', 'complaisance', '16:36', 'affidavit', 'pirate', 'absolve', 'distressed', 'grander', 'lewis', 'frolic', 'antagonist', 'spanned', 'but----', 'coalition', 'dissect', 'occurred', 'ceo', 'lothario', 'lyric', 'heart', 'airily', 'merrie', 'aiming', 'cleaner', 'mahlah', 'duped', 'stanch', 'suspect', '8:8', 'macnabs', 'affinity', 'yale', 'lahairoi', 'abandoning', 'cascade', 'privacy', 'depraved', 'sagittarius', 'strained', 'lionlike', 'tirelessly', 'natural', 'vessel', 'slackened', 'tread', 'separatist', 'frailty', 'wad', '41', 'discernment', 'lacing', '16:47', 'familiar', 'hollywood', 'example', 'mom', 'swaggering', 'dromedary', 'tipline', 'summed', 'carmi', 'needful', 'year', 'sweetness', 'flauius', 'undeveloped', 'cath', 'beginningless', \"'s\", '33:16', 'shly', 'colouring', 'bunger', 'fount', 'b.', 'tumbler', 'schneiderman', 'angel', 'refusal', 'bespake', '47:3', 'adah', '52:11', 'expansive', 'beriah', 'immensely', 'brobdingnag', 'circumcised', 'thereabouts', 'zte', 'controlling', 'merlin', '18:35', 'covereth', 'morrow', 'misse', 'vtterance', 'vexation', '26:32', 'dreaming', 'caress', 'interlacing', 'refuse', 'bagging', 'womanly', 'risen', 'fanned', 'telescope', 'unsung', '9:43', 'turmoil', 'imaginary', \"charg'd\", 'inch', 'critic', 'reducing', 'tunbridge', 'flicker', 'lubber', 'recusal', 'handed', 'sackbut', 'war', 'trampling', 'abundant', 'out,--', '42:6', 'unespied', 'seaward', 'saffron', 'unconquerable', \"render'd\", 'telegraph', 'vnckle', 'jebus', 'learned', 'wondrously', 'keenest', 'backing', 'dance', 'speechless', 'bronze', 'womensmarch', 'skirting', 'maw', 'surging', '8:3', '23:14', 'impotent', 'whitson', 'flow', 'mishael', '17:18', 'pale', '21', 'plaid', 'firkin', 'spake:--', 'finisher', 'prosperous', 'stirring', 'perseverance', 'dedicate', 'tutor', 'style', 'portending', 'gaue', 'saddened', 'regal', 'gerrymandering', '13:2', 'artaxerxes', 'hurry', 'moonshine', 'sicke', 'entourage', 'benjamites', 'intervened', 'skunk', 'disfavour', 'depriving', 'combine', '22:34', 'uncover', \"be'ind\", 'izhar', '10:15', 'stiffest', '17:22', '8:16', 'staid', 'peninsula', 'diffusing', 'alack', 'drape', 'granting', 'residency', 'thaught', 'depressingly', '18:21', 'sauntered', 'infuriate', '60:9', '12:26', 'pealing', 'gloom', 'czar', 'bravery', 'goliath', 'agreed', 'various', 'ca', 'site', 'fryingpan', 'hauteur', 'context', 'giloh', 'guam', 'halteth', 'bravado', 'someday', 'accuracy', 'juggling', 'overshot', '27:2', 'eschylus', 'tacitly', 'physically', \"vanquish'd\", 'pillow', 'repair', 'achilles', '42:11', 'archangelic', 'agreeable', 'movement', '36:1', '14:6', 'parish', 'tramping', 'battalion', 'inscrutable', 'enormously', '56:2', 'pursuing', 'tumultuous', 'affirmative', 'agreeing', 'cable', 'juryman', '47:1', 'controversial', '37:24', 'happily', 'deere', 'canada', 'inconceivable', 'folding', \"do'st\", 'wider', 'faster', 'lehabim', 'growled', '18:25', 'ibleam', 'slaine', 'appreciate', 'heere', 'weibo', 'condescended', 'consoled', 'lauren', 'violated', 'laer', 'scythian', 'ceiling', 'aholah', 'prosperity', 'malchiel', 'persisted', 'couple', 'seattle', 'sneaking', 'falzone', 'writhed', 'remains', 'cage', 'melville', '26:41', 'cancer', '45:14', '22:31', 'overladen', 'mischiefe', 'physeter', 'rory', 'wrongly', '8:35', 'soul', '2:39', 'quicke', 'savor', 'flowing', 'crieth', 'caesarea', 'sighing', 'unapparent', 'sutes', '52:3', 'baltic', 'fancying', 'crookedly', 'runneth', 'ditty', 'bundled', 'vagabond', 'scabbard', 'necessary', 'ahimelech', 'scrutinized', 'solar', 'whisky', 'ca-25', 'punon', 'armes', 'select', 'perpendicular', 'temperance', 'decree', 'kenites', '58:1', '42:14', '26:36', 'sawed', 'supplying', 'olympic', '4:48', 'forbeareth', 'grated', 'annoyed', '41:2', 'dressed', 'prolific', 'watson', 'whist', 'saw--', '64:1', 'me', 'speedily', '44:17', 'renaissance', 'albeit', 'exclusive', 'revile', 'natured', 'propontis', 'casually', 'honor', 'pail', '49:22', 'beeroth', 'stick', 'call', 'windward', 'avows', 'offended', 'dropping', 'sill', 'city', 'arme', 'reserve', 'bulging', 'snuffing', 'kasich', '37:27', 'drest', 'jailbird', 'marketplace', 'displeases', 'stall', 'pacifieth', 'salon.com', 'much', 'mauve', 'forward', 'levied', 'jake', 'overlaid', 'quest', \"ripen'd\", 'undermines', 'cider', 'recover', 'layeth', 'bella', 'exclaiming', '44:3', 'pugilist', 'unsleeping', 'saddle', 'rainy', 'unexpected', 'macian', 'dump', 'encore', 'scenery', '15:21', 'casuistry', 'reddish', 'rie', 'fairyland', 'champing', 'equal', 'eld', 'reside', '8:13', 'carmelite', 'occult', 'crucify', 'decease', 'vamp', 'preferred', 'huntsman', 'navajo', 'pittifull', 'likeness', 'tantamount', 'armor', '22:21', '62:12', '52', 'flattery', '43:1', 'him--', 'expeditiously', 'montague', 'converse', 'sliver', 'rhetoric', 'nominated', 'amarant', 'faulty', 'shinar', 'obiects', 'bodyguard', 'century', '26:8', \"restrain'd\", 'care', 'gathereth', 'blurred', 'profiting', 'jetheth', 'slothful', 'mighty', 'grain', 'describes', 'exposing', 'explores', 'superior', 'hivite', \"camp'd\", 'grope', 'doctrine', 'limit', 'rahab', 'fling', 'proudest', 'ezekiel', 'proclaimes', 'gush', '62:10', 'acclamation', 'variety', 'monkford', 'fatherly', 'shoe', 'delineation', 'deuill', 'plowing', 'arrangement', 'bartlett', 'eluded', 'sassy', 'energetic', 'worm', 'belonged', 'thebe', \"roof'd\", 'waggon', 'indecent', 'dishonour', 'tu', '--a', 'yes,--i', 'quicker', 'revolution', '55:5', 'sleepest', 'hoarsely', 'ashore', 'unvarying', 'adriel', 'erudite', 'nick', 'drawer', 'fedallah', '43', 'obliterated', 'odious', 'dumbly', 'assuming', 'fiercely', 'resounds', 'federal', 'sundering', 'companionableness', 'noblest', 'scattereth', 'octavo', '--that', 'decently', 'governing', 'froward', 'torrent', 'pit', 'medicine', '45:15', 'cassia', 'lieberman', 'unpersuadable', 'restrained', 'wither', 'monde', 'diddest', '57:9', 'usurper', 'regard', 'rattlesnake', 'cite', 'constraineth', 'haughery', '35:30', 'informed', 'fuming', 'contradictory', '14:30', 'insincere', 'hag', 'indicating', 'powdered', 'adulting', 'scrutinising', 'react', 'duesseldorf', 'conclusion', 'auoyded', '43:10', \"curl'd\", 'revolved', 'hoisted', 'gnarled', 'magical', 'cart', 'scoble', 'rankes', 'askest', 'sinewy', 'undulating', 'eliminated', 'esq', 'jered', 'kisse', '9:16', 'stolen', 'bacon', 'assignes', 'boweth', 'west', 'manhattanese', 'teen', 'blueness', 'certificate', 'beareth', 'cavalry', 'squared', 'deferred', 'downward', 'housemaid', 'factory', 'lean', 'intruding', 'braided', 'portentousness', 'sleight', 'breeding', 'said,--', 'celebration', 'coverest', 'lured', 'starvation', 'coiled', 'betrays', 'ferrule', 'conuert', 'beautiful', 'scud', 'isolate', 'civilly', 'taanach', 'reprobate', 'kellyanne', 'diyarbakir', 'targeted', 'rimmonparez', 'applaud', '2-party', 'chemosh', 'knitted', 'kusher', 'dwellingplaces', 'slowness', 'africa', 'degenerated', 'aforehand', 'bestial', 'lobbying', 'strip', 'varying', 'wink', 'dubiously', 'spell', 'admirably', 'pester', 'persuade', 'scalded', 'feare', 'felt', 'stripped', 'extends', 'gigantic', 'priestly', 'squire', 'remainest', 'hegai', \"t'haue\", 'cola', 'done', 'her;--and', 'ass', 'nod', 'scanty', 'round', 'undivided', 'violence', 'michal', 'were', 'exclaiming--', 'buoyed', 'aleppo', 'detains', '5:10', 'gander', 'noted', 'shutdown', 'lancet', 'bad', 'intercontinental', 'consent', 'staffe', 'zealand', 'trudeau', 'deliria', 'monstrosity', 'railroad', 'filament', '63:7', 'milder', 'bedstead', 'throughly', 'camphire', 'pocket', 'tress', 'clapped', 'swarthy', 'buoy', 'abishalom', 'philistia', 'glassy', 'initiated', 'swordsman', 'knocking', '45', 'tense', '                                ', 'slipper', 'gibeonites', 'rout', 'jacksonville', 'souldiers', 'attentive', 'durand', 'skeptical', 'sane', 'systematic', 'cherith', 'warranted', 'violetta', 'smog', 'cut', 'voluntarily', 'mattaniah', '48:10', 'sparking', 'disengaging', 'respective', 'shuthelah', 'hachilah', 'tornado', 'diurnal', 'heretic', 'achieved', 'deceive', '31', 'incessantly', 'neigh', 'proselyte', 'comparatively', 'ala', 'wincings', '34:6', \"achiev'd\", 'dupe', 'whereabouts', 'feareth', 'unalterable', '26:9', 'rumpled', 'altamahaw', 'drab', 'guiltiness', 'letter', 'of--', 'dram', 'insight', '15:12', 'absentminded', 'armchair', 'omnipotent', 'steal', 'furnace', 'family', 'chauffeur', 'filthiness', '30:33', 'egg', 'temp', 'inspect', 'legalization', 'rigging', 'soueraigne', 'scrolled', 'spy', 'froze', 'sort', 'rescinding', 'dozen', 'somers', 'non', 'discoloured', 'flabby', '20:46', 'sower', 'cousinly', 'faithfull', 'area', 'murtherer', 'fastest', 'iudgement', 'unprincipled', 'greener', 'radiantly', 'adieu', 'throbbing', 'bloud', '3:1', 'tireless', 'wiretapping', '34:18', 'unanimous', 'finsb', 'humour', 'two', 'challenge', 'idler', 'tighten', 'beast', 'litigate', 'merchandise', 'cipher', 'upheaving', 'defending', 'mendocino', 'appropriate', 'hivites', 'qualitie', 'spleen', 'beggers', 'decorative', 'parapet', 'successfully', 'foxnews', 'profounder', 'scaramucci', 'practically', 'penal', 'survivor', 'cap', 'farm', 'severely', '6:32', '31:49', 'beard', 'receiving', 'doubted', 'spitefully', 'mafeking', 'domineering', 'thread', '35', 'brunt', 'jones', 'had', 'harassed', 'lome', 'wardrobe', '23:3', 'uglification', 'angelical', '16:23', 'sens', 'jesting', '1839', 'assume', 'stock', 'covering', 'strictest', 'unmeasured', 'emerged', 'first', 'nob', 'elinor', 'quadruped', '26:43', 'seduction', 'misgiving', 'microwave', 'helped', 'unfair', 'precipice', 'a-', 'fiction', 'restored', 'drums!--blow', 'fiercest', 'sevenpence', 'rage', 'kindled', 'joined', 'winnowed', 'daresay', 'obviously', 'accordance', 'heartiness', 'falles', 'panted', 'skye', 'joash', 'rove', '400', 'yorkers', 'chaperon', 'responding', 'paler', \"bak'd\", 'amends', 'upstage', '27:16', 'higher', 'justinian', 'mare', 'shepherd', '22:42', '7:28', 'jonathan', 'dyspepsia', 'kindness', 'engedi', 'unexceptionable', 'contributing', 'vppon', 'voyagings', '23:31', '14:25', 'dew', 'will', 'heir', 'trespasser', 'creation', 'brightly', 'immanuel', 'obtruding', 'southwest', 'vitiated', 'waxen', 'julius', 'smirked', '51', '40:10', 'autocracy', 'horrible', 'hinted', '42:8', '2013', 'primer', '40:9', 'esarhaddon', 'faith', 'unfounded', 'gowne', 'ego', 'pilate', 'befall', 'conjectural', 'yielding', '26:48', 'environment', 'peake', 'volubly', 'alacrity', 'gild', 'dixons', 'drawne', 'tweeting', 'salcah', 'polon', 'watercourse', 'cramer', 'tacit', 'soil', 'queerest', 'mediation', 'leave', 'harsher', 'playful', 'algerine', 'suppressed', 'arrives', 'alcinous', 'texas', 'lesse', 'sojourn', 'constant', 'perdition', 'independently', 'boosting', \"bestow'd\", 'adna', 'utility', 'enticing', 'exploit', 'sucking', 'speckled', 'american', '9:9', 'drone', 'observer', 'direct', '26b', 'code', 'eare', '4:18', 'stately', 'asher', 'godmother', 'eshtemoa', 'brimstone', 'yew', 'crouched', '27:25', 'communicates', 'better.--', 'eo', \"liuer'd\", 'woman', 'cantabella', 'turnes', 'forged', 'the', '28:13', 'organizing', 'sloth', 'chilion', 'coffin', 'jahaz', 'labrador', 'prohibited', 'dreadfull', 'leash', '180', 'fiscal', 'careening', 'refused', 'leagued', 'sorcery', 'effecting', 'e.', 'hazarenan', 'longingly', 'went', 'confoundedly', '29:6', 'tile', 'convenient', 'devious', 'unacquainted', 'fed', \"labour'd\", 'reliable', \"pois'd\", 'tenant', 'foray', 'treacherous', 'kitchen', '227,000', 'leg', 'map', 'incurred', 'umpire', '15:46', 'arpad', 'stubborne', 'drain', 'soone', 'inhabiters', 'buildest', 'army', 'priuate', 'seize', 'ferocious', 'six', 'carelessness', 'rabble', 'loathed', 'visual', '50:21', 'agnostic', 'wince', '49:30', 'pisseth', 'confirmed', 'dale', '20:41', '35:4', 'pop', 'midships', 'shooke', 'actus', 'it.--it', 'vnkindnesse', 'coveteth', 'calabash', 'arpaio', 'suffice', 'questioning', 'ability', '28:38', 'serenity', 'breastwork', 'mithcah', 'psychologist', 'downe', 'universally', 'baken', 'hickenlooper', 'ever', 'jezebel', 'moored', '4.8', 'errant', 'vapour', 'semicircular', '41:21', 'hebron', '65:2', 'discipline', 'montaigne', \"was't\", '57:10', 'corroded', 'rattling', '9:38', 'toyota', 'aliue', 'daubed', 'perfect', '42:22', 'dealeth', 'sacar', 'darke', 'giles', 'pizzagate', 'murellus', 'bleating', '39', 'jarib', 'equivocation', 'degree', 'credit', 'jakarta', 'follows', 'unbolted', '41:30', 'laying', 'blend', 'lamentable', 'admiration', '30:35', 'pretension', 'green', 'reacts', 'faire', 'canopy', 'thinned', 'disputation', 'fern', 'joiarib', 'absorbing', \"enter'd\", 'furnish', 'khamenei', 'indelicacy', 'coterie', 'shellfish', 'fixedly', 'captaines', '5:45', 'plight', 'drunken', 'er', 'riposte', 'effected', 'irrational', 'dan', 'deific', 'thyself', '31:22', 'dreamily', 'ruined', 'releasing', 'threshingfloors', \"dishearten'd\", 'villainy', 'tasselled', 'controversy', 'weyard', 'quaternion', 'seascape', 'publike', 'ripple', 'resolue', 'jairus', 'oughts', 'felony', 'promoter', 'landlady', 'showed', 'neriah', 'gun', 'accountability', 'maachah', 'andes', 'sobriety', '12:29', 'eloi', 'tambourine', 'love', 'definable', 'peacemaker', 'priest', 'rabbi', 'haspel', 'benumbed', 'securing', 'charter', 'conversation', 'missile', 'cheapside', 'leaping', 'do?--how', 'ruleth', 'maher', 'helam', 'swart', '23:9', 'casiphia', '22:53', 'eber', 'prig', 'opec', 'dipt', 'calico', 'buffet', '28:1', 'crush', 'rattle', 'elnathan', 'endless', 'giues', 'michaelmas', '62:3', '82', 'rustled', \"usher'd\", 'named', 'relying', 'inviting', 'orontes', 'disburden', 'naturalist', 'but', 'exceptionally', 'honestly', 'vilde', 'encampment', 'resenting', 'winepress', '3:7', '7:55', '3:36', 'newington', 'maiesty', 'tut', '2:54', 'sends', '41:25', 'island', 'emerging', 'tune', 'attracting', 'corkscrew', 'reuerence', 'quid', 'sumptuously', 'citizen', 'bullying', 'defend', 'firstfruits', 'barachel', 'weave', '24:5', \"cabin'd\", 'fickleness', 'fond', 'analysis', 'rehoboam', 'grin', 'partake', 'sylph', 'uncompromising', 'protecting', 'ruthlessly', 'adrammelech', 'wasteth', 'proverbially', 'accommodation', 'pilaster', 'glasgow', 'pratt', 'ring', 'advance', 'gainst', '62:5', 'brer', 'dissension', 'mastectomy', 'charged', 'saviour', 'backlash', 'pot', \"unrivall'd\", 'caring', 'cabin', 'moabites', 'ceremonious', 'berechiah', 'unc', 'exuberant', 'woe', 'freak', 'form', '6:36', 'iii', '35:5', 'bard', '15:25', 'despair', 'pyrrhus', 'dubious', 'worlds--', 'ararat', 'listen', 'useth', 'spend', '14:20', 'giver', 'unsatiable', 'rideth', 'ague', '13:23', 'brutal', 'disposal', 'tuition', 'magnified', 'multitude', 'absurdity', 'norm', 'equifax', 'timorous', 'drowsy', 'buying', 'fashioneth', 'disproportion', 'epithet', 'eziongaber', 'fate', 'burdened', 'radar', 'required', '49:16', 'exhibition', 'blemish', 'guilt', 'sympathized', 'vanishing', 'concentring', 'shelomith', 'parking', 'weakening', 'overawed', 'readable', 'blasphemeth', 'imaginative', 'modesty', 'nsc', 'frequent', 'frequented', 'exec', 'insect', 'understands', 'journal', 'overpowered', 'remonstrated', 'drilling', 'dated', 'adoram', 'you.--you', 'compost', 'cbo', 'institution', 'eventide', 'ahiah', 'slammed', '15:57', 'hemath', 'tiller', 'blind', 'bookseller', 'timnathserah', 'halloo', 'enable', 'size', 'asenath', 'invitation', 'ended', 'flint', 'forced', 'towered', \"sail'd\", 'unpremeditated', 'imprudence', 'chedorlaomer', 'inculcating', 'stomacher', 'symbolised', 'unremitting', 'detestable', 'warmth', 'expressed', 'joy--', 'inciting', 'x.', 'threescore', 'sullenly', 'neatness', 'catholicism', 'shomer', 'promising', 'inextricable', 'rebuttal', 'cigarette', 'afther', 'whimpering', 'heritage', '1:16', 'dissent', 'euery', 'stack', 'midterm', 'anxiously', 'gentiloni', 'ro', '13:25', 'edomites', 'tyber', 'excellent', 'east', 'blueberry', 'persecutest', 'selloff', 'skyscraper', '45:24', 'contraction', 'entrance', '14:47', 'grandmamma', 'embarrassment', '4:20', 'popil', 'dweller', 'likewise', \"sat'st\", 'acte', \"remember'd\", 'excludes', 'wale', 'kelt', 'findes', '7:59', 'zophar', '3:13', 'maute', 'scanned', 'burne', 'proportion', 'repeater', 'buzzard', 'collision', 'shabbethai', 'azareel', 'guitar', 'state', 'forsook', 'domestic', 'fortunate', 'page', 'scornfully', 'crimsoned', 'shopping', 'grating', 'readie', 'ingenuous', 'lonely', 'mitt', 'rebell', 'flat', 'gileadites', 'gamming', 'berrying', 'wavered', 'brownish', 'scapegoat', 'cardinal', 'pipeline', \"think'st\", 'netophah', 'urania', 'mike', '20:19', 'swiss', '14:53', 'murther', 'rightwing', 'husham', 'hurrah', 'tongs', 'heightened', 'barke', 'ridicule', 'chin', 'madeira', 'famish', '7:22', '49:32', 'jihadi', 'slit', 'clod', 'dieth', 'endor', 'wend', 'superber', 'kronos', 'silliest', 'stygian', 'lotus', 'intentionally', 'compress', 'curious', 'germanic', 'zelah', 'tuft', 'migron', 'fundamentalist', '36:38', 'instrumental', 'ahab', 'vitriol', 'sultan', 'penetrating', 'spectacle', 'projection', 'anthem', 'extoller', 'absence', '1599', 'eyeballed', 'motherly', 'anticipated', 'archive', 'pallu', 'matthan', 'heerein', 'replaced', 'retained', 'greek', 'indispensably', '9:46', \"scorn'd\", 'ox', 'shoeless', 'isinglass', 'ungodliness', '47:18', 'zabulon', 'shropshire', 'helmsman', '36:8', '45:23', 'inquietude', 'parried', 'commodious', 'baton', 'wagner', 'baling', 'embassy', 'pelethites', 'abstract', 'twill', 'malcolme', 'freed', '1:20', 'louder', 'laundry', 'huldah', 'stuff', 'scalp', 'sentinel', 'wakeneth', 'width', 'cathey', 'overcharged', 'mate', 'naughtiness', 'shadowy', 'hanged', 'cocke', '21:15', 'raked', 'character', 'excelled', 'solid', 'avith', 'leafy', 'shame', 'spoileth', 'waggish', '26:22', 'pressman', 'assad', 'jangling', '43:24', 'heighten', 'goer', 'nightgown', 'overpower', 'baritone', 'arbor', 'fluctuation', 'alp', 'puzder', 'conceals', 'scarf', 'desirableness', 'graunt', \"work'd\", 'mossy', 'chris', 'capable', 'wind', 'prided', 'darker', 'leaving', 'windpipe', 'shyness', 'builded', 'burned', 'stepped', 'boom', 'loosed', \"cover'd\", 'starre', 'staving', '11:3', 'artlessness', 'help', 'ammon', 'augusta', 'assistance', 'lend', 'llewellyn', 'eidolons', 'afflict', 'blundering', 'drearily', 'irresolute', 'period', 'unsought', 'earlier', 'warped', 'venetian', 'indiscriminately', 'rounder', 'still', '16:30', 'son', 'vnknowne', 'thibet', 'elasticity', 'negotiation', 'file', 'accesse', 'trio', '26:21', 'disputed', 'extolled', 'chili', 'apparel', 'mal', 'contradict', 'shaaph', 'fat', 'themselues', 'took', 'magistrate', 'miniamin', 'verb', 'footstep', 'weaned', 'impromptu', '18:5', 'inflict', 'measurement', 'originated', \"turn'd\", '5:27', 'sawest', \"loosen'd\", 'minister', 'unspecified', 'dissolution', 'baggage', 'contradicting', 'editorial', 'broadly', 'endowment', 'tariff', 'selina', '1:29', 'samantha', 'hearted', 'sorcerer', 'blot', 'hobby', 'intimately', '48:25', '3:26', 'attired', 'provokes', 'rallying', 'tramp', 'decidedly', 'silence--', 'attained', 'hurtful', 'larder', 'mindedness', 'forcibly', 'typical', 'winking', '6:31', 'mockingbird', 'grandmother', 'ran', 'excessively', 'girle', 'chide', '400,000', 'freest', 'honourably', 'hempen', 'pekah', 'emaciated', 'peal', 'artificer', 'sail', '47:16', 'buyout', 'resigned', 'bilshan', 'approbation', 'shtone', 'opposite', 'epa', 'winefat', 'inhabit', 'ravine', 'meghan', 'organized', 'heyer', 'dolphin', 'who--', '41:6', 'cautious', 'modestie', 'collateral', 'effusion', 'malchijah', 'friendship', 'devilish', 'forme', 'gayly', 'garage', 'prong', 'professional', 'risking', 'easy', 'heightens', 'hardship', 'bridgegate', 'conway', 'estimable', 'un', 'vole', 'monongahela', 'corpes', 'disrespectful', '20:37', 'arid', 'uninterrupted', 'enrage', 'harville', 'columbus', 'convert', 'goose', 'finally', 'holden', 'di', 'antarctic', 'gorgeous', 'we', 'confiding', 'puigdemont', '38:12', 'wrapt', 'purchase', '23:49', 'perfection', 'manchin', 'proclaiming', 'euen', 'mijamin', 'too', 'motioning', 'fatality', 'chop', '17:12', 'shem', 'shekel', '3:37', 'misconstruction', 'blushed', '13:53', 'encampeth', 'uriah', 'roar', 'incited', 'sussex', 'cockpit', \"unclaim'd\", 'filibuster', 'disordered', 'misleading', 'glass', 'fomenting', '28:20', 'curiously', '40:20', 'insipid', 'ascertaining', 'gaped', 'fantasy', 'squaring', 'offall', 'uproar', 'capting', 'milked', 'acquitted', 'hosah', 'habaiah', 'over', '25:10', 'moaning', 'disband', 'vivacity', '20:13', 'portable', 'kew', 'perceiveth', 'gratis', 'metrical', 'globalist', 'expiation', 'mettle', 'sauntering', 'threaten', 'proposest', 'havilah', 'postilion', 'pollute', \"mad'st\", '4:3', 'french', 'gath', 'delicately', '18:37', 'ruefully', 'sotai', 'alternating', 'forsaketh', 'javan', 'vibe', 'pitchy', 'monomaniac', 'horeb', 'breefe', 'moreouer', 'skirted', 'mccarthyite', '42:25', 'enforcement', 'text', 'beauty', \"prison'd\", 'darkening', 'struck', 'postman', 'scraped', 'soules', 'perfectly', 'woodhouse?--i', 'graph', 'tendeth', 'mistletoe', 'engendering', 'weep', 'annulled', '50', 'bethzur', 'lustful', 'gallowes', 'condescend', 'reasonableness', 'thumbe', 'naaman', 'dapper', 'embattled', 'carnation', 'desk', 'fatigued', 'agree', 'recur', 'hawser', 'hack', 'enlarged', 'dimon', 'upland', '11:21', 'baalgad', 'ment', 'view', \"kiss'd\", 'introducing', 'priory', 'rave', 'nativity', '26:4', 'mesa', 'lowness', 'flood', '96', 'disinterestedness', '43:23', 'painter', '18:18', 'iv', 'time--', 'waffle', 'herman', 'stemmed', 'coverlet', 'eloquence', 'adverse', \"serv'd\", 'money--', 'ahinoam', 'enuy', 'considers', 'expected', 'westminster', 'dirge', 'adaiah', 'seaside', 'inspecting', 'sac', 'iphone', 'congresswoman', 'anonymous', 'rodchenkov', '20:25', 'corpulence', '3:45', 'summer', 'oprah', 'thunderstruck', '35:17', 'moving', 'michael', 'understand', 'richness', 'ephratah', 'glorious', 'deciphered', 'instilled', 'tahpanhes', 'noteworthy', 'philando', 'methodic', \"rais'd\", 'tangle', 'four', 'derided', 'stable', 'absents', '2:46', 'moderately', 'froome', 'manxman', 'sarah', '21:42', 'satisfied', 'terrified', '40:30', 'oozy', 'attraction', 'noiselessly', 'woodcock', \"absorb'd\", 'hoo', 'you', 'community', 'f-35s', 'missing', 'gluten', 'fastening', 'infringement', 'mamre', 'blackmail', 'flourisheth', 'ingraham', 'marred', 'sorry', '43:11', 'crunched', 'ishbosheth', '13:55', 'shelomoth', 'sagacity', 'sunflower', 'mine--', 'marrow', 'annihilated', 'physiology', 'illustrative', 'dey', 'jazer', 'murray', 'indignity', 'tyro', 'souvenir', 'meholathite', 'wheelchair', 'resigns', '25:15', 'dead', '34:26', 'him;--and', 'seymour', 'victor', 'nez', 'lamp', 'aching', 'frind', 'realise', 'global', 'miamin', '23:17', 'narcissus', 'meditating', 'gazed', \"too't\", 'leathern', 'load', 'purely', 'disapprobation', 'pill', 'spurt', 'constrained', 'transformation', 'hashmonah', 'ringleader', 'inherent', '59:5', '39:4', 'agate', 'unlighted', 'origin', 'sonnet', 'serve', 'jada', 'tabret', 'ethical', 'jerking', 'misled', 'booming', 'villanous', 'intricacy', 'dependant', '20:44', '37:4', 'ephraimites', 'trotting', 'digital', 'cleverness', 'warder', 'triest', 'chechnya', 'folk', 'expression', 'chafed', '14:3', 'determining', 'scotch', 'genteelly', 'leaking', 'kohath', 'thirtieth', 'exhibited', 'studious', 'winner', 'agrees', 'sparerib', 'judah', 'garnish', 'frowned', 'appointed', 'operate', 'tam', 'police', 'underneath', 'gnashing', 'bobridge', 'climber', 'waketh', 'redder', 'pastorall', 'spoiling', 'gentile', '21:9', 'frontier', 'ashtaroth', 'autumnal', 'full', 'incoherence', 'custodian', '28:31', 'manservant', 'subsequently', 'sandal', 'certainty', '7:50', 'powell', 'try', 'condo', \"mark'd\", 'fresno', 'naughty', 'appellation', 'hampshire', 'talmai', 'lined', 'destruction', 'swear', 'harley', 'bathed', 'lisp', '24:43', 'tucking', 'salted', 'ideality', 'dumb', 'curate', 'grip', 'grower', 'goldfish', 'byword', 'skill', 'acquiring', 'thickest', 'borrow', 'undesignedly', '66:12', 'contriuer', 'necessitate', 'weather', 'jihadist', 'pulled', 'furious', 'vs.', 'under', 'contemplative', 'hunch', 'whatsoever', 'elisha', 'fec', 'daughter', 'adulteress', 'annamaria', 'study', 'greenhorn', 'mastering', 'ordering', 'divorce', 'shrieke', 'spade', '4:40', 'menstruous', 'circulates', 'novitiate', 'warriour', 'frenchman', '16:40', 'wipeth', 'banding', 'evolved', 'houres', 'all', 'provided', 'moue', 'away', 'effeminacy', 'circled', 'sweeter', 'immemorial', 'mimicking', 'peña', '36:13', 'paternal', 'cringed', 'cornet', 'governs', 'promptitude', 'combatant', 'abiding', 'computer', 'prodigious', 'cork', 'growling', '62', 'biped', 'languid', 'publican', 'lyme', 'fleshly', 'septima', 'politically', 'untrodden', 'choice', 'providing', 'terrier', 'cannon', 'habor', 'see!the', 'piedro', 'rescued', 'fortress', 'fibrous', 'documentary', \"aim'd\", 'soprano', 'timotheus', 'hypertext', 'ezza', 'gripped', 'bail', 'depart', 'basin', '11:45', 'enamelled', 'sticking', 'stimulus', 'philanthropic', 'maugre', 'handmaid', 'gratified', 'puzzled', 'provocation', 'momentum', 'a.d.', 'rezin', 'slaughterhouse', 'trespassing', 'wet', 'rampant', 'spanning', 'bloodiest', 'ye', 'bandbox', 'gad', 'bigger', 'loath', 'popillius', 'anticipation', 'robbery', 'blowing', 'booed', 'player', 'peerage', 'palsy', 'conservatism', 'snatching', 'sacredness', 'download', 'elhanan', 'bolivia', '50:15', 'bochim', 'bickering', 'dems', 'applauded', 'zambian', 'hah', 'auction', 'casluhim', 'capability', 'roboam', 'boot', 'eruption', 'kimmel', 'mammon', 'uselessly', 'kid', 'dog', 'merchant', 'pollution', 'stepmother', 'ingenuity', 'punctuation', 'henrietta', 'alarming', 'considered', 'featured', 'me----', 'etf', 'mogul', '14:12', 'animal', 'convent', '23:6', 'onam', 'apparelled', 'lapse', '361,000', 'garnery', 'devoting', 'sanguine', 'baasha', 'heeded', 'beadle', 'albatross', 'myeshia', 'clo', 'sacrificing', 'processor', 'ironwork', 'soberly', 'january', 'tiphsah', 'reproachfully', '9:8', 'briny', 'fray', 'shod', 'before', 'emir', 'satisfier', 'norway', 'weinstein', 'indecency', 'sacrilege', 'unperturbed', 'fabric', 'dote', 'efficient', 'pharma', 'unmixed', 'prate', 'mischief', \"pluck'd\", 'iulius', 'christened', 'suddenly', 'destitute', 'stammering', 'naue', 'foorth', '43:6', 'by', 'leah', 'fearfully', '2:12', '65', 'tweetstorm', 'killing', '50:16', 'sluice', 'apparently', 'unerringly', 'scholar', 'outsourcing', 'maketh', 'haughty', 'divination', 'shirt', 'legendary', '32:14', 'sterile', 'lioness', 'pardon', 'weary', 'lasso', 'tablet', 'disdainful', 'solemnly', 'futurist', 'beachy', '14:42', '49:15', 'pry', 'prowling', 'gamaliel', 'lust', 'thrifty', 'indicate', 'groan', 'attaining', '12:45', 'gallon', 'menpleasers', 'jahaziel', 'york', 'prepares', 'plumb', 'northern', 'majority', 'speake', '24:19', '46:6', 'bespeak', 'grenadier', 'slowly', 'slumberer', 'apprehensive', 'craze', 'pouring', 'jahleel', 'edited', 'neerer', \"on't\", 'quadrant', 'immer', 'waiteth', 'byron', 'presaging', '8:20', 'diesel', 'delicatesse', 'pointed', 'caulking', 'greefe', 'striketh', 'dwelt', 'dizziness', 'gin', 'infaith', 'bertha', 'tip', 'georgian', 'germ', 'processe', 'congeniality', 'little', 'icicle', 'alternate', 'necessarily', 'occur', 'reverse', 'magnificent', 'anime', 'safest', 'coating', 'straying', 'xvi', 'retarded', 'lurching', 'mystick', 'analogous', 'lothed', 'comedian', 'ashchenaz', 'provision', 'sickening', 'binnacle', 'matrimony', 'mueller', 'fulfilling', 'inquiring', 'formal', 'shaping', '15:6', 'ex', 'hotel', 'as', '26:16', 'affraid', 'elderly', 'vouchsafed', 'slew', 'very', 'sue', 'cumberland', 'necklace', 'proper', 'disclose', 'pawnbroker', 'pow', 'intercessour', 'difficulty', 'professor', 'snaky', 'martyr', 'distorted', 'so', 'prostitute', '9:39', 'temperament', 'sidelong', 'dispersing', 'surrounding', 'tels', 'have', 'gloomiest', 'captiuitie', '        ', '25:19', \"pleas'd\", '32:28', '3:42', 'thankes', 'triumphant', 'hug', 'bearer', 'vitality', 'cleaned', 'admits', 'ham', '26:29', '26:14', 'bluff', 'talking', 'sympathy', '29:18', 'soundless', \"frown'd\", 'sated', \"o'er\", 'bewitched', 'odin', '19:16', 'accommodating', 'roving', 'enquirer', 'beest', 'worthy', 'humming', '3:29', 'alleviation', 'wash', 'wineglass', 'perpendicularly', 'blending', 'luther', 'sequent', '7:21', 'desponding', 'exceeding', \"and't\", 'fentanyl', 'framing', 'steamship', 'euill', 'antipode', 'louer', 'pun', 'coleridge', 'assure', 'contradiction', 'sleet', '46:23', 'togarmah', 'interminably', 'allied', 'armenian', 'utensil', 'considereth', 'pledged', '7.9', 'elude', 'aran', 'bounding', 'thoughtfully', 'shebaniah', 'cookie', 'enjoying', 'loftiest', 'cunning', 'usurpation', 'justice', 'dippin', 'spurre', 'insanity', 'mitch', 'phenomenon', 'ijeabarim', 'dispatched', '11:41', 'convalescence', 'circumcise', 'sledge', 'opiate', 'preserving', 'interdicted', 'sonic', 'laban', 'requires', 'meet', '46:4', 'openeth', '33:24', 'wofull', '6:54', 'dicotyledon', 'whelm', 'zaccai', 'archite', 'dimpling', 'reposed', 'crept', 'luckiest', 'billionaire', 'flown', 'seduced', 'burst', 'terme', 'homeric', 'shineth', 'intreat', '34:2', 'defraud', 'inflicted', 'wow', 'adullam', 'shemuel', 'periodic', 'silly', 'denouncing', 'seuerall', 'strucken', 'twitched', 'picturesquely', 'knell', 'mutually', 'accent', 'expressing', 'clearest', 'robber', 'poignant', 'easterly', 'gunpowder', 'wisely', 'cupbearer', 'thundered', 'reuenge', 'inert', 'exploring', 'prostrate', 'girdling', 'home', 'medes', 'fasting', 'unrequited', 'dynamite', 'warehouse', 'carroll', '39:12', '34:14', 'gust', 'bethlehemite', '4:9', 'loftier', 'zabdiel', 'convicted', 'desirous', 'habergeon', '4:26', 'spiritualism', '32:2', 'tit', 'bestowed', 'laughed.--\"i', 'ebronah', 'somerset', 'nest', 'flounder', '19:36', 'sceptical', 'india', 'ireland', 'litter', '41:22', 'possesse', 'lysias', '52:1', 'symphony', 'arkite', 'avites', 'liver', 'relate', 'responded', 'wakanda', 'veal', 'ned', 'earshot', 'wisher', 'provoked', 'rabsaris', 'stroking', 'impulsively', 'ventured', 'pique', 'choir', 'zebaim', 'heinous', 'fried', 'consequently', 'gera', 'bildad', 'imitated', 'zemarite', 'barton', 'idiotic', 'garrulous', 'yoke', 'street', 'bewailed', 'discordant', 'usest', 'bedfordshire', 'atomic', 'nourisher', \"fulfill'd\", 'exasperation', 'magian', 'unpacked', 'otway', 'mitigate', 'radiant', 'sculpture', 'confidently', 'lecturer', 'mockings', 'restlessness', 'followes', 'deformed', 'film', 'brewing', 'deuce', 'benevolence', 'tooke', 'strangling', 'major', 'lush', 'inspire', 'assur', 'anyrate', 'takeover', 'weigheth', 'porter', 'almanac', 'mourned', 'puppy', 'amid', 'shammua', 'girt', 'aired', 'tawny', 'travelleth', 'swamped', 'carnage', 'record', 'romamtiezer', 'him.--', 'administer', 'constraint', '20:33', 'pantomime', 'loues', 'remembered', 'cricket', 'peru', 'eccentricity', 'swoon', 'onset', 'cosine', 'funereal', '54:1', 'treasury', 'mentor', 'palace', 'said', 'fare', '45:3', 'died', 'sinless', 'manufacturer', 'reality', 'imputation', 'infallible', 'solander', 'education', \"dismiss'd\", 'debate', 'samos', 'thailand', 'annexed', 'kneeled', 'lod', 'redouble', 'brood', 'position', 'consort', 'heiligwaldenstein', 'panamanian', 'parted', 'siam', 'duplicate', 'issachar', 'indiaman', 'excellence', '2:9', 'ponder', 'that', 'connecting', 'against', 'habitant', 'doorkeeper', 'ignominious', 'basking', 'stoop', 'faithfully', 'sloane', 'dat', 'wrap', 'oddes', 'glided', 'pro', 'sharing', 'privily', 'virginian', 'indistinct', 'psalm', 'estimated', 'fauour', 'mince', 'severity', 'revealed', 'ritual', 'banqueting', 'witnessing', 'material', 'dejection', 'ouerthrowne', 'ardern', 'panado', 'methinks', 'sleepily', 'hateth', 'bar', 'jamming', 'hyperborean', 'progression', '11:11', 'quoth', 'disingenuous', 'harpooneer', 'jabez', 'capacity', 'forbid', 'rehearsed', 'inflammation', 'longeth', '23:45', 'leper', 'plume', 'hud', 'sentenced', 'presto', 'savageness', 'despot', 'shrewd', \"confirm'd\", 'err', 'partially', 'coupleth', 'deployed', 'dressy', 'injected', 'epidemic', 'incensed', 'funding', 'overtaken', 'accidentall', 'manoah', 'bob', 'nowadays', 'beneficial', 'integrative', 'wired', 'amazement', 'adamantine', 'awaketh', 'inked', '31:1', 'impoverished', 'rating', '12:43', 'vnto', 'dwelled', 'corinth', 'h_arbour', 'harshly', 'flake', 'sundown', '42:2', 'roundabout', 'opioid', 'commendeth', '1:39', 'here--', 'acquisition', 'flit', 'jub', 'desired', 'sicken', 'prolongeth', 'organised', '51:5', 'culminating', '23:23', 'uprightness', 'hosing', '$', 'zinke', '46:11', 'kindling', 'hoboyes', 'afoot', 'usage', 'wrenched', 'beguiling', 'lull', '1:12', 'gent', 'uncircumcision', 'whiting', 'screeched', '85bn', 'inflaming', 'hungred', 'rosetta', 'untying', 'portugal', 'publishes', 'audibly', 'gathering', 'ecclesiastes', 'enamoured', 'dulcet', 'writer', 'huswife', 'loggerhead', \"you'l\", 'enchanter', 'leering', 'farcical', 'malvoli', \"should'st\", 'ahi', 'azrikam', 'crowd', 'vampirism', 'weltering', 'placed', 'izrahiah', 'rissah', 'escalating', 'every', 'cornice', 'pierce', '11:38', 'unobserved', 'doe', 'eyelid', 'loosing', 'officious', '20:3', 'royalty', 'flaming', 'roote', 'mustard', 'imf', 'rica', 'exhaust', 'friendly', 'physiognomy', 'hesperian', '29:8', 'before--', 'religion', '46:15', 'omega', '52:12', 'million', 'create', 'delighted', 'paced', 'astir', 'louisianian', 'netophathite', 'you.--i', 'compliment', 'agility', '2:53', 'carnal', 'identical', 'pedigree', 'chanaan', 'righted', '199', 'kirjathaim', 'furrow', 'hilkiah', 'winston', 'graceful', '70', 'waues', 'capeable', 'freezing', 'hoist', 'kneadingtroughs', 'needed', 'ithrite', 'typify', 'folio', 'detached', \"amaz'd\", 'treatise', 'shia', '33:15', '46:21', 'acted', 'perambulator', 'chittim', 'shore', 'apartheid', '23:34', 'oblige', 'dole', 'baal', 'greeke', 'mechanical', 'colony', 'three', 'shooes', 'thunderings', 'undiscernible', 'abital', 'consider', 'lookout', '13:13', 'measuring', '18:39', 'recital', 'digging', 'hertfordshire', 'tost', \"y'are\", 'baalzebub', 'peck', 'app', 'comparison', \"e'ne\", 'dis', 'fanaticism', 'lie', 'bruno', 'headache', 'destiny', 'mop', 'upper', 'looseness', 'invents', 'wherewith', 'jacob', 'disengaged', 'rood', 'crack', 'inquiry', 'combing', '31:28', 'jubile', 'asshur', '27:12', 'blacken', 'seyton', 'prayest', 'imposition', 'finland', 'gittites', 'combustion', 'feebly', 'redwing', '31:12', '48:14', 'scorner', 'sabotage', 'february', 'junior', 'anath', 'lacquered', 'gambol', 'bevy', 'liverpool', 'mansion', 'egotistical', 'foreigner', 'nourish', 'landskip', 'feele', 'receiver', '15:50', '12:47', 'concealeth', 'reynoldo', 'officio', 'metallic', '64:8', 'gear', 'emims', 'enforce', 'emerges', 'russian', 'ferule', 'calhoun', 'interim', 'cultist', 'gan', 'renting', 'enlivening', 'serpentine', 'accordant', \"learn'd\", 'recognition', 'proprietary', 'cobl', '34:21', 'flee', '46:24', 'girdled', 'pinched', 'latest', 'restroom', 'resound', 'hitler', 'firmament', '27:10', 'kee', 'wretchedness', 'renewest', 'selected', 'unrecognizable', 'gracefully', 'comb', 'glasse', 'mahanaim', 'mountaines', 'menaced', 'emphasis', 'amos', 'it?--i', 'deception', 'favourably', 'pear', 'farmhouse', 'condemned', 'mindful', 'mention', 'withered', 'los', 'scone', 'unavoidable', 'zeboiim', 'almond', 'mix', 'slouching', 'stept', 'inoffensive', 'diligence', '3:6', 'hammelech', 'julian', 'elephant', 'clout', 'descent', 'urgently', 'shunned', 'playboy', 'associate', 'quick', 'surprised', 'nondisclosure', 'snail', '3:25', 'pour', 'curing', 'bordeaux', 'confirms', \"deliuer'd\", 'peaking', 'temer', 'salad', 'largely', 'reviewed', 'disapprove', 'noe', 'brauery', 'crescentic', 'turnpike', 'bodie', 'video', 'conor', 'singer', 'waken', 'gileadite', 'realize', 'impede', 'far', 'anoint', '27:6', 'halyard', '4:1', 'grieveth', 'gobble', 'loft', 'drooped', 'scent', 'draweth', 'sup', 'divider', 'touching', 'asketh', 'mourn', 'shoplifting', 'insane', 'baking', 'rusty', 'narrating', 'hatipha', 'dream', 'lad', 'stuart', 'portrays', 'internally', 'hies', 'snivel', 'culloden', 'link', 'governess', 'vancouver', 'dining', 'inflicting', 'audible', 'astronaut', 'merely', 'qualcomm', 'profaned', 'unspotted', 'deleting', 'spiked', 'befalls', 'encamping', 'orchard', 'abridgement', 'sbirri', 'habitation', '                     ', '1:15', 'excepted', 'bravo', 'evenly', 'shook', 'monsieur', 'curled', 'inaction', 'knowledge', 'fye', 'strung', 'cumbrous', 'suggested', 'chusing', 'charity', 'tossing', \"i'm\", 'crane', 'milk', 'earring', 'selfe', 'spent', 'competency', 'discarded', 'spain', 'critically', 'it', '6:27', 'exit', '3:20', 'riseth', 'pennyworth', '192', 'livest', 'clanged', 'mannerly', 'gray', 'siberia', 'fictional', 'journeyer', 'planned', 'sith', 'sank', 'laziness', 'politics', '27', 'breached', 'p.', 'methusael', 'stammerer', 'zakaria', 'nurtured', 'cotton', 'south', 'reignes', \"contain'd\", '16:2', '53:4', 'constabulary', '57:4', 'standard', 'caravan', 'adequate', 'hostile', 'clockwork', 'unreliable', 'procured', 'billiard', 'hamper', \"determin'd\", 'overshadowed', 'flower', 'motif', 'prophetess', 'save', 'jab', 'sweeten', 'provincial', 'pleated', 'totally', 'syme', 'appreciation', 'engraver', 'crow', 'gravely', 'ruminating', 'zarhites', 'ravenous', '28:43', 'exasperated', 'significance', 'forbore', 'grosser', 'dissipate', 'stouthearted', 'confidant', 'brokenhearted', 'inhospitable', 'bullfrog', 'prayed', 'astley', 'irradiate', 'simon', 'meted', 'replete', 'rationalistic', 'exclamation', 'calumnious', 'impart', 'uneasy', '4:29', 'jupiter', 'implicit', 'cholera', '7:32', 'scanning', 'indeed.--she', 'prince', 'gier', '23:16', 'stolidity', 'granite', '1:47', 'beate', 'thoroughfare', 'successive', 'cleared', 'wittingly', 'inlaid', 'contrary', 'protect', 'respectably', 'wimpey', '59:13', 'occupies', '29:23', 'avignon', 'headstrong', 'ebal', 'reposing', 'departeth', '48:34', 'burn', 'unobstructed', 'crab', 'normalization', '48:12', 'differently', 'initiate', 'distrustful', 'searched', 'confounds', 'expanded', \"wish'd\", 'thomas', 'hurting', 'addition', '66:10', 'withstand', 'audience', 'whin', 'coup', 'commanding', 'japhlet', 'ingeniously', 'closely', 'manufacture', \"fix'd\", '15:51', 'showdown', 'gartersnake', 'grossness', 'lovedst', 'natiue', '29:34', 'unprotected', '10:47', 'warble', 'sang', '2:8', 'pesant', '46:20', 'core', '18:44', 'ship', 'mustered', 'unrolled', '7:34', 'extort', 'plank', 'armando', 'aforetime', 'unfollowed', 'interpreted', 'scape', 'devoted', 'bottled', 'captivity', 'hog', 'rope', 'huffington', 'unwary', 'dehumanized', 'dor', 'secretary', 'criminal', 'pecked', 'botch', 'embodying', 'prophesied', 'bosh', 'bleede', 'midwife', 'handful', 'menahem', 'inexorable', '42:20', 'subservient', 'solicitous', 'wildly', 'idolater', 'yemen', 'indigence', 'thunderer', 'approach', 'african', 'forbidding', 'stereotype', \"deseru'd\", 'plane', 'momentarily', 'kneaded', 'goest', '2:24', 'rising', 'emphasized', 'heath', 'tassel', 'transportation', '32:15', 'tool', 'season', 'jehozadak', 'barb', 'lurid', 'copyright', 'palpably', 'zipporah', 'optimist', 'drifting', 'recognised', 'testifies', 'sleeve', '23:1', 'ventilation', 'tank', '49:23', 'afghan', 'promiscuously', 'scornful', 'oddly', 'photo', 'dropt', 'bunny', '40:2', 'distaste', 'piping', 'word--', 'inner', 'superiority', 'catacomb', 'gowland', 'undervalued', 'ordered', 'tanner,--but', '41:24', 'brunswick', 'starving', 'unimpaired', 'impertinent', 'helianthus', 'galley', 'watery', 'tekoa', 'phantasm', 'innovative', '2:43', 'enclosed', 'together.--', 'farmer', 'brit', '45:17', 'palmed', 'printed', 'moist', 'shealtiel', 'excess', 'handspike', 'arch', 'verdure', 'affayres', 'main', 'sparrow', 'enthrall', 'neighboring', 'splash', 'rus', 'lustre', 'winced', 'millo', \"c'est\", 'skald', 'hemp', 'hanging', 'hypocrite', 'iram', 'toi', 'mortify', 'habitable', 'zabbai', '47:22', 'sarandon', 'drill', 'putrid', 'gether', 'clergy', 'how', 'rod', 'toiled', 'incorruption', 'fleece', '48:21', 'vampire', 'christendom', 'smoked', 'flaxen', 'me,--it', 'minstrelsy', 'placidly', 'manure', '16:43', 'frustrate', 'religionist', 'intrude', 'brandon', 'gratitude', 'shoal', 'attached', '24:15', 'nobah', '49:31', 'blighted', 'detain', 'delia', 'disaster', 'melody', \"measur'd\", 'diverged', 'lodger', 'tall', 'cent', '53:1', 'resisting', 'nurseryman', 'courted', 'dumping', 'orbit', 'rancour', 'inseparably', 'withinside', \"disclos'd\", 'announce', 'spied', 'hoa', 'oligarch', 'dabbling', 'sashed', 'calamus', 'riblah', 'disquiet', 'mishma', 'leader', '61:3', 'pilfering', 'ascent', 'ensuing', 'enthusiastically', 'aloft', 'painfully', 'baroni', 'ribai', 'severest', 'comprised', 'lyre', 'ceased', 'involvement', 'hike', 'thief', 'deviseth', 'window', 'turbulent', '36:18', 'deterred', 'hurrying', 'hoshaiah', 'falling', 'combination', 'bichri', 'unacceptable', 'deviation', 'divinity', 'hazeroth', 'assay', 'unconsciously', '14:38', 'blessing', '2.0', 'untold', \"touch'd\", 'minde', 'sum', 'gurgling', 'magpie', 'consumption', 'waterspout', 'slacked', 'reservoir', 'pierced', 'elementary', 'urgent', 'began', 'mead', 'rectitude', 'waistband', 'partner', 'existed', 'dishan', 'burglar', 'conscientious', 'pamphlet', 'sweetmeat', 'apologise', 'brown', 'mid', 'gaba', 'shudderings', 'hemisphere', 'furrier', 'warm', 'greeted', 'cocktail', 'papadopoulos', 'trickle', 'list', 'montana', '7:69', 'nobost', 'sinning', 'malluch', 'supported', 'intellect', 'cabos', 'catalan', 'baron', 'to--', 'carchemish', 'melissa', 'dirty', 'never', 'clump', 'mischeefe', 'killest', 'madden', 'zidonians', 'embarked', 'pertains', 'mastery', 'calais', 'unctuous', 'frustrated', 'goldsmith', 'turtledove', 'deed', 'boneless', 'inkhorn', 'generate', 'shrill', \"poyson'd\", '13:29', 'twinkling', '10:25', '32:30', 'inhabiting', 'hearties', 'forbidden', 'blaspheming', 'prythee', 'primus', 'cluster', 'unbuild', 'bruit', '30:8', 'counteracted', 'japanned', \"quell'd\", 'bangladeshi', 'security', 'incense', 'parsonage', 'joked', 'believeth', '41:23', 'leaded', 'homeless', '27:42', 'busiest', 'fastened', 'assuage', 'strand', 'seleucia', 'donavan', 'floating', 'esculent', 'sudden', 'kneeling', 'cole', '40:6', 'meditation', 'desirable', 'meaning', 'monument', 'grimness', 'iran', 'enclosing', 'fitting', 'andrew', 'specimen', 'dearth', 'trophimus', 'apprehensiveness', \"hang'd\", 'spluttered', 'assyria', 'sweetly', \"quench'd\", 'highnesse', 'lengthen', 'mantel', 'lash', 'materialism', 'romeo', '23:21', 'thresh', 'eighth', 'consults', \"brew'd\", 'graving', 'ask', 'mackerel', 'mouth', 'crackdown', 'of', 'warranty', 'fort', 'subtler', '24:7', 'barrier', 'shaul', 'lookalikes', 'glamys', 'valet', 'courtland', 'rogelim', 'amused', 'reptile', 'tremble', 'story', 'lodebar', 'greenland', 'disqualified', 'unreasoning', 'advisable', '59:12', '2:45', 'nazarite', 'hannity', 'quietest', 'grand', 'spokeswoman', 'viciously', 'madmannah', 'wishing', 'correct', 'broader', 'prove', 'coming.--', 'admonished', '6:52', 'circumstanced', 'headland', 'brushing', 'behemoth', 'wreathed', 'microscopic', 'tigris', 'aloud', 'flannel', 'bookes', 'cringing', 'geological', 'buffett', 'jet', 'uneducated', 'reigne', 'hedgehog', 'jeopardize', 'russet', 'nicodemus', 'trottoirs', 'kenite', 'posset', 'irreversible', 'seemingly', 'chilling', 'cleanseth', 'likening', 'danced', 'indonesian', 'shout', 'device', 'chatty', 'provides', 'classic', 'phallic', 'trip', 'requested', 'kohl', 'tepco', 'civilized', 'mainyard', 'considerably', 'vornado', \"mouth'd\", '11:32', 'citoyens', 'quickened', '14:31', 'redistricting', 'bilhan', 'cancelled', 'unshaken', 'moodily', 'drawl', 'screen', 'assemble', 'treachery', 'jehoahaz', 'sneeze', 'mecca', '9:6', 'cherish', '9:2', 'sword', 'hideth', 'quarrelling', 'almost', '51:9', 'smallridge', 'clinic', 'hesitation', 'brigandine', 'abusing', 'rib', 'sirra', 'kissing', 'sober', '50:3', 'perisheth', 'sobbed', '35:15', 'sinned', 'droppes', 'feign', 'helon', 'escaped', 'spurring', '6:53', 'odorless', 'sourse', 'slack', 'shrink', 'eric', '38:15', 'faced', 'thing.--', 'effulgent', 'resembled', 'outlet', 'assurance', 'entering', 'worsted', 'weekend', 'spun', 'leaker', 'falsehood', 'outmost', 'flashy', 'scissors', 'spiritually', 'shoddy', 'crowding', 'babble', 'choking', 'mangled', 'sergey', 'dangled', 'pompey', 'classified', 'sinke', 'rapacious', 'guessed', 'impersonator', 'grill', 'farhad', 'umbrella', 'tempts', 'galilaean', '56:5', 'sly', 'meteor', 'sash', 'entertainment', \"ma'am\", 'politico', 'greenwood', 'art', 'entrailes', 'severe', '15:1', 'husbandry', 'advertise', \"resign'd\", 'villa', 'vigil', 'dine', 'kerioth', 'erased', 'overjoyed', 'approved', 'survives', 'distinctness--', 'longsuffering', 'remembrancer', 'discouragement', 'cnn', 'sychologists', '6:30', 'humiliate', 'flea', 'onyx', 'drumming', '25:14', 'fry', 'working', 'policy', 'sedge', 'dummy', 'camell', 'limped', 'twig', 'everybody', '22:38', 'milo', 'streetlight', 'society', 'examine', 'misanthropic', '32:21', 'lyft', 'nsa', 'crater', 'flyest', 'wrath', 'omit', \"finish'd\", 'repelled', 'guarantee', 'collar', 'thursday', 'unending', 'complaint', 'item', 'symbolize', 'forgetful', 'appearing', 'insists', '12:1', 'zebedees', 'antique', '45:25', '1:54', 'hawker', 'greenness', 'reopens', 'spikenard', 'alabama', 'korea', 'wrinkled', 'sedition', 'weal', 'harsha', 'easier', 'scoots', 'unpleasant', 'mistook', 'racing', 'able', '22:47', 'crawled', 'alderman', 'sceptred', 'overtook', 'tinkling', 'dept', 'pasture', 'jezer', 'spool', 'hebrew', 'underlying', 'swum', 'unreality', '19:37', 'irreconcilable', 'revocation', 'centrick', 'crucified', 'mining', 'ghostliness', 'needle', 'abishag', 'radical', 'plum', 'concurring', 'underline', 'tyre', 'jester', 'lockdown', 'malicious', 'rifle', \"show'd\", 'lupercall', '29:29', 'lieutenant', 'a', 'aslant', 'supplanted', '15:53', 'weepest', 'sleepe', 'intermits', 'veda', 'wonderfull', 'brandishing', 'meridian', 'thrusting', 'gone', 'mugabe', 'gut', 'incurring', 'jair', 'boyhood', 'simultaneousness', 'grisled', 'admires', '32:4', 'palter', 'shechaniah', 'havoc', 'transfused', 'suspending', 'studying', 'stewardship', 'stoic', 'manifestly', '6:4', 'rose', 'sphere', 'covered', 'serpent', 'pethor', 'insensibility', '48:4', 'pewter', 'horhagidgad', 'swirl', 'priebus', 'northeast', 'kristol', 'zebah', '4:27', 'dresser', 'impenetrable', '20:16', 'long', 'chewing', 'elzabad', 'comedie', '14:28', 'draped', '11:49', 'privateer', 'leaues', 'mused', 'nathanael', 'deacon', 'historian', 'u', 'cooperate', 'demonism', 'resembles', 'peremptorily', 'louisa', 'tormented', 'sammy', 'union', 'trident', 'hindrance', 'answereth', 'porridge', 'someway', 'concreted', 'emblazonings', 'lambe', 'peeled', '1:41', 'ashur', 'resolve', 'malign', 'righteous', 'pluckt', 'smoother', 'christmas', 'reade', 'gossiping', 'door', 'teach', 'interpreting', 'tach', 'even', 'sentest', '6:58', 'retaineth', 'wel', 'appeareth', 'lime', '41:34', 'ithream', 'cancel', 'clothing', 'circumspectly', 'pinon', 'shuffle', 'medium', '13:36', 'larded', 'dulness', 'maple', 'bedroom', 'panteth', 'gorged', 'neat', 'scowling', 'nepheg', 'sheltered', 'rack', 'absalom', 'polled', 'smeer', 'accord', 'polynesian', 'canadian', '2:15', \"untouch'd\", 'faintness', 'economy', 'shortness', 'progenitor', 'freshened', 'nisan', 'madagascar', 'from', 'akkub', 'destroying', 'lb', 'fated', 'tufted', 'manager', 'monotony', 'insert', 'immature', 'purifieth', 'lifelong', 'unwritten', 'intolerable', 'analyse', 'arranging', 'carest', 'barn', 'scandall', '4:13', 'sucke', 'indecision', '61:4', 'me!--', 'sixscore', 'creep', 'ariseth', 'rumble', 'guild', 'nursery', 'ogre', 'persistent', 'chaucer', 'guildenstern', 'blooming', 'hethlon', \"back'd\", 'like', 'beno', 'weaving', 'doting', 'tour', 'avarice', 'revenge', 'swooped', 'claret', 'essential', 'quota', 'merit', 'administering', 'mouthed', 'ludgate', \"veil'd\", 'counterbalance', 'canted', 'boisterous', 'berkshire', 'serviceable', 'calleth', 'barring', 'amuses', 'rabbit', 'au', '44:4', 'foot', '62:11', 'sir--', 'beheaded', '10:48', 'audrey', 'fence', 'highly', 'trout', \"distemper'd\", '26:42', 'feed', 'departing', 'grazed', 'chaffetz', 'bloomberg', 'lively', 'kinder', 'copulation', 'feasible', '39:16', 'soldier', 'colorless', 'attempting', 'blameable', 'senseless', 'volition', 'huzza', 'begirt', 'rammed', 'admirant', '22:50', 'tack', 'apology', 'threadbare', 'joktheel', 'indignantly', 'acre', 'agent', 'joktan', 'feedeth', 'complication', 'illuminated', 'musically', '19:24', '13:17', 'consisting', 'pattering', 'fleddest', 'raillery', 'doll', '8:53', 'presidentiad', 'transport', 'consumeth', 'delingpole', 'flaw', 'preferring', 'cell', 'friesland', 'majesty', '22:32', 'logic', '27:22', 'enoch', 'whirled', 'luc', 'continuously', 'hoarse', 'run', 'sharpened', 'overtake', 'persian', 'alligator', 'wakened', 'tougher', 'disliking', 'disappearance', 'graue', 'diversify', 'unwinding', 'curtsied', 'grindstone', 'glutton', 'invent', 'abijam', 'baby', 'concentrating', '36:5', 'confidentially', 'gordon', 'increasing', 'chauvinism', '27:26', 'amittai', 'rizpah', 'arranged', \"toil'd\", 'reveller', 'handleth', 'vaunting', 'cat', 'freezer', 'heel', 'impressed', 'world', '49:19', 'lookest', 'recast', 'lifter', 'mischance', 'zarrab', 'slighted', 'surprising', 'hideousness', 'tenaciously', 'superlatively', 'nato', 'pox', 'dispersed', 'mown', 'laugh', 'flax', 'urijah', 'woken', 'quenched', 'xii', 'nettle', 'lewd', 'toe', '14:22', '34:3', 'mountaineer', 'neighbour', 'lake', 'intolerably', '22:26', 'pioneer', 'rue', 'vista', 'theoretic', 'rosette', 'tremendous', 'lilac', 'baker', \"fail'd\", 'nethermost', 'swallowed', 'traile', 'addict', 'pharaohnechoh', 'adoring', 'eloquent', 'delay', 'coarseness', 'lunatic', 'unmarked', 'onesimus', 'benevolent', 'foggy', 'prepared', 'imprudently', 'heares', '57:5', 'seyward', 'mcmaster', 'pause', 'dismissal', 'govern', 'juggler', 'aristocratic', 'turbid', 'vine', 'schedule', \"seem'd\", 'syria', 'abiud', 'charmes', 'melancholy', \"tooth'd\", 'suggestion', 'shewedst', 'remove', '26:51', 'droll', 'hutton', 'laden', 'gregarious', 'hananiah', '            ', 'tardie', 'announced', 'futile', '1789', \"offer'd\", 'escaping', 'disturbed', 'eastward', 'imprudent', 'arrogance', '2:4', 'fatherless', 'jaime', 'perceivest', 'undiminished', 'around', 'acquire', 'greg', 'occupying', '27:34', \"se'nnight\", 'atheistic', 'forgetfulness', 'subdue', 'belt', 'javelin', 'kenath', 'thank', '37:6', 'jehonathan', 'ledyard', 'findest', '17:29', '17:14', 'acquittal', 'fadeth', '36:21', 'warlike', 'demoniac', 'tinted', \"lov'd\", \"lull'd\", 'tremor', 'roll', 'potsherd', 'hallooing', 'banner', 'therewith', 'stumped', '               ', 'refugee', 'cask', 'ungovernable', 'inserting', 'quietly', '6:66', 'aptitude', 'scrutiny', '20:21', 'gibeonite', 'fatal', '23:8', '10:32', '26:37', 'indulgent', '44:24', 'purifying', 'peaceable', 'melchishua', 'scorch', 'controuersie', 'ocean', 'melted', 'essentially', 'torch', 'curly', 'crashing', 'n.c.', \"father'd\", 'heavy', 'sowing', 'corporall', 'benhadad', 'charmingly', 'belied', 'binea', 'vein', 'hilltop', '10:13', 'bark', 'truck', 'knightley', 'san', 'holding', 'court', 'mene', 'meditative', 'cleverer', 'listened', 'exhibiting', 'yesterday', 'investigated', 'external', 'hedged', 'bitterness', 'minimum', '42:7', 'accomplishment', 'hurling', 'jehoram', 'thorn', 'skinny', 'turkey', 'branched', '8:11', 'kidron', 'clove', 'solomon', \"ol'\", 'streak', 'veritable', 'poor', 'hinting', 'thoughtlessness', \"travel'd\", 'brooklyn', 'clit', 'deliver', '13:54', 'amour', 'longitude', 'witticism', 'literary', 'transverse', 'gittaim', 'curio', 'clapper', '1.murth', 'distinction', 'improved', 'barnabas', 'thinker', '33:32', 'breakfasting', 'satin', 'avenger', 'legislation', 'kingly', 'grinding', 'tames', 'sacrilegious', '16:26', 'strangled', 'shithole', 'attributing', 'mourns', 'tender', 'vnfixe', 'goddamn', 'adonibezek', 'coney', 'heidi', 'momentary', 'mixing', 'ripe', 'coaster', 'progressing', 'overseeing', 'lifted', 'flirtation', 'faine', 'tournament', '300mw', 'crutch', 'nonchalance', 'kore', 'asylum', 'hospitalization', 'guatemalan', 'dubai', 'pacific', '20:47', 'jerah', 'excels', 'lest', 'turpentine', 'condemnation', 'apricot', 'sketch', 'equalled', 'arching', 'hasten', 'supremacist', 'aca', 'jailed', 'parody', 'wall', 'pollard', 'publicly', 'deduction', 'tartan', 'impartial', 'composedly', 'roamed', 'interpenetrate', '9', 'unmanufactured', 'recording', 'dictate', 'tinged', 'willing', 'bumper', 'authentick', 'channel', 'unveils', 'malediction', 'contemptuously', 'himalaya', 'justling', 'cucumber', 'kindly', 'morass', 'stickytoes', 'responsibility', \"kill'd\", 'throate', '20:23', 'zip', 'engineering', 'whereon', 'californian', 'spelt', '25:21', 'tamer', \"did'st\", 'detailed', \"avow'd\", 'beaming', 'devil', 'clime', 'plea', 'plenty', 'thickness', 'unraveling', 'obscurity', 'lawgiver', 'firstripe', 'navel', '36:37', '7:39', 'damaging', 'spiracle', 'cloudlets', 'keene', 'produce', 'vagrant', 'humorous', 'disparted', 'gable', 'moones', 'uncounted', 'governor', 'deprecation', 'injured', 'interpreter', 'tusked', 'harvest', 'emulation', 'waft', 'tag', 'propriety', 'ascending', 'avowal', 'unanswerable', 'fervent', 'boldest', 'renowned', 'shobai', 'despoiled', 'suddenness', 'epher', 'reunited', 'admonition', 'pack', 'mockery', 'jiphthahel', 'irish', 'outsider', 'prod', 'brahmin', 'serenest', 'descends', 'television', 'loudly', 'wast', 'surmisings', 'syrian', '12:9', 'footing', 'loth', 'credited', 'mantle', 'fleshy', 'slip', 'pollster', 'consistently', 'dooryard', '6:10', '5:32', 'overthrow', 'enlivened', 'buzzer', '19:9', 'theater', 'eyelash', 'chattering', '29:19', 'parable', 'enslaved', '26:44', 'bene', 'asserted', 'mikloth', 'epaulet', 'enlist', 'jerimoth', 'algum', 'terrorism', 'hunk', 'fancy', 'unspeakable', 'skip', 'tiresome', 'coffee', 'blast', '10:1', 'uninsured', 'kevin', 'kidnapping', 'affront', 'doubtingly', 'spanish', 'unpoetical', 'quintillion', 'eyes--', 'distracted', \"appear'd\", 'asshole', 'teeing', 'indeed!--but', 'puzzledom', 'snake', 'debbie', 'betrayeth', 'harvesting', 'divined', 'magnanimous', 'elusive', '47:5', 'splint', 'superstitiously', '36:33', 'tedious', 'do', 'huggins', 'gasped', 'aureola', '22:37', 'fairfax.--', 'intense', '1,100', 'sallu', 'restful', 'kedar', 'modify', 'adapted', 'bond', 'avoids', 'program', 'soule', 'delos', '56:1', 'carrieth', 'howl', 'grape', '12:18', 'debating', \"awak'd\", 'vndertake', '34:23', 'objectionable', 'seafaring', 'taunton', 'guard', 'soundly', 'european', \"weigh'd\", 'hearty', 'buyer', 'unwounded', 'joyfully', 'undoubted', '56:6', 'stoned', 'peevish', '1380', 'forbad', 'attack', 'caressed', 'treadeth', '3:47', 'deploy', 'scorneth', 'unaccountably', 'taunting', 'noisome', '9th', '4:10', 'wielded', 'subjected', 'simultaneously', 'topmost', 'screened', 'hailing', 'savoury', '33:28', 'apple', 'meshezabeel', 'oppression', 'lillys', 'hashum', 'bec', '8:25', 'banging', 'jeremoth', 'contented', 'smash', 'feete', 'skirmisher', '47:6', 'wallace', 'brutish', '1825', 'culpability', 'muddle', 'bannered', 'jon', 'rent', '35:6', 'advocate', 'dragged', 'workmanship', 'strathspey', 'accurately', 'kneel', 'sara', 'boulnois', 'seekes', 'tributary', 'elliot', 'pitiable', 'contingency', 'ticklish', 'wended', 'antioch', 'interviewed', 'agag', 'misery', 'established', 'deceitfull', '26:45', 'atheism', 'elisabeth', 'atheistical', 'adam', '40:8', 'intricate', 'implying', 'alibaba', 'heraldry', 'refuge', 'deform', 'dershowitz', 'vanity', 'denied', 'escapeth', 'dollar', 'southerner', 'oppresseth', 'tpp', \"lipp'd\", 'giraffe', 'conceives', 'barbary', 'mutter', 'cruisings', 'saul', 'clamour', 'norwey', 'reshaping', 'delusional', 'stupor', 'utter', 'mapple', 'straitened', 'tell', 'anaconda', 'isolation', 'whetstone', 'jaalam', 'tetrarch', 'ragging', 'shrubbery', 'humor', 'binnui', 'appeare', 'dunsinane', 'shimea', 'finely', 'grove', '38:22', 'obtaining', 'eglon', 'unfeeling', 'reciprocal', 'drought', 'manfully', 'ministry', \"pardon'd\", 'ferrars', 'patty', 'elaborately', 'rigged', 'lab', 'faileth', 'lightly', 'bert', 'lark', 'theorist', 'vnderstanding', 'negative', 'superfluous', '33:3', 'returnes', 'farc', \"resolu'd\", 'speciall', 'confidante', 'means--', 'immemorially', 'extinct', 'invalid', 'gaping', 'binomo', 'storm', 'arming', 'hoof', 'independent', 'harvey', 'stocking', 'poland', 'cowering', 'flurry', 'heiress', 'camel', 'praising', 'expands', 'bier', 'twine', 'insufficient', 'benedictine', 'sol', 'investor', 'admission', 'calif.', 'commotion', 'clad', 'incline', 'agenda', 'jeiel', 'outside', 'asaiah', 'unseasonable', 'token', 'airline', 'laving', '1:9', 'direful', 'ok', 'motioned', 'asriel', 'limelight', 'inanimate', 'in--', 'communist', 'unintentionally', 'weyward', 'talebearer', 'brokenly', 'glamis', 'hindoo', 'verie', '14:23', 'recently', 'feudal', 'husbandman', 'poo', 'oftenest', 'distinguished', 'angelick', '31:5', 'g.k.', 'increaseth', '20:18', \"follow'd\", 'firstfruit', 'royce', '16:19', 'statesman', 'deist', 'elizabethan', 'spree', 'thundering', 'lullaby', 'tripod', 'enthusiastic', '15:18', 'handling', 'baltimore', 'openly', 'comprehend', 'undefiled', 'godhead', '13:5', 'mixed', 'starless', 'breeze', 'hatefulness', 'individually', 'rare', 'delivers', 'grievousness', 'fearlessly', 'deepely', '40:38', 'assailed', 'pedahzur', 'orgasm', 'lackest', 'jewry', 'loom', 'bituminous', 'forborne', 'rellish', 'ould', 'furiously', 'manhandle', 'density', 'unload', \"corner'd\", 'bathing', 'chartered', 'brigade', 'reassures', 'beloved', 'ostentatious', 'cooled', 'storme', 'horrid', 'wiretap', 'hurdle', 'nutella', 'riding', 'filling', 'hagarites', 'cruelly', 'condensed', 'lateness', 'broken', 'advice', 'cannes', 'glossy', 'fainting', 'insulted', 'accurate', 'chuckling', '76', 'dibongad', 'gina', \"deceiu'd\", 'mettlesome', 'declared', '15:22', '25:40', 'mget', \"wash'd\", 'cherisheth', 'dire', '7:41', 'giuing', 'argosy', 'ziza', 'abdon', 'stimulated', 'somewhat', 'renewable', 'tremendously', 'careth', 'byrnane', 'marco', '25:46', 'released', \"journey'd\", 'authority', 'ioyes', '66:4', 'patiently', 'consecrate', 'jetted', 'shed', 'grovelling', 'nominates', 'soiree', 'abishua', 'oliver', 'infirmity', 'trevor', 'tombstone', 'teaching', 'zanoah', 'clamber', 'rotten', 'govt', 'queene', 'jacobite', 'selfish', 'indonesia', 'breast', \"saunter'd\", 'mint', '49:21', 'banksy', 'carry', \"ee'n\", 'thebez', 'execrable', 'carson', 'novelty', 'hul', '13:9', '1807', 'pullout', 'reject', 'forty', 'begotten', 'grizzly', 'awfully', 'undisputed', 'kibrothhattaavah', 'genteel', 'improper', '2:27', 'tingling', 'persecutor', 'jared', 'bold', '33:11', '7:72', 'congratulating', 'wrecking', 'strooke', 'eddystone', 'supt', 'lethal', 'vermin', 'sat', 'chancellor', 'behoves', 'flamingo', 'wagging', 'rachel', 'spoke--', 'lessened', 'merab', 'eares', 'hamath', '1973', 'roy', '15:55', 'peach', 'doubtless', 'jacinth', 'hand', 'gymnastic', 'watchman', 'ween', 'adorned', 'weymouth', 'betsy', 'engaging', 'confided', 'pompeyes', 'concluded', 'rithmah', '11:20', \"refresh'd\", 'conjuring', 'dreyfus', 'location', 'object', 'loose', 'diseased', 'knobbed', 'flighty', 'accounting', 'furtherance', 'register', 'foreshortened', 'amounted', \"forc'd\", 'mock', 'sexton', 'frantically', '48:1', 'untravelled', 'frontman', 'graded', 'catherine', 'mishandling', 'unformed', 'reminder', 'resign', 'trembleth', 'heaped', 'interest--', 'executing', 'lotion', 'gothic', 'siamese', '26:62', 'arena', 'amnon', 'maliciousness', '31:44', 'gethsemane', 'kitty', 'bendeth', 'calendula', \"tann'd\", 'zattu', 'ungodly', 'dissembler', 'critter', 'galahad', 'oakum', 'seriously', 'filthie', 'condescension', 'undiscoverable', 'occasioned', 'oath', 'outset', '61:7', 'popular', \"speak'st\", 'shameless', 'comicall', 'jokneam', 'compliance', 'satisfactory', 'maddening', 'unterrified', 'spite', 'reflective', 'rode', \"crouch'd\", '37:10', 'jolt', '16', 'gibberish', '50:2', 'suffered', 'sob', 'barrow', 'peeces', 'leddest', 'toned', 'feature', 'involving', 'ipsos', 'fellowservants', 'northerner', 'stingy', '33:29', 'dodanim', 'sop', 'gao', 'obserue', 'la', 'lovingkindness', 'euro', 'clinton', 'earning', 'nominal', 'straw', 'foreknowledge', 'invasion', '36:36', '13:37', 'alush', 'pounded', '4:16', 'pave', 'blunder', 'contrived', 'centripetal', 'assisting', 'making', '91', 'vestige', 'intrusion', 'suffereth', 'translates', 'arioch', 'animated', 'labourer', 'tv', 'masterly', 'hurtled', 'visage', 'unearthly', 'medan', 'sow', 'wander', '2:30', 'specious', 'terrorist', '35:19', '21:2', 'burnt', 'coughing', '25:23', 'dustier', 'austria', 'arabia', '8:19', 'loathsome', 'instalment', 'befell', 'liuing', 'naturalness', '11:44', '6:50', 'spruce', 'stretching', 'spendeth', '33:21', '1:21', '23:33', 'graveyard', 'designe', 'wilt', 'shuah', 'foreshadowing', 'one', '6:70', 'mislead', '23:43', 'hackluyt', 'lefthanded', 'mottled', 'exercised', 'supposes', 'transgender', 'pottage', 'flinch', '600', '40:23', 'type', 'cairo', '34:27', 'impeached', 'arriere', 'xerxes', \"crack'd\", 'servest', 'dryness', 'wikileaks', 'nimbly', 'fingerprint', 'thigh', 'pay', 'camping', 'kiss', 'jib', 'beitar', 'achshaph', 'lazar', 'delirium', 'anab', 'shelah', 'insider', 'naasson', 'forfeiture', 'inducement', 'mammy', 'cornered', 'renounced', 'simeonites', 'demonstration', 'warmest', 'sctv', 'buoyancy', 'indorsement', 'neer', 'procedure', 'oakes', 'azor', 'ioyfull', 'entitle', 'superhuman', 'useless', 'owing', 'bleeding', 'panoply', 'marchant', 'hawthorn', 'weaver', 'happiest', '63:2', '12:17', 'prodigall', 'caius', '18', 'precipitating', 'gout', 'ridge', 'propitiation', 'remark', 'successively', 'ahio', 'diffidence', '24:49', 'lacked', 'furnishing', 'attractive', 'hammer', 'anak', 'rationality', 'rejoicing', 'hectic', 'clamorous', 'sexual', 'plan', 'conveyed', '35:25', 'implore', 'alaskan', 'observe', 'seagrass', 'dystopia', 'inexperience', 'coca', 'distasteful', 'unguarded', 'grandson', \"shadow'd\", 'nicety', 'reckoning', 'bald', '55:9', 'falser', 'unthankful', '29:20', 'contained', 'impure', 'schoolboy', 'boatman', '34:8', 'warren', \"bear't\", 'daughers', 'brings', 'playfellow', 'helpless', 'equipt', 'palme', 'dilation', 'vindicate', 'lick', 'relied', 'stringy', 'homeborn', 'alias', 'detour', '8:14', 'energetically', 'gala', '138,000', 'lavishes', 'enigmatical', 'suit', \"plac'd\", 'younger', 'either', 'whooping', '46:5', 'crime', 'glistering', 'credential', 'fatally', 'floridian', 'recoueries', 'hissed', 'grenfell', 'oui', 'glowing', 'weake', 'gig', 'opioids', 'unfolded', '--edmund', '26:1', 'steak', 'jaddua', 'backpage', 'simpered', 'aspire', 'encompass', 'xiii', '2:35', 'priam', 'adversary', 'marge', 'dood', 'aholiab', 'stump', 'healthy', 'joyed', 'squeeze', 'diffident', 'hoping', 'suffocated', 'conjurer', 'meanes', 'messias', 'lodging', 'font', '28:22', 'anticipatingly', '10:42', 'veranda', 'hilarious', 'payable', 'displeased', 'opposing', 'correspond', 'abstraction', 'gloriously', 'responsive', 'reserveth', 'charmed', 'conspired', 'methuselah', 'current', 'slaughter', 'radney', 'reu', 'sought', 'mahazioth', 'grinder', 'warriours', 'mankind', 'parricide', 'imbued', 'thirty', 'plying', 'cursed', '13:3', 'oh', 'ayme', 'perfected', 'personage', 'yesternight', 'omnipresent', 'marchioness', 'deer', 'located', '46:27', 'eastern', 'returnest', 'honourable', '44:27', '11:7', 'agitate', '5:22', 'printer', 'succeeded', \"guess'd\", 'distanced', 'hardeneth', 'popularly', 'tint', 'saile', 'morally', 'turning', '15', 'blockhead', 'unsettled', 'accessible', 'striding', 'spice', 'abandonment', 'daintiness', 'morsel', 'parthenon', 'billes', 'he--', 'tolerance', 'cadwallader', 'florist', 'hhs', 'labial', 'perjury', 'zophah', 'aduancement', '18:42', 'fragrant', 'bequeathed', 'mine', 'shilhi', 'crossly', 'pore', 'invisible', 'norland', 'both', 'congressional', 'circulation', 'unfortunate', 'tithe', 'soiled', 'cruse', 'wreathen', \"pierc'd\", 'park', 'answerd', 'star', 'endangered', \"i'd\", 'detected', 'tema', 'paleness', 'shuddered', '6:1', 'sit', 'pihahiroth', 'befitting', 'radiating', 'uncircumcised', 'concerneth', 'deceived', 'platonist', 'edward', 'paternity', '21:39', 'enfolding', 'swap', 'bombshell', 'explosive', 'barack', 'chaos', 'talkest', 'submit', 'qatari', 'shroud', 'rhinoceros', 'chamois', 'dot', 'utah', 'lusteth', 'sewer', 'alluding', 'plymouth', 'dismissing', 'fervour', 'shot', 'coaxing', '43:4', 'astonished', 'potomac', 'criticizing', 'llama', 'aslan', 'ramothgilead', 'benefit', '5:40', 'barron', 'intensify', 'bracing', 'orrin', '100-day', '33:17', 'dutiful', 'resource', 'mafia', 'begot', 'lazarus', 'committal', 'foure', 'thistle', 'imperilled', 'irma', 'hear', 'blaze', 'battersby', 'cistern', 'sennacherib', 'stamp', 'meddling', 'layes', 'reprove', 'approval', 'consecutive', \"stirr'd\", 'welcoming', 'hardy', 'masrekah', '42', 'lombardy', 'scratching', 'success', 'decapitated', 'fired', 'frankly', 'brag', '31:10', 'overwhelm', 'tilted', 'hart', 'gov.', 'eterne', 'score', '33:13', 'oftener', 'ayre', 'tharshish', 'incivility', 'fluency', 'saith', '9:34', '112', 'shouldst', 'microsoft', 'trademark', 'anger', 'parteth', 'civilian', 'maryland', 'quoted', 'wheat', 'waded', 'chronicler', 'loaden', 'princess', 'gunmam', 'protective', 'sapphire', 'nantucketers', 'nancy', 'tooth', 'traine', 'weeping', 'spear', 'acorn', 'rehearsing', 'multiplied', 'quaked', 'ziha', 'puzzle', 'clothed', 'differing', 'rhenish', 'curtailed', 'redemption', 'peeping', 'say', '8:38', \"wrong'd\", 'shebuel', 'nabal', 'song', 'rashkill', 'spiralling', 'superficially', 'christ', '21:29', 'overrun', 'despaired', 'steadiness', '25', 'particle', 'shooter', 'purim', 'hypothesis', '32:18', 'stanza', 'irijah', 'failure', 'unknowing', 'dilate', 'undraw', 'placing', '18:30', 'rubbed', 'quarrel', 'quivering', 'unsteadiness', 'coriander', 'noose', '31:19', 'impression', 'neo', '45:20', 'lubims', 'pond', 'ariana', 'amounting', 'zadok', 'forenoon', 'aul', 'beanstalk', 'matured', 'mutiny', 'pulverize', 'aircraft', 'argall', 'quantitie', 'rhetorical', 'lapsed', 'circumventing', 'aesthetic', 'proximity', '66:1', 'hattush', 'scamp', 'piazza', 'shouldering', 'excitement', 'remoter', 'fashion', '33:14', \"peril'd\", 'statute', '6:15', 'upholding', 'timbrel', 'phenicia', 'embalmed', 'lotan', 'elate', 'carved', 'bouton', 'abimael', 'checked', 'spring', 'suet', 'highth', 'artful', 'urn', 'visit;--', 'swarmed', 'jezreel', 'being', 'enlargeth', 'expire', 'your', 'cooler', 'dined', 'thwarted', 'accepteth', 'sleepie', 'humoured', 'whaler', 'tantalus', 'devoid', 'misinform', 'ermine', 'brickkiln', '43:2', 'achaz', 'chicken', 'chairing', '13:50', 'floundered', 'garnished', '9:20', 'dathan', 'erupts', 'patchwork', 'nadab', 'druggist', 'illegally', 'reelection', 'battlefield', 'enrogel', '2:37', 'reckoned', '4th', 'sunbeam', 'futility', 'zacharias', \"to'th\", 'arouse', 'edomite', 'netherlands', 'sitteth', 'eternally', 'hyping', 'stupidity', '44:10', 'statue', \"lengthen'd\", 'militia', 'defensiveness', 'hoppity', '13:45', 'nutmeg', 'zebadiah', 'inexhaustible', '113', 'shred', '30:16', 'robustness', 'austere', 'local', 'leftist', 'extolling', 'til', 'suitable', '2:38', 'theme', 'readest', 'worme', 'bethlehemjudah', 'hungering', '3:31', 'sex', 'caged', 'employed', '21:7', 'sojourner', 'speck', '21st', 'purlieu', 'wrench', 'communion', 'unnamed', 'quizzing', 'osama', 'tanning', 'flexion', '                   ', 'rippling', 'canceling', 'phoenix', 'learn', 'halcyon', 'meete', 'cinderella', 'clue', 'galatia', 'counterpoise', '41:7', 'locke', 'dark', 'pedlar', 'mouncht', 'cormorant', 'jaazaniah', 'pervades', 'meant', 'buries', 'vane', 'dicotyledonous', \"fear'd\", 'arrant', 'advancing', '42:4', 'glee', 'undying', 'winthrop', 'glu', 'rushed', 'volum', 'lawyer', 'clocke', '16th', 'soothing', 'chatter', 'lasted', 'miser', 'cow', 'hasty', 'infected', 'maker', '15:35', 'vtter', 'wrest', '19:14', 'hyssop', 'touched', 'cancell', 'sentry', 'strap', '6:63', 'herbert', 'shuni', 'epilepsy', 'stove', 'swamp', 'relating', 'bankes', 'illusion', 'translated', 'cantabile', 'um', 'imployment', 'wary', 'teeth', 'sure', 'respectively', 'lacketh', 'fearlessness', 'scarlet', 'bursal', 'tinker', 'newly', 'expressive', 'duncan', 'owest', 'mommy', 'dmz', 'wentworth', 'macnab', 'servitude', 'helem', 'shivering', 'citron', 'shudder', 'tarlton', 'sittest', 'eshcol', 'blackmailing', 'kindest', 'serving', 'pressed', 'par', 'verily', '32:19', 'eyewitness', 'fictitious', 'hugging', 'controul', 'beastly', 'concealment', 'boasteth', 'flourished', 'amusing', 'magog', 'tentative', 'sickle', 'cliff', 'charmouth', 'wreck', 'biography', 'dealt', 'herdmen', 'angell', 'rush', 'gozan', 'qualified', '63:10', 'benching', 'foundling', 'advertiser', 'measure', 'said--', 'exceeds', 'grammar', 'amity', '50:5', 'lasciviousness', 'alone', '37:9', 'sunday', 'sepharvaim', 'tanked', 'conspiracie', 'rudeness', 'museum', 'tarried', 'philemon', 'decency', 'infiltrated', 'm--', 'atoned', '50:1', 'tripping', 'challenger', 'camillo', 'manifested', 'schiller', 'blain', 'partisan', 'ahohite', 'balanced', 'waite', 'heartless', 'interposed', '19:10', '3:38', 'those', 'equable', 'crystal', 'festus', 'anoints', 'heedful', 'tenement', 'horror', 'sympathising', 'scoresby', 'fondness', 'heroick', 'foundered', 'troubled', 'becometh', 'hurriedly', 'procuring', 'rap', 'moved', 'cockade', 'indure', '2018', 'equator', \"for't\", 'painfulness', 'reorganized', 'prudential', 'caucus', 'single', 'judgement', '19:32', '32', 'en', 'are--', 'eccentrick', 'hesitating', 'shrugging', 'elealeh', 'bocheru', 'gazez', 'into', 'you!--i', 'hannah', 'gravitation', 'pardonable', 'dazzled', 'reader', 'kink', 'phoo', 'saluting', 'listening', 'pyongyang', 'engraven', 'whip', 'irksome', 'dutch', 'gamble', 'ibhar', 'potato', 'barrage', 'falconroy', '40:17', 'tistig', 'digression', 'cordiality', 'cleaue', 'dwells', 'fb', 'seraphims', 'manner', 'israelite', 'bankruptcy', 'debir', 'dashwoods', 'encroachment', 'derides', 'announces', 'propitious', 'grime', 'basil', 'novelist', 'pall', 'tiras', '19:22', 'bottle', 'brawl', 'unworthily', 'hideous', 'subaltern', 'blankly', 'vouchsafe', \"mourn'd\", 'containing', 'multitudinous', 'eilidh', 'colonel', '35:26', 'blank', 'lighten', 'forehead', 'surveillance', 'chenaniah', 'harbour', 'performing', 'etham', 'significant', 'sprung', 'inquired', 'treacle', 'determination', 'altering', 'danger', 'paradox', '38:11', 'yield', 'holiest', '33:22', 'resided', 'goring', 'elegancies', '2:16', 'distantly', 'stranger', 'inkling', 'embankment', 'digesting', 'pembroke', 'theirs', 'pastor', 'moderate', 'afternoon', 'reich', 'nunnery', 'extant', 'richmond', 'vide', 'sultanism', 'miguel', 'brimmed', 'demonstrate', 'unhealthy', '36:14', 'pinching', 'virus', 'macbeth', 'perez', 'international', 'villaintropic', 'pilled', 'glimpse', 'prim', '46:13', '15:17', 'epic', '52:5', 'incarnation', 'diplomacy', 'paid', \"desir'd\", 'soccer', 'unselfish', 'eri', 'tutte', 'ahikam', 'great-', '37:30', 'salathiel', \"constrain'd\", 'swearing', 'ignoble', 'usurping', 'hovers', 'gamy', 'chesterton', 'repressed', 'callous', 'tattooed', 'gatherer', 'broadening', 'prussian', 'judith', 'disputing', 'jackass', 'obstruct', 'turn', 'patronage', 'drafted', 'athwart', '16:50', 'goody', 'debauchery', 'oppressing', 'playground', 'carlo', 'sinew', 'stratagem', 'manned', 'slogan', 'lakeman', 'dye', 'uncontrollable', 'poker', 'pert', \"damn'd\", 'manafort', 'dangerously', 'spout', 'paralyzed', 'quickly', '1:35', 'huff', 'thanking', 'freer', 'funniest', '140', 'acrid', 'receptive', 'domestick', 'hilariously', 'jashub', 'prank', 'treasure', 'conspicuous', 'carolinian', 'closest', '56:4', 'yore', 'seventy', 'moloch', 'amendment', 'obededom', 'ninth', '57', 'goodnight', 'ki', 'set', 'heitkamp', 'gastronomic', 'moss', '5:14', 'revel', 'crank', '80', 'addeth', 'arose', '1:25', '12:37', 'blinding', 'credulity', 'draught', 'strengtheneth', 'guaranteeing', 'exorcist', 'laver', 'dissemble', 'calledst', 'cerebellum', 'milling', 'adjudged', 'cheran', 'slacken', 'annoy', 'unpitied', 'imitating', '11:50', '11:10', 'losing', '13:34', 'funder', 'appertaineth', 'unreserved', 'president', 'redeems', 'zso', 'musicke', 'thinke', 'connecticut', 'uthai', 'moneth', 'chord', 'arsacides', 'softening', 'flying', 'ben', 'bloom', 'miss', '38:20', 'sojourneth', 'splendor', 'primitive', 'collect', '4:21', 'bruited', 'arras', 'hatita', 'overthroweth', '13:26', \"saw'st\", 'cabaco', 'oberon', 'chewed', '39:11', '33:20', 'confide', \"abandon'd\", 'kernel', '24:53', 'eminence', 'solidity', 'quieter', 'grotesque', 'youth', 'disentangling', 'bubble', 'glare', 'delineated', 'crafty', 'circumstantial', 'grew', 'kine', 'consulting', 'ekron', 'costliest', 'beatitude', \"unimplor'd\", 'spin', 'purport', 'rated', 'outstretched', '8:46', 'noph', 'willoughbys', 'shewed', 'cullest', 'most', 'rustling', 'casuist', 'cinder', 'ishtob', 'elasah', 'wisest', 'paralytic', 'peskov', \"endear'd\", 'tiled', 'billboard', 'bradlaugh', 'narrator', 'crisis', 'superlative', 'jarring', 'brief', 'hosen', 'move', 'veil', 'castest', 'soapstone', 'branch', 'scope', '9:25', '1:5', 'eichenwald', 'uninhabited', 'cropped', 'fly', 'sideboard', 'mutineer', 'adulterous', 'baffled', 'foment', 'nimble', '42:17', 'disrupt', 'plighted', 'farther', 'realization', 'warned', 'grimace', 'bliss', \"unlearn'd\", '31:20', 'velocity', 'hindustan', 'retrace', 'joiakim', 'breitbart', 'executioner', 'gorgonian', 'speediest', 'dishon', 'mourneth', 'mexico', 'illustration', 'jedaiah', 'obama', 'unremoved', 'innermost', 'lower', 'hydrogen', '10,800', 'doc', 'eternal', 'zelek', 'businesse', 'manly', '26:15', 'jehohanan', 'sheepshearers', 'eldaah', 'procreant', 'diminish', 'wearing', 'apologising', 'asparagus', '--\"narrative', 'swaddled', 'onward', 'boarder', 'engrossed', 'horde', 'capernaum', 'pulsation', 'spasmodically', 'auntie', 'cozening', 'mediator', 'base', 'ditched', 'fleet', 'afghanistan', 'heigh', 'wretched', '66:20', 'perfume', '34:33', 'welfare', 'rapier', 'rushing', 'cathedral', 'regardeth', 'terra', 'cooling', 'graal', 'motionless', 'mastership', 'dim', 'mercia', 'reflection', 'crispy', 'chancery', 'vertue', 'positively', 'clustering', 'clinched', 'screamed', '13:43', 'intercession', 'incumbrance', 'remotest', 'welcomed', 'pensive', 'congregational', 'forefinger', 'unbar', 'trey', 'meetest', 'sachs', 'mild', 'tolerable', 'ply', 'issued', 'scalloped', 'resumed', '61:5', 'jane?--', 'fonder', 'glance', 'spurned', 'vitter', 'austrian', 'communed', 'chooses', '18:31', 'reveals', 'erst', 'worried', 'giddel', 'wentest', 'nine', 'trumpism', 'ablution', 'feud', 'widens', 'sonorous', 'spundge', 'received', '11:52', 'dolorous', 'post', 'cur', 'barak', 'plateau', 'constantinople', 'complains', 'hearkening', 'exonerating', 'chelub', 'delusion', 'unread', 'noblesville', 'disobedience', 'providence', '27:46', '28:28', 'arrogant', 'writhing', 'realizing', 'girlfriend', 'yes', '13:4', 'handled', 'steep', 'brawny', 'scot', '1:34', \"cry'd\", 'antic', 'ironical', 'reach', '44:30', 'array', 'equilibrium', 'victual', 'onan', 'whited', 'regulated', 'jackson', 'cic', '20:8', 'lightens', 'sculptured', 'attendant', '11:15', 'terminate', 'thinner', 'donor', 'subordinate', 'rio', 'frighten', 'soothes', '6:6', \"rous'd\", 'involuntarily', 'comer', '15:9', 'rich', 'personally', 'grateful', 'vnder', 'angrily', 'supping', 'stedfastness', 'puzzling', 'shamgar', 'changed', 'smiteth', 'skrimshander', 'sowest', 'risked', '19:11', 'aske', 'goodliest', 'clanging', 'punitive', 'intelligence', 'bondwoman', 'craftiness', 'toil', 'shaveh', 'anniversary', '12:13', 'rashly', 'malaysian', 'gall', '65:4', 'miner', 'greenly', 'immutably', 'iron', 'front', 'cleane', 'crumpled', 'catechism', 'solicitor', 'considerate', \"o'th\", 'massy', 'disappearing', 'kremlin', 'badness', 'amend', 'spirited', 'zebulonite', 'independence', '31:39', 'sylvan', 'babe', 'horribly', 'megiddo', '6:16', '60:12', 'insular', 'bill', 'axis', 'impulsive', 'poise', 'betrayed', 'odor', 'dalrymple', \"harden'd\", 'rumbly', 'lop', 'sacrificer', 'outstretching', 'navy', 'acknowledgment', 'transfer', 'flushed', 'me?--i', 'continuance', 'jumble', 'euerie', 'cachalot', '34:17', 'applies', '64:7', 'armourbearer', 'jawbone', 'driue', 'axletree', 'terrestrial', '40:37', 'whang', 'launchest', 'cragness', 'sincerity', 'petraeus', 'cyprus', 'faculty', 'passe', 'postscript', 'bestowal', 'cross', 'vicky', 'hec', 'stuffe', 'testify', '2010', 'aftermath', 'disclaimer', 'devotion', 'streame', 'threshold', 'abel', 'grigory', 'scene', 'amok', 'cost', 'muffin', 'agony', 'pleaded', 'denoted', 'reflectively', 'thickens', 'screaming', 'tearful', 'palmy', 'manufactured', 'frost', 'enviest', 'reminding', 'tola', 'comedy', 'brasen', '48:2', 'wrack', 'mourner', 'expelled', 'consecration', '26:25', 'administered', '26:5', 'imparted', 'scraggy', 'subpoenaed', 'poising', 'afflicting', 'medicaid', 'dumber', 'toucheth', 'maintains', '17:41', 'nypd', 'pluckes', \"caress'd\", 'raisin', 'sided', 'notch', 'seizure', 'malaysia', 'signalled', 'weariness', 'inferiority', 'sorted', 'coleman', 'possibly', 'ashamed', 'phut', '58', 'pondereth', 'sophist', 'esau', 'head', '12:27', 'kedemoth', 'tombed', 'indifferently', 'habiliment', 'thirdly', 'epical', 'complied', 'clasped', 'resonates', 'spoil', '40:32', '6:34', 'gratify', '\"--she', 'hereunto', 'thel', 'nkorea', 'ride', 'sniffed', 'gleam', 'amended', 'impetuous', 'contrivance', 'enjoined', 'warbled', 'misused', '49:25', 'spasmic', 'dowry', 'knocke', 'stickes', 'ezer', 'forbade', 'apply', 'loued', 'shrine', 'ravishment', 'countess', 'wistful', 'goading', 'breakthrough', '1:45', 'masaya', 'ouercame', 'carriage', 'divinely', 'bilious', 'exchanged', 'condense', '43:8', 'david', 'defeat', 'latitude', 'this', 'implicated', 'deadly', 'safeguard', 'rectory', 'norma', 'wiser', 'betting', 'tolerate', 'therefrom', 'zone', 'blinking', 'leant', 'ascertained', 'vast', 'confuse', 'dissimulation', 'chemical', 'instructs', 'farre', 'removal', 'drugmakers', 'healed', 'captivate', 'dawdling', '35:14', 'thitherward', 'terraced', 'largeness', 'removed', 'hair', 'bickerton', 'liest', 'congratulations.--', 'depresses', 'fluffy', 'osr', 'impetuously', 'bribery', 'morphed', 'daca', 'practice', \"whisper'd\", 'platonian', 'hacked', 'rehum', 'obseruance', '51:16', 'unsuspicious', 'maddow', 'nonprofit', 'maze', 'rake', 'intention', 'gently', \"publish'd\", '13:8', 'vlcerous', 'nabbed', 'ronald', 'subtle', 'completely', 'called', 'poky', 'cash', 'tradition', 'foolishness', 'brightening', 'proposes', 'wildest', 'principality', \"vanish'd\", 'physique', 'beg', '17:19', 'bemoan', '10:45', '--\"the', 'sabaoth', 'symbolized', 'tape', '15:24', 'sternest', 'amiably', 'contention', 'airport', 'aceh', 'iim', 'sychem', 'defies', 'menace', 'hurt', 'wriggle', 'forbare', 'knocked', 'sauce', 'scourged', 'o’rourke', 'eyeservice', 'oblong', 'eating', 's', 'creature', 'repeat', 'recondite', 'frode', 'prest', '1.ple', 'ray', 'aground', 'c.i.a.', 'moab', 'gloomy', 'chastise', 'asia', 'preparation', 'conversant', 'diffuse', 'digest', 'zuck', '8:42', 'meshech', 'braver', 'woolly', 'nerve', 'i.', 'amazingly', 'clemency', 'drapery', 'salary', 'intermitted', 'ingratitude', 'overcoming', 'doddering', 'prestige', 'loud', 'check', 'name--', 'arctic', 'pilgrim', 'commence', 'useful', 'vigilance', 'intolerant', 'strapped', 'lapland', '34:4', 'hazor', 'dingy', 'gender', 'saddest', 'athenaeum', 'diving', 'perilous', 'isidore', 'duterte', '59:4', 'posterity', 'balk', 'meanness', 'foreign', 'slothfulness', 'butter', 'enda', 'leaky', '40:19', 'unpleasantness', 'fluttered', 'dared', 'strive', 'precept', 'attaine', 'now', 'wynn', 'dejected', 'prohibition', 'dislodged', 'hollyweed', 'ruled', 'meaneth', 'finde', 'slaughtered', 'skirt', 'sir', 'attributed', 'secures', '25:26', 'eligible', 'lot', 'nxp', 'complexity', 'embryon', 'si', \"cheek'd\", 'well--', '44:14', 'degrade', 'game', 'brightened', 'ten', 'legion', 'stark', 'tithing', 'wished', 'speeding', 'douglas', 'pleasure', 'vnderstood', 'couch', 'quarrelsome', 'zeruiah', 'hid', 'obtaineth', 'impotently', 'bigamist', '41:19', 'winded', 'wo', 'gave', 'bruise', 'complexion', 'portion', 'faintest', '~', 'design', 'virginity', 'commercial', 'freighted', 'snug', 'lookt', 'nimrod', 'exactitude', 'eased', 'befalleth', 'vienna', '39:14', 'illegal', 'answerest', 'obscene', 'orleans', 'euils', 'ebed', 'lip', 'without', 'bigvai', 'mum', 'irritation', 'tarrying', 'seniority', 'mutable', 'stiffly', \"disappear'd\", 'exhalation', 'mightily', 'disfigure', 'tutored', 'jill', 'sliding', 'constrain', 'shocked', 'advised', 'intently', 'shaken', 'skelter', 'schooner', 'buyest', 'robot', 'piccola', 'spire', 'aereal', 'coated', 'unwillingly', 'glistening', 'earliest', 'ash', 'deafening', 'uncivilized', 'skulked', 'cony', 'jinglers', 'sodden', 'nears', 'nominally', 'tropical', 'kislyak', 'revolting', '25th', 'rightly', 'port', '48:32', 'recklessness', 'landless', 'extrication', 'economical', 'clashing', 'chaplain', 'obscurely', 'havana', 'lintel', 'morn', 'glutted', 'advising', 'vastness', 'fals', 'evidently', 'obtained', 'helter', 'centrally', 'sluggard', 'gaiter', 'document', 'equinox', 'modestly', 'stork', 'piss', 'regretted', '43:27', '13:27', 'eclipsed', 'radiance', 'adjoining', 'it?--where', 'tranced', 'tapper', 'relinquish', \"dy'de\", 'ryans', 'delivering', '11:24', 'thrashed', 'prevents', 'slam', 'ignores', 'laborer', 'sprained', 'contemplated', 'doggedly', '8:27', 'achim', 'fund', 'euents', 'prospect', 'displayed', 'diverting', 'head--', 'jr', '32:11', '19:44', 'dotes', 'participation', 'romanza', 'electrical', 'proportionate', '17:39', 'ordinance', 'marcellus', 'eliam', 'dawned', 'meere', 'ethic', 'leavened', 'except--', 'tappuah', 'wishful', 'baruch', 'towel', '51:8', '43:18', 'unlike', 'unrecorded', 'plow', 'noriega', '29:33', 'wisp', 'margate', 'macduffe', 'contradicts', 'inhuman', 'aurora', 'ascertain', 'mightier', '37:34', 'geranium', 'inuite', 'rafter', 'conferred', 'whizz', 'pronounce', 'alleluia', 'resolute', 'sen.', 'lamb', 'kanah', 'censoring', 't', 'cerulean', 'hanger', '15:45', 'knowing', 'somersetshire', 'merchantability', 'decorum', 'ballynagrish', 'bosom', 'tipsy', '6:37', 'recovering', 'gurgle', 'hammering', '67', 'pitying', 'fury', 'undulated', 'civility', 'watergate', '29:2', 'luck--', '34:25', 'unmeaning', 'sultry', 'gardiner', 'usurped', 'slipping', 'recognize', \"crush'd\", 'soultry', '15:16', 'fully', 'replaces', \"pass'd\", 'parliament', 'huntest', '|', 'antelope', 'vividness', 'casked', 'donkey', '1.play', 'shabby', 'wide', 'untaught', 'numbering', 'arraying', 'trunk', 'skunked', 'undoubtedly', '7:4', 'communication', 'maiesties', 'endanger', 'wailed', 'ai', 'nestle', '12:14', 'rationale', 'retort', 'laburnum', 'battery', 'hogshead', 'branching', 'redeem', '35:3', 'declares', 'prof', '33:23', 'stealing', 'suez', 'discreet', 'exclusion', '26:64', 'runaway', 'teeniest', 'rico', '1:1', '59:8', '52:8', 'afterwards--', '14:24', 'thirteen', 'invader', 'represent', 'wallowing', 'incidentally', '66:3', 'husband', 'michmas', 'unholy', 'negligent', 'fairfax--', 'rouhani', 'soaked', 'gushed', 'whaling', 'deceitfulness', 'esteeming', 'lighteneth', 'baalhanan', 'profaning', 'alienated', 'champagne', 'capture', 'burgundy', 'tripadvisor', 'good-', 'alleghanian', 'amorites', 'suppose', '24:20', 'deliverer', 'inquiringly', '10:4', '44:22', 'recognizes', 'privatize', 'visitant', 'swooned', 'seekest', 'inexpressibly', 'helek', '7:2', 'crosse', 'offending', '34:9', 'speech', 'combat', 'hoed', '50:23', 'visa', 'boldly', 'frighted', 'jeering', 'regime', 'depicts', 'continued--', 'incoherently', 'saluation', 'smote', 'coxcomb', 'liveth', 'dandified', 'pious', 'dwelling', 'land', \"depress'd\", 'cobler', 'lied', 'coiling', 'lain', 'overhead', 'mushi', 'sneaked', 'circulating', '42:5', 'locker', 'defector', 'erred', 'superb', 'dash', 'delicate', 'progeny', 'zoan', 'hobbling', 'actuated', 'gore', 'shews', '41:3', 'drawled', 'kellynch', 'do--', 'gash', 'feeble', '3-day', '33:5', 'strange', 'avatar', 'seba', 'ghost', 'chebar', 'generalization', '26:20', 'irrelevantly', 'prenatal', \"t'other\", 'amsterdam', 'bestrown', 'stunted', 'unchangeable', 'wildlife', 'advantageous', '36:19', 'tyrus', 'donned', 'tight', '23:46', 'detaining', '49:26', 'embryo', 'blister', 'deign', 'measles', 'almug', 'twinkle--', \"tail'd\", 'perpetual', 'rumbling', 'hadarezer', 'bump', 'lowly', 'ounce', 'bivouac', 'roadside', 'blessed', 'built', 'wagged', 'hurled', 'spermacetti', 'mill', '101', 'attains', 'intermit', 'barker', 'surprizes', 'closing', 'clowds', 'drum', 'implement', 'plucke', 'appear', 'cud', 'wid', '3:33', 'hermitage', 'establisheth', 'forgiue', 'included', '9:30', 'worth', 'taunted', 'housekeeping', 'unsuccessful', 'fascistic', 'distension', 'homewards', '50:26', 'brain', 'mistifying', 'another', 'tenderly', 'unfolds', 'illustrate', 'admeasurements', 'rechab', '52:7', 'patriotic', 'orb', 'medallion', 'baptism', 'subtilly', '4:14', '65:5', 'saying--', 'onesiphorus', 'unprofitable', 'jane', 'aside', 'sikh', 'unmarried', '52:15', 'unwarrantable', 'vain', 'convey', 'lucian', 'deare', '36:20', 'sense', 'screenplay', 'forgiveth', '35:33', '1795', 'defective', 'blinked', 'porthole', 'signifies', 'ultimate', 'typifies', 'undergoing', 'slippeth', 'marshal', 'decided', 'latchet', 'mareshah', 'transgressed', '13:48', 'asked', '30:4', 'qatar', '14:49', 'revolver', 'terribleness', 'stuck', 'frieze', 'friar', 'nodding', 'stream', 'awl', 'realism', '22:25', 'openest', 'licked', '18:4', 'seine', 'assent', 'titinius', 'bequeath', 'heft', 'athens', 'filledst', 'lank', 'entitlement', 'whistled', 'tract', 'epaulette', 'clutched', 'dogge', 'attacker', 'voluntary', 'sean', \"wee'le\", 'hecuba', 'tyrannical', '32:35', 'intelligent', 'elioenai', 'dignified', 'lunging', 'holloa', 'dismay', 'harper', 'slewed', 'complimentary', 'wilkinson', 'vociferation', 'bid', '2:1', 'trim', 'selleth', 'dare', 'sharpeneth', 'dislocated', 'voltemand', 'recovery', 'ain', 'traced', 'chart', 'withholding', 'heterogeneous', '12', 'refined', \"dismay'd\", '37:37', '1:37', 'eyther', 'button', '31:6', \"deny'd\", 'beehive', 'missive', 'endorsement', 'tahiti', \"d'ye\", 'immersed', 'bridegroom', 'succumb', 'sinner', 'ahaziah', 'boxing', 'uncertain', 'articulated', 'tarry', 'phrenological', 'voyaged', 'tripped', 'distil', '1:48', '6th', 'evinced', 'lowest', 'needfull', 'malibu', '63:8', '29:35', 'herd', '6:69', '28:6', '1:44', 'nepotism', '8:5', 'gossip', '18:19', 'nationalism', 'distressing', 'barlow', 'alight', 'bray', 'intending', 'tablecloth', 'index', 'seneca', 'suspense', 'speculator', 'hinged', 'goddess', 'elapsed', '36:6', '55:12', 'hastened', 'gerizim', 'unmolested', 'irritated', 'embarrassed', 'advanced', 'wearieth', 'residing', 'wove', 'smother', 'misinformed', 'disrespectfully', 'gazing', 'dodo', 'saide', 'tea', '29:27', 'unchanged', 'jeshua', 'ingrateful', '2:23', 'humbled', 'correctly', 'deftly', 'watchfulness', 'divinest', '47:9', 'transaction', 'whale', '16:5', 'them--', 'overthrew', \"anchor'd\", '20:6', 'hugely', 'instruct', 'rill', 'rust', 'vertebra', 'bead', 'murderous', 'worst', 'trump', 'e', 'babyish', 'explored', 'don', 'atheist', '40:3', 'yawned', 'stealeth', '55:8', 'consume', 'sagging', 'forerunner', 'calve', 'engine', 'seizes', 'humpbacked', 'appals', 'wouldst', '1,500', 'ingathering', 'lattice', 'stagnation', 'flooded', 'plagued', 'insulated', '8:31', 'jefferson', 'amasai', 'haran', 'havock', 'niphon', 'reckless', 'pronouncing', 'amber', 'ionia', 'tophet', 'blunt', 'goodwill', 'disclaiming', 'businessmen', 'inclement', 'greece', 'crammed', 'disappears', 'ootiful', 'aduice', '18:36', 'insolently', 'christianity', 'shrank', 'odds', 'gabriel', 'charm', 'frankness', 'bending', 'managed', 'fullest', 'vibration', 'mladic', 'lodge', 'exclaimed--', 'hamlet', 'dress', 'contriue', '29th', 'dipped', 'abbas', 'desperate', 'keeper', 'consist', 'extent', 'deathbed', 'value', 'ford', 'burial', 'settle', 'malcham', 'oration', 'plotted', 'stabbing', 'brazilian', 'squalid', 'battle', 'spontaneous', '12:12', 'raqqa', 'mule', 'insinuation', 'congealed', 'pillaged', 'developed', '3:4', 'carrion', 'betty', 'demi', 'environmentalist', 'preoccupied', 'reproach', '2050', 'bulwark', 'amiable', 'whore', '18:1', 'unsaid', 'nationalist', 'bumped', 'hunkers', 'vnmannerly', '14:8', 'hollande', 'earthen', 'tauntingly', 'blake', 'pinny', 'tiara', 'violate', '19:2', 'poure', 'enshrine', 'gipsy', 'mellow', 'corrected', 'gaelic', 'patroness', 'big', 'swedish', 'guarded', 'impresse', '5:33', 'nightmare', 'shaw', 'caste', 'th', 'surly', 'piano', 'crimson', 'unpleasing', 'smaller', 'sibbechai', 'inaccessible', 'conveying', 'purchaser', '1:38', 'seventeen', 'guess', 'barometer', 'banded', 'behring', 'spoonful', 'undoing', 'meanest', 'chickadee', 'chivalrous', 'rarity', 'limn', 'smoking', 'presentation', 'ozias', 'coast', 'paste', 'varrus', 'raid', 'dough', 'garraun', '2:55', 'roku', 'diuided', 'puh', 'wa', 'presentment', 'almodad', 'unwaked', 'eshtaol', 'prevail', 'columbia', 'usual', 'spoliation', 'raping', 'integral', 'inimical', 'trumpeter', 'portal', 'coon', 'cia', 'sink', 'behoved', 'dropped', 'recompences', '12:2', '9:29', 'elected', 'spare', 'ransacked', 'waiter', 'facing', 'antony', 'preemptive', 'electricity', '61', 'muse', 'scarecrow', 'identified', 'bothered', 'inclusive', 'visited', 'riot', 'indefatigable', 'continent', '                              ', 'browed', 'b', 'ironically', 'ezra', 'guerrilla', 'recommendation', '3:12', '11,000', 'jiffy', 'social', 'rid', 'modest', 'crocodile', 'moonlit', 'caricature', 'cambridge', \"wip'd\", 'repented', 'jacinda', 'earner', 'increase', 'tableau', 'overhanging', \"ear'd\", 'dint', 'earned', 'seedsman', 'infuse', 'lunch', 'platter', 'dreary', 'caul', 'cæsar', 'sconce', '13:21', 'exertion', 'padan', 'zilthai', 'pencil', 'hygienic', 'saddled', 'vnnaturall', '14:1', 'psalmody', 'breathing', 'bribe', 'franken', '8:22', 'bended', \"won't\", 'entailed', 'lawmaker', 'ethnicity', 'parsnip', '19:34', 'seen', 'gobbled', 'recruit', 'legitimate', 'cocked', 'discoverer', 'javid', '37:20', 'acute', 'pannier', 'restraint', '62:2', 'contact', '20:10', 'inherit', 'dexterous', 'diversity', 'profit', 'argument', 'accidental', 'etta', 'frightens', 'moulded', 'georgia', 'fluttering', 'gem', 'cheating', 'grandeur', 'colder', 'healeth', 'needlessly', \"march'd\", 'bulk', 'outbreak', 'orthodox', 'noah', 'atlantick', 'albany', 'tide', 'due', 'garter', 'trumpet', 'tally', 'relax', 'hearke', 'selfies', 'erelong', 'explain', 'brutality', 'slanderer', 'courthouse', 'immensity', 'obviate', 'headline', 'mechanic', 'newfoundland', 'gainsaying', 'impair', '75', 'towering', 'tranquo', 'mow', 'stunning', 'compliant', 'sunrising', 'ahoy', 'pequod', 'mastodon', '19:31', 'vanquisher', 'girded', 'director', 'domesticity', 'gayhead', 'desert', 'suds', 'sojourning', '3:23', 'horn', 'point', 'laded', 'burneth', '23:13', 'preferred--', 'colloquy', 'miami', 'farewell', 'gilead', 'philippi', 'bogberry', 'twinkled', 'lightning', 'capital', 'involuntary', 'sixpence', 'cautiousness', 'shifted', 'twitching', 'sheaved', 'u.', 'winebibber', \"elton's\", 'unkind', 'passer', 'earnestness', 'kir', 'bashar', 'kenya', 'preserved', '61:2', 'believed', 'loading', 'underwent', 'orbicular', 'amphitheatre', 'spoken', 'frank', 'satisfy', '49:13', 'flaunt', '44:13', \"wheresoe'er\", 'pooh', 'unaware', 'along', 'agagite', 'jollity', 'clotted', 'unminded', 'omitted', 'commonwealth', '15:41', 'phoned', 'thronging', 'askew', 'budded', 'scrambling', 'villaines', 'wigwam', 'unfastened', 'menteth', 'conceal', 'cozbi', 'demand', 'transpose', 'workman', 'pestilence', 'idle', 'fetid', 'succoth', 'empress', 'leaveneth', 'upset', 'tweet', 'regent', 'crape', 'peacekeeping', 'rebound', 'anon', 'mega', 'rumour', 'leading', 'kkk', 'absolute', 'corn', 'buyeth', 'riphath', 'alternately', 'fulfilled', 'southerly', 'buxom', '2:21', 'thinnest', 'jether', 'enquiring', 'terrours', 'narrowly', 'tail', 'whipped', 'sweetbread', 'altogether', 'roman', 'synagogue', 'stateliest', 'grownd', 'accursed', 'margaret', 'kadeshbarnea', 'mizraim', 'nearly', 'permit', 'vttered', 'massacre', 'burglary', 'spokesman', 'last', 'legalized', 'candide', 'sceptic', '51:21', 'excavating', 'orlop', 'profusion', 'focused', 'recalled', 'meah', \"sleep'st\", 'slang', 'gudgodah', 'forsaking', 'advisor', 'amazing', 'whaleboat', 'healthfull', 'cult', 'alights', 'joyous', 'jail', 'debased', 'devilry', 'pout', 'ashan', 'extorting', 'hamul', 'tilt', 'constancie', 'forepaw', 'walrus', 'impress', 'amazon', 'dandled', '      ', 'stop', '8:12', 'midway', 'blacker', 'lilliputian', 'dustbin', '55:4', 'wen', 'management', 'nony', 'ashnah', 'monarchy', 'inclose', 'allusion', 'prophesieth', 'pepper', 'sedulously', 'hornet', 'nephtoah', 'retrospective', 'commended', 'predecessor', 'muteness', 'achbor', 'tattoo', 'conquest', 'muster', 'mufti', '3:46', 'painless', 'jesiah', 'jekameam', 'there', 'enthusiast', 'eltons', 'beor', 'aft', 'briefe', 'plumbline', '26:63', 'shoved', 'forfeit', 'flavour', 'iustice', 'excellency', 'est', 'fortunately', '22:39', 'complex', 'affability', 'indisposition', 'ruggedness', 'tyrannous', 'stomacke', 'contrite', 'contended', 'masoned', \"loued'st\", 'remembereth', 'blab', 'drag', 'madame', 'attacked', 'sustained', 'dullness', '60:8', 'lave', 'swiftness', 'knockes', 'corrects', 'refiner', 'swearer', '6:55', 'surtout', 'cuba', 'minstrel', 'shadowing', 'leaden', 'whoredom', 'mallice', 'ambition', 'kinde', 'ordinarily', 'amputated', 'melzar', 'bringeth', \"accomplish'd\", 'further', 'bastard', 'gibraltar', 'interfered', '18:29', 'wendy', 'fined', 'cocoa', '8:26', 'revives', 'jakim', 'gained', 'nogah', '                    ', 'leviathan', 'consisted', 'millar', 'answere', 'laboriously', 'pre', 'ungrateful', 'descried', 'trained', 'super', 'flail', 'bluer', 'settler', 'listlessly', 'wonted', 'evidence', 'principal', 'peacefully', 'proclaimed', 'learnt', 'cambodia', 'dread', 'linkin', 'borneo', 'gradually', 'downplays', 'trailed', 'wallet', 'neighbourly', 'prouide', 'tarrieth', 'conversion', 'sorrie', 'shall', 'inattention', 'gm', 'leeward', 'robin', '50:18', 'hesitatingly', 'sponge', 'calendar', 'golosh', 'conical', 'surrounded', 'brook', 'linger', 'merciless', 'adding', 'grazing', '11:39', 'gianforte', '31:47', 'detecting', 'samlah', 'rebellion', 'declassifies', 'helper', '3,000', 'cernan', 'eden', 'smarter', 'perished', 'yellowstone', 'plump', '32:20', '41:5', 'north', 'thessalonica', 'strafford', 'musician', 'olympian', 'admonish', 'cote', \"obseru'd\", 'gowdy', 'asks', \"sign'd\", 'pol', 'allow', 'figured', '23:41', 'widen', 'craven', 'about', 'inadvertence', 'parallel', 'decrease', 'blasted', 'chastised', \"interspers'd\", 'epicurean', 'parle', 'dreadful', 'infowars', 'nothingness', 'copy', '23:4', 'fuck', 'discouraged', 'eludes', '45:6', 'blasting', 'hardness', 'puffeth', 'prevailed', 'candor', 'leviathanic', \"train'd\", 'howled', '28:30', 'korah', 'prouokes', 'exalteth', 'gingrich', 'robbed', 'turf', 'blotting', 'furthermore', 'flattened', 'haile', 'angle', '9:5', 'workshop', 'ending', 'insupportable', 'nietzsche', 'some', 'scarcely', 'observest', 'drunke', 'scruple', '34:31', 'rationalist', 'philosophy', 'compasseth', 'landlessness', 'stifling', 'wellesley', 'railing', 'parkinson', 'zibiah', 'unharmed', '22:41', 'senselesse', 'fanatic', 'squatting', 'memo', 'kaspersky', 'ledge', 'enterest', 'undertakes', '30:19', 'musick', 'salutation', 'ineffaceable', 'thirsty', 'tolerably', 'comet', 'duelling', 'runnes', 'insatiable', 'issuing', 'swears', 'stormed', '37:8', '32:42', 'judicial', 'rejoinder', 'encreased', 'bow', 'apish', 'stood', 'waving', 'benignity', 'clearly', 'lewandowski', 'extortioner', 'hartfield', 'usurp', 'chiefe', 'feast', 'requirest', 'speedier', '9:24', 'worke', 'boxer', 'exchange', 'easily', 'clothes', '14:13', 'suspension', \"combin'd\", 'neede', '451', 'carpet', 'bright', 'matthias', 'cosmetic', '11:42', 'levity', 'girding', 'bonaparte', '38:6', 'franchise', 'survived', 'rant', 'foresight', 'ravening', 'executes', '20:11', 'purchased', 'repine', 'embouchure', 'liberty', 'strives', 'comey', 'hierarch', 'bleached', 'supplicating', \"return'd\", 'ayatollah', '7:73', 'restrain', 'knack', 'abbey', 'dallying', 'endow', 'holiness', 'hovel', 'corpulent', 'filthy', '21:31', 'eldad', 'straitness', 'invincible', 'operating', 'grown', 'churning', 'shortsighted', 'constantly', 'merkley', 'truer', 'tamed', \"convuls'd\", 'eats', 'calah', 'uppermost', 'temanite', 'arithmetic', 'tugging', 'wipe', 'matted', 'supplemental', 'vision', 'sweete', 'tidings', 'satisfaction', 'luckily', '4:19', 'pathros', 'losse', 'drove', 'bulked', 'preparest', '32:8', 'vindication', 'chimham', 'eleasah', 'solving', 'wildenesse', 'hugest', 'concubine', 'think----', 'apparation', 'evi', 'comment', 'transcendent', 'overthrown', 'annals', 'backer', 'peasant', 'maltese', 'entranced', 'felon', 'evasion', 'jeremiah', 'menacing', 'tattooing', 'stinking', 'smallest', 'unmerited', 'foaming', 'transmitted', 'waning', 'splendid', 'sovran', 'unwholesome', 'rented', 'charran', 'irrevocably', '39:6', 'zenith', 'scoene', 'spirituality', '52:14', 'knead', 'robbing', 'conjured', 'viewer', 'ivory', \"compell'd\", 'transplanted', 'collecting', 'amazed', 'cleveland', 'sparked', '19:18', 'doue', 'refers', 'writ', '19:6', '5:44', 'uninjured', 'hookah', 'blew', 'philistine', 'lane', 'tissue', 'yo', 'candidly', 'establishing', '10:29', '15:3', '34:11', 'interrupt', '53:5', 'revulsion', 'drouth', 'warbling', 'shemaiah', 'fresh', 'matt', 'transposed', 'backed', 'rejoined', 'satisfactorily', 'reformer', '13', 'stagnant', 'angus', 'struggle', 'aggressively', 'feeding', '14:18', '63rd', 'hundredth', 'doating', 'dem', 'canceled', 'seate', 'authorised', 'brauely', 'disgraceful', 'dandy', \"destroy'd\", 'recede', 'disincline', 'awakest', 'leafe', '4:12', 'delivereth', 'unfailing', 'sobered', \"roam'd\", 'ferry', 'supremes', 'rapped', '26:52', 'reinforced', 'habakkuk', 'impaling', 'owns', '4:37', 'hat', \"roll'd\", 'davis', 'continuous', 'lewdly', 'decapolis', 'guantanamo', 'clicked', 'fugu', 'diplomat', 'lusted', 'hereabout', '34:16', 'protest', 'sneezing', 'habitude', 'salome', 'watchfull', 'plowdon', 'bedchamber', 'quarta', 'extinguish', 'heauie', 'geba', 'enlargement', 'medicare', 'prima', 'dip', 'lament', 'fainteth', 'bloweth', 'admin', 'shamefully', 'easie', 'singly', 'disappoint', \"handcuff'd\", 'charcoal', 'surcharged', 'mr.', 'averted', 'effaced', 'subtlety', 'appar', 'guiltily', 'sheep', 'grapegatherers', 'sunder', 'foreboding', 'elucidated', 'tangled', 'oakly', 'tormentor', 'jest', 'recovered', 'decries', 'sinne', 'choosest', 'accused', 'peaceful', 'findeth', 'worthily', 'acquit', 'tranquillity', 'stopped.--emma', 'tydings', 'timnath', 'opener', 'grisly', 'embellishment', 'imprint', '10:26', 'dived', '900', 'triumph', 'itching', 'cove', \"fac'd\", '45:12', 'baalath', 'disadvantaged', 'abode', 'tekoite', 'read', 'shelter', 'population', 'happens', 'foresee', 'nihilist', \"listen'd\", 'equiuocation', '24:25', 'generously', '36:2', 'talmon', 'click', 'cheerefully', 'papa', 'shoo', 'sauage', 'blotted', 'enfranchisement', 'fascination', 'dab', \"blanch'd\", 'exactness', 'rascall', '28:24', 'youthful', 'assenting', 'hearing', 'persuading', '21:45', 'shipping', 'navigation', 'tottering', 'guiltless', 'plaintively', 'alek', 'diverse', 'steersman', 'imitate', 'forecastle', \"detain'd\", 'boil', 'correctness', \"unloos'd\", 'money', 'headway', 'prospectively', '7:14', 'ideal', 'retrieve', 'dna', 'ordains', 'gored', 'spilled', 'undertone', 'impetus', 'shank', 'criest', 'herodias', 'obamacare', 'ishbak', 'sending', 'unsolvable', 'beckoned', '3:14', 'garrison', 'truest', 'squaw', 'quits', 'wildness', 'won', 'discouer', 'upkeep', 'exquisitely', 'the--', 'beseech', 'insured', 'goodwin', 'outlook', 'sacrament', 'quiver', 'pretend', 'offender', 'cared', '33:7', 'riotous', 'fruitful', 'shad', 'snowdrop', 'heedlessly', 'loss', 'surveying', 'extremely', 'pursued', 'dreame', 'askant', 'underling', 'envoy', \"walk'd\", 'block', 'winning', 'cinque', 'frontage', 'bask', '12:32', 'helve', 'filth', 'conning', 'reg', '2:2', 'horridly', 'weighs', '26:46', 'corrupted', 'untidy', 'ix', 'naturally', \"clinch'd\", 'argent', '1.34', 'revealeth', '2:3', 'consummation', 'overturn', 'wielding', 'wheele', 'watering', 'conceiue', 'cloake', 'diana', 'spurn', 'dispensing', 'sprinkler', 'availing', 'proud', 'availeth', 'truculent', 'piercing', 'sunlight', 'enemy', 'wholesome', 'abhorreth', 'presided', 'chides', 'enjoyed', 'solicitation', 'disagree', 'hick', 'exulting', 'ambassador', 'valentine', '2', 'abner', 'chivalric', 'planted', 'simmer', 'befel', 'deplore', 'walker', 'ashdod', 'buddha', 'leapt', 'plaine', 'humbly', 'smashing', 'ward', 'wholsome', '18:32', 'pulitzer', 'cush', 'pork', 'watching', 'horned', 'painkiller', '17:33', 'squint', 'churchwarden', '50:8', 'aaronites', 'larkins', 'harlequin', 'restricting', 'keepsake', 'hyena', \"ye've\", 'wittenberg', 'stooping', 'disembosom', 'blended', 'parley', 'roof', 'basso', 'derision', 'persuasion', 'vauntingly', 'cto', 'overstepped', 'buckwheat', 'importunity', 'chaldean', 'clampdown', 'sprawling', 'maddens', 'harmless', 'ought', 'carcass', 'restoreth', 'waleed', 'school', 'bolted', 'lightened', 'affords', 'rephidim', 'detection', 'solicitously', 'escort', 'waxeth', 'fore', 'punchbowl', 'rejoice', '45:8', 'pricke', 'satisfie', 'bawling', 'bondman', 'sadder', '16:39', 'mama', 'spoyle', 'seeke', 'coniure', '14:10', 'spouted', 'appease', 'equally', 'concocted', 'quoin', 'his', ' ', 'timed', 'angeles', 'haire', 'unobtrusive', 'nonchalant', 'sloppy', 'peddler', 'perspective', 'baptist', 'j.', 'waistcoat', 'ar-15', 'spark', 'childish', 'prominent', 'twelue', 'hatch', '84', 'incommunicable', 'rustle', 'swell', 'bravest', 'dome', 'sorely', 'pursues', 'vladimir', '42:15', 'motel', 'heaver', 'productive', 'tremulous', 'hertzberg', '15:44', 'reaped', 'ankara', 'penitent', 'impossible', '1:14', 'extravagance', 'look', 'knapsack', 'candlestick', 'flame', 'handsomer', 'straightened', 'favour', 'environmental', 'delhi', '10:2', 'wholesale', 'rian', 'loftiness', 'recompense', 'entrenchment', 'invented', 'dissolute', \"neck'd\", '31:15', 'ventilator', '2:5', 'investing', 'nobly', 'sandwich', 'fertiliser', '3:3', 'broadens', 'noadiah', 'tightening', 'seth', 'subscription', 'afterward', '23:2', 'roasteth', 'lobby', 'hell', 'counterfeit', 'manhattan', 'eyeball', 'preservest', 've', 'groaning', 'ski', '17:11', 'reckon', 'mao', 'chronicle', 'pathetically', 'crowned', '37:28', 'rascally', 'infect', 'softener', 'incubus', 'hotter', \"see'st\", 'interpretation', 'wolff', 'hindmost', 'eas', 'least', 'relieved', 'knoweth', 'downcast', 'tempted', 'grasshopper', 'lawfully', 'freshening', 'malta', 'spring--', 'shoaling', 'consumer', 'native', 'reba', 'leysure', 'unfrequented', 'empyrean', 'humbler', 'senate', 'adonijah', '3:9', 'foolishly', 'tailor', 'woodland', 'admittance', 'anomalous', 'publick', 'imagine', 'grimed', 'castanets', 'bus', 'incorrect', 'restitution', 'tasting', 'poised', 'draggled', 'anarchism', 'merged', 'tanned', 'chute', '57:1', 'manhood', 'streamed', 'imply', 'wile', 'iranian', 'pledge', 'youngest', 'abstained', 'escapade', 'thorough', 'sizzler', 'foremast', '19:27', 'deep', 'goggles', 'shaven', 'hartzler', 'lebanon', 'chipped', 'dismembering', 'crayfish', 'followeth', 'zebul', 'bedford', \"lou'd\", 'formulate', 'conquered', '49:17', 'bower', 'fbi', 'gainsaid', 'gross', 'moza', 'morning', 'trembling', 'animating', '                                               ', 'barrister', 'sustenance', 'pined', 'tatter', '29:14', 'weathered', 'unkindly', 'nomination', 'more', 'gilded', 'thunder', '37:1', 'skilful', 'follows:--', 'five', 'cynicism', 'suggest', 'influence', 'surrey', 'spurres', 'bloodie', 'na', 'countersign', 'suffers', 'disfigured', 'shaky', 'nicely', 'dention', 'cheefe', '10:16', 'whirlwind', 'positive', 'firework', 'mary', 'satellite', 'shuttlecock', 'appetite', 'elzaphan', 'flapped', 'cleanliness', 'voracity', 'bloated', 'delilah', 'slated', 'understanding', 'cannibal', 'mend', 'number', 'prodigiously', 'offer', 'activist', '24:37', 'valparaiso', 'edged', 'stigma', 'element', 'guru', 'laughter', 'cobhole', 'stalk', '29:37', 'disallowed', '31:38', 'unfavourable', 'zippor', 'netroots', 'escape', 'joshbekashah', 'relates', 'glimmer', 'johanan', 'peeped', 'trifled', 'railway', '26:55', 'celebrity', 'idiocy', 'jattir', '46:18', \"prou'd\", 'retirement', 'hilt', 'splashing', 'berkeley', 'aaron', 'mysticetus', 'unpretending', 'indulgence', 'happening', 'intimidation', \"unharm'd\", 'childless', 'buzzing', \"s'pose\", 'driven', 'despise', 'washed', 'remorselessly', 'warmer', 'thinketh', 'aladdin', 'palestinian', 'jezaniah', 'sixth', '37:35', 'gourmand', 'demoralized', '43:15', 'hailed', 'dangling', 'apologized', '11:29', 'horrour', 'reynol', 'precise', 'show', 'forwarded', 'portsmouth', 'invoke', 'scare', \"riu'd\", 'stud', 'referring', 'bounty', 'landsman', '36:24', 'magazine', 'magnifick', 'smothered', 'tattle', 'tell--', 'airstrike', '12:28', 'shaving', 'nawaz', 'arise', 'peggy', 'impute', 'racial', 'fairfax', 'interior', 'rapha', 'heaved', 'lantern', 'hark', 'chicago', 'feasting', 'relationship', 'chatterer', 'catarrh', 'bermuda', 'beef', 'jacket', \"birth'd\", 'triumphing', 'precipitately', 'yelled', 'clasp', 'horatio', '22:24', 'philippine', 'repugnance', 'respiration', 'lightfoot', 'morality', 'aspect', 'wearer', 'enlighten', 'bafta', '24:45', 'uz', 'equine', 'imperious', 'fortified', 'played', 'jebusites', 'fetich', 'ashantee', 'diggeth', 'thought', \"leaven'd\", 'housework', 'humored', 'din', 'rampage', 'martin', 'persevered', 'stroakes', 'sadly', 'travelled', 'augment', 'craues', '38:24', 'drawback', 'tarah', 'asleepe', 'realizes', \"ma'm\", 'dutchman', 'dewy', 'crystalline', 'necktie', 'doth', '14:36', '32:43', 'kernes', 'intelligential', 'tob', 'implied', 'bannister', 'grandest', 'stave', 'action', '51:13', 'labouring', 'mourning', 'anticke', 'spred', 'region', 'bush', 'smelt', \"perform'd\", 'revolted', 'digge', 'resist', 'reborn', 'shade', \"shee'l\", 'mere', 'descendant', 'evil', \"open'd\", 'mississippi', '28:10', 'joke', 'simply', 'eshbaal', 'discovers', 'paraded', 'duel', 'ananias', 'capering', 'blandness', 'tekoah', 'rubbing', 'lamentation', 'recollects', 'consult', 'hound', 'instead', 'fumble', 'handkerchief', 'classed', 'smyrna', 'solicitude', 'drawes', '16:12', 'impunity', 'physiognomically', 'dec.', 'depended', 'dalroy', 'pontifical', 'fifty', 'jay', 'unimaginable', 'dell', 'widower', 'victoria', 'nunes', 'crosswise', 'reason', 'supposition', 'strengthened', 'micah', 'flambeau', 'fourfold', 'wanda', 'rowdy', 'iealousie', 'tragedie', 'brightest', '59:1', 'sutor', 'message--', 'abishai', 'ludwig', 'teamster', 'slappin', 'deliberating', 'environ', 'cobbling', 'cephas', 'navigator', 'flog', 'sweetheart', 'expounded', 'throne', 'houer', 'childhood', 'cutting', 'startle', 'auoid', 'cerimony', 'moabite', 'imlah', 'offereth', 'seruice', 'reverence', 'coping', 'really', 'grievously', '9:27', 'failed', 'quartus', 'spermaceti', 'moneths', 'tarpaulin', 'interstice', 'casteth', 'sponsor', 'niagara', 'filleth', 'shrouded', 'sad', 'adamic', 'armagnac', 'putney', '50:10', '38:9', '22:49', 'jeer', 'glaze', '6:29', 'andersen', 'apparent', '15:4', 'ahaz', 'io', '37:23', 'sinking', 'lifetime', 'sold', 'leuies', 'aser', 'ibc', 'treble', 'continueth', 'recognized', 'infixed', \"bruis'd\", '--goldsmith', 'enclosure', 'curry', 'rural', 'imputeth', 'scurvy', 'riser', 'eve', 'bystander', 'fife', 'promontory', 'me--', 'wonderous', '27:19', 'imagining', \"furnish'd\", 'thickly', 'benefactor', 'korhites', 'helkath', 'bristling', 'rebuketh', '7:47', 'hackneyed', 'seducing', 'diuision', 'attain', 'skipping', 'liquor', 'unconsumed', 'pencilled', 'dean', 'reached', '27:5', '23:28', '4:34', '25:32', 'asperity', 'abruptly', 'baalim', 'scold', 'exhaled', 'pound', 'lemuel', '21:17', 'belief', 'huddle', 'inn', 'singing', 'bellied', 'transact', 'predicament', 'wainscot', 'violin', 'honest', '30:11', 'holily', 'upheaved', 'elevates', 'infowars.com', 'childe', 'centre', 'stylish', '23:7', 'intestine', 'isabella', 'hill', 'rightful', 'cossack', 'abominably', 'frenzy', 'surviving', 'cockroach', 'qu', 'tackle', 'foiled', 'automatic', 'redound', 'preferable', 'canvas', 'heap', 'unsafe', 'impenetrably', 'painting', 'bigly', 'sept.', 'fervently', 'predominant', 'matrimonial', 'not', 'loyalty', 'monday', 'stayes', 'chieftain', 'undulates', '58:5', 'hush', 'mounttop', 'busybody', 'overpowers', 'consumed', 'gentlewoman', 'upright', '37:31', 'elishah', 'berea', 'clung', 'hazarshual', 'pondered', 'pekee', 'majestic', 'thus--', 'december', 'limbaugh', 'aquarius', 'maggie', 'charleston', 'richardson', 'ioue', 'defray', \"mou'd\", 'unsuccessfully', \"arriu'd\", '10:30', 'deliriously', 'soueraignty', 'companionship', '23:35', 'sacrifice', 'wan', 'humph', 'buffeted', 'dispenses', 'emphatic', 'con', 'befriend', 'confused', '47:7', \"a'most\", 'trolling', 'wheelerite', 'troway', 'jove', 'fidelity', 'magnifying', 'reciting', 'birmingham', 'shebna', 'fleshhooks', 'scalise', 'mypillow', 'santorum', 'inhabitant', 'cosy', 'autumn', '10:24', 'classical', 'contemplation', '58:7', 'forswearing', 'fraternity', 'difference', 'ceremonial', 'sowre', 'abortion', 'pool', '64:10', 'craggy', 'cuff', '60:6', '15:15', 'hinnom', 'wallowed', 'filigree', 'reminiscence', 'detector', 'whistling', 'regulator', 'haunt', 'shearer', 'zepho', 'subscriber', '46:17', 'delightful', 'product', 'modern', 'famed', 'custome', '4', 'cloak', 'browsing', 'eyrie', 'bareheaded', 'stalemate', 'zelophehad', '9:57', 'thought,--', 'shamir', 'hearth', 'silliness', 'leap', 'schoolmaster', 'accordingly', 'zif', 'wrathful', 'elapse', 'rot', 'certaine', 'arcturus', 'muskiness', 'waterward', 'taller', '37:17', 'silence', 'homestead', 'carmel', 'whelp', 'mightiest', 'uppercross', 'overcometh', 'feasted', 'personified', 'fabulous', 'manifest', 'pharaoh', 'cornfield', 'dating', 'cutter', 'perturbed', 'grudge', '11:23', 'denounced', 'brennan', 'fooles', 'saw', 'ulai', 'rejected', 'odoriferous', 'exception', 'smile', 'slept', 'twelvemonth', 'latch', 'covenant', '1:36', 'colluded', 'hopeless', '36:9', 'treasurer', 'basic', 'manikin', 'horrify', 'convention', 'stalked', '29:32', 'beau', 'melchisedec', 'ofttimes', 'understandeth', '53', 'ownership', 'skripal', 'balance', \"weather'd\", 'bethnimrah', 'situated', 'aristocracy', 'ishi', 'thrall', 'reconcilement', 'rival', 'flaneur', 'unconscious', 'macbooks', 'plait', 'perusal', 'premature', '2:31', 'bread', 'miserably', 'indirect', \"dash'd\", 'xx', 'mountain', '48:29', 'heed', 'explosion', 'preacheth', 'multiplies', 'brayed', 'touchy', 'immorality', 'unfearing', 'penance', 'assir', 'anticipate', 'genubath', 'zarephath', 'wittier', 'buried', 'cicatrice', '12:15', 'graver', 'counter', \"link'd\", 'washerwoman', 'breaketh', 'pitcher', '18:8', 'substantiated', 'weston--', 'deserved', 'abba', 'worked', 'the[m', 'similitude', 'physicist', 'kindred', 'deference', 'righ', 'ugh', 'irritable', 'infra', 'separation', 'abe', 'hatchway', 'cosmic', 'butterfly', 'quarried', 'voodoo', 'fallow', 'kushner', 'strongest', 'polar', 'hindered', 'envyings', 'harder', 'conservatory', 'eton', 'wafer', 'finding', 'illness', 'wading', 'devolved', 'glared', 'lucius', 'temper', 'alloy', 'withdrawn', 'ghastly', 'cried', 'demetrius', 'ragsdale', 'giant', 'playfulness', 'kent', 'discreetly', 'telephone', 'tumult', 'comfit', \"launch'd\", 'imaginable', 'gain', 'equatorial', '53:6', 'conveys', 'afraid', 'begin', 'knightleys', 'honeycomb', 'complacency', 'laugher', 'dinah', '11:36', 'machir', 'bowed', 'middlemost', 'artifice', 'disconnected', 'unfettered', 'churchyard', 'golgotha', 'kadesh', 'admissible', 'constellation', 'oriental', 'earns', '5:23', 'inland', 'dashcam', 'joiada', 'starboard', 'profoundly', 'gnash', 'referral', 'impostor', 'sprights', 'hastening', 'more--', 'hamilton', 'charles', 'gas', 'cher', 'alternative', 'perfumed', 'advocacy', 'brazen', 'retweeted', 'assassin', 'flap', 'directed', 'prime', 'gaius', 'int', 'boldness', 'fall', '           ', 'uncovereth', 'rock', 'translate', 'foolish', '22:16', 'yorker', '1:51', 'wish', 'likelihood', 'sinister', 'browes', 'describeth', 'offence', 'engross', 'salah', 'continued', 'kish', 'ostensible', 'inflamed', 'expect', 'original', 'selvedge', 'congregated', 'kith', 'ledger', 'fresher', 'abstain', 'rehoboth', '46:7', 'stablished', 'seated', 'rogue', 'preside', 'excusable', 'pretty', 'suckled', 'clipper', 'raced', 'repaire', 'courage', 'counted', 'overwhelmingly', 'tweene', 'banquet', '36:7', 'cheekes', '27:27', 'shillem', 'piqued', 'melancholly', 'guffaw', 'flesh', 'irritably', 'silhouette', '3:43', 'interpose', 'prosaic', 'holocaust', 'flank', 'slash', 'doom', 'powerfully', 'daffodil', 'romanian', 'sign', 'vol', 'tun', 'commiseration', 'stay', 'illuminating', 'sailing', 'palm', 'reconcile', 'deborah', 'warning', 'yong', 'changeable', 'applause', 'ruler', '17:35', 'grained', 'collector', 'phenice', 'suffer', 'crave', 'undulation', '34:30', 'abounded', 'cooperation', 'dividing', '38:27', 'cynically', 'seat', 'migdol', 'constitutional', 'imperfect', 'brigand', 'molest', 'combined', \"don't\", 'noised', 'tallow', 'exalted', 'cannoneer', 'seductive', 'doest', 'after', 'slapping', 'at', 'warfare', 'mansfield', 'prevalent', 'dub', 'auspicious', 'curl', 'erdogan', 'rehearse', 'nonsensical', 'graft', 'musty', 'preferre', 'wolf', 'recompence', 'vault', 'moral', 'bubbled', 'executive', 'unnumbered', 'shut', 'resume', 'mahogany', 'overbearing', '13:10', '39:28', '52:2', 'eat', 'guil', 'tride', 'roused', 'ugliness', 'them', 'confirm', 'barest', 'coral', 'iliad', 'admire', 'bend', 'indefensible', 'archangel', 'knee', 'disc', 'heedlessness', 'fro', '2:50', 'swath', '1:49', '37:3', 'threatenings', 'phinehas', 'footsore', 'encrease', 'hoglah', 'impertinence', 'stoope', 'unsuspected', '44', 'dislodge', 'forefront', '43:9', 'giveth', 'decked', 'asahiah', 'covenanted', 'frightful', 'remorseless', 'circumspection', 'manipulate', \"o'clock\", 'compassed', 'necho', 'ceasefire', 'myrrh', 'captain', 'upborne', 'squadron', 'louse', 'pindarus', 'reza', 'stayed', 'pliant', 'streaked', 'worldly', 'byrlady', 'n.korea', 'speed', '11:14', 'dissolve', \"burn'd\", 'refreshed', 'vanisheth', 'durable', 'fumbling', 'edit', 'laughest', 'concert', 'beeri', 'disk', 'border', 'gladly', 'succeeding', 'unto', 'gentle', 'smoothly', 'numerous', 'grieve', 'found', 'seizing', 'hezronites', 'clubbed', 'parsley', 'punish', 'thresher', 'apace', 'mccabe', 'shipped', 'caucasus', 'redeemer', 'warrant', 'stray', 'citadel', 'afforded', 'homeward', 'soyle', 'gardening', 'bulrush', 'encountering', '41:1', 'understood', 'downwards', 'opts', 'prune', 'retiring', 'alter', 'stirred', 'conservative', 'attitude', 'dismayed', 'narration', 'huge', 'saveth', 'preacher', 'harrow', 'parlour', 'situation', 'showing', '25:8', 'desperately', '9:22', 'ensue', 'sh', 'iudge', 'goodman', 'firelight', 'cover', 'moued', 'retentive', 'cleopatra', '9:47', 'miraculous', 'seruant', '27:7', 'hooped', 'spendthrift', 'gaining', 'caska', 'shimshai', 'frightbart', 'dagon', 'augustus', 'secresy', 'cultivation', 'warn', 'unwittingly', 'linen', 'reeking', 'tenfold', 'unconstitutional', 'propaganda', 'excelleth', 'emboldened', 'for--', 'peale', 'manson', 'cooking', 'upgrade', 'stumping', 'bethshean', 'whilst', 'soonest', \"i'ue\", 'fra', 'spotless', 'marriott', 'conflict', \"push'd\", '20:35', 'drunkenness', '39:22', 'balcony', 'loup', '20:45', 'liking', 'blesse', 'knowest', 'remission', 'manhandled', 'footlights', 'approve', 'marry', 'hezron', 'header', 'line', 'barren', '30:10', 'elevate', 'insurer', '52:4', 'cured', '16:29', '18:15', 'walter', 'reeling', '60:7', 'churchill--', 'dover', '                                                       ', 'harmes', 'counsellor', \"barr'd\", 'donalbane', 'indiscreet', 'rouge', \"soil'd\", 'enrich', 'fasten', 'indomitable', 'forrest', 'complacence', 'jungle', '35:28', 'strawberry', '7:60', 'walking', 'crost', 'reseated', 'hymn', '23:5', 'crimping', 'carter', 'next', 'wherefore', 'praised', 'spicer', 'tertia', 'scornest', 'liberation', 'richest', 'abidan', 'peta', 'her.--the', 'envied', 'concealed', 'followed', 'imago', 'bloodthirsty', 'czech', 'riven', \"belou'd\", 'gasping', 'achsah', 'simplicity', 'sepulchral', '30:9', 'pyramid', 'fun', 'bared', 'lilly', 'pseudo', 'kohathites', 'default', 'shimeah', 'overcome', 'beautie', 'savanna', 'pittied', 'burden', 'gagged', 'minced', 'brazil', 'discomposed', 'upstairs', 'raphaelite', 'skylarking', 'obedient', 'trundling', 'cavil', 'complain', '35:22', 'renegotiation', 'returned', 'crotch', 'twittering', 'tesla', 'hostage', 'sprout', 'slaying', 'tush', 'somerses', 'shelemiah', 'nostril', 'fast', 'termes', 'according', 'ken', 'denmark', 'reelected', 'knot', 'emphatically', '7:6', 'stomping', 'slipt', 'volume', \"dar'st\", '19:13', 'alarmed', 'gutter', 'sapience', 'servility', 'tadmor', 'gayest', 'misrule', 'poohed', 'discountenanced', 'baronetcy', 'timnah', 'amusement', 'noble', 'clifford', 'fitfully', 'eyesight', 'lima', 'magnitude', 'tolerating', 'jephunneh', '6:48', 'favourite', 'tradesman', 'dashed', 'flex', 'tutti', 'thronged', 'sod', 'luz', 'hamathite', '14:17', '19:40', 'woollen', 'delivered', 'colonnade', 'nobleman', '16:17', 'azores', 'permanent', 'cuttlefish', 'quietude', 'welding', 'barbarism', '2:11', 'country', 'mystical', 'navvy', '49:11', 'limitation', 'thummim', 'shift', 'extravagant', 'fuss', 'canker', 'everyone', 'flip', 'spake', 'reasonably', 'examined', 'improving', 'win', 'at&amp;t', 'blackish', 'extortion', 'ichabod', 'fawned', 'privation', 'boston', 'donalbaine', '35:34', 'proofread', 'judea', 'reversing', 'michmash', 'untasted', 'ember', 'lighteth', \"sheath'd\", 'heretofore', 'walkt', '13:18', 'indisposed', 'notwithstanding', 'transcription', '35:20', 'yearly', 'tragedy', 'nationality', '6:3', 'concernment', 'atlantis', 'dissolving', 'harpooned', 'expectant', 'killer', 'rely', 'industry', 'tulip', 'endangering', 'houghed', 'genial', 'pertain', 'framed', 'moveth', 'log', 'bab', \"command'ment\", 'windy', '59:6', 'rhodes', 'he', 'electrified', 'ire', 'shemariah', 'jeweller', 'steaming', 'rewrite', 'pain', 'solace', 'snarl', 'berth', 'epaphras', 'belittle', '58:4', 'sophy', 'build', 'grappling', 'puissant', 'jerahmeel', 'incitement', 'idiom', 'hymenee', 'franscisco', 'searchest', 'declined', 'dalliance', 'panic', 'natur', 'undetected', 'busks', \"air'd\", 'mortgage', 'pursuer', 'hurried', 'warmed', 'bryant', 'appealed', 'plat', 'prematurely', 'appeasing', 'thanked', 'clerk', 'nonce', 'stablisheth', 'employment', 'malefactor', 'outskirt', '6:20', 'gravel', 'annum', 'amicable', 'nudge', 'romantic', 'steering', 'mount', 'satisfying', '10:7', 'rosse', 'slick', 'waile', 'innoxious', '130,000', 'toy', 'arah', 'reverently', 'chilled', 'vanished', 'viscountess', 'naomi', 'fickle', 'urge', 'murmured', 'horonaim', 'passport', 'project', 'frontrunner', 'prating', 'ophel', 'proverb', \"stretch'd\", 'abominate', 'labelled', 'scrupulously', 'plainer', 'attainable', 'matthew', 'feignest', 'astonishingly', 'augmented', 'wonderfulness', 'marvel', 'kosmos', 'owning', 'moreh', 'advise', 'endlessly', 'aboard', 'adopted', 'cheweth', 'edition', 'spearmen', 'hasting', 'expedient', 'injurious', 'askelon', 'darest', 'extraordinary', 'amethyst', 'tie', 'lastingly', 'affix', 'walketh', 'bother', 'frequency', 'wh', 'fir', '7:8', 'cravat', 'adventurer', 'lethargic', 'lettuce', 'glisten', 'wracke', 'k', 'incessant', 'disport', 'bastille', 'dominicho', 'trickling', 'penury', 'vindictiveness', 'chad', 'reduction', 'particular', 'displeasure', 'football', 'horims', '1:6', 'inquisitive', 'driver', 'october', 'memoir', 'uncommon', 'sewed', 'unequal', '5:28', 'alphabetically', 'macaroni', 'affectedly', 'gibbethon', 'expressively', 'sparkes', 'limiting', 'vintage', 'jeroboam', \"lung'd\", 'beware', 'fewest', 'promoting', 'deliberation', 'tapped', '40:4', 'da', 'lecherie', 'stair', 'proving', 'alemeth', 'intercourse', 'errand', 'siloam', 'laughingstock', '29:39', 'rend', 'reproof', 'tend', 'accumulating', 'frankely', 'briskness', 'jareb', 'loretta', 'milcom', 'lorry', 'flitting', \"embower'd\", \"an't\", '20:15', 'traveling', 'imprecate', 'yemeni', 'chesapeake', 'assuredly', 'iceland', 'choosing', 'gallic', '37:2', 'investment', '24:29', 'uncondemned', 'thanke', 'rolled', 'medad', 'inspiriting', 'planisphere', 'legitimize', 'contributes', 'rueful', 'jumped', 'weedy', 'scuffling', 'spousal', 'absorbs', 'rested', 'more!--and', 'lincoln', 'bluster', 'robocall', 'stalking', 'sheet', 'queequeg', '45:21', 'possesseth', 'cordon', 'collude', 'nailing', 'unfriendly', 'suicide', 'frexit', 'laboureth', 'organism', 'fiat', 'monomania', 'willed', 'quaker', 'electronically', 'threatens', 'entereth', 'peril', 'fashioned', '44:31', 'blade', 'hater', '18:41', 'sobering', 'fleeing', 'agabus', 'zachariah', 'fueling', 'elizabeth', 'pendulum', 'marquis', 'delude', 'haired', \"call'd\", 'ciuill', 'nook', 'doublet', '1:18', 'mayhap', 'roseanne', 'spareth', 'xxiii', 'vet', 'impaled', 'inconsistent', '14:14', 'springing', 'thaw', 'prettily', '38:18', \"ask'd\", 'raphael', 'system', '9:26', '18:33', 'steelkilt', 'erect', 'shaft', 'myself.--', 'tailed', 'comfortless', 'charing', 'apologetic', '28:29', '--or', 'luiz', 'entangle', '32:37', 'blamable', '26:60', 'assortment', 'altitude', 'senir', 'auarice', 'exclaim', 'research', 'reiterating', 'slime', 'tends', 'spoiled', 'cosin', 'dropsy', 'peeringly', 'furbished', 'd.c.', 'kingship', 'freshest', 'answer', 'horseman', 'porch', 'related', 'voice,--', 'gazzam', 'decides', 'edification', 'large', 'depending', 'josaphat', 'connection', 'breasted', 'exhale', '43:7', 'distinctly', 'service', 'aloe', 'wooded', 'wouldest', 'string', '58:10', 'chilian', 'plantagenet', '18:9', 'launched', '24:21', '29:11', 'retrospection', 'pair', 'perpetually', 'budapest', '29:3', 'firstlings', 'jeered', 'imperturbable', 'engagement', '3', 'contend', 'organ', 'memorandum', \"goin'\", 'del', 'deserves', 'their', '7:36', 'suffocating', 'ahead', 'entitled', 'unseen', 'civic', 'expanding', 'foundering', 'proteus', 'thatched', 'roanoke', 'espy', 'seethings', 'extend', 'carving', 'tuesday', 'arrival', 'advocating', 'cloven', 'pillowes', 'compound', '41:14', 'stringed', 'forbes', 'promulge', 'desist', 'distaff', 'g.o.p.', 'florida', 'appeal', 'servant', 'ed', 'retraced', '13:28', 'elizur', 'eglah', 'arising', 'prospers', \"shelter'd\", \"ponder'd\", '22:30', 'transported', 'callest', 'leaning', 'partaker', \"star'd\", 'jamb', 'womenservants', 'bought', \"undisturb'd\", 'interfere', 'doeth', 'swash', 'elam', 'committed', 'arrested', \"can't\", 'anne', 'sprouting', \"shew'd\", 'hunchback', 'horsepond', 'zephon', 'cbs', 'feline', 'hoary', 'reserved', 'mellowing', 'broadest', 'funk', 'williams', 'derbe', 'slightest', 'proposed', 'repent', 'hesitated', 'restructuring', 'naked', 'general', '18:24', 'lazily', 'oxford', 'lone', 'persuasive', 'bosnia', 'vinegar', '8:58', 'beamed', 'fends', 'atmospheric', 'possibility', 'dakota', 'sinful', 'eloping', 'loved', 'sermon', 'bitter', 'risk', '15:33', 'urim', 'fragment', 'decrepitude', 'title', 'sate', 'creek', 'academic', 'comparative', 'murtherers', 'aimless', 'amaze', '60:4', '27:37', 'attempted', 'accession', 'jozadak', 'wrapping', '6:18', 'theory', 'cheeke', 'dubosc', 'unpossibility', '12:25', 'thee', 'lagoon', 'clapping', 'sewing', 'rosemary', 'ignored', '30:13', 'cracked', 'murdered', 'obdurate', 'crescent', 'voluble', 'henoch', 'madhouse', 'viii', 'got', 'seemes', 'bennett', 'mocke', 'midnight', 'youngster', '27:45', 'archly', 'newer', 'suppository', 'spaniel', 'favorite', 'heading', '19:33', 'marigold', 'pronged', 'den', 'tenon', 'bethany', '6:49', 'wearie', 'liued', '6:42', 'garbage', 'trigger', 'decline', 'smear', 'bengal', '26:56', '9:10', 'lendeth', 'remember', 'hoisting', 'inglorious', 'know', 'voter', 'sutors', '20:5', 'benign', 'frozen', 'garland', 'easinesse', '14:32', 'ambushment', '12:21', 'lehi', 'riled', 'spluttering', 'stepping', 'theatre', 'pitteous', 'basketed', 'zucker', 'barely', 'mystification', 'sweating', 'ratko', 'lep', 'esteem', 'seare', 'oven', 'idleness', 'ignore', 'koch', 'crucial', 'concrete', 'staggering', 'concede', 'selah', 'unthinkingly', 'retaliate', 'proceed', 'sunda', 'pincer', 'obeisance', 'voracious', 'indescribable', 'audacious', 'damage', 'vega', 'modi', 'observed', 'pull', 'peece', 'changest', 'devoured', 'cilicia', 'kissed', '28:14', '36:29', 'declare', 'hollow', 'ferocity', 'owle', 'copying', 'endorses', 'pedro', 'fashionable', 'cawdor', 'remiss', 'industriously', '20:48', 'flippant', 'mason', 'nakedness', 'bobbing', 'floe', 'tony', 'blossomed', 'sered', 'didst', 'hen', 'wheeler', 'wrinkling', 'dun', 'ballistic', 'vnderneath', 'adviser', 'commission', 'entity', 'saucepan', 'tory', 'narrow', 'bethdagon', 'hands--', 'rebelled', 'premise', 'contralto', 'vowest', '23:29', 'haram', 'ides', 'thrasher', 'plunged', 'uneasily', \"reueng'd\", 'background', 'rigger', 'water', '3rd', 'haley', 'devise', 'pervert', '9:49', 'zedad', 'delta', 'feeder', 'insurance', 'stir', 'pointing', 'vaguely', 'between', '35:9', '9:33', 'pupil', 'upcoming', 'adversity', 'singular', 'rebuke', 'hie', 'plausible', 'impudence', 'censured', 'thumb', \"d'or\", 'helplessly', 'pac', 'follower', 'gaffman', 'comfortable', 'gho', 'forestall', 'readily', 'informs', 'mizzen', 'disannul', 'pastoral', '46:14', 'so?--', 'transom', 'knuckle', 'maachathites', 'alb', 'uncalled', 'bethjeshimoth', 'scaly', 'feminine', '31:4', \"could'st\", 'educated', 'sorrowed', 'jaguar', 'shamble', 'loveth', 'nasa', 'elimelech', 'listing', 'shuffling', 'elizaphan', 'ont', 'wrought', 'listning', \"smutch'd\", 'descrying', 'vicarage', 'barricade', 'hail', 'prudence', 'cream', 'fetching', 'broiling', '5:38', 'his.--', 'inhaled', 'edgeworth', 'francisco', 'breathless', 'outrage', 'turban', 'capturing', 'expense', 'pyjama', 'ziba', 'light', 'gnawing', 'clatter', 'elpaal', 'objected', 'leyden', 'graham', '16:28', 'collation', 'compete', 'abhorred', 'dotty', 'refreshingly', 'eleve', 'slay', 'moabitess', 'haughtiness', 'quit', 'lion', 'civil', 'smoothness', 'financed', 'soros', 'bulge', 'smith', '2:48', 'tarred', 'virginia', 'orator', 'ironworker', 'moisten', 'suite', 'gentlemanly', 'delinquent', 'disclosing', 'ple', 'segment', 'dissipation', 'incestuous', 'uranium', 'carrey', 'jehonadab', 'resettled', 'mout', 'patagonia', 'across', \"cook'd\", 'buzzfeed', 'assumption', 'visible', 'meant--', 'flinty', 'recoyle', 'screech', 'ginath', 'scarborough', 'formation', 'jesus', 'wilderness', '10:33', '17:7', 'poring', 'footed', 'unemployed', '2:29', 'convinced', 'elath', 'unfrequent', 'crest', 'throttle', 'effrontery', '13:12', 'bath', 'production', \"ha't\", '24:39', '2007', 'teman', 'proved', 'liege', '4:2', 'la.', 'hopping', '48:6', 'jeff', '21:32', 'roofed', 'comeliness', 'consummate', 'authoritarianism', 'faithfulest', 'maliciously', 'flowery', 'richly', 'mania', '18:38', 'unutterable', 'haroc', 'stone', 'endgame', 'alma', '23:11', 'lye', 'tympan', 'timeline', 'clearing', 'ziphites', 'schumer', 'smoothe', 'indescribably', 'loveliest', 'aluminum', 'purr', 'ordain', 'mell', 'foal', 'replied', 'slightly', 'illuminate', 'george', 'cultured', '66:14', 'succour', 'wait', 'christie', 'low', '9:36', 'hanun', 'driues', 'terraqueous', 'diuinity', 'extremely--', 'actual', 'placard', '16:25', 'oscar', 'mexican', 'cadiz', 'courtesie', 'allegiance', 'other', 'detest', '57:11', 'resented', 'dagger', 'bos', 'masse', '1671', 'unnearable', 'supposed', 'incurably', '4:25', 'foppery', 'heauens', '27:44', 'gradation', 'weapon', 'spiral', 'upheld', 'slave', 'joking', 'overboard', 'sneak', 'hemlock', 'discovereth', 'poverty', 'enter', 'wire', 'chock', 'drowne', 'unfaithful', 'disloyal', 'powerhouse', 'perdinavititis', 'scientist', 'stolne', 'unbelief', 'comply', 'mccain', 'whisker', 'zalmon', 'overlooked', 'cramped', 'certified', 'blowes', '25:25', 'she', 'guest', '12:46', 'eliab', 'bustle', 'sensibility', 'respectful', 'explorer', 'undertake', 'aimed', 'whisperer', 'nosed', 'chastisement', 'nitre', 'converge', 'waist', 'alongside', 'varnished', 'hump', 'indemnify', 'getting', 'frameth', '32:16', 'intermission', 'merging', 'duly', 'ringlet', 'ikkesh', 'louise', 'ornamented', 'clipped', 'nonsense', '6:35', 'given', 'damning', 'magician', 'cake', 'fro[m', 'wolfish', '11:4', 'mess', 'cynical', 'tenor', 'bubblingly', 'offensive', 'laertes', 'handover', 'currency', 'sworne', 'nourishing', 'honored', '8', 'veracity', '31:36', 'braiding', 'nivir', 'luxury', 'indeed!--and', 'drifted', 'hallow', 'annuity', 'walk', 'chopping', '11:28', 'scull', 'reveled', 'saint', 'triune', 'highest', 'faile', 'fighter', 'footloose', 'potency', 'own', 'littleness', 'befriended', '2:32', 'hadoram', \"dy'd\", 'antiquity', 'subiect', 'sincerest', 'lepidus', 'conscientiously', 'howle', 'attent', 'spicy', '40:14', 'replying', 'contending', 'promotes', 'hairy', 'teachest', 'diverted', 'publication', 'pan', 'antichrist', 'athaliah', 'upbraiding', '9:17', 'aid', 'comforteth', 'stationed', 'you--', 'meekness', 'november', 'exmoor', 'soar', 'satiety', 'heresy', 'semi', 'softened', 'tenderer', 'prouidence', 'weightier', 'surer', 'bethlehem', 'surprize', 'featureless', 'tierce', 'note', 'presides', 'lessening', 'broom', 'botched', 'communicative', 'nimbus', 'manassites', 'troubleth', 'chase', 'internet', 'griefe', 'impassioned', 'pithon', '46:2', 'concise', 'sinewes', 'roares', 'sap', 'greywood', 'unison', 'thrive', 'overseer', 'madest', '5:24', '15:52', 'turbaned', 'doubled', 'despitefully', 'contracting', 'grego', 'leanfleshed', 'merari', 'dimension', 'cappadocia', 'drake', 'aplomb', 'huckabee', 'sackcloth', 'explanatory', '6:45', 'breaching', 'marvellous', 'gahar', '1:31', 'sodomite', 'earthquake', 'usually', 'damnation', 'lessen', 'outweighs', 'sunshine', 'mite', 'ehud', 'rememberest', 'cleaving', 'connected', 'approue', 'frog', 'unsearchable', 'quivered', 'week', 'walnut', 'roughest', 'mindes', 'prescience', 'accelerating', 'rum', 'cheered', 'grasse', 'unfold', 'mnuchin', 'beer', 'reince', 'firmness', 'shorn', 'paul', 'excessive', 'stretch', 'touted', 'nature', 'demanded', 'table', '16:10', 'yoest', 'idumea', 'tuileries', 'mercy', 'upwards', 'farage', '25:20', 'azgad', 'incredible', 'resistant', 'patriotism', '99', 'laggard', 'oust', 'rambled', 'else--', 'extinguished', 'adornment', 'demeanor', 'imagination', 'colbert', 'potion', '24:42', 'everything', 'reviving', 'scaffolding', '1.3', 'insecurity', 'barefoot', 'azaliah', 'respect', 'september', 'chinaman', 'jew', 'mercenary', 'shield', 'cast', '19:47', 'madder', 'nephewes', 'husky', 'colhozeh', 'sudan', 'nearest', 'candour', 'charlemagne', 'anchorage', 'benjamin', 'condemns', 'crayon', \"linger'd\", 'national', 'formed', 'haman', 'puffing', 'uncle', 'limitless', 'activism', 'good', '19:48', 'everybody--', 'shewing', 'proceeded', 'bodily', 'aquiline', 'obed', 'inconvenience', 'patrolled', 'babbling', 'irreproachable', 'havothjair', 'patting', 'bereaved', 'daintiest', 'hegel', 'muffling', 'zia', 'rulest', 'sparing', 'gendarmerie', 'blamed', 'ground', 'takeaway', 'har', '21:18', 'zero', 'sham', '17:26', 'deserving', 'og', 'occupy', 'sharpness', 'solely', 'gusto', '1865', 'voiceless', \"garner'd\", \"wither'd\", 'wandering', '46:16', '44:7', 'reticent', 'compromise', 'comforter', 'feelest', 'hadadezer', 'thick', 'venezuelan', 'sneered', 'thine', 'pageant', 'replenish', 'shemida', 'wrinkle', 'smuggling', 'poison', 'giddalti', 'tortoise', 'euer', 'accumulated', 'stubbornly', 'unlooked', 'confess', 'baleen', 'injunction', 'warring', 'wandered', 'provender', 'piebald', '17:9', '45:11', 'parrot', 'jot', 'pooley', 'impediment', \"conceiv'd\", 'engage', 'bound', 'powder', 'grandly', '33:27', 'symbolic', 'quarry', 'joining', 'sect', 'tou', 'atlas', 'metoo', 'vacuity', 'level', 'compare', \"sicken'd\", 'doated', 'unabated', 'henadad', 'storehouse', 'declaration', \"purpos'd\", '43:14', 'database', 'chancing', 'ist', 'achish', 'garb', 'issue', 'quality', '27:21', 'thinking', 'obsession', 'ponderings', 'heereafter', 'pearly', 'kanada', 'laborious', 'boy', 'riper', 'lightness', 'perversely', '35:13', 'hamas', 'tragicall', 'betweene', 'esaias', 'indissoluble', 'appalling', 'flaky', 'absurdly', 'contriving', 'shtick', '8:4', 'spray', 'gallied', 'lgbt', 'overlaying', 'abnormally', '7:62', 'rohingya', 'connect', 'soundness', 'ban', 'swimmer', 'dunstable', '19:1', 'readier', 'f--', 'guantรกnamo', 'poorly', 'apostleship', 'banish', 'keen', 'covfefe', 'badlands', 'stripping', '14:21', 'vpward', 'vnderstand', 'intensely', 'sufficiency', 'sundry', 'vietnam', 'brace', '28:12', 'car', 'explore', \"curtain'd\", 'hierarchy', 'parmacetty', 'slackness', 'measurable', 'dreaminess', 'adjunct', 'cheat', 'indolently', 'sottish', 'sugar', 'enderby', 'instructer', 'convenience', 'encloses', 'foregoing', 'sirloin', 'hungary', 'jungfrau', 'purplish', 'unfolding', 'troublesome', 'topic', 'turne', 'stubborn', 'annoyance', 'graues', 'me!--i', 'competitor', 'shallowest', 'advancement', 'pugnacious', 'flickering', 'chaldee', 'fewer', 'amzi', 'distribution', 'decisive', 'awaking', 'engirth', 'sardonically', 'needy', 'martyrdom', 'job', 'dreamt', 'catastrophic', 'currant', 'confines', 'cryed', 'sanction', 'delight', 'vinedressers', '27:41', 'act', 'countering', 'andy', \"cert'nly\", 'eate', 'hanani', 'reprieve', 'lord', 'excellently', 'unnatural', 'capsized', 'beguile', 'pal', 'prow', 'pertaining', 'maon', 'naboth', 'tempering', 'moonrise', 'fragrance', 'southeast', 'mutely', 'introduced', 'infused', 'barrenness', 'effective', 'undone', 'heardest', 'toilsome', '16-year', 'disclosure', 'thicke', 'doore', 'passive', '36:10', 'tribe', 'gangway', 'heidelburgh', 'hew', 'dove', 'happen', 'bristle', 'operated', 'elysee', 'gestation', 'doubtfull', 'questioned', '--ibid', 'beare', 'indefinite', \"renew'd\", 'posy', 'pince', 'shalmai', 'transformed', 'nail', 'chinneroth', 'enterprise', 'weakest', 'tallied', 'mistaken', 'sailed', 'abihail', 'maiestie', '34:12', 'plata', 'masculine', '4:7', 'snared', '3:11', 'flanked', 'nervousness', 'mizzah', 'melteth', 'jawed', 'gallery', 'human', 'weak', 'rameses', 'gutenberg', 'minnesota', 'norwegian', 'would', 'seeth', '48:27', 'collective', 'wiping', 'choler', 'dehumanization', 'anglo', '26:65', 'shaped', 'refraine', 'patentee', 'leadership', 'defeated', 'xi', 'footpath', 'resolution', \"foil'd\", 'attract', 'murk', 'v', 'parenthood', 'directing', 'flogged', '55:6', 'knave', 'past', 'celebrated', '3:48', 'ngo', \"establish'd\", 'blent', 'lacepede', 'unflinching', 'scepter', 'lothe', 'gen.', 'polling', 'loaded', 'entreat', 'tucker', 'blink', 'freewill', '66:16', 'kindles', 'smuggled', 'outlived', 'shooting', '32:36', '26:40', 'berg', 'sicilian', 'taut', 'islet', 'gazer', 'picturesque', 'mesha', 'intrepid', 'vex', 'imprisoned', 'workforce', 'cathnes', 'lesson', 'contemn', 'jocularity', 'hackt', '65:10', 'thirtie', 'appreciated', '51:23', 'prayses', 'courageous', 'doome', 'practical', 'achor', 'ross', 'argo', 'verra', 'zoba', 'overdone', 'hor', 'dam', 'mercifull', '13:52', 'delayed', 'manna', 'aisle', 'infernal', 'tishbite', 'barabbas', 'misinterpreted', 'curtly', 'saga', 'loving', 'forborn', 'declineth', 'kolaiah', '27:9', 'adorable', 'indulged', 'incongruous', 'beggar', 'waterside', 'voterbase', 'attachment--', 'infancy', 'dazzlingly', 'trueman', 'stedfastly', 'subterranean', 'behaved', 'woof', 'translation', 'stared', 'misrephothmaim', 'sheshach', 'belongest', 'celebs', 'opacous', 'roaming', 'mower', 'careless', 'houshold', 'ornan', 'insulting', 'airly', 'besiege', 'maharai', 'representative', 'grouse', 'mixture', 'toleration', 'person', 'man', 'panelled', 'necessitated', 'spirt', 'beholding', 'trafalgar', 'welch', 'salvation', 'apartment', 'fail', 'partition', 'shirley', 'malignant', 'loses', 'agency', 'licence', 'display', 'joseph', 'van', 'robert', 'desultory', 'dimly', 'bangladesh', 'weasel', 'schlapp', 'oracle', 'adder', 'withdraws', 'ioy', '16:37', 'dealest', 'tete', 'cessation', 'embodiment', 'loop', 'neuer', '42:21', 'starlit', 'pekod', 'poster', 'uninformed', 'jump', 'condemn', 'wingfield', 'cheere', 'assumes', 'forbearance', 'plaited', 'menial', '1820', 'unanswered', 'disappointed', 'argob', 'emerods', 'transpointed', 'merriment', 'hodaviah', 'rough', 'azmon', 'hothir', 'protege', 'kicking', 'resubmit', 'minutely', 'sealing', 'niece', 'barking', 'buckle', 'trough', 'way', 'cenchrea', 'cypher', 'sec', 'discerning', '33', 'belike', 'kirjathbaal', 'pochereth', 'supposing', 'spokesperson', 'lounge', '19:41', 'adapt', 'brilliancy', 'folded', 'quill', 'gop', '24:1', 'cai', 'alighting', 'tempt', 'dramatist', 'decoration', '10:27', 'deductible', 'soundgarden', 'oded', 'ganges', '25:5', 'suitor', 'cupboard', 'slowdown', 'physiologist', 'obstruction', 'rosin', 'kingdomes', 'silvery', 'anakims', 'priceless', 'israeli', \"shunn'd\", 'dull', 'azubah', 'learner', 'whelped', 'correction', 'frock', 'behaving', 'harrogate', 'stalwart', 'arad', 'provoketh', 'grosse', 'presumed', 'attuned', 'acceptation', 'derive', 'gorgon', 'mainstream', 'diamond', 'boat', 'destroyest', \"unsurvey'd\", 'god', 'sleigh', 'caressing', 'fatiguing', 'eaglet', 'aliment', 'embrace', 'druid', 'rang', 'refutation', 'pyramidical', 'frail', 'varied', 'antidote', 'abase', 'dispense', 'infuriated', 'benevolently', 'cyclades', 'keepeth', 'churlish', 'honouring', 'postponed', 'treasured', 'snoring', 'apocalypse', '32:44', 'desiring', 'frigid', 'inobled', 'troubling', 'pasteboard', 'impalpable', 'bleeds', 'soot', 'caiaphas', 'sublimity', 'bdellium', 'bullion', 'carol', 'mi', 'kirsten', 'dispraise', 'convolution', 'eziongeber', 'buffalo', '55', 'examining', 'remonstrance', 'playedst', 'overcoat', 'stability', '6:5', 'strolling', 'duncane', 'wheedling', 'stanhill', 'sheepishly', 'sensibly', 'excites', 'petty', 'ere', 'ebiasaph', 'porpoise', 'joah', 'hodijah', 'tillage', 'jetting', 'ineffably', 'egotistic', 'trivial', 'insult', 'firefight', 'yelling', 'dogged', '38:10', '--sir', 'negation', 'chestnut', 'luminous', 'musgrove', 'tertius', '32:38', 'shamer', 'graf', 'lystra', 'field', '8:48', 'divineness', 'baptize', 'depressed', 'usefulness', \"ne'er\", 'repulsed', 'isshiah', 'preparatory', 'jephthah', 'influx', 'trot', 'confidential', 'observable', 'retract', 'parched', 'uttered', 'unconquered', 'artificial', 'behaviour', 'mightie', 'brigden', '22:40', 'holiday', 'coveredst', 'conceivable', 'sherry', 'shephatiah', 'innkeeper', 'publickly', 'unction', 'wolfe', 'phrensies', 'instantaneously', 'recumbent', 'crash', 'balancing', 'few', 'inky', '19', '39:15', 'was!--', 'flees', 'opulent', 'entertained', 'lunacy', 'diuell', 'israel', 'embroiderer', 'hawk', 'fencer', 'dividual', '15:31', 'contentious', 'queen', '7:53', \"e'er\", 'respecteth', 'hereabouts', 'be.--', 'insisted', 'ephemeral', 'piling', 'tankard', 'confounded', '20:43', 'kicked', 'roundly', 'stirre', 'tolstoy', 'forbids', 'shutter', 'ozem', 'queerly', 'brandy', 'jingling', '20:12', 'absurd', 'healthiest', 'bookstore', 'seemeth', 'jeroham', 'ecclesiastical', 'thriue', 'exudes', 'submiss', 'syracuse', 'combative', 'agen', 'neziah', 'minding', 'physician', '30th', 'retracted', 'beersheba', 'shelby', 'imputed', 'dalrymples', 'avert', 'arbitration', 'storming', 'winnie', 'coldness', 'pathogen', 'wave', 'cold', 'king', 'supernatural', 'eaten', 'elon', 'unique', 'rail', 'lazy', 'buy', 'actively', 'ukrainian', 'bounder', 'unity', 'shakespeare', 'assembled', 'chasm', '20', 'madnesse', 'bequeathing', 'bomber', 'churl', '29:5', 'jehudi', 'hare', 'battled', '26:38', 'seraphic', 'scoffing', 'gomorrah', 'serene', 'hertz', 'mortar', 'horonite', 'rub', 'ploughman', '9:54', 'crackling', 'streaming', 'strolled', 'stem', 'pas', '22:27', 'instance', 'unavoidably', 'perizzites', 'repaired', 'doo', 'conquer', 'elevated', 'slope', 'doomesday', 'drift', 'invite', 'decius', 'downfall', 'pile', 'pigmy', 'roiled', 'shoot', 'persuasively', 'windes', 'annihilating', 'sanballat', 'mariner'}\n"
          ],
          "name": "stdout"
        }
      ]
    },
    {
      "cell_type": "code",
      "metadata": {
        "id": "hlK2KhZCbqg2"
      },
      "source": [
        "OOV_token = \"<OOV>\" #Adding unknow token\n",
        "vocabulary.add(OOV_token)\n",
        "word2idx = {}\n",
        "n_words = 0\n",
        "\n",
        "#Replace all tokens not in vocabulary with unknow token\n",
        "tokenized_corpus_with_OOV = []\n",
        "for sentence in tokenized_corpus:\n",
        "\n",
        "    tokenized_sentence_with_OOV = []\n",
        "    for token in sentence:\n",
        "        if token in vocabulary:\n",
        "            tokenized_sentence_with_OOV.append(token)\n",
        "        else:\n",
        "            tokenized_sentence_with_OOV.append(OOV_token)\n",
        "    tokenized_corpus_with_OOV.append(tokenized_sentence_with_OOV)"
      ],
      "execution_count": null,
      "outputs": []
    },
    {
      "cell_type": "code",
      "metadata": {
        "id": "lP-lO4VQbuTT"
      },
      "source": [
        "for token in vocabulary:\n",
        "    if token not in word2idx:\n",
        "        word2idx[token] = n_words\n",
        "        n_words += 1\n",
        "\n",
        "assert len(word2idx) == len(vocabulary)\n",
        "\n",
        "# Invert dictionary\n",
        "idx2word = {idx: word for word, idx in word2idx.items()}\n",
        "\n",
        "assert len(idx2word) == len(word2idx)"
      ],
      "execution_count": null,
      "outputs": []
    },
    {
      "cell_type": "code",
      "metadata": {
        "id": "Ru0npEpjftsw",
        "colab": {
          "base_uri": "https://localhost:8080/"
        },
        "outputId": "e2b283f6-edd2-4cb5-98eb-7b4fb8dfd95d"
      },
      "source": [
        "\n",
        "def get_focus_context_pairs(tokenized_corpus, window_size=3):\n",
        "    focus_context_pairs = []\n",
        "    for sentence in tokenized_corpus:\n",
        "\n",
        "        for token_idx, token in enumerate(sentence):\n",
        "\n",
        "            for w in range(-window_size, window_size+1):\n",
        "                context_word_pos = token_idx + w\n",
        "\n",
        "                if w == 0 or context_word_pos >= len(sentence) or context_word_pos < 0:\n",
        "                    continue\n",
        "\n",
        "                try:\n",
        "                    focus_context_pairs.append([token, sentence[context_word_pos]])\n",
        "                except:\n",
        "                    continue\n",
        "    \n",
        "    return focus_context_pairs\n",
        "focus_context_pairs = get_focus_context_pairs(tokenized_corpus_with_OOV)\n",
        "\n",
        "print(focus_context_pairs[0:40])"
      ],
      "execution_count": null,
      "outputs": [
        {
          "output_type": "stream",
          "text": [
            "[['tragedie', 'macbeth'], ['tragedie', 'william'], ['tragedie', 'shakespeare'], ['macbeth', 'tragedie'], ['macbeth', 'william'], ['macbeth', 'shakespeare'], ['macbeth', '<OOV>'], ['william', 'tragedie'], ['william', 'macbeth'], ['william', 'shakespeare'], ['william', '<OOV>'], ['shakespeare', 'tragedie'], ['shakespeare', 'macbeth'], ['shakespeare', 'william'], ['shakespeare', '<OOV>'], ['<OOV>', 'macbeth'], ['<OOV>', 'william'], ['<OOV>', 'shakespeare'], ['actus', 'primus'], ['actus', 'scoena'], ['actus', 'prima'], ['primus', 'actus'], ['primus', 'scoena'], ['primus', 'prima'], ['scoena', 'actus'], ['scoena', 'primus'], ['scoena', 'prima'], ['prima', 'actus'], ['prima', 'primus'], ['prima', 'scoena'], ['thunder', 'lightning'], ['thunder', 'enter'], ['thunder', 'witch'], ['lightning', 'thunder'], ['lightning', 'enter'], ['lightning', 'witch'], ['enter', 'thunder'], ['enter', 'lightning'], ['enter', 'witch'], ['witch', 'thunder']]\n"
          ],
          "name": "stdout"
        }
      ]
    },
    {
      "cell_type": "code",
      "metadata": {
        "colab": {
          "base_uri": "https://localhost:8080/"
        },
        "id": "C7GLEYh9f4gs",
        "outputId": "52766c36-d206-4dcb-c36e-2d924dd65c14"
      },
      "source": [
        "def get_focus_context_idx(focus_context_pairs):\n",
        "    idx_pairs = []\n",
        "    for pair in focus_context_pairs:\n",
        "        idx_pairs.append([word2idx[pair[0]], word2idx[pair[1]]])\n",
        "    \n",
        "    return idx_pairs\n",
        "\n",
        "\n",
        "idx_pairs = get_focus_context_idx(focus_context_pairs)\n",
        "\n",
        "print(idx_pairs[0:20])"
      ],
      "execution_count": null,
      "outputs": [
        {
          "output_type": "stream",
          "text": [
            "[[25913, 22662], [25913, 7783], [25913, 28876], [22662, 25913], [22662, 7783], [22662, 28876], [22662, 3966], [7783, 25913], [7783, 22662], [7783, 28876], [7783, 3966], [28876, 25913], [28876, 22662], [28876, 7783], [28876, 3966], [3966, 22662], [3966, 7783], [3966, 28876], [17345, 20050], [17345, 16250]]\n"
          ],
          "name": "stdout"
        }
      ]
    },
    {
      "cell_type": "code",
      "metadata": {
        "id": "SqkMlTEFgMMN"
      },
      "source": [
        "#Input one hot encoded word and creates embedding (learns as matrix) -> outputs which word follows\n",
        "class Word2Vec(nn.Module):\n",
        "    def __init__(self, input_size, output_size, hidden_dim_size):\n",
        "        super().__init__()\n",
        "        \n",
        "        # Why do you think we don't have an activation function here?\n",
        "        self.projection = nn.Linear(input_size, hidden_dim_size, bias=False)\n",
        "        self.output = nn.Linear(hidden_dim_size, output_size)\n",
        "        \n",
        "    def forward(self, input_token):\n",
        "        x = self.projection(input_token)\n",
        "        output = self.output(x)\n",
        "        return output"
      ],
      "execution_count": null,
      "outputs": []
    },
    {
      "cell_type": "code",
      "metadata": {
        "id": "iPyia5UDg3aQ"
      },
      "source": [
        "def get_one_hot(indicies, vocab_size=len(vocabulary)):\n",
        "    oh_matrix = np.zeros((len(indicies), vocab_size))\n",
        "    for i, idx in enumerate(indicies):\n",
        "        oh_matrix[i, idx] = 1\n",
        "\n",
        "    return torch.Tensor(oh_matrix)"
      ],
      "execution_count": null,
      "outputs": []
    },
    {
      "cell_type": "code",
      "metadata": {
        "id": "kLJxtFH-gTP4"
      },
      "source": [
        "def train(word2vec_model, idx_pairs, state_dict_filename, early_stop=False, num_epochs=15, lr=1e-3):\n",
        "\n",
        "    word2vec_model.train()\n",
        "    criterion = torch.nn.CrossEntropyLoss()\n",
        "    optimizer = torch.optim.SGD(word2vec_model.parameters(), lr=lr)\n",
        "\n",
        "    for epoch in range(num_epochs):\n",
        "\n",
        "        random.shuffle(idx_pairs)\n",
        "\n",
        "        for focus, context in idx_pairs:\n",
        "            print(focus)\n",
        "            oh_inputs = get_one_hot([focus], len(vocabulary))\n",
        "            target = torch.LongTensor([context])\n",
        "\n",
        "            pred_outputs = word2vec_model(oh_inputs)\n",
        "\n",
        "            loss = criterion(pred_outputs, target)\n",
        "\n",
        "            loss.backward()\n",
        "            optimizer.step()\n",
        "            word2vec_model.zero_grad()\n",
        "            \n",
        "        ### These lines stop training early\n",
        "            if early_stop: break\n",
        "        if early_stop: break\n",
        "        ###\n",
        "\n",
        "        torch.save(word2vec_model.state_dict(), state_dict_filename)\n",
        "        writer.add_embedding(word2vec_model.projection.weight.T,\n",
        "                             metadata=word2idx.keys(), global_step=epoch)"
      ],
      "execution_count": null,
      "outputs": []
    },
    {
      "cell_type": "code",
      "metadata": {
        "id": "y9jHZIQNgXsd"
      },
      "source": [
        "from torch.utils.tensorboard import SummaryWriter\n",
        "writer = SummaryWriter('runs/word2vec_gutenberg')"
      ],
      "execution_count": null,
      "outputs": []
    },
    {
      "cell_type": "code",
      "metadata": {
        "colab": {
          "base_uri": "https://localhost:8080/"
        },
        "id": "ihqPAQM6ghsd",
        "outputId": "3532b782-fb21-4f1c-ee78-86c8df3fff63"
      },
      "source": [
        "w2v_gutenberg = Word2Vec(len(vocabulary), len(vocabulary), 128)\n",
        "train(w2v_gutenberg, idx_pairs, \"word2vec_gutenberg.pt\", early_stop=True)"
      ],
      "execution_count": null,
      "outputs": [
        {
          "output_type": "stream",
          "text": [
            "5380\n"
          ],
          "name": "stdout"
        }
      ]
    },
    {
      "cell_type": "code",
      "metadata": {
        "colab": {
          "base_uri": "https://localhost:8080/"
        },
        "id": "gO1p9Hj5gqda",
        "outputId": "b5f82a05-e322-4323-a25b-68cf0857b01d"
      },
      "source": [
        "weights_matrix = w2v_gutenberg.projection.weight.T #Embedding matrix\n",
        "print(weights_matrix.shape)"
      ],
      "execution_count": null,
      "outputs": [
        {
          "output_type": "stream",
          "text": [
            "torch.Size([28927, 128])\n"
          ],
          "name": "stdout"
        }
      ]
    },
    {
      "cell_type": "markdown",
      "metadata": {
        "id": "udJACzxtK1TG"
      },
      "source": [
        "## Predictions based on cosine distance between replacement words and edit words"
      ]
    },
    {
      "cell_type": "code",
      "metadata": {
        "id": "C3Z7mQgJMw2a"
      },
      "source": [
        "from scipy.spatial.distance import cosine\n"
      ],
      "execution_count": null,
      "outputs": []
    },
    {
      "cell_type": "code",
      "metadata": {
        "id": "wduaxehLZjWh",
        "colab": {
          "base_uri": "https://localhost:8080/"
        },
        "outputId": "408e12cc-2b4b-433d-efb6-e47fda67dc82"
      },
      "source": [
        "if stemming:\n",
        "  train_embedding_df.old = train_embedding_df.old.map(stemmer.stem)\n",
        "  train_embedding_df.edit = train_embedding_df.edit.map(stemmer.stem)\n",
        "  dev_embedding_df.old = dev_embedding_df.old.map(stemmer.stem)\n",
        "  dev_embedding_df.edit = dev_embedding_df.edit.map(stemmer.stem)\n",
        "elif lemma:\n",
        "  train_df.old = train_df.old.map(wordnet_lemmatizer.lemmatize)\n",
        "  train_df.edit = train_df.edit.map(wordnet_lemmatizer.lemmatize)\n",
        "  dev_embedding_df.old = dev_embedding_df.old.map(wordnet_lemmatizer.lemmatize)\n",
        "  dev_embedding_df.edit = dev_embedding_df.edit.map(wordnet_lemmatizer.lemmatize)"
      ],
      "execution_count": null,
      "outputs": [
        {
          "output_type": "stream",
          "text": [
            "/usr/local/lib/python3.6/dist-packages/pandas/core/generic.py:5170: SettingWithCopyWarning: \n",
            "A value is trying to be set on a copy of a slice from a DataFrame.\n",
            "Try using .loc[row_indexer,col_indexer] = value instead\n",
            "\n",
            "See the caveats in the documentation: https://pandas.pydata.org/pandas-docs/stable/user_guide/indexing.html#returning-a-view-versus-a-copy\n",
            "  self[name] = value\n"
          ],
          "name": "stderr"
        }
      ]
    },
    {
      "cell_type": "code",
      "metadata": {
        "colab": {
          "base_uri": "https://localhost:8080/"
        },
        "id": "F8I4AZypapZh",
        "outputId": "2b0f9008-6483-4ed8-8e69-584d24abbe86"
      },
      "source": [
        "train_embedding_df.old"
      ],
      "execution_count": null,
      "outputs": [
        {
          "output_type": "execute_result",
          "data": {
            "text/plain": [
              "9449    Economist\n",
              "7641       things\n",
              "7261         Idea\n",
              "1900      created\n",
              "6738          war\n",
              "          ...    \n",
              "4625     diplomat\n",
              "6612        White\n",
              "7837        Trump\n",
              "3250     violence\n",
              "6686        Offer\n",
              "Name: old, Length: 7721, dtype: object"
            ]
          },
          "metadata": {
            "tags": []
          },
          "execution_count": 48
        }
      ]
    },
    {
      "cell_type": "code",
      "metadata": {
        "id": "AHvjs44AK_uh"
      },
      "source": [
        "#get idx for old word\n",
        "old_idx_train = []\n",
        "for word in train_embedding_df.old.str.lower():\n",
        "    #that also excludes words that consist of two words. not good\n",
        "    if word in list(word2idx.keys()):\n",
        "        old_idx_train.append(word2idx[word])\n",
        "    else:\n",
        "        word = OOV_token\n",
        "        old_idx_train.append(word2idx[word])\n",
        "\n",
        "\n",
        "old_idx_dev = []\n",
        "for word in dev_embedding_df.old.str.lower():\n",
        "    #that also excludes words that consist of two words. not good\n",
        "    if word in list(word2idx.keys()):\n",
        "        old_idx_dev.append(word2idx[word])\n",
        "    else:\n",
        "        word = OOV_token\n",
        "        old_idx_dev.append(word2idx[word])\n",
        "\n",
        "\n",
        "\n",
        "#get idx for edit word\n",
        "edit_idx_train = []\n",
        "for word in train_embedding_df.edit.str.lower():\n",
        "    #that also excludes words that consist of two words. not good\n",
        "    if word in list(word2idx.keys()):\n",
        "        edit_idx_train.append(word2idx[word])\n",
        "    else:\n",
        "        word = OOV_token\n",
        "        edit_idx_train.append(word2idx[word])\n",
        "\n",
        "\n",
        "#get idx for edit word\n",
        "edit_idx_dev = []\n",
        "for word in dev_embedding_df.edit.str.lower():\n",
        "    #that also excludes words that consist of two words. not good\n",
        "    if word in list(word2idx.keys()):\n",
        "        edit_idx_dev.append(word2idx[word])\n",
        "    else:\n",
        "        word = OOV_token\n",
        "        edit_idx_dev.append(word2idx[word])\n",
        "\n",
        "\n"
      ],
      "execution_count": null,
      "outputs": []
    },
    {
      "cell_type": "code",
      "metadata": {
        "id": "HWIQq9JMLCpy",
        "colab": {
          "base_uri": "https://localhost:8080/"
        },
        "outputId": "9a42bba0-bb44-4b0d-ac2d-63627f68fef7"
      },
      "source": [
        "old_word_embedding_train = get_one_hot(old_idx_train) @ weights_matrix.detach().numpy()\n",
        "edit_embedding_train = get_one_hot(edit_idx_train) @ weights_matrix.detach().numpy()\n",
        "\n",
        "old_word_embedding_dev = get_one_hot(old_idx_dev) @ weights_matrix.detach().numpy()\n",
        "edit_embedding_dev = get_one_hot(edit_idx_dev) @ weights_matrix.detach().numpy()\n",
        "\n",
        "\n",
        "distances_train = []\n",
        "distances_dev = []\n",
        "for i in range(len(old_word_embedding_train)):\n",
        "    cos_distance_train = cosine(old_word_embedding_train[i], edit_embedding_train[i])\n",
        "    distances_train.append(cos_distance_train)\n",
        "\n",
        "for i in range(len(old_word_embedding_dev)):\n",
        "    cos_distance_dev = cosine(old_word_embedding_dev[i], edit_embedding_dev[i])\n",
        "    distances_dev.append(cos_distance_dev)\n",
        "train_embedding_df['cos_distance'] = distances_train\n",
        "dev_embedding_df['cos_distance'] = distances_dev"
      ],
      "execution_count": null,
      "outputs": [
        {
          "output_type": "stream",
          "text": [
            "/usr/local/lib/python3.6/dist-packages/ipykernel_launcher.py:17: SettingWithCopyWarning: \n",
            "A value is trying to be set on a copy of a slice from a DataFrame.\n",
            "Try using .loc[row_indexer,col_indexer] = value instead\n",
            "\n",
            "See the caveats in the documentation: https://pandas.pydata.org/pandas-docs/stable/user_guide/indexing.html#returning-a-view-versus-a-copy\n",
            "/usr/local/lib/python3.6/dist-packages/ipykernel_launcher.py:18: SettingWithCopyWarning: \n",
            "A value is trying to be set on a copy of a slice from a DataFrame.\n",
            "Try using .loc[row_indexer,col_indexer] = value instead\n",
            "\n",
            "See the caveats in the documentation: https://pandas.pydata.org/pandas-docs/stable/user_guide/indexing.html#returning-a-view-versus-a-copy\n"
          ],
          "name": "stderr"
        }
      ]
    },
    {
      "cell_type": "code",
      "metadata": {
        "id": "DBx2ZR_ajBid",
        "colab": {
          "base_uri": "https://localhost:8080/"
        },
        "outputId": "bc79fb51-b483-4eb3-fe01-7c021cb55080"
      },
      "source": [
        "train_embedding_df['edit_word_corpus_rep'] = [idx2word[idx] for idx in edit_idx_train]\n",
        "train_embedding_df['old_word_corpus_rep'] = [idx2word[idx] for idx in old_idx_train]\n",
        "\n",
        "dev_embedding_df['edit_word_corpus_rep'] = [idx2word[idx] for idx in edit_idx_dev]\n",
        "dev_embedding_df['old_word_corpus_rep'] = [idx2word[idx] for idx in old_idx_dev]"
      ],
      "execution_count": null,
      "outputs": [
        {
          "output_type": "stream",
          "text": [
            "/usr/local/lib/python3.6/dist-packages/ipykernel_launcher.py:1: SettingWithCopyWarning: \n",
            "A value is trying to be set on a copy of a slice from a DataFrame.\n",
            "Try using .loc[row_indexer,col_indexer] = value instead\n",
            "\n",
            "See the caveats in the documentation: https://pandas.pydata.org/pandas-docs/stable/user_guide/indexing.html#returning-a-view-versus-a-copy\n",
            "  \"\"\"Entry point for launching an IPython kernel.\n",
            "/usr/local/lib/python3.6/dist-packages/ipykernel_launcher.py:2: SettingWithCopyWarning: \n",
            "A value is trying to be set on a copy of a slice from a DataFrame.\n",
            "Try using .loc[row_indexer,col_indexer] = value instead\n",
            "\n",
            "See the caveats in the documentation: https://pandas.pydata.org/pandas-docs/stable/user_guide/indexing.html#returning-a-view-versus-a-copy\n",
            "  \n",
            "/usr/local/lib/python3.6/dist-packages/ipykernel_launcher.py:4: SettingWithCopyWarning: \n",
            "A value is trying to be set on a copy of a slice from a DataFrame.\n",
            "Try using .loc[row_indexer,col_indexer] = value instead\n",
            "\n",
            "See the caveats in the documentation: https://pandas.pydata.org/pandas-docs/stable/user_guide/indexing.html#returning-a-view-versus-a-copy\n",
            "  after removing the cwd from sys.path.\n",
            "/usr/local/lib/python3.6/dist-packages/ipykernel_launcher.py:5: SettingWithCopyWarning: \n",
            "A value is trying to be set on a copy of a slice from a DataFrame.\n",
            "Try using .loc[row_indexer,col_indexer] = value instead\n",
            "\n",
            "See the caveats in the documentation: https://pandas.pydata.org/pandas-docs/stable/user_guide/indexing.html#returning-a-view-versus-a-copy\n",
            "  \"\"\"\n"
          ],
          "name": "stderr"
        }
      ]
    },
    {
      "cell_type": "code",
      "metadata": {
        "colab": {
          "base_uri": "https://localhost:8080/",
          "height": 424
        },
        "id": "f2qA_Z3QqQbO",
        "outputId": "bb15f6ce-363b-497d-9eca-cd211448f799"
      },
      "source": [
        "train_embedding_df"
      ],
      "execution_count": null,
      "outputs": [
        {
          "output_type": "execute_result",
          "data": {
            "text/html": [
              "<div>\n",
              "<style scoped>\n",
              "    .dataframe tbody tr th:only-of-type {\n",
              "        vertical-align: middle;\n",
              "    }\n",
              "\n",
              "    .dataframe tbody tr th {\n",
              "        vertical-align: top;\n",
              "    }\n",
              "\n",
              "    .dataframe thead th {\n",
              "        text-align: right;\n",
              "    }\n",
              "</style>\n",
              "<table border=\"1\" class=\"dataframe\">\n",
              "  <thead>\n",
              "    <tr style=\"text-align: right;\">\n",
              "      <th></th>\n",
              "      <th>id</th>\n",
              "      <th>original</th>\n",
              "      <th>edit</th>\n",
              "      <th>grades</th>\n",
              "      <th>meanGrade</th>\n",
              "      <th>old</th>\n",
              "      <th>cos_distance</th>\n",
              "      <th>edit_word_corpus_rep</th>\n",
              "      <th>old_word_corpus_rep</th>\n",
              "    </tr>\n",
              "  </thead>\n",
              "  <tbody>\n",
              "    <tr>\n",
              "      <th>9449</th>\n",
              "      <td>7533</td>\n",
              "      <td>‘ Straight up stupid , ' ' incompetent ' and '...</td>\n",
              "      <td>Bully</td>\n",
              "      <td>11100</td>\n",
              "      <td>0.6</td>\n",
              "      <td>Economist</td>\n",
              "      <td>1.121741</td>\n",
              "      <td>bully</td>\n",
              "      <td>economist</td>\n",
              "    </tr>\n",
              "    <tr>\n",
              "      <th>7641</th>\n",
              "      <td>4158</td>\n",
              "      <td>Trump voters see his flaws but stand by presid...</td>\n",
              "      <td>pelvis</td>\n",
              "      <td>21110</td>\n",
              "      <td>1.0</td>\n",
              "      <td>things</td>\n",
              "      <td>0.000000</td>\n",
              "      <td>&lt;OOV&gt;</td>\n",
              "      <td>&lt;OOV&gt;</td>\n",
              "    </tr>\n",
              "    <tr>\n",
              "      <th>7261</th>\n",
              "      <td>1950</td>\n",
              "      <td>Trump ’s Latest Surprise : Shutdown Might Be a...</td>\n",
              "      <td>Movie</td>\n",
              "      <td>22211</td>\n",
              "      <td>1.6</td>\n",
              "      <td>Idea</td>\n",
              "      <td>1.104112</td>\n",
              "      <td>movie</td>\n",
              "      <td>idea</td>\n",
              "    </tr>\n",
              "    <tr>\n",
              "      <th>1900</th>\n",
              "      <td>1520</td>\n",
              "      <td>Trump loves Civil War memorials so much that h...</td>\n",
              "      <td>remembered</td>\n",
              "      <td>21100</td>\n",
              "      <td>0.8</td>\n",
              "      <td>created</td>\n",
              "      <td>1.030159</td>\n",
              "      <td>remembered</td>\n",
              "      <td>created</td>\n",
              "    </tr>\n",
              "    <tr>\n",
              "      <th>6738</th>\n",
              "      <td>6976</td>\n",
              "      <td>China says it will never allow war or chaos on...</td>\n",
              "      <td>snow</td>\n",
              "      <td>31110</td>\n",
              "      <td>1.2</td>\n",
              "      <td>war</td>\n",
              "      <td>0.912631</td>\n",
              "      <td>snow</td>\n",
              "      <td>war</td>\n",
              "    </tr>\n",
              "    <tr>\n",
              "      <th>...</th>\n",
              "      <td>...</td>\n",
              "      <td>...</td>\n",
              "      <td>...</td>\n",
              "      <td>...</td>\n",
              "      <td>...</td>\n",
              "      <td>...</td>\n",
              "      <td>...</td>\n",
              "      <td>...</td>\n",
              "      <td>...</td>\n",
              "    </tr>\n",
              "    <tr>\n",
              "      <th>4625</th>\n",
              "      <td>10435</td>\n",
              "      <td>Bush-era diplomat tweets that you should be sc...</td>\n",
              "      <td>werewolf</td>\n",
              "      <td>31110</td>\n",
              "      <td>1.2</td>\n",
              "      <td>diplomat</td>\n",
              "      <td>1.088961</td>\n",
              "      <td>&lt;OOV&gt;</td>\n",
              "      <td>diplomat</td>\n",
              "    </tr>\n",
              "    <tr>\n",
              "      <th>6612</th>\n",
              "      <td>9401</td>\n",
              "      <td>Trump Invites Rodrigo Duterte to the White House</td>\n",
              "      <td>big</td>\n",
              "      <td>22100</td>\n",
              "      <td>1.0</td>\n",
              "      <td>White</td>\n",
              "      <td>0.802657</td>\n",
              "      <td>big</td>\n",
              "      <td>white</td>\n",
              "    </tr>\n",
              "    <tr>\n",
              "      <th>7837</th>\n",
              "      <td>13669</td>\n",
              "      <td>Stocks close lower as Trump says China trade t...</td>\n",
              "      <td>panda</td>\n",
              "      <td>10000</td>\n",
              "      <td>0.2</td>\n",
              "      <td>Trump</td>\n",
              "      <td>0.930827</td>\n",
              "      <td>&lt;OOV&gt;</td>\n",
              "      <td>trump</td>\n",
              "    </tr>\n",
              "    <tr>\n",
              "      <th>3250</th>\n",
              "      <td>7937</td>\n",
              "      <td>Trump says the ' alt-left ' bears some respons...</td>\n",
              "      <td>peace</td>\n",
              "      <td>11100</td>\n",
              "      <td>0.6</td>\n",
              "      <td>violence</td>\n",
              "      <td>1.001322</td>\n",
              "      <td>peace</td>\n",
              "      <td>violence</td>\n",
              "    </tr>\n",
              "    <tr>\n",
              "      <th>6686</th>\n",
              "      <td>5910</td>\n",
              "      <td>Puerto Rico Bondholders Reject Island 's Restr...</td>\n",
              "      <td>Rum</td>\n",
              "      <td>10000</td>\n",
              "      <td>0.2</td>\n",
              "      <td>Offer</td>\n",
              "      <td>1.008703</td>\n",
              "      <td>rum</td>\n",
              "      <td>offer</td>\n",
              "    </tr>\n",
              "  </tbody>\n",
              "</table>\n",
              "<p>7721 rows × 9 columns</p>\n",
              "</div>"
            ],
            "text/plain": [
              "         id  ... old_word_corpus_rep\n",
              "9449   7533  ...           economist\n",
              "7641   4158  ...               <OOV>\n",
              "7261   1950  ...                idea\n",
              "1900   1520  ...             created\n",
              "6738   6976  ...                 war\n",
              "...     ...  ...                 ...\n",
              "4625  10435  ...            diplomat\n",
              "6612   9401  ...               white\n",
              "7837  13669  ...               trump\n",
              "3250   7937  ...            violence\n",
              "6686   5910  ...               offer\n",
              "\n",
              "[7721 rows x 9 columns]"
            ]
          },
          "metadata": {
            "tags": []
          },
          "execution_count": 53
        }
      ]
    },
    {
      "cell_type": "code",
      "metadata": {
        "colab": {
          "base_uri": "https://localhost:8080/",
          "height": 424
        },
        "id": "tBDopZBgc6h-",
        "outputId": "83b37e2f-2f11-43f7-f188-f5c47cf937c3"
      },
      "source": [
        "dev_embedding_df"
      ],
      "execution_count": null,
      "outputs": [
        {
          "output_type": "execute_result",
          "data": {
            "text/html": [
              "<div>\n",
              "<style scoped>\n",
              "    .dataframe tbody tr th:only-of-type {\n",
              "        vertical-align: middle;\n",
              "    }\n",
              "\n",
              "    .dataframe tbody tr th {\n",
              "        vertical-align: top;\n",
              "    }\n",
              "\n",
              "    .dataframe thead th {\n",
              "        text-align: right;\n",
              "    }\n",
              "</style>\n",
              "<table border=\"1\" class=\"dataframe\">\n",
              "  <thead>\n",
              "    <tr style=\"text-align: right;\">\n",
              "      <th></th>\n",
              "      <th>id</th>\n",
              "      <th>original</th>\n",
              "      <th>edit</th>\n",
              "      <th>grades</th>\n",
              "      <th>meanGrade</th>\n",
              "      <th>old</th>\n",
              "      <th>cos_distance</th>\n",
              "      <th>edit_word_corpus_rep</th>\n",
              "      <th>old_word_corpus_rep</th>\n",
              "    </tr>\n",
              "  </thead>\n",
              "  <tbody>\n",
              "    <tr>\n",
              "      <th>5846</th>\n",
              "      <td>8694</td>\n",
              "      <td>One tiny sign of hope : At least Donald Trump ...</td>\n",
              "      <td>personal</td>\n",
              "      <td>21000</td>\n",
              "      <td>0.6</td>\n",
              "      <td>defense</td>\n",
              "      <td>0.906680</td>\n",
              "      <td>personal</td>\n",
              "      <td>defense</td>\n",
              "    </tr>\n",
              "    <tr>\n",
              "      <th>2702</th>\n",
              "      <td>13784</td>\n",
              "      <td>Austrian Chancellor may have been one of those...</td>\n",
              "      <td>brewery</td>\n",
              "      <td>11000</td>\n",
              "      <td>0.4</td>\n",
              "      <td>Chancellor</td>\n",
              "      <td>0.955180</td>\n",
              "      <td>brewery</td>\n",
              "      <td>chancellor</td>\n",
              "    </tr>\n",
              "    <tr>\n",
              "      <th>6459</th>\n",
              "      <td>12081</td>\n",
              "      <td>Jared Kushner is the Real President</td>\n",
              "      <td>pretzel</td>\n",
              "      <td>22100</td>\n",
              "      <td>1.0</td>\n",
              "      <td>President</td>\n",
              "      <td>1.137658</td>\n",
              "      <td>&lt;OOV&gt;</td>\n",
              "      <td>president</td>\n",
              "    </tr>\n",
              "    <tr>\n",
              "      <th>3125</th>\n",
              "      <td>4795</td>\n",
              "      <td>Sea Shepherd claims it caught Japanese fleet w...</td>\n",
              "      <td>urchin</td>\n",
              "      <td>21100</td>\n",
              "      <td>0.8</td>\n",
              "      <td>Shepherd</td>\n",
              "      <td>0.997085</td>\n",
              "      <td>urchin</td>\n",
              "      <td>shepherd</td>\n",
              "    </tr>\n",
              "    <tr>\n",
              "      <th>493</th>\n",
              "      <td>2258</td>\n",
              "      <td>Trump heads overseas , turmoil in his wake</td>\n",
              "      <td>ear</td>\n",
              "      <td>32210</td>\n",
              "      <td>1.6</td>\n",
              "      <td>wake</td>\n",
              "      <td>0.964972</td>\n",
              "      <td>ear</td>\n",
              "      <td>wake</td>\n",
              "    </tr>\n",
              "    <tr>\n",
              "      <th>...</th>\n",
              "      <td>...</td>\n",
              "      <td>...</td>\n",
              "      <td>...</td>\n",
              "      <td>...</td>\n",
              "      <td>...</td>\n",
              "      <td>...</td>\n",
              "      <td>...</td>\n",
              "      <td>...</td>\n",
              "      <td>...</td>\n",
              "    </tr>\n",
              "    <tr>\n",
              "      <th>771</th>\n",
              "      <td>8635</td>\n",
              "      <td>Tony Blair says UK should launch military acti...</td>\n",
              "      <td>tub</td>\n",
              "      <td>11000</td>\n",
              "      <td>0.4</td>\n",
              "      <td>Syria</td>\n",
              "      <td>0.983676</td>\n",
              "      <td>tub</td>\n",
              "      <td>syria</td>\n",
              "    </tr>\n",
              "    <tr>\n",
              "      <th>2082</th>\n",
              "      <td>228</td>\n",
              "      <td>Senate GOP health care bill vote : The whip co...</td>\n",
              "      <td>cream</td>\n",
              "      <td>3221111000</td>\n",
              "      <td>1.1</td>\n",
              "      <td>count</td>\n",
              "      <td>1.014655</td>\n",
              "      <td>cream</td>\n",
              "      <td>count</td>\n",
              "    </tr>\n",
              "    <tr>\n",
              "      <th>8068</th>\n",
              "      <td>14054</td>\n",
              "      <td>Stunning details reveal how Israel ’s spy agen...</td>\n",
              "      <td>chicken</td>\n",
              "      <td>10000</td>\n",
              "      <td>0.2</td>\n",
              "      <td>heist</td>\n",
              "      <td>1.035733</td>\n",
              "      <td>chicken</td>\n",
              "      <td>heist</td>\n",
              "    </tr>\n",
              "    <tr>\n",
              "      <th>7568</th>\n",
              "      <td>4772</td>\n",
              "      <td>The evangelical slippery slope , from Ronald R...</td>\n",
              "      <td>soap</td>\n",
              "      <td>22100</td>\n",
              "      <td>1.0</td>\n",
              "      <td>slope</td>\n",
              "      <td>0.937799</td>\n",
              "      <td>soap</td>\n",
              "      <td>slope</td>\n",
              "    </tr>\n",
              "    <tr>\n",
              "      <th>9353</th>\n",
              "      <td>7345</td>\n",
              "      <td>Donald Trump ’s belief that Obamacare is “ exp...</td>\n",
              "      <td>ignorance</td>\n",
              "      <td>20000</td>\n",
              "      <td>0.4</td>\n",
              "      <td>belief</td>\n",
              "      <td>1.008423</td>\n",
              "      <td>ignorance</td>\n",
              "      <td>belief</td>\n",
              "    </tr>\n",
              "  </tbody>\n",
              "</table>\n",
              "<p>1931 rows × 9 columns</p>\n",
              "</div>"
            ],
            "text/plain": [
              "         id  ... old_word_corpus_rep\n",
              "5846   8694  ...             defense\n",
              "2702  13784  ...          chancellor\n",
              "6459  12081  ...           president\n",
              "3125   4795  ...            shepherd\n",
              "493    2258  ...                wake\n",
              "...     ...  ...                 ...\n",
              "771    8635  ...               syria\n",
              "2082    228  ...               count\n",
              "8068  14054  ...               heist\n",
              "7568   4772  ...               slope\n",
              "9353   7345  ...              belief\n",
              "\n",
              "[1931 rows x 9 columns]"
            ]
          },
          "metadata": {
            "tags": []
          },
          "execution_count": 54
        }
      ]
    },
    {
      "cell_type": "code",
      "metadata": {
        "colab": {
          "base_uri": "https://localhost:8080/",
          "height": 282
        },
        "id": "SBHnIFV4LKRy",
        "outputId": "87741fe4-5a92-4fbf-db1f-4ec713741acb"
      },
      "source": [
        "plt.scatter(train_embedding_df.cos_distance.to_list(), train_embedding_df.meanGrade.to_list())\n",
        "#Cosine distance where we have double edit"
      ],
      "execution_count": null,
      "outputs": [
        {
          "output_type": "execute_result",
          "data": {
            "text/plain": [
              "<matplotlib.collections.PathCollection at 0x7fecc6abd320>"
            ]
          },
          "metadata": {
            "tags": []
          },
          "execution_count": 55
        },
        {
          "output_type": "display_data",
          "data": {
            "image/png": "[encoded data removed]",
            "text/plain": [
              "<Figure size 432x288 with 1 Axes>"
            ]
          },
          "metadata": {
            "tags": [],
            "needs_background": "light"
          }
        }
      ]
    },
    {
      "cell_type": "code",
      "metadata": {
        "colab": {
          "base_uri": "https://localhost:8080/",
          "height": 282
        },
        "id": "hVtJ3CRmdPH2",
        "outputId": "ef4217dd-3dbe-4fc2-f734-16b60eaccfe9"
      },
      "source": [
        "plt.scatter(dev_embedding_df.cos_distance.to_list(), dev_embedding_df.meanGrade.to_list())"
      ],
      "execution_count": null,
      "outputs": [
        {
          "output_type": "execute_result",
          "data": {
            "text/plain": [
              "<matplotlib.collections.PathCollection at 0x7fecc6accc88>"
            ]
          },
          "metadata": {
            "tags": []
          },
          "execution_count": 60
        },
        {
          "output_type": "display_data",
          "data": {
            "image/png": "[encoded data removed]",
            "text/plain": [
              "<Figure size 432x288 with 1 Axes>"
            ]
          },
          "metadata": {
            "tags": [],
            "needs_background": "light"
          }
        }
      ]
    },
    {
      "cell_type": "code",
      "metadata": {
        "colab": {
          "base_uri": "https://localhost:8080/",
          "height": 49
        },
        "id": "MukQ7JqJLNKw",
        "outputId": "ea519903-6ebb-4576-8718-94a0686bba86"
      },
      "source": [
        "train_embedding_df.loc[train_embedding_df.cos_distance == 0.0]"
      ],
      "execution_count": null,
      "outputs": [
        {
          "output_type": "execute_result",
          "data": {
            "text/html": [
              "<div>\n",
              "<style scoped>\n",
              "    .dataframe tbody tr th:only-of-type {\n",
              "        vertical-align: middle;\n",
              "    }\n",
              "\n",
              "    .dataframe tbody tr th {\n",
              "        vertical-align: top;\n",
              "    }\n",
              "\n",
              "    .dataframe thead th {\n",
              "        text-align: right;\n",
              "    }\n",
              "</style>\n",
              "<table border=\"1\" class=\"dataframe\">\n",
              "  <thead>\n",
              "    <tr style=\"text-align: right;\">\n",
              "      <th></th>\n",
              "      <th>id</th>\n",
              "      <th>original</th>\n",
              "      <th>edit</th>\n",
              "      <th>grades</th>\n",
              "      <th>meanGrade</th>\n",
              "      <th>old</th>\n",
              "      <th>cos_distance</th>\n",
              "      <th>edit_word_corpus_rep</th>\n",
              "      <th>old_word_corpus_rep</th>\n",
              "    </tr>\n",
              "  </thead>\n",
              "  <tbody>\n",
              "  </tbody>\n",
              "</table>\n",
              "</div>"
            ],
            "text/plain": [
              "Empty DataFrame\n",
              "Columns: [id, original, edit, grades, meanGrade, old, cos_distance, edit_word_corpus_rep, old_word_corpus_rep]\n",
              "Index: []"
            ]
          },
          "metadata": {
            "tags": []
          },
          "execution_count": 63
        }
      ]
    },
    {
      "cell_type": "code",
      "metadata": {
        "id": "VgHJ5bt6LP1K",
        "colab": {
          "base_uri": "https://localhost:8080/"
        },
        "outputId": "da083af9-18be-46fe-b40f-6439c48a849b"
      },
      "source": [
        "indexNames = train_embedding_df[(train_embedding_df['cos_distance'] == 0.0)].index\n",
        "# Delete these row indexes from dataFrame\n",
        "train_embedding_df.drop(indexNames , inplace=True)\n",
        "train_embedding_df.reset_index(inplace=True,drop=True)\n",
        "pd.set_option('display.max_rows', 20)"
      ],
      "execution_count": null,
      "outputs": [
        {
          "output_type": "stream",
          "text": [
            "/usr/local/lib/python3.6/dist-packages/pandas/core/frame.py:4174: SettingWithCopyWarning: \n",
            "A value is trying to be set on a copy of a slice from a DataFrame\n",
            "\n",
            "See the caveats in the documentation: https://pandas.pydata.org/pandas-docs/stable/user_guide/indexing.html#returning-a-view-versus-a-copy\n",
            "  errors=errors,\n"
          ],
          "name": "stderr"
        }
      ]
    },
    {
      "cell_type": "code",
      "metadata": {
        "colab": {
          "base_uri": "https://localhost:8080/"
        },
        "id": "ytVlHPpqdeIq",
        "outputId": "9d6eb385-5b3d-4851-dcef-22986805d662"
      },
      "source": [
        "indexNames = dev_embedding_df[(dev_embedding_df['cos_distance'] == 0.0)].index\n",
        "# Delete these row indexes from dataFrame\n",
        "dev_embedding_df.drop(indexNames , inplace=True)\n",
        "dev_embedding_df.reset_index(inplace=True,drop=True)\n",
        "pd.set_option('display.max_rows', 20)"
      ],
      "execution_count": null,
      "outputs": [
        {
          "output_type": "stream",
          "text": [
            "/usr/local/lib/python3.6/dist-packages/pandas/core/frame.py:4174: SettingWithCopyWarning: \n",
            "A value is trying to be set on a copy of a slice from a DataFrame\n",
            "\n",
            "See the caveats in the documentation: https://pandas.pydata.org/pandas-docs/stable/user_guide/indexing.html#returning-a-view-versus-a-copy\n",
            "  errors=errors,\n"
          ],
          "name": "stderr"
        }
      ]
    },
    {
      "cell_type": "code",
      "metadata": {
        "colab": {
          "base_uri": "https://localhost:8080/",
          "height": 49
        },
        "id": "iUx6AStPdrBS",
        "outputId": "9fd60616-6309-4a2e-e974-d7c2cfdd6af0"
      },
      "source": [
        "dev_embedding_df.loc[dev_embedding_df.cos_distance == 0.0]"
      ],
      "execution_count": null,
      "outputs": [
        {
          "output_type": "execute_result",
          "data": {
            "text/html": [
              "<div>\n",
              "<style scoped>\n",
              "    .dataframe tbody tr th:only-of-type {\n",
              "        vertical-align: middle;\n",
              "    }\n",
              "\n",
              "    .dataframe tbody tr th {\n",
              "        vertical-align: top;\n",
              "    }\n",
              "\n",
              "    .dataframe thead th {\n",
              "        text-align: right;\n",
              "    }\n",
              "</style>\n",
              "<table border=\"1\" class=\"dataframe\">\n",
              "  <thead>\n",
              "    <tr style=\"text-align: right;\">\n",
              "      <th></th>\n",
              "      <th>id</th>\n",
              "      <th>original</th>\n",
              "      <th>edit</th>\n",
              "      <th>grades</th>\n",
              "      <th>meanGrade</th>\n",
              "      <th>old</th>\n",
              "      <th>cos_distance</th>\n",
              "      <th>edit_word_corpus_rep</th>\n",
              "      <th>old_word_corpus_rep</th>\n",
              "    </tr>\n",
              "  </thead>\n",
              "  <tbody>\n",
              "  </tbody>\n",
              "</table>\n",
              "</div>"
            ],
            "text/plain": [
              "Empty DataFrame\n",
              "Columns: [id, original, edit, grades, meanGrade, old, cos_distance, edit_word_corpus_rep, old_word_corpus_rep]\n",
              "Index: []"
            ]
          },
          "metadata": {
            "tags": []
          },
          "execution_count": 64
        }
      ]
    },
    {
      "cell_type": "code",
      "metadata": {
        "colab": {
          "base_uri": "https://localhost:8080/"
        },
        "id": "woJbN9h_LSl3",
        "outputId": "d559b820-73fd-4ae3-ebb7-c7950b417f9f"
      },
      "source": [
        "from sklearn import linear_model\n",
        "from sklearn.metrics import mean_squared_error\n",
        "model = linear_model.LinearRegression()\n",
        "#train, test = train_test_split(train_df, test_size=0.2)\n",
        "dist_train = np.reshape(train_embedding_df.cos_distance.to_list(), (-1,1))\n",
        "dist_test = np.reshape(dev_embedding_df.cos_distance.to_list(), (-1,1))\n",
        "y = np.reshape(train_embedding_df.meanGrade.to_list(), (-1,1))\n",
        "y_test = np.reshape(dev_embedding_df.meanGrade.to_list(), (-1,1))\n",
        "#print(train.cos_distance)\n",
        "\n",
        "model.fit(dist_train, y)\n",
        "predictions = model.predict(dist_test)\n",
        "\n",
        "mean_squared_error(y_test, predictions, squared = False)\n"
      ],
      "execution_count": null,
      "outputs": [
        {
          "output_type": "execute_result",
          "data": {
            "text/plain": [
              "0.5801023721713078"
            ]
          },
          "metadata": {
            "tags": []
          },
          "execution_count": 65
        }
      ]
    },
    {
      "cell_type": "code",
      "metadata": {
        "colab": {
          "base_uri": "https://localhost:8080/",
          "height": 282
        },
        "id": "KXlHG7psIFl_",
        "outputId": "c0650cb9-23dc-487f-acd3-3acd3235f10b"
      },
      "source": [
        "plt.scatter(predictions,y_test)"
      ],
      "execution_count": null,
      "outputs": [
        {
          "output_type": "execute_result",
          "data": {
            "text/plain": [
              "<matplotlib.collections.PathCollection at 0x7fecc6a6f0f0>"
            ]
          },
          "metadata": {
            "tags": []
          },
          "execution_count": 66
        },
        {
          "output_type": "display_data",
          "data": {
            "image/png": "[encoded data removed]",
            "text/plain": [
              "<Figure size 432x288 with 1 Axes>"
            ]
          },
          "metadata": {
            "tags": [],
            "needs_background": "light"
          }
        }
      ]
    },
    {
      "cell_type": "code",
      "metadata": {
        "colab": {
          "base_uri": "https://localhost:8080/",
          "height": 476
        },
        "id": "IYNYkvxEQ-FX",
        "outputId": "56369e69-dbf9-4300-cbcd-b3c5ca56126f"
      },
      "source": [
        "#Only look at headlines where both original word and edited word has an embedding\n",
        "filt_train_df = train_embedding_df[train_embedding_df['edit_word_corpus_rep'] != '<OOV>'][train_embedding_df['old_word_corpus_rep'] != '<OOV>']\n",
        "filt_train_df = filt_train_df.reset_index(drop = True)\n",
        "print(len(filt_train_df))\n",
        "filt_train_df"
      ],
      "execution_count": null,
      "outputs": [
        {
          "output_type": "stream",
          "text": [
            "3607\n"
          ],
          "name": "stdout"
        },
        {
          "output_type": "stream",
          "text": [
            "/usr/local/lib/python3.6/dist-packages/ipykernel_launcher.py:2: UserWarning: Boolean Series key will be reindexed to match DataFrame index.\n",
            "  \n"
          ],
          "name": "stderr"
        },
        {
          "output_type": "execute_result",
          "data": {
            "text/html": [
              "<div>\n",
              "<style scoped>\n",
              "    .dataframe tbody tr th:only-of-type {\n",
              "        vertical-align: middle;\n",
              "    }\n",
              "\n",
              "    .dataframe tbody tr th {\n",
              "        vertical-align: top;\n",
              "    }\n",
              "\n",
              "    .dataframe thead th {\n",
              "        text-align: right;\n",
              "    }\n",
              "</style>\n",
              "<table border=\"1\" class=\"dataframe\">\n",
              "  <thead>\n",
              "    <tr style=\"text-align: right;\">\n",
              "      <th></th>\n",
              "      <th>id</th>\n",
              "      <th>original</th>\n",
              "      <th>edit</th>\n",
              "      <th>grades</th>\n",
              "      <th>meanGrade</th>\n",
              "      <th>old</th>\n",
              "      <th>cos_distance</th>\n",
              "      <th>edit_word_corpus_rep</th>\n",
              "      <th>old_word_corpus_rep</th>\n",
              "    </tr>\n",
              "  </thead>\n",
              "  <tbody>\n",
              "    <tr>\n",
              "      <th>0</th>\n",
              "      <td>7533</td>\n",
              "      <td>‘ Straight up stupid , ' ' incompetent ' and '...</td>\n",
              "      <td>Bully</td>\n",
              "      <td>11100</td>\n",
              "      <td>0.6</td>\n",
              "      <td>Economist</td>\n",
              "      <td>1.121741</td>\n",
              "      <td>bully</td>\n",
              "      <td>economist</td>\n",
              "    </tr>\n",
              "    <tr>\n",
              "      <th>1</th>\n",
              "      <td>1950</td>\n",
              "      <td>Trump ’s Latest Surprise : Shutdown Might Be a...</td>\n",
              "      <td>Movie</td>\n",
              "      <td>22211</td>\n",
              "      <td>1.6</td>\n",
              "      <td>Idea</td>\n",
              "      <td>1.104112</td>\n",
              "      <td>movie</td>\n",
              "      <td>idea</td>\n",
              "    </tr>\n",
              "    <tr>\n",
              "      <th>2</th>\n",
              "      <td>1520</td>\n",
              "      <td>Trump loves Civil War memorials so much that h...</td>\n",
              "      <td>remembered</td>\n",
              "      <td>21100</td>\n",
              "      <td>0.8</td>\n",
              "      <td>created</td>\n",
              "      <td>1.030159</td>\n",
              "      <td>remembered</td>\n",
              "      <td>created</td>\n",
              "    </tr>\n",
              "    <tr>\n",
              "      <th>3</th>\n",
              "      <td>6976</td>\n",
              "      <td>China says it will never allow war or chaos on...</td>\n",
              "      <td>snow</td>\n",
              "      <td>31110</td>\n",
              "      <td>1.2</td>\n",
              "      <td>war</td>\n",
              "      <td>0.912631</td>\n",
              "      <td>snow</td>\n",
              "      <td>war</td>\n",
              "    </tr>\n",
              "    <tr>\n",
              "      <th>4</th>\n",
              "      <td>13430</td>\n",
              "      <td>Kanye West under fire after saying slavery was...</td>\n",
              "      <td>water</td>\n",
              "      <td>11000</td>\n",
              "      <td>0.4</td>\n",
              "      <td>fire</td>\n",
              "      <td>1.062934</td>\n",
              "      <td>water</td>\n",
              "      <td>fire</td>\n",
              "    </tr>\n",
              "    <tr>\n",
              "      <th>...</th>\n",
              "      <td>...</td>\n",
              "      <td>...</td>\n",
              "      <td>...</td>\n",
              "      <td>...</td>\n",
              "      <td>...</td>\n",
              "      <td>...</td>\n",
              "      <td>...</td>\n",
              "      <td>...</td>\n",
              "      <td>...</td>\n",
              "    </tr>\n",
              "    <tr>\n",
              "      <th>3602</th>\n",
              "      <td>13314</td>\n",
              "      <td>Trump Defends Obama 's For-Profit College Crac...</td>\n",
              "      <td>Presidency</td>\n",
              "      <td>22100</td>\n",
              "      <td>1.0</td>\n",
              "      <td>College</td>\n",
              "      <td>0.992828</td>\n",
              "      <td>presidency</td>\n",
              "      <td>college</td>\n",
              "    </tr>\n",
              "    <tr>\n",
              "      <th>3603</th>\n",
              "      <td>4076</td>\n",
              "      <td>Lieberman emerges as frontrunner for FBI post</td>\n",
              "      <td>relay</td>\n",
              "      <td>11100</td>\n",
              "      <td>0.6</td>\n",
              "      <td>post</td>\n",
              "      <td>1.051518</td>\n",
              "      <td>relay</td>\n",
              "      <td>post</td>\n",
              "    </tr>\n",
              "    <tr>\n",
              "      <th>3604</th>\n",
              "      <td>9401</td>\n",
              "      <td>Trump Invites Rodrigo Duterte to the White House</td>\n",
              "      <td>big</td>\n",
              "      <td>22100</td>\n",
              "      <td>1.0</td>\n",
              "      <td>White</td>\n",
              "      <td>0.802657</td>\n",
              "      <td>big</td>\n",
              "      <td>white</td>\n",
              "    </tr>\n",
              "    <tr>\n",
              "      <th>3605</th>\n",
              "      <td>7937</td>\n",
              "      <td>Trump says the ' alt-left ' bears some respons...</td>\n",
              "      <td>peace</td>\n",
              "      <td>11100</td>\n",
              "      <td>0.6</td>\n",
              "      <td>violence</td>\n",
              "      <td>1.001322</td>\n",
              "      <td>peace</td>\n",
              "      <td>violence</td>\n",
              "    </tr>\n",
              "    <tr>\n",
              "      <th>3606</th>\n",
              "      <td>5910</td>\n",
              "      <td>Puerto Rico Bondholders Reject Island 's Restr...</td>\n",
              "      <td>Rum</td>\n",
              "      <td>10000</td>\n",
              "      <td>0.2</td>\n",
              "      <td>Offer</td>\n",
              "      <td>1.008703</td>\n",
              "      <td>rum</td>\n",
              "      <td>offer</td>\n",
              "    </tr>\n",
              "  </tbody>\n",
              "</table>\n",
              "<p>3607 rows × 9 columns</p>\n",
              "</div>"
            ],
            "text/plain": [
              "         id  ... old_word_corpus_rep\n",
              "0      7533  ...           economist\n",
              "1      1950  ...                idea\n",
              "2      1520  ...             created\n",
              "3      6976  ...                 war\n",
              "4     13430  ...                fire\n",
              "...     ...  ...                 ...\n",
              "3602  13314  ...             college\n",
              "3603   4076  ...                post\n",
              "3604   9401  ...               white\n",
              "3605   7937  ...            violence\n",
              "3606   5910  ...               offer\n",
              "\n",
              "[3607 rows x 9 columns]"
            ]
          },
          "metadata": {
            "tags": []
          },
          "execution_count": 67
        }
      ]
    },
    {
      "cell_type": "code",
      "metadata": {
        "colab": {
          "base_uri": "https://localhost:8080/",
          "height": 476
        },
        "id": "qfeOjG99eUHI",
        "outputId": "ad5cc7fc-b5b1-4493-a8ea-0c03bf11ad5f"
      },
      "source": [
        "#Only look at headlines where both original word and edited word has an embedding\n",
        "filt_dev_df = dev_embedding_df[dev_embedding_df['edit_word_corpus_rep'] != '<OOV>'][dev_embedding_df['old_word_corpus_rep'] != '<OOV>']\n",
        "filt_dev_df = filt_dev_df.reset_index(drop = True)\n",
        "print(len(filt_dev_df))\n",
        "filt_dev_df"
      ],
      "execution_count": null,
      "outputs": [
        {
          "output_type": "stream",
          "text": [
            "1190\n"
          ],
          "name": "stdout"
        },
        {
          "output_type": "stream",
          "text": [
            "/usr/local/lib/python3.6/dist-packages/ipykernel_launcher.py:2: UserWarning: Boolean Series key will be reindexed to match DataFrame index.\n",
            "  \n"
          ],
          "name": "stderr"
        },
        {
          "output_type": "execute_result",
          "data": {
            "text/html": [
              "<div>\n",
              "<style scoped>\n",
              "    .dataframe tbody tr th:only-of-type {\n",
              "        vertical-align: middle;\n",
              "    }\n",
              "\n",
              "    .dataframe tbody tr th {\n",
              "        vertical-align: top;\n",
              "    }\n",
              "\n",
              "    .dataframe thead th {\n",
              "        text-align: right;\n",
              "    }\n",
              "</style>\n",
              "<table border=\"1\" class=\"dataframe\">\n",
              "  <thead>\n",
              "    <tr style=\"text-align: right;\">\n",
              "      <th></th>\n",
              "      <th>id</th>\n",
              "      <th>original</th>\n",
              "      <th>edit</th>\n",
              "      <th>grades</th>\n",
              "      <th>meanGrade</th>\n",
              "      <th>old</th>\n",
              "      <th>cos_distance</th>\n",
              "      <th>edit_word_corpus_rep</th>\n",
              "      <th>old_word_corpus_rep</th>\n",
              "    </tr>\n",
              "  </thead>\n",
              "  <tbody>\n",
              "    <tr>\n",
              "      <th>0</th>\n",
              "      <td>8694</td>\n",
              "      <td>One tiny sign of hope : At least Donald Trump ...</td>\n",
              "      <td>personal</td>\n",
              "      <td>21000</td>\n",
              "      <td>0.6</td>\n",
              "      <td>defense</td>\n",
              "      <td>0.906680</td>\n",
              "      <td>personal</td>\n",
              "      <td>defense</td>\n",
              "    </tr>\n",
              "    <tr>\n",
              "      <th>1</th>\n",
              "      <td>13784</td>\n",
              "      <td>Austrian Chancellor may have been one of those...</td>\n",
              "      <td>brewery</td>\n",
              "      <td>11000</td>\n",
              "      <td>0.4</td>\n",
              "      <td>Chancellor</td>\n",
              "      <td>0.955180</td>\n",
              "      <td>brewery</td>\n",
              "      <td>chancellor</td>\n",
              "    </tr>\n",
              "    <tr>\n",
              "      <th>2</th>\n",
              "      <td>4795</td>\n",
              "      <td>Sea Shepherd claims it caught Japanese fleet w...</td>\n",
              "      <td>urchin</td>\n",
              "      <td>21100</td>\n",
              "      <td>0.8</td>\n",
              "      <td>Shepherd</td>\n",
              "      <td>0.997085</td>\n",
              "      <td>urchin</td>\n",
              "      <td>shepherd</td>\n",
              "    </tr>\n",
              "    <tr>\n",
              "      <th>3</th>\n",
              "      <td>2258</td>\n",
              "      <td>Trump heads overseas , turmoil in his wake</td>\n",
              "      <td>ear</td>\n",
              "      <td>32210</td>\n",
              "      <td>1.6</td>\n",
              "      <td>wake</td>\n",
              "      <td>0.964972</td>\n",
              "      <td>ear</td>\n",
              "      <td>wake</td>\n",
              "    </tr>\n",
              "    <tr>\n",
              "      <th>4</th>\n",
              "      <td>11514</td>\n",
              "      <td>Rep. DeSantis : Shooting Suspect Asked if ‘ Re...</td>\n",
              "      <td>Cake</td>\n",
              "      <td>10000</td>\n",
              "      <td>0.2</td>\n",
              "      <td>Field</td>\n",
              "      <td>0.957824</td>\n",
              "      <td>cake</td>\n",
              "      <td>field</td>\n",
              "    </tr>\n",
              "    <tr>\n",
              "      <th>...</th>\n",
              "      <td>...</td>\n",
              "      <td>...</td>\n",
              "      <td>...</td>\n",
              "      <td>...</td>\n",
              "      <td>...</td>\n",
              "      <td>...</td>\n",
              "      <td>...</td>\n",
              "      <td>...</td>\n",
              "      <td>...</td>\n",
              "    </tr>\n",
              "    <tr>\n",
              "      <th>1185</th>\n",
              "      <td>8635</td>\n",
              "      <td>Tony Blair says UK should launch military acti...</td>\n",
              "      <td>tub</td>\n",
              "      <td>11000</td>\n",
              "      <td>0.4</td>\n",
              "      <td>Syria</td>\n",
              "      <td>0.983676</td>\n",
              "      <td>tub</td>\n",
              "      <td>syria</td>\n",
              "    </tr>\n",
              "    <tr>\n",
              "      <th>1186</th>\n",
              "      <td>228</td>\n",
              "      <td>Senate GOP health care bill vote : The whip co...</td>\n",
              "      <td>cream</td>\n",
              "      <td>3221111000</td>\n",
              "      <td>1.1</td>\n",
              "      <td>count</td>\n",
              "      <td>1.014655</td>\n",
              "      <td>cream</td>\n",
              "      <td>count</td>\n",
              "    </tr>\n",
              "    <tr>\n",
              "      <th>1187</th>\n",
              "      <td>14054</td>\n",
              "      <td>Stunning details reveal how Israel ’s spy agen...</td>\n",
              "      <td>chicken</td>\n",
              "      <td>10000</td>\n",
              "      <td>0.2</td>\n",
              "      <td>heist</td>\n",
              "      <td>1.035733</td>\n",
              "      <td>chicken</td>\n",
              "      <td>heist</td>\n",
              "    </tr>\n",
              "    <tr>\n",
              "      <th>1188</th>\n",
              "      <td>4772</td>\n",
              "      <td>The evangelical slippery slope , from Ronald R...</td>\n",
              "      <td>soap</td>\n",
              "      <td>22100</td>\n",
              "      <td>1.0</td>\n",
              "      <td>slope</td>\n",
              "      <td>0.937799</td>\n",
              "      <td>soap</td>\n",
              "      <td>slope</td>\n",
              "    </tr>\n",
              "    <tr>\n",
              "      <th>1189</th>\n",
              "      <td>7345</td>\n",
              "      <td>Donald Trump ’s belief that Obamacare is “ exp...</td>\n",
              "      <td>ignorance</td>\n",
              "      <td>20000</td>\n",
              "      <td>0.4</td>\n",
              "      <td>belief</td>\n",
              "      <td>1.008423</td>\n",
              "      <td>ignorance</td>\n",
              "      <td>belief</td>\n",
              "    </tr>\n",
              "  </tbody>\n",
              "</table>\n",
              "<p>1190 rows × 9 columns</p>\n",
              "</div>"
            ],
            "text/plain": [
              "         id  ... old_word_corpus_rep\n",
              "0      8694  ...             defense\n",
              "1     13784  ...          chancellor\n",
              "2      4795  ...            shepherd\n",
              "3      2258  ...                wake\n",
              "4     11514  ...               field\n",
              "...     ...  ...                 ...\n",
              "1185   8635  ...               syria\n",
              "1186    228  ...               count\n",
              "1187  14054  ...               heist\n",
              "1188   4772  ...               slope\n",
              "1189   7345  ...              belief\n",
              "\n",
              "[1190 rows x 9 columns]"
            ]
          },
          "metadata": {
            "tags": []
          },
          "execution_count": 68
        }
      ]
    },
    {
      "cell_type": "code",
      "metadata": {
        "colab": {
          "base_uri": "https://localhost:8080/"
        },
        "id": "JNMtWQdfHsY4",
        "outputId": "ebd72b67-d33b-4ffc-8b08-27d34e6af9a3"
      },
      "source": [
        "#Run test only only edited headline where edit was previously seen\n",
        "model_filt = linear_model.LinearRegression()\n",
        "#train, test = train_test_split(filt_train_df,test_size = 0.2)\n",
        "dist_train = np.reshape(filt_train_df.cos_distance.to_list(), (-1,1))\n",
        "dist_test = np.reshape(filt_dev_df.cos_distance.to_list(), (-1,1))\n",
        "y = np.reshape(filt_train_df.meanGrade.to_list(), (-1,1))\n",
        "y_test = np.reshape(filt_dev_df.meanGrade.to_list(), (-1,1))\n",
        "#print(train.cos_distance)\n",
        "\n",
        "model.fit(dist_train, y)\n",
        "predictions = model.predict(dist_test)\n",
        "\n",
        "mean_squared_error(y_test, predictions, squared = False)"
      ],
      "execution_count": null,
      "outputs": [
        {
          "output_type": "execute_result",
          "data": {
            "text/plain": [
              "0.5724295258266255"
            ]
          },
          "metadata": {
            "tags": []
          },
          "execution_count": 69
        }
      ]
    },
    {
      "cell_type": "code",
      "metadata": {
        "colab": {
          "base_uri": "https://localhost:8080/",
          "height": 282
        },
        "id": "Z7jxXc6uLU6F",
        "outputId": "badbfeb9-7ddb-40d3-ac5c-2ea1586eabef"
      },
      "source": [
        "plt.scatter(predictions,y_test)"
      ],
      "execution_count": null,
      "outputs": [
        {
          "output_type": "execute_result",
          "data": {
            "text/plain": [
              "<matplotlib.collections.PathCollection at 0x7fecc6a8aac8>"
            ]
          },
          "metadata": {
            "tags": []
          },
          "execution_count": 70
        },
        {
          "output_type": "display_data",
          "data": {
            "image/png": "[encoded data removed]",
            "text/plain": [
              "<Figure size 432x288 with 1 Axes>"
            ]
          },
          "metadata": {
            "tags": [],
            "needs_background": "light"
          }
        }
      ]
    },
    {
      "cell_type": "markdown",
      "metadata": {
        "id": "7I8pLd4JOtXQ"
      },
      "source": [
        "## Predictions by BILSTM"
      ]
    },
    {
      "cell_type": "code",
      "metadata": {
        "id": "bjQTRFwKRosF"
      },
      "source": [
        "# To create our vocab\n",
        "\n",
        "def custom_tokenizer(nlp):\n",
        "    \n",
        "    replacement_re = re.compile(r'^<*/>') #do not split replacement format\n",
        "    prefix_re = re.compile(r'''^[\\[\\(\"]''')\n",
        "    suffix_re = re.compile(r''',[\\]\\)\"']$''')\n",
        "    infix_re = re.compile(r'''[-\\,.~]''')\n",
        "    \n",
        "    \n",
        "    return Tokenizer(nlp.vocab,\n",
        "                     token_match = replacement_re.match,\n",
        "                     prefix_search=prefix_re.search,\n",
        "                     suffix_search=suffix_re.search,\n",
        "                     infix_finditer = infix_re.finditer  \n",
        "                    )\n",
        "\n",
        "\n",
        "\n",
        "def preprocessor(data,edits):\n",
        "    \"\"\"\n",
        "    Creating a corpus of all the tokens used\n",
        "    \"\"\"\n",
        "    punctuation = \"\\\":\\.,\"\n",
        "    nlp = spacy.load(\"en_core_web_sm\")\n",
        "    nlp.tokenizer = custom_tokenizer(nlp)\n",
        "    \n",
        "    tokenized_corpus_1= [] # Let us put the tokenized corpus in a list\n",
        "    tokenized_corpus_2= []\n",
        "    \n",
        "    \n",
        "    for i, sentence in enumerate(data):\n",
        "\n",
        "        sentence = sentence.lower()\n",
        "        tokenized_sentence_1 = []\n",
        "        tokenized_sentence_2 = []\n",
        "\n",
        "        for token in nlp(sentence): # simplest split is\n",
        "\n",
        "            if token.text in punctuation:\n",
        "                continue\n",
        "            else:\n",
        "                \n",
        "                if token.text[0] == '<':\n",
        "                    tokenized_sentence_1.append(\"???\")\n",
        "                    tokenized_sentence_2.append(\"???\")\n",
        "                    \n",
        "                    tokenized_sentence_2.append(edits[i])\n",
        "\n",
        "                    \n",
        "                    tokenized_sentence_1.append(token.text[1:-2])\n",
        "                else:\n",
        "                    tokenized_sentence_2.append(token.text)\n",
        "                \n",
        "                    tokenized_sentence_1.append(token.text)\n",
        "\n",
        "\n",
        "        tokenized_corpus_1.append(tokenized_sentence_1)\n",
        "        tokenized_corpus_2.append(tokenized_sentence_2)\n",
        "        #print(tokenized_corpus_1[:5])\n",
        "        #print(tokenized_corpus_2[:5])\n",
        "\n",
        "    # Create single list of all vocabulary\n",
        "    vocabulary = []  # Let us put all the tokens (mostly words) appearing in the vocabulary in a list\n",
        "\n",
        "    for sentence in tokenized_corpus_1:\n",
        "\n",
        "        for token in sentence:\n",
        "\n",
        "            if token not in vocabulary:\n",
        "\n",
        "                if True:\n",
        "                    vocabulary.append(token)\n",
        "    \n",
        "    for token in edits:\n",
        "        \n",
        "        if token not in vocabulary:\n",
        "            \n",
        "            vocabulary.append(token)\n",
        "\n",
        "    return vocabulary, tokenized_corpus_1, tokenized_corpus_2"
      ],
      "execution_count": null,
      "outputs": []
    },
    {
      "cell_type": "code",
      "metadata": {
        "colab": {
          "base_uri": "https://localhost:8080/"
        },
        "id": "sJIqgkQuOyqe",
        "outputId": "6773e271-0c54-408b-a0ca-15d9eadcc341"
      },
      "source": [
        "## Approach 1 code, using functions defined above:\n",
        "\n",
        "# We set our training data and test data\n",
        "training_data = train_df['original']\n",
        "test_data = test_df['original']\n",
        "\n",
        "training_vocab, training_tokenized_corpus_1,training_tokenized_corpus_2 =  preprocessor(training_data,train_df['edit'])\n",
        "test_vocab, test_tokenized_corpus_1,test_tokenized_corpus_2 =  preprocessor(test_data,test_df['edit'])\n",
        "\n",
        "joint_vocab, joint_tokenized_corpus_1,joint_tokenized_corpus_2 = preprocessor(pd.concat([training_data, test_data]),pd.concat([train_df['edit'],test_df['edit']],ignore_index = True))\n",
        "\n",
        "print(\"Vocabulary joined creation - done\")\n",
        "\n",
        "\n",
        "\n",
        "print(\"Vocab created.\")"
      ],
      "execution_count": null,
      "outputs": [
        {
          "output_type": "stream",
          "text": [
            "Vocabulary joined creation - done\n",
            "Vocab created.\n"
          ],
          "name": "stdout"
        }
      ]
    },
    {
      "cell_type": "code",
      "metadata": {
        "id": "9swW2EdpPIE4",
        "colab": {
          "base_uri": "https://localhost:8080/",
          "height": 147
        },
        "outputId": "91d3bee7-1b91-41d6-a36b-7e607a48fcf2"
      },
      "source": [
        "# We create representations for our tokens\n",
        "'''\n",
        "wvecs = [] # word vectors\n",
        "\n",
        "#Add special character -> embedding vector of ones \n",
        "wvecs.append(np.ones(128))\n",
        "\n",
        "for word in joint_vocab:\n",
        "    idx = word2idx[word]\n",
        "    one_hot = get_one_hot([idx])\n",
        "    wvecs.append8\n",
        "\n",
        "# This is a large file, it will take a while to load in the memory!\n",
        "with codecs.open('glove.6B.100d.txt', 'r','utf-8') as f:\n",
        "  index = 1 #zero padding\n",
        "  for line in f.readlines():\n",
        "    # Ignore the first line - first line typically contains vocab, dimensionality\n",
        "    if len(line.strip().split()) > 3:\n",
        "      word = line.strip().split()[0]\n",
        "      if word in joint_vocab:\n",
        "          (word, vec) = (word,\n",
        "                     list(map(float,line.strip().split()[1:])))\n",
        "          wvecs.append(vec)\n",
        "          word2idx.append((word, index))\n",
        "          idx2word.append((index, word))\n",
        "          index += 1\n",
        "\n",
        "wvecs = np.array(wvecs)\n",
        "word2idx = dict(word2idx)\n",
        "idx2word = dict(idx2word)\n"
      ],
      "execution_count": null,
      "outputs": [
        {
          "output_type": "error",
          "ename": "SyntaxError",
          "evalue": "ignored",
          "traceback": [
            "\u001b[0;36m  File \u001b[0;32m\"<ipython-input-148-fe73c7ecf41a>\"\u001b[0;36m, line \u001b[0;32m30\u001b[0m\n\u001b[0;31m    idx2word = dict(idx2word)\u001b[0m\n\u001b[0m                             \n^\u001b[0m\n\u001b[0;31mSyntaxError\u001b[0m\u001b[0;31m:\u001b[0m EOF while scanning triple-quoted string literal\n"
          ]
        }
      ]
    },
    {
      "cell_type": "code",
      "metadata": {
        "id": "yAgIgjE-USmS"
      },
      "source": [
        "\n",
        "\n",
        "vectorized_seqs_1 = [[word2idx[tok] if tok in word2idx else word2idx[OOV_token] for tok in seq] for seq in training_tokenized_corpus_1]\n",
        "vectorized_seqs_2 = [[word2idx[tok] if tok in word2idx else word2idx[OOV_token] for tok in seq] for seq in training_tokenized_corpus_2]\n",
        "\n",
        "\n",
        "# To avoid any sentences being empty (if no words match to our word embeddings)\n",
        "vectorized_seqs_1 = [x if len(x) > 0 else [0] for x in vectorized_seqs_1]\n",
        "vectorized_seqs_2 = [x if len(x) > 0 else [0] for x in vectorized_seqs_2]\n"
      ],
      "execution_count": null,
      "outputs": []
    },
    {
      "cell_type": "code",
      "metadata": {
        "id": "mJZJC2KJUpST"
      },
      "source": [
        "INPUT_DIM = len(word2idx)\n",
        "EMBEDDING_DIM = 128\n",
        "\n",
        "BATCH_SIZE = 256\n",
        "\n",
        "model = BiLSTM_double(EMBEDDING_DIM, 50, INPUT_DIM, BATCH_SIZE, device)\n",
        "\n",
        "params = sum(p.numel() for p in model.parameters() if p.requires_grad)\n",
        "print(params)\n",
        "#print(\"Total number of parameters is: {​​}​​\".format(params))\n",
        "\n",
        "print(model)\n",
        "\n",
        "print(\"Model initialised.\")\n",
        "\n",
        "model.to(device)\n",
        "# We provide the model with our embeddings\n",
        "#x = np.concatenate((wvecs,wvecs),axis=1)\n",
        "model.embedding.weight.data.copy_(weights_matrix)"
      ],
      "execution_count": null,
      "outputs": []
    },
    {
      "cell_type": "code",
      "metadata": {
        "id": "6nmnvF_AV4YV"
      },
      "source": [
        "\n",
        "feature_1 = vectorized_seqs_1\n",
        "feature_2 = vectorized_seqs_2\n",
        "\n",
        "\n",
        "# 'feature' is a list of lists, each containing embedding IDs for word tokens\n",
        "#train_and_dev = Task1Dataset(feature, train_df['meanGrade'])\n",
        "train_and_dev = Task1Dataset_double(feature_1,feature_2, train_df['meanGrade'])\n",
        "\n",
        "train_examples = round(len(train_and_dev)*train_proportion)\n",
        "dev_examples = len(train_and_dev) - train_examples\n",
        "train_dataset, dev_dataset = random_split(train_and_dev,\n",
        "                                           (train_examples,\n",
        "                                            dev_examples))\n",
        "####Shuffle might need to be true. Check later\n",
        "train_loader = torch.utils.data.DataLoader(train_dataset, shuffle=True, batch_size=BATCH_SIZE, collate_fn=collate_fn_padd)\n",
        "\n",
        "dev_loader = torch.utils.data.DataLoader(dev_dataset, batch_size=BATCH_SIZE, collate_fn=collate_fn_padd)\n",
        "\n",
        "print(\"Dataloaders created.\")\n",
        "\n",
        "loss_fn = nn.MSELoss()\n",
        "loss_fn = loss_fn.to(device)\n",
        "#optimizer = torch.optim.Adam(model.parameters())\n",
        "optimizer = torch.optim.SGD(model.parameters(), lr=0.001, momentum=0.9)\n",
        "\n",
        "train_losses, valid_losses, _,_ = train(train_loader, dev_loader, model, epochs)\n",
        "plot(train_losses, valid_losses, len(train_losses))\n",
        "\n",
        "#Without stop words removal 0.6"
      ],
      "execution_count": null,
      "outputs": []
    },
    {
      "cell_type": "code",
      "metadata": {
        "id": "3ewuBJ2dz6iV"
      },
      "source": [
        "#Maybe reduce number of layers"
      ],
      "execution_count": null,
      "outputs": []
    },
    {
      "cell_type": "code",
      "metadata": {
        "id": "vRFOiKOYXPq7"
      },
      "source": [
        "len(dev_loader)"
      ],
      "execution_count": null,
      "outputs": []
    },
    {
      "cell_type": "code",
      "metadata": {
        "id": "lUVBvYF7Wj95"
      },
      "source": [
        "model.eval()\n",
        "predictions_plot = []  \n",
        "target_plot = []\n",
        "\n",
        "with torch.no_grad():\n",
        "    for batch in dev_loader:\n",
        "        feature, target = batch\n",
        "        feature_1= feature[0].to(device)\n",
        "        feature_2 = feature[1].to(device)\n",
        "        target = target.to(device)\n",
        "\n",
        "        feature = (feature_1, feature_2)\n",
        "\n",
        "        # for RNN:\n",
        "        model.batch_size = target.shape[0]\n",
        "        model.hidden_1 = model.init_hidden()\n",
        "        model.hidden_2 = model.init_hidden()\n",
        "\n",
        "        predictions = model(feature).squeeze(1)\n",
        "\n",
        "        predictions_plot.append(predictions.detach().cpu().numpy())\n",
        "        target_plot.append(target.detach().cpu().numpy())\n"
      ],
      "execution_count": null,
      "outputs": []
    },
    {
      "cell_type": "code",
      "metadata": {
        "id": "88jHuAKkY_44"
      },
      "source": [
        "#plt.scatter(np.flatten(predictions_plot), np.flatten(target_plot))\n",
        "pred = np.concatenate(predictions_plot, axis=0)\n",
        "trg = np.concatenate(target_plot, axis=0)"
      ],
      "execution_count": null,
      "outputs": []
    },
    {
      "cell_type": "code",
      "metadata": {
        "id": "XYzGJLLAalqM"
      },
      "source": [
        "plt.scatter(pred,trg)\n",
        "plt.axis('equal')"
      ],
      "execution_count": null,
      "outputs": []
    },
    {
      "cell_type": "markdown",
      "metadata": {
        "id": "uYSdwJ1XLVia"
      },
      "source": [
        "## Baseline given\n"
      ]
    },
    {
      "cell_type": "code",
      "metadata": {
        "id": "qK9C7EeEaRLc",
        "colab": {
          "base_uri": "https://localhost:8080/"
        },
        "outputId": "596ed31b-d4c4-47db-bd40-739276dbbd7e"
      },
      "source": [
        "train_and_dev = train_df['edit']\n",
        "train_proportion = 0.8\n",
        "training_data, dev_data, training_y, dev_y = train_test_split(train_df['edit'], train_df['meanGrade'],\n",
        "                                                                        test_size=(1-train_proportion),\n",
        "                                                                        random_state=42)\n",
        "\n",
        "# We train a Tf-idf model\n",
        "count_vect = CountVectorizer(stop_words='english')\n",
        "train_counts = count_vect.fit_transform(training_data)\n",
        "transformer = TfidfTransformer().fit(train_counts)\n",
        "transformer\n",
        "train_counts = transformer.transform(train_counts)\n",
        "regression_model = LinearRegression().fit(train_counts, training_y)\n",
        "print(train_counts)"
      ],
      "execution_count": null,
      "outputs": [
        {
          "output_type": "stream",
          "text": [
            "  (0, 6912)\t0.3196422657133493\n",
            "  (0, 6889)\t0.4635074138381324\n",
            "  (0, 6423)\t0.11278822224285272\n",
            "  (0, 5804)\t0.44285750586411565\n",
            "  (0, 5374)\t0.23652438242454743\n",
            "  (0, 5312)\t0.3400955840429778\n",
            "  (0, 4309)\t0.34740743437045796\n",
            "  (0, 4089)\t0.2845496729305107\n",
            "  (0, 3299)\t0.31761063288602626\n",
            "  (1, 6541)\t0.48194793383580115\n",
            "  (1, 5549)\t0.3204233579379913\n",
            "  (1, 5014)\t0.42370065991381706\n",
            "  (1, 2759)\t0.4595615370435467\n",
            "  (1, 2464)\t0.5237709472831734\n",
            "  (2, 6892)\t0.35794538379097757\n",
            "  (2, 6156)\t0.36483747544305006\n",
            "  (2, 5741)\t0.3829658592421385\n",
            "  (2, 5499)\t0.3419984129026347\n",
            "  (2, 4801)\t0.3829658592421385\n",
            "  (2, 4305)\t0.291413316187634\n",
            "  (2, 3322)\t0.313301064206565\n",
            "  (2, 2076)\t0.3110077361041403\n",
            "  (2, 1141)\t0.2206241510260133\n",
            "  (3, 6534)\t0.39337308644812724\n",
            "  (3, 6423)\t0.09734562388426601\n",
            "  :\t:\n",
            "  (7717, 6019)\t0.520234681094425\n",
            "  (7717, 5375)\t0.28639284053699743\n",
            "  (7717, 3451)\t0.4360369675276321\n",
            "  (7717, 3299)\t0.3331918391659665\n",
            "  (7717, 2782)\t0.46458301954981385\n",
            "  (7717, 2533)\t0.3610437600682453\n",
            "  (7718, 4700)\t0.400658806873244\n",
            "  (7718, 4635)\t0.5126970556930236\n",
            "  (7718, 3590)\t0.3448996293605981\n",
            "  (7718, 3569)\t0.35473412275396105\n",
            "  (7718, 3532)\t0.3569109378132053\n",
            "  (7718, 1359)\t0.4521468565066124\n",
            "  (7719, 4980)\t0.4205214064768076\n",
            "  (7719, 3410)\t0.3027977180838381\n",
            "  (7719, 3409)\t0.3930472980843201\n",
            "  (7719, 3372)\t0.3930472980843201\n",
            "  (7719, 212)\t0.40061526270871783\n",
            "  (7719, 56)\t0.4205214064768076\n",
            "  (7719, 0)\t0.2918425766313267\n",
            "  (7720, 6843)\t0.513093481562848\n",
            "  (7720, 6031)\t0.4297411912433994\n",
            "  (7720, 4854)\t0.3381402403225188\n",
            "  (7720, 3981)\t0.32744999099295835\n",
            "  (7720, 3347)\t0.4239023691800264\n",
            "  (7720, 3322)\t0.38833239679856807\n"
          ],
          "name": "stdout"
        }
      ]
    },
    {
      "cell_type": "code",
      "metadata": {
        "colab": {
          "base_uri": "https://localhost:8080/"
        },
        "id": "MyJFzk7aEwcd",
        "outputId": "574ac346-d713-48ef-e732-171ce4c3ecbe"
      },
      "source": [
        "mean = train_df['meanGrade'].mean()\n",
        "sum = 0\n",
        "for i in range(len(train_df['meanGrade'])):\n",
        "    sum += (mean - train_df['meanGrade'].loc[i])**2\n",
        "np.sqrt(sum / len(train_df['meanGrade']))"
      ],
      "execution_count": null,
      "outputs": [
        {
          "output_type": "execute_result",
          "data": {
            "text/plain": [
              "0.5836128526966657"
            ]
          },
          "metadata": {
            "tags": []
          },
          "execution_count": 70
        }
      ]
    },
    {
      "cell_type": "code",
      "metadata": {
        "id": "AInKATQT6pXE",
        "colab": {
          "base_uri": "https://localhost:8080/"
        },
        "outputId": "77b2b52a-2533-466d-dd35-2cea9b93e977"
      },
      "source": [
        "\n",
        "# Train predictions\n",
        "predicted_train = regression_model.predict(train_counts)\n",
        "\n",
        "# Calculate Tf-idf using train and dev, and validate model on dev:\n",
        "test_and_test_counts = count_vect.transform(train_and_dev)\n",
        "transformer = TfidfTransformer().fit(test_and_test_counts)\n",
        "\n",
        "test_counts = count_vect.transform(dev_data)\n",
        "\n",
        "test_counts = transformer.transform(test_counts)\n",
        "\n",
        "# Dev predictions\n",
        "predicted = regression_model.predict(test_counts)\n",
        "\n",
        "# We run the evaluation:\n",
        "print(\"\\nTrain performance:\")\n",
        "sse, mse, _ = model_performance(predicted_train, training_y, True)\n",
        "\n",
        "print(\"\\nDev performance:\")\n",
        "sse, mse, _ = model_performance(predicted, dev_y, True)"
      ],
      "execution_count": null,
      "outputs": [
        {
          "output_type": "stream",
          "text": [
            "\n",
            "Train performance:\n",
            "| MSE: 0.16 | RMSE: 0.40 |\n",
            "\n",
            "Dev performance:\n",
            "| MSE: 0.48 | RMSE: 0.69 |\n"
          ],
          "name": "stdout"
        }
      ]
    },
    {
      "cell_type": "code",
      "metadata": {
        "id": "6lRZxL-gD40S"
      },
      "source": [
        "'''\n",
        "class BiLSTM(nn.Module):\n",
        "\n",
        "    def __init__(self, embedding_dim, hidden_dim, vocab_size, batch_size, device):\n",
        "        super(BiLSTM, self).__init__()\n",
        "        self.hidden_dim = hidden_dim\n",
        "        self.embedding_dim = embedding_dim\n",
        "        self.device = device\n",
        "        self.batch_size = batch_size\n",
        "        self.embedding = nn.Embedding(vocab_size, embedding_dim, padding_idx=0)\n",
        "\n",
        "        # The LSTM takes word embeddings as inputs, and outputs hidden states\n",
        "        # with dimensionality hidden_dim.\n",
        "        self.lstm = nn.LSTM(embedding_dim, hidden_dim, bidirectional=True)\n",
        "\n",
        "        # The linear layer that maps from hidden state space to tag space\n",
        "        self.hidden2label = nn.Linear(hidden_dim * 2, 1)\n",
        "        self.hidden = self.init_hidden()\n",
        "\n",
        "    def init_hidden(self):\n",
        "        # Before we've done anything, we dont have any hidden state.\n",
        "        # Refer to the Pytorch documentation to see exactly why they have this dimensionality.\n",
        "        # The axes semantics are (num_layers * num_directions, minibatch_size, hidden_dim)\n",
        "        return torch.zeros(2, self.batch_size, self.hidden_dim).to(self.device), \\\n",
        "               torch.zeros(2, self.batch_size, self.hidden_dim).to(self.device)\n",
        "\n",
        "    def forward(self, sentence):\n",
        "        embedded = self.embedding(sentence)\n",
        "        embedded = embedded.permute(1, 0, 2) #Needed for LSTMs\n",
        "\n",
        "        #lstm_out : (seq_len,batch_size,num_directions (2) * hidden_size (50))\n",
        "        #hidden : (num_layers * num_directions, batch_size,hidden_size)\n",
        "        lstm_out, self.hidden = self.lstm(\n",
        "            embedded.view(len(embedded), self.batch_size, self.embedding_dim), self.hidden)\n",
        "\n",
        "        #out : (1)\n",
        "        out = self.hidden2label(lstm_out[-1]\n",
        "        return out"
      ],
      "execution_count": null,
      "outputs": []
    },
    {
      "cell_type": "markdown",
      "metadata": {
        "id": "cSZbSxUbaRLc"
      },
      "source": [
        "#### Baseline for task 2"
      ]
    },
    {
      "cell_type": "code",
      "metadata": {
        "id": "QwwE7oj0aRLd"
      },
      "source": [
        "# Baseline for the task\n",
        "pred_baseline = torch.zeros(len(dev_y)) + np.mean(training_y)\n",
        "print(\"\\nBaseline performance:\")\n",
        "sse, mse = model_performance(pred_baseline, dev_y, True)"
      ],
      "execution_count": null,
      "outputs": []
    },
    {
      "cell_type": "code",
      "metadata": {
        "id": "-Vs5_tGhaRLd"
      },
      "source": [
        ""
      ],
      "execution_count": null,
      "outputs": []
    }
  ]
}