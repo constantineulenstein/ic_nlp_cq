{
 "cells": [
  {
   "cell_type": "markdown",
   "metadata": {
    "id": "xNppdFiGaRLE"
   },
   "source": [
    "### Coursework coding instructions (please also see full coursework spec)\n",
    "\n",
    "Please choose if you want to do either Task 1 or Task 2. You should write your report about one task only.\n",
    "\n",
    "For the task you choose you will need to do two approaches:\n",
    "  - Approach 1, which can use use pre-trained embeddings / models\n",
    "  - Approach 2, which should not use any pre-trained embeddings or models\n",
    "We should be able to run both approaches from the same colab file\n",
    "\n",
    "#### Running your code:\n",
    "  - Your models should run automatically when running your colab file without further intervention\n",
    "  - For each task you should automatically output the performance of both models\n",
    "  - Your code should automatically download any libraries required\n",
    "\n",
    "#### Structure of your code:\n",
    "  - You are expected to use the 'train', 'eval' and 'model_performance' functions, although you may edit these as required\n",
    "  - Otherwise there are no restrictions on what you can do in your code\n",
    "\n",
    "#### Documentation:\n",
    "  - You are expected to produce a .README file summarising how you have approached both tasks\n",
    "\n",
    "#### Reproducibility:\n",
    "  - Your .README file should explain how to replicate the different experiments mentioned in your report\n",
    "\n",
    "Good luck! We are really looking forward to seeing your reports and your model code!"
   ]
  },
  {
   "cell_type": "code",
   "execution_count": null,
   "metadata": {
    "id": "D8IanU_MaRLH"
   },
   "outputs": [],
   "source": [
    "#Todo\n",
    "#Remove punctuation\n",
    "#Use embedding that represents headslines\n",
    "#Tokenizer with special token"
   ]
  },
  {
   "cell_type": "code",
   "execution_count": 1,
   "metadata": {
    "colab": {
     "base_uri": "https://localhost:8080/"
    },
    "id": "4WfDREnZaRLI",
    "outputId": "85c66385-aa12-428c-93d2-f88eee690c26"
   },
   "outputs": [
    {
     "name": "stdout",
     "output_type": "stream",
     "text": [
      "--2021-02-11 14:42:12--  http://nlp.stanford.edu/data/glove.6B.zip\n",
      "Resolving nlp.stanford.edu (nlp.stanford.edu)... 171.64.67.140\n",
      "Connecting to nlp.stanford.edu (nlp.stanford.edu)|171.64.67.140|:80... connected.\n",
      "HTTP request sent, awaiting response... 302 Found\n",
      "Location: https://nlp.stanford.edu/data/glove.6B.zip [following]\n",
      "--2021-02-11 14:42:12--  https://nlp.stanford.edu/data/glove.6B.zip\n",
      "Connecting to nlp.stanford.edu (nlp.stanford.edu)|171.64.67.140|:443... connected.\n",
      "HTTP request sent, awaiting response... 301 Moved Permanently\n",
      "Location: http://downloads.cs.stanford.edu/nlp/data/glove.6B.zip [following]\n",
      "--2021-02-11 14:42:13--  http://downloads.cs.stanford.edu/nlp/data/glove.6B.zip\n",
      "Resolving downloads.cs.stanford.edu (downloads.cs.stanford.edu)... 171.64.64.22\n",
      "Connecting to downloads.cs.stanford.edu (downloads.cs.stanford.edu)|171.64.64.22|:80... connected.\n",
      "HTTP request sent, awaiting response... 200 OK\n",
      "Length: 862182613 (822M) [application/zip]\n",
      "Saving to: ‘glove.6B.zip’\n",
      "\n",
      "glove.6B.zip        100%[===================>] 822.24M  2.17MB/s    in 6m 51s  \n",
      "\n",
      "2021-02-11 14:49:04 (2.00 MB/s) - ‘glove.6B.zip’ saved [862182613/862182613]\n",
      "\n",
      "Archive:  glove.6B.zip\n",
      "  inflating: glove.6B.50d.txt        \n",
      "  inflating: glove.6B.100d.txt       \n",
      "  inflating: glove.6B.200d.txt       \n",
      "  inflating: glove.6B.300d.txt       \n"
     ]
    }
   ],
   "source": [
    "# You will need to download any word embeddings required for your code, e.g.:\n",
    "\n",
    "!wget http://nlp.stanford.edu/data/glove.6B.zip\n",
    "!unzip glove.6B.zip\n",
    "\n",
    "# For any packages that Colab does not provide auotmatically you will also need to install these below, e.g.:\n",
    "\n",
    "#! pip install torch"
   ]
  },
  {
   "cell_type": "code",
   "execution_count": 2,
   "metadata": {
    "colab": {
     "base_uri": "https://localhost:8080/"
    },
    "id": "TYZiUqXFghTY",
    "outputId": "332f60f2-7c43-4847-8920-b066e9a7b5ab"
   },
   "outputs": [
    {
     "name": "stdout",
     "output_type": "stream",
     "text": [
      "Mounted at /content/drive/\n"
     ]
    }
   ],
   "source": [
    "from google.colab import drive\n",
    "\n",
    "drive.mount('/content/drive/')"
   ]
  },
  {
   "cell_type": "code",
   "execution_count": 14,
   "metadata": {
    "id": "kFcC8gvDaRLI"
   },
   "outputs": [],
   "source": [
    "# Imports\n",
    "\n",
    "import torch\n",
    "import torch.nn as nn\n",
    "import torch.nn.functional as F\n",
    "import pandas as pd\n",
    "import numpy as np\n",
    "from sklearn.feature_extraction.text import CountVectorizer\n",
    "from torch.utils.data import Dataset, random_split\n",
    "from sklearn.feature_extraction.text import TfidfTransformer\n",
    "from sklearn.model_selection import train_test_split\n",
    "from sklearn.linear_model import LinearRegression\n",
    "import codecs\n",
    "\n",
    "import spacy\n",
    "from spacy.tokenizer import Tokenizer\n",
    "import re\n"
   ]
  },
  {
   "cell_type": "code",
   "execution_count": 15,
   "metadata": {
    "colab": {
     "base_uri": "https://localhost:8080/"
    },
    "id": "84OyAVNSaRLJ",
    "outputId": "ef4fce60-0dfe-44aa-82f3-2a2997a6ea95"
   },
   "outputs": [
    {
     "data": {
      "text/plain": [
       "device(type='cpu')"
      ]
     },
     "execution_count": 15,
     "metadata": {},
     "output_type": "execute_result"
    }
   ],
   "source": [
    "# Setting random seed and device\n",
    "SEED = 1\n",
    "\n",
    "torch.manual_seed(SEED)\n",
    "torch.cuda.manual_seed(SEED)\n",
    "torch.backends.cudnn.deterministic = True\n",
    "\n",
    "use_cuda = torch.cuda.is_available()\n",
    "device = torch.device(\"cuda:0\" if use_cuda else \"cpu\")\n",
    "device"
   ]
  },
  {
   "cell_type": "code",
   "execution_count": 16,
   "metadata": {
    "colab": {
     "base_uri": "https://localhost:8080/",
     "height": 424
    },
    "id": "2gxbblziaRLK",
    "outputId": "f1421511-2aee-4482-d5c0-58f1b1032db9"
   },
   "outputs": [
    {
     "data": {
      "text/html": [
       "<div>\n",
       "<style scoped>\n",
       "    .dataframe tbody tr th:only-of-type {\n",
       "        vertical-align: middle;\n",
       "    }\n",
       "\n",
       "    .dataframe tbody tr th {\n",
       "        vertical-align: top;\n",
       "    }\n",
       "\n",
       "    .dataframe thead th {\n",
       "        text-align: right;\n",
       "    }\n",
       "</style>\n",
       "<table border=\"1\" class=\"dataframe\">\n",
       "  <thead>\n",
       "    <tr style=\"text-align: right;\">\n",
       "      <th></th>\n",
       "      <th>id</th>\n",
       "      <th>original</th>\n",
       "      <th>edit</th>\n",
       "      <th>grades</th>\n",
       "      <th>meanGrade</th>\n",
       "    </tr>\n",
       "  </thead>\n",
       "  <tbody>\n",
       "    <tr>\n",
       "      <th>0</th>\n",
       "      <td>14530</td>\n",
       "      <td>France is ‘ hunting down its citizens who join...</td>\n",
       "      <td>twins</td>\n",
       "      <td>10000</td>\n",
       "      <td>0.2</td>\n",
       "    </tr>\n",
       "    <tr>\n",
       "      <th>1</th>\n",
       "      <td>13034</td>\n",
       "      <td>Pentagon claims 2,000 % increase in Russian tr...</td>\n",
       "      <td>bowling</td>\n",
       "      <td>33110</td>\n",
       "      <td>1.6</td>\n",
       "    </tr>\n",
       "    <tr>\n",
       "      <th>2</th>\n",
       "      <td>8731</td>\n",
       "      <td>Iceland PM Calls Snap Vote as Pedophile Furor ...</td>\n",
       "      <td>party</td>\n",
       "      <td>22100</td>\n",
       "      <td>1.0</td>\n",
       "    </tr>\n",
       "    <tr>\n",
       "      <th>3</th>\n",
       "      <td>76</td>\n",
       "      <td>In an apparent first , Iran and Israel &lt;engage...</td>\n",
       "      <td>slap</td>\n",
       "      <td>20000</td>\n",
       "      <td>0.4</td>\n",
       "    </tr>\n",
       "    <tr>\n",
       "      <th>4</th>\n",
       "      <td>6164</td>\n",
       "      <td>Trump was told weeks ago that Flynn misled &lt;Vi...</td>\n",
       "      <td>school</td>\n",
       "      <td>0</td>\n",
       "      <td>0.0</td>\n",
       "    </tr>\n",
       "    <tr>\n",
       "      <th>...</th>\n",
       "      <td>...</td>\n",
       "      <td>...</td>\n",
       "      <td>...</td>\n",
       "      <td>...</td>\n",
       "      <td>...</td>\n",
       "    </tr>\n",
       "    <tr>\n",
       "      <th>9647</th>\n",
       "      <td>10899</td>\n",
       "      <td>State officials blast ' unprecedented ' DHS &lt;m...</td>\n",
       "      <td>idea</td>\n",
       "      <td>0</td>\n",
       "      <td>0.0</td>\n",
       "    </tr>\n",
       "    <tr>\n",
       "      <th>9648</th>\n",
       "      <td>1781</td>\n",
       "      <td>Protesters Rally for &lt;Refugees/&gt; Detained at J...</td>\n",
       "      <td>stewardesses</td>\n",
       "      <td>20000</td>\n",
       "      <td>0.4</td>\n",
       "    </tr>\n",
       "    <tr>\n",
       "      <th>9649</th>\n",
       "      <td>5628</td>\n",
       "      <td>Cruise line Carnival Corp. joins the fight aga...</td>\n",
       "      <td>raisin</td>\n",
       "      <td>21000</td>\n",
       "      <td>0.6</td>\n",
       "    </tr>\n",
       "    <tr>\n",
       "      <th>9650</th>\n",
       "      <td>14483</td>\n",
       "      <td>Columbia police hunt woman seen with &lt;gun/&gt; ne...</td>\n",
       "      <td>cake</td>\n",
       "      <td>32200</td>\n",
       "      <td>1.4</td>\n",
       "    </tr>\n",
       "    <tr>\n",
       "      <th>9651</th>\n",
       "      <td>5255</td>\n",
       "      <td>Here 's What 's In The House-Approved Health &lt;...</td>\n",
       "      <td>food</td>\n",
       "      <td>11000</td>\n",
       "      <td>0.4</td>\n",
       "    </tr>\n",
       "  </tbody>\n",
       "</table>\n",
       "<p>9652 rows × 5 columns</p>\n",
       "</div>"
      ],
      "text/plain": [
       "         id                                           original          edit  \\\n",
       "0     14530  France is ‘ hunting down its citizens who join...         twins   \n",
       "1     13034  Pentagon claims 2,000 % increase in Russian tr...       bowling   \n",
       "2      8731  Iceland PM Calls Snap Vote as Pedophile Furor ...         party   \n",
       "3        76  In an apparent first , Iran and Israel <engage...          slap   \n",
       "4      6164  Trump was told weeks ago that Flynn misled <Vi...        school   \n",
       "...     ...                                                ...           ...   \n",
       "9647  10899  State officials blast ' unprecedented ' DHS <m...          idea   \n",
       "9648   1781  Protesters Rally for <Refugees/> Detained at J...  stewardesses   \n",
       "9649   5628  Cruise line Carnival Corp. joins the fight aga...        raisin   \n",
       "9650  14483  Columbia police hunt woman seen with <gun/> ne...          cake   \n",
       "9651   5255  Here 's What 's In The House-Approved Health <...          food   \n",
       "\n",
       "      grades  meanGrade  \n",
       "0      10000        0.2  \n",
       "1      33110        1.6  \n",
       "2      22100        1.0  \n",
       "3      20000        0.4  \n",
       "4          0        0.0  \n",
       "...      ...        ...  \n",
       "9647       0        0.0  \n",
       "9648   20000        0.4  \n",
       "9649   21000        0.6  \n",
       "9650   32200        1.4  \n",
       "9651   11000        0.4  \n",
       "\n",
       "[9652 rows x 5 columns]"
      ]
     },
     "execution_count": 16,
     "metadata": {},
     "output_type": "execute_result"
    }
   ],
   "source": [
    "# Load data\n",
    "train_df = pd.read_csv('task-1/train.csv')\n",
    "test_df = pd.read_csv('task-1/dev.csv')\n",
    "train_df"
   ]
  },
  {
   "cell_type": "code",
   "execution_count": 17,
   "metadata": {
    "id": "HQbm--SyaRLL"
   },
   "outputs": [],
   "source": [
    "# Number of epochs\n",
    "epochs = 10\n",
    "\n",
    "# Proportion of training data for train compared to dev\n",
    "train_proportion = 0.8"
   ]
  },
  {
   "cell_type": "code",
   "execution_count": 18,
   "metadata": {
    "id": "iDfCSZPUHSQL"
   },
   "outputs": [],
   "source": [
    "x = np.ones((32,25))\n",
    "y = np.ones((32,25))"
   ]
  },
  {
   "cell_type": "code",
   "execution_count": 19,
   "metadata": {
    "id": "BxhwWCz6aRLL"
   },
   "outputs": [],
   "source": [
    "# We define our training loop\n",
    "def train(train_iter, dev_iter, model, number_epoch):\n",
    "    \"\"\"\n",
    "    Training loop for the model, which calls on eval to evaluate after each epoch\n",
    "    \"\"\"\n",
    "\n",
    "    train_losses = np.zeros(number_epoch)\n",
    "    valid_losses = np.zeros(number_epoch)\n",
    "    print(\"Training model.\")\n",
    "\n",
    "    for epoch in range(1, number_epoch+1):\n",
    "\n",
    "        model.train()\n",
    "        epoch_loss = 0\n",
    "        epoch_sse = 0\n",
    "        no_observations = 0  # Observations used for training so far\n",
    "\n",
    "        for batch in train_iter:\n",
    "            optimizer.zero_grad()\n",
    "\n",
    "            feature, target = batch\n",
    "            feature_1= feature[0].to(device)\n",
    "            feature_2 = feature[1].to(device)\n",
    "            target = target.to(device)\n",
    "            # for RNN:\n",
    "            model.batch_size = target.shape[0]\n",
    "            no_observations = no_observations + target.shape[0]\n",
    "            model.hidden_1 = model.init_hidden()\n",
    "            model.hidden_2 = model.init_hidden()\n",
    "\n",
    "            feature = (feature_1, feature_2)\n",
    "            predictions = model(feature).squeeze(1)\n",
    "\n",
    "            #print(predictions.shape)\n",
    "            #print(target.shape)\n",
    "\n",
    "            loss = loss_fn(predictions, target)\n",
    "                        \n",
    "            sse, __ = model_performance(predictions.detach().cpu().numpy(), target.detach().cpu().numpy()) \n",
    "            \n",
    "            loss.backward(retain_graph=True)\n",
    "            optimizer.step()\n",
    "\n",
    "            epoch_loss += loss.item()*target.shape[0]\n",
    "            epoch_sse += sse\n",
    "\n",
    "        valid_loss, valid_mse, __, __ = eval(dev_iter, model)\n",
    "\n",
    "        epoch_loss, epoch_mse = epoch_loss / no_observations, epoch_sse / no_observations\n",
    "        train_losses[epoch-1] = epoch_loss\n",
    "        valid_losses[epoch-1] = valid_loss\n",
    "        print(f'| Epoch: {epoch:02} | Train Loss: {epoch_loss:.2f} | Train MSE: {epoch_mse:.2f} | Train RMSE: {epoch_mse**0.5:.2f} | \\\n",
    "        Val. Loss: {valid_loss:.2f} | Val. MSE: {valid_mse:.2f} |  Val. RMSE: {valid_mse**0.5:.2f} |')\n",
    "    return train_losses, valid_losses"
   ]
  },
  {
   "cell_type": "code",
   "execution_count": 20,
   "metadata": {
    "id": "EAPacdgOaRLM"
   },
   "outputs": [],
   "source": [
    "# We evaluate performance on our dev set\n",
    "def eval(data_iter, model):\n",
    "    \"\"\"\n",
    "    Evaluating model performance on the dev set\n",
    "    \"\"\"\n",
    "    model.eval()\n",
    "    epoch_loss = 0\n",
    "    epoch_sse = 0\n",
    "    pred_all = []\n",
    "    trg_all = []\n",
    "    no_observations = 0\n",
    "\n",
    "\n",
    "\n",
    "    with torch.no_grad():\n",
    "        for batch in data_iter:\n",
    "            feature, target = batch\n",
    "            feature_1= feature[0].to(device)\n",
    "            feature_2 = feature[1].to(device)\n",
    "            target = target.to(device)\n",
    "\n",
    "            feature = (feature_1, feature_2)\n",
    "\n",
    "            # for RNN:\n",
    "            model.batch_size = target.shape[0]\n",
    "            no_observations = no_observations + target.shape[0]\n",
    "            model.hidden_1 = model.init_hidden()\n",
    "            model.hidden_2 = model.init_hidden()\n",
    "\n",
    "            predictions = model(feature).squeeze(1)\n",
    "            #predictions.requires_grad = True\n",
    "            loss = loss_fn(predictions, target)\n",
    "\n",
    "            # We get the mse\n",
    "            pred, trg = predictions.detach().cpu().numpy(), target.detach().cpu().numpy()\n",
    "            sse, __ = model_performance(pred, trg)\n",
    "\n",
    "            epoch_loss += loss.item()*target.shape[0]\n",
    "            epoch_sse += sse\n",
    "            pred_all.extend(pred)\n",
    "            trg_all.extend(trg)\n",
    "\n",
    "    return epoch_loss/no_observations, epoch_sse/no_observations, np.array(pred_all), np.array(trg_all)"
   ]
  },
  {
   "cell_type": "code",
   "execution_count": 21,
   "metadata": {
    "id": "vcchQKtEaRLN"
   },
   "outputs": [],
   "source": [
    "# How we print the model performance\n",
    "def model_performance(output, target, print_output=False):\n",
    "    \"\"\"\n",
    "    Returns SSE and MSE per batch (printing the MSE and the RMSE)\n",
    "    \"\"\"\n",
    "\n",
    "    sq_error = (output - target)**2\n",
    "\n",
    "    sse = np.sum(sq_error)\n",
    "    mse = np.mean(sq_error)\n",
    "    rmse = np.sqrt(mse)\n",
    "\n",
    "    if print_output:\n",
    "        print(f'| MSE: {mse:.2f} | RMSE: {rmse:.2f} |')\n",
    "\n",
    "    return sse, mse"
   ]
  },
  {
   "cell_type": "code",
   "execution_count": 22,
   "metadata": {
    "id": "uO4Kv0URaRLN"
   },
   "outputs": [],
   "source": [
    "def create_vocab(data):\n",
    "    \"\"\"\n",
    "    Creating a corpus of all the tokens used\n",
    "    \"\"\"\n",
    "    tokenized_corpus = [] # Let us put the tokenized corpus in a list\n",
    "\n",
    "    for sentence in data:\n",
    "\n",
    "        tokenized_sentence = []\n",
    "\n",
    "        for token in sentence.split(' '): # simplest split is\n",
    "\n",
    "            tokenized_sentence.append(token)\n",
    "\n",
    "        tokenized_corpus.append(tokenized_sentence)\n",
    "\n",
    "    # Create single list of all vocabulary\n",
    "    vocabulary = []  # Let us put all the tokens (mostly words) appearing in the vocabulary in a list\n",
    "\n",
    "    for sentence in tokenized_corpus:\n",
    "\n",
    "        for token in sentence:\n",
    "\n",
    "            if token not in vocabulary:\n",
    "\n",
    "                if True:\n",
    "                    vocabulary.append(token)\n",
    "\n",
    "    return vocabulary, tokenized_corpus"
   ]
  },
  {
   "cell_type": "code",
   "execution_count": 23,
   "metadata": {
    "id": "TSQ-36SdaRLO"
   },
   "outputs": [],
   "source": [
    "# To create our vocab\n",
    "\n",
    "def custom_tokenizer(nlp):\n",
    "    \n",
    "    replacement_re = re.compile(r'^<*/>') #do not split replacement format\n",
    "    prefix_re = re.compile(r'''^[\\[\\(\"]''')\n",
    "    suffix_re = re.compile(r''',[\\]\\)\"']$''')\n",
    "    infix_re = re.compile(r'''[-\\,.~]''')\n",
    "    \n",
    "    \n",
    "    return Tokenizer(nlp.vocab,\n",
    "                     token_match = replacement_re.match,\n",
    "                     prefix_search=prefix_re.search,\n",
    "                     suffix_search=suffix_re.search,\n",
    "                     infix_finditer = infix_re.finditer  \n",
    "                    )\n",
    "\n",
    "\n",
    "\n",
    "def preprocessor(data,edits):\n",
    "    \"\"\"\n",
    "    Creating a corpus of all the tokens used\n",
    "    \"\"\"\n",
    "    punctuation = \"\\\":\\.,\"\n",
    "    nlp = spacy.load(\"en_core_web_sm\")\n",
    "    nlp.tokenizer = custom_tokenizer(nlp)\n",
    "    \n",
    "    tokenized_corpus_1= [] # Let us put the tokenized corpus in a list\n",
    "    tokenized_corpus_2= []\n",
    "    \n",
    "    \n",
    "    for i, sentence in enumerate(data):\n",
    "\n",
    "        sentence = sentence.lower()\n",
    "        tokenized_sentence_1 = []\n",
    "        tokenized_sentence_2 = []\n",
    "\n",
    "        for token in nlp(sentence): # simplest split is\n",
    "\n",
    "            if token.text in punctuation:\n",
    "                continue\n",
    "            else:\n",
    "                \n",
    "                if token.text[0] == '<':\n",
    "                    tokenized_sentence_1.append(\"???\")\n",
    "                    tokenized_sentence_2.append(\"???\")\n",
    "                    \n",
    "                    tokenized_sentence_2.append(edits[i])\n",
    "\n",
    "                    \n",
    "                    tokenized_sentence_1.append(token.text[1:-2])\n",
    "                else:\n",
    "                    tokenized_sentence_2.append(token.text)\n",
    "                \n",
    "                    tokenized_sentence_1.append(token.text)\n",
    "\n",
    "\n",
    "        tokenized_corpus_1.append(tokenized_sentence_1)\n",
    "        tokenized_corpus_2.append(tokenized_sentence_2)\n",
    "        #print(tokenized_corpus_1[:5])\n",
    "        #print(tokenized_corpus_2[:5])\n",
    "\n",
    "    # Create single list of all vocabulary\n",
    "    vocabulary = []  # Let us put all the tokens (mostly words) appearing in the vocabulary in a list\n",
    "\n",
    "    for sentence in tokenized_corpus_1:\n",
    "\n",
    "        for token in sentence:\n",
    "\n",
    "            if token not in vocabulary:\n",
    "\n",
    "                if True:\n",
    "                    vocabulary.append(token)\n",
    "    \n",
    "    for token in edits:\n",
    "        \n",
    "        if token not in vocabulary:\n",
    "            \n",
    "            vocabulary.append(token)\n",
    "\n",
    "    return vocabulary, tokenized_corpus_1, tokenized_corpus_2"
   ]
  },
  {
   "cell_type": "code",
   "execution_count": 24,
   "metadata": {
    "id": "aOOe3Ca7aRLP"
   },
   "outputs": [],
   "source": [
    "'''def collate_fn_padd(batch):\n",
    "    #We add padding to our minibatches and create tensors for our model\n",
    "\n",
    "\n",
    "    batch_labels = [l for f, l in batch]\n",
    "    batch_features = [f for f, l in batch]\n",
    "\n",
    "    batch_features_len = [len(f) for f, l in batch]\n",
    "\n",
    "    seq_tensor = torch.zeros((len(batch), max(batch_features_len))).long()\n",
    "\n",
    "    for idx, (seq, seqlen) in enumerate(zip(batch_features, batch_features_len)):\n",
    "        seq_tensor[idx, :seqlen] = torch.LongTensor(seq)\n",
    "\n",
    "    batch_labels = torch.FloatTensor(batch_labels)\n",
    "\n",
    "    return seq_tensor, batch_labels\n",
    "'''\n",
    "def collate_fn_padd(batch):\n",
    "    \n",
    "    #We add padding to our minibatches and create tensors for our model\n",
    "    \n",
    "\n",
    "    batch_labels = [l for f, g, l in batch]\n",
    "    batch_features = [(f,g) for f, g, l in batch]\n",
    "    \n",
    "\n",
    "    batch_features_len = [len(f) for f, g, l in batch]\n",
    "\n",
    "\n",
    "    seq_tensor_1 = torch.zeros((len(batch), 50)).long()\n",
    "    seq_tensor_2 = torch.zeros((len(batch), 50)).long()\n",
    "\n",
    "    \n",
    "    for idx, (seq, seqlen) in enumerate(zip(batch_features, batch_features_len)):\n",
    "        seq_tensor_1[idx, :seqlen] = torch.LongTensor(seq[0])\n",
    "        seq_tensor_2[idx, :seqlen] = torch.LongTensor(seq[1])\n",
    "    batch_labels = torch.FloatTensor(batch_labels)\n",
    "    \n",
    "\n",
    "    return (seq_tensor_1, seq_tensor_2), batch_labels\n",
    "\n",
    "'''\n",
    "def collate_fn_pad(batch):\n",
    "\n",
    "    original, edit, labels = zip(*batch)\n",
    "    padded_original = torch.nn.utils.rnn.pad_sequence(original, batch_first=True,padding_value=0)\n",
    "    padded_edit = torch.nn.utils.rnn.pad_sequence(edit, batch_first=True,padding_value=0)\n",
    "    labels = torch.Tensor(labels)\n",
    "    return (padded_org, padded_edit, labels)\n",
    "'''\n",
    "\n",
    "\n",
    "class Task1Dataset(Dataset):\n",
    "\n",
    "    def __init__(self, train_data, labels):\n",
    "        self.x_train = train_data\n",
    "        self.y_train = labels\n",
    "\n",
    "    def __len__(self):\n",
    "        return len(self.y_train)\n",
    "\n",
    "    def __getitem__(self, item):\n",
    "        return self.x_train[item], self.y_train[item]\n",
    "    \n",
    "class Task1Dataset_double(Dataset):\n",
    "\n",
    "    def __init__(self, train_data_1,train_data_2, labels):\n",
    "        self.x_train_1 = train_data_1\n",
    "        self.x_train_2 = train_data_2\n",
    "        self.y_train = labels\n",
    "\n",
    "    def __len__(self):\n",
    "        return len(self.y_train)\n",
    "\n",
    "    def __getitem__(self, item):\n",
    "        return self.x_train_1[item],self.x_train_2[item], self.y_train[item]    \n"
   ]
  },
  {
   "cell_type": "code",
   "execution_count": 25,
   "metadata": {
    "colab": {
     "base_uri": "https://localhost:8080/",
     "height": 132
    },
    "id": "1alD5n1GaRLR",
    "outputId": "6baf637a-7452-4ab6-af4d-0acd0f2a75b6"
   },
   "outputs": [
    {
     "ename": "SyntaxError",
     "evalue": "invalid syntax (<ipython-input-25-1b7493fcc32f>, line 37)",
     "output_type": "error",
     "traceback": [
      "\u001b[0;36m  File \u001b[0;32m\"<ipython-input-25-1b7493fcc32f>\"\u001b[0;36m, line \u001b[0;32m37\u001b[0m\n\u001b[0;31m    return out\u001b[0m\n\u001b[0m         ^\u001b[0m\n\u001b[0;31mSyntaxError\u001b[0m\u001b[0;31m:\u001b[0m invalid syntax\n"
     ]
    }
   ],
   "source": [
    "class BiLSTM(nn.Module):\n",
    "\n",
    "    def __init__(self, embedding_dim, hidden_dim, vocab_size, batch_size, device):\n",
    "        super(BiLSTM, self).__init__()\n",
    "        self.hidden_dim = hidden_dim\n",
    "        self.embedding_dim = embedding_dim\n",
    "        self.device = device\n",
    "        self.batch_size = batch_size\n",
    "        self.embedding = nn.Embedding(vocab_size, embedding_dim, padding_idx=0)\n",
    "\n",
    "        # The LSTM takes word embeddings as inputs, and outputs hidden states\n",
    "        # with dimensionality hidden_dim.\n",
    "        self.lstm = nn.LSTM(embedding_dim, hidden_dim, bidirectional=True)\n",
    "\n",
    "        # The linear layer that maps from hidden state space to tag space\n",
    "        self.hidden2label = nn.Linear(hidden_dim * 2, 1)\n",
    "        self.hidden = self.init_hidden()\n",
    "\n",
    "    def init_hidden(self):\n",
    "        # Before we've done anything, we dont have any hidden state.\n",
    "        # Refer to the Pytorch documentation to see exactly why they have this dimensionality.\n",
    "        # The axes semantics are (num_layers * num_directions, minibatch_size, hidden_dim)\n",
    "        return torch.zeros(2, self.batch_size, self.hidden_dim).to(self.device), \\\n",
    "               torch.zeros(2, self.batch_size, self.hidden_dim).to(self.device)\n",
    "\n",
    "    def forward(self, sentence):\n",
    "        embedded = self.embedding(sentence)\n",
    "        embedded = embedded.permute(1, 0, 2) #Needed for LSTMs\n",
    "\n",
    "        #lstm_out : (seq_len,batch_size,num_directions (2) * hidden_size (50))\n",
    "        #hidden : (num_layers * num_directions, batch_size,hidden_size)\n",
    "        lstm_out, self.hidden = self.lstm(\n",
    "            embedded.view(len(embedded), self.batch_size, self.embedding_dim), self.hidden)\n",
    "\n",
    "        #out : (1)\n",
    "        out = self.hidden2label(lstm_out[-1]\n",
    "        return out"
   ]
  },
  {
   "cell_type": "code",
   "execution_count": 64,
   "metadata": {
    "id": "8F1kXohWaRLR"
   },
   "outputs": [],
   "source": [
    "class BiLSTM_double(nn.Module):\n",
    "\n",
    "    def __init__(self, embedding_dim, hidden_dim, vocab_size, batch_size, device):\n",
    "        super(BiLSTM_double, self).__init__()\n",
    "        self.hidden_dim = hidden_dim\n",
    "        self.embedding_dim = embedding_dim\n",
    "        self.device = device\n",
    "        self.batch_size = batch_size\n",
    "        self.embedding = nn.Embedding(vocab_size, embedding_dim, padding_idx=0)\n",
    "\n",
    "        # The LSTM takes word embeddings as inputs, and outputs hidden states\n",
    "        # with dimensionality hidden_dim.\n",
    "        self.lstm_1 = nn.LSTM(embedding_dim, hidden_dim, bidirectional=True)\n",
    "        self.lstm_2 = nn.LSTM(embedding_dim,hidden_dim, bidirectional = True)\n",
    "\n",
    "        # The linear layer that maps from hidden state space to tag space\n",
    "        self.fc = nn.Linear(2*50*100, hidden_dim*2)\n",
    "        self.fc2 = nn.Linear(hidden_dim*2, hidden_dim//2)\n",
    "\n",
    "        self.hidden_1 = self.init_hidden()\n",
    "        self.hidden_2 = self.init_hidden()\n",
    "        self.hidden2label = nn.Linear(hidden_dim//2, 1)\n",
    "\n",
    "\n",
    "        self.d1 = nn.Dropout(0.5)\n",
    "        self.d2 = nn.Dropout(0.5)\n",
    "        self.d3 = nn.Dropout(0.5)\n",
    "        self.d4 = nn.Dropout(0.5)\n",
    "\n",
    "    def init_hidden(self):\n",
    "        # Before we've done anything, we dont have any hidden state.\n",
    "        # Refer to the Pytorch documentation to see exactly why they have this dimensionality.\n",
    "        # The axes semantics are (num_layers * num_directions, minibatch_size, hidden_dim)\n",
    "        \n",
    "        return torch.zeros(2, self.batch_size, self.hidden_dim, requires_grad = True).to(self.device), \\\n",
    "               torch.zeros(2, self.batch_size, self.hidden_dim, requires_grad = True).to(self.device)\n",
    "\n",
    "    def forward(self, sentence):\n",
    "        self.embedded_1 = self.embedding(sentence[0])\n",
    "        self.embedded_1 = self.embedded_1.permute(1, 0, 2) #Needed for LSTMs\n",
    "\n",
    "        self.embedded_2 = self.embedding(sentence[1])\n",
    "        self.embedded_2 = self.embedded_2.permute(1, 0, 2) #Needed for LSTMs\n",
    "\n",
    "        #lstm_out : (seq_len,batch_size,num_directions (2) * hidden_size (50))\n",
    "        #hidden : (num_layers * num_directions, batch_size,hidden_size)\n",
    "        lstm_out_1, self.hidden_1 = self.lstm_1(\n",
    "            self.embedded_1.view(len(self.embedded_1), self.batch_size, self.embedding_dim), self.hidden_1)\n",
    "        \n",
    "        lstm_out_1 = F.leaky_relu(self.d1(lstm_out_1))\n",
    "\n",
    "        lstm_out_2, self.hidden_2 = self.lstm_2(\n",
    "            self.embedded_2.view(len(self.embedded_2), self.batch_size, self.embedding_dim), self.hidden_2)\n",
    "        \n",
    "        lstm_out_2 = F.leaky_relu(self.d2(lstm_out_2))\n",
    "        \n",
    "        #out : (1)\n",
    "        lstm_out_1 = lstm_out_1.permute(1,0,2)\n",
    "        lstm_out_2 = lstm_out_2.permute(1,0,2)\n",
    "\n",
    "        out1 = self.fc(torch.cat((lstm_out_1.reshape(self.batch_size, -1),lstm_out_2.reshape(self.batch_size, -1)), dim = 1))\n",
    "        out1 = F.leaky_relu(self.d3(out1))\n",
    "\n",
    "        out2 = self.fc2(out1)\n",
    "        out2 = F.leaky_relu(self.d4(out2))\n",
    "\n",
    "        out = self.hidden2label(out2)\n",
    "        return out"
   ]
  },
  {
   "cell_type": "code",
   "execution_count": 27,
   "metadata": {
    "colab": {
     "base_uri": "https://localhost:8080/"
    },
    "id": "_JSWm-Q5nIxX",
    "outputId": "779db43e-05e2-4d08-cd14-ec7ae5104c29"
   },
   "outputs": [
    {
     "name": "stdout",
     "output_type": "stream",
     "text": [
      "Vocabulary individual creation - done\n",
      "Vocabulary joined creation - done\n",
      "Vocab created.\n"
     ]
    }
   ],
   "source": [
    "## Approach 1 code, using functions defined above:\n",
    "\n",
    "# We set our training data and test data\n",
    "training_data = train_df['original']\n",
    "test_data = test_df['original']\n",
    "\n",
    "# Creating word vectors\n",
    "#training_vocab, training_tokenized_corpus = create_vocab(training_data)\n",
    "#test_vocab, test_tokenized_corpus = create_vocab(test_data)\n",
    "#training_vocab, training_tokenized_corpus_1,training_tokenized_corpus_2=  preprocessor(training_data,train_df['edit'])\n",
    "#test_vocab, test_tokenized_corpus_1,test_tokenized_corpus_2=  preprocessor(test_data,test_df['edit'])\n",
    "\n",
    "#print(\"Vocabulary individual creation - done\")\n",
    "\n",
    "# Creating joint vocab from test and train:\n",
    "#joint_vocab, joint_tokenized_corpus = create_vocab(pd.concat([training_data, test_data]))\n",
    "joint_vocab, joint_tokenized_corpus_1,joint_tokenized_corpus_2 = preprocessor(pd.concat([training_data, test_data]),pd.concat([train_df['edit'],test_df['edit']],ignore_index = True))\n",
    "\n",
    "print(\"Vocabulary joined creation - done\")\n",
    "\n",
    "\n",
    "\n",
    "print(\"Vocab created.\")"
   ]
  },
  {
   "cell_type": "code",
   "execution_count": 28,
   "metadata": {
    "id": "xeXy7v7dnQGq"
   },
   "outputs": [],
   "source": [
    "# We create representations for our tokens\n",
    "wvecs = [] # word vectors\n",
    "word2idx = [] # word2index\n",
    "idx2word = []\n",
    "\n",
    "#Add special character -> embedding vector of ones \n",
    "wvecs.append(np.ones(100))\n",
    "\n",
    "# This is a large file, it will take a while to load in the memory!\n",
    "with codecs.open('glove.6B.100d.txt', 'r','utf-8') as f:\n",
    "  index = 1 #zero padding\n",
    "  for line in f.readlines():\n",
    "    # Ignore the first line - first line typically contains vocab, dimensionality\n",
    "    if len(line.strip().split()) > 3:\n",
    "      word = line.strip().split()[0]\n",
    "      if word in joint_vocab:\n",
    "          (word, vec) = (word,\n",
    "                     list(map(float,line.strip().split()[1:])))\n",
    "          wvecs.append(vec)\n",
    "          word2idx.append((word, index))\n",
    "          idx2word.append((index, word))\n",
    "          index += 1\n",
    "\n",
    "wvecs = np.array(wvecs)\n",
    "word2idx = dict(word2idx)\n",
    "idx2word = dict(idx2word)\n",
    "\n",
    "\n",
    "\n"
   ]
  },
  {
   "cell_type": "code",
   "execution_count": 29,
   "metadata": {
    "id": "0ze3glIrVMmj"
   },
   "outputs": [],
   "source": [
    "word2idx['<unk>'] = 1\n",
    "idx2word[1] = '<unk>'\n",
    "mean = np.mean(wvecs, axis=0) # initialize unknown token as mean\n",
    "#wvecs = np.vstack((wvecs, mean))\n",
    "wvecs[0] = mean\n"
   ]
  },
  {
   "cell_type": "code",
   "execution_count": 30,
   "metadata": {
    "id": "BgcGpchbQOO-"
   },
   "outputs": [],
   "source": [
    "\n",
    "\n",
    "vectorized_seqs_1 = [[word2idx[tok] if tok in word2idx else word2idx['<unk>'] for tok in seq] for seq in training_tokenized_corpus_1]\n",
    "vectorized_seqs_2 = [[word2idx[tok] if tok in word2idx else word2idx['<unk>'] for tok in seq] for seq in training_tokenized_corpus_2]\n",
    "\n",
    "\n",
    "# To avoid any sentences being empty (if no words match to our word embeddings)\n",
    "vectorized_seqs_1 = [x if len(x) > 0 else [0] for x in vectorized_seqs_1]\n",
    "vectorized_seqs_2 = [x if len(x) > 0 else [0] for x in vectorized_seqs_2]\n",
    "\n"
   ]
  },
  {
   "cell_type": "code",
   "execution_count": 65,
   "metadata": {
    "colab": {
     "base_uri": "https://localhost:8080/"
    },
    "id": "4XzJHcQ_aRLT",
    "outputId": "0aa16f80-4388-45eb-fd5b-639df51199ef",
    "scrolled": true
   },
   "outputs": [
    {
     "name": "stdout",
     "output_type": "stream",
     "text": [
      "2254651\n",
      "BiLSTM_double(\n",
      "  (embedding): Embedding(11304, 100, padding_idx=0)\n",
      "  (lstm_1): LSTM(100, 50, bidirectional=True)\n",
      "  (lstm_2): LSTM(100, 50, bidirectional=True)\n",
      "  (fc): Linear(in_features=10000, out_features=100, bias=True)\n",
      "  (fc2): Linear(in_features=100, out_features=25, bias=True)\n",
      "  (hidden2label): Linear(in_features=25, out_features=1, bias=True)\n",
      "  (d1): Dropout(p=0.5, inplace=False)\n",
      "  (d2): Dropout(p=0.5, inplace=False)\n",
      "  (d3): Dropout(p=0.5, inplace=False)\n",
      "  (d4): Dropout(p=0.5, inplace=False)\n",
      ")\n",
      "Model initialised.\n"
     ]
    },
    {
     "data": {
      "text/plain": [
       "tensor([[-7.8262e-04,  1.0269e-01,  1.4887e-01,  ..., -6.1605e-02,\n",
       "          2.0113e-01,  8.2360e-02],\n",
       "        [-3.8194e-02, -2.4487e-01,  7.2812e-01,  ..., -1.4590e-01,\n",
       "          8.2780e-01,  2.7062e-01],\n",
       "        [-1.5290e-01, -2.4279e-01,  8.9837e-01,  ..., -5.9100e-01,\n",
       "          1.0039e+00,  2.0664e-01],\n",
       "        ...,\n",
       "        [ 1.9771e-01, -6.8821e-02,  1.9041e-02,  ...,  1.3000e-01,\n",
       "         -2.7314e-01, -4.0290e-02],\n",
       "        [ 1.2610e-01, -2.7248e-01, -3.9575e-01,  ...,  4.6913e-01,\n",
       "          2.1689e-02, -6.4294e-02],\n",
       "        [ 1.9810e-01, -9.9068e-02, -2.7453e-01,  ...,  1.7955e-01,\n",
       "         -3.1754e-01,  1.3571e-01]])"
      ]
     },
     "execution_count": 65,
     "metadata": {},
     "output_type": "execute_result"
    }
   ],
   "source": [
    "\n",
    "INPUT_DIM = len(word2idx)\n",
    "EMBEDDING_DIM = wvecs.shape[1]\n",
    "\n",
    "BATCH_SIZE = 256\n",
    "\n",
    "model = BiLSTM_double(EMBEDDING_DIM, 50, INPUT_DIM, BATCH_SIZE, device)\n",
    "\n",
    "params = sum(p.numel() for p in model.parameters() if p.requires_grad)\n",
    "print(params)\n",
    "#print(\"Total number of parameters is: {​​}​​\".format(params))\n",
    "\n",
    "print(model)\n",
    "\n",
    "print(\"Model initialised.\")\n",
    "\n",
    "model.to(device)\n",
    "# We provide the model with our embeddings\n",
    "#x = np.concatenate((wvecs,wvecs),axis=1)\n",
    "model.embedding.weight.data.copy_(torch.from_numpy(wvecs))\n",
    "\n"
   ]
  },
  {
   "cell_type": "code",
   "execution_count": 66,
   "metadata": {
    "colab": {
     "base_uri": "https://localhost:8080/",
     "height": 473
    },
    "id": "un9wo5TPyN9L",
    "outputId": "0fd5e0b8-d291-4a6d-eecf-5f6cc5b271d7"
   },
   "outputs": [
    {
     "name": "stdout",
     "output_type": "stream",
     "text": [
      "Dataloaders created.\n",
      "Training model.\n",
      "| Epoch: 01 | Train Loss: 0.52 | Train MSE: 0.52 | Train RMSE: 0.72 |         Val. Loss: 0.34 | Val. MSE: 0.34 |  Val. RMSE: 0.59 |\n",
      "| Epoch: 02 | Train Loss: 0.42 | Train MSE: 0.42 | Train RMSE: 0.65 |         Val. Loss: 0.36 | Val. MSE: 0.36 |  Val. RMSE: 0.60 |\n",
      "| Epoch: 03 | Train Loss: 0.40 | Train MSE: 0.40 | Train RMSE: 0.64 |         Val. Loss: 0.34 | Val. MSE: 0.34 |  Val. RMSE: 0.58 |\n",
      "| Epoch: 04 | Train Loss: 0.38 | Train MSE: 0.38 | Train RMSE: 0.62 |         Val. Loss: 0.33 | Val. MSE: 0.33 |  Val. RMSE: 0.58 |\n",
      "| Epoch: 05 | Train Loss: 0.36 | Train MSE: 0.36 | Train RMSE: 0.60 |         Val. Loss: 0.33 | Val. MSE: 0.33 |  Val. RMSE: 0.57 |\n",
      "| Epoch: 06 | Train Loss: 0.32 | Train MSE: 0.32 | Train RMSE: 0.57 |         Val. Loss: 0.33 | Val. MSE: 0.33 |  Val. RMSE: 0.58 |\n",
      "| Epoch: 07 | Train Loss: 0.31 | Train MSE: 0.31 | Train RMSE: 0.56 |         Val. Loss: 0.33 | Val. MSE: 0.33 |  Val. RMSE: 0.57 |\n",
      "| Epoch: 08 | Train Loss: 0.28 | Train MSE: 0.28 | Train RMSE: 0.53 |         Val. Loss: 0.32 | Val. MSE: 0.32 |  Val. RMSE: 0.57 |\n",
      "| Epoch: 09 | Train Loss: 0.25 | Train MSE: 0.25 | Train RMSE: 0.50 |         Val. Loss: 0.32 | Val. MSE: 0.32 |  Val. RMSE: 0.57 |\n",
      "| Epoch: 10 | Train Loss: 0.23 | Train MSE: 0.23 | Train RMSE: 0.48 |         Val. Loss: 0.34 | Val. MSE: 0.34 |  Val. RMSE: 0.58 |\n"
     ]
    },
    {
     "data": {
      "image/png": "[encoded data removed]",
      "text/plain": [
       "<Figure size 432x288 with 1 Axes>"
      ]
     },
     "metadata": {
      "needs_background": "light"
     },
     "output_type": "display_data"
    }
   ],
   "source": [
    "\n",
    "feature_1 = vectorized_seqs_1\n",
    "feature_2 = vectorized_seqs_2\n",
    "\n",
    "\n",
    "# 'feature' is a list of lists, each containing embedding IDs for word tokens\n",
    "#train_and_dev = Task1Dataset(feature, train_df['meanGrade'])\n",
    "train_and_dev = Task1Dataset_double(feature_1,feature_2, train_df['meanGrade'])\n",
    "\n",
    "train_examples = round(len(train_and_dev)*train_proportion)\n",
    "dev_examples = len(train_and_dev) - train_examples\n",
    "train_dataset, dev_dataset = random_split(train_and_dev,\n",
    "                                           (train_examples,\n",
    "                                            dev_examples))\n",
    "####Shuffle might need to be true. Check later\n",
    "train_loader = torch.utils.data.DataLoader(train_dataset, shuffle=True, batch_size=BATCH_SIZE, collate_fn=collate_fn_padd)\n",
    "\n",
    "dev_loader = torch.utils.data.DataLoader(dev_dataset, batch_size=BATCH_SIZE, collate_fn=collate_fn_padd)\n",
    "\n",
    "print(\"Dataloaders created.\")\n",
    "\n",
    "loss_fn = nn.MSELoss()\n",
    "loss_fn = loss_fn.to(device)\n",
    "optimizer = torch.optim.Adam(model.parameters())\n",
    "#optimizer = torch.optim.SGD(model.parameters(), lr=0.001, momentum=0.9)\n",
    "\n",
    "train_losses, valid_losses = train(train_loader, dev_loader, model, epochs)\n",
    "plot(train_losses, valid_losses, len(train_losses))"
   ]
  },
  {
   "cell_type": "code",
   "execution_count": 41,
   "metadata": {
    "colab": {
     "base_uri": "https://localhost:8080/",
     "height": 265
    },
    "id": "5mwekgglvjbX",
    "outputId": "623543e9-fc6a-4abe-f8d7-3dd6c8d9ea35"
   },
   "outputs": [],
   "source": [
    "import matplotlib.pyplot as plt\n",
    "def plot(train_losses,valid_losses,num_epochs):\n",
    "  epochs = list(range(num_epochs))\n",
    "  plt.plot(epochs,train_losses, label='train')\n",
    "  plt.plot(epochs,valid_losses, label='valid')\n",
    "  plt.legend()\n",
    "  plt.show()\n",
    "\n"
   ]
  },
  {
   "cell_type": "markdown",
   "metadata": {
    "id": "Klgk-IngaRLa"
   },
   "source": [
    "\n",
    "#### Approach 2: No pre-trained representations"
   ]
  },
  {
   "cell_type": "code",
   "execution_count": null,
   "metadata": {
    "id": "qK9C7EeEaRLc"
   },
   "outputs": [],
   "source": [
    "train_and_dev = train_df['edit']\n",
    "\n",
    "training_data, dev_data, training_y, dev_y = train_test_split(train_df['edit'], train_df['meanGrade'],\n",
    "                                                                        test_size=(1-train_proportion),\n",
    "                                                                        random_state=42)\n",
    "\n",
    "# We train a Tf-idf model\n",
    "count_vect = CountVectorizer(stop_words='english')\n",
    "train_counts = count_vect.fit_transform(training_data)\n",
    "transformer = TfidfTransformer().fit(train_counts)\n",
    "train_counts = transformer.transform(train_counts)\n",
    "regression_model = LinearRegression().fit(train_counts, training_y)\n",
    "\n",
    "# Train predictions\n",
    "predicted_train = regression_model.predict(train_counts)\n",
    "\n",
    "# Calculate Tf-idf using train and dev, and validate model on dev:\n",
    "test_and_test_counts = count_vect.transform(train_and_dev)\n",
    "transformer = TfidfTransformer().fit(test_and_test_counts)\n",
    "\n",
    "test_counts = count_vect.transform(dev_data)\n",
    "\n",
    "test_counts = transformer.transform(test_counts)\n",
    "\n",
    "# Dev predictions\n",
    "predicted = regression_model.predict(test_counts)\n",
    "\n",
    "# We run the evaluation:\n",
    "print(\"\\nTrain performance:\")\n",
    "sse, mse = model_performance(predicted_train, training_y, True)\n",
    "\n",
    "print(\"\\nDev performance:\")\n",
    "sse, mse = model_performance(predicted, dev_y, True)"
   ]
  },
  {
   "cell_type": "markdown",
   "metadata": {
    "id": "cSZbSxUbaRLc"
   },
   "source": [
    "#### Baseline for task 2"
   ]
  },
  {
   "cell_type": "code",
   "execution_count": 12,
   "metadata": {
    "colab": {
     "base_uri": "https://localhost:8080/",
     "height": 218
    },
    "id": "QwwE7oj0aRLd",
    "outputId": "ef8abd4c-a186-4a00-cc8d-8dc44958d2af"
   },
   "outputs": [
    {
     "ename": "NameError",
     "evalue": "ignored",
     "output_type": "error",
     "traceback": [
      "\u001b[0;31m---------------------------------------------------------------------------\u001b[0m",
      "\u001b[0;31mNameError\u001b[0m                                 Traceback (most recent call last)",
      "\u001b[0;32m<ipython-input-12-3c7b5eafe872>\u001b[0m in \u001b[0;36m<module>\u001b[0;34m()\u001b[0m\n\u001b[1;32m      1\u001b[0m \u001b[0;31m# Baseline for the task\u001b[0m\u001b[0;34m\u001b[0m\u001b[0;34m\u001b[0m\u001b[0;34m\u001b[0m\u001b[0m\n\u001b[0;32m----> 2\u001b[0;31m \u001b[0mpred_baseline\u001b[0m \u001b[0;34m=\u001b[0m \u001b[0mtorch\u001b[0m\u001b[0;34m.\u001b[0m\u001b[0mzeros\u001b[0m\u001b[0;34m(\u001b[0m\u001b[0mlen\u001b[0m\u001b[0;34m(\u001b[0m\u001b[0mdev_y\u001b[0m\u001b[0;34m)\u001b[0m\u001b[0;34m)\u001b[0m \u001b[0;34m+\u001b[0m \u001b[0mnp\u001b[0m\u001b[0;34m.\u001b[0m\u001b[0mmean\u001b[0m\u001b[0;34m(\u001b[0m\u001b[0mtraining_y\u001b[0m\u001b[0;34m)\u001b[0m\u001b[0;34m\u001b[0m\u001b[0;34m\u001b[0m\u001b[0m\n\u001b[0m\u001b[1;32m      3\u001b[0m \u001b[0mprint\u001b[0m\u001b[0;34m(\u001b[0m\u001b[0;34m\"\\nBaseline performance:\"\u001b[0m\u001b[0;34m)\u001b[0m\u001b[0;34m\u001b[0m\u001b[0;34m\u001b[0m\u001b[0m\n\u001b[1;32m      4\u001b[0m \u001b[0msse\u001b[0m\u001b[0;34m,\u001b[0m \u001b[0mmse\u001b[0m \u001b[0;34m=\u001b[0m \u001b[0mmodel_performance\u001b[0m\u001b[0;34m(\u001b[0m\u001b[0mpred_baseline\u001b[0m\u001b[0;34m,\u001b[0m \u001b[0mdev_y\u001b[0m\u001b[0;34m,\u001b[0m \u001b[0;32mTrue\u001b[0m\u001b[0;34m)\u001b[0m\u001b[0;34m\u001b[0m\u001b[0;34m\u001b[0m\u001b[0m\n",
      "\u001b[0;31mNameError\u001b[0m: name 'dev_y' is not defined"
     ]
    }
   ],
   "source": [
    "# Baseline for the task\n",
    "pred_baseline = torch.zeros(len(dev_y)) + np.mean(training_y)\n",
    "print(\"\\nBaseline performance:\")\n",
    "sse, mse = model_performance(pred_baseline, dev_y, True)"
   ]
  },
  {
   "cell_type": "code",
   "execution_count": null,
   "metadata": {
    "id": "-Vs5_tGhaRLd"
   },
   "outputs": [],
   "source": []
  }
 ],
 "metadata": {
  "accelerator": "GPU",
  "colab": {
   "collapsed_sections": [],
   "name": "task_1_main.ipynb",
   "provenance": [],
   "toc_visible": true
  },
  "kernelspec": {
   "display_name": "Python 3",
   "language": "python",
   "name": "python3"
  },
  "language_info": {
   "codemirror_mode": {
    "name": "ipython",
    "version": 3
   },
   "file_extension": ".py",
   "mimetype": "text/x-python",
   "name": "python",
   "nbconvert_exporter": "python",
   "pygments_lexer": "ipython3",
   "version": "3.7.1"
  }
 },
 "nbformat": 4,
 "nbformat_minor": 4
}
