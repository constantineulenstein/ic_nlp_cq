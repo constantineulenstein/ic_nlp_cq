{
  "nbformat": 4,
  "nbformat_minor": 0,
  "metadata": {
    "colab": {
      "name": "task_1_main.ipynb",
      "provenance": [],
      "collapsed_sections": [
        "huUfT43sLAmc",
        "y9brja9zLFR4",
        "OTBXwqYqKIIB",
        "udJACzxtK1TG",
        "uYSdwJ1XLVia"
      ]
    },
    "kernelspec": {
      "display_name": "Python 3",
      "language": "python",
      "name": "python3"
    },
    "language_info": {
      "codemirror_mode": {
        "name": "ipython",
        "version": 3
      },
      "file_extension": ".py",
      "mimetype": "text/x-python",
      "name": "python",
      "nbconvert_exporter": "python",
      "pygments_lexer": "ipython3",
      "version": "3.7.7"
    },
    "widgets": {
      "application/vnd.jupyter.widget-state+json": {
        "5830468a03d5475694fc35370f6223b0": {
          "model_module": "@jupyter-widgets/controls",
          "model_name": "HBoxModel",
          "state": {
            "_view_name": "HBoxView",
            "_dom_classes": [],
            "_model_name": "HBoxModel",
            "_view_module": "@jupyter-widgets/controls",
            "_model_module_version": "1.5.0",
            "_view_count": null,
            "_view_module_version": "1.5.0",
            "box_style": "",
            "layout": "IPY_MODEL_c36ef91e67524463acb199c5b4bef341",
            "_model_module": "@jupyter-widgets/controls",
            "children": [
              "IPY_MODEL_785dbccd9a844327b7b09e474c260af7",
              "IPY_MODEL_d8d7564a801d443fa8001abb3cfcc18e"
            ]
          }
        },
        "c36ef91e67524463acb199c5b4bef341": {
          "model_module": "@jupyter-widgets/base",
          "model_name": "LayoutModel",
          "state": {
            "_view_name": "LayoutView",
            "grid_template_rows": null,
            "right": null,
            "justify_content": null,
            "_view_module": "@jupyter-widgets/base",
            "overflow": null,
            "_model_module_version": "1.2.0",
            "_view_count": null,
            "flex_flow": null,
            "width": null,
            "min_width": null,
            "border": null,
            "align_items": null,
            "bottom": null,
            "_model_module": "@jupyter-widgets/base",
            "top": null,
            "grid_column": null,
            "overflow_y": null,
            "overflow_x": null,
            "grid_auto_flow": null,
            "grid_area": null,
            "grid_template_columns": null,
            "flex": null,
            "_model_name": "LayoutModel",
            "justify_items": null,
            "grid_row": null,
            "max_height": null,
            "align_content": null,
            "visibility": null,
            "align_self": null,
            "height": null,
            "min_height": null,
            "padding": null,
            "grid_auto_rows": null,
            "grid_gap": null,
            "max_width": null,
            "order": null,
            "_view_module_version": "1.2.0",
            "grid_template_areas": null,
            "object_position": null,
            "object_fit": null,
            "grid_auto_columns": null,
            "margin": null,
            "display": null,
            "left": null
          }
        },
        "785dbccd9a844327b7b09e474c260af7": {
          "model_module": "@jupyter-widgets/controls",
          "model_name": "FloatProgressModel",
          "state": {
            "_view_name": "ProgressView",
            "style": "IPY_MODEL_c7a8221e455d4741ae5233e7bb17c3ef",
            "_dom_classes": [],
            "description": "Downloading: 100%",
            "_model_name": "FloatProgressModel",
            "bar_style": "success",
            "max": 231508,
            "_view_module": "@jupyter-widgets/controls",
            "_model_module_version": "1.5.0",
            "value": 231508,
            "_view_count": null,
            "_view_module_version": "1.5.0",
            "orientation": "horizontal",
            "min": 0,
            "description_tooltip": null,
            "_model_module": "@jupyter-widgets/controls",
            "layout": "IPY_MODEL_4d0debe500b847aea57fad925e59c129"
          }
        },
        "d8d7564a801d443fa8001abb3cfcc18e": {
          "model_module": "@jupyter-widgets/controls",
          "model_name": "HTMLModel",
          "state": {
            "_view_name": "HTMLView",
            "style": "IPY_MODEL_610d20bcc02949538de4c7245019a7e0",
            "_dom_classes": [],
            "description": "",
            "_model_name": "HTMLModel",
            "placeholder": "​",
            "_view_module": "@jupyter-widgets/controls",
            "_model_module_version": "1.5.0",
            "value": " 232k/232k [00:04&lt;00:00, 46.3kB/s]",
            "_view_count": null,
            "_view_module_version": "1.5.0",
            "description_tooltip": null,
            "_model_module": "@jupyter-widgets/controls",
            "layout": "IPY_MODEL_996a8032758f4d84bfc8b1543ac01534"
          }
        },
        "c7a8221e455d4741ae5233e7bb17c3ef": {
          "model_module": "@jupyter-widgets/controls",
          "model_name": "ProgressStyleModel",
          "state": {
            "_view_name": "StyleView",
            "_model_name": "ProgressStyleModel",
            "description_width": "initial",
            "_view_module": "@jupyter-widgets/base",
            "_model_module_version": "1.5.0",
            "_view_count": null,
            "_view_module_version": "1.2.0",
            "bar_color": null,
            "_model_module": "@jupyter-widgets/controls"
          }
        },
        "4d0debe500b847aea57fad925e59c129": {
          "model_module": "@jupyter-widgets/base",
          "model_name": "LayoutModel",
          "state": {
            "_view_name": "LayoutView",
            "grid_template_rows": null,
            "right": null,
            "justify_content": null,
            "_view_module": "@jupyter-widgets/base",
            "overflow": null,
            "_model_module_version": "1.2.0",
            "_view_count": null,
            "flex_flow": null,
            "width": null,
            "min_width": null,
            "border": null,
            "align_items": null,
            "bottom": null,
            "_model_module": "@jupyter-widgets/base",
            "top": null,
            "grid_column": null,
            "overflow_y": null,
            "overflow_x": null,
            "grid_auto_flow": null,
            "grid_area": null,
            "grid_template_columns": null,
            "flex": null,
            "_model_name": "LayoutModel",
            "justify_items": null,
            "grid_row": null,
            "max_height": null,
            "align_content": null,
            "visibility": null,
            "align_self": null,
            "height": null,
            "min_height": null,
            "padding": null,
            "grid_auto_rows": null,
            "grid_gap": null,
            "max_width": null,
            "order": null,
            "_view_module_version": "1.2.0",
            "grid_template_areas": null,
            "object_position": null,
            "object_fit": null,
            "grid_auto_columns": null,
            "margin": null,
            "display": null,
            "left": null
          }
        },
        "610d20bcc02949538de4c7245019a7e0": {
          "model_module": "@jupyter-widgets/controls",
          "model_name": "DescriptionStyleModel",
          "state": {
            "_view_name": "StyleView",
            "_model_name": "DescriptionStyleModel",
            "description_width": "",
            "_view_module": "@jupyter-widgets/base",
            "_model_module_version": "1.5.0",
            "_view_count": null,
            "_view_module_version": "1.2.0",
            "_model_module": "@jupyter-widgets/controls"
          }
        },
        "996a8032758f4d84bfc8b1543ac01534": {
          "model_module": "@jupyter-widgets/base",
          "model_name": "LayoutModel",
          "state": {
            "_view_name": "LayoutView",
            "grid_template_rows": null,
            "right": null,
            "justify_content": null,
            "_view_module": "@jupyter-widgets/base",
            "overflow": null,
            "_model_module_version": "1.2.0",
            "_view_count": null,
            "flex_flow": null,
            "width": null,
            "min_width": null,
            "border": null,
            "align_items": null,
            "bottom": null,
            "_model_module": "@jupyter-widgets/base",
            "top": null,
            "grid_column": null,
            "overflow_y": null,
            "overflow_x": null,
            "grid_auto_flow": null,
            "grid_area": null,
            "grid_template_columns": null,
            "flex": null,
            "_model_name": "LayoutModel",
            "justify_items": null,
            "grid_row": null,
            "max_height": null,
            "align_content": null,
            "visibility": null,
            "align_self": null,
            "height": null,
            "min_height": null,
            "padding": null,
            "grid_auto_rows": null,
            "grid_gap": null,
            "max_width": null,
            "order": null,
            "_view_module_version": "1.2.0",
            "grid_template_areas": null,
            "object_position": null,
            "object_fit": null,
            "grid_auto_columns": null,
            "margin": null,
            "display": null,
            "left": null
          }
        },
        "360d1c8f8f7e4ad6ae54f471d7015274": {
          "model_module": "@jupyter-widgets/controls",
          "model_name": "HBoxModel",
          "state": {
            "_view_name": "HBoxView",
            "_dom_classes": [],
            "_model_name": "HBoxModel",
            "_view_module": "@jupyter-widgets/controls",
            "_model_module_version": "1.5.0",
            "_view_count": null,
            "_view_module_version": "1.5.0",
            "box_style": "",
            "layout": "IPY_MODEL_4df7c46e658b4be78640a1678d15a408",
            "_model_module": "@jupyter-widgets/controls",
            "children": [
              "IPY_MODEL_f2b1f3fa53a54bc883eb8ac5060bbfa4",
              "IPY_MODEL_4302fdad42de41a9bedd26811876b380"
            ]
          }
        },
        "4df7c46e658b4be78640a1678d15a408": {
          "model_module": "@jupyter-widgets/base",
          "model_name": "LayoutModel",
          "state": {
            "_view_name": "LayoutView",
            "grid_template_rows": null,
            "right": null,
            "justify_content": null,
            "_view_module": "@jupyter-widgets/base",
            "overflow": null,
            "_model_module_version": "1.2.0",
            "_view_count": null,
            "flex_flow": null,
            "width": null,
            "min_width": null,
            "border": null,
            "align_items": null,
            "bottom": null,
            "_model_module": "@jupyter-widgets/base",
            "top": null,
            "grid_column": null,
            "overflow_y": null,
            "overflow_x": null,
            "grid_auto_flow": null,
            "grid_area": null,
            "grid_template_columns": null,
            "flex": null,
            "_model_name": "LayoutModel",
            "justify_items": null,
            "grid_row": null,
            "max_height": null,
            "align_content": null,
            "visibility": null,
            "align_self": null,
            "height": null,
            "min_height": null,
            "padding": null,
            "grid_auto_rows": null,
            "grid_gap": null,
            "max_width": null,
            "order": null,
            "_view_module_version": "1.2.0",
            "grid_template_areas": null,
            "object_position": null,
            "object_fit": null,
            "grid_auto_columns": null,
            "margin": null,
            "display": null,
            "left": null
          }
        },
        "f2b1f3fa53a54bc883eb8ac5060bbfa4": {
          "model_module": "@jupyter-widgets/controls",
          "model_name": "FloatProgressModel",
          "state": {
            "_view_name": "ProgressView",
            "style": "IPY_MODEL_c5496ff15fcf47cdb013195b1ad9d8b2",
            "_dom_classes": [],
            "description": "Downloading: 100%",
            "_model_name": "FloatProgressModel",
            "bar_style": "success",
            "max": 433,
            "_view_module": "@jupyter-widgets/controls",
            "_model_module_version": "1.5.0",
            "value": 433,
            "_view_count": null,
            "_view_module_version": "1.5.0",
            "orientation": "horizontal",
            "min": 0,
            "description_tooltip": null,
            "_model_module": "@jupyter-widgets/controls",
            "layout": "IPY_MODEL_9abc19e9631c41d8bb47c4505dc28e80"
          }
        },
        "4302fdad42de41a9bedd26811876b380": {
          "model_module": "@jupyter-widgets/controls",
          "model_name": "HTMLModel",
          "state": {
            "_view_name": "HTMLView",
            "style": "IPY_MODEL_ef0a8b23a24d452fa190550ed93dec26",
            "_dom_classes": [],
            "description": "",
            "_model_name": "HTMLModel",
            "placeholder": "​",
            "_view_module": "@jupyter-widgets/controls",
            "_model_module_version": "1.5.0",
            "value": " 433/433 [00:06&lt;00:00, 68.6B/s]",
            "_view_count": null,
            "_view_module_version": "1.5.0",
            "description_tooltip": null,
            "_model_module": "@jupyter-widgets/controls",
            "layout": "IPY_MODEL_f8d95711d1de452a9dcab4c5e890840e"
          }
        },
        "c5496ff15fcf47cdb013195b1ad9d8b2": {
          "model_module": "@jupyter-widgets/controls",
          "model_name": "ProgressStyleModel",
          "state": {
            "_view_name": "StyleView",
            "_model_name": "ProgressStyleModel",
            "description_width": "initial",
            "_view_module": "@jupyter-widgets/base",
            "_model_module_version": "1.5.0",
            "_view_count": null,
            "_view_module_version": "1.2.0",
            "bar_color": null,
            "_model_module": "@jupyter-widgets/controls"
          }
        },
        "9abc19e9631c41d8bb47c4505dc28e80": {
          "model_module": "@jupyter-widgets/base",
          "model_name": "LayoutModel",
          "state": {
            "_view_name": "LayoutView",
            "grid_template_rows": null,
            "right": null,
            "justify_content": null,
            "_view_module": "@jupyter-widgets/base",
            "overflow": null,
            "_model_module_version": "1.2.0",
            "_view_count": null,
            "flex_flow": null,
            "width": null,
            "min_width": null,
            "border": null,
            "align_items": null,
            "bottom": null,
            "_model_module": "@jupyter-widgets/base",
            "top": null,
            "grid_column": null,
            "overflow_y": null,
            "overflow_x": null,
            "grid_auto_flow": null,
            "grid_area": null,
            "grid_template_columns": null,
            "flex": null,
            "_model_name": "LayoutModel",
            "justify_items": null,
            "grid_row": null,
            "max_height": null,
            "align_content": null,
            "visibility": null,
            "align_self": null,
            "height": null,
            "min_height": null,
            "padding": null,
            "grid_auto_rows": null,
            "grid_gap": null,
            "max_width": null,
            "order": null,
            "_view_module_version": "1.2.0",
            "grid_template_areas": null,
            "object_position": null,
            "object_fit": null,
            "grid_auto_columns": null,
            "margin": null,
            "display": null,
            "left": null
          }
        },
        "ef0a8b23a24d452fa190550ed93dec26": {
          "model_module": "@jupyter-widgets/controls",
          "model_name": "DescriptionStyleModel",
          "state": {
            "_view_name": "StyleView",
            "_model_name": "DescriptionStyleModel",
            "description_width": "",
            "_view_module": "@jupyter-widgets/base",
            "_model_module_version": "1.5.0",
            "_view_count": null,
            "_view_module_version": "1.2.0",
            "_model_module": "@jupyter-widgets/controls"
          }
        },
        "f8d95711d1de452a9dcab4c5e890840e": {
          "model_module": "@jupyter-widgets/base",
          "model_name": "LayoutModel",
          "state": {
            "_view_name": "LayoutView",
            "grid_template_rows": null,
            "right": null,
            "justify_content": null,
            "_view_module": "@jupyter-widgets/base",
            "overflow": null,
            "_model_module_version": "1.2.0",
            "_view_count": null,
            "flex_flow": null,
            "width": null,
            "min_width": null,
            "border": null,
            "align_items": null,
            "bottom": null,
            "_model_module": "@jupyter-widgets/base",
            "top": null,
            "grid_column": null,
            "overflow_y": null,
            "overflow_x": null,
            "grid_auto_flow": null,
            "grid_area": null,
            "grid_template_columns": null,
            "flex": null,
            "_model_name": "LayoutModel",
            "justify_items": null,
            "grid_row": null,
            "max_height": null,
            "align_content": null,
            "visibility": null,
            "align_self": null,
            "height": null,
            "min_height": null,
            "padding": null,
            "grid_auto_rows": null,
            "grid_gap": null,
            "max_width": null,
            "order": null,
            "_view_module_version": "1.2.0",
            "grid_template_areas": null,
            "object_position": null,
            "object_fit": null,
            "grid_auto_columns": null,
            "margin": null,
            "display": null,
            "left": null
          }
        },
        "f591cefdde0c4c2996d6f52ec50de456": {
          "model_module": "@jupyter-widgets/controls",
          "model_name": "HBoxModel",
          "state": {
            "_view_name": "HBoxView",
            "_dom_classes": [],
            "_model_name": "HBoxModel",
            "_view_module": "@jupyter-widgets/controls",
            "_model_module_version": "1.5.0",
            "_view_count": null,
            "_view_module_version": "1.5.0",
            "box_style": "",
            "layout": "IPY_MODEL_635c0903f0ce4c9a8410a0c1ba2c231d",
            "_model_module": "@jupyter-widgets/controls",
            "children": [
              "IPY_MODEL_e579bc2ea49b44e79f3468371ee3893d",
              "IPY_MODEL_6798e20c60b74a74adaa110d7e96f9c0"
            ]
          }
        },
        "635c0903f0ce4c9a8410a0c1ba2c231d": {
          "model_module": "@jupyter-widgets/base",
          "model_name": "LayoutModel",
          "state": {
            "_view_name": "LayoutView",
            "grid_template_rows": null,
            "right": null,
            "justify_content": null,
            "_view_module": "@jupyter-widgets/base",
            "overflow": null,
            "_model_module_version": "1.2.0",
            "_view_count": null,
            "flex_flow": null,
            "width": null,
            "min_width": null,
            "border": null,
            "align_items": null,
            "bottom": null,
            "_model_module": "@jupyter-widgets/base",
            "top": null,
            "grid_column": null,
            "overflow_y": null,
            "overflow_x": null,
            "grid_auto_flow": null,
            "grid_area": null,
            "grid_template_columns": null,
            "flex": null,
            "_model_name": "LayoutModel",
            "justify_items": null,
            "grid_row": null,
            "max_height": null,
            "align_content": null,
            "visibility": null,
            "align_self": null,
            "height": null,
            "min_height": null,
            "padding": null,
            "grid_auto_rows": null,
            "grid_gap": null,
            "max_width": null,
            "order": null,
            "_view_module_version": "1.2.0",
            "grid_template_areas": null,
            "object_position": null,
            "object_fit": null,
            "grid_auto_columns": null,
            "margin": null,
            "display": null,
            "left": null
          }
        },
        "e579bc2ea49b44e79f3468371ee3893d": {
          "model_module": "@jupyter-widgets/controls",
          "model_name": "FloatProgressModel",
          "state": {
            "_view_name": "ProgressView",
            "style": "IPY_MODEL_6031453ebb454f6799115a8d55ef54c2",
            "_dom_classes": [],
            "description": "Downloading: 100%",
            "_model_name": "FloatProgressModel",
            "bar_style": "success",
            "max": 440473133,
            "_view_module": "@jupyter-widgets/controls",
            "_model_module_version": "1.5.0",
            "value": 440473133,
            "_view_count": null,
            "_view_module_version": "1.5.0",
            "orientation": "horizontal",
            "min": 0,
            "description_tooltip": null,
            "_model_module": "@jupyter-widgets/controls",
            "layout": "IPY_MODEL_9ebc0c48a7a94249b3e1ad65b6ae14a6"
          }
        },
        "6798e20c60b74a74adaa110d7e96f9c0": {
          "model_module": "@jupyter-widgets/controls",
          "model_name": "HTMLModel",
          "state": {
            "_view_name": "HTMLView",
            "style": "IPY_MODEL_e79e711149bd47aa9165711e161ebee5",
            "_dom_classes": [],
            "description": "",
            "_model_name": "HTMLModel",
            "placeholder": "​",
            "_view_module": "@jupyter-widgets/controls",
            "_model_module_version": "1.5.0",
            "value": " 440M/440M [00:06&lt;00:00, 73.0MB/s]",
            "_view_count": null,
            "_view_module_version": "1.5.0",
            "description_tooltip": null,
            "_model_module": "@jupyter-widgets/controls",
            "layout": "IPY_MODEL_57c0385dad314b648e74bb50af7d24bb"
          }
        },
        "6031453ebb454f6799115a8d55ef54c2": {
          "model_module": "@jupyter-widgets/controls",
          "model_name": "ProgressStyleModel",
          "state": {
            "_view_name": "StyleView",
            "_model_name": "ProgressStyleModel",
            "description_width": "initial",
            "_view_module": "@jupyter-widgets/base",
            "_model_module_version": "1.5.0",
            "_view_count": null,
            "_view_module_version": "1.2.0",
            "bar_color": null,
            "_model_module": "@jupyter-widgets/controls"
          }
        },
        "9ebc0c48a7a94249b3e1ad65b6ae14a6": {
          "model_module": "@jupyter-widgets/base",
          "model_name": "LayoutModel",
          "state": {
            "_view_name": "LayoutView",
            "grid_template_rows": null,
            "right": null,
            "justify_content": null,
            "_view_module": "@jupyter-widgets/base",
            "overflow": null,
            "_model_module_version": "1.2.0",
            "_view_count": null,
            "flex_flow": null,
            "width": null,
            "min_width": null,
            "border": null,
            "align_items": null,
            "bottom": null,
            "_model_module": "@jupyter-widgets/base",
            "top": null,
            "grid_column": null,
            "overflow_y": null,
            "overflow_x": null,
            "grid_auto_flow": null,
            "grid_area": null,
            "grid_template_columns": null,
            "flex": null,
            "_model_name": "LayoutModel",
            "justify_items": null,
            "grid_row": null,
            "max_height": null,
            "align_content": null,
            "visibility": null,
            "align_self": null,
            "height": null,
            "min_height": null,
            "padding": null,
            "grid_auto_rows": null,
            "grid_gap": null,
            "max_width": null,
            "order": null,
            "_view_module_version": "1.2.0",
            "grid_template_areas": null,
            "object_position": null,
            "object_fit": null,
            "grid_auto_columns": null,
            "margin": null,
            "display": null,
            "left": null
          }
        },
        "e79e711149bd47aa9165711e161ebee5": {
          "model_module": "@jupyter-widgets/controls",
          "model_name": "DescriptionStyleModel",
          "state": {
            "_view_name": "StyleView",
            "_model_name": "DescriptionStyleModel",
            "description_width": "",
            "_view_module": "@jupyter-widgets/base",
            "_model_module_version": "1.5.0",
            "_view_count": null,
            "_view_module_version": "1.2.0",
            "_model_module": "@jupyter-widgets/controls"
          }
        },
        "57c0385dad314b648e74bb50af7d24bb": {
          "model_module": "@jupyter-widgets/base",
          "model_name": "LayoutModel",
          "state": {
            "_view_name": "LayoutView",
            "grid_template_rows": null,
            "right": null,
            "justify_content": null,
            "_view_module": "@jupyter-widgets/base",
            "overflow": null,
            "_model_module_version": "1.2.0",
            "_view_count": null,
            "flex_flow": null,
            "width": null,
            "min_width": null,
            "border": null,
            "align_items": null,
            "bottom": null,
            "_model_module": "@jupyter-widgets/base",
            "top": null,
            "grid_column": null,
            "overflow_y": null,
            "overflow_x": null,
            "grid_auto_flow": null,
            "grid_area": null,
            "grid_template_columns": null,
            "flex": null,
            "_model_name": "LayoutModel",
            "justify_items": null,
            "grid_row": null,
            "max_height": null,
            "align_content": null,
            "visibility": null,
            "align_self": null,
            "height": null,
            "min_height": null,
            "padding": null,
            "grid_auto_rows": null,
            "grid_gap": null,
            "max_width": null,
            "order": null,
            "_view_module_version": "1.2.0",
            "grid_template_areas": null,
            "object_position": null,
            "object_fit": null,
            "grid_auto_columns": null,
            "margin": null,
            "display": null,
            "left": null
          }
        }
      }
    },
    "accelerator": "GPU"
  },
  "cells": [
    {
      "cell_type": "markdown",
      "metadata": {
        "id": "xNppdFiGaRLE"
      },
      "source": [
        "### Coursework coding instructions (please also see full coursework spec)\n",
        "\n",
        "Please choose if you want to do either Task 1 or Task 2. You should write your report about one task only.\n",
        "\n",
        "For the task you choose you will need to do two approaches:\n",
        "  - Approach 1, which can use use pre-trained embeddings / models\n",
        "  - Approach 2, which should not use any pre-trained embeddings or models\n",
        "We should be able to run both approaches from the same colab file\n",
        "\n",
        "#### Running your code:\n",
        "  - Your models should run automatically when running your colab file without further intervention\n",
        "  - For each task you should automatically output the performance of both models\n",
        "  - Your code should automatically download any libraries required\n",
        "\n",
        "#### Structure of your code:\n",
        "  - You are expected to use the 'train', 'eval' and 'model_performance' functions, although you may edit these as required\n",
        "  - Otherwise there are no restrictions on what you can do in your code\n",
        "\n",
        "#### Documentation:\n",
        "  - You are expected to produce a .README file summarising how you have approached both tasks\n",
        "\n",
        "#### Reproducibility:\n",
        "  - Your .README file should explain how to replicate the different experiments mentioned in your report\n",
        "\n",
        "Good luck! We are really looking forward to seeing your reports and your model code!"
      ]
    },
    {
      "cell_type": "code",
      "metadata": {
        "id": "D8IanU_MaRLH"
      },
      "source": [
        "#Todo\n",
        "#Remove punctuation\n",
        "#Use embedding that represents headslines\n",
        "#Tokenizer with special token"
      ],
      "execution_count": null,
      "outputs": []
    },
    {
      "cell_type": "code",
      "metadata": {
        "colab": {
          "base_uri": "https://localhost:8080/"
        },
        "id": "4WfDREnZaRLI",
        "outputId": "0017b565-6f75-404e-d9a9-eca02ea97b28"
      },
      "source": [
        "# You will need to download any word embeddings required for your code, e.g.:\n",
        "\n",
        "!wget http://nlp.stanford.edu/data/glove.6B.zip\n",
        "!unzip glove.6B.zip\n",
        "\n",
        "# For any packages that Colab does not provide auotmatically you will also need to install these below, e.g.:\n",
        "\n",
        "#! pip install torch"
      ],
      "execution_count": 1,
      "outputs": [
        {
          "output_type": "stream",
          "text": [
            "--2021-02-21 12:08:11--  http://nlp.stanford.edu/data/glove.6B.zip\n",
            "Resolving nlp.stanford.edu (nlp.stanford.edu)... 171.64.67.140\n",
            "Connecting to nlp.stanford.edu (nlp.stanford.edu)|171.64.67.140|:80... connected.\n",
            "HTTP request sent, awaiting response... 302 Found\n",
            "Location: https://nlp.stanford.edu/data/glove.6B.zip [following]\n",
            "--2021-02-21 12:08:12--  https://nlp.stanford.edu/data/glove.6B.zip\n",
            "Connecting to nlp.stanford.edu (nlp.stanford.edu)|171.64.67.140|:443... connected.\n",
            "HTTP request sent, awaiting response... 301 Moved Permanently\n",
            "Location: http://downloads.cs.stanford.edu/nlp/data/glove.6B.zip [following]\n",
            "--2021-02-21 12:08:12--  http://downloads.cs.stanford.edu/nlp/data/glove.6B.zip\n",
            "Resolving downloads.cs.stanford.edu (downloads.cs.stanford.edu)... 171.64.64.22\n",
            "Connecting to downloads.cs.stanford.edu (downloads.cs.stanford.edu)|171.64.64.22|:80... connected.\n",
            "HTTP request sent, awaiting response... 200 OK\n",
            "Length: 862182613 (822M) [application/zip]\n",
            "Saving to: ‘glove.6B.zip’\n",
            "\n",
            "glove.6B.zip        100%[===================>] 822.24M  2.02MB/s    in 6m 51s  \n",
            "\n",
            "2021-02-21 12:15:03 (2.00 MB/s) - ‘glove.6B.zip’ saved [862182613/862182613]\n",
            "\n",
            "Archive:  glove.6B.zip\n",
            "  inflating: glove.6B.50d.txt        \n",
            "  inflating: glove.6B.100d.txt       \n",
            "  inflating: glove.6B.200d.txt       \n",
            "  inflating: glove.6B.300d.txt       \n"
          ],
          "name": "stdout"
        }
      ]
    },
    {
      "cell_type": "code",
      "metadata": {
        "colab": {
          "base_uri": "https://localhost:8080/",
          "height": 528
        },
        "id": "TYZiUqXFghTY",
        "outputId": "25900ed5-7557-4719-b504-969d33f0df53"
      },
      "source": [
        "#from google.colab import drive\n",
        "\n",
        "#drive.mount('/content/drive/')"
      ],
      "execution_count": 2,
      "outputs": [
        {
          "output_type": "error",
          "ename": "KeyboardInterrupt",
          "evalue": "ignored",
          "traceback": [
            "\u001b[0;31m---------------------------------------------------------------------------\u001b[0m",
            "\u001b[0;31mKeyboardInterrupt\u001b[0m                         Traceback (most recent call last)",
            "\u001b[0;32m/usr/local/lib/python3.6/dist-packages/ipykernel/kernelbase.py\u001b[0m in \u001b[0;36m_input_request\u001b[0;34m(self, prompt, ident, parent, password)\u001b[0m\n\u001b[1;32m    728\u001b[0m             \u001b[0;32mtry\u001b[0m\u001b[0;34m:\u001b[0m\u001b[0;34m\u001b[0m\u001b[0;34m\u001b[0m\u001b[0m\n\u001b[0;32m--> 729\u001b[0;31m                 \u001b[0mident\u001b[0m\u001b[0;34m,\u001b[0m \u001b[0mreply\u001b[0m \u001b[0;34m=\u001b[0m \u001b[0mself\u001b[0m\u001b[0;34m.\u001b[0m\u001b[0msession\u001b[0m\u001b[0;34m.\u001b[0m\u001b[0mrecv\u001b[0m\u001b[0;34m(\u001b[0m\u001b[0mself\u001b[0m\u001b[0;34m.\u001b[0m\u001b[0mstdin_socket\u001b[0m\u001b[0;34m,\u001b[0m \u001b[0;36m0\u001b[0m\u001b[0;34m)\u001b[0m\u001b[0;34m\u001b[0m\u001b[0;34m\u001b[0m\u001b[0m\n\u001b[0m\u001b[1;32m    730\u001b[0m             \u001b[0;32mexcept\u001b[0m \u001b[0mException\u001b[0m\u001b[0;34m:\u001b[0m\u001b[0;34m\u001b[0m\u001b[0;34m\u001b[0m\u001b[0m\n",
            "\u001b[0;32m/usr/local/lib/python3.6/dist-packages/jupyter_client/session.py\u001b[0m in \u001b[0;36mrecv\u001b[0;34m(self, socket, mode, content, copy)\u001b[0m\n\u001b[1;32m    802\u001b[0m         \u001b[0;32mtry\u001b[0m\u001b[0;34m:\u001b[0m\u001b[0;34m\u001b[0m\u001b[0;34m\u001b[0m\u001b[0m\n\u001b[0;32m--> 803\u001b[0;31m             \u001b[0mmsg_list\u001b[0m \u001b[0;34m=\u001b[0m \u001b[0msocket\u001b[0m\u001b[0;34m.\u001b[0m\u001b[0mrecv_multipart\u001b[0m\u001b[0;34m(\u001b[0m\u001b[0mmode\u001b[0m\u001b[0;34m,\u001b[0m \u001b[0mcopy\u001b[0m\u001b[0;34m=\u001b[0m\u001b[0mcopy\u001b[0m\u001b[0;34m)\u001b[0m\u001b[0;34m\u001b[0m\u001b[0;34m\u001b[0m\u001b[0m\n\u001b[0m\u001b[1;32m    804\u001b[0m         \u001b[0;32mexcept\u001b[0m \u001b[0mzmq\u001b[0m\u001b[0;34m.\u001b[0m\u001b[0mZMQError\u001b[0m \u001b[0;32mas\u001b[0m \u001b[0me\u001b[0m\u001b[0;34m:\u001b[0m\u001b[0;34m\u001b[0m\u001b[0;34m\u001b[0m\u001b[0m\n",
            "\u001b[0;32m/usr/local/lib/python3.6/dist-packages/zmq/sugar/socket.py\u001b[0m in \u001b[0;36mrecv_multipart\u001b[0;34m(self, flags, copy, track)\u001b[0m\n\u001b[1;32m    582\u001b[0m         \"\"\"\n\u001b[0;32m--> 583\u001b[0;31m         \u001b[0mparts\u001b[0m \u001b[0;34m=\u001b[0m \u001b[0;34m[\u001b[0m\u001b[0mself\u001b[0m\u001b[0;34m.\u001b[0m\u001b[0mrecv\u001b[0m\u001b[0;34m(\u001b[0m\u001b[0mflags\u001b[0m\u001b[0;34m,\u001b[0m \u001b[0mcopy\u001b[0m\u001b[0;34m=\u001b[0m\u001b[0mcopy\u001b[0m\u001b[0;34m,\u001b[0m \u001b[0mtrack\u001b[0m\u001b[0;34m=\u001b[0m\u001b[0mtrack\u001b[0m\u001b[0;34m)\u001b[0m\u001b[0;34m]\u001b[0m\u001b[0;34m\u001b[0m\u001b[0;34m\u001b[0m\u001b[0m\n\u001b[0m\u001b[1;32m    584\u001b[0m         \u001b[0;31m# have first part already, only loop while more to receive\u001b[0m\u001b[0;34m\u001b[0m\u001b[0;34m\u001b[0m\u001b[0;34m\u001b[0m\u001b[0m\n",
            "\u001b[0;32mzmq/backend/cython/socket.pyx\u001b[0m in \u001b[0;36mzmq.backend.cython.socket.Socket.recv\u001b[0;34m()\u001b[0m\n",
            "\u001b[0;32mzmq/backend/cython/socket.pyx\u001b[0m in \u001b[0;36mzmq.backend.cython.socket.Socket.recv\u001b[0;34m()\u001b[0m\n",
            "\u001b[0;32mzmq/backend/cython/socket.pyx\u001b[0m in \u001b[0;36mzmq.backend.cython.socket._recv_copy\u001b[0;34m()\u001b[0m\n",
            "\u001b[0;32m/usr/local/lib/python3.6/dist-packages/zmq/backend/cython/checkrc.pxd\u001b[0m in \u001b[0;36mzmq.backend.cython.checkrc._check_rc\u001b[0;34m()\u001b[0m\n",
            "\u001b[0;31mKeyboardInterrupt\u001b[0m: ",
            "\nDuring handling of the above exception, another exception occurred:\n",
            "\u001b[0;31mKeyboardInterrupt\u001b[0m                         Traceback (most recent call last)",
            "\u001b[0;32m<ipython-input-2-e6c166483820>\u001b[0m in \u001b[0;36m<module>\u001b[0;34m()\u001b[0m\n\u001b[1;32m      1\u001b[0m \u001b[0;32mfrom\u001b[0m \u001b[0mgoogle\u001b[0m\u001b[0;34m.\u001b[0m\u001b[0mcolab\u001b[0m \u001b[0;32mimport\u001b[0m \u001b[0mdrive\u001b[0m\u001b[0;34m\u001b[0m\u001b[0;34m\u001b[0m\u001b[0m\n\u001b[1;32m      2\u001b[0m \u001b[0;34m\u001b[0m\u001b[0m\n\u001b[0;32m----> 3\u001b[0;31m \u001b[0mdrive\u001b[0m\u001b[0;34m.\u001b[0m\u001b[0mmount\u001b[0m\u001b[0;34m(\u001b[0m\u001b[0;34m'/content/drive/'\u001b[0m\u001b[0;34m)\u001b[0m\u001b[0;34m\u001b[0m\u001b[0;34m\u001b[0m\u001b[0m\n\u001b[0m",
            "\u001b[0;32m/usr/local/lib/python3.6/dist-packages/google/colab/drive.py\u001b[0m in \u001b[0;36mmount\u001b[0;34m(mountpoint, force_remount, timeout_ms, use_metadata_server)\u001b[0m\n\u001b[1;32m    259\u001b[0m       \u001b[0;32mwith\u001b[0m \u001b[0m_output\u001b[0m\u001b[0;34m.\u001b[0m\u001b[0muse_tags\u001b[0m\u001b[0;34m(\u001b[0m\u001b[0;34m'dfs-auth-dance'\u001b[0m\u001b[0;34m)\u001b[0m\u001b[0;34m:\u001b[0m\u001b[0;34m\u001b[0m\u001b[0;34m\u001b[0m\u001b[0m\n\u001b[1;32m    260\u001b[0m         \u001b[0;32mwith\u001b[0m \u001b[0mopen\u001b[0m\u001b[0;34m(\u001b[0m\u001b[0mfifo\u001b[0m\u001b[0;34m,\u001b[0m \u001b[0;34m'w'\u001b[0m\u001b[0;34m)\u001b[0m \u001b[0;32mas\u001b[0m \u001b[0mfifo_file\u001b[0m\u001b[0;34m:\u001b[0m\u001b[0;34m\u001b[0m\u001b[0;34m\u001b[0m\u001b[0m\n\u001b[0;32m--> 261\u001b[0;31m           \u001b[0mfifo_file\u001b[0m\u001b[0;34m.\u001b[0m\u001b[0mwrite\u001b[0m\u001b[0;34m(\u001b[0m\u001b[0mget_code\u001b[0m\u001b[0;34m(\u001b[0m\u001b[0mauth_prompt\u001b[0m\u001b[0;34m)\u001b[0m \u001b[0;34m+\u001b[0m \u001b[0;34m'\\n'\u001b[0m\u001b[0;34m)\u001b[0m\u001b[0;34m\u001b[0m\u001b[0;34m\u001b[0m\u001b[0m\n\u001b[0m\u001b[1;32m    262\u001b[0m       \u001b[0mwrote_to_fifo\u001b[0m \u001b[0;34m=\u001b[0m \u001b[0;32mTrue\u001b[0m\u001b[0;34m\u001b[0m\u001b[0;34m\u001b[0m\u001b[0m\n\u001b[1;32m    263\u001b[0m     \u001b[0;32melif\u001b[0m \u001b[0mcase\u001b[0m \u001b[0;34m==\u001b[0m \u001b[0;36m5\u001b[0m\u001b[0;34m:\u001b[0m\u001b[0;34m\u001b[0m\u001b[0;34m\u001b[0m\u001b[0m\n",
            "\u001b[0;32m/usr/local/lib/python3.6/dist-packages/ipykernel/kernelbase.py\u001b[0m in \u001b[0;36mraw_input\u001b[0;34m(self, prompt)\u001b[0m\n\u001b[1;32m    702\u001b[0m             \u001b[0mself\u001b[0m\u001b[0;34m.\u001b[0m\u001b[0m_parent_ident\u001b[0m\u001b[0;34m,\u001b[0m\u001b[0;34m\u001b[0m\u001b[0;34m\u001b[0m\u001b[0m\n\u001b[1;32m    703\u001b[0m             \u001b[0mself\u001b[0m\u001b[0;34m.\u001b[0m\u001b[0m_parent_header\u001b[0m\u001b[0;34m,\u001b[0m\u001b[0;34m\u001b[0m\u001b[0;34m\u001b[0m\u001b[0m\n\u001b[0;32m--> 704\u001b[0;31m             \u001b[0mpassword\u001b[0m\u001b[0;34m=\u001b[0m\u001b[0;32mFalse\u001b[0m\u001b[0;34m,\u001b[0m\u001b[0;34m\u001b[0m\u001b[0;34m\u001b[0m\u001b[0m\n\u001b[0m\u001b[1;32m    705\u001b[0m         )\n\u001b[1;32m    706\u001b[0m \u001b[0;34m\u001b[0m\u001b[0m\n",
            "\u001b[0;32m/usr/local/lib/python3.6/dist-packages/ipykernel/kernelbase.py\u001b[0m in \u001b[0;36m_input_request\u001b[0;34m(self, prompt, ident, parent, password)\u001b[0m\n\u001b[1;32m    732\u001b[0m             \u001b[0;32mexcept\u001b[0m \u001b[0mKeyboardInterrupt\u001b[0m\u001b[0;34m:\u001b[0m\u001b[0;34m\u001b[0m\u001b[0;34m\u001b[0m\u001b[0m\n\u001b[1;32m    733\u001b[0m                 \u001b[0;31m# re-raise KeyboardInterrupt, to truncate traceback\u001b[0m\u001b[0;34m\u001b[0m\u001b[0;34m\u001b[0m\u001b[0;34m\u001b[0m\u001b[0m\n\u001b[0;32m--> 734\u001b[0;31m                 \u001b[0;32mraise\u001b[0m \u001b[0mKeyboardInterrupt\u001b[0m\u001b[0;34m\u001b[0m\u001b[0;34m\u001b[0m\u001b[0m\n\u001b[0m\u001b[1;32m    735\u001b[0m             \u001b[0;32melse\u001b[0m\u001b[0;34m:\u001b[0m\u001b[0;34m\u001b[0m\u001b[0;34m\u001b[0m\u001b[0m\n\u001b[1;32m    736\u001b[0m                 \u001b[0;32mbreak\u001b[0m\u001b[0;34m\u001b[0m\u001b[0;34m\u001b[0m\u001b[0m\n",
            "\u001b[0;31mKeyboardInterrupt\u001b[0m: "
          ]
        }
      ]
    },
    {
      "cell_type": "code",
      "metadata": {
        "colab": {
          "base_uri": "https://localhost:8080/"
        },
        "id": "D6XoHzG_bHDo",
        "outputId": "e2229960-471e-429d-d07e-083f2fbc0fce"
      },
      "source": [
        "! pip install transformers"
      ],
      "execution_count": 3,
      "outputs": [
        {
          "output_type": "stream",
          "text": [
            "Collecting transformers\n",
            "\u001b[?25l  Downloading https://files.pythonhosted.org/packages/98/87/ef312eef26f5cecd8b17ae9654cdd8d1fae1eb6dbd87257d6d73c128a4d0/transformers-4.3.2-py3-none-any.whl (1.8MB)\n",
            "\u001b[K     |████████████████████████████████| 1.8MB 16.9MB/s \n",
            "\u001b[?25hRequirement already satisfied: filelock in /usr/local/lib/python3.6/dist-packages (from transformers) (3.0.12)\n",
            "Requirement already satisfied: importlib-metadata; python_version < \"3.8\" in /usr/local/lib/python3.6/dist-packages (from transformers) (3.4.0)\n",
            "Requirement already satisfied: regex!=2019.12.17 in /usr/local/lib/python3.6/dist-packages (from transformers) (2019.12.20)\n",
            "Collecting sacremoses\n",
            "\u001b[?25l  Downloading https://files.pythonhosted.org/packages/7d/34/09d19aff26edcc8eb2a01bed8e98f13a1537005d31e95233fd48216eed10/sacremoses-0.0.43.tar.gz (883kB)\n",
            "\u001b[K     |████████████████████████████████| 890kB 54.4MB/s \n",
            "\u001b[?25hRequirement already satisfied: packaging in /usr/local/lib/python3.6/dist-packages (from transformers) (20.9)\n",
            "Requirement already satisfied: dataclasses; python_version < \"3.7\" in /usr/local/lib/python3.6/dist-packages (from transformers) (0.8)\n",
            "Requirement already satisfied: tqdm>=4.27 in /usr/local/lib/python3.6/dist-packages (from transformers) (4.41.1)\n",
            "Requirement already satisfied: numpy>=1.17 in /usr/local/lib/python3.6/dist-packages (from transformers) (1.19.5)\n",
            "Collecting tokenizers<0.11,>=0.10.1\n",
            "\u001b[?25l  Downloading https://files.pythonhosted.org/packages/fd/5b/44baae602e0a30bcc53fbdbc60bd940c15e143d252d658dfdefce736ece5/tokenizers-0.10.1-cp36-cp36m-manylinux2010_x86_64.whl (3.2MB)\n",
            "\u001b[K     |████████████████████████████████| 3.2MB 55.4MB/s \n",
            "\u001b[?25hRequirement already satisfied: requests in /usr/local/lib/python3.6/dist-packages (from transformers) (2.23.0)\n",
            "Requirement already satisfied: zipp>=0.5 in /usr/local/lib/python3.6/dist-packages (from importlib-metadata; python_version < \"3.8\"->transformers) (3.4.0)\n",
            "Requirement already satisfied: typing-extensions>=3.6.4; python_version < \"3.8\" in /usr/local/lib/python3.6/dist-packages (from importlib-metadata; python_version < \"3.8\"->transformers) (3.7.4.3)\n",
            "Requirement already satisfied: six in /usr/local/lib/python3.6/dist-packages (from sacremoses->transformers) (1.15.0)\n",
            "Requirement already satisfied: click in /usr/local/lib/python3.6/dist-packages (from sacremoses->transformers) (7.1.2)\n",
            "Requirement already satisfied: joblib in /usr/local/lib/python3.6/dist-packages (from sacremoses->transformers) (1.0.0)\n",
            "Requirement already satisfied: pyparsing>=2.0.2 in /usr/local/lib/python3.6/dist-packages (from packaging->transformers) (2.4.7)\n",
            "Requirement already satisfied: certifi>=2017.4.17 in /usr/local/lib/python3.6/dist-packages (from requests->transformers) (2020.12.5)\n",
            "Requirement already satisfied: idna<3,>=2.5 in /usr/local/lib/python3.6/dist-packages (from requests->transformers) (2.10)\n",
            "Requirement already satisfied: urllib3!=1.25.0,!=1.25.1,<1.26,>=1.21.1 in /usr/local/lib/python3.6/dist-packages (from requests->transformers) (1.24.3)\n",
            "Requirement already satisfied: chardet<4,>=3.0.2 in /usr/local/lib/python3.6/dist-packages (from requests->transformers) (3.0.4)\n",
            "Building wheels for collected packages: sacremoses\n",
            "  Building wheel for sacremoses (setup.py) ... \u001b[?25l\u001b[?25hdone\n",
            "  Created wheel for sacremoses: filename=sacremoses-0.0.43-cp36-none-any.whl size=893261 sha256=bfe077e239cbc3b966c60985d949a8ef4b478738050eca51761cf7e701b4de95\n",
            "  Stored in directory: /root/.cache/pip/wheels/29/3c/fd/7ce5c3f0666dab31a50123635e6fb5e19ceb42ce38d4e58f45\n",
            "Successfully built sacremoses\n",
            "Installing collected packages: sacremoses, tokenizers, transformers\n",
            "Successfully installed sacremoses-0.0.43 tokenizers-0.10.1 transformers-4.3.2\n"
          ],
          "name": "stdout"
        }
      ]
    },
    {
      "cell_type": "code",
      "metadata": {
        "id": "kFcC8gvDaRLI"
      },
      "source": [
        "# Imports\n",
        "\n",
        "import torch\n",
        "import torch.nn as nn\n",
        "import torch.nn.functional as F\n",
        "import pandas as pd\n",
        "import numpy as np\n",
        "from sklearn.feature_extraction.text import CountVectorizer\n",
        "from torch.utils.data import Dataset, random_split\n",
        "from sklearn.feature_extraction.text import TfidfTransformer\n",
        "from sklearn.model_selection import train_test_split\n",
        "from sklearn.linear_model import LinearRegression\n",
        "import codecs\n",
        "from transformers import RobertaTokenizer, RobertaModel, BertTokenizer, BertModel, BertForSequenceClassification, AdamW, BertConfig, get_linear_schedule_with_warmup\n",
        "import spacy\n",
        "from spacy.tokenizer import Tokenizer\n",
        "import re\n",
        "import pdb\n",
        "import random\n",
        "import csv\n",
        "import tqdm\n",
        "import multiprocessing\n",
        "import pickle\n",
        "from torch.utils.data import TensorDataset, random_split\n",
        "from torch.utils.data import DataLoader, RandomSampler, SequentialSampler\n",
        "import matplotlib.pyplot as plt\n",
        "import os\n"
      ],
      "execution_count": 12,
      "outputs": []
    },
    {
      "cell_type": "code",
      "metadata": {
        "colab": {
          "base_uri": "https://localhost:8080/"
        },
        "id": "tJ09zSA9Jq3b",
        "outputId": "3784c6d2-0b0b-4da1-bdbc-ead612d785a2"
      },
      "source": [
        "!nvidia-smi"
      ],
      "execution_count": 2,
      "outputs": [
        {
          "output_type": "stream",
          "text": [
            "Sun Feb 21 12:48:19 2021       \n",
            "+-----------------------------------------------------------------------------+\n",
            "| NVIDIA-SMI 460.39       Driver Version: 460.32.03    CUDA Version: 11.2     |\n",
            "|-------------------------------+----------------------+----------------------+\n",
            "| GPU  Name        Persistence-M| Bus-Id        Disp.A | Volatile Uncorr. ECC |\n",
            "| Fan  Temp  Perf  Pwr:Usage/Cap|         Memory-Usage | GPU-Util  Compute M. |\n",
            "|                               |                      |               MIG M. |\n",
            "|===============================+======================+======================|\n",
            "|   0  Tesla T4            Off  | 00000000:00:04.0 Off |                    0 |\n",
            "| N/A   36C    P8     9W /  70W |      0MiB / 15109MiB |      0%      Default |\n",
            "|                               |                      |                  N/A |\n",
            "+-------------------------------+----------------------+----------------------+\n",
            "                                                                               \n",
            "+-----------------------------------------------------------------------------+\n",
            "| Processes:                                                                  |\n",
            "|  GPU   GI   CI        PID   Type   Process name                  GPU Memory |\n",
            "|        ID   ID                                                   Usage      |\n",
            "|=============================================================================|\n",
            "|  No running processes found                                                 |\n",
            "+-----------------------------------------------------------------------------+\n"
          ],
          "name": "stdout"
        }
      ]
    },
    {
      "cell_type": "code",
      "metadata": {
        "colab": {
          "base_uri": "https://localhost:8080/"
        },
        "id": "84OyAVNSaRLJ",
        "outputId": "4914fdf6-bee0-45d7-e3bc-5b23e29e0a66"
      },
      "source": [
        "# Setting random seed and device\n",
        "SEED = 1\n",
        "\n",
        "torch.manual_seed(SEED)\n",
        "torch.cuda.manual_seed(SEED)\n",
        "torch.backends.cudnn.deterministic = True\n",
        "\n",
        "use_cuda = torch.cuda.is_available()\n",
        "device = torch.device(\"cuda:0\" if use_cuda else \"cpu\")\n",
        "device"
      ],
      "execution_count": 92,
      "outputs": [
        {
          "output_type": "execute_result",
          "data": {
            "text/plain": [
              "device(type='cuda', index=0)"
            ]
          },
          "metadata": {
            "tags": []
          },
          "execution_count": 92
        }
      ]
    },
    {
      "cell_type": "code",
      "metadata": {
        "colab": {
          "base_uri": "https://localhost:8080/"
        },
        "id": "2gxbblziaRLK",
        "outputId": "b9ba97f3-8f49-4f57-81ae-bd5fb9e585b8"
      },
      "source": [
        "# Load data\n",
        "%mkdir ./data\n",
        "%cd ./data\n",
        "import os\n",
        "\n",
        "if not os.path.isfile('train.csv'): \n",
        "  !wget -O train.csv https://www.dropbox.com/s/utcewlslgwm278m/train.csv?dl=0\n",
        "if not os.path.isfile('dev.csv'): \n",
        "  !wget -O dev.csv https://www.dropbox.com/s/0bpqmpb009ay717/dev.csv?dl=0\n",
        "if not os.path.isfile('extra_train.csv'): \n",
        "  !wget -O extra_train.csv https://www.dropbox.com/s/6bptu62w4uvhtkf/extra_train_data-3.csv?dl=0\n",
        "\n",
        "%cd ..\n",
        "\n",
        "train_df = pd.read_csv('./data/train.csv')\n",
        "test_df = pd.read_csv('./data/dev.csv')\n",
        "extra_train = pd.read_csv('./data/extra_train.csv')\n"
      ],
      "execution_count": 295,
      "outputs": [
        {
          "output_type": "stream",
          "text": [
            "mkdir: cannot create directory ‘./data’: File exists\n",
            "/content/data\n",
            "/content\n"
          ],
          "name": "stdout"
        }
      ]
    },
    {
      "cell_type": "markdown",
      "metadata": {
        "id": "3e1fHh81AIUd"
      },
      "source": [
        "### Data PreProcessing"
      ]
    },
    {
      "cell_type": "code",
      "metadata": {
        "id": "aMrfmRD0rPJ_"
      },
      "source": [
        "indexNames = train_df[(train_df['grades'] == 0)].index\n",
        "# Delete these row indexes from dataFrame\n",
        "train_df.drop(indexNames , inplace=True)\n",
        "train_df.reset_index(inplace=True,drop=True)\n",
        "pd.set_option('display.max_rows', 10)"
      ],
      "execution_count": 301,
      "outputs": []
    },
    {
      "cell_type": "code",
      "metadata": {
        "id": "KZtwJ-3fm6LJ"
      },
      "source": [
        "def get_grade_list(grades):\n",
        "  grade_list = []\n",
        "  for i, grade in enumerate(grades):\n",
        "    list_grade = list(str(grade))\n",
        "    grade_list.append(list(map(int, list_grade)))\n",
        "  return grade_list\n",
        "    "
      ],
      "execution_count": 302,
      "outputs": []
    },
    {
      "cell_type": "code",
      "metadata": {
        "id": "z_RDKi6mAK8_"
      },
      "source": [
        " def add_columns_to_data(train_df, test_df):   \n",
        "    #instead of having two inputs out of preprocessing, edit the dataset, and add in columns which we can use as inputs\n",
        "    #we can also add an 'old' field which contains the original word \n",
        "    train_df['old'] = train_df.apply(lambda x:x['original'][x['original'].find('<')+1:x['original'].find('>')-1],axis=1)\n",
        "    test_df['old'] = test_df.apply(lambda x:x['original'][x['original'].find('<')+1:x['original'].find('>')-1],axis=1)\n",
        "\n",
        "    #first we add a field to the data which contains the edited headline\n",
        "    train_df['edited'] = train_df.apply(lambda x:x['original'].replace(x['original'][x['original'].find('<'):x['original'].find('>')+1],x['edit'] ) ,axis=1)\n",
        "    test_df['edited'] = test_df.apply(lambda x:x['original'].replace(x['original'][x['original'].find('<'):x['original'].find('>')+1], x['edit'] ) ,axis=1)\n",
        "\n",
        "    train_df['original'] = train_df.apply(lambda x:x['original'].replace(x['original'][x['original'].find('<'):x['original'].find('>')+1], x['old']) ,axis=1)\n",
        "    test_df['original'] = test_df.apply(lambda x:x['original'].replace(x['original'][x['original'].find('<'):x['original'].find('>')+1], x['old']),axis=1)\n",
        "\n",
        "    grades = train_df[\"grades\"].tolist()\n",
        "    grade_lists = get_grade_list(grades)\n",
        "    vars = [np.var(grade) for grade in grade_lists]\n",
        "    train_df[\"variance\"] = vars\n",
        "\n",
        "    return train_df, test_df"
      ],
      "execution_count": 303,
      "outputs": []
    },
    {
      "cell_type": "code",
      "metadata": {
        "id": "U-19KmczA6ST"
      },
      "source": [
        "train_df, test_df = add_columns_to_data(train_df, test_df)"
      ],
      "execution_count": 304,
      "outputs": []
    },
    {
      "cell_type": "code",
      "metadata": {
        "id": "1hf_rU5nor1l",
        "outputId": "92fa6e97-3525-4454-d7b9-2fd017ed5519",
        "colab": {
          "base_uri": "https://localhost:8080/",
          "height": 419
        }
      },
      "source": [
        "train_df"
      ],
      "execution_count": 305,
      "outputs": [
        {
          "output_type": "execute_result",
          "data": {
            "text/html": [
              "<div>\n",
              "<style scoped>\n",
              "    .dataframe tbody tr th:only-of-type {\n",
              "        vertical-align: middle;\n",
              "    }\n",
              "\n",
              "    .dataframe tbody tr th {\n",
              "        vertical-align: top;\n",
              "    }\n",
              "\n",
              "    .dataframe thead th {\n",
              "        text-align: right;\n",
              "    }\n",
              "</style>\n",
              "<table border=\"1\" class=\"dataframe\">\n",
              "  <thead>\n",
              "    <tr style=\"text-align: right;\">\n",
              "      <th></th>\n",
              "      <th>id</th>\n",
              "      <th>original</th>\n",
              "      <th>edit</th>\n",
              "      <th>grades</th>\n",
              "      <th>meanGrade</th>\n",
              "      <th>old</th>\n",
              "      <th>edited</th>\n",
              "      <th>variance</th>\n",
              "    </tr>\n",
              "  </thead>\n",
              "  <tbody>\n",
              "    <tr>\n",
              "      <th>0</th>\n",
              "      <td>14530</td>\n",
              "      <td>France is ‘ hunting down its citizens who join...</td>\n",
              "      <td>twins</td>\n",
              "      <td>10000</td>\n",
              "      <td>0.2</td>\n",
              "      <td>Isis</td>\n",
              "      <td>France is ‘ hunting down its citizens who join...</td>\n",
              "      <td>0.16</td>\n",
              "    </tr>\n",
              "    <tr>\n",
              "      <th>1</th>\n",
              "      <td>13034</td>\n",
              "      <td>Pentagon claims 2,000 % increase in Russian tr...</td>\n",
              "      <td>bowling</td>\n",
              "      <td>33110</td>\n",
              "      <td>1.6</td>\n",
              "      <td>Syria</td>\n",
              "      <td>Pentagon claims 2,000 % increase in Russian tr...</td>\n",
              "      <td>1.44</td>\n",
              "    </tr>\n",
              "    <tr>\n",
              "      <th>2</th>\n",
              "      <td>8731</td>\n",
              "      <td>Iceland PM Calls Snap Vote as Pedophile Furor ...</td>\n",
              "      <td>party</td>\n",
              "      <td>22100</td>\n",
              "      <td>1.0</td>\n",
              "      <td>Coalition</td>\n",
              "      <td>Iceland PM Calls Snap Vote as Pedophile Furor ...</td>\n",
              "      <td>0.80</td>\n",
              "    </tr>\n",
              "    <tr>\n",
              "      <th>3</th>\n",
              "      <td>76</td>\n",
              "      <td>In an apparent first , Iran and Israel engage ...</td>\n",
              "      <td>slap</td>\n",
              "      <td>20000</td>\n",
              "      <td>0.4</td>\n",
              "      <td>engage</td>\n",
              "      <td>In an apparent first , Iran and Israel slap ea...</td>\n",
              "      <td>0.64</td>\n",
              "    </tr>\n",
              "    <tr>\n",
              "      <th>4</th>\n",
              "      <td>8832</td>\n",
              "      <td>All 22 promises Trump made in his speech to Co...</td>\n",
              "      <td>sounds</td>\n",
              "      <td>22200</td>\n",
              "      <td>1.2</td>\n",
              "      <td>promises</td>\n",
              "      <td>All 22 sounds Trump made in his speech to Cong...</td>\n",
              "      <td>0.96</td>\n",
              "    </tr>\n",
              "    <tr>\n",
              "      <th>...</th>\n",
              "      <td>...</td>\n",
              "      <td>...</td>\n",
              "      <td>...</td>\n",
              "      <td>...</td>\n",
              "      <td>...</td>\n",
              "      <td>...</td>\n",
              "      <td>...</td>\n",
              "      <td>...</td>\n",
              "    </tr>\n",
              "    <tr>\n",
              "      <th>9124</th>\n",
              "      <td>12770</td>\n",
              "      <td>Among Republicans , Trump is more popular than...</td>\n",
              "      <td>interns</td>\n",
              "      <td>21100</td>\n",
              "      <td>0.8</td>\n",
              "      <td>leaders</td>\n",
              "      <td>Among Republicans , Trump is more popular than...</td>\n",
              "      <td>0.56</td>\n",
              "    </tr>\n",
              "    <tr>\n",
              "      <th>9125</th>\n",
              "      <td>1781</td>\n",
              "      <td>Protesters Rally for Refugees Detained at JFK ...</td>\n",
              "      <td>stewardesses</td>\n",
              "      <td>20000</td>\n",
              "      <td>0.4</td>\n",
              "      <td>Refugees</td>\n",
              "      <td>Protesters Rally for stewardesses Detained at ...</td>\n",
              "      <td>0.64</td>\n",
              "    </tr>\n",
              "    <tr>\n",
              "      <th>9126</th>\n",
              "      <td>5628</td>\n",
              "      <td>Cruise line Carnival Corp. joins the fight aga...</td>\n",
              "      <td>raisin</td>\n",
              "      <td>21000</td>\n",
              "      <td>0.6</td>\n",
              "      <td>marriage</td>\n",
              "      <td>Cruise line Carnival Corp. joins the fight aga...</td>\n",
              "      <td>0.64</td>\n",
              "    </tr>\n",
              "    <tr>\n",
              "      <th>9127</th>\n",
              "      <td>14483</td>\n",
              "      <td>Columbia police hunt woman seen with gun near ...</td>\n",
              "      <td>cake</td>\n",
              "      <td>32200</td>\n",
              "      <td>1.4</td>\n",
              "      <td>gun</td>\n",
              "      <td>Columbia police hunt woman seen with cake near...</td>\n",
              "      <td>1.44</td>\n",
              "    </tr>\n",
              "    <tr>\n",
              "      <th>9128</th>\n",
              "      <td>5255</td>\n",
              "      <td>Here 's What 's In The House-Approved Health C...</td>\n",
              "      <td>food</td>\n",
              "      <td>11000</td>\n",
              "      <td>0.4</td>\n",
              "      <td>Care</td>\n",
              "      <td>Here 's What 's In The House-Approved Health f...</td>\n",
              "      <td>0.24</td>\n",
              "    </tr>\n",
              "  </tbody>\n",
              "</table>\n",
              "<p>9129 rows × 8 columns</p>\n",
              "</div>"
            ],
            "text/plain": [
              "         id  ... variance\n",
              "0     14530  ...     0.16\n",
              "1     13034  ...     1.44\n",
              "2      8731  ...     0.80\n",
              "3        76  ...     0.64\n",
              "4      8832  ...     0.96\n",
              "...     ...  ...      ...\n",
              "9124  12770  ...     0.56\n",
              "9125   1781  ...     0.64\n",
              "9126   5628  ...     0.64\n",
              "9127  14483  ...     1.44\n",
              "9128   5255  ...     0.24\n",
              "\n",
              "[9129 rows x 8 columns]"
            ]
          },
          "metadata": {
            "tags": []
          },
          "execution_count": 305
        }
      ]
    },
    {
      "cell_type": "code",
      "metadata": {
        "id": "HQbm--SyaRLL"
      },
      "source": [
        "# Number of epochs\n",
        "epochs = 10\n",
        "\n",
        "# Proportion of training data for train compared to dev\n",
        "train_proportion = 0.8"
      ],
      "execution_count": 306,
      "outputs": []
    },
    {
      "cell_type": "markdown",
      "metadata": {
        "id": "f46AEn_3s1UJ"
      },
      "source": [
        "### Creating Vocab and Tokenized Corpus"
      ]
    },
    {
      "cell_type": "code",
      "metadata": {
        "id": "TSQ-36SdaRLO"
      },
      "source": [
        "# To create our vocab\n",
        "\n",
        "def custom_tokenizer(nlp):\n",
        "    \n",
        "    replacement_re = re.compile(r'^<*/>') #do not split replacement format\n",
        "    prefix_re = re.compile(r'''^[\\[\\(\"]''')\n",
        "    suffix_re = re.compile(r''',[\\]\\)\"']$''')\n",
        "    infix_re = re.compile(r'''[-\\,.~]''')\n",
        "    \n",
        "    \n",
        "    return Tokenizer(nlp.vocab,\n",
        "                     token_match = replacement_re.match,\n",
        "                     prefix_search=prefix_re.search,\n",
        "                     suffix_search=suffix_re.search,\n",
        "                     infix_finditer = infix_re.finditer  \n",
        "                    )\n",
        "\n",
        "\n",
        "\n",
        "def preprocessor(data,edits):\n",
        "    \"\"\"\n",
        "    Creating a corpus of all the tokens used\n",
        "    \"\"\"\n",
        "    punctuation = \"\\\":\\.,\"\n",
        "    nlp = spacy.load(\"en_core_web_sm\")\n",
        "    nlp.tokenizer = custom_tokenizer(nlp)\n",
        "    \n",
        "    tokenized_corpus_1= [] # Let us put the tokenized corpus in a list\n",
        "    tokenized_corpus_2= []\n",
        "    \n",
        "    \n",
        "    for i, sentence in enumerate(data):\n",
        "\n",
        "        sentence = sentence.lower()\n",
        "        tokenized_sentence_1 = []\n",
        "        tokenized_sentence_2 = []\n",
        "\n",
        "        for token in nlp(sentence): # simplest split is\n",
        "\n",
        "            if token.text in punctuation:\n",
        "                continue\n",
        "            else:\n",
        "                \n",
        "                if token.text[0] == '<':\n",
        "                    tokenized_sentence_1.append(\"???\")\n",
        "                    tokenized_sentence_2.append(\"???\")\n",
        "                    \n",
        "                    tokenized_sentence_2.append(edits[i])\n",
        "\n",
        "                    \n",
        "                    tokenized_sentence_1.append(token.text[1:-2])\n",
        "                else:\n",
        "                    tokenized_sentence_2.append(token.text)\n",
        "                \n",
        "                    tokenized_sentence_1.append(token.text)\n",
        "\n",
        "\n",
        "        tokenized_corpus_1.append(tokenized_sentence_1)\n",
        "        tokenized_corpus_2.append(tokenized_sentence_2)\n",
        "\n",
        "    # Create single list of all vocabulary\n",
        "    vocabulary = []  # Let us put all the tokens (mostly words) appearing in the vocabulary in a list\n",
        "\n",
        "    for sentence in tokenized_corpus_1:\n",
        "\n",
        "        for token in sentence:\n",
        "\n",
        "            if token not in vocabulary:\n",
        "\n",
        "                if True:\n",
        "                    vocabulary.append(token)\n",
        "    \n",
        "    for token in edits:\n",
        "        \n",
        "        if token not in vocabulary:\n",
        "            \n",
        "            vocabulary.append(token)\n",
        "\n",
        "    return vocabulary, tokenized_corpus_1, tokenized_corpus_2"
      ],
      "execution_count": 144,
      "outputs": []
    },
    {
      "cell_type": "code",
      "metadata": {
        "id": "_JSWm-Q5nIxX",
        "colab": {
          "base_uri": "https://localhost:8080/"
        },
        "outputId": "d7a3468e-31fc-4ebb-d80a-4563d95a198b"
      },
      "source": [
        "## Approach 1 code, using functions defined above:\n",
        "\n",
        "# We set our training data and test data\n",
        "training_data = train_df['original']\n",
        "test_data = test_df['original']\n",
        "\n",
        "# Creating word vectors\n",
        "#training_vocab, training_tokenized_corpus = create_vocab(training_data)\n",
        "#test_vocab, test_tokenized_corpus = create_vocab(test_data)\n",
        "training_vocab, training_tokenized_corpus_1,training_tokenized_corpus_2=  preprocessor(training_data,train_df['edit'])\n",
        "test_vocab, test_tokenized_corpus_1,test_tokenized_corpus_2=  preprocessor(test_data,test_df['edit'])\n",
        "\n",
        "#print(\"Vocabulary individual creation - done\")\n",
        "\n",
        "# Creating joint vocab from test and train:\n",
        "#joint_vocab, joint_tokenized_corpus = create_vocab(pd.concat([training_data, test_data]))\n",
        "joint_vocab, joint_tokenized_corpus_1,joint_tokenized_corpus_2 = preprocessor(pd.concat([training_data, test_data]),pd.concat([train_df['edit'],test_df['edit']],ignore_index = True))\n",
        "\n",
        "print(\"Vocabulary joined creation - done\")\n",
        "\n",
        "\n",
        "\n",
        "print(\"Vocab created.\")"
      ],
      "execution_count": 145,
      "outputs": [
        {
          "output_type": "stream",
          "text": [
            "Vocabulary joined creation - done\n",
            "Vocab created.\n"
          ],
          "name": "stdout"
        }
      ]
    },
    {
      "cell_type": "code",
      "metadata": {
        "id": "xeXy7v7dnQGq"
      },
      "source": [
        "# We create representations for our tokens\n",
        "wvecs = [] # word vectors\n",
        "word2idx = [] # word2index\n",
        "idx2word = []\n",
        "\n",
        "#Add special character -> embedding vector of ones \n",
        "wvecs.append(np.ones(100))\n",
        "\n",
        "# This is a large file, it will take a while to load in the memory!\n",
        "with codecs.open('glove.6B.100d.txt', 'r','utf-8') as f:\n",
        "  index = 1 #zero padding\n",
        "  for line in f.readlines():\n",
        "    # Ignore the first line - first line typically contains vocab, dimensionality\n",
        "    if len(line.strip().split()) > 3:\n",
        "      word = line.strip().split()[0]\n",
        "      if word in joint_vocab:\n",
        "          (word, vec) = (word,\n",
        "                     list(map(float,line.strip().split()[1:])))\n",
        "          wvecs.append(vec)\n",
        "          word2idx.append((word, index))\n",
        "          idx2word.append((index, word))\n",
        "          index += 1\n",
        "\n",
        "wvecs = np.array(wvecs)\n",
        "word2idx = dict(word2idx)\n",
        "idx2word = dict(idx2word)\n",
        "\n",
        "\n",
        "\n"
      ],
      "execution_count": 146,
      "outputs": []
    },
    {
      "cell_type": "code",
      "metadata": {
        "id": "0ze3glIrVMmj"
      },
      "source": [
        "word2idx['<unk>'] = 1\n",
        "idx2word[1] = '<unk>'\n",
        "mean = np.mean(wvecs, axis=0) # initialize unknown token as mean\n",
        "#wvecs = np.vstack((wvecs, mean))\n",
        "wvecs[0] = mean\n"
      ],
      "execution_count": 147,
      "outputs": []
    },
    {
      "cell_type": "code",
      "metadata": {
        "id": "BgcGpchbQOO-"
      },
      "source": [
        "\n",
        "\n",
        "vectorized_seqs_1 = [[word2idx[tok] if tok in word2idx else word2idx['<unk>'] for tok in seq] for seq in training_tokenized_corpus_1]\n",
        "vectorized_seqs_2 = [[word2idx[tok] if tok in word2idx else word2idx['<unk>'] for tok in seq] for seq in training_tokenized_corpus_2]\n",
        "\n",
        "\n",
        "# To avoid any sentences being empty (if no words match to our word embeddings)\n",
        "vectorized_seqs_1 = [x if len(x) > 0 else [0] for x in vectorized_seqs_1]\n",
        "vectorized_seqs_2 = [x if len(x) > 0 else [0] for x in vectorized_seqs_2]\n",
        "\n"
      ],
      "execution_count": 148,
      "outputs": []
    },
    {
      "cell_type": "markdown",
      "metadata": {
        "id": "3PxOsuS7Bi0g"
      },
      "source": [
        "### Training for BILSTM"
      ]
    },
    {
      "cell_type": "code",
      "metadata": {
        "id": "BxhwWCz6aRLL"
      },
      "source": [
        "# We define our training loop\n",
        "def train(train_iter, dev_iter, model, number_epoch, bert=False):\n",
        "    \"\"\"\n",
        "    Training loop for the model, which calls on eval to evaluate after each epoch\n",
        "    \"\"\"\n",
        "\n",
        "    train_losses = np.zeros(number_epoch)\n",
        "    valid_losses = np.zeros(number_epoch)\n",
        "    print(\"Training model.\")\n",
        "\n",
        "    for epoch in range(1, number_epoch+1):\n",
        "\n",
        "        model.train()\n",
        "        epoch_loss = 0\n",
        "        epoch_sse = 0\n",
        "        no_observations = 0  # Observations used for training so far\n",
        "\n",
        "        for batch in train_iter:\n",
        "            optimizer.zero_grad()\n",
        "\n",
        "            feature, target = batch\n",
        "            feature_1= feature[0].to(device)\n",
        "            feature_2 = feature[1].to(device)\n",
        "            target = target.to(device)\n",
        "            # for RNN:\n",
        "            model.batch_size = target.shape[0]\n",
        "            no_observations = no_observations + target.shape[0]\n",
        "            model.hidden_1 = model.init_hidden()\n",
        "            model.hidden_2 = model.init_hidden()\n",
        "\n",
        "            feature = (feature_1, feature_2)\n",
        "            predictions = model(feature).squeeze(1)\n",
        "            \n",
        "            loss = loss_fn(predictions, target)\n",
        "                        \n",
        "            sse, __ = model_performance(predictions.detach().cpu().numpy(), target.detach().cpu().numpy()) \n",
        "            \n",
        "            loss.backward(retain_graph=True)\n",
        "            optimizer.step()\n",
        "\n",
        "            epoch_loss += loss.item()*target.shape[0]\n",
        "            epoch_sse += sse\n",
        "\n",
        "        valid_loss, valid_mse, preds, targs = eval(dev_iter, model)\n",
        "\n",
        "        epoch_loss, epoch_mse = epoch_loss / no_observations, epoch_sse / no_observations\n",
        "        train_losses[epoch-1] = epoch_loss\n",
        "        valid_losses[epoch-1] = valid_loss\n",
        "        print(f'| Epoch: {epoch:02} | Train Loss: {epoch_loss:.2f} | Train MSE: {epoch_mse:.2f} | Train RMSE: {epoch_mse**0.5:.2f} | \\\n",
        "        Val. Loss: {valid_loss:.2f} | Val. MSE: {valid_mse:.2f} |  Val. RMSE: {valid_mse**0.5:.2f} |')\n",
        "    return train_losses, valid_losses, preds, targs"
      ],
      "execution_count": 149,
      "outputs": []
    },
    {
      "cell_type": "code",
      "metadata": {
        "id": "EAPacdgOaRLM"
      },
      "source": [
        "# We evaluate performance on our dev set\n",
        "def eval(data_iter, model):\n",
        "    \"\"\"\n",
        "    Evaluating model performance on the dev set\n",
        "    \"\"\"\n",
        "    model.eval()\n",
        "    epoch_loss = 0\n",
        "    epoch_sse = 0\n",
        "    pred_all = []\n",
        "    trg_all = []\n",
        "    no_observations = 0\n",
        "\n",
        "\n",
        "\n",
        "    with torch.no_grad():\n",
        "        for batch in data_iter:\n",
        "            feature, target = batch\n",
        "            feature_1= feature[0].to(device)\n",
        "            feature_2 = feature[1].to(device)\n",
        "            target = target.to(device)\n",
        "\n",
        "            feature = (feature_1, feature_2)\n",
        "\n",
        "            # for RNN:\n",
        "            model.batch_size = target.shape[0]\n",
        "            no_observations = no_observations + target.shape[0]\n",
        "            model.hidden_1 = model.init_hidden()\n",
        "            model.hidden_2 = model.init_hidden()\n",
        "\n",
        "            predictions = model(feature).squeeze(1)\n",
        "            #predictions.requires_grad = True\n",
        "            loss = loss_fn(predictions, target)\n",
        "\n",
        "            # We get the mse\n",
        "            pred, trg = predictions.detach().cpu().numpy(), target.detach().cpu().numpy()\n",
        "            sse, __ = model_performance(pred, trg)\n",
        "\n",
        "            epoch_loss += loss.item()*target.shape[0]\n",
        "            epoch_sse += sse\n",
        "            pred_all.extend(pred)\n",
        "            trg_all.extend(trg)\n",
        "\n",
        "    return epoch_loss/no_observations, epoch_sse/no_observations, np.array(pred_all), np.array(trg_all)"
      ],
      "execution_count": 150,
      "outputs": []
    },
    {
      "cell_type": "code",
      "metadata": {
        "id": "vcchQKtEaRLN"
      },
      "source": [
        "# How we print the model performance\n",
        "def model_performance(output, target, print_output=False):\n",
        "    \"\"\"\n",
        "    Returns SSE and MSE per batch (printing the MSE and the RMSE)\n",
        "    \"\"\"\n",
        "\n",
        "    sq_error = (output - target)**2\n",
        "\n",
        "    sse = np.sum(sq_error)\n",
        "    mse = np.mean(sq_error)\n",
        "    rmse = np.sqrt(mse)\n",
        "\n",
        "    if print_output:\n",
        "        print(f'| MSE: {mse:.2f} | RMSE: {rmse:.2f} |')\n",
        "\n",
        "    return sse, mse"
      ],
      "execution_count": 151,
      "outputs": []
    },
    {
      "cell_type": "code",
      "metadata": {
        "id": "aOOe3Ca7aRLP"
      },
      "source": [
        "\n",
        "def collate_fn_padd(batch):\n",
        "    \n",
        "    #We add padding to our minibatches and create tensors for our model\n",
        "    \n",
        "\n",
        "    batch_labels = [l for f, g, l in batch]\n",
        "    batch_features = [(f,g) for f, g, l in batch]\n",
        "    \n",
        "\n",
        "    batch_features_len = [len(f) for f, g, l in batch]\n",
        "\n",
        "\n",
        "    seq_tensor_1 = torch.zeros((len(batch), 50)).long()\n",
        "    seq_tensor_2 = torch.zeros((len(batch), 50)).long()\n",
        "\n",
        "    \n",
        "    for idx, (seq, seqlen) in enumerate(zip(batch_features, batch_features_len)):\n",
        "        seq_tensor_1[idx, :seqlen] = torch.LongTensor(seq[0])\n",
        "        seq_tensor_2[idx, :seqlen] = torch.LongTensor(seq[1])\n",
        "    batch_labels = torch.FloatTensor(batch_labels)\n",
        "    \n",
        "\n",
        "    return (seq_tensor_1, seq_tensor_2), batch_labels\n",
        "\n",
        "\n",
        "class Task1Dataset(Dataset):\n",
        "\n",
        "    def __init__(self, train_data, labels):\n",
        "        self.x_train = train_data\n",
        "        self.y_train = labels\n",
        "\n",
        "    def __len__(self):\n",
        "        return len(self.y_train)\n",
        "\n",
        "    def __getitem__(self, item):\n",
        "        return self.x_train[item], self.y_train[item]\n",
        "    \n",
        "class Task1Dataset_double(Dataset):\n",
        "\n",
        "    def __init__(self, train_data_1,train_data_2, labels):\n",
        "        self.x_train_1 = train_data_1\n",
        "        self.x_train_2 = train_data_2\n",
        "        self.y_train = labels\n",
        "\n",
        "    def __len__(self):\n",
        "        return len(self.y_train)\n",
        "\n",
        "    def __getitem__(self, item):\n",
        "        return self.x_train_1[item],self.x_train_2[item], self.y_train[item]    \n"
      ],
      "execution_count": 152,
      "outputs": []
    },
    {
      "cell_type": "code",
      "metadata": {
        "id": "8F1kXohWaRLR"
      },
      "source": [
        "class BiLSTM_double(nn.Module):\n",
        "\n",
        "    def __init__(self, embedding_dim, hidden_dim, vocab_size, batch_size, device):\n",
        "        super(BiLSTM_double, self).__init__()\n",
        "        self.hidden_dim = hidden_dim\n",
        "        self.embedding_dim = embedding_dim\n",
        "        self.device = device\n",
        "        self.batch_size = batch_size\n",
        "        self.embedding = nn.Embedding(vocab_size, embedding_dim, padding_idx=0)\n",
        "\n",
        "        # The LSTM takes word embeddings as inputs, and outputs hidden states\n",
        "        # with dimensionality hidden_dim.\n",
        "        self.lstm_1 = nn.LSTM(embedding_dim, hidden_dim, bidirectional=True)\n",
        "        self.lstm_2 = nn.LSTM(embedding_dim,hidden_dim, bidirectional = True)\n",
        "\n",
        "        # The linear layer that maps from hidden state space to tag space\n",
        "        self.fc = nn.Linear(2*50*100, hidden_dim*2)\n",
        "        self.fc2 = nn.Linear(hidden_dim*2, hidden_dim//2)\n",
        "        self.fc3 = nn.Linear(hidden_dim//2, hidden_dim//4)\n",
        "\n",
        "        self.hidden_1 = self.init_hidden()\n",
        "        self.hidden_2 = self.init_hidden()\n",
        "        self.hidden2label = nn.Linear(hidden_dim//4, 1)\n",
        "\n",
        "\n",
        "        self.d1 = nn.Dropout(0.3)\n",
        "        self.d2 = nn.Dropout(0.3)\n",
        "        self.d3 = nn.Dropout(0.3)\n",
        "        self.d4 = nn.Dropout(0.3)\n",
        "        self.d5 = nn.Dropout(0.3)\n",
        "\n",
        "    def init_hidden(self):\n",
        "        # Before we've done anything, we dont have any hidden state.\n",
        "        # Refer to the Pytorch documentation to see exactly why they have this dimensionality.\n",
        "        # The axes semantics are (num_layers * num_directions, minibatch_size, hidden_dim)\n",
        "        \n",
        "        return torch.zeros(2, self.batch_size, self.hidden_dim, requires_grad = True).to(self.device), \\\n",
        "               torch.zeros(2, self.batch_size, self.hidden_dim, requires_grad = True).to(self.device)\n",
        "\n",
        "    def forward(self, sentence):\n",
        "        self.embedded_1 = self.embedding(sentence[0])\n",
        "        self.embedded_1 = self.embedded_1.permute(1, 0, 2) #Needed for LSTMs\n",
        "\n",
        "        self.embedded_2 = self.embedding(sentence[1])\n",
        "        self.embedded_2 = self.embedded_2.permute(1, 0, 2) #Needed for LSTMs\n",
        "\n",
        "        #lstm_out : (seq_len,batch_size,num_directions (2) * hidden_size (50))\n",
        "        #hidden : (num_layers * num_directions, batch_size,hidden_size)\n",
        "        lstm_out_1, self.hidden_1 = self.lstm_1(\n",
        "            self.embedded_1.view(len(self.embedded_1), self.batch_size, self.embedding_dim), self.hidden_1)\n",
        "        \n",
        "        lstm_out_1 = F.leaky_relu(self.d1(lstm_out_1))\n",
        "\n",
        "        lstm_out_2, self.hidden_2 = self.lstm_2(\n",
        "            self.embedded_2.view(len(self.embedded_2), self.batch_size, self.embedding_dim), self.hidden_2)\n",
        "        \n",
        "        lstm_out_2 = F.leaky_relu(self.d2(lstm_out_2))\n",
        "        \n",
        "        #out : (1)\n",
        "        lstm_out_1 = lstm_out_1.permute(1,0,2)\n",
        "        lstm_out_2 = lstm_out_2.permute(1,0,2)\n",
        "\n",
        "        out1 = self.fc(torch.cat((lstm_out_1.reshape(self.batch_size, -1),lstm_out_2.reshape(self.batch_size, -1)), dim = 1))\n",
        "        out1 = F.leaky_relu(self.d3(out1))\n",
        "\n",
        "        out2 = self.fc2(out1)\n",
        "        out2 = F.leaky_relu(self.d4(out2))\n",
        "\n",
        "        out3 = self.fc3(out2)\n",
        "        out3 = F.leaky_relu(self.d5(out3))\n",
        "\n",
        "        out = self.hidden2label(out3)\n",
        "        return out"
      ],
      "execution_count": 153,
      "outputs": []
    },
    {
      "cell_type": "code",
      "metadata": {
        "id": "4XzJHcQ_aRLT",
        "scrolled": true,
        "colab": {
          "base_uri": "https://localhost:8080/"
        },
        "outputId": "140d7ff5-36b4-4f90-c916-776b11dc2eb0"
      },
      "source": [
        "\n",
        "INPUT_DIM = len(word2idx)\n",
        "EMBEDDING_DIM = wvecs.shape[1]\n",
        "\n",
        "BATCH_SIZE = 256\n",
        "\n",
        "model = BiLSTM_double(EMBEDDING_DIM, 50, INPUT_DIM, BATCH_SIZE, device)\n",
        "\n",
        "params = sum(p.numel() for p in model.parameters() if p.requires_grad)\n",
        "print(params)\n",
        "#print(\"Total number of parameters is: {​​}​​\".format(params))\n",
        "\n",
        "print(model)\n",
        "\n",
        "print(\"Model initialised.\")\n",
        "\n",
        "model.to(device)\n",
        "# We provide the model with our embeddings\n",
        "#x = np.concatenate((wvecs,wvecs),axis=1)\n",
        "model.embedding.weight.data.copy_(torch.from_numpy(wvecs))\n",
        "\n"
      ],
      "execution_count": 330,
      "outputs": [
        {
          "output_type": "stream",
          "text": [
            "2677450\n",
            "BiLSTM_double(\n",
            "  (embedding): Embedding(15529, 100, padding_idx=0)\n",
            "  (lstm_1): LSTM(100, 50, bidirectional=True)\n",
            "  (lstm_2): LSTM(100, 50, bidirectional=True)\n",
            "  (fc): Linear(in_features=10000, out_features=100, bias=True)\n",
            "  (fc2): Linear(in_features=100, out_features=25, bias=True)\n",
            "  (fc3): Linear(in_features=25, out_features=12, bias=True)\n",
            "  (hidden2label): Linear(in_features=12, out_features=1, bias=True)\n",
            "  (d1): Dropout(p=0.3, inplace=False)\n",
            "  (d2): Dropout(p=0.3, inplace=False)\n",
            "  (d3): Dropout(p=0.3, inplace=False)\n",
            "  (d4): Dropout(p=0.3, inplace=False)\n",
            "  (d5): Dropout(p=0.3, inplace=False)\n",
            ")\n",
            "Model initialised.\n"
          ],
          "name": "stdout"
        },
        {
          "output_type": "execute_result",
          "data": {
            "text/plain": [
              "tensor([[ 0.0057,  0.0878,  0.1420,  ..., -0.0555,  0.1665,  0.0832],\n",
              "        [-0.0382, -0.2449,  0.7281,  ..., -0.1459,  0.8278,  0.2706],\n",
              "        [-0.1529, -0.2428,  0.8984,  ..., -0.5910,  1.0039,  0.2066],\n",
              "        ...,\n",
              "        [ 0.0068,  0.0145, -0.3016,  ...,  0.5548, -0.1785,  0.0685],\n",
              "        [ 0.1981, -0.0991, -0.2745,  ...,  0.1796, -0.3175,  0.1357],\n",
              "        [ 0.1318,  0.0111, -0.1804,  ...,  0.1664, -0.2256,  0.3588]],\n",
              "       device='cuda:0')"
            ]
          },
          "metadata": {
            "tags": []
          },
          "execution_count": 330
        }
      ]
    },
    {
      "cell_type": "code",
      "metadata": {
        "id": "U8ovZX23ECX4"
      },
      "source": [
        "import matplotlib.pyplot as plt\n",
        "def plot(train_losses,valid_losses,num_epochs):\n",
        "  epochs = list(range(num_epochs))\n",
        "  plt.plot(epochs,train_losses, label='train')\n",
        "  plt.plot(epochs,valid_losses, label='valid')\n",
        "  plt.legend()\n",
        "  plt.show()\n"
      ],
      "execution_count": 331,
      "outputs": []
    },
    {
      "cell_type": "code",
      "metadata": {
        "id": "p455ZPLrpkTS",
        "outputId": "e5cbb33c-067a-4b76-ec16-9857cff9c17d",
        "colab": {
          "base_uri": "https://localhost:8080/"
        }
      },
      "source": [
        "\n",
        "feature_1 = vectorized_seqs_1\n",
        "feature_2 = vectorized_seqs_2\n",
        "\n",
        "\n",
        "# 'feature' is a list of lists, each containing embedding IDs for word tokens\n",
        "train_and_dev = Task1Dataset_double(feature_1,feature_2, train_df['meanGrade'])\n",
        "#train_and_dev = Task1Dataset_double(feature_1,feature_2, train_df['variance'])\n",
        "\n",
        "train_examples = round(len(train_and_dev)*train_proportion)\n",
        "dev_examples = len(train_and_dev) - train_examples\n",
        "train_dataset, dev_dataset = random_split(train_and_dev,\n",
        "                                           (train_examples,\n",
        "                                            dev_examples))\n",
        "####Shuffle might need to be true. Check later\n",
        "train_loader = torch.utils.data.DataLoader(train_dataset, shuffle=True, batch_size=BATCH_SIZE, collate_fn=collate_fn_padd)\n",
        "\n",
        "dev_loader = torch.utils.data.DataLoader(dev_dataset, batch_size=BATCH_SIZE, collate_fn=collate_fn_padd)\n",
        "\n",
        "print(\"Dataloaders created.\")\n",
        "\n",
        "loss_fn = nn.MSELoss()\n",
        "loss_fn = loss_fn.to(device)\n",
        "#optimizer = torch.optim.Adam(model.parameters())\n",
        "optimizer = torch.optim.SGD(model.parameters(), lr=0.001, momentum=0.9)\n"
      ],
      "execution_count": 332,
      "outputs": [
        {
          "output_type": "stream",
          "text": [
            "Dataloaders created.\n"
          ],
          "name": "stdout"
        }
      ]
    },
    {
      "cell_type": "markdown",
      "metadata": {
        "id": "nftBwyNppl4J"
      },
      "source": [
        "### Predicting the Variance"
      ]
    },
    {
      "cell_type": "code",
      "metadata": {
        "id": "un9wo5TPyN9L",
        "colab": {
          "base_uri": "https://localhost:8080/",
          "height": 733
        },
        "outputId": "ff3e0269-ea1a-4269-87c3-77d0cce9375e"
      },
      "source": [
        "\n",
        "feature_1 = vectorized_seqs_1\n",
        "feature_2 = vectorized_seqs_2\n",
        "\n",
        "\n",
        "# 'feature' is a list of lists, each containing embedding IDs for word tokens\n",
        "#train_and_dev = Task1Dataset_double(feature_1,feature_2, train_df['meanGrade'])\n",
        "train_and_dev = Task1Dataset_double(feature_1,feature_2, train_df['variance'])\n",
        "\n",
        "train_examples = round(len(train_and_dev)*train_proportion)\n",
        "dev_examples = len(train_and_dev) - train_examples\n",
        "train_dataset, dev_dataset = random_split(train_and_dev,\n",
        "                                           (train_examples,\n",
        "                                            dev_examples))\n",
        "####Shuffle might need to be true. Check later\n",
        "train_loader = torch.utils.data.DataLoader(train_dataset, shuffle=True, batch_size=BATCH_SIZE, collate_fn=collate_fn_padd)\n",
        "\n",
        "dev_loader = torch.utils.data.DataLoader(dev_dataset, batch_size=BATCH_SIZE, collate_fn=collate_fn_padd)\n",
        "\n",
        "print(\"Dataloaders created.\")\n",
        "\n",
        "loss_fn = nn.MSELoss()\n",
        "loss_fn = loss_fn.to(device)\n",
        "#optimizer = torch.optim.Adam(model.parameters())\n",
        "optimizer = torch.optim.SGD(model.parameters(), lr=0.001, momentum=0.9)\n",
        "\n",
        "\n",
        "train_losses, valid_losses, preds, targs = train(train_loader, dev_loader, model, epochs)\n",
        "plot(train_losses, valid_losses, len(train_losses))\n",
        "plt.scatter(preds, targs)\n",
        "plt.title(\"Predicting variance\")\n",
        "plt.show()\n"
      ],
      "execution_count": 313,
      "outputs": [
        {
          "output_type": "stream",
          "text": [
            "Dataloaders created.\n",
            "Training model.\n",
            "| Epoch: 01 | Train Loss: 0.40 | Train MSE: 0.40 | Train RMSE: 0.63 |         Val. Loss: 0.29 | Val. MSE: 0.29 |  Val. RMSE: 0.54 |\n",
            "| Epoch: 02 | Train Loss: 0.24 | Train MSE: 0.24 | Train RMSE: 0.49 |         Val. Loss: 0.20 | Val. MSE: 0.20 |  Val. RMSE: 0.45 |\n",
            "| Epoch: 03 | Train Loss: 0.20 | Train MSE: 0.20 | Train RMSE: 0.44 |         Val. Loss: 0.18 | Val. MSE: 0.18 |  Val. RMSE: 0.43 |\n",
            "| Epoch: 04 | Train Loss: 0.19 | Train MSE: 0.19 | Train RMSE: 0.43 |         Val. Loss: 0.18 | Val. MSE: 0.18 |  Val. RMSE: 0.43 |\n",
            "| Epoch: 05 | Train Loss: 0.19 | Train MSE: 0.19 | Train RMSE: 0.43 |         Val. Loss: 0.18 | Val. MSE: 0.18 |  Val. RMSE: 0.43 |\n",
            "| Epoch: 06 | Train Loss: 0.19 | Train MSE: 0.19 | Train RMSE: 0.43 |         Val. Loss: 0.18 | Val. MSE: 0.18 |  Val. RMSE: 0.43 |\n",
            "| Epoch: 07 | Train Loss: 0.19 | Train MSE: 0.19 | Train RMSE: 0.43 |         Val. Loss: 0.18 | Val. MSE: 0.18 |  Val. RMSE: 0.43 |\n",
            "| Epoch: 08 | Train Loss: 0.19 | Train MSE: 0.19 | Train RMSE: 0.43 |         Val. Loss: 0.18 | Val. MSE: 0.18 |  Val. RMSE: 0.43 |\n",
            "| Epoch: 09 | Train Loss: 0.19 | Train MSE: 0.19 | Train RMSE: 0.43 |         Val. Loss: 0.18 | Val. MSE: 0.18 |  Val. RMSE: 0.43 |\n",
            "| Epoch: 10 | Train Loss: 0.19 | Train MSE: 0.19 | Train RMSE: 0.43 |         Val. Loss: 0.18 | Val. MSE: 0.18 |  Val. RMSE: 0.43 |\n"
          ],
          "name": "stdout"
        },
        {
          "output_type": "display_data",
          "data": {
            "image/png": "[encoded data removed]",
            "text/plain": [
              "<Figure size 432x288 with 1 Axes>"
            ]
          },
          "metadata": {
            "tags": [],
            "needs_background": "light"
          }
        },
        {
          "output_type": "display_data",
          "data": {
            "image/png": "[encoded data removed]",
            "text/plain": [
              "<Figure size 432x288 with 1 Axes>"
            ]
          },
          "metadata": {
            "tags": [],
            "needs_background": "light"
          }
        }
      ]
    },
    {
      "cell_type": "markdown",
      "metadata": {
        "id": "9eVLmkYwpnrH"
      },
      "source": [
        "### Predicting the mean with all data\n"
      ]
    },
    {
      "cell_type": "code",
      "metadata": {
        "id": "8kWhqnFEpbGe",
        "outputId": "4e2ae133-4e1d-4b41-c548-8aed2f5090f7",
        "colab": {
          "base_uri": "https://localhost:8080/",
          "height": 735
        }
      },
      "source": [
        "\n",
        "feature_1 = vectorized_seqs_1\n",
        "feature_2 = vectorized_seqs_2\n",
        "\n",
        "\n",
        "# 'feature' is a list of lists, each containing embedding IDs for word tokens\n",
        "train_and_dev = Task1Dataset_double(feature_1,feature_2, train_df['meanGrade'])\n",
        "#train_and_dev = Task1Dataset_double(feature_1,feature_2, train_df['variance'])\n",
        "\n",
        "train_examples = round(len(train_and_dev)*train_proportion)\n",
        "dev_examples = len(train_and_dev) - train_examples\n",
        "train_dataset, dev_dataset = random_split(train_and_dev,\n",
        "                                           (train_examples,\n",
        "                                            dev_examples))\n",
        "####Shuffle might need to be true. Check later\n",
        "train_loader = torch.utils.data.DataLoader(train_dataset, shuffle=True, batch_size=BATCH_SIZE, collate_fn=collate_fn_padd)\n",
        "\n",
        "dev_loader = torch.utils.data.DataLoader(dev_dataset, batch_size=BATCH_SIZE, collate_fn=collate_fn_padd)\n",
        "\n",
        "print(\"Dataloaders created.\")\n",
        "\n",
        "loss_fn = nn.MSELoss()\n",
        "loss_fn = loss_fn.to(device)\n",
        "#optimizer = torch.optim.Adam(model.parameters())\n",
        "optimizer = torch.optim.SGD(model.parameters(), lr=0.001, momentum=0.9)\n",
        "\n",
        "\n",
        "train_losses, valid_losses, preds, targs = train(train_loader, dev_loader, model, epochs)\n",
        "plot(train_losses, valid_losses, len(train_losses))\n",
        "plt.scatter(preds, targs)\n",
        "plt.title(\"Predicting mean\")\n",
        "plt.show()\n"
      ],
      "execution_count": 310,
      "outputs": [
        {
          "output_type": "stream",
          "text": [
            "Dataloaders created.\n",
            "Training model.\n",
            "| Epoch: 01 | Train Loss: 1.07 | Train MSE: 1.07 | Train RMSE: 1.03 |         Val. Loss: 0.60 | Val. MSE: 0.60 |  Val. RMSE: 0.77 |\n",
            "| Epoch: 02 | Train Loss: 0.42 | Train MSE: 0.42 | Train RMSE: 0.64 |         Val. Loss: 0.31 | Val. MSE: 0.31 |  Val. RMSE: 0.56 |\n",
            "| Epoch: 03 | Train Loss: 0.34 | Train MSE: 0.34 | Train RMSE: 0.58 |         Val. Loss: 0.31 | Val. MSE: 0.31 |  Val. RMSE: 0.56 |\n",
            "| Epoch: 04 | Train Loss: 0.33 | Train MSE: 0.33 | Train RMSE: 0.58 |         Val. Loss: 0.31 | Val. MSE: 0.31 |  Val. RMSE: 0.56 |\n",
            "| Epoch: 05 | Train Loss: 0.33 | Train MSE: 0.33 | Train RMSE: 0.57 |         Val. Loss: 0.31 | Val. MSE: 0.31 |  Val. RMSE: 0.56 |\n",
            "| Epoch: 06 | Train Loss: 0.33 | Train MSE: 0.33 | Train RMSE: 0.57 |         Val. Loss: 0.31 | Val. MSE: 0.31 |  Val. RMSE: 0.56 |\n",
            "| Epoch: 07 | Train Loss: 0.33 | Train MSE: 0.33 | Train RMSE: 0.57 |         Val. Loss: 0.31 | Val. MSE: 0.31 |  Val. RMSE: 0.56 |\n",
            "| Epoch: 08 | Train Loss: 0.32 | Train MSE: 0.32 | Train RMSE: 0.57 |         Val. Loss: 0.31 | Val. MSE: 0.31 |  Val. RMSE: 0.56 |\n",
            "| Epoch: 09 | Train Loss: 0.32 | Train MSE: 0.32 | Train RMSE: 0.56 |         Val. Loss: 0.31 | Val. MSE: 0.31 |  Val. RMSE: 0.56 |\n",
            "| Epoch: 10 | Train Loss: 0.32 | Train MSE: 0.32 | Train RMSE: 0.56 |         Val. Loss: 0.31 | Val. MSE: 0.31 |  Val. RMSE: 0.56 |\n"
          ],
          "name": "stdout"
        },
        {
          "output_type": "display_data",
          "data": {
            "image/png": "[encoded data removed]",
            "text/plain": [
              "<Figure size 432x288 with 1 Axes>"
            ]
          },
          "metadata": {
            "tags": [],
            "needs_background": "light"
          }
        },
        {
          "output_type": "display_data",
          "data": {
            "image/png": "[encoded data removed]",
            "text/plain": [
              "<Figure size 432x288 with 1 Axes>"
            ]
          },
          "metadata": {
            "tags": [],
            "needs_background": "light"
          }
        }
      ]
    },
    {
      "cell_type": "markdown",
      "metadata": {
        "id": "8hE_a2aiypgx"
      },
      "source": [
        "### Predicting the mean with high variance data"
      ]
    },
    {
      "cell_type": "code",
      "metadata": {
        "id": "Qa9G6Ptz6il8",
        "outputId": "0ad8b86f-29b4-43c7-a493-c35f14dfe6bf",
        "colab": {
          "base_uri": "https://localhost:8080/",
          "height": 419
        }
      },
      "source": [
        "train_df"
      ],
      "execution_count": 316,
      "outputs": [
        {
          "output_type": "execute_result",
          "data": {
            "text/html": [
              "<div>\n",
              "<style scoped>\n",
              "    .dataframe tbody tr th:only-of-type {\n",
              "        vertical-align: middle;\n",
              "    }\n",
              "\n",
              "    .dataframe tbody tr th {\n",
              "        vertical-align: top;\n",
              "    }\n",
              "\n",
              "    .dataframe thead th {\n",
              "        text-align: right;\n",
              "    }\n",
              "</style>\n",
              "<table border=\"1\" class=\"dataframe\">\n",
              "  <thead>\n",
              "    <tr style=\"text-align: right;\">\n",
              "      <th></th>\n",
              "      <th>id</th>\n",
              "      <th>original</th>\n",
              "      <th>edit</th>\n",
              "      <th>grades</th>\n",
              "      <th>meanGrade</th>\n",
              "      <th>old</th>\n",
              "      <th>edited</th>\n",
              "      <th>variance</th>\n",
              "    </tr>\n",
              "  </thead>\n",
              "  <tbody>\n",
              "    <tr>\n",
              "      <th>0</th>\n",
              "      <td>14530</td>\n",
              "      <td>France is ‘ hunting down its citizens who join...</td>\n",
              "      <td>twins</td>\n",
              "      <td>10000</td>\n",
              "      <td>0.2</td>\n",
              "      <td>Isis</td>\n",
              "      <td>France is ‘ hunting down its citizens who join...</td>\n",
              "      <td>0.16</td>\n",
              "    </tr>\n",
              "    <tr>\n",
              "      <th>1</th>\n",
              "      <td>13034</td>\n",
              "      <td>Pentagon claims 2,000 % increase in Russian tr...</td>\n",
              "      <td>bowling</td>\n",
              "      <td>33110</td>\n",
              "      <td>1.6</td>\n",
              "      <td>Syria</td>\n",
              "      <td>Pentagon claims 2,000 % increase in Russian tr...</td>\n",
              "      <td>1.44</td>\n",
              "    </tr>\n",
              "    <tr>\n",
              "      <th>2</th>\n",
              "      <td>8731</td>\n",
              "      <td>Iceland PM Calls Snap Vote as Pedophile Furor ...</td>\n",
              "      <td>party</td>\n",
              "      <td>22100</td>\n",
              "      <td>1.0</td>\n",
              "      <td>Coalition</td>\n",
              "      <td>Iceland PM Calls Snap Vote as Pedophile Furor ...</td>\n",
              "      <td>0.80</td>\n",
              "    </tr>\n",
              "    <tr>\n",
              "      <th>3</th>\n",
              "      <td>76</td>\n",
              "      <td>In an apparent first , Iran and Israel engage ...</td>\n",
              "      <td>slap</td>\n",
              "      <td>20000</td>\n",
              "      <td>0.4</td>\n",
              "      <td>engage</td>\n",
              "      <td>In an apparent first , Iran and Israel slap ea...</td>\n",
              "      <td>0.64</td>\n",
              "    </tr>\n",
              "    <tr>\n",
              "      <th>4</th>\n",
              "      <td>8832</td>\n",
              "      <td>All 22 promises Trump made in his speech to Co...</td>\n",
              "      <td>sounds</td>\n",
              "      <td>22200</td>\n",
              "      <td>1.2</td>\n",
              "      <td>promises</td>\n",
              "      <td>All 22 sounds Trump made in his speech to Cong...</td>\n",
              "      <td>0.96</td>\n",
              "    </tr>\n",
              "    <tr>\n",
              "      <th>...</th>\n",
              "      <td>...</td>\n",
              "      <td>...</td>\n",
              "      <td>...</td>\n",
              "      <td>...</td>\n",
              "      <td>...</td>\n",
              "      <td>...</td>\n",
              "      <td>...</td>\n",
              "      <td>...</td>\n",
              "    </tr>\n",
              "    <tr>\n",
              "      <th>9124</th>\n",
              "      <td>12770</td>\n",
              "      <td>Among Republicans , Trump is more popular than...</td>\n",
              "      <td>interns</td>\n",
              "      <td>21100</td>\n",
              "      <td>0.8</td>\n",
              "      <td>leaders</td>\n",
              "      <td>Among Republicans , Trump is more popular than...</td>\n",
              "      <td>0.56</td>\n",
              "    </tr>\n",
              "    <tr>\n",
              "      <th>9125</th>\n",
              "      <td>1781</td>\n",
              "      <td>Protesters Rally for Refugees Detained at JFK ...</td>\n",
              "      <td>stewardesses</td>\n",
              "      <td>20000</td>\n",
              "      <td>0.4</td>\n",
              "      <td>Refugees</td>\n",
              "      <td>Protesters Rally for stewardesses Detained at ...</td>\n",
              "      <td>0.64</td>\n",
              "    </tr>\n",
              "    <tr>\n",
              "      <th>9126</th>\n",
              "      <td>5628</td>\n",
              "      <td>Cruise line Carnival Corp. joins the fight aga...</td>\n",
              "      <td>raisin</td>\n",
              "      <td>21000</td>\n",
              "      <td>0.6</td>\n",
              "      <td>marriage</td>\n",
              "      <td>Cruise line Carnival Corp. joins the fight aga...</td>\n",
              "      <td>0.64</td>\n",
              "    </tr>\n",
              "    <tr>\n",
              "      <th>9127</th>\n",
              "      <td>14483</td>\n",
              "      <td>Columbia police hunt woman seen with gun near ...</td>\n",
              "      <td>cake</td>\n",
              "      <td>32200</td>\n",
              "      <td>1.4</td>\n",
              "      <td>gun</td>\n",
              "      <td>Columbia police hunt woman seen with cake near...</td>\n",
              "      <td>1.44</td>\n",
              "    </tr>\n",
              "    <tr>\n",
              "      <th>9128</th>\n",
              "      <td>5255</td>\n",
              "      <td>Here 's What 's In The House-Approved Health C...</td>\n",
              "      <td>food</td>\n",
              "      <td>11000</td>\n",
              "      <td>0.4</td>\n",
              "      <td>Care</td>\n",
              "      <td>Here 's What 's In The House-Approved Health f...</td>\n",
              "      <td>0.24</td>\n",
              "    </tr>\n",
              "  </tbody>\n",
              "</table>\n",
              "<p>9129 rows × 8 columns</p>\n",
              "</div>"
            ],
            "text/plain": [
              "         id  ... variance\n",
              "0     14530  ...     0.16\n",
              "1     13034  ...     1.44\n",
              "2      8731  ...     0.80\n",
              "3        76  ...     0.64\n",
              "4      8832  ...     0.96\n",
              "...     ...  ...      ...\n",
              "9124  12770  ...     0.56\n",
              "9125   1781  ...     0.64\n",
              "9126   5628  ...     0.64\n",
              "9127  14483  ...     1.44\n",
              "9128   5255  ...     0.24\n",
              "\n",
              "[9129 rows x 8 columns]"
            ]
          },
          "metadata": {
            "tags": []
          },
          "execution_count": 316
        }
      ]
    },
    {
      "cell_type": "code",
      "metadata": {
        "id": "KydvnvNrz-OO"
      },
      "source": [
        "indexNames = train_df[(train_df['variance'] < 0.3)].index\n",
        "# Delete these row indexes from dataFrame\n",
        "high_v_train = train_df.drop(indexNames, inplace=False)\n",
        "high_v_train = high_v_train.reset_index(inplace=False,drop=True)"
      ],
      "execution_count": 333,
      "outputs": []
    },
    {
      "cell_type": "code",
      "metadata": {
        "id": "ZGZvaWqz2GO3",
        "outputId": "321e68dc-eab7-407f-fede-52e19b672d1f",
        "colab": {
          "base_uri": "https://localhost:8080/",
          "height": 419
        }
      },
      "source": [
        "high_v_train"
      ],
      "execution_count": 334,
      "outputs": [
        {
          "output_type": "execute_result",
          "data": {
            "text/html": [
              "<div>\n",
              "<style scoped>\n",
              "    .dataframe tbody tr th:only-of-type {\n",
              "        vertical-align: middle;\n",
              "    }\n",
              "\n",
              "    .dataframe tbody tr th {\n",
              "        vertical-align: top;\n",
              "    }\n",
              "\n",
              "    .dataframe thead th {\n",
              "        text-align: right;\n",
              "    }\n",
              "</style>\n",
              "<table border=\"1\" class=\"dataframe\">\n",
              "  <thead>\n",
              "    <tr style=\"text-align: right;\">\n",
              "      <th></th>\n",
              "      <th>id</th>\n",
              "      <th>original</th>\n",
              "      <th>edit</th>\n",
              "      <th>grades</th>\n",
              "      <th>meanGrade</th>\n",
              "      <th>old</th>\n",
              "      <th>edited</th>\n",
              "      <th>variance</th>\n",
              "    </tr>\n",
              "  </thead>\n",
              "  <tbody>\n",
              "    <tr>\n",
              "      <th>0</th>\n",
              "      <td>13034</td>\n",
              "      <td>Pentagon claims 2,000 % increase in Russian tr...</td>\n",
              "      <td>bowling</td>\n",
              "      <td>33110</td>\n",
              "      <td>1.6</td>\n",
              "      <td>Syria</td>\n",
              "      <td>Pentagon claims 2,000 % increase in Russian tr...</td>\n",
              "      <td>1.44</td>\n",
              "    </tr>\n",
              "    <tr>\n",
              "      <th>1</th>\n",
              "      <td>8731</td>\n",
              "      <td>Iceland PM Calls Snap Vote as Pedophile Furor ...</td>\n",
              "      <td>party</td>\n",
              "      <td>22100</td>\n",
              "      <td>1.0</td>\n",
              "      <td>Coalition</td>\n",
              "      <td>Iceland PM Calls Snap Vote as Pedophile Furor ...</td>\n",
              "      <td>0.80</td>\n",
              "    </tr>\n",
              "    <tr>\n",
              "      <th>2</th>\n",
              "      <td>76</td>\n",
              "      <td>In an apparent first , Iran and Israel engage ...</td>\n",
              "      <td>slap</td>\n",
              "      <td>20000</td>\n",
              "      <td>0.4</td>\n",
              "      <td>engage</td>\n",
              "      <td>In an apparent first , Iran and Israel slap ea...</td>\n",
              "      <td>0.64</td>\n",
              "    </tr>\n",
              "    <tr>\n",
              "      <th>3</th>\n",
              "      <td>8832</td>\n",
              "      <td>All 22 promises Trump made in his speech to Co...</td>\n",
              "      <td>sounds</td>\n",
              "      <td>22200</td>\n",
              "      <td>1.2</td>\n",
              "      <td>promises</td>\n",
              "      <td>All 22 sounds Trump made in his speech to Cong...</td>\n",
              "      <td>0.96</td>\n",
              "    </tr>\n",
              "    <tr>\n",
              "      <th>4</th>\n",
              "      <td>12174</td>\n",
              "      <td>New DOJ alert system will flag crimes against ...</td>\n",
              "      <td>laughter</td>\n",
              "      <td>32100</td>\n",
              "      <td>1.2</td>\n",
              "      <td>crimes</td>\n",
              "      <td>New DOJ alert system will flag laughter agains...</td>\n",
              "      <td>1.36</td>\n",
              "    </tr>\n",
              "    <tr>\n",
              "      <th>...</th>\n",
              "      <td>...</td>\n",
              "      <td>...</td>\n",
              "      <td>...</td>\n",
              "      <td>...</td>\n",
              "      <td>...</td>\n",
              "      <td>...</td>\n",
              "      <td>...</td>\n",
              "      <td>...</td>\n",
              "    </tr>\n",
              "    <tr>\n",
              "      <th>6297</th>\n",
              "      <td>7544</td>\n",
              "      <td>This Is What Happens When You Let Trump Be Trump</td>\n",
              "      <td>orange</td>\n",
              "      <td>33211</td>\n",
              "      <td>2.0</td>\n",
              "      <td>Trump</td>\n",
              "      <td>This Is What Happens When You Let Trump Be ora...</td>\n",
              "      <td>0.80</td>\n",
              "    </tr>\n",
              "    <tr>\n",
              "      <th>6298</th>\n",
              "      <td>12770</td>\n",
              "      <td>Among Republicans , Trump is more popular than...</td>\n",
              "      <td>interns</td>\n",
              "      <td>21100</td>\n",
              "      <td>0.8</td>\n",
              "      <td>leaders</td>\n",
              "      <td>Among Republicans , Trump is more popular than...</td>\n",
              "      <td>0.56</td>\n",
              "    </tr>\n",
              "    <tr>\n",
              "      <th>6299</th>\n",
              "      <td>1781</td>\n",
              "      <td>Protesters Rally for Refugees Detained at JFK ...</td>\n",
              "      <td>stewardesses</td>\n",
              "      <td>20000</td>\n",
              "      <td>0.4</td>\n",
              "      <td>Refugees</td>\n",
              "      <td>Protesters Rally for stewardesses Detained at ...</td>\n",
              "      <td>0.64</td>\n",
              "    </tr>\n",
              "    <tr>\n",
              "      <th>6300</th>\n",
              "      <td>5628</td>\n",
              "      <td>Cruise line Carnival Corp. joins the fight aga...</td>\n",
              "      <td>raisin</td>\n",
              "      <td>21000</td>\n",
              "      <td>0.6</td>\n",
              "      <td>marriage</td>\n",
              "      <td>Cruise line Carnival Corp. joins the fight aga...</td>\n",
              "      <td>0.64</td>\n",
              "    </tr>\n",
              "    <tr>\n",
              "      <th>6301</th>\n",
              "      <td>14483</td>\n",
              "      <td>Columbia police hunt woman seen with gun near ...</td>\n",
              "      <td>cake</td>\n",
              "      <td>32200</td>\n",
              "      <td>1.4</td>\n",
              "      <td>gun</td>\n",
              "      <td>Columbia police hunt woman seen with cake near...</td>\n",
              "      <td>1.44</td>\n",
              "    </tr>\n",
              "  </tbody>\n",
              "</table>\n",
              "<p>6302 rows × 8 columns</p>\n",
              "</div>"
            ],
            "text/plain": [
              "         id  ... variance\n",
              "0     13034  ...     1.44\n",
              "1      8731  ...     0.80\n",
              "2        76  ...     0.64\n",
              "3      8832  ...     0.96\n",
              "4     12174  ...     1.36\n",
              "...     ...  ...      ...\n",
              "6297   7544  ...     0.80\n",
              "6298  12770  ...     0.56\n",
              "6299   1781  ...     0.64\n",
              "6300   5628  ...     0.64\n",
              "6301  14483  ...     1.44\n",
              "\n",
              "[6302 rows x 8 columns]"
            ]
          },
          "metadata": {
            "tags": []
          },
          "execution_count": 334
        }
      ]
    },
    {
      "cell_type": "code",
      "metadata": {
        "id": "SXmuYylCyouU",
        "outputId": "0d02d274-af66-4ed5-d349-03cfb2300166",
        "colab": {
          "base_uri": "https://localhost:8080/",
          "height": 733
        }
      },
      "source": [
        "\n",
        "feature_1 = vectorized_seqs_1\n",
        "feature_2 = vectorized_seqs_2\n",
        "\n",
        "\n",
        "# 'feature' is a list of lists, each containing embedding IDs for word tokens\n",
        "train_and_dev = Task1Dataset_double(feature_1,feature_2, high_v_train['meanGrade'])\n",
        "#train_and_dev = Task1Dataset_double(feature_1,feature_2, train_df['variance'])\n",
        "\n",
        "train_examples = round(len(train_and_dev)*train_proportion)\n",
        "dev_examples = len(train_and_dev) - train_examples\n",
        "train_dataset, dev_dataset = random_split(train_and_dev,\n",
        "                                           (train_examples,\n",
        "                                            dev_examples))\n",
        "####Shuffle might need to be true. Check later\n",
        "train_loader = torch.utils.data.DataLoader(train_dataset, shuffle=True, batch_size=BATCH_SIZE, collate_fn=collate_fn_padd)\n",
        "\n",
        "dev_loader = torch.utils.data.DataLoader(dev_dataset, batch_size=BATCH_SIZE, collate_fn=collate_fn_padd)\n",
        "\n",
        "print(\"Dataloaders created.\")\n",
        "\n",
        "loss_fn = nn.MSELoss()\n",
        "loss_fn = loss_fn.to(device)\n",
        "#optimizer = torch.optim.Adam(model.parameters())\n",
        "optimizer = torch.optim.SGD(model.parameters(), lr=0.001, momentum=0.9)\n",
        "\n",
        "\n",
        "train_losses, valid_losses, preds, targs = train(train_loader, dev_loader, model, epochs)\n",
        "plot(train_losses, valid_losses, len(train_losses))\n",
        "plt.scatter(preds, targs)\n",
        "plt.title(\"Predicting the mean with high variance data\")\n",
        "plt.show()\n"
      ],
      "execution_count": 335,
      "outputs": [
        {
          "output_type": "stream",
          "text": [
            "Dataloaders created.\n",
            "Training model.\n",
            "| Epoch: 01 | Train Loss: 1.03 | Train MSE: 1.03 | Train RMSE: 1.01 |         Val. Loss: 0.77 | Val. MSE: 0.77 |  Val. RMSE: 0.88 |\n",
            "| Epoch: 02 | Train Loss: 0.56 | Train MSE: 0.56 | Train RMSE: 0.75 |         Val. Loss: 0.40 | Val. MSE: 0.40 |  Val. RMSE: 0.63 |\n",
            "| Epoch: 03 | Train Loss: 0.32 | Train MSE: 0.32 | Train RMSE: 0.56 |         Val. Loss: 0.26 | Val. MSE: 0.26 |  Val. RMSE: 0.51 |\n",
            "| Epoch: 04 | Train Loss: 0.25 | Train MSE: 0.25 | Train RMSE: 0.50 |         Val. Loss: 0.23 | Val. MSE: 0.23 |  Val. RMSE: 0.48 |\n",
            "| Epoch: 05 | Train Loss: 0.23 | Train MSE: 0.23 | Train RMSE: 0.48 |         Val. Loss: 0.22 | Val. MSE: 0.22 |  Val. RMSE: 0.47 |\n",
            "| Epoch: 06 | Train Loss: 0.23 | Train MSE: 0.23 | Train RMSE: 0.48 |         Val. Loss: 0.22 | Val. MSE: 0.22 |  Val. RMSE: 0.47 |\n",
            "| Epoch: 07 | Train Loss: 0.23 | Train MSE: 0.23 | Train RMSE: 0.48 |         Val. Loss: 0.22 | Val. MSE: 0.22 |  Val. RMSE: 0.47 |\n",
            "| Epoch: 08 | Train Loss: 0.23 | Train MSE: 0.23 | Train RMSE: 0.48 |         Val. Loss: 0.22 | Val. MSE: 0.22 |  Val. RMSE: 0.47 |\n",
            "| Epoch: 09 | Train Loss: 0.23 | Train MSE: 0.23 | Train RMSE: 0.48 |         Val. Loss: 0.22 | Val. MSE: 0.22 |  Val. RMSE: 0.47 |\n",
            "| Epoch: 10 | Train Loss: 0.23 | Train MSE: 0.23 | Train RMSE: 0.48 |         Val. Loss: 0.22 | Val. MSE: 0.22 |  Val. RMSE: 0.47 |\n"
          ],
          "name": "stdout"
        },
        {
          "output_type": "display_data",
          "data": {
            "image/png": "[encoded data removed]",
            "text/plain": [
              "<Figure size 432x288 with 1 Axes>"
            ]
          },
          "metadata": {
            "tags": [],
            "needs_background": "light"
          }
        },
        {
          "output_type": "display_data",
          "data": {
            "image/png": "[encoded data removed]",
            "text/plain": [
              "<Figure size 432x288 with 1 Axes>"
            ]
          },
          "metadata": {
            "tags": [],
            "needs_background": "light"
          }
        }
      ]
    },
    {
      "cell_type": "markdown",
      "metadata": {
        "id": "7RDAIvnG4oXQ"
      },
      "source": [
        "### Predicting the mean with low variance data"
      ]
    },
    {
      "cell_type": "code",
      "metadata": {
        "id": "Ov8Kko604Nyv"
      },
      "source": [
        "indexNames = train_df[(train_df['variance'] > 1)].index\n",
        "# Delete these row indexes from dataFrame\n",
        "low_v_train = train_df.drop(indexNames, inplace=False)\n",
        "low_v_train = low_v_train.reset_index(inplace=False,drop=True)"
      ],
      "execution_count": 293,
      "outputs": []
    },
    {
      "cell_type": "code",
      "metadata": {
        "id": "UDFiJ-HZ42aJ",
        "outputId": "b38db250-91e8-4289-9607-f5244d52e28e",
        "colab": {
          "base_uri": "https://localhost:8080/",
          "height": 733
        }
      },
      "source": [
        "\n",
        "feature_1 = vectorized_seqs_1\n",
        "feature_2 = vectorized_seqs_2\n",
        "\n",
        "\n",
        "# 'feature' is a list of lists, each containing embedding IDs for word tokens\n",
        "train_and_dev = Task1Dataset_double(feature_1,feature_2, low_v_train['meanGrade'])\n",
        "#train_and_dev = Task1Dataset_double(feature_1,feature_2, train_df['variance'])\n",
        "\n",
        "train_examples = round(len(train_and_dev)*train_proportion)\n",
        "dev_examples = len(train_and_dev) - train_examples\n",
        "train_dataset, dev_dataset = random_split(train_and_dev,\n",
        "                                           (train_examples,\n",
        "                                            dev_examples))\n",
        "####Shuffle might need to be true. Check later\n",
        "train_loader = torch.utils.data.DataLoader(train_dataset, shuffle=True, batch_size=BATCH_SIZE, collate_fn=collate_fn_padd)\n",
        "\n",
        "dev_loader = torch.utils.data.DataLoader(dev_dataset, batch_size=BATCH_SIZE, collate_fn=collate_fn_padd)\n",
        "\n",
        "print(\"Dataloaders created.\")\n",
        "\n",
        "loss_fn = nn.MSELoss()\n",
        "loss_fn = loss_fn.to(device)\n",
        "#optimizer = torch.optim.Adam(model.parameters())\n",
        "optimizer = torch.optim.SGD(model.parameters(), lr=0.001, momentum=0.9)\n",
        "\n",
        "\n",
        "train_losses, valid_losses, preds, targs = train(train_loader, dev_loader, model, epochs)\n",
        "plot(train_losses, valid_losses, len(train_losses))\n",
        "plt.scatter(preds, targs)\n",
        "plt.title(\"Predicting the mean with high variance data\")\n",
        "plt.show()\n"
      ],
      "execution_count": 294,
      "outputs": [
        {
          "output_type": "stream",
          "text": [
            "Dataloaders created.\n",
            "Training model.\n",
            "| Epoch: 01 | Train Loss: 0.99 | Train MSE: 0.99 | Train RMSE: 0.99 |         Val. Loss: 0.46 | Val. MSE: 0.46 |  Val. RMSE: 0.68 |\n",
            "| Epoch: 02 | Train Loss: 0.39 | Train MSE: 0.39 | Train RMSE: 0.63 |         Val. Loss: 0.35 | Val. MSE: 0.35 |  Val. RMSE: 0.60 |\n",
            "| Epoch: 03 | Train Loss: 0.37 | Train MSE: 0.37 | Train RMSE: 0.61 |         Val. Loss: 0.35 | Val. MSE: 0.35 |  Val. RMSE: 0.59 |\n",
            "| Epoch: 04 | Train Loss: 0.36 | Train MSE: 0.36 | Train RMSE: 0.60 |         Val. Loss: 0.35 | Val. MSE: 0.35 |  Val. RMSE: 0.59 |\n",
            "| Epoch: 05 | Train Loss: 0.36 | Train MSE: 0.36 | Train RMSE: 0.60 |         Val. Loss: 0.35 | Val. MSE: 0.35 |  Val. RMSE: 0.59 |\n",
            "| Epoch: 06 | Train Loss: 0.36 | Train MSE: 0.36 | Train RMSE: 0.60 |         Val. Loss: 0.35 | Val. MSE: 0.35 |  Val. RMSE: 0.59 |\n",
            "| Epoch: 07 | Train Loss: 0.36 | Train MSE: 0.36 | Train RMSE: 0.60 |         Val. Loss: 0.35 | Val. MSE: 0.35 |  Val. RMSE: 0.59 |\n",
            "| Epoch: 08 | Train Loss: 0.36 | Train MSE: 0.36 | Train RMSE: 0.60 |         Val. Loss: 0.35 | Val. MSE: 0.35 |  Val. RMSE: 0.59 |\n",
            "| Epoch: 09 | Train Loss: 0.36 | Train MSE: 0.36 | Train RMSE: 0.60 |         Val. Loss: 0.35 | Val. MSE: 0.35 |  Val. RMSE: 0.59 |\n",
            "| Epoch: 10 | Train Loss: 0.36 | Train MSE: 0.36 | Train RMSE: 0.60 |         Val. Loss: 0.35 | Val. MSE: 0.35 |  Val. RMSE: 0.59 |\n"
          ],
          "name": "stdout"
        },
        {
          "output_type": "display_data",
          "data": {
            "image/png": "[encoded data removed]",
            "text/plain": [
              "<Figure size 432x288 with 1 Axes>"
            ]
          },
          "metadata": {
            "tags": [],
            "needs_background": "light"
          }
        },
        {
          "output_type": "display_data",
          "data": {
            "image/png": "[encoded data removed]",
            "text/plain": [
              "<Figure size 432x288 with 1 Axes>"
            ]
          },
          "metadata": {
            "tags": [],
            "needs_background": "light"
          }
        }
      ]
    },
    {
      "cell_type": "code",
      "metadata": {
        "id": "OywV_GIIcEA1"
      },
      "source": [
        "model.eval()\n",
        "predictions_plot = []  \n",
        "target_plot = []\n",
        "\n",
        "with torch.no_grad():\n",
        "    for batch in dev_loader:\n",
        "        feature, target = batch\n",
        "        feature_1= feature[0].to(device)\n",
        "        feature_2 = feature[1].to(device)\n",
        "        target = target.to(device)\n",
        "\n",
        "        feature = (feature_1, feature_2)\n",
        "\n",
        "        # for RNN:\n",
        "        model.batch_size = target.shape[0]\n",
        "        model.hidden_1 = model.init_hidden()\n",
        "        model.hidden_2 = model.init_hidden()\n",
        "\n",
        "        predictions = model(feature).squeeze(1)\n",
        "\n",
        "        predictions_plot.append(predictions.detach().cpu().numpy())\n",
        "        target_plot.append(target.detach().cpu().numpy())\n"
      ],
      "execution_count": null,
      "outputs": []
    },
    {
      "cell_type": "code",
      "metadata": {
        "id": "UiHARYNGcKt-"
      },
      "source": [
        "#plt.scatter(np.flatten(predictions_plot), np.flatten(target_plot))\n",
        "pred = np.concatenate(predictions_plot, axis=0)\n",
        "trg = np.concatenate(target_plot, axis=0)"
      ],
      "execution_count": null,
      "outputs": []
    },
    {
      "cell_type": "code",
      "metadata": {
        "colab": {
          "base_uri": "https://localhost:8080/",
          "height": 181
        },
        "id": "RgYOu6QfcOQf",
        "outputId": "63f10fc9-b3a8-4c07-f5df-17a20c633c86"
      },
      "source": [
        "plt.scatter(pred,trg)\n",
        "plt.axis('equal')"
      ],
      "execution_count": 34,
      "outputs": [
        {
          "output_type": "error",
          "ename": "NameError",
          "evalue": "ignored",
          "traceback": [
            "\u001b[0;31m---------------------------------------------------------------------------\u001b[0m",
            "\u001b[0;31mNameError\u001b[0m                                 Traceback (most recent call last)",
            "\u001b[0;32m<ipython-input-34-606f11f757fe>\u001b[0m in \u001b[0;36m<module>\u001b[0;34m()\u001b[0m\n\u001b[0;32m----> 1\u001b[0;31m \u001b[0mplt\u001b[0m\u001b[0;34m.\u001b[0m\u001b[0mscatter\u001b[0m\u001b[0;34m(\u001b[0m\u001b[0mpred\u001b[0m\u001b[0;34m,\u001b[0m\u001b[0mtrg\u001b[0m\u001b[0;34m)\u001b[0m\u001b[0;34m\u001b[0m\u001b[0;34m\u001b[0m\u001b[0m\n\u001b[0m\u001b[1;32m      2\u001b[0m \u001b[0mplt\u001b[0m\u001b[0;34m.\u001b[0m\u001b[0maxis\u001b[0m\u001b[0;34m(\u001b[0m\u001b[0;34m'equal'\u001b[0m\u001b[0;34m)\u001b[0m\u001b[0;34m\u001b[0m\u001b[0;34m\u001b[0m\u001b[0m\n",
            "\u001b[0;31mNameError\u001b[0m: name 'pred' is not defined"
          ]
        }
      ]
    },
    {
      "cell_type": "markdown",
      "metadata": {
        "id": "pGxxkvn14lyt"
      },
      "source": [
        ""
      ]
    },
    {
      "cell_type": "markdown",
      "metadata": {
        "id": "mJHjgo5XEELW"
      },
      "source": [
        "# BERT VERSION"
      ]
    },
    {
      "cell_type": "markdown",
      "metadata": {
        "id": "huUfT43sLAmc"
      },
      "source": [
        "## Bert Preprocessing"
      ]
    },
    {
      "cell_type": "code",
      "metadata": {
        "id": "GGdZjHS-INyj"
      },
      "source": [
        ""
      ],
      "execution_count": null,
      "outputs": []
    },
    {
      "cell_type": "code",
      "metadata": {
        "id": "7YhnKBjYLIoG"
      },
      "source": [
        " def add_columns_to_data(train_df, test_df):   \n",
        "    #instead of having two inputs out of preprocessing, edit the dataset, and add in columns which we can use as inputs\n",
        "    #we can also add an 'old' field which contains the original word \n",
        "    train_df['old'] = train_df.apply(lambda x:x['original'][x['original'].find('<')+1:x['original'].find('>')-1],axis=1)\n",
        "    test_df['old'] = test_df.apply(lambda x:x['original'][x['original'].find('<')+1:x['original'].find('>')-1],axis=1)\n",
        "\n",
        "    #first we add a field to the data which contains the edited headline\n",
        "    train_df['edited'] = train_df.apply(lambda x:x['original'].replace(x['original'][x['original'].find('<'):x['original'].find('>')+1],x['edit'] ) ,axis=1)\n",
        "    test_df['edited'] = test_df.apply(lambda x:x['original'].replace(x['original'][x['original'].find('<'):x['original'].find('>')+1], x['edit'] ) ,axis=1)\n",
        "\n",
        "    train_df['original'] = train_df.apply(lambda x:x['original'].replace(x['original'][x['original'].find('<'):x['original'].find('>')+1], x['old']) ,axis=1)\n",
        "    test_df['original'] = test_df.apply(lambda x:x['original'].replace(x['original'][x['original'].find('<'):x['original'].find('>')+1], x['old']),axis=1)\n",
        "\n",
        "    return train_df, test_df"
      ],
      "execution_count": null,
      "outputs": []
    },
    {
      "cell_type": "code",
      "metadata": {
        "id": "3K1hafJCyjy-"
      },
      "source": [
        "train_df, test_df = add_columns_to_data(train_df, test_df)"
      ],
      "execution_count": null,
      "outputs": []
    },
    {
      "cell_type": "code",
      "metadata": {
        "id": "_WFKfFOHqyPi"
      },
      "source": [
        "def data_to_list(data, training = True):  \n",
        "  og_headline_list = data['original'].tolist()\n",
        "  edited_headline_list = data['edited'].tolist()\n",
        "  edited_word_list = data['edit'].tolist()\n",
        "  labels_list = None\n",
        "  if training:\n",
        "    labels_list = data['meanGrade'].tolist()\n",
        "  \n",
        "\n",
        "  return og_headline_list, edited_headline_list, edited_word_list, labels_list"
      ],
      "execution_count": null,
      "outputs": []
    },
    {
      "cell_type": "code",
      "metadata": {
        "id": "Iwe8nrN0zW0x"
      },
      "source": [
        "train_og_headlines, train_edited_headlines, train_edited_words, labels = data_to_list(train_df)\n",
        "test_og_headlines, test_edited_headlines, test_edited_words, _ = data_to_list(test_df, training=False)"
      ],
      "execution_count": null,
      "outputs": []
    },
    {
      "cell_type": "code",
      "metadata": {
        "id": "LmDdRWrbCs7h"
      },
      "source": [
        ""
      ],
      "execution_count": null,
      "outputs": []
    },
    {
      "cell_type": "code",
      "metadata": {
        "id": "XC7yLY8L0LHr"
      },
      "source": [
        "def preprocessing(data_list):\n",
        "  preprocessed_data = []\n",
        "\n",
        "  for sentence in data_list:\n",
        "\n",
        "    sentence = re.sub(r'[^\\w\\s\\?\\!]', '', sentence)\n",
        "    sentence = sentence.lower()\n",
        "    preprocessed_data.append(sentence)\n",
        "    \n",
        "  return preprocessed_data\n",
        "\n",
        "train_og_headlines_p = preprocessing(train_og_headlines)\n",
        "train_edited_headlines_p = preprocessing(train_edited_headlines)\n",
        "train_edited_words_p = preprocessing(train_edited_words)\n",
        "\n",
        "test_og_headlines_p = preprocessing(test_og_headlines)\n",
        "test_edited_headlines_p = preprocessing(test_edited_headlines)\n",
        "test_edited_words_p = preprocessing(test_edited_words)"
      ],
      "execution_count": null,
      "outputs": []
    },
    {
      "cell_type": "code",
      "metadata": {
        "id": "IUoiGvGvz7te",
        "colab": {
          "base_uri": "https://localhost:8080/",
          "height": 66,
          "referenced_widgets": [
            "5830468a03d5475694fc35370f6223b0",
            "c36ef91e67524463acb199c5b4bef341",
            "785dbccd9a844327b7b09e474c260af7",
            "d8d7564a801d443fa8001abb3cfcc18e",
            "c7a8221e455d4741ae5233e7bb17c3ef",
            "4d0debe500b847aea57fad925e59c129",
            "610d20bcc02949538de4c7245019a7e0",
            "996a8032758f4d84bfc8b1543ac01534"
          ]
        },
        "outputId": "96c4ec02-532d-4ed2-ddfd-7c3fb04a0ea1"
      },
      "source": [
        "tokenizer = BertTokenizer.from_pretrained('bert-base-uncased', do_lower_case=True)\n",
        "# the version that concatenates original sentences and new sentences\n",
        "train_encoded_inputs = tokenizer(train_og_headlines_p, train_edited_headlines_p, padding='max_length', max_length=90, truncation=True, return_tensors=\"pt\")\n",
        "test_encoded_inputs = tokenizer(test_og_headlines_p, test_edited_headlines_p, padding='max_length', max_length=90, truncation=True, return_tensors=\"pt\")"
      ],
      "execution_count": null,
      "outputs": [
        {
          "output_type": "display_data",
          "data": {
            "application/vnd.jupyter.widget-view+json": {
              "model_id": "5830468a03d5475694fc35370f6223b0",
              "version_minor": 0,
              "version_major": 2
            },
            "text/plain": [
              "HBox(children=(FloatProgress(value=0.0, description='Downloading', max=231508.0, style=ProgressStyle(descripti…"
            ]
          },
          "metadata": {
            "tags": []
          }
        },
        {
          "output_type": "stream",
          "text": [
            "\n"
          ],
          "name": "stdout"
        }
      ]
    },
    {
      "cell_type": "code",
      "metadata": {
        "colab": {
          "base_uri": "https://localhost:8080/",
          "height": 103
        },
        "id": "ebgbzfrm4idz",
        "outputId": "9713056c-95e9-4ca8-93e2-09ed2dd1844c"
      },
      "source": [
        "train_input_ids = train_encoded_inputs['input_ids']\n",
        "train_attention_mask = train_encoded_inputs['attention_mask']\n",
        "train_token_type_ids = train_encoded_inputs['token_type_ids']\n",
        "train_labels = torch.tensor(labels)\n",
        "\n",
        "train_token_type_ids[0]\n",
        "tokenizer.decode(train_input_ids.tolist()[1])"
      ],
      "execution_count": null,
      "outputs": [
        {
          "output_type": "execute_result",
          "data": {
            "application/vnd.google.colaboratory.intrinsic+json": {
              "type": "string"
            },
            "text/plain": [
              "'[CLS] pentagon claims 2000 increase in russian trolls after syria strikes what does that mean? [SEP] pentagon claims 2000 increase in russian trolls after bowling strikes what does that mean? [SEP] [PAD] [PAD] [PAD] [PAD] [PAD] [PAD] [PAD] [PAD] [PAD] [PAD] [PAD] [PAD] [PAD] [PAD] [PAD] [PAD] [PAD] [PAD] [PAD] [PAD] [PAD] [PAD] [PAD] [PAD] [PAD] [PAD] [PAD] [PAD] [PAD] [PAD] [PAD] [PAD] [PAD] [PAD] [PAD] [PAD] [PAD] [PAD] [PAD] [PAD] [PAD] [PAD] [PAD] [PAD] [PAD] [PAD] [PAD] [PAD] [PAD] [PAD] [PAD] [PAD] [PAD] [PAD] [PAD] [PAD] [PAD]'"
            ]
          },
          "metadata": {
            "tags": []
          },
          "execution_count": 14
        }
      ]
    },
    {
      "cell_type": "markdown",
      "metadata": {
        "id": "y9brja9zLFR4"
      },
      "source": [
        "## Bert Training/Eval\n"
      ]
    },
    {
      "cell_type": "code",
      "metadata": {
        "id": "IeKy-eWjF9BB"
      },
      "source": [
        "#Hyperparameters\n",
        "train_proportion = 0.8\n",
        "batch_size = 64\n",
        "lr = 5e-5\n",
        "eps = 1e-8\n",
        "epochs = 4"
      ],
      "execution_count": null,
      "outputs": []
    },
    {
      "cell_type": "code",
      "metadata": {
        "id": "1l6PAI0t4Fbq"
      },
      "source": [
        "class BERT_Dataset(torch.utils.data.Dataset):\n",
        "    def __init__(self, x1, x2, x3, y1):\n",
        "        self.len = x1.shape[0]\n",
        "\n",
        "        self.x1_data = x1.to(device)\n",
        "        self.x2_data = x2.to(device)\n",
        "        self.x3_data = x3.to(device)\n",
        "        self.y1_data = y1.to(device)\n",
        "\n",
        "\n",
        "    def __getitem__(self, index):\n",
        "        return self.x1_data[index], self.x2_data[index], self.x3_data[index], self.y1_data[index]\n",
        "\n",
        "\n",
        "    def __len__(self):\n",
        "        return self.len"
      ],
      "execution_count": null,
      "outputs": []
    },
    {
      "cell_type": "code",
      "metadata": {
        "id": "cSlXJEGPQlhn"
      },
      "source": [
        "\n",
        "\n",
        "train_and_dev = BERT_Dataset(train_input_ids, train_attention_mask, train_token_type_ids, train_labels)\n",
        "train_examples = round(len(train_and_dev)*train_proportion)\n",
        "dev_examples = len(train_and_dev) - train_examples\n",
        "train_dataset, dev_dataset = random_split(train_and_dev,(train_examples,dev_examples))\n",
        "\n",
        "\n",
        "train_iter = DataLoader(\n",
        "            train_dataset, \n",
        "            sampler = RandomSampler(train_dataset), \n",
        "            batch_size = batch_size\n",
        "        )\n",
        "\n",
        "\n",
        "eval_iter = DataLoader(\n",
        "            dev_dataset, \n",
        "            sampler = SequentialSampler(dev_dataset), # Pull out batches sequentially.\n",
        "            batch_size = batch_size \n",
        "        )"
      ],
      "execution_count": null,
      "outputs": []
    },
    {
      "cell_type": "code",
      "metadata": {
        "colab": {
          "base_uri": "https://localhost:8080/",
          "height": 220,
          "referenced_widgets": [
            "360d1c8f8f7e4ad6ae54f471d7015274",
            "4df7c46e658b4be78640a1678d15a408",
            "f2b1f3fa53a54bc883eb8ac5060bbfa4",
            "4302fdad42de41a9bedd26811876b380",
            "c5496ff15fcf47cdb013195b1ad9d8b2",
            "9abc19e9631c41d8bb47c4505dc28e80",
            "ef0a8b23a24d452fa190550ed93dec26",
            "f8d95711d1de452a9dcab4c5e890840e",
            "f591cefdde0c4c2996d6f52ec50de456",
            "635c0903f0ce4c9a8410a0c1ba2c231d",
            "e579bc2ea49b44e79f3468371ee3893d",
            "6798e20c60b74a74adaa110d7e96f9c0",
            "6031453ebb454f6799115a8d55ef54c2",
            "9ebc0c48a7a94249b3e1ad65b6ae14a6",
            "e79e711149bd47aa9165711e161ebee5",
            "57c0385dad314b648e74bb50af7d24bb"
          ]
        },
        "id": "NvvC0JgPFRyU",
        "outputId": "12af570e-cc96-48bd-a00a-2303f0fa3500"
      },
      "source": [
        "model = BertForSequenceClassification.from_pretrained(\n",
        "    'bert-base-uncased', # the 12-layer BERT model, with an uncased vocab.\n",
        "    num_labels = 1,  \n",
        "    output_attentions = False, # don't return attention weights or hidden states\n",
        "    output_hidden_states = False, \n",
        ")\n",
        "model.cuda()\n",
        "#store double values\n",
        "model = model.double()"
      ],
      "execution_count": null,
      "outputs": [
        {
          "output_type": "display_data",
          "data": {
            "application/vnd.jupyter.widget-view+json": {
              "model_id": "360d1c8f8f7e4ad6ae54f471d7015274",
              "version_minor": 0,
              "version_major": 2
            },
            "text/plain": [
              "HBox(children=(FloatProgress(value=0.0, description='Downloading', max=433.0, style=ProgressStyle(description_…"
            ]
          },
          "metadata": {
            "tags": []
          }
        },
        {
          "output_type": "stream",
          "text": [
            "\n"
          ],
          "name": "stdout"
        },
        {
          "output_type": "display_data",
          "data": {
            "application/vnd.jupyter.widget-view+json": {
              "model_id": "f591cefdde0c4c2996d6f52ec50de456",
              "version_minor": 0,
              "version_major": 2
            },
            "text/plain": [
              "HBox(children=(FloatProgress(value=0.0, description='Downloading', max=440473133.0, style=ProgressStyle(descri…"
            ]
          },
          "metadata": {
            "tags": []
          }
        },
        {
          "output_type": "stream",
          "text": [
            "\n"
          ],
          "name": "stdout"
        },
        {
          "output_type": "stream",
          "text": [
            "Some weights of the model checkpoint at bert-base-uncased were not used when initializing BertForSequenceClassification: ['cls.predictions.bias', 'cls.predictions.transform.dense.weight', 'cls.predictions.transform.dense.bias', 'cls.predictions.decoder.weight', 'cls.seq_relationship.weight', 'cls.seq_relationship.bias', 'cls.predictions.transform.LayerNorm.weight', 'cls.predictions.transform.LayerNorm.bias']\n",
            "- This IS expected if you are initializing BertForSequenceClassification from the checkpoint of a model trained on another task or with another architecture (e.g. initializing a BertForSequenceClassification model from a BertForPreTraining model).\n",
            "- This IS NOT expected if you are initializing BertForSequenceClassification from the checkpoint of a model that you expect to be exactly identical (initializing a BertForSequenceClassification model from a BertForSequenceClassification model).\n",
            "Some weights of BertForSequenceClassification were not initialized from the model checkpoint at bert-base-uncased and are newly initialized: ['classifier.weight', 'classifier.bias']\n",
            "You should probably TRAIN this model on a down-stream task to be able to use it for predictions and inference.\n"
          ],
          "name": "stderr"
        }
      ]
    },
    {
      "cell_type": "code",
      "metadata": {
        "id": "B6kGoEa-RQn7"
      },
      "source": [
        "optimizer = AdamW(model.parameters(), lr = lr, eps = eps)\n",
        "\n",
        "total_steps = len(train_iter) * epochs\n",
        "# The scheduler can actually learn the best learning rate throughout tranining\n",
        "scheduler = get_linear_schedule_with_warmup(optimizer, num_warmup_steps = 0, num_training_steps = total_steps)"
      ],
      "execution_count": null,
      "outputs": []
    },
    {
      "cell_type": "code",
      "metadata": {
        "id": "0TrotOmSEG-n"
      },
      "source": [
        "# We define our training loop\n",
        "def train(train_iter, dev_iter, model, number_epoch):\n",
        "    \"\"\"\n",
        "    Training loop for the model, which calls on eval to evaluate after each epoch\n",
        "    \"\"\"\n",
        "\n",
        "    train_losses = np.zeros(number_epoch)\n",
        "    valid_losses = np.zeros(number_epoch)\n",
        "    rmses = np.zeros(number_epoch)\n",
        "    print(\"Training model.\")\n",
        "\n",
        "\n",
        "    for epoch in range(1, number_epoch+1):\n",
        "\n",
        "        model.train()\n",
        "        epoch_loss = 0\n",
        "        epoch_sse = 0\n",
        "        epoch_mse = 0\n",
        "        no_observations = 0  # Observations used for training so far\n",
        "\n",
        "        for input_ids_batch, attention_mask_batch, token_type_ids_batch, target in train_iter:\n",
        "            optimizer.zero_grad()\n",
        "\n",
        "            # get the output\n",
        "            outputs = model(input_ids_batch,\n",
        "                            attention_mask=attention_mask_batch,\n",
        "                            token_type_ids=token_type_ids_batch)\n",
        "            \n",
        "            \n",
        "            predictions = outputs[0].squeeze(1)\n",
        "            loss = torch.sqrt(((predictions - target)**2).mean())\n",
        "           # loss, predictions = outputs[:2] \n",
        "\n",
        "            no_observations = no_observations + target.shape[0]\n",
        "         \n",
        "            sse, mse, _ = model_performance(predictions.detach().cpu().numpy(), target.detach().cpu().numpy()) \n",
        "            \n",
        "            loss.backward()\n",
        "            optimizer.step()\n",
        "            #Update the learning rate.\n",
        "            scheduler.step()\n",
        "\n",
        "            epoch_loss += loss.item()*target.shape[0]\n",
        "            epoch_sse += sse \n",
        "            epoch_mse += mse * target.shape[0]\n",
        "\n",
        "        valid_loss, valid_mse, __, __ = eval(dev_iter, model)\n",
        "\n",
        "        epoch_loss, epoch_mse = epoch_loss / no_observations, epoch_mse / no_observations\n",
        "\n",
        "        train_losses[epoch-1] = epoch_loss\n",
        "        valid_losses[epoch-1] = valid_loss\n",
        "        rmses[epoch-1] = np.sqrt(epoch_mse)\n",
        "        print(f'| Epoch: {epoch:02} | Train Loss: {epoch_loss:.2f} | Train MSE: {epoch_mse:.2f} | Train RMSE: {np.sqrt(epoch_mse):.2f} | \\\n",
        "        Val. Loss: {valid_loss:.2f} | Val. MSE: {valid_mse:.2f} |  Val. RMSE: {np.sqrt(valid_mse):.2f} |')\n",
        "    return train_losses, valid_losses, rmses"
      ],
      "execution_count": null,
      "outputs": []
    },
    {
      "cell_type": "code",
      "metadata": {
        "id": "XYoIP1F3EW6W"
      },
      "source": [
        "from sklearn.metrics import mean_squared_error\n",
        "# We evaluate performance on our dev set\n",
        "def eval(dev_iter, model):\n",
        "    \"\"\"\n",
        "    Evaluating model performance on the dev set\n",
        "    \"\"\"\n",
        "    model.eval()\n",
        "    epoch_loss = 0\n",
        "    epoch_sse = 0\n",
        "    epoch_mse = 0\n",
        "    pred_all = []\n",
        "    trg_all = []\n",
        "    no_observations = 0\n",
        "    total_eval_loss = 0\n",
        "\n",
        "\n",
        "    with torch.no_grad():\n",
        "        for input_ids_batch, attention_mask_batch, token_type_ids_batch, target in dev_iter:\n",
        "\n",
        "            no_observations = no_observations + target.shape[0]\n",
        "\n",
        "            outputs = model(input_ids_batch,\n",
        "                            attention_mask=attention_mask_batch,\n",
        "                            token_type_ids=token_type_ids_batch)\n",
        "            \n",
        "            #loss, predictions = outputs[:2] \n",
        "            predictions = outputs[0].squeeze(1)\n",
        "            loss = torch.sqrt(((predictions - target)**2).mean())\n",
        " \n",
        "            # Accumulate the validation loss.\n",
        "            total_eval_loss += loss.item()\n",
        "\n",
        "            # We get the mse\n",
        "            pred, trg = predictions.detach().cpu().numpy(), target.detach().cpu().numpy()\n",
        "            sse, mse, rmse = model_performance(pred, trg)\n",
        "\n",
        "            epoch_loss += loss.item()*target.shape[0]\n",
        "            epoch_sse += sse\n",
        "            epoch_mse += mse*target.shape[0]\n",
        "            pred_all.extend(pred)\n",
        "            trg_all.extend(trg)\n",
        "    \n",
        "\n",
        "    return epoch_loss/no_observations, epoch_mse/no_observations, np.array(pred_all), np.array(trg_all)"
      ],
      "execution_count": null,
      "outputs": []
    },
    {
      "cell_type": "code",
      "metadata": {
        "id": "QMwsi9MZEkaT"
      },
      "source": [
        "# How we print the model performance\n",
        "def model_performance(output, target, print_output=False):\n",
        "    \"\"\"\n",
        "    Returns SSE and MSE per batch (printing the MSE and the RMSE)\n",
        "    \"\"\"\n",
        "\n",
        "    sq_error = (output - target)**2\n",
        "\n",
        "    sse = np.sum(sq_error)\n",
        "    mse = np.mean(sq_error)\n",
        "    rmse = np.sqrt(mse)\n",
        "\n",
        "    if print_output:\n",
        "        print(f'| MSE: {mse:.2f} | RMSE: {rmse:.2f} |')\n",
        "\n",
        "    return sse, mse, rmse"
      ],
      "execution_count": null,
      "outputs": []
    },
    {
      "cell_type": "code",
      "metadata": {
        "id": "RvkEIrZJctw8"
      },
      "source": [
        "def calculate_rmse(predictions, labels):\n",
        "    loss = torch.sqrt(((predictions - labels)**2).mean())\n",
        "\n",
        "    return loss"
      ],
      "execution_count": null,
      "outputs": []
    },
    {
      "cell_type": "code",
      "metadata": {
        "id": "JCArikM9cwG4"
      },
      "source": [
        "import matplotlib.pyplot as plt\n",
        "def plot(train_losses,valid_losses,num_epochs, rmses):\n",
        "  epochs = list(range(num_epochs))\n",
        "  plt.plot(epochs,train_losses, label='train')\n",
        "  plt.plot(epochs,valid_losses, label='valid')\n",
        "  plt.legend()\n",
        "  plt.title(\"BERT Losses by Epoch\")\n",
        "  plt.xlabel(\"Epoch\")\n",
        "  plt.ylabel(\"Loss\")\n",
        "  plt.show()\n",
        "  plt.plot(epochs,rmses, label='train')\n",
        "  plt.legend()\n",
        "  plt.title(\"BERT RSMSE by Epoch\")\n",
        "  plt.xlabel(\"RMSE\")\n",
        "  plt.ylabel(\"Loss\")\n",
        "  plt.show()"
      ],
      "execution_count": null,
      "outputs": []
    },
    {
      "cell_type": "code",
      "metadata": {
        "colab": {
          "base_uri": "https://localhost:8080/"
        },
        "id": "2gwAy-noir9I",
        "outputId": "f5bf9906-f898-4253-e36e-34f1218064be"
      },
      "source": [
        "# Set the seed value all over the place to make this reproducible.\n",
        "random_seed = 42\n",
        "random.seed(random_seed)\n",
        "np.random.seed(random_seed)\n",
        "torch.manual_seed(random_seed)\n",
        "torch.cuda.manual_seed_all(random_seed)\n",
        "torch.backends.cudnn.deterministic = True\n",
        "\n",
        "train_losses, valid_losses, rmses = train(train_iter, eval_iter, model, 5)\n",
        "plot(train_losses, valid_losses, len(train_losses), rmses)\n"
      ],
      "execution_count": null,
      "outputs": [
        {
          "output_type": "stream",
          "text": [
            "Training model.\n",
            "| Epoch: 01 | Train Loss: 0.44 | Train MSE: 0.20 | Train RMSE: 0.44 |         Val. Loss: 0.55 | Val. MSE: 0.30 |  Val. RMSE: 0.55 |\n"
          ],
          "name": "stdout"
        }
      ]
    },
    {
      "cell_type": "code",
      "metadata": {
        "colab": {
          "base_uri": "https://localhost:8080/",
          "height": 232
        },
        "id": "EfFNl-fNNNxD",
        "outputId": "757e5618-0fda-47a3-f9b7-db8e00b7a472"
      },
      "source": [
        "\n",
        "\n",
        "epochs = []\n",
        "training_loss = []\n",
        "validation_loss = []\n",
        "rmse = []\n",
        "\n",
        "for e in training_stats:\n",
        "  epochs.append(e['epoch'])\n",
        "  training_loss.append(e['Training Loss'])\n",
        "  validation_loss.append(e['Valid. Loss'])\n",
        "  rmse.append(e['Valid. RMSE.'])\n",
        "\n",
        "plt.plot(epochs, training_loss, color = 'blue', label = 'training loss')\n",
        "plt.plot(epochs, validation_loss, color = 'green', label = 'validation loss')\n",
        "plt.title(\"Training and validation loss per epoch\")\n",
        "plt.xlabel(\"Epochs\")\n",
        "plt.ylabel(\"Loss\")\n",
        "plt.legend()\n",
        "plt.show()\n",
        "\n",
        "plt.plot(epochs, rmse)\n",
        "plt.title(\"RMSE per epoch\")\n",
        "plt.xlabel(\"Epochs\")\n",
        "plt.ylabel(\"RMSE\")\n",
        "plt.show()\n",
        "\n"
      ],
      "execution_count": null,
      "outputs": [
        {
          "output_type": "error",
          "ename": "NameError",
          "evalue": "ignored",
          "traceback": [
            "\u001b[0;31m---------------------------------------------------------------------------\u001b[0m",
            "\u001b[0;31mNameError\u001b[0m                                 Traceback (most recent call last)",
            "\u001b[0;32m<ipython-input-92-fd099ebeea5f>\u001b[0m in \u001b[0;36m<module>\u001b[0;34m()\u001b[0m\n\u001b[1;32m      6\u001b[0m \u001b[0mrmse\u001b[0m \u001b[0;34m=\u001b[0m \u001b[0;34m[\u001b[0m\u001b[0;34m]\u001b[0m\u001b[0;34m\u001b[0m\u001b[0;34m\u001b[0m\u001b[0m\n\u001b[1;32m      7\u001b[0m \u001b[0;34m\u001b[0m\u001b[0m\n\u001b[0;32m----> 8\u001b[0;31m \u001b[0;32mfor\u001b[0m \u001b[0me\u001b[0m \u001b[0;32min\u001b[0m \u001b[0mtraining_stats\u001b[0m\u001b[0;34m:\u001b[0m\u001b[0;34m\u001b[0m\u001b[0;34m\u001b[0m\u001b[0m\n\u001b[0m\u001b[1;32m      9\u001b[0m   \u001b[0mepochs\u001b[0m\u001b[0;34m.\u001b[0m\u001b[0mappend\u001b[0m\u001b[0;34m(\u001b[0m\u001b[0me\u001b[0m\u001b[0;34m[\u001b[0m\u001b[0;34m'epoch'\u001b[0m\u001b[0;34m]\u001b[0m\u001b[0;34m)\u001b[0m\u001b[0;34m\u001b[0m\u001b[0;34m\u001b[0m\u001b[0m\n\u001b[1;32m     10\u001b[0m   \u001b[0mtraining_loss\u001b[0m\u001b[0;34m.\u001b[0m\u001b[0mappend\u001b[0m\u001b[0;34m(\u001b[0m\u001b[0me\u001b[0m\u001b[0;34m[\u001b[0m\u001b[0;34m'Training Loss'\u001b[0m\u001b[0;34m]\u001b[0m\u001b[0;34m)\u001b[0m\u001b[0;34m\u001b[0m\u001b[0;34m\u001b[0m\u001b[0m\n",
            "\u001b[0;31mNameError\u001b[0m: name 'training_stats' is not defined"
          ]
        }
      ]
    },
    {
      "cell_type": "markdown",
      "metadata": {
        "id": "Klgk-IngaRLa"
      },
      "source": [
        "\n",
        "# Approach 2: No pre-trained representations"
      ]
    },
    {
      "cell_type": "markdown",
      "metadata": {
        "id": "OTBXwqYqKIIB"
      },
      "source": [
        "## Building a word embedding - Gutenberg"
      ]
    },
    {
      "cell_type": "code",
      "metadata": {
        "id": "oDgubwuRXQz9"
      },
      "source": [
        "nlp = spacy.load(\"en\")\n",
        "GUTENBERG_DIR = \"drive/MyDrive/Imperial_College/NLP_CW/ic_nlp_cw/gutenberg/\""
      ],
      "execution_count": null,
      "outputs": []
    },
    {
      "cell_type": "code",
      "metadata": {
        "colab": {
          "base_uri": "https://localhost:8080/"
        },
        "id": "zHbR38n3XrKu",
        "outputId": "34397927-6d36-4482-b57f-2509d1596e10"
      },
      "source": [
        "\n",
        "gutenberg_books = []\n",
        "for i, book_name in enumerate(os.listdir(GUTENBERG_DIR)):\n",
        "    book_file = open(os.path.join(\n",
        "        GUTENBERG_DIR, book_name), encoding=\"latin-1\")\n",
        "    book = book_file.read()\n",
        "    gutenberg_books.append(book)\n",
        "    book_file.close()\n",
        "    #if i == 1:\n",
        "    #    break\n",
        "\n",
        "gutenberg_book_lines = []\n",
        "for book in gutenberg_books:\n",
        "    book_lines = book.split(\"\\n\")\n",
        "    book_lines = list(filter(lambda x: x != \"\", book_lines))\n",
        "    print(book_lines)\n",
        "    gutenberg_book_lines.append(book_lines)\n",
        "    \n",
        "print(gutenberg_book_lines[0])"
      ],
      "execution_count": null,
      "outputs": [
        {
          "output_type": "stream",
          "text": [
            "IOPub data rate exceeded.\n",
            "The notebook server will temporarily stop sending output\n",
            "to the client in order to avoid crashing it.\n",
            "To change this limit, set the config variable\n",
            "`--NotebookApp.iopub_data_rate_limit`.\n",
            "\n",
            "Current values:\n",
            "NotebookApp.iopub_data_rate_limit=1000000.0 (bytes/sec)\n",
            "NotebookApp.rate_limit_window=3.0 (secs)\n",
            "\n"
          ],
          "name": "stderr"
        }
      ]
    },
    {
      "cell_type": "code",
      "metadata": {
        "colab": {
          "base_uri": "https://localhost:8080/"
        },
        "id": "Eloh_PpEaORC",
        "outputId": "6b6b75dc-b615-4242-a942-4375729f0f07"
      },
      "source": [
        "tokenized_corpus = []\n",
        "for book_line in gutenberg_book_lines:\n",
        "    for line in book_line:\n",
        "        doc = nlp(line)\n",
        "        tokenized_corpus.append([token.text.lower()\n",
        "                                  for token in doc if not token.is_punct])\n",
        "\n",
        "print(tokenized_corpus[0:5])\n",
        "pickle.dump(tokenized_corpus, open(\"tokenized_corpus_gutenberg.pkl\", \"wb\"))\n"
      ],
      "execution_count": null,
      "outputs": [
        {
          "output_type": "stream",
          "text": [
            "[['the', 'tragedie', 'of', 'macbeth', 'by', 'william', 'shakespeare', '1603'], ['actus', 'primus', 'scoena', 'prima'], ['thunder', 'and', 'lightning', 'enter', 'three', 'witches'], ['  ', '1', 'when', 'shall', 'we', 'three', 'meet', 'againe'], ['in', 'thunder', 'lightning', 'or', 'in', 'raine']]\n"
          ],
          "name": "stdout"
        }
      ]
    },
    {
      "cell_type": "code",
      "metadata": {
        "colab": {
          "base_uri": "https://localhost:8080/"
        },
        "id": "QeyX9FPuKXF_",
        "outputId": "1283d48e-52e3-4ff1-8394-3d1560aa5f7e"
      },
      "source": [
        "print(len(tokenized_corpus))"
      ],
      "execution_count": null,
      "outputs": [
        {
          "output_type": "stream",
          "text": [
            "206631\n"
          ],
          "name": "stdout"
        }
      ]
    },
    {
      "cell_type": "code",
      "metadata": {
        "id": "Q-RTJDHieGZE",
        "colab": {
          "base_uri": "https://localhost:8080/"
        },
        "outputId": "6712fa35-8a06-4bbe-9622-1902a49218d0"
      },
      "source": [
        "train_df['old'] = train_df.apply(lambda x:x['original'][x['original'].find('<')+1:x['original'].find('>')-1],axis=1)\n",
        "train_df['original'] = train_df.apply(lambda x:x['original'].replace(x['original'][x['original'].find('<'):x['original'].find('>')+1], x['old']) ,axis=1)\n",
        "\n",
        "#add original corpus\n",
        "for headline in train_df.original:\n",
        "    doc = nlp(headline)\n",
        "    tokenized_corpus.append([token.text.lower()\n",
        "                                  for token in doc if not token.is_punct])\n",
        "print(len(tokenized_corpus))"
      ],
      "execution_count": null,
      "outputs": [
        {
          "output_type": "stream",
          "text": [
            "215760\n"
          ],
          "name": "stdout"
        }
      ]
    },
    {
      "cell_type": "code",
      "metadata": {
        "id": "b1YwV4YAKcQz"
      },
      "source": [
        "#add edit words\n",
        "for word in train_df.edit:\n",
        "    doc = nlp(word)\n",
        "    tokenized_corpus.append(doc.text.lower())\n",
        "    \n",
        "pickle.dump(tokenized_corpus, open(\"tokenized_corpus_gutenberg.pkl\", \"wb\"))\n"
      ],
      "execution_count": null,
      "outputs": []
    },
    {
      "cell_type": "code",
      "metadata": {
        "id": "eQ1zM475SKXG"
      },
      "source": [
        "#add special token for BILSTM\n",
        "tokenized_corpus.append('???')\n",
        "    \n",
        "pickle.dump(tokenized_corpus, open(\"tokenized_corpus_gutenberg.pkl\", \"wb\"))\n"
      ],
      "execution_count": null,
      "outputs": []
    },
    {
      "cell_type": "code",
      "metadata": {
        "colab": {
          "base_uri": "https://localhost:8080/"
        },
        "id": "xotsPqJ8ayrx",
        "outputId": "880f0d85-6f0f-4212-9d89-743dce90d79e"
      },
      "source": [
        "#maybe change cut off frequency\n",
        "def get_vocabulary(tokenized_corpus, cutoff_frequency=1):\n",
        "    vocab_freq_dict = dict()\n",
        "    for sentence in tokenized_corpus:\n",
        "        for token in sentence:\n",
        "            if token not in vocab_freq_dict.keys():\n",
        "                vocab_freq_dict[token] = 0\n",
        "\n",
        "            vocab_freq_dict[token] += 1\n",
        "\n",
        "    vocabulary = set()\n",
        "    for sentence in tokenized_corpus:\n",
        "        for token in sentence:\n",
        "            if vocab_freq_dict[token] > cutoff_frequency:\n",
        "                vocabulary.add(token)\n",
        "                \n",
        "    return vocabulary\n",
        "\n",
        "vocabulary = get_vocabulary(tokenized_corpus)\n",
        "print(\"LENGTH OF VOCAB:\", len(vocabulary), \"\\nVOCAB:\", vocabulary)"
      ],
      "execution_count": null,
      "outputs": [
        {
          "output_type": "stream",
          "text": [
            "LENGTH OF VOCAB: 32670 \n",
            "VOCAB: {'palmer', 'nook', 'va', 'cogent', 'likeminded', 'correctly', 'commiseration', 'imbued', 'ferrule', 'shutter', 'strike', 'weyard', 'seventeen', '31:50', 'formations', 'merchantability', 'lint', 'knaue', 'erreth', 'drunke', 'trustees', 'gogh', 'elector', 'gemariah', 'ends', 'blockbuster', '3:9', 'peaking', 'implicit', 'riddle', 'undone', 'unfolded', 'straits', 'live', 'priest', 'invigorates', 'simple', 'harden', 'pick', 'cloudlets', 'perchance', 'prohibited', 'omitted', 'estate', 'indeed.--but', 'aromatic', 'reminding', 'ziba', 'cried', 'desires', 'aboriginal', 'unanimous', 'universal', 'servitors', 'works', 'slant', 'coats', 'queer', 'punctual', 'crabs', 'missiles', 'resistance', 'starved', 'venetian', 'stupidly', 'leadership', 'mattaniah', 'reasoning', 'shore--', 'glared', \"curl'd\", 'hinged', '6:60', 'firework', 'hacker', 'halak', 'identified', 'grant', 'school', 'u.s.-led', 'vnder', 'banquet', 'helianthus', 'shuppim', 'dearer', 'gowdy', 'tame', 'intents', 'utter', 'resolving', 'stubborn', 'gluten', 'handshake', 'more--', 'interrogating', '40:14', 'executing', 'forays', 'euery', 'rusty', 'philanthropy', 'chilian', 'perpetually', 'stinking', 'progressing', 'thewes', 'selfe', '9:23', '50:11', 'abdiel', 'unwise', 'warding', 'deferential', 'cringed', 'condense', '30:15', 'disgust', 'instant', 'canavan', 'frog', '22:12', 'churned', 'wistfully', 'encircles', 'baptize', 'willes', 'loses', 'appears', 'sturgeon', 'find', 'fretting', 'inaccessible', 'blooming', 'it!--that', '4:49', 'failure', 'adherence', 'isolation', 'hackneyed', 'negotiation', 'kenny', 'solomon', 'atlantis', '39:17', 'rowling', 'gale', 'cruell', '33:11', 'underneath', 'jaundice', 'fahrenthold', 'cocoa', 'postpones', 'shammah', 'pennants', '45:14', 'hachilah', 'tickled', 'fiftieth', 'philosophs', 'profound', 'schiff', 'unnamed', 'taurus', 'thicken', 'offends', 'psaltery', 'annexed', 'bushel', 'holds', 'somerset', 'standards', \"dy'd\", 'melville', 'ringbolts', 'gillibrand', 'trembled', 'courteous', 'express', 'consoled', 'aesop', 'yearnings', \"tail'd\", 'clowne', 'rumpled', 'sparkled', 'bus', 'hundred', 'rumors', 'captive', 'investing', 'horses', 'hapless', 'confines', 'stewart', 'insatiable', 'shipwright', 'houseless', 'transitions', '47:12', 'thing', 'yawning', 'fleans', 'tillerson', 'sympathise', 'fencer', 'removed', 'lament', 'leviathan', 'fights', 'cormorant', 'consolations', 'forward', 'forbids', 'unctuous', 'mattis', 'kushners', '26:2', 'who', 'revenues', 'manslayer', 'perfumed', 'uttering', '5:31', 'consumes', 'hymenaeus', 'scorch', 'others', 'repair', 'raids', 'classical', 'exempts', 'lamenting', 'orrin', 'perjury', 'mantel', 'portentousness', 'flippant', 'inventor', 'earliest', 'sight', 'flickering', 'dash', 'avith', 'abruptly--', 'divination', 'dwellest', 'stronghold', 'vibes', 'excite', 'tory', 'modestly', 'horns', 'incident', 'drip', 'crusaders', 'flye', 'shined', 'mishma', 'voting', 'scarborough', 'kadmiel', 'cabins', '13:57', 'registered', '42:6', 'unfrequented', 'desirableness', 'desantis', 'beguiled', 'contents', '27:23', '31:16', 'kremlin', 'caress', 'directing', 'magician', 'mortality', 'moabites', 'harosheth', 'sneezing', 'privily', 'anticipations', 'essences', 'grumbling', 'buckle', 'fastenings', 'feele', 'pertains', 'fortinbras', 'sports', 'koch', 'fuller', 'agen', 'praying', 'contracted', 'vouchers', 'deceptive', 'fundamentally', 'apocalyptic', 'heavier', 'cultivated', 'voluntarily', 'sportsmen', 'baldness', 'supernal', 'inspecting', 'paced', 'tyrants', 'lod', 'hymns', 'wait', 'influenced', 'czar', 'manhattanese', '8:25', 'credit', 'taxes', 'respect', \"embower'd\", 'officials', '32:41', 'hesitation', 'unseemly', 'meah', 'mechanically', 'funniest', 'spoonfuls', 'packing', 'waistcoat', 'telmelah', 'bigness', 'capting', 'margaret', 'daisy', 'infinitude', 'machines', 'donors', 'guantรกnamo', 'hark', 'complained', 'pondered', 'pictures', 'aspect', 'profit', 'disadvantages', 'manger', 'limbo', 'defending', 'cleaner', 'at', '15:40', 'kinswoman', 'haran', 'lick', 'sierras', 'empty', 'reynoldo', 'owest', 'google', 'verified', 'rub', 'perceived', 'roboam', 'costs', 'sallai', 'garrison', 'materialism', 'pleasantness', 'prick', 'holyday', 'distended', 'sanity', 'mosses', 'reiterates', 'bribes', 'countess', 'something', 'accessible', 'choosing', 'wax', 'havothjair', '25:9', 'saudis', 'frontrunner', 'there', 'tenth', 'bulke', 'astonish', 'keenly', 'prediction', 'sends', 'blurred', 'feuillage', 'perceptibly', 'brown', '60:12', 'futures', 'corporate', 'watchman', 'undetected', 'resound', 'clarence', 'crust', 'baleful', 'spendthrift', 'kites', 'strategy', 'authors', 'interrupted', '4:32', 'dissension', 'bowers', 'crocodile', 'enlivening', 'moles', 'delineated', 'readeth', 'seywards', 'slimy', 'bethbarah', 'captivate', 'remorse', 'sighing', '11:35', 'swerving', 'scheming', 'splendours', 'gutierrez', 'kicking', 'admiration', 'heaps', 'caring', 'selectest', 'missourian', 'schooner', 'escalating', 'disturbed', 'trout', 'eyeballs', 'ridge', 'usages', 'extraordinarily', 'romney', 'loosed', 'polished', 'former', 'botches', 'evildoers', 'maher', 'theame', 'lordship', 'bdellium', 'jebusite', 'stander', 'receiving', 'seam', 'ioy', 'northerner', 'abishalom', 'berry', 'clearing', 'provocations', 'observation', 'muchness', 'habitan', 'engineers', 'spiritless', 'gederoth', 'intimidation', 'archery', 'hints', 'escalates', 'buck', 'legends', 'grudgingly', 'michigan', 'credentials', 'computer', 'improvisatore', 'agree', 'match', 'fruitage', 'carried', 'zophar', 'reach', 'lied', 'confused', 'nsa', 'engrossed', 'caesar', \"peep'd\", 'adam', 'surrounded', 'liberated', 'garment', 'lessen', 'meshech', 'frigid', 'butlers', 'generation', 'clinton', 'sorrowing', 'betook', 'grey', 'genially', 'misdemeanor', 'absurdity', 'growne', 'militia', 'rechab', 'soliloquy', '43:24', 'outlived', 'gainer', 'hartfield--', 'diffusing', '1825', 'graduation', 'iceland', 'retirement', 'messengers', \"stuff'd\", '7:5', 'muddy', 'famine', 'kindness', 'espn', 'pronged', 'portraits', 'adamite', 'tufts', 'ed', '58:6', 'capacity', 'limbes', 'baronet', 'offering', 'draped', 'rosincrance', 'maaziah', 'intervals', 'filaments', 'ceo', 'force', 'quarter', 'iustly', 'unreasonably', 'babble', 'beholdest', 'bored', 'encamped', 'ineffable', 'plight', 'princely', 'consequential', 'ornamented', 'lashes', '6:26', '1:32', 'vicarage', 'atheist', 'cononiah', 'b', 'proper', 'shadows', 'confronts', 'thirdly', 'princedoms', '11:19', '7:7', 'cancer', '46:18', 'kept', '9:5', 'villainy', 'young', '20:48', '60:10', '12:4', 'nickname', 'authentic', 'cheats', \"possess'd\", 'slighting', 'perizzite', 'merrily', 'nineveh', 'portland', 'icelandic', 'buoyed', 'camel', 'intensely', 'saracen', 'prolonged', 'progenitor', 'troy', 'afloat', 'phantasms', 'abounding', 'timnath', 'gangsters', 'membrane', 'fellowes', 'likes', '24:31', 'perversely', 'nearer', 'delinquents', \"resign'd\", 'hinder', 'whalebone', 'harry', 'harlots', 'cigars', 'crushing', 'postillion', 'allemaine', 'everyone', 'abiezer', 'trumpeter', 'unkindness', 'fence', 'marrieth', 'posen', 'independently', 'unbar', 'liues', 'liar', 'brushes', 'rideth', 'ideology', 'vocation', 'sirloin', 'same', 'lashing', 'millionaire', 'unpolluted', 'dismasted', 'malta', 'heinrich', 'thirtyfold', 'chased', 'keros', 'consciously', 'value', 'bowsman', 'undiscovered', 'lowe', 'environmentalists', 'recited', 'varied', 'chang', 'factory', 'finde', 'speedier', 'acclamations', 'specious', 'dutiful', 'bullocks', 'insured', 'accomplish', 'warns', 'hogs', 'naturally', 'lifelong', 'riled', 'thought,--', 'disgusted', 'vide', 'smiling', 'aiming', 'suburbs', '52:9', 'speaker', '8:35', 'bugle', 'else--', 'escalate', '48:10', 'spacious', 'ores', 'clapped', 'trooping', 'rips', 'disparted', 'suggestions', 'agreed', 'valued', 'loftier', 'busily', 'exploded', 'wave', 'emerald', 'divorced', 'chesterton', 'precedence', 'double', 'stomach', 'question', \"fulfill'd\", 'elizur', 'stubbornness', 'jeremy', 'aspire', 'observed', 'cheers', 'becher', 'canceled', 'stroakes', 'fundamentalist', 'chancing', 'informal', 'severely', 'nabal', '6:41', 'torn', 'elzabad', 'desired', 'wherefore', 'forecastle', 'pensive', 'resigning', '54:5', '65:11', 'tendance', '11:32', 'bearing', 'woody', 'blushing', 'protect', 'proteus', 'jehoahaz', 'knocked', 'yiannopoulos', 'shower', 'paragraph', 'metrical', 'howled', \"lean'd\", 'loomed', 'vomit', 'disorders', 'hyssop', 'physiognomically', 'adorning', 'amalekite', 'product', 'easy', 'pow', 'sweeter', 'mom', 'even', '63rd', 'purplish', 'gleaned', 'gums', 'stuffe', 'hispanics', 'nonviolent', 'southeast', 'cobble', 'cohered', 'lesser', 'sosthenes', 'silence', 'coveted', 'nahum', 'lisbon', 'scotus', 'flowered', '48:7', 'musky', 'skins', '2:35', 'case', 'galatians', 'afghanistan', 'junk', 'frind', 'unsettled', 'supermarket', 'connexion', 'guard', 'druids', 'miletus', 'superstitious', 'revocations', 'cages', 'sheathed', 'discharge', 'dislodged', 'baffled', '12:28', 'enquiring', 'brit', 'pork', 'antics', 'aquarius', 'depriving', 'cana', 'boasteth', 'queens', '34:21', 'casualty', 'apartments', 'detour', 'evade', 'basketed', 'groom', 'cancel', 'irrational', 'ananias', 'disposal', 'device', 'hulls', 'crosses', '30:6', 'hayle', 'feline', 'center', 'submissive', 'diplomat', 'altereth', 'damning', 'forepaws', 'nemuel', 'wavered', 'lepidus', 'tags', 'corroded', 'sulk', 'heirs', 'kidnapping', 'rob', '9000', 'adrammelech', 'heretofore', 'buttressed', 'faltered', 'grog', 'detached', 'campaigning', 'covereth', 'majority', 'stealthily', \"hallow'd\", 'fates', 'ossifrage', 'numbered', 'meekly', 'childe', '16:11', 'plucked', '11:7', 'spectacle', 'opportunity', 'blissful', 'seemes', 'tenderhearted', 'nurse', 'arrogancy', 'bezaleel', 'busks', 'sperma', 'unresting', 'zodiack', 'silver', '89', 'dweller', 'sanballat', \"scap'd\", 'deceased', 'timbrels', 'quickness', 'eightpence', 'oath', 'revolvers', 'brisk', 'willingness', 'sapling', 'chin', 'largely', 'crucifix', '57:9', 'reticent', 'fared', 'elbowed', 'someone', 'tongs', 'cob', 'fiercely', 'refunds', 'portable', 'rabelais', '41:10', 'factories', 'defensive', 'complexion', '1:5', 'premium', 'hebronites', 'appalling', 'slab', 'andersen', 'ugh', 'calls', 'receptacle', 'queerly', 'vegetable', 'fiercer', 'shillings', 'bulrush', 'confirmed', 'migrants', 'rapidity', 'badge', 'resemble', 'medium', 'hammered', 'philanthropic', 'freed', 'kidneys', 'banned', 'unsuited', 'lifetime', 'noises', 'cannabis', 'yeast', 'came--', 'abominable', 'effusion', 'fulfilling', 'paphos', 'sneer', '2', 'single', 'nosegay', 'bedfellow', 'agnostic', '15:46', 'administering', 'grounds', 'nobly', 'tore', 'inflating', 'loup', 'sheshai', 'nyc', 'jonadab', 'trades', '8:43', 'repugnance', 'lucy', 'sister', 'bounding', 'bruised', 'upturned', 'removing', '10:12', 'spiritualism', 'abiathar', 'accumulating', \"vpon't\", 'seale', 'allowed', '17:20', 'nipped', 'banging', 'spoke--', 'palms', 'disagreements', '20:10', 'lowest', 'upwards', 'solemnities', 'chimney', 'hurdle', '7:48', 'pat', 'pampas', 'rearing', 'soyle', 'sawing', '15:11', 'ward', 'poorly', 'latent', 'span', 'pupil', 'leader', 'rather', 'prolific', 'favours', 'snobs', 'brawls', '34:4', 'peeuish', '2:29', 'wordless', 'scared', '12:34', 'freshness', '17:12', '23:17', 'flowed', 'stemmed', 'sucke', '39:3', 'said--', '24:49', 'necessary', 'superlative', 'laws', \"star'd\", 'collision', 'environmental', 'alliance', 'horseback', 'describes', 'daring', 'recollects', 'achaia', 'eyebrows', 'hued', 'leaveneth', 'otway', 'encouraging', 'alphaeus', 'condemn', 'awful', 'good', 'ca-25', 'pollution', 'buffett', 'tasting', 'engendering', 'seating', 'pretensions', 'festoons', 'keepsake', 'grandly', '24:8', 'cologne', 'whiff', 'mark', 'authentick', 'unbound', 'necke', 'gateshead', 'stair', 'michaelmas', 'completely', 'trowels', 'mighty', 'pessimist', 'dec.', 'scribe', 'buzze', 'retaineth', 'hates', 'voiceless', 'dutch', 'helve', 'zemarite', 'inheritor', \"dash'd\", 'asphaltic', 'cutteth', 'cataract', 'mayst', 'brigand', 'misinterpreted', '14:7', 'thriving', 'worme', 'goggles', '34:1', 'brittle', 'lightness', 'solicit', 'damages', 'pitiful', 'quaff', 'position', 'swung', 'secreted', 'wept', 'arrant', 'frets', 'bells', 'financed', '10:31', 'cogitation', 'lasting', 'dynamiter', 'connexions', 'prouide', 'bids', 'uniform', 'terrify', 'savory', 'dealers', 'appealed', 'areli', 'leah', 'expectant', 'pierced', 'medicaid', 'futurity', 'bursting', '36:8', 'brooding', 'eminently', 'pharez', 'consequent', 'rattler', 'prevailed', 'motioning', 'unbelief', 'gath', 'remains', 'inherent', 'quires', 'jointure', 'melania', 'satanic', \"sheath'd\", 'thickness', 'hereditary', 'alienated', 'resistless', 'wiues', 'grapes', 'airly', 'harmes', '1775', 'unaccompanied', 'paradise', 'polar', 'briny', 'inferiority', 'infixed', 'dip', 'levite', 'margin', 'sences', 'farewell', 'unintentionally', 'team', 'methuselah', 'possum', 'humoredly', 'led', 'releasing', 'salutation', 'levy', 'pearl', 'parliament', 'bibles', 'tirade', 'stunsail', 'constrain', 'unselfish', 'seducer', 'speaketh', 'handle', 'gartersnake', 'asylum', 'fewer', 'briefings', 'sprinkle', 'imported', '37:35', 'calculation', 'submits', 'stedfastly', 'heavy', 'jar', 'overshadowed', 'dazed', 'tasked', 'forging', 'denials', 'excitement', 'germany', '47:19', 'sceptred', 'darwin', 'deutsche', '39:8', 'thumbs', 'tyrus', 'aholah', 'haram', '40', 'toyota', 'scolding', 'chivalrous', 'extortion', 'humored', 'libel', 'tolerant', 'heeded', 'misrephothmaim', 'viciousness', \"destin'd\", 'prussian', 'sunflower', '33:23', 'ashnah', 'valiantly', 'borderland', 'ensamples', 'skye', 'silva', 'rehearsed', 'obeying', '21:35', 'hora', 'clatter', 'door--', 'overthrow', 'wittier', 'above', 'humane', 'skunked', 'empires', 'reorganized', \"shunn'd\", 'wipe', 'rights', 'blossom', 'mccarthy', 'overlaying', 'schoolboy', '19:26', 'hangers', '24:43', 'basement', '27:15', 'lepers', 'dathan', 'unweeting', 'repeat', 'fitting', 'fishers', 'lambe', 'termes', \"listen'd\", 'fertility', 'guild', 'them--', 'caged', 'few', 'mccarthyite', 'sashed', 'mizpah', 'suppression', 'eli', 'gathrimmon', 'froome', 'threat', 'adolf', 'boxes', 'allusions', 'bethshemite', 'jotbathah', 'attend', 'persuaded', '66:16', 'poverty', 'poetry', 'themselues', 'holiness', 'roses', 'almonds', '1789', 'indicative', 'smallest', 'abihu', 'audible', 'you--', 'icrc', 'forrest', '30:5', 'emerges', 'reality', 'eccentric', 'interruptions', 'transcribe', 'ubiquitous', 'be.--', 'eaten', 'drives', 'grieved', 'unmoveable', 'rest', 'elegantly', 'euerlasting', \"too't\", 'commendable', 'benjamin', 'indubitable', 'caves', 'prow', 'japanese', 'aske', 'necessitie', 'picnic', 'mcenany', 'deific', 'pendragon', 'compliant', 'rust', 'cheweth', 'altar', 'observable', 'large', 'educated', '11:51', 'clambered', 'delos', 'platforme', 'th', 'mend', '3:40', '2:55', 'ruthless', 'thanes', 'interpreting', 'canariensis', 'metel', 'conspirator', 'harhur', 'duke', 'believest', 'beset', 'homes', 'basket', \"dar'st\", 'madon', 'satisfactorily', 'tenor', 'assyrian', 'fran', 'bacon', 'rebuked', 'compounds', 'corrupted', 'berth', 'passable', 'footing', 'scramble', 'despite', 'rule', 'rarities', 'reformer', 'fade', 'imri', 'revolving', 'kindest', 'twisting', 'rounder', 'hillsborough', 'accusation', 'sash', 'zerah', 'tencent', 'brutality', 'zoological', 'ruling', 'quits', 'flatteries', 'roads', '14:18', 'shapher', 'faire', 'leans', 'flints', 'thereupon', 'paltry', 'entourage', 'obstetrics', 'o’reilly', 'specimens', 'manifestation', 'apologetically', 'password', 'buns', 'beggers', 'miscreants', 'insufferably', 'iram', 'surviving', 'addition', 'imbibed', '35-year', 'yond', '37:20', 'wrist', 'diminish', 'presidentiad', 'embrace', 'mobil', 'unemployed', 'neatly', 'glade', 'clutching', 'favouring', 'data', '51:14', 'hushed', 'sanction', 'neutral', 'emmys', 'yielding', 'runners', 'francis', 'stake', 'shammai', 'skinnes', '30:13', '42:25', 'breasted', 'transition', '44:2', 'plausible', \"hair'd\", 'freckles', 'teetotaller', 'shtone', 'musical', 'uncertain', 'adventurous', 'whist', 'duchess', 'mccain', 'separatist', 'shameful', 'fifteenth', 'infection', 'rapturous', 'artificer', 'accusations', 'liverpool', 'quails', 'attracted', 'stripping', 'tan', 'redress', \"undisturb'd\", '42:22', 'tucked', 'futility', 'phone', '7:31', 'hunkers', '48:9', 'storehouse', 'idea', 'expanse', 'securely', 'savannas', 'thenceforward', 'treat', 'shewed', 'binding', 'triumphal', 'pakistan', 'hundredth', 'northwest', '21:5', 'antony', 'dominicho', 'sacrificers', 'vintages', 'zophah', 'bushy', 'markets', 'sap', '38:16', 'feasts', 'candor', 'sabbath', 'wreathed', '28:34', 'conning', 'perdinavititis', 'raspberry', 'twined', '10:32', 'employs', 'voyces', 'jesus', 'sibmah', 'hermit', 'epicures', '180-degree', 'shrieking', 'gangway', 'casements', 'federal', 'practice', 'pounded', '50:8', 'dodging', 'agnostics', 'vastnesses', 'oftenest', 'allured', 'emerson', 'vapors', 'cornered', 'sandy', 'sublimity', 'censors', 'flash', 'threshers', \"is't\", 'care,--_but', 'shadowing', 'discussed', 'exclusion', 'wheele', 'pursues', 'atlantica', 'hardness', 'terrestrial', 'vnknowne', 'baby', 'agate', 'miscellaneous', 'mortgage', 'mindful', 'resolves', 'shaving', 'mixing', 'disgraceful', 'combine', 'haunt', 'reclining', 'meadow', 'devos', 'fading', 'sticking', 'devouring', 'buryingplace', 'enjoyments', \"call'st\", '47:16', 'disinterestedness', 'moza', '20:41', 'flighty', 'bordered', 'jude', 'horizon', 'loafe', 'chenaniah', 'chewing', 'argentine', 'cynicism', 'font', 'bravery', 'wanes', 'deathly', 'fixedly', 'task', 'joel', 'deserves', 'shun', 'mild', 'restful', 'slogan', 'immediately', 'tempers', 'republicans', 'hanani', 'odium', 'dapper', 'cupboards', 'unnecessarily', 'yeares', 'step', 'ahava', 'ghastly', '17:15', 'obscene', 'happening', 'javan', 'her.--the', 'lesse', 'deafening', 'schwartz', 'fireplace', 'baseball', '25:32', 'brawlers', 'nimshi', 'affaire', 'talents', 'dismiss', 'froze', 'householder', '41:21', 'substantially', 'unclear', 'helez', 'latitudes', 'darkly', 'nantucketers', 'salad', 'mornings', 'listlessness', 'fate', 'menahem', 'attachment--', 'that', 'occupation', 'unction', 'softener', 'jane', '1492', 'enshemesh', 'home', 'jackie', 'socket', 'surpassing', 'reptile', 'injuries', 'carchemish', 'restoratives', 'slothful', 'congregation', 'spight', 'fitfully', 'compatible', 'faithfulest', 'independent', 'slow', 'appeal', 'watchful', 'jinping', 'beginningless', 'gileadite', 'ethics', 'perceive', 'jezreelitess', 'eightieth', 'dr.', 'calamities', 'kanadian', 'corporeal', 'eshtaol', 'choice', 'contains', 'teacup', 'cavity', 'doorless', 'northumberland', \"cherish'd\", 'impassive', 'savagery', 'commonplace', 'vinegar', 'meetings', '21:1', 'unscrupulous', 'electors', 'favorability', 'quickest', 'vtter', 'lincoln', 'cosmic', 'extensive', 'mistris', 'choller', 'pile', 'fleance', 'sinful', 'infuriated', 'anxieties', 'flax', 'cottage', 'lieutenant', 'philemon', 'electricity', 'sepulchres', 'throne', 'stolidly', 'unobservant', '44:17', 'sunrising', '1:54', 'dakota', 'finding', 'obscurely', 'chapters', 'foretell', 'hariph', 'whitman', 'branching', 'sensation', 'thanet', 'impertinence', 'deal', 'luke', 'hananiah', 'discard', 'nomorenazi', 'useless', 'wrecked', 'differs', 'mcconnell', 'your', 'moe', 'tentative', 'foolerie', 'watch', 'unconstitutional', 'best', 'rakes', 'shoved', 'lid', 'ouches', 'unconquerable', 'widowhood', 'dogges', 'undulates', 'frolic', 'indecorous', 'jago', 'constancy', 'backgammon', 'chargers', 'blunder', 'staple', 'lucidity', 'drooping', 'undistinguished', 'guided', 'wondrously', 'unsleeping', '48:22', 'mayors', 'estates', 'voyce', 'condemnation', 'islam', 'sayings', 'returning', 'abhorrence', 'happiest', 'stares', 'firearm', 'strong', 'stamp', 'seascape', 'chauvinism', 'earth', 'cincinnati', 'altamahaw', '26:12', \"deform'd\", 'flocking', 'coyote', 'oregonese', 'moderns', 'thinkers', 'mightie', 'virtue', 'pledge', 'punched', 'persian', 'scholar', 'palpably', '44:11', 'miami', 'talons', 'hecat', 'saws', 'castors', 'pittie', 'repining', 'blighted', 'picture', 'defyingly', '23:38', 'indemnify', 'darned', 'britannia', 'spouses', 'thwarted', 'reseated', 'stumbles', 'taste', 'seriously', 'shulamite', 'installment', 'stolidity', 'hypothetically', 'creak', 'speculation', 'stephen', 'bottled', 'comforteth', 'jurors', 'weighs', 'opener', 'bellied', 'spasmodically', 'covfefe', 'apiece', 'costly', 'jeopardized', 'woodhouses', \"avow'd\", '1.3', 'communicates', 'serves', 'enan', 'refusing', 'alluded', 'implanted', 'ride', 'cherith', 'ioyntly', 'imposing', 'circus', 'jeush', 'unless', 'perusal', 'cautiousness', 'caesars', 'painting', 'manufactory', 'fillest', 'contented', 'snared', 'mould', 'sheaved', 'loyal', 'tides', 'spreading', 'time', 've', 'fulfill', 'olives', 'apart', 'blonde', 'seaside', 'supplies', 'victorie', 'flashed', 'excels', 'denver', 'trimmed', 'crib', 'presenting', 'treasure', '47:2', 'stiles', '’re', 'humpbacked', '43:11', 'queene', 'unpatriotic', 'vertues', 'sidney', 'ephratah', 'blubber', 'mysia', 'womb', 'vnseene', '27:37', 'cappadocia', 'knockes', 'bryant', 'subduing', 'martyrs', 'wares', 'suckled', 'transpointed', 'prune', 'arithmetic', 'eight', 'ros', '54:6', 'controversial', 'song', \"unloos'd\", '4:1', 'adorn', 'perils', 'sigh', 'southwest', 'lullaby', 'workshop', 'deceits', 'bitterest', 'rebukes', 'landscapes', '34:23', 'apace', 'cnn', 'quintillions', 'calleth', 'cloth', 'scrupulous', 'expert', 'occupant', 'exhaled', 'orbicular', 'mannerly', 'disinviting', 'joining', 'domestic', 'lark', 'pokes', 'widespread', 'pals', 'succour', 'buildings', '47:17', 'tiras', 'cornfield', 'follies', 'heifer', 'sweats', 'boycott', 'unprovided', '--and', 'oregon', 'rinsed', 'ringleader', 'spider', 'chariots', 'lep', 'chasms', 'houre', 'rechabites', 'hereupon', '41:26', 'merkley', 'afd', 'spiral', '36:4', 'baruch', '6:12', 'vis', 'mes', 'manhattan', 'humble', 'twining', '10:27', '18:1', 'deuteronomy', '26:64', 'inducement', '20:25', 'subservient', 'smokes', 'surprize', 'motiue', 'deliver', 'fiue', 'symphonies', '36:23', 'trigger', 'superstition', 'beards', 'football', 'averred', 'ninetieth', 'barge', 'nicholas', \"hush'd\", 'colonial', 'character', 'fords', 'constrained', 'adjudged', 'reasonably', 'muezzin', 'repaired', 'amiably', 'courier', 'lighted', 'giving', 'senate', 'competitors', 'bigamists', 'hoboken', 'danes', 'confident', 'boundless', 'fur', 'ore', 'shulkin', 'dodd', '6:62', 'rememberest', 'abijah', 'threw', 'booming', 'fleecy', 'corpes', 'eh', 'detains', 'blueness', '6:16', 'shamefully', 'mary', 'nuts', 'scout', 'blows!--there', 'daffodil', 'strainings', 'lazy', 'hindmost', 'syracuse', 'acquaint', 'schoolgirl', 'crowded', 'averts', 'taller', 'climber', 'brut', 'presentation', \"attain'd\", 'latchet', '5:32', 'spilling', 'reparation', 'corker', 'truce', 'racist', 'no,\"--he', 'salute', 'rotten', 'pendulum', \"toss'd\", 'anointed', 'rejoiceth', '6:6', 'remorselessly', 'detriment', 'divides', 'undermining', '13:31', 'hap', 'shorten', 'fulness', 'thin', 'sneezes', 'gibbethon', 'agreeably', 'senir', 'reciting', 'moreh', 'curve', 'furiously', 'confoundedly', 'normal', 'worshipping', 'falcon', 'pledges', 'laughing', 'eichenwald', 'evidences', 'arch', 'strand', 'bay', 'framing', 'wofull', 'prop', 'confirm', 'risking', 'aforethought', 'customary', 'astronaut', 'ishmaelites', 'eludes', 'playthings', 'pegs', 'twitch', 'altered', 'fuming', 'clearest', \"paus'd\", 'builded', 'lengthened', 'marmalade', 'gazes', 'dispatch', 'censers', 'mahlites', \"sustain'd\", '27:19', 'swet', 'wheeling', 'illusion', 'harim', 'cache', 'inform', 'ardently', 'havock', 'rebuttal', 'board', 'residents', 'christianity', 'shells', 'inaugural', 'luck--', 'handles', '17:7', 'acquiescence', 'sowre', 'lintel', 'bloggers', 'commodious', 'betrays', \"brandish'd\", 'matches', 'replacing', 'limpsy', 'flush', 'blowes', 'neared', '16:15', 'crimson', 'infused', 'tabernacle', 'staggering', 'sheshan', 'regretted', 'foundering', 'relating', 'magnanimity', 'deerely', 'grumbly', 'glee', 'seruice', 'wantest', 'winch', 'contacts', 'encamp', 'realizes', 'myth', 'degree', 'samsung', 'unclothed', '33:13', 'kinder', '44', 'flambeau', 'venerable', 'pastime', 'binary', 'thick', 'helms', 'belly', 'swath', 'rosincrane', 'scaped', 'ploughs', 'tush', 'mal', 'doating', \"play'd\", 'bury', 'kneaded', 'riches', 'meditated', 'ungenerous', 'shem', 'breefely', 'hawaii', 'aliment', 'cadiz', 'offenders', 'theoretically', 'seraphic', 'anatomy', 'warble', 'gaping', 'tearless', 'gaunt', 'able', 'caulk', 'nietzsche', 'fourths', 'preach', 'need', 'social', 'irresistible', 'urchin', '28:42', 'muzzle', 'unceasingly', 'wenzel', 'barrens', '66:5', 'infidel', 'tremble', 'smeer', 'spotted', 'deduction', 'cravat', 'glamys', 'dangerously', 'benevolent', 'sandwiches', 'beheaded', '23:12', 'gowns', '38:20', 'chittim', 'between', 'two--', 'rigging', 'floundering', '19:22', 'disconsolate', 'legalise', 'seaboard', '9:21', 'thereafter', 'envying', '27:21', 'oreb', 'signifies', 'paid', 'sparke', 'reproachful', 'aner', 'shewn', 'squirrel', 'disconcerted', 'yield', 'lamp', \"s'pose\", 'drawn', 'thebez', 'mandrakes', 'squadrons', '20:43', 'clipt', 'lath', 'wrinkled', 'resistant', 'beautie', 'interviewer', '3:28', 'bullies', 'viral', 'sack', 'prevailing', '15:38', 'portents', 'noticed', 'octa', 'recoyle', 'simply', 'beating', 'newly', 'deathbed', 'credential', 'wraps', 'schooling', 'ah', 'hard', 'tracings', 'huzza', 'trouser', 'yell', 'larkins', '7:35', 'illuminate', 'motherless', 'it.--it', 'how', 'indirection', 'brakest', '18:10', 'wired', 'crops', 'unthinkable', 'dancing--', '36:35', 'saveth', 'beeroth', 'recumbent', 'sky', 'zabdiel', 'approval', 'observer', 'cpac', 'absurd', 'aides', 'portentous', 'modes', 'deleting', 'wrestle', \"cover'd\", 'dragging', '1st', 'boatman', '39', 'helem', 'wreathen', 'sermon', 'rape', '31:45', 'careful', 'bob', 'jacob', 'devastating', 'ascended', 'plead', 'sittest', 'interesting', 'unhinged', 'calculations', 'cultists', 'russell', 'stole', 'straine', \"unsurpass'd\", '29:22', 'procopius', 'shakily', 'stacks', 'conspiracie', 'dorchester', 'squads', 'barrels', 'roboticists', 'swimming', 'tempering', 'cleaved', 'battaile', 'reaching', 'bilgah', 'falconroy', 'automatically', 'candidate', '14:39', 'thirteenth', 'graciousness', 'obamas', 'passover', 'babbling', 'deliberate', 'abiram', 'exercise', 'deplore', 'baton', 'mediterranean', '                                                       ', 'assurance', 'withinside', 'border', 'slopes', 'secessionist', 'couches', 'duellists', 'them', 'chace', 'mafeking', 'engine', 'mortar', 'givest', 'transmitted', 'lasts', \"witness'd\", 'emptied', 'baalpeor', 'rushy', 'husham', 'magnified', 'remoter', 'doxology', 'vehemently', 'gnat', 'civilization', 'meehan', \"brew'd\", '48:4', 'maugre', 'timidity', 'sitting', 'iron', 'estimated', 'jumbled', '26:17', '43:5', 'medicare', 'burden', 'tawn', 'sheariah', 'heigh', 'orderly', 'misfortunes', 'supported', 'nugent', 'pliant', 'lackest', 'duck', 'dissuade', 'channels', 'nominated', 'gavest', '11:52', 'visited', 'slivers', 'warnings', 'hama', '46:26', 'reasonable', 'furnished', 'pharaohnechoh', 'persuadeth', 'duels', 'askant', 'arguments', 'rounded', 'macleod', 'drain', 'unadorned', 'watson', 'constitutional', 'accompanying', 'power', 'imlah', 'pecking', 'contributions', 'priam', 'doubtful', 'capitoll', 'legges', 'indifference', 'malchiel', 'deities', 'quick', 'strengthening', 'uncaught', 'sceptic', '                    ', 'sarai', 'amazing', 'indescribably', 'pulitzer', 'spree', 'innocency', 'distaff', 'mget', 'ousts', 'somthing', \"fac'd\", 'lords', 'bitterness', 'crash', '30:18', 'proprietor', 'marchant', 'bigly', 'drill', 'flexible', 'gallows', 'unknowing', 'announced', 'assaults', 'boot', 'callest', 'troubled', 'nonchalance', 'eyres', 'dismally', 'blaspheme', '20:9', 'bars', 'architecture', 'voyagers', 'renish', 'hospitable', 'monomaniac', 'kensington', 'explanations', 'numberest', 'except', 'earning', 'satisfies', 'pert', 'hold', 'handling', 'weepe', \"rous'd\", 'arioch', 'seleucia', 'misinformed', '1820', 'fruition', 'contrivances', 'tally', '43:25', 'necessitated', 'failed', 'indispensable', 'tourism', '31:20', 'maple', 'buffoon', 'assume', 'fantasticall', 'vanished', 'grasping', 'sniffing', 'communication', '51:18', 'firemen', 'noise', 'asked', 'separation', 'og', 'warrant', 'gras', 'obstruction', 'aide', 'breasts', 'uneducated', 'toad', 'publishes', 'introduces', 'acquire', 'payment', 'peal', '2,000', 'paramount', 'futurist', 'volcanic', 'persia', 'tactful', 'nihilist', 'occupies', 'harass', 'deerer', 'legs', 'amminadab', 'bengal', 'browse', 'shakes', 'ahimelech', \"air'd\", 'evils', 'straggling', 'calledst', '32:3', 'pequod', 'shad', 'orly', 'considered', 'lightly', 'welded', '12:33', 'depraved', '6:66', 'deliverest', 'b-1', 'monotonously', 'rosette', 'shadowy', 'jaazaniah', 'anyone', 'partial', 'cursedst', 'reapers', 'joatham', 'quarrel', 'creditor', 'kalashnikov', 'seate', 'vox', 'dreamy', '14:47', 'solar', '7:51', 'greywood', 'accounted', 'spd', '49:17', 'teares', 'custome', 'concurring', 'scrub', 'pondereth', 'pursuers', 'additional', 'overcharged', 'shall', 'noon', 'threatenings', 'sting', 'lifelessly', 'enlarged', 'jezreelite', 'weed', 'inmates', 'imply', 'wanderer', 'unabated', 'merchandise', 'trenched', '27:25', 'worth', 'garnery', 'labourer', 'braiding', 'supposes', '23:11', 'thammuz', 'obtain', 'absences', 'tripped', 'manufactures', 'finsb', '9:53', 'clamour', 'chairman', 'excited', 'ahitub', 'mortified', 'recoiled', 'smut', 'dallying', 'agreeableness', 'invaded', 'o', 'ioue', 'applies', 'trip', 'solemne', 'continual', 'tough', '66:6', 'stirs', 'active', 'hove', 'fearlessly', 'ado', '29:2', 'edify', 'touchy', 'geun', 'illustrated', 'wracke', 'screamed', 'capstan', 'oozy', 'cheeks', 'knits', 'braided', 'literats', '8:40', '49:27', 'playfulness', 'blasphemous', 'vowes', 'silhouette', 'begone', 'deceivers', 'nourishing', 'ha', 'thatch', 'bursal', '35:8', 'varnished', 'quarters', 'visibly', 'communicating', 'celebs', 'psychiatrist', '59:5', 'fallon', 'ranges', 'falter', 'hatchway', 'feds', 'auctioned', 'treason', 'holily', 'boiler', 'corruption', 'birnane', 'withstanding', '66:13', 'west', 'shelter', 'agreeth', 'englishman', 'jenning', 'carcase', 'inequality', 'conjuring', 'perceptible', 'daft', 'ton', 'travels', 'government', '3:17', 'me,--it', 'interior', 'indolence', 'tool', 'recent', 'asuppim', 'bobridge', 'concurred', 'pathway', '--sir', '34:22', 'abstracted', 'unused', 'untimely', 'bill', 'desolation', 'whensoever', '40:20', 'needy', 'taught', 'strings', 'indolent', 'layers', 'profligate', 'preexisting', 'corey', 'bakbukiah', 'dangle', '51:13', 'amasa', 'edict', 'ingeniously', 'travelling', '25:28', 'cursings', 'angry', 'eatable', 'drunkards', 'constant', 'unwittingly', '63', 'heats', 'sirrah', 'amplify', 'elasah', 'methane', \"shovel'd\", 'disobeyed', 'yesterday', 'tahiti', 'gown', 'astonished', 'studieth', 'dynamite', 'neighbour', '37:27', 'jephthah', 'forbade', 'lounged', 'spearmen', 'mainmast', 'pitcher', 'treachery', 'allons', 'pages', 'inherited', 'stray', 'hurried', \"speak'st\", 'substitute', \"nourish'd\", 'kedesh', 'virulent', 'sour', 'deem', 'essay', 'shimron', 'wakeneth', 'wreaths', 'bets', 'stokes', 'retired', 'astounded', 'vimy', 'frost', 'renown', 'pub', 'puzzling', 'frankincense', 'incredibly', 'loin', 'indians', 'beckoning', 'mower', 'undergoing', 'perform', 'winged', '10', 'aboord', 'governed', 'triumphing', 'bozrah', 'heart', 'tete', 'barbara', 'meaningless', 'reich', 'apologise', 'heaviness', 'bodiless', 'prostration', 'lobbied', 'delayeth', 'girdled', 'refer', 'reverently', 'sober', 'pattering', 'his.--', 'sweepe', 'behaviour', 'spirits', 'lewandowski', 'apprehensive', 'aboue', 'applications', 'steel', '13:39', 'reactivated', 'drinkes', '22:27', 'indigence', 'shouldst', 'waterest', 'necessity', 'fat', 'dint', 'drinks', 'dossier', 'recede', 'mummeries', 'chieftain', '39:22', 'trample', 'remarked', 'ponds', 'strands', 'upsprung', 'mehida', 'size', '17:33', 'chap', 'poverties', 'suggested', 'catechism', '57:1', 'retaliating', '32:21', 'hunting', 'departments', 'plaudits', 'azaliah', '21:30', 'churches', 'etham', 'sanctifieth', 'ignores', 'misinform', 'tributaries', '2:18', 'jimmy', 'agile', 'hiss', '8:57', 'berkeley', 'concealment', 'wilt', 'whereas', 'prows', 'admitted', 'driver', 'oppressions', '77', 'winnings', 'pester', 'exaggerating', 'berkshire', 'erecting', 'rejoicing', 'imagine', 'secretary', 'serpentine', 'belched', '500', 'individuality', 'combat', 'establishing', 'etexts', 'washing', 'rates', 'plat', 'broadening', 'unrivalled', 'wandering', 'japan', 'aboard', '17:24', 'gallim', 'chipped', 'dependence', 'skirted', 'disobey', 'cockatrice', '1795', 'plumb', 'divorcement', 'remotest', '36:16', 'anomalous', 'dizziness', '47:3', 'steamboat', 'venom', 'purchases', 'provocation', 'u.k.', \"anchor'd\", 'malawi', '14:41', 'hammock', 'ankle', 'tuscan', 'garret', 'entereth', 'flaps', '361,000', 'pointed', 'gittites', 'hounded', 'skirra', 'broadway', 'gag', 'instructer', 'snare', 'imaginable', 'globalist', 'males', 'globalists', 'calf', 'food', 'leicester', 'parallel', '31:41', 'typifies', 'ladies', 'interdicted', 'unmistakable', 'investigation', 'implying', 'converting', 'loaden', 'swiftly', '34:8', \"clinch'd\", 'suggests', 'leopards', 'virus', 'deadening', 'coverage', 'scaly', 'obligated', 'meanest', 'opposition', 'arising', 'aft', 'unit', 'rulers', '23:9', '93', 'inspect', 'mahalaleel', 'geshurites', 'spurne', 'jot', 'adopt', 'precedent', 'dives', '31:43', 'shrunk', 'vile', 'mueller', 'ahiezer', 'rein', 'canaanite', 'blamed', 'slaves', 'cleaving', 'commonest', 'worshipped', 'bales', 'gospels', 'chests', 'herculaneum', 'gainsaid', 'baal', 'winding', 'skrimshander', 'inhabitable', 'buzz', 'pressman', 'faced', 'parsons', 'sodden', 'magog', '30:1', 'condescension', 'civil', 'ahi', 'stranded', 'churn', 'mishandling', 'falling', 'shoulder', 'critters', 'hercules', 'filing', 'celestiall', '8:14', 'supporting', 'regain', 'endure', 'sutton', 'internally', 'recognizing', 'deafe', 'steadied', 'aria', 'born', 'greeue', 'demonstration', '63:11', 'hint', 'beheldst', 'dishan', 'contemporary', 'barrel', 'sauce', 'jethro', 'togarmah', 'awfulness', 'british', 'brobdingnag', 'peruse', 'barbed', 'celebrity', 'grampus', 'snorted', 'yet', 'forgetteth', 'quadrupeds', 'corded', 'whores', '44:28', 'translated', 'situations', 'deterred', 'bound', 'loruhamah', '51:7', 'conciliation', 'answerest', 'concern', 'undying', 'bailiff', '14:49', '51:2', 'jesting', 'promenade', 'clock', 'littered', 'recipe', 'shallum', 'stingy', 'blasphemy', 'remake', 'cedars', 'fibres', 'neptune', 'alacke', 'piqued', '49:29', 'satest', 'naval', 'galatia', 'career', 'xxi', 'briefed', '6:47', 'venerealee', 'bandit', '26:31', 'banished', 'downe', 'vestment', 'built', 'difference', 'hops', 'resting', 'arras', '41:1', 'stools', '47:9', 'sawcy', 'gam', 'consort', 'gideon', 'justus', 'operations', 'description', 'procured', 'warriour', 'hungrily', '19:38', 'glow', 'seas', 'paler', 'io', 'moot', 'annuity', 'slates', 'swam', 'schedule', 'needed', 'soprano', 'counterfeit', 'evenly', 'flips', 'perturbed', 'succeed', 'halts', 'makkedah', 'indicates', 'terribleness', '113', 'catlike', 'affection', 'during', 'immemorially', 'chartered', 'mugs', 'rectory', 'port', '7.9', 'denounced', 'bedside', 'entertain', 'apartment', 'disinclination', 'hosts', 'unruly', 'corinth', '13:44', 'importunate', '48:11', 'tone--', 'meate', 'richardson', 'revilings', 'firme', 'smear', 'tract', 'heathenish', \"unsurvey'd\", 'grunted', 'destroy', 'deductible', '6:33', 'quill', 'immensity', 'creditloan', 'careth', 'ballasted', 'furrow', 'zoan', 'cymbals', 'frenzy', 'bacchus', 'tripod', 'kiss', 'regiment', 'whaler', 'furled', 'bough', 'easiest', 'idealistic', 'scrutinising', '28:22', 'plotting', 'adulteress', 'garrisons', 'unfolds', 'presiding', 'circumcise', \"on't\", 'cheapside', 'marcellus', 'cleared', 'foolish', 'laugh', '40:5', 'abijam', 'enterprise', 'habiliments', 'masonry', '24:20', 'overcoat', '46:2', 'resolve', 'stepped', '57:2', 'mellow', 'jewry', 'vi', 'delayed', 'doug', 'stooped', 'flavour', 'quaint', 'chanced', '40:22', 'hemp', 'expressed', 'stores', '31:13', 'sawed', 'indian', 'joy', 'israelitish', 'records', 'argo', 'substances', 'exactness', 'moonbeams', 'perused', 'analysis', 'sore', 'ascribed', 'lends', 'seene', 'blankets', '14:13', 'fetch', 'papadopoulos', '16:50', 'miniature', '23:34', 'vaunted', 'gier', 'dignified', 'needlework', 'habitation', 'emblematical', 'stature', 'comicall', '48:33', 'v.', 'contentions', 'thronged', 'standoff', 'paling', 'guiltiness', 'lorry', 'resisteth', 'asshole', 'recline', 'poked', 'palmerworm', 'spanning', 'agents', 'deceived', 'straws', 'evangelical', 'feeding', 'magdalene', 'sleepy', 'reverent', 'punctures', 'arranging', 'stationary', 'delicious', 'rashly', 'sociable', 'bashee', '25:30', 'stampede', 'headway', 'advisers', 'patties', 'exiled', 'wretchedly', 's[aint', 'shomer', 'brandy', 'sarcasm', 'directeth', 'interposed', 'reason', 'structure', 'bizarre', 'flaring', 'rooted', 'comprehensiveness', 'zin', 'closure', 'totalitarian', 'lamech', 'lirra', 'prynne', '9:7', 'queen', 'eternall', 'waiters', 'regrettable', '27:8', 'offshore', 'iudicious', 'pursued', 'plata', 'lasciviousness', 'soggy', \"pack'd\", 'exertions', 'abased', 'skull', 'ibleam', 'tranque', 'instruction', 'lome', 'anatomist', 'voodoo', 'consecrated', '9:44', 'imla', 'foiled', 'pewter', 'indiscriminately', 'thou', 'presses', 'processions', 'committees', 'temperate', 'conceals', 'cradle', 'gable', 'councils', 'sentence', 'strapped', 'banning', 'ministereth', 'sought', 'potentate', 'thus', 'corporations', 'empyreal', 'sinke', 'forehead', 'fatigues', 'chickadee', 'adna', 'hysteria', 'grammar', 'settling', 'aurora', '32:26', 'schollers', 'noph', '37:2', 'converse', 'variable', 'announce', \"assur'd\", 'edom', 'told', 'assyria', '28:11', 'blankness', 'retrospective', 'cumberland', 'bestows', 'theresa', 'showed', 'partly', 'cupidity', 'blest', 'several', 'fumble', 'loiter', 'prey', 'scrupled', 'exasperation', 'whistles', 'warmest', 'choir', 'forbes', 'mess', 'ewe', 'consumption', 'cure', '5:8', 'foresaw', 'driue', 'witherspoon', 'mulberry', 'blunders', 'plying', 'barnacled', 'sorrow', 'pacify', '10:4', 'gambolled', 'native', 'goney', 'lips--', 'teamsters', 'recast', 'hangs', 'texans', '17:4', 'firefight', 'outlet', 'tasselled', 'preludes', 'arabian', 'been.--', 'tanner', '3:21', 'rival', 'fated', 'aristocracy', 'morning', 'incited', 'irons', 'politically', 'lookest', 'capture', 'melon', 'exceptions', 'soundest', 'forth', 'brandished', 'gardening', 'definition', 'rosy', 'abidan', '64:4', 'soberly', 'uses', 'communicated', 'hamor', 'michah', 'grub', 'ceremony', 'beings', 'languisheth', 'loaded', 'fetor', 'indelicacy', 'pull', '34:20', '20:39', 'exterminated', 'flea', 'injustice', 'tantalus', 'focused', '4:13', 'achievements', 'ataroth', \"clear'd\", 'stumblingstone', 'contrary', 'you.--you', 'dictionaries', 'lone', 'vacuity', 'memorial', 'nervously', 'unhurt', 'melenchon', 'carson', 'wakanda', 'noticing', '5:11', 'grappled', '40:12', 'uniformly', 'ro', 'respecteth', 'fallest', 'fees', 'sphinx', '40:3', 'convert', 'fascinated', 'fife', 'sentences', 'euen', 'ponder', 'conversant', 'encourage', 'shillem', 'bayonet', 'airing', '55:11', 'betty', 'fainteth', 'enoch', 'q', 'funerals', 'thel', 'routed', 'arah', 'selling', 'ebiasaph', 'leer', 'hummed', 'assassinations', 'deference', 'roland', 'squeaking', 'weakly', 'doore', 'calming', 'uae', 'korea', 'haue', 'arrival', 'threefold', 'shaggy', 'laodiceans', 'qualifications', 'dresser', 'treating', \"father'd\", 'juan', 'uzal', '49:21', 'comprehension', 'impute', 'whence', 'kerchiefs', 'ministered', 'dejected', '8:5', 'jered', 'nailed', 'burma', 'findest', 'fairfax.--', '36:17', 'beguile', 'lacepede', 'newington', 'cares', 'clasping', 'sang,--', 'unicorns', 'famed', 'ken', 'judicial', 'cruelties', 'digital', 'cushions', 'hilarious', 'blunted', 'helpless', '8:31', 'subscribers', 'ranging', 'righteous', '26:62', 'arresting', 'phrensy', 'joined', 'deepening', 'flagon', '1', 'slayeth', 'layest', 'vendetta', 'buckler', '6:54', 'seeing', '28th', 'rallies', 'enforce', 'robocall', 'dispaire', 'pursueth', 'befalls', 'clearly', '47:13', 'outfits', 'mar.', 'foliage', 'wielding', 'columbia', 'compounded', 'housemaid', 'inattentive', 'honouring', 'omnipotence', 'tilgathpilneser', 'minded', 'letteth', 'regulating', \"reach'd\", 'lying', 'contemned', '1:45', 'candlelight', 'rudimental', 'miser', 'navvy', 'malady', 'inconsiderate', 'organs', 'chooseth', 'blood', 'alow', 'law', 'evaluation', 'assaying', 'counsel', 'rascally', 'uncircumcision', 'driving', 'goddamn', 'assignes', 'mout', 'byron', 'mischiefe', 'islamic', 'trudged', 'hosanna', 'bandages', 'thread', '8:54', 'indiscretion', 'gowland', 'traueller', 'lunging', 'colluded', '7:20', 'realizing', 'dc', 'shrubbery', 'feature', '45:23', 'interstice', 'singeth', 'threshed', 'incompatible', 'cheat', 'slighted', 'unfold', 'beaks', '21:42', '4:16', 'uncommon', 'vishnoo', 'destinies', 'faint', 'despot', 'unscrew', 'concentring', 'expectancy', 'rainbow', '28:16', 'inanimate', 'awed', 'atmospheric', 'ascertain', 'dog', 'showy', 'discompose', 'advocate', 'derick', 'meraioth', 'bethjeshimoth', 'projection', 'tweeds', 'gray', 'tyre', 'fy', 'curiosity', 'povelson', 'campaigner', 'tier', 'gdp', 'contradicts', 'tories', 'eleasah', 'befallen', 'ball', 'pardoned', 'sela', 'isidore', 'beersheba', 'pale', 'successfully', 'neede', 'afflict', 'dishonest', '5:3', 'forgavest', 'digge', 'huh', 'midianitish', 'risky', 'warlords', 'studies', 'relax', 'employer', 'advantageous', '3:48', 'conservatism', 'iranian', 'exchange', 'mossbonkers', 'tassels', '30:37', 'babbler', 'elucidated', 'erupts', 'faces', 'homeborn', 'pump', 'cephas', '4:39', 'slanting', 'jekameam', 'title', '36:3', 'moderator', 'volumes', 'furrows', 'piece', 'bangladeshi', 'democrat', 'scroll', 'constellations', 'surely', 'arcturus', 'depredations', 'scallop', 'coloured', 'fortune', 'commissions', '54:4', 'daggers', 'shold', \"'ve\", 'sly', \"gouern'd\", 'manoah', 'nash', 'baronetcy', 'drenched', 'hedged', 'stockings', 'stammering', 'sumptuous', 'over', 'mitre', 'cutler', 'eunuchs', 'wilkinson', 'prig', 'fortresses', 'cardinals', 'empire', 'threading', 'bevy', 'untasted', 'tweets', 'rubbing', 'monuments', 'tenderness', 'frameth', 'sleeps', 'flashing', 'fraudulent', 'wisconsin', 'plowmen', 'they', '11:22', 'adhering', 'divers', 'maaseiah', 'hopefully', 'sundry', 'kick', 'again.--', 'heraldic', 'guys', 'heshbon', 'joy--', 'recently', '64:7', 'libnites', 'pants', 'hophni', '2:31', 'tight', '14:10', 'gaslight', 'epilepsy', 'jumped', 'pantry', 'id', 'flippancy', 'tony', 'punishing', 'gonzago', 'doj', 'charge', 'enquiry', 'trusting', 'franscisco', '62:6', 'wallet', 'until', 'clouded', 'selina', 'hook', '19:10', 'stated', 'hoop', 'tadmor', 'annoyance', '27:31', 'ioyes', 'usual', 'dry', 'sychem', 'allenham', 'unduly', 'ups', 'constraineth', 'jether', 'lived', 'agrippa', 'hish', 'axletrees', 'joyed', 'bliss', 'orion', 'approve', 'puzzledom', 'transports', 'darest', 'ingathering', 'encircling', \"open'd\", 'mole', \"command'ment\", 'contracting', 'vttermost', 'julius', 'snows', 'academy', 'rope', 'cot', 'untold', 'touch', 'digger', 'reined', 'bradshaw', 'searcheth', 'anaconda', 'uprightly', 'caresses', 'suicide', '13:11', 'drawers', 'hinge', 'broiling', 'strictly', 'extremity', 'tarpaulin', 'tremor', 'attentive', 'slavish', 'do?--', 'each', 'foremast', 'musings', 'cholera', 'untouched', 'attention', 'overtaking', 'shocks', 'intreaty', \"touch'd\", 'sculpture', 'equivalent', 'resisting', 'committing', 'detectives', '34:9', 'rebuke', '41:17', 'like', 'bidden', 'uzza', 'uninformed', 'heares', \"blacken'd\", 'sith', 'replication', 'fairy', '32:44', 'cells', 'laboriously', 'cowering', 'welcoming', 'baalim', 'lemons', \"c'est\", 'despots', 'puppet', 'ailment', 'champaign', 'studiously', 'mindes', 'memories', 'homestead', 'conquering', '26:41', 'correspondence', 'adiel', '33:30', 'principality', 'station', 'morasthite', 'barnabas', '35:23', 'upkeep', 'underline', 'oration', 'revelation', 'malvoli', 'airport', 'sacrificeth', 'sportsman', \"burn'd\", 'economical', 'idolator', 'fusion', 'diffuse', 'volunteers', 'databases', \"dismay'd\", 'conclude', 'absolve', 'encouraged', 'nbc', 'snuffing', 'exerting', 'lobster', 'cheated', 'soundless', 'heerein', 'pa.', 'impotence', 'languishes', 'institution', 'enlightened', 'kirjatharba', 'talking', 'anonymous', 'pioneer', '85bn', 'pundits', 'mexicans', 'confirmeth', 'beadle', 'wings', 'eluded', 'groanings', 'motorway', 'wagons', '30:2', 'buffet', 'transgressors', 'lst', 'wholesome', 'spoilers', 'handwriting', 'pedro', 'sabachthani', '10:8', \"don't\", 'rubio', 'threatning', 'hopkins', 'foggy', \"'m\", 'wrenching', 'congratulatory', 'hire', 'bermuda', 'unequal', 'juda', 'grassy', 'riposte', 'vines', 'profession', 'raiment', 'glencoe', 'pleads', 'romamtiezer', 'fathers', 'reprimand', 'unheeded', 'hansoms', 'swelling', 'landskip', 'liveliness', 'gilead', 'side', '4:45', 'retaining', 'dozen', 'eustache', 'insular', 'lockes', 'lowd', 'repairs', 'autopsies', 'palme', 'infaith', 'gorge', 'burtons', 'uzziah', 'troublesome', 'dam', 'flows', 'workshops', 'marco', 'opponent', 'intact', \"veil'd\", 'defenced', 'fullers', 'holes', 'plums', 'sri', 'anything', 'unpent', 'lefthand', 'tens', 'simpsons', 'plaguing', 'loosely', 'baalah', 'heare', 'naples', 'brigade', 'alacrity', 'hang', 'keepes', 'fretted', 'tweetstorm', 'soiled', 'strangest', '13:18', 'fatal', 'reconcilement', 'january', 'aristotle', 'seymour', 'superstorm', 'annoyed', '19:30', 'tarry', 'ebbing', 'hookah', '451', 'ard', 'canaanites', 'avast', 'china', 'dilapidated', 'christians', 'furthest', '80s', 'afresh', 'shadiest', 'corridors', 'thing?--why', 'twilight', 'nestles', 'matthan', 'demolish', '6:24', 'prestige', '17:11', \"call'd\", 'henry', 'prudent', 'grave', 'seawood', 'iudgement', 'signals', 'confectioner', 'patients', 'jehoadah', '48:15', 'felon', 'vengeful', 'dusty', 'crowning', 'afternoons', 'foreskin', 'raftsmen', \"unreck'd\", 'screeched', 'thrilling', 'arrest', 'manchester', 'pine', 'becalmed', 'preoccupied', 'fest', 'caska', 'girth', 'ironclad', 'beeves', 'steals', 'curtsey', 'supporter', 'briefe', 'unmerited', 'heaving', 'censure', 'minnith', 'counterpart', 'aches', 'coldly', 'drake', 'notched', 'detractors', 'cheering', 'fedex', 'obscurity', 'deserving', 'enraged', 'treacherously', '12:40', 'sop', 'greeke', 'weddings', 'hurling', 'scampering', 'confronting', 'unblameable', 'copper', 'leeway', 'heaviest', 'escort', 'to-', 'delight', 'prod', 'tropics', 'acid', 'memucan', 'fateful', 'shirts', 'ham', 'jawed', 'hammering', 'fetching', 'ceremonies', '18:45', 'aslant', 'shushan', 'hurting', 'lore', 'brooke', 'blessed', 'cavernous', 'mount', 'gunner', 'indulging', 'sighes', 'p.', 'boyhood', 'interlacing', 'playes', 'vndertake', 'nielsen', 'misunderstandings', 'lgbtq', 'ladle', 'break', '22:13', 'seneca', 'convolutions', 'brotherly', 'direst', 'disgrace', 'bathroom', 'starry', 'pagiel', 'cheran', '50:4', 'abject', 'conscientiously', 'hod', 'maker', 'ioc', 'surpass', 'fondest', '9:46', 'worne', 'heauie', 'ulysses', 'agnew', 'paralyzed', 'nachor', '3:16', 'devour', 'jaddua', 'omitting', 'divorce', 'iii', 'giuen', 'limit', 'freshly', 'grit', 'w', 'boweth', 'drooped', \"dream'd\", 'gymnasium', 'prevail', 'breastplate', 'fatall', 'search', '8:46', 'rosamond', 'unions', 'antelope', '58:1', 'spontaneously', 'office', 'veils', 'monks', 'figs', 'picturesquely', 'encompassed', 'selfish', 'look', 'beams', \"i've\", 'greedy', 'oaths', 'sacrifices', '22:53', 'risest', 'blacken', 'promiscuously', 'waxing', 'golf', 'calhoun', 'excelleth', 'athirst', 'mississippi', 'unlooked', 'mortify', 'spectacles', 'reactor', 'firelight', 'sensual', 'monongahela', 'bestow', 'careering', 'salmon', 'aphek', 'prophets', '22:46', 'agar', 'recipients', 'incommunicable', 'devonshire', 'polls', 'twer', 'periodic', 'revolutionary', 'zephyr', 'seven', 'humanity', 'frightens', 'ahasuerus', 'clasped', 'bathing', 'accident', 'forestall', 'other--', 'commands', 'exclaiming--', 'outweighs', 'apparation', 'far', 'cars', 'holpen', 'valleys', 'finale', 'slump', 'unfavourable', 'vacant', 'demoniac', 'bumpkins', 'insincere', '33', 'delivereth', 'cooked', 'interest--', '58:9', 'battalions', 'crucifixion', 'wineglass', 'succeeds', 'affording', '6:57', 'stablish', 'skulls', 'games', 'davis', 'fairies', 'spoil', 'shaft', 'whatsoever', 'germans', 'jechonias', 'terminating', 'henadad', 'pearly', 'grandchild', 'considerably', 'unfailing', 'dodanim', 'cheerfuller', 'apprehension', \"clapp'd\", 'beverage', 'payes', 'electioneering', 'reverenced', 'unmoved', 'cnnpolitics.com', 'malacca', 'forwarding', 'begin', '50:20', 'travelers', 'funk', 'horrid', 'soothingly', 'firs', 'informed', 'onion', 'hilltop', 'hee', 'life--', 'emmet', 'specially', 'naivete', 'colony', 'sentinels', 'relapse', 'captiuitie', 'rivals', 'weigh', 'eligibility', 'wanted', 'ruggedness', 'excursion', 'swayed', 'throw', 'relatives', 'hearest', 'train--', 'women--', 'abda', '21:36', 'termination', 'cinderella', 'analogy', 'apollos', 'g.', 'wheeler', 'soothing', '51:10', 'peskov', 'elimelech', 'scurvy', 'vintage', 'audio', '48:1', 'mistress', 'labor', 'jeer', 'benefactress', 'quell', 'antidote', 'fornication', 'finn', 'disappointed', 'arrowes', 'lapland', 'swaps', 'era', 'conquest', 'landrieu', 'bosomes', '15:58', '38:30', 'greene', 'dome', 'victuals', '11:41', 'casement', 'editor', 'contemptuously', 'perch', 'bukkiah', 'asps', 'gibraltar', 'goody', 'inhabitants', 'rails', 'rencontre', 'feasted', 'vividness', 'nations', 'efforts', 'proofread', 'tracked', 'antecedents', 'strife', 'ludgate', 'race', 'powder', '50:25', 'dinner', 'persisted', 'revellers', 'uber', 'nivir', 'famines', '9:37', 'capernaum', '13:32', 'geshuri', 'garden', 'peacock', 'indus', 'steeple', 'pageviews', 'reuters', 'anchors', 'gazed', 'suborned', 'tumults', 'kindled', 'overflowing', 'votes', '33:5', 'submit', 'jacinda', 'celt', '       ', 'weeniest', 'abound', 'portion', 'priebus', 'fisherman', 'dressy', 'maybe', '35:4', 'scanning', 'frighten', 'unhappy', 'hurrah', \"kiss'd\", 'hovering', 'tack', \"a'most\", '8:18', '14:40', 'assistance', 'rag', 'suing', \"weigh'd\", 'bleed', 'peeled', 'seams', '35:11', 'duff', 'chestnut', 'harrowing', 'binge', '13:17', 'rokovoko', 'undercuts', 'institutions', 'insolence', 'behave', 'enchantment', 'linked', 'augusta', 'shaky', 'longingly', 'suffice', 'democracy', '45:21', 'sages', 'veritas', 'commence', 'countryman', 'insignificance', 'fingerprints', '1:12', 'remembers', 'random', 'anxiously', 'xiii', 'phallic', 'destructive', 'blinding', 'returned', '49', 'elah', 'publications', 'fan', 'symbols', \"cry'd\", 'delivering', 'thumbe', 'intimate', '60:8', 'internet', 'slip', 'africa', 'igal', 'rolled', 'zarhites', 'transfigured', 'u.n.', 'giggle', 'herr', 'shifted', 'extort', 'complacent', 'added--', 'record', 'boris', 'embers', 'gruel', 'swirling', 'martins', 'striven', 'name', 'rage', 'conclusions', 'sucking', 'chug', 'wretch', 'just', 'blessest', 'porridge', 'bulls', 'changeth', 'facilitating', '19:5', 'susceptible', 'unfollowed', 'overcome', 'smarter', 'backslidings', 'despised', 'nets', 'whose', 'sumptuously', 'research', 'evoke', 'products', 'canaan', 'adar', '3:24', 'bondmen', 'hopelessly', '9:16', '21:11', 'battailes', 'hackluyt', 'adani', 'angels', 'badly', 'dentist', 'cunning', 'folly', 'bask', 'revealed', 'well--', 'fullest', 'senators', 'psalms', 'undecipherable', 'zelia', 'buddha', 'been', 'sartain', 'leaked', 'bogberry', 'omit', 'mushroom', 'effect', 'untravelled', 'splinters', 'killeth', 'proffer', 'driues', 'dogged', 'defect', 'hart@pobox.com', 'expansion', 'deceitfulness', 'lain', '37:28', 'rejection', 'flushes', 'referee', 'hired', 'mirror', 'disorderly', 'glowing', 'calif.', 'whale', 'theatricals', '15:51', 'outcome', 'beyond', 'military', 'pyrrhus', 'formula', 'fumbling', 'laugheth', 'frequent', 'wipeth', 'hearkeneth', 'pealing', 'shipmates', 'befalleth', 'abbott', 'drugs', 'eddy', 'rooke', 'paddock', 'evolutions', '3:43', 'minding', 'harrow', 'jackals', 'graze', 'fist', 'motions', 'fixing', 'livelihood', 'promulge', 'priuate', 'singularity', 'externals', 'agreeable', 'recording', 'inventing', 'tremors', 'compromises', 'physiognomy', 'fame', 'elephant', 'wounded', 'villars', \"mad'st\", 'numberless', 'flies', 'reporting', 'persuasive', 'vortex', 'complaint', 'legitimate', 'nursing', 'goldsmiths', 'unusually', 'memorandums', 'lineaments', 'splitting', 'oak', 'courtier', 'attractions', 'halved', 'grimness', 'extorting', 'drove', 'chad', 'abandonment', '15:26', 'transfused', 'vase', '17:8', 'explorations', 'scoundrel', 'shaul', 'predicted', 'physeter', 'x27', 'molotov', 'spotlight', 'mockeries', '50', 'christopher', '14:38', 'pamphlets', '38', 'dimness', 'shuttle', 'confiding', 'diabolism', 'muskiness', 'honour', 'knoweth', 'each--', 'bidders', 'dishon', 'accuser', 'incredulous', 'reluctance', 'ezbon', 'trace', 'affectation', 'austria', 'ungallant', 'fearless', 'cuttle', 'mover', 'shoaling', 'centrifugal', 'temanite', 'spokeswoman', 'spears', 'bristol', 'illumination', 'concubines', 'sample', 'wisdom', 'casually', '26:11', 'humouredly', 'gout', 'preparest', 'designated', 'majesty', 'ingenuous', 'congo', '60:1', 'locks', 'vses', 'teachest', 'sort', 'knew', '10:37', '33:3', 'doome', '42:20', 'hartfield', 'ugliness', 'islamists', 'frontiers', 'adapted', 'solemn', 'brahma', '17:19', 'hilarity', '6:7', 'overlook', 'wasteful', '29:28', 'fondly', 'situate', 'dat', 'terrier', 'interfere', 'asswaged', '29:24', 'copied', '42:7', 'accidentall', 'located', 'cancell', 'slush', 'tendeth', 'gop', 'braine', 'whit', 'within', '49:14', 'wins', 'notebook', 'blockhead', 'skirt', 'astley', \"nam'd\", 'mephaath', 'forgiving', 'churchwarden', '15:12', 'overlooked', \"finish'd\", 'purity', 'probability', 'pruning', 'element', 'slide', 'sanely', 'unpolished', 'lustful', 'peninnah', '3:32', 'lighthearted', 'mrs.', 'unspotted', 'wizards', 'rationalistic', 'imminent', 'gloat', 'chafing', 'riders', \"employ'd\", 'sledges', '1:27', 'distension', 'slime', '44:18', 'recitative', 'tartarean', 'said', 'wicked', 'resisted', 'barak', 'erred', 'bonus', 'aftermath', 'buzzfeed', 'diminished', 'fired', '49:28', 'misconception', 'kareah', 'sustaining', 'precedents', 'scales', 'latter', 'fleshly', 'turbulent', '37:8', 'aggravate', 'madman', \"tooth'd\", 'pained', 'forsaking', 'wilde', 'dim', 'mao', 'sweep', 'constancie', 'entreat', 'lunatics', 'unsophisticated', 'arrayed', 'sins', 'quotes', 'vineyard', 'discern', 'gutter', 'navies', 'guildenstern', 'soultry', 'gendarmerie', 'multitudes', 'misses', 'recurred', 'helmsman', '50:26', 'hearing', 'obserue', 'crost', 'scuttling', 'drunken', 'study', 'troop', 'mortally', 'inclination', 'poureth', 'irony', 'deists', 'neriah', '4:33', 'cleaue', 'rebuilt', 'wint', 'blankly', 'subsidize', 'added', 'accents', 'urges', 'keeled', 'recount', 'excludes', 'lending', 'aligning', 'villaines', 'doomed', 'provision', 'irritation', 'gravy', '30:29', 'respectfully', 'brewers', 'thaddaeus', 'delirium', 'carelessness', 'insufficient', '13:51', 'loveit', 'breaths', 'sided', 'shimri', 'comedian', 'features', 'tweeted', '14:21', 'etna', 'whip', 'deluge', 'charts', 'sicknesses', 'scrip', 'toothache', 'mirth', 'steakhouse', 'tying', 'luck', 'backwardness', 'mania', 'glued', 'conflicts', 'majestic', 'interns', 'harvey', '23:26', 'boastful', 'budge', '41:23', 'uncomfortable', 'transcripts', 'citron', 'guide', 'gibson', 'shivers', 'girt', 'correcteth', 'insipidity', 'would', '19:13', 'encloses', \"convey'd\", 'beseems', 'highway', '13:9', 'remaine', 'protestants', 'beare', 'debtors', 'cups', 'rushes', 'unload', 'free', 'craze', 'parties', '14:54', 'mizzen', 'strawberries', 'hated', '32:6', 'watcheth', 'plot', 'scots', 'brag', 'passes', 'adieu', 'afar', 'graffiti', 'correlative', 'treasuries', 'dawn', 'hoisting', 'bloomberg', 'aloud', 'yesternight', 'stemming', 'gayly', 'prodigall', 'slunk', 'generations', '19:2', 'kibrothhattaavah', 'untwisting', 'percy', 'gratitude', 'eber', 'interim', 'shaking', 'say--', 'tall', 'continental', 'eve', 'ginger', 'concerns', 'sighted', 'refreshing', 'righ', 'apes', 'reverse', 'intentionally', 'discharged', 'satisfied', 'gilbert', 'graver', 'trey', 'defers', 'pod', 'stedfastness', '69', '6:34', 'brambles', 'thorn', '51:21', 'chop', 'juanita', 'michmas', 'condescended', 'parking', 'r.', 'thunders', 'decently', 'bedchamber', 'tapers', 'dashwood', 'thunderous', 'bank', '12:10', 'infinitely', 'statutes', 'ireton', 'crimea', 'downplays', 'cuts', '33:27', 'merrie', 'stoope', 'godlike', 'sabeans', '5:14', 'philistine', 'encounters', 'intermit', 'syme', 'inuites', 'proof', 'qualcomm', 'instalment', 'erick', 'tougher', 'auarice', 'apprentice', 'seclude', 'uncompromising', 'hammer', 'torre', 'iigge', 'lookt', 'ziphites', 'egyptians', 'ukraines', 'walt', 'ashkelon', 'mechanic', 'fillet', \"heau'n\", 'texture', 'dates', 'mightily', '52:2', '38:19', 'punishments', '18:33', 'etiquette', 'considereth', '42:24', 'reiterated', '49:18', 'answer', 'locations', 'comparing', 'worships', 'elpaal', 'rio', 'builders', '462', 'lengths', 'hearses', 'nooks', 'closes', 'pompeyes', 'enumerate', 'loft', 'meanes', 'tee', 'lanes', 'invoking', 'jochebed', 'corrupting', 'sane', 'wife', 'gorgeous', 'morals', 'undiscernible', 'gaming', 'churchyard', 'shallowest', 'azubah', '13:7', 'occupying', 'madmen', 'iceberg', \"interspers'd\", 'assure', 'excursions', 'whiskers', 'superiors', 'hispanic', 'compares', '2:24', 'policies', 'satire', 'hypocritical', 'hatband', 'desk', 'normally', 'barren', '49:15', 'acknowledgments', '20:14', 'eyelids', 'crawled', 'leant', 'ornate', 'underground', 'gershom', 'intermits', 'carts', 'cambridge', 'passe', 'profanely', 'sycophant', 'teachers', 'ayde', 'vertuous', 'knob', \"drain'd\", \"help'd\", 'cushioned', 'hedge', 'upbraided', 'idolatries', 'nekoda', 'zichri', '2.0', 'hanan', 'doubly', 'bumped', 'bounties', 'lurk', 'feeds', 'ascetic', '12:37', 'broadcloth', 'bullet', 'dined', 'decries', '45:2', 'chinneroth', 'infants', 'azareel', 'rally', 'pyramidical', 'honor', 't', 'afterward', 'sector', 'affixed', 'rapidly', 'mythologies', 'heedlessness', 'flanks', 'behemoth', 'legible', 'limn', 'longitudes', 'postponing', 'courted', 'proceed', 'godmother', '13:5', 'uglier', 'custom', 'kore', 'steward', 'biggest', 'intimidated', 'excess', 'disappear', 'dress', 'sowing', 'usher', 'hertzberg', '11:40', 'painfulness', 'called', 'owls', 'amputated', 'shooes', 'xvi', 'unplumbed', 'antediluvian', 'lonely', '26:57', 'ashur', 'goblets', 'yates', 'quintus', \"frown'd\", 'hell', 'boilers', '2:3', 'consumed', 'overawed', 'armando', 'all!--you', 'shares', 'servant', 'forebodings', 'tattle', '23', 'liberals', 'exercised', 'aforetime', 'mulls', 'recompense', 'maternity', 'coffins', 'anointest', 'shout', 'drinker', 'truth', 'zippor', 'pelosi', 'cycles', 'troup', '8:56', 'halleluiahs', 'murder', 'lingering', 'meal', '32:4', 'gases', 'locality', 'obsessed', 'nostrils', 'schoolroom', 'squall', 'mended', 'souvenirs', 'very', 'swarest', '40:35', 'inspector', 'diseased', 'sloped', 'tail', 'scientists', 'jae', 'scrape', 'courageously', 'algum', '8:1', 'ignoble', 'chatty', '56:1', '$', 'am', 'suspending', 'garner', 'concourse', 'occurrence', 'gather', 'taut', 'sojourners', 'tipline', 'fragrant', 'joosy', 'fume', 'ireland', 'yes,--i', 'it?--where', 'hatter', 'flabby', 'flights', 'goldsmith', 'pop', 'attorney', 'palin', 'looseness', 'rushing', '29:25', 'prunes', 'ebony', 'oftener', 'slumbered', 'jokes', 'palaces', 'lawrence', 'unsteadiness', 'debase', 'chancellor', 'conscience', 'whether', 'poignant', 'jahleel', 'withheld', 'insects', 'democrats', 'crackle', 'drowse', 'hear', 'fervently', 'steeps', 'loosen', 'experienced', 'zif', 'sebastian', 'tables', 'clime', 'undertaken', 'clad', 'sow', 'frankly', 'pursuits', 'guarantee', 'stopped.--emma', 'tawny', 'hobbling', 'ceti', 'surpassed', 'womensmarch', 'culminating', 'colossus', 'autumn', 'whoredom', 'explosion', 'beale', '48:14', 'narwhales', 'temper', 'revolted', 'zelda', 'paraded', 'homely', 'certain', 'potsherd', 'adriel', 'warbling', 'suspense', 'hillside', 'amorites', 'aesthetics', 'bargains', 'sleet', 'purim', 'extravagant', 'sweated', 'gadarenes', 'turnpike', 'egyptian', 'adoration', 'novel', 'pruninghooks', 'bethzur', 'commune', 'pussyhats', '60:5', 'housekeeper', '27', 'guests', 'birds', 'enviest', 'defend', 'sunrise', 'unavoidable', 'endeavored', 'kindred', 'devoureth', 'parcel', 'neatness', 'gaol', 'nimbus', 'gins', 'dollar', 'nuns', 'predecessor', 'hither', 'scud', 'exceeded', 'eldest', 'foorth', 'realist', '5:38', 'presentable', 'impalpable', 'favors', 'won', 'particular', 'woebegone', 'coniure', 'coordination', 'purified', 'tumble', 'infernal', 'nethaneel', 'thro', 'sling', 'accepting', 'immersed', 'mattocks', 'propagandistic', 'orbed', 'muteness', 'platted', 'apostle', 'chickens', 'sooty', 'mahogany', 'those', 'knowest', 'glass', 'ahijah', '26:65', 'persons', 'mingle', 'takeover', 'jerubbaal', 'delighteth', 'brilliancy', 'prophecy', 'stands', 'farthest', 'seled', 'sidelong', '46:13', 'progenitors', 'capsized', 'cruises', 'fens', 'ramp', 'vienna', 'employed', 'argosy', 'thundering', 'instantaneously', 'resonates', 'ewes', 'metaphor', 'conquests', 'urns', 'dengue', '10:16', 'only', 'going', 'nursed', 'dismembered', '52:13', 'solves', 'thaw', 'envy', 'dangled', 'production', 'pasteboard', 'sctv', 'anymore', 'riveting', 'damps', 'cornish', 'onesiphorus', 'spermaceti', 'direct', 'psalteries', '48:18', 'cobler', 'blessings', 'ensample', 'chibok', 'spies', 'pride', 'hesperus', '3-year', 'swell', 'maniacs', 'jellies', 'o.', 'enlarging', 'diameter', 'respectable', 'architects', 'mommy', 'devise', 'responsive', 'clerical', 'stab', 'shual', 'mr.', 'nabbed', 'curry', 'alaskan', '15:33', 'tuition', 'answerer', 'sculptures', 'transcribed', 'changing', 'shipmate', 'clarion', 'paper', 'surveyed', 'content', 'shua', 'instruments', 'interval', \"diseas'd\", 'fitful', 'womanly', 'fling', 'muttering', 'bombs', 'adelson', \"crown'd\", 'intimately', 'word', 'transplanted', 'bullshit', 'shrouded', 'betide', 'firepans', '55:9', 'facebook', 'gaffe', 'autumnal', 'christmas', 'pain', 'tamed', 'pan', 'a.', 'ignoring', 'scapegoat', 'severed', 'out--', '34:2', 'starre', 'p', 'optimism', 'whereby', 'ringstraked', 'gingrich', 'mistakes', 'indivisible', 'doubles', 'paumanok', '5:44', 'coaches', 'cabaco', 'thus--', 'terminate', 'mutable', 'forbeareth', 'trumpeters', 'vastness', '28:21', 'rounding', 'timothy', 'obelisks', 'sprinkleth', 'repaid', 'from--', 'lake', 'undulate', 'pertaineth', 'resurrection', \"reueng'd\", 'polonius', 'tuns', 'referendum', \"breath'd\", '4:18', 'knell', 'made', 'cornelius', '52:3', 'determining', 'flipped', 'iim', 'hugs', \"scorn'd\", 'vouchsafes', 'polite', '52:5', 'kirjathjearim', 'kuaishou', 'parables', 'brigden', 'confirms', 'decides', 'idumea', 'canvass', 'noe', 'patrol', 'buz', 'againe', 'maketh', 'glossy', 'xi', 'mustering', 'raked', 'm--', \"gash'd\", 'epsom', 'eternize', 'criest', 'fascinations', '7:50', 'seruant', 'protesters', 'bills', 'alliances', 'apronful', 'pugh', 'tellest', 'geshur', 'distribution', \"e'en\", 'cryes', 'hue', 'cave', 'pleasant', 'silliest', 'parishes', 'smartly', 'drank', 'israel', 'surrey', 'lung', 'pitches', 'hilt', 'prate', 'pessimists', '23:24', 'offended', 'pallid', 'jason', 'edward', 'accompaniments', 'message--', 'offences', \"show'd\", 'mutters', 'lotan', 'delights', 'safeguard', 'mantelpiece', 'impossibility', 'hung', 'justifiable', 'composed', 'ware', 'blended', 'eloi', 'pundit', 'amid', 'library', 'habergeon', 'coveredst', 'bbq', 'a.d.', 'urging', 'inculcated', '18:16', 'cupboard', 'hamath', 'casks', 'saidst', 'longsuffering', 'frequency', 'vacancy', 'harvilles', 'glazed', 'trick', 'attaching', 'dandled', 'dedan', 'unbending', 'norfolk', '32:32', 'gudgodah', 'candlesticks', 'fa', 'isis', 'docile', 'worn', 'raid', 'hosen', 'cynical', 'transgresseth', 'threatened', 'nomine', 'abednego', 'heresy', 'arphad', 'marcus', 'outer', '16:23', 'digested', 'wolfish', 'plateau', 'purging', 'pet', 'circumspectly', 'disguise', 'caul', 'trips', 'journeyman', 'hams', 'appall', 'patronised', 'aduancement', 'jubilee', 'rosin', 'persistent', 'merest', 'observers', 'hong', 'jetting', 'machine', 'community', 'exhale', 'anthem', '63:8', 'accelerating', 'testing', 'villaine', 'sulphurous', 'beseeching', 'harps', 'dismembering', 'upharsin', 'tash', 'dedicated', 'eligible', 'appointees', 'rambled', 'soiree', 'zurishaddai', 'retains', 'secretly', 'possessors', 'departing', 'theatres', 'reaping', 'invites', 'deployed', 'adorned', 'gorse', 'breaks', 'infuse', 'enquiries', 'enclosure', 'germanic', 'beholder', 'kirjathbaal', 'conventions', 'mareshah', 'lifters', 'investigates', 'consequently', 'wonderfully', 'streaking', 'orient', '20:27', 'jocularity', 'projects', 'stealeth', 'monkford', 'braced', '100-day', 'commissioner', 'accompany', 'taper', 'takest', 'confront', 'contradictory', 'curios', 'scythian', 'cheeke', '47:14', 'ashton', 'tattooed', 'murdoch', 'dole', 'hopeful', 'criticisms', 'streame', 'commission', 'world', 'return', 'articulation', 'peleg', 'economists', 'soot', 'breake', 'afternoone', 'resteth', 'wearer', 'energetically', 'warner', 'k', '4:23', 'unspeakably', 'cherubim', 'islanders', 'ryan', 'trait', 'kelson', 'whiten', 'husky', 'blacksmith', 'fornicators', 'workers', 'housework', 'islamist', 'lasted', 'somerses', 'cray', 'tell--', 'tarlton', 'midwife', 'drawne', 'oddest', 'tasted', 'pullout', 'terraqueous', 'declining', '37:26', 'causest', 'candelabra', 'disgraced', 'omnivorous', 'contraction', 'sniffed', 'taberah', 'hanoch', 'backed', 'voter', 'labial', 'mercy', 'solemnity', 'eden', 'grasse', 'nothingness', 'spare', 'unsolicited', 'deified', 'a', '36:20', 'mince', 'meremoth', 'naomi', 'coax', 'disjoin', 'resigns', 'blundering', 'or', 'humbler', \"nail'd\", 'invent', 'sup', 'bochim', '2:53', 'insuperable', 'wingfield', 'hartzler', 'celtic', 'dominica', 'superman', 'bustle', 'waged', 'extremists', 'crosshairs', 'discharging', 'tenement', '9:3', 'tenderest', 'ichabod', '26:63', 'snakes', 'rover', 'wield', 'emaciated', 'tent', 'plan', 'huntsman', 'falsehood', 'alexander', 'lipped', 'bravest', 'scab', 'ishbosheth', 'er', '                          ', 'wray', 'established', 'idiots', 'carrot', '5:22', '               ', 'creator', 'indiana', 'cim', 'sheets', 'croaking', '36:26', 'barrowful', 'jelly', 'conjure', '14:9', 'ambush', 'betroth', 'darkness', 'prolonging', 'unrewarded', 'ramothgilead', 'alarme', '6:63', 'rebell', 'sentenced', 'shaped', 'resulting', 'pinnacles', 'dreaming', 'premature', 'congregational', 'alteration', 'hieroglyphic', 'beauties', 'con', '33:1', 'shores', 'innovative', '6', 'outpace', 'undo', 'allows', 'cronies', 'treasured', 'counsell', 'commerce', 'reades', 'becharmed', 'surfeit', 'peaceful', 'exceeds', 'basin', 'lessened', '24:24', 'atrocious', 'deadly', 'jamaica', 'crystalline', 'knop', 'bowlines', 'glisten', 'embellishments', 'gianforte', 'winepresses', 'jesiah', 'friend--', 'circulating', 'questioned', 'hypertext', 'clapping', 'atom', 'middlemost', 'habits', 'vexation', 'equality', 'assassins', 'criminalizing', 'expeditions', 'jong', 'infatuated', 'foolishly', 'quenched', 'invariable', 'practically', 'natures', 'smartness', 'aecon', 'note', 'schoolmaster', 'nephtoah', 'brawling', 'kingdome', 'enwinding', 'strumpet', 'peradventure', 'abruptly', 'italian', '32:7', 'netanyahu', 'abiah', 'cigarette', 'jattir', 'and--', 'hasteth', \"tann'd\", 'killer', 'husbands', 'durbin', 'dovelike', 'brim', 'trophies', 'administered', 'trustworthy', 'promise', '28:12', 'somewhere', 'bene', 'inspiring', 'infer', 'pethahiah', 'dabbling', 'pray', 'penance', \"bestow'd\", 'jointed', 'systems', 'desirable', 'bottles', 'recurring', 'goat', 'loftiness', 'tenderly', 'ingenious', '41', 'knitting', 'takeaways', 'afric', 'wines', 'marsh', 'abed', \"polish'd\", \"smother'd\", 'precaution', 'oddities', 'tusks', 'banged', 'professor', 'arizona', 'aspires', 'weave', 'gravely', 'cheer', 'girl', 'canes', '24:42', 'produces', 'broadly', 'neigh', 'amon', 'fleeing', 'fellowservant', 'sarid', 'tendrils', 'fantasie', 'pricked', 'madam', 'almighty', 'wounding', 'stop', 'olde', 'public', 'savesoul', 'antiquities', 'detected', 'buffeted', 'buoyancy', 'discrimination', 'argent', 'cyberspace', 'curing', 'strained', 'hastert', 'earnest', 'reminders', \"leav'd\", 'handbreadth', 'eased', 'garraun', 'restitution', 'connection', 'dispense', \"wer't\", 'perfect', 'videos', 'controuersie', 'flirted', 'adonikam', 'decamp', 'botched', '59:6', 'defiance', 'hills', 'barsabas', 'soaring', 'bountifully', 'bolton', 'oddity', 'abhorring', 'charme', 'puzzle', 'agenda', 'recreate', 'feed', 'encampment', 'plumage', 'hoa', 'maachah', 'snort', 'anonymously', 'dogg', 'languor', 'dems', 'gradual', 'anointing', 'epaulettes', 'declareth', 'pond', 'polon', 'gan', 'gorsuch', 'traceable', '49:9', 'mitt', '6:37', 'undefined', 'masterless', 'heterogeneous', 'filleth', '38:4', 'befits', \"constrain'd\", 'jackanapes', 'heeles', 'bower', 'november', 'abated', \"resolu'd\", 'respectively', 'engagement', '27:1', 'permission', 'chelub', '50:12', 'landmark', 'pricks', 'disposition', 'wooden', 'bridegrooms', 'crewkherne', 'nevertrump', 'careening', 'renewal', 'solely', 'barely', 'easing', 'nike', 'abner', 'stammerer', 'deviseth', 'slobbering', 'yieldeth', 'z', 'comprising', 'rightful', 'republican', 'haroc', 'testifies', 'interiors', \"limb'd\", 'forbare', 'drum', 'thicke', 'bridal', 'beholders', 'helter', 'bethrehob', 'deck', 'gladly', '16:14', '3d', 'fictitious', 'elm', 'impartial', 'subordinate', 'eagle', 'glittered', 'tabrets', \"shelter'd\", 'malchishua', 'already', 'georgian', \"know'st\", 'pimpled', 'sunburnt', '1:26', 'footlights', 'pivot', 'waded', 'hawser', 'innocently', \"finger'd\", 'eschewed', 'rauen', 'pre', 'vii', 'fades', 'hovel', 'hezir', 'dawdling', '31:25', 'illustrate', 'hesitations', 'park', 'yawn', 'naturedly', 'proverbial', 'fares', 'dorcas', 'diffident', 'hardy', 'apparent', 'deny', 'isolate', 'skirts', 'fairly', 'beads', 'betake', 'populists', 'draw', 'actuated', 'myself--', 'subsequently', 'spruce', 'miller', 'guru', 'whiny', 'depict', 'carrieth', 'enterest', 'scrutiny', 'tsa', 'needest', 'homewards', 'jarmuth', 'conjoined', 'nite', 'sundering', 'gov.', '11:50', 'mid', 'thenceforth', 'rending', 'sapience', 'insufferable', 'hoofs', \"slaughter'd\", '24:40', 'terre', 'wonderment', 'plate', 'voluntary', 'rimmon', 'horatio', 'widely', 'resented', 'izhar', 'warehouse', 'aback', 'broughtest', 'ministers', '50:10', 'betrayed', 'from', 'fellows', 'qatar', 'musician', 'sleep', 'fatfleshed', 'gazer', 'favorites', 'brigs', 'neck', 'charmouth', 'easier', 'naphtali', 'fry', 'stipendiary', 'moonlit', 'purchasing', 'posse', 'bull', 'sarcastically', '24:25', 'retarded', 'impetuous', 'ellasar', 'glances', 'finalists', 'memory', 'apprehensiveness', 'helon', 'watchers', 'considers', 'suet', 'dreamt', 'josiah', 'challenges', 'intend', 'enrogel', 'multitudinously', 'referral', 'congregated', 'alleghanies', 'act', 'deprive', 'copeland', 'saluation', '39:19', 'bearers', 'accommodation', 'remote', 'saffron', 'whirled', 'friendships', 'wretched', 'tubalcain', 'trance', 'elamites', 'measureless', 'clarify', 'pointer', 'rabsaris', \"illumin'd\", 'instance', 'circumstantial', 'fagged', 'prayses', '76', 'merry', 'cushion', 'apt', 'boundary', 'coral', 'donalbaine', 'bullion', 'rows', 'juggler', 'conveys', '56:11', 'sentencing', 'humorously', '30:38', 'vultures', 'pallu', 'flaky', 'unmanufactured', 'alertness', 'autopilot', 'exposed', '49:4', 'observest', \"toil'd\", 'unaffected', 'accept', 'unexpected', 'equable', 'luiz', 'tinted', 'shilonite', '--a', 'birthday', 'mellower', 'understood', 'nazi', 'minerals', 'constellation', 'region', 'alleviation', '     ', 'exclusive', 'habaiah', 'catalonia', 'memorable', 'licked', 'ditch', \"ruin'd\", \"i'ue\", 'decanter', 'spacex', '418', 'array', 'unclean', 'giver', 'bing', 'adl', 'cymber', 'homeland', \"dress'd\", 'untranslatable', 'dexterity', 'nourish', 'adultery', 'willingly', 'stirring', 'subreddit', 'gall', 'hadid', 'thinkes', 'uttered', 'fully', 'kristol', '65:2', 'junction', '2016', 'ambushment', '9:1', 'starts', 'cherubims', 'reaches', 'husbandry', 'floridians', 'chiefe', 'archy', 'quietness', 'inexperience', 'rocks', 'rabbah', 'seare', 'wit', 'tired', 'happily', '54:3', 'causes', 'meekness', 'proposes', 'doing', 'amoz', 'robbery', 'alibaba', '24:34', 'upheld', 'fellowlabourer', 'mammy', 'shakers', 'urgency', 'this?--what', 'together', 'brandon', 'flapping', 'conies', 'tolerated', 'radiation', 'uppermost', 'amnesty', 'bombers', 'isaiah', '11:8', 'ist', 'hugging', 'soon', 'guam', 'matthias', '                           ', '25:26', 'sentimentalists', 'comply', 'listing', '47:22', 'pergamos', 'kink', 'undertakes', 'populace', 'dementia', 'profits', 'retrospections', 'preparations', 'listening', 'patriot', 'blackened', 'jaw', 'barclays', 'chatterer', 'concrete', 'handkerchief', 'tableau', 'meaner', 'lavishes', 'jezreel', '17:3', 'hamathite', 'york', 'squeeze', 'chuses', 'trifled', 'howsoever', 'burs', 'gibbering', 'indonesian', 'syrians', 'stickes', 'clearness', 'blasphemed', 'usaa', 'chorazin', 'grecians', 'breaking', \"sicken'd\", '2:33', 'slim', 'judges', 'surry', 'hayters', 'litigious', 'narcissus', 'blamable', 'using', 'rascal', 'retraced', 'impact', 'wholsome', 'sorrowful', 'gymnastics', 'openly', 'assad', 'tantalizing', '42:14', 'straitened', 'steed', 'collapse', 'readiest', 'oppose', '28:5', 'impede', 'basketball', 'ephraim', 'leaden', '51:23', 'voice--', 'stalled', 'incessantly', 'breakthrough', 'morsel', 'shunammite', 'anak', 'occur', 'slicks', 'concealing', '26:35', 'evolutionary', '1828', 'keturah', 'benignity', 'luff', 'braces', '6:5', 'item', 'inventive', 'flake', 'coulter', 'ensue', 'ladder', 'morbidness', 'barb', 'suitable', 'involve', 'lieth', 'commandeth', 'moriah', 'increasingly', 'literatures', 'recklessly', 'star', 'curtailed', 'deaf', 'suspension', 'dwells', 'tossings', '23:3', 'shadowes', '26:45', 'blesseth', 'surplus', 'mystical', 'inroad', 'panama', 'liable', 'wheedling', 'spiracle', 'spots', '--\"narrative', 'boomer', 'ned', 'effectual', 'vashti', 'exalted', 'assembling', '52:8', '36:25', 'discredit', 'ill', 'cordiality', 'jerry', 'chairs', 'ganges', 'bans', 'ballad', 'proportion', 'howle', 'lintels', 'abominations', 'jacobite', 'napkin', '13:47', 'readie', 'stunted', 'withdrawn', '5:37', 'perverted', 'integrity', 'larboard', 'flourishes', 'americanos', 'edifice', 'fever', 'tensions', 'mell', 'arrangements', 'summer', 'prisons', 'showery', 'rested', 'words:--', 'throughout', 'spray', 'whine', 'agagite', 'produce', 'stuart', 'andromeda', 'limbaugh', 'reminiscences', 'saved', 'images', 'wrote', 'crypto', 'flight', 'obeys', 'kinds', 'bedad', 'seduced', 'gunwales', 'peeces', 'todd', 'nathanael', 'stubbs', 'gregarious', 'enjoyed', 'bombed', 'rejecting', 'victoria', 'forever', '7:15', '37:32', 'travaileth', 'crammed', 'gigantic', 'patent', 'glens', 'afflicted', 'staffs', 'inexplicable', 'wives', 'shafts', 'kimmel', 'freest', 'cigar', 'ducking', 'voltaire', 'taylor', 'gallied', 'gruffly', 'pacing', \"usher'd\", 'grand', 'distrust', 'cornet', 'likewise', '5:15', 'anyrate', 'conditions', 'setteth', 'needeth', '41:11', 'waterpots', 'guatemalan', 'catacombs', 'unsung', 'assert', 'nikki', 'convicts', 'fleddest', 'threatening', 'superstitiousness', 'media', 'archly', 'husk', 'to----', 'knobbed', 'absorbed', '1599', 'scientific', 'assuming', 'naught', \"follow'd\", 'cinder', 'clan', '45:15', 'searing', 'eluding', 'knock', 'glare', '31:17', 'warders', 'blocked', 'unquestionably', 'grins', 'audit', 'booty', 'thessalonians', 'await', 'ple', 'doctrine', 'breaches', 'elects', 'fervid', 'reckon', 'infallible', 'uncalled', 'twould', 'peevishly', \"utter'd\", 'sprigs', '46:4', '30:25', \"drugg'd\", 'atheistic', '19:36', 'upending', 'reclines', 'charitable', 'deservedly', 'imbedded', 'loving', 'interview', 'reprobating', 'broadest', '23:10', 'traine', 'trespassed', 'compulsion', 'bittern', 'floats', 'highnesse', 'damnable', 'survivors', 'brutal', 'gedor', 'plagued', 'disinvites', 'stead', 'witch', 'denial', 'bunches', 'scoffing', 'rely', 'cankerous', 'walls', 'suite', 'her--', 'steroids', 'pack', 'backside', 'suds', 'disregard', \"do't\", 'ensure', 'paths', 'camp', 'unvitiated', 'nationalists', 'vx', 'kentucky', 'fiddle', 'aluminum', 'impostor', 'full', '61:6', 'inkling', 'disposed', 'shebna', 'aye', 'detector', 'cats', \"pois'd\", 'breezes', 'bugles', 'hethlon', 'exceedingly', '16:21', 'albatross', '48:5', 'necktie', 'speak--', 'mibzar', 'excellency', 'immaculate', 'unremitting', 'messa', 'abortions', 'rail', 'suspected', 'despoiled', 'including', '12:5', 'infect', 'intensified', 'schoolboys', 'beloved', 'vnworthy', 'flex', 'donate', 'occasional', 'octavo', '40:34', 'remiss', 'swifter', 'leash', 'henoch', 'railing', 'magnetic', 'motor', 'carouse', 'hatted', 'fused', 'widow', 'juvenile', 'ioyne', 'betoken', '16:33', 'diplomats', 'worlds', '15:39', \"ee'n\", 'unquenchable', 'context', 'meete', '12:2', 'trusted', 'hiv', 'famously', 'dyed', '13:25', 'sufficeth', 'outspread', 'pureness', 'sisterly', 'kill', 'eliza', 'glasse', 'heartless', 'fernando', 'quicken', 'outlaws', \"say'st\", 'unintermitted', 'alpine', 'succoured', 'enuy', '36:18', 'rarely', 'glaze', 'joseph', 'hospitality', 'necessitate', '62:7', 'snoring', 'mistrust', 'swaggering', 'wrecking', 'doeth', 'sufferance', 'missing', 'chuckling', 'parliaments', 'skunk', 'purples', 'finally', 'capacious', 'affright', 'wisely', 'graven', 'sintimint', 'hormah', 'tom', 'weariness', 'alive', '46:3', 'severity', 'goe', '13:52', 'descend', 'opening', 'concluding', 'brimming', 'butchers', 'pressing', 'reflection', '30:3', 'incapable', '26:7', 'felicity', 'revolutionist', 'undaunted', 'interfered', 'sharpe', 'lees', 'cruz', 'pedestrians', 'person', 'libraries', 'boisterously', 'v', 'besai', 'michael', 'abelmeholah', 'camels', 'what', 'bethshemesh', 'antothite', 'colossal', 'generall', 'strap', 'feasting', 'badgers', 'poker', 'medad', 'expressing', '3:37', 'purchase', 'equipment', 'silvery', 'groan', 'plagues', 'wafer', 'miners', 'groves', 'dashes', 'mortars', 'demonstrate', '9:24', 'admission', 'gripping', 'dulness', 'clitus', 'drury', 'accrue', 'wherewithal', '6:25', 'proclamation', 'cruisers', 'smoking', 'gleam', 'rase', 'deigned', 'mabel', \"join'd\", 'everything', 'restrictions', 'lamented', 'highland', 'jael', 'predecessors', 'boasts', '22:30', \"impell'd\", 'michal', 'backstory', 'organizers', 'laboured', '5:21', 'osricke', 'elated', 'unpleasing', 'feare', 'sinning', 'sharon', 'clumsy', 'really----', 'colicky', 'korean', 'persecutest', 'patchwork', 'pillowes', 'mated', 'uninjured', 'kingston', 'sings', 'gobern', 'douma', 'middletons', 'isabella', 'bouton', '25:45', 'yazidi', 'rustled', 'commodores', 'forgiven', 'poore', 'hardly', 'lahairoi', 'seconds', 'elysee', 'tighter', 'miner', 'elliot', 'hideously', 'governs', 'violating', 'amendment', 'accordance', \"ar't\", 'sidesteps', 'yo', 'towed', 'hori', 'abortion', 'contradicting', 'strokes', 'carefully', 'herb', 'greetings', 'necks', 'dirt', 'hundreds', 'brimstone', 'invade', 'ahisamach', 'exile', 'softness', 'prefer', 'antarctic', 'bucklers', '17:2', 'stifle', 'deprecating', '6:38', 'dreadful', '14:55', '26:54', \"had'st\", 'uninhabited', 'seethings', 'upstart', '5:6', 'potentates', 'zeboiim', 'dams', 'me!--i', 'sinew', 'envelop', 'connections', '32:25', '15:30', 'begets', 'tartarus', 'valencourt', 'wombs', 'offered', 'detaining', 'passionate', 'whispered', '16:13', 'hosing', 'cabinet', 'noteworthy', 'parti', 'competent', 'shophach', 'temple', '--edmund', 'forest', 'mortification', 'dicotyledons', 'clout', '7:54', 'reprover', 'cohering', 'usurpation', 'replace', 'clerks', 'bestride', 'enjoy', 'overtakes', 'roasteth', 'recluse', 'fuse', 'level', 'pyjamas', \"thrill'd\", 'bellowing', 'glorieth', 'wilbur', 'lurid', 'yearly', 'sale', 'regretting', 'trustedst', 'introducing', 'esteemeth', 'prominently', 'forks', 'upgrading', 'ultrasonic', 'ioyfull', 'streep', 'fewest', 'separated', 'lodgers', 'demeanor', 'clamor', 'lovingkindness', 'beriah', 'commenting', 'justice', 'benhadad', 'relent', 'citizenship', 'quickening', 'rhythmic', 'thereby', 'southerly', 'congresswoman', 'topple', 'sadness', 'western', 'alcinous', 'gordon', 'poem', 'joys', 'effulgences', 'pane', 'bowl', 'collective', 'shiver', 'differences', '44:30', 'moveth', 'athaliah', 'requisites', 'prodigiously', '53:5', 'lettest', 'oman', 'deliberation', 'trevor', 'roes', 'executeth', 'izrahiah', 'uprising', 'soak', 'feedeth', 'brightly', 'waleed', 'ransomed', 'guaranteeing', 'retaken', 'mafia', 'lithe', 'melons', 'smoker', 'schoolfellow', 'sovereigns', 'visiting', 'seba', 'awakening', 'greeks', 'herculean', 'fairness', 'bataclan', 'vnmannerly', 'moved', 'harvestman', 'richard', 'e', 'indiaman', 'batchellor', 'provoked', 'advantages', 'tranquo', 'easily', 'acknowledgment', 'conveniences', 'bezos', 'rigid', 'gallon', 'combed', 'hughes', 'check', 'venus', 'payable', 'obedient', 'respective', 'slept', '24,473', 'assistant', 'oppressor', '9:52', 'angles', 'arrows', 'amour', 'investiture', 'appointments', 'unnoticed', 'excusable', 'recorded', 'sware', 'g-20', 'bethany', 'chutes', 'phoo', 'sons', 'reflectively', 'herdmen', '7:40', 'pennsylvania', 'lamb', '16:17', 'puttest', 'cordially', '7:28', 'ijeabarim', 'temples', 'housebreakers', \"batter'd\", 'aileth', 'turbid', 'retain', 'indulge', \"link'd\", 'ser', 'saloon', 'mangled', 'ape', 'reducing', 'drawer', '9:27', 'leyden', 'journeys', 'comrade', 'mere', 'more!--and', 'sulky', 'binnui', 'soundings', 'dwelled', 'helper', '41:25', 'maxine', 'phrenologically', 'untaught', 'festus', 'mentions', 'bocheru', 'ungrateful', \"birth'd\", 'vaguely', 'facility', 'providing', 'homosexuals', 'charlotte', 'assur', 'mentioned', '53', 'hermitage', 'pining', 'reverentially', 'robin', 'lesko', 'rained', 'enjoins', 'tender', 'aristarchus', 'fanny', 'declassify', 'bridgegate', 'landscape', '28:13', 'anime', 'discover', 'regiments', 'yorkshire', 'so?--', 'anath', 'trouble', 'kelita', 'pulse', 'patagonia', '15:2', 'vaunts', 'secundus', 'vouch', 'slit', 'thereat', 'morter', 'israeli', 'depends', 'tamar', 'rolls', 'inuite', 'adored', 'suffused', 'decorative', 'hist', 'forbearing', 'gutenberg', 'ecstasy', 'whelp', 'mypillow', 'upcoming', 'livers', 'reinforcement', 'dagda', 'comms', 'ers', 'deripaska', 'matured', 'retorted', 'staying', '45:25', 'propitiation', 'scenery', 'sympathetic', 'favour', 'bite', 'imploded', 'permitted', 'deliveredst', 'resolved', 'delia', 'sheweth', 'tirzah', 'intention', 'reproachfully', 'catastrophic', 'bulk', 'endor', 'reaiah', 'window', 'roanoke', 'venezuela', '19:7', 'allegedly', 'gives', 'teeming', '36:27', 'float', 'questions', 'infallibly', 'sprawling', 'bosom', 'demanded', 'balk', 'slanderous', 'smallridge', 'tell', 'slid', 'lawgiver', 'thereout', 'smack', 'pinks', 'exemption', 'privateers', 'boehner', 'argall', 'badinage', 'dislodge', 'amusements', 'cook', 'ur', 'finery', 'lily', '40:9', 'forasmuch', 'thickly', 'ragging', 'ails', 'n.j.', 'foreskins', 'curled', 'sheddeth', 'substantiated', 'smiths', 'cyrenian', 'intreated', 'sychologists', 'complete', 'paine', '4:48', 'larolles', 'leave--', 'sickle', 'expounded', 'shelby', '9:33', 'cut', 'compact', 'weep', 'affiliated', 'formation', 'reddening', 'oklahoma', 'groped', \"cross'd\", 'reformed', 'aloof', 'matriarch', 'grove', '32:16', 'ruffle', 'table', 'attendees', 'ugly', 'funny', 'cankerworm', 'animals', 'nostril', 'protectionism', 'valognes', 'spheres', 'hut', 'performer', 'aimlessly', \"d'wolf\", '17:29', 'admissions', \"loosen'd\", 'prouokes', 'spill', 'euclid', 'weighed', 'indignity', 'ringlets', 'ordination', 'shade', 'sprout', 'man', 'meditations', 'gomorrha', 'doric', 'knops', 'crispus', 'lifts', 'summers', '14:25', 'opulent', 'subtler', '17:37', '16:32', '22:41', 'patrick', '12:29', 'fraternity', 'pussy', 'amply', 'sew', 'ribband', 'fattest', 'spectators', 'ebook', 'nests', 'perceives', 'aggravation', 'remain', \"lull'd\", '31:2', 'carriage', 'width', 'rills', 'saile', 'pleiades', 'divided', '22:9', 'nancy', 'mishap', 'miamin', 'crippled', 'otto', 'codes', 'intended', 'fuel', 'ophir', 'foreseen', 'stinketh', 'richer', 'bedan', 'appertain', 'damne', 'scarf', 'franchise', 'command', 'finish', 'learne', 'healed', 'mirrour', 'pai', 'eccentrick', 'mockingbird', 'delusive', 'insinuating', 'equalled', 'examined', 'way:--', 'measuring', 'unfurled', 'lodebar', 'backlash', 'location', 'atmospheres', 'till', 'iscariot', 'cto', 'professedly', 'seconded', '30:32', 'firstfruits', 'faults', 'nebaioth', 'equipt', 'censured', 'subtle', 'bubbles', 'pope', 'hamlet', 'fiends', 'accumulated', 'reaped', 'workman', 'diversities', 'collusion', 'besiege', 'adulteresses', 'greed', 'compelled', 'pell', '26:48', 'zakaria', 'bates', 'armies', 'bracing', 'gina', 'cash', 'laureate', 'reconcile', 'achsah', 'nuptial', '1.7', 'priests', 'icebergs', 'irreparable', 'soviet', 'issues', 'conferred', 'ditchers', 'asher', 'vornado', 'compressed', 'norman', 'separating', \"conquer'd\", 'verie', 'egotistic', 'xiv', 'wishing', 'fumed', '9:54', 'ladders', 'replaces', 'tricks', 'petitions', 'cuttings', 'unmerciful', 'ceremonious', 'oppidan', 'heauy', 'n', 'intervene', 'ending', 'merman', 'favor', 'ablaze', 'traveller', 'sign', 'scape', 'unni', '14:12', 'leering', '57:8', 'prudently', 'somebody', 'regeneration', 'forsookest', 'desponding', 'outsiders', 'sundial', 'wilds', 'headline', 'loves', \"learn'd\", 'inland', 'petition', '21:24', 'brooks', 'opera', 'joppa', 'color', 'footloose', 'blazing', 'berea', 'subaltern', 'gouty', 'whilst', 'buckled', '6:17', 'spry', 'persevere', '37:16', 'smiteth', 'thessalonica', 'smiting', 'prepare', 'restaurants', 'parallelogram', 'striveth', 'liquid', 'baronial', 'streaked', 'inclusive', 'extortioners', 'supplicating', 'fright', 'confessed', 'vaulted', 'excessive', 'planisphere', 'designedly', 'penguins', 'infamy', 'brained', 'cancels', 'charmaine', 'dab', 'tola', 'investigator', 'behavior', 'endow', 'balustrade', 'eyrie', 'ghost', '2001', \"turban'd\", 'exclamation', 'glu', 'rhythm', 'interested', '34', 'familiarly', 'bared', 'knack', 'discouery', \"i'd\", 'priority', 'worms', 'diverting', 'lucifers', '37:34', '14:3', 'gut', 'noblesville', 'patched', 'lucius', 'tone', 'y.sey', 'engagement--', 'battery', '~', 'publisher', 'swear', 'puffeth', 'raised', 'dilated', 'heaved', 'boneless', 'tech', 'fooling', 'aught', 'portsmouth', 'pear', 'azaziah', 'miseries', 'sate', 'minority', 'gallup', 'poses', 'shawl', 'pageant', 'hat--', 'helicopters', 'subjects', 'planted', 'saviours', 'fbi', 'fencing', 'enderby', 'choose', 'refuses', 'abhorred', 'ruby', \"ma'm\", 'comparative', 'particle', 'that--', 'lankan', 'tomahawk', 'hare', 'slightingly', 'pantomime', 'shear', 'pashur', 'tattooings', 'loved', 'loue', 'breaching', 'preliminaries', '12:9', 'patron', 'dis', 'shortages', \"kill'd\", 'displease', '2:45', 'gaff', '13:15', 'perceiveth', 'ootiful', 'suddenly', 'paws', '46:25', 'harrogate', 'obiects', '37:12', 'snobbish', 'slimmed', 'accumulate', 'ethical', 'eater', 'colleague', 'hesitate', 'paire', '4:11', 'invention', 'anecdote', 'chowder', 'swooned', 'bloodshot', 'disasters', 'retweeted', 'sheepshearers', 'fumbled', 'snapping', 'scorner', 'absents', 'mud', 'now----', 'purring', \"chanc'd\", 'heels', '8:34', 'ospray', 'fertile', 'creatures', 'elbow', 'steam', 'elealeh', 'annas', 'travelled', 'industriously', 'conceits', 'fascinating', 'prosecute', 'bertha', 'rowdy', 'maintaining', 'faster', 'myrtle', 'jingling', 'shifting', 'footpath', 'facings', \"com'st\", 'tirelessly', 'patterson', 'freighted', 'arching', 'fruits', 'despicable', '9:35', 'display', 'courtland', 'heroine', \"ow'd\", 'demigod', 'seuenty', 'hephzibah', 'grandchildren', 'jabin', 'surety', 'depressing', 'porter', 'nurtured', 'stronger', 'snapped', 'simpered', 'vindictive', 'paddle', 'waketh', 'wid', 'congratulated', 'bump', 'weeping', 'communicate', 'multiplies', 'bubblingly', 'frowning', 'companionship', 'galilaeans', 'saint', 'haile', 'buildest', 'behold', 'outs', 'bites', 'driuen', 'whitson', 'industrial', 'indonesia', '6:9', 'rocket', 'compunction', 'lbs', 'overgrowth', 'comes', 'sleeke', 'beachy', 'ancestry', '26:52', 'wine', 'sphynx', 'pathetic', 'depressingly', '4.8', 'global', 'fellowservants', 'ziklag', 'envied', \"fill'd\", '11:37', 'drive', 'confer', 'countering', 'website', 'noble', 'ashurites', 'cookery', 'hawthorn', 'violate', 'reads', 'unfolding', 'escaped', 'welch', 'furnaces', 'nor', 'subconsciousness', 'certaine', 'travelleth', 'executive', 'reeling', 'trickle', 'passionately', 'felling', 'minds', 'migrant', 'robot', 'saddle', 'threshing', 'asse', 'abused', 'irritated', '22:50', 'mixt', 'ostentatiously', 'surging', 'cheshire', 'especially', 'manna', 'congressman', 'details', 'occupants', 'pads', 'twoedged', 'freewoman', 'dilate', '22:24', 'repeats', 'narrative', 'singed', 'efficacy', 'strzok', 'stern', 'rideshare', '8:41', 'antiquarian', 'dominating', 'dublin', 'underlying', 'cleansing', 'goalkeeper', 'pestilent', 'argue', \"desir'd\", 'pointedly', 'pined', 'meshillemoth', \"damn'd\", 'tillage', 'wilderness', 'recounted', 'rated', 'dutchman', 'prices', 'ephrathite', '5:47', 'mat', 'amiable', 'misanthropic', 'meholathite', 'threescore', 'nill', 'exaggerated', 'have', 'preps', 'braving', 'bolster', 'profanity', 'snuffers', 'lowered', 'types', '15:28', 'tarah', '11:53', 'measles', '38:15', 'backwoodsman', 'honourable', 'disrupt', 'pails', 'abhorrest', 'busie', 'faithfulness', 'ciuill', 'dupe', 'empowered', 'rejoinder', 'sharp', 'alien', 'unsavory', 'sitst', 'myraculous', 'sounds', '21:7', 'capabilities', 'winde', 'poland', 'prescribed', 'monsters', 'fitter', 'troas', 'lima', 'milling', 'grasshoppers', 'maladies', 'haggard', \"mean'st\", 'lanyard', 'tennyson', 'presuming', 'bulrushes', 'producing', 'darting', 'entities', 'thrust', 'shemida', 'welfare', 'recitatives', 'loins', \"garner'd\", 'westgate', 'talmai', 'sweepstakes', 'wherewith', 'melech', 'rebuking', 'mistaking', 'lacking', '20:11', 'stumped', 'hurled', 'venezuelan', 'boarding', 'obeyed', 'bodily', 'getaway', 'curved', 'pembroke', 'denoted', 'corrupters', 'skie', 'shocking', 'matron', 'bellow', 'altogether', 'suffer', 'rhythmus', '51:11', 'bestial', 'icbms', 'jon', 'dyspeptic', 'ergo', '45:17', 'tutored', 'copiously', 'appetite', 'anticipated', 'selfsame', 'condescending', 'background', 'truely', '65:3', 'freshest', 'establishment', '19:11', 'boat', 'paternal', '23:30', '11:49', 'clo', 'fueled', 'leaneth', 'successions', 'lavish', 'williams', 'desperately', 'siddim', 'seldom', 'blustering', 'sufferings', 'ignored', 'lively', 'again', 'himmalehs', 'cogitations', 'wish', 'schooners', 'ding', 'eric', 'nieto', '27:38', 'adria', 'shakspere', 'displeased', '45:1', 'highth', 'grasses', 'poltroon', 'pretty', 'sprights', 'bedded', 'cents', 'wily', '41:15', 'comb', 'pensively', '29:29', 'hivites', 'settlement', 'farces', 'distil', 'fluid', 'trumped', 'colouring', 'hashabiah', 'timnah', 'changest', 'pilots', 'dustbin', 'goodly', 'caravans', 'gaze', 'foresee', 'edgeworth', 'socrates', 'piety', 'indispensably', 'speech', '25:1', '4:36', 'representation', 'without', 'beleefe', 'approving', 'advocacy', 'taiwan', 'numb', '28:14', 'ensured', 'grate', 'lee', 'flying', 'ascertained', 'onslaught', 'contenting', 'fiendish', 'awe', 'vats', 'refund', 'clustering', 'alight', 'steadiness', 'feeders', 'joash', '22:7', 'handmaids', 'staffe', 'conical', 'dixons', 'wauing', 'thews', 'alpha', 'mottled', 'jan.', 'careless', 'bushes', '39:2', 'blackmailer', 'anvil', 'marvellous', 'encore', 'contiguous', 'intuition', 'deported', 'gilds', '23:19', \"wheresoe'er\", 'vermin', 'zibeon', 'eliud', 'pitchpoling', 'mechanical', \"us'd\", 'scan', 'bel', 'feasible', 'same!--the', 'giuliani', 'anew', 'toleration', 'circulate', '35', 'turbulence', 'occasions', 'jetheth', 'boarded', 'business', 'diverse', 'originated', 'improvement', 'truthful', 'lead', '-i', 'promoting', 'blindsided', 'worke', 'ammonitess', 'salt', 'convince', 'erskine', 'gears', 'perfecting', 'doubtfull', 'finality', 'blasphemies', 'extend', 'fearefull', 'hangman', '1870', 'kenath', 'flamingoes', 'contour', 'muddled', 'clothed', 'soccer', '104', 'momentum', 'created', 'desist', \"o'malley\", 'bodies', 'staves', 'giraffe', '11:21', 'eerie', 'historians', 'precise', '26:50', 'disfigure', 'moods', 'boast', 'gallio', 'voyage', 'pilate', 'thornton', 'fixt', 'trafficked', 'incensed', 'wittingly', '53:3', 'bolder', 'steele', 'testifieth', 'shame', '17:1', 'per', 'coiled', 'fronting', 'squalid', 'dooryards', 'firmer', 'alloy', 'flogging', 'diplomacy', 'sized', 'fighting', 'inimical', 'embodiment', 'raptures', 'lunatick', 'blush', 'offence', '11:46', 'freeing', 'arbitration', 'swiftest', 'denying', '25:42', 'bradlaugh', 'enchanting', 'branded', 'inclosed', 'upgrade', '42:15', 'discovereth', 'snugness', 'governess', 'unacknowledged', 'aware', 'camillo', 'canaanitish', 'garbage', 'baladan', 'gardiner', 'falsely', 'thunderer', \"dinah'll\", 'cleanliness', 'intelligential', 'ruler', 'shrouds', 'nathan', 'cities', 'processes', 'extinction', 'merely', \"could'st\", 'cows', \"mouth'd\", '37:29', 'lies', 'reaction', 'meek', 'performed', '547', 'samlah', 'poisoning', 'done', 'volley', 'rheumatic', '43:3', 'trees', 'copenhagen', 'impaling', 'deciphered', 'selection', 'shouldest', 'ephod', 'weakened', 'dish', 'battalion', 'laid', 'duellist', 'senseless', 'proselytes', 'administer', 'ebed', '31:47', 'galloping', 'ethnicity', 'prometheus', 'screen', 'frode', 'frock', 'florist', 'quieter', 'disporting', 'candy', 'dropt', 'hauled', '19', 'fashions', 'voyages', \"unloosen'd\", '23:47', 'gor', 'detective', 'ledyard', 'impulse', 'score', 'simmers', 'sirra', 'verra', 'sean', 'carolinas', 'mounts', 'providential', 'patch', 'killed', 'legally', 'die', 'days', 'conclusive', 'asking', 'mordecai', '49:20', 'candle', 'prostitution', 'sheet', 'range', 'pits', 'fraud', 'gibeon', '54:7', 'hagar', \"accustom'd\", 'passeth', 'conceiue', 'eleven', 'arrowroot', 'appalled', 'newspaper', 'breakfasting', 'typify', '8:37', '15:8', 'inshore', 'weyward', 'loues', 'presto', 'bestrown', 'manassian', \"seru'd\", 'everlasting', 'scoots', 'musgroves', 'netroots', \"pardon'd\", 'bedclothes', '11:16', 'presumed', 'baalperazim', 'fends', 'limb', 'flamed', 'currants', 'wallowed', 'unconsumed', 'elfin', 'bethdagon', 'considerable', 'concupiscence', 'terra', 'prosecutors', 'informs', 'brinded', 'vision', 'authority', 'criticized', 'armes', '66:9', 'washerwoman', 'also', 'gong', 'plea', 'fairest', '13:24', 'intonation', 'tune', 'prodigious', 'affable', 'elderly', 'deepens', 'whiles', 'forgiue', 'bashar', 'remember', 'grumbled', 'throat', 'gusto', 'serial', 'send', 'hony', 'grunt', 'grownd', 'drowsiness', 'entreaty', 'has', 'tyson', 'stabbed', 'awakest', 'method', 'hence', 'popped', 'disturb', 'hygiene', 'insult', 'cinnamon', 'explanatory', 'sank', 'originate', 'ranke', 'describe', 'carteret', 'playful', 'remainder', 'wring', 'scaled', 'premonitory', 'prodigal', 'weaker', 'morrows', '25:2', 'civilities', 'shineth', 'sorrows', 'liuing', 'prejudice', 'propensities', 'diffidence', 'cliffs', 'psychologically', 'standest', '11:34', 'salisbury', 'thoroughfare', 'ananiah', 'dares', 'beijing', 'domed', 'halfe', 'concerning', '13:33', 'unstoppable', 'leisurely', 'bullets', 'sunne', 'gezer', 'drained', 'autism', 'misrule', 'link', 'testimony', 'maine', 'steadying', 'gorges', 'complexioned', 'pout', 'grievously', 'dissipate', '21:14', 'vindicate', 'you.--', 'marks', 'haggai', '37:11', 'clemency', 'suppers', 'form', \"pierc'd\", 'flora', 'heralds', 'management', 'inches', 'apology', 'confined', \"achiev'd\", \"woo't\", 'effeminacy', 'ottoman', 'sit', 'unthankful', 'rationally', 'routine', 'java', 'net', 'wahsatch', 'courthouse', 'laurel', 'shovel', 'luxuries', 'boxers', 'swore', 'gloom', \"for't\", 'marvel', 'h.r.', 'soueraignty', 'fifties', 'calamus', 'drunkenness', 'topping', 'spun', 'nebajoth', 'landlady', 'hordes', 'spirituality', '29:36', '5:40', 'pinching', 'berachah', 'overthroweth', 'causeless', 'barachel', 'picturesque', 'barbaric', 'crosswise', 'shrewdly', 'stalking', 'surmises', 'flame', 'source', 'man--', 'stifled', 'discernment', 'mantle', 'oppressors', 'nameless', 'authoritarian', 'counter', 'whited', 'waiting', 'maddened', 'clustered', 'slower', 'kinsfolks', 'masons', 'bramble', 'withdrawal', '      ', 'blowing', 'frieze', 'merrier', 'whooping', 'agag', 'resort', 'platte', 'wholly', 'igniting', 'kettle', '21:38', \"ye'll\", '11,000', 'spoiled', '39:28', 'jobs', 'portly', 'prosperously', 'builds', \"roam'd\", 'midnight', 'rubies', \"fear'd\", 'jerome', 'transcript', 'illustrates', 'cyberweapons', 'grande', 'tigris', 'conversing', 'vigil', 'entitle', \"deny'd\", 'aiah', 'appoint', 'dogmatize', 'expectations', 'glowed', 'flitted', 'haughtiness', 'zone', '26:59', 'it?--', 'windmill', 'slack', '                                        ', 'terrour', 'links', 'undulated', 'gm', 'performing', '1:21', 'canoe', '42:11', 'weigheth', 'dumps', '1:40', 'worker', 'retires', 'revengeful', 'mysteries', 'shellfish', '5:24', 'thimble', 'blossoming', 'wiles', 'stowaway', 'bewildering', 'mattenai', '29:23', 'clod', 'reforms', 'forged', 'transfixed', 'whistling', 'fallow', 'marched', 'los', 'anne', 'dumbly', 'transparency', 'dumber', 'jib', \"an't\", 'diuers', 'unfaltering', '42:13', 'assay', 'many', 'jehoshaphat', 'banked', 'javelins', 'councillors', 'recalled', 'moore', 'wheresoever', 'precision', 'evanescent', 'messenger', 'distresses', 'cobl', 'statement', 'joshbekashah', 'slain', 'untried', 'slumberers', 'amends', 'weeds', '2017', 'libya', 'bunyan', 'slaughtered', 'stones', 'shelah', 'diddled', 'yoke', 'vnkle', 'sensitive', 'accountable', 'soap', 'swarmed', 'iconic', 'glistened', 'apprehensions', 'edit', 'turke', 'contest', 'swords', 'bestirred', 'peels', 'yorkers', 'infosys', 'prominent', 'rationale', 'jahaziel', 'hilts', 'wrapt', 'aux', 'drains', 'adonizedec', 'sweets', 'reports', 'peals', 'tones', 'avouched', 'turk', 'pervading', 'bends', 'unreasoning', 'viol', \"d'or\", '14:30', 'entertained', 'jamb', 'joists', 'saddled', 'spousal', 'rays', 'salah', '18:13', 'attempted', 'lading', 'hermits', 'cramped', 'unhealthily', 'graded', '37:4', 'replied:--', '21:31', 'effects', 'shoeless', 'perceivest', 'insertion', 'grinding', 'railed', 'pave', 'factions', \"lou'd\", 'ripening', 'comeliness', 'fathoms', 'weymouth', 'cohn', 'returneth', 'overturn', 'strawes', 'genuine', 'solicitude', '25:14', 'pipe', 'hemisphere', 'squaring', 'subsist', 'companion', 'jolt', 'corrected', 'shilhi', 'throned', 'ezekias', 'hachaliah', 'believer', 'matter', 'dud', 'owns', 'humours', 'outlets', 'defensiveness', 'dispenses', 'hurtling', 'exhaustless', 'ayatollah', 'collides', '138,000', 'formally', 'credits', 'jig', 'cannibal', 'presently', 'giant', 'meerely', 'helkath', 'kinde', 'amusement', 'manchin', 'sinite', 'immigrants', 'actually', 'conuey', '40:17', 'lawmakers', 'peremptory', 'manoeuvred', 'respectful', 'wannacry', 'brownish', 'grouse', 'comstock', 'purloined', 'upwind', 'hospitals', 'longing', 'poohed', 'gentry', '40:37', 'mutinous', 'nakedness', 'particulars', 'college', '26:38', 'drifted', 'crow', 'harvesting', 'rumbling', 'conqueror', 'deportations', \"preserv'd\", 'cheekes', '6:55', 'batten', 'firmly', 'republics', 'southerner', 'startlingly', \"ponder'd\", 'encampeth', 'accordant', 'sole', \"heap'd\", 'formless', 'weaken', 'sturdily', 'get', 'relented', 'observations', 'etc', 'streaming', 'hereafter', '7:61', 'proprietors', 'bellona', 'faileth', '7:72', 'think----', 'cruisings', '61:1', 'monarchy', 'purposely', 'dina', 'jehu', 'munition', 'thistle', 'statues', 'choyce', 'asriel', 'wearie', 'retirements', \"laugh'd\", 'bridges', 'equatorial', 'catched', 'insisted', '29:10', 'grower', '14:36', 'pun', 'partiality', 'tares', \"hemm'd\", 'sinless', \"render'd\", 'janohah', 'fiction', 'words', 'syllable', 'reddish', 'it;--and', 'perplexity', '--\"the', '43:8', 'cow', 'innumerable', 'ostrich', 'scream', 'lud', 'waist', 'treasonous', 'we', 'dwarfish', 'sees', 'discovered', 'circles', 'grenadier', 'pollard', 'frights', 'recur', 'hovers', '41:29', '32:20', 'conveyed', 'creates', 'diyarbakir', 'piled', 'loe', 'escapes', 'storme', 'five', '31:1', 'unleavened', 'lags', 'tops', 'resplendent', 'defining', 'jewellers', 'remaineth', 'spaniard', 'squeezing', 'saumur', 'lucifer', 'last', 'anybody', 'consumer', 'ramadans', 'appease', 'womanhood', 'traditions', '20:4', 'foreknowing', '28:27', 'degrading', 'manuel', 'auouch', 'clusters', 'civilizations', 'lunged', 'uplifted', 'positive', 'oppresseth', 'lippes', 'redundant', 'realize', 'approved', 'sulks', 'funds', 'tumultuous', 'supernatural', 'esteemed', '18:11', '18:31', 'dotard', 'ariseth', 'plaint', 'think--', 'smitest', 'unconditional', 'garrets', 'jennings', 'undermine', 'leaps', 'kong', 'unpremeditated', 'foundation', 'assemblies', 'geniality', \"ma'am\", 'streaks', '31:14', 'weaving', 'reserves', 'nyt', 'apparatus', 'gaining', 'scoble', 'frederick', '36:30', 'wharf', 'achish', 'waxeth', 'sey', 'manslaughter', 'g.k.', 'randalls', 'vessel', 'satisfy', 'inflicting', 'u.', 'wanderers', 'hush', 'ye', 'replaced', '9:56', 'gerar', 'rose', 'infernally', 'verdant', 'plumbline', 'privately', 'buyer', 'crunched', 'columnist', 'harpooneers', 'database', 'fisa', 'substantial', 'dismall', 'exploring', 'terraces', 'perga', '31:27', '36:1', 'lombardy', 'huts', 'spicy', 'allegations', 'bo', 'anyway', 'dumpling', 'shrunke', 'approaches', 'sarve', 'linnaeus', 'mealy', 'fornications', '25:15', 'toll', 'pedestal', 'thirteen', '34:29', 'move', 'visages', 'triune', '29:14', 'sand', 'father--', 'purifying', 'affaires', 'him;--but', 'harrows', 'noted', 'accidents', 'lyons', 'ours', \"reel'd\", \"e'ne\", 'disintegrated', 'shiloh', 'pomp', 'incognita', 'ingratitude', 'gahar', 'proclaiming', 'applicable', 'yees', 'sisera', '11:36', 'alhambra', 'filthiness', 'charlemagne', 'hostages', 'metals', 'instructs', 'buttons', 'wrestlers', '15:4', 'buoyantly', 'descriptions', 'caleb', 'silken', 'sacks', 'unmanageable', '18:18', 'hindustan', 'beet', 'urged', 'drug', 'graces', 'zinke', 'prefers', 'croquet', 'tarshish', 'fierceness', 'representing', 'applause', 'pornhub', 'submerged', '49:22', 'azores', 'epicure', 'hatched', 'abundant', 'patronage', 'conference', 'loftily', 'bottom', 'decencies', 'bringeth', 'impregnable', 'pharisee', 'ill-', 'jab', 'analysing', 'dissolve', 'conditional', 'amorous', 'alluring', '21:22', 'attyre', '5th', 'neat', 'attends', 'indoor', 'harpers', 'thrasher', 'inspire', 'dogma', 'shema', 'au', '41:6', 'drawes', 'flooded', 'platform', 'nobility', 'acquainted', 'lumber', 'regularly', '8', 'incantation', 'sabbaths', 'impatient', '23:49', 'sibbechai', 'implies', \"fail'd\", 'serbian', 'usefulness', '48:13', 'bethought', '  ', 'scarcely', 'budget', 'developments', 'better', 'you.--i', 'declare', 'oblivion', 'inserted', '22:33', 'undiscoverable', 'derided', 'ephemeral', 'emblazoned', 'difficulty', '11:20', 'schemes', \"detain'd\", 'tubal', 'cornwall', 'sensibility', 'dramatist', 'retreat', 'armour', 'nebraska', 'mineral', 'sickening', 'melchishua', 'promising', 'achilles', 'weary', 'published', 'flowery', '25:25', 'decanting', 'hoary', 'ankers', 'tooke', 'sourse', 'pins', 'joram', 'diamond', 'certificate', 'sallied', 'does', 'legislature', 'lazarus', 'inverted', '42:21', 'stumbleth', '29:12', 'legislative', 'antiquity', 'sodaine', 'woodhouse--', 'skip', 'seeks', 'leopard', 'salvation', 'incommoded', 'mais', 'ozem', 'spoils', 'notes', 'discovers', 'esrom', 'represented', '34:3', 'contrasting', 'tistig', 'grief', 'generous', 'salted', 'impaled', 'fortnight', 'colors', 'cain', 'reaper', 'tokens', 'exert', 'pilgrim', 'collude', 'spurre', 'ostentation', 'exclaim', 'laudanum', 'completed', 'themselves.--', 'congratulate', 'sewed', 'ascendency', 'preuention', 'relate', '24:15', 'villa', 'apocalypse', 'zattu', 'review', 'huggins', 'diamonds', 'fix', 'decapitated', 'forlorn', 'issued', 'dennis', 'throwne', 'unbecoming', 'lately', 'question--', '24:26', '81', 'artlessness', 'fuck', 'unwillingness', 'daubed', '33:7', 'descended', 'resolute', 'typhoons', 'contributing', 'mee', 'moderation', 'quietude', '42', 'jub', 'ants', 'mortal', 'arad', \"caress'd\", 'lieutenants', 'beatest', 'infers', 'unalterable', 'forgive', 'insanity', 'foster', 'airley', 'confirmation', 'windings', '2.7', 'mourn', 'uncivilized', 'giveth', 'fragmentary', 'rafters', 'pretension', 'laying', 'alert', 'reverted', '18:6', 'lad', 'executions', 'breeches', 'motto', \"a'ready\", 'ruleth', 'interblending', 'humiliating', 'vermilion', '15:14', '32:15', 'resounding', 'peacekeeping', 'moss', 'st.', 'betted', 'sepulchral', 'distributed', 'sixpence', '17:30', 'coach', 'crews', 'judging', 'dishes', 'ex', 'ambition', 'inattention', '22:38', '5:1', 'revulsion', 'fleshhook', 'shuffling', 'adulterous', 'successive', 'deserting', 'pomegranate', 'california', 'cocke', 'carnally', 'pated', 'cd', 'clouds', 'sighs', 'ashchenaz', 'winnowed', 'propensity', 'rankings', 'lulled', \"doo't\", 'yesty', 'bloodless', 'parent', 'compassed', 'fluffy', 'gore', 'players', 'phantoms', 'gaffman', 'drieth', 'october', 'baalzephon', 'dragoons', 'prophesie', 'parry', '19:25', 'etext93', 'splintered', 'slacken', 'outgoings', 'tierce', 'hoard', 'lemon', 'unctuousness', 'survive', 'capital', 'plains', 'dwellings', 'playhouse', 'muses', 'chilled', 'snl', 'moneths', 'missouri', 'drunk', 'jangling', 'warfare', 'wend', 'terribly', 'recommended', 'submission', 'curate', \"wee'le\", '12:20', 'angell', 'alumni', 'qatari', 'frailty', 'patting', 'oil', 'abdomen', 'compliment', 'fumes', 'siege', '21:17', 'loftiest', '59:13', 'planing', '20:8', 'uncleanness', 'australia', 'deception', 'towring', 'inquiring', '17:34', 'vote', 'reappearance', 'meshullam', 'lookes', 'readiness', 'pageants', 'ineligible', 'tablet', 'venial', 'fresh', 'ivanka', 'bristling', 'intercede', 'gryphon', 'kevin', \"fool'd\", 'spar', '49:33', 'infatuation', 'continuation', 'mercia', 'tripadvisor', 'careys', 'dye', 'antithesis', 'laughed.--\"i', 'gotten', 'apex', 'meeting', '39:13', 'raiser', 'eliakim', \"deliuer'd\", 'admonish', 'busts', 'clocke', 'recruits', 'newsletter', 'mooch', '25:35', 'aquiline', 'davy', 'ditties', 'mugabe', 'crusoe', 'illegal', 'dyest', \"key'd\", 'lettuce', 'ranked', 'binder', 'brunt', 'circle', 'environment', 'gesture', 'sexes', 'sanctuary', 'purposed', 'herd', 'gaza', 'waistcoats', 'regulator', 'unsuitable', 'partook', 'shelemiah', 'banqueting', 'humor', 'feast', 'abounded', 'when--', 'councell', '26:49', 'jeshimon', 'tyranny', 'unpossibility', 'lighteneth', 'iaw', 'pyongyang', 'banker', 'nationality', 'ordain', 'feareth', 'sprouts', 'seeketh', 'court', 'pathetically', 'tick', 'joe', 'alms', 'midway', 'thorough', 'faithfull', 'alphabets', 'bannisters', 'unlucky', 'carnival', 'haspel', \"ha't\", 'scepticism', 'smoked', 'volvo', 'itch', 'earthquake', 'araunah', 'gerahs', 'misty', 'broth', '9:43', 'arctic', 'rating', 'ny', 'daybreak', 'wandered', 'zipporah', 'hilariously', 'choruses', 'defrauded', 'furnace', '4:46', 'engines', 'foundest', 'molasses', 'ligarius', 'signification', 'escapeth', 'italy', 'globes', 'connect', 'sometimes', 'tookest', '59:4', 'justly', 'flour', 'eziongeber', 'noways', 'resorted', 'cancellation', 'corrects', 'assassin', 'desperate', 'ramah', 'macnabs', 'sickness', 'splashed', 'captives', 'hasted', 'haggi', 'grego', 'advertiser', 'though', 'unforgettable', 'stamps', 'rodrigo', 'thing--', 'licensed', 'walks', 'bagging', 'lazar', 'rep.', 'benaiah', 'unbiased', 'pinched', 'pleasantest', 'weights', 'keepers', '63:6', 'hugest', 'hurtled', 'perturbation', 'spurned', 'doubled', 'ironwork', 'wil', 'unbarred', 'dreaminess', 'sea', 'anyhow', 'straps', 'daintiness', 'hurrying', '15:9', \"spann'd\", 'halfhearted', 'sill', 'concentration', 'cancelled', 'logical', 'bafta', 'bond', 'expound', 'murders', 'utterance', '11:31', 'middle', 'average', 'expectation', 'instructed', 'legged', 'chaucer', '13:49', 'arnon', 'superstitions', 'hollywood', \"measur'd\", 'cork', 'ives', 'beggar', 'loafing', 'lowing', '12:16', 'ardern', 'swells', 'conciliate', 'fiend', 'eighth', 'jewels', 'likeliest', 'pools', 'hitherward', 'posterity', 'e.', 'castor', 'launchest', 'splashing', 'sternest', 'backwoods', '51:20', 'preparation', 'di', 'dogging', 'doors', 'hewers', 'hacked', 'imagining', '2:30', 'hydrus', 'abimelech', 'register', 'duelling', '6:30', 'lurked', 'dissolute', 'lilac', 'sexton', 'sorting', 'populist', '14:20', '28:33', 'zoology', 'himself,--it', 'decode', 'eminent', '1:23', 'targeting', 'menteth', '2:2', 'teen', 'elishah', 'ascend', 'backbones', 'mysticetus', 'tels', 'bruises', 'slams', 'growths', 'whiffs', 'reacheth', '35:17', 'jurisdiction', 'funnier', 'transparent', 'cooper', 'fawning', 'hiring', 'gipsies', '51:16', 'azotus', 'themes', 'matter--', 'myself', 'scoene', 'passages', 'lory', '19:29', 'saginaw', 'daytime', 'conduce', 'sparked', 'enemies', 'adventures', 'azriel', 'it.--but', 'sandwich', \"cook'd\", \"dispel'd\", 'belteshazzar', 'unmethodically', 'defaming', 'defy', 'dothan', '24:5', 'clash', 'avocation', 'hypothesis', 'walter', 'selfishness', 'reddit', 'squared', 'indite', 'depth', 'transformed', 'complied', 'helpmate', 'echoed', 'pur', 'humiliation', 'fascist', 'dolls', 'covetous', 'adbeel', 'manufactured', 'humility', 'schools', 'agreements', 'larceny', 'hag', '12:21', 'barter', 'catalogue', 'milsom', 'illiberal', 'malc', 'worshipper', 'university', 'menendez', 'averages', 'erring', 'brauery', 'extreme', 'omar', 'hermon', 'lunch', 'surfaces', 'prostitute', 'flung', 'olympics', 'humid', 'unformed', 'one--', 'pitying', 'incredulity', 'devoid', 'nethinims', 'assos', 'stammer', 'waves', 'darkon', 'neariah', 'chatted', 'revolt', 'contained', 'twig', 'expel', 'aholibah', 'covenants', 'seizings', 'numerous', 'neighbouring', 'formulas', 'defined', 'area', 'arab', 'signify', 'communist', 'vapor', 'disliked', 'precautions', 'determine', 'acute', 'speakers', 'weare', '38:7', 'waiving', 'mansions', 'grows', 'baking', 'journal', 'misse', 'gaiters', 'humbly', 'straddling', 'moors', '41:19', 'blooms', \"belou'd\", 'sneak', 'tranquillised', 'cooperation', 'revolters', 'ordinarily', 'engannim', 'wildest', '35:18', 'chrysalis', '29:11', 'radishes', 'appreciate', 'libyans', 'spin', 'awaited', 'putney', 'significantly', 'unwaked', 'inquisition', 'leadeth', '8:16', 'ty', 'contradictions', 'micha', 'himalayas', 'graves', 'glamis', '45:11', 'pluckes', 'imaginations', 'hierarch', 'point--', '4-minute', '17:32', 'pursue', 'remonstrances', 'currents', 'emmanuel', 'castanets', 'intestine', 'deprecation', 'approves', 'push', 'motionless', 'breached', 'drugg', 'accuse', 'thighs', 'time--', 'stacked', '3,500', 'encompassing', 'bake', 'elders', 'tyber', '74', 'soho', 'nationwide', 'thane', 'gust', 'indifferent', 'guarded', 'sh', 'gushing', 'conformity', 'remotely', 'slantingly', 'movie', 'risked', 'shuffle', '14:42', 'knows', 'affayres', 'noiselessly', 'lounge', 'proportionate', 'clifford', 'army', 'tar', 'focus', 'renegotiation', 'm.', 'nested', 'glimpses', 'enlarges', 'unbidden', 'ax', 'barest', 'timidly', 'improves', 'speediest', 'reward', 'virility', 'rahab', 'silently', 'met', 'billionaires', 'lystra', 'loads', 'commotion', 'luckily', 'regional', 'screened', 'gillespie', 'poisons', 'killes', 'discouragement', 'sprint', 'wide', 'souse', 'ago', 'broad', '5:16', '42:4', 'shoot', 'sloop', 'had--', 'four', 'rescue', 'porn', 'fishermen', 'geologist', 'embellished', 'westminster', \"confirm'd\", 'waving', 'dodo', 'tank', 'twixt', 'nick', 'contradicted', 'memorie', 'angle', 'tons', 'browsing', 'arphaxad', 'mouncht', '28:24', 'comets', 'costume', 'taunting', '13:58', 'grandparents', 'country', 'leaky', 'sharpness', 'glorious', '36:38', 'rendering', 'obstruct', 'charran', 'understands', 'inured', \"seiz'd\", 'ledger', '20:35', 'extra', 'dell', 'kitchens', \"push'd\", 'saddest', '--ibid', 'previous', 'unrecorded', 'rehearse', 'refinement', 'incompetent', '63:3', 'kindnesse', 'cassock', 'wheelerite', 'diving', '1:4', 'effectually', 'unreliable', 'wager', 'convincing', 'flag', 'untempered', 'theft', 'keilah', '140', 'cousinly', 'convinced', 'cretan', 'instantly', 'kim', 'respiration', 'clutch', 'humbug', 'bloud', 'thirst', 'sexist', 'fleetness', 'terme', '34:18', 'me----', 'chimham', 'reflections', 'xvii', '19:8', 'whaling', 'bumper', 'care', 'hours', 'incur', 'thomas', 'vnderstand', 'railway', 'dismal', 'unsatisfied', '2:42', 'gripped', 'cucumber', 'claude', 'health', 'slides', 'backward', '13:54', 'commentary', '43:19', 'mutilated', '20:45', 'murmuring', 'trieth', 'excites', 'detect', 'adulteries', 'inevitable', 'slaue', 'scoresby', 'wilful', 'hor', 'dimly', 'unthought', 'sing', 'suffocate', 'judgest', 'messias', 'tease', 'wrongly', 'ineffaceable', 'horizontal', '1:15', 'naughty', 'romane', 'whomsoever', 'parsnips', 'jonas', 'doatingly', 'apharsachites', 'stumps', 'some', '                ', 'felony', 'profiting', 'endeavor', 'nutmeg', 'educators', 'slipt', 'hem', 'exclusiveness', 'unchangeable', 'gentleness', 'journeyings', 'scabbards', 'westons', 'tediousness', 'pledged', 'gether', 'shot', 'recklessness', 'netting', 'cross', 'alighted', 'ad', 'decease', 'ziph', 'heber', 'reportedly', 'exaggerate', 'ounces', 'sufficed', 'mournful', 'axe', 'fearfulness', 'descending', 'elbows', 'suppresse', 'overflown', 'irresistibly', \"enter'd\", 'la', 'dependant', 'vigilant', \"arm'd\", 'displeases', 'destitute', 'motiues', 'sighed', 'olden', 'nony', 'petrified', 'graham', 'shebaniah', 'update', 'vale', 'babis', 'ly', 'dialogue', 'flakes', 'cainan', '48:29', 'provisions', 'furrier', 'strakes', 'heeds', 'graceful', 'equipped', 'posture', 'plantagenet', 'bloody', 'smaller', 'moored', 'promptly', 'sinewy', 'eyebrow', 'wantonly', 'competitive', '13:43', 'canvas', 'tenders', 'bowsprit', 'entire', 'catalan', 'mesopotamian', \"purg'd\", 'misery', 'respecting', 'gains', '66:3', 'leisure', 'hardship', 'sedona', 'completing', 'infowars.com', 'jehdeiah', 'to', 'esteeme', 'pinions', 'uncover', 'baltimore', 'panado', 'critic', 'serenity', 'bait', 'lulls', 'loudest', 'beauty', 'rizpah', 'sonne', \"crack'd\", 'pranks', 'tumult', 'shinar', 'hyena', 'paddling', 'infirmities', 'palestinian', 'grossly', 'fury', 'absorbs', '41:16', 'exaltations', 'cruel', 'adhere', 'enriched', 'lethe', 'animation', 'skiff', 'doubloons', 'nationalist', 'phenomenon', 'pans', '48:8', 'greatest', 'armholes', 'armoury', 'louing', 'unseen', 'swisserland', 'othniel', 'chuckle', 'grammys', '29:34', 'agency', 'newspapers', 'wriggling', '7:69', 'leaven', 'technically', 'couldst', 'musing', 'dystopia', 'compost', 'bodings', 'desart', \"deceiu'd\", 'gaps', 'harris', 'counterpane', 'executors', 'propontis', 'sobering', 'heiress', 'extras', '27:7', 'clients', 'liquor', 'ineffectual', 'globular', 'reba', 'counsellors', 'limitations', 'instruct', 'nettles', '9:40', 'calendula', 'zeeb', 'onyx', 'receiue', 'expedition', 'madder', '47:1', 'donavan', 'unraveling', 'unworthy', 'featured', 'revoke', 'immortall', 'urn', \"envelop'd\", 'consisted', 'originally', 'dusting', 'precipitate', 'whichever', 'trueman', 'heron', 'greatnesse', 'dubious', '59:14', 'meditate', '38:28', 'heighten', 'unmarried', 'exist', 'peer', 'shinbones', \"lon'on\", 'normalization', 'hooded', 'initial', 'doomesday', 'lifteth', 'mick', '6:31', 'hearse', 'forswearing', 'gravel', 'ecclesiastes', 'surprised', 'unjust', 'crimsoned', 'tread', 'breeze', 'gets', 'adamic', 'collateral', 'awaits', 'sanctity', 'back', '1:25', 'netflix', 'knowledge', 'unmolested', 'prosecuted', 'salma', 'placidly', 'agrees', 'unforced', 'breaker', 'portcullis', 'spices', 'embroiderer', 'speculative', '7:21', 'shuddered', 'packed', 'tit', 'grandfather', 'leprosy', 'chilling', 'ploughed', 'citizens', 'facetious', 'superficial', 'timorous', 'delingpole', 'jareb', 'respectably', 'palestina', 'symbolize', 'wisedom', 'sales', 'jpmorgan', 'frugal', 'congenial', 'poysoner', 'edmund', 'lyrical', 'pleaded', 'unwritten', 'carroll', 'approue', 'luc', 'steadfastly', 'astrologers', 'uriel', 'grateful', 'noblemen', 'disincline', 'jemuel', 'dripping', 'ballroom', 'royce', 'fobbing', 'preserveth', 'veritable', 'subtly', 'drab', '65:8', 'fine', 'eveningtide', 'fledge', 'superber', 'completion', '28:25', 'intends', 'poison', 'bellows', 'burne', 'cæsar', 'devices', 'canopy', 'presented', 'dorsal', 'relics', 'heist', 'theories', 'repress', 'resuming', 'tesla', 'blowfish', 'cass', 'powers', 'disarmed', 'royall', 'exultant', 'poisoned', 'remnant', 'flattened', 'married', 'kelli', 'venturous', 'process', 'starlight', '66:11', 'flutter', 'consequence', 'kathy', 'undoing', 'flagging', 'millionaires', 'instinctive', 'pallor', 'muskets', 'implicated', 'dissect', 'phoenix', '23:7', 'ice', 'freeman', 'olfactories', 'selvedge', 'plaster', 'sicilian', 'placed', 'delaford', 'lectured', 'abode', 'snake', 'unfaithful', 'ishmeelites', 'continueth', 'accountability', 'currently', 'purest', 'samaria', 'vain', 'bit', 'curls', 'dor', 'monkey', 'mendocino', 'agility', 'handover', 'meridians', 'being', 'hardships', 'leshem', '300mw', 'right', 'essentially', 'patriarch', 'goodwill', 'arcade', 'lawless', 'with--', 'mansion', 'working', 'thyself', 'banding', 'eagles', 'bamoth', 'nice', 'manned', 'easter', 'arabians', 'groping', 'fluttered', '20:38', 'resides', 'betray', 'cleare', 'doubtless', 'bashaw', 'circuit', 'owning', 'almond', 'coniah', 'him.--', 'mixtures', 'fried', '                                                          ', 'tufted', 'gao', 'course', '7:65', 'desperadoes', 'meat', 'fugitives', 'arc', 'him--', 'prevents', \"shee'l\", '2:46', 'smoother', 'coupleth', 'entering', 'beefsteaks', '35:2', 'perpendicular', 'towering', 'snares', 'directv', 'longer', 'plaintively', 'footholds', 'vigorous', 'felt--', 'condition', 'liked', '5:29', 'pirate', 'exhalations', 'coupled', 'zia', 'illuminated', 'terah', '46:1', 'coming.--', 'leaker', 'rock', 'hind', 'jeriah', 'uncivil', 'dangers', 'chinnereth', 'merom', 'benjamite', 'french', 'dearth', 'markers', 'rings', 'hound', 'waste', 'when', 'detract', 'stew', 'theatre', 'acquiesced', 'auspices', '41:22', 'confidential', '26:23', 'identical', 'poultry', 'gear', 'zimri', 'verdict', 'transgress', 'tug', 'pastors', 'acclaim', 'connecticut', 'blameable', 'deregulation', 'imposed', 'box', 'algeria', 'caldron', 'abinadab', 'disapproved', 'swinging', '35:5', \"did'st\", 'innoxious', 'loss', 'disapproval', 'prowess', 'bickerton', 'enda', 'fundamental', 'bird', 'astray', 'broward', 'wisps', 'wear', 'convivial', 'mysteriously', 'contrition', 'oblique', 'ferule', 'lettered', 'invisibly', 'sarcastic', 'neutrality', 'locusts', 'quitting', 'precincts', 'stripe', 'solve', 'rumbly', 'cambodia', 'kenezite', '40:7', 'hogshead', 'portfolio', 'recommendations', 'washes', '3:46', 'tapper', 'synagogue', 'delegates', 'examination', 'steer', 'heeva', 'devilry', 'brexiteers', 'feebly', 'sail', 'marriage', 'oliver', '2:13', 'barabbas', 'bethink', 'howlings', 'traveler', 'allures', 'rigidly', 'unoccupied', 'muslims', 'chastise', 'yoked', 'intelligent', 'it', 'neighboring', 'remark', 'presseth', 'shetharboznai', 'persecutor', 'thrashed', 'cohen', 'championship', 'dubiously', '18:38', 'flaw', 'cin', 'dealt', 'noses', 'pore', 'equals', 'eliel', 'sycomore', 'shemer', 'scall', 'discernible', 'haradah', 'always', 'hararite', 'timeline', 'turf', 'asian', 'chi', 'stiff', 'charing', 'reserveth', 'allies', 'pottage', '19:4', 'squalls', 'bungling', 'concentrating', 'gaped', 'exhaustion', 'sociologists', '40:1', 'bankers', 'files', 'arises', 'legitimately', 'irregularly', 'dominates', 'alterations', 'muscles', 'hotter', 'precept', \"destroy'd\", 'telescope', 'levites', '27:41', 'betrothed', 'erection', 'worse', 'praised', '25:43', 'seekes', '66:1', 'specks', '16:6', 'poisonous', 'muffled', 'talke', 'militants', 'scorched', \"d'ye\", 'turbaned', 'awaketh', '275th', \"untrimm'd\", '9:34', 'repelled', 'special', 'mizen', '1:3', 'closed', 'lobbyist', 'canoes', 'ides', '12:45', 'deepest', 'civilian', 'reading', 'usage', 'branches', 'suffereth', 'carmelitess', 'ugliest', 'rams', '3:1', 'incoherent', '18:14', 'visitors', 'swalloweth', 'amity', '32:38', 'quarto', 'leaded', 'mumblings', 'visit;--', 'ephron', 'faithful', 'bawling', 'fidelity', 'requisite', 'sweaty', 'bouncing', \"dy'de\", 'honors', 'chamberlain', 'sharpest', 'wondered', 'asteroid', 'signs', 'absenting', 'taketh', 'enthusiasts', 'jesty', 'maria', 'boggy', '1:1', 'newfoundland', 'enchantments', 'than', 'preacher', 'seir', 'oaken', 'whin', 'bullying', 'diklah', '37:21', 'supernaturalism', 'creepeth', 'blear', 'vizards', 'burial', 'rousing', 'returnes', 'reynol', 'rore', 'sullenly', 'network', 'aggressively', 'oppressed', 'snipe', 'posturing', 'longings', 'coventry', 'acquaintance', 'interpreter', 'leads', 'padded', 'salesman', 'lord', 'successor', 'heavers', 'immovable', 'goods', 'bharara', 'likely', 'sottish', 'beholds', 'cable', 'mimicking', 'ambushes', 'conceal', 'adobie', 'enquirer', 'tickling', 'gingerbread', 'valet', 'dragged', 'elhanan', 'morphed', 'bondmaids', 'outwit', 'stuffed', 'criticised', 'splinter', 'l.a.', 'teaze', 'dazzlingly', 'grieving', 'sunder', \"tatter'd\", 'advantage', 'sabaoth', 'exploit', 'parish', 'honoring', 'posies', 'harpoon', 'grotesque', 'message', '13:45', 'endeavours', 'masaya', 'unsteady', 'convulse', 'inviolable', '16:16', '19:6', 'phones', 'baroni', 'peleth', 'predestinated', 'dignities', 'stabbing', 'dwelt', 'knuckles', 'engraver', 'handmaidens', 'her.--it', 'enact', 'criminals', 'saying', 'establisheth', 'whither', 'globose', 'fatalism', 'beauteous', 'resist', 'returne', 'sorrie', 'oooo', 'hungary', 'helps', 'technical', 'jacket', 'rises', 'azrikam', 'afflicting', \"liu'd\", 'incessant', 'r', 'sovran', 'piling', 'fronts', 'sun', 'abuses', 'resists', 'opposite', 'antarctica', 'suns', 'chopping', 'ray', 'century', 'bethanath', 'imparted', 'rarity', 'losing', 'keepest', 'windowes', 'lungless', 'answered', 'lothe', 'heidelburgh', 'trampled', 'cerebellum', 'hood', 'carted', 'inestimable', 'zebaim', 'affectedly', 'clampdown', 'vastly', 'greaves', 'arriving', 'reproductive', 'cloths', 'killing', 'cognizant', 'barriers', 'knauish', 'seems', 'crowns', 'once', 'surrounding', 'frenchmen', 'serenest', 'befell', 'charcoal', 'secured', 'nowhere', 'superfluous', 'safer', 'courtesie', 'shameless', 'primitive', 'magdiel', 'ships', 'liken', 'alleluia', 'prophesying', 'bothered', 'connoisseur', 'uncheerful', 'pork--', 'chaldean', 'themed', 'skilful', 'jehoaddan', 'maid', \"droop'd\", '6:51', 'clashes', 'ratings', 'elusive', 'joiada', 'passions', 'whang', 'alternative', 'brighton', 'delta', 'dismember', 'hot', 'jumping', 'superb', 'rainbows', 'dominant', 'ski', 'wing', 'processors', 'profile', 'retaliate', 'household', 'bowls', '29:32', 'scarce', 'cyclist', 'role', 'instigation', 'dissipation', 'bourgeois', 'longtime', 'nudge', 'ornan', 'taunton', 'measurable', 'clinking', 'apothecary', 'mezahab', 'directions', '18:42', 'on.--', 'lent', '9:6', 'charlottesville', 'core', 'scotch', 'reproved', 'avenged', 'cipher', 'listeners', 'donations', 'paines', \"scorch'd\", 'paddles', 'number', 'donned', 'teazed', 'feigning', '19:12', 'whipped', 'pomfret', 'painters', 'dealmaking', 'casual', '96', 'card', 'matin', 'version', 'calp', 'terraced', '23:5', 'hideous', 'helah', 'motives', 'kingship', 'hornbill', 'infrastructure', '12:17', 'intrude', 'slipping', 'scaffold', 'congregations', '29:39', 'rashkill', 'degradation', 'malibu', 'tracker', 'giles', 'scarse', 'networks', 'manx', 'wretchedness', 'sojourning', \"o'rourke\", 'ruinous', 'spiritual', '31:39', 'trumpcare', 'printer', 'bedroom', 'pressured', 'subscription', 'fooled', 'teeing', '39:7', 'cannes', 'whelps', 'drapery', 'knoll', 'duped', 'sir--', 'awaking', 'officer', 'revenges', 'whatsoeuer', 'happens', 'monument', 'sweden', 'psychologist', 'candide', 'lefthanded', 'beleeue', 'clings', 'corals', 'unpacked', 'satiate', 'seduction', 'thankfulness', 'slighter', 'hin', 'disclaiming', 'union', 'offereth', 'ostler', 'breakwater', 'zay', 'oarsman', '8:8', 'freshened', 'vibration', 'coon', 'forgetfulness', 'zohar', 'thinkest', 'rites', '36:24', 'laish', 'refugee', 'toes', 'professionally', 'adherents', 'revolution', 'jediael', 'avows', 'omission', 'elisabeth', 'sneeze', 'che', 'off!--', 'zarephath', 'pebbles', 'trough', 'threatens', '1:52', 'liberal', 'hoped', 'great-', 'heedfulness', 'quaked', 'jingle', 'unexceptionable', 'deputation', \"do'st\", 'nicest', 'officiating', 'splendour', 'reply', 'black', 'intricate', 'wagging', 'sporting', 'burnished', 'montenegro', 'knots', '9:50', 'sharing', 'unwholesome', 'dark', 'champions', 'immeasurable', 'bluntly', 'sparks', 'vivacity', 'woods', '13:14', '4:21', 'diplomas', 'fellow', 'released', '130,000', 'happinesse', 'abishua', 'artists', 'japhia', 'violation', 'clapper', 'ohio', '2:51', 'across', 'shekels', 'tints', 'mercantile', 'landsmen', 'accessory', 'vauntingly', 'gongs', 'densities', 'gideoni', 'referencing', 'disentangling', 'traced', 'telegraphs', 'amazed', '60:7', 'thrones', 'wayes', 'griefes', 'wasteth', '10:46', 'magnet', 'untutored', 'plaintiffs', 'fonder', 'unreality', 'javid', 'plump', 'wiping', '13:37', 'splendid', '192', \"incens'd\", 'went', 'pregnant', 'tainted', 'partialities', 'hunger', 'pennyworth', 'overdoses', 'apostleship', 'hun', 'ardors', 'wilfully', 'believers', 'blueberries', 'arkansas', '1:41', '20:24', 'first', 'recondite', 'hadadezer', 'eyes--', '23:13', 'sills', 'sultanism', 'printing', 'victory', 'barns', 'mote', 'heists', 'prized', 'ophel', 'overladen', '2:17', '15:49', 'limbs', 'betting', 'sworne', 'execution', 'rave', 'romanian', 'abysms', 'gorgon', 'helpers', 'extracting', 'obediently', 'simultaneously', 'opprobrious', 'zuckerberg', 'meditating', 'ordinary', 'roared', 'ceaseless', 'mercer', 'deaths', 'roebuck', 'gracious', 'fetters', 'busied', 'shuddering', '8:39', '98', '3:23', 'write', 'francisco', 'lama', '28:35', 'opioid', '38:3', 'designing', 'treasury', 'millstone', 'swum', 'vain--', \"can't\", 'yonder', 'general', 'ditto', 'inhabitant', 'brains', 'unutterable', 'afire', 'trowsers', 'credulity', '1:49', 'bloweth', 'exact', 'click', 'irijah', '52:11', 'fleeces', 'barouches', 'leech', 'mercifully', 'campaign', '33:8', 'cordial', 'locked', 'advisor', 'bombing', 'fallen', 'freckled', 'headquarters', 'improvements', 'ko', 'stage', 'integral', 'beetles', 'breadth', 'advise', 'honourably', 'mullen', 'marl', 'figures', 'accosted', 'citoyens', 'reminiscent', 'rnc', '16:37', '6:35', '6:49', 'huswife', 'this', 'donwell', 'emerge', 'instrument', 'anakims', 'outstretched', 'grindstone', 'house--', 'nez', 'hopping', 'waiteth', 'osr', 'association', 'guardian', \"ripen'd\", 'hope', 'subtil', 'depart', 'readily', 'nightfall', 'caulking', '22:11', '59:2', 'hakupha', \"ioyn'd\", 'chained', 'countless', 'mehujael', 'unconvincing', 'one', 'earing', 'tricked', 'realism', 'caprices', 'effecting', 'vegetation', 'pandemonium', 'aprons', 'cleaveth', 'patriotic', 'chocolate', 'impediment', 'marshalled', '21:13', '7:42', 'malt', 'terminus', 'quakeress', 'notoriety', '3:36', 'watersprings', 'elements', 'illiterate', '6:46', 'forme', 'hums', 'shapes', 'critique', 'mastered', 'music', 'customer', 'rowed', 'uncompromised', 'titin', 'belted', 'walkt', 'interminably', 'hampstead', 'villanous', 'uzziel', 'dealings', '2:21', 'creative', 'editors', 'goldfish', 'again:--', 'ca', 'butter', 'depending', 'belonged', 'marrow', 'blank', 'had', 'blow', 'weaknesses', 'inconceivable', 'unaccountable', 'exclaimed--', 'sunken', 'stations', 'fined', '26:33', 'unpitying', 'merab', '31:34', 'slam', 'darlings', 'viper', 'barrage', 'boaz', 'furs', '38:23', 'boldest', 'hares', 'alarms', 'climate', 'redness', 'evan', 'shopkeeper', 'labour', 'quakerish', 'naboth', 'latch', 'reproaches', 'pest', 'wainscot', 'monitoring', 'recommendation', 'prayed', 'troughs', 'vague', 'nominees', 'enumeration', 'tolstoy', 'bodyguard', 'reproach', 'advertisement', '40:25', 'prudential', 'prestigious', '18:39', 'organ', 'adjourn', 'hashum', 'pence', 'risings', 'mutter', '43:16', 'chaise', 'devoted', 'afther', 'basically', 'professes', 'prospect', 'rigour', 'millar', 'demesne', 'ecuador', 'unimaginable', 'perfection', 'mule', 'antichronical', 'personall', 'wouldest', 'teeth', 'beaming', 'switching', 'impudence', 'uncreated', 'prevails', 'gorged', '34:7', 'tophet', 'tun', 'revels', 'murtherer', 'farenthold', 'shaalbim', 'eternity', 'criticizes', 'oh', 'sparkle', 'renewals', '24:33', 'cobwebs', 'accused', 'game', 'intrepidity', 'do?--very', 'disdain', 'unwalled', 'affability', 'sanctuaries', 'complacence', 'procuring', 'timing', 'thickets', 'stark', 'eyeservice', 'coming', 'brood', '7:71', 'rogues', 'mothers', 'governors', 'annihilated', 'coopman', 'heere', 'glorifying', 'infected', '44:14', 'eastward', '19:33', '21:8', 'intently', 'shipworm', 'standpoint', 'herald', 'devised', 'plucking', 'extrication', 'annie', 'osha', 'juno', 'minute', 'stately', 'lace', 'grimace', 'bowd', 'trembles', 'greenhorn', 'cherry', 'hertz', 'odd', 'walke', 'arrangement', 'hatching', 'warren', 'witnessed', 'stir', '38:6', 'sheeted', 'tigers', 'ahimaaz', 'soundgarden', 'shaken', 'abhor', 'astride', 'fighters', 'danube', 'visitor', 'railings', 'flounders', 'awkward', 'rout', 'tropical', 'clap', 'vlcerous', 'managing', 'stirred', 'caucus', 'ronny', 'holon', 'convictions', 'engaging', 'athletic', 'bystanders', 'abiud', 'sweeping', 'appreciation', '1:13', 'bunch', '1:18', 'sufferable', '63:2', 'scottish', 'galore', 'stain', '31:51', 'stadiums', 'members', 'adin', 'hug', 'overpowers', 'tempests', 'controlled', 'plunging', 'witted', 'hurtful', 'kkk', '50:5', 'stretching', 'contemplate', 'seeme', \"compell'd\", 'booz', 'irrelevant', 'watered', 'cecilia', 'helpe', 'troll', 'bred', 'election', 'forbear', 'millo', 'preferment', 'topmost', 'landlessness', 'levelled', 'uphold', 'howbeit', 'impelled', 'potential', 'honey', '10:33', 'trigonometry', 'program', '10:41', 'hamongog', 'cleverly', 'fantasies', 'likelihood', 'wistful', 'avoids', 'ouer', 'alleviations', 'writhing', 'discreet', 'wan', 'sixth', 'writhed', 'regulate', 'midshipmen', 'premiums', 'noncriminal', 'crookedly', 'loose', 'ferries', 'ninepins', 'edwin', 'creditable', 'sacrilegious', '7:66', \"sway'd\", 'estrangement', 'fro[m', 'lachish', 'drought', '19:28', 'moment', 'leaned', 'saies', 'rug', 'rapture', 'denote', 'eliphalet', \"scallop'd\", 'civility', 'printed', '64:6', 'fastening', 'peacefully', 'pennons', 'overpower', 'banjo', 'canceling', 'dehydration', 'emboldened', 'together.--', 'carter', 'disturbances', 'mizraim', 'syrian', 'provender', 'lock', 'mouse', '1928', 'select', 'bring', 'charmers', 'pertaining', 'gamy', 'limestone', 'pentagon', 'ailed', 'controul', 'shilling', 'jesaiah', 'july', 'moth', 'jeered', 'raven', 'inordinate', 'paradox', 'embarrassment', 'overdose', 'produced', 'realise', 'belshazzar', 'wto', 'unfair', 'ruth', 'swinburne', 'dews', 'marries', 'credibility', '50:3', '62:11', 'desirous', '15:41', 'befall', 'angers', 'glazier', 'ring', 'hanover', 'gush', 'carnal', 'bigger', 'booths', 'murth', 'sailing', 'tree', 'ezer', 'any', 'hastening', 'soon.--', 'rogelim', 'punitive', 'nutshell', 'mogul', 'takeoff', 'wag', 'profoundest', 'lightfoot', 'wending', 'adversaries', 'diversify', 'mither', 'beer', '48:26', 'indiscreet', '11:28', '14:26', 'puzzles', '6:4', 'soleil', 'loatheth', 'smutty', '33:2', 'aliens', 'seated', 'quotations', 'piers', 'hireling', 'chatting', 'aca', 'notwithstanding', 'vnsanctified', 'pique', 'breakers', 'pelatiah', 'pony', 'egypt', 'yankees', 'endeavouring', 'blueprint', 'yore', 'judge', 'pike', '56:9', 'undismayed', 'counseled', 'morass', 'claret', 'stars', 'knocketh', 'helm', 'timed', 'undoes', 'gabriel', 'brotherhood', 'figure', 'unbelievers', 'comely', '4:37', 'chargeable', 'monomania', 'boosting', 'graue', 'politicians', 'caes', 'accuses', 'royals', 'displaying', '30:11', 'betimes', 'sent', 'skylark', 'patents', 'medal', 'relinquishing', 'similarity', 'electrocution', 'crown', 'piping', 'grieveth', 'spectral', 'et', 'man!--and', 'calendar', 'eloquence', 'overstepped', 'charade', 'gilgal', 'stowing', 'adversity', 'mummery', 'firstlings', 'ingraham', 'schlapp', 'eltolad', 'holland', 'giaour', 'lottery', 'jackets', 'allegiance', 'sylvan', 'minutiae', 'hegai', 'mediums', 'teraphim', 'migrations', 'nautical', 'housing', '140,000', 'wafts', 'physical', 'changeable', 'buttered', 'panoply', 'deportee', 'temptation', 'turks', 'landau', 'seminal', 'heath', 'belching', 'presents', 'nat', 'eggs', '1:14', 'amen', 'suffusing', 'sibbecai', 'bedsteads', 'giddel', 'goodliest', 'wedded', 'whole', 'understanding', 'harpoons', 'displaced', '10:38', 'writers', 'relying', 'fleece', 'tepid', 'hurricane', 'reviled', 'chronicled', 'lucil', 'jehoiachin', 'financiers', 'shal', 'farhad', 'undraw', 'jfk', 'serious', 'chuck', 'bookseller', 'buoyant', 'afterwards--', 'owne', 'contrive', 'kindling', \"conceal'd\", 'prosperity', 'huge', '8:48', 'harriet', 'paralyze', 'plotted', 'genius', 'chivalry', '10:15', 'shuthelah', 'ranged', 'smitten', 'actors', 'frustrate', 'oughts', 'briefly', 'sorry', 'hitherto', 'fatted', 'predict', 'maned', 'midday', 'neglect', 'whereunto', 'fiercest', 'sweetest', '23:33', 'leap', 'accuracy', 'ledges', 'wherein', '30:4', 'bastille', 'solicitor', 'deacons', 'cape', 'posted', 'kolaiah', 'refresh', 'richmond', 'generals', 'name--', 'cyprus', 'areas', 'dexterous', 'steers', 'cly', 'zip', 'bespake', 'rent', 'staring', 'spanned', 'immortal', 'occult', 'corpses', 'hundredfold', 'combatants', 'pelican', 'assembly', 'farce', 'raqqa', 'symmetrically', 'disagreeing', 'ain', 'knives', 'supper', 'snatches', \"saunter'd\", 'circulation', 'wick', 'stout', 'golden', 'vigilance', 'erasure', 'more', 'seest', 'sacrificed', \"bequeath'd\", 'wonderously', 'undoubted', 'marvelled', 'impenetrable', 'stun', 'midfielder', 'sympathy', 'breathes', 'soars', 'scrupulously', 'attains', 'sullen', '15:6', 'erie', 'ordinance', 'emeralds', 'teats', 'flaxen', 'bobs', 'assault', 'calculated', '2005', 'info', 'disengaged', 'niece', 'judea', 'amicable', 'est', 'declineth', 'moues', 'callous', 'vnckle', 'hotline', 'oratresses', 'edrei', 'somersault', 'scents', 'debbie', 'baritone', 'bully', 'authoritative', 'unpack', 'prowling', 'inquiry', 'bannered', 'marching', 'overhead', '16:4', 'gehazi', 'john', 'sachem', '64', 'hopes', 'blend', '180', '25:34', 'leviathanic', 'mountaines', '15:57', 'dominion', 'whips', 'stubborne', 'hawker', 'wishful', 'amplified', 'invite', 'georgia', 'trousers', 'orb', 'clanged', 'servitude', 'endangered', 'radar', 'impersonator', 'slackness', 'earthen', 'obliging', 'hour', 'cooks', 'late', 'traps', 'extorted', 'suffers', 'injury', 'futile', 'weepest', 'dizzy', 'perfidious', 'predicts', 'are', 'iris', 'gnashing', '24:7', 'reshaping', 'discordant', 'paralytic', 'sorcery', 'exertion', 'seasoned', 'reunited', 'dragon', 'uncovered', 'weakest', 'gross', 'scrambled', 'scriptures', 'clicked', 'agitations', '20:42', 'himselfe', 'passports', 'indicate', 'biofuel', 'lotus', 'obscure', 'intellects', 'manet', 'tinder', 'esculent', 'shook', 'pitted', 'commendation', 'glitch', \"hang'd\", 'tried', 'capitall', 'inhaled', 'redemption', \"bak'd\", 'disobedience', 'signet', 'performeth', 'confederate', 'burqas', '13:41', 'trims', '15:24', 'casket', '11:5', 'chances', '19:3', 'flowerets', 'wonted', 'porus', 'skies', 'enveloping', 'healing', 'drench', 'ease', 'stile', 'mirzakhani', 'discouer', 'attentively', 'protege', 'cutlass', 'fount', 'impress', 'peg', 'tosses', 'rescued', 'dwindles', '48:30', '29:6', 'theophilus', 'meanness', '26:19', 'hartshorn', '--goldsmith', 'resumes', 'mouldering', 'underfoot', 'glint', 'evasion', 'allen', '550', 'dubs', 'exactitude', 'struggle', 'may.', '17:26', 'encumbered', 'spake', 'buoy', 'deceiving', '25:40', 'bravo', 'ohad', 'ungodliness', 'filament', 'combe', 'moody', 'inarticulate', 'merited', 'respectability', 'fondness', 'defeats', 'copying', 'wildfire', 'toiled', 'tale', 'jerked', 'spying', 'encreased', 'mccabe', 'sharpened', 'liberally', 'permissive', 'farmhouse', 'inch', 'gershonite', 'talmon', 'consciousness', 'pasturing', 'devil', 'wren', 'commonalty', 'imprisonment', 'purifieth', 'mumbling', 'dixon', 'palings', 'looms', 'hebrews', 'pumping', 'blades', 'increases', 'purposes', 'throe', 'dancing', 'staff', 'invited', 'discoloured', 'foment', '17:22', 'contests', 'parable', 'prophet', 'ulai', 'rectangular', 'revelations', 'glue', 'usurper', 'merits', '13:55', 'strays', 'selah', 'gruff', 'idaho', 'conveyance', 'mean', 'forerunning', 'restraints', 'contagious', 'afraid', 'outmost', 'divinest', 'hissing', 'square', 'gentlemen', 'ungraciously', 'epaphras', 'mile', 'chords', 'zebadiah', 'bernard', 'archangelic', 'philippines', 'insight', 'resigned', 'spud', 'virtues', 'skeleton', '37:13', '7:24', 'commended', 'flank', 'skirting', 'languish', 'judaea', 'vertebrae', 'standing', 'apologising', 'infirm', 'extortioner', 'intercession', 'greenness', 'commend', 'quickened', 'foremost', '30:23', 'tariffs', 'beforetime', '40:27', 'capsizing', 'penknife', '24:32', 'inflation', 'cabin', '38:2', 'concert', 'destroye', 'psychometric', 'instilled', 'reelection', 'flood', 'growled', '35:12', 'fainting', 'navigators', '25:16', 'greenly', 'coveteth', 'pickles', 'wood', 'moor', 'esarhaddon', 'distraction', 'clangor', 'lovedst', 'unquiet', 'disrespect', 'ship', 'sliver', 'drummer', 'knightleys', '101', 'methinks', '100', 'aperture', 'sardius', 'superseded', '1:31', 'ostensible', 'turban', 'shadow', 'powre', 'convenience', '20:40', 'glory', 'humourist', 'inasmuch', '48:16', 'trebonius', 'earl', 'whenever', 'porters', 'whitened', 'odin', 'decadent', 'michmethah', 'coal', 'encouragements', 'kneadingtroughs', 'shields', 'faintness', 'dave', 'nothing', 'springing', 'spasm', 'intervention', 'loggerhead', 'musicians', 'account', 'pier', 'deflates', 'struggled', 'cicatrice', 'kinsfolk', 'parmacetty', 'currency', 'fashion', 'sheath', 'tackle', 'dissemble', 'laggards', 'reviews', 'births', 'dandelion', 'spleen', \"murther'd\", 'grime', 'wonderfull', 'scratch', 'shelf', 'duncans', 'offices', '48:24', 'compress', 'seeds', 'terrours', 'leapt', 'amusing', 'timbuctoo', 'award', 'overlooking', 'shenir', 'drinke', 'enfranchisement', 'inmost', 'coolly', 'chuse', 'causeth', 'remembrances', 'ledge', 'accomplices', 'iealousie', 'heweth', 'vacantly', 'event', 'glasgow', 'coleridge', 'providence', 'unread', 'budded', 'hamper', 'kedemoth', 'confine', 'nickel', 'pontiff', 'multiple', 'scrolled', 'sheepcote', 'catholic', 'fought', 'concentrated', 'discourage', 'bringing', 'philistia', 'johnny', 'elizabethan', 'dank', 'promotion', 'walnut', 'doing?--', 'arnhold', 'varley', 'eddying', 'raging', 'ephrath', 'counted', 'mallothi', 'pronunciation', 'years', 'niebuhr', 'unreserve', 'spokesperson', '8:28', 'moves', 'electioneerer', 'greenpeace', 'sub', 'scorning', 'interchange', 'beheld', 'nob', 'reverberations', 'angelical', 'can--', 'admirers', 'teams', 'linkin', 'mules', 'spitted', 'heather', 'carolinian', 'chaplain', 'rhetorical', 'ensnared', 'shipped', 'respond', 'artistic', 'edible', 'paying', 'tolerate', 'actively', 'quadrille', 'genitals', 'yourself--', 'declare--', 'bezer', 'demas', 'evasions', 'unfortunately', 'fatigue', 'antisemitism', 'tomb', 'anticipate', 'blinde', 'real', 'contingency', 'tranquillize', 'speake', 'unchanged', 'article', 'reached', 'gamesomeness', 'swamps', 'troubles', 'ark', 'homeless', 'service', 'grenade', 'unspecified', 'ministring', 'cordials', 'hidest', 'ally', 'vanity', 'cautiously', 'grecia', 'azmon', 'incredulously', 'belongs', 'jabbok', 'checking', 'ripped', 'freight', 'loudly', 'claimed', 'dashed', 'queried', 'paralysed', 'mallice', 'favourite', 'professe', 'overtures', 'appeasing', 'hampton', 'sponsor', '22:6', 'effusions', 'hosah', 'barricades', 'japanned', 'rising', 'policeman', '9:42', 'thirtie', 'mrs', '24:19', 'spans', 'jarring', 'anarchist', 'otherwise', 'protective', 'rapport', 'joyously', 'bristles', 'transgressor', 'captures', 'stoppage', 'tangle', 'canadians', 'shoal', 'replete', 'thence', 'czech', 'gaseous', 'purport', 'lysias', 'seashore', 'furor', 'decide', 'intrepid', 'andrew', 'wisest', 'divideth', 'loyall', 'capable', 'manoeuvre', 'chops', 'penal', 'intreat', 'deliuer', 'compasse', 'mumbled', 'bally', 'h_arbour', '25:8', 'strange', 'lot', 'scare', 'stumping', 'subterranean', 'raise', 'compel', 'matred', 'withdrew', 'prythee', 'inhaling', 'sawest', 'pethor', 'specimen', 'consisting', 'temporary', 'graph', 'preparing', 'pin', 'awakes', 'liver', 'enjoying', 'dick', 'ezra', 'n’t', 'excepted', 'second', 'penitence', 'adullamite', 'myanmar', 'lashings', 'surrender', 'hoarse', '55:7', 'lateness', 'acts', 'attending', '11:15', 'toothpick', '12:25', 'so', 'digest', 'keenest', 'withdrawing', '34:15', 'emotion', 'sires', 'shunning', 'aladdin', 'people', 'trying', 'spunge', 'hesitatingly', 'hillel', 'sulphur', 'gatam', 'clay', 'jabeshgilead', 'entice', 'rant', '43:13', 'constituent', 'roundly', 'gob', 'identities', 'jacinth', 'rhyme', 'tink', 'divinity', '53:6', 'spelling', 'voluptuous', '10:18', 'crackling', 'pay', \"roof'd\", 'jebusi', 'me.--', 'play', 'inflame', 'radiant', 'pavement', 'storm', 'sentiments', 'rend', 'ballot', '8:7', 'perfectly', '8:55', 'haters', 'braves', 'chelsea', 'apothecaries', 'sunbeam', 'sympathising', 'aceh', 'conviction', 'dwell', 'clamorously', 'ahaz', 'gunpowder', 'tense', 'forked', 'tolland', 'high', '4:4', 'taliban', 'potters', 'puts', 'tithe', 'deceitfull', 'itself', 'antecedent', '7:36', 'cropped', 'sergeant', 'fetches', 'place', 'well', 'proboscis', 'bordering', 'further', 'pratt', '44:27', 'goethe', 'potencies', 'bloated', 'ceasefire', 'mattress', '17th', 'fare', 'fit', 'rushed', 'shriek', 'tavern', '55:12', 'drawings', 'troops', 'unnatural', 'pretending', 'state', 'interpreted', 'brings', 'defiled', '43:18', 'huff', 'expence', 'doated', 'breitbart', 'nearing', 'aptitude', 'dents', 'vertu', '29:8', 'dedicate', 'welsh', 'i.r.s.', 'huckabee', 'goshen', 'shobal', 'beaver', 'low', 'becoming', 'ensued', 'refulgent', 'spraining', 'slackened', 'aaron', 'achim', 'isle', 'avengeth', 'exclaimed', 'safes', 'euroclydon', 'him;--and', 'renascence', 'cavalry', 'wishers', 'agonies', 'principles', 'sire', '2:39', 'headlong', 'azmaveth', 'pulsation', 'indoors', 'precipitancy', 'online', 'orisons', 'employing', 'proclaim', 'resolution', 'struck', 'eating', 'gentiles', 'lambent', 'sibbald', 'jewish', 'fretful', 'perched', 'learns', 'opec', 'sposo', 'crunching', '31:3', 'bees', '3:15', 'forsooth', 'executives', 'left', 'utensils', 'bray', 'triple', 'cod', 'fell', 'chant', 'pictured', 'pagoda', 'limited', 'morn', 'disable', 'composedly', 'sardonically', 'signing', 'finis', 'post', 'couples', \"pull'd\", 'admissible', 'drawl', '9:39', 'discountenanced', 'pretended', 'greeting', 'grinning', 'explaining', 'scornful', '39:4', 'robots', 'womens', 'sauntering', 'transcendent', 'memoirs', 'libertines', 'beetle', 'tedious', 'stepmother', 'depended', 'denied', 'fibrous', 'lecherie', '16:25', 'chushanrishathaim', 'julian', 'perpetual', 'distinctly', 'eliab', \"practis'd\", 'ambassador', 'plumed', 'foul', '38:22', 'indirect', 'amnon', 'kasich', 'moscow', 'relieved', 'polled', 'incomplete', 'hegel', 'sever', 'consistence', '31:32', 'rationalists', 'loath', 'ravishment', 'reluctant', 'wakened', 'barometer', 'you?--i', 'tweetstorms', '49:6', 'ashtoreth', 'tombs', 'irremediable', 'assumed', 'offscouring', 'odorless', 'waifing', 'bernstein', '2:9', 'kingdom', '2018', '7:6', 'familiar', 'stings', 'ezekiel', 'manifold', 'closer', '50,000', 'african', 'uthai', 'placeless', 'fermented', '2019', 'instinctively', 'earn', 'lips', 'crownest', 'comings', 'remaines', 'groans', 'discerns', 'labelled', 'attack', '9:47', 'plunged', 'criminal', 'forming', \"dishevel'd\", 'comming', 'innocence', 'studious', 'blows', 'fairylike', 'roofs', '10:35', 'violets', 'absentminded', 'committeth', 'candidates', 'nuneaton', '7:19', 'cleric', 'maps', 'wantonness', 'ii', 'hoby', 'aggregated', 'forepart', 'discovery', 'cuban', 'backe', 'histories', '6:2', 'curbs', 'shunned', 'popt', 'project', '                     ', 'restorer', 'proprieties', 'mocke', 'opposing', 'essays', 'received', '4:43', 'handedness', 'oboth', 'denier', 'platter', 'pith', 'twitched', 'shaaph', 'dotes', 'steeper', 'habite', 'tapped', 'oft', 'rush', 'catastrophes', '1:9', 'downs', 'woke', '2007', '51:8', 'wreath', 'surroundings', \"smutch'd\", 'fomenting', 'smarting', 'crows', 'plaiting', 'pickets', 'entrances', 'nearest', \"they'l\", '14:56', 'meetest', 'padrona', 'tri', 'nestorius', 'jehozabad', 'checks', 'maurice', 'announcements', 'prints', 'traffic', 'enrollment', 'evermore', 'revelry', 'heauens', 'singleness', 'proprietary', 'bashes', 'idiot', 'airstrike', 'demure', 'sells', 'sealed', 'remarkably', 'gleaming', '60:11', 'passenger', 'consoling', 'beggars', 'corner', 'calm', 'present', 'organizing', 'tours', \"you'l\", 'tarried', 'habitually', '48:6', 'envelopes', 'draggled', 'donalbane', '31:42', 'magicke', 'me!--oh', 'phares', 'framework', 'g-7', 'omens', 'apologize', 'lance', 'astir', 'waging', 'filial', 'henceforward', 'flaunt', 'mail', 'deserts', 'every', 'pair', '2:41', 'amalekites', 'monarchs', 'extinct', 'keener', 'disburden', 'minor', 'pendant', 'tankard', 'magnitude', 'cunningly', 'pursuit', 'wise', 'feverish', 'candid', '9:20', 'blasting', 'attracts', '18:36', 'academic', '15:18', 'plenty', 'menials', 'puns', 'referred', 'dogmas', 'tramp', 'elon', 'fomorians', 'pearle', 'disagree', 'scatter', 'lower', \"summ'd\", '10:40', 'upright', 'god', 'exhalation', 'bluer', 'gooseberry', 'crutches', 'maelstrom', 'jaws', 'town', 'guni', \"prou'd\", 'trunks', 'cragness', 'rowing', 'orphans', 'casting', '58:11', 'insist', 'afghan', '24:11', 'cultivation', 'isaac', 'expiring', 'wintry', 'speede', 'dashwoods', 'incalculable', 'j.k.', 'drag', 'confesseth', 'spiritous', 'committal', 'bargaining', 'wind', 'agitated', 'trademark', 'esaias', 'bondwoman', 'epidemic', 'samples', 'globules', 'fastidious', 'luggage', 'balaam', 'hobab', 'proud', 'chaperon', 'flopping', 'considerest', 'caldrons', 'reveled', 'steal', 'treated', 'caressing', '--that', 'calah', 'offspring', '11:24', 'dolefully', 'tide', '71', 'assented', 'mingled', 'porch', '6:45', \"remember'd\", 'aduise', 'weakness', 'milch', 'reverend', 'whore', 'journalist', 'quenchless', 'districts', 'unsuccessful', 'trending', 'flaming', '1865', 'nypd', 'circling', 'definitely', 'heir', 'wherever', 'decent', 'tranquilly', 'biometric', 'laziness', 'comprises', 'sh*t', 'brewing', 'attributing', '36:36', 'forge', 'persuasion', 'altering', 'rebekah', 'putteth', 'root', 'mythology', 'goddess', 'rt', 'cage', 'aliue', \"quell'd\", 'upheaving', 'laughed', 'unsounded', '168,000', 'glencore', '61:3', 'robbing', 'couched', 'eaglet', 'devote', 'graunt', 'transgender', 'brink', 'ee', 'bolt', 'haunting', 'foreknew', 'stellar', 'punishment', 'warring', 'transported', 'hardcore', '1973', 'efflux', 'grace', 'refusal', 'rue', 'hawk', 'maturity', 'admits', 'omer', 'beforehand', 'narrator', 'broaden', 'rosemary', 'memoir', 'tinned', 'la.', 'nigggers', 'tipsy', 'prickt', 'garlands', 'friendly', 'aborigines', '10:28', 'itching', 'pierce', 'sufferers', '14:57', 'attraction', 'beeri', \"unperform'd\", 'rural', 'haste', 'imp', 'faiths', 'purged', 'keeping', 'piney', 'up', 'harsher', 'flourish', 'restoration', 'offing', 'abuse', 'izharites', '37:37', 'weaponizes', 'yoest', 'pimp', 'chart', '2:26', 'pains', 'qualities', \"bloom'd\", 'minister', 'vapours', 'possessor', 'frowned', 'ambergris', 'zebah', 'chauffeur', 'cooler', 'salman', 'gangs', 'brookfield', 'ungodly', 'erickson', 'overbearing', 'ghostliness', 'experiments', 'unreserved', 'mistook', 'admirably', 'supplemental', 'boycotting', 'aching', 'access', 'stormy', 'macbooks', 'kinsmen', 'trusts', 'kindleth', 'suggesting', 'tilde', 'scaffolding', 'custody', '56:12', 'us', 'croft', 'jealousy', 'adulterer', 'charity', 'shorter', 'styled', 'curly', 'jehonadab', 'brig', 'noah', 'blackest', 'consumeth', 'expecting', 'snubbed', 'protesting', 'animal', 'morrow', 'distinctness--', 'tormenting', 'objective', 'shewing', 'tenements', 'shephatiah', 'feathery', 'sara', 'andreessen', 'shemuel', 'muhammad', 'lag', 'jeroboam', 'bipeds', 'pressed', 'macd', '14:16', 'destroys', 'celebrating', 'befriend', 'ratko', 'hb2', 'totally', 'manahath', 'enterprize', '13:27', 'repenting', 'envelope', 'didymus', 'engraven', 'manhood', 'psychological', 'condemneth', 'clamped', 'openness', 'avowed', 'withstood', 'merger', 'skimming', 'scornest', 'boiling', 'protected', 'proofe', 'remained', 'handed', 'quail', 'rescuing', 'proofs', '2:52', 'longed', 'greedily', 'cfpb', 'botch', 'opium', 'unclouded', 'widen', 'boyle', 'religions', 'huppim', 'divisive', 'zimran', '38:5', 'iniquity', 'dewdrop', 'abelbethmaachah', 'shattering', 'trice', 'dote', 'benwick', \"clutch'd\", '22:34', 'unspoken', 'annihilation', 'serues', 'halcyon', 'pricke', 'conjectures', 'accrued', 'ungovernable', '                       ', 'blaze', 'reflected', 'counsels', 'melancholy', 'volum', 'thankless', 'inaudibly', 'fasting', '1836', 'southerners', 'amram', '26:22', '3:29', '22:10', 'lovest', 'louers', 'tragedie', 'transit', 'thrown', 'distressing', 'consequences', 'enticing', 'territories', 'workmanship', 'euill', 'procreant', '17:9', 'shamgar', 'empyrean', 'haply', 'i.', 'judicious', 'bec', 'resembled', 'unsure', '50:9', 'toucheth', 'chasing', 'fierie', 'searches', 'vanishing', 'sinewes', 'lingers', 'weeding', 'paint', '25:10', 'jachin', 'doves', 'quiescent', 'seethe', 'ingulfed', 'shortly', 'shone', 'franklin', 'classified', 'warp', 'unerring', 'marksman', 'entertaining', 'watchtower', 'stalwart', '8:22', 'diseases', 'consuming', 'duty', 'azel', 'reproveth', 'necessities', 'mustard', 'doctors', 'monster', 'ould', '38:1', 'bomber', 'unfit', 'climbing', '7:39', 'disloyal', 'deflects', 'beasts', 'blackmail', '2:19', '65:10', 'buckwheat', 'nation', 'tracing', 'repine', 'brendan', \"return'd\", 'dispatched', 'kelly', 'hoo', 'exhausted', '1,500', 'palm', 'ceylon', 'composing', '50:24', \"corner'd\", 'enthrall', 'wishes', 'cask', 'gloomily', 'liue', 'cleave', 'cry', 'wears', 'quivered', 'lacquered', 'grovelling', 'raged', 'requires', 'colonel', 'islet', '22:35', 'delaware', 'cutter', '55:10', 'tanner,--but', 'through', 'perverse', 'huddersfield', 'ouerthrowne', 'yemen', 'watergate', 'conniving', 'imputation', 'ignominy', 'tightening', 'shutteth', 'aroer', 'exalte', 'uncircumcised', 'outwardly', 'telling', 'doll', 'hose', 'timna', 'hysterics', 'stolen', 'calmer', 'scourge', 'rectitude', 'blackness', 'sunny', 'invalids', '100,000', 'maw', 'adulterers', 'recesses', 'minde', 'chance', 'sammy', 'shades', 'diuell', 'possesses', 'possession', 'investigations', 'nisan', 'impose', 'molten', 'sprung', 'perplexing', 'onward', 'ascii', 'bela', 'couch', 'officio', 'affably', 'irad', 'muffling', 'spires', 'sabres', 'freewill', 'livy', 'ominous', '47:18', 'mephibosheth', 'provinces', 'satisfying', 'puddings', 'filth', 'threes', 'occasion', 'rhymes', '17:14', 'debris', '44:7', '45:22', 'shivered', 'resentment', 'eateth', 'apartheid', 'manhandled', 'dorsetshire', 'mnuchin', 'pioneers', 'intrusted', 'citizen', 'suppository', 'rex', 'mijamin', 'stewed', 'distemper', 'avowal', 'eleventh', 'seaward', '33:15', \"unexpress'd\", \"maim'd\", 'sayest', 'prolongeth', 'damp', 'tint', 'disfavour', 'frivolous', 'hastie', 'vigor', 'myriad', 'glistening', 'teman', '39:23', 'hauran', 'surveys', 'scoot', 'weakening', 'job', 'barred', 'waster', 'pelt', 'teaching', 'radical', 'modestie', 'litigate', 'prickly', 'lilies', 'huram', '45:24', 'boiled', '24:1', 'gloominess', 'reciprocal', 'rereward', 'serpent', 'm.d.', 'raucous', \"question'd\", '58:2', \"depress'd\", 'whereof', \"perform'd\", 'menservants', \"a'th\", 'cola', 'pilled', 'drinketh', 'scold', '21:18', 'fauours', '25:6', 'wretches', 'lull', 'multiply', 'clintons', 'befriended', 'glove', 'mandatory', 'charley', 'dominance', 'exclusively', 'minimum', 'gas', 'hamilton', 'pitchfork', 'tahpenes', 'female', 'baden', 'miniamin', 'bethshean', 'agitate', 'opportune', 'affords', 'fierce', 'hearkening', 'trillion', 'allowable', 'manure', 'upon', 'fitted', 'salem', 'arched', 'geopolitical', 'bodie', 'vertigo', 'survives', 'illinois', '44:10', 'pays', 'dryads', 'forewarn', 'shudderings', 'firstripe', 'executes', 'leonard', 'drear', 'secretaries', 'dwellingplace', \"form'd\", 'astonishing', 'doting', 'mahazioth', 'ehud', 'achor', 'acheron', 'impatience', 'diuel', 'discontent', 'roar', 'canst', '33:4', 'koz', 'artaxerxes', 'inhabiteth', 'uncouthness', 'crystals', 'zenith', 'infighting', 'child', 'slumps', 'clever', 'hollande', 'documentary', 'tumbled', 'tangled', 'mitch', 'lothario', 'rides', 'baths', 'abyss', 'declared', 'tortured', '2:47', 'skylarking', 'heightens', 'windlass', 'delicacies', 'impotent', 'corpulent', 'hop', 'meteors', 'furnishes', 'asaiah', 'spending', 'yeomanry', 'voyaged', '14:19', 'nakedly', 'transcending', 'pound', 'weekly', 'peake', 'halted', 'sidewalks', 'year', 'covert', 'needle', 'conspired', 'preserver', 'eliathah', 'endured', 'rudiments', 'searched', 'preceded', '27:36', 'dregs', 'socially', 'doubters', 'drinking', 'cuvier', 'wallow', 'waken', 'mummy', 'indeede', 'hangings', 'coupling', 'dainty', 'spoken', 'trickes', 'habitual', 'saylors', 'intensify', 'ahead', 'nobel', 'abhorreth', 'fairs', 'later', 'coffer', 'mission', 'crowne', 'deplored', 'subiect', 'pulling', 'liftest', 'kidron', 'overjoyed', 'guil', 'reversing', 'harke', 'explanation', 'naphtuhim', 'hatipha', 'falles', \"restrain'd\", 'lengthening', 'obsequious', 'spanish', 'hairs', 'eschylus', 'streamed', 'fragments', 'spangling', 'soft', 'norwegians', 'carstairs', 'rude', '18:20', 'isinglass', 'perches', 'conor', 'burdened', 'oval', 'hashmonah', '59:9', 'elsonower', 'purports', 'mutes', 'secondly', 'cathedral', 'rupture', 'dock', 'compose', 'partakers', 'monsieur', 'arrow', 'killedst', '13:34', 'discontents', 'tolerably', 'businesses', 'uninterrupted', 'vesuvius', 'coals', 'breezy', 'horites', 'woof', 'oded', 'allon', 'usurping', 'scientist', 'bastard', 'caste', '38:29', 'overwhelming', 'venereal', 'roman', 'vent', 'inflicted', 'craggy', '’d', 'intoxicated', 'overturns', 'unluckily', 'firewood', 'flagged', 'urania', 'wake', 'bloom', 'sitteth', 'calicoes', 'colder', 'choked', '8:49', 'violations', '47:8', 'prematurely', 'babes', 'expand', 'plantations', 'dover', 'clockwork', 'wel', 'scraps', '                                      ', 'swellings', 'sands', 'expell', 'jezebel', 'ezza', 'jarib', \"leaven'd\", 'tarpaulins', 'sausage', 'hiddekel', 'slender', 'disused', 'soils', 'mats', 'nurses', 'maniac', 'pommel', 'germs', 'offense', \"publish'd\", 'combatting', 'seat', 'unmasks', 'leaning', 'joint', 'publish', 'objection', 'parched', '17:16', 'amounts', 'comedie', 'regarded', 'unwieldy', 'dorm', 'dent', 'refrain', 'facades', 'acted', 'heartland', 'apologists', 'iustice', 'resource', 'notions', 'frugality', 'fejee', 'alicia', 'backs', 'inner', 'hodijah', 'halo', 'camphire', 'by', 'ligure', 'mature', 'eyesight', 'arriere', 'heartily', 'welcome', 'straitness', 'converge', 'bethaven', 'carmel', 'tou', 'official', 'moonrise', 'macedonians', 'cosmos', 'outset', 'wast', '3:19', 'scalia', 'rat', 'seething', 'provident', 'involving', 'strew', 'narcissism', 'coat', 'walling', 'decayed', \"launch'd\", 'bubbling', 'artifice', 'combining', 'burying', 'spokes', 'trappings', 'attempting', 'associations', 'mischievous', 'blazed', 'therewith', 'visitest', 'brute', 'ikkesh', 'covered', 'caterpillar', 'palace', 'leagues', 'blab', 'monde', 'melancholly', 'lynch', 'vitriol', 'liest', 'nethermost', 'inquisitive', 'viscount', 'bitts', 'jug', 'reclaimed', 'overmuch', '23:42', 'betokening', 'lose', 'lehi', 'shew', 'tugging', 'keystone', 'precipitately', 'nonsensical', '5:13', 'driveth', 'auspicious', 'superiority', '31:18', 'sen', 'findeth', 'looked', 'lubber', 'involved', 'joiakim', 'avalanche', 'novels', '19:27', 'soothsayers', 'violoncello', 'convent', 'colloquy', 'eruption', 'slew', 'maiden', 'thirsted', 'exhibition', \"suck'd\", 'adoniram', '7:27', 'bilshan', 'belief', 'planter', 'roseanne', 'tickets', 'bathsheba', 'burials', 'ddos', 'peasants', 'herbs', 'wheaten', 'miserable', '31:44', 'traitors', 'rhenish', 'epaphroditus', 'caravan', 'consenting', 'fluttering', 'tutti', 'tendinous', 'day', 'entrenchments', 'bogberries', 'unfavorable', 'mar', '10:7', 'frosty', 'sheba', 'ukrainian', '7:45', 'children.--', 'plait', 'bowed', 'chattering', 'ulam', 'attested', 'unique', 'frantic', 'rockets', 'voltumand', '13:6', 'rabshakeh', 'propitious', 'cotton', 'dromedaries', 'unstable', 'fly', 'amused', 'owl', 'watchfulness', 'alarming', '35:14', \"appear'd\", 'mills', 'hearties', 'triggered', 'patrolled', 'curl', 'assail', 'cetus', 'slanders', 'fyre', '46:9', 'bethpeor', 'smothered', 'mainstream', 'inkstand', 'righted', 'methought', 'transcend', 'slaps', 'deformed', '28:8', 'taanach', 'flyest', 'perseverance', 'accepted', '100k', 'variety', 'zerahiah', 'becomes', 'laer', 'upbeat', 'deprecated', 'raillery', 'straining', 'dyes', 'conversed', 'bits', 'gravity', 'stumbled', 'dictate', 'pacifying', \"ask'd\", '27:43', '26:44', 'malays', '55:4', 'nativity', 'finishing', 'steeped', 'redound', 'gluttonous', 'blackstone', 'expands', 'zadok', 'detestation', 'associates', 'guilt', 'glance', 'casualties', 'cataracts', 'procedure', 'iudgements', 'lillys', '15:56', 'genteel', 'opal', 'twere', 'employ', 'subjection', '22:52', 'shaveh', 'forenoon', 'digged', 'nobody', 'manning', 'amours', 'amazon', 'rumble', 'throbbings', 'vault', 'crab', 'affidavit', 'mire', 'unsearchable', 'barricade', 'storms', 'canary', 'eddies', 'invested', 'reinstate', 'curtsied', 'companionableness', 'disagreeable', 'reigns', \"renew'd\", 'affinity', 'girdling', '36:9', 'rum', 'recollections', '21:12', 'inability', 'blacks', 'shirt', 'flirtation', 'stephanas', 'frontier', \"rack'd\", 'island', 'privation', 'tob', 'sleepe', '7:37', 'chanting', '23:27', 'gad', '36:19', 'electoral', 'hillary', '32:13', 'cavern', 'bawl', 'raw', 'disturbing', 'incarnate', 'affected', '22:22', '58:5', 'concession', 'haughty', 'offers', 'despaired', 'flock', 'tries', 'twos', 'arsenal', 'norms', 'steadiest', 'sceptical', 'doorstep', 'buoys', 'samantha', 'revived', 'due', 'lacke', 'toned', 'gorgonian', 'dream', 'shrivelled', 'voluble', 'flatterers', 'our', 'populous', 'slipped', 'dropping', 'rattlesnake', 'playedst', 'hedgehogs', 'astonied', 'suits', '2:4', 'quinta', 'cathnes', 'inducements', 'requite', 'charges', 'landsman', 'wheelbarrow', 'legislation', 'as', 'settles', 'ash', 'countryside', 'copyright', 'ovation', 'thummim', 'colour', 'talkest', 'canadian', 'wheel', 'onions', 'wrestlemania', 'important', 'chick', 'infringement', 'moans', 'circumcision', 'centre', 'benefit', 'forthwith', 'chicago', 'cockade', 'steak', 'enormously', 'unprepared', 'accurate', 'levity', 'poor', 'purifications', 'sped', 'practised', 'eloping', 'de', 'pontius', 'laving', 'interpretations', 'vnfixe', 'speed', '29th', 'ceiling', 'hierarchies', 'ephesians', 'banner', 'lula', 'housekeepers', 'ban', 'invitation', \"sign'd\", 'camping', 'braines', 'consistently', 'distanced', 'shabbethai', 'jungfrau', 'zanoah', 'duncan', 'synod', 'oven', 'grudge', 'orchestra', 'righteousness', 'dipped', 'jersey', 'shield', 'increaseth', 'ears', 'heap', 'pyramids', 'conformed', 'cap', 'briskness', 'thine', 'gobbled', \"thank'e\", 'contributes', 'famish', 'clovenfooted', 'flynt', 'riseth', 'inaccurate', 'assertion', 'hinted', 'farre', 'apologies', 'bangladesh', 'bennington', 'quilt', 'submarine', 'seagrass', 'vigorously', 'overhung', 'vast', 'feels', 'dinhabah', 'gent', 'flutes', 'disbanded', 'challenging', 'reformation', '15:10', 'slum', 'launching', 'making', 'fork', 'bleeding', 'chilion', 'performe', 'grandmother', 'dinah', 'eliashib', 'recognised', 'snubs', 'portending', 'hazarshual', 'turnout', 'sequent', 'disingenuous', '15:15', 'pshaw', 'tunbridge', 'eldaah', 'dreame', 'affect', 'destroying', 'gospel', 'conceited', 'sooth', 'sentimentally', 'surprizes', 'galilee', 'warmer', 'engulfed', 'scrambles', 'eate', 'atmosphere', 'pollsters', 'greefes', 'rid', 'speechless', 'compromising', '6:27', 'immature', 'unsay', 'chusing', 'expulsion', 'meribbaal', 'dumah', 'rabbit', 'anti', 'steeles', 'hostility', 'pales', 'hurry', 'dating', 'ifaith', '19:47', 'hail', 'obsolete', 'bernie', 'nuee', 'entrapped', 'elect', 'parsee', 'halt', 'waistband', 'trivial', 'unable', 'baggage', 'mother', 'wrap', 'require', 'spicer', 'yellow', 'kissed', 'leaner', 'gold', 'verses', 'manoeuvres', 'grisly', 'bots', 'intervened', 'way', 'chuckled', 'dreading', 'sennacherib', 'store', '           ', 'laudable', 'engrave', \"stain'd\", 'bered', 'messrs.', 'stept', 'surged', 'exported', 'largest', 'grin', '46:22', 'lack', 'whirls', 'cult', 'softening', 'xx', 'cheney', 'auoid', 'invocation', 'dayes', 'walking', 'worthiest', 'vary', 'pint', 'calling', 'joking', 'tippet', 'likelier', 'pawse', 'claudio', 'tunnel', 'conduct', 'about', 'fogs', 'gedaliah', 'spilled', 'condo', 'blandishments', 'admitting', 'cooking', 'conceive', 'hollyhocks', 'bab', 'safely', '28:3', 'neere', 'brushed', 'trumper', 'phenomena', 'forwards', 'unaided', 'inhabiters', 'quarries', 'gulls', 'powdering', 'surgeon', '4:19', 'tambourine', 'clamors', 'sizzler', 'mast', 'cotes', 'pursuing', 'ox', 'lowly', 'sexuality', 'jarrett', 'partner', 'impresses', 'leathern', 'bethuel', 'carbuncles', 'metaphysics', 'secluded', '31:52', 'essex', 'hungry', 'spurn', '40:32', 'rattling', 'reliques', 'jephunneh', 'seeke', 'proclaimed', 'transcription', 'ethnic', 'forerunner', 'kisses', 'mantling', 'walnuts', 'rhododendron', 'hezronites', 'repugnant', 'zelek', 'unforeseen', 'lauren', 'cantabile', 'affrighted', '18:37', 'veracity', 'shrewd', 'dust', 'overtook', 'shimeath', 'naue', 'concerned', 'might', 'navel', 'monarchies', 'vet', 'measures', 'barack', 'darksome', 'fastings', 'greater', '38:13', \"whisper'd\", 'were', 'delirious', 'phrase', 'steale', 'liking', 'acquittal', 'imnah', 'screwing', 'punchbowl', 'dangling', 'harlequin', '12:1', 'osiris', 'edomite', 'expressions', '36:22', \"vs'd\", \"splinter'd\", 'inelegant', 'dexterously', 'falsehoods', 'frames', \"pour'd\", 'happened', 'straight', 'disputing', 'mossy', '19:45', 'snowed', 'peale', 'ways', 'painful', 'historicall', '400', 'platonic', 'prize', 'taunt', 'dictating', 'begun', 'ashan', 'incarnation', 'gash', 'wolfe', 'alter', 'lena', '6:67', 'damascus', 'magnanimous', 'deckedst', 'places', \"saw'st\", 'requiem', 'grip', 'damnation', 'clowds', 'inwards', 'stump', 'shown', 'slung', 'invented', 'betrayers', 'overshot', 'gently', 'explosive', 'orthodox', 'disappointing', 'her;--and', 'involuntary', 'whisper', 'personage', 'impart', 'gnasheth', \"thou'lt\", 'cocaine', 'fails', 'weather', 'creed', 'sameness', 'bridled', 'collected', '30:26', 'tinker', 'retracing', 'tidiness', 'liars', 'shoemaker', 'vices', 'keith', 'logician', 'colours', 'yeare', 'corridor', 'obdured', 'needs', '22:39', 'princes', '55:6', 'funder', 'sceptre', 'houer', 'topaz', '16:7', 'voids', 'summoned', 'arise', 'flagons', 'coretta', 'overlay', 'hereabouts', 'worlds--', 'conscious', 'ryans', 'foreknowledge', 'sharks', 'poise', 'robed', 'indictments', '11:6', 'ween', 'complaisance', '26:25', 'halfpence', 'colnett', 'pail', '19:31', 'insensibly', 'isolatoes', 'aspired', 'spotless', '27:42', 'stash', 'bespeaking', 'quohog', 'trolled', 'properly', 'seals', '6:43', 'prosperous', 'unasked', 'ready', 'repeal', 'springeth', 'forgiveth', '95', 'stagger', 'pitbull', 'unexampled', 'mall', 'iran', '29', '48:19', '2:22', 'domes', 'elishama', 'crouched', 'carnation', 'sloane', 'stood', 'clanking', 'impressions', '21:45', 'childlike', 'rapier', 'plato', 'beholdeth', 'humbled', 'undertaker', 'pistols', 'rejoined', 'stunned', 'huffington', 'tresses', 'angrily', 'affirmed', 'dashcam', 'biased', 'cals', 'uninsuredrepublican', 'jaffa', 'lameness', 'feel', 'jailbird', 'productive', 'residency', 'versions', 'clasp', 'open', 'preet', 'peece', 'hamlets', 'laboring', 'disappears', 'hud', 'monk', 'diss', 'sucked', 'christie', 'accurately', 'manent', 'liued', 'gibeonite', 'metled', 'betokened', 'balcony', 'standeth', 'earneth', 'unpleasantness', 'intermix', 'eliah', 'boats', 'miraculous', 'perennial', 'antilles', 'smiled', 'shrub', 'noting', 'debt', 'toth', '16:39', 'domain', 'enabled', 'besieged', 'cellphone', 'policemen', 'neziah', 'principalities', 'used', 'kitty', 'vocalism', 'digestion', 'cabman', 'aquila', 'outrage', 'scurrying', 'girl--', 'parapet', 'risen', 'peor', 'sac', 'augmented', 'grecian', 'deserues', 'unrelieved', \"ribb'd\", 'chicken', '31:37', '42:19', 'mazhar', 'corp.', 'brand', 'gained', 'gayety', 'mahershalalhashbaz', 'inconsiderable', 'implements', 'than--', 'spike', 'cetacean', 'delicate', 'bru', 'swears', 'spreadeth', '17:6', 'jets', '7:9', 'swallowed', '39:30', 'cryptocurrency', 'symphony', 'jammed', 'hungarian', 'repeating', 'maddening', '12:15', 'hurrahs', 'massachusetts', 'singly', '41:20', '10-day', 'surge', 'ashantee', 'exclusions', 'indorsement', 'prankster', 'sinking', 'fore', 'bravado', 'propped', 'haughtily', 'irish', 'ask', 'restoring', 'wool', 'feedest', 'stealth', 'prodigies', 'line', 'rapt', 'dost', 'injected', 'nieces', 'shootings', 'classic', 'archippus', 'possibly', 'necho', 'bush', 'total', 'baptist', 'hands--', 'royal', 'temer', 'stability', 'mutineer', 'louis', '48:20', 'kompromat', 'plainer', 'nahath', 'carest', 'belie', 'spoyle', 'scorpion', 'thoroughfares', '9:26', 'sways', 'aid', '24:39', 'before--', 'boarders', 'thistles', 'proceedeth', '4:47', 'virginia', 'din', 'gaba', 'scaramucci', 'withered', 'determination', '10:25', 'congealed', 'warping', 'curtain', 'resent', 'genealogy', 'peep', 'france', 'gulf', 'handfuls', 'lockers', 'fountaine', 'brier', 'sideboard', 'discourse', 'invisible', 'horseponds', 'inkhorn', '48:31', 'plumping', 'heavenly', 'imports', 'them!--and', 'iphone', 'amp', 'blinds', 'seduce', 'reposed', 'appaim', 'terminated', 'perceiving', 'swims', '23:28', 'where', 'tiers', 'harper', 'glimpse', 'explores', 'visitings', \"peril'd\", 'vnderneath', 'superstitiously', '2013', 'piercing', 'comprehensive', 'handsomest', \"pul'd\", 'drugmakers', 'north', 'garland', 'fb', 'rioting', 'prophecies', 'admirer', '32:17', 'exhaust', '28:38', 'indirectly', 'overwhelmed', 'origin', 'knowne', 'durable', 'givers', 'flay', 'proverbially', 'blindly', 'dissipated', 'city', 'layeth', 'grizzled', '26b', 'infectious', 'understandings', 'gamesome', \"may'st\", 'saxon', 'snowflakes', 'rifled', 'video', 'mellowing', 'plighted', 'decorum', 'burgundy', 'neighbors', 'system', 'red', 'patriarchs', 'avenge', 'statute', 'jogged', 'gluttons', 'underrated', 'someday', 'mountain', 'sessions', 'authorities', 'teachings', 'wrestlings', 'torment', 'beaten', 'reade', 'fragment', 'iranians', 'bailey', '18:2', 'provides', 'humbleth', 'felicities', 'either', '66:17', 'knewest', '50:18', 'vipers', 'usurp', '12:49', 'auntie', 'lyme', 'renting', 'bosh', 'abandon', 'sweeten', 'jealousies', 'copulation', 'sprawl', 'elinor', 'gowne', 'hikes', 'lemuel', 'with', 'bowels', 'doubted', 'singing', 'poplars', 'vacuum', 'exposing', 'forty', 'singer', 'confounded', 'malicious', 'leprous', 'loth', 'enos', 'solicited', 'depot', 'knowes', 'masses', 'pitched', 'wapping', 'bani', '63:10', '4:7', 'staccato', 'gloriously', 'streetlight', 'imprint', 'clams', 'worthless', 'superbly', 'clang', 'solitudes', 'pods', 'ninety', '63:7', 'shkreli', 'disturbance', 'spire', 'tombigbee', 'mikloth', 'wading', 'fedallah', 'piped', 'seducing', 'programme', 'plenteousness', 'expects', 'nkorea', 'illustrious', 'lair', 'residence', 'exaggerative', \"awak'd\", 'index', 'b.', 'vehicle', 'fealty', 'bane', 'daunted', 'collect', 'controlling', 'vindication', '22:37', 'passive', 'weinstein', 'green', 'sensations', 'insensibility', 'plowing', 'whelmed', 'proue', 'toyles', 'windpipe', '49:2', 'claim', 'saw--', 'the', 'repute', 'centaurs', 'distrusted', 'surface', 'elliots', 'sunset', 'serenely', 'pigmy', 'reign', 'slanted', 'mortifying', 'repentant', 'highnesses', 'blasts', 'jehiel', 'wynn', 'centered', 'profounder', 'kit', 'irs', 'tinged', 'fray', 'tucker', 'winds', 'jargon', 'removal', 'unicorn', 'laundering', 'dot', 'quotation', '7:58', 'winks', 'hydrogen', 'railroad', 'panteth', 'deposited', 'sonnes', 'poyson', 'dungeons', 'nhs', 'wolves', 'bandstand', 'birthdays', 'wheels', 'deviation', 'divinely', 'atonement', 'buttocks', 'clear', 'saddened', \"gather'd\", 'boomerang', 'destiny', 'collation', 'belongeth', 'magnetism', 'laughest', 'obstinate', '29:21', \"'em\", 'missed', 'pancras', 'crescent', 'latin', 'siberian', 'surest', 'chaises', 'cush', 'complement', 'marines', '7:30', 'progresse', 'fearfully', 'differ', 'dwarfed', 'whittling', 'mimic', 'lapped', '32:35', 'fault', 'tests', 'december', 'confirming', 'poised', 'undertook', 'thrifty', 'shuffled', 'cracks', 'drawest', 'dinghy', 'fourth', 'successful', 'kir', 'summary', 'jars', 'iudge', 'babylon', 'gestation', 'warming', 'siloam', 'anticke', 'awaiting', 'ekron', 'uselessly', 'shecaniah', 'completes', 'ungenteel', 'semicircular', 'indictment', 'nuke', 'shortage', 'soothes', 'aha', 'healthiest', 'puissance', 'quote', 'fishmonger', 'strangeness', 'watchdog', 'certify', 'emptier', 'appeared', 'adelaide', 'noisy', 'setting', 'opinions', 'showered', 'gunmen', 'dies', 'hickory', 'dealer', 'tribulations', 'spouse', '45:16', 'redeem', 'execs', 'roast', 'firebrand', 'congratulation', 'rebelled', 'krusenstern', 'gottlieb', 'ballads', 'revealeth', 'twelfth', 'zidonians', 'waterward', 'vicky', 'nibble', 'susanna', 'unloose', 'excitements', 'redwing', 'unreproved', 'lucian', 'rang', 'immoveable', 'grieve', 'affectionate', 'chooses', 'harbinger', 'bun', 'seaweed', 'sciences', 'peculiarities', 'handspikes', 'cornaro', 'sharif', 'grew', '16:31', 'dense', 'shaketh', 'determinate', 'buffaloes', 'sleeve', \"elton's\", 'costa', '5:25', 'accent', 'hadad', 'tilleth', 'regular', 'multiform', 'heritage', 'vttered', '57:4', 'rims', 'examine', 'hirah', 'rationalist', 'rudy', 'drowning', 'frontlets', '52:10', 'distillation', 'immutable', 'mourns', 'projecting', 'ideals', 'practising', 'elegancies', 'oho', 'coma', 'cornell', 'spouted', 'strives', 'monday', '5:19', 'giulio', 'stylish', 'remembering', 'mockers', \"crush'd\", 'comforting', 'careworn', 'macaroons', 'create', 'anxious', 'grooming', 'mr', 'sence', 'covet', 'friendship', '                                              ', 'stalked', 'hetty', 'unacquainted', 'imitation', 'memphian', 'mideast', 'bickering', 'enrique', 'concentric', 'sandberg', 'leaders', 'proverb', 'seductive', 'foundries', 'despatch', 'caterpillers', 'vs', 'iconium', 'professions', \"confess'd\", 'comforted', 'brindled', 'swarming', '39:6', 'superficially', 'additions', 'eu', 'comey', 'fashter', 'brain', 'binds', 'counselled', 'bog', 'rehob', 'roof', 'hereditarily', 'veteran', 'plunder', 'subpoenas', 'smith', \"deferr'd\", 'innovations', 'sown', 'footmen', 'steering', '6:36', 'hastily', 'emblem', 'villagers', 'equator', '27:17', 'majors', 'groaning', 'towered', 'mother--', 'vouchsafe', 'manifested', 'snuffdishes', 'nowadays', 'avaricious', 'simultaneousness', 'engage', 'reins', '24:35', 'warden', 'shortened', 'sparing', 'bracelets', 'abinoam', 'goodness', 'warmeth', 'gestures', 'impotently', \"unreach'd\", '7:25', 'elizabeth', 'pecked', 'missile', 'lounging', '36:34', 'possibilities', 'berrying', 'spot', 'niphon', 'tusk', 'fortified', 'yee', 'saturn', 'azekah', 'muzzles', 'bedfordshire', 'cables', 'batteries', 'damaging', 'spermacetti', 'laodicea', 'magnify', 'theology', 'sewers', 'ampler', 'dagger', '34:6', 'climates', 'feudal', 'circumnavigation', 'rad', 'chosen', 'knead', 'dots', 'norland', 'apply', 'faintest', '21:3', 'vulture', 'sedulously', '29:26', '13:28', 'nxp', 'umbrella', 'read', 'hickenlooper', '12:43', 'ethel', 'indissoluble', 'foxnews', 'foure', 'ninth', 'potipherah', 'chase', 'chewed', 'adorable', 'vs.', 'denominated', 'impulsively', \"contain'd\", 'strangers', 'memphis', 'symbolised', 'brake', 'courses', 'privileged', '41:3', 'wall', 'vestments', 'milo', 'road', 'steaming', 'escaping', 'plowed', 'starboard', 'vicissitude', 'schoolmistress', 'likened', 'drops', 'imputed', 'garage', 'crater', 'crashing', '9:38', 'nevada', 'doubtingly', 'partake', '8:2', '10:10', '26:43', 'cartwright', 'airbnb', '1:10', 'overtake', 'hadst', 'spring--', 'lave', 'invoke', 'tithing', 'raises', 'insert', 'anyways', '49:5', 'grains', '26:13', 'disannul', 'threshingfloor', 'suburb', 'humanities', 'victual', 'boxing', 'iephta', 'godless', 'reconciliation', '18:21', 'pheasant', 'baalhanan', 'expresse', 'devout', 'furniture', 'summit', 'adonibezek', '22:47', 'contempt', '12:19', 'fainthearted', 'foxes', 'magistrates', 'melted', 'jakim', 'bashfulness', 'airily', 'averting', 'leather', 'defiles', 'zemaraim', 'perdition', 'party', 'whizz', 'superior', 'winded', 'vitiated', 'swarms', 'cravats', 'sexta', '10:9', 'barbarians', 'squadron', 'hewn', 'limping', 'delineations', 'stoneman', 'rehoboam', 'better.--', 'dazzled', 'berg', 'thinketh', 'thanking', '28:28', 'maintains', '14:35', '21', 'libidinous', 'augur', 'possible', 'lost', 'holier', 'sidon', 'ounce', 'errands', 'polling', 'vanquisher', 'true--', 'confers', '16:41', 'excessively', 'swordstick', 'unsuspicious', 'wales', 'boy', 'assignments', 'palmy', 'cubits', 'hearty', 'gozan', 'cop', 'winne', 'physiognomical', 'villainous', 'discerning', 'gum', 'vowed', \"labour'd\", '26:6', 'biting', 'composition', 'kusher', 'indignantly', 'bar', 'nobler', 'volumnius', 'scar', 'levied', 'precepts', 'cinna', 'latest', 'report', 'giue', 'timbrel', 'handsome', 'galleries', 'nicety', 'fearlessness', 'unfastened', 'tunes', 'nobleman', 'unconcerned', 'roasted', 'succor', 'stablished', 'guides', 'galway', 'tireless', 'odorous', 'madai', 'her', 'asylums', 'predominance', '52', 'shoots', 'perhaps', 'jarred', 'hasty', 'unfriendly', 'wellpleasing', '’s', 'pipeline', 'lured', 'ahilud', 'shuhamites', 'tallest', 'manson', '10:44', 'zedad', 'festive', 'inhale', 'kehelathah', 'exceptionally', 'migrating', 'princess', 'guestchamber', 'kee', 'surnamed', 'existing', 'pesant', 'broidered', 'hivite', 'curre', 'language', 'charles', 'transactions', 'rick', 'bressed', 'kurds', 'heroism', 'recorders', 'overthrown', 'dishonoureth', 'sagacity', 'breathlessly', 'jovial', 'gard', 'serug', 'intolerant', 'orators', 'infra', 'volcano', 'revises', 'broke', 'sooner', 'confession', 'zimmah', 'vince', 'formeth', 'fir', 'thornberry', 'outlandish', 'charmed', 'philosophers', 'affluent', 'begger', 'balks', 'quarrelling', 'jahveh', 'foule', 'obeyeth', 'sweetbread', 'impresse', 'sprightly', 'boarder', 'jehonathan', 'bench', 'nigeria', 'hosed', 'credulous', 'sumatra', 'inky', 'swelled', 'given', 'greco', 'tenants', 'lewd', 'deserve', 'faile', 'kenites', 'roote', 'overdone', '52:15', 'mene', 'short', 'remarks', 'fireman', 'demons', 'sold', 'finisher', 'scraped', 'blasphemer', 'ale', 'unconquered', 'ahmed', 'daniels', 'whcd', 'spiro', 'convulsive', 'sowed', 'palestine', 'capitol', 'statue', 'disappointments', 'skald', 'kith', 'paternity', 'oyster', 'doubts', 'austere', 'sucklings', 'barbarous', 'castaway', '42:9', 'painfully', 'glutton', 'ribbons', 'pestilence', 'jozadak', 'exmoor', 'promises', 'velvet', 'sage', 'worketh', 'her.--this', 'iroquois', 'flown', 'burke', 'gps', 'bishop', 'rung', 'sepharvaim', 'briar', 'anaiah', 'incomprehensible', '19:32', 'melodramatic', 'gradually', 'remonstrating', 'concise', '62:5', 'defile', 'accomplice', 'toilet', 'different', 'potomac', 'ordains', 'banq', 'triumphs', 'thanksgivings', 'onanist', 'fake', 'reputed', 'overhand', 'soundly', 'delay', 'adulting', 'tinkling', 'nagorno', 'epaulette', 'scholars', 'himalayan', 'splendidly', 'labors', 'cheever', 'jaguars', 'stalls', 'murky', 'repeatedly', 'beats', 'supt', 'embalmed', '52:1', 'speciall', 'presage', '32:22', 'heartedness', 'fact', 'talkative', 'indeed!--but', 'athenians', 'common', 'n.f.l.', 'pretence', '18:41', 'ignorantly', 'prairies', 'parisian', 'wildly', 'hat', 'epic', 'strides', 'finance', 'melchi', 'eyed', 'ingrateful', 'stock', 'crop', 'furies', 'unobserved', 'mutually', '7:1', 'ftp', '34:19', '43:9', 'combined', 'knight', \"balk'd\", 'unpaid', 'warmth', 'jabez', 'idolaters', \"dishearten'd\", 'detachment', 'chest', 'bonds', 'aereal', 'cosin', 'band', 'diapason', 'incidents', 'reputation', 'alternatives', 'telegraph', 'fisheries', 'rash', 'traits', 'lodged', 'threadbare', 'cemetery', 'bubble', 'binnacle', 'starbucks', 'spurres', '37:15', 'recovery', 'lurching', '47:21', 'executed', 'awoke', 'choppers', 'zebedee', '14:11', '41:18', 'colonnades', 'metoo', 'stung', 'consummation', 'vineyards', 'shrill', 'scraggy', 'paused', 'loom', 'chanter', 'breastplates', '63:1', 'fisher', 'toward', 'tubes', 'pushed', '7:47', '59', 'behaving', 'dressing', 'sums', 'epical', '42:3', 'bennett', 'confusing', 'widows', 'principals', 'incorruptible', 'overpowering', 'stops', 'agreeing', 'recompence', 'brandishing', 'dare', 'aglow', 'ai', 'absolutely', 'gratefully', 'borrowing', 'solitarily', 'detailed', 'frontman', 'stiffening', 'ceres', '2:02', 'hillocks', 'handful', 'embarrass', 'tabitha', 'existence', 'arisen', 'removeth', 'diurnal', 'impartiality', 'perishing', 'transformation', 'inferiors', 'incidental', 'sleepes', 'servest', 'niagara', 'consumptive', 'stealthy', 'major', 'contagion', 'fables', 'drills', 'blackguard', 'mouths', '5:23', 'inferiour', 'pregnancy', 'warehouses', 'prods', 'offset', \"o'ryan\", 'hedwig', 'spirited', 'guise', 'randomly', 'unchanging', 'dayspring', 'entranced', 'flieth', 'blue', 'sagacious', 'choirs', 'reeled', 'puddle', 'lockets', '18:30', 'musket', '9:30', 'leaving', 'devoting', 'bell', 'pigs', 'priestly', 'footsore', 'typhoon', 'capitols', 'charms', 'prevent', 'filling', '12:48', 'shirr', 'of', 'cautious', 'bad', '34:30', 'runnes', 'savoury', 'unapparent', 'written', 'informing', 'chamois', '46:24', 'sprained', 'hie', 'whaleman', 'ethan', 'folio', 'fanatical', 'lighten', '43:26', 'ultimate', 'esq', 'feverishly', 'pounding', \"can'st\", 'richness', 'unrequited', '21:44', '6:65', 'indeed', 'slightly', 'pour', 'raine', 'exploiting', 'highness', 'lamppost', 'harmonies', 'kentuckian', 'syllables', 'jabbering', 'choosest', '23:14', 'cyrus', 'imbecility', 'arsacides', 'whereon', 'smoothe', 'stumble', '21:4', '13:10', 'naturalist', 'asserted', 'tekel', 'fearing', 'melt', 'heaven', 'cylinders', \"suffer'd\", '19:21', 'old', 'saline', 'violence', 'nero', 'waile', 'obed', '--thomas', 'unfeigned', 'burned', 'hesperian', 'aries', 'professional', 'belfry', 'cilicia', 'amuses', 'birthplace', 'bumpkin', 'f', 'soo', 'transgression', 'geber', 'cher', 'internal', 'bails', 'parmacetti', 'rustle', 'whisky', 'paddled', 'fancied', '57', \"undimm'd\", 'stript', 'disk', 'michmash', 'nineteen', 'cernan', 'gills', 'correspond', 'napkins', 'hemmed', 'wand', 'ever!--huzza', 'captured', 'largeness', 'tightly', 'clasps', 'phantom', 'levee', 'decided', 'equipage', 'see', 'treading', 'uranium', 'vp', 'gogol', 'depicts', 'dedication', 'inexpressible', 'discreetly', 'subject', 'comers', 'escape', 'deemed', 'pallidness', 'strung', 'february', '3:38', 'undeviating', '9:45', 'mouing', 'oppressing', 'cannoneers', 'decency', 'unwary', 'yeeld', 'ponderings', 'imperfection', 'therefore', 'wells', 'lifeless', 'impaired', 'prioritize', 'polynesian', '4:10', 'tarquin', 'piggy', 'falser', 'since', 'tie', 'resolutions', 'waterside', '8:17', 'thoroughly', 'finances', '30:12', 'belmont', 'interpretation', 'settlements', 'grimly', 'annamaria', 'coasts', 'jahaz', 'joshua', 'ithamar', 'conjunction', 'jarha', 'madly', 'brat', 'valves', 'shochoh', 'stammered', 'prophesied', '70-year', 'hooks', 'conjecture', 'outstretching', 'destroyest', 'emir', 'battle', 'hide', 'revengeth', 'pasturage', 'tornadoes', 'compassionate', 'succeedest', 'afternoon', 'bahurim', 'trundling', 'eclipsed', 'inquired', 'freshet', 'auxiliary', 'pliny', 'healthful', 'loveliest', 'alemeth', 'swaths', 'partisan', 'discuss', 'secresy', 'lobsters', \"warm'd\", 'wicket', '31:8', 'intrigue', '1:7', 'bunger', 'sauntered', '31:23', 'proposal', 'artificial', '200', 'matrix', 'millstones', 'customers', 'narwhale', 'zur', 'fireboard', 'guildensterne', '22:48', 'disengage', 'equity', 'panes', 'suspicious', 'dissolving', 'burgomaster', 'trucks', 'crier', 'brexit', 'drawing', 'perceiue', 'cabby', 'neighbor', 'chastening', 'rand', 'slaughterhouse', 'rheumatism', 'refreshed', 'dominations', 'crayfish', 'fuss', 'me!--', '28:19', '37:10', 'veranda', 'needfull', 'coffee', 'distressed', 'disciples', 'skulk', '1:37', 'apologetic', 'expatiate', '--holland', 'pilgrimage', 'danced', 'receiver', 'grandeurs', 'avites', '9:28', 'oliveyards', 'tis', 'jeroham', \"th'art\", 'rhododendrons', 'nothings', 'gracefully', 'pomegranates', 'prayers', 'action', 'hazael', 'imparts', 'disclaimer', 'tongued', 'estimating', 'towns', 'diary', 'liketh', 'tossing', 'pekod', 'vamps', 'valuable', 'retreats', 'deer', '29:9', '30:7', 'stiffen', 'supposed', 'listed', 'maute', 'mouthful', '4th', 'balmy', 'emma', 'sendest', 'questioning', 'bemoan', 'connecting', 'unwaning', 'gleamed', 'gaiety', 'migron', 'referring', 'saviour', 'senselesse', 'hoof', 'pitchers', 'singapore', 'commander', 'warned', 'significant', 'osama', 'inlaid', 'panels', 'shattered', 'naturall', 'diminution', 'nazareth', 'incense', 'sterns', 'thunderbolt', 'alma', 'unbuild', 'controversy', 'brave', 'odor', 'brahmins', '12:36', 'robbed', 'least--', '50:17', 'fcc', 'cousins', 'distribute', 'aaronites', 'sicily', '55:5', 'kittim', 'illusions', 'barbary', 'bernice', 'crept', 'confidently', 'oprah', \"one's\", 'muddle', 'smacks', 'aromas', 'snowing', 'ruefully', 'reminds', 'then', 'bounds', 'bulked', 'jackson', 'seraphims', 'protester', 'unclosed', 'deeds', 'dame', 'crisis', 'hunter', 'uss', 'sunshine', \"refus'd\", 'nay', 'stayes', 'occupy', '20:47', 'materials', 'f--', 'variation', 'offending', 'hangeth', 'notch', 'convey', 'weakeneth', '52:7', 'shipmen', 'marine', 'jihadist', 'teacheth', 'breasting', 'yellowstone', 'alligator', 'hayter', 'cairo', 'tiller', 'goings', 'evening', 'dearest', 'hides', 'greeted', 'zoned', 'confuse', 'minstrel', 'legal', 'enuious', '30:10', '18:7', '18:27', 'strooke', 'withholden', 'solicitous', '15:29', 'blair', 'globe', 'taps', 'zso', 'required', '61:4', 'draining', 'code', 'forms', 'persecution', 'crusader', 'slight', 'deletes', 'use', 'beelzebub', 'intermission', 'brasen', 'misgivings', 'continent', '31:26', 'armagnac', \"darken'd\", 'hymning', 'poising', 'jury', 'economic', 'nonce', 'such', 'develops', 'panorama', 'soaked', 'consecutive', 'symbolic', 'attitudes', '32:27', 'blew', 'dwarf', 'qualification', 'evaporate', 'unhealthy', 'helek', \"chain'd\", 'vernal', 'adults', '66:18', 'commandments', 'lightened', 'adder', '23:41', 'tattered', 'enhances', 'squaw', '66:14', 'emprise', 'hoshea', 'pleaseth', 'prosaic', 'steve', 'dens', 'engineer', 'universes', 'issachar', 'wound', 'vexatious', 'ebronah', 'follow', 'endeavour', 'lavater', 'kislyak', 'crozetts', 'protested', 'stuarts', 'fin', 'carriest', 'clubbed', 'yea', 'gibeah', 'foreseeth', 'abib', 'liberalism', 'cutters', 'clenching', 'all', 'swede', 'unwarrantable', '45:20', 'dj', 'coterie', 'windes', 'sho', 'dismisses', '6:21', 'warre', '5:17', 'hearke', 'could--', 'voyager', 'opposed', 'adah', 'cossack', 'blowne', 'maliciously', 'emulate', 'recoils', 'justification', 'consideration', 'thoughts', 'dilemmas', 'sophereth', 'brass', 'sinister', 'massacres', 'advances', 'patroness', 'modi', 'unbuttoning', 'chasm', 'contribute', 'unusual', 'white', '14:52', 'radney', 'into', 'londoner', 'scandalous', 'hedgehog', 'commonplaces', 'wailing', 'spouting', 'chivalric', 'squash', 'avail', 'churchills', 'watry', \"journey'd\", 'part', 'companionable', 'encourages', 'enrolled', 'oscar', 'meddled', 'akrabbim', 'irrelevantly', 'swearing', 'cleanse', 'sorrowfully', 'merge', 'tiny', 'henrietta', 'modify', '37:19', 'probes', 'lashed', 'pendulous', 'fingers', 'controls', 'acorn', 'ahihud', '36:13', 'quitted', 'improve', 'dinosaur', 'sheeny', 'gadi', 'seed', 'adequate', '36:37', 'jair', 'directive', 'count', 'got', 'aspirations', 'whiter', 'sweareth', 'bewitched', 'santa', 'mowers', 'aroused', 'challenger', 'hardware', 'sneaked', 'moone', 'maryam', 'dissent', 'uttermost', 'winner', 'extasie', 'winston', 'scarcity', 'swordsman', 'unfruitful', 'discomposed', 'suez', 'indefinitely', 'conservative', '19:34', 'brilliant', 'tussle', 'formality', 'tremulous', 'burning', 'concurrence', 'sightlesse', 'inquisitively', 'unsuspected', 'symptom', 'obedience', '36:31', 'princesses', 'exquisitely', 'lydia', 'prevalent', 'haphazard', 'smoothness', 'rallying', 'dainties', 'zephon', 'cheap', 'deafened', 'hawkins--', 'micah', 'outlook', 'mystery', '47:15', 'capricious', 'phalanx', 'untellable', 'unwitting', 'marah', 'manner', 'racket', '49:30', 'beanstalk', 'jakarta', 'sufferer', 'sizes', 'deputed', 'herman', 'aforehand', 'basking', 'village', 'tradesman', 'underwater', 'kurdistan', 'suggestion', 'contrast', 'jairus', 'scarecrow', 'prosing', 'retarding', 'flushing', 'valparaiso', 'savours', 'undefiled', 'buckets', '7:18', 'trinity', 'cloke', 'scattereth', 'passed', 'choicest', 'bruite', '44:4', 'budapest', 'cessation', 'wellspring', \"travel'd\", 'zoar', 'enamoured', 'attempt', 'dumping', 'tamely', '19:43', '29:15', 'idleness', 'peace', 'distinction', \"in't\", 'flynn', 'deale', 'manners', 'rhea', 'shewes', 'parsley', 'lighters', '28:6', 'stick', 'depicting', 'conceives', 'relations', 'squint', 'oligarchs', 'inflammation', '46', 'arsacidean', 'tableaus', 'ratified', 'chimney-', 'scrawl', 'fortieth', 'abstained', 'muskrat', 'dismisse', 'amelia', 'shamed', 'pizzagate', '7:49', 'portal', 'hatita', 'bashful', 'terrorist', '23:18', '6:42', 'migdol', 'foundations', 'diversity', 'eiu', 'vomited', 'majesties', 'backfire', 'offend', 'poure', 'automaton', 'profane', 'pillow', 'sherebiah', 'retained', 'unactive', 'punctually', 'tempting', 'abeyance', 'accomplished', 'kiln', 'reeds', 'recognized', 'gabble', 'hieroglyphics', 'plowman', 'relief', 'outdone', 'vanisheth', 'sufficiency', 'franks', 'lease', 'preserved', 'haughery', 'scamp', 'ang', 'bravely', 'arrays', 'handlers', 'gentile', 'disengaging', 'merchant', 'prosper', '37:7', 'unreasonable', 'wafers', 'writing', 'librarian', 'requesting', 'apron', 'procession', 'concubine', 'agonizing', 'urbanity', 'swine', 'mischance', 'tabret', 'eyeing', 'officially', '44:9', 'forts', 'wafted', 'courtesy', 'clifton', 'hanging', 'horizontally', 'laborer', 'burglar', 'coverlet', '22:28', '24:38', '65', 'anticipatingly', 'conflagration', 'insure', 'marches', 'invulnerable', 'poorest', 'goads', '57:11', 'vulnerable', 'slights', '16:28', 'surpasses', 'lessons', 'edifices', 'operate', 'kohl', 'named', 'withstand', 'feelings--', 'gifts', 'transgressing', 'cauldron', 'hurries', 'lectures', 'lover', 'jetted', 'scaramouch', 'courtiers', 'astronomers', 'inspiriting', 'swalwell', 'riven', 'bankrupt', 'partaking', 'loitering', '34:31', 'displayed', 'peaceable', \"smear'd\", 'deferred', 'tutor', 'nerves', 'limitless', 'mete', 'crests', 'meribah', 'feelingly', 'plebeians', 'sheaves', 'drawling', 'rocked', 'incivility', 'selves', 'shrugged', 'insulting', 'depresses', 'book', 'serveth', 'daughters', 'pad', 'replacement', 'restricting', 'craftsman', 'witchcrafts', 'rice', 'dead', 'owned', 'quietly--', 'ouercome', 'peninsulas', 'mused', 'bitch', 'dynamics', '23:25', 'trove', 'continuance', 'prating', 'payments', \"lov'd\", 'basest', 'baptizeth', 'giues', '31:11', 'blights', 'vilde', 'tearmes', 'clergy', 'ar-15', 'waif', 'godhead', 'omniscient', 'resolue', 'annihilating', 'destroyer', '11:9', 'beholding', 'irradiate', 'amok', 'reposing', 'dubke', 'disease', 'maidens', 'degradations', 'spred', 'know', 'raphael', 'peeping', 'enterprising', 'bundled', '2:49', '48:27', 'shine', 'scalp', 'gayne', 'bishops', '52:12', 'backyard', 'air', 'rivulet', 'blake', 'peddle', 'medallions', '8:26', 'wearily', 'me.--i', 'contemplation', 'carl', 'playboy', 'childish', 'tuesday', 'familiarized', 'signified', 'fort', 'somehow', 'clothes', 'advanced', 'trumps', '58:8', 'baffling', 'whoever', 'decree', 'cowslips', 'sprouting', 'my', 'phrenologists', '37:23', 'belonging', 'squid', 'kneel', '11:29', 'decreed', 'locking', 'rubs', 'defended', 'mask', 'elaborately', 'hid', 'furnishing', 'attaine', 'locomotives', 'puff', 'positively', 'goes', 'challice', 'argus', 'turtles', 'espoused', '28:41', 'whorish', 'swastika', 'quality', 'saturday', 'plymouth', 'sword', 'leak', 'date', 'quivers', 'petty', \"and't\", 'touching', 'crossly', 'schumer', 'pitch', 'coup', 'scum', 'crosse', 'hollowly', 'divined', 'galliot', 'persuading', 'capeable', 'liveth', 'inflexibly', 'off', 'unnumbered', 'spangled', 'caused', 'fangs', 'ingratiating', 'wayne', 'chronicler', 'algiers', 'try', 'greenland', 'broadminded', 'reopens', 'induced', 'gentlewoman', 'brides', 'stormed', 'youths', 'bloodthirsty', 'organisation', '27:44', 'convocations', 'rampage', 'spars', 'sered', 'idlib', 'scent', 'hailing', 'chocks', 'recalling', 'bunny', 'cenchrea', 'shapeless', '7:67', \"vrg'd\", 'edited', 'hunch', 'crested', 'azgad', '30:9', 'roadside', \"strew'd\", 'satiety', 'asahel', 'curiosities', 'abominably', 'south', '15:20', 'epaminondas', 'ether', 'tinge', 'upper', 'cupbearers', 'sophy', 're', '6:15', 'numbering', 'peta', 'valor', 'binea', 'acquirements', 'owe', \"pass'd\", 'wharves', 'covering', 'instances', '7:73', 'listened', 'flew', 'sues', 'angus', 'bounteous', 'jehozadak', 'ocran', 'adjured', 'down', 'velvets', 'dissatisfaction', 'plummet', 'sleeplessness', 'delusional', 'kettles', 'warranty', 'sniper', 'promontory', 'damsels', 'spikenard', 'sloppy', 'manage', 'g.o.p.', 'bays', 'swart', 'benches', 'alphabet', 'fishy', 'remaliah', 'listeth', '19:9', 'pimples', '35:31', 'goblin', 'agreement', \"encamp'd\", 'locker', 'trill', 'ponderous', 'admirable', '8:30', 'thongs', 'blacker', 'sincerely', 'sailors', 'ousted', 'commencing', '13:4', 'orator', 'shedding', 'comic', 'shepherds', 'pattern', 'sweare', 'him?--', 'girls', '50:7', 'bulkhead', 'jacksonville', 'cachalot', 'unmixed', 'repairing', 'disconsolately', 'calais', 'age', 'attachments', 'naughtiness', 'enigma', 'fluke', 'lapsed', 'right.--', \"linger'd\", 'cole', 'breast', 'hawkins', 'ravished', 'crotch', 'carries', 'whispers', 'of.--', 'waggish', 'existences', 'causeway', 'eurosceptic', 'silicon', 'tend', 'hellish', 'knapsack', 'caricature', 'froward', 'ferry', 'stag', 'pastor', '25:37', 'twinkle--', 'likest', 'waxe', 'divide', 'obstacle', 'arabs', '15:37', 'malaysian', '13:22', 'respected', 'nt', 'infamous', 'broadcaster', 'deportees', 'wasting', 'ballynagrish', 'cling', 'employments', 'kamala', 'resounds', 'newt', '33:26', 'eunuch', 'harts', 'else', 'addressing', 'glean', 'centripetal', 'foretold', 'unreasonableness', 'mankind', 'knelt', 'supremacist', 'sussex', 'gift', 'feared', '26:27', 'distracted', 'rocke', 'uniter', 'nervous', 'genteelly', '35:22', 'unworthily', 'hoky', 'guarding', 'neskyeuna', 'entrailes', 'founded', 'gin', 'lusts', 'gay', 'recognize', 'herds', 'enveloped', 'wail', 'detention', 'coffin', 'governing', 'feet', 'alighting', 'borneo', 'characteristic', 'prudence', 'jerahmeel', '13:12', 'investments', 'tertia', 'weepeth', 'hichilema', 'tahitian', 'periodically', 'pronounced', 'corpse', 'thrashing', 'for', '20:5', 'sliding', 'l', 'flurry', 'nominates', 'neuer', 'helpeth', '20:33', 'limits', 'shittim', 'melts', 'parley', 'slap', 'emptiness', 'morbidity', 'at&amp;t', 'euils', 'not', 'texel', 'ipads', 'plug', 'indefensible', 'merari', 'collapsed', 'prosecutor', 'undressing', 'mooue', 'extolling', 'stripes', 'putnam', 'reg', 'troubadour', 'complaints', 'denmark', 'agh', 'maryland', 'steeply', 'militant', 'aholiab', 'insulted', 'twinkling', 'sets', 'unilateralism', 'irrepressible', 'rallied', 'outsourcing', 'girdeth', 'boaster', 'lastingly', 'violently', 'jackal', 'yelled', 'beheading', 'benighted', '2:11', 'restore', 'shavings', 'hutton', 'alexandria', '22:15', 'cease', 'immediate', 'presaging', 'rejected', 'chinese', 'emblazonings', 'stockinged', 'prescription', 'confided', 'begs', 'damn', 'motley', \"arriu'd\", '2:38', 'william', 'snorting', 'reject', 'hampshire', 'correction', 'restive', '40:36', '27:32', 'blasphemeth', 'harnessed', 'germaine', 'healthcare', 'inconsolable', 'issuing', 'insecurity', 'idioms', 'atlantic', 'newest', 'hullabaloo', 'dues', 'continuing', 'carbuncle', '28:1', 'all.--i', 'breakout', 'tragic', 'ahikam', '37:18', '5:18', 'stuffs', 'asparagus', 'graal', 'maturest', 'conducting', '2:7', 'prior', '29:20', 'bracelet', 'heiligwaldenstein', 'spring', 'mink', 'come', 'tertiary', 'ecstatic', 'admirals', 'extolled', 'easie', 'agabus', 'comforter', 'contemptibly', 'dated', 'tighten', 'exactly', 'forgetting', 'craftiness', 'doorways', '11:33', 'bellies', 'utmost', 'mischief', 'resignation', 'llewellyn', 'cousin', 'perturbations', 'ont', 'attributes', '27:5', 'requested', 'govt', 'host', 'hauing', \"seek'st\", 'handled', 'gliding', 'hideousness', 'cleere', 'cone', 'neighbourhood', 'unbolted', 'implement', 'fritters', 'remarkable', 'intercessour', 'interrupting', 'keene', 'grandmothers', 'scone', 'maul', 'idol', 'desperado', 'linda', 'receives', 'threepence', 'puzzled', '3,000', 'slay', 'me--', 'deceit', 'branch', 'say----', 'never', 'persuasions', 'hvalt', 'volt', 'tamerlane', 'creature', 'quills', 'sheep', 'forbid', 'immeasurably', 'endureth', 'speaks', 'nicer', 'coxes', 'ijon', 'omnes', 'eel', 'witness', 'purify', 'warships', 'bladed', 'antioch', 'greatly', 'disadvantaged', 'decidedly', 'fatiguing', 'degrade', 'activists', 'richardsons', 'hounds', 'barking', 'outlying', 'processe', 'lucia', '8:20', 'plucke', 'propagated', 'stedfast', 'smashes', 'gashes', 'capes', '14:29', 'roundabout', 'fiddler', 'erased', 'tekoite', 'frame', 'chephirah', \"hav'n't\", 'continually', 'artillery', 'mizpeh', 'swaying', 'scribes', 'hunts', 'projections', 'customs', 'baltic', 'rouge', 'bartlett', 'heedlessly', 'abraham', 'defends', 'audience', 'barbarisms', 'maltese', \"blanch'd\", 'pate', 'entangled', 'imaginative', 'gymnastic', 'prejudiced', '33:28', 'forborn', 'theologies', 'cabul', 'thanke', 'vulgar', '44:19', 'eases', 'outcasts', 'odors', 'huffpo', 'wizard', 'grooves', '33:17', 'husband', 'leafe', 'money', 'pol', 'fulfilment', 'solitary', 'trail', 'renowned', 'watery', 'hul', 'follows:--', 'inheriting', 'vatican', 'supple', 'slave', 'cripple', 'marvels', 'countrymen', 'cost', 'shivering', 'obviously', '7:68', '25:31', 'multitudinous', 'juicy', 'taints', '1:48', \"ordain'd\", 'participating', 'begged', '30:21', 'jeconiah', 'aunts', '55:8', 'spoon', 'incorporated', 'exploits', 'admired', 'benevolently', 'swallows', 'blocks', 'speckled', 'meaning', 'raking', 'seen', '45:6', '12:31', 'wove', 'philippi', 'but', 'authoritarianism', 'signalled', 'philosophies', 'heldai', 'adelphi', 'biscuits', 'thinks', 'accompaniment', 'selected', 'cobbling', 'changes', 'subscribed', 'indeed.--she', 'badness', 'sickly', '40:10', 'tunnels', 'issue', 'malignity', 'disregarded', 'iraqi', 'icicles', 'adoring', 'prevention', 'kedar', 'zered', 'prospereth', 'tekoah', 'arrogant', 'extremely--', 'pedee', 'now;--', 'negligence', '14:8', '38:11', 'sang', 'journalists', 'demon', 'plaine', 'ancients', '19:1', 'chair', 'bandage', 'strongest', 'seyton', '31:19', 'doggedly', 'save', 'undersecretary', '27:24', 'gregory', '4:9', 'its', 'pelaiah', 'pershing', 'delete', 'helmets', 'welding', 'nisroch', 'libertad', 'immense', 'moulder', 'magazine', 'craues', 'drowned', 'stories', 'rooms', '26:36', 'tikvah', '41:24', 'fifteen', 'bats', 'feebleness', 'tallying', 'disguises', 'yelling', 'meridian', 'arsenals', 'olds', 'regale', '14:33', 'ant', 'practices', 'announces', 'susan', 'lining', 'bildad', 'weares', 'jackasses', 'hempen', 'suspend', 'behooves', 'hive', 'ruminated', 'moons', 'considerately', 'ordained', 'shelley', 'hallo', \"remain'd\", 'sacar', 'coronet', 'eyther', 'expedient', 'vntill', 'winketh', 'clamorous', '20:28', '7:2', 'fornicator', 'venome', 'demoralized', 'weld', 'strata', 'withereth', 'woodhouse?--i', 'enjoys', 'til', 'countervail', 'lizza', 'donald', 'oughtest', '1839', 'curtains', 'tipped', 'amain', 'disparity', 'convocation', 'trottoirs', '31:24', \"blabb'd\", 'tout', 'households', 'mortifications', 'resign', 'reuerence', 'organization', 'swap', 'rendezvous', 'intercourse', 'selfies', 'list', 'pulpit', \"ye've\", '58', 'anchor', 'manservant', 'reef', 'purge', 'hilkiah', '9:51', 'o’keefe', 'professing', 'alwayes', 'hips', 'splendor', 'counterspies', 'forgotten', 'permit', 'comet', 'peña', 'westerly', 'madhouse', 'sputnik', 'rebuilding', 'shots', 'sharper', 'grassley', '24:45', 'rap', \"betray'd\", 'aerial', 'ambitious', 'hardeneth', 'browed', 'makes', 'soros', 'punish', 'slumbers', 'september', 'smart', 'sallow', 'sweetness', 'spindle', 'amongst', 'penetrated', 'reserve', 'charming', 'intense', 'canal', 'netophathites', 'tertius', 'winking', 'unnecessary', 'ki', 'prompts', 'adders', 'eri', 'reasons', 'tortures', '62:2', 'backer', 'earns', 'belike', '21:9', 'inacio', 'responsible', '13:16', 'nailing', 'wednesday', 'contemn', 'revolved', 'aboundeth', 'mab', 'weeny', 'doddering', 'urijah', 'lab', 'vnion', 'advisors', '26:26', 'backing', 'humoured', 'scraping', 'infinity', 'smuggled', 'owner', 'peopled', 'verb', 'hurt', 'shrimping', 'sneaky', 'pinnacle', '26:5', 'pious', 'tallied', 'option', 'mull', 'imperfections', 'kin', 'admeasurements', 'froth', 'naturalists', 'wiry', 'elegant', 'skin', 'inaguration', '3:31', 'discomfited', 'timnathserah', 'foretells', 'exhorted', 'specific', '66:20', 'incorporeal', 'loued', 'eidolon', 'thitherward', \"train'd\", 'innocent', 'adverse', 'daggoo', 'cramer', 'obi', 'struggling', 'girdle', '15:27', 'fog', 'pulled', '3rd', 'supremacy', 'sergei', 'deep', \"wee'l\", 'sorceries', 'campus', 'hindermost', 'enormousness', 'owners', 'collars', 'inventions', 'bichri', 'meagre', 'evolving', 'nighest', 'plants', '22:29', 'artificers', '49:16', 'davos', 'rimmonparez', 'imposes', 'torpid', 'christian', 'peers', 'mediation', 'bye', 'ruthlessly', 'ascends', 'fall', 'milton', 'specksynder', 'on', 'athletes', 'hauling', 'dwellingplaces', 'malice', 'holder', 'mouldy', 'claire', '106', '9:2', 'varieties', 'despiseth', 'abortive', 'wiretap', 'endanger', 'euerie', '1:6', 'loaf', 'extraordinary', 'uneasiness', 'sal', 'putin', 'typical', 'ensign', 'ukraine', 'inadequate', 'roughness', '12:27', '20', 'fences', 'drone', 'uncle', 'memorandum', 'men', 'jove', 'glanced', 'propaganda', 'sleepers', 'birch', 'gnash', 'pastrycook', 'compacts', 'enclose', '15:1', 'beech', 'fourteen', 'enclosed', 'evolved', 'sloping', 'eyeless', 'indistinctly', 'astounding', '600', 'inure', 'orchards', 'tremendous', 'femme', 'riotous', 'sustenance', 'bearded', '48:25', 'françois', 'pneumonia', 'treasurers', 'buxom', \"harden'd\", 'merging', 'disobedient', 'nitrous', 'scorn', 'buried', 'leanness', 'billows', 'haft', 'holidays', 'fearest', 'calved', 'polishing', '4:28', 'jehoiarib', \"work'd\", 'crusade', 'disallowed', 'ads', 'coverest', \"swell'd\", 'emulation', 'mingling', 'sexual', 'bosoms', 'german', 'lap', 'interlude', 'pelisse', 'picked', 'bitten', 'colbert', 'ram', 'victorious', 'split', 'surly', \"express'd\", 'kabzeel', 'future', 'caroling', \"absorb'd\", 'barbs', 'abandoned', 'moreouer', 'wrest', 'chicha', 'funded', 'gathering', 'cracke', 'quarrelsome', 'monarch', 'riposted', 'toilings', 'interests', 'identifying', 'grigory', 'wander', 'billiard', '26:21', 'medals', 'outbreaks', 'missive', 'scampered', 'insists', 'forwardness', 'transposed', '41:4', 'byrnan', 'revised', 'yew', 'bandboxes', 'smells', 'persecutors', \"impon'd\", 'bribed', 'bony', 'sin', 'blotting', 'opprest', 'armenia', 'organized', 'regulation', 'critical', 'chatter', 'yojo', 'alias', 'times', 'touched', 'fines', 'various', 'thing.--', 'liberall', 'definite', 'preference', 'affronts', 'overseas', 'trod', 'inappropriate', 'gilboa', 'investigators', 'watering', 'hereunto', 'visits', 'canted', 'violetta', 'embattled', 'assuring', '23:32', 'woken', 'omen', 'conjectural', 'fillets', 'tucking', 'mariners', 'baited', 'narrow', 'newes', 'dreadfull', 'rufus', 'sir', 'grizzly', 'nam', 'provoking', 'millions', 'zion', 'carpenters', 'potted', '20:23', 'gaily', 'revenger', 'cleanly', 'highly', 'vibrated', 'planed', 'realities', 'enthusiastic', 'orchestrating', 'cooling', 'grades', 'cruelly', 'subdues', 'states', 'precipitous', 'fec', 'blacky', 'champing', 'drama', 'tobijah', 'nevertheless', 'catching', 'attained', 'guggenheim', 'unaffectedly', 'reviewed', 'nattering', '46:12', 'overtime', 'drumme', 'hoods', 'assai', 'distract', 'larded', 'larks', 'edomites', 'emetic', '40:13', 'bereaved', 'zucker', 'perry', 'spoons', 'lappeth', 'huzzaing', 'mettle', 'triest', 'requireth', 'moseroth', 'garters', 'hersel', 'deplorable', 'fruitful', 'perisheth', 'education', 'cafe', 'drest', '23:8', 'tv', '20:29', 'dotty', 'yarn', 'lift', 'methodically', '32:28', '23:23', 'holding', 'weaknesse', '22:19', 'waft', 'bondmaid', 'corruptible', 'moluccas', 'ink', 'cellars', 'plows', 'appar', 'concede', 'england--', 'calms', 'beam', 'venture', 'pitiable', '1:2', 'still', 'nourishment', \"coffin'd\", 'borrower', 'rascall', 'environ', 'zeal', 'contemptuous', 'poorer', 'newsletters', 'tomorrow', 'magnets', 'soldiers', 'practise', 'crumbs', 'brun', 'disciple', 'see!the', 'strifes', 'ungracious', 'all--', 'peru', 'lehabim', 'shooting', 'chasticement', 'jaalam', 'affairs', 'ironically', 'salcah', 'sixteen', 'burnes', '66:8', 'pleased', 'hardening', 'unfathomable', '20:22', 'poet', 'departeth', 'sensible', '24:41', 'sucker', 'ponies', 'wage', 'geography', 'conspicuous', 'sabotage', 'collins', 'rollicking', 'turpentine', '14:44', '         ', 'aaa', 'gera', 'camest', 'earthy', 'horrify', 'noblest', 'epaulets', 'saintly', 'maggie', 'abashed', 'sorcerers', 'publican', 'compliance', 'telleth', '56:5', 'hailstones', 'macduff', 'natur', 'informant', 'forgot', '41:31', 'disclosing', 'prying', 'supremes', 'inhuman', 'zeruiah', '22:23', 'poniards', \"wish'd\", 'signifying', 'response', '9:8', 'capering', 'thare', 'trespass', 'souls', 'in', 'murmurings', 'moralists', 'jake', 'marchers', 'californians', 'boulnois', 'bladder', 'ennui', 'casiphia', 'cigarettes', 'mum', '14', 'studied', 'bloodshed', 'and', 'surmise', 'frightened', 'crumpled', 'securities', 'disney', 'stove', 'bombardment', 'bivouac', 'congressmen', 'bombings', 'nestling', 'inserting', 'tarsus', 'startling', 'duodecimo', 'defamation', 'historic', 'suit', 'libertine', 'shovels', 'preview', 'depressed', 'overflowed', '14:27', '900', 'se', 'tongue', 'imperiall', 'corrupt', 'hospitalized', 'secure', 'stank', 'remedy', 'expresses', 'decayeth', 'india', 'crudely', '56:2', 'bleached', 'dummies', 'updates', 'grilled', 'danger', 'tympans', 'menace', 'clashing', 'houghed', 'yours', 'couching', 'f-35s', 'frenchman', '18:19', 'indebted', 'retaliation', 'feign', 'unimportant', 'redeems', 'cocoanuts', 'hammon', 'homeward', 'assumption', 'zachariah', 'stretch', 'booker', 'veil', 'them,--', 'hindoo', 'destination', 'sat', 'releases', 'airth', 'collectively', 'enough', 'unrighteous', 'disclosure', 'begettest', 'stateliest', 'everywhere', 'ruminating', 'lighting', 'render', '35:30', 'illimitable', '16:24', 'domineering', 'wailings', 'labourers', 'illness', 'sutors', 'clouts', 'insipid', 'below', '47:6', 'watching', 'watched', 'shuah', 'necessaries', 'draper', 'pleadeth', 'eager', 'quarrell', 'growth', 'calmly', 'scattered', 'parcels', 'filigree', 'travellers', 'marble', 'italians', 'explained', 'temperament', 'dented', 'perplexities', '44:20', 'striding', 'fast', 'truant', 'zimbabwe', '38:8', 'repast', 'staffer', 'medes', 'opaque', 'transportation', 'forbad', 'crowing', 'looks', 'agitation', '50:1', 'scandals', 'langsdorff', 'monotonous', 'waxes', 'tackles', 'serfs', 'mosul', 'destroyers', 'revenue', 'assisted', 'hauocke', 'footage', 'regards', 'punctuality', 'publicity', 'redouble', 'barrenness', 'fatalities', 'withall', 'inevitably', 'monopolising', 'lecture', 'jerusalem', 'and----', 'responds', 'obliged', 'surprise', 'tahpanhes', '14:50', 'savages', 'sloth', \"deceiv'd\", 'heights', 'verily', 'pleadings', 'libni', '38:14', 'utterly', 'wonders', 'candlestick', 'padan', '2:16', '36:11', 'bobby', 'elle', '3-day', 'garnished', 'rondure', 'clung', 'parching', 'sacrificing', 'mainyard', 'cowardly', 'evinced', 'unc', 'kish', 'fish', \"lipp'd\", 'relieve', 'inclined', 'favourably', 'crack', 'benejaakan', 'leave', 'paints', 'after', 'plentiful', '25:18', 'expanding', 'exhibit', 'portions', 'funding', 'heaped', 'nuclear', 'tychicus', 'pit', 'redeeming', 'heedful', 'three', 'nantucketer', '34:5', 'idolatry', 'demands', 'musick', 'eton', 'shoe', 'fissure', 'hogg', \"should'st\", 'deliciously', 'feares', 'ecstasies', 'roamed', \"talk'd\", 'imputable', 'outgrown', 'askest', '7:22', 'mostly', 'shewest', 'heauen', '44:16', 'jashub', 'evolution', 'panted', 'foundered', 'useful', 'teazing', 'languid', 'schoolmasters', 'nutriment', 'corpulence', 'begot', 'external', 'bobbins', 'suspects', 'promised', 'prologue', '24:18', 'subsidies', 'perfected', 'aesthetically', 'hec', 'accoutrements', '35:20', '33:16', 'glittering', 'suckling', 'warred', '38:24', 'uneasy', 'complains', 'ephlal', 'bubbled', '49:32', '15:55', 'agonized', 'site', 'innocents', 'bigots', \"buoy'd\", 'predestinate', 'por', 'learned', 'cycle', 'bendeth', 'l100,000', '16:38', 'noisome', 'row', '49:25', 'resume', 'tithes', '20:20', 'counties', 'shocked', 'haires', 'ideas', 'pathogens', 'spectator', 'sideways', 'flowers', 'asleepe', 'commemorates', 'highbury', 'catch', 'drunkard', 'wacko', '2nd', 'jostle', 'upsetting', 'elms', 'leeward', 'contemptible', '25:13', 'fanned', 'dying', 'zaccai', 'reprove', 'arid', 'axes', 'lodgings', 'anomalously', 'lest', 'exasperating', 'seuen', 'throes', 'euro', 'behaved', 'metres', 'minutes', 'beg', 'burger', 'composure', 'poured', 'esther', 'swaddling', 'depression', 'muttered', 'lazily', 'shortest', 'slowdown', 'recollect', 'another', 'consists', '2:32', 'helmet', 'sashes', 'ahohite', 'nightgown', 'supposing', 'scalloped', '33:14', 'hanger', 'charger', 'hatchways', 'week', 'son', 'friesland', 'obdurate', 'speak', 'tents', 'accessions', '11:47', 'p.f.', 'baser', 'swim', 'women', 'thrusting', 'deacon', '30:8', 'braids', 'vertically', 'chains', '27:45', '7:43', 'amend', 'heitkamp', 'listener', 'sovereign', 'mithcah', 'flushed', 'readinesse', 'sex', 'it;--but', '32:19', 'conversable', 'stonest', 'exuberant', 'moccasins', 'cubic', 'circumcised', 'vanquished', 'abiding', 'described', '43:12', 'thoughtfulness', '65:6', 'signe', 'apoplectic', 'parlor', 'ibhar', '31:53', 'cypress', 'compromise', 'hostile', 'argob', '28:39', 'trolling', 'undergo', 'indomitable', 'booth', 'holiday', 'considerations', 'michelle', 'feete', 'defector', '37:9', 'compliments', 'wasserman', 'betraying', 'outburst', 'except--', 'alt', 'began--', 'dmz', '19:19', 'rugged', 'hbcus', 'hoax', \"hee'l\", 'closet', 'devotion', 'strikes', 'countermemo', 'preferring', 'toe', 'crockery', 'departed', 'hysterical', 'uglification', 'laburnum', 'nukes', 'arbathite', 'sift', '2:44', 'earners', 'turtledove', 'twain', \"impress'd\", 'adding', 'unnearable', 'unrecognizable', 'gossip', 'known', 'mine--', 'scheme', 'gentle', 'looming', 'visual', 'wow', 'digging', 'mountaineer', 'reforming', 'robes', 'atlantick', 'mahalath', 'the[m', 'crackdown', 'beets', 'cherries', 'nawaz', 'successively', 'youth', 'tacks', 'abrupt', 'beatrice', 'heareth', 'sacrificial', 'exhilarating', 'delusion', 'foolishness', 'supremacists', 'arrange', 'bordeaux', 'sleeves', 'swallowing', 'concentrate', '36:2', 'achaz', 'reprieve', \"be'ind\", 'precisely', 'unsettle', 'croud', 'fuels', 'unconnected', 'brazen', 'renard', 'foyles', 'mustered', 'crushes', 'witty', '24:36', '58:10', 'perez', '43:14', 'jumps', 'bands', 'modification', 'prenatal', 'exercises', 'vulgarity', 'disclaimers', 'needful', 'flummery', 'cleverest', 'environs', 'here--', 'energetic', 'feather', 'destined', 'arthur', 'vindicated', '26:9', 'sweetly', 'deserved', 'pawns', 'restored', 'despairing', 'traders', 'nephew', 'fanatics', 'mosque', 'misguided', 'ascertaining', 'dears', 'besor', 'eldad', 'aran', 'primary', 'bile', 'lamentations', 'flamingo', \"remov'd\", 'thereof', 'sykes', 'ethiopian', 'strips', '39:26', 'flashes', 'overpowered', 'gaue', 'perseus', 'stays', 'conflict', 'chaotic', '3:44', 'weal', 'iota', 'lads', 'aul', 'fawned', 'paw', '27:6', 'dull', 'assemble', 'superscription', 'trains', '88', 'xv', 'finds', 'axle', 'memos', 'mandate', 'kid', 'vaunt', 'plum-', '8:13', 'reigneth', '38:12', 'libra', 'liability', 'half-', 'answerable', 'cultivate', 'water', 'defeated', \"if't\", 'resident', 'chose', 'cowdray', 'embryon', 'apostles', 'audibly', 'cheered', 'whines', 'primer', 'sagging', 'impressively', 'tribal', 'unwearied', 'pleasures', 'josaphat', 'thinke', 'inflexible', 'sluices', 'azor', 'recklesse', 'querulous', 'imperturbable', 'wo', 'swarthy', 'celestial', 'decorated', '18:12', 'golan', 'yaw', 'tauntingly', 'rapine', '30:27', 'pepper', 'stringing', 'paunch', 'tiberias', 'feeling', 'overspread', 'bouquets', 'annuities', 'jihad', 'relentless', 'duterte', '23:1', 'shutting', 'tormented', 'politician', 'atwood', 'underworld', 'yacht', '17:23', 'mattithiah', 'supercilious', 'speakest', 'adore', '35:19', 'crime', 'addresses', 'hazy', 'indignation', 'dubosc', 'i.e.', 'pleasanter', 'scribbles', 'cane', 'potent', '46:17', 'caucasus', 'cured', 'welcomed', 'crucified', 'soothsayer', 'proposals', 'detours', 'ahlai', '22:26', 'parody', 'impetuously', '17:35', 'petroleum', 'primus', 'swollen', 'shreds', 'turkish', 'plowdon', 'james', 'yeeres', 'dispraise', 'incline', 'brutally', 'wheedled', 'panelled', '65:12', 'shoving', '3:30', 'sleeue', 'zelotes', 'unmitigated', 'keel', 'wild', 'stem', 'm', 'frogs', '45:18', 'wallowing', 'goodwin', 'ogre', 'jaazer', '24:52', 'harpooned', '15', 'vpward', 'enemy', 'seers', 'opened', 'profitable', 'powell', 'backpage', 'relay', 'correct', 'brigades', 'commanding', 'journeymen', 'stringed', 'exceeding', 'limelight', '31:7', 'hallooing', 'spelt', 'safety', 'plummets', 'impendent', 'flat', 'slumber', 'lo', 'regarding', 'belus', 'ineffably', 'section', 'daylight', '44:5', 'termed', 'jada', 'reverie', '39:5', 'complimented', 'sulked', 'impunity', '4:30', 'brutus', 'euer', 'worsted', 'omri', 'lionel', 'cascade', 'consecration', 'enthroned', 'zealous', 'improbable', '18th', 'lowers', 'cubit', 'elbe', 'contemplating', 'reproaching', 'ithream', 'mayest', '49:12', 'seraph', 'emphatic', 'fair', 'hero', 'outlaw', 'camerado', 'engrafted', 'insupportable', 'whim', 'truths', \"loued'st\", 'opiate', 'conducts', 'spectre', 'lakeman', 'azariah', 'aram', 'disquieted', 'turret', 'herself', 'incredible', '51:12', 'linking', 'wot', 'fibre', 'zerubbabel', 'applauded', 'inaction', 'luz', 'odoriferous', 'houses', 'biscuit', 'housetop', 'explicit', 'sedentary', 'insulated', 'employment', 'extent', 'endued', 'rephaiah', 'gayest', 'glasses', 'imitated', '7:14', 'paces', 'decked', 'unpunished', 'affraid', 'endorses', 'jehohanan', 'attribute', 'prophetical', 'leane', 'fantasy', '30', 'burgers', 'blanc', 'zoba', '32:14', 'tepco', 'associated', 'apparition', 'booke', 'bamboo', 'asaph', 'penury', 'love--', 'mistah', 'obseruance', 'heate', 'comprehensible', 'wormwood', 'crumb', 'skripal', \"ol'\", 'mammon', 'frailest', 'availing', 'warm', 'deborah', 'objecting', 'ibzan', 'applauding', '10:48', 'assistants', 'juggling', 'wert', 'mine', 'impenitent', 'waved', 'humped', 'indemnity', 'slayer', 'vacancies', 'pharisees', 'machinery', '27:35', 'publick', 'greener', 'acknowledgement', 'sails', 'disarmament', 'clowd', 'pursuer', '13:2', 'triumphant', 'meddle', 'reproof', 'drumming', 'sion', 'arguing', 'habitant', 'swearers', 'amaze', 'timor', 'historical', 'appointment', '1.34', 'cataclysm', 'objected', 'bon', 'emerging', 'dodged', 'driven', 'copestone', 'harme', 'ruines', 'rattle', 'afflictions', 'tension', 'fighter', 'takes', 'descry', 'away', 'eo', 'exchanges', 'shops', 'lowland', 'mens', 'mic', 'unsightly', 'dairies', 'ability', 'meted', 'getteth', 'swedish', 'symmetrical', 'ruder', 'continuous', 'oppression', '4:17', '21:23', 'effuse', 'kenite', 'deadline', 'cuckoo', '21:10', '12', 'loveliness', 'assist', 'mounted', 'lists', 'undertaking', 'impelling', 'shapely', 'whosoever', 'spluttered', 'wrapped', 'treaty', 'domesticity', 'perfections', 'nipple', 'contended', 'hand', 'cassius', '23:43', 'subtile', 'district', 'blackberries', 'eterne', 'subordinates', 'barkos', 'gathered', 'carmi', 'brazil', 'earnestness', '21:27', 'vantage', 'sudanese', '1:24', 'stickytoes', 'ment', 'performances', 'twelue', '                  ', 'presides', 'lanterns', 'sevenfold', 'gentlemanlike', 'brushing', 'boasting', 'grievousness', 'cecil', '35:15', '13:13', 'rosetta', 'valiant', 'dr', 'pitching', 'tube', 'striketh', '1:17', 'rattles', 'cheapest', 'necklace', 'incongruity', '59:16', '60:9', 'thankes', '45:4', 'longest', 'broader', 'increased', '44:21', 'whisker', 'quantities', '26:46', 'tablecloth', 'antagonist', 'joab', '26:39', 'emails', '62:4', 'darted', 'unconsciousness', 'interest', 'restorative', 'cowper', 'triggers', 'tiptoe', 'trudeau', 'manoeuvring', 'dissatisfied', 'rev.', 'calculate', 'truest', 'negroes', 'dabs', 'palate', 'maroon', 'languished', 'resemblance', 'odours', 'periods', 'prospects', 'creeps', 'filipino', 'prettier', 'poo', 'unveiled', 'quantity', 'pointing', 'samson', 'exec', 'mushites', 'entitled', 'seminary', 'lobbyists', 'dilating', 'vnlesse', 'length', '                                                         ', 'decades', 'spared', 'grasp', 'neyther', \"obseru'd\", 'frightful', 'bounder', 'disinterred', 'filledst', 'courts', 'falzone', 'flocks', 'ahold', 'kings', 'assaulted', 'knee', 'demur', 'analytica', 'millennials', 'illuminating', '6:59', 'guitars', 'lustily', '2:1', 'play-', 'politico', 'magicians', 'watchings', '50:6', 'cozening', 'apathy', 'cockney', 'leasing', 'strait', 'roughs', 'torture', 'converted', 'yarns', 'accommodations', 'bestowing', 'lawyers', 'unspeakable', 'wended', 'benefits', 'tumbling', 'deede', 'sept.', 'today', 'indure', 'imbecile', 'fulham', 'divine', '3:11', 'faith', 'masterly', 'exclamations', 'considerate', 'embark', 'battled', 'elnathan', 'cleanness', 'wade', 'nazarene', 'paradises', 'carefulness', \"foil'd\", 'flees', 'oblige', 'jew', '49:10', 'ebbs', 'closest', 'contingencies', 'jetur', '17:41', 'faction', 'father', 'eagerness', 'show', 'prime', '                                           ', 'urbane', 'veterans', 'mouthfuls', 'sundown', 'otter', 'helam', 'excellently', 'staggers', 'carbines', 'chalk', 'chiselled', \"flush'd\", 'decisions', 'quaintly', 'gate', 'exerpts', 'downstairs', 'shod', 'fabric', 'benign', 'press', 'murdering', 'talked', '22:18', 'nigel', 'values', 'bard', \"reliev'd\", 'spoilt', 'affecting', 'amount', 'staving', 'shoulderpieces', '60', 'commencement', 'are--', 'choirul', 'joints', 'playfellows', 'tastes', 'honestie', 'recourse', \"o'er\", \"ingag'd\", 'bulb', 'aijalon', 'serving', 'chimneys', 'newcastle', '37:22', 'lydda', 'default', 'metal', 'guinea', 'jobab', 'stagnant', 'ringing', '20:13', 'kneels', \"arous'd\", 'emphatically', 'sound', 'incomparable', 'enlighten', 'dames', 'slate', 'permits', 'voted', 'waffle', 'treatise', 'blossoms', 'forgiveness', '43:27', 'wright', 'cafes', 'preliminary', 'soothings', 'guess', 'progress', 'drowsy', 'weibo', '16:29', 'antipodes', 'sue', 'suffered', 'allusion', 'melodious', 'again--', 'defying', 'huda', 'ire', 'unsullied', 'discloses', 'oblations', 'payed', 'answers', 'patrician', 'mincing', 'causing', 'bud', 'buildeth', 'involvement', 'riots', 'think', 'ditches', 'defileth', 'eye--', 'scabbard', 'dealeth', '18:3', 'eglon', 'pose', 'scores', 'obvious', 'absurdly', 'feminine', 'checked', '4:5', 'human', 'celerity', 'complexity', '8:24', '24:53', 'painless', 'limitation', 'ophe', 'mcdonald', 'awhile', 'heroick', \"answer'd\", 'seats', 'particularity', 'defiant', 'thump', '62:3', 'farthing', 'kirheres', 'benignant', 'studying', 'braver', 'renegades', 'attendants', 'ate', 'funereal', 'nightingale', 'notice', '27:46', 'mind', 'uproar', 'keels', 'singular', 'camell', 'transact', 'hailed', 'catastrophe', 'epistle', 'encrease', 'neil', 'shimei', 'consults', 'groomes', 'exposes', 'breeds', 'tire', 'eshban', 'played', 'beautiful', 'propels', 'disbelief', 'performance', 'highways', 'propose', 'pinch', '18:23', 'outwards', 'lunar', 'word--', 'grating', 'editions', 'sowest', 'teacher', 'shoote', 'confronted', 'addeth', 'fryingpan', 'anywhere', 'street', 'shut', '34:11', 'hateth', 'rove', 'speedily', 'doue', '7:32', 'troway', 'higbie', 'physician', '15:47', 'hopped', '27:20', 'accesse', 'brilliantly', 'kingdomes', 'bean', 'tiptop', '2.6', 'retrospect', 'tear', 'vivid', 'dreames', '31:49', 'articulate', 'bled', '13:19', 'wholesale', '32:36', 'leaking', 'dimpling', 'spied', 'ionia', 'draft', 'howling', 'maintained', 'hannah', 'unwarranted', 'moustaches', 'hooped', 'filibuster', 'combing', 'frankely', 'feebler', 'enthusiasm', 'sinai', 'starve', 'patriotism', '39:15', 'permitting', '53:1', 'discouraged', 'pilgrims', 'oaks', 'roofed', 'russet', 'phrenology', 'mown', 'conjurer', 'keep', 'dimmer', 'obnoxious', 'robinson', 'pikes', \"walk'd\", 'weston', 'gone', 'marke', 'disguised', 'tips', 'leade', 'portugal', 'seaman', 'fashioned', 'offall', 'fluent', 'thrill', 'alphabetically', 'block', 'disfigured', 'forced', 'sense', 'mortals', 'latitude', 'prepared', '19:16', 'buries', 'syndrome', 'pencilled', 'swashing', 'mexican', 'slices', 'rebellious', 'undulation', 'mildew', '41:14', 'frequenting', 'outside', '20:6', 'insensate', 'mattanah', 'asshur', 'recruit', 'southward', 'immortality', '16:43', 'savagely', 'manassites', 'wonder', 'decipher', 'habitants', '35:6', 'tane', '65:1', 'central', 'kinsman', 'complain', 'pedophile', 'invoked', 'irritably', 'volatile', 'sojourneth', 'presided', 'en', 'knot', 'alike', 'dawned', 'whirlpool', 'writest', 'jahzeel', 'degrees', 'petticoat', 'war', 'crowds', 'vnderstanding', \"develop'd\", 'snag', 'suspicions', 'whom', 'fleeth', \"hatch'd\", 'nazarite', 'vagabond', 'mackinaw', 'rueful', 'withdraws', 'comer', 'cloud', 'spurs', 'preventing', 'lunatic', 'trot', 'barber', 'accomplishment', 'steepest', 'sonic', 'cheating', 'bricks', 'stimulated', 'greets', 'indecency', 'exorcist', 'intruding', 'dukes', 'dales', 'mildest', 'these', 'startled', 'happiness', 'stiffly', 'sombre', 'walkout', '17', 'realm', 'upend', 'scruple', '51:5', 'marking', 'mean--', 'fowl', 'repenteth', 'effaced', 'contestants', 'sojourned', 'mexico', '22:2', '37:14', '24:10', 'inclinations', 'third', '35:33', 'battlement', '24:47', 'calumnious', '23:37', 'hodaviah', 'rossmore', 'arts', 'chanted', 'grain', 'smite', 'panamanian', 'cites', 'flowering', 'darkest', 'walkes', 'provincial', 'mccaskill', 'lilacs', 'centenary', 'emptive', 'righteously', 'sluggish', 'wearying', 'supply', 'narrower', '4:41', \"roll'd\", 'nicolaitanes', 'retrace', 'worthily', 'minced', 'persuadable', 'themselves', 'jehieli', 'tost', 'homage', 'refuse', 'bituminous', 'grander', 'attainable', 'planks', 'uri', 'patrons', 'complacency', 'cannot', '20:34', 'nomadic', 'jedaiah', 'bohemian', 'freely', 'archipelagoes', 'clearer', '24:48', 'ayme', 'delicacy', 'clenched', 'narrated', 'epigram', 'derive', 'animated', 'much', 'idolized', \"unclaim'd\", 'notorious', 'forborne', 'seniority', 'ghostly', 'maddens', 'conflicted', 'aggregates', 'profiteth', 'hurts', 'local', 'harmony', 'trustful', 'endeavors', \"glisten'd\", 'lane', 'hooked', 'distress', 'geshem', 'shadrach', 'available', 'answereth', 'trailed', 'ordered', 'mobs', 'sofa', 'spitefully', 'silversmith', 'playfully', '--or', 'heth', 'edifying', 'c.', 'blinking', 'philistines', 'transpose', 'emphasis', 'tabbaoth', 'consume', 'leaf', 'counterbalance', 'straw', 'untainted', 'almodad', 'neglecting', 'theoretic', 'emperors', 'appeased', 'redder', 'proclamations', 'redoubled', 'whaleboats', 'dirges', 'salads', 'extremest', 'centrally', 'impious', '3:42', 'cracking', 'baker', 'tarrying', 'thrice', 'applaud', 'tidy', 'flaunting', 'sixscore', \"poyson'd\", 'willoughby', 'tins', '202', 'front', 'adjoining', 'incorporate', 'dazzling', 'obligingly', 'finest', '15:35', 'porthole', 'stalks', 'debouch', '19:18', 'nafta', 'severest', 'rebut', 'diabolical', \"enamour'd\", '51:22', 'mead', 'crusted', 'consulate', '6:19', 'scattering', 'decisive', 'baronetage', 'battering', 'oui', 'praise', 'partisanship', 'abdon', 'envoys', 'desmarest', \"se'nnight\", '65:13', 'tyrant', 'slaying', 'eidolons', 'delineate', '58:4', 'renewed', 'sodom', 'diagrams', 'worship', 'heal', 'pharma', 'worst', 'yoake', 'disposing', 'dearly', '22:31', 'gon', 'darken', 'scissors', 'elemental', 'pardon', 'mistake', 'insomuch', 'meghan', 'route', '29:31', 'parrying', 'contact', 'gambles', 'mungo', 'shelumiel', 'accusing', 'covetousness', 'refute', 'heyer', 'enquired', 'incarnated', 'pathless', '22', 'dresses', 'mates', 'sophia', 'amramites', 'oder', 'seeming', 'discussion', 'pugilists', 'script', \"stretch'd\", 'stages', 'doer', 'enlargeth', 'baana', 'bethphage', '400,000', 'testifying', 'deformity', 'viewed', 'destructions', \"mourn'd\", 'prince', 'probation', 'zilpah', 'remit', 'abstinence', 'bewilderment', 'medeba', 'adonis', 'temperance', 'inboard', 'implore', 'norma', 'uppercross', 'avignon', 'thanked', 'trophimus', '35:1', 'applied', 'unendurable', '?', 'skirmishers', '40:11', 'colourless', 'bethlehemjudah', 'wist', 'twins', 'anarchists', 'cast', 'screwed', 'aim', 'coney', 'folds', 'guardianship', '19:35', '25:23', 'sequel', '50:2', 'dismissing', 'auction', 'ofttimes', 'running', 'bakbuk', 'implicitly', 'gathereth', 'safeguards', 'ivory', 'entrenched', 'marshal', 'onam', 'grandmama', 'shift', 'ravine', 'upward', 'optimist', 'who--', 'unite', 'navajos', 'respite', 'bronzed', 'churchill', 'strangely', 'seeth', 'roving', 'thickens', '94', 'pairs', 'xviii', 'fettered', 'razor', 'cruelty', 'hers', '1851', 'horrible', 'midst', 'zebul', 'songs', 'snatching', 'backers', '30:30', 'feignest', 'she.--', 'blindness', 'individuals', \"by'th\", 'vineyarder', 'beaches', 'cheefe', 'hotly', 'inscrutable', 'unharmed', 'maiesties', 'bade', 'austrian', 'plaister', 'unlock', 'auger', '                                                        ', 'victims', 'myeshia', 'brighter', 'ventriloquist', 'prouidence', 'slander', 'capitulation', '70', 'stroke', 'perillous', 'kadeshbarnea', 'kickshaws', 'texts', \"serv'd\", 'myrrh', 'bolivia', 'trial', 'fervour', 'bethmaachah', 'blending', 'artful', '21:41', 'mamre', '49:31', 'proudly', 'shaalbonite', 'persuade', 'dipt', 'idler', 'ransom', 'inseparably', 'exuding', 'puzder', 'acknowledged', '29:27', 'overlapping', 'custodians', 'engravings', 'owneth', '27:34', 'longstaple', 'editing', 'bigvai', 'pooley', 'tardy', 'enlightening', 'distributing', 'preferred--', 'out,--', 'sen.', 'draught', 'assenting', 'russ', 'helped', 'status', 'license', 'samuel', 'ague', 'sojourn', 'anarchy', 'hearings', 'whales', 'defray', 'mired', 'girlish', 'trafalgar', 'affair', 'raped', '23:40', 'subtilly', 'farther', 'legalization', 'solution', 'steadfast', 'flexes', 'rian', 'makers', 'tittle', 'dawning', 'bruise', 'resonant', '14:2', 'shly', '21:29', 'remainest', 'spokesman', 'searching', 'repealing', 'deceitful', 'vets', 'boosts', 'house', 'earthquakes', '52:6', 'peoples', 'comrades', 'hinds', 'idolater', 'mahlah', 'equifax', 'particularly', '62:1', 'recovering', 'province', 'wrenched', 'foundling', 'advertising', '44:15', 'omnipresence', 'grayheaded', 'zodiac', 'frontispiece', 'scanty', 'sticks', '2:34', 'cabs', 'peak', 'sows', 'collects', \"guess'd\", 'consolation', 'injure', 'manly', 'tattooing', 'simultaneous', 'entreaties', 'horeb', 'assurances', '235', '48:3', 'devils', 'handler', 'held', \"o'clock\", 'southern', 'laborious', 'sikh', 'uninsured', 'jim', 'happen', 'reckless', 'altars', 'grupello', 'woodpecker', 'undervalued', 'wheat', '8:44', 'perplexed', 'includes', 'carriages', 'percent', 'gentleman', 'lien', '17:25', 'pernicious', 'languishing', 'reference', '26:29', 'deed', 'fireworks', 'upset', 'shooter', 'crazed', 'corroborating', 'gentlemanly', 'wrists', 'formall', 'disgorge', 'covenant', '29:13', 'ablutions', 'unto', 'touches', 'nibbling', '9', '8:9', 'twisted', 'belgian', 'chafed', 'objections', 'heroically', 'bended', 'lamentation', 'alienate', 'suspecting', 'bogs', 'shaphat', 'wanderings', 'highlight', 'radically', 'gnarled', 'incurred', '41:30', 'rachel', 'shears', '15:19', 'inmate', '12:18', 'dow', 'deposition', 'abbas', 'breath', 'seuerall', 'can', 'dug', 'supports', 'among', 'bruited', 'helmeted', '9:13', 'quiver', 'powerless', 'cuffs', 'fitly', 'cutlasses', '12:14', 'sedition', 'penetrate', 'sadder', 'replying', 'cannon', 'gleams', 'jehoash', '2004', 'empathy', 'inspiration', 'ayre', 'debauchery', 'sake', 'warrior', 'queerer', 'geographies', '1791', 'greybeard', '15:34', 'scuttle', 'adullam', 'creepy', '8:50', 'surveillance', 'auoyded', 'horribly', 'motherly', 'ransacked', 'horridly', '8:52', 'toed', 'preston', 'ghetto', 'yearning', 'fancying', 'planets', 'forests', 'glows', 'navarro', 'inherit', 'transfix', 'physique', 'invaluable', 'denies', 'panniers', 'mite', 'whet', 'foreshadowing', 'leaue', 'subsided', 'big', 'infidelity', 'homeric', 'saying,--', 'flauius', 'changeful', 'decline', 'represent', 'it--', 'silencing', '25:19', '10:43', 'unsteadily', 'doat', 'awake', 'turned', 'harvest', 'mansoul', 'way--', 'publicly', '50:15', 'fiscal', 'which', 'halls', 'marlborough', 'insect', 'bureau', 'stand', 'siamese', 'put', 'tied', 'misunderstood', 'semblance', 'spaniels', 'egge', 'llama', '3:45', 'reapeth', 'idiocy', 'larry', 'astonishingly', '49:23', 'fang', 'eziongaber', '8:47', 'swarm', 'westworld', 'jubile', 'dial', 'prim', 'jihadi', 'seattle', 'breed', 'hezron', 'compasseth', 'enrich', 'unjustifiable', 'leaves', 'countries', 'personalities', 'wedged', 'interviewed', 'fooles', 'early', 'eddystone', 'help', 'vagrant', 'slumbrous', 'attachment', 'constructed', 'rico', 'qualified', 'ararat', 'fenced', 'supped', '6:64', 'menstruous', 'curseth', 'pourtrayed', 'hits', 'askance', 'finer', 'hushai', 'guido', 'cargoes', 'scuttled', 'mounting', '35:27', 'onan', 'confrontational', 'discusses', 'chief', 'warriors', 'edge', 'reporters', 'shunem', 'learn', 'keyhole', 'extracts', 'morsels', 'barons', 'minibus', 'space', 'stoppeth', 'debates', 'sweet', 'shaven', 'coiling', 'horims', 'consider', 'potion', 'maachathite', 'afghans', '41:27', \"shew'd\", 'marketh', 'indignant', 'nasty', '9:57', 'odds', 'obamacare', 'taskmasters', 'imperiously', 'heel', 'expect', 'zorobabel', 'vnderstood', 'clone', 'notion', '1.murth', 'fiery', 'prostitutes', 'narragansett', '2:15', 'amazingly', 'journals', 'discipline', 'emergencies', 'spool', 'boston', 'titles', 'hodges', 'worked', 'cawdor', 'piper', 'sheepfold', 'registry', 'subscribe', 'shrinking', 'denmarke', '’ll', 'nimbly', 'comparatively', 'rivers', 'hackt', 'tower', '41:34', \"'s\", 'officious', 'rivet', 'portrait', 'indicating', 'enthusiast', 'punch', 'passest', 'calves', 'journey', 'mood', 'tusked', 'bide', 'octauio', 'kudlow', 'unmasking', 'festoon', 'actor', 'mounttop', 'grappler', 'jewel', 'presumably', 'nazis', 'dross', 'chestnuts', 'greenwood', 'recognizes', 'rain', 'eliahba', 'brother', 'targeted', 'dismayed', 'hotel', 'revelled', 'appal', 'abbey', 'spiked', 'spite', 'nephews', 'xxiii', 'piss', '8:12', '3:33', 'sunlit', 'calkers', 'contested', 'steps', 'beseech', 'facts', 'remove', 'shines', 'dle', 'severe', 'dazzle', 'feathers', 'gilding', 'meant', 'effected', 'greyhounds', 'spooning', 'mincer', 'stoodest', 'kansas', 'amphitheatre', \"temper'd\", 'oriental', '20:2', 'steady', 'dashing', 'waver', 'handsomely', 'slily', 'briskly', 'glacier', 'unmindful', 'pouring', 'gait', '16:46', 'britain', 'papered', 'glick', 'droppes', 'dna', 'employees', 'meyers', 'headed', 'brickkiln', 'riblah', 'invasion', 'doctor', '9:9', 'tournament', 'silks', 'grated', 'news', 'asks', 'plaintive', 'portent', 'smooth', 'overpast', 'users', 'jaime', 'witchcraft', '39:25', 'spue', 'misleading', 'clew', 'chastened', 'found', 'fairfax--', 'lump', 'kissing', 'sentimental', 'insignificant', 'embrocation', 'especial', 'embarrassed', 'biteth', 'vocal', 'echoing', 'awaken', 'heated', 'gourds', 'gravitation', 'stricken', 'inextricable', 'separate', 'describing', 'tanker', 'counsellor', '13:48', 'muscari', 'replenish', 'begins', 'costliest', 'bale', 'partnership', 'qualitie', 'ipsos', 'baked', 'kant', 'robert', 'dirge', 'pollutions', 'inflict', 'sanitary', 'juice', 'manufacturing', 'metellus', 'cleansed', '9:31', 'jokshan', 'betsy', 'streak', 'rosse', 'studs', 'intuitions', 'ten', 'fresher', '23:21', 'desisted', 'manxman', 'mong', 'serene', 'fusing', 'catherine', 'cabos', 'unterrified', 'syene', 'sheriff', 'margery', 'purer', 'jashobeam', '7:3', 'flinging', 'surround', 'observances', 'enemie', 'hasting', 'counters', 'choke', 'stubble', 'lionlike', 'lunges', \"shadow'd\", 'presentment', 'burns', '61:8', 'quintessence', 'repel', 'shouts', 'hull', 'vetoes', 'practicing', 'convulsively', 'elam', 'hunks', 'density', 'turtle', 'mews', 'irma', 'triangular', 'midships', 'piercefield', '59:7', 'nashville', 'delightfully', 'cloake', 'shaded', 'summon', 'anthony', 'fund', 'prostrate', 'watchmen', '2050', 'masoned', 'cato', 'bbc', 'orphan', 'inflamed', 'means--', 'galilaean', 'selim', '7:38', 'doubloon', 'cloister', 'jet', 'midianites', 'expenses', 'summoning', 'noiseless', 'soul', 'unknowingly', 'destabilizing', 'grow', 'speakes', 'unsatiable', 'touted', 'posters', 'proscription', 'behinde', 'appeare', 'abstraction', '15:31', 'death', 'justling', 'opposites', 'earnestly', 'castles', 'associate', '41:8', 'contraceptive', 'purr', 'scene', 'rebellest', 'blinded', 'impropriety', 'truck', 'reince', 'unlearned', 'demonstrations', 'chasten', 'companions', 'winning', 'oratory', 'unseasonable', 'warbled', 'austin', 'tongues', 'doorway', 'lethargy', 'whew', 'horn', 'toppling', 'initiate', 'dickens', 'financier', 'encumbrance', 'infuriate', 'soda', 'geba', 'billboard', '9,103', 'honorable', 'outlines', 'motel', 'improving', 'witnessing', '21:34', 'womans', 'preposterous', '24:29', 'ottawa', 'tm', 'rubbed', 'unfamiliar', 'toss', 'charging', 'wouldst', 'evangelist', 'thinkings', 'differed', 'cover', 'tested', 'plentifully', 'atone', 'drudge', 'synagogues', 'sweeps', 'meshelemiah', 'savage', 'go', 'sellers', 'cavaliers', 'surrounds', 'rustling', 'chechen', '26:53', 'opacous', 'closing', 'propriety', 'rohingya', 'maze', 'dalroy', 'disciplined', 'profited', 'sam', 'sheshbazzar', 'forcibly', 'juliet', 'scornfully', '5:4', 'coles', 'lingered', '60:3', 'diplomatic', 'draweth', 'allude', 'soule', 'needes', 'loathsome', 'volunteer', 'it!--it', 'solidly', 'rescinding', 'bottomless', 'lasses', 'hit', 'carving', 'publicans', 'colleagues', 'memnon', 'goloshes', 'fountains', 'twirled', 'seizes', '29:4', 'taking', 'rewardeth', '2:37', 'bragges', 'arabah', 'shee', 'instructions', 'defeat', 'obstinately', 'ross', 'trusty', 'trundle', 'superlatively', 'pillar', 'jeiel', 'whelped', 'abnormal', 'brutes', 'northward', 'whirl', 'occurs', 'philippine', 'weight', 'penalty', 'alcoves', 'scamper', 'upstage', 'incumbent', 'injured', 'trident', 'haitians', 'workmen', 'priceless', 'complex', 'prophetess', 'constables', 'hitting', 'exists', '48:32', 'barlow', 'zambian', 'gastronomic', 'pihahiroth', 'impeachment', 'materially', 'puffs', 'bowing', 'trailblazer', '25:12', 'trusteth', 'nurseryman', 'dwindle', 'gentiloni', 'postman', 'accepts', 'cab', 'creation', 'corporeally', 'talebearer', 'unlawful', 'holdest', 'menacing', 'ethiopia', 'eltons', 'xix', 'visa', 'affronted', '48:12', 'semi', 'radio', 'lovers', 'me', 'abishai', 'abiel', 'wither', 'deficit', 'thunder', '26:60', 'shudder', 'combative', 'absorb', 'inexhaustible', '31:40', 'hower', 'titus', 'sihon', 'ake', 'settler', 'twitching', 'piebald', 'midget', 'jaywalking', 'decius', 'bark', 'lustrous', 'swamp', 'smilingly', 'bullock', 'spells', 'suited', 'vivacious', 'journalistic', 'misapprehension', '41:2', 'healthy', 'pink', 'slings', 'inobled', 'tyrolean', 'reservoir', 'intemperance', 'beate', 'petulance', 'foameth', 'hereof', 'spend', 'borrowers', 'weltering', 'pacified', 'mockery', 'reu', 'findes', 'failings', 'lunge', 'unbuckling', 'mur', 'scorned', 'citations', 'honesty', 'netophah', 'len', 'nantucket', 'unaccustomed', '49:24', 'funerall', 'door', '3:47', 'enshrine', 'promulges', 'creek', 'reminded', 'stipulate', 'extenuation', 'intel', 'limped', 'nogah', 'tweene', 'tugged', '23:31', 'palter', 'enrage', 'jr.', \"'ll\", 'consulting', 'montana', 'diminute', 'iot', 'crucify', 'pupils', 'jay', 'louisianian', 'st', 'sinkes', '11:39', 'design', 'solace', 'lookout', '33:19', 'sausages', 'jailed', 'compels', 'viewless', 'striving', 'consultation', 'unsupplied', 'butcher', 'strain', 'caressed', 'sailed', 'chilly', 'heedfully', 'drinkers', 'sneered', 'gladness', 'preachers', 'facile', 'cloven', 'naarah', 'wire', 'grim', 'incorrect', 'meads', 'maledictions', 'dreamer', 'shearing', 'jill', '2:50', 'spit', 'ix', 'redresse', 'allah', 'guidance', 'property', 'bert', 'fathom', 'greenish', 'riyadh', 'satisfaction', 'secunda', 'simplest', 'hies', 'spoonful', 'faulty', 'sacredness', 'microscopic', 'mercifull', 'plunges', 'glad', 'adapt', 'glades', 'wondering', 'springs', 'penuel', 'considering', 'storied', 'cards', 'behest', 'incumbents', 'muse', 'embarrassing', 'direction', 'jabs', 'peruvian', 'milk', 'molested', 'ridden', 'scena', 'matters', 'international', 'seizing', 'weird', 'freakout', 'united', 'recollected', 'bella', 'chambermaid', 'glumpe', 'rephaims', '37:17', 'combination', 'impetus', 'lard', 'suspiciously', 'accordingly', 'imponderable', 'unkind', 'sinks', 'portia', '49:19', 'reclaim', 'boys', 'escalade', 'slothfulness', 'attendant', 'strangled', 'foreheads', 'encamping', 'sultan', 'swings', 'bason', 'ahio', 'incites', 'pertain', 'furtherance', '17:39', 'reared', 'retrieve', '1:29', 'dew', 'surgery', '33:10', 'spikes', 'overall', 'girgashites', 'withholdeth', 'implacable', 'prejudices', '64:1', 'dauntless', 'van', 'outweigh', \"disappear'd\", 'preluding', '25:5', 'revolver', 'scotchman', 'wary', 'control', 'withholding', '5:2', 'skulked', '7:41', 'vpon', 'cellar', 'apprehended', 'ridicule', 'strivings', 'cicerone', 'daresay', 'lessening', 'hazarenan', 'sufficient', 'deposit', 'applying', 'industry', 'infancy', 'inquire', 'style', 'caution', 'istanbul', 'greg', 'bride', 'adaiah', '27:33', 'foam', 'adoption', 'overhear', 'villany', 'amarant', 'brows', 'throate', 'shaster', 'gladlier', \"deseru'd\", 'silas', 'mega', '20:1', 'unity', 'vampirism', 'serviceable', 'censer', 'construe', 'carolina', 'serjeants', '36:14', 'convicted', 'brauely', 'shelomoth', \"steam'd\", 'signor', 'testify', '5:20', '14:24', 'sport', 'hoed', 'load', 'abimael', '41:12', 'prosecution', 'compared', 'outsider', 'americans', 'pickup', 'shroud', 'million', 'recoil', 'probe', 'elsa', 'banke', 'actress', \"fashion'd\", 'verbally', 'extremities', 'pulses', 'cheerfulness', 'theme', 'sedate', 'passing', 'haunts', 'bankrolls', 'miracle', 'smoke', 'chode', '19:39', '21:19', 'desperation', 'dried', 'midterms', 'sanctify', 'judgments', 'widower', 'portals', 'unlighted', 'metropolis', '`', 'consultations', 'nervousness', '26:58', 'thought', 'idiom', 'whoring', 'padanaram', 'unobjectionable', \"banish'd\", 'khan', 'personal', 'commons', 'stewards', 'ammonites', 'imprudence', 'disliking', 'laura', 'brunswick', 'humans', 'cries', 'ritual', 'semitic', 'duties', 'sincere', 'entry', 'reconciled', 'dining', 'composers', 'chastisement', 'extends', 'virginian', 'fabled', 'ophelia', 'explore', 'looketh', 'loaves', 'messiah', \"handcuff'd\", 'contriue', 'faltering', 'ambitions', 'thirsty', 'reinhold', 'disrelish', 'shaping', 'vine', 'reborn', 'counterpoise', 'quelled', 'stoical', 'distance', '16:35', 'attai', 'tortoise', 'runner', 'jiphthahel', 'brewed', 'repulsed', '15:25', 'myself.--', 'unforgivable', 'albeit', 'yale', 'heman', 'carrots', '12:46', 'cheerfully', 'soothed', 'pen', 'retracted', 'panel', 'deliriously', 'scolds', 'horrific', 'turkey', 'attendance', 'corporal', 'picking', 'shake', 'compete', 'masrekah', 'cucumbers', 'warning', 'fourfold', 'sorts', 'appointed', 'mourned', 'woodland', 'account.--', 'trowel', 'wafting', 'piratical', 'reckoning', 'relied', 'muslin', 'joktan', 'designs', 'calphurnia', '16:3', 'nobost', 'subdue', '12:11', 'astonishment', 'hacking', 'tricke', 'nsc', '37:38', \"sooth'd\", 'basic', 'vermont', 'standstill', 'chili', 'invests', 'genital', 'resorting', '8:38', 'supplication', 'tart', 'locomotive', 'supplying', 'pitty', 'unfound', 'stanza', 'admit', 'tightens', 'sphere', 'believed', \"sha'n't\", 'youngster', \"weather'd\", 'condescend', 'weake', 'rump', 'ear', 'mehetabel', '3:14', 'wheelchairs', 'abdi', 'leftwing', 'felix', 'occupied', 'roiled', 'representatives', 'sunbeams', 'cavalcade', 'intolerable', '14:6', '23:15', 'mentor', 'manifest', 'bated', 'absorbing', 'bankruptcy', '4:8', 'rats', 'surprising', 'arbours', 'stealing', 'clearance', 'anticipating', 'slavery', 'relaxed', 'howard', 'grape', 'anon', 'kennel', 'flogged', 'festival', '23:22', 'whitehall', 'mortall', 'chirp', 'lethargic', 'pommels', 'flanked', 'yarman', 'scotland', 'eclipsing', 'prehensile', 'commissioned', 'visas', 'hostess', 'hezekiah', 'prominence', 'interpolation', 'layes', 'hoarded', 'griffin', 'lobes', 'devin', '11:30', 'craftsmen', 'rie', 'ideality', 'massive', 'resenting', 'slows', 'grants', '25:33', 'attentions', 'intelligible', 'ira', 'hypocrites', 'acquaintances', 'consistent', 'effulgent', 'fatter', 'clogged', 'droll', 'moisten', 'complicated', '90', '1778', 'signal', 'urgently', 'choking', 'ruffians', 'queerest', 'arrogance', 'inclosings', 'pondering', '12:7', 'cases', '30:24', '28:30', 'shipmaster', 'elias', \"unreturn'd\", 'renewing', 'donation', 'bespoke', 'unborn', 'advisable', 'vessell', 'creaking', '29:19', 'halteth', 'disinterested', '41:28', 'mariner', 'schiller', 'collectedness', 'thickest', 'minuter', 'nod', 'rood', 'depressions', 'enter', 'quart', 'fighteth', 'love', 'regent', '24:14', 'worm', 'cud', 'bulging', 'sob', 'slag', \"barr'd\", 'beerothite', 'trumpism', '25:17', 'stripped', 'sheleph', 'mentioning', 'hungred', 'lustre', 'strathspey', 'tapes', 'hatchet', 'influential', 'unanimously', 'deceiveth', 'delighted', 'blacksmiths', 'coined', 'packages', 'stewardship', 'clans', 'parosh', '@cnn', 'spurnes', 'inconsiderately', 'potiphar', 'fabrick', 'craters', 'piazza', 'deliria', \"allow'd\", 'wielded', 'gape', 'symptoms', 'attach', 'booms', 'wails', 'spaces', 'captaine', 'winter', 'jonah', 'fetched', 'knaves', \"wash'd\", 'individual', 'unveil', 'cricket', 'speeds', 'oats', 'purification', 'preferred', 'tartan', 'endorsement', 'controversies', '18:8', 'gael', 'maharai', 'successes', 'babel', 'contending', '46:10', 'wasted', 'ouercame', 'dnc', 'triangle', 'immer', 'agony', 'enjoyment', 'swamped', '666', 'packs', 'paychecks', 'bustling', 'idle', 'zones', 'protections', \"cool'd\", 'freezing', 'enmity', 'pigeons', 'surrealist', 'screws', 'animate', 'indeed!--i', 'heretic', '4:15', 'undertake', 'is--', 'butterflies', 'seizure', 'jonathan', 'chiefly', '15:53', 'class', 'regime', 'primal', 'crying', 'lentiles', 'medicines', 'mourning', 'shubael', 'table--', 'pigeon', 'trimming', 'newness', 'restrained', 'wisher', 'selloff', 'prayeth', 'norwegian', 'tahath', 'disembodied', 'confluent', 'trio', '47:7', 'pretends', 'adjusting', 'assuredly', 'humanitarian', '3:13', 'tames', 'n.c.', '18:5', 'other----', 'sick', 'concussion', 'cheere', 'sporty', 'caphtor', 'spakest', 'sidonians', 'shabby', 'disgorging', 'thronging', 'perverseness', 'painkiller', 'noone', 'appertaineth', 'pulverize', 'lowness', 'sturdy', 'unsuccessfully', 'inscription', 'havilah', 'bearer', 'pitieth', 'expired', 'conversations', '17:21', '1:16', 'courteously', 'inviting', 'lewdly', 'clews', 'halyards', 'digesting', 'was', '10:3', 'indirections', \"belov'd\", 'hemath', 'developed', 'goddesses', 'recital', 'diggers', 'rickety', 'preceding', 'dooryard', 'sharply', 'satirical', 'tatnai', 'indifferently', '46:20', 'crowding', 'confusion', 'lakes', 'damage', 'betwixt', 'peeringly', 'ajar', 'collared', 'landmarks', 'hags', 'slaughter', 'spur', 'rapturously', 'baleen', 'pedaiah', 'emmer', '4:2', 'countervails', 'dullness', 'following', 'archer', 'limber', 'fatigued', 'enigmatical', 'wanteth', 'aggression', '13', 'cardamum', 'aired', 'skill', 'books', 'famishing', 'bequest', 'circumstances', 'asperity', 'self', 'shoulders', 'meantime', 'murderer', 'januarius', 'alas', 'honoured', 'unwonted', 'trained', 'den', 'bondage', '12:13', 'al', 'doubtfully', 'nahor', 'weeps', '10:39', 'vapoury', 'too', 'joes', 'magpie', 'societies', 'instead', 'triumphantly', '19:23', 'talkers', 'canker', 'nazca', 'vse', 'justify', 'income', 'floweth', 'gemini', 'pleated', 'horrour', '43:7', 'affirmative', 'colds', 'complication', 'mulvaney', 'doom', 'became', 'impressionism', 'learning', 'shred', 'release', 'omnipresent', 'gainsay', 'adopted', 'dreameth', 'carrier', 'slippery', '38:17', 'gerizim', 'manager', 'malcolme', '25:36', 'activist', 'chemist', 'baghdad', 'platonian', 'benghazi', 'fringe', 'retire', 'delicately', 'lender', 'merciful', 'watercourse', 'me?--i', 'cleft', 'fda', 'analogous', 'louise', 'stationed', 'plainest', 'tricare', 'execute', 'solicitously', 'rules', 'extricate', 'cuttlefish', 'sympathize', 'katie', 'goodman', 'delude', 'sharer', 'highlander', 'stink', 'fracking', '              ', 'trespassing', 'shaved', 'tilth', 'designed', 'frocks', 'constitution', 'nose', '3:49', 'shave', 'fasten', 'transfer', 'shipping', 'centenarian', 'trembleth', 'surer', 'truer', 'moral', '24:9', 'habergeons', 'vertical', 'responses', 'private', 'follows', 'na', 'jordan', 'celebrated', 'influx', 'crape', 'radiantly', 'sculptured', 'leafy', 'renewable', 'pitteous', 'englishmen', 'narration', 'heyday', 'trills', 'happier', 'narrating', 'helmut', 'mountaine', 'persecutions', 'packet', 'jollity', 'forfeited', 'almost', 'allayed', 'phinehas', 'cookie', '32:40', 'audrey', '25:21', 'ho', 'ploughing', 'loan', 'louisa', '6:52', 'submiss', 'roku', 'softest', 'orgasm', 'fueling', 'leanfleshed', 'conservation', 'baptized', 'promoter', 'maidservant', 'gatherer', 'hussey', 'wellbeloved', 'naphish', 'rye', 'asia', 'journeying', 'billes', 'dophkah', 'ratio', 'launch', 'prompt', 'freeze', 'kronos', 'skipped', 'turtledoves', 'rehab', 'lodger', 'bridle', 'humph', 'prouder', 'jeremiah', 'stalk', 'methodic', \"ebb'd\", 'fe', 'deliberately', 'theater', '3:12', 'earshot', 'toyle', 'sluggard', 'attire', 'darker', 'durand', 'handkerchiefs', 'anger', 'evildoer', 'buckskin', 'claps', \"alarm'd\", 'gem', 'devoutly', 'bewailed', 'cushi', 'presse', 'yielded', 'shrines', 'banquets', 'cockroach', 'riot', 'storehouses', 'ostentatious', 'exclude', 'wrench', 'progressives', '63:4', 'aminadab', 'hems', '34:35', 'alternate', 'forte', 'eats', 'occasioned', 'eleazar', 'obededom', \"sleep'st\", 'centurion', '30-day', 'sensational', 'zelah', 'scrubs', 'rejoiced', 'cat', 'timid', 'minstrels', 'eighteenth', 'basons', 'lattice', 'stereotype', 'oxford', 'euphrates', 'boil', 'prouoke', 'alley', 'unwinding', 'columns', 'operated', 'novelty', 'outlining', 'venturing', 'profundity', 'stating', 'debated', 'fasted', 'sad', 'grind', 'perhaps--', 'everest', 'stubbornly', 'rezin', 'religious', 'bounded', 'davies', '24:50', \"gain'd\", 'wondrous', 'loopholes', 'engaged', 'climes', 'lyest', 'runs', 'socoh', 'ginath', 'trapped', 'friends', 'wailed', 'inferred', 'arming', 'moses', 'rellish', 'chinaman', 'unbounded', 'laconia', '17:13', 'magazines', 'infinite', 'cryed', 'thrusts', 'consult', 'modified', 'debased', 'chechnya', 'genubath', 'publication', 'weightier', 'adventurers', 'calabash', \"reckon'd\", 'makest', 'uncompleted', 'norway', 'translation', 'stirre', 'strictest', 'upheaved', 'foreseeing', 'twitter', 'cambric', 'generally', '48:21', 'ambient', 'cozy', '31:6', 'forsaken', '18:15', 'ner', 'pinon', 'distorted', 'didst', 'temporarily', 'apparelled', 'caught', 'gaal', 'marshy', 'isolated', '40:38', 'democracies', 'rouhani', 'arbaeen', 'needles', 'strawed', 'anarch', 'sirs', '2:27', 'strangling', 'elevating', 'myths', 'bomb', '18:26', 'dispositions', '25:7', 'obtaineth', 'lions', 'lean', 'childless', 'dirtied', 'acquittance', '1671', 'dean', 'fulfil', 'constraint', 'chain', 'stablisheth', 'lowliness', 'zaccur', 'treasons', 'efficient', 'palestinians', 'gems', 'commanders', '6:29', 'sha', 'jupiter', '25:41', 'moonshine', 'canada', 'recognition', 'heat', 'reflective', '1:39', 'nasal', '13:46', 'flattered', 'shiite', 'lays', 'almondiblathaim', 'waking', 'pind', 'toronto', 'declassifies', 'decrease', 'mug', 'detonation', 'dippeth', 'boosters', 'tilled', 'uniforms', 'girlfriend', 'beat', '13:42', 'milcom', 'wrongfully', 'gallery', 'benjamites', 'noriega', 'items', 'document', 'nails', 'sheepishly', 'canals', 'assessment', 'meme', 'guineas', 'conclave', 'quit', 'merchantmen', 'hatefulness', 'lucid', 'readying', '4:40', 'generate', 'gainsaying', 'pardons', 'idolatrous', 'hindrance', 'saide', 'almanac', 'quire', 'advance', 'tea', 'pens', 'main', 'sneezed', 'da', 'irishman', \"o'neill\", '48:35', 'florida', '14:5', 'paved', '5', 'bursts', 'buttoning', 'letters', 'delivers', 'economies', 'rewrites', 'giuing', 'protest', 'unfinished', 'cistern', 'tinkers', 'hawsers', 'modernize', 'mcmaster', '43:28', 'jane?--', 'hunters', 'alex', 'refrained', 'jarah', 'holden', '3', 'heard', 'joyfulness', 'illustration', 'salathiel', 'creeks', '13:30', '32:30', 'noadiah', 'festivities', 'whereabouts', 'belied', 'wards', '11:43', 'share', 'hustle', 'frowningly', '11:38', 'wedge', 'admiral', 'may', 'etam', 'carlo', 'tousled', 'bethshan', 'wrongs', 'aged', 'lucillius', 'glistering', 'imputing', 'helping', 'cranes', 'priesthood', 'audacity', '20:12', 'changeless', 'interdiction', 'ecstacy', 'bloods', 'protecting', 'aclu', '50:13', 'rigger', '45:13', 'elisha', 'criticism', 'fugu', 'errant', 'bathed', '64:9', 'benefactor', 'chaff', 'exaggeration', 'battledore', 'soil', 'villages', 'meals', 'rephidim', 'vegas', 'meshezabeel', 'unshaken', 'oblivious', 'dimmed', 'ungainly', 'succeeding', 'bargainers', '54:2', 'interrupt', 'backstays', 'marge', 'bald', 'endlessly', 'cord', 'tempestuous', '5:5', '20:16', '22:21', 'policy', 'abstractedly', 'rubbish', 'pastoral', 'modulated', 'handmaid', 'breefe', 'fluids', 'deficiencies', 'redland', 'lapse', 'scaffolds', \"whoe'er\", 'not--', 'victress', \"color'd\", 'supplied', 'imprudently', 'throbs', 'mummies', '66:7', 'ok', 'hair', 'fra', 'constantly', 'jigs', 'compromised', 'oarsmen', 'norwey', 'isthmus', '3:2', 'accounting', 'tossed', 'indescribable', 'equation', 'subway', 'pies', 'wink', 'eventide', 'cypher', 'purposing', 'nearly', 'imagined', 'integrative', 'vesper', 'impartially', 'cannibals', 'plaited', 'olympus', 'nephthalim', '                                               ', 'dear', 'download', 'pocohontas', 'macey', 'maimed', 'grandest', 'wendy', 'morbid', '14:37', 'clutched', 'scouts', 'archangel', 'ceases', 'hum', 'hostler', 'non', 'uniting', 'kirsten', 'overtaken', 'piedro', 'assures', 'towards', 'walker', 'nakamura', 'spartans', 'pats', 'mouldings', 'top', 'clearings', 'ignore', 'detecting', '56:6', 'blithe', '23:36', 'partition', 'beast', 'stilly', 'wealth', 'sicknesse', 'bolting', '--the', 'earring', 'census', 'upholdeth', 'stretcheth', 'stored', 'ibc', 'naked', 'took', '38:27', '3:5', 'gyrating', \"cal'd\", 'washed', 'doest', 'meanwhile', 'shared', '33:18', 'characters', 'liege', 'ingredience', 'undiminished', \"seem'd\", 'protoplasm', 'intercept', 'rightly', 'separately', 'iulius', 'parting', '3:20', 'traces', 'quartus', 'hotels', 'pittied', 'contentment', 'stress', '8:27', 'casked', 'extended', 'contract', 'gendereth', 'address', 'miniatures', 'honiton', 'suffuse', 'females', 'schlapps', '5:41', 'spat', 'unchecked', 'willing', 'subside', 'enduring', 'powerful', 'ran', '22:8', 'acquiring', 'jail', 'presumption', 'anytime', \"lock'd\", 'instantaneous', 'vnfold', \"crow's\", 'saluting', 'reefed', 'courting', 'x', 'political', 'incitement', 'hover', 'tremendously', 'stiffened', 'melchizedek', 'organizations', 'evil', 'mladic', 'happy', '20:18', 'bondholders', 'knapsacks', 'murellus', 'unfrequently', 'sway', \"won't\", 'protestant', 'sustained', 'detroit', 'flannel', 'inhabited', 'inter', 'snout', '29:40', 'firebrands', 'rich', 'pockets', 'morcar', 'asunder', 'haggith', 'demeanour', 'crucial', 'weaned', 'patty', 'o’rourke', 'wages', 'jehoiada', 'hisself', 'broaddrick', 'reuben', 'lilly', 'hazor', 'loosening', 'enjoining', 'levels', 'remission', 'charmingly', '17:36', 'lavender', 'sparkes', 'ploughman', 'widowed', 'alabaster', 'survey', 'daniel', 'nimrod', 'virginity', 'concluded', 'reuenge', 'exultation', 'deadliest', 'bilateral', 'schoole', 'planet', '7:44', 'revisions', 'gloomiest', 'mist', 'willow', 'sundered', 'calvary', 'murther', '56:3', 'fickleness', 'barbarian', 'ashbel', 'zarrab', 'pouch', 'cabmen', 'caesarea', '26:55', '8:6', 'polish', 'paralysis', 'participate', 'niches', 'finsbury', 'vanities', '18:17', 'popularity', 'shur', 'balls', '2000', 'degraded', 'bleating', 'stale', 'branding', 'lawful', '22:43', 'functions', 'analyse', 'shifts', 'livingly', 'granted', 'cornets', 'mered', 'maachathites', 'sheshach', 'bulge', 'macedonia', 'kernels', 'amateur', 'armageddon', 'inauguration', 'sum', 'plastic', 'turn', 'logic', '14:23', 'securing', 'sixteenth', 'friendlier', 'entanglement', 'forces', 'bread', 'alternating', 'phoned', 'do?--how', 'cheek', 'despitefully', 'attest', 'fossil', 'johanan', 'oligarchy', 'eclipse', 'drawled', 'pencils', 'ices', 'revival', 'requirest', '31', '7:12', 'stared', 'banquo', 'earlier', 'samaritan', 'microsoft', 'returnest', 'regained', 'soever', 'expressive', 'cherubick', 'appropriated', 'gutters', 'regret', 'teare', 'suliman', 'snipers', '39:24', 'math', 'showts', 'current', 'brahmin', 'harpooning', 'nahshon', 'moving', 'reprehensible', 'celts', 'meanings', 'gasping', 'murderers', 'powres', 'notches', 'wrangling', 'adventurer', 'pounds', '700,000', 'intricacies', 'nasa', 'thefts', '13:35', 'longitude', 'thrills', 'subdueth', 'polynesia', 'laurels', 'exchanged', 'signed', 'dryly', 'territory', 'nazarites', 'landslides', 'rewards', 'fertiliser', 'cryedst', 'invariably', 'saith', 'emailing', '6:56', 'hoisted', 'grandees', 'ermine', 'wiretapping', 'sticky', 'options', 'catcher', 'amos', 'presence', \"trellis'd\", 'agent', 'auoyd', 'goddard', 'sajid', 'extending', 'travailing', 'candidly', 'sheltered', 'path', 'tennessee', 'storming', 'dally', 'mainly', 'aghast', 'judas', 'coil', 'ruinationed', '9:15', 'luxurious', 'forbore', '19:41', 'gender', 'topsy', 'stocks', 'cursing', 'dispensed', 'outriders', 'nicodemus', 'tires', 'merciless', 'comprise', 'troopes', '23:20', 'bashemath', 'rammed', 'barnardo', 'abarim', 'beginnings', 'counteract', 'periodical', 'junkies', '8:21', 'ashes', 'rollback', 'phichol', 'obtaining', 'reiterating', 'fema', 'impassioned', 'declines', 'chanaan', 'views', 'barke', 'remnants', 'dimensions', 'guttural', 'bows', 'scandall', 'padon', '7:8', 'plane', 'sharkish', 'whalemen', 'jungle', 'spilt', 'bukki', '28:9', 'resided', 'viscountess', 'erected', 'hallowed', 'reeking', 'hhs', 'refers', 'flames', 'engrossing', 'rages', 'northerly', 'kidd', 'wigwam', 'warship', '10:22', 'comprehend', 'hazarded', 'soonest', 'scalding', 'burdens', 'angelick', 'charm', 'y.', 'professionalism', 'provoketh', '48:34', 'jehoshabeath', 'overheard', 'fossiliferous', 'sentimentalist', 'obliterated', 'lure', 'judgements', 'sinne', \"prepar'd\", 'thorns', 'devilish', 'mars', 'gifted', 'peters', 'bidding', 'painter', 'expelled', 'stupidity', 'awarded', 'pip', 'harmonious', 'wolff', 'obey', 'moodily', '11:4', 'thanks', 'dancer', 'justices', 'pathrusim', 'elapse', 'ointments', 'equinox', 'untouchable', 'unheard', 'spurning', '30:31', 'dutie', 'citadel', 'barcelona', 'anchorage', 'explorers', '27:30', 'ignorant', 'robber', 'wagner', '41.5', 'absence', 'inconvenience', 'mindedness', 'catastrophism', 'sojourner', 'wheedle', 'ensuing', 'broils', 'hindered', 'delegate', 'robe', 'colleges', '7:26', 'moneychangers', 'guts', 'romish', 'charlie', 'cox', 'whistleblower', 'hearers', 'head', 'rowers', 'slash', 'huskily', 'hur', 'douglas', 'punching', 'restlessness', 'ahiam', '\"--she', 'mournfully', 'oop', 'attended', 'catalans', 'map', 'sparingly', 'crush', 'concave', 'delivered', 'purchasers', 'dancers', 'worming', 'prove', 'colorless', 'hastened', 'ardour', 'concealed', 'answeredst', 'bruit', 'poets', 'jekamiah', 'worthinesse', 'resina', 'chris', 'revolutions', 'stiffest', 'discontented', \"curv'd\", 'searchable', 'pill', 'odious', 'boasted', 'fla.', 'reparations', 'boasters', 'strawberry', 's', 'regulators', 'wrotham', 'smelled', 'eloth', 'acknowledges', '35:34', 'thoughtlessness', 'builder', 'elihu', 'flukes', 'andy', 'volubility', 'atheistical', 'cruising', 'zebulun', 'coping', 'towel', 'crouch', 'asserting', 'arisaig', \"forc'd\", 'england', 'variously', 'socks', 'giants', 'distinguishing', 'laundered', 'inclines', 'resubmit', '15:23', 'revive', 'cones', 'wiretapped', 'laadan', '38:21', 'slabs', 'mocks', 'kirjathaim', 'redeemeth', 'outlast', 'esquimaux', 'ardent', 'season', 'doth', '9th', 'tingled', 'sparkles', 'verbal', 'girdles', 'acceptably', 'illegitimacy', 'punctuation', '11:17', 'peninsula', 'puah', 'estimation', 'resources', 'rohrabacher', 'tending', 'graved', 'enslaved', 'strains', 'arpad', 'mundane', 'burneth', 'pince', 'chaldea', 'hubbub', 'discoveries', 'compare', 'congress', '15:7', 'atheists', 'shia', 'eshbaal', 'text', '59:15', '14:45', 'marling', 'jewelled', 'acres', 'pastures', 'befel', 'foreboding', 'laughs', 'drearily', 'reflecting', 'achbor', 'eventually', 'cyclades', '8-year', \"e'ene\", 'develop', 'curiously', '28:29', 'fatality', 'nitre', 'staid', 'pass', 'creditors', 'headstrong', 'frantically', 'husks', 'coward', 'spends', \"dismiss'd\", 'hymen', 'childishness', '38:31', 'blotted', 'cicero', 'wash', 'drilling', 'banks', 'undisputed', 'counteth', 'islets', 'fortitude', '51:19', 'steelkilt', 'graciously', 'spade', 'hearsed', 'baptizing', 'herodians', 'twice', '60:4', 'ziza', '                                             ', '+', 'disinherited', '21:26', 'unwanted', 'appearing', 'fukushima', 'communications', 'bounce', 'disband', '13:3', 'acknowledge', 'waists', 'espy', 'uphaz', 'fellowprisoner', 'here', '4:34', 'sec', 'unacceptable', 'gossiping', 'thunderings', 'tetrarch', 'victories', '26:61', 'mocked', 'rains', 'encountered', 'undervalue', 'precipice', '6:10', 'weapons', 'bath', 'britons', 'highlights', 'inconveniences', 'ophrah', 'papa', 'gilonite', 'uplands', 'tempts', 'establish', 'quoth', 'stance', 'overgrown', 'afore', 'expressly', 'reliably', 'sloops', 'enscombe', 'ranks', 'take', 'regrets', 'repulsive', 'becamest', 'siam', 'spasmic', 'harville', '38:9', 'rack', 'matthew', 'sincerest', 'drowsily', 'nonsense', 'notable', 'indented', 'ishtob', 'berating', 'revise', 'herbert', 'premises', 'unprofitable', 'steerer', 'witches', 'verity', 'burst', 'goblet', 'exteriors', 'balanced', 'epics', 'merkel', 'messala', '28:31', 'paseah', 'philip', 'grown', 'tamer', 'violated', 'sanders', 'avenging', 'purpose', 'motioned', 'relationships', 'goats', 'engross', 'hollyweed', 'lemonade', 'lawn', 'tears', '42:5', '12:12', 'august', 'nether', 'roy', 'harsh', 'solicitation', 'anticapitalist', 'damsel', 'hazel', '2008', 'lamplight', 'proverbs', 'pricking', 'architectural', 'sunwards', '40:18', 'septima', 'wiped', 'capturing', 'scathing', 'historically', '32:33', 'rightwing', 'mimics', 'billions', 'history', 'liberality', 'feelest', 'unnaturally', 'shure', 'campbells', 'passage', 'oysters', 'blasted', 'neglected', 'negativity', '6:14', 'dishonour', 'furious', 'abridged', 'celebration', \"sinn'd\", 'bewail', 'winebibber', 'bombshell', 'holiest', 'sorted', 'varying', '36:10', 'overseers', 'busiest', 'ignorance', 'presumptuously', 'annum', 'wearieth', 'esteem', 'mocketh', 'march', 'throws', 'breathed', 'moats', '51:1', 'inoffensive', 'exalt', '27:4', 'sympathized', \"hook'd\", 'peepe', 'viewers', 'envoy', 'npr', 'eliezer', 'indecent', '                                ', '39:12', 'reprobates', 'aloes', 'bulwarks', 'grazed', 'copy', 'strucke', 'requirements', 'yon', 'company', 'hoops', 'exception', 'proceeding', 'azore', 'netophathite', 'miriam', 'tutte', 'solvent', 'remembereth', 'suspicion', 'flowing', 'dilation', 'forget', 'carve', '6:8', 'chapiter', 'period', '44:13', 'temptations', 'plates', 'consistency', 'thwart', 'unfearing', 'under', 'concreted', 'crew', 'condemning', 'unintelligent', 'spoke', 'engraving', 'donated', 'pea', '26:42', 'directed', 'irrevocably', 'heinous', 'heeding', 'spear', 'firing', 'remonstrance', 'europe', 'articulated', 'practicable', 'freak', 'months', 'graving', 'surgeons', 'earthly', 'eliam', 'attorneys', 'phenicia', 'wriggles', 'assayed', 'talbot', 'finite', 'unanswered', 'ucla', 'wringing', 'pardonable', 'rabbath', 'imperial', 'wight', 'terrified', 'expels', 'gilt', 'voters', 'scaena', '50:23', 'pepe', 'passion', 'portici', 'tour', 'porous', 'enters', 'glorified', 'agonizingly', 'casluhim', 'reignes', 'belial', 'warlike', 'planning', 'arenas', 'tekoa', 'deranged', 'philosophy', 'byproduct', 'housings', 'photograph', 'inspired', 'jerking', \"honour'd\", 'vital', 'therefrom', 'nebuchadrezzar', 'despising', 'soweth', 'dwelleth', 'invest', 'roamer', 'repeater', 'horse', 'exterior', 'workforce', 'eye', 'diddest', '7:55', 'hicks', 'ventilation', 'appeares', 'vista', 'sprang', 'condemns', \"convuls'd\", 'favourites', 'theatrical', 'hateful', 'hypocrisy', 'becometh', 'gamaliel', 'russians', 'dccc', 'deathless', 'scoena', 'tidings', 'sonnet', '43:6', 'removals', 'caverns', 'rhetoric', 'chester', 'contemplates', 'hate', 'qu', 'stripling', 'gaudy', 'lethal', 'jazer', 'dromedary', 'reduced', '19:14', 'windsor', 'sockets', 'hourly', '23:35', 'forego', 'carrion', 'flattery', 'ascendeth', 'employers', 'alongside', 'frayed', 'shop', 'phenice', 'growes', '7:29', 'ob', 'devastated', 'oddes', '42:10', 'tester', 'leonine', 'famous', 'duplicate', 'friar', 'supposition', 'tiresome', 'mathematical', 'broadwood', 'diuinity', 'sealeth', 'pseudo', 'overcoming', 'mauve', 'cherished', 'swathing', 'cheeked', 'pawnbroker', 'quota', 'glorying', 'intercontinental', 'distinguished', 'pi', 'glorify', 'elath', 'inforced', 'directors', 'fantastic', 'unperturbed', 'having', 'hullo', 'splendors', 'vindictiveness', 'floundered', 'conceived', 'hazard', 'showers', '48:23', 'fickle', 'calneh', '4000', 'delays', 'k.c.', 'impatiently', 'eyewitnesses', 'accelerate', 'ridiculous', 'geological', 'texas', 'binomo', 'jozabad', 'flats', 'magic', 'unvarying', 'splash', 'h', 'unnoticeable', 'shakespere', 'surmised', 'rebuketh', \"master'd\", 'morality', 'benefited', '2.murth', '2-party', '16:26', 'packthread', 'dey', 'wonne', 'rot', 'undress', 'zetham', 'jawbone', 'survived', 'duly', 'protection', 'meats', 'pollute', 'cosy', 'diuision', 'presidents', 'sparrow', 'enterprises', 'gird', 'turnest', 'starlit', 'inadvertence', 'rabble', 'ginnethon', 'relenting', 'beno', '15:17', 'multitude', 'zarah', 'threads', 'dipping', 'lives', 'jack', 'bones', 'ruined', 'strengthen', 'graft', 'fairfax', 'joist', 'hye', 'should', 'clau', 'consultants', 'spittle', 'filed', 'shepham', 'varrus', 'parsonage', 'favorite', 'ego', 'disappearances', 'operating', 'renewest', '5:28', 'cased', 'checker', 'comfortless', 'derbe', 'speaking', 'super', 'sheepfolds', 'netherlands', 'unexpectedly', 'end', 'adamantine', 'vtterance', '22:51', 'parents', 'senor', 'genesis', 'slippeth', 'director', 'cords', '10:30', '10:34', 'stupor', \"t'haue\", 'make', 'begat', 'gored', 'clergyman', '18:32', 'nebuzaradan', 'relish', 'waning', 'scarlet', 'glut', 'county', '32:10', '84', 'operation', 'impeach', 'floor', 'vedas', 'greediness', 'growls', 'tardie', 'polluting', 'zepho', 'gloomy', 'alack', 'engirth', 'oars', 'profoundly', 'hosea', 'judiciary', 'elevations', 'cadence', 'nationalism', 'discoursing', 'mites', 'postmaster', 'pochereth', 'gusts', 'wisedome', 'tools', 'prophetic', 'pantheistic', 'afforded', 'pry', 'tracts', 'oks', 'crisp', 'laden', '36:32', \"steep'd\", 'korhites', 'gazez', 'cluny', 'wallace', '40:23', '40:30', '62:9', 'splutter', 'departure', 'redistricting', 'energy', '38:10', 'prairie', 'catholicism', 'king', 'draughts', 'faine', 'colhozeh', 'flog', 'scourged', 'vestibule', 'sandals', 'bewrayeth', 'morton', '39:16', 'silence--', 'waxwork', 'creating', 'travail', 'counteracting', 'conspicuously', 'awakened', 'melody', 'sketch', 'midwives', 'headers', 'canvassed', '17:31', 'climbers', 'secures', 'sneaking', 'embracing', 'haul', 'chat', 'inexcusable', 'victor', 'sheva', 'umbrellas', 'hay', 'undiscerning', 'sheldon', 'aleppo', 'shrugging', 'cath', 'fleet', 'discriminating', 'pinned', 'farmers', 'knocks', 'diuided', 'campbell', 'pebble', 'heaves', 'malchiah', 'explode', 'compiles', 'ambiguous', 'engagements', '26:40', 'cia', 'profaned', 'precipitation', 'suspect', 'upland', '12:47', '28:32', 'verdure', 'eshcol', 'jasper', 'kemuel', 'sarandon', 'remembrancer', 'stepping', 'dessert', '47:23', 'shamer', 'recognise', 'dimension', '5:30', 'brightness', '23:2', 'lancelot', '40:8', '49:8', 'puget', 'sisamai', 'clinging', 'cope', 'strayed', 'blown', 'puh', 'masse', \"dispos'd\", '20-week', 'marquis', 'stack', 'terrible', 'archite', 'cream', '17:17', 'hearted', 'lungs', '49:11', 'lunacy', 'manfully', 'pool', 'groweth', 'norweyan', 'molest', 'consecrate', '62:8', 'transpire', 'this--', 'henceforth', 'headlines', 'parenthood', 'mystification', 'heavens', 'revealing', 'sweatings', '32:23', 'madest', 'surmisings', 'dardanius', 'kenyan', 'captors', 'politics', 'outermost', 'elastic', 'strode', 'uphill', 'behoved', 'dismantled', 'extracted', 'laps', 'shaaraim', 'plum', 'art', 'meshach', 'chastity', 'festivals', 'wellesley', 'visible', 'culture', 'mettlesome', 'perilous', 'vertue', 'sutes', 'petitioner', 'winepress', 'beto', 'reveal', 'persists', 'foaming', 'inspires', 'tuned', 'physically', 'fulfilled', 'closely', 'epistles', 'hatest', 'exits', 'saratoga', 'glen', 'polluted', 'skulking', 'michaiah', 'surf', 'skyscraper', 'counts', 'j', 'misconstrued', 'madame', 'askers', 'reed', 'uzzi', 'prest', 'paradoxical', 'involuntarily', 'accession', 'hammedatha', 'ingrate', 'grease', 'crossness', 'luxuriant', 'aspiration', 'feelers', '5:35', 'huddled', 'zero', 'coalition', 'loadstone', 'whilest', 'lyrics', 'transom', 'quickeneth', 'demonstrators', 'machir', 'magnifying', '19:20', 'moan', 'plunge', 'denotes', 'undulating', 'beds', 'bluish', 'wagon', '55:13', 'diligent', 'masks', 'unquestionable', 'blade', 'golgotha', 'grasped', 'girded', 'purse', 'freer', 'suffering', '22:3', 'ducks', 'eastern', 'legend', 'uz', 'vacuums', 'clinch', '61:5', 'quietly', 'usest', 'churl', 'labs', 'kew', 'idly', 'contradiction', 'shrieke', 'daisies', 'flaws', 'stockholm', 'jenny', 'spread', 'strive', 'blame', 'extol', 'scenes', 'male', 'afford', 'azzah', 'cutting', 'tracking', '16:42', 'snatch', 'chapel', 'banners', 'gave', 'lobby', 'simpson', 'dana', 'coins', 'crawling', 'sharpening', '2:14', 'inclining', 'kiriathaim', 'physicians', 'cemeteries', 'bethhoron', 'rissah', 'adventure', 'si', 'fatlings', 'pekah', 'jericho', 'orontes', '199', 'shechem', 'pig', 'saves', 'quarry', 'pivots', 'carcases', 'knights', 'baron', '<', 'tolerating', 'distant', 'chiswick', 'argues', 'betweene', 'anab', 'tubs', 'narrowly', 'weazell', 'daberath', 'xiaobo', 'revenged', 'wished', 'addicts', 'rogue', '21:40', 'christs', 'kerry', 'column', 'prophesy', 'chemosh', 'appeareth', 'day--', 'anecdotes', 'disproportion', 'throng', 'beehive', '83', 'carue', 'frosts', 'purple', 'missionary', 'guitar', 'highlands', \"rais'd\", 'darkened', 'observing', 'housekeeping', 'wrong', 'softly', '45:12', 'porpoises', 'healeth', 'heightened', 'rapiers', '52:14', 'challenge', 'denuclearization', 'hyping', 'bore', 'fins', 'var', 'entrails', 'acceptable', 'exploding', 'voracity', 'gazzam', 'reform', 'progression', 'prisoners', 'shashak', 'repentance', 'murk', 'neer', 'canallers', 'penthouse', 'perspective', 'sleigh', 'violins', 'subsidizing', 'mallet', 'mouth', 'continues', 'cyberwars', 'banishment', 'harbors', 'selects', 'dishonesty', 'orleans', 'hog', 'undeniable', 'bountiful', 'linings', 'watchfull', 'reader', 'accepteth', '66:15', 'slashing', 'gods', 'galahad', '2:5', 'derived', 'grab', 'rewarded', 'del', 'effort', 'maids', 'parried', 'begrimed', 'judgement', \"lodg'd\", '14:46', 'excellence', 'cetology', 'stalemate', '42:12', 'belong', 'hattil', 'glitters', 'landslide', 'hymn', 'hereabout', 'included', 'peas', 'clit', 'napoleon', 'clump', 'kushner', '46:27', \"pluck'd\", 'toilsome', 'kicked', 'oceans', 'residing', 'nh', 'deere', 'untying', 'passant', 'scuffling', 'adieus', 'lopt', \"aim'd\", 'function', 'ensigns', 'celebrates', '43:1', 'gallop', 'veneration', 'work', 'riding', 'comparisons', 'ted', 'journeyers', 'scorpions', 'unwillingly', 'mandarin', 'excuses', \"ear'd\", 'farc', 'predictions', \"unharm'd\", 'puppy', \"o're\", 'taunted', 'prose', 'omg', 'gazing', 'aser', 'twelvemonth', 'dinners', 'intervening', 'disgusting', 'pluck', 'elijah', 'cummings', 'enlargement', 'stumbling', 'heed', 'asserts', 'obeyedst', 'therein', 'thoughtful', 'albany', 'sprinkled', 'pisidia', 'deficient', 'diagram', 'floods', 'starbuck', 'disdainful', 'persevering', 'negligent', 'inextinguishable', 'babblings', '13:23', 'presidency', 'cooperating', 'disappoint', 'furnish', 'intensifies', 'cathedrals', 'tempered', 'comfort!--', 'breaketh', 'cleveland', 'breathe', 'disorder', 'hushim', 'vest', '5:45', 'lodges', 'learnt', 'remedies', '12:44', 'forswear', 'crimping', 'madrid', 'ruddy', 'protruding', 'uprightness', 'bear', 'me!--not', 'sunlight', 'marianne', 'excelled', 'deuce', 'academics', 'alek', 'meronothite', 'abruptness', 'straying', 'whipping', 'her.--', 'don', '4:24', 'glide', 'pervades', 'theirs', 'awaked', 'utility', 'sergey', 'shady', 'smacking', '31:36', 'accomplishing', 'postpone', 'multiplieth', 'desegregation', 'everyday', 'patience', 'disgustingly', 'forgetfull', 'correspondents', 'ma', 'oily', 'hatch', 'bier', '28:20', 'pythian', 'voice', 'fires', 'blent', 'luxury', '52:4', 'ultimately', 'cited', 'bridechamber', 'shelves', 'errors', 'legalized', 'sobered', 'wickedness', 'poetical', '34:16', '17:28', 'unverified', 'dissolution', '27:40', 'publius', 'bears', 'bakers', '11:1', 'sentiment', 'consent', 'conceiving', 'impossibilities', 'pruitt', 'leagued', 'blanks', 'oppo', 'faggots', 'leape', '9:25', 'sparse', 'morne', 'unearthly', 'hagarites', 'whirr', 'opine', 'lgbt', 'undoubtedly', 'bags', 'proportioned', 'collections', '7:64', 'persecute', 'gershonites', 'races', 'mermaids', 'probabilities', 'classmates', 'thigh', 'meane', 'maintain', 'owen', 'valley', 'thoughtfully', 'tidal', 'obstructed', 'turnstile', 'poky', 'clean', 'usury', 'bowling', 'originals', 'ornament', 'regard', 'hey', 'conquered', 'ferrets', 'hannity', 'spasmodic', 'purchas', '2011', 'token', 'taches', 'physic', 'insurer', '16:20', 'persians', 'tradesmen', 'baalhermon', 'deeps', 'cinders', '35:32', 'embody', 'came', 'strato', 'foregoing', 'insupportably', 'desireth', '7:33', 'mop', \"see'st\", 'he--', 'leaks', 'postscript', 'undressed', 'defects', 'swiss', 'an', 'muscle', 'died', '4:44', 'thinner', 'oversees', 'incurable', 'fortunately', 'shticks', 'lawsuit', '11:11', 'oshea', 'market', 'trenches', 'gripe', 'darke', 'throats', 'exports', 'pity', 'endless', 'tearing', 'mysterious', 'cruet', '2002', 'receding', '1:44', 'wheugh', 'slacked', 'sicken', 'apologizes', 'tempest', 'coarseness', 'crouching', 'saul', 'delightful', 'proposing', 'plaguy', 'mart', 'transform', 'this:--', 'fevers', 'skelter', 'related', 'whispering', '3:22', 'deci', 'testator', 'enamelled', 'unwarrantably', 'scour', 'admiring', 'detain', 'dine', \"wrong'd\", 'apricot', 'reigned', 'erudite', 'bee', 'coating', 'suppress', 'gene', 'tirhakah', 'seychelles', 'broadens', 'anticipation', 'nebat', 'lancy', '32:5', 'mathematics', 'confusedly', 'jist', '13:1', '18:34', 'perpendicularly', 'scrutinized', 'start', 'nigger', 'risks', 'crude', '41:13', 'quarts', 'teenage', 'laborers', 'commandingly', '10:11', 'glitter', 'opponents', 'assisting', 'suffocating', 'labyrinth', 'saying--', 'ventures', 'outposts', 'shews', 'hermes', 'heating', 'untrodden', 'gallic', 'bedlam', 'become', 'frequently', 'conceptions', 'zalmon', 'sleight', 'visionary', 'glides', 'censoring', 'operas', '25:44', 'smashed', 'viols', 'maliciousness', 'zalmonah', 'parchment', \"whil'st\", 'haze', 'exceed', 'lacks', 'headlands', \"lower'd\", '10:26', 'drowne', 'scented', 'chaldeans', 'wore', 'switch', 'sure', 'laced', 'cordage', 'esteeming', 'tricking', 'oppress', 'aided', '53:2', 'weak', '92', 'yemeni', 'asenath', 'blackberry', 'embarked', 'lay', '9:10', 'goodnesse', 'bridewell', '8:59', '33:20', '4:31', 'shock', 'naasson', 'openest', 'remoue', 'wapo', 'activities', 'chariot', 'thailand', 'beside', 'trepidation', 'tyro', 'duesseldorf', \"mark'd\", 'tapestry', 'blackmailed', 'imaginary', 'behalf', 'raspberries', 'adde', 'solving', 'tomato', 'indulged', 'outcast', 'maxim', 'poring', 'ludim', 'reacting', 'bonfire', 'couple', 'grievous', 'fruit', \"was't\", 'solitude', 'overturned', 'overwhelm', 'marc', 'against', 'headache', 'retentive', 'agriculture', 'thebes', 'fearful', '4:22', 'habitable', 'egotistical', 'melting', 'socialist', 'allied', '49:7', 'nought', '10:47', '29:30', 'decisively', 'devours', 'of?--', 'constantinople', 'steadier', 'cheery', 'unlading', 'deity', 'extinguish', 'primrose', 'unfulfilled', 'titinius', 'literature', 'excuse', 'ornamental', 'league', 'modern', 'offerings', 'maduro', 'contradict', 'ashtaroth', 'olympian', 'catalogued', 'leaping', 'it?--i', 'lapwing', 'unobstructed', 'errour', 'presumptuous', \"embalm'd\", 'shrank', 'ooze', 'fairer', 'blames', '53:4', 'whoredoms', 'alice', 'clanging', 'atrocity', \"charg'd\", 'sunk', '1:11', 'adult', 'insolent', 'electronically', 'sadly', 'verse', '41:9', '18:44', 'whirling', 'restricted', 'eternally', 'overture', 'sirius', 'dragons', '1:34', 'succession', 'indefinite', 'savest', 'seraphim', 'chide', 'bestir', 'wrapping', 'blemishes', 'escheweth', 'praising', '34:10', 'dibon', 'alps', 'cowardice', 'movable', 'warres', 'forbidden', 'inconvenient', 'deliverer', 'moones', 'visit', '24:44', 'risk', 'american', 'interpenetrate', 'volubly', 'drooled', 'undeveloped', 'irrevocable', 'nunnery', 'twists', 'salutations', 'claws', \"outlaw'd\", 'commends', 'souldier', 'adversities', 'busybodies', 'folded', 'adversary', '24', 'conductor', 'madmannah', 'u', 'belongings', 'rode', 'harness', 'mirthful', 'garners', 'balm', 'unobtrusively', 'sworn', 'enow', 'educations', 'allotments', 'ave', 'amplitude', 'ahiman', \"unrivall'd\", 'channel', 'flinty', 'scorners', 'shape', 'disputed', 'wealthy', 'whims', '34:25', 'hinders', 'choler', 'acre', 'classification', 'pyramid', 'vagaries', 'eltekeh', 'c.i.a.', 'refine', 'spirit', 'untidy', 'topsails', 'curb', 'pleasantly', 'structures', 'pastorall', 'presidential', 'popular', 'petraeus', 'dairy', 'collection', '24:23', 'peddler', 'whereto', 'flit', 'pac', 'mcgahn', '14:53', 'murdered', '31:38', 'anniversary', 'raisins', 'facing', 'flutterings', 'stroking', 'tn', 'forfeit', \"liuer'd\", 'vehemence', 'disembosom', 'croker', 'reluctantly', 'avenue', 'firmness', 'followers', 'wagga', 'council', 'azur', 'thicker', 'maggots', 'siberia', 'cetacea', 'abishag', 'bind', '24:2', 'spose', 'heresies', 'slouching', 'nine', 'stolne', '30:19', 'shabbiest', 'wilfulness', 'offender', 'patriots', 'gileadites', 'blunt', 'pickle', 'steamer', 'ishmael', 'hardest', 'bang', 'researches', 'sperm', 'contentious', 'romania', 'leavened', 'puffed', 'amariah', 'thirsts', 'amazement', \"cabin'd\", 'cocktails', '31:48', 'fixed', 'be', 'republic', 'cbo', 'treasurer', 'offer', 'slapping', 'kidnap', '4:3', 'disappearing', 'wince', 'hidden', 'gubernatorial', 'vein', 'greyhound', '16:40', '30:16', 'macb', 'shining', 'wider', 'gap', 'spins', 'spiralling', 'generosity', 'debtor', 'progressive', 'lawmaker', 'lances', 'vengeance', 'touts', 'coriander', 'citigroup', 'vowest', 'elite', 'chaste', 'zoetrope', 'inclement', 'treadeth', 'tacitly', 'zillah', 'unreason', 'wane', '11:2', 'runaway', 'unarmed', 'pulverizing', 'brief', 'eels', 'rebel', 'seth', 'abusers', 'trim', 'experiment', 'iumpe', '10:17', 'voided', 'greefe', 'stables', 'leaveth', 'luhith', 'vistas', 'tows', \"edg'd\", 'copious', 'parentage', '32:1', 'meeke', 'tweezers', 'san', 'shallow', 'decapolis', 'overhearing', 'acuteness', 'lacketh', 'fallacious', 'changers', 'baboon', '                         ', 'oakly', 'woos', '29:35', 'protects', 'unmeaning', 'sinews', 'adonijah', 'pompeo', 'edifieth', 'announcement', '16:19', 'allegeance', \"welcom'd\", 'democratic', 'vesture', 'conducted', 'sadoc', 'face', 'cell', 'sofas', 'ropes', 'famished', 'anxiety', 'soared', '30:17', 'gulfe', 'sterning', 'heightening', 'vitter', 'impenetrably', 'jobless', 'twist', 'appear', '40:29', 'neighed', 'mines', 'tripping', 'ass', 'spades', 'vietnam', 'tpp', 'washington', 'alights', 'cheerless', 'preached', 'lebanon', 'urim', 'unison', 'covenanted', 'bedstead', 'astronomy', 'elkanah', 'hurriedly', 'hattush', 'penises', 'amiss', 'flourisheth', 'lucky', 'bag', '46:16', 'pronounce', 'heroic', 'purporting', 'neerer', 'fittest', 'daboll', 'lovingkindnesses', 'preacheth', 'purchased', '36:29', '9:49', 'exhorting', 'milliner', 'unfelt', 'northern', 'responsibility', 'plase', 'powders', 'eleve', 'tare', '51:17', 'drew', 'cocked', 'nestle', 'supping', 'kishon', 'pillows', 'shechaniah', 'unrighteousness', 'pranked', 'edged', 'exhausting', 'algerine', 'reasonings', '32', 'mastodon', 'actual', 'beckoned', 'quizzing', 'benediction', 'lightest', '57:5', 'holders', 'bother', 'waited', 'final', 'secular', 'bitterly', 'wanting', 'debating', 'groveling', '6:28', 'pennies', 'havens', 'pete', 'tanning', 'apu', '301', 'jr', 'eruptions', 'cakes', 'ensigne', '24:13', 'scalise', 'dusk', '8:42', '49:3', 'imperfectly', 'dictatorship', 'loser', 'christened', 'diver', 'battersea', 'eloquent', 'discomfort', 'jeering', 'knotted', 'consecrations', 'stirreth', 'neighbourly', 'confessing', '21:16', 'incestuous', 'practical', '26', 'lipinski', 'crushed', 'rebels', 'thriue', 'national', 'murtherers', 'heapeth', 'tekoites', 'tu', 'rabbits', 'withs', 'faithfully', 'couldest', 'perth', 'two', 'onset', 'ventured', 'spews', 'struggles', 'harem', 'chasteneth', 'arranged', 'joke', \"neck'd\", 'soothe', 'bards', 'proves', 'deficits', 'lame', 'exulting', 'hothir', 'pathways', '6:22', 'rulest', 'perforce', 'conquerors', 'puppyism', 'unknown', 'livid', 'licenses', 'sink', 'murthers', 'savor', 'refined', 'equine', 'makheloth', 'hideth', 'eminence', \"proportion'd\", 'suffocated', '8:3', '47:11', 'physicke', 'contralto', 'detection', 'substance', 'a-', '28:23', 'endgame', 'unshored', 'profuse', 'cleat', 'wakes', \"establish'd\", 'returns', 'mad.--but', 'manafort', 'swooping', 'clank', 'natal', 'arba', 'rented', 'peril', 'abstemious', '8:51', 'do', 'console', 'uriah', 'waits', 'stairs', 'recommends', '40:2', '16:34', 'headsman', 'taxman', 'k.', 'hanged', 'vows', 'gulp', 'remind', 'pang', '34:12', 'consternation', 'buffalo', 'hemlock', 'dispirited', 'subsiding', '22:20', 'naturalness', 'barker', 'unbelieving', 'older', 'baanah', 'ellenborough', '42:17', 'lovingly', 'him', 'preuent', '59:3', 'custard', 'proving', 'replies', 'recall', 'agricultural', 'lash', 'sweating', 'joyous', 'reprobate', 'lend', 'flattering', 'stupid', 'ramadan', 'macron', 'chambers', '35:28', 'parrot', 'surveying', '30:28', 'debts', 'contrariwise', 'ithran', 'crossed', 'deportation', '20:19', 'moms', 'dividing', 'jump', 'hamas', 'overwhelmingly', 'pumps', 'countrey', 'barouche', 'skyward', 'illumined', 'burqa', 'hazle', 'qui', 'girle', 'guy', 'hypocrite', 'cockle', 'shrink', 'incidentally', 'bequeath', 'monterrey', 'dardanelles', 'laver', 'holocaust', 'stave', 'uneasily', 'carrey', 'calmed', 'feede', 'defence', 'revisiting', 'model', 'loud', 'graveclothes', '15:13', 'naming', 'glassy', 'twirl', 'teeniest', 'unrest', 'excavating', 'signify?--for', 'letter', 'ethereal', 'indies', 'starless', 'fable', 'grill', 'douceurs', 'mithredath', 'vouchsafed', 'creeds', 'amasai', 'turnip', 'bonnet', 'senegal', 'sweetmeats', 'massacre', 'curacy', 'dines', 'beor', 'threaten', 'unconscious', 'wilks', 'psalm', 'gershon', 'bap', '39:10', 'joked', 'positions', '200-year', 'feminist', 'curling', 'ferocity', 'rep', 'quantitie', '22:49', 'malcham', 'readest', 'intimates', 'thaad', 'dershowitz', 'matched', 'huckleberry', 'similitude', 'representations', 'landless', 'smile', 'sur', 'surprized', 'shealtiel', 'sunsets', 'withdraw', 'seventeenth', 'galeed', 'consulted', 'rear', 'falne', 'wearied', 'horned', 'excel', 'jebusites', 'forcing', 'timbers', 'fear', 'extant', 'wheeze', 'dumplings', 'dawlish', 'insidious', 'senior', '17:38', 'macbeths', 'stainless', 'gilberts', 'bashing', 'leper', 'typewriter', '2009', 'wearisome', 'yosemite', 'arme', 'uncontrollable', 'trode', 'whoremongers', 'frown', 'dolorous', 'paul', 'regardful', 'mediator', 'zebulonite', 'toil', 'zibiah', '39:18', 'woolly', 'sadducees', 'lewis', 'seasons', 'clowns', 'supplieth', 'ribbon', 'judgeth', 'picks', 'chaffetz', 'dwelling', 'wonderfulness', 'witchery', 'roaming', 'stra', 'reelected', 'deerest', 'frivolity', \"think'st\", 'hatefull', '12:38', 'ministering', 'clam', 'altitude', 'unpretentious', 'dispossess', 'prolong', 'perilously', 'denieth', 'alush', 'abihail', 'casts', 'gipsy', 'throughly', '6:69', 'assent', 'dependent', '18:43', 'ruin', 'confidants', 'pleas', \"conceiv'd\", '14:4', 'youngest', 'trade', 'failures', 'shoreless', 'orlop', 'because--', 'retort', 'evilmerodach', '19:42', 'tub', 'abandoning', 'ay', 'feelings', 'conveying', 'solid', 'despisers', 'shortsighted', 'log', 'toilette', '14:17', 'looseth', 'heathen', 'america', 'ebenezer', 'movement', 'consumers', 'jeduthun', 'mows', 'oftentimes', '9:48', 'kneeling', 'citing', '26:10', 'meaneth', 'kossabone', 'careens', 'harp', 'levi', 'courtyard', 'inconsistent', 'accidental', 'nosegays', 'conceivable', 'desirest', 'prophesieth', 'attached', 'gratification', 'tingle', 'gunman', 'drunks', 'tarts', 'define', 'forgery', 'protests', 'bipartisan', 'addicted', 'piquet', 'limbed', 'jahath', 'spoiling', 'tablets', 'barley', 'pitied', 'weathered', '31:4', 'speculators', 'temperature', 'galileo', 'heraldry', 'gen.', 'dalliance', 'dolphin', 'taunts', 'damned', '14:28', 'traumatized', 'richly', 'memorials', 'mayhew', 'villaintropic', 'appliance', 'perish', 'outlined', 'gourmand', 'approach', 'battell', 'slowly', 'valueless', 'deceitfully', 'jeopardize', 'breathing', 'formules', 'meeteth', 'testifiedst', 'equally', 'cheltenham', 'surveyor', 'nourisher', 'outskirts', 'problem', 'explains', 'distasteful', 'acquit', 'fascistic', 'breach', 'bridegroom', 'firms', 'snivel', 'kirjathsepher', 'possesseth', 'lambs', '31:31', 'prayest', 'tales', '36', 'doubting', 'leavings', 'regeni', 'macnab', 'accommodate', 'transient', 'jumble', 'interpose', 'betters', 'hadar', '40:19', 'recollecting', 'circumfused', 'predominant', 'proceeds', 'computed', 'houshold', 'beaked', 'moaning', 'solemnly--', 'scruples', 'angeles', 'sachs', 'forgetful', 'sparrows', 'nondisclosure', 'expostulation', 'determined', \"cur'ous\", 'recoueries', 'bold', 'subtilty', 'refiner', 'tallow', 'edging', 'scotchmen', 'partaker', 'taciturn', 'stretchers', 'commit', 'squares', '7:10', 'cardboard', 'contrivance', 'thicket', 'writ', 'inconsistencies', 'fringes', 'nap', 'madness', 'unmeasured', 'bases', 'tendon', 'amiability', 'hart', 'fastest', 'anoints', 'mischiefs', '16:49', 'mesha', 'london', '12:8', 'overseer', 'intending', 'ali', 'transverse', 'dulcimer', 'occupations', 'rents', 'avenger', 'carriers', 'promisedst', 'divider', 'fail', 'boughes', 'hostage', 'xl', 'winced', 'zabbai', 'easterly', 'averse', 'torch', 'piccola', 'restrict', 'stringy', 'christendom', 'goblins', 'dun', 'omnipotent', 'arrests', 'lippety', 'brigands', 'vales', 'troubadours', 'rationality', 'represents', 'fals', 'equiuocator', 'bias', 'graffed', 'keeps', 'troubling', 'ponders', 'darknesse', 'however', 'upholding', 'guileful', 'blooded', 'lumberingly', 'guantanamo', 'wallises', 'parts', 'sorceress', \"unlearn'd\", 'w.', 'toast', 'berlin', 'breathless', 'bright', 'valuation', 'apparitions', 'seedlings', 'clover', 'boom', 'plaints', '28:18', 'sharezer', 'arms', 'circumstanced', 'reserved', 'executioner', 'perverteth', 'trackless', 'decay', 'month', '20:17', 'wrestling', 'multiplicity', 'rumor', 'confidence', 'turne', '2:6', 'genial', 'assassinate', \"offer'd\", 'heroin', 'symbolism', '30:36', 'throbbing', 'interference', 'armourbearer', 'fruitless', 'assuage', 'obsession', '1:8', 'austen', 'earrings', 'jasher', 'f*ck', 'sterile', 'rational', 'tx', \"cheek'd\", 'zabdi', 'sheth', 'uzzah', 'griefs', \"wreck'd\", 'manufacture', 'honeycomb', '230', 'floated', 'breakfast', '7:60', 'seize', 'flesh', 'exxon', 'murmur', 'inconstancy', 'circular', 'teens', 'losses', 'fortify', 'humiliated', 'conventional', 'quicker', 'middling', 'lyre', 'comedy', 'fred', 'slowest', 'inventors', 'harmless', 'trans', '27:29', 'viciously', '14:14', 'unconcern', '5:12', 'mane', 'letting', 'hoot', 'nods', 'suppressed', 'courageous', '46:15', 'yells', '65:7', 'falsified', '44:24', 'gritted', 'winthrop', 'longeth', 'adummim', '8:23', \"pitch'd\", 'distempered', 'equall', 'gurglings', 'clinic', 'shell', 'worried', '33:25', 'foundry', 'sag', 'containing', 'presentations', '23:6', \"to'th\", 'bequeathed', 'sanguine', 'nowise', 'package', 'burn', 'smote', 'fortunate', 'author', 'sleeper', 'genocide', 'diligence', 'milder', 'cooperate', 'moment--', 'rubber', 'intentions', 'treats', 'yawned', 'chips', '1:43', 'mint', 'boko', 'pillars', 'excrementitious', 'tourist', 'cursed', 'flip', 'melissa', 'postures', 'benevolence', 'pent', 'vex', '28:10', 'sores', 'small', 'enticed', '45:7', 'dismay', 'arvad', 'burgher', 'laded', 'nfl', 'discord', 'importing', 'crowes', 'abstract', 'glints', 'exchanging', '24:37', 'todhunter', 'grimed', 'shrubberies', 'cowslip', 'disabling', 'groening', 'unwashen', 'chast', 'horror', '42:18', 'jamming', 'centers', 'pushes', '24:6', 'incumbered', \"bear't\", 'thinned', 'sermons', 'stupidest', 'hump', 'vladimir', 'melbourne', 'demy', 'excellent', 'nahaliel', 'stubb', 'enthusiastically', 'enclosing', 'certainty', 'desultory', 'shading', 'erudition', 'scratches', 'willed', 'dramatic', 'personnel', 'kyaw', 'cock', 'stained', 'labels', 'chronicles', '46:19', 'girding', 'scooped', '54:1', 'spired', 'yields', 'stains', 'divisions', 'mightest', 'drachmaes', 'maddow', 'emergency', 'ammunition', '12:23', 'miry', 'sublimed', 'ere', 'topt', 'linear', 'gothic', 'sketches', 'magnificent', '21:39', 'guffaw', 'weaver', 'terrorism', 'burdensome', 'preemptive', 'libyan', 'trifling', 'advancement', 'demand', 'shimea', 'win', 'x.', 'battlefield', 'admittance', 'macduffe', '43:23', 'stomacher', 'befitting', 'betrayeth', 'pie', 'poems', 'awkwardness', 'pagan', 'growl', 'restrain', 'durst', 'volleys', 'apologised', 'haired', 'kellynch', 'bought', 'hazeroth', 'hamptons', 'pendent', 'regulations', 'carpet', 'nosed', 'inns', 'phrenologist', 'miserably', 'sunda', 'woollen', 'descried', 'unremarkable', 'kellyanne', 'explored', 'solved', 'yonnondio', '64:10', 'raved', 'peggy', 'cathaian', 'squat', 'cassi', 'soapstone', 'quiet', 'armchair', 'vnkindnesse', 'laughable', 'sperry', 'axis', 'slumbering', 'scale', 'huzzas', 'dhs', 'evenings', 'whaleships', 'afterwards', 'ceremonial', 'baskets', 'stomping', 'least', 'similar', 'guards', \"prick'd\", 'probably', 'solidity', 'circumventing', 'carrying', 'hairless', 'gettest', '12:32', 'pedestrian', 'fox', '24:51', 'miles', 'spouts', 'comprehending', \"consider'd\", 'torrid', 'growling', 'peculiarly', 'jeshaiah', 'bareheaded', 'prided', 'conjugal', 'doorkeepers', 'drown', 'unfounded', 'besides', 'spake:--', 'clown', 'smuggling', '39:1', 'creamy', 'ishi', 'searchest', '5:46', 'intrinsically', 'abominate', 'reversion', 'supplications', 'chaos', 'faculty', 'chill', 'wonderous', 'moustache', 'supplementary', 'shooke', 'sorrowed', 'psalmody', 'icy', 'felled', 'winsome', 'muscular', 'wrinkles', 'leading', '15:44', 'ludwig', 'disbelieve', 'angrier', \"fayl'd\", 'powerfully', 'panther', 'justifieth', 'toasted', 'ope', 'tenant', 'volition', 'irresolute', 'wades', 'sticke', '15:42', 'passport', 'zabulon', 'disrespectful', '10:2', 'coincide', 'expression', 'assiduity', 'wrecks', 'moorish', 'iust', 'fourteenth', 'sleepeth', 'tendencies', 'oppressive', 'corresponds', 'prescience', 'cool', 'judgment', 'allowance', 'coopers', 'mahlon', 'engraved', 'surges', 'ventilator', 'stoned', 'strenuous', 'tryall', 'boundaries', 'satan', 'bereave', 'thousandth', 'tiara', 'tempt', 'thoughtless', 'ebedmelech', 'preserves', 'lands', 'homesteads', 'surtout', 'drifts', 'let', 'crises', 'formes', 'madnesse', 'summed', 'enfeebled', 'mason', 'closset', 'assorted', 'xii', 'mistaken', '32:2', 'offensive', 'spiced', 'fathomless', '29:5', 'pot', 'amounting', \"disclos'd\", 'whitish', 'extravagance', '4:6', 'reigning', 'fourscore', 'premeditated', 'regularity', 'privileges', 'vigour', 'husbandman', 'taffrail', 'navy', 'deprived', 'nineteenth', '11:27', 'zorah', 'plaistered', 'strafford', \"purpos'd\", 'sleepily', 'rim', 'testified', 'implied', 'ducked', 'curbstone', 'immoral', 'lamps', '25:46', 'nightmare', 'vnnaturall', 'comfort', '21:37', 'tweed', 'example', 'shobai', 'zechariah', 'companied', 'detest', 'sounding', 'boatmen', 'telescopic', 'patrimony', '8:45', 'rankes', 'metropolitan', 'aslan', \"kil'd\", 'mermaid', 'recusal', 'sodomites', 'clipped', 'sexually', 'crumbled', 'headsmen', 'antonio', 'venison', 'whiplash', 'vexations', 'cavities', 'aright', 'solander', 'measured', 'grained', 'loops', 'availeth', 'symmetry', 'interviews', 'payrolls', '18:46', 'terrorists', 'reminder', \"lung'd\", 'puny', 'dividual', 'mill', 'broken', 'summits', '23:44', 'woodhouse', 'merchants', '10:19', 'garb', 'perpetuated', 'certainly', 'baalath', 'laide', 'mildly', 'diaper', '15:43', 'dogs', 'bulwark', 'claudius', 'moreover', 'gareb', '43:2', 'boss', 'vibrating', 'publisheth', 'hooking', 'satins', 'gloved', 'echoes', 'churlish', 'mode', 'buffets', 'unfortunate', 'gang', '6:11', 'myriads', 'liers', 'higher', 'imprisoned', 'cent', 'reverses', 'heavily', \"march'd\", 'beach', 'chieftains', 'opioids', 'cadaverous', 'thresh', '29:37', '41:7', 'scholarship', 'owing', 'taxed', 'woeful', 'vrge', 'wildlife', 'confederates', 'liu', 'obligations', 'rifle', 'forgettest', 'pauses', '11:10', 'profundities', 'nears', 'indomitableness', 'sleeping', 'whereat', 'cheerefully', 'tooth', 'meets', 'aggressive', 'misleads', 'spoutings', 'dozens', 'sbirri', 'craft', 'rough', 'gull', 'mac', 'hinnom', 'trumpet', 'sewing', 'allure', 'jails', 'investment', 'alone', 'forwarded', 'bumps', 'visitation', 'outrageous', 'folding', 'riggers', 'unobtrusive', 'subtlest', 'ruining', 'playbooks', 'statements', 'pallace', 'beastly', 'influence', \"fix'd\", 'plank', 'conduit', 'greasy', '15:5', 'almug', 'economically', 'justifying', 'decanters', 'barron', 'preface', '9:36', 'enable', 'frail', 'wen', 's.', '37:31', 'tiglathpileser', 'stall', 'halting', 'childhood', 'maggot', 'pleading', 'tramping', 'plots', 'unemployment', 'fifa', 'greet', 'immutably', 'coughing', 'you!--i', 'diadem', 'theory', 'articles', 'dominic', 'immemorial', 'projected', 'etf', 'folks', 'korah', 'cops', 'answere', 'mastery', 'laertes', 'stuff', 'intertwined', 'nonbinary', 'whoso', 'endeavoured', 'visions', '1:19', 'royalties', 'teach', 'mouthed', 'jacks', 'backbone', 'dunstable', 'snuff', '40:4', 'peacemaker', 'nightingales', 'properties', 'calamity', '44:26', 'caroline', 'fold', 'myrtles', 'spoileth', 'pagans', 'accidentally', 'parallels', 'indication', 'bruising', 'subvert', 'crashed', 'breathings', '10:5', 'israelites', 'tropic', 'blameless', 'postillions', 'snoop', 'salary', \"claim'd\", 'assiduities', 'mayhap', 'slang', 'deign', '40:6', 'the--', 'attract', 'beater', 'gerrymandering', 'bundling', 'object', '3:10', 'subpoenaed', 'josedech', 'classes', 'bleede', 'foote', 'straightforward', 'principal', 'acting', 'do--', '32:43', '12:22', 'syme--', 'sibilant', 'cherishing', 'blot', 'thirty', 'disrupted', 'thieving', 'olivet', 'sometime', 'crooked', 'prettily', 'unimpaired', 'livelong', 'indulgence', 'wrinkle', 'commented', 'ordering', 'rivulets', 'bluff', 'fanshaw', 'succumb', 'conspiracy', 'reflect', 'means', 'bumpers', 'baling', 'lectern', 'gales', 'presume', '21:6', 'extraordinary!--and', 'babe', 'gebal', 'resembling', 'grandmamma', 'term', 'bulkington', 'expedients', 'assets', 'feats', 'eternities', 'wildness', 'bankes', 'parlour', 'dui', 'competence', 'antichrist', 'una', '30:14', 'concernment', \"o'reilly\", 'basis', 'reproached', 'twittering', 'dodge', 'tiffany', 'sugar', 'jeshua', 'musically', 'flicker', 'alarum', 'oracle', 'clerk', '13:29', 'hissed', 'influences', 'jam', 'true', '32:9', 'possess', 'staggered', 'bolts', 'procrastinator', 'darius', 'affectionately', 'abating', 'plebeian', 'hurl', 'worldly', 'thirsteth', 'sacrilege', 'fourfooted', 'lank', 'medieval', 'overboard', 'alamo', 'bachelor', 'powdered', 'wicker', 'halah', 'telephone', 'seller', 'ungrown', 'raiseth', 'reasonableness', '24:46', 'undergrowth', 'nights', 'wedlock', 'argument', 'oxen', 'worshippers', 'sneering', 'seer', 'amuse', 'churchill--', 'sharpeneth', 'parricide', 'kindles', 'annulled', '21:43', 'straightened', 'delaiah', 'journalism', 'ribai', \"abandon'd\", '27:14', 'moist', 'soldier', 'stool', 'alleged', 'awards', '20:21', 'shaw', '30:33', 'bleeds', 'effulgence', '11:54', 'doused', 'upside', 'resounded', 'copies', 'buyback', 'uncorked', 'babyish', 'outright', 'helpful', 'trifles', 'slouch', 'identity', 'inciting', 'frozen', 'phurah', '19:48', 'drat', 'souldiers', 'portrays', 'windy', \"ne'er\", 'unremoved', 'intercepted', 'deeper', 'talb', 'moby', '36:12', 'vertebra', 'gallantry', '12:3', '45:3', 'babylonians', 'forbearance', 'tow', 'mesopotamia', 'unperceived', 'hearer', 'screw', 'secrecie', 'muslim', 'braue', 'arabia', '20:15', 'blaspheming', 'momentarily', 'unembarrassed', 'slovak', 'crony', 'brigandish', 'cordon', 'deform', 'crownprince', 'tibni', 'florid', 'vetting', 'recorder', 'eighteen', 'dept', 'pacific', 'goeth', 'flower', 'betharabah', '37:36', 'hip', 'fleshhooks', 'goliath', 'deliverance', 'saints', 'pacifics', 'advertised', 'bearskin', 'buyest', 'began', 'terms', 'marigolds', 'druggists', 'damaged', 'spinal', 'indestructible', 'listens', 'conservatives', 'afrin', 'spareth', \"wip'd\", 'galal', 'smoothly', '27:16', 'shoplifting', 'enlist', 'granting', 'bison', 'inspection', 'corruptly', 'fireside', 'playing', '10:20', 'asiatic', 'talk', 'buyouts', 'slated', 'dowager', 'asiatics', 'disqualified', \"confin'd\", 'specify', 'lightnings', 'lgbti', '17:40', '25:11', '32:42', 'uplifting', 'scullion', 'solicitudes', \"cert'nly\", 'growing', '33:33', 'standard', 'pamphylia', '32:24', 'albert', \"amaz'd\", 'wallis', 'justinian', 'spiritually', 'symbolized', 'novice', 'jebus', 'building', 'wealthiest', 'publike', 'dung', 'electric', 'sable', 'briers', 'niche', 'foreign', 'stuck', 'cozbi', 'payoff', 'quoted', '28', 'firearms', 'danish', 'hole', 'watches', '39:29', '26:4', 'inheritance', 'asahiah', 'rests', 'anarchism', '30:22', 'teaches', 'regardest', 'problems', 'gaius', 'emotions', 'student', 'gentler', 'resemblances', 'committee', 'regulated', 'palsy', 'lilliputian', 'bundle', 'firstfruit', 'methods', 'strolling', '46:8', 'stitch', '16:8', 'happeneth', 'settee', \"o'-shanter\", 'shearers', 'headland', 'pausing', 'recess', 'mass', 'simeonites', 'barrier', 'poleak', 'egotism', 'inked', 'palmers', 'andirons', 'reconciling', 'masterful', 'innkeeper', 'murmurs', 'steaks', 'incorruption', 'samaritans', 'scorching', 'grossness', 'fields', 'flap', 'effeminate', 'kohathites', 'goal', 'veers', 'widens', '12:30', 'rollaround', 'parbar', 'squire', 'shoals', 'wet', 'pompous', 'dislike', 'counting', 'literally', 'their', 'selleth', 'ingenuity', 'treb', '13:36', 'rears', 'scoured', 'softer', 'pew', 'butchered', 'chef', 'louer', 'mouthes', 'initials', 'curtly', 'footman', 'coachman', 'cluster', 'naioth', 'colombian', 'lip', 'attacker', 'streams', 'heads', 'cockpit', \"pleas'd\", 'stoops', 'isles', \"stay'd\", 'blisters', 'add', '40:33', 'direful', 'uncouth', 'hedges', 'profusion', 'oakes', 'ceaselessly', 'thirtieth', 'alleys', 'relationship', 'crowned', 'declaration', 'unerringly', 'reigne', 'swindlers', 'wickedly', 'bateses', 'harassed', 'commenced', '16:5', 'gov', 'boots', 'outstripped', 'downcast', 'proposest', 'sweetening', 'skeptical', 'disclosures', 'tobacco', 'transgressions', 'skeletons', 'disrespectfully', 'feeder', '112', 'unthinkingly', 'tobiah', '23:29', 'underwent', 'cannons', 'strengthened', 'curricle', 'vases', 'kadesh', 'larger', 'contribution', 'halloa', 'abstruse', 'violent', 'atheism', 'exhortation', 'unequalled', 'twofold', 'amidst', 'drafted', 'electrified', 'clinched', 'layer', 'lindsey', 'cradled', '9:17', 'conflicting', 'complicit', 'deepely', 'tangling', 'rezeph', '37:25', '20-year', '10,800', '30:20', 'shortness', 'deceiver', 'lesson', 'babies', 'penetration', 'lighter', 'wavering', 'impromptu', 'murmured', '18:29', 'magnifick', 'shooteth', 'penelope', 'experts', 'directly', 'nile', 'mound', 'condensed', 'delilah', \"n't\", 'sycamore', 'flourished', 'mending', '13-year', 'vitality', 'corporall', 'sobbed', 'birmingham', 'comical', 'brewery', '22:17', 'felons', '5:39', 'erdogan', 'knightley.--', 'barn', 'vicissitudes', '23:16', 'presumptive', 'points', 'jamin', 'fleets', 'spreads', 'mixed', 'affirm', 'mysticism', 'comforts', 'spencer', 'fining', 'crane', 'uncertainty', 'mists', 'droop', 'so.--', 'dogge', 'abetted', 'parkland', 'barefoot', 'attempts', 'alternately', 'trustest', '9:19', 'sprain', 'feigned', 'undecided', 'lade', 'blackmailing', 'loneliness', 'hopeless', 'warranted', 'daughers', 'brawny', 'robustness', '3:4', 'triumph', 'hamul', 'nurseries', 'stranger', '28:37', 'thinker', 'secularist', 'denouncing', '3:50', 'grandeur', 'marriott', 'participation', 'exult', '48:28', 'namely', 'waitest', '32:39', 'chastised', 'immunization', 'cooled', 'slaine', '1:22', 'pours', 'impudent', 'snowdrop', 'writer', 'buzzing', 'communed', 'reuels', 'surprises', 'stimulus', 'topic', \"visor'd\", 'gardener', 'porpoise', 'insinuations', 'concealeth', 'vow', 'quayle', 'omega', 'bewildered', 'gapes', 'alleghanian', 'alarmed', 'jeremoth', 'taxing', 'believe', 'gleaning', 'housetops', '30:35', 'crashes', 'stopped', 'shyness', 'friday', 'deepe', '20:3', 'galleys', 'cloak', 'ravening', 'fishing', 'refused', 'stopt', 'martin', 'rumours', '37:5', 'receiveth', 'serue', 'ever', 'charnel', 'ittai', 'expected', 'matthat', 'cultured', 'sanctified', 'musty', 'residue', 'beares', 'blitz', 'reminiscence', '45:8', 'gaash', 'hemispheres', 'housed', 'penitent', 'magistrate', 'east', 'battles', 'mightier', 'steamship', 'timotheus', 'oblong', 'sawn', 'donkey', 'zuph', 'peter', 'singled', 'reioyce', 'moab', 'herod', 'envious', 'beau', 'oberon', 'rattled', 'plough', '31,000', 'belated', 'guernsey', 'jewess', 'coldness', 'retract', '22:1', 'sleights', 'desolations', 'gertrude', 'trailing', 'disputings', 'enormous', 'puerto', 'sprinklers', 'preternatural', 'looking', 'grills', 'unworldly', 'abomination', '63:5', \"i'th\", 'jahazah', 'omnibus', 'beryl', 'tailed', 'clownish', '2:43', 'parson', 'baalberith', 'egg', 'untie', 'honored', '28:40', 'margate', 'foe', 'brightening', 'walkest', 'biden', 'emerged', 'nosedive', 'lengthwise', 'unsafe', 'snail', 'explain', 'connected', 'teneriffe', 'dec', 'bilin', 'expansive', 'tap', 'fee', 'shemiramoth', 'devious', '5:34', 'sparkling', 'sung', 'urgent', 'erastus', 'whoop', 'instrumental', 'reliable', 'scrap', '16:27', 'decision', 'inexperienced', 'rampart', 'pushing', 'foibles', 'deceive', '35:21', 'benching', 'perished', 'descent', 'sect', 'deter', 'prays', 'illaudable', 'swathed', 'mattock', 'distances', 'forecast', 'generic', 'ejaculation', 'sinneth', '11:48', 'marijuana', 'discovering', 'carcasses', 'acte', 'safest', '31:28', 'montague', 'continued--', '18:9', 'buster', 'manifestly', 'satellites', 'excused', 'uncomely', '20:44', 'dire', 'contributed', 'oligarch', 'dissimilar', 'impossible', 'suspends', \"unform'd\", 'stretches', 'franken', 'nebo', 'cart', 'huldah', 'stretcht', 'widest', 'gasps', 'complying', 'micaiah', 'precedes', 'douglass', 'scratched', 'bulbs', 'asleep', '41:5', 'lime', 'handsomer', 'mannahatta', 'branched', 'heccats', 'garnish', 'accommodating', 'matted', 'chapels', 'popillius', 'charted', 'corps', 'pampered', 'defense', 'initiated', \"plac'd\", 'amzi', 'dong', 'tribute', 'conuert', 'file', 'gibberish', 'principally', 'mow', 'footprint', 'billion', 'abishur', 'romancing', '9:29', 'importunity', 'cedar', '10:1', 'passengers', 'joses', 'burgess', 'promotes', 'actus', 'kanah', 'leaped', 'hesitating', 'buds', 'raping', 'haley', 'nigger----', 'hoist', 'redeemed', 'half', 'farcical', 'eares', 'newton', 'horseman', 'erik', '28:4', 'continued', 'worthy', '24:17', 'foal', 'unsought', 'managed', \"seal'd\", 'film', '20:26', '15:16', '5:36', 'mining', 'belongest', '14:34', 'refraction', 'martyr', 'everybody--', '37:33', 'philippians', 'stoven', 'sheepe', 'sleepie', 'bid', 'herodias', 'doleful', 'shutters', 'hecla', 'corkscrew', 'beans', 'wh', 'soup', 'flute', 'ache', 'upholden', 'romanza', 'encompass', 'awfully', 'tag', \"back'd\", 'mibsam', 'luminaries', 'rica', 'pleasest', 'patterns', 'but----', 'ironies', 'falls', 'cusp', 'objects', 'mention', 'politely', 'owle', 'distantly', 'caterpiller', 'unrestingly', 'doubt', 'discretion', 'ephraimites', 'of--', 'onto', 'courtesies', 'inaudible', '1:47', 'quito', 'rolling', 'misunderstanding', '66:10', 'banded', 'beneath', 'translates', 'threaded', 'anbang', 'shy', 'toys', 'centuries', 'unskilful', 'stanhill', 'boost', 'speechlesse', 'avoided', '9:14', 'firkins', 'willoughbys', 'reddened', 'metaphysical', 'wildely', 'scowling', 'security', 'admire', 'measurement', 'tranquillity', 'whetstone', 'natiue', 'sailor', 'mental', 'amorite', 'tarred', 'calculating', 'backwards', 'alternatively', 'curse', 'runneth', 'hallow', 'universities', 'cortege', 'provokes', 'i', 'hottest', 'amativeness', 'assir', 'less', 'granite', 'sequah', 'tarrieth', '29:33', 'unqualified', 'torments', 'surmounting', 'younger', 'fleeting', 'devoured', 'sweat', 'brer', 'halibut', 'throttled', 'exempt', 'thursday', 'materialist', 'birthright', 'raphaelite', 'aircraft', 'flint', 'magnificence', '42:2', 'campaigns', 'hittite', 'ascent', '34:14', 'winefat', 'winters', 'manor', 'interminable', 'russian', 'joyful', 'firstling', 'brayed', 'assiduous', 'thee', 'properest', 'realized', 'johnson', 'masters', 'hollow', 'squareness', 'tulips', 'investigate', 'shemariah', 'formal', 'dandies', '35:10', 'mystic', 'unavoidably', 'macaroni', 'misunderstand', 'height', 'harangue', '38:18', 'captivity', 'accumulations', 'nursery', 'thinnest', '1:38', 'elate', 'mechanics', 'victim', 'upbraid', 'night', 'april', 'reliance', 'leviathans', 'lawlessness', 'seclusion', 'duplicates', 'annoy', 'consented', 'attestation', 'sisters', 'shipwrecked', 'deputy', 'rapha', '15:32', 'hoshaiah', 'realization', 'spinning', 'guessing', 'fire', 'aimed', 'fills', 'ashore', 'cruse', 'wee', '56:7', 'appearance', 'shaphan', 'separateth', 'strikingly', 'thames', 'archbishop', 'throttle', '46:14', \"wither'd\", 'jefferson', \"i'm\", 'warmly', 'milke', 'c', 'galley', 'kicks', '26:28', 'cutlets', 'fudges', 'depicted', '   ', 'confidante', 'injurious', 'discussing', 'insurers', 'shiny', 'um', 'hawklike', 'mitigate', 'screenplay', 'fye', 'bunting', 'spundge', 'relatively', 'prospers', 'elton', 'deformities', 'repose', 'communing', 'restless', '78', 'platitudes', 'jehoram', 'beak', 'mutual', 'efficiency', 'embodying', 'observance', 'unites', 'industrious', 'similarly', 'stillness', 'eld', 'houres', 'islands', 'six', 'doings', 'chebar', 'donal', 'soldiours', 'readable', 'owed', 'affliction', 'ages', 'removes', 'bilious', 'timely', 'medicine', 'giddalti', 'colonies', 'sudden', 'silent', 'kosmos', 'aground', 'doct', 'clownes', 'entangle', 'prodigy', 'absolute', 'corresponding', 'next', 'suggest', \"drown'd\", 'easinesse', '49:26', 'coated', 'fans', 'mutiny', '48', 'grossenmark', 'erst', 'h.', 'angel', 'bodied', 'martha', 'roughest', 'tuileries', 'oar', 'booze', 'veal', 'castile', 'lawfully', 'sixe', 'consorted', 'bethlehem', 'gnawing', 'shopping', 'hatach', 'avoid', 'semicircle', 'track', 'askew', 'calico', 'crossing', 'strategist', 'planting', '21:32', 'doublet', 'abigail', 'belt', 'nonprofit', 'receptive', '25:24', 'gennesaret', 'ravines', 'carved', 'gardeners', 'restroom', 'balancing', 'toy', 'dynamiters', 'thresholds', 'tolling', 'rounds', 'airy', 'tilting', 'natural', 'tearful', 'exeunt', 'radiating', 'requited', 'wincings', '3:41', '61', 'iannucci', 'conjectured', 'kent', 'broiled', 'room--', 'floating', 'slammed', 'allowing', '16:22', 'stork', 'alreadie', 'mutton', 'pillared', 'competition', 'madeira', \"rul'd\", 'forefront', 'plant', 'finny', 'renaissance', 'department', 'mourners', 'campuses', 'conversion', 'nepheg', 'superintend', 'guns', 'pilfering', 'tulip', 'bustles', 'appeals', 'punished', 'adds', 'none', 'exultingly', 'savour', 'revolutionise', 'pertained', 'foreigners', 'faithless', 'preferre', '3:8', 'revolts', 'gates', 'dismissed', 'assertions', 'exacted', 'whiteness', 'orpah', 'schultz', 'embarrassments', 'marriages', 'olive', '31:46', 'compacted', 'prospered', 'quadrant', 'derides', 'manipulate', 'photographs', '4:35', 'grade', 'whirlwind', 'lavers', 'outbreak', 'insincerity', 'unfairly', 'dicotyledonous', 'taxpayers', 'serle', '17:10', 'reviling', 'satisfieth', 'attractive', 'says', '7:46', 'critics', \"y'are\", 'adulthood', 'irreconcilable', 'memo', 'lifted', 'she', 'getting', 'tiphsah', 'tombstones', 'styles', 'sieve', 'admirant', 'dictated', 'ipo', 'difficult', 'kneeled', 'amraphel', 'habor', 'unrolling', 'decoration', 'mahanaim', 'execration', 'railroads', 'ceos', 'sabre', '27:11', 'warder', '28:15', 'macian', 'circulates', 'conjecturing', 'atoned', 'unreal', 'flask', 'despiteful', 'grounded', 'strucken', 'cleverness', 'invaders', 'fraught', 'steeds', 'bridging', 'wedding', 'endowed', 'dodges', 'riphath', 'lucianus', 'coin', 'life', 'brooklyn', 'righteousnesses', 'segment', 'circumnavigating', 'collapses', 'nabobs', 'ithuriel', 'conscientious', 'material', 'props', 'promote', 'testament', 'fowler', 'officers', 'lizard', 'silly', 'snarled', 'framed', '50:22', '5-year', \"soil'd\", 'questionings', 'chimpanzee', 'twaine', 'amalek', 'unaware', 'marvellously', 'nutella', 'tweeting', 'kurdish', 'duncane', 'partridge', \"prison'd\", 'pulls', 'jubilant', 'seyward', 'luckless', 'frontage', 'elaborate', '50:16', '33:21', 'relinquish', 'pithon', 'rapid', 'quaking', 'peaceably', 'undesirable', 'inconsistency', 'listning', 'swiftness', 'gurgles', 'crowd', 'lilt', 'unfrequent', 'trumpeted', 'introduce', 'aspects', 'tragedy', 'testimonies', '59:10', 'cliff', 'contortions', 'habitues', 'embodied', 'spent', 'knees', 'unbroken', 'kite', 'models', 'infirmity', 'harping', 'jaaziah', 'sagittarius', '11:45', 'obtained', 'pervert', 'fareed', 'gomer', 'inroads', 'frankfort', 'stumblingblock', 'unfeeling', 'putrid', 'disadvantage', 'rainbowed', 'nelson', 'ample', '21:15', 'staircase', 'then--', 'q&amp;a', 'taverns', 'truculent', 'anatomical', 'razors', 'ankles', 'pulpits', 'disobeys', 'somerville', 'impressed', 'heartiness', '27:26', 'pills', 'dreamily', 'hens', 'highest', 'hector', 'virgin', 'brokers', 'exorbitant', 'corbyn', '3:51', 'uncommonly', 'compasses', 'train', 'bindeth', 'grapple', 'equivocation', 'ephesian', 'abreast', 'climbed', 'poles', 'zabad', 'lye', 'request', 'fleshy', 'monumental', 'jeff', 'yong', 'parturition', 'velocity', 'thirsting', 'meet', 'someway', 'rocking', 'unmarked', '5:33', 'fraternal', 'imperious', 'commandedst', 'induce', '51:3', 'roareth', 'jinglers', 'militarily', '9:55', 'compass', \"camp'd\", 'near', 'nimrim', 'phrenological', 'riveted', 'frequented', 'reductions', 'numbers', 'crescentic', 'graues', 'to--', 'baalgad', '22:44', 'forsaketh', 'seemed', 'treasures', 'mobile', 'approbation', 'rottenness', 'straightway', 'postponed', 'rarer', 'swan', 'sevens', 'lupercall', 'privilege', 'inaugurate', 'pedahzur', 'macy', '20:36', '57:7', 'maize', 'scrambling', 'peerless', 'piteous', 'invalid', 'test', 'sobriety', 'commercial', 'amethyst', '13:56', 'deigns', 'whelm', 'shuhite', '4:14', '7:17', 'saluteth', 'quarried', 'shithole', 'comparison', '21:2', 'reciprocating', 'captaines', 'loading', 'mourneth', 'indefatigable', 'accursed', 'summons', 'palmed', 'systematic', 'fill', 'naaman', 'differing', 'appals', 'because', 'robbers', 'lightens', 'hypocrisies', 'tyrannical', 'zealand', 'magical', 'substitutes', 'spluttering', 'weighing', 'marchioness', 'unpardonable', 'arvadite', 'kind', 'expends', 'communion', 'patient', 'trolls', '9:22', 'thinning', 'declares', 'enchanted', '11:13', 'liberty', 'negro', 'lightning', 'manchon', '7:57', 'lieu', 'settest', 'intellectual', 'nra', 'atlas', '30:34', 'falleth', 'deeply', 'medan', 'successe', 'mackerel', 'vitals', 'ammonite', 'entered', 'tampon', 'seemingly', 'chile', 'superiour', 'assured', 'despondent', 'society', 'markest', 'prima', 'minnesingers', 'ambassadors', 'renew', 'panting', \"watch'd\", 'solitaries', 'proposition', 'scorne', '26:14', 'exasperated', 'mastership', 'koboo', 'parlors', 'hungering', '6:44', 'companies', 'fallout', 'thither', 'brick', 'curves', 'filled', 'niggard', 'expressively', 'stony', 'immanuel', '3:3', 'honoureth', 'whizzing', 'dwellers', 'rhodes', 'inimitable', 'river', 'ghosts', '1984', 'journeyed', 'quench', 'sounded', '37', 'protestations', 'champollion', 'mindedly', 'for--', '22:42', 'intoxication', 'husbandmen', 'tanks', 'wits', 'minutely', 'cas', 'hansom', '10:14', 'warplane', 'shrivel', 'jibs', '11:12', 'embraces', 'hornet', 'pekee', '2:25', '3:39', 'buy', 'excluded', 'coils', 'caw', 'comfortably', 'hinges', 'then\"--', 'apprised', 'tranced', 'abolished', 'priscilla', 'swift', 'incoherently', 'diviners', 'reception', \"honor'd\", 'reuolt', 'hoboyes', '57:3', '39:27', 'fitness', 'ensemble', 'underlie', 'nymph', 'abide', 'thanksgiving', 'nato', \"endear'd\", 'vntimely', '5:42', 'assassination', 'indistinct', 'nutt', 'tolerance', 'firm', 'columbus', 'cleaned', 'investigating', 'hackers', '35:7', 'jehovah', 'nomination', 'convention', 'plays', 'electronics', '36:33', 'promoted', '250', 'acquired', 'oversight', 'repented', 'harlot', 'circumference', 'conspirators', 'permanent', '3:26', 'announcing', 'blazes', 'clattering', 'tarmac', '20:37', 'dwarfs', 'cramp', 'ostent', 'govern', 'stifling', 'heretics', 'orange', 'sobs', 'commonwealth', 'winners', 'frank', 'dealest', 'washpot', 'ties', 'fret', 'captain', 'stumpy', 'stoutly', 'cbs', 'bringest', 'little', 'grabbers', 'gnawed', 'equanimity', 'satisfactory', 'yes', '8:53', 'safe', '32:34', 'disabled', '11:14', 'turnbull', 'ramble', 'downward', 'ineffectually', 'conceit', 'undersetters', 'lifting', 'humming', 'enacted', 'multiplied', 'generalizations', 'malignant', 'meanly', 'hill', 'cite', 'octagon', 'proselyte', 'cynna', 'annually', 'iraq', 'untoward', 'debacle', 'arouse', 'cargo', 'cake', 'jiffy', 'mahath', 'warn', '31:29', 'enjoined', 'puffing', 'ribbed', 'classroom', '1380', 'irritable', 'explosions', 'lust', 'rithmah', 'anguish', 'esteems', 'unfettered', 'nature', 'assailants', 'lava', 'resettled', 'martyrdom', 'bannon', 'sprig', 'bezek', 'destroyeth', 'grenfell', 'seruants', 'evangelists', 'pox', 'gateway', 'sayes', 'exhibiting', 'putting', 'wanda', 'godliness', 'theological', 'duration', 'trestles', 'cynthia', \"bow'd\", '18:28', 'unprincipled', '59:17', 'punon', 'herders', 'react', 'scott', 'scowled', 'jokneam', 'hammers', 'hanoverian', 'romantic', 'disordered', 'charities', 'hoe', 'hails', 'coleman', '44:3', 'coxcomb', 'milked', 'immensely', 'eyeballed', 'improperly', 'zeresh', 'wrought', 'ammon', 'dispose', 'advising', 'faggot', 'turneth', 'spout', 'servility', 'armed', 'sublime', 'unguarded', 'swept', 'palisades', 'fain', '14:1', 'receive', '17:5', 'affrights', 'monstrosity', 'divineness', 'mash', 'outrageously', '10:29', 'crucible', 'recommending', 'thrush', 'managers', 'thud', 'phil', 'liberties', 'shamir', 'abbreviation', 'brands', 'certainties', 'deserted', 'empties', 'ithiel', 'spy', 'malaysia', '14:48', 'independence', 'committed', 'outraged', 'pooh', 'museum', '36:5', 'dissembled', 'terrace', 'billow', 'moabite', 'pines', 'trumpenomics', 'cullest', 'frigates', 'sacred', 'coasting', '14:32', 'slouched', 'airstrikes', 'farms', 'byword', 'shelomith', 'measure', 'flow', 'disputes', 'odour', 'ladyship', 'dunghill', 'suddenness', 'herring', '31:9', 'motive', 'homophobic', 'perfumes', 'slapped', 'tho', 'radiance', 'darkening', 'support', 'employee', 'introduction', 'continuously', '26:24', 'montaigne', 'flooding', 'undocumented', 'lioness', 'thereto', 'tharshish', 'provideth', 'blanket', 'trap', '32:11', 'triumphed', 'novitiate', 'banish', 'handspike', 'woman', 'entreated', '7:4', 'perplex', 'wearing', 'businesse', 'matt', 'professed', 'proportions', 'sheer', 'cleanseth', 'halfpenny', 'examples', 'assortment', 'thursdays', 'butterfly', \"vanquish'd\", 'heidi', 'irreversible', 'understandeth', 'ceaseth', 'bending', '2:20', 'figured', 'horonaim', 'cummin', 'tempted', 'busy', 'dusky', 'increasing', 'homan', 'oracles', 'chairing', 'kindle', 'encountering', 'hecuba', 'estimate', 'he', 'albino', 'rig', 'cried,--', 'flatter', 'moloch', 'ruins', 'dance', 'yellowish', 'thatched', 'mikneiah', 'fadeth', 'ammishaddai', 'soules', 'cures', '46:11', 'cubs', 'bet', 'goatlike', 'bosome', '34:13', 'ambrosial', 'frigate', 'joiarib', '8:58', 'adhesiveness', 'subtleties', 'contend', 'according', 'dard', 'broom', 'moabitess', 'reveals', \"vanish'd\", 'grope', 'sweeper', 'catcheth', '227,000', 'carpets', 'moisture', 'goodnight', 'settled', 'ahoy', 'eyes', '55:3', 'cause', 'tabernacles', '45:10', 'raamah', 'broker', 'skilfully', 'critically', 'affronting', 'amber', 'fools', 'averted', 'folios', 'diverged', 'scalded', 'exquisite', 'gorgeously', 'coole', 'looke', 'chaps', '7:34', 'addressed', 'flattening', 'extremes', 'brian', 'plainly', 'lenox', 'stoutest', 'cuomo', 'renounce', 'whitewashed', 'tranquil', 'presences', 'disdainfully', 'ios', '15:22', 'pole', \"d'souza\", 'accompanied', 'emims', 'appetites', 'skewer', 'irregular', 'dove', 'fatherly', 'withhold', '29:7', 'reel', 'regions', 'intersecting', 'cavil', 'dehumanized', 'windward', 'overshadow', 'submitting', 'pasture', 'professors', 'hadarezer', 'queequeg', 'sotai', 'changed', 'bobbing', '3:35', 'roaring', 'brethren', 'reckoned', 'asp', 'admin', 'athenaeum', 'potato', 'howl', 'herself--', 'investors', 'senses', 'lordly', '32:31', 'leonora', 'magots', 'maxims', '29:16', 'pall', 'formerly', 'grotto', '25th', 'darts', 'recouer', 'assange', 'arpaio', 'immorality', 'legions', 'onesimus', 'awry', 'libnah', '33:9', 'snowden', 'craven', 'elliott', 'must', 'standers', 'countersign', 'atomic', 'aplomb', '7:13', 'conquer', 'eare', 'karabakh', 'stalin', 'overspreading', 'habakkuk', 'dalrymple', 'retrograde', 'information', 'brow', 'tenacious', '11:18', 'caprice', 'hepher', 'worry', 'retribution', 'lets', \"accomplish'd\", 'tuning', 'smother', 'lens', 'catches', 'abundantly', 'gibeonites', 'daily', 'family', 'unkempt', 'sihor', 'battlements', 'contendeth', 'nergalsharezer', 'shore', 'minstrelsy', 'settle', 'animating', 'achshaph', 'apparel', 'unsound', '43:22', 'formed', 'unpoetical', 'maiestie', 'unceasing', '59:11', 'shewbread', 'mediaeval', 'nebuchadnezzar', 'now,\"--said', 'heardest', 'refreshments', 'mans', 'rehearsing', 'lice', '8:10', 'cruellest', 'admonished', 'advancing', 'demetrius', '26:30', 'anah', 'reassures', 'sparking', 'maintenance', 'criticizing', 'bashan', 'ministration', 'els', 'inn', 'grinned', 'nixon', '10:42', 'circumstance', '42:16', 'ze', 'desiring', 'objectless', 'moon', 'earls', 'hoping', 'glided', 'secrecy', 'tribe', '1:20', 'screams', 'indeed!--and', 'bohan', 'mightiest', 'hebron', 'turnes', 'pistol', 'wheeled', 'pretend', 'threats', 'darien', 'vainly', 'extremist', 'commanded', '1.play', '21:21', 'champion', 'offal', '39:21', 'kohath', 'tracks', 'archers', '12:24', 'thinking', 'his', 'beatings', 'dissipations', 'opens', 'rew', 'publickly', 'smoothed', 'indisposition', 'ironical', 'negative', 'dere', 'servants', 'holy', 'preserving', \"o'that\", 'bethel', 'fringed', 'champagne', 'divulged', 'tribulation', 'quakers', 'garrulous', '6:39', 'lie', '15th', 'repulse', 'trembling', 'restaurant', 'dotted', 'emergence', 'obadiah', 'manhunt', 'kelt', 'invitations', 'fountain', 'telem', '18', 'keepeth', 'finger', 'tandem', '12:41', 'coves', 'degenerate', '55:2', 'cic', 'irreverent', 'horonite', 'greybeards', 'pugnacious', 'hoppity', 'flatterer', 'embraced', 'frosted', 'clothing', 'madeleine', 'quake', 'pinckwerts', 'enchanter', 'sesame', 'introductions', 'ashdod', 'convulsions', 'shropshire', 'hai', 'insensible', 'rigged', 'clue', 'gala', 'mocking', 'tweet', 'reverence', 'anarchic', 'nightly', 'editorial', 'incinerator', 'veering', '17:18', 'pinioned', 'observant', '39:9', 'beene', 'quest', 'congressional', 'volcanoes', 'erelong', '29:18', 'thankfully', 'savourest', 'twill', '18:25', 'meteor', 'err', '1:46', 'gallowes', 'peculiarity', 'slewed', 'embellishment', 'cleverer', 'grazing', 'serjeant', 'governor', 'tenfold', 'designe', 'bespeak', 'infant', 'obtruding', 'senaah', '29:38', 'around', 'felt', 'abolish', 'roe', 'ardor', '15:45', 'godly', 'tissues', '35:13', '25:39', 'immigrant', 'traile', 'methusael', 'dispassionately', 'upstairs', 'palest', 'flings', 'aureola', 'peered', 'acrid', 'mesa', 'mayor', 'bethhoglah', 'turrets', '48:2', 'innate', 'foes', 'slappin', 'stretched', 'wig', 'twentieth', 'hesitated', 'weeks', 'slaues', '    ', 'airlines', 'yankee', 'venting', 'arcadian', 'trillions', 'carnage', 'often', 'drifting', 'importune', 'answering', '55', 'bodkin', 'squires', 'affix', 'vnction', 'piano', \"ye're\", '27:28', 'ahithophel', 'saue', 'prepossession', 'training', 'hen', 'encouragement', 'interrupts', 'emotional', 'bestowed', 'disclose', 'acquitted', 'organizer', 'valerie', 'unequivocal', 'ecclesiastical', 'seventh', 'reapest', 'leaved', 'santorum', '41:32', 'believing', 'remington', 'catarrhs', 'incurring', 'prep', 'bondwomen', 'businessmen', '19:24', 'wrung', 'madden', 'inquiringly', 'posing', 'eatest', 'body', 'weepes', 'racking', 'malluch', 'supplanted', '64:2', 'ravin', 'pluckt', 'holdeth', '7:11', 'charmes', 'sorely', 'revolting', 'gouerne', 'trash', 'frustrated', '3:25', '17:27', 'humour', 'loans', 'tombed', 'plume', 'salutes', 'trifle', 'sides', 'horhagidgad', 'abroad', 'incentive', 'stouthearted', '10:36', 'discerned', 'email', 'hack', 'pennant', 'sobbing', '87', 'impertinently', 'painted', 'carry', '26:51', 'massy', 'tenantry', 'potatoes', 'sakes', '26:1', 'inflaming', 'filter', 'while', 'gentility', 'documents', 'clotted', 'unconsciously', 'effrontery', 'quicksand', 'n.korea', 'ford', '2:48', 'similes', 'steered', '31:54', '23:48', 'somersetshire', 'personified', '6:23', 'threshingfloors', '20:32', 'jared', 'indicated', 'mater', 'winnie', 'overflow', 'inference', 'dealing', 'shrubs', 'massah', 'tenderer', 'requests', \"t'gallant\", 'competency', 'founder', '47', 'trotting', 'neighbours', 'scope', 'goldman', 'calve', '             ', 'unconvinced', 'void', '56:4', 'bland', 'proudest', 'generously', 'ushered', 'raising', 'elevation', 'sixpences', 'hugely', 'colt', 'elzaphan', 'crete', 'shirley', 'frowardness', 'appearances', 'scandinavian', 'teak', 'involutions', 'governments', 'ground', 'crest', 'abram', 'coll', 'rome', 'david', 'romance', 'evi', 'rocky', 'zephaniah', 'defer', 'deficiency', 'alfred', '27:9', 'hymenee', 'ironworker', 'bondman', 'privacy', 'cherethites', 'fanning', 'exeter', 'roll', 'aisles', 'unawares', 'pavilions', 'appropriate', 'tonight', 'racing', 'derail', 'resumed', '44:12', 'cobhole', 'obviate', 'bow', 'plague', 'flinch', 'planned', 'striking', 'claims', 'boils', 'twelve', 'asses', 'reproofs', 'obstinacy', 'confounds', '1:50', 'threshold', 'fascination', 'erect', 'accounts', 'hi', 'oblongs', 'symbol', 'twenty', 'receipt', 'silk', 'insurance', 'friendliest', 'dreams', 'placard', 'include', 'distrusting', 'expanded', 'seine', 'tortuous', \"whate'er\", 'admonishing', '26:3', 'sevenpence', 'cruelest', 'defeating', 'swimmers', 'engineering', 'downfall', 'inscriptions', 'names', 'hashabniah', 'opts', 'flattereth', 'doers', 'lockdown', 'indisposed', 'chancery', 'habituated', 'bout', 'workwomen', 'lush', 'himself', 'ammiel', 'constable', 'harshly', 'bewitching', 'drams', 'improper', \"distill'd\", 'elephanta', 'quid', '66:2', 'excitedly', 'credible', 'unwounded', 'impressive', 'intensity', 'development', 'sitar', 'seoul', '8:36', 'knotty', 'entrance', 'sprinkling', 'buff', '8:11', 'relation', 'fourpence', '24:21', 'provoke', 'displeasure', 'mad', 'philadelphia', 'ben', 'nigerians', 'maty', 'nehelamite', 'moulded', 'enigmas', 'dreyfus', 'syria', \"affear'd\", 'elioenai', 'bremen', 'kine', 'gratis', 'ejaculated', 'decrepitude', 'copiousness', 'castle', 'trading', 'subscriptions', '7:23', 'guest', 'insensitive', 'roots', 'goest', 'subverting', 'plowshares', 'numbness', 'adjacent', '15:3', 'waues', 'orbs', '12:6', 'player', 'leaues', 'ascending', 'cheeses', 'cruise', 'unaccountably', 'swooped', 'fabulous', 'repetitions', 'vice', 'zacharias', 'grone', 'ruffian', 'roughly', 'throb', 'realised', 'ann', 'parks', 'trespasses', 'sated', 'archive', 'spark', 'screech', 'envies', 'it;--', 'new', 'impertinent', 'expire', 'iowa', 'soles', 'freshets', 'vicar', 'arkite', 'untied', 'crieth', 'watereth', 'unlike', 'jerk', 'waked', 'pharaoh', 'lion', '16-year', 'killest', 'start**the', 'lodging', '64:8', 'momentous', 'rejects', 'quoin', 'centres', 'was--', \"wander'd\", 'blister', 'flexibility', 'facade', '38:26', 'baalmeon', 'everybody', 'kindreds', '                   ', 'annals', 'friend', 'wardrobe', 'compound', 'difficulties', 'drop', 'universe', 'minus', 'lyes', 'insolently', 'simpleton', 'comments', 'witnesse', 'dreamers', 'parade', 'uncles', 'bless', 'mixture', '23:45', 'ceased', 'hasten', 'circumspect', 'fixes', 'stanch', 'subsequent', 'zacchaeus', 'treacherous', 'strength', 'neither', 'epa', 'vestige', \"quench'd\", 'coursing', 'useth', '6:53', 'trafficking', 'baptism', \"fang'd\", '51', 'castes', 'canyons', 'topsail', '15:36', \"turn'd\", 'tip', 'regal', 'vegetables', 'servile', 'tyrannous', 'equating', 'richest', 'renounced', 'obstacles', 'nominee', 'neo', 'gurgling', 'tumbler', 'treacle', 'docs', 'pencil', 'robust', 'wroth', 'allay', 'gomorrah', 'disappointment', 'illnesses', 'delectable', 'gloves', 'recommend', 'downy', '6:32', 'populism', 'hunt', 'finishes', 'harpooneer', 'zobah', 'rank', 'apollo', 'mansfield', 'dunsinane', 'hertfordshire', 'budding', 'despise', 'chafes', 'ahab', 'steep', 'maon', 'rehum', 'sentry', 'spotty', 'ag', 'pronouncing', 'prettiest', 'appreciated', 'infowars', 'heroes', 'evince', 'lisa', 'saudi', 'realms', 'build', 'rosenstein', 'allegory', 'aimless', 'experience', 'kroger', 'roger', 'erections', 'doubling', 'glimmering', 'translating', 'grappling', 'tradition', 'plantation', 'hadoram', 'travailed', 'impoverished', '5:9', 'european', 'ziha', 'greenspan', 'sleek', 'antifa', 'gagged', 'predicament', 'panics', 'albright', 'nehemiah', '28:7', 'delusions', 'equiuocation', '10:23', 'rendered', 'guiltily', 'filthie', 'guilty', 'canterbury', 'livest', 'ceasing', 'midian', '35:26', '8:32', 'groaned', 'pittifull', 'appealing', 'disaster', 'lt', 'forbidding', 'gourd', 'blind', 'grass', 'glutted', '27:2', 'straitly', 'imployment', 'reversed', 'money--', 'saturate', 'lasso', 'exudes', 'cherub', 'whistle', '18:35', 'leftist', 'preaching', '26:16', 'commentators', 'hanun', 'springy', 'gallant', '23:4', 'foible', 'fairyland', 'mutilation', 'vessels', 'exaltation', 'dispute', 'unveils', '26:47', 'mastering', 'criminologist', 'baits', 'deputies', 'acknowledging', 'drugged', 'stable', 'slips', 'nephewes', 'wanton', 'endurance', 'savageness', 'inferior', 'chokes', 'slowness', 'dauntlessness', 'communicative', 'matchless', 'inscribed', 'fentanyl', 'excepting', 'worries', 'borrowed', 'fauors', 'steamers', '          ', 'amounted', '11:25', '27:12', 'honest', '8:29', 'mirrors', 'manhandle', 'bandied', 'il', 'likeness', 'garments', 'dared', 'flashy', 'agencies', '22:40', 'chappell', 'ended', 'bucket', 'legacies', 'trumpets', 'repaire', 'approaching', 'architect', 'cranial', 'fellowship', 'traverse', 'colts', 'coaxing', 'knightley', 'caius', 'coca', \"a'n't\", 'acquisition', 'ideal', 'attired', 'inward', 'tax', 'redeemer', 'improved', 'dread', 'remonstrated', 'rags', 'amisse', 'necessarily', 'lagging', 'fugitive', 'eyeful', '34:33', 'literal', 'habitations', 'streetes', 'somewhat', 'palsied', 'parted', 'edification', '66:4', 'mice', '56:10', 'seem', 'detested', 'interruption', 'beard', 'jones', 'drink', 'bed', 'quarrelled', 'spoliation', 'secret', 'spine', 'extract', 'leuies', 'doomsday', 'sensibly', 'h.w.', 'indicted', 'armor', 'smog', 'conception', 'plodding', 'readier', 'cassia', 'waned', 'perquisites', '36:21', 'reticule', 'glimmer', 'flavor', 'tangles', 'powered', 'launches', 'unblest', 'larches', '42:8', 'tertullus', 'elishua', 'could', 'mighties', 'faculties', 'in--', '13:20', 'classics', 'apples', 'pahathmoab', 'fishes', 'hamutal', 'snaky', 'indications', 'erroneous', 'beliefs', 'msnbc', '28:2', 'kindly', 'suavity', 'noonday', 'recompences', 'soundness', 'gun', 'zte', 'distrustful', 'mattathias', 'boon', 'defied', 'escorted', 'lengthen', 'financial', 'boldness', 'buses', 'scarsely', 'transgressed', 'vinedressers', 'battersby', 'entree', 'estimable', 'chip', 'seamen', 'miguel', 'cheerful', 'chedorlaomer', 'lexicographer', 'hena', 'persuasively', 'unrolled', '62', 'attitude', 'abstracting', 'ragged', '60:6', 'coverings', 'gog', 'ancestors', 'plans', 'apnewsbreak', '26:37', 'culpability', 'lowering', 'voracious', 'sharpen', 'magna', \"might'st\", 'swimmer', 'steamships', 'dive', 'greek', 'desks', '32:18', '21:28', 'restarting', 'augment', '11', 'derision', 'dyspepsia', 'ida', 'kitchen', 'softened', 'domestick', 'misgave', 'tatters', 'pangs', 'forsake', 'treatment', 'siluer', 'loosing', 'beautifully', 'good-', 'cabinets', \"pronounc'd\", 'procure', 'gaelic', 'drivers', \"distemper'd\", 'dagon', 'jesse', 'print', 'malachi', 'panic', 'watcher', 'negotiations', 'pillaged', 'pending', 'inclosing', \"thinn'd\", 'targets', 'field', 'matrimonial', 'elegance', 'desolate', 'basil', 'messing', 'herons', 'fagggots', 'dropped', 'quarta', 'exposure', 'price', '31:10', \"scatter'd\", 'asa', 'fashionable', '46:23', '40:26', 'vancouver', 'roused', 'handy', \"goin'\", 'bezai', 'thrive', 'degenerated', 'retiring', 'attributed', '45', 'contriving', 'favoured', 'pisseth', 'epher', 'rotation', 'traveling', 'tendons', 'existed', '10:45', 'torches', 'strove', '6th', 'beware', 'burly', 'holloa', 'curious', 'lastly', 'bloodiest', 'scolded', 'landlord', 'heereafter', 'shemaiah', 'vials', 'dinesh', 'glaring', 'effective', 'fahrenheit', 'seventy', 'archibald', 'ontario', '8:33', 'uncreate', 'burton', 'distaste', 'laburnums', 'remarking', 'science', 'somers', 'aeneas', 'triviality', 'sirion', 'balloon', 'terrific', 'griefe', 'dood', 'nibbled', 'eder', 'poke', 'bartholomew', 'telassar', 'accusers', 'subtlety', 'ports', 'wills', 'thrift', 'japhlet', 'nightclub', 'thirds', 'stigma', 'trebek', 'bitcoin', 'ferocious', 'laughingstock', 'pact', 'physicist', 'incumbrance', 'intelligence', 'unclad', 'voyagings', 'intermediate', '                        ', 'ratcliffe', 'tanked', 'manasseh', 'carpenter', 'mace', 'avoiding', 'acceptance', 'eliminated', 'ticks', 'string', '28:43', 'unprecedented', 'ministry', 'shipwrecks', 'cumbrous', '29:3', 'moderately', 'outcry', 'ariana', 'blushes', 'wentest', 'lowermost', 'canaller', 'inglorious', 'services', 'skinny', 'landed', '9:11', 'debate', '11:3', '25:29', '3:7', 'uneven', 'perverting', 'marseille', 'apparently', 'loretta', 'unintelligible', 'diverted', \"'re\", 'tapestries', 'openings', 'pontifical', 'emphasized', 'smiles', 'cannibalism', 'aholibamah', 'panicking', 'milcah', 'parthenon', 'pressure', 'dieth', 'lettering', 'floes', 'doctrines', 'application', 'strowed', 'emit', 'paste', 'prompted', 'filleted', 'hats', '32:12', 'immaterial', 'dollars', '4:42', 'appellative', '35:24', 'apologized', 'apish', 'bores', 'recovered', 'arouses', 'chesapeake', 'eliasaph', 'hilted', '45:5', 'quietest', 'balances', 'saw', 'view', '27:13', 'whirlwinds', 'absently', 'jews', 'cerulean', 'sherry', 'lendeth', 'dan', 'edified', 'partially', 'herbage', 'june', 'paran', 'entailed', 'electrical', 'forgat', 'tapering', '43:10', 'dane', '11:26', 'connatural', 'shabbiness', 'fainted', 'erebus', 'dishonourable', 'westward', 'remaining', 'prepareth', 'forger', 'adnah', 'testily', 'begirt', 'dived', 'sham', 'lit', 'espousals', 'owes', 'trickling', 'jogbehah', 'unpitied', 'bribe', 'roods', 'exalteth', 'replenished', 'iealous', 'handing', 'innermost', 'wagged', 'inlet', 'story', 'sheepskin', 'matrons', 'member', '24:16', 'buriall', 'errand', 'defection', 'fashioneth', 'bead', 'imagines', 'enforcement', 'fossils', 'mazes', 'crickets', 'sallu', 'mischeefe', 'ballistic', 'pocket', 'knowingly', 'misused', 'malefactors', 'magdalen', 'pulsations', 'bethmarcaboth', 'linen', 'guile', 'leo', 'singularly', 'graduate', 'wayfaring', 'unappalled', 'misled', 'panoramas', 'inert', 'castaways', '1:51', 'dumb', 'accord', 'crimes', 'surcharged', 'undivided', 'relinquished', 'wayward', 'scarred', 'arimathaea', 'riper', 'viewing', 'dictator', '1,000', 'phase', 'preferable', 'saddles', 'carlson', 'toi', 'jurymen', 'tingling', 'doe', '18:24', 'cromer', 'barzillai', 'simeon', 'lyon', 'know--', 'passer', 'patiently', 'finland', 'alarums', 'tends', 'brace', 'phrases', 'manuscript', 'furthermore', 'conway', 'poll', 'repressed', 'knowist', 'own', 'reviving', '2:54', 'churning', 'f.', 'shetland', 'species', 'abba', 'incurably', 'loathed', '33:31', 'proclaimes', 'undermines', 'impersonal', '49:1', 'unvisited', '                 ', 'shutdown', 'combs', 'confide', 'expose', 'mercosur', 'probable', 'tramped', 'confidant', 'waters', '24:22', 'embryo', 'consciences', 'possessions', 'noun', 'beggarly', '15:21', 'idols', '20:46', 'continents', 'distinctions', 'strolled', 'correctness', 'manasses', 'revenge', 'battered', 'incubus', 'navigation', 'melteth', 'steamboats', 'brought', 'wars', 'trials', 'audacious', 'automatic', '1:36', '21:20', 'intimation', '10:21', 'joky', 'sealing', 'uk', 'approached', '133', 'courage', 'comfits', 'atad', 'buttonhole', 'avails', 'greatness', 'apple', 'trodden', 'stowed', \"pick'd\", 'nunes', 'rejoice', 'advertise', 'families', 'trebble', 'nonchalant', 'doo', 'vane', 'unsatisfactory', 'precipitating', 'sociably', 'feathered', 'philosophical', 'suspended', 'topics', 'you', 'advised', 'hungered', 'zidon', 'achievement', 'condensation', '13:26', 'universally', 'horrors', 'faultless', 'gambol', 'jabneel', 'possibility', 'earned', 'el', 'azem', 'hands', '4:38', 'tapping', 'weedy', 'differeth', 'abideth', 'inexorable', 'talbotite', 'mis', 'proceedings', 'begetteth', 'ript', 'survivor', 'most', 'havoc', 'goodall', 'skipping', 'lady', 'clot', 'corinthians', 'veriest', 'unsaid', 'prepares', 'iv', 'eyelashes', 'buzite', 'masquerade', 'feb', 'besought', 'adoram', 'emerods', 'fellowlabourers', 'abia', 'rake', 'whereinto', 'sentries', 'uttereth', '16:30', 'bronze', 'homeliest', 'incongruous', 'equinoctial', '6:3', 'joha', 'darkling', 'n.', 'indecision', 'substituting', \"would'st\", 'revel', 'hast', '8:15', 'juttah', 'brokenhearted', 'madagascar', 'adviser', 'pace', 'dandified', 'judiciously', 'grievance', 'likening', 'machpelah', 'hollows', 'penny', 'terrors', 'infantry', '37:1', 'carol', 'distilled', 'gradations', 'modesty', 'impassable', 'gilded', '47:4', 'plaid', 'weighty', '4:27', 'tasks', 'friendliness', 'seafaring', '37:6', 'addrest', '35:9', 'danites', 'commoners', 'bedford', 'decks', 'choral', 'reap', 'gnashed', 'hostesse', 'adequately', 'boldly', 'wrestled', 'isolationism', 'economist', 'publishers', 'bare', 'sutor', 'contentedly', 'seise', 'claiming', 'stoop', 'attacks', 'peering', 'mute', 'affections', 'darkens', 'hashub', 'readies', 'archangels', '4:12', 'before.--', 'humorousness', 'debir', 'rambles', 'psychiatric', 'falwell', 'countenance', 'sulkily', 'provide', 'chiefest', 'ignominious', 'kayleigh', 'haggles', 'remembrance', 'meadows', 'chisleu', 'launched', 'ferret', 'obscured', 'highbury--', 'haire', \"model'd\", 'tendency', 'lieberman', 'falshood', 'nigh', 'rabbi', 'mamma', 'spile', 'rapped', 'abe', 'zuar', 'dasheth', 'shopman', 'corroborate', '14:43', 'import', 'will', 'starving', 'persecuted', 'cuckow', 'prayer', '13:21', 'beef', 'furbished', 'coasters', 'edges', 'brawn', 'now', 'george', '44:29', 'generated', 'ashamed', '26:15', 'yieldest', 'club', 'maternal', 'gayhead', 'expense', 'adp', 'ripen', 'although', '7:59', 'ornaments', 'virgins', '67', 'exercising', '36:15', '20:30', 'aristocratic', 'coarse', 'gain', 'misfortune', 'keen', 'comforters', 'dilatory', 'beamed', 'preside', 'bat', 'deplorableness', 'narrowed', 'lobbying', 'ignited', 'chants', 'pul', 'airs', '31:15', 'peddling', 'daunting', '65:4', 'outrun', 'fanaticism', 'thumb', 'shepherd', 'exotic', 'javelin', 'climax', 'policing', '10,000', 'references', 'slink', 'leadest', 'valentine', 'pranksters', 'stay', 'matrimony', '44:1', 'obliquely', 'whisperings', '36:6', 'scoop', 'necessitates', 'sheds', 'fig', 'fawne', 'bali', 'hiram', 'incommode', 'dispensing', 'veto', 'increase', 'flags', 'traded', 'scowl', 'subpoena', 'essence', '5:27', '46:6', 'sinnes', 'ourselves', 'shewedst', 'inculcating', 'dormouse', 'roome', 'bethhaccerem', 'unhappily', 'constituents', 'vncle', 'borders', 'say', 'dreary', \"'d\", 'hushathite', 'breastworks', 'commotions', \"combin'd\", 'shockingly', 'mountains', 'venezuelans', '9:18', 'long', 'aloft', 'distinct', 'chess', 'maritime', 'gadites', 'shuts', 'trapper', 'hewed', 'recover', 'tottering', 'traffick', 'discarded', 'rouse', '--so', 'colonnade', 'runoff', 'blacke', 'bearest', '4:20', 'oakum', 'auburn', 'elipheleh', 'webster', 'clashed', '26:18', 'rebuff', 'carols', 'chapiters', 'cerimony', 'undignified', 'starres', 'elves', 'borrow', 'scahill', 'series', 'disperse', 'toiling', 'shuni', 'rebellion', 'but--', 'diana', 'barring', 'aspersion', 'fancy', 'declined', 'armenian', 'rapists', 'starvation', 'alabama', 'started', 'aims', 'privations', 'rider', 'lonesome', 'chemical', 'presbyterian', 'soar', 'zuck', 'uc', '61:7', 'head--', 'undisclosed', '24:3', 'nepotism', 'deckt', 'thermometer', 'haven', 'gig', 'dilemma', 'defilements', 'shekel', 'samos', 'travel', '25:27', 'hyperborean', 'courtship', 'nut', 'harvard', 'snow', 'shows', 'foursquare', '1:42', 'transaction', 'quadruped', 'billy', 'moonlight', 'depths', 'achieved', 'header', 'salome', 'hearts', '6:70', 'praises', 'abel', 'parteth', 'voices', 'room', 'featureless', 'intrusion', 'unearthed', 'concludes', 'vniuersall', 'destroyed', 'noontide', 'patagonian', 'prescient', 'cathey', 'mastectomy', 'gho', 'interpret', 'elude', 'answerd', 'liveliest', '33:12', '26:20', 'buying', 'confesse', 'gittaim', 'huron', 'dad', 'reddy', 'kernes', 'windrows', 'flatly', 'resolutely', 'cattle', 'tuk', 'wikileaks', 'potty', 'roam', '12:50', 'past', 'denham', 'luminous', '48:17', 'frankness', 'demi', 'astronomer', 'order', 'situation', 'involves', 'thieves', 'baalzebub', 'pathos', 'automakers', 'smelling', 'shoo', 'greece', '18:4', 'annual', 'feud', 'overstrained', 'slice', 'helplessly', 'illustrative', '1:28', 'chides', 'strengtheneth', 'forcible', 'stilled', 'ducroix', 'undertone', 'point', 'groupings', 'unlocked', 'thibet', 'etta', 'forgets', 'withal', 'nimble', 'readers', 'weeper', 'thundered', '25', 'her!--', 'oblation', 'sinners', 'sincerity', 'seized', 'pomona', 'placidity', 'equilibrium', 'entertainment', 'eshtemoa', 'separations', 'mare', 'jocund', 'breeding', 'mathematician', 'seedes', 'encroaching', 'selfwilled', 'von', 'recompensed', 'screening', 'aspiring', 'persist', 'marksmen', 'christ', 'possessing', 'dunce', 'shouted', 'result', '20:31', 'huntest', 'groups', 'corn', 'desire', '23:39', \"untouch'd\", 'towing', '4:29', 'output', 'blasphemers', 'buttoned', 'entirely', 'quicke', 'remembered', '16:18', 'shark', 'foreigner', 'commandest', 'combustion', 'akkub', 'statistics', 'error', 'convalescence', 'systematically', 'fowls', '16', '39:20', \"refresh'd\", 'mishael', 'legendary', 'afoot', 'shorn', 'quieted', '47:10', 'hovered', '4:25', 'walketh', 'striped', 'swerve', '47:20', 'artist', 'listlessly', 'footed', 'walrus', 'speculations', 'cherish', 'engedi', '2:28', 'salon.com', 'ariel', 'bleak', 'muster', 'swallow', 'bible', 'indubitably', 'assailed', 'plain', 'admonition', 'drave', 'askelon', 'is', 'injunctions', 'quaker', 'vivaciously', 'bayonets', 'evident', 'ravenous', 'traitor', 'apostate', 'catholics', 'taint', 'birth', 'rustic', 'footsteps', 'butt', 'avarice', '28:26', 'shouldered', 'paled', 'trencher', '15:50', 'mounds', 'experiencing', \"riu'd\", 'encounter', 'decreased', 'transport', 'claw', 'profess', 'elk', 'stopping', 'screens', 'succoth', 'malign', 'sweete', 'served', 'rafts', 'physiology', 'peasant', 'remorseless', 'overhaul', 'ebooks', 'sapphire', 'phrygia', 'drums', 'nebulous', 'solemnly', 'palpable', 'crave', 'rod', 'forefathers', 'a--', 'lamentable', 'clefts', 'followed', 'clothe', 'dangerous', 'irritating', 'dart', 'gethsemane', 'evidence', 'wormes', 'uncovereth', 'wakeful', 'eliphaz', 'lunacies', 'troubleth', '31:5', 'authorised', 'claudia', 'thunderstruck', 'partisans', '59:8', 'misconduct', 'overlaid', 'loop', 'iddo', '62:10', 'grandson', 'her;--', 'smoky', 'spaniards', 'merriment', '49:13', 'clattered', '43', 'tyrannic', 'daughter', 'unfathomably', 'flee', '26:32', 'it.--', '7', 'whisked', 'rabmag', 'waltz', 'lucre', 'musicke', 'badger', 'understandest', 'gloss', 'snatched', 'phony', 'knocke', 'shimshai', 'affluence', 'brothers', 'quebec', 'shrine', 'adroop', 'respects', '                              ', '43:20', 'contraries', 'intermitted', 'magian', 'chamberlains', 'disobeying', 'j.', 'voterbase', 'charleston', 'jerahmeelites', 'wonderland', 'rekem', 'proceeded', 'construction', 'creep', '6:71', 'shadowed', 'sixty', 'pro-', 'dibongad', 'galls', 'hindu', 'paleness', 'plumes', 'antiquated', 'restraint', 'juncture', 'glancing', 'infantile', 'dem', '46:5', 'staffers', 'disapprobation', 'lookalikes', 'tended', '11:44', '19:44', 'ravens', 'anglo', 'bragge', 'perizzites', 'yorker', 'mystick', 'chemistry', 'sorcerer', 'despair', '13:38', 'gasped', 'rumour', 'compassion', 'session', 'plantedst', 'absalom', 'behindhand', 'wolf', 'duel', 'failing', 'marrie', 'vapour', '33:6', 'exposition', 'scandel', 'thankful', 'ferrars', 'population', 'mapple', 'ought', 'pause', 'miracles', 'unwelcome', 'television', 'embassy', 'harsha', 'discoverer', 'shrewdness', 'dale', 'kenya', 'dispersed', 'suppose', 'billionaire', 'jambs', 'unrestrained', 'formidable', 'behead', 'cracked', 'lofty', '65:5', 'captivating', 'jotham', 'situated', 'mutely', 'heres', 'mix', 'int', 'denounces', 'sluice', 'harbour', 'reserving', 'crawl', 'allow', 'ephah', 'miss', 'fluency', 'vehement', 'adue', '59:12', 'liberation', 'gendarmes', 'hello', 'trophy', 'caps', 'defies', '12:35', 'admires', 'stems', 'cory', 'aroma', 'riddance', 'htin', 'paps', 'appertained', 'tragicall', 'personally', 'swaddled', 'join', 'devotee', 'sally', 'cocks', 'confidentially', 'haman', 'tenons', 'stallion', 'adheres', 'spiritualist', 'lyca', 'conspire', 'd', 'seemly', '33:29', 'deploy', 'orchard', 'procreation', 'vnto', 'foot', 'teacups', 'eat', 'oversee', 'oneself', 'rephaim', '39:14', 'bottle', 'bookes', 'spurring', 'emigrant', 'unespied', 'flaneur', 'dispersing', 'climbs', 'paintings', 'arose', 'slightest', 'knife', 'begge', 'baken', 'monologue', 'foothold', 'xxii', 'dowry', 'victors', 'concord', 'wiser', 'scythes', 'key', 'behests', 'duc', '9:32', 'criteria', '22:16', 'permanently', 'tabor', 'submitted', 'martial', 'grievances', 'patted', 'confederacy', 'oust', 'thaught', 'whoops', '35:29', \"where'er\", 'wad', 'bosses', '6:40', 'extermination', 'feat', 'elementary', 'diversion', 'thereunto', 'salts', 'potency', 'lubims', 'leggings', 'dons', 'mountainous', 'stream', 'alderman', 'andes', '1:35', 'rip', 'vial', 'royalty', 'bribery', 'naamah', 'tray', 'identify', 'pitiless', 'junior', 'despatched', 'olympic', 'dreadfully', 'harm', 'seriousness', 'gabbard', 'screaming', 'faintly', \"curtain'd\", '13:53', 'unpersuadable', 'hauteur', 'joyfully', 'needing', 'beareth', 'cider', 'jezaniah', 'plateaus', 'barked', 'profaning', 'murderous', 'chapter', 'chamber', 'witless', 'showing', '35:25', 'elevate', 'bithynia', 'seised', 'stone', 'legion', 'cheerily', 'grapnels', 'signifie', 'restoreth', 'clawed', 'merged', 'curving', 'whatever', 'placing', 'ronald', 'did', '16:44', '33:32', 'bantering', 'embalm', 'hyacinth', 'unpleasant', 'disapprove', 'rehoboth', 'pinny', 'junks', 'ditched', 'footstool', 'shrewsbury', 'tanhumeth', 'monthly', 'dissembling', 'celebrities', 'essential', 'shalmaneser', 'prone', 'frying', '10:13', 'repent', 'barr', '190,000', 'brazilian', 'spice', 'elder', 'valour', 'harbor', 'warriours', 'founders', 'guiding', 'assumes', 'potter', 'reagan', 'survival', 'advocating', 'messages', 'chisel', 'tiger', 'bethlehemite', 'un', 'masked', 'tiled', 'naamathite', 'aristocrat', 'reacts', 'economy', 'slippers', 'russia', 'meryl', '19:37', 'sonorous', '34:17', 'comest', 'trumpist', 'tartar', 'gratify', 'raving', 'turns', 'walla', 'furlongs', 'busby', '18:40', 'nicely', 'hectic', 'gambling', 'snap', 'unpretending', 'behring', 'openeth', 'athens', 'imitating', 'proclaime', 'reduce', 'thy', 'murray', '6:1', 'alb', 'intermixed', 'muffin', 'megyn', 'orbic', 'medication', 'lurking', 'overseeing', 'senator', 'familiarity', 'funeral', 'handleth', 'annoying', 'littleness', 'print!**for', 'requisition', 'plenteous', 'losse', 'mallets', 'eclat', '|', 'sackbut', 'nodding', 'zealously', 'ribs', 'taxpayer', 'sudan', 'flopped', '22:5', 'beest', 'menaced', 'blaming', 'anna', 'curiouser', 'ripple', 'radish', 'outfit', 'remedie', 'thereon', 'tails', 'please', 'fears', 'nobah', 'hitler', '25:4', 'dissimulation', 'guessed', 'gonzalez', 'tumultuously', 'weale', 'outline', 'navalny', 'serried', 'ioynt', 'tam', 'quivering', 'giloh', 'want', 'lyft', 'squeezed', 'racists', 'splice', 'hunted', 'convenient', 'edication', 'extoller', '26:34', 'manipulated', 'overcometh', 'woven', 'joanna', 'le', 'entitlements', 'dedicating', 'pupella', 'saving', 'truly', '9:12', 'minnesota', 'extinguished', 'herein', 'howls', 'conundrum', 'trust', 'cherisheth', 'dough', 'blushed', '16:12', 'fits', 'demanding', '8:19', 'joyless', 'astern', 'natured', 'mourner', 'possesse', 'patches', 'espied', 'eilidh', 'ishbak', 'etext', 'zeboim', 'great', 'unleashed', 'dignity', 'playground', 'amended', 'decrees', 'quizzed', 'swash', 'punctilious', 'mushi', 'harrison', 'sarah', 'unprejudiced', '58:3', 'ekronites', 'dispensation', 'usually', 'elapsed', 'judith', 'undulations', 'darling', 'cometh', 'streets', 'unholy', 'willows', 'impersonated', 'endwise', 'recollection', 'kerioth', 'bahrain', 'detail', 'pedigree', 'vividly', 'esau', 'concerneth', 'neapolitan', 'seek', 'hygienic', '36:7', 'hittites', 'blundered', 'volume', 'satisfie', 'combinations', '16:9', 'portuguese', 'butts', 'wonderful', 'saluted', 'uncondemned', 'hoglah', 'pantaloons', 'crutch', 'ono', 'interrogation', 'cheese', 'civilly', 'pavilion', 'abilities', 'autocracy', 'greitens', 'iniquities', 'wags', 'augustus', 'baldwin', 'forgave', 'goose', 'joins', 'cinque', 'akin', 'dumbe', '7:70', 'flourishing', 'canvassing', 'quarrels', 'lapierre', 'bend', 'attuned', 'results', 'gallipagos', 'refuseth', 'gratified', 'dandy', 'fundraising', 'activity', 'secrets', '33:24', 'enlivened', 'guerrilla', 'proved', 'sordid', 'moderate', 'virtual', 'pelethites', 'maiesticall', 'usa', 'planteth', '9:4', 'contemplated', 'g', 'luncheon', 'puritan', 'showdown', 'expectantly', 'huddle', 'mildness', 'modest', 'enforcing', 'cynically', 'congratulations.--', 'semitism', 'orgies', 'eternal', 'seedsman', 'yards', 'credited', 'sassy', 'drape', 'landing', 'minors', 'segub', 'pathros', 'strongly', 'cowards', 'cringing', 'doores', 'meditation', '55:1', 'repetition', '50:14', 'vole', 'd.c.', 'orbit', 'labyrinths', 'dispossessed', 'strict', '17-year', 'began:--', 'sanctions', 'warranties', \"a'top\", 'pro', 'teresh', 'slamming', 'thereabouts', 'consummate', 'stare', 'barges', 'silliness', '13:8', 'pompey', 'despotism', 'reappeared', '22:25', 'impediments', 'gatherings', \"prais'd\", '5:26', 'diggeth', 'egress', 'inhabit', 'balak', 'eaters', 'supporters', 'hightened', 'ascribe', 'dewy', 'begotten', 'imagery', 'serenades', '25:3', 'exhaling', 'litter', 'rameses', 'judah', '22:32', '64:5', 'devolved', 'avert', 'pindarus', 'fainter', 'rise', 'yard', 'elasticity', 'parturitions', 'hues', 'coast', 'bowditch', 'jumper', 'nevadas', 'thousand', 'judged', 'distinctive', 'group', 'freedom', 'unostentatious', 'prevented', 'marbles', 'hillock', 'freezer', '>', 'writings', 'fool', 'fished', 'close', 'pacifieth', '6:48', 'masts', 'skipper', 'sayst', \"look'd\", 'basketful', '2:8', 'brightest', '56:8', 'query', 'cue', \"ne're\", 'nominal', 'whitebait', 'collecting', 'bruno', 'u.s', 'simon', '1:53', 'run', 'veiled', 'lined', 'bequeathing', 'amplest', 'saboteur', 'guiltless', 'senile', 'joiner', 'activism', 'temps', 'instincts', 'reuel', 'before', '1.ple', '15:48', 'expeditiously', 'accustomary', \"receiv'd\", \"crouch'd\", 'chats', 'leysure', 'demerits', 'conceded', '99', 'simplicity', 'tightened', 'clears', 'leases', '75', 'larkspur', 'luckiest', 'centurions', 'ode', 'laughter', 'round', 'foil', 'whistled', 'nethaniah', 'app', 'hal', 'inducing', 'disappeared', 'achzib', 'specialist', 'linger', 'wikipedia', 'uplift', 'tuft', 'kneele', 'sackcloth', 'dention', '31:35', \"determin'd\", 'doeg', 'cosmetic', 'antic', 'hah', 'elected', 'celebrate', 'kingdoms', 'angular', 'lusty', 'things', 'viii', 'compassions', 'nahash', 'defendants', 'droops', 'chiefs', 'inside', 'loosened', '1:30', 'onely', 'cube', 'religionists', 'arm', 'wilson', 'parlours', '16:10', 'jolly', 'homer', 'emetics', '25:22', 'dose', 'winked', 'ruble', 'gresham', 'fervent', 'oiled', 'confound', 'indolently', 'labours', 'drummers', 'tin', 'shakespeare', 'performers', 'farrakhan', 'laban', 'repay', 'comprehended', 'consist', 'light', 'wrath', 'prepossessing', 'intent', 'accomplishments', 'pleases', 'peaked', 'sacraments', 'voyaging', 'quartered', 'imprudent', 'ointment', 'apoplexy', '44:31', 'deals', 'condolence', 'shafiq', 'philosophic', 'abnormally', 'wayside', 'stroll', 'i--', 'josias', '34:26', 'digression', 'mattan', 'arena', 'villains', 'label', 'reza', 'programs', 'if', 'envyings', 'makings', 'mulligan', 'nomads', 'calles', 'forefinger', '14:15', 'endangering', 'har', 'isshiah', 'avenues', 'investigated', 'supreme', 'vnbraced', '13:40', 'clave', 'jerimoth', \"recall'd\", 'thief', 'spoiler', 'hereby', 'analyzed', '36:28', 'innocuous', 'bethsaida', 'morally', 'weekend', '16th', '28:36', 'talbots', 'give', 'brennan', 'harassment', \"murder'd\", 'smelt', '58:7', 'wildenesse', 'sawce', 'literary', 'tirshatha', '15:54', '6:13', \"unimplor'd\", 'laureates', 'striker', 'voicelessly', '45:9', 'lawyer', 'hearkened', 'reporter', 'unattended', 'signaling', 'freedome', 'hath', 'unwilling', 'ebcdic', 'impair', 'twin', 'success', 'buyeth', '34:24', 'software', 'accommodated', 'comfortable', 'bedrooms', 'workmanlike', 'exhibited', 'factious', '43:15', \"loos'd\", 'ap', 'tenney', 'secondary', 'counteracted', 'attacked', 'purely', '16:45', 'temporal', 'spirals', '35:3', 'sweepers', 'gunwale', 'louisiana', 'page', 'intimacy', 'vehicles', 'exerted', 'cloudy', 'sipping', 'chaldee', 'lumps', 'venice', '18:22', 'joker', 'master', 'acceptation', 'halloo', '27:18', 'swerved', 'farage', 'iest', '            ', 'discount', 'popularly', '51:6', 'casuistry', 'indecipherable', 'based', 'hirsch', 'dispel', 'brevity', 'contrasted', 'spherical', '2:10', 'transferred', 'sendeth', 'confess', 'adjure', 'dubai', 'tentacles', 'blandness', 'refraine', 'strewn', 'mazy', 'vaunting', 'promptitude', 'weapon', 'racial', '21st', '82', 'tenaciously', 'caro', 'disdained', 'ebb', 'sagaciously', 'fightings', 'yarmouth', '34:28', 'impanels', 'nest', 'analogies', 'musk', 'usurped', 'browser', 'insane', 'dissolved', 'distort', 'highminded', 'petted', 'riddles', 'immensities', 'momentary', 'throwing', 'stooping', \"receiu'd\", 'continue', 'stayed', 'rainy', 'prohibition', 'languages', 'carvings', 'scabbed', 'stunning', 'parle', '42:1', 'toils', 'crispy', 'gouge', 'aven', '27:27', 'irreproachable', 'porches', 'hammelech', 'commendeth', 'movements', 'spell', 'arrested', 'phases', 'popil', '34:32', 'elevated', 'congratulating', '44:6', 'sits', 'erewhile', 'gazingstock', 'congratulations', 'notre', 'scepter', 'curses', 'arrives', 'ramoth', 'zalmunna', 'pipes', 'ancient', 'alaska', 'fro', 'inexpressibly', 'false', 'zebedees', 'indisputable', 'original', 'twopence', 'disappearance', 'unharming', 'bitnet', 'mizzah', 'vol', 'midsummer', 'appellation', 'departs', '19:40', 'dotards', 'bone', 'silvanus', 'preeminence', 'chowders', 'shammua', 'lapping', 'propositions', 'logs', 'inconstant', 'thundereth', 'arbour', 'knitted', 'flail', 'insurgents', 'abiezrites', 'hananeel', 'penetrating', 'rapping', '2:23', 'brutish', 'recurrence', 'abatement', 'saucy', 'beaux', 'poetic', 'astral', 'nocturnal', 'nadab', 'was!--', 'maacah', 'healthfull', 'traversed', 'voice,--', 'cieled', '16:48', 'ammihud', 'commentaries', 'aggregate', 'instinct', 'thank', 'vexed', 'tourists', 'ply', 'northeast', 'preparatory', 'ile', 'worthier', 'scandal', 'oldest', 'insurrection', 'agone', 'steersman', 'fitches', 'superhuman', 'noaa', 'learnedly', 'wrathful', '40:31', 'selues', 'sleepless', 'edition', 'heave', 'amittai', 'base', 'apprehend', 'gihon', 'fastened', 'delhi', 'rebounds', 'rind', 'sunday', 'keepe', 'slope', 'benchmark', 'loyalty', 'classed', 'deliberating', 'prison', 'inquiries', 'umpire', '24:30', 'ivah', 'emptying', 'stride', 'ouster', 'peeped', 'webs', '21:25', 'daintiest', 'biography', 'shoddy', 'snug', 'guesse', 'heedless', 'boards', 'grosser', 'allegation', 'athlete', 'delicatesse', '6:50', 'teareth', 'visage', 'crags', 'obeisance', '27:22', 'fists', 'butler', 'walled', 'downright', '47:5', 'no', '10:6', '2:12', '1.5', 'eliphelet', 'anomaly', 'assyrians', 'prizes', 'descrying', 'snuffed', 'aids', 'yokes', 'honestly', 'lop', '19:17', '14:51', 'wires', 'soups', 'immoderate', 'moued', 'genealogies', 'scribbled', 'mirages', 'commandment', '37:3', 'adjust', 'tailor', 'introduced', 'roares', 'yourself', 'honours', \"anger'd\", 'descends', 'clapham', 'revile', 'bosnia', 'ellison', \"unblam'd\", 'moccasin', 'sanctification', 'dressed', 'preservest', 'dolphins', 'idiotic', 'serpents', '7:56', 'accosting', 'lovelier', 'treble', 'trails', 'fatally', 'brimmed', 'daca', 'xerxes', 'manilla', \"i'll\", 'bowled', 'kisse', 'burnings', 'voltemand', 'unanswerable', 'hardened', 'gat', 'wreak', 'poking', 'cub', 'dig', 'stabs', 'conveniently', 'misconstruction', 'tride', 'beneficial', 'offensively', 'scripture', 'altitudes', 'endorse', 'sights', '40:15', 'collyogh', '24:12', 'if--', 'squeaky', 'cyrene', 'byrnane', 'sapphires', 'anchored', 'shrieks', 'protracted', 'organised', 'clods', 'raced', 'stamped', 'sleepest', 'flirting', 'wentworth', 'comprised', 'assembled', 'relates', 'desert', 'cheefest', 'overthrew', 'backsliding', 'proximity', 'diesel', 'aloofe', '66:12', 'orders', 'sauage', 'toxic', 'suck', 'tappuah', 'octauius', 'sina', 'fanciful', 'folk', \"promis'd\", 'burnt', 'obtains', 'inhabiting', 'equal', \"lengthen'd\", 'instructor', '10:24', '43:17', 'monotony', 'beautify', 'dryness', 'talent', 'fictional', '44:22', 'sicke', 'highwaymen', 'hiding', 'curds', 'grasshopper', 'foole', 'hatters', 'em', 'detained', 'musgrove', 'speck', 'firmament', 'lodge', 'cyberattack', 'fanatic', 'eliada', 'fortunes', 'skirmish', 'barton', 'calmness', 'occurred', 'prisoner', 'differently', '42:23', 'restructuring', 'benedictine', 'diet', 'gardens', '        ', 'emulous', 'abides', 'regardeth', 'simpler', 'hawks', 'progeny', 'regardless', 'firstborn', 'speeding', 'land', 'buzzard', 'overhanging', 'unmannerly', 'lusted', '31:30', 'bounty', 'privy', 'here.--', 'conversational', 'bombay', 'verge', 'saner', 'reveries', 'tempter', 'massa', 'enforced', 'scull', '26:56', 'personality', 'swagger', 'followes', 'upborne', 'inflammatory', 'kingly', 'brine', 'cold', '11:23', 'serve', 'exhort', 'grosse', 'malefactor', 'oscillating', '2010', 'both', 'events', 'arbitrary', 'shobab', 'bilhan', 'rehabiah', 'amsterdam', 'anamim', 'rancour', 'caiaphas', 'casteth', 'spendeth', 'exit', 'tattoo', 'asterisk', '44:8', 'aristocrats', 'exciting', 'confesses', 'car', 'attracting', 'convex', 'bearings', 'laboureth', 'pendragons', 'unsolvable', 'thyatira', 'bedfellows', 'ahira', 'hazards', 'abstain', 'weston--', 'energies', 'forewarned', 'alehouse', \"bruis'd\", 'parading', 'scanned', 'midterm', 'revolve', 'unlimited', 'cleopatra', 'kennedy', 'deuel', 'spontaneous', \"press'd\", 'twigs', 'turning', 'crank', 'moose', 'wreck', 'emitting', 'besmeared', 'curtsies', 'persisting', 'villager', 'dislocated', 'merlin', 'piles', 'invader', 'occasionally', 'tilt', 'impulses', 'eglah', 'gushed', 'singers', 'zedekiah', 'smallness', 'ao', \"mou'd\", 'marred', 'traversing', 'kanye', 'tishbite', 'sustain', '33:22', 'lantern', 'significance', 'jest', 'joktheel', 'refill', 'overturneth', 'forsook', 'shebuel', 'defaced', 'captains', 'lingo', 'imf', 'fun', 'bilhah', 'ancestor', 'stein', 'scant', 'tydings', 'waiter', 'disastrous', 'ribands', 'tashtego', 'warmbier', 'countenances', 'ticket', 'hating', '7:62', 'hisse', 'limiting', 'roasts', 'blemish', 't.', 'natives', 'dehumanization', 'jabesh', 'arrive', 'rendred', 'insatiate', 'retrench', 'fancies', '91', '31:22', 'begging', 'elephants', 'overcame', 'khamenei', 'drums!--blow', 'president', 'detestable', 'molech', '5:10', 'smell', 'aduantage', 'circled', '39:11', 'scotcher', 'mahli', 'whalers', 'questionable', 'starting', 'degrades', 'cuba', 'redwood', 'disagreement', 'sinner', 'nunberg', 'ater', '31:12', 'requiring', 'arches', 'empress', 'mecca', 'maidservants', 'impulsive', 'heading', 'conjured', '6:61', '38:25', 'moladah', 'pure', 'worshippeth', 'ankara', 'pleasure', '19:46', 'killings', 'affects', 'blast', 'smash', 'artemidorus', 'kaspersky', 'abaft', 'coppers', 'fishery', 'cup', 'urge', 'browne', 'luther', 'executor', 'sending', 'emigrants', 'pontus', 'waxen', 'here?--', '35:16', 'set', 'handcuffs', 'pudding', 'lycaonia', 'surlily', 'refreshment', 'ozias', 'nodded', 'droves', 'geese', 'tanned', 'concocted', 'hobby', 'montem', '20:7', '15:52', 'followeth', 'queries', 'kanada', 'premier', 'hjiab', 'deare', 'talks', 'preserve', 'castest', 'benumbed', 'jerah', 'characteristics', 'alway', 'allotted', 'web', 'shimeah', 'elevates', 'aside', 'faded', 'paris', 'enquire', '37:24', 'oathes', 'cottages', 'marechal', 'attain', 'witnesses', 'evidently', 'unminded', 'reside', 'peacocks', ' ', 'imagination', 'primeval', 'possessed', 'hearken', 'fed', 'jagged', 'scorneth', 'berries', '4', 'fight', 'unlikely', 'whimpering', 'ailments', '7:52', 'labrador', 'cobb', 'declassified', '22:36', '2020', 'fortifications', 'treacherie', 'dustier', 'vanish', 'lexicon', 'grimm', 'byrlady', 'shouting', '45:19', 'odde', 'soone', '22:45', 'abusing', '5:7', 'fetid', 'jeshurun', 'dismounted', 'yer', 'blackish', \"furnish'd\", 'reunite', 'lacked', 'principle', 'living', 'windows', 'malcolm', 'pitchy', '97', 'foresight', 'knobs', 'transcendental', 'target', 'now.--', 'enviable', 'floors', 'unending', 'vicinity', 'puissant', 'sabbee', 'arrived', 'graveyards', 'along', '5:43', 'unsavoury', 'ashdothpisgah', 'nectar', 'mistifying', 'mockings', 'individually', '16:2', '22:14', 'leddest', 'previously', 'actions', 'pekahiah', 'jester', \"envenom'd\", 'stamping', 'absent', 'echo', 'smoothing', '@realdonaldtrump', 'ajalon', 'sultry', 'foie', 'phiz', 'cisterns', 'waggons', 'finely', 'ringed', '23:46', 'trench', 'division', 'undue', 'tema', '37:30', 'shalmai', 'cautioning', 'estranged', 'asketh', 'detachments', 'workings', 'provided', '44:23', 'vndone', 'strip', 'twas', 'braggart', 'waxed', 'bloodie', 'discoloration', '12:39', 'alarm', 'donor', 'admah', 'lawns', 'condemned', 'renders', 'baasha', 'believeth', 'clamber', 'crofts', 'melzar', 'whitwell', 'lids', 'succeeded', 'peerage', 'wounds', 'pirathonite', 'villain', '61:2', 'children', '40:28', 'noyse', 'festivity', '51:4', 'tacit', 'jem', 'redstate', 'expensive', 'seeking', 'shed', 'coronation', 'sepulchre', 'montano', 'euents', 'confinement', 'whites', 'candour', 'hike', 'unsolved', 'disport', 'posts', 'quite', 'capitals', 'precious', 'azure', 'milky', 'warped', 'experiences', 'ernani', 'persevered', 'ithrite', 'corners', 'yourselves', 'amelioration', 'rate', 'freshening', 'shobach', 'supercharged', 'crystal', 'mislead', '62:12', 'marketplace', 'hospital', 'carelessly', 'farm', 'wittenberg', 'aduice', 'heauenly', 'booed', 'insider', 'depend', 'change', 'rods', 'hebrew', 'snowy', 'creations', 'filthy', 'nail', 'precede', 'smashing', 'whereupon', 'lovely', 'bebai', 'masculine', 'onpolitics', 'ngos', 'pots', 'crazy', 'metallic', 'colorado', 'pestilences', 'certified', 'snodhead', 'irrespective', 'humorous', 'sources', 'spitzbergen', '3:18', 'rippling', 'romans', 'wilder', 'privatize', 'savans', 'allowances', 'ripe', 'fortress', 'farmer', 'complaining', '43:4', 'trump', 'ruled', 'aslope', 'retreating', 'needlessly', 'bin', 'shalt', 'mate', 'fructifying', '50:21', 'grammars', 'merit', 'skips', 'revellings', 'violet', 'attent', 'gratifying', 'convict', 'conclusion', '14:22', 'stiggs', '16:36', 'chew', 'poz', 'racism', 'marrying', 'flapped', 'refugees', 'ragsdale', 'mcdaniel', '66:19', 'ticking', 'quickly', 'timber', '27:39', 'swing', 'vppon', 'hale', 'extremely', 'neptunes', '40:24', 'loveth', 'bandaged', 'frighted', '51:9', 'imperceptible', 'walked', 'clubs', 'elsewhere', 'compassing', '7:16', 'confrontation', 'sprawls', 'retaliates', '46:7', '12:51', 'politeness', 'bulky', 'tilted', 'vail', 'meddling', 'hathaway', 'civilized', 'imputeth', 'rhinoceros', 'eras', 'manuring', 'wants', 'rib', 'incoming', \"condemn'd\", 'whithersoever', 'gathers', 'wrinkling', 'homeowners', 'rifles', 'dejection', 'niger', 'lothed', 'disconnected', 'ebal', 'clipper', 'shotgun', 'talketh', 'barrister', 'townsend', 'mike', 'autocrats', 'plow', 'orientals', 'sinned', 'womenservants', 'reported', 'jemima', '6:18', 'cornice', 'juniper', 'sledge', 'shoes', 'tantamount', 'wastes', 'unbearable', 'vindictively', 'imperfect', 'balance', 'prospectively', 'importance', 'favourable', 'trunk', 'theorist', 'dippin', '7:63', 'monsanto', 'fatherless', 'wronged', 'dirty', 'beginning', 'attaining', 'salaries', 'farwell', \"o'th\", 'sympathies', 'dray', 'ephesus', 'noised', 'banyan', 'sardis', 'twinkled', 'ticklish', '64:3', 'shedeur', 'cluck', 'subsisted', '3:34', 'students', 'witnesseth', 'immigration', 'beguiling', 'gloried', 'cyber', 'wisp', 'philosopher', 'delivery', '                               ', 'hearth', \"t'other\", '6:58', 'circumspection', 'parkinson', 'variance', \"stabb'd\", 'blinked', 'dictionary', 'accustomed', 'tells', 'gasp', 'achan', 'grisled', 'hatches', 'unhappiness', 'moneth', 'pleasing', 'blesse', 'shingle', 'lewdness', 'lecturer', 'why', 'culloden', 'disclaims', 'archway', 'soften', 'nigerian', 'gr', 'cried--', 'bunni', 'destruction', 'deport', 'counterproductive', 'monstrous', 'exonerating', 'untamed', 'indifference--', 'uprisen', 'composite', 'fifth', 'replied', 'pretext', '29:17', 'guardians', 'drags', 'malchijah', 'pavements', 'pilot', 'melchisedec', 'horsemen', 'rapacious', 'translate', 'berechiah', 'understand', 'apostolic', 'circuits', 'brush', 'pieces', 'livery', 'rudely', 'silenced', 'torrents', 'presentiment', 'comparable', 'peculiar', 'kids', 'justified', 'sheriffs', 'gimpy', 'dominions', '46:21', 'scratching', 'perfume', '34:27', 'rare', 'sheaf', '34:34', 'drugger', 'definable', 'unjustly', 'sentest', 'ethiopians', '                                          ', 'athwart', '32:37', 'inhospitable', '2:40', 'impression', 'fellowsoldier', 'hew', 'slurs', 'repeated', 'responded', 'assigned', 'really', 'elections', 'giddy', 'dalrymples', 'megiddo', 'describeth', 'tragedies', 'religion', 'anoint', 'sites', 'schneiderman', '1:33', 'tolerable', 'declaring', 'bathe', 'illegally', 'drie', '2:36', 'snugly', 'contention', 'pelonite', 'coolness', 'clove', 'nourished', 'rudeness', 'eagerly', '28:17', 'boughs', 'sower', 'jehoiakim', 'alluding', 'fifty', 'louder', 'taken', 'slandered', 'intellect', 'bottoms', 'towers', 'perrys', 'imperilled', 'hatred', '31:21', 'zelophehad', 'linguistic', 'normandy', 'charged', 'stonewalling', 'circumcising', 'deliciousness', 'imprecate', 'las', 'pianoforte', 'romeo', 'tahan', '22:4', 'himself--', 'rampant', 'brest', '25:38', 'speeches', 'medical', 'fauour', 'tacking', 'cornices', 'geraniums', 'bent', \"ceas'd\", 'constabulary', 'rental', '4:26', 'moments', 'manahethites', 'aunt', 'utah', 'minutest', 'said,--', 'fie', 'variations', 'shipwreck', 'refreshingly', 'lowerings', 'distributors', 'shank', 'kedemah', 'cared', 'proposed', 'runne', 'soueraigne', 'peltier', 'deuill', 'crownes', 'subjected', 'prelude', 'arbiter', 'havana', 'speedy', 'obligation', 'divert', 'diest', 'gittite', 'marry', 'operative', 'hall', 'wimpey', 'princeling', 'carmelite', 'y', 'correspondent', 'studded', 'knave', 'surname', 'phrensies', 'inclose', 'auditors', 'seekest', 'coincidence', 'photos', 'pelet', \"sat'st\", 'ocean', 'fragrance', 'argued', 'dungeon', 'costumes', 'spasms', 'stygian', 'yander', '63:9', 'seraiah', 'boisterous', 'unelectable', 'amaziah', 'doted', \"sail'd\", 'fetich', 'unkindly', '57:10', 'uzzielites', 'pincers', 'needless', 'superbest', 'hawaiian', 'undesignedly', 'deftly', 'indulgent', '16:47', 'unloads', 'out', 'nominally', 'nobles', 'charades', 'scars', '25:20', 'eshton', 'infiltrated', 'camden', 'licence', 'harder', 'automobile', 'fresno', 'uncounted', 'distinguish', 'irksome', 'believes', 'behind', 'collar', 'reproacheth', 'trappers', 'meditative', 'cleane', 'writes', 'glories', '24:27', 'injunction', 'harley', 'rodchenkov', 'utilitarian', 'torrent', 'dances', 'co', 'cleaners', '24:4', 'administration', 'perception', 'lines', 'wrack', 'bitter', 'blains', 'peremptorily', 'streamers', '31:33', 'australian', 'pecks', 'bethinking', 'shouldering', 'brook', 'rigidity', 'tut', '65:9', 'japheth', 'contriuer', 'satin', 'eighty', 'promontories', 'on--', 'elim', 'chord', 'subdued', 'shishak', 'commodore', 'incommoding', '46:28', 'spouter', 'gainst', 'subterraneous', 'likenesses', 'lighteth', '19:15', 'epitaph', 'hears', 'weasel', 'drift', 'gamming', 'english', 'diligently', 'dulcet', 'hudson', 'knowing', 'bluster', 'defraud', 'moue', 'abundance', 'affirms', 'assailant', 'draws', 'disquiet', 'grandpapa', 'lots', 'picturesqueness', 'swoon', 'ripples', 'trucker', 'diffused', 'bolted', 'serah', 'burnishing', 'elizaphan', '29:1', '60:2', 'leg', 'displays', 'sod', 'indistinctness', '3:27', 'disclosed', 'frexit', 'reinforced', 'placid', 'indie', 'twinkle', 'responding', '1807', 'breathest', 'peaks', '8:4', 'imitate', 'emperor', 'gibbet', 'broods', '13:50', 'dimon', '51:15', 'type', 'responsibilities', 'sedge', 'ahinoam', '7:53', 'abital', 'nightmares', 'locke', 'refuge', 'cough', 'tributary', 'conversation', 'desiredst', 'philando', 'affront', 'humiliate', '250,000', 'relative', 'reasoned', 'candles', 'fatness', 'comment', 'barrow', 'impeached', 'suites', 'camille', 'm1', 'reubenites', 'talker', 'complimentary', 'boyish', 'veins', 'examining', 'deciding', 'pant', 'abase', 'partners', '3:6', 'suppliant', 'jehudi', 'contemplative', 'hanameel', 'unwell', 'informers', 'exhilaration', 'pirates', 'arraying', 'hazarmaveth', 'mistletoe', 'selecting', '9:41', 'creeping', 'corpusants', 'defective', 'legacy', '24:28', 'grandsons', 'opinion', 'punches', 'splits', 'twine', 'ahaziah', 'aery', 'sacrifice', 'formulate', 'extension', 'imperturbe', 'mercies', 'tribes', 'enlarge', 'booby', '27:10', 'microwave', 'adamant', 'sere', 'aisle', 'warmed', 'titanic', 'endures', 'mob', 'meere', 'brokenly', 'foppery', 'dismissal', 'unprotected', 'police', 'smirked', 'wooded', 'antique', 'beacon', 'jezer', 'footstep', \"clos'd\", '44:25', 'soliloquized', 'worcestershire', 'bargain', '26:8', '41:33', 'u.s.', 'bethnimrah', 'pearls', 'circlings', 'fond', 'camps', 'haunted', 'dante', 'hezbollah', 'doze', 'retreated', 'smarts', 'protestation', 'thunderbolts', 'frightfully', 'ridges', 'phut', 'ordinances', 'iliad', 'jollies', '59:1', 'bridge', 'call', 'crafty', 'spain', '21:33', 'pisgah', 'lever', \"order'd\", 'commonly', 'smyrna', 'stakes', 'sell', 'bonnets', 'kenaz', 'oddly', 'maiesty', 'marvelling', 'expediency', 'pm', 'rory', 'labouring', 'papers', 'joah', 'chaldees', 'finished', 'virtuous', '27:3', 'habit', 'dynasty', '50:19', 'obama', 'beget', 'youthful', 'keeper', 'californian', 'tiles', 'hospitalization', 'artless', 'bullfrogs', 'lurks', 'equalities', 'knit', 'contrite', 'harodite', 'compute', 'dingy', 'contain', 'throated', 'nun', 'meant--', 'covers', 'blessedness', 'contrived', 'achieve', 'blossomed', 'transcendentalism', '43:21', 'recuses', 'climb', 'revives', 'pransings', '11:42', 'hoar', 'outward', 'browes', 'behoves', 'fled', 'hinting', 'photo', 'marked', 'cai', 'feeble', '6:20', 'chorus', 'satellite', 'thousands', 'steadily', 'opportunities', 'macbeth', 'other', 'inseparable', 'impervious', 'laundry', 'listen', 'woe', 'gallons', 'vaults', 'nerve', 'kurt', 'aussie', 'turmoil', 'trampling', '773', 'unflinching', 'sternly', 'thereabout', 'peevish', 'motion', 'stomacke', 'dreamed', 'image', 'flitting', 'attacking', 'keys', \"e'er\", '40:21', 'button', 'walk', 'impure', 'intolerably', 'chenaanah', 'similitudes', 'bust', 'challenged', 'whiting', 'nastiness', 'astronauts', 'grapegatherers', 'borne', 'augurers', 'locust', 'multiplying', 'foreshortened', 'mama', 'middleton', 'brightened', 'ahiah', 'l.', 'seaport', 'execrable', 'collector', 'ones', 'historian', '40:16', 'atop', '12:42', 'frightbart', 'gnaw', 'downwards', 'invincible', 'seal', 'anathoth', 'drawback', 'kills', 'hoarsely', 'church', 'pentecost', 'observe', 'docks', 'noxious', 'jealous', 'terror', '32:29', 'advice', '16:1', 'stiffnecked', 'loines', 'cadwallader', 'lusteth', 'smoake', 'wandereth', 'worldwide', 'shuttlecock', 'embankment', 'bundles', 'objectionable', 'centrick', 'musketry', 'lights', 'banksy', '32:8', 'resembles', 'blessing', 'representative', '6:68', 'sichuan', 'zilthai', 'rambling', \"hipp'd\", 'mock', 'inwardly', \"stirr'd\", 'exclaiming', 'limpid', 'interfering', 'ar', 'hairy', 'jeopardy', 'woodlands', 'woes', 'dreaded', 'knocking', 'vacation', 'unsupported', '30th', 'shrieked', 'adrift', 'invents', 'reefs', 'menpleasers', 'newer', 'belittle', 'sufficiently', 'denounce', '12:26', '57:6', 'seemeth', 'powerhouse', 'advocates', 'stagnation', '14:31', 'exasperate', 'israelite'}\n"
          ],
          "name": "stdout"
        }
      ]
    },
    {
      "cell_type": "code",
      "metadata": {
        "id": "hlK2KhZCbqg2"
      },
      "source": [
        "OOV_token = \"<OOV>\"\n",
        "vocabulary.add(OOV_token)\n",
        "word2idx = {}\n",
        "n_words = 0\n",
        "\n",
        "tokenized_corpus_with_OOV = []\n",
        "for sentence in tokenized_corpus:\n",
        "\n",
        "    tokenized_sentence_with_OOV = []\n",
        "    for token in sentence:\n",
        "        if token in vocabulary:\n",
        "            tokenized_sentence_with_OOV.append(token)\n",
        "        else:\n",
        "            tokenized_sentence_with_OOV.append(OOV_token)\n",
        "    tokenized_corpus_with_OOV.append(tokenized_sentence_with_OOV)"
      ],
      "execution_count": null,
      "outputs": []
    },
    {
      "cell_type": "code",
      "metadata": {
        "id": "lP-lO4VQbuTT"
      },
      "source": [
        "for token in vocabulary:\n",
        "    if token not in word2idx:\n",
        "        word2idx[token] = n_words\n",
        "        n_words += 1\n",
        "\n",
        "assert len(word2idx) == len(vocabulary)\n",
        "\n",
        "# Invert dictionary\n",
        "idx2word = {idx: word for word, idx in word2idx.items()}\n",
        "\n",
        "assert len(idx2word) == len(word2idx)"
      ],
      "execution_count": null,
      "outputs": []
    },
    {
      "cell_type": "code",
      "metadata": {
        "id": "Ru0npEpjftsw",
        "colab": {
          "base_uri": "https://localhost:8080/"
        },
        "outputId": "3d2cc020-6095-4613-d321-31d98ccc1d0e"
      },
      "source": [
        "def get_focus_context_pairs(tokenized_corpus, window_size=2):\n",
        "    focus_context_pairs = []\n",
        "    for sentence in tokenized_corpus:\n",
        "\n",
        "        for token_idx, token in enumerate(sentence):\n",
        "            for w in range(-window_size, window_size+1):\n",
        "                context_word_pos = token_idx + w\n",
        "\n",
        "                if w == 0 or context_word_pos >= len(sentence) or context_word_pos < 0:\n",
        "                    continue\n",
        "\n",
        "                try:\n",
        "                    focus_context_pairs.append([token, sentence[context_word_pos]])\n",
        "                except:\n",
        "                    continue\n",
        "    \n",
        "    return focus_context_pairs\n",
        "focus_context_pairs = get_focus_context_pairs(tokenized_corpus_with_OOV)\n",
        "\n",
        "print(focus_context_pairs[0:40])"
      ],
      "execution_count": null,
      "outputs": [
        {
          "output_type": "stream",
          "text": [
            "[['the', 'tragedie'], ['the', 'of'], ['tragedie', 'the'], ['tragedie', 'of'], ['tragedie', 'macbeth'], ['of', 'the'], ['of', 'tragedie'], ['of', 'macbeth'], ['of', 'by'], ['macbeth', 'tragedie'], ['macbeth', 'of'], ['macbeth', 'by'], ['macbeth', 'william'], ['by', 'of'], ['by', 'macbeth'], ['by', 'william'], ['by', 'shakespeare'], ['william', 'macbeth'], ['william', 'by'], ['william', 'shakespeare'], ['william', '<OOV>'], ['shakespeare', 'by'], ['shakespeare', 'william'], ['shakespeare', '<OOV>'], ['<OOV>', 'william'], ['<OOV>', 'shakespeare'], ['actus', 'primus'], ['actus', 'scoena'], ['primus', 'actus'], ['primus', 'scoena'], ['primus', 'prima'], ['scoena', 'actus'], ['scoena', 'primus'], ['scoena', 'prima'], ['prima', 'primus'], ['prima', 'scoena'], ['thunder', 'and'], ['thunder', 'lightning'], ['and', 'thunder'], ['and', 'lightning']]\n"
          ],
          "name": "stdout"
        }
      ]
    },
    {
      "cell_type": "code",
      "metadata": {
        "colab": {
          "base_uri": "https://localhost:8080/"
        },
        "id": "C7GLEYh9f4gs",
        "outputId": "3e2fb177-7fd9-4d83-9030-915c86cce7c2"
      },
      "source": [
        "def get_focus_context_idx(focus_context_pairs):\n",
        "    idx_pairs = []\n",
        "    for pair in focus_context_pairs:\n",
        "        idx_pairs.append([word2idx[pair[0]], word2idx[pair[1]]])\n",
        "    \n",
        "    return idx_pairs\n",
        "\n",
        "\n",
        "idx_pairs = get_focus_context_idx(focus_context_pairs)\n",
        "\n",
        "print(idx_pairs[0:20])"
      ],
      "execution_count": null,
      "outputs": [
        {
          "output_type": "stream",
          "text": [
            "[[15111, 13417], [15111, 15996], [13417, 15111], [13417, 15996], [13417, 32536], [15996, 15111], [15996, 13417], [15996, 32536], [15996, 13945], [32536, 13417], [32536, 15996], [32536, 13945], [32536, 17287], [13945, 15996], [13945, 32536], [13945, 17287], [13945, 30815], [17287, 32536], [17287, 13945], [17287, 30815]]\n"
          ],
          "name": "stdout"
        }
      ]
    },
    {
      "cell_type": "code",
      "metadata": {
        "id": "SqkMlTEFgMMN"
      },
      "source": [
        "class Word2Vec(nn.Module):\n",
        "    def __init__(self, input_size, output_size, hidden_dim_size):\n",
        "        super().__init__()\n",
        "        \n",
        "        # Why do you think we don't have an activation function here?\n",
        "        self.projection = nn.Linear(input_size, hidden_dim_size, bias=False)\n",
        "        self.output = nn.Linear(hidden_dim_size, output_size)\n",
        "        \n",
        "    def forward(self, input_token):\n",
        "        x = self.projection(input_token)\n",
        "        output = self.output(x)\n",
        "        return output"
      ],
      "execution_count": null,
      "outputs": []
    },
    {
      "cell_type": "code",
      "metadata": {
        "id": "iPyia5UDg3aQ"
      },
      "source": [
        "def get_one_hot(indicies, vocab_size=len(vocabulary)):\n",
        "    oh_matrix = np.zeros((len(indicies), vocab_size))\n",
        "    for i, idx in enumerate(indicies):\n",
        "        oh_matrix[i, idx] = 1\n",
        "\n",
        "    return torch.Tensor(oh_matrix)"
      ],
      "execution_count": null,
      "outputs": []
    },
    {
      "cell_type": "code",
      "metadata": {
        "id": "kLJxtFH-gTP4"
      },
      "source": [
        "def train(word2vec_model, idx_pairs, state_dict_filename, early_stop=False, num_epochs=10, lr=1e-3):\n",
        "\n",
        "    word2vec_model.train()\n",
        "    criterion = torch.nn.CrossEntropyLoss()\n",
        "    optimizer = torch.optim.SGD(word2vec_model.parameters(), lr=lr)\n",
        "\n",
        "    for epoch in range(num_epochs):\n",
        "\n",
        "        random.shuffle(idx_pairs)\n",
        "\n",
        "        for focus, context in idx_pairs:\n",
        "            print(focus)\n",
        "            oh_inputs = get_one_hot([focus], len(vocabulary))\n",
        "            target = torch.LongTensor([context])\n",
        "\n",
        "            pred_outputs = word2vec_model(oh_inputs)\n",
        "\n",
        "            loss = criterion(pred_outputs, target)\n",
        "\n",
        "            loss.backward()\n",
        "            optimizer.step()\n",
        "            word2vec_model.zero_grad()\n",
        "            \n",
        "        ### These lines stop training early\n",
        "            if early_stop: break\n",
        "        if early_stop: break\n",
        "        ###\n",
        "\n",
        "        torch.save(word2vec_model.state_dict(), state_dict_filename)\n",
        "        writer.add_embedding(word2vec_model.projection.weight.T,\n",
        "                             metadata=word2idx.keys(), global_step=epoch)"
      ],
      "execution_count": null,
      "outputs": []
    },
    {
      "cell_type": "code",
      "metadata": {
        "id": "y9jHZIQNgXsd"
      },
      "source": [
        "from torch.utils.tensorboard import SummaryWriter\n",
        "writer = SummaryWriter('runs/word2vec_gutenberg')"
      ],
      "execution_count": null,
      "outputs": []
    },
    {
      "cell_type": "code",
      "metadata": {
        "colab": {
          "base_uri": "https://localhost:8080/"
        },
        "id": "ihqPAQM6ghsd",
        "outputId": "ff397942-01d2-4241-b5a4-79a41f32e72c"
      },
      "source": [
        "w2v_gutenberg = Word2Vec(len(vocabulary), len(vocabulary), 128)\n",
        "train(w2v_gutenberg, idx_pairs, \"word2vec_gutenberg.pt\", early_stop=True)"
      ],
      "execution_count": null,
      "outputs": [
        {
          "output_type": "stream",
          "text": [
            "27835\n"
          ],
          "name": "stdout"
        }
      ]
    },
    {
      "cell_type": "code",
      "metadata": {
        "colab": {
          "base_uri": "https://localhost:8080/"
        },
        "id": "gO1p9Hj5gqda",
        "outputId": "84198e99-313e-411d-a088-77cb0a57677c"
      },
      "source": [
        "weights_matrix = w2v_gutenberg.projection.weight.T\n",
        "print(weights_matrix.shape)"
      ],
      "execution_count": null,
      "outputs": [
        {
          "output_type": "stream",
          "text": [
            "torch.Size([32671, 128])\n"
          ],
          "name": "stdout"
        }
      ]
    },
    {
      "cell_type": "markdown",
      "metadata": {
        "id": "udJACzxtK1TG"
      },
      "source": [
        "## Predictions based on cosine distance between replacement words and edit words"
      ]
    },
    {
      "cell_type": "code",
      "metadata": {
        "id": "C3Z7mQgJMw2a"
      },
      "source": [
        "from scipy.spatial.distance import cosine\n"
      ],
      "execution_count": null,
      "outputs": []
    },
    {
      "cell_type": "code",
      "metadata": {
        "id": "AHvjs44AK_uh"
      },
      "source": [
        "#get idx for old word\n",
        "old_idx = []\n",
        "for word in train_df.old.str.lower():\n",
        "    #that also excludes words that consist of two words. not good\n",
        "    if word in list(word2idx.keys()):\n",
        "        old_idx.append(word2idx[word])\n",
        "    else:\n",
        "        word = OOV_token\n",
        "        old_idx.append(word2idx[word])\n",
        "\n",
        "#get idx for edit word\n",
        "edit_idx = []\n",
        "for word in train_df.edit.str.lower():\n",
        "    #that also excludes words that consist of two words. not good\n",
        "    if word in list(word2idx.keys()):\n",
        "        edit_idx.append(word2idx[word])\n",
        "    else:\n",
        "        word = OOV_token\n",
        "        edit_idx.append(word2idx[word])\n",
        "\n",
        "\n"
      ],
      "execution_count": null,
      "outputs": []
    },
    {
      "cell_type": "code",
      "metadata": {
        "id": "HWIQq9JMLCpy"
      },
      "source": [
        "old_word_embedding = get_one_hot(old_idx) @ weights_matrix.detach().numpy()\n",
        "edit_embedding = get_one_hot(edit_idx) @ weights_matrix.detach().numpy()\n",
        "\n",
        "\n",
        "distances = []\n",
        "for i in range(len(old_word_embedding)):\n",
        "    cos_distance = cosine(old_word_embedding[i], edit_embedding[i])\n",
        "    distances.append(cos_distance)\n",
        "train_df['cos_distance'] = distances"
      ],
      "execution_count": null,
      "outputs": []
    },
    {
      "cell_type": "code",
      "metadata": {
        "colab": {
          "base_uri": "https://localhost:8080/",
          "height": 424
        },
        "id": "WzdrWQLHLGkW",
        "outputId": "81eae60a-342a-411c-fc9f-478a7c98b2b3"
      },
      "source": [
        "train_df"
      ],
      "execution_count": null,
      "outputs": [
        {
          "output_type": "execute_result",
          "data": {
            "text/html": [
              "<div>\n",
              "<style scoped>\n",
              "    .dataframe tbody tr th:only-of-type {\n",
              "        vertical-align: middle;\n",
              "    }\n",
              "\n",
              "    .dataframe tbody tr th {\n",
              "        vertical-align: top;\n",
              "    }\n",
              "\n",
              "    .dataframe thead th {\n",
              "        text-align: right;\n",
              "    }\n",
              "</style>\n",
              "<table border=\"1\" class=\"dataframe\">\n",
              "  <thead>\n",
              "    <tr style=\"text-align: right;\">\n",
              "      <th></th>\n",
              "      <th>id</th>\n",
              "      <th>original</th>\n",
              "      <th>edit</th>\n",
              "      <th>grades</th>\n",
              "      <th>meanGrade</th>\n",
              "      <th>old</th>\n",
              "      <th>cos_distance</th>\n",
              "    </tr>\n",
              "  </thead>\n",
              "  <tbody>\n",
              "    <tr>\n",
              "      <th>0</th>\n",
              "      <td>14530</td>\n",
              "      <td>France is ‘ hunting down its citizens who join...</td>\n",
              "      <td>twins</td>\n",
              "      <td>10000</td>\n",
              "      <td>0.2</td>\n",
              "      <td>Isis</td>\n",
              "      <td>0.999965</td>\n",
              "    </tr>\n",
              "    <tr>\n",
              "      <th>1</th>\n",
              "      <td>13034</td>\n",
              "      <td>Pentagon claims 2,000 % increase in Russian tr...</td>\n",
              "      <td>bowling</td>\n",
              "      <td>33110</td>\n",
              "      <td>1.6</td>\n",
              "      <td>Syria</td>\n",
              "      <td>1.159862</td>\n",
              "    </tr>\n",
              "    <tr>\n",
              "      <th>2</th>\n",
              "      <td>8731</td>\n",
              "      <td>Iceland PM Calls Snap Vote as Pedophile Furor ...</td>\n",
              "      <td>party</td>\n",
              "      <td>22100</td>\n",
              "      <td>1.0</td>\n",
              "      <td>Coalition</td>\n",
              "      <td>0.960044</td>\n",
              "    </tr>\n",
              "    <tr>\n",
              "      <th>3</th>\n",
              "      <td>76</td>\n",
              "      <td>In an apparent first , Iran and Israel engage ...</td>\n",
              "      <td>slap</td>\n",
              "      <td>20000</td>\n",
              "      <td>0.4</td>\n",
              "      <td>engage</td>\n",
              "      <td>0.886779</td>\n",
              "    </tr>\n",
              "    <tr>\n",
              "      <th>4</th>\n",
              "      <td>8832</td>\n",
              "      <td>All 22 promises Trump made in his speech to Co...</td>\n",
              "      <td>sounds</td>\n",
              "      <td>22200</td>\n",
              "      <td>1.2</td>\n",
              "      <td>promises</td>\n",
              "      <td>1.186543</td>\n",
              "    </tr>\n",
              "    <tr>\n",
              "      <th>...</th>\n",
              "      <td>...</td>\n",
              "      <td>...</td>\n",
              "      <td>...</td>\n",
              "      <td>...</td>\n",
              "      <td>...</td>\n",
              "      <td>...</td>\n",
              "      <td>...</td>\n",
              "    </tr>\n",
              "    <tr>\n",
              "      <th>9124</th>\n",
              "      <td>12770</td>\n",
              "      <td>Among Republicans , Trump is more popular than...</td>\n",
              "      <td>interns</td>\n",
              "      <td>21100</td>\n",
              "      <td>0.8</td>\n",
              "      <td>leaders</td>\n",
              "      <td>1.078668</td>\n",
              "    </tr>\n",
              "    <tr>\n",
              "      <th>9125</th>\n",
              "      <td>1781</td>\n",
              "      <td>Protesters Rally for Refugees Detained at JFK ...</td>\n",
              "      <td>stewardesses</td>\n",
              "      <td>20000</td>\n",
              "      <td>0.4</td>\n",
              "      <td>Refugees</td>\n",
              "      <td>1.025613</td>\n",
              "    </tr>\n",
              "    <tr>\n",
              "      <th>9126</th>\n",
              "      <td>5628</td>\n",
              "      <td>Cruise line Carnival Corp. joins the fight aga...</td>\n",
              "      <td>raisin</td>\n",
              "      <td>21000</td>\n",
              "      <td>0.6</td>\n",
              "      <td>marriage</td>\n",
              "      <td>0.937978</td>\n",
              "    </tr>\n",
              "    <tr>\n",
              "      <th>9127</th>\n",
              "      <td>14483</td>\n",
              "      <td>Columbia police hunt woman seen with gun near ...</td>\n",
              "      <td>cake</td>\n",
              "      <td>32200</td>\n",
              "      <td>1.4</td>\n",
              "      <td>gun</td>\n",
              "      <td>1.020540</td>\n",
              "    </tr>\n",
              "    <tr>\n",
              "      <th>9128</th>\n",
              "      <td>5255</td>\n",
              "      <td>Here 's What 's In The House-Approved Health C...</td>\n",
              "      <td>food</td>\n",
              "      <td>11000</td>\n",
              "      <td>0.4</td>\n",
              "      <td>Care</td>\n",
              "      <td>0.933805</td>\n",
              "    </tr>\n",
              "  </tbody>\n",
              "</table>\n",
              "<p>9129 rows × 7 columns</p>\n",
              "</div>"
            ],
            "text/plain": [
              "         id  ... cos_distance\n",
              "0     14530  ...     0.999965\n",
              "1     13034  ...     1.159862\n",
              "2      8731  ...     0.960044\n",
              "3        76  ...     0.886779\n",
              "4      8832  ...     1.186543\n",
              "...     ...  ...          ...\n",
              "9124  12770  ...     1.078668\n",
              "9125   1781  ...     1.025613\n",
              "9126   5628  ...     0.937978\n",
              "9127  14483  ...     1.020540\n",
              "9128   5255  ...     0.933805\n",
              "\n",
              "[9129 rows x 7 columns]"
            ]
          },
          "metadata": {
            "tags": []
          },
          "execution_count": 31
        }
      ]
    },
    {
      "cell_type": "code",
      "metadata": {
        "colab": {
          "base_uri": "https://localhost:8080/",
          "height": 282
        },
        "id": "SBHnIFV4LKRy",
        "outputId": "2c3a5561-14c4-42a0-a18c-42e9a66a30ca"
      },
      "source": [
        "plt.scatter(train_df.cos_distance.to_list(), train_df.meanGrade.to_list())"
      ],
      "execution_count": null,
      "outputs": [
        {
          "output_type": "execute_result",
          "data": {
            "text/plain": [
              "<matplotlib.collections.PathCollection at 0x7f2c974c4d30>"
            ]
          },
          "metadata": {
            "tags": []
          },
          "execution_count": 32
        },
        {
          "output_type": "display_data",
          "data": {
            "image/png": "[encoded data removed]",
            "text/plain": [
              "<Figure size 432x288 with 1 Axes>"
            ]
          },
          "metadata": {
            "tags": [],
            "needs_background": "light"
          }
        }
      ]
    },
    {
      "cell_type": "code",
      "metadata": {
        "colab": {
          "base_uri": "https://localhost:8080/",
          "height": 424
        },
        "id": "MukQ7JqJLNKw",
        "outputId": "6a2f50b9-9169-4be2-fab4-be2a4dffe2c8"
      },
      "source": [
        "train_df.loc[train_df.cos_distance == 0.0]"
      ],
      "execution_count": null,
      "outputs": [
        {
          "output_type": "execute_result",
          "data": {
            "text/html": [
              "<div>\n",
              "<style scoped>\n",
              "    .dataframe tbody tr th:only-of-type {\n",
              "        vertical-align: middle;\n",
              "    }\n",
              "\n",
              "    .dataframe tbody tr th {\n",
              "        vertical-align: top;\n",
              "    }\n",
              "\n",
              "    .dataframe thead th {\n",
              "        text-align: right;\n",
              "    }\n",
              "</style>\n",
              "<table border=\"1\" class=\"dataframe\">\n",
              "  <thead>\n",
              "    <tr style=\"text-align: right;\">\n",
              "      <th></th>\n",
              "      <th>id</th>\n",
              "      <th>original</th>\n",
              "      <th>edit</th>\n",
              "      <th>grades</th>\n",
              "      <th>meanGrade</th>\n",
              "      <th>old</th>\n",
              "      <th>cos_distance</th>\n",
              "    </tr>\n",
              "  </thead>\n",
              "  <tbody>\n",
              "    <tr>\n",
              "      <th>35</th>\n",
              "      <td>11197</td>\n",
              "      <td>France , U.S. committed to wiping out Islamic ...</td>\n",
              "      <td>boogers</td>\n",
              "      <td>11100</td>\n",
              "      <td>0.6</td>\n",
              "      <td>Islamic State</td>\n",
              "      <td>0.0</td>\n",
              "    </tr>\n",
              "    <tr>\n",
              "      <th>108</th>\n",
              "      <td>12796</td>\n",
              "      <td>' Who the hell is Dana Rohrabacher ? ' Seth Me...</td>\n",
              "      <td>batman</td>\n",
              "      <td>11110</td>\n",
              "      <td>0.8</td>\n",
              "      <td>Dana Rohrabacher</td>\n",
              "      <td>0.0</td>\n",
              "    </tr>\n",
              "    <tr>\n",
              "      <th>109</th>\n",
              "      <td>744</td>\n",
              "      <td>Trump Asked Sessions to Drop Joe Arpaio Case :...</td>\n",
              "      <td>vampire</td>\n",
              "      <td>22111</td>\n",
              "      <td>1.4</td>\n",
              "      <td>Joe Arpaio</td>\n",
              "      <td>0.0</td>\n",
              "    </tr>\n",
              "    <tr>\n",
              "      <th>198</th>\n",
              "      <td>1030</td>\n",
              "      <td>Trump Tells Russia ‘ Get Ready ’ For Syria Mis...</td>\n",
              "      <td>Hooray</td>\n",
              "      <td>21111</td>\n",
              "      <td>1.2</td>\n",
              "      <td>Get Ready</td>\n",
              "      <td>0.0</td>\n",
              "    </tr>\n",
              "    <tr>\n",
              "      <th>239</th>\n",
              "      <td>6929</td>\n",
              "      <td>What 's Next On The Trump Agenda ? - NBC News</td>\n",
              "      <td>spaghetti</td>\n",
              "      <td>22220</td>\n",
              "      <td>1.6</td>\n",
              "      <td>NBC News</td>\n",
              "      <td>0.0</td>\n",
              "    </tr>\n",
              "    <tr>\n",
              "      <th>...</th>\n",
              "      <td>...</td>\n",
              "      <td>...</td>\n",
              "      <td>...</td>\n",
              "      <td>...</td>\n",
              "      <td>...</td>\n",
              "      <td>...</td>\n",
              "      <td>...</td>\n",
              "    </tr>\n",
              "    <tr>\n",
              "      <th>8963</th>\n",
              "      <td>13581</td>\n",
              "      <td>French investigation into Macron 's Las Vegas ...</td>\n",
              "      <td>macaroon</td>\n",
              "      <td>33100</td>\n",
              "      <td>1.4</td>\n",
              "      <td>Las Vegas</td>\n",
              "      <td>0.0</td>\n",
              "    </tr>\n",
              "    <tr>\n",
              "      <th>9020</th>\n",
              "      <td>13853</td>\n",
              "      <td>Donald Trump is making an appalling mess of ou...</td>\n",
              "      <td>Brunch</td>\n",
              "      <td>10000</td>\n",
              "      <td>0.2</td>\n",
              "      <td>John Bolton</td>\n",
              "      <td>0.0</td>\n",
              "    </tr>\n",
              "    <tr>\n",
              "      <th>9052</th>\n",
              "      <td>7769</td>\n",
              "      <td>Steve Bannon questioned by special counsel</td>\n",
              "      <td>kindergarteners</td>\n",
              "      <td>33222</td>\n",
              "      <td>2.4</td>\n",
              "      <td>Steve Bannon</td>\n",
              "      <td>0.0</td>\n",
              "    </tr>\n",
              "    <tr>\n",
              "      <th>9097</th>\n",
              "      <td>2708</td>\n",
              "      <td>Russia : U.S. War With North Korea Would Be a ...</td>\n",
              "      <td>Pluto</td>\n",
              "      <td>32220</td>\n",
              "      <td>1.8</td>\n",
              "      <td>North Korea</td>\n",
              "      <td>0.0</td>\n",
              "    </tr>\n",
              "    <tr>\n",
              "      <th>9111</th>\n",
              "      <td>8624</td>\n",
              "      <td>' I think he 'll be just fine ' : Trump hints ...</td>\n",
              "      <td>bloodhound</td>\n",
              "      <td>21111</td>\n",
              "      <td>1.2</td>\n",
              "      <td>Joe Arpaio</td>\n",
              "      <td>0.0</td>\n",
              "    </tr>\n",
              "  </tbody>\n",
              "</table>\n",
              "<p>188 rows × 7 columns</p>\n",
              "</div>"
            ],
            "text/plain": [
              "         id  ... cos_distance\n",
              "35    11197  ...          0.0\n",
              "108   12796  ...          0.0\n",
              "109     744  ...          0.0\n",
              "198    1030  ...          0.0\n",
              "239    6929  ...          0.0\n",
              "...     ...  ...          ...\n",
              "8963  13581  ...          0.0\n",
              "9020  13853  ...          0.0\n",
              "9052   7769  ...          0.0\n",
              "9097   2708  ...          0.0\n",
              "9111   8624  ...          0.0\n",
              "\n",
              "[188 rows x 7 columns]"
            ]
          },
          "metadata": {
            "tags": []
          },
          "execution_count": 33
        }
      ]
    },
    {
      "cell_type": "code",
      "metadata": {
        "id": "VgHJ5bt6LP1K"
      },
      "source": [
        "indexNames = train_df[(train_df['cos_distance'] == 0.0)].index\n",
        "# Delete these row indexes from dataFrame\n",
        "train_df.drop(indexNames , inplace=True)\n",
        "train_df.reset_index(inplace=True,drop=True)\n",
        "pd.set_option('display.max_rows', 20)"
      ],
      "execution_count": null,
      "outputs": []
    },
    {
      "cell_type": "code",
      "metadata": {
        "colab": {
          "base_uri": "https://localhost:8080/"
        },
        "id": "woJbN9h_LSl3",
        "outputId": "5004ffa6-1156-4b12-d1e6-0e4537d827e2"
      },
      "source": [
        "from sklearn import linear_model\n",
        "from sklearn.metrics import mean_squared_error\n",
        "model = linear_model.LinearRegression()\n",
        "train, test = train_test_split(train_df, test_size=0.2)\n",
        "dist_train = np.reshape(train.cos_distance.to_list(), (-1,1))\n",
        "dist_test = np.reshape(test.cos_distance.to_list(), (-1,1))\n",
        "y = np.reshape(train.meanGrade.to_list(), (-1,1))\n",
        "y_test = np.reshape(test.meanGrade.to_list(), (-1,1))\n",
        "#print(train.cos_distance)\n",
        "\n",
        "model.fit(dist_train, y)\n",
        "predictions = model.predict(dist_test)\n",
        "\n",
        "mean_squared_error(y_test, predictions, squared = False)\n"
      ],
      "execution_count": null,
      "outputs": [
        {
          "output_type": "execute_result",
          "data": {
            "text/plain": [
              "0.549280625842178"
            ]
          },
          "metadata": {
            "tags": []
          },
          "execution_count": 35
        }
      ]
    },
    {
      "cell_type": "code",
      "metadata": {
        "colab": {
          "base_uri": "https://localhost:8080/",
          "height": 282
        },
        "id": "Z7jxXc6uLU6F",
        "outputId": "161ab10d-45ab-41a4-b733-28980059048b"
      },
      "source": [
        "plt.scatter(predictions,y_test)"
      ],
      "execution_count": null,
      "outputs": [
        {
          "output_type": "execute_result",
          "data": {
            "text/plain": [
              "<matplotlib.collections.PathCollection at 0x7f2c97030f60>"
            ]
          },
          "metadata": {
            "tags": []
          },
          "execution_count": 36
        },
        {
          "output_type": "display_data",
          "data": {
            "image/png": "[encoded data removed]",
            "text/plain": [
              "<Figure size 432x288 with 1 Axes>"
            ]
          },
          "metadata": {
            "tags": [],
            "needs_background": "light"
          }
        }
      ]
    },
    {
      "cell_type": "markdown",
      "metadata": {
        "id": "7I8pLd4JOtXQ"
      },
      "source": [
        "## Predictions by BILSTM"
      ]
    },
    {
      "cell_type": "code",
      "metadata": {
        "id": "bjQTRFwKRosF"
      },
      "source": [
        "# To create our vocab\n",
        "\n",
        "def custom_tokenizer(nlp):\n",
        "    \n",
        "    replacement_re = re.compile(r'^<*/>') #do not split replacement format\n",
        "    prefix_re = re.compile(r'''^[\\[\\(\"]''')\n",
        "    suffix_re = re.compile(r''',[\\]\\)\"']$''')\n",
        "    infix_re = re.compile(r'''[-\\,.~]''')\n",
        "    \n",
        "    \n",
        "    return Tokenizer(nlp.vocab,\n",
        "                     token_match = replacement_re.match,\n",
        "                     prefix_search=prefix_re.search,\n",
        "                     suffix_search=suffix_re.search,\n",
        "                     infix_finditer = infix_re.finditer  \n",
        "                    )\n",
        "\n",
        "\n",
        "\n",
        "def preprocessor(data,edits):\n",
        "    \"\"\"\n",
        "    Creating a corpus of all the tokens used\n",
        "    \"\"\"\n",
        "    punctuation = \"\\\":\\.,\"\n",
        "    nlp = spacy.load(\"en_core_web_sm\")\n",
        "    nlp.tokenizer = custom_tokenizer(nlp)\n",
        "    \n",
        "    tokenized_corpus_1= [] # Let us put the tokenized corpus in a list\n",
        "    tokenized_corpus_2= []\n",
        "    \n",
        "    \n",
        "    for i, sentence in enumerate(data):\n",
        "\n",
        "        sentence = sentence.lower()\n",
        "        tokenized_sentence_1 = []\n",
        "        tokenized_sentence_2 = []\n",
        "\n",
        "        for token in nlp(sentence): # simplest split is\n",
        "\n",
        "            if token.text in punctuation:\n",
        "                continue\n",
        "            else:\n",
        "                \n",
        "                if token.text[0] == '<':\n",
        "                    tokenized_sentence_1.append(\"???\")\n",
        "                    tokenized_sentence_2.append(\"???\")\n",
        "                    \n",
        "                    tokenized_sentence_2.append(edits[i])\n",
        "\n",
        "                    \n",
        "                    tokenized_sentence_1.append(token.text[1:-2])\n",
        "                else:\n",
        "                    tokenized_sentence_2.append(token.text)\n",
        "                \n",
        "                    tokenized_sentence_1.append(token.text)\n",
        "\n",
        "\n",
        "        tokenized_corpus_1.append(tokenized_sentence_1)\n",
        "        tokenized_corpus_2.append(tokenized_sentence_2)\n",
        "        #print(tokenized_corpus_1[:5])\n",
        "        #print(tokenized_corpus_2[:5])\n",
        "\n",
        "    # Create single list of all vocabulary\n",
        "    vocabulary = []  # Let us put all the tokens (mostly words) appearing in the vocabulary in a list\n",
        "\n",
        "    for sentence in tokenized_corpus_1:\n",
        "\n",
        "        for token in sentence:\n",
        "\n",
        "            if token not in vocabulary:\n",
        "\n",
        "                if True:\n",
        "                    vocabulary.append(token)\n",
        "    \n",
        "    for token in edits:\n",
        "        \n",
        "        if token not in vocabulary:\n",
        "            \n",
        "            vocabulary.append(token)\n",
        "\n",
        "    return vocabulary, tokenized_corpus_1, tokenized_corpus_2"
      ],
      "execution_count": null,
      "outputs": []
    },
    {
      "cell_type": "code",
      "metadata": {
        "colab": {
          "base_uri": "https://localhost:8080/"
        },
        "id": "sJIqgkQuOyqe",
        "outputId": "ac920548-aa34-41b0-b1b0-abe06b258667"
      },
      "source": [
        "## Approach 1 code, using functions defined above:\n",
        "\n",
        "# We set our training data and test data\n",
        "training_data = train_df['original']\n",
        "test_data = test_df['original']\n",
        "\n",
        "training_vocab, training_tokenized_corpus_1,training_tokenized_corpus_2 =  preprocessor(training_data,train_df['edit'])\n",
        "test_vocab, test_tokenized_corpus_1,test_tokenized_corpus_2 =  preprocessor(test_data,test_df['edit'])\n",
        "\n",
        "joint_vocab, joint_tokenized_corpus_1,joint_tokenized_corpus_2 = preprocessor(pd.concat([training_data, test_data]),pd.concat([train_df['edit'],test_df['edit']],ignore_index = True))\n",
        "\n",
        "print(\"Vocabulary joined creation - done\")\n",
        "\n",
        "\n",
        "\n",
        "print(\"Vocab created.\")"
      ],
      "execution_count": null,
      "outputs": [
        {
          "output_type": "stream",
          "text": [
            "Vocabulary joined creation - done\n",
            "Vocab created.\n"
          ],
          "name": "stdout"
        }
      ]
    },
    {
      "cell_type": "code",
      "metadata": {
        "id": "9swW2EdpPIE4"
      },
      "source": [
        "# We create representations for our tokens\n",
        "'''\n",
        "wvecs = [] # word vectors\n",
        "\n",
        "#Add special character -> embedding vector of ones \n",
        "wvecs.append(np.ones(128))\n",
        "\n",
        "for word in joint_vocab:\n",
        "    idx = word2idx[word]\n",
        "    one_hot = get_one_hot([idx])\n",
        "    wvecs.append8\n",
        "\n",
        "# This is a large file, it will take a while to load in the memory!\n",
        "with codecs.open('glove.6B.100d.txt', 'r','utf-8') as f:\n",
        "  index = 1 #zero padding\n",
        "  for line in f.readlines():\n",
        "    # Ignore the first line - first line typically contains vocab, dimensionality\n",
        "    if len(line.strip().split()) > 3:\n",
        "      word = line.strip().split()[0]\n",
        "      if word in joint_vocab:\n",
        "          (word, vec) = (word,\n",
        "                     list(map(float,line.strip().split()[1:])))\n",
        "          wvecs.append(vec)\n",
        "          word2idx.append((word, index))\n",
        "          idx2word.append((index, word))\n",
        "          index += 1\n",
        "\n",
        "wvecs = np.array(wvecs)\n",
        "word2idx = dict(word2idx)\n",
        "idx2word = dict(idx2word)\n"
      ],
      "execution_count": null,
      "outputs": []
    },
    {
      "cell_type": "code",
      "metadata": {
        "id": "yAgIgjE-USmS"
      },
      "source": [
        "\n",
        "\n",
        "vectorized_seqs_1 = [[word2idx[tok] if tok in word2idx else word2idx[OOV_token] for tok in seq] for seq in training_tokenized_corpus_1]\n",
        "vectorized_seqs_2 = [[word2idx[tok] if tok in word2idx else word2idx[OOV_token] for tok in seq] for seq in training_tokenized_corpus_2]\n",
        "\n",
        "\n",
        "# To avoid any sentences being empty (if no words match to our word embeddings)\n",
        "vectorized_seqs_1 = [x if len(x) > 0 else [0] for x in vectorized_seqs_1]\n",
        "vectorized_seqs_2 = [x if len(x) > 0 else [0] for x in vectorized_seqs_2]\n"
      ],
      "execution_count": null,
      "outputs": []
    },
    {
      "cell_type": "code",
      "metadata": {
        "colab": {
          "base_uri": "https://localhost:8080/"
        },
        "id": "mJZJC2KJUpST",
        "outputId": "018265f0-26a8-4ff7-809d-374fe3697f59"
      },
      "source": [
        "INPUT_DIM = len(word2idx)\n",
        "EMBEDDING_DIM = 128\n",
        "\n",
        "BATCH_SIZE = 256\n",
        "\n",
        "model = BiLSTM_double(EMBEDDING_DIM, 50, INPUT_DIM, BATCH_SIZE, device)\n",
        "\n",
        "params = sum(p.numel() for p in model.parameters() if p.requires_grad)\n",
        "print(params)\n",
        "#print(\"Total number of parameters is: {​​}​​\".format(params))\n",
        "\n",
        "print(model)\n",
        "\n",
        "print(\"Model initialised.\")\n",
        "\n",
        "model.to(device)\n",
        "# We provide the model with our embeddings\n",
        "#x = np.concatenate((wvecs,wvecs),axis=1)\n",
        "model.embedding.weight.data.copy_(weights_matrix)"
      ],
      "execution_count": null,
      "outputs": [
        {
          "output_type": "stream",
          "text": [
            "5328838\n",
            "BiLSTM_double(\n",
            "  (embedding): Embedding(32671, 128, padding_idx=0)\n",
            "  (lstm_1): LSTM(128, 50, bidirectional=True)\n",
            "  (lstm_2): LSTM(128, 50, bidirectional=True)\n",
            "  (fc): Linear(in_features=10000, out_features=100, bias=True)\n",
            "  (fc2): Linear(in_features=100, out_features=25, bias=True)\n",
            "  (fc3): Linear(in_features=25, out_features=12, bias=True)\n",
            "  (hidden2label): Linear(in_features=12, out_features=1, bias=True)\n",
            "  (d1): Dropout(p=0.3, inplace=False)\n",
            "  (d2): Dropout(p=0.3, inplace=False)\n",
            "  (d3): Dropout(p=0.3, inplace=False)\n",
            "  (d4): Dropout(p=0.3, inplace=False)\n",
            "  (d5): Dropout(p=0.3, inplace=False)\n",
            ")\n",
            "Model initialised.\n"
          ],
          "name": "stdout"
        },
        {
          "output_type": "execute_result",
          "data": {
            "text/plain": [
              "tensor([[-3.5025e-03,  5.0959e-03, -1.7128e-03,  ..., -5.0848e-03,\n",
              "         -1.3014e-03,  1.0037e-03],\n",
              "        [-1.2361e-03, -4.8986e-03, -1.5406e-03,  ..., -5.0771e-04,\n",
              "          3.4952e-03, -8.5857e-04],\n",
              "        [-4.2260e-03, -1.1826e-03, -4.4814e-03,  ...,  1.5159e-03,\n",
              "         -8.7519e-04,  4.7714e-04],\n",
              "        ...,\n",
              "        [ 4.7085e-03,  1.1605e-03, -2.8970e-03,  ...,  1.9704e-03,\n",
              "         -2.1335e-03,  2.7612e-04],\n",
              "        [-3.4020e-03,  1.3204e-03,  1.2648e-03,  ...,  3.6271e-03,\n",
              "          2.5244e-03, -3.2985e-03],\n",
              "        [ 6.5636e-04, -1.0898e-04, -7.8740e-05,  ...,  2.5325e-03,\n",
              "         -6.4980e-04,  4.3031e-03]], device='cuda:0', grad_fn=<CopyBackwards>)"
            ]
          },
          "metadata": {
            "tags": []
          },
          "execution_count": 64
        }
      ]
    },
    {
      "cell_type": "code",
      "metadata": {
        "colab": {
          "base_uri": "https://localhost:8080/",
          "height": 473
        },
        "id": "6nmnvF_AV4YV",
        "outputId": "a92a7662-d648-4066-b74c-d6e655941eb9"
      },
      "source": [
        "\n",
        "feature_1 = vectorized_seqs_1\n",
        "feature_2 = vectorized_seqs_2\n",
        "\n",
        "\n",
        "# 'feature' is a list of lists, each containing embedding IDs for word tokens\n",
        "#train_and_dev = Task1Dataset(feature, train_df['meanGrade'])\n",
        "train_and_dev = Task1Dataset_double(feature_1,feature_2, train_df['meanGrade'])\n",
        "\n",
        "train_examples = round(len(train_and_dev)*train_proportion)\n",
        "dev_examples = len(train_and_dev) - train_examples\n",
        "train_dataset, dev_dataset = random_split(train_and_dev,\n",
        "                                           (train_examples,\n",
        "                                            dev_examples))\n",
        "####Shuffle might need to be true. Check later\n",
        "train_loader = torch.utils.data.DataLoader(train_dataset, shuffle=True, batch_size=BATCH_SIZE, collate_fn=collate_fn_padd)\n",
        "\n",
        "dev_loader = torch.utils.data.DataLoader(dev_dataset, batch_size=BATCH_SIZE, collate_fn=collate_fn_padd)\n",
        "\n",
        "print(\"Dataloaders created.\")\n",
        "\n",
        "loss_fn = nn.MSELoss()\n",
        "loss_fn = loss_fn.to(device)\n",
        "#optimizer = torch.optim.Adam(model.parameters())\n",
        "optimizer = torch.optim.SGD(model.parameters(), lr=0.001, momentum=0.9)\n",
        "\n",
        "train_losses, valid_losses = train(train_loader, dev_loader, model, epochs)\n",
        "plot(train_losses, valid_losses, len(train_losses))\n"
      ],
      "execution_count": null,
      "outputs": [
        {
          "output_type": "stream",
          "text": [
            "Dataloaders created.\n",
            "Training model.\n",
            "| Epoch: 01 | Train Loss: 0.90 | Train MSE: 0.90 | Train RMSE: 0.95 |         Val. Loss: 0.57 | Val. MSE: 0.57 |  Val. RMSE: 0.76 |\n",
            "| Epoch: 02 | Train Loss: 0.48 | Train MSE: 0.48 | Train RMSE: 0.70 |         Val. Loss: 0.35 | Val. MSE: 0.35 |  Val. RMSE: 0.59 |\n",
            "| Epoch: 03 | Train Loss: 0.35 | Train MSE: 0.35 | Train RMSE: 0.59 |         Val. Loss: 0.30 | Val. MSE: 0.30 |  Val. RMSE: 0.54 |\n",
            "| Epoch: 04 | Train Loss: 0.32 | Train MSE: 0.32 | Train RMSE: 0.57 |         Val. Loss: 0.29 | Val. MSE: 0.29 |  Val. RMSE: 0.54 |\n",
            "| Epoch: 05 | Train Loss: 0.31 | Train MSE: 0.31 | Train RMSE: 0.56 |         Val. Loss: 0.29 | Val. MSE: 0.29 |  Val. RMSE: 0.54 |\n",
            "| Epoch: 06 | Train Loss: 0.31 | Train MSE: 0.31 | Train RMSE: 0.56 |         Val. Loss: 0.29 | Val. MSE: 0.29 |  Val. RMSE: 0.54 |\n",
            "| Epoch: 07 | Train Loss: 0.31 | Train MSE: 0.31 | Train RMSE: 0.56 |         Val. Loss: 0.29 | Val. MSE: 0.29 |  Val. RMSE: 0.54 |\n",
            "| Epoch: 08 | Train Loss: 0.31 | Train MSE: 0.31 | Train RMSE: 0.56 |         Val. Loss: 0.29 | Val. MSE: 0.29 |  Val. RMSE: 0.54 |\n",
            "| Epoch: 09 | Train Loss: 0.31 | Train MSE: 0.31 | Train RMSE: 0.56 |         Val. Loss: 0.29 | Val. MSE: 0.29 |  Val. RMSE: 0.54 |\n",
            "| Epoch: 10 | Train Loss: 0.31 | Train MSE: 0.31 | Train RMSE: 0.56 |         Val. Loss: 0.29 | Val. MSE: 0.29 |  Val. RMSE: 0.54 |\n"
          ],
          "name": "stdout"
        },
        {
          "output_type": "display_data",
          "data": {
            "image/png": "[encoded data removed]",
            "text/plain": [
              "<Figure size 432x288 with 1 Axes>"
            ]
          },
          "metadata": {
            "tags": [],
            "needs_background": "light"
          }
        }
      ]
    },
    {
      "cell_type": "code",
      "metadata": {
        "colab": {
          "base_uri": "https://localhost:8080/"
        },
        "id": "vRFOiKOYXPq7",
        "outputId": "b5f4b899-caeb-4673-ed55-ba7aa721d9b8"
      },
      "source": [
        "len(dev_loader)"
      ],
      "execution_count": null,
      "outputs": [
        {
          "output_type": "execute_result",
          "data": {
            "text/plain": [
              "7"
            ]
          },
          "metadata": {
            "tags": []
          },
          "execution_count": 69
        }
      ]
    },
    {
      "cell_type": "code",
      "metadata": {
        "id": "lUVBvYF7Wj95"
      },
      "source": [
        "model.eval()\n",
        "predictions_plot = []  \n",
        "target_plot = []\n",
        "\n",
        "with torch.no_grad():\n",
        "    for batch in dev_loader:\n",
        "        feature, target = batch\n",
        "        feature_1= feature[0].to(device)\n",
        "        feature_2 = feature[1].to(device)\n",
        "        target = target.to(device)\n",
        "\n",
        "        feature = (feature_1, feature_2)\n",
        "\n",
        "        # for RNN:\n",
        "        model.batch_size = target.shape[0]\n",
        "        model.hidden_1 = model.init_hidden()\n",
        "        model.hidden_2 = model.init_hidden()\n",
        "\n",
        "        predictions = model(feature).squeeze(1)\n",
        "\n",
        "        predictions_plot.append(predictions.detach().cpu().numpy())\n",
        "        target_plot.append(target.detach().cpu().numpy())\n"
      ],
      "execution_count": null,
      "outputs": []
    },
    {
      "cell_type": "code",
      "metadata": {
        "id": "88jHuAKkY_44"
      },
      "source": [
        "#plt.scatter(np.flatten(predictions_plot), np.flatten(target_plot))\n",
        "pred = np.concatenate(predictions_plot, axis=0)\n",
        "trg = np.concatenate(target_plot, axis=0)"
      ],
      "execution_count": null,
      "outputs": []
    },
    {
      "cell_type": "code",
      "metadata": {
        "colab": {
          "base_uri": "https://localhost:8080/",
          "height": 334
        },
        "id": "XYzGJLLAalqM",
        "outputId": "e7f8deec-9166-414c-b75d-cb9c11f082c1"
      },
      "source": [
        "plt.scatter(pred,trg)\n",
        "plt.axis('equal')"
      ],
      "execution_count": null,
      "outputs": [
        {
          "output_type": "execute_result",
          "data": {
            "text/plain": [
              "(0.9934241950511933,\n",
              " 0.9934696972370147,\n",
              " 0.07000000551342964,\n",
              " 2.929999949783087)"
            ]
          },
          "metadata": {
            "tags": []
          },
          "execution_count": 95
        },
        {
          "output_type": "display_data",
          "data": {
            "image/png": "[encoded data removed]",
            "text/plain": [
              "<Figure size 432x288 with 1 Axes>"
            ]
          },
          "metadata": {
            "tags": [],
            "needs_background": "light"
          }
        }
      ]
    },
    {
      "cell_type": "markdown",
      "metadata": {
        "id": "uYSdwJ1XLVia"
      },
      "source": [
        "## Baseline given\n"
      ]
    },
    {
      "cell_type": "code",
      "metadata": {
        "id": "qK9C7EeEaRLc",
        "colab": {
          "base_uri": "https://localhost:8080/"
        },
        "outputId": "596ed31b-d4c4-47db-bd40-739276dbbd7e"
      },
      "source": [
        "train_and_dev = train_df['edit']\n",
        "train_proportion = 0.8\n",
        "training_data, dev_data, training_y, dev_y = train_test_split(train_df['edit'], train_df['meanGrade'],\n",
        "                                                                        test_size=(1-train_proportion),\n",
        "                                                                        random_state=42)\n",
        "\n",
        "# We train a Tf-idf model\n",
        "count_vect = CountVectorizer(stop_words='english')\n",
        "train_counts = count_vect.fit_transform(training_data)\n",
        "transformer = TfidfTransformer().fit(train_counts)\n",
        "transformer\n",
        "train_counts = transformer.transform(train_counts)\n",
        "regression_model = LinearRegression().fit(train_counts, training_y)\n",
        "print(train_counts)"
      ],
      "execution_count": null,
      "outputs": [
        {
          "output_type": "stream",
          "text": [
            "  (0, 6912)\t0.3196422657133493\n",
            "  (0, 6889)\t0.4635074138381324\n",
            "  (0, 6423)\t0.11278822224285272\n",
            "  (0, 5804)\t0.44285750586411565\n",
            "  (0, 5374)\t0.23652438242454743\n",
            "  (0, 5312)\t0.3400955840429778\n",
            "  (0, 4309)\t0.34740743437045796\n",
            "  (0, 4089)\t0.2845496729305107\n",
            "  (0, 3299)\t0.31761063288602626\n",
            "  (1, 6541)\t0.48194793383580115\n",
            "  (1, 5549)\t0.3204233579379913\n",
            "  (1, 5014)\t0.42370065991381706\n",
            "  (1, 2759)\t0.4595615370435467\n",
            "  (1, 2464)\t0.5237709472831734\n",
            "  (2, 6892)\t0.35794538379097757\n",
            "  (2, 6156)\t0.36483747544305006\n",
            "  (2, 5741)\t0.3829658592421385\n",
            "  (2, 5499)\t0.3419984129026347\n",
            "  (2, 4801)\t0.3829658592421385\n",
            "  (2, 4305)\t0.291413316187634\n",
            "  (2, 3322)\t0.313301064206565\n",
            "  (2, 2076)\t0.3110077361041403\n",
            "  (2, 1141)\t0.2206241510260133\n",
            "  (3, 6534)\t0.39337308644812724\n",
            "  (3, 6423)\t0.09734562388426601\n",
            "  :\t:\n",
            "  (7717, 6019)\t0.520234681094425\n",
            "  (7717, 5375)\t0.28639284053699743\n",
            "  (7717, 3451)\t0.4360369675276321\n",
            "  (7717, 3299)\t0.3331918391659665\n",
            "  (7717, 2782)\t0.46458301954981385\n",
            "  (7717, 2533)\t0.3610437600682453\n",
            "  (7718, 4700)\t0.400658806873244\n",
            "  (7718, 4635)\t0.5126970556930236\n",
            "  (7718, 3590)\t0.3448996293605981\n",
            "  (7718, 3569)\t0.35473412275396105\n",
            "  (7718, 3532)\t0.3569109378132053\n",
            "  (7718, 1359)\t0.4521468565066124\n",
            "  (7719, 4980)\t0.4205214064768076\n",
            "  (7719, 3410)\t0.3027977180838381\n",
            "  (7719, 3409)\t0.3930472980843201\n",
            "  (7719, 3372)\t0.3930472980843201\n",
            "  (7719, 212)\t0.40061526270871783\n",
            "  (7719, 56)\t0.4205214064768076\n",
            "  (7719, 0)\t0.2918425766313267\n",
            "  (7720, 6843)\t0.513093481562848\n",
            "  (7720, 6031)\t0.4297411912433994\n",
            "  (7720, 4854)\t0.3381402403225188\n",
            "  (7720, 3981)\t0.32744999099295835\n",
            "  (7720, 3347)\t0.4239023691800264\n",
            "  (7720, 3322)\t0.38833239679856807\n"
          ],
          "name": "stdout"
        }
      ]
    },
    {
      "cell_type": "code",
      "metadata": {
        "colab": {
          "base_uri": "https://localhost:8080/"
        },
        "id": "MyJFzk7aEwcd",
        "outputId": "574ac346-d713-48ef-e732-171ce4c3ecbe"
      },
      "source": [
        "mean = train_df['meanGrade'].mean()\n",
        "sum = 0\n",
        "for i in range(len(train_df['meanGrade'])):\n",
        "    sum += (mean - train_df['meanGrade'].loc[i])**2\n",
        "np.sqrt(sum / len(train_df['meanGrade']))"
      ],
      "execution_count": null,
      "outputs": [
        {
          "output_type": "execute_result",
          "data": {
            "text/plain": [
              "0.5836128526966657"
            ]
          },
          "metadata": {
            "tags": []
          },
          "execution_count": 70
        }
      ]
    },
    {
      "cell_type": "code",
      "metadata": {
        "id": "AInKATQT6pXE",
        "colab": {
          "base_uri": "https://localhost:8080/"
        },
        "outputId": "77b2b52a-2533-466d-dd35-2cea9b93e977"
      },
      "source": [
        "\n",
        "# Train predictions\n",
        "predicted_train = regression_model.predict(train_counts)\n",
        "\n",
        "# Calculate Tf-idf using train and dev, and validate model on dev:\n",
        "test_and_test_counts = count_vect.transform(train_and_dev)\n",
        "transformer = TfidfTransformer().fit(test_and_test_counts)\n",
        "\n",
        "test_counts = count_vect.transform(dev_data)\n",
        "\n",
        "test_counts = transformer.transform(test_counts)\n",
        "\n",
        "# Dev predictions\n",
        "predicted = regression_model.predict(test_counts)\n",
        "\n",
        "# We run the evaluation:\n",
        "print(\"\\nTrain performance:\")\n",
        "sse, mse, _ = model_performance(predicted_train, training_y, True)\n",
        "\n",
        "print(\"\\nDev performance:\")\n",
        "sse, mse, _ = model_performance(predicted, dev_y, True)"
      ],
      "execution_count": null,
      "outputs": [
        {
          "output_type": "stream",
          "text": [
            "\n",
            "Train performance:\n",
            "| MSE: 0.16 | RMSE: 0.40 |\n",
            "\n",
            "Dev performance:\n",
            "| MSE: 0.48 | RMSE: 0.69 |\n"
          ],
          "name": "stdout"
        }
      ]
    },
    {
      "cell_type": "code",
      "metadata": {
        "id": "6lRZxL-gD40S"
      },
      "source": [
        "'''\n",
        "class BiLSTM(nn.Module):\n",
        "\n",
        "    def __init__(self, embedding_dim, hidden_dim, vocab_size, batch_size, device):\n",
        "        super(BiLSTM, self).__init__()\n",
        "        self.hidden_dim = hidden_dim\n",
        "        self.embedding_dim = embedding_dim\n",
        "        self.device = device\n",
        "        self.batch_size = batch_size\n",
        "        self.embedding = nn.Embedding(vocab_size, embedding_dim, padding_idx=0)\n",
        "\n",
        "        # The LSTM takes word embeddings as inputs, and outputs hidden states\n",
        "        # with dimensionality hidden_dim.\n",
        "        self.lstm = nn.LSTM(embedding_dim, hidden_dim, bidirectional=True)\n",
        "\n",
        "        # The linear layer that maps from hidden state space to tag space\n",
        "        self.hidden2label = nn.Linear(hidden_dim * 2, 1)\n",
        "        self.hidden = self.init_hidden()\n",
        "\n",
        "    def init_hidden(self):\n",
        "        # Before we've done anything, we dont have any hidden state.\n",
        "        # Refer to the Pytorch documentation to see exactly why they have this dimensionality.\n",
        "        # The axes semantics are (num_layers * num_directions, minibatch_size, hidden_dim)\n",
        "        return torch.zeros(2, self.batch_size, self.hidden_dim).to(self.device), \\\n",
        "               torch.zeros(2, self.batch_size, self.hidden_dim).to(self.device)\n",
        "\n",
        "    def forward(self, sentence):\n",
        "        embedded = self.embedding(sentence)\n",
        "        embedded = embedded.permute(1, 0, 2) #Needed for LSTMs\n",
        "\n",
        "        #lstm_out : (seq_len,batch_size,num_directions (2) * hidden_size (50))\n",
        "        #hidden : (num_layers * num_directions, batch_size,hidden_size)\n",
        "        lstm_out, self.hidden = self.lstm(\n",
        "            embedded.view(len(embedded), self.batch_size, self.embedding_dim), self.hidden)\n",
        "\n",
        "        #out : (1)\n",
        "        out = self.hidden2label(lstm_out[-1]\n",
        "        return out"
      ],
      "execution_count": null,
      "outputs": []
    },
    {
      "cell_type": "markdown",
      "metadata": {
        "id": "cSZbSxUbaRLc"
      },
      "source": [
        "#### Baseline for task 2"
      ]
    },
    {
      "cell_type": "code",
      "metadata": {
        "id": "QwwE7oj0aRLd"
      },
      "source": [
        "# Baseline for the task\n",
        "pred_baseline = torch.zeros(len(dev_y)) + np.mean(training_y)\n",
        "print(\"\\nBaseline performance:\")\n",
        "sse, mse = model_performance(pred_baseline, dev_y, True)"
      ],
      "execution_count": null,
      "outputs": []
    },
    {
      "cell_type": "code",
      "metadata": {
        "id": "-Vs5_tGhaRLd"
      },
      "source": [
        ""
      ],
      "execution_count": null,
      "outputs": []
    }
  ]
}